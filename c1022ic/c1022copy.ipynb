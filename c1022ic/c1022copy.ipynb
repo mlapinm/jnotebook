{
 "cells": [
  {
   "cell_type": "code",
   "execution_count": 70,
   "metadata": {},
   "outputs": [
    {
     "output_type": "stream",
     "name": "stdout",
     "text": [
      "hi\n"
     ]
    }
   ],
   "source": [
    "print('hi')"
   ]
  },
  {
   "source": [
    "## rename images"
   ],
   "cell_type": "markdown",
   "metadata": {}
  },
  {
   "source": [
    "## 1"
   ],
   "cell_type": "markdown",
   "metadata": {}
  },
  {
   "cell_type": "code",
   "execution_count": 5,
   "metadata": {},
   "outputs": [
    {
     "output_type": "stream",
     "name": "stdout",
     "text": [
      "84\n[['11', [['img-2021-03-05-17-17-00.png', '01'], ['img-2021-03-05-17-18-34.png', '02']]]]\n"
     ]
    }
   ],
   "source": [
    "import os\n",
    "import re\n",
    "import shutil\n",
    "\n",
    "\n",
    "currentDir = './2/'\n",
    "outDir ='./img/'\n",
    "dirs = os.listdir(currentDir)\n",
    "\n",
    "ll0 = []\n",
    "for dir0 in dirs:\n",
    "    files = os.listdir(f'{currentDir}{dir0}')\n",
    "    k = 1\n",
    "    e0 = [dir0]\n",
    "    e1 = []\n",
    "    for file in files:\n",
    "        e = []\n",
    "        # print(f'{dir0}/{file}')\n",
    "        e.append(file)\n",
    "        e.append(f'{k:02}')\n",
    "        e1.append(e)\n",
    "        k += 1\n",
    "        pass\n",
    "    e0.append(e1)\n",
    "    ll0.append(e0)\n",
    "\n",
    "names = []\n",
    "for e0 in ll0:\n",
    "    for e in e0[1]:\n",
    "        nameFromTo = []\n",
    "        first = f'{currentDir}{e0[0]}/{e[0]}' \n",
    "        nameFromTo.append(first)\n",
    "\n",
    "        match = re.search(r'\\..*$', e[0])\n",
    "        extention = match[0] if match else ''\n",
    "        second = f'{outDir}{e0[0]}{e[1]}{extention}'\n",
    "        nameFromTo.append(second)\n",
    "\n",
    "        if len(nameFromTo) == 2:\n",
    "            names.append(nameFromTo)\n",
    "\n",
    "for e in names:\n",
    "    shutil.copy(e[0], e[1])\n",
    "\n",
    "    pass\n",
    "# print(names[10])\n",
    "\n",
    "text = []\n",
    "for e0 in ll0:\n",
    "    header = e0[0]\n",
    "    line1 = f'### {header}'\n",
    "    text.append(line1)\n",
    "    for e in e0[1]:\n",
    "        match = re.search(r'\\..*$', e[0])\n",
    "        extention = match[0] if match else ''\n",
    "        second = f'{outDir}{e0[0]}{e[1]}{extention}'\n",
    "        line2 = f'![{e0[0]}{e[1]}]({second})'\n",
    "        text.append(line2)\n",
    "        pass\n",
    "    text.append('   ')\n",
    "\n",
    "\n",
    "print(len(ll0))\n",
    "for e in text:\n",
    "    # print(e)\n",
    "    pass\n",
    "print(ll0[:1])\n"
   ]
  },
  {
   "source": [
    "## 2"
   ],
   "cell_type": "markdown",
   "metadata": {}
  },
  {
   "cell_type": "code",
   "execution_count": 38,
   "metadata": {},
   "outputs": [
    {
     "output_type": "stream",
     "name": "stdout",
     "text": [
      "295\n[['m0101', 'img-2021-03-04-10-01-07.png', '01'], ['m0101', 'img-2021-03-04-10-01-39.png', '02'], ['m0101', 'img-2021-03-04-10-02-20.png', '03'], ['m0101', 'img-2021-03-04-10-02-52.png', '04'], ['m0101', 'img-2021-03-04-10-03-27.png', '05'], ['m0102', 'img-2021-03-04-10-07-05.png', '01'], ['m0102', 'img-2021-03-04-10-08-19.png', '02'], ['m0102', 'img-2021-03-04-10-09-03.png', '03'], ['m0102', 'img-2021-03-04-10-10-06.png', '04'], ['m0103', 'img-2021-03-04-10-14-14.png', '01'], ['m0103', 'img-2021-03-04-10-15-07.png', '02'], ['m0103', 'img-2021-03-04-10-15-38.png', '03'], ['m0104', 'img-2021-03-04-10-19-15.png', '01'], ['m0104', 'img-2021-03-04-10-20-06.png', '02'], ['m0104', 'img-2021-03-04-10-20-41.png', '03'], ['m0104', 'img-2021-03-04-10-21-17.png', '04'], ['m0104', 'img-2021-03-04-10-21-53.png', '05'], ['m0104', 'img-2021-03-04-10-22-30.png', '06'], ['m0104', 'img-2021-03-04-10-22-50.png', '07'], ['m0104', 'img-2021-03-04-10-23-21.png', '08'], ['m0105', 'img-2021-03-04-10-27-27.png', '01'], ['m0105', 'img-2021-03-04-10-28-18.png', '02'], ['m0105', 'img-2021-03-04-10-28-47.png', '03'], ['m0105', 'img-2021-03-04-10-29-16.png', '04'], ['m0105', 'img-2021-03-04-10-29-47.png', '05']]\n"
     ]
    }
   ],
   "source": [
    "import os\n",
    "import re\n",
    "import shutil\n",
    "\n",
    "\n",
    "currentDir = './1/'\n",
    "outDir ='./img/'\n",
    "dirs = os.listdir(currentDir)\n",
    "\n",
    "ll0 = []\n",
    "for dir0 in dirs:\n",
    "    files = os.listdir(f'{currentDir}{dir0}')\n",
    "    k = 1\n",
    "    for file in files:\n",
    "        e = [dir0]\n",
    "        # print(f'{dir0}/{file}')\n",
    "        e.append(file)\n",
    "        e.append(f'{k:02}')\n",
    "        ll0.append(e)\n",
    "        k += 1\n",
    "        pass\n",
    "\n",
    "names = []\n",
    "for e in ll0:\n",
    "    file0 = f'{currentDir}{e[0]}/{e[1]}'\n",
    "    match = re.search(r'\\..*$', e[1])\n",
    "    extention = match[0] if match else ''\n",
    "    name = f'{outDir}{e[0]}{e[2]}{extention}'\n",
    "    file1 = f'{outDir}{e[0]}{e[2]}{extention}'\n",
    "    names.append(file1)\n",
    "    shutil.copy(file0, file1)\n",
    "    # print(file0)\n",
    "    # print(file1)\n",
    "    pass\n",
    "\n",
    "print(len(ll0))\n",
    "print(ll0[:25])"
   ]
  },
  {
   "source": [
    "## add next dir\n",
    "c01mkNexDir.py"
   ],
   "cell_type": "markdown",
   "metadata": {}
  },
  {
   "cell_type": "code",
   "execution_count": 26,
   "metadata": {},
   "outputs": [
    {
     "output_type": "stream",
     "name": "stdout",
     "text": [
      "m0104\n"
     ]
    }
   ],
   "source": [
    "import os\n",
    "import re\n",
    "\n",
    "files = os.listdir()\n",
    "\n",
    "def checked(x):\n",
    "    match = re.search(r'^m\\d\\d\\d\\d$', x)\n",
    "    return True if match else False\n",
    "\n",
    "files = list(filter(checked, files))\n",
    "name = files[-1]\n",
    "match = re.search('\\d\\d$', name)\n",
    "num = match[0] if match else '00'\n",
    "num = int(num) + 1\n",
    "name = f'{name[:-2]}{num:02}'\n",
    "\n",
    "if len(name) == 5:\n",
    "    os.mkdir(name)\n",
    "\n",
    "print(name)\n",
    "\n"
   ]
  },
  {
   "cell_type": "code",
   "execution_count": 23,
   "metadata": {},
   "outputs": [
    {
     "output_type": "stream",
     "name": "stdout",
     "text": [
      "['m0101', 'm0102']\n"
     ]
    }
   ],
   "source": [
    "files = os.listdir()\n",
    "\n",
    "def checked(x):\n",
    "    match = re.search(r'^m\\d\\d\\d\\d$', x)\n",
    "    return True if match else False\n",
    "\n",
    "files2 = list(filter(checked, files))\n",
    "\n",
    "print(files2)"
   ]
  },
  {
   "source": [
    "http://aka.ms/BootstrapMVAGit  \n",
    "http://aka.ms/MVA-Voucher  \n",
    "BldRspUIBoot  \n",
    "https://docs.microsoft.com/ru-ru/learn/browse/?terms=c%23&skip=30  \n"
   ],
   "cell_type": "markdown",
   "metadata": {}
  }
 ],
 "metadata": {
  "kernelspec": {
   "name": "python3",
   "display_name": "Python 3",
   "language": "python"
  }
 },
 "nbformat": 4,
 "nbformat_minor": 4
}