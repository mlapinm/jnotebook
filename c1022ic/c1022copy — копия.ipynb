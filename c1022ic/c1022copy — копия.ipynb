{
 "cells": [
  {
   "cell_type": "code",
   "execution_count": 70,
   "metadata": {},
   "outputs": [
    {
     "output_type": "stream",
     "name": "stdout",
     "text": [
      "hi\n"
     ]
    }
   ],
   "source": [
    "print('hi')"
   ]
  },
  {
   "source": [
    "## rename images"
   ],
   "cell_type": "markdown",
   "metadata": {}
  },
  {
   "cell_type": "code",
   "execution_count": 38,
   "metadata": {},
   "outputs": [
    {
     "output_type": "stream",
     "name": "stdout",
     "text": [
      "295\n[['m0101', 'img-2021-03-04-10-01-07.png', '01'], ['m0101', 'img-2021-03-04-10-01-39.png', '02'], ['m0101', 'img-2021-03-04-10-02-20.png', '03'], ['m0101', 'img-2021-03-04-10-02-52.png', '04'], ['m0101', 'img-2021-03-04-10-03-27.png', '05'], ['m0102', 'img-2021-03-04-10-07-05.png', '01'], ['m0102', 'img-2021-03-04-10-08-19.png', '02'], ['m0102', 'img-2021-03-04-10-09-03.png', '03'], ['m0102', 'img-2021-03-04-10-10-06.png', '04'], ['m0103', 'img-2021-03-04-10-14-14.png', '01'], ['m0103', 'img-2021-03-04-10-15-07.png', '02'], ['m0103', 'img-2021-03-04-10-15-38.png', '03'], ['m0104', 'img-2021-03-04-10-19-15.png', '01'], ['m0104', 'img-2021-03-04-10-20-06.png', '02'], ['m0104', 'img-2021-03-04-10-20-41.png', '03'], ['m0104', 'img-2021-03-04-10-21-17.png', '04'], ['m0104', 'img-2021-03-04-10-21-53.png', '05'], ['m0104', 'img-2021-03-04-10-22-30.png', '06'], ['m0104', 'img-2021-03-04-10-22-50.png', '07'], ['m0104', 'img-2021-03-04-10-23-21.png', '08'], ['m0105', 'img-2021-03-04-10-27-27.png', '01'], ['m0105', 'img-2021-03-04-10-28-18.png', '02'], ['m0105', 'img-2021-03-04-10-28-47.png', '03'], ['m0105', 'img-2021-03-04-10-29-16.png', '04'], ['m0105', 'img-2021-03-04-10-29-47.png', '05']]\n"
     ]
    }
   ],
   "source": [
    "import os\n",
    "import re\n",
    "import shutil\n",
    "\n",
    "\n",
    "currentDir = './1/'\n",
    "outDir ='./img/'\n",
    "dirs = os.listdir(currentDir)\n",
    "\n",
    "ll0 = []\n",
    "for dir0 in dirs:\n",
    "    files = os.listdir(f'{currentDir}{dir0}')\n",
    "    k = 1\n",
    "    for file in files:\n",
    "        e = [dir0]\n",
    "        # print(f'{dir0}/{file}')\n",
    "        e.append(file)\n",
    "        e.append(f'{k:02}')\n",
    "        ll0.append(e)\n",
    "        k += 1\n",
    "        pass\n",
    "\n",
    "names = []\n",
    "for e in ll0:\n",
    "    file0 = f'{currentDir}{e[0]}/{e[1]}'\n",
    "    match = re.search(r'\\..*$', e[1])\n",
    "    extention = match[0] if match else ''\n",
    "    name = f'{outDir}{e[0]}{e[2]}{extention}'\n",
    "    file1 = f'{outDir}{e[0]}{e[2]}{extention}'\n",
    "    names.append(file1)\n",
    "    shutil.copy(file0, file1)\n",
    "    # print(file0)\n",
    "    # print(file1)\n",
    "    pass\n",
    "\n",
    "print(len(ll0))\n",
    "print(ll0[:25])"
   ]
  },
  {
   "source": [
    "## add next dir\n",
    "c01mkNexDir.py"
   ],
   "cell_type": "markdown",
   "metadata": {}
  },
  {
   "cell_type": "code",
   "execution_count": 26,
   "metadata": {},
   "outputs": [
    {
     "output_type": "stream",
     "name": "stdout",
     "text": [
      "m0104\n"
     ]
    }
   ],
   "source": [
    "import os\n",
    "import re\n",
    "\n",
    "files = os.listdir()\n",
    "\n",
    "def checked(x):\n",
    "    match = re.search(r'^m\\d\\d\\d\\d$', x)\n",
    "    return True if match else False\n",
    "\n",
    "files = list(filter(checked, files))\n",
    "name = files[-1]\n",
    "match = re.search('\\d\\d$', name)\n",
    "num = match[0] if match else '00'\n",
    "num = int(num) + 1\n",
    "name = f'{name[:-2]}{num:02}'\n",
    "\n",
    "if len(name) == 5:\n",
    "    os.mkdir(name)\n",
    "\n",
    "print(name)\n",
    "\n"
   ]
  },
  {
   "cell_type": "code",
   "execution_count": 23,
   "metadata": {},
   "outputs": [
    {
     "output_type": "stream",
     "name": "stdout",
     "text": [
      "['m0101', 'm0102']\n"
     ]
    }
   ],
   "source": [
    "files = os.listdir()\n",
    "\n",
    "def checked(x):\n",
    "    match = re.search(r'^m\\d\\d\\d\\d$', x)\n",
    "    return True if match else False\n",
    "\n",
    "files2 = list(filter(checked, files))\n",
    "\n",
    "print(files2)"
   ]
  }
 ],
 "metadata": {
  "kernelspec": {
   "name": "python3",
   "display_name": "Python 3",
   "language": "python"
  }
 },
 "nbformat": 4,
 "nbformat_minor": 4
}