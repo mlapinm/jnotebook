{
 "cells": [
  {
   "cell_type": "code",
   "execution_count": 70,
   "metadata": {},
   "outputs": [
    {
     "output_type": "stream",
     "name": "stdout",
     "text": [
      "hi\n"
     ]
    }
   ],
   "source": [
    "print('hi')"
   ]
  },
  {
   "source": [
    "## rename images"
   ],
   "cell_type": "markdown",
   "metadata": {}
  },
  {
   "source": [
    "## 1"
   ],
   "cell_type": "markdown",
   "metadata": {}
  },
  {
   "cell_type": "code",
   "execution_count": 41,
   "metadata": {},
   "outputs": [
    {
     "output_type": "stream",
     "name": "stdout",
     "text": [
      "48\n### m0101\n![m010101](./img/m010101.png)\n![m010102](./img/m010102.png)\n![m010103](./img/m010103.png)\n![m010104](./img/m010104.png)\n![m010105](./img/m010105.png)\n   \n### m0102\n![m010201](./img/m010201.png)\n![m010202](./img/m010202.png)\n![m010203](./img/m010203.png)\n![m010204](./img/m010204.png)\n   \n### m0103\n![m010301](./img/m010301.png)\n![m010302](./img/m010302.png)\n![m010303](./img/m010303.png)\n   \n### m0104\n![m010401](./img/m010401.png)\n![m010402](./img/m010402.png)\n![m010403](./img/m010403.png)\n![m010404](./img/m010404.png)\n![m010405](./img/m010405.png)\n![m010406](./img/m010406.png)\n![m010407](./img/m010407.png)\n![m010408](./img/m010408.png)\n   \n### m0105\n![m010501](./img/m010501.png)\n![m010502](./img/m010502.png)\n![m010503](./img/m010503.png)\n![m010504](./img/m010504.png)\n![m010505](./img/m010505.png)\n![m010506](./img/m010506.png)\n   \n### m0106\n![m010601](./img/m010601.png)\n![m010602](./img/m010602.png)\n![m010603](./img/m010603.png)\n![m010604](./img/m010604.png)\n![m010605](./img/m010605.png)\n![m010606](./img/m010606.png)\n![m010607](./img/m010607.png)\n![m010608](./img/m010608.png)\n![m010609](./img/m010609.png)\n![m010610](./img/m010610.png)\n   \n### m0107\n![m010701](./img/m010701.png)\n![m010702](./img/m010702.png)\n![m010703](./img/m010703.png)\n![m010704](./img/m010704.png)\n![m010705](./img/m010705.png)\n![m010706](./img/m010706.png)\n![m010707](./img/m010707.png)\n![m010708](./img/m010708.png)\n![m010709](./img/m010709.png)\n   \n### m0108\n![m010801](./img/m010801.png)\n![m010802](./img/m010802.png)\n![m010803](./img/m010803.png)\n![m010804](./img/m010804.png)\n![m010805](./img/m010805.png)\n![m010806](./img/m010806.png)\n   \n### m0109\n![m010901](./img/m010901.png)\n   \n### m0201\n![m020101](./img/m020101.png)\n![m020102](./img/m020102.png)\n![m020103](./img/m020103.png)\n![m020104](./img/m020104.png)\n![m020105](./img/m020105.png)\n![m020106](./img/m020106.png)\n![m020107](./img/m020107.png)\n![m020108](./img/m020108.png)\n   \n### m0202\n![m020201](./img/m020201.png)\n![m020202](./img/m020202.png)\n![m020203](./img/m020203.png)\n![m020204](./img/m020204.png)\n![m020205](./img/m020205.png)\n![m020206](./img/m020206.png)\n![m020207](./img/m020207.png)\n![m020208](./img/m020208.png)\n![m020209](./img/m020209.png)\n![m020210](./img/m020210.png)\n![m020211](./img/m020211.png)\n![m020212](./img/m020212.png)\n![m020213](./img/m020213.png)\n![m020214](./img/m020214.png)\n![m020215](./img/m020215.png)\n![m020216](./img/m020216.png)\n![m020217](./img/m020217.png)\n   \n### m0203\n![m020301](./img/m020301.png)\n![m020302](./img/m020302.png)\n![m020303](./img/m020303.png)\n![m020304](./img/m020304.png)\n   \n### m0204\n![m020401](./img/m020401.png)\n![m020402](./img/m020402.png)\n![m020403](./img/m020403.png)\n![m020404](./img/m020404.png)\n![m020405](./img/m020405.png)\n   \n### m0205\n![m020501](./img/m020501.png)\n![m020502](./img/m020502.png)\n![m020503](./img/m020503.png)\n![m020504](./img/m020504.png)\n![m020505](./img/m020505.png)\n![m020506](./img/m020506.png)\n![m020507](./img/m020507.png)\n![m020508](./img/m020508.png)\n![m020509](./img/m020509.png)\n![m020510](./img/m020510.png)\n![m020511](./img/m020511.png)\n   \n### m0206\n![m020601](./img/m020601.png)\n![m020602](./img/m020602.png)\n![m020603](./img/m020603.png)\n![m020604](./img/m020604.png)\n![m020605](./img/m020605.png)\n![m020606](./img/m020606.png)\n![m020607](./img/m020607.png)\n![m020608](./img/m020608.png)\n![m020609](./img/m020609.png)\n![m020610](./img/m020610.png)\n![m020611](./img/m020611.png)\n![m020612](./img/m020612.png)\n![m020613](./img/m020613.png)\n![m020614](./img/m020614.png)\n![m020615](./img/m020615.png)\n![m020616](./img/m020616.png)\n![m020617](./img/m020617.png)\n![m020618](./img/m020618.png)\n   \n### m0207\n![m020701](./img/m020701.png)\n![m020702](./img/m020702.png)\n![m020703](./img/m020703.png)\n![m020704](./img/m020704.png)\n![m020705](./img/m020705.png)\n![m020706](./img/m020706.png)\n   \n### m0208\n![m020801](./img/m020801.png)\n![m020802](./img/m020802.png)\n![m020803](./img/m020803.png)\n![m020804](./img/m020804.png)\n![m020805](./img/m020805.png)\n![m020806](./img/m020806.png)\n![m020807](./img/m020807.png)\n![m020808](./img/m020808.png)\n   \n### m0209\n![m020901](./img/m020901.png)\n![m020902](./img/m020902.png)\n![m020903](./img/m020903.png)\n![m020904](./img/m020904.png)\n![m020905](./img/m020905.png)\n![m020906](./img/m020906.png)\n![m020907](./img/m020907.png)\n![m020908](./img/m020908.png)\n![m020909](./img/m020909.png)\n![m020910](./img/m020910.png)\n![m020911](./img/m020911.png)\n![m020912](./img/m020912.png)\n![m020913](./img/m020913.png)\n![m020914](./img/m020914.png)\n![m020915](./img/m020915.png)\n![m020916](./img/m020916.png)\n![m020917](./img/m020917.png)\n![m020918](./img/m020918.png)\n![m020919](./img/m020919.png)\n![m020920](./img/m020920.png)\n![m020921](./img/m020921.png)\n   \n### m0210\n![m021001](./img/m021001.png)\n![m021002](./img/m021002.png)\n![m021003](./img/m021003.png)\n   \n### m0213\n![m021301](./img/m021301.png)\n   \n### m0301\n![m030101](./img/m030101.png)\n![m030102](./img/m030102.png)\n![m030103](./img/m030103.png)\n![m030104](./img/m030104.png)\n![m030105](./img/m030105.png)\n![m030106](./img/m030106.png)\n![m030107](./img/m030107.png)\n![m030108](./img/m030108.png)\n![m030109](./img/m030109.png)\n![m030110](./img/m030110.png)\n![m030111](./img/m030111.png)\n   \n### m0302\n![m030201](./img/m030201.png)\n![m030202](./img/m030202.png)\n![m030203](./img/m030203.png)\n![m030204](./img/m030204.png)\n![m030205](./img/m030205.png)\n![m030206](./img/m030206.png)\n![m030207](./img/m030207.png)\n![m030208](./img/m030208.png)\n![m030209](./img/m030209.png)\n![m030210](./img/m030210.png)\n![m030211](./img/m030211.png)\n![m030212](./img/m030212.png)\n![m030213](./img/m030213.png)\n![m030214](./img/m030214.png)\n![m030215](./img/m030215.png)\n![m030216](./img/m030216.png)\n   \n### m0303\n![m030301](./img/m030301.png)\n![m030302](./img/m030302.png)\n![m030303](./img/m030303.png)\n![m030304](./img/m030304.png)\n![m030305](./img/m030305.png)\n![m030306](./img/m030306.png)\n![m030307](./img/m030307.png)\n![m030308](./img/m030308.png)\n![m030309](./img/m030309.png)\n![m030310](./img/m030310.png)\n![m030311](./img/m030311.png)\n![m030312](./img/m030312.png)\n![m030313](./img/m030313.png)\n![m030314](./img/m030314.png)\n![m030315](./img/m030315.png)\n![m030316](./img/m030316.png)\n![m030317](./img/m030317.png)\n![m030318](./img/m030318.png)\n   \n### m0304\n![m030401](./img/m030401.png)\n   \n### m0306\n   \n### m0307\n![m030701](./img/m030701.png)\n   \n### m0308\n![m030801](./img/m030801.png)\n   \n### m0309\n![m030901](./img/m030901.png)\n   \n### m0310\n![m031001](./img/m031001.png)\n   \n### m0311\n![m031101](./img/m031101.png)\n   \n### m0401\n![m040101](./img/m040101.png)\n![m040102](./img/m040102.png)\n![m040103](./img/m040103.png)\n![m040104](./img/m040104.png)\n![m040105](./img/m040105.png)\n![m040106](./img/m040106.png)\n![m040107](./img/m040107.png)\n![m040108](./img/m040108.png)\n![m040109](./img/m040109.png)\n![m040110](./img/m040110.png)\n![m040111](./img/m040111.png)\n![m040112](./img/m040112.png)\n![m040113](./img/m040113.png)\n![m040114](./img/m040114.png)\n![m040115](./img/m040115.png)\n![m040116](./img/m040116.png)\n![m040117](./img/m040117.png)\n   \n### m0402\n![m040201](./img/m040201.png)\n![m040202](./img/m040202.png)\n![m040203](./img/m040203.png)\n![m040204](./img/m040204.png)\n![m040205](./img/m040205.png)\n![m040206](./img/m040206.png)\n![m040207](./img/m040207.png)\n   \n### m0403\n![m040301](./img/m040301.png)\n![m040302](./img/m040302.png)\n![m040303](./img/m040303.png)\n![m040304](./img/m040304.png)\n![m040305](./img/m040305.png)\n![m040306](./img/m040306.png)\n![m040307](./img/m040307.png)\n![m040308](./img/m040308.png)\n   \n### m0404\n![m040401](./img/m040401.png)\n![m040402](./img/m040402.png)\n![m040403](./img/m040403.png)\n![m040404](./img/m040404.png)\n![m040405](./img/m040405.png)\n![m040406](./img/m040406.png)\n![m040407](./img/m040407.png)\n   \n### m0405\n![m040501](./img/m040501.png)\n![m040502](./img/m040502.png)\n![m040503](./img/m040503.png)\n![m040504](./img/m040504.png)\n![m040505](./img/m040505.png)\n![m040506](./img/m040506.png)\n![m040507](./img/m040507.png)\n![m040508](./img/m040508.png)\n![m040509](./img/m040509.png)\n   \n### m0406\n![m040601](./img/m040601.png)\n![m040602](./img/m040602.png)\n![m040603](./img/m040603.png)\n![m040604](./img/m040604.png)\n![m040605](./img/m040605.png)\n![m040606](./img/m040606.png)\n![m040607](./img/m040607.png)\n![m040608](./img/m040608.png)\n![m040609](./img/m040609.png)\n![m040610](./img/m040610.png)\n   \n### m0407\n![m040701](./img/m040701.png)\n   \n### m0408\n![m040801](./img/m040801.png)\n   \n### m0409\n![m040901](./img/m040901.png)\n![m040902](./img/m040902.png)\n   \n### m0410\n![m041001](./img/m041001.png)\n   \n### m0411\n![m041101](./img/m041101.png)\n   \n### m0501\n![m050101](./img/m050101.png)\n![m050102](./img/m050102.png)\n![m050103](./img/m050103.png)\n![m050104](./img/m050104.png)\n![m050105](./img/m050105.png)\n![m050106](./img/m050106.png)\n![m050107](./img/m050107.png)\n![m050108](./img/m050108.png)\n![m050109](./img/m050109.png)\n   \n### m0502\n![m050201](./img/m050201.png)\n![m050202](./img/m050202.png)\n![m050203](./img/m050203.png)\n![m050204](./img/m050204.png)\n![m050205](./img/m050205.png)\n   \n### m0503\n![m050301](./img/m050301.png)\n![m050302](./img/m050302.png)\n![m050303](./img/m050303.png)\n![m050304](./img/m050304.png)\n![m050305](./img/m050305.png)\n![m050306](./img/m050306.png)\n![m050307](./img/m050307.png)\n![m050308](./img/m050308.png)\n   \n### m0504\n![m050401](./img/m050401.png)\n   \n### m0505\n![m050501](./img/m050501.png)\n   \n### m0506\n![m050601](./img/m050601.png)\n   \n### m0507\n![m050701](./img/m050701.png)\n   \n"
     ]
    }
   ],
   "source": [
    "import os\n",
    "import re\n",
    "import shutil\n",
    "\n",
    "\n",
    "currentDir = './1/'\n",
    "outDir ='./img/'\n",
    "dirs = os.listdir(currentDir)\n",
    "\n",
    "ll0 = []\n",
    "for dir0 in dirs:\n",
    "    files = os.listdir(f'{currentDir}{dir0}')\n",
    "    k = 1\n",
    "    e0 = [dir0]\n",
    "    e1 = []\n",
    "    for file in files:\n",
    "        e = []\n",
    "        # print(f'{dir0}/{file}')\n",
    "        e.append(file)\n",
    "        e.append(f'{k:02}')\n",
    "        e1.append(e)\n",
    "        k += 1\n",
    "        pass\n",
    "    e0.append(e1)\n",
    "    ll0.append(e0)\n",
    "\n",
    "names = []\n",
    "for e0 in ll0:\n",
    "    for e in e0[1]:\n",
    "        nameFromTo = []\n",
    "        first = f'{currentDir}{e0[0]}/{e[0]}' \n",
    "        nameFromTo.append(first)\n",
    "\n",
    "        match = re.search(r'\\..*$', e[0])\n",
    "        extention = match[0] if match else ''\n",
    "        second = f'{outDir}{e0[0]}{e[1]}{extention}'\n",
    "        nameFromTo.append(second)\n",
    "\n",
    "        if len(nameFromTo) == 2:\n",
    "            names.append(nameFromTo)\n",
    "\n",
    "text = []\n",
    "for e0 in ll0:\n",
    "    header = e0[0]\n",
    "    line1 = f'### {header}'\n",
    "    text.append(line1)\n",
    "    for e in e0[1]:\n",
    "        match = re.search(r'\\..*$', e[0])\n",
    "        extention = match[0] if match else ''\n",
    "        second = f'{outDir}{e0[0]}{e[1]}{extention}'\n",
    "        line2 = f'![{e0[0]}{e[1]}]({second})'\n",
    "        text.append(line2)\n",
    "        pass\n",
    "    text.append('   ')\n",
    "\n",
    "\n",
    "print(len(ll0))\n",
    "for e in text:\n",
    "    print(e)\n",
    "# print(ll0[:1])\n"
   ]
  },
  {
   "source": [
    "## 2"
   ],
   "cell_type": "markdown",
   "metadata": {}
  },
  {
   "cell_type": "code",
   "execution_count": 38,
   "metadata": {},
   "outputs": [
    {
     "output_type": "stream",
     "name": "stdout",
     "text": [
      "295\n[['m0101', 'img-2021-03-04-10-01-07.png', '01'], ['m0101', 'img-2021-03-04-10-01-39.png', '02'], ['m0101', 'img-2021-03-04-10-02-20.png', '03'], ['m0101', 'img-2021-03-04-10-02-52.png', '04'], ['m0101', 'img-2021-03-04-10-03-27.png', '05'], ['m0102', 'img-2021-03-04-10-07-05.png', '01'], ['m0102', 'img-2021-03-04-10-08-19.png', '02'], ['m0102', 'img-2021-03-04-10-09-03.png', '03'], ['m0102', 'img-2021-03-04-10-10-06.png', '04'], ['m0103', 'img-2021-03-04-10-14-14.png', '01'], ['m0103', 'img-2021-03-04-10-15-07.png', '02'], ['m0103', 'img-2021-03-04-10-15-38.png', '03'], ['m0104', 'img-2021-03-04-10-19-15.png', '01'], ['m0104', 'img-2021-03-04-10-20-06.png', '02'], ['m0104', 'img-2021-03-04-10-20-41.png', '03'], ['m0104', 'img-2021-03-04-10-21-17.png', '04'], ['m0104', 'img-2021-03-04-10-21-53.png', '05'], ['m0104', 'img-2021-03-04-10-22-30.png', '06'], ['m0104', 'img-2021-03-04-10-22-50.png', '07'], ['m0104', 'img-2021-03-04-10-23-21.png', '08'], ['m0105', 'img-2021-03-04-10-27-27.png', '01'], ['m0105', 'img-2021-03-04-10-28-18.png', '02'], ['m0105', 'img-2021-03-04-10-28-47.png', '03'], ['m0105', 'img-2021-03-04-10-29-16.png', '04'], ['m0105', 'img-2021-03-04-10-29-47.png', '05']]\n"
     ]
    }
   ],
   "source": [
    "import os\n",
    "import re\n",
    "import shutil\n",
    "\n",
    "\n",
    "currentDir = './1/'\n",
    "outDir ='./img/'\n",
    "dirs = os.listdir(currentDir)\n",
    "\n",
    "ll0 = []\n",
    "for dir0 in dirs:\n",
    "    files = os.listdir(f'{currentDir}{dir0}')\n",
    "    k = 1\n",
    "    for file in files:\n",
    "        e = [dir0]\n",
    "        # print(f'{dir0}/{file}')\n",
    "        e.append(file)\n",
    "        e.append(f'{k:02}')\n",
    "        ll0.append(e)\n",
    "        k += 1\n",
    "        pass\n",
    "\n",
    "names = []\n",
    "for e in ll0:\n",
    "    file0 = f'{currentDir}{e[0]}/{e[1]}'\n",
    "    match = re.search(r'\\..*$', e[1])\n",
    "    extention = match[0] if match else ''\n",
    "    name = f'{outDir}{e[0]}{e[2]}{extention}'\n",
    "    file1 = f'{outDir}{e[0]}{e[2]}{extention}'\n",
    "    names.append(file1)\n",
    "    shutil.copy(file0, file1)\n",
    "    # print(file0)\n",
    "    # print(file1)\n",
    "    pass\n",
    "\n",
    "print(len(ll0))\n",
    "print(ll0[:25])"
   ]
  },
  {
   "source": [
    "## add next dir\n",
    "c01mkNexDir.py"
   ],
   "cell_type": "markdown",
   "metadata": {}
  },
  {
   "cell_type": "code",
   "execution_count": 26,
   "metadata": {},
   "outputs": [
    {
     "output_type": "stream",
     "name": "stdout",
     "text": [
      "m0104\n"
     ]
    }
   ],
   "source": [
    "import os\n",
    "import re\n",
    "\n",
    "files = os.listdir()\n",
    "\n",
    "def checked(x):\n",
    "    match = re.search(r'^m\\d\\d\\d\\d$', x)\n",
    "    return True if match else False\n",
    "\n",
    "files = list(filter(checked, files))\n",
    "name = files[-1]\n",
    "match = re.search('\\d\\d$', name)\n",
    "num = match[0] if match else '00'\n",
    "num = int(num) + 1\n",
    "name = f'{name[:-2]}{num:02}'\n",
    "\n",
    "if len(name) == 5:\n",
    "    os.mkdir(name)\n",
    "\n",
    "print(name)\n",
    "\n"
   ]
  },
  {
   "cell_type": "code",
   "execution_count": 23,
   "metadata": {},
   "outputs": [
    {
     "output_type": "stream",
     "name": "stdout",
     "text": [
      "['m0101', 'm0102']\n"
     ]
    }
   ],
   "source": [
    "files = os.listdir()\n",
    "\n",
    "def checked(x):\n",
    "    match = re.search(r'^m\\d\\d\\d\\d$', x)\n",
    "    return True if match else False\n",
    "\n",
    "files2 = list(filter(checked, files))\n",
    "\n",
    "print(files2)"
   ]
  },
  {
   "source": [
    "http://aka.ms/BootstrapMVAGit  \n",
    "http://aka.ms/MVA-Voucher  \n",
    "BldRspUIBoot  \n",
    "https://docs.microsoft.com/ru-ru/learn/browse/?terms=c%23&skip=30  \n"
   ],
   "cell_type": "markdown",
   "metadata": {}
  }
 ],
 "metadata": {
  "kernelspec": {
   "name": "python3",
   "display_name": "Python 3",
   "language": "python"
  }
 },
 "nbformat": 4,
 "nbformat_minor": 4
}