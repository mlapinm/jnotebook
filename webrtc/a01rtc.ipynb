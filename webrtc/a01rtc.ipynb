{
 "cells": [
  {
   "cell_type": "markdown",
   "metadata": {},
   "source": [
    "[JavaScript SIP Library (JsSIP) & SIP Server for Windows](https://www.youtube.com/watch?v=S5jYWPB0zr8)  \n",
    "[SIP server + Javascript SIP Client](https://www.youtube.com/watch?v=006YInl2f2w&t=25s)  \n",
    "[sounddevice](https://pypi.org/project/sounddevice/)  \n",
    "[]()  \n"
   ]
  },
  {
   "cell_type": "markdown",
   "metadata": {},
   "source": [
    "[Python to record audio](https://www.youtube.com/watch?v=4zkievc54S4)  "
   ]
  },
  {
   "cell_type": "code",
   "execution_count": 1,
   "metadata": {},
   "outputs": [
    {
     "name": "stdout",
     "output_type": "stream",
     "text": [
      "Starting: Speak now!\n",
      "finished\n"
     ]
    }
   ],
   "source": [
    "\n",
    "import sounddevice as sd\n",
    "from scipy.io.wavfile import write\n",
    "import os\n",
    "\n",
    "fs = 44100  # this is the frequency sampling; also: 4999, 64000\n",
    "seconds = 5  # Duration of recording\n",
    "\n",
    "myrecording = sd.rec(int(seconds * fs), samplerate=fs, channels=2)\n",
    "print(\"Starting: Speak now!\")\n",
    "sd.wait()  # Wait until recording is finished\n",
    "print(\"finished\")\n",
    "write('output.wav', fs, myrecording)  # Save as WAV file\n",
    "os.startfile(\"output.wav\")\n"
   ]
  },
  {
   "cell_type": "markdown",
   "metadata": {},
   "source": [
    "[Нашел на офф. форуме Raspberry PI\n",
    "Код работает, можно закрывать](http://www.cyberforum.ru/python/thread1163798.html)  \n"
   ]
  },
  {
   "cell_type": "code",
   "execution_count": null,
   "metadata": {},
   "outputs": [],
   "source": [
    "Нашел на офф. форуме Raspberry PI\n",
    "Код работает, можно закрывать\n",
    "\n",
    "\n",
    "Server:\n",
    "\n",
    "PythonВыделить код\n",
    "1\n",
    "2\n",
    "3\n",
    "4\n",
    "5\n",
    "6\n",
    "7\n",
    "8\n",
    "9\n",
    "10\n",
    "11\n",
    "12\n",
    "13\n",
    "14\n",
    "15\n",
    "16\n",
    "17\n",
    "18\n",
    "19\n",
    "20\n",
    "21\n",
    "22\n",
    "23\n",
    "24\n",
    "25\n",
    "26\n",
    "27\n",
    "28\n",
    "29\n",
    "30\n",
    "31\n",
    "32\n",
    "33\n",
    "34\n",
    "35\n",
    "36\n",
    "37\n",
    "import pyaudio, socket\n",
    " \n",
    "port = 5000\n",
    "chunk = 256\n",
    "FORMAT = pyaudio.paInt16\n",
    "CHANNELS = 1\n",
    "RATE = 44100\n",
    " \n",
    "p = pyaudio.PyAudio()\n",
    "stream = p.open(format = FORMAT, channels = CHANNELS, rate = RATE, input = True, output = True, frames_per_buffer = chunk)\n",
    " \n",
    "server_socket = socket.socket(socket.AF_INET, socket.SOCK_STREAM) # create the socket\n",
    "server_socket.bind(('', port)) # listen on port 5000\n",
    "server_socket.listen(5) # queue max 5 connections\n",
    "client_socket, address = server_socket.accept()\n",
    " \n",
    "print \"Your IP address is: \", socket.gethostbyname(socket.gethostname())\n",
    "print \"Server Waiting for client on port \", port\n",
    " \n",
    "while True:\n",
    " \n",
    "    # test string\n",
    "    #data = bytearray('DEADBEEF'.decode('hex'))\n",
    "    #client_socket.sendall(data)\n",
    "   \n",
    "   try:\n",
    "      client_socket.sendall(stream.read(chunk))\n",
    "   except IOError,e:\n",
    "      if e[1] == pyaudio.paInputOverflowed:\n",
    "         print e\n",
    "         x = '\\x00'*16*256*2 #value*format*chunk*nb_channels\n",
    " \n",
    "stream.stop_stream()\n",
    "stream.close()\n",
    "server_socket.close()\n",
    "client_socket.close()\n",
    "p.terminate()\n",
    "\n",
    "#### Client:\n",
    "################################\n",
    "import pyaudio, socket\n",
    " \n",
    "port = 5000\n",
    "ip = \"127.0.0.1\"\n",
    " \n",
    "chunk = 512\n",
    "FORMAT = pyaudio.paInt16\n",
    "CHANNELS = 1\n",
    "RATE = 44100\n",
    " \n",
    "p = pyaudio.PyAudio().get_def\n",
    "stream = p.open(format = FORMAT, channels = CHANNELS, rate = RATE, input = True,output = True, frames_per_buffer = chunk)\n",
    " \n",
    "#Create a socket connection for connecting to the server:\n",
    "client_socket = socket.socket(socket.AF_INET, socket.SOCK_STREAM)\n",
    "client_socket.connect((ip, port))\n",
    " \n",
    "while True:\n",
    " \n",
    "   #Recieve data from the server:\n",
    "   data = client_socket.recv(1024)\n",
    "   stream.write(data,chunk)\n",
    "   #print data\n",
    "   \n",
    "   \n",
    "socket.close()"
   ]
  },
  {
   "cell_type": "markdown",
   "metadata": {},
   "source": [
    "webrtc"
   ]
  },
  {
   "cell_type": "markdown",
   "metadata": {},
   "source": [
    "[play sound from a socket python](https://gist.github.com/prasincs/117426)  \n",
    "[Playing and Recording Sound in Python](https://realpython.com/playing-and-recording-sound-python/)  \n",
    "[Python to record audio](https://www.youtube.com/watch?v=4zkievc54S4&t=38s)  \n",
    "[WebRTC](https://www.youtube.com/watch?v=8bJixcjjF7k&list=PLdIcaQG1HbKwaKK8OZBCjGQqSJg_Kp_1w&index=8)  \n",
    "[WebRTC44](https://www.youtube.com/watch?v=ieBtXwHvoNk&list=PLztVVS4n98Edn4UtH4R93tq9k1pcDDacw&index=6)  \n",
    "[Build Video Chat Web App From Scratch in 40 mins](https://www.youtube.com/watch?v=KLCcCTFivhM&t=1386s)  \n",
    "[WebRTC V2 Simple Calling API + Mobile](https://github.com/stephenlb/webrtc-sdk)  \n",
    "[https://habr.com/ru/company/flashphoner/blog/325444/](https://habr.com/ru/company/flashphoner/blog/325444/)  \n",
    "[]()  \n",
    "[]()  \n",
    "[]()  \n",
    "[]()  \n",
    "[]()  \n",
    "[]()  \n",
    "[]()  \n"
   ]
  }
 ],
 "metadata": {
  "kernelspec": {
   "display_name": "Python 3",
   "language": "python",
   "name": "python3"
  },
  "language_info": {
   "codemirror_mode": {
    "name": "ipython",
    "version": 3
   },
   "file_extension": ".py",
   "mimetype": "text/x-python",
   "name": "python",
   "nbconvert_exporter": "python",
   "pygments_lexer": "ipython3",
   "version": "3.7.4"
  }
 },
 "nbformat": 4,
 "nbformat_minor": 2
}
