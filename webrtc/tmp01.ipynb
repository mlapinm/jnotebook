{
 "cells": [
  {
   "cell_type": "markdown",
   "metadata": {},
   "source": [
    "2"
   ]
  },
  {
   "cell_type": "code",
   "execution_count": null,
   "metadata": {},
   "outputs": [],
   "source": []
  },
  {
   "cell_type": "code",
   "execution_count": 5,
   "metadata": {},
   "outputs": [
    {
     "name": "stdout",
     "output_type": "stream",
     "text": [
      "Starting: Speak now!\n",
      "finished\n"
     ]
    }
   ],
   "source": [
    "\n",
    "import sounddevice as sd\n",
    "from scipy.io.wavfile import write\n",
    "import os\n",
    "\n",
    "fs = 44100  # this is the frequency sampling; also: 4999, 64000\n",
    "seconds = 5  # Duration of recording\n",
    "\n",
    "myrecording = sd.rec(int(seconds * fs), samplerate=fs, channels=2)\n",
    "print(\"Starting: Speak now!\")\n",
    "sd.wait()  # Wait until recording is finished\n",
    "print(\"finished\")\n",
    "write('output.wav', fs, myrecording)  # Save as WAV file\n",
    "os.startfile(\"output.wav\")\n"
   ]
  },
  {
   "cell_type": "markdown",
   "metadata": {},
   "source": [
    "webrtc"
   ]
  },
  {
   "cell_type": "markdown",
   "metadata": {},
   "source": [
    "[play sound from a socket python](https://gist.github.com/prasincs/117426)  \n",
    "[Playing and Recording Sound in Python](https://realpython.com/playing-and-recording-sound-python/)  \n",
    "[Python to record audio](https://www.youtube.com/watch?v=4zkievc54S4&t=38s)  \n",
    "[WebRTC](https://www.youtube.com/watch?v=8bJixcjjF7k&list=PLdIcaQG1HbKwaKK8OZBCjGQqSJg_Kp_1w&index=8)  \n",
    "[WebRTC44](https://www.youtube.com/watch?v=ieBtXwHvoNk&list=PLztVVS4n98Edn4UtH4R93tq9k1pcDDacw&index=6)  \n",
    "[Build Video Chat Web App From Scratch in 40 mins](https://www.youtube.com/watch?v=KLCcCTFivhM&t=1386s)  \n",
    "[WebRTC V2 Simple Calling API + Mobile](https://github.com/stephenlb/webrtc-sdk)  \n",
    "[https://habr.com/ru/company/flashphoner/blog/325444/](https://habr.com/ru/company/flashphoner/blog/325444/)  \n",
    "[]()  \n",
    "[]()  \n",
    "[]()  \n",
    "[]()  \n",
    "[]()  \n",
    "[]()  \n",
    "[]()  \n"
   ]
  }
 ],
 "metadata": {
  "kernelspec": {
   "display_name": "Python 3",
   "language": "python",
   "name": "python3"
  },
  "language_info": {
   "codemirror_mode": {
    "name": "ipython",
    "version": 3
   },
   "file_extension": ".py",
   "mimetype": "text/x-python",
   "name": "python",
   "nbconvert_exporter": "python",
   "pygments_lexer": "ipython3",
   "version": "3.7.4"
  }
 },
 "nbformat": 4,
 "nbformat_minor": 2
}
