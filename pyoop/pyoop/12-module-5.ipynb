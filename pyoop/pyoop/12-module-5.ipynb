{
 "cells": [
  {
   "cell_type": "markdown",
   "metadata": {
    "slideshow": {
     "slide_type": "slide"
    }
   },
   "source": [
    "# Модуль 5. Практическая работа"
   ]
  },
  {
   "cell_type": "markdown",
   "metadata": {
    "slideshow": {
     "slide_type": "fragment"
    }
   },
   "source": [
    "## Создание простого интерпретатора арифметических выражений"
   ]
  },
  {
   "cell_type": "markdown",
   "metadata": {
    "slideshow": {
     "slide_type": "fragment"
    }
   },
   "source": [
    "Выражения содержат только целые числа, операторы и круглые скобки.\n",
    "\n",
    "Допустимые операторы в выражении:\n",
    "- `+`: сложение\n",
    "- `-`: вычитание\n",
    "- `*`: умножение\n",
    "- `/`: деление\n",
    "- `^`: возведение в степень\n",
    "\n",
    "Операторы не имеют приоритетов, приоритеты задаются круглыми скобками. Для удобства единое выражение тоже заключено в скобки.\n",
    "\n",
    "Таким образом, результатом выражения `(1+((2+3)*(4*5)))` будет `101`, а выражения `(2+((2*3)/(4^5)))` будет `2`."
   ]
  },
  {
   "cell_type": "markdown",
   "metadata": {
    "slideshow": {
     "slide_type": "slide"
    }
   },
   "source": [
    "### Основное задание"
   ]
  },
  {
   "cell_type": "markdown",
   "metadata": {
    "slideshow": {
     "slide_type": "fragment"
    }
   },
   "source": [
    "```python\n",
    "import abc\n",
    "\n",
    "class InterpreterAbstract(abc.ABC):\n",
    "    '''Интерпретатор кода'''\n",
    "    \n",
    "    def __init__(self, code):\n",
    "        '''Принимает код'''\n",
    "        self.code = code\n",
    "    \n",
    "    def execute(self):\n",
    "        '''Запускает механизм исполнения кода\n",
    "        Возвращает результат исполнения кода'''\n",
    "        return self._parse()\n",
    "        \n",
    "    @abc.abstractmethod\n",
    "    def _parse(self):\n",
    "        '''Осуществляет парсинг кода.\n",
    "        Вызывает _evaluate для исполнения выражений\n",
    "        Возвращает результат исполнения кода в excecute''' \n",
    "        pass\n",
    "    \n",
    "    @abc.abstractmethod\n",
    "    def _evaluate(self, code):\n",
    "        '''Осуществляет вычисление выражения\n",
    "        Возвращает результат выражения в _parse'''      \n",
    "        pass\n",
    "```"
   ]
  },
  {
   "cell_type": "markdown",
   "metadata": {
    "slideshow": {
     "slide_type": "subslide"
    }
   },
   "source": [
    "Используя абстрактный класс `InterpreterAbstract` создайте и опишите класс `Interpreter`\n",
    "\n",
    "- `конструктор` класса должен принимать код в виде строки.\n",
    "- метод `_parse` должен разобрать строку кода посимвольно и передать её на исполнение методу `_evaluate`\n",
    "- метод `_evaluate` должен вычислить выражение и вернуть его результат.\n",
    "\n",
    "```python\n",
    "interpreter = Interpreter('(1+((2+3)*(4*5)))')\n",
    "print(interpreter.execute()) # 101\n",
    "\n",
    "interpreter = Interpreter('(2+((2*3)/(4^5)))')\n",
    "print(interpreter.execute()) # 2\n",
    "```"
   ]
  },
  {
   "cell_type": "markdown",
   "metadata": {
    "slideshow": {
     "slide_type": "subslide"
    }
   },
   "source": [
    "#### Подсказка"
   ]
  },
  {
   "cell_type": "markdown",
   "metadata": {
    "slideshow": {
     "slide_type": "fragment"
    }
   },
   "source": [
    "- вам надо создать два стека: для чисел и операторов\n",
    "- продвигаясь по коду: \n",
    "  - при нахождении числа добавляйте его в стек для чисел \n",
    "  - при нахождении опрератора добавляйте его в стек для операторов\n",
    "  - при нахождении символа `)`:\n",
    "    - извлеките последний оператор из стека операторов\n",
    "    - извлеките два последних числа из стека чисел\n",
    "    - произведите над числами соответствующую операцию\n",
    "    - добавьте результат операции в стек для чисел\n",
    "  - когда символы в коде закончатся, извлеките значение из стека чисел - это и будет результат всего выражения"
   ]
  },
  {
   "cell_type": "markdown",
   "metadata": {
    "slideshow": {
     "slide_type": "slide"
    }
   },
   "source": [
    "### Дополнительно 1"
   ]
  },
  {
   "cell_type": "markdown",
   "metadata": {
    "slideshow": {
     "slide_type": "fragment"
    }
   },
   "source": [
    "До сих пор мы игнорировали пробелы в коде, однако они могут присутствовать.\n",
    "\n",
    "Например: `(1 + ( (   2 + 3 )*(  4  *5) )  )`\n",
    "\n",
    "Сделайте так, чтобы код работал при любом количестве пробелов.\n",
    "\n",
    "Заодно избавьтесь от первой и последней круглых скобок, что бы конечный пользователь о них не думал:\n",
    "```python\n",
    "interpreter = Interpreter('1 + ( ( 2 + 3 ) * ( 4 * 5 ) )')\n",
    "```"
   ]
  },
  {
   "cell_type": "markdown",
   "metadata": {
    "slideshow": {
     "slide_type": "slide"
    }
   },
   "source": [
    "### Дополнительно 2"
   ]
  },
  {
   "cell_type": "markdown",
   "metadata": {
    "slideshow": {
     "slide_type": "fragment"
    }
   },
   "source": [
    "Измените конструктор, чтобы он мог принимать не только строку кода, но и файл с кодом.\n",
    "\n",
    "В файле каждое выражение должно располагаться на отдельной строке.\n",
    "\n",
    "В этом случае результатом выполнения кода должен быть список с результатами каждого выражения.\n",
    "\n",
    "Например, если содержимое файла выглядит так:\n",
    "```\n",
    "1 + ( ( 2 + 3 ) * ( 4 * 5 ) )\n",
    "2 + ( ( 2 * 3 ) / ( 4 ^ 5 ) )\n",
    "```\n",
    "то\n",
    "```python\n",
    "interpreter = Interpreter(file='code.txt')\n",
    "print(interpreter.execute()) # [101, 2]\n",
    "```"
   ]
  },
  {
   "cell_type": "markdown",
   "metadata": {
    "slideshow": {
     "slide_type": "slide"
    }
   },
   "source": [
    "### Дополнительно 3"
   ]
  },
  {
   "cell_type": "markdown",
   "metadata": {
    "slideshow": {
     "slide_type": "fragment"
    }
   },
   "source": [
    "До этого момента, мы считали, что все скобки открыты, закрыты и вложены друг в друга правильно, однако это может быть не так.\n",
    "\n",
    "Добавьте метод `_validate`, который будет перед исполнением кода проверять его сбалансированность скобок.\n",
    "\n",
    "В случае нарушения баланса скобок, метод должен выбросить исключение об ошибке и завершить работу нашего интерпретатора."
   ]
  }
 ],
 "metadata": {
  "celltoolbar": "Slideshow",
  "kernelspec": {
   "display_name": "Python 3",
   "language": "python",
   "name": "python3"
  },
  "language_info": {
   "codemirror_mode": {
    "name": "ipython",
    "version": 3
   },
   "file_extension": ".py",
   "mimetype": "text/x-python",
   "name": "python",
   "nbconvert_exporter": "python",
   "pygments_lexer": "ipython3",
   "version": "3.6.1"
  }
 },
 "nbformat": 4,
 "nbformat_minor": 2
}
