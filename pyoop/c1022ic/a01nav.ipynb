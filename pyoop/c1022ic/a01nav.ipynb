{
 "metadata": {
  "language_info": {
   "codemirror_mode": {
    "name": "ipython",
    "version": 3
   },
   "file_extension": ".py",
   "mimetype": "text/x-python",
   "name": "python",
   "nbconvert_exporter": "python",
   "pygments_lexer": "ipython3",
   "version": "3.8.5"
  },
  "orig_nbformat": 2,
  "kernelspec": {
   "name": "python385jvsc74a57bd0b3ba2566441a7c06988d0923437866b63cedc61552a5af99d1f4fb67d367b25f",
   "display_name": "Python 3.8.5 64-bit ('base': conda)"
  }
 },
 "nbformat": 4,
 "nbformat_minor": 2,
 "cells": [
  {
   "source": [
    "## general"
   ],
   "cell_type": "markdown",
   "metadata": {}
  },
  {
   "cell_type": "code",
   "execution_count": 2,
   "metadata": {},
   "outputs": [],
   "source": [
    "def readFile(name, lines):\n",
    "    with open(name, encoding=\"utf8\") as file:\n",
    "        for e in file:\n",
    "            lines.append(e.strip())\n",
    "\n",
    "def writeFile(name, lines): \n",
    "    text = '\\n'.join(lines)           \n",
    "    with open(name, 'w', encoding=\"utf8\") as file:\n",
    "        file.write(text)\n",
    "\n",
    "def filterLines(lines, lines2, attributes):\n",
    "    lines2a = []\n",
    "\n",
    "    for e in lines:\n",
    "        for attribute in attributes:\n",
    "            if e.find(attribute) == 0:\n",
    "                lines2a.append(e)\n",
    "                break\n",
    "\n",
    "    for e in lines2a:\n",
    "        lines2.append(e)\n",
    "\n",
    "def cutLines(lines, lines2, attributes):\n",
    "    lines2a = []\n",
    "\n",
    "    for e in lines:\n",
    "        for attribute in attributes:\n",
    "            if e.find(attribute) == 0:\n",
    "                lines2a.append(e[len(attribute):])\n",
    "                # print(len(attribute))\n",
    "                break\n",
    "\n",
    "    for e in lines2a:\n",
    "        lines2.append(e)\n",
    "\n",
    "def makeNavLines(lines, navLines):\n",
    "    replaces = ['!', '?', '.']\n",
    "    lines2a = []\n",
    "\n",
    "    for e in lines:\n",
    "        header = e\n",
    "        link = e\n",
    "        link = link.replace(' ', '-')\n",
    "        for repl in replaces:\n",
    "            link = link.replace(repl, '')\n",
    "        text = f\"[{header}](#{link})  \"\n",
    "        lines2a.append(text)\n",
    "        pass\n",
    "\n",
    "    for e in lines2a:\n",
    "        navLines.append(e)\n",
    "\n",
    "\n",
    "lines = []\n",
    "readFile(\"a01a.txt\", lines)\n",
    "attributes = ['### ', '## ']\n",
    "lines2 = []\n",
    "filterLines(lines, lines2, attributes)\n",
    "lines3 = []\n",
    "cutLines(lines2, lines3, attributes)\n",
    "lines4 = []\n",
    "makeNavLines(lines3, lines4)\n",
    "# print(lines4)\n",
    "writeFile(\"a01b.txt\", lines4)\n"
   ]
  },
  {
   "source": [
    "## mNavList"
   ],
   "cell_type": "markdown",
   "metadata": {}
  },
  {
   "cell_type": "code",
   "execution_count": null,
   "metadata": {},
   "outputs": [],
   "source": []
  }
 ]
}