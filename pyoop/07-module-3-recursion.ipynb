{
 "cells": [
  {
   "cell_type": "markdown",
   "metadata": {
    "slideshow": {
     "slide_type": "slide"
    }
   },
   "source": [
    "# Модуль 3. Алгоритмы\n",
    "## Рекурсия"
   ]
  },
  {
   "cell_type": "markdown",
   "metadata": {
    "slideshow": {
     "slide_type": "slide"
    }
   },
   "source": [
    "### Всё тот же бинарный поиск"
   ]
  },
  {
   "cell_type": "code",
   "execution_count": null,
   "metadata": {
    "slideshow": {
     "slide_type": "fragment"
    }
   },
   "outputs": [],
   "source": [
    "def binary_search(lst, key):\n",
    "    if len(lst) == 0:\n",
    "        return -1\n",
    "    else:\n",
    "        mid = len(lst) // 2\n",
    "        if lst[mid] == key:\n",
    "            return mid\n",
    "        else:\n",
    "            if key < lst[mid]:\n",
    "                return binary_search(lst[:mid], key)\n",
    "            else:  \n",
    "                return binary_search(lst[mid+1:], key)"
   ]
  },
  {
   "cell_type": "markdown",
   "metadata": {
    "slideshow": {
     "slide_type": "slide"
    }
   },
   "source": [
    "### Простой пример рекурсии"
   ]
  },
  {
   "cell_type": "code",
   "execution_count": null,
   "metadata": {
    "scrolled": true,
    "slideshow": {
     "slide_type": "fragment"
    }
   },
   "outputs": [],
   "source": [
    "def question(message):\n",
    "    if input(message + ': ').lower() == 'всегда':\n",
    "        return\n",
    "    else:\n",
    "        print('Подумайте...')\n",
    "    question(message)\n",
    "\n",
    "question('Ваше кредо?')\n",
    "print(\"Молодец!\")\n"
   ]
  },
  {
   "cell_type": "markdown",
   "metadata": {
    "slideshow": {
     "slide_type": "subslide"
    }
   },
   "source": [
    "### Алгоритм Евклида"
   ]
  },
  {
   "cell_type": "code",
   "execution_count": null,
   "metadata": {
    "slideshow": {
     "slide_type": "fragment"
    }
   },
   "outputs": [],
   "source": [
    "def gcd(a, b): \n",
    "    if b == 0:\n",
    "        return  a \n",
    "    return  gcd(b, a%b)\n"
   ]
  },
  {
   "cell_type": "markdown",
   "metadata": {
    "slideshow": {
     "slide_type": "slide"
    }
   },
   "source": [
    "### Так ли хороша рекурсия? "
   ]
  },
  {
   "cell_type": "code",
   "execution_count": null,
   "metadata": {
    "slideshow": {
     "slide_type": "fragment"
    }
   },
   "outputs": [],
   "source": [
    "def factorial1(n):\n",
    "    result = 1\n",
    "    for i in range(1, n+1):\n",
    "        result *= i\n",
    "    return result\n"
   ]
  },
  {
   "cell_type": "code",
   "execution_count": null,
   "metadata": {
    "slideshow": {
     "slide_type": "fragment"
    }
   },
   "outputs": [],
   "source": [
    "def factorial2(n):\n",
    "    if n == 0: \n",
    "        return 1\n",
    "    return n * factorial2(n - 1)\n"
   ]
  },
  {
   "cell_type": "code",
   "execution_count": null,
   "metadata": {
    "slideshow": {
     "slide_type": "fragment"
    }
   },
   "outputs": [],
   "source": [
    "from timeit import Timer\n",
    "t1 = Timer(\"factorial1(100000)\", \"from __main__ import factorial1\")\n",
    "print(\"one \", t1.timeit(number=1), \"milliseconds\")\n",
    "t1 = Timer(\"factorial2(50)\", \"from __main__ import factorial2\")\n",
    "print(\"two \", t1.timeit(), \"milliseconds\") \n"
   ]
  },
  {
   "cell_type": "code",
   "execution_count": null,
   "metadata": {
    "slideshow": {
     "slide_type": "subslide"
    }
   },
   "outputs": [],
   "source": [
    "def factorial3(n, acc = 1):\n",
    "    if n <= 1:\n",
    "        return acc\n",
    "    return factorial3(n - 1, n * acc)\n"
   ]
  },
  {
   "cell_type": "code",
   "execution_count": null,
   "metadata": {
    "slideshow": {
     "slide_type": "fragment"
    }
   },
   "outputs": [],
   "source": [
    "t1 = Timer(\"factorial3(50)\", \"from __main__ import factorial3\")\n",
    "print(\"three \", t1.timeit(), \"milliseconds\")\n"
   ]
  },
  {
   "cell_type": "markdown",
   "metadata": {
    "slideshow": {
     "slide_type": "slide"
    }
   },
   "source": [
    "### Напоследок"
   ]
  },
  {
   "cell_type": "code",
   "execution_count": null,
   "metadata": {
    "slideshow": {
     "slide_type": "fragment"
    }
   },
   "outputs": [],
   "source": [
    "def power1(base, exp):\n",
    "    result = 1\n",
    "    for i in range(exp):\n",
    "        result *= base\n",
    "    return result \n",
    "\n",
    "def power2(base, exp): \n",
    "    if exp == 0:\n",
    "        return 1 \n",
    "    return base * power2(base, exp - 1)\n",
    "\n",
    "def power3(base, exp): \n",
    "    if exp == 0:\n",
    "        return 1 \n",
    "    if exp % 2 == 0:\n",
    "        return power3(base, exp / 1) ** 2\n",
    "    return base * power3(base, exp - 1)\n"
   ]
  },
  {
   "cell_type": "code",
   "execution_count": null,
   "metadata": {
    "slideshow": {
     "slide_type": "fragment"
    }
   },
   "outputs": [],
   "source": [
    "from timeit import Timer\n",
    "t1 = Timer(\"power1(2, 1000)\", \"from __main__ import power1\")\n",
    "print(\"one \", t1.timeit(number=1), \"milliseconds\")\n",
    "t1 = Timer(\"power2(2, 10)\", \"from __main__ import power2\")\n",
    "print(\"two \", t1.timeit(number=1), \"milliseconds\")\n",
    "t1 = Timer(\"power3(2, 10)\", \"from __main__ import power3\")\n",
    "print(\"three \", t1.timeit(number=1), \"milliseconds\")\n"
   ]
  },
  {
   "cell_type": "markdown",
   "metadata": {
    "slideshow": {
     "slide_type": "slide"
    }
   },
   "source": [
    "### Мини практикум\n",
    "#### Кстати, какова сложность следующих алгоритмов?"
   ]
  },
  {
   "cell_type": "markdown",
   "metadata": {
    "slideshow": {
     "slide_type": "fragment"
    }
   },
   "source": [
    "```python\n",
    "def add(n):\n",
    "    if n == 0:\n",
    "        return 1\n",
    "    return add(n - 1) + add(n - 1)\n",
    "```"
   ]
  },
  {
   "cell_type": "markdown",
   "metadata": {
    "slideshow": {
     "slide_type": "fragment"
    }
   },
   "source": [
    "```python\n",
    "def add(n):\n",
    "    if n < 3:\n",
    "        return n\n",
    "    if n % 3 == 0:\n",
    "        return add(n - 1) + add(n - 2) + add(n - 3)\n",
    "    return n\n",
    "```"
   ]
  },
  {
   "cell_type": "markdown",
   "metadata": {
    "slideshow": {
     "slide_type": "slide"
    }
   },
   "source": [
    "# Выводы\n",
    "#### Рекурсивный алгоритм должен вызывать сам себя\n",
    "#### Все рекурсивные алгоритмы должны иметь базовый случай\n",
    "#### Рекурсивное решение может быть очень ресурсоёмким\n",
    "#### Во многих случаях рекурсию можно заменять итерированием"
   ]
  }
 ],
 "metadata": {
  "celltoolbar": "Slideshow",
  "kernelspec": {
   "display_name": "Python 3",
   "language": "python",
   "name": "python3"
  },
  "language_info": {
   "codemirror_mode": {
    "name": "ipython",
    "version": 3
   },
   "file_extension": ".py",
   "mimetype": "text/x-python",
   "name": "python",
   "nbconvert_exporter": "python",
   "pygments_lexer": "ipython3",
   "version": "3.6.1"
  }
 },
 "nbformat": 4,
 "nbformat_minor": 2
}
