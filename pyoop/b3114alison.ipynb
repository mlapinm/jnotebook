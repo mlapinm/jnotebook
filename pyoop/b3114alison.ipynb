{
 "cells": [
  {
   "source": [
    "### 1 3 Getting Started"
   ],
   "cell_type": "markdown",
   "metadata": {}
  },
  {
   "cell_type": "code",
   "execution_count": 1,
   "metadata": {},
   "outputs": [
    {
     "output_type": "stream",
     "name": "stdout",
     "text": [
      "hello\n"
     ]
    }
   ],
   "source": [
    "print(\"hello\")"
   ]
  },
  {
   "source": [
    "2 Displaying text"
   ],
   "cell_type": "markdown",
   "metadata": {}
  },
  {
   "source": [],
   "cell_type": "markdown",
   "metadata": {}
  },
  {
   "cell_type": "code",
   "execution_count": 12,
   "metadata": {},
   "outputs": [
    {
     "output_type": "stream",
     "name": "stdout",
     "text": [
      "it's \n0\n1\n2\n3\n4\n5\n6\n\n"
     ]
    }
   ],
   "source": [
    "print( \"it's \" )\n",
    "line = \\\n",
    "\"\"\"0\n",
    "1\n",
    "2\n",
    "3\"\"\"\n",
    "print(line)\n",
    "line2 = '''4\n",
    "5\n",
    "6\n",
    "'''\n",
    "print(line2)\n"
   ]
  },
  {
   "cell_type": "code",
   "execution_count": 13,
   "metadata": {},
   "outputs": [
    {
     "output_type": "stream",
     "name": "stdout",
     "text": [
      "a b\n"
     ]
    }
   ],
   "source": [
    "print(\"a \" + \"b\")"
   ]
  },
  {
   "cell_type": "code",
   "execution_count": 16,
   "metadata": {},
   "outputs": [
    {
     "output_type": "stream",
     "name": "stdout",
     "text": [
      "His age is 33\n"
     ]
    }
   ],
   "source": [
    "age = 33\n",
    "print(f\"His age is {age}\")"
   ]
  },
  {
   "cell_type": "code",
   "execution_count": 19,
   "metadata": {},
   "outputs": [
    {
     "output_type": "stream",
     "name": "stdout",
     "text": [
      "abc\"\na\\b a \\ b\n"
     ]
    }
   ],
   "source": [
    "print(\"abc\\\"\")\n",
    "print(\"a\\\\b\" + \" a \\ b\")"
   ]
  },
  {
   "source": [],
   "cell_type": "markdown",
   "metadata": {}
  },
  {
   "cell_type": "code",
   "execution_count": 22,
   "metadata": {},
   "outputs": [
    {
     "output_type": "stream",
     "name": "stdout",
     "text": [
      "44\n"
     ]
    }
   ],
   "source": [
    "name = input(\"Enter your name \")\n",
    "print(name)"
   ]
  },
  {
   "cell_type": "code",
   "execution_count": 24,
   "metadata": {},
   "outputs": [
    {
     "output_type": "stream",
     "name": "stdout",
     "text": [
      "hello\nHELLO\nhELLO\n"
     ]
    }
   ],
   "source": [
    "message = \"Hello\"\n",
    "print(message.lower())\n",
    "print(message.upper())\n",
    "print(message.swapcase())\n"
   ]
  },
  {
   "cell_type": "code",
   "execution_count": 32,
   "metadata": {},
   "outputs": [
    {
     "output_type": "stream",
     "name": "stdout",
     "text": [
      "1\n2\nWww hello\nHillo\n4\n"
     ]
    }
   ],
   "source": [
    "message = \"Hello\"\n",
    "print(message.find(\"el\"))\n",
    "print(message.count(\"l\"))\n",
    "print((\"www \"+ message).capitalize())\n",
    "print(message.replace(\"e\",\"i\"))\n",
    "print(len(\"фффф\"))\n"
   ]
  }
 ],
 "metadata": {
  "kernelspec": {
   "display_name": "Python 3",
   "language": "python",
   "name": "python3"
  },
  "language_info": {
   "codemirror_mode": {
    "name": "ipython",
    "version": 3
   },
   "file_extension": ".py",
   "mimetype": "text/x-python",
   "name": "python",
   "nbconvert_exporter": "python",
   "pygments_lexer": "ipython3",
   "version": "3.7.9-final"
  }
 },
 "nbformat": 4,
 "nbformat_minor": 2
}