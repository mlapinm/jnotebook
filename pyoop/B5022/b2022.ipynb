{
 "metadata": {
  "language_info": {
   "codemirror_mode": {
    "name": "ipython",
    "version": 3
   },
   "file_extension": ".py",
   "mimetype": "text/x-python",
   "name": "python",
   "nbconvert_exporter": "python",
   "pygments_lexer": "ipython3",
   "version": "3.8.5"
  },
  "orig_nbformat": 2,
  "kernelspec": {
   "name": "python385jvsc74a57bd0b3ba2566441a7c06988d0923437866b63cedc61552a5af99d1f4fb67d367b25f",
   "display_name": "Python 3.8.5 64-bit (conda)"
  }
 },
 "nbformat": 4,
 "nbformat_minor": 2,
 "cells": [
  {
   "cell_type": "code",
   "execution_count": 1,
   "metadata": {},
   "outputs": [
    {
     "output_type": "stream",
     "name": "stdout",
     "text": [
      "222\n"
     ]
    }
   ],
   "source": [
    "print(\"222\")\n"
   ]
  },
  {
   "source": [
    "### Connect Four"
   ],
   "cell_type": "markdown",
   "metadata": {}
  },
  {
   "source": [
    "#### four horizontal"
   ],
   "cell_type": "markdown",
   "metadata": {}
  },
  {
   "cell_type": "code",
   "execution_count": 136,
   "metadata": {
    "tags": []
   },
   "outputs": [
    {
     "output_type": "stream",
     "name": "stdout",
     "text": [
      "[0, 1, 2, 3], // 0\n[0, 7, 14, 21], // 1\n[0, 8, 16, 24], // 2\n[1, 2, 3, 4], // 3\n[1, 8, 15, 22], // 4\n[1, 9, 17, 25], // 5\n[2, 3, 4, 5], // 6\n[2, 9, 16, 23], // 7\n[2, 10, 18, 26], // 8\n[3, 4, 5, 6], // 9\n[3, 10, 17, 24], // 10\n[3, 11, 19, 27], // 11\n[4, 11, 18, 25], // 12\n[5, 12, 19, 26], // 13\n[6, 13, 20, 27], // 14\n[7, 8, 9, 10], // 15\n[7, 14, 21, 28], // 16\n[7, 15, 23, 31], // 17\n[8, 9, 10, 11], // 18\n[8, 15, 22, 29], // 19\n[8, 16, 24, 32], // 20\n[9, 10, 11, 12], // 21\n[9, 16, 23, 30], // 22\n[9, 17, 25, 33], // 23\n[10, 11, 12, 13], // 24\n[10, 17, 24, 31], // 25\n[10, 18, 26, 34], // 26\n[11, 18, 25, 32], // 27\n[12, 19, 26, 33], // 28\n[13, 20, 27, 34], // 29\n[14, 15, 16, 17], // 30\n[14, 21, 28, 35], // 31\n[14, 22, 30, 38], // 32\n[15, 16, 17, 18], // 33\n[15, 22, 29, 36], // 34\n[15, 23, 31, 39], // 35\n[16, 17, 18, 19], // 36\n[16, 23, 30, 37], // 37\n[16, 24, 32, 40], // 38\n[17, 18, 19, 20], // 39\n[17, 24, 31, 38], // 40\n[17, 25, 33, 41], // 41\n[18, 25, 32, 39], // 42\n[19, 26, 33, 40], // 43\n[20, 27, 34, 41], // 44\n[21, 22, 23, 24], // 45\n[21, 15, 9, 3], // 46\n[22, 23, 24, 25], // 47\n[22, 16, 10, 4], // 48\n[23, 24, 25, 26], // 49\n[23, 17, 11, 5], // 50\n[24, 25, 26, 27], // 51\n[24, 18, 12, 6], // 52\n[28, 29, 30, 31], // 53\n[28, 22, 16, 10], // 54\n[29, 30, 31, 32], // 55\n[29, 23, 17, 11], // 56\n[30, 31, 32, 33], // 57\n[30, 24, 18, 12], // 58\n[31, 32, 33, 34], // 59\n[31, 25, 19, 13], // 60\n[35, 36, 37, 38], // 61\n[35, 29, 23, 17], // 62\n[36, 37, 38, 39], // 63\n[36, 30, 24, 18], // 64\n[37, 38, 39, 40], // 65\n[37, 31, 25, 19], // 66\n[38, 39, 40, 41], // 67\n[38, 32, 26, 20], // 68\n"
     ]
    }
   ],
   "source": [
    "rowLength = 7\n",
    "columnLength = 6\n",
    "\n",
    "rowItems = [0 for e in range(rowLength)]\n",
    "items = [rowItems for e in range(columnLength)]\n",
    "\n",
    "def getNum(row, column, items):\n",
    "    num = 0\n",
    "    rows = len(items)\n",
    "    columns = len(items[0])\n",
    "\n",
    "\n",
    "    num = columns*row + column\n",
    "    return num\n",
    "    pass\n",
    "\n",
    "def getRowCol(num, items):\n",
    "    rowCol = []\n",
    "    rows = len(items)\n",
    "    columns = len(items[0])\n",
    "    row = num//columns\n",
    "    column = num%columns\n",
    "    rowCol = [row, column]\n",
    "    return rowCol\n",
    "\n",
    "\n",
    "def getNums(row, column, items, count = 4):\n",
    "    lines = []\n",
    "    rows = len(items)\n",
    "    columns = len(items[0])\n",
    "    line = []\n",
    "# horizont\n",
    "    if column + count <= columns:\n",
    "        for i in range(count):\n",
    "            k = getNum(row, column+i, items)\n",
    "            line.append(k)\n",
    "        lines.append(line)\n",
    "# vertical\n",
    "    line = []\n",
    "    if row + count <= rows:\n",
    "        for i in range(count):\n",
    "            k = getNum(row+i, column, items)\n",
    "            line.append(k)\n",
    "        lines.append(line)\n",
    "# diagonal 1\n",
    "    line = []\n",
    "    if row + count <= rows and column + count <= columns:\n",
    "        for i in range(count):\n",
    "            k = getNum(row+i, column+i, items)\n",
    "            line.append(k)\n",
    "        lines.append(line)\n",
    "# diagonal 2\n",
    "    line = []\n",
    "    if row >= count-1 and row  <= rows + count and column + count <= columns:\n",
    "        for i in range(count):\n",
    "            k = getNum(row-i, column+i, items)\n",
    "            line.append(k)\n",
    "        lines.append(line)\n",
    "\n",
    "    return lines\n",
    "\n",
    "def getWins(items):\n",
    "    wins = []\n",
    "    rows = len(items)\n",
    "    columns = len(items[0])\n",
    "    for i in range(rows*columns):\n",
    "        rowCol = getRowCol(i, items)\n",
    "        row = rowCol[0]\n",
    "        column = rowCol[1]\n",
    "        # print(i, row, column)\n",
    "\n",
    "        lines = getNums(row, column, items)\n",
    "        for e in lines:\n",
    "            wins.append(e)\n",
    "\n",
    "    return wins\n",
    "\n",
    "def showWins(wins, items):\n",
    "    rows = len(items)\n",
    "    columns = len(items[0])\n",
    "    rowItems = [1 for e in range(rowLength)]\n",
    "    testItems = [rowItems.copy() for e in range(columnLength)]\n",
    "    k = 0\n",
    "    for e in wins:\n",
    "        k+=1\n",
    "        print(k)\n",
    "        tests = []\n",
    "        for ee in testItems:\n",
    "            tests.append(ee.copy())\n",
    "        for i in e:\n",
    "            rowCol = getRowCol(i, items)\n",
    "            row = rowCol[0] \n",
    "            col = rowCol[1]\n",
    "            tests[row][col] = 8\n",
    "        for test in tests:\n",
    "            print(test)\n",
    "            pass\n",
    "    pass\n",
    "\n",
    "wins = 0\n",
    "\n",
    "wins = getWins(items)\n",
    "# showWins(wins, items)\n",
    "\n",
    "# print(wins)\n",
    "\n",
    "k = 0\n",
    "for e in wins:\n",
    "    print(f'{e}, // {k}')\n",
    "    k += 1"
   ]
  },
  {
   "cell_type": "code",
   "execution_count": 73,
   "metadata": {},
   "outputs": [
    {
     "output_type": "stream",
     "name": "stdout",
     "text": [
      "6 7\n[2, 0]\n"
     ]
    }
   ],
   "source": [
    "def getRowCol(num, items):\n",
    "    rowCol = []\n",
    "    rows = len(items)\n",
    "    columns = len(items[0])\n",
    "    print(rows, columns)\n",
    "    row = num//columns\n",
    "    column = num%columns\n",
    "    rowCol = [row, column]\n",
    "    return rowCol\n",
    "cuple = getRowCol(14, items)\n",
    "print(cuple)\n"
   ]
  },
  {
   "cell_type": "code",
   "execution_count": 138,
   "metadata": {},
   "outputs": [
    {
     "output_type": "stream",
     "name": "stdout",
     "text": [
      "<div class = \"grid0\"></div>\n<div class = \"grid1\"></div>\n<div class = \"grid2\"></div>\n<div class = \"grid3\"></div>\n<div class = \"grid4\"></div>\n<div class = \"grid5\"></div>\n<div class = \"grid6\"></div>\n<div class = \"grid7\"></div>\n<div class = \"grid8\"></div>\n<div class = \"grid9\"></div>\n<div class = \"grid10\"></div>\n<div class = \"grid11\"></div>\n<div class = \"grid12\"></div>\n<div class = \"grid13\"></div>\n<div class = \"grid14\"></div>\n<div class = \"grid15\"></div>\n<div class = \"grid16\"></div>\n<div class = \"grid17\"></div>\n<div class = \"grid18\"></div>\n<div class = \"grid19\"></div>\n<div class = \"grid20\"></div>\n<div class = \"grid21\"></div>\n<div class = \"grid22\"></div>\n<div class = \"grid23\"></div>\n<div class = \"grid24\"></div>\n<div class = \"grid25\"></div>\n<div class = \"grid26\"></div>\n<div class = \"grid27\"></div>\n<div class = \"grid28\"></div>\n<div class = \"grid29\"></div>\n<div class = \"grid30\"></div>\n<div class = \"grid31\"></div>\n<div class = \"grid32\"></div>\n<div class = \"grid33\"></div>\n<div class = \"grid34\"></div>\n<div class = \"grid35\"></div>\n<div class = \"grid36\"></div>\n<div class = \"grid37\"></div>\n<div class = \"grid38\"></div>\n<div class = \"grid39\"></div>\n<div class = \"grid40\"></div>\n<div class = \"grid41\"></div>\n<div class = \"grid42\"></div>\n<div class = \"grid43\"></div>\n<div class = \"grid44\"></div>\n<div class = \"grid45\"></div>\n<div class = \"grid46\"></div>\n<div class = \"grid47\"></div>\n<div class = \"grid48\"></div>\n"
     ]
    }
   ],
   "source": [
    "\n",
    "k = 0\n",
    "for i in range(49):\n",
    "    print(f'<div class = \"grid{k}\"></div>')\n",
    "    k += 1"
   ]
  }
 ]
}