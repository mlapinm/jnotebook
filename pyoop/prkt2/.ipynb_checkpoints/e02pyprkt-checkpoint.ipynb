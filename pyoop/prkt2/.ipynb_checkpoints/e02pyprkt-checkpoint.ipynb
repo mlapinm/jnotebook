{
 "cells": [
  {
   "cell_type": "markdown",
   "metadata": {},
   "source": [
    "#### e01catsits01.py"
   ]
  },
  {
   "cell_type": "markdown",
   "metadata": {},
   "source": [
    "#### почитать имеющуюсю таблицу e01emtab2.html\n",
    "записать содержимое в список l и в файл e01emtab21.txt"
   ]
  },
  {
   "cell_type": "code",
   "execution_count": 4,
   "metadata": {},
   "outputs": [
    {
     "name": "stdout",
     "output_type": "stream",
     "text": [
      "e01emtab21.txt\n"
     ]
    }
   ],
   "source": [
    "from bs4 import BeautifulSoup\n",
    "\n",
    "numColumn=3\n",
    "fn = 'e01emtab2.html'\n",
    "\n",
    "c = ''\n",
    "with open(fn,'r') as f:\n",
    "    c = f.read()\n",
    "soup = BeautifulSoup(c,'lxml')\n",
    "ltr = soup.findAll('tr')\n",
    "ltd = soup.findAll('td')\n",
    "ntr=len(ltr)\n",
    "la = []\n",
    "for j in range(numColumn):\n",
    "    for i in range(len(ltd)):\n",
    "        if (i-j*2)%(numColumn*2) == 0:\n",
    "            la.append(ltd[i])\n",
    "lat = []\n",
    "for i in la:\n",
    "    a = i.find('a') \n",
    "    if a:\n",
    "        lat.append(a['href'])\n",
    "    else:\n",
    "        lat.append(i.text)\n",
    "        \n",
    "\n",
    "lt = []\n",
    "for j in range(numColumn):\n",
    "    for i in range(len(ltd)):\n",
    "        if (i-1-j*2)%(numColumn*2) == 0:\n",
    "            lt.append(ltd[i])\n",
    "ltt = []            \n",
    "for i in lt:\n",
    "    ltt.append(i.text)\n",
    "\n",
    "l=[]\n",
    "for i in range(len(lat)):\n",
    "    l.append(f'{lat[i]}\\t{ltt[i]}')\n",
    "fn2=fn[:fn.find('.')]+'1.txt'\n",
    "\n",
    "st = '\\n'.join(l)\n",
    "with open(fn2,'w') as f:\n",
    "    f.write(st)\n",
    "print(fn2)"
   ]
  },
  {
   "cell_type": "markdown",
   "metadata": {},
   "source": [
    "rezume: Прочитал таблицу по колонкам"
   ]
  },
  {
   "cell_type": "code",
   "execution_count": null,
   "metadata": {},
   "outputs": [],
   "source": []
  },
  {
   "cell_type": "code",
   "execution_count": null,
   "metadata": {},
   "outputs": [],
   "source": []
  },
  {
   "cell_type": "code",
   "execution_count": null,
   "metadata": {},
   "outputs": [],
   "source": []
  },
  {
   "cell_type": "markdown",
   "metadata": {},
   "source": [
    "#### Подготовка\n",
    "**10 - e01e01.html - e01e10.html**  \n",
    "делаем из e01empty.html  "
   ]
  },
  {
   "cell_type": "code",
   "execution_count": 24,
   "metadata": {},
   "outputs": [
    {
     "name": "stdout",
     "output_type": "stream",
     "text": [
      "['e01e01.html', 'e01e02.html', 'e01e03.html', 'e01e04.html', 'e01e06.html', 'e01e07.html', 'e01e08.html', 'e01e09.html', 'e01e10.html']\n"
     ]
    }
   ],
   "source": [
    "import shutil\n",
    "\n",
    "paths_to = []\n",
    "for i in range(1,11):\n",
    "    stn = str(i)\n",
    "    stn = f'0{stn}' if len(stn)==1 else stn\n",
    "    st = f'e01e{stn}'\n",
    "    st += '.html'\n",
    "    paths_to.append(st)\n",
    "\n",
    "paths_to.remove(paths_to[4])\n",
    "print(paths_to)\n",
    "\n",
    "for i in paths_to:\n",
    "    shutil.copy2('e01empty2.html',i)"
   ]
  },
  {
   "cell_type": "code",
   "execution_count": null,
   "metadata": {},
   "outputs": [],
   "source": []
  }
 ],
 "metadata": {
  "kernelspec": {
   "display_name": "Python 3",
   "language": "python",
   "name": "python3"
  },
  "language_info": {
   "codemirror_mode": {
    "name": "ipython",
    "version": 3
   },
   "file_extension": ".py",
   "mimetype": "text/x-python",
   "name": "python",
   "nbconvert_exporter": "python",
   "pygments_lexer": "ipython3",
   "version": "3.7.4"
  }
 },
 "nbformat": 4,
 "nbformat_minor": 2
}
