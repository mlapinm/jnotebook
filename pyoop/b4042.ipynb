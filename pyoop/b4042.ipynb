{
 "metadata": {
  "language_info": {
   "codemirror_mode": {
    "name": "ipython",
    "version": 3
   },
   "file_extension": ".py",
   "mimetype": "text/x-python",
   "name": "python",
   "nbconvert_exporter": "python",
   "pygments_lexer": "ipython3",
   "version": "3.7.8-final"
  },
  "orig_nbformat": 2,
  "kernelspec": {
   "name": "python3",
   "display_name": "Python 3.7.8 64-bit",
   "metadata": {
    "interpreter": {
     "hash": "e7c37ba80a6e54a3d63188245ab5de6a3e0d381993bcb1990a7020536fc2299e"
    }
   }
  }
 },
 "nbformat": 4,
 "nbformat_minor": 2,
 "cells": [
  {
   "cell_type": "code",
   "execution_count": 64,
   "metadata": {},
   "outputs": [
    {
     "output_type": "execute_result",
     "data": {
      "text/plain": [
       "234422.88153199226"
      ]
     },
     "metadata": {},
     "execution_count": 64
    }
   ],
   "source": [
    "# The moon is just under 10^5.37 miles away\n",
    "10 ** 5.37"
   ]
  },
  {
   "cell_type": "code",
   "execution_count": 65,
   "metadata": {},
   "outputs": [
    {
     "output_type": "stream",
     "name": "stdout",
     "text": [
      "REMY MORRIS\nremy morris\nRemy morris\nRemy Morris Remy Morris\nRemy MorrisRemy MorrisRemy Morris\n"
     ]
    }
   ],
   "source": [
    "astronaut = \"Remy Morris\"\n",
    "print(astronaut.upper())\n",
    "print(astronaut.lower())\n",
    "print(astronaut.capitalize())\n",
    "print(astronaut + \" \" + astronaut)\n",
    "print(astronaut*3)\n"
   ]
  },
  {
   "cell_type": "code",
   "execution_count": 66,
   "metadata": {},
   "outputs": [
    {
     "output_type": "stream",
     "name": "stdout",
     "text": [
      "['basalt', 'highland', 'breccia', 'soil']\nsoil\n['basalt', 'highland', 'breccia']\n"
     ]
    }
   ],
   "source": [
    "items = ['basalt', 'highland', 'breccia']\n",
    "items.append(\"soil\")\n",
    "print(items)\n",
    "print(items.pop())\n",
    "print(items)\n"
   ]
  },
  {
   "cell_type": "code",
   "execution_count": 67,
   "metadata": {},
   "outputs": [
    {
     "output_type": "stream",
     "name": "stdout",
     "text": [
      "3\n"
     ]
    }
   ],
   "source": [
    "def dayOfWeek(day=1, month=1):\n",
    "    months =[31, 28, 31, 30, 31, 30, \n",
    "             31, 31, 30, 31, 30, 31]\n",
    "    firstDay = 5\n",
    "    days = day\n",
    "    for month in range(month-1):\n",
    "        days += months[month]\n",
    "    dayWeek = (days + firstDay - 1)%7\n",
    "    return dayWeek\n",
    "    \n",
    "print(dayOfWeek(23, 6))\n"
   ]
  },
  {
   "cell_type": "code",
   "execution_count": 68,
   "metadata": {},
   "outputs": [
    {
     "output_type": "stream",
     "name": "stdout",
     "text": [
      "False\n"
     ]
    }
   ],
   "source": [
    "rock = \"basaltrock\"\n",
    "print(\"highland\" in rock)"
   ]
  },
  {
   "cell_type": "code",
   "execution_count": 69,
   "metadata": {},
   "outputs": [
    {
     "output_type": "stream",
     "name": "stdout",
     "text": [
      "Reading Rocks\n\nbasalt\n\nbreccia\n\nhighland\n\nregolith\n\nhighland\n\nbreccia\n\nhighland\n\nregolith\n\nregolith\n\nbasalt\n\nhighland\n\nbasalt\n\nbreccia\n\nbreccia\n\nregolith\n\nbreccia\n\nhighland\n\nhighland\n\nbreccia\n\nbasalt\n"
     ]
    }
   ],
   "source": [
    "file = open(\"b4042.txt\", encoding=\"utf8\")\n",
    "for line in file:\n",
    "    print(line)"
   ]
  },
  {
   "cell_type": "code",
   "execution_count": 70,
   "metadata": {},
   "outputs": [
    {
     "output_type": "stream",
     "name": "stdout",
     "text": [
      "We will launch in two days\n"
     ]
    }
   ],
   "source": [
    "\n",
    "def OutputRocketText():\n",
    "    global rocketText \n",
    "    rocketText = \"We will launch in\"\n",
    "    rocketText = rocketText + \" two days\"\n",
    "OutputRocketText()    \n",
    "print(rocketText)\n",
    "# We will launch in two days"
   ]
  },
  {
   "cell_type": "code",
   "execution_count": 74,
   "metadata": {},
   "outputs": [
    {
     "output_type": "stream",
     "name": "stdout",
     "text": [
      "[['breccia', 6], ['highland', 6], ['basalt', 4], ['regolith', 4]]\n[['basalt', 4], ['breccia', 6], ['highland', 6], ['regolith', 4]]\n['basalt', 'breccia', 'highland', 'regolith']\n['basalt', 'breccia', 'highland', 'regolith', 'highland', 'breccia', 'highland', 'regolith', 'regolith', 'basalt', 'highland', 'basalt', 'breccia', 'breccia', 'regolith', 'breccia', 'highland', 'highland', 'breccia', 'basalt']\n"
     ]
    }
   ],
   "source": [
    "items = []\n",
    "with open(\"b4042.txt\") as file:\n",
    "    for item in file:\n",
    "        items.append(item.strip())\n",
    "items = items[1:]\n",
    "oneItems = []\n",
    "for item in items:\n",
    "    if oneItems.count(item) == 0:\n",
    "        oneItems.append(item)\n",
    "countItems = []\n",
    "for item in oneItems:\n",
    "    countItems.append([item])\n",
    "\n",
    "for item in countItems:\n",
    "    item.append(items.count(item[0]))\n",
    "\n",
    "sortedItems = sorted(countItems, key = lambda x: -x[1])\n",
    "\n",
    "\n",
    "print(sortedItems)\n",
    "print(countItems)\n",
    "print(oneItems)\n",
    "print(items)\n"
   ]
  },
  {
   "cell_type": "code",
   "execution_count": 75,
   "metadata": {},
   "outputs": [
    {
     "output_type": "stream",
     "name": "stdout",
     "text": [
      "3\n"
     ]
    }
   ],
   "source": [
    "x = int(input(\"Input x: \"))\n",
    "y = int(input(\"Input y: \"))\n",
    "result = x + y\n",
    "print(f\"{x} + {y} = \", result)"
   ]
  }
 ]
}