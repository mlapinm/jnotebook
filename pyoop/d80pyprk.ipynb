{
 "cells": [
  {
   "cell_type": "markdown",
   "metadata": {},
   "source": [
    "[py080 Простая программа работы с СОМ портом на Python](#py080-Простая-программа-работы-с-СОМ-портом-на-Python)   \n",
    "[py081 Использование TFTP на Python 3](#py081-Использование-TFTP-на-Python-3)   \n",
    "[py083 Парсим простые сайты на Python3](#py083-Парсим-простые-сайты-на-Python3)   \n"
   ]
  },
  {
   "cell_type": "markdown",
   "metadata": {},
   "source": [
    "#### py080 Простая программа работы с СОМ портом на Python\n",
    "#### py081 Использование TFTP на Python 3\n",
    "#### py083 Парсим простые сайты на Python3\n"
   ]
  },
  {
   "cell_type": "markdown",
   "metadata": {},
   "source": [
    "#### py080 Простая программа работы с СОМ портом на Python\n",
    "#### py081 Использование TFTP на Python 3\n",
    "#### py083 Парсим простые сайты на Python3\n"
   ]
  }
 ],
 "metadata": {
  "kernelspec": {
   "display_name": "Python 3",
   "language": "python",
   "name": "python3"
  },
  "language_info": {
   "codemirror_mode": {
    "name": "ipython",
    "version": 3
   },
   "file_extension": ".py",
   "mimetype": "text/x-python",
   "name": "python",
   "nbconvert_exporter": "python",
   "pygments_lexer": "ipython3",
   "version": "3.6.6"
  }
 },
 "nbformat": 4,
 "nbformat_minor": 2
}
