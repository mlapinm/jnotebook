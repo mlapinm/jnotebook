{
 "cells": [
  {
   "cell_type": "markdown",
   "metadata": {},
   "source": [
    "## Python Programming\n",
    "[MD5 and SHA1 Hashes in Python - YouTube](#MD5-and-SHA1-Hashes-in-Python---YouTube)  \n",
    "[Create PDF files in Python using FPDF - YouTube](#Create-PDF-files-in-Python-using-FPDF---YouTube)  \n",
    "[Python Load and Parse XML file - YouTube](#Python-Load-and-Parse-XML-file---YouTube)  \n",
    "[Capture Image Screenshots with Python - YouTube](#Capture-Image-Screenshots-with-Python---YouTube)  \n",
    "[Python Play Beep Sound in Windows - YouTube](#Python-Play-Beep-Sound-in-Windows---YouTube)  \n",
    "[Random Password Generator in Python - YouTube](#Random-Password-Generator-in-Python---YouTube)  \n",
    "[Python Flask Framework Tutorial - YouTube](#Python-Flask-Framework-Tutorial---YouTube)  \n",
    "[Python SQLite Tutorial - YouTube](#Python-SQLite-Tutorial---YouTube)  \n",
    "[Python 2D Graphics With Pyglet - YouTube](#Python-2D-Graphics-With-Pyglet---YouTube)  \n",
    "[Python Regular Expressions - YouTube](#Python-Regular-Expressions---YouTube)  \n",
    "[Parse Website with urllib in Python - YouTube](#Parse-Website-with-urllib-in-Python---YouTube)  \n",
    "[Pytest assertion Example Tutorial - YouTube](#Pytest-assertion-Example-Tutorial---YouTube)  \n",
    "[Get Webpage File Size in Python - YouTube](#Get-Webpage-File-Size-in-Python---YouTube)  \n",
    "[Connect SQLite Database using Python - YouTube](#Connect-SQLite-Database-using-Python---YouTube)  \n",
    "[Play WAV Sound File using Python - YouTube](#Play-WAV-Sound-File-using-Python---YouTube)  \n",
    "[Open Image file using Python Script - YouTube](#Open-Image-file-using-Python-Script---YouTube)  \n",
    "[How to get IP address in Python - YouTube](#How-to-get-IP-address-in-Python---YouTube)  \n",
    "[Open Folder in Windows Explorer using Python - YouTube](#Open-Folder-in-Windows-Explorer-using-Python---YouTube)  \n",
    "[Python How to open PDF file from Hard Disk - YouTube](#Python-How-to-open-PDF-file-from-Hard-Disk---YouTube)  \n",
    "[How to Open text file in editor using Python - YouTube](#How-to-Open-text-file-in-editor-using-Python---YouTube)  \n",
    "[Unit Testing Python Using doctest - YouTube](#Unit-Testing-Python-Using-doctest---YouTube)  \n",
    "[How to Create Thread in Python - YouTube](#How-to-Create-Thread-in-Python---YouTube)  \n",
    "[GUI Application with PySide - YouTube](#GUI-Application-with-PySide---YouTube)  \n",
    "[Tkinter GUI Programming with Python - YouTube](#Tkinter-GUI-Programming-with-Python---YouTube)  \n",
    "[Convert Python Code to Executable with Py2exe - YouTube](#Convert-Python-Code-to-Executable-with-Py2exe---YouTube)  \n",
    "[RSS Feedparser in Python - YouTube](#RSS-Feedparser-in-Python---YouTube)  \n",
    "[Parse JSON in Python - YouTube](#Parse-JSON-in-Python---YouTube)  \n",
    "[Requests Module in Python - YouTube](#Requests-Module-in-Python---YouTube)  \n",
    "[Socket examples in Python - YouTube](#Socket-examples-in-Python---YouTube)  \n",
    "[Webbrowser Module in Python - YouTube](#Webbrowser-Module-in-Python---YouTube)  \n",
    "[Read CSV Files with Python - YouTube](#Read-CSV-Files-with-Python---YouTube)  \n",
    "[Create Excel file with Python and XlsxWriter - YouTube](#Create-Excel-file-with-Python-and-XlsxWriter---YouTube)  \n",
    "[Create Charts Graphs with Python Pygal - YouTube](#Create-Charts-Graphs-with-Python-Pygal---YouTube)  \n",
    "[Create CSV File using Python List - YouTube](#Create-CSV-File-using-Python-List---YouTube)  \n",
    "[Scrape and Parse Wikipedia using Python - YouTube](#Scrape-and-Parse-Wikipedia-using-Python---YouTube)  \n",
    "[Extract URLs from Web Page in Python - YouTube](#Extract-URLs-from-Web-Page-in-Python---YouTube)  \n",
    "[PySide 2D Graphics - YouTube](#PySide-2D-Graphics---YouTube)  \n",
    "[Get Clipboard Data in Python - YouTube](#Get-Clipboard-Data-in-Python---YouTube)  \n",
    "[PySide WebKit Browser using QWebView - YouTube](#PySide-WebKit-Browser-using-QWebView---YouTube)  \n",
    "[Play Sound Files with PySide in Python - YouTube](#Play-Sound-Files-with-PySide-in-Python---YouTube)  \n",
    "[Python Exception Logging Module - YouTube](#Python-Exception-Logging-Module---YouTube)  \n",
    "[CouchDB Database with Python - YouTube](#CouchDB-Database-with-Python---YouTube)  \n",
    "[Redis Database and Python - YouTube](#Redis-Database-and-Python---YouTube)  \n",
    "[Python MongoDB using PyMongo - YouTube](#Python-MongoDB-using-PyMongo---YouTube)  \n",
    "[Python TinyDB Database Tutorial - YouTube](#Python-TinyDB-Database-Tutorial---YouTube)  \n",
    "[Create PDF with Python ReportLab - YouTube](#Create-PDF-with-Python-ReportLab---YouTube)  \n",
    "[Python MkDocs Static Site Generator - YouTube](#Python-MkDocs-Static-Site-Generator---YouTube)  \n",
    "[Python URL Parse into Components - YouTube](#Python-URL-Parse-into-Components---YouTube)  \n",
    "[Python Create HTTP File Server - YouTube](#Python-Create-HTTP-File-Server---YouTube)  \n",
    "[Python Flask Simple Example - YouTube](#Python-Flask-Simple-Example---YouTube)  \n",
    "[Python Create Word Doc python docx - YouTube](#Python-Create-Word-Doc-python-docx---YouTube)  \n",
    "[Python Urllib request Read CSV - YouTube](#Python-Urllib-request-Read-CSV---YouTube)  \n",
    "[Python Urllib Request Read Text File - YouTube](#Python-Urllib-Request-Read-Text-File---YouTube)  \n",
    "[Python JSON to CSV conversion - YouTube](#Python-JSON-to-CSV-conversion---YouTube)  \n",
    "[Python Pyautogui Get Mouse Position - YouTube](#Python-Pyautogui-Get-Mouse-Position---YouTube)  \n",
    "[Python Pyautogui Get Screen Size - YouTube](#Python-Pyautogui-Get-Screen-Size---YouTube)  \n",
    "[Python PyAutoGui Message Boxes - YouTube](#Python-PyAutoGui-Message-Boxes---YouTube)  \n",
    "[Python Pyautogui Right Click Menu - YouTube](#Python-Pyautogui-Right-Click-Menu---YouTube)  \n",
    "[Python Pyautogui Take Screenshot - YouTube](#Python-Pyautogui-Take-Screenshot---YouTube)  \n",
    "[Python pywinauto Windows GUI Automation - YouTube](#Python-pywinauto-Windows-GUI-Automation---YouTube)  \n",
    "[Python Get Redis Lists - YouTube](#Python-Get-Redis-Lists---YouTube)  \n",
    "[Python Get Redis Sets - YouTube](#Python-Get-Redis-Sets---YouTube)  \n",
    "[Python Connect Read MySQL Database - YouTube](#Python-Connect-Read-MySQL-Database---YouTube)  \n",
    "[Python Remove Duplicates from Text File - YouTube](#Python-Remove-Duplicates-from-Text-File---YouTube)  \n",
    "[Python Count Words Characters in Text File - YouTube](#Python-Count-Words-Characters-in-Text-File---YouTube)  \n",
    "[Python Find Common Word in Text File - YouTube](#Python-Find-Common-Word-in-Text-File---YouTube)  \n",
    "[Python Regex match search methods - YouTube](#Python-Regex-match-search-methods---YouTube)  \n",
    "[Python Pandoc File Format Conversion - YouTube](#Python-Pandoc-File-Format-Conversion---YouTube)  \n",
    "[Selenium Python Regex Extract Phone Number - YouTube](#Selenium-Python-Regex-Extract-Phone-Number---YouTube)  \n",
    "[Selenium Python Regex Extract Email - YouTube](#Selenium-Python-Regex-Extract-Email---YouTube)  \n",
    "[Cryptography Module Python - YouTube](#Cryptography-Module-Python---YouTube)  \n",
    "[Python 3 Create md5 Checksum of String - YouTube](#Python-3-Create-md5-Checksum-of-String---YouTube)  \n",
    "[Python 3 SHA256 Encryption of String - YouTube](#Python-3-SHA256-Encryption-of-String---YouTube)  \n",
    "[Python 3 Django Create New Project - YouTube](#Python-3-Django-Create-New-Project---YouTube)  \n",
    "[Python Django Installation on Windows - YouTube](#Python-Django-Installation-on-Windows---YouTube)  \n",
    "[Python Django Database Migration - YouTube](#Python-Django-Database-Migration---YouTube)  \n",
    "[Python GZip Compress File - YouTube](#Python-GZip-Compress-File---YouTube)  \n",
    "[Python 3 Openpyxl Append Values to Excel Spreadsheet - YouTube](#Python-3-Openpyxl-Append-Values-to-Excel-Spreadsheet---YouTube)  \n",
    "[Python OpenPyXL Create Excel File - YouTube](#Python-OpenPyXL-Create-Excel-File---YouTube)  \n",
    "[Python 3 Openpyxl Insert and Remove Excel Worksheet - YouTube](#Python-3-Openpyxl-Insert-and-Remove-Excel-Worksheet---YouTube)  \n",
    "[Python OpenpyXL Display Multiple Cells on Command Prompt - YouTube](#Python-OpenpyXL-Display-Multiple-Cells-on-Command-Prompt---YouTube)  \n",
    "[Python 3 Openpyxl Read Cell Value - YouTube](#Python-3-Openpyxl-Read-Cell-Value---YouTube)  \n",
    "[Python PostgreSQL Connect To PostgreSQL Database Server - YouTube](#Python-PostgreSQL-Connect-To-PostgreSQL-Database-Server---YouTube)  \n",
    "[Python PostgreSQL Database Select Query - YouTube](#Python-PostgreSQL-Database-Select-Query---YouTube)  \n",
    "[Python PostgreSQL Database Insert Query - YouTube](#Python-PostgreSQL-Database-Insert-Query---YouTube)  \n",
    "[Python Postgres Database DELETE Query - YouTube](#Python-Postgres-Database-DELETE-Query---YouTube)  \n",
    "[Python PostgreSQL UPDATE query - YouTube](#Python-PostgreSQL-UPDATE-query---YouTube)  \n",
    "\n",
    "## Python Programming\n",
    "\n",
    "\n",
    "## MD5 and SHA1 Hashes in Python - YouTube  \n",
    "[MD5 and SHA1 Hashes in Python - YouTube](https://www.youtube.com/watch?v=sdTiJfPOyZo&list=PLUY1lsOTtPeJIQkTG1BX8VU7fm7woUQhp)  "
   ]
  },
  {
   "cell_type": "code",
   "execution_count": 1,
   "metadata": {},
   "outputs": [
    {
     "name": "stdout",
     "output_type": "stream",
     "text": [
      "b10a8db164e0754105b7a99be72e3fe5\n"
     ]
    }
   ],
   "source": [
    "import hashlib\n",
    "hash_object = hashlib.md5(b'Hello World')\n",
    "print(hash_object.hexdigest())"
   ]
  },
  {
   "cell_type": "code",
   "execution_count": 2,
   "metadata": {},
   "outputs": [
    {
     "name": "stdout",
     "output_type": "stream",
     "text": [
      "0a4d55a8d778e5022fab701977c5d840bbc486d0\n"
     ]
    }
   ],
   "source": [
    "hash_object2 = hashlib.sha1(b'Hello World')\n",
    "hex_dig = hash_object2.hexdigest()\n",
    "print(hex_dig)\n"
   ]
  },
  {
   "cell_type": "markdown",
   "metadata": {},
   "source": []
  },
  {
   "cell_type": "markdown",
   "metadata": {},
   "source": [
    "## Create PDF files in Python using FPDF - YouTube  \n",
    "[Create PDF files in Python using FPDF - YouTube](https://www.youtube.com/watch?v=iGU5zG-2fY4&list=PLUY1lsOTtPeJIQkTG1BX8VU7fm7woUQhp&index=2)  \n",
    "  \n"
   ]
  },
  {
   "cell_type": "code",
   "execution_count": 5,
   "metadata": {},
   "outputs": [
    {
     "data": {
      "text/plain": [
       "''"
      ]
     },
     "execution_count": 5,
     "metadata": {},
     "output_type": "execute_result"
    }
   ],
   "source": [
    "# pip install fpdf\n",
    "import fpdf\n",
    "from fpdf import FPDF\n",
    "pdf = FPDF()\n",
    "pdf.add_page()\n",
    "pdf.set_font('Arial', 'B', 24)\n",
    "pdf.cell(40,10, 'This is FPDF Python Demo')\n",
    "pdf.output('b2124fpdf.pdf', 'F')\n"
   ]
  },
  {
   "cell_type": "markdown",
   "metadata": {},
   "source": [
    "## Python Load and Parse XML file - YouTube  \n",
    "[Python Load and Parse XML file - YouTube](https://www.youtube.com/watch?v=OiMSX_hXNaA&list=PLUY1lsOTtPeJIQkTG1BX8VU7fm7woUQhp&index=3)  \n",
    "  \n",
    "b2124xml.xml  \n",
    "  \n"
   ]
  },
  {
   "cell_type": "markdown",
   "metadata": {},
   "source": [
    "```\n",
    "<note>\n",
    "<to>Amy</to>\n",
    "<from>Sandler</from>\n",
    "<heading>TodoList</heading>\n",
    "<body>Remember to drink Milk!</body>\n",
    "</note>\n",
    "```"
   ]
  },
  {
   "cell_type": "code",
   "execution_count": 1,
   "metadata": {},
   "outputs": [
    {
     "name": "stdout",
     "output_type": "stream",
     "text": [
      "<?xml version=\"1.0\" ?><note>\n",
      "<to>Amy</to>\n",
      "<from>Sandler</from>\n",
      "<heading>TodoList</heading>\n",
      "<body>Remember to drink Milk!</body>\n",
      "</note>\n",
      "\n",
      "\n",
      "Amy\n",
      "Sandler\n",
      "TodoList\n",
      "Remember to drink Milk!\n"
     ]
    }
   ],
   "source": [
    "from xml.dom import minidom\n",
    "xmldoc = minidom.parse('b2124xml.xml')\n",
    "print(xmldoc.toxml())\n",
    "node = xmldoc.getElementsByTagName('*')\n",
    "for e in node:\n",
    "    print(e.firstChild.data)\n"
   ]
  },
  {
   "cell_type": "markdown",
   "metadata": {},
   "source": [
    "## Capture Image Screenshots with Python - YouTube  \n",
    "[Capture Image Screenshots with Python - YouTube](https://www.youtube.com/watch?v=RXNQs5ozxNE&list=PLUY1lsOTtPeJIQkTG1BX8VU7fm7woUQhp&index=4)  \n",
    "  \n",
    "pip install Pillow  \n"
   ]
  },
  {
   "cell_type": "code",
   "execution_count": 8,
   "metadata": {},
   "outputs": [
    {
     "name": "stdout",
     "output_type": "stream",
     "text": [
      "2020-21-01 182115\n"
     ]
    }
   ],
   "source": [
    "import PIL.ImageGrab\n",
    "import datetime\n",
    "\n",
    "d1 = datetime.datetime.now().strftime(\"%Y-%M-%d %H%M%S\")\n",
    "print(d1)\n",
    "img = PIL.ImageGrab.grab()\n",
    "img.save(str(d1) + '.png')"
   ]
  },
  {
   "cell_type": "markdown",
   "metadata": {},
   "source": [
    "## Python Play Beep Sound in Windows - YouTube  \n",
    "[Python Play Beep Sound in Windows - YouTube](https://www.youtube.com/watch?v=xY6oy_t-NhU&list=PLUY1lsOTtPeJIQkTG1BX8VU7fm7woUQhp&index=5)  \n",
    "  \n"
   ]
  },
  {
   "cell_type": "code",
   "execution_count": 9,
   "metadata": {},
   "outputs": [],
   "source": [
    "import winsound\n",
    "freq = 1000\n",
    "duration = 1000\n",
    "winsound.Beep(1000, 1000)\n"
   ]
  },
  {
   "cell_type": "markdown",
   "metadata": {},
   "source": [
    "## Random Password Generator in Python - YouTube  \n",
    "[Random Password Generator in Python - YouTube](https://www.youtube.com/watch?v=6sKZtbXVxHQ&list=PLUY1lsOTtPeJIQkTG1BX8VU7fm7woUQhp&index=6)  \n",
    "  \n",
    "[http://runnable.com/](http://runnable.com/)\n"
   ]
  },
  {
   "cell_type": "code",
   "execution_count": 11,
   "metadata": {},
   "outputs": [
    {
     "name": "stdout",
     "output_type": "stream",
     "text": [
      "%We0f3Lnt1o([m6&\n"
     ]
    }
   ],
   "source": [
    "import string\n",
    "from random import *\n",
    "characters = string.ascii_letters + string.punctuation + string.digits\n",
    "password = \"\".join(choice(characters) for x in range(randint(9, 16)))\n",
    "print(password)\n"
   ]
  },
  {
   "cell_type": "markdown",
   "metadata": {},
   "source": [
    "## Python Flask Framework Tutorial - YouTube  \n",
    "[Python Flask Framework Tutorial - YouTube](https://www.youtube.com/watch?v=1grzELxK5Jg&list=PLUY1lsOTtPeJIQkTG1BX8VU7fm7woUQhp&index=7)  \n",
    "  \n",
    "pip install flask  \n",
    "[http://127.0.0.1:5000/](http://127.0.0.1:5000/)  "
   ]
  },
  {
   "cell_type": "code",
   "execution_count": 13,
   "metadata": {},
   "outputs": [
    {
     "name": "stdout",
     "output_type": "stream",
     "text": [
      " * Serving Flask app \"__main__\" (lazy loading)\n",
      " * Environment: production\n",
      "   WARNING: This is a development server. Do not use it in a production deployment.\n",
      "   Use a production WSGI server instead.\n",
      " * Debug mode: off\n"
     ]
    },
    {
     "name": "stderr",
     "output_type": "stream",
     "text": [
      " * Running on http://127.0.0.1:5000/ (Press CTRL+C to quit)\n",
      "127.0.0.1 - - [01/Dec/2020 20:47:34] \"\u001b[37mGET / HTTP/1.1\u001b[0m\" 200 -\n"
     ]
    }
   ],
   "source": [
    "from flask import Flask\n",
    "\n",
    "app = Flask(__name__)\n",
    "\n",
    "@app.route(\"/\")\n",
    "\n",
    "def hello():\n",
    "    return \"This is Flask Demo 2\"\n",
    "\n",
    "if __name__ == \"__main__\":\n",
    "    app.run()\n"
   ]
  },
  {
   "cell_type": "markdown",
   "metadata": {},
   "source": [
    "## Python SQLite Tutorial - YouTube  \n",
    "[Python SQLite Tutorial - YouTube](https://www.youtube.com/watch?v=R9Dgvt9Q2zk&list=PLUY1lsOTtPeJIQkTG1BX8VU7fm7woUQhp&index=8)  \n",
    "  \n"
   ]
  },
  {
   "cell_type": "code",
   "execution_count": 16,
   "metadata": {},
   "outputs": [
    {
     "ename": "OperationalError",
     "evalue": "table students already exists",
     "output_type": "error",
     "traceback": [
      "\u001b[1;31m---------------------------------------------------------------------------\u001b[0m",
      "\u001b[1;31mOperationalError\u001b[0m                          Traceback (most recent call last)",
      "\u001b[1;32m<ipython-input-16-3c77a8a74699>\u001b[0m in \u001b[0;36m<module>\u001b[1;34m\u001b[0m\n\u001b[0;32m      4\u001b[0m \u001b[1;31m# print(sqlite3.version)\u001b[0m\u001b[1;33m\u001b[0m\u001b[1;33m\u001b[0m\u001b[1;33m\u001b[0m\u001b[0m\n\u001b[0;32m      5\u001b[0m \u001b[0mconn\u001b[0m \u001b[1;33m=\u001b[0m \u001b[0msqlite3\u001b[0m\u001b[1;33m.\u001b[0m\u001b[0mconnect\u001b[0m\u001b[1;33m(\u001b[0m\u001b[1;34m'sample1.db'\u001b[0m\u001b[1;33m)\u001b[0m\u001b[1;33m\u001b[0m\u001b[1;33m\u001b[0m\u001b[0m\n\u001b[1;32m----> 6\u001b[1;33m \u001b[0mconn\u001b[0m\u001b[1;33m.\u001b[0m\u001b[0mexecute\u001b[0m\u001b[1;33m(\u001b[0m\u001b[1;34m'CREATE TABLE students(no INTEGR PRIMARY KEY, name VARCHAR(10))'\u001b[0m\u001b[1;33m)\u001b[0m\u001b[1;33m\u001b[0m\u001b[1;33m\u001b[0m\u001b[0m\n\u001b[0m\u001b[0;32m      7\u001b[0m \u001b[0mconn\u001b[0m\u001b[1;33m.\u001b[0m\u001b[0mexecute\u001b[0m\u001b[1;33m(\u001b[0m\u001b[1;34m'INSERT into students values(1, \"abc\")'\u001b[0m\u001b[1;33m)\u001b[0m\u001b[1;33m\u001b[0m\u001b[1;33m\u001b[0m\u001b[0m\n\u001b[0;32m      8\u001b[0m \u001b[0mconn\u001b[0m\u001b[1;33m.\u001b[0m\u001b[0mcommit\u001b[0m\u001b[1;33m(\u001b[0m\u001b[1;33m)\u001b[0m\u001b[1;33m\u001b[0m\u001b[1;33m\u001b[0m\u001b[0m\n",
      "\u001b[1;31mOperationalError\u001b[0m: table students already exists"
     ]
    }
   ],
   "source": [
    "import sqlite3\n",
    "import sys\n",
    "\n",
    "# print(sqlite3.version)\n",
    "conn = sqlite3.connect('sample1.db')\n",
    "conn.execute('CREATE TABLE students(no INTEGR PRIMARY KEY, name VARCHAR(10))')\n",
    "conn.execute('INSERT into students values(1, \"abc\")')\n",
    "conn.commit()\n",
    "conn.execute('INSERT into students values(2, \"cde\")')\n",
    "conn.execute('INSERT into students values(3, \"efg\")')\n",
    "conn.commit()\n"
   ]
  },
  {
   "cell_type": "markdown",
   "metadata": {},
   "source": [
    "## Python 2D Graphics With Pyglet - YouTube  \n",
    "[Python 2D Graphics With Pyglet - YouTube](https://www.youtube.com/watch?v=0zSnjaNyRuc&list=PLUY1lsOTtPeJIQkTG1BX8VU7fm7woUQhp&index=9)  \n",
    "  \n",
    "pip install pyglet"
   ]
  },
  {
   "cell_type": "code",
   "execution_count": 18,
   "metadata": {},
   "outputs": [],
   "source": [
    "import pyglet\n",
    "\n",
    "window = pyglet.window.Window()\n",
    "label = pyglet.text.Label('Successfully Installed Pyglet', \n",
    "font_name='Arial', font_size=28, x=window.width//2,\n",
    "y=window.height//2, anchor_x='center', anchor_y='center')\n",
    "\n",
    "@window.event\n",
    "def on_draw():\n",
    "    window.clear()\n",
    "    label.draw()\n",
    "\n",
    "pyglet.app.run()\n"
   ]
  },
  {
   "cell_type": "markdown",
   "metadata": {},
   "source": [
    "## Python Regular Expressions - YouTube  \n",
    "[Python Regular Expressions - YouTube](https://www.youtube.com/watch?v=AH3f9HrmUIQ&list=PLUY1lsOTtPeJIQkTG1BX8VU7fm7woUQhp&index=10)  \n",
    "  \n"
   ]
  },
  {
   "cell_type": "code",
   "execution_count": 19,
   "metadata": {},
   "outputs": [
    {
     "name": "stdout",
     "output_type": "stream",
     "text": [
      "Big black fox jumpl over lazy cow\n",
      "Big black alpaca jumpl over lazy cow\n",
      "['alpaca']\n",
      "<re.Match object; span=(10, 13), match='fox'>\n",
      "<re.Match object; span=(0, 3), match='Big'>\n"
     ]
    }
   ],
   "source": [
    "import re\n",
    "\n",
    "s1 = 'Big black fox jumpl over lazy cow'\n",
    "s1_new = re.sub('fox', 'alpaca', s1, 1)\n",
    "print(s1)\n",
    "print(s1_new)\n",
    "s2_new = re.findall('alpaca', s1_new)\n",
    "print(s2_new)\n",
    "s3_new = re.search('fox', s1)\n",
    "s4_new = re.match('Big', s1)\n",
    "print(s3_new)\n",
    "print(s4_new)\n",
    "\n"
   ]
  },
  {
   "cell_type": "markdown",
   "metadata": {},
   "source": [
    "## Parse Website with urllib in Python - YouTube  \n",
    "[Parse Website with urllib in Python - YouTube](https://www.youtube.com/watch?v=Mx7ha5jZZoU&list=PLUY1lsOTtPeJIQkTG1BX8VU7fm7woUQhp&index=11)  \n",
    "  \n"
   ]
  },
  {
   "cell_type": "code",
   "execution_count": 20,
   "metadata": {},
   "outputs": [
    {
     "name": "stdout",
     "output_type": "stream",
     "text": [
      "b'<!doctype html><html itemscope=\"\" itemtype=\"http://schema.org/WebPage\" lang=\"ru\"><head><meta content=\"&#1055;&#1086;&#1080;&#1089;&#1082; &#1080;&#1085;&#1092;&#1086;&#1088;&#1084;&#1072;&#1094;&#1080;&#1080; &#1074; &#1080;&#1085;&#1090;&#1077;&#1088;&#1085;&#1077;&#1090;&#1077;: &#1074;&#1077;&#10'\n"
     ]
    }
   ],
   "source": [
    "import urllib.request\n",
    "\n",
    "url = 'http://google.com'\n",
    "req1 = urllib.request.Request(url)\n",
    "resp1 = urllib.request.urlopen(req1)\n",
    "respread = resp1.read()\n",
    "print(respread[:300])\n",
    "\n"
   ]
  },
  {
   "cell_type": "markdown",
   "metadata": {},
   "source": [
    "## Pytest assertion Example Tutorial - YouTube  \n",
    "[Pytest assertion Example Tutorial - YouTube](https://www.youtube.com/watch?v=6B2UhbK-XF8&list=PLUY1lsOTtPeJIQkTG1BX8VU7fm7woUQhp&index=12)  \n",
    "  \n",
    "pip install -U pytest    \n",
    "py.test --version  \n",
    "pytest 6.1.2  \n",
    "  \n",
    "py.test b2222md5.py  \n"
   ]
  },
  {
   "cell_type": "code",
   "execution_count": null,
   "metadata": {},
   "outputs": [],
   "source": [
    "def func(x):\n",
    "    return x+1\n",
    "\n",
    "def test_func():\n",
    "    assert func(3) == 5\n"
   ]
  },
  {
   "cell_type": "markdown",
   "metadata": {},
   "source": [
    "```\n",
    "PS D:\\mailCloud2\\Cloud Mail.Ru\\prjother\\017python\\b2222code> py.test b2222md5.py\n",
    "======================================= test session starts ========================================\n",
    "platform win32 -- Python 3.7.9, pytest-6.1.2, py-1.9.0, pluggy-0.13.1\n",
    "rootdir: D:\\mailCloud2\\Cloud Mail.Ru\\prjother\\017python\\b2222code\n",
    "collected 1 item\n",
    "\n",
    "b2222md5.py F                                                                                 [100%]\n",
    "\n",
    "============================================= FAILURES ============================================= \n",
    "____________________________________________ test_func _____________________________________________ \n",
    "\n",
    "    def test_func():\n",
    ">       assert func(3) == 5\n",
    "E       assert 4 == 5\n",
    "E        +  where 4 = func(3)\n",
    "\n",
    "b2222md5.py:7: AssertionError\n",
    "===================================== short test summary info ====================================== \n",
    "FAILED b2222md5.py::test_func - assert 4 == 5\n",
    "======================================== 1 failed in 0.37s ========================================= \n",
    "```"
   ]
  },
  {
   "cell_type": "code",
   "execution_count": 22,
   "metadata": {},
   "outputs": [
    {
     "name": "stdout",
     "output_type": "stream",
     "text": [
      "1\n"
     ]
    },
    {
     "ename": "AssertionError",
     "evalue": "2==3 message",
     "output_type": "error",
     "traceback": [
      "\u001b[1;31m---------------------------------------------------------------------------\u001b[0m",
      "\u001b[1;31mAssertionError\u001b[0m                            Traceback (most recent call last)",
      "\u001b[1;32m<ipython-input-22-fb70adfc9dbd>\u001b[0m in \u001b[0;36m<module>\u001b[1;34m\u001b[0m\n\u001b[0;32m      1\u001b[0m \u001b[0mprint\u001b[0m\u001b[1;33m(\u001b[0m\u001b[1;36m1\u001b[0m\u001b[1;33m)\u001b[0m\u001b[1;33m\u001b[0m\u001b[1;33m\u001b[0m\u001b[0m\n\u001b[1;32m----> 2\u001b[1;33m \u001b[1;32massert\u001b[0m \u001b[1;36m2\u001b[0m\u001b[1;33m==\u001b[0m\u001b[1;36m3\u001b[0m\u001b[1;33m,\u001b[0m\u001b[1;34m'2==3 message'\u001b[0m\u001b[1;33m\u001b[0m\u001b[1;33m\u001b[0m\u001b[0m\n\u001b[0m\u001b[0;32m      3\u001b[0m \u001b[0mprint\u001b[0m\u001b[1;33m(\u001b[0m\u001b[1;36m2\u001b[0m\u001b[1;33m)\u001b[0m\u001b[1;33m\u001b[0m\u001b[1;33m\u001b[0m\u001b[0m\n",
      "\u001b[1;31mAssertionError\u001b[0m: 2==3 message"
     ]
    }
   ],
   "source": [
    "print(1)\n",
    "assert 2==3,'2==3 message'\n",
    "print(2)"
   ]
  },
  {
   "cell_type": "markdown",
   "metadata": {},
   "source": [
    "## Get Webpage File Size in Python - YouTube  \n",
    "[Get Webpage File Size in Python - YouTube](https://www.youtube.com/watch?v=qZe10XQL7uc&list=PLUY1lsOTtPeJIQkTG1BX8VU7fm7woUQhp&index=13)  \n",
    "  \n"
   ]
  },
  {
   "cell_type": "code",
   "execution_count": 23,
   "metadata": {},
   "outputs": [
    {
     "name": "stdout",
     "output_type": "stream",
     "text": [
      "15733\n",
      "476240\n",
      "186685\n",
      "411618\n"
     ]
    }
   ],
   "source": [
    "import urllib.request\n",
    "\n",
    "url = urllib.request.urlopen('http://google.com')\n",
    "print(len(url.read()))\n",
    "url = urllib.request.urlopen('http://onecore.com')\n",
    "print(len(url.read()))\n",
    "url = urllib.request.urlopen('http://yandex.ru')\n",
    "print(len(url.read()))\n",
    "url = urllib.request.urlopen('http://youtube.com')\n",
    "print(len(url.read()))\n"
   ]
  },
  {
   "cell_type": "markdown",
   "metadata": {},
   "source": [
    "## Connect SQLite Database using Python - YouTube  \n",
    "[Connect SQLite Database using Python - YouTube](https://www.youtube.com/watch?v=Sye5sfZw8dE&list=PLUY1lsOTtPeJIQkTG1BX8VU7fm7woUQhp&index=14)  \n",
    "  \n"
   ]
  },
  {
   "cell_type": "code",
   "execution_count": 25,
   "metadata": {},
   "outputs": [
    {
     "data": {
      "text/plain": [
       "<function Connection.close>"
      ]
     },
     "execution_count": 25,
     "metadata": {},
     "output_type": "execute_result"
    }
   ],
   "source": [
    "import sqlite3\n",
    "\n",
    "conn = sqlite3.connect('test2.db')\n",
    "conn.execute('''CREATE TABLE COMPANY2 (ID INT PRIMARY KEY NOT NULL, \\\n",
    "NAME TEXT NOT NULL,  AGE INT NOT NULL, SALARY INT NOT NULL);''')\n",
    "conn.execute(\"INSERT INTO COMPANY2(ID, NAME, AGE, SALARY) \\\n",
    "VALUES(1, 'PAUL', 22, 2500)\")\n",
    "conn.execute(\"INSERT INTO COMPANY2(ID, NAME, AGE, SALARY) \\\n",
    "VALUES(2, 'JAMES', 32, 3500)\")\n",
    "conn.execute(\"UPDATE COMPANY2 SET SALARY = 4000 WHERE ID = 2\")\n",
    "conn.commit\n",
    "conn.execute(\"DELETE FROM COMPANY2 WHERE ID=2\")\n",
    "conn.commit\n",
    "conn.close\n"
   ]
  },
  {
   "cell_type": "markdown",
   "metadata": {},
   "source": [
    "## Play WAV Sound File using Python - YouTube  \n",
    "[Play WAV Sound File using Python - YouTube](https://www.youtube.com/watch?v=hcjiARTYYws&list=PLUY1lsOTtPeJIQkTG1BX8VU7fm7woUQhp&index=15)  \n",
    "  \n"
   ]
  },
  {
   "cell_type": "code",
   "execution_count": null,
   "metadata": {},
   "outputs": [],
   "source": [
    "import os\n",
    "\n",
    "os.system(\"start .\\Sleep.wav\")\n",
    "\n"
   ]
  },
  {
   "cell_type": "markdown",
   "metadata": {},
   "source": [
    "## Open Image file using Python Script - YouTube  \n",
    "[Open Image file using Python Script - YouTube](https://www.youtube.com/watch?v=32WGTEIkBOY&list=PLUY1lsOTtPeJIQkTG1BX8VU7fm7woUQhp&index=16)  \n",
    "  \n"
   ]
  },
  {
   "cell_type": "code",
   "execution_count": 26,
   "metadata": {},
   "outputs": [
    {
     "ename": "FileNotFoundError",
     "evalue": "[WinError 2] Не удается найти указанный файл: 'wmpnss_color32.jpg'",
     "output_type": "error",
     "traceback": [
      "\u001b[1;31m---------------------------------------------------------------------------\u001b[0m",
      "\u001b[1;31mFileNotFoundError\u001b[0m                         Traceback (most recent call last)",
      "\u001b[1;32m<ipython-input-26-a02cd71e0d26>\u001b[0m in \u001b[0;36m<module>\u001b[1;34m\u001b[0m\n\u001b[0;32m      1\u001b[0m \u001b[1;32mimport\u001b[0m \u001b[0mos\u001b[0m\u001b[1;33m\u001b[0m\u001b[1;33m\u001b[0m\u001b[0m\n\u001b[0;32m      2\u001b[0m \u001b[1;33m\u001b[0m\u001b[0m\n\u001b[1;32m----> 3\u001b[1;33m \u001b[0mos\u001b[0m\u001b[1;33m.\u001b[0m\u001b[0mstartfile\u001b[0m\u001b[1;33m(\u001b[0m\u001b[1;34m'wmpnss_color32.jpg'\u001b[0m\u001b[1;33m)\u001b[0m\u001b[1;33m\u001b[0m\u001b[1;33m\u001b[0m\u001b[0m\n\u001b[0m",
      "\u001b[1;31mFileNotFoundError\u001b[0m: [WinError 2] Не удается найти указанный файл: 'wmpnss_color32.jpg'"
     ]
    }
   ],
   "source": [
    "import os\n",
    "\n",
    "os.startfile('wmpnss_color32.jpg')\n"
   ]
  },
  {
   "cell_type": "markdown",
   "metadata": {},
   "source": [
    "## How to get IP address in Python - YouTube  \n",
    "[How to get IP address in Python - YouTube](https://www.youtube.com/watch?v=h-drFf4oU24&list=PLUY1lsOTtPeJIQkTG1BX8VU7fm7woUQhp&index=17)  \n",
    "  \n"
   ]
  },
  {
   "cell_type": "code",
   "execution_count": 1,
   "metadata": {},
   "outputs": [
    {
     "name": "stdout",
     "output_type": "stream",
     "text": [
      "freonpc\n",
      "freonpc\n",
      "192.168.1.101\n"
     ]
    }
   ],
   "source": [
    "import socket\n",
    "\n",
    "print(socket.gethostname())\n",
    "print(socket.getfqdn())\n",
    "print(socket.gethostbyname(socket.getfqdn()))\n"
   ]
  },
  {
   "cell_type": "markdown",
   "metadata": {},
   "source": [
    "## Open Folder in Windows Explorer using Python - YouTube  \n",
    "[Open Folder in Windows Explorer using Python - YouTube](https://www.youtube.com/watch?v=ROQoJrLZR98&list=PLUY1lsOTtPeJIQkTG1BX8VU7fm7woUQhp&index=18)  \n",
    "  \n"
   ]
  },
  {
   "cell_type": "code",
   "execution_count": 2,
   "metadata": {},
   "outputs": [],
   "source": [
    "import os\n",
    "\n",
    "# os.system('explorer')\n",
    "\n",
    "os.startfile(r\"D:\\mailCloud\\prjother\\017python\\b2222code\")\n"
   ]
  },
  {
   "cell_type": "markdown",
   "metadata": {},
   "source": [
    "## Python How to open PDF file from Hard Disk - YouTube  \n",
    "[Python How to open PDF file from Hard Disk - YouTube](https://www.youtube.com/watch?v=z34yS1RIdrA&list=PLUY1lsOTtPeJIQkTG1BX8VU7fm7woUQhp&index=19)  \n",
    "  \n"
   ]
  },
  {
   "cell_type": "code",
   "execution_count": 3,
   "metadata": {},
   "outputs": [],
   "source": [
    "import os\n",
    "\n",
    "\n",
    "os.startfile(r\"D:\\mailCloud\\prjother\\089hosts\\jnotebook\\pyoop\\b2124fpdf.pdf\")\n"
   ]
  },
  {
   "cell_type": "markdown",
   "metadata": {},
   "source": [
    "## How to Open text file in editor using Python - YouTube  \n",
    "[How to Open text file in editor using Python - YouTube](https://www.youtube.com/watch?v=inzEQ_UTDFY&list=PLUY1lsOTtPeJIQkTG1BX8VU7fm7woUQhp&index=20)  \n",
    "  \n"
   ]
  },
  {
   "cell_type": "code",
   "execution_count": 3,
   "metadata": {},
   "outputs": [
    {
     "data": {
      "text/plain": [
       "0"
      ]
     },
     "execution_count": 3,
     "metadata": {},
     "output_type": "execute_result"
    }
   ],
   "source": [
    "import subprocess\n",
    "\n",
    "# subprocess.call(['notepad', 'file.txt'])\n",
    "subprocess.call([r'C:\\Program Files\\Notepad++\\notepad++.exe', 'file.txt'])\n"
   ]
  },
  {
   "cell_type": "markdown",
   "metadata": {},
   "source": [
    "## Unit Testing Python Using doctest - YouTube  \n",
    "[Unit Testing Python Using doctest - YouTube](https://www.youtube.com/watch?v=L8EcFqpX-Lk&list=PLUY1lsOTtPeJIQkTG1BX8VU7fm7woUQhp&index=21)  \n",
    "  \n"
   ]
  },
  {
   "cell_type": "markdown",
   "metadata": {},
   "source": [
    "b2124test.txt\n",
    "```\n",
    ">>> 5 + 2\n",
    "9\n",
    ">>> 4 * 3\n",
    "10\n",
    "```"
   ]
  },
  {
   "cell_type": "markdown",
   "metadata": {},
   "source": [
    "```\n",
    "\n",
    "D:\\mailCloud\\prjother\\017python\\b2222code>python -m doctest b2124test.txt\n",
    "**********************************************************************\n",
    "File \"b2124test.txt\", line 1, in b2124test.txt\n",
    "Failed example:\n",
    "    5 + 2\n",
    "Expected:\n",
    "    9\n",
    "Got:\n",
    "    7\n",
    "**********************************************************************\n",
    "File \"b2124test.txt\", line 3, in b2124test.txt\n",
    "Failed example:\n",
    "    4 * 3\n",
    "Expected:\n",
    "    10\n",
    "Got:\n",
    "    12\n",
    "**********************************************************************\n",
    "1 items had failures:\n",
    "   2 of   2 in b2124test.txt\n",
    "***Test Failed*** 2 failures.```"
   ]
  },
  {
   "cell_type": "markdown",
   "metadata": {},
   "source": [
    "b2124test.py\n",
    "```\n",
    "def my_function(a, b):\n",
    "    '''\n",
    "    >>> my_function(2, 3)\n",
    "    6\n",
    "    >>> my_function('a', 3)\n",
    "    'aaa'\n",
    "    '''\n",
    "    return a * b\n",
    "\n",
    "```"
   ]
  },
  {
   "cell_type": "markdown",
   "metadata": {},
   "source": [
    "```\n",
    "\n",
    "D:\\mailCloud\\prjother\\017python\\b2222code>python -m doctest -v b2124test.py\n",
    "Trying:\n",
    "    my_function(2, 3)\n",
    "Expecting:\n",
    "    6\n",
    "ok\n",
    "Trying:\n",
    "    my_function('a', 3)\n",
    "Expecting:\n",
    "    'aaa'\n",
    "ok\n",
    "1 items had no tests:\n",
    "    b2124test\n",
    "1 items passed all tests:\n",
    "   2 tests in b2124test.my_function\n",
    "2 tests in 2 items.\n",
    "2 passed and 0 failed.\n",
    "Test passed.```"
   ]
  },
  {
   "cell_type": "code",
   "execution_count": 5,
   "metadata": {},
   "outputs": [
    {
     "name": "stdout",
     "output_type": "stream",
     "text": [
      "Trying:\n",
      "    my_function(2, 3)\n",
      "Expecting:\n",
      "    6\n",
      "ok\n",
      "Trying:\n",
      "    my_function('a', 3)\n",
      "Expecting:\n",
      "    'aaa'\n",
      "ok\n",
      "1 items had no tests:\n",
      "    b2124test\n",
      "1 items passed all tests:\n",
      "   2 tests in b2124test.my_function\n",
      "2 tests in 2 items.\n",
      "2 passed and 0 failed.\n",
      "Test passed.\n"
     ]
    }
   ],
   "source": [
    "!python -m doctest -v b2124test.py\n"
   ]
  },
  {
   "cell_type": "markdown",
   "metadata": {},
   "source": [
    "## How to Create Thread in Python - YouTube  \n",
    "[How to Create Thread in Python - YouTube](https://www.youtube.com/watch?v=WhtUuZLOo00&list=PLUY1lsOTtPeJIQkTG1BX8VU7fm7woUQhp&index=22)  \n",
    "  \n"
   ]
  },
  {
   "cell_type": "code",
   "execution_count": 6,
   "metadata": {},
   "outputs": [
    {
     "name": "stdout",
     "output_type": "stream",
     "text": [
      "Runner Thread No:  0\n",
      "Runner Thread No:  1\n",
      "Runner Thread No:  2\n",
      "Runner Thread No:  Runner Thread No:  4\n",
      "3\n",
      "Runner Thread No:  5\n",
      "Runner Thread No:  6\n",
      "Runner Thread No:  7\n",
      "Runner Thread No:  8\n",
      "Runner Thread No:  9\n"
     ]
    }
   ],
   "source": [
    "\n",
    "import threading\n",
    "\n",
    "def runner(num):\n",
    "    print(\"Runner Thread No: \", num)\n",
    "\n",
    "threads = []\n",
    "\n",
    "for i in range(10):\n",
    "    t = threading.Thread(target=runner, args=(i,))\n",
    "    threads.append(t)\n",
    "    t.start()\n",
    "\n"
   ]
  },
  {
   "cell_type": "markdown",
   "metadata": {},
   "source": [
    "## GUI Application with PySide - YouTube  \n",
    "[GUI Application with PySide - YouTube](https://www.youtube.com/watch?v=RbhLyXxzwuc&list=PLUY1lsOTtPeJIQkTG1BX8VU7fm7woUQhp&index=23)  \n",
    "  \n",
    "(QT?)  \n",
    "pip install -U PySide2"
   ]
  },
  {
   "cell_type": "code",
   "execution_count": 1,
   "metadata": {},
   "outputs": [
    {
     "ename": "SystemExit",
     "evalue": "",
     "output_type": "error",
     "traceback": [
      "An exception has occurred, use %tb to see the full traceback.\n",
      "\u001b[1;31mSystemExit\u001b[0m\n"
     ]
    },
    {
     "name": "stderr",
     "output_type": "stream",
     "text": [
      "c:\\python36\\lib\\site-packages\\IPython\\core\\interactiveshell.py:3351: UserWarning: To exit: use 'exit', 'quit', or Ctrl-D.\n",
      "  warn(\"To exit: use 'exit', 'quit', or Ctrl-D.\", stacklevel=1)\n"
     ]
    }
   ],
   "source": [
    "import sys\n",
    "from PySide2.QtWidgets import QApplication, QLabel\n",
    "\n",
    "app = QApplication(sys.argv)\n",
    "label = QLabel(\"111\")\n",
    "label.show()\n",
    "app.exec_()\n",
    "sys.exit()"
   ]
  },
  {
   "cell_type": "markdown",
   "metadata": {},
   "source": [
    "## Tkinter GUI Programming with Python - YouTube  \n",
    "[Tkinter GUI Programming with Python - YouTube](https://www.youtube.com/watch?v=YDcAHUZjHps&list=PLUY1lsOTtPeJIQkTG1BX8VU7fm7woUQhp&index=24)  \n",
    "  \n"
   ]
  },
  {
   "cell_type": "code",
   "execution_count": 2,
   "metadata": {},
   "outputs": [],
   "source": [
    "\n",
    "from tkinter import  *\n",
    "from tkinter import ttk\n",
    "root = Tk()\n",
    "ttk.Button(root, text= \"Hey It's TKinter\").grid()\n",
    "root.mainloop()\n"
   ]
  },
  {
   "cell_type": "markdown",
   "metadata": {},
   "source": [
    "## Convert Python Code to Executable with Py2exe - YouTube  \n",
    "[Convert Python Code to Executable with Py2exe - YouTube](https://www.youtube.com/watch?v=pAfmvm610Mk&list=PLUY1lsOTtPeJIQkTG1BX8VU7fm7woUQhp&index=25)  \n",
    "  \n",
    "pip install py2exe"
   ]
  },
  {
   "cell_type": "markdown",
   "metadata": {},
   "source": [
    "```\n",
    "# hello.py\n",
    "\n",
    "print(\"this is pe2exe demo program\")\n",
    "\n",
    "\n",
    "# setup.py\n",
    "\n",
    "from distutils.core import setup\n",
    "import py2exe\n",
    "\n",
    "setup(console=['hello.py'])\n",
    "\n",
    "# python setup.py py2exe\n",
    "\n",
    "```"
   ]
  },
  {
   "cell_type": "code",
   "execution_count": null,
   "metadata": {},
   "outputs": [],
   "source": []
  },
  {
   "cell_type": "markdown",
   "metadata": {},
   "source": [
    "## RSS Feedparser in Python - YouTube  \n",
    "[RSS Feedparser in Python - YouTube](https://www.youtube.com/watch?v=2WXTMr2zJOk&list=PLUY1lsOTtPeJIQkTG1BX8VU7fm7woUQhp&index=26)  \n",
    "  \n",
    "pip install feedparser"
   ]
  },
  {
   "cell_type": "code",
   "execution_count": null,
   "metadata": {},
   "outputs": [],
   "source": [
    "import feedparser\n",
    "\n",
    "d = feedparser.parse('http://wptavern.com/feed')\n",
    "\n",
    "k = 0\n",
    "for post in d[\"items\"]:\n",
    "    print(post.title + \" : \"+ post[\"link\"]+ \" \" + str(k) + \"\\n\")\n",
    "    k += 1\n"
   ]
  },
  {
   "cell_type": "markdown",
   "metadata": {},
   "source": [
    "## Parse JSON in Python - YouTube  \n",
    "[Parse JSON in Python - YouTube](https://www.youtube.com/watch?v=xZKTtSw92nM&list=PLUY1lsOTtPeJIQkTG1BX8VU7fm7woUQhp&index=27)  \n",
    "  \n"
   ]
  },
  {
   "cell_type": "code",
   "execution_count": null,
   "metadata": {},
   "outputs": [],
   "source": []
  },
  {
   "cell_type": "markdown",
   "metadata": {},
   "source": [
    "## Requests Module in Python - YouTube  \n",
    "[Requests Module in Python - YouTube](https://www.youtube.com/watch?v=i7f0O1eIjEg&list=PLUY1lsOTtPeJIQkTG1BX8VU7fm7woUQhp&index=28)  \n",
    "  \n"
   ]
  },
  {
   "cell_type": "code",
   "execution_count": null,
   "metadata": {},
   "outputs": [],
   "source": []
  },
  {
   "cell_type": "markdown",
   "metadata": {},
   "source": [
    "## Socket examples in Python - YouTube  \n",
    "[Socket examples in Python - YouTube](https://www.youtube.com/watch?v=Ic5XN9-fPhk&list=PLUY1lsOTtPeJIQkTG1BX8VU7fm7woUQhp&index=29)  \n",
    "  \n"
   ]
  },
  {
   "cell_type": "markdown",
   "metadata": {},
   "source": [
    "## Webbrowser Module in Python - YouTube  \n",
    "[Webbrowser Module in Python - YouTube](https://www.youtube.com/watch?v=ghiZREM4MGI&list=PLUY1lsOTtPeJIQkTG1BX8VU7fm7woUQhp&index=30)  \n",
    "  \n"
   ]
  },
  {
   "cell_type": "markdown",
   "metadata": {},
   "source": [
    "## Read CSV Files with Python - YouTube  \n",
    "[Read CSV Files with Python - YouTube](https://www.youtube.com/watch?v=LAfRZG3EF-8&list=PLUY1lsOTtPeJIQkTG1BX8VU7fm7woUQhp&index=31)  \n",
    "  \n"
   ]
  },
  {
   "cell_type": "markdown",
   "metadata": {},
   "source": [
    "## Create Excel file with Python and XlsxWriter - YouTube  \n",
    "[Create Excel file with Python and XlsxWriter - YouTube](https://www.youtube.com/watch?v=BnEiZSmo0KM&list=PLUY1lsOTtPeJIQkTG1BX8VU7fm7woUQhp&index=32)  \n",
    "  \n"
   ]
  },
  {
   "cell_type": "markdown",
   "metadata": {},
   "source": [
    "## Create Charts Graphs with Python Pygal - YouTube  \n",
    "[Create Charts Graphs with Python Pygal - YouTube](https://www.youtube.com/watch?v=aYySeuigRoU&list=PLUY1lsOTtPeJIQkTG1BX8VU7fm7woUQhp&index=33)  \n",
    "  \n"
   ]
  },
  {
   "cell_type": "markdown",
   "metadata": {},
   "source": [
    "## Create CSV File using Python List - YouTube  \n",
    "[Create CSV File using Python List - YouTube](https://www.youtube.com/watch?v=T8IJ59s8ZoE&list=PLUY1lsOTtPeJIQkTG1BX8VU7fm7woUQhp&index=34)  \n",
    "  \n"
   ]
  },
  {
   "cell_type": "markdown",
   "metadata": {},
   "source": [
    "## Scrape and Parse Wikipedia using Python - YouTube  \n",
    "[Scrape and Parse Wikipedia using Python - YouTube](https://www.youtube.com/watch?v=PJQo-8QiYXE&list=PLUY1lsOTtPeJIQkTG1BX8VU7fm7woUQhp&index=35)  \n",
    "  \n"
   ]
  },
  {
   "cell_type": "markdown",
   "metadata": {},
   "source": [
    "## Extract URLs from Web Page in Python - YouTube  \n",
    "[Extract URLs from Web Page in Python - YouTube](https://www.youtube.com/watch?v=vQycBZUFPlQ&list=PLUY1lsOTtPeJIQkTG1BX8VU7fm7woUQhp&index=36)  \n",
    "  \n"
   ]
  },
  {
   "cell_type": "markdown",
   "metadata": {},
   "source": [
    "## PySide 2D Graphics - YouTube  \n",
    "[PySide 2D Graphics - YouTube](https://www.youtube.com/watch?v=TEG-QhJ29HE&list=PLUY1lsOTtPeJIQkTG1BX8VU7fm7woUQhp&index=37)  \n",
    "  \n"
   ]
  },
  {
   "cell_type": "markdown",
   "metadata": {},
   "source": [
    "## Get Clipboard Data in Python - YouTube  \n",
    "[Get Clipboard Data in Python - YouTube](https://www.youtube.com/watch?v=4TFRp1chrqA&list=PLUY1lsOTtPeJIQkTG1BX8VU7fm7woUQhp&index=38)  \n",
    "  \n"
   ]
  },
  {
   "cell_type": "markdown",
   "metadata": {},
   "source": [
    "## PySide WebKit Browser using QWebView - YouTube  \n",
    "[PySide WebKit Browser using QWebView - YouTube](https://www.youtube.com/watch?v=-OcDrJ1uBf0&list=PLUY1lsOTtPeJIQkTG1BX8VU7fm7woUQhp&index=39)  \n",
    "  \n"
   ]
  },
  {
   "cell_type": "markdown",
   "metadata": {},
   "source": [
    "## Play Sound Files with PySide in Python - YouTube  \n",
    "[Play Sound Files with PySide in Python - YouTube](https://www.youtube.com/watch?v=9ib707Al8zE&list=PLUY1lsOTtPeJIQkTG1BX8VU7fm7woUQhp&index=40)  \n",
    "  \n"
   ]
  },
  {
   "cell_type": "markdown",
   "metadata": {},
   "source": [
    "## Python Exception Logging Module - YouTube  \n",
    "[Python Exception Logging Module - YouTube](https://www.youtube.com/watch?v=7jQEICc26EY&list=PLUY1lsOTtPeJIQkTG1BX8VU7fm7woUQhp&index=41)  \n",
    "  \n"
   ]
  },
  {
   "cell_type": "markdown",
   "metadata": {},
   "source": [
    "## CouchDB Database with Python - YouTube  \n",
    "[CouchDB Database with Python - YouTube](https://www.youtube.com/watch?v=WL4OtrXXJ0k&list=PLUY1lsOTtPeJIQkTG1BX8VU7fm7woUQhp&index=42)  \n",
    "  \n"
   ]
  },
  {
   "cell_type": "markdown",
   "metadata": {},
   "source": [
    "## Redis Database and Python - YouTube  \n",
    "[Redis Database and Python - YouTube](https://www.youtube.com/watch?v=CkwJjN0JhHo&list=PLUY1lsOTtPeJIQkTG1BX8VU7fm7woUQhp&index=43)  \n",
    "  \n"
   ]
  },
  {
   "cell_type": "markdown",
   "metadata": {},
   "source": [
    "## Python MongoDB using PyMongo - YouTube  \n",
    "[Python MongoDB using PyMongo - YouTube](https://www.youtube.com/watch?v=0pqTHfyu5SQ&list=PLUY1lsOTtPeJIQkTG1BX8VU7fm7woUQhp&index=44)  \n",
    "  \n"
   ]
  },
  {
   "cell_type": "markdown",
   "metadata": {},
   "source": [
    "## Python TinyDB Database Tutorial - YouTube  \n",
    "[Python TinyDB Database Tutorial - YouTube](https://www.youtube.com/watch?v=IlOMLRGN3F4&list=PLUY1lsOTtPeJIQkTG1BX8VU7fm7woUQhp&index=45)  \n",
    "  \n"
   ]
  },
  {
   "cell_type": "markdown",
   "metadata": {},
   "source": []
  },
  {
   "cell_type": "markdown",
   "metadata": {},
   "source": []
  },
  {
   "cell_type": "markdown",
   "metadata": {},
   "source": []
  },
  {
   "cell_type": "markdown",
   "metadata": {},
   "source": [
    "## Create PDF with Python ReportLab - YouTube  \n",
    "[Create PDF with Python ReportLab - YouTube](https://www.youtube.com/watch?v=tRl5Fji-g1s&list=PLUY1lsOTtPeJIQkTG1BX8VU7fm7woUQhp&index=46)  \n",
    "  \n",
    "## Python MkDocs Static Site Generator - YouTube  \n",
    "[Python MkDocs Static Site Generator - YouTube](https://www.youtube.com/watch?v=aXxt9OZNhnU&list=PLUY1lsOTtPeJIQkTG1BX8VU7fm7woUQhp&index=47)  \n",
    "  \n",
    "## Python URL Parse into Components - YouTube  \n",
    "[Python URL Parse into Components - YouTube](https://www.youtube.com/watch?v=a6WcU2BlmBE&list=PLUY1lsOTtPeJIQkTG1BX8VU7fm7woUQhp&index=48)  \n",
    "  \n",
    "## Python Create HTTP File Server - YouTube  \n",
    "[Python Create HTTP File Server - YouTube](https://www.youtube.com/watch?v=JT8gl6icU-k&list=PLUY1lsOTtPeJIQkTG1BX8VU7fm7woUQhp&index=49)  \n",
    "  \n",
    "## Python Flask Simple Example - YouTube  \n",
    "[Python Flask Simple Example - YouTube](https://www.youtube.com/watch?v=6PrtxCz3zDE&list=PLUY1lsOTtPeJIQkTG1BX8VU7fm7woUQhp&index=50)  \n",
    "  \n",
    "## Python Create Word Doc python docx - YouTube  \n",
    "[Python Create Word Doc python docx - YouTube](https://www.youtube.com/watch?v=oVhfTFV1oUk&list=PLUY1lsOTtPeJIQkTG1BX8VU7fm7woUQhp&index=51)  \n",
    "  \n",
    "## Python Urllib request Read CSV - YouTube  \n",
    "[Python Urllib request Read CSV - YouTube](https://www.youtube.com/watch?v=PwG7h2UF-5U&list=PLUY1lsOTtPeJIQkTG1BX8VU7fm7woUQhp&index=52)  \n",
    "  \n",
    "## Python Urllib Request Read Text File - YouTube  \n",
    "[Python Urllib Request Read Text File - YouTube](https://www.youtube.com/watch?v=9o2SSO8YDF8&list=PLUY1lsOTtPeJIQkTG1BX8VU7fm7woUQhp&index=53)  \n",
    "  \n",
    "## Python JSON to CSV conversion - YouTube  \n",
    "[Python JSON to CSV conversion - YouTube](https://www.youtube.com/watch?v=onn-zH7egR4&list=PLUY1lsOTtPeJIQkTG1BX8VU7fm7woUQhp&index=54)  \n",
    "  \n",
    "## Python Pyautogui Get Mouse Position - YouTube  \n",
    "[Python Pyautogui Get Mouse Position - YouTube](https://www.youtube.com/watch?v=-wq9ynRntic&list=PLUY1lsOTtPeJIQkTG1BX8VU7fm7woUQhp&index=55)  \n",
    "  \n",
    "## Python Pyautogui Get Screen Size - YouTube  \n",
    "[Python Pyautogui Get Screen Size - YouTube](https://www.youtube.com/watch?v=mOj3a45ZOt4&list=PLUY1lsOTtPeJIQkTG1BX8VU7fm7woUQhp&index=56)  \n",
    "  \n",
    "## Python PyAutoGui Message Boxes - YouTube  \n",
    "[Python PyAutoGui Message Boxes - YouTube](https://www.youtube.com/watch?v=HTDYv5Z4CX4&list=PLUY1lsOTtPeJIQkTG1BX8VU7fm7woUQhp&index=57)  \n",
    "  \n",
    "## Python Pyautogui Right Click Menu - YouTube  \n",
    "[Python Pyautogui Right Click Menu - YouTube](https://www.youtube.com/watch?v=JOJyNox_XGQ&list=PLUY1lsOTtPeJIQkTG1BX8VU7fm7woUQhp&index=58)  \n",
    "  \n",
    "## Python Pyautogui Take Screenshot - YouTube  \n",
    "[Python Pyautogui Take Screenshot - YouTube](https://www.youtube.com/watch?v=a6pHYIXqqSg&list=PLUY1lsOTtPeJIQkTG1BX8VU7fm7woUQhp&index=59)  \n",
    "  \n",
    "## Python pywinauto Windows GUI Automation - YouTube  \n",
    "[Python pywinauto Windows GUI Automation - YouTube](https://www.youtube.com/watch?v=mhNIHgJPP3g&list=PLUY1lsOTtPeJIQkTG1BX8VU7fm7woUQhp&index=60)  \n",
    "  \n",
    "## Python Get Redis Lists - YouTube  \n",
    "[Python Get Redis Lists - YouTube](https://www.youtube.com/watch?v=Zyqp4Hdxzwc&list=PLUY1lsOTtPeJIQkTG1BX8VU7fm7woUQhp&index=61)  \n",
    "  \n",
    "## Python Get Redis Sets - YouTube  \n",
    "[Python Get Redis Sets - YouTube](https://www.youtube.com/watch?v=ij_CivkVMvA&list=PLUY1lsOTtPeJIQkTG1BX8VU7fm7woUQhp&index=62)  \n",
    "  \n",
    "## Python Connect Read MySQL Database - YouTube  \n",
    "[Python Connect Read MySQL Database - YouTube](https://www.youtube.com/watch?v=GxSNmXOMlZg&list=PLUY1lsOTtPeJIQkTG1BX8VU7fm7woUQhp&index=63)  \n",
    "  \n",
    "## Python Remove Duplicates from Text File - YouTube  \n",
    "[Python Remove Duplicates from Text File - YouTube](https://www.youtube.com/watch?v=4hjtgn4_mJ4&list=PLUY1lsOTtPeJIQkTG1BX8VU7fm7woUQhp&index=64)  \n",
    "  \n",
    "## Python Count Words Characters in Text File - YouTube  \n",
    "[Python Count Words Characters in Text File - YouTube](https://www.youtube.com/watch?v=vpeMjyb9O_c&list=PLUY1lsOTtPeJIQkTG1BX8VU7fm7woUQhp&index=65)  \n",
    "  \n",
    "## Python Find Common Word in Text File - YouTube  \n",
    "[Python Find Common Word in Text File - YouTube](https://www.youtube.com/watch?v=whuAEsGL4lg&list=PLUY1lsOTtPeJIQkTG1BX8VU7fm7woUQhp&index=66)  \n",
    "  \n",
    "## Python Regex match search methods - YouTube  \n",
    "[Python Regex match search methods - YouTube](https://www.youtube.com/watch?v=Y96mebyUafk&list=PLUY1lsOTtPeJIQkTG1BX8VU7fm7woUQhp&index=67)  \n",
    "  \n",
    "## Python Pandoc File Format Conversion - YouTube  \n",
    "[Python Pandoc File Format Conversion - YouTube](https://www.youtube.com/watch?v=8Qiq1FwRJTs&list=PLUY1lsOTtPeJIQkTG1BX8VU7fm7woUQhp&index=68)  \n",
    "  \n",
    "## Selenium Python Regex Extract Phone Number - YouTube  \n",
    "[Selenium Python Regex Extract Phone Number - YouTube](https://www.youtube.com/watch?v=FU8qY3PjNgE&list=PLUY1lsOTtPeJIQkTG1BX8VU7fm7woUQhp&index=69)  \n",
    "  \n",
    "## Selenium Python Regex Extract Email - YouTube  \n",
    "[Selenium Python Regex Extract Email - YouTube](https://www.youtube.com/watch?v=YHIDYTu5ocA&list=PLUY1lsOTtPeJIQkTG1BX8VU7fm7woUQhp&index=70)  \n",
    "  \n",
    "## Cryptography Module Python - YouTube  \n",
    "[Cryptography Module Python - YouTube](https://www.youtube.com/watch?v=ttSgbUFYg9g&list=PLUY1lsOTtPeJIQkTG1BX8VU7fm7woUQhp&index=71)  \n",
    "  \n",
    "## Python 3 Create md5 Checksum of String - YouTube  \n",
    "[Python 3 Create md5 Checksum of String - YouTube](https://www.youtube.com/watch?v=G_Pj1GMe8ro&list=PLUY1lsOTtPeJIQkTG1BX8VU7fm7woUQhp&index=72)  \n",
    "  \n",
    "## Python 3 SHA256 Encryption of String - YouTube  \n",
    "[Python 3 SHA256 Encryption of String - YouTube](https://www.youtube.com/watch?v=5MKmuLGBwcs&list=PLUY1lsOTtPeJIQkTG1BX8VU7fm7woUQhp&index=73)  \n",
    "  \n",
    "## Python 3 Django Create New Project - YouTube  \n",
    "[Python 3 Django Create New Project - YouTube](https://www.youtube.com/watch?v=Wr6oY1YiN2A&list=PLUY1lsOTtPeJIQkTG1BX8VU7fm7woUQhp&index=74)  \n",
    "  \n",
    "## Python Django Installation on Windows - YouTube  \n",
    "[Python Django Installation on Windows - YouTube](https://www.youtube.com/watch?v=mU4ZVKleD4s&list=PLUY1lsOTtPeJIQkTG1BX8VU7fm7woUQhp&index=75)  \n",
    "  \n",
    "## Python Django Database Migration - YouTube  \n",
    "[Python Django Database Migration - YouTube](https://www.youtube.com/watch?v=YO3rFTJfkDI&list=PLUY1lsOTtPeJIQkTG1BX8VU7fm7woUQhp&index=76)  \n",
    "  \n",
    "## Python GZip Compress File - YouTube  \n",
    "[Python GZip Compress File - YouTube](https://www.youtube.com/watch?v=IlSHp793_iY&list=PLUY1lsOTtPeJIQkTG1BX8VU7fm7woUQhp&index=77)  \n",
    "  \n",
    "## Python 3 Openpyxl Append Values to Excel Spreadsheet - YouTube  \n",
    "[Python 3 Openpyxl Append Values to Excel Spreadsheet - YouTube](https://www.youtube.com/watch?v=_hCSYDl6_As&list=PLUY1lsOTtPeJIQkTG1BX8VU7fm7woUQhp&index=78)  \n",
    "  \n",
    "## Python OpenPyXL Create Excel File - YouTube  \n",
    "[Python OpenPyXL Create Excel File - YouTube](https://www.youtube.com/watch?v=cMgR7cAa_Y4&list=PLUY1lsOTtPeJIQkTG1BX8VU7fm7woUQhp&index=79)  \n",
    "  \n",
    "## Python 3 Openpyxl Insert and Remove Excel Worksheet - YouTube  \n",
    "[Python 3 Openpyxl Insert and Remove Excel Worksheet - YouTube](https://www.youtube.com/watch?v=q4YcySsXBWA&list=PLUY1lsOTtPeJIQkTG1BX8VU7fm7woUQhp&index=80)  \n",
    "  \n",
    "## Python OpenpyXL Display Multiple Cells on Command Prompt - YouTube  \n",
    "[Python OpenpyXL Display Multiple Cells on Command Prompt - YouTube](https://www.youtube.com/watch?v=RO5Uh3fPBnI&list=PLUY1lsOTtPeJIQkTG1BX8VU7fm7woUQhp&index=81)  \n",
    "  \n",
    "## Python 3 Openpyxl Read Cell Value - YouTube  \n",
    "[Python 3 Openpyxl Read Cell Value - YouTube](https://www.youtube.com/watch?v=lTy2hCxXaW4&list=PLUY1lsOTtPeJIQkTG1BX8VU7fm7woUQhp&index=82)  \n",
    "  \n",
    "## Python PostgreSQL Connect To PostgreSQL Database Server - YouTube  \n",
    "[Python PostgreSQL Connect To PostgreSQL Database Server - YouTube](https://www.youtube.com/watch?v=t5BBedSAWaQ&list=PLUY1lsOTtPeJIQkTG1BX8VU7fm7woUQhp&index=83)  \n",
    "  \n",
    "## Python PostgreSQL Database Select Query - YouTube  \n",
    "[Python PostgreSQL Database Select Query - YouTube](https://www.youtube.com/watch?v=BSBCTWX_wuQ&list=PLUY1lsOTtPeJIQkTG1BX8VU7fm7woUQhp&index=84)  \n",
    "  \n",
    "## Python PostgreSQL Database Insert Query - YouTube  \n",
    "[Python PostgreSQL Database Insert Query - YouTube](https://www.youtube.com/watch?v=ZTWjhSyOSRw&list=PLUY1lsOTtPeJIQkTG1BX8VU7fm7woUQhp&index=85)  \n",
    "  \n",
    "## Python Postgres Database DELETE Query - YouTube  \n",
    "[Python Postgres Database DELETE Query - YouTube](https://www.youtube.com/watch?v=y6xmoQAVEr0&list=PLUY1lsOTtPeJIQkTG1BX8VU7fm7woUQhp&index=86)  \n",
    "  \n",
    "## Python PostgreSQL UPDATE query - YouTube  \n",
    "[Python PostgreSQL UPDATE query - YouTube](https://www.youtube.com/watch?v=KS2whDJERIs&list=PLUY1lsOTtPeJIQkTG1BX8VU7fm7woUQhp&index=87)  \n",
    "  \n",
    "\n",
    "\n"
   ]
  },
  {
   "cell_type": "markdown",
   "metadata": {},
   "source": []
  }
 ],
 "metadata": {
  "kernelspec": {
   "display_name": "Python 3",
   "language": "python",
   "name": "python3"
  },
  "language_info": {
   "codemirror_mode": {
    "name": "ipython",
    "version": 3
   },
   "file_extension": ".py",
   "mimetype": "text/x-python",
   "name": "python",
   "nbconvert_exporter": "python",
   "pygments_lexer": "ipython3",
   "version": "3.7.8"
  }
 },
 "nbformat": 4,
 "nbformat_minor": 2
}
