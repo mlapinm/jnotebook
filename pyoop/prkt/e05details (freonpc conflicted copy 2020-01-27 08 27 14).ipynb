{
 "cells": [
  {
   "cell_type": "markdown",
   "metadata": {},
   "source": [
    "#### details"
   ]
  },
  {
   "cell_type": "code",
   "execution_count": 2,
   "metadata": {},
   "outputs": [
    {
     "name": "stdout",
     "output_type": "stream",
     "text": [
      "<details><pre>\n",
      "int List::makeType(char* chStr)\r\n",
      "{\r\n",
      "    int ret=0;\r\n",
      "    char chIn[18];\r\n",
      "    memcpy(chIn,chStr,12);\r\n",
      "    int k=0;\r\n",
      "    for(int i=0;i&lt;18;i++){\r\n",
      "        if(chIn[i]==0){\r\n",
      "            k=i;\r\n",
      "            break;\r\n",
      "        }\r\n",
      "    }\r\n",
      "    k = k&gt;17?17:k;\r\n",
      "    QTextCodec *codecChar1 = QTextCodec::codecForName( &quot;cp1251&quot; );\r\n",
      "    QString sBrd = codecChar1-&gt;toUnicode(chIn,k);\r\n",
      "\tQString strPsp,strPsp0,strPs5,strPsm,strPiu,strPvi;\r\n",
      "\tstrPsp=&quot;ПСП1&quot;;\r\n",
      "\tstrPsp0=&quot;ПСП&quot;;\t\t\t//5\r\n",
      "\tstrPs5=&quot;ПС5&quot;;\t\t\t//2\r\n",
      "\tstrPsm=&quot;ПСМ&quot;;\t\t\t//3\r\n",
      "\tstrPiu=&quot;ПИУ&quot;;\t\t\t//6\r\n",
      "\tstrPvi=&quot;ПВИ&quot;;\t\t\t//7\r\n",
      "    if(sBrd==strPsp)\r\n",
      "\t\tret = 1;\r\n",
      "    if(sBrd==strPs5)\r\n",
      "\t\tret = 2;\r\n",
      "    if(sBrd==strPsm)\r\n",
      "\t\tret = 3;\r\n",
      "    if(sBrd==strPsp0)\r\n",
      "\t\tret = 4;\r\n",
      "    if(sBrd==strPiu)\r\n",
      "\t\tret = 6;\r\n",
      "    if(sBrd==strPvi)\r\n",
      "\t\tret = 7;\r\n",
      "    qDebug()&lt;&lt;ret;\r\n",
      "\treturn ret;\r\n",
      "}\r\n",
      "</pre></details>\n"
     ]
    }
   ],
   "source": [
    "# import pandas as pd\n",
    "import codecs\n",
    "import clipboard\n",
    "\n",
    "st = \"\"\n",
    "with codecs.open(\"e05detr.txt\",\"r\",\"utf-8\") as fh :\n",
    "    st = fh.read();\n",
    "st = st.replace(\"<\",\"&lt;\")\n",
    "st = st.replace(\">\",\"&gt;\")\n",
    "st = st.replace(\"\\\"\",\"&quot;\")\n",
    "\n",
    "lst = st.split(\"\\n\")\n",
    "lst = [s for s in lst if len(s.strip())>0]\n",
    "lst2 = []\n",
    "lks = []\n",
    "for s in lst:\n",
    "    index=0\n",
    "    indexpr=0\n",
    "    quantity=0\n",
    "    first = 0\n",
    "    while 1:\n",
    "        index=s.find(' ',index)\n",
    "        if first == 0:\n",
    "            if index != 0:\n",
    "                break\n",
    "            first = 1\n",
    "        if index<0:\n",
    "            break\n",
    "#         print(index,indexpr)\n",
    "        if index-indexpr>1:\n",
    "            break\n",
    "        indexpr=index\n",
    "        quantity+=1\n",
    "        index+=1\n",
    "    if len(s)>0:\n",
    "        lst2.append(s)\n",
    "        lks.append(quantity)\n",
    "min=100\n",
    "for i in lks:\n",
    "    if min>i:\n",
    "        min=i\n",
    "\n",
    "lst3=[]\n",
    "for i in lst2:\n",
    "    \n",
    "    s = i[min:]\n",
    "    lst3.append(s)\n",
    "# print(lst3)\n",
    "# print(lst2)\n",
    "\n",
    "st = \"\\n\".join(lst3)\n",
    "st2 = \"<details><pre>\\n\"+st+\"\\n</pre></details>\"\n",
    "print(st2)\n",
    "\n",
    "with open(\"e05detw.txt\",\"w\") as fh :\n",
    "    fh.write(st2);\n",
    "clipboard.copy(st2)  \n",
    "# text = clipboard.paste() "
   ]
  },
  {
   "cell_type": "code",
   "execution_count": null,
   "metadata": {},
   "outputs": [],
   "source": []
  },
  {
   "cell_type": "code",
   "execution_count": 47,
   "metadata": {},
   "outputs": [
    {
     "ename": "ModuleNotFoundError",
     "evalue": "No module named 'clipboard'",
     "output_type": "error",
     "traceback": [
      "\u001b[1;31m---------------------------------------------------------------------------\u001b[0m",
      "\u001b[1;31mModuleNotFoundError\u001b[0m                       Traceback (most recent call last)",
      "\u001b[1;32m<ipython-input-47-783e1baaac69>\u001b[0m in \u001b[0;36m<module>\u001b[1;34m\u001b[0m\n\u001b[1;32m----> 1\u001b[1;33m \u001b[1;32mimport\u001b[0m \u001b[0mclipboard\u001b[0m\u001b[1;33m\u001b[0m\u001b[1;33m\u001b[0m\u001b[0m\n\u001b[0m\u001b[0;32m      2\u001b[0m \u001b[0mclipboard\u001b[0m\u001b[1;33m.\u001b[0m\u001b[0mcopy\u001b[0m\u001b[1;33m(\u001b[0m\u001b[1;34m\"abc\"\u001b[0m\u001b[1;33m)\u001b[0m  \u001b[1;31m# now the clipboard content will be string \"abc\"\u001b[0m\u001b[1;33m\u001b[0m\u001b[1;33m\u001b[0m\u001b[0m\n\u001b[0;32m      3\u001b[0m \u001b[0mtext\u001b[0m \u001b[1;33m=\u001b[0m \u001b[0mclipboard\u001b[0m\u001b[1;33m.\u001b[0m\u001b[0mpaste\u001b[0m\u001b[1;33m(\u001b[0m\u001b[1;33m)\u001b[0m  \u001b[1;31m# text will have the content of clipboard\u001b[0m\u001b[1;33m\u001b[0m\u001b[1;33m\u001b[0m\u001b[0m\n",
      "\u001b[1;31mModuleNotFoundError\u001b[0m: No module named 'clipboard'"
     ]
    }
   ],
   "source": [
    "import clipboard\n",
    "clipboard.copy(\"abc\")  # now the clipboard content will be string \"abc\"\n",
    "text = clipboard.paste()  # text will have the content of clipboard"
   ]
  },
  {
   "cell_type": "code",
   "execution_count": 49,
   "metadata": {},
   "outputs": [
    {
     "data": {
      "text/plain": [
       "255"
      ]
     },
     "execution_count": 49,
     "metadata": {},
     "output_type": "execute_result"
    }
   ],
   "source": [
    "import os \n",
    "data = \"hello world\"\n",
    "os.system(\"echo '%s' | pbcopy\" % data)"
   ]
  },
  {
   "cell_type": "code",
   "execution_count": 51,
   "metadata": {},
   "outputs": [
    {
     "data": {
      "text/plain": [
       "0"
      ]
     },
     "execution_count": 51,
     "metadata": {},
     "output_type": "execute_result"
    }
   ],
   "source": [
    "import subprocess\n",
    "\n",
    "def copy2clip(txt):\n",
    "    cmd='echo '+txt.strip()+'|clip'\n",
    "    return subprocess.check_call(cmd, shell=True)\n",
    "copy2clip('This is on my clipboard!')\n"
   ]
  },
  {
   "cell_type": "code",
   "execution_count": 9,
   "metadata": {},
   "outputs": [],
   "source": [
    "import pandas as pd\n",
    "st2 ='Text to\\r\\n copy'\n",
    "df=pd.DataFrame({st2})\n",
    "df.to_clipboard(index=False,excel=True,header=False)"
   ]
  },
  {
   "cell_type": "code",
   "execution_count": 14,
   "metadata": {},
   "outputs": [],
   "source": [
    "#pip install clipboard\n",
    "import clipboard\n",
    "st2 ='Text to\\r\\n copy'\n",
    "clipboard.copy(st2)  \n",
    "text = clipboard.paste() "
   ]
  },
  {
   "cell_type": "markdown",
   "metadata": {},
   "source": [
    "Text to\n",
    " copy\n"
   ]
  }
 ],
 "metadata": {
  "kernelspec": {
   "display_name": "Python 3",
   "language": "python",
   "name": "python3"
  },
  "language_info": {
   "codemirror_mode": {
    "name": "ipython",
    "version": 3
   },
   "file_extension": ".py",
   "mimetype": "text/x-python",
   "name": "python",
   "nbconvert_exporter": "python",
   "pygments_lexer": "ipython3",
   "version": "3.7.4"
  }
 },
 "nbformat": 4,
 "nbformat_minor": 2
}
