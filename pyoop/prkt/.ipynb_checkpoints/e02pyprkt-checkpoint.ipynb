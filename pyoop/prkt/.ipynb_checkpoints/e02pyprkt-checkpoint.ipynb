{
 "cells": [
  {
   "cell_type": "markdown",
   "metadata": {},
   "source": [
    "#### e01catsits01.py"
   ]
  },
  {
   "cell_type": "markdown",
   "metadata": {},
   "source": [
    "#### почитать имеющуюсю таблицу e01tab.html\n",
    "записать содержимое в список l и в файл e02tab.txt"
   ]
  },
  {
   "cell_type": "code",
   "execution_count": 47,
   "metadata": {},
   "outputs": [
    {
     "name": "stdout",
     "output_type": "stream",
     "text": [
      "30 [<td>01</td>, <td>11</td>, <td>21</td>, <td>31</td>, <td>41</td>, <td>51</td>, <td>61</td>, <td>71</td>, <td>81</td>, <td>91</td>, <td>05</td>, <td>15</td>, <td>25</td>, <td>35</td>, <td>45</td>, <td>55</td>, <td>65</td>, <td>75</td>, <td>85</td>, <td>95</td>, <td>03</td>, <td>13</td>, <td>23</td>, <td>33</td>, <td>43</td>, <td>53</td>, <td>63</td>, <td>73</td>, <td>83</td>, <td>93</td>]\n"
     ]
    }
   ],
   "source": [
    "from bs4 import BeautifulSoup\n",
    "\n",
    "numColumn=3\n",
    "\n",
    "c = ''\n",
    "with open('e01emtab2.html','r') as f:\n",
    "    c = f.read()\n",
    "soup = BeautifulSoup(c,'lxml')\n",
    "ltr = soup.findAll('tr')\n",
    "ltd = soup.findAll('td')\n",
    "ntr=len(ltr)\n",
    "ll = []\n",
    "for j in range(numColumn):\n",
    "    for i in range(len(ltd)):\n",
    "        if (i+2*j)%(numColumn*2) == 0:\n",
    "            ll.append(ltd[i])\n",
    "print(len(ll),ll)"
   ]
  },
  {
   "cell_type": "code",
   "execution_count": null,
   "metadata": {},
   "outputs": [],
   "source": []
  },
  {
   "cell_type": "code",
   "execution_count": null,
   "metadata": {},
   "outputs": [],
   "source": []
  },
  {
   "cell_type": "code",
   "execution_count": null,
   "metadata": {},
   "outputs": [],
   "source": []
  },
  {
   "cell_type": "code",
   "execution_count": null,
   "metadata": {},
   "outputs": [],
   "source": []
  },
  {
   "cell_type": "markdown",
   "metadata": {},
   "source": [
    "#### Подготовка\n",
    "**10 - e01e01.html - e01e10.html**  \n",
    "делаем из e01empty.html  "
   ]
  },
  {
   "cell_type": "code",
   "execution_count": 24,
   "metadata": {},
   "outputs": [
    {
     "name": "stdout",
     "output_type": "stream",
     "text": [
      "['e01e01.html', 'e01e02.html', 'e01e03.html', 'e01e04.html', 'e01e06.html', 'e01e07.html', 'e01e08.html', 'e01e09.html', 'e01e10.html']\n"
     ]
    }
   ],
   "source": [
    "import shutil\n",
    "\n",
    "paths_to = []\n",
    "for i in range(1,11):\n",
    "    stn = str(i)\n",
    "    stn = f'0{stn}' if len(stn)==1 else stn\n",
    "    st = f'e01e{stn}'\n",
    "    st += '.html'\n",
    "    paths_to.append(st)\n",
    "\n",
    "paths_to.remove(paths_to[4])\n",
    "print(paths_to)\n",
    "\n",
    "for i in paths_to:\n",
    "    shutil.copy2('e01empty2.html',i)"
   ]
  },
  {
   "cell_type": "code",
   "execution_count": null,
   "metadata": {},
   "outputs": [],
   "source": []
  }
 ],
 "metadata": {
  "kernelspec": {
   "display_name": "Python 3",
   "language": "python",
   "name": "python3"
  },
  "language_info": {
   "codemirror_mode": {
    "name": "ipython",
    "version": 3
   },
   "file_extension": ".py",
   "mimetype": "text/x-python",
   "name": "python",
   "nbconvert_exporter": "python",
   "pygments_lexer": "ipython3",
   "version": "3.7.4"
  }
 },
 "nbformat": 4,
 "nbformat_minor": 2
}
