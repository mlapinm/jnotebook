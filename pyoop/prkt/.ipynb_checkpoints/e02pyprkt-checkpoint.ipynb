{
 "cells": [
  {
   "cell_type": "markdown",
   "metadata": {},
   "source": [
    "#### e01catsits01.py"
   ]
  },
  {
   "cell_type": "markdown",
   "metadata": {},
   "source": []
  },
  {
   "cell_type": "code",
   "execution_count": null,
   "metadata": {},
   "outputs": [],
   "source": []
  },
  {
   "cell_type": "markdown",
   "metadata": {},
   "source": [
    "#### рабочий делает набор ссылок из"
   ]
  },
  {
   "cell_type": "code",
   "execution_count": 26,
   "metadata": {},
   "outputs": [
    {
     "name": "stdout",
     "output_type": "stream",
     "text": [
      "<a href=\"d21pyprk.html\">d21pyprk.html</a>\n",
      "<a href=\"e01e01.html\">e01e01.html</a>\n",
      "<a href=\"e01e02.html\">e01e02.html</a>\n",
      "<a href=\"e01e03.html\">e01e03.html</a>\n",
      "<a href=\"e01e04.html\">e01e04.html</a>\n",
      "<a href=\"e01e06.html\">e01e06.html</a>\n",
      "<a href=\"e01e07.html\">e01e07.html</a>\n",
      "<a href=\"e01e08.html\">e01e08.html</a>\n",
      "<a href=\"e01e09.html\">e01e09.html</a>\n",
      "<a href=\"e01e10.html\">e01e10.html</a>\n",
      "<a href=\"e01emtab2.html\">e01emtab2.html</a>\n"
     ]
    }
   ],
   "source": [
    "import os\n",
    "def set_dir():\n",
    "    '''\n",
    "    возвращает набор ссылок \n",
    "    из *.html файлов директория\n",
    "    '''\n",
    "    st = ''\n",
    "    listDir = os.listdir()\n",
    "    listDirHtml = []\n",
    "    for i in listDir:\n",
    "        if i.find('html')>=0:\n",
    "            listDirHtml.append(i)\n",
    "    la = [f'<a href=\"{i}\">{i}</a>' for i in listDirHtml]        \n",
    "    st = '\\n'.join(la)\n",
    "    return st\n",
    "\n",
    "st = set_dir()\n",
    "print(st)"
   ]
  },
  {
   "cell_type": "code",
   "execution_count": 152,
   "metadata": {},
   "outputs": [
    {
     "name": "stdout",
     "output_type": "stream",
     "text": [
      "<table>\n",
      "    <tr>\n",
      "      <td><a href=\"d21pyprk.html\">d21pyprk.html</a><td>\n",
      "      <td><td>\n",
      "      <td><a href=\"e01e04.html\">e01e04.html</a><td>\n",
      "      <td><td>\n",
      "      <td><a href=\"e01e09.html\">e01e09.html</a><td>\n",
      "      <td><td>\n",
      "   </tr>\n",
      "    <tr>\n",
      "      <td><a href=\"e01e01.html\">e01e01.html</a><td>\n",
      "      <td><td>\n",
      "      <td><a href=\"e01e06.html\">e01e06.html</a><td>\n",
      "      <td><td>\n",
      "      <td><a href=\"e01e10.html\">e01e10.html</a><td>\n",
      "      <td><td>\n",
      "   </tr>\n",
      "    <tr>\n",
      "      <td><a href=\"e01e02.html\">e01e02.html</a><td>\n",
      "      <td><td>\n",
      "      <td><a href=\"e01e07.html\">e01e07.html</a><td>\n",
      "      <td><td>\n",
      "      <td><a href=\"e01emtab2.html\">e01emtab2.html</a><td>\n",
      "      <td><td>\n",
      "   </tr>\n",
      "    <tr>\n",
      "      <td><a href=\"e01e03.html\">e01e03.html</a><td>\n",
      "      <td><td>\n",
      "      <td><a href=\"e01e08.html\">e01e08.html</a><td>\n",
      "      <td><td>\n",
      "      <td><td>\n",
      "      <td><td>\n",
      "   </tr>\n",
      "</table>\n"
     ]
    }
   ],
   "source": [
    "\n",
    "def set_table(s):\n",
    "    '''\n",
    "    возвращает таблицу 6x(num/3)\n",
    "    принимает строки\n",
    "    '''\n",
    "    st = ''\n",
    "    l = s.split('\\n')\n",
    "    nl = len(l)\n",
    "    nr = (nl+2)//3\n",
    "    nt = 3\n",
    "    lr = []\n",
    "    lt = []\n",
    "    l2 = [['' for j in range(nt)] for i in range(nr)]\n",
    "    k=0\n",
    "    for i in range(nt):\n",
    "        for j in range(nr):\n",
    "            if(k>=len(l)):\n",
    "                break\n",
    "            l2[j][i]=l[k]\n",
    "            k+=1\n",
    "#     print(l2)\n",
    "    st = \"\"\n",
    "    for i in l2:\n",
    "        s2=''\n",
    "        for j in i:\n",
    "            s3=''\n",
    "            if j!='':\n",
    "                s3 = f'<a href=\"{j}\">{j}</a>'\n",
    "                s3 = j\n",
    "            s2 += f'      <td>{s3}<td>\\n'\n",
    "            s2 += f'      <td><td>\\n'\n",
    "            \n",
    "        s4 = s2.rstrip()   \n",
    "        st += f'    <tr>\\n{s4}\\n   </tr>'\n",
    "        st += '\\n'\n",
    "    st = '<table>\\n'+ st +'</table>'\n",
    "    return st.strip()\n",
    "\n",
    "s = '\\n'.join([str(i) for i in range(1,5)])\n",
    "\n",
    "s = '''<a href=\"d21pyprk.html\">d21pyprk.html</a>\n",
    "<a href=\"e01e01.html\">e01e01.html</a>\n",
    "<a href=\"e01e02.html\">e01e02.html</a>\n",
    "<a href=\"e01e03.html\">e01e03.html</a>\n",
    "<a href=\"e01e04.html\">e01e04.html</a>\n",
    "<a href=\"e01e06.html\">e01e06.html</a>\n",
    "<a href=\"e01e07.html\">e01e07.html</a>\n",
    "<a href=\"e01e08.html\">e01e08.html</a>\n",
    "<a href=\"e01e09.html\">e01e09.html</a>\n",
    "<a href=\"e01e10.html\">e01e10.html</a>\n",
    "<a href=\"e01emtab2.html\">e01emtab2.html</a>'''\n",
    "\n",
    "\n",
    "\n",
    "st = set_table(s)\n",
    "print(st)"
   ]
  },
  {
   "cell_type": "code",
   "execution_count": 155,
   "metadata": {},
   "outputs": [],
   "source": [
    "shtml1='''<!DOCTYPE html>\n",
    "<html lang=\"en\">\n",
    "<head>\n",
    "\t<meta charset=\"UTF-8\">\n",
    "\t<title>Document</title>\n",
    "</head>\n",
    "<body>\n",
    "'''\n",
    "shtml2='''\n",
    "</body>\n",
    "</html>\n",
    "'''"
   ]
  },
  {
   "cell_type": "code",
   "execution_count": 158,
   "metadata": {},
   "outputs": [],
   "source": [
    "st = set_dir()\n",
    "st = set_table(st)\n",
    "st = shtml1 + st +shtml2\n",
    "with open('e01.html', 'w') as fh:\n",
    "    fh.write(st)"
   ]
  },
  {
   "cell_type": "code",
   "execution_count": null,
   "metadata": {},
   "outputs": [],
   "source": []
  },
  {
   "cell_type": "code",
   "execution_count": null,
   "metadata": {},
   "outputs": [],
   "source": []
  }
 ],
 "metadata": {
  "kernelspec": {
   "display_name": "Python 3",
   "language": "python",
   "name": "python3"
  },
  "language_info": {
   "codemirror_mode": {
    "name": "ipython",
    "version": 3
   },
   "file_extension": ".py",
   "mimetype": "text/x-python",
   "name": "python",
   "nbconvert_exporter": "python",
   "pygments_lexer": "ipython3",
   "version": "3.7.4"
  }
 },
 "nbformat": 4,
 "nbformat_minor": 2
}
