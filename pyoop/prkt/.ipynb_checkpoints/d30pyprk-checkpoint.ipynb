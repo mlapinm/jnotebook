{
 "cells": [
  {
   "cell_type": "markdown",
   "metadata": {},
   "source": [
    "[py030 Питон словари](#py030-Питон-словари)   \n",
    "[py031 Питон графические примитивы](#py031-Питон-графические-примитивы)   \n",
    "[py032 Обработка событий канвы](#py032-Обработка-событий-канвы)   \n",
    "[py033 Питон перемещение объекта по Канве](#py033-Питон-перемещение-объекта-по-Канве)   \n",
    "[py034 Обработка даты и времени](#py034-Обработка-даты-и-времени)   \n",
    "[py035 Сжатие по Хаффману](#py035-Сжатие-по-Хаффману)   \n",
    "[py036 Новогодняя елка](#py036-Новогодняя-елка)   \n",
    "[py037 Простые средства отладки программ](#py037-Простые-средства-отладки-программ)   \n",
    "[py038 игра пинг-понг](#py038-игра-пинг-понг)   \n",
    "[py039 добавляем звук](#py039-добавляем-звук)   \n"
   ]
  },
  {
   "cell_type": "markdown",
   "metadata": {},
   "source": [
    "#### py030 Питон словари"
   ]
  },
  {
   "cell_type": "code",
   "execution_count": 1,
   "metadata": {},
   "outputs": [
    {
     "name": "stdout",
     "output_type": "stream",
     "text": [
      "6 <class 'dict'> {'olia': 13, 'misha': 12, 'sasha': 13, 'petia': 14, 'jenia': 13, 'boris': 12}\n",
      "['__class__', '__contains__', '__delattr__', '__delitem__', '__dir__', '__doc__', '__eq__', '__format__', '__ge__', '__getattribute__', '__getitem__', '__gt__', '__hash__', '__init__', '__init_subclass__', '__iter__', '__le__', '__len__', '__lt__', '__ne__', '__new__', '__reduce__', '__reduce_ex__', '__repr__', '__setattr__', '__setitem__', '__sizeof__', '__str__', '__subclasshook__', 'clear', 'copy', 'fromkeys', 'get', 'items', 'keys', 'pop', 'popitem', 'setdefault', 'update', 'values']\n"
     ]
    }
   ],
   "source": [
    "# item = key:value\n",
    "dcp = {'olia':13, 'misha':12, 'sasha':13, \n",
    "       'petia':14, 'jenia':13, 'boris':12,}\n",
    "print(len(dcp), type(dcp), dcp)\n",
    "print(dir(dcp))"
   ]
  },
  {
   "cell_type": "code",
   "execution_count": 2,
   "metadata": {},
   "outputs": [
    {
     "name": "stdout",
     "output_type": "stream",
     "text": [
      "dict_keys(['olia', 'misha', 'sasha', 'petia', 'jenia', 'boris'])\n",
      "dict_values([13, 12, 13, 14, 13, 12])\n",
      "dict_items([('olia', 13), ('misha', 12), ('sasha', 13), ('petia', 14), ('jenia', 13), ('boris', 12)])\n"
     ]
    }
   ],
   "source": [
    "print(dcp.keys())\n",
    "print(dcp.values())\n",
    "print(dcp.items())\n"
   ]
  },
  {
   "cell_type": "code",
   "execution_count": 3,
   "metadata": {},
   "outputs": [
    {
     "name": "stdout",
     "output_type": "stream",
     "text": [
      "Help on built-in function pop:\n",
      "\n",
      "pop(...) method of builtins.dict instance\n",
      "    D.pop(k[,d]) -> v, remove specified key and return the corresponding value.\n",
      "    If key is not found, d is returned if given, otherwise KeyError is raised\n",
      "\n"
     ]
    }
   ],
   "source": [
    "help(dcp.pop)"
   ]
  },
  {
   "cell_type": "code",
   "execution_count": 4,
   "metadata": {},
   "outputs": [
    {
     "name": "stdout",
     "output_type": "stream",
     "text": [
      "'oo'\n"
     ]
    }
   ],
   "source": [
    "try:\n",
    "    dcp.pop('oo')\n",
    "except Exception as e:\n",
    "    print(str(e))"
   ]
  },
  {
   "cell_type": "code",
   "execution_count": 5,
   "metadata": {},
   "outputs": [
    {
     "name": "stdout",
     "output_type": "stream",
     "text": [
      "{'olia': 13, 'misha': 12, 'sasha': 13, 'petia': 14, 'jenia': 13, 'boris': 12}\n",
      "{'misha': 12, 'sasha': 13, 'petia': 14, 'jenia': 13, 'boris': 12}\n"
     ]
    }
   ],
   "source": [
    "dcp = {'olia':13, 'misha':12, 'sasha':13, \n",
    "       'petia':14, 'jenia':13, 'boris':12,}\n",
    "print(dcp)\n",
    "dcp.pop('olia')\n",
    "print(dcp)\n"
   ]
  },
  {
   "cell_type": "code",
   "execution_count": 6,
   "metadata": {},
   "outputs": [
    {
     "name": "stdout",
     "output_type": "stream",
     "text": [
      "{'olia': 13, 'misha': 12, 'sasha': 13, 'petia': 14, 'jenia': 13, 'boris': 12}\n",
      "{'olia': 13, 'misha': 12, 'sasha': 13, 'petia': 14, 'jenia': 13, 'boris': 12, 'vitia': 15}\n",
      "{'olia': 13, 'misha': 12, 'sasha': 13, 'petia': 14, 'jenia': 13, 'boris': 12}\n"
     ]
    }
   ],
   "source": [
    "dcp = {'olia':13, 'misha':12, 'sasha':13, \n",
    "       'petia':14, 'jenia':13, 'boris':12,}\n",
    "print(dcp)\n",
    "dcp['vitia']=15\n",
    "dcp['vitia']=15\n",
    "print(dcp)\n",
    "del dcp['vitia']\n",
    "print(dcp)"
   ]
  },
  {
   "cell_type": "code",
   "execution_count": 7,
   "metadata": {},
   "outputs": [
    {
     "name": "stdout",
     "output_type": "stream",
     "text": [
      "{13: ['olia', 'sasha', 'jenia'], 12: ['misha', 'boris'], 14: ['petia']} dict_keys([13, 12, 14]) dict_values([['olia', 'sasha', 'jenia'], ['misha', 'boris'], ['petia']])\n"
     ]
    }
   ],
   "source": [
    "# список по возрастам\n",
    "def frev(dc):\n",
    "    dcr = {}\n",
    "    for k,v in dc.items():\n",
    "        if not v in dcr: \n",
    "            dcr[v]=[]\n",
    "        dcr[v].append(k)\n",
    "    return dcr\n",
    "dcr = frev(dcp)\n",
    "print(dcr,dcr.keys(),dcr.values())"
   ]
  },
  {
   "cell_type": "code",
   "execution_count": 8,
   "metadata": {},
   "outputs": [
    {
     "name": "stdout",
     "output_type": "stream",
     "text": [
      "False True\n"
     ]
    }
   ],
   "source": [
    "b1= 'bob' in dcp\n",
    "b2= 'misha' in dcp\n",
    "print(b1,b2)"
   ]
  },
  {
   "cell_type": "code",
   "execution_count": 9,
   "metadata": {},
   "outputs": [
    {
     "name": "stdout",
     "output_type": "stream",
     "text": [
      "olia -- 13\n",
      "misha -- 12\n",
      "sasha -- 13\n",
      "petia -- 14\n",
      "jenia -- 13\n",
      "boris -- 12\n"
     ]
    }
   ],
   "source": [
    "for k in dcp:\n",
    "    print(f'{k} -- {dcp[k]}')"
   ]
  },
  {
   "cell_type": "code",
   "execution_count": 10,
   "metadata": {},
   "outputs": [
    {
     "name": "stdout",
     "output_type": "stream",
     "text": [
      "{'w': 1, 'e': 1, ' ': 2, 's': 1, 't': 2, 'u': 1, 'd': 2, 'y': 2, 'i': 2, 'c': 1, 'o': 1, 'n': 1, 'a': 1, 'r': 1}\n"
     ]
    }
   ],
   "source": [
    "#частота символов в строке\n",
    "st = 'we study dictionary'\n",
    "def ffreq(st):\n",
    "    dcf={}\n",
    "    for i in st:\n",
    "        if not i in dcf:\n",
    "            dcf[i]=0\n",
    "        k = dcf[i] + 1\n",
    "        dcf[i]=k\n",
    "    return dcf\n",
    "dcf = ffreq(st)\n",
    "print(dcf)"
   ]
  },
  {
   "cell_type": "code",
   "execution_count": 11,
   "metadata": {},
   "outputs": [
    {
     "ename": "TypeError",
     "evalue": "sorted expected 1 arguments, got 2",
     "output_type": "error",
     "traceback": [
      "\u001b[1;31m---------------------------------------------------------------------------\u001b[0m",
      "\u001b[1;31mTypeError\u001b[0m                                 Traceback (most recent call last)",
      "\u001b[1;32m<ipython-input-11-d5c65480972f>\u001b[0m in \u001b[0;36m<module>\u001b[1;34m\u001b[0m\n\u001b[0;32m      4\u001b[0m     \u001b[1;32mif\u001b[0m \u001b[0ma\u001b[0m\u001b[1;33m[\u001b[0m\u001b[1;36m1\u001b[0m\u001b[1;33m]\u001b[0m \u001b[1;33m<\u001b[0m \u001b[0mb\u001b[0m\u001b[1;33m[\u001b[0m\u001b[1;36m1\u001b[0m\u001b[1;33m]\u001b[0m\u001b[1;33m:\u001b[0m \u001b[1;32mreturn\u001b[0m \u001b[1;33m-\u001b[0m\u001b[1;36m1\u001b[0m\u001b[1;33m\u001b[0m\u001b[1;33m\u001b[0m\u001b[0m\n\u001b[0;32m      5\u001b[0m     \u001b[1;32mreturn\u001b[0m \u001b[1;36m0\u001b[0m\u001b[1;33m\u001b[0m\u001b[1;33m\u001b[0m\u001b[0m\n\u001b[1;32m----> 6\u001b[1;33m \u001b[0mls2\u001b[0m\u001b[1;33m=\u001b[0m\u001b[0msorted\u001b[0m\u001b[1;33m(\u001b[0m\u001b[0mls\u001b[0m\u001b[1;33m,\u001b[0m\u001b[0mfcmp\u001b[0m\u001b[1;33m)\u001b[0m\u001b[1;33m\u001b[0m\u001b[1;33m\u001b[0m\u001b[0m\n\u001b[0m\u001b[0;32m      7\u001b[0m \u001b[0mprint\u001b[0m\u001b[1;33m(\u001b[0m\u001b[0mls2\u001b[0m\u001b[1;33m)\u001b[0m\u001b[1;33m\u001b[0m\u001b[1;33m\u001b[0m\u001b[0m\n",
      "\u001b[1;31mTypeError\u001b[0m: sorted expected 1 arguments, got 2"
     ]
    }
   ],
   "source": [
    "ls = dcf.items()\n",
    "def fcmp(a,b):\n",
    "    if a[1] > b[1]: return 1\n",
    "    if a[1] < b[1]: return -1\n",
    "    return 0\n",
    "ls2=sorted(ls,fcmp)\n",
    "print(ls2)"
   ]
  },
  {
   "cell_type": "code",
   "execution_count": null,
   "metadata": {},
   "outputs": [],
   "source": [
    "ls = dcf.items()\n",
    "def fcmp1(a):\n",
    "    return -a[1]\n",
    "ls2=sorted(ls,key=fcmp1)\n",
    "print(ls2)"
   ]
  },
  {
   "cell_type": "markdown",
   "metadata": {},
   "source": [
    "#### py031 Питон графические примитивы"
   ]
  },
  {
   "cell_type": "code",
   "execution_count": null,
   "metadata": {},
   "outputs": [],
   "source": [
    "import tkinter\n",
    "l = dir(tkinter)\n",
    "print(l)"
   ]
  },
  {
   "cell_type": "code",
   "execution_count": null,
   "metadata": {},
   "outputs": [],
   "source": [
    "from tkinter import *\n",
    "from random import randint\n",
    "\n",
    "root = Tk()\n",
    "\n",
    "canv = Canvas(root, width=600, height=600)\n",
    "\n",
    "colors = ['red', 'green', 'yellow', 'lime',\n",
    "          'pink', 'magenta', '#B80CF2', '#F2450C']\n",
    "\n",
    "def func(event):\n",
    "    num = randint(1, len(colors))\n",
    "    cl = colors[num-1]\n",
    "    wd = randint(20,60)\n",
    "    ht = randint(20,60)\n",
    "    x = event.x\n",
    "    y = event.y\n",
    "    #circle = canv.create_oval(x,y,x + wd,y+ht,\n",
    "#     fill=cl, outline = 'black')\n",
    "    rect = canv.create_rectangle(x,y,x+wd,y+ht,\n",
    "                fill=cl, outline='black')\n",
    "\n",
    "canv.bind('<Button-1>', func)\n",
    "\n",
    "canv.pack()\n",
    "\n",
    "canv.mainloop()"
   ]
  },
  {
   "cell_type": "markdown",
   "metadata": {},
   "source": [
    "#### py032 Обработка событий канвы"
   ]
  },
  {
   "cell_type": "code",
   "execution_count": null,
   "metadata": {},
   "outputs": [],
   "source": [
    "from tkinter import *\n",
    "from tkinter import colorchooser\n",
    "from random import randint\n",
    "\n",
    "root = Tk()\n",
    "\n",
    "canv = Canvas(root, width=600, height=400)\n",
    "\n",
    "line_color = 'black'; line_width = 4; flag_draw=0;\n",
    "x0 = 0; y0=0\n",
    "\n",
    "def fn_color(event):\n",
    "    global line_color\n",
    "    res = colorchooser.askcolor()\n",
    "    line_color = res[1]\n",
    "\n",
    "def fn_width(event):\n",
    "    global line_width\n",
    "    line_width = int(event.char)\n",
    "    \n",
    "def fn_draw(event):\n",
    "#     help(event)\n",
    "    global line_color, line_width, flag_draw, x0, y0\n",
    "    x = event.x; y = event.y\n",
    "    if flag_draw:\n",
    "        lin = canv.create_line(x0,y0,x,y, fill=line_color,\n",
    "                               width = line_width)\n",
    "    else:\n",
    "        flag_draw = 1\n",
    "    x0 =x; y0=y\n",
    "\n",
    "def fn_stop(event):\n",
    "    global flag_draw\n",
    "    flag_draw = 0\n",
    "            \n",
    "canv.bind('<B1-Motion>', fn_draw)\n",
    "canv.bind('<ButtonRelease-1>', fn_stop)\n",
    "canv.bind('<Button-3>', fn_color)\n",
    "canv.bind('<KeyPress>', fn_width)\n",
    "canv.pack()\n",
    "canv.focus_set()\n",
    "\n",
    "canv.mainloop()\n"
   ]
  },
  {
   "cell_type": "markdown",
   "metadata": {},
   "source": [
    "#### py033 Питон перемещение объекта по Канве"
   ]
  },
  {
   "cell_type": "code",
   "execution_count": null,
   "metadata": {},
   "outputs": [],
   "source": [
    "# coding: utf8\n",
    "from tkinter import *\n",
    "from random import randint\n",
    "\n",
    "root = Tk()\n",
    "\n",
    "canv = Canvas(root, width=300, height=600, bg='#006600')\n",
    "canv.pack()\n",
    "canv.create_rectangle(0,550,300,600,fil='white')\n",
    "ball = canv.create_oval(50,50,80,80,fil='yellow')\n",
    "keeper = canv.create_rectangle(0,550,40,565,fil='black')\n",
    "score_count = 0\n",
    "score = canv.create_text(240, 580, text=str(score_count), font= \"Aral 14\", fil='black')\n",
    "\n",
    "ball_speed = 1\n",
    "def move_ball():\n",
    "    global score_count, game_flag\n",
    "    canv.move( ball, 0, ball_speed)\n",
    "    if canv.coords(ball)[1] >= 520:\n",
    "        bottom = canv.coords(ball)[0] + 15\n",
    "        if canv.coords(keeper)[0] < bottom < canv.coords(keeper)[2]:\n",
    "            score_count += 1\n",
    "            canv.itemconfig(score, text=str(score_count))\n",
    "        else:\n",
    "            game_flag =0\n",
    "        ball_x = randint(0,9)*30\n",
    "        canv.coords(ball, ball_x, 0, ball_x + 30, 30)\n",
    "        \n",
    "keeper_speed = 0\n",
    "def move_keeper():\n",
    "    if keeper_speed > 0 and canv.coords(keeper)[2] < 295:\n",
    "        canv.move( keeper, keeper_speed, 0)\n",
    "    if keeper_speed < 0 and canv.coords(keeper)[0] > 5:\n",
    "        canv.move( keeper, keeper_speed, 0)\n",
    "\n",
    "def key_handl(event):\n",
    "    global keeper_speed, game_flag, score_count\n",
    "#     print(event.keysym)\n",
    "    if event.keysym == \"space\":\n",
    "        keeper_speed =0\n",
    "    elif event.keysym == \"Left\":\n",
    "        keeper_speed =-5\n",
    "    elif event.keysym == \"Right\":\n",
    "        keeper_speed =5\n",
    "    elif event.keysym == \"Return\":\n",
    "        score_count = 0\n",
    "        canv.itemconfig(score, text=str(score_count))\n",
    "        game_flag =1\n",
    "        main()\n",
    "\n",
    "canv.bind('<KeyPress>', key_handl)\n",
    "canv.focus_set()\n",
    "\n",
    "game_flag = 1\n",
    "\n",
    "def main():\n",
    "    move_ball()\n",
    "    move_keeper()\n",
    "    if game_flag:\n",
    "        root.after(30, main)\n",
    "        \n",
    "main()\n",
    "canv.mainloop()\n"
   ]
  },
  {
   "cell_type": "markdown",
   "metadata": {},
   "source": [
    "#### py034 Обработка даты и времени"
   ]
  },
  {
   "cell_type": "code",
   "execution_count": 15,
   "metadata": {},
   "outputs": [
    {
     "name": "stdout",
     "output_type": "stream",
     "text": [
      "2019-11-29 13:48:07.715215\n"
     ]
    }
   ],
   "source": [
    "from datetime import datetime,timedelta\n",
    "dt = datetime.now()\n",
    "print(dt)"
   ]
  },
  {
   "cell_type": "code",
   "execution_count": 17,
   "metadata": {},
   "outputs": [
    {
     "name": "stdout",
     "output_type": "stream",
     "text": [
      "['__add__', '__class__', '__delattr__', '__dir__', '__doc__', '__eq__', '__format__', '__ge__', '__getattribute__', '__gt__', '__hash__', '__init__', '__init_subclass__', '__le__', '__lt__', '__ne__', '__new__', '__radd__', '__reduce__', '__reduce_ex__', '__repr__', '__rsub__', '__setattr__', '__sizeof__', '__str__', '__sub__', '__subclasshook__', 'astimezone', 'combine', 'ctime', 'date', 'day', 'dst', 'fold', 'fromisoformat', 'fromordinal', 'fromtimestamp', 'hour', 'isocalendar', 'isoformat', 'isoweekday', 'max', 'microsecond', 'min', 'minute', 'month', 'now', 'replace', 'resolution', 'second', 'strftime', 'strptime', 'time', 'timestamp', 'timetuple', 'timetz', 'today', 'toordinal', 'tzinfo', 'tzname', 'utcfromtimestamp', 'utcnow', 'utcoffset', 'utctimetuple', 'weekday', 'year']\n"
     ]
    }
   ],
   "source": [
    "print(dir(dt))"
   ]
  },
  {
   "cell_type": "code",
   "execution_count": 21,
   "metadata": {},
   "outputs": [
    {
     "name": "stdout",
     "output_type": "stream",
     "text": [
      "['__abs__', '__add__', '__bool__', '__class__', '__delattr__', '__dir__', '__divmod__', '__doc__', '__eq__', '__floordiv__', '__format__', '__ge__', '__getattribute__', '__gt__', '__hash__', '__init__', '__init_subclass__', '__le__', '__lt__', '__mod__', '__mul__', '__ne__', '__neg__', '__new__', '__pos__', '__radd__', '__rdivmod__', '__reduce__', '__reduce_ex__', '__repr__', '__rfloordiv__', '__rmod__', '__rmul__', '__rsub__', '__rtruediv__', '__setattr__', '__sizeof__', '__str__', '__sub__', '__subclasshook__', '__truediv__', 'days', 'max', 'microseconds', 'min', 'resolution', 'seconds', 'total_seconds']\n"
     ]
    }
   ],
   "source": [
    "print(dir(timedelta))"
   ]
  },
  {
   "cell_type": "code",
   "execution_count": 20,
   "metadata": {
    "scrolled": true
   },
   "outputs": [
    {
     "name": "stdout",
     "output_type": "stream",
     "text": [
      "2019 11 29 13 48 7\n",
      "2019-11-29 14:48:07.715215\n",
      "2019-11-29 12:48:07.715215\n"
     ]
    }
   ],
   "source": [
    "print(dt.year,dt.month,dt.day,\n",
    "      dt.hour,dt.minute,dt.second,)\n",
    "print(dt+timedelta(hours=1))\n",
    "print(dt+timedelta(hours=-1))\n"
   ]
  },
  {
   "cell_type": "code",
   "execution_count": 23,
   "metadata": {},
   "outputs": [
    {
     "name": "stdout",
     "output_type": "stream",
     "text": [
      "3600.0\n"
     ]
    }
   ],
   "source": [
    "from datetime import datetime,timedelta\n",
    "dt = datetime.now()\n",
    "dt2 = dt + timedelta(hours=1)\n",
    "n=(dt2 - dt).total_seconds()\n",
    "print(n)"
   ]
  },
  {
   "cell_type": "markdown",
   "metadata": {},
   "source": [
    "2019-10-31 21:00:00  \n",
    "**1temperature.txt**  \n",
    "2019-10-31 21:00:00\t2.3\t757.3  \n",
    "2019-10-31 18:00:00\t2.2\t758.4  \n",
    "2019-10-31 15:00:00\t1.9\t759.7  "
   ]
  },
  {
   "cell_type": "code",
   "execution_count": 20,
   "metadata": {},
   "outputs": [
    {
     "ename": "NameError",
     "evalue": "name 'first_date' is not defined",
     "output_type": "error",
     "traceback": [
      "\u001b[1;31m---------------------------------------------------------------------------\u001b[0m",
      "\u001b[1;31mNameError\u001b[0m                                 Traceback (most recent call last)",
      "\u001b[1;32m<ipython-input-20-086b83424ac5>\u001b[0m in \u001b[0;36m<module>\u001b[1;34m\u001b[0m\n\u001b[0;32m    127\u001b[0m \u001b[0mpn_top\u001b[0m\u001b[1;33m.\u001b[0m\u001b[0mpack\u001b[0m\u001b[1;33m(\u001b[0m\u001b[0msid\u001b[0m \u001b[1;33m=\u001b[0m \u001b[1;34m'top'\u001b[0m\u001b[1;33m,\u001b[0m \u001b[0mfill\u001b[0m\u001b[1;33m=\u001b[0m\u001b[1;34m'x'\u001b[0m\u001b[1;33m)\u001b[0m\u001b[1;33m\u001b[0m\u001b[1;33m\u001b[0m\u001b[0m\n\u001b[0;32m    128\u001b[0m \u001b[1;33m\u001b[0m\u001b[0m\n\u001b[1;32m--> 129\u001b[1;33m \u001b[0mst_date\u001b[0m \u001b[1;33m=\u001b[0m \u001b[0mfirst_date\u001b[0m\u001b[1;33m.\u001b[0m\u001b[0mstrftime\u001b[0m\u001b[1;33m(\u001b[0m\u001b[1;34m'%Y/%m/%d'\u001b[0m\u001b[1;33m)\u001b[0m\u001b[1;33m\u001b[0m\u001b[1;33m\u001b[0m\u001b[0m\n\u001b[0m\u001b[0;32m    130\u001b[0m \u001b[0mlb_headfirstdate\u001b[0m \u001b[1;33m=\u001b[0m \u001b[0mLabel\u001b[0m\u001b[1;33m(\u001b[0m\u001b[0mpn_top\u001b[0m\u001b[1;33m,\u001b[0m \u001b[0mtext\u001b[0m \u001b[1;33m=\u001b[0m \u001b[1;34m'Первая дата таблицы:'\u001b[0m\u001b[1;33m,\u001b[0m \u001b[0mbg\u001b[0m\u001b[1;33m=\u001b[0m\u001b[0mbg_top\u001b[0m\u001b[1;33m)\u001b[0m\u001b[1;33m\u001b[0m\u001b[1;33m\u001b[0m\u001b[0m\n\u001b[0;32m    131\u001b[0m \u001b[0mlb_headfirstdate\u001b[0m\u001b[1;33m.\u001b[0m\u001b[0mgrid\u001b[0m\u001b[1;33m(\u001b[0m\u001b[0mrow\u001b[0m\u001b[1;33m=\u001b[0m\u001b[1;36m0\u001b[0m\u001b[1;33m,\u001b[0m \u001b[0mcolumn\u001b[0m\u001b[1;33m=\u001b[0m\u001b[1;36m0\u001b[0m\u001b[1;33m,\u001b[0m \u001b[0msticky\u001b[0m\u001b[1;33m=\u001b[0m\u001b[0mW\u001b[0m\u001b[1;33m)\u001b[0m\u001b[1;33m\u001b[0m\u001b[1;33m\u001b[0m\u001b[0m\n",
      "\u001b[1;31mNameError\u001b[0m: name 'first_date' is not defined"
     ]
    }
   ],
   "source": [
    "# -*- coding: utf8 -*-\n",
    "#temp_graph2.py\n",
    "from tkinter import *\n",
    "from datetime import datetime,timedelta\n",
    "from dbsn import *\n",
    "\n",
    "#= 00 === любые функции даты ============\n",
    "#-- перевести значение даты в секунды\n",
    "def dateToSec(dt):\n",
    "    return (dt - datetime(2000,1,1)).total_seconds()\n",
    "\n",
    "#--  перевести секунды в значение даты\n",
    "def secToDate(sc):\n",
    "    return dateteme(2000,1,1) + timedelta(seconds = sc)\n",
    "\n",
    "#-  сосчитать число дней в месяце даты\n",
    "def monthDays(dt):\n",
    "    yr,mn = dt.year, dt.month\n",
    "    if mn == 2 and yr %4 == 0 and not yr % 400 == 0: return 29\n",
    "    ar = [0,31,28,31,30,31,30,31,31,30,31,30,31]\n",
    "    return ar[mn]\n",
    "\n",
    "#= 01 === определить границы дат просмотра =======\n",
    "    \n",
    "#-- извлечь дату из фрагмента\n",
    "def get_date_temp(fragm):\n",
    "    frels = formFrels(fragm)\n",
    "    st_date = getFrel(frels,1)\n",
    "    fr_date = datetime.strptime(st_date, '%Y/%m/%d %H:%M:%S')  ######\n",
    "    # st_date = fr_date.strftime('%Y/%m/%d %H:%M:%S')  # -- перевести дату в строку\n",
    "    st_temp = getFrel(frels,2)\n",
    "    fr_temp = int(st_temp)\n",
    "    return fr_date,fr_temp\n",
    "\n",
    "# dbh = openDBSN('meteo1')\n",
    "# first_fragm = getFragm(dbh, 1)\n",
    "# last_fragm = getFragm(dbh,-1)\n",
    "# first_date, temp= get_date_temp(first_fragm)\n",
    "# last_date, temp = get_date_temp(last_fragm)\n",
    "\n",
    "#== 02 === вспомогательные функции =========\n",
    "def fn_cmp(fragm, dt_sel):\n",
    "    frels = formFrels(fragm)\n",
    "    st_date = getFrel(frels,1)\n",
    "    fr_date= datetime.strptime(st_date, '%Y/%m/%d %H:%M:%S')\n",
    "    return (fr_date - dt_sel). total_seconds() #####\n",
    "\n",
    "#= 03 === обработчик клавиши 'просмотреть' ======\n",
    "def view_tmp(event):\n",
    "    #-- основные параметры\n",
    "    tau = 900    # шаг отображения: 15 min = 5 pixel\n",
    "    ls_temp= ['-' for j in range(96)] # пустой масси на 24 часа\n",
    "    num_count= len(ls_temp)\n",
    "    \n",
    "    #-- начертить координаты\n",
    "    canv.delete(\"all\")\n",
    "    x0 = 20; y0 = 220 # -- положение начала координат\n",
    "    canv.create_line(10, y0, 630, y0,fill-'black',arrow=Last)\n",
    "    \n",
    "    canv.create_line(x0, 10, 390, fill ='black',arrow=BOTH)\n",
    "    for n in rang(25):\n",
    "        x = x0 + n*20\n",
    "        canv.create_line(x, y0-10, x, y0+10,fill='black')\n",
    "        if n%8 == 4:\n",
    "            canv.create_line(x, y0+10, x-80, y0+10,fill='black')\n",
    "        elif n>4 and (n-4)%8 == 4:\n",
    "            cnv.create_line(x, y0-10, x-80, y0-10,fill='black')\n",
    "\n",
    "    #-- найти начало данных таблицы в массиве\n",
    "    st_date = ed_curdate.get()\n",
    "    ed_date = datetime.strptime(st_date, '%Y/%m/%d')\n",
    "    end_date = beg_date + timedelta(days =1)\n",
    "\n",
    "    fragm_num = findFirstNum( dbh, fn_cmp, beg_date)\n",
    "    fragm = getFragm(dbh, fragm_num)\n",
    "    cur_date, cur_temp = get_date_temp(fragm)\n",
    "    cur_num = int((cur_date - beg_date).total_seconds()/tau) #-- номер итервала\n",
    "    beg_num = cur_num #--  номер первого зополнямого элемента массива\n",
    "\n",
    "    temp_sum = cur_temp\n",
    "    temp_count = 1\n",
    "    fragm_count = countFragm(dbh)\n",
    "    #print beg_num\n",
    "\n",
    "    #-- заполнить массив начений из таблицы\n",
    "    while cur_num < num_count:\n",
    "        fragm_num += 1\n",
    "        if fragm_num > fragm_count:\n",
    "            break\n",
    "        fragm = getFragm(dbh, fragm_num)\n",
    "        cur_date, cur_temp = get_date_temp(fragm)\n",
    "        cur_num = int((cur_date - beg_date).total_seconds()/ tau) #-- номер интервала\n",
    "        if cur_num== beg_num:\n",
    "            temp_sum += cur_temp\n",
    "            temp_count += 1\n",
    "        else:\n",
    "            temp_mid = float(temp_sum) / temp_count\n",
    "            ls_temp[beg_num] = temp_mid\n",
    "            beg_num = cur_num\n",
    "            temp_sum = cur_temp\n",
    "            temp_count = 1\n",
    "            \n",
    "    #--  начертить график по массиву\n",
    "    temp_left = '-'\n",
    "    for num in range(len(ls_temp)-1):\n",
    "        temp_reght + ls_temp[num]\n",
    "        #-- пропустить пустые промежутки ---\n",
    "        if temp_left == '-' or temp_right == '0':\n",
    "            temp_left = temp_right\n",
    "            continue\n",
    "            \n",
    "        x1 = x0 + 5*num;\n",
    "        x2 = x1 +5;\n",
    "        y1 = y0-(temp_left - 250)*20\n",
    "        y2 = y0 -(temp_right - 250)*20\n",
    "        canv.create_line(x1,y1,x2,y2, fill='blue')\n",
    "        temp_left = temp_right\n",
    "        \n",
    "#= 04 === нарисовать форму с элементами вывода ==========\n",
    "#-- главная фаорма --\n",
    "root = Tk()\n",
    "root.title(\"график температуры за день\")\n",
    "\n",
    "#--  верхняя панель --\n",
    "bg_top='lime'\n",
    "pn_top = Frame(root, bg= bg_top)\n",
    "pn_top.pack(sid = 'top', fill='x')\n",
    "\n",
    "st_date = first_date.strftime('%Y/%m/%d')\n",
    "lb_headfirstdate = Label(pn_top, text = 'Первая дата таблицы:', bg=bg_top)\n",
    "lb_headfirstdate.grid(row=0, column=0, sticky=W)\n",
    "lb_firstdate = Label(pn_top, text= st_date, bg ='white', width = 12)\n",
    "lb_firstdate.grid(row=0, column = 1, pady=5)\n",
    "\n",
    "st_date = last_date.strftime('%Y/%m/%d')\n",
    "lb_headlastdate = Label(pn_top, text = 'Последняя дата таблицы:', bg=bg_top)\n",
    "lb_headlasttdate.grid(row=1, column=0, sticky=W)\n",
    "lb_lastdate = Label(pn_top, text= st_date, bg ='white', width = 12)\n",
    "lb_lastdate.grid(row=1, column = 1, pady=5)\n",
    "\n",
    "lb_curdate = Label(pn_top, text = 'Дата просмотра:', bg=bg_top)\n",
    "lb_curdate.grid(row=2, column=0, sticky=W)\n",
    "ed_curdate = Entry(pn_top, width = 15)\n",
    "ed_curdate.grid(row=2, column =1, pady=5)\n",
    "\n",
    "bt_view = Button(pn_top, text='просмотреть')\n",
    "bt_view.grid(row =2, column =2, padx = 20)\n",
    "bt_view.bind(\"<Button-1>\", view_temp)\n",
    "\n",
    "#-- панель с канвой --\n",
    "pn_main = Frame(root, bg = 'lightblue')\n",
    "pn_main.pack(side = 'right', fill = 'both', expand = 1)\n",
    "\n",
    "canv = Canvas(pn_main, height = 400, width = 640, bg='white')\n",
    "canv.pack()\n",
    "\n",
    "#-- запуск формы --\n",
    "root.mainloop()\n",
    "closeDBSN(dbh)\n",
    "\n",
    "\n"
   ]
  },
  {
   "cell_type": "code",
   "execution_count": null,
   "metadata": {},
   "outputs": [],
   "source": []
  },
  {
   "cell_type": "code",
   "execution_count": null,
   "metadata": {},
   "outputs": [],
   "source": []
  },
  {
   "cell_type": "code",
   "execution_count": null,
   "metadata": {},
   "outputs": [],
   "source": []
  },
  {
   "cell_type": "code",
   "execution_count": null,
   "metadata": {},
   "outputs": [],
   "source": []
  },
  {
   "cell_type": "markdown",
   "metadata": {},
   "source": [
    "#### py034 Обработка даты и времени\n",
    "#### py035 Сжатие по Хаффману\n",
    "#### py036 Новогодняя елка"
   ]
  },
  {
   "cell_type": "code",
   "execution_count": null,
   "metadata": {},
   "outputs": [],
   "source": []
  },
  {
   "cell_type": "code",
   "execution_count": 23,
   "metadata": {},
   "outputs": [
    {
     "ename": "ModuleNotFoundError",
     "evalue": "No module named 'tkrinter'",
     "output_type": "error",
     "traceback": [
      "\u001b[1;31m---------------------------------------------------------------------------\u001b[0m",
      "\u001b[1;31mModuleNotFoundError\u001b[0m                       Traceback (most recent call last)",
      "\u001b[1;32m<ipython-input-23-0d5613eb1c15>\u001b[0m in \u001b[0;36m<module>\u001b[1;34m\u001b[0m\n\u001b[0;32m      1\u001b[0m \u001b[1;31m# coding: utf8\u001b[0m\u001b[1;33m\u001b[0m\u001b[1;33m\u001b[0m\u001b[1;33m\u001b[0m\u001b[0m\n\u001b[1;32m----> 2\u001b[1;33m \u001b[1;32mfrom\u001b[0m \u001b[0mtkrinter\u001b[0m \u001b[1;32mimport\u001b[0m \u001b[1;33m*\u001b[0m\u001b[1;33m\u001b[0m\u001b[1;33m\u001b[0m\u001b[0m\n\u001b[0m\u001b[0;32m      3\u001b[0m \u001b[1;32mfrom\u001b[0m \u001b[0mrandom\u001b[0m \u001b[1;32mimport\u001b[0m \u001b[0mrandomint\u001b[0m\u001b[1;33m\u001b[0m\u001b[1;33m\u001b[0m\u001b[0m\n\u001b[0;32m      4\u001b[0m \u001b[1;33m\u001b[0m\u001b[0m\n\u001b[0;32m      5\u001b[0m \u001b[0mroot\u001b[0m \u001b[1;33m=\u001b[0m \u001b[0mTk\u001b[0m\u001b[1;33m(\u001b[0m\u001b[1;33m)\u001b[0m\u001b[1;33m\u001b[0m\u001b[1;33m\u001b[0m\u001b[0m\n",
      "\u001b[1;31mModuleNotFoundError\u001b[0m: No module named 'tkrinter'"
     ]
    }
   ],
   "source": [
    "# coding: utf8\n",
    "from tkrinter import *\n",
    "from random import randomint\n",
    "\n",
    "root = Tk()\n",
    "canv = Canvas(root, width=600, height=400, bg='white')\n",
    "canv.pack()\n",
    "x0 = 200 # координаты вершины\n",
    "y0 = 20\n",
    "rs = 10  # радиус ствола\n",
    "r1 = 30\n",
    "y1 = 60  # размах и смещение первой ветки\n",
    "r2 = 80\n",
    "y2 = 120 # размах и смещение второй ветки  \n",
    "r3 = 120\n",
    "y3 = 200 # размах и смещение третьей ветки  \n",
    "r4 = 150\n",
    "y4 = 280 # размах и смещение четвертой ветки  \n",
    "poly = Canvas.create_poligon(canv,x0,y0,\n",
    "    x0+r1,y1, x0+rs,y1,x0+r2,y2, x0+r3,y3, x0+rs,y3, x0+r4,y4,x0+rs,y4,\n",
    "    x0+rs,y4+20, x0-rs,y4+20, x0-rs,y4, x0-r4,y4, x0-rs,y3, x0-r3,y3,\n",
    "    x0-rs,y2, x0-r2,y2, x0-rs,y1, x0-r1,y1, fill ='darkgreen')\n",
    "crds = [(210,20,1), (200,50,2), (170,80, 3),\n",
    "       (140,100,1), (180,140,2), (220,160, 4), (280,180, 1),\n",
    "       (100,180, 2), (140,220,3), (190,230,1), (250,250, 2), (310,250, 3)]\n",
    "rc =25\n",
    "clrs = ['black','red','yellow', 'pink','blue','leme','green']\n",
    "circles = [Canvas.create_oval(canv,el[0],el[1],el[0]+rc, el[1]+rc,\n",
    "            fill = clrs[el[2]], tags = 't'+ str(el[2])) for el in crds]\n",
    "                                     ])]\n",
    "snow = PhotoImage(file ='snow12.gif')\n",
    "imag1 = canv.create_image(50,100,image=snow)\n",
    "rabbit= PhotoImage(file='imz.gif')\n",
    "imag4= canv.create_image(20,300, 1mage = rabbit)\n"
   ]
  },
  {
   "cell_type": "code",
   "execution_count": null,
   "metadata": {},
   "outputs": [],
   "source": []
  },
  {
   "cell_type": "markdown",
   "metadata": {},
   "source": [
    "===================================="
   ]
  },
  {
   "cell_type": "code",
   "execution_count": 34,
   "metadata": {},
   "outputs": [
    {
     "data": {
      "text/plain": [
       "'\\n    рисунки должны иметь расширение gif\\n    и прозрачный фон\\n    его можно сделать на\\n    http://www.online-image-editor.com/\\n    кнопка transparency \\n    или в поиске \"gif прозрачный фон\"\\n    \\n'"
      ]
     },
     "execution_count": 34,
     "metadata": {},
     "output_type": "execute_result"
    }
   ],
   "source": [
    "# coding: utf8\n",
    "from tkinter import *\n",
    "from random import randint\n",
    "\n",
    "root = Tk()\n",
    "canv = Canvas(root, width = 600, height = 400, bg='white')\n",
    "canv.pack()\n",
    "x0 = 200    # координаты вершины\n",
    "y0 = 20\n",
    "rs = 10     # радиус ствола\n",
    "r1 = 30\n",
    "y1 = 60     # размах и смещение первой ветки\n",
    "r2 = 80\n",
    "y2 = 120    # размах и смещение второй ветки\n",
    "r3 = 120\n",
    "y3 = 200    # размах и смещение третьей ветки\n",
    "r4 = 150\n",
    "y4 = 280    # размах и смещение четвертой ветки\n",
    "poly = Canvas.create_polygon(canv,x0,y0, \n",
    "            x0+r1,y1, x0+rs,y1, x0+r2,y2, x0+rs,y2, x0+r3,y3, x0+rs,y3, x0+r4,y4, x0+rs,y4,\\\n",
    "            x0+rs,y4 + 20, x0-rs,y4 + 20, x0-rs,y4, x0-r4,y4, x0-rs,y3, x0-r3,y3,\\\n",
    "            x0-rs,y2, x0-r2,y2, x0-rs,y1, x0-r1,y1, fill = 'darkgreen' )\n",
    "crds =  [(210,20, 1), (200,50, 2), (170,80, 3),\n",
    "        (140,100, 1), (180,140, 2), (220,160, 4), (280,180, 1),\n",
    "        (100,180, 2), (140,220, 3), (190,230, 1), (250,250, 2), (310,250, 3)]\n",
    "rc = 25\n",
    "clrs = ['black','red','yellow', 'pink','blue']\n",
    "cirkles = [Canvas.create_oval(canv,el[0],el[1],el[0]+rc, el[1]+rc, fill = clrs[el[2]], tags = 't'+str(el[2]) ) for el in crds]\n",
    "# snow = PhotoImage(file = 'snow11.gif')\n",
    "\n",
    "# imag1 = canv.create_image(50,100,image=snow)\n",
    "# imag2 = canv.create_image(150,10,image=snow)\n",
    "# imag3 = canv.create_image(200,30,image=snow)\n",
    "\n",
    "# rabbit = PhotoImage(file = 'imz.gif')\n",
    "# imag4 = canv.create_image(20,300,image=rabbit)\n",
    "\n",
    "snow_speed = 5\n",
    "rabbit_speed = 3\n",
    "color_speed = 5\n",
    "tag_num = 1\n",
    "cur_color = 0\n",
    "def move_snow():\n",
    "    global cur_color, tag_num\n",
    "    \n",
    "    canv.move( imag1, -3, snow_speed)\n",
    "    canv.move( imag2, -3, snow_speed)\n",
    "    canv.move( imag3, -3, snow_speed)\n",
    "    if canv.coords(imag1)[1] >= 380:\n",
    "        imag_x= 40*randint(1, 3); imag_y= 5*randint(1, 5); \n",
    "        canv.coords(imag1, imag_x, imag_y)\n",
    "    if canv.coords(imag2)[1] >= 380:\n",
    "        imag_x= 40*randint(9, 12); imag_y= 5*randint(1, 5); \n",
    "        canv.coords(imag2, imag_x, imag_y)\n",
    "    if canv.coords(imag3)[1] >= 380:\n",
    "        imag_x= 40*randint(6, 9); imag_y= 5*randint(1, 5); \n",
    "        canv.coords(imag3, imag_x, imag_y)\n",
    "    \n",
    "    canv.move( imag4, rabbit_speed, 0)\n",
    "    if canv.coords(imag4)[0] >= 550:\n",
    "        canv.coords(imag4, 20, 300)\n",
    "    \n",
    "\n",
    "    cur_color += 1\n",
    "    if cur_color % color_speed == 0:\n",
    "        color_num = randint(1,4)\n",
    "        cur_tag = 't'+str(tag_num)        \n",
    "        canv.itemconfig(cur_tag, fill = clrs[color_num])\n",
    "        tag_num += 1\n",
    "        if tag_num > 4:\n",
    "            tag_num = 1\n",
    "        \n",
    "def main():\n",
    "#     move_snow()\n",
    "    root.after(30, main)\n",
    "    \n",
    "main()\n",
    "mainloop()\n",
    "\n",
    "'''\n",
    "    рисунки должны иметь расширение gif\n",
    "    и прозрачный фон\n",
    "    его можно сделать на\n",
    "    http://www.online-image-editor.com/\n",
    "    кнопка transparency \n",
    "    или в поиске \"gif прозрачный фон\"\n",
    "    \n",
    "'''\n"
   ]
  },
  {
   "cell_type": "code",
   "execution_count": null,
   "metadata": {},
   "outputs": [],
   "source": []
  },
  {
   "cell_type": "code",
   "execution_count": null,
   "metadata": {},
   "outputs": [],
   "source": []
  },
  {
   "cell_type": "markdown",
   "metadata": {},
   "source": [
    "#### py037 Простые средства отладки программ\n",
    "#### py038 игра пинг-понг\n",
    "#### py039 добавляем звук\n"
   ]
  },
  {
   "cell_type": "markdown",
   "metadata": {},
   "source": []
  },
  {
   "cell_type": "code",
   "execution_count": 3,
   "metadata": {},
   "outputs": [
    {
     "name": "stdout",
     "output_type": "stream",
     "text": [
      "['Beep', 'MB_ICONASTERISK', 'MB_ICONEXCLAMATION', 'MB_ICONHAND', 'MB_ICONQUESTION', 'MB_OK', 'MessageBeep', 'PlaySound', 'SND_ALIAS', 'SND_APPLICATION', 'SND_ASYNC', 'SND_FILENAME', 'SND_LOOP', 'SND_MEMORY', 'SND_NODEFAULT', 'SND_NOSTOP', 'SND_NOWAIT', 'SND_PURGE', '__doc__', '__file__', '__loader__', '__name__', '__package__', '__spec__']\n"
     ]
    }
   ],
   "source": [
    "import winsound\n",
    "print(dir(winsound))"
   ]
  },
  {
   "cell_type": "code",
   "execution_count": 4,
   "metadata": {},
   "outputs": [],
   "source": [
    "import winsound\n",
    "winsound.Beep(1000,1500)"
   ]
  },
  {
   "cell_type": "code",
   "execution_count": 19,
   "metadata": {},
   "outputs": [],
   "source": [
    "# coding: utf8\n",
    "# piano.py\n",
    "\n",
    "#-- параметры --\n",
    "canv_wd = 600           # ширина и высота поля\n",
    "canv_ht = 350\n",
    "\n",
    "btn_wd = 40             # размеры клавиши\n",
    "btn_ht = 160\n",
    "pos_x = 100             # начало клавиш по горизонтали\n",
    "pos_y = 150             # начало клавиш по вертикали\n",
    "pos_dx = 10             # промежуток между клавишами\n",
    "\n",
    "\n",
    "from tkinter import *\n",
    "import winsound\n",
    "import time\n",
    "import random\n",
    "\n",
    "root = Tk()\n",
    "canv = Canvas(root, height = canv_ht, width = canv_wd, bg='#000066')\n",
    "canv.pack()\n",
    "\n",
    "# клавиши\n",
    "x = pos_x; y = pos_y\n",
    "btn_do = canv.create_rectangle(x,y, x + btn_wd, y + btn_ht,fil = 'white')\n",
    "x += btn_wd + pos_dx\n",
    "btn_re = canv.create_rectangle(x,y, x + btn_wd, y + btn_ht,fil = 'white')\n",
    "x += btn_wd + pos_dx\n",
    "btn_mi = canv.create_rectangle(x,y, x + btn_wd, y + btn_ht,fil = 'white')\n",
    "x += btn_wd + pos_dx\n",
    "btn_fa = canv.create_rectangle(x,y, x + btn_wd, y + btn_ht,fil = 'white')\n",
    "x += btn_wd + pos_dx\n",
    "btn_sol = canv.create_rectangle(x,y, x + btn_wd, y + btn_ht,fil = 'white')\n",
    "x += btn_wd + pos_dx\n",
    "btn_la = canv.create_rectangle(x,y, x + btn_wd, y + btn_ht,fil = 'white')\n",
    "x += btn_wd + pos_dx\n",
    "btn_si = canv.create_rectangle(x,y, x + btn_wd, y + btn_ht,fil = 'white')\n",
    "\n",
    "def play_note(note, btn):\n",
    "    '''\n",
    "    canv.itemconfig(btn_do, fil = 'white' )\n",
    "    canv.itemconfig(btn_re, fil = 'white' )\n",
    "    canv.itemconfig(btn_mi, fil = 'white' )\n",
    "    canv.itemconfig(btn_fa, fil = 'white' )\n",
    "    canv.itemconfig(btn_sol, fil = 'white' )\n",
    "    canv.itemconfig(btn_la, fil = 'white' )\n",
    "    canv.itemconfig(btn_si, fil = 'white' )\n",
    "    D:\\mailCloud\\template\\notes\n",
    "    file_name = \"notes/\"+note+\".wav\"\n",
    "'''\n",
    "#     file_name = \"notes/\"+note+\".wav\"\n",
    "    file_name = \"D:\\\\mailCloud\\\\template\\\\notes\\\\\"+note+\".wav\"\n",
    "    winsound.PlaySound(file_name, winsound.SND_FILENAME )\n",
    "    canv.itemconfig(btn, fil = 'yellow' )\n",
    "\n",
    "musics=['birthday','ohota','pogoda','storm']\n",
    "\n",
    "def key_handl(event):\n",
    "    # обработать нажатия клавиш\n",
    "    global leftrack_speed, rightrack_speed, left_count, right_count, moveball_flag\n",
    "    #print event.keysym\n",
    "    if  event.keysym == \"z\":\n",
    "        play_note('do', btn_do)    \n",
    "    elif  event.keysym == \"x\":\n",
    "        play_note('re', btn_re)    \n",
    "    elif  event.keysym == \"c\":\n",
    "        play_note('mi', btn_mi)    \n",
    "    elif  event.keysym == \"v\":\n",
    "        play_note('fa', btn_fa)    \n",
    "    elif  event.keysym == \"b\":\n",
    "        play_note('sol', btn_sol)    \n",
    "    elif  event.keysym == \"n\":\n",
    "        play_note('la', btn_la)    \n",
    "    elif  event.keysym == \"m\":\n",
    "        play_note('si', btn_si)    \n",
    "\n",
    "def mouse_handl(event):\n",
    "    random.shuffle (musics)\n",
    "    music = musics[0]\n",
    "    file_name =\"D:\\\\mailCloud\\\\template\\\\music\\\\\" + music+\".wav\"\n",
    "#     file_name = music+\".wav\"\n",
    "    winsound.PlaySound(file_name, winsound.SND_FILENAME|winsound.SND_ASYNC )    \n",
    "    \n",
    "# включить обработчик клавиатуры\n",
    "canv.bind(\"<KeyPress>\",key_handl)\n",
    "canv.bind('<Button-1>',mouse_handl)\n",
    "canv.focus_set()\n",
    "\n",
    "\n",
    "root.mainloop()\n"
   ]
  },
  {
   "cell_type": "markdown",
   "metadata": {},
   "source": [
    "\t\tƒл¤ звуков ƒеник подсказал библ \"winsound\"\n",
    "\t\tу нее походу есть асинхронное исполнение\n",
    "\t\tно она играет только с файлами \".wav\"\n",
    "\n",
    "\"https://docs.python.org/2/library/winsound.html\"\n",
    "работает\n",
    "winsound.Beep(frequency, duration)\n",
    "\tBeep the PCТs speaker. \n",
    "\tThe frequency parameter specifies frequency, in hertz, of the sound, \n",
    "\tand must be in the range 37 through 32,767. \n",
    "\tThe duration parameter specifies the number of milliseconds the sound should last.\n",
    "\tIf the system is not able to beep the speaker, RuntimeError is raised.\n",
    "winsound.PlaySound(sound, flags)\n",
    ">>> winsound.PlaySound('notes/fa.wav',winsound.SND_FILENAME )\n",
    ">>> winsound.PlaySound('pogoda.wav',winsound.SND_FILENAME|winsound.SND_ASYNC )\n",
    "winsound.SND_PURGE\n",
    "\tStop playing all instances of the specified sound.\n",
    "\n",
    "дл¤ преобразовани¤ в WAV можно использовать онлайн конвертер\n",
    "\t\"https://audio.online-convert.com/ru/convert-to-wav\"\n",
    "или \"https://convertio.co/ru/mp3-wav/\"\n",
    "\n"
   ]
  },
  {
   "cell_type": "code",
   "execution_count": null,
   "metadata": {},
   "outputs": [],
   "source": []
  },
  {
   "cell_type": "code",
   "execution_count": null,
   "metadata": {},
   "outputs": [],
   "source": []
  },
  {
   "cell_type": "code",
   "execution_count": null,
   "metadata": {},
   "outputs": [],
   "source": []
  },
  {
   "cell_type": "markdown",
   "metadata": {},
   "source": [
    "#### py030 Питон словари\n",
    "#### py031 Питон графические примитивы\n",
    "#### py032 Обработка событий канвы\n",
    "#### py033 Питон перемещение объекта по Канве\n",
    "#### py034 Обработка даты и времени\n",
    "#### py035 Сжатие по Хаффману\n",
    "#### py036 Новогодняя елка\n",
    "#### py037 Простые средства отладки программ\n",
    "#### py038 игра пинг-понг\n",
    "#### py039 добавляем звук\n"
   ]
  },
  {
   "cell_type": "markdown",
   "metadata": {},
   "source": [
    "[py030 Питон словари](https://www.youtube.com/watch?v=kxRdmrTPrcg&list=PLku9se_HAVOp8pSgrIWGIjHLP-EOw_ywq&index=53)  \n",
    "[abglazov](http://abglazov.rfpgu.ru/)  \n",
    "[]()  \n",
    "[]()  \n",
    "[]()  \n",
    "[]()  \n",
    "[]()  \n"
   ]
  },
  {
   "cell_type": "markdown",
   "metadata": {},
   "source": [
    "=========================================="
   ]
  },
  {
   "cell_type": "code",
   "execution_count": null,
   "metadata": {},
   "outputs": [],
   "source": [
    "# coding: utf8\n",
    "from Tkinter import *\n",
    "from random import randint\n",
    "\n",
    "root = Tk()\n",
    "canv = Canvas(root, width = 600, height = 400, bg='white')\n",
    "canv.pack()\n",
    "x0 = 200    # координаты вершины\n",
    "y0 = 20\n",
    "rs = 10     # радиус ствола\n",
    "r1 = 30\n",
    "y1 = 60     # размах и смещение первой ветки\n",
    "r2 = 80\n",
    "y2 = 120    # размах и смещение второй ветки\n",
    "r3 = 120\n",
    "y3 = 200    # размах и смещение третьей ветки\n",
    "r4 = 150\n",
    "y4 = 280    # размах и смещение четвертой ветки\n",
    "poly = Canvas.create_polygon(canv,x0,y0, \n",
    "            x0+r1,y1, x0+rs,y1, x0+r2,y2, x0+rs,y2, x0+r3,y3, x0+rs,y3, x0+r4,y4, x0+rs,y4,\\\n",
    "            x0+rs,y4 + 20, x0-rs,y4 + 20, x0-rs,y4, x0-r4,y4, x0-rs,y3, x0-r3,y3,\\\n",
    "            x0-rs,y2, x0-r2,y2, x0-rs,y1, x0-r1,y1, fill = 'darkgreen' )\n",
    "crds =  [(210,20, 1), (200,50, 2), (170,80, 3),\n",
    "        (140,100, 1), (180,140, 2), (220,160, 4), (280,180, 1),\n",
    "        (100,180, 2), (140,220, 3), (190,230, 1), (250,250, 2), (310,250, 3)]\n",
    "rc = 25\n",
    "clrs = ['black','red','yellow', 'pink','blue']\n",
    "cirkles = [Canvas.create_oval(canv,el[0],el[1],el[0]+rc, el[1]+rc, fill = clrs[el[2]], tags = 't'+str(el[2]) ) for el in crds]\n",
    "snow = PhotoImage(file = 'snow11.gif')\n",
    "\n",
    "imag1 = canv.create_image(50,100,image=snow)\n",
    "imag2 = canv.create_image(150,10,image=snow)\n",
    "imag3 = canv.create_image(200,30,image=snow)\n",
    "\n",
    "rabbit = PhotoImage(file = 'imz.gif')\n",
    "imag4 = canv.create_image(20,300,image=rabbit)\n",
    "\n",
    "snow_speed = 5\n",
    "rabbit_speed = 3\n",
    "color_speed = 5\n",
    "tag_num = 1\n",
    "cur_color = 0\n",
    "def move_snow():\n",
    "    global cur_color, tag_num\n",
    "    \n",
    "    canv.move( imag1, -3, snow_speed)\n",
    "    canv.move( imag2, -3, snow_speed)\n",
    "    canv.move( imag3, -3, snow_speed)\n",
    "    if canv.coords(imag1)[1] >= 380:\n",
    "        imag_x= 40*randint(1, 3); imag_y= 5*randint(1, 5); \n",
    "        canv.coords(imag1, imag_x, imag_y)\n",
    "    if canv.coords(imag2)[1] >= 380:\n",
    "        imag_x= 40*randint(9, 12); imag_y= 5*randint(1, 5); \n",
    "        canv.coords(imag2, imag_x, imag_y)\n",
    "    if canv.coords(imag3)[1] >= 380:\n",
    "        imag_x= 40*randint(6, 9); imag_y= 5*randint(1, 5); \n",
    "        canv.coords(imag3, imag_x, imag_y)\n",
    "    \n",
    "    canv.move( imag4, rabbit_speed, 0)\n",
    "    if canv.coords(imag4)[0] >= 550:\n",
    "        canv.coords(imag4, 20, 300)\n",
    "    \n",
    "\n",
    "    cur_color += 1\n",
    "    if cur_color % color_speed == 0:\n",
    "        color_num = randint(1,4)\n",
    "        cur_tag = 't'+str(tag_num)        \n",
    "        canv.itemconfig(cur_tag, fill = clrs[color_num])\n",
    "        tag_num += 1\n",
    "        if tag_num > 4:\n",
    "            tag_num = 1\n",
    "        \n",
    "def main():\n",
    "    move_snow()\n",
    "    root.after(30, main)\n",
    "    \n",
    "main()\n",
    "mainloop()\n",
    "\n",
    "'''\n",
    "    рисунки должны иметь расширение gif\n",
    "    и прозрачный фон\n",
    "    его можно сделать на\n",
    "    http://www.online-image-editor.com/\n",
    "    кнопка transparency \n",
    "    или в поиске \"gif прозрачный фон\"\n",
    "    \n",
    "'''\n"
   ]
  },
  {
   "cell_type": "markdown",
   "metadata": {},
   "source": [
    "[abglazov](http://abglazov.rfpgu.ru/)  \n",
    "[py030 Питон словари](https://www.youtube.com/watch?v=kxRdmrTPrcg&list=PLku9se_HAVOp8pSgrIWGIjHLP-EOw_ywq&index=53)  \n",
    "[winsound — Sound-playing interface for Windows](https://docs.python.org/3.7/library/winsound.html)  \n",
    "[]()  \n",
    "[]()  \n",
    "[]()  \n",
    "[]()  \n"
   ]
  }
 ],
 "metadata": {
  "kernelspec": {
   "display_name": "Python 3",
   "language": "python",
   "name": "python3"
  },
  "language_info": {
   "codemirror_mode": {
    "name": "ipython",
    "version": 3
   },
   "file_extension": ".py",
   "mimetype": "text/x-python",
   "name": "python",
   "nbconvert_exporter": "python",
   "pygments_lexer": "ipython3",
   "version": "3.7.4"
  }
 },
 "nbformat": 4,
 "nbformat_minor": 2
}
