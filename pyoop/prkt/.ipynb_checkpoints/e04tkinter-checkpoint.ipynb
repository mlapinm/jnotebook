{
 "cells": [
  {
   "cell_type": "markdown",
   "metadata": {},
   "source": []
  },
  {
   "cell_type": "code",
   "execution_count": 23,
   "metadata": {},
   "outputs": [],
   "source": [
    "from tkinter import *\n",
    "\n",
    "class plEntry:\n",
    "    def __init__(self, panel, x, y, width, height, text, text_w, entry_w, val=''):\n",
    "        self.lab = Label(panel,text=text)\n",
    "        self.lab.place(x=x,y=y,width=text_w,height=height)\n",
    "        self.ent = Entry(panel)\n",
    "        self.ent.place(x=x+width-entry_w,y=y,width=entry_w,height=height)\n",
    "        self.set(val)\n",
    "    def get(self):\n",
    "        return self.ent.get()\n",
    "    \n",
    "    def set(self, text):\n",
    "        self.ent.delete(0,END)\n",
    "        self.ent.insert(END, text)\n",
    "        \n",
    "root = Tk()\n",
    "\n",
    "pn_control = Frame(root, height = 70, width=200, bg = 'silver')\n",
    "# -- side-расположение, fill-заполнение, expand-расширение выделенного текста\n",
    "pn_control.pack(side='top', fill='x')\n",
    "\n",
    "y_top = 10; h_top=18 # -- координаты верхнего ряда\n",
    "\n",
    "ed_dU =plEntry(pn_control, 20, y_top, \n",
    "               80, h_top, \n",
    "               text=\"x:\",text_w=20,\n",
    "               entry_w=40,val='1')\n",
    "\n",
    "root.mainloop()\n"
   ]
  },
  {
   "cell_type": "code",
   "execution_count": 9,
   "metadata": {},
   "outputs": [
    {
     "name": "stdout",
     "output_type": "stream",
     "text": [
      "[1, 2, 3, 4]\n"
     ]
    }
   ],
   "source": []
  }
 ],
 "metadata": {
  "kernelspec": {
   "display_name": "Python 3",
   "language": "python",
   "name": "python3"
  },
  "language_info": {
   "codemirror_mode": {
    "name": "ipython",
    "version": 3
   },
   "file_extension": ".py",
   "mimetype": "text/x-python",
   "name": "python",
   "nbconvert_exporter": "python",
   "pygments_lexer": "ipython3",
   "version": "3.7.4"
  }
 },
 "nbformat": 4,
 "nbformat_minor": 2
}
