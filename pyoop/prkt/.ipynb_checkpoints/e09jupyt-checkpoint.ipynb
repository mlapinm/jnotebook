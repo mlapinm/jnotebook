{
 "cells": [
  {
   "cell_type": "markdown",
   "metadata": {},
   "source": []
  },
  {
   "cell_type": "markdown",
   "metadata": {},
   "source": [
    "\n",
    "import ipywidgets as widgets"
   ]
  },
  {
   "cell_type": "markdown",
   "metadata": {},
   "source": [
    "#### Получить содержимое ячейка. Get cell programming."
   ]
  },
  {
   "cell_type": "markdown",
   "metadata": {},
   "source": [
    "%%html\n",
    "<style>\n",
    "</style>\n",
    "<details><pre>\n",
    "11\n",
    "22\n",
    "33\n",
    "</pre></details>"
   ]
  },
  {
   "cell_type": "code",
   "execution_count": 7,
   "metadata": {},
   "outputs": [
    {
     "data": {
      "application/javascript": [
       "var cell = Jupyter.notebook.get_cell(2);\n",
       "var s = cell.get_text() \n",
       "s +=\"  ==\"\n",
       "element.text(s)\n"
      ],
      "text/plain": [
       "<IPython.core.display.Javascript object>"
      ]
     },
     "metadata": {},
     "output_type": "display_data"
    }
   ],
   "source": [
    "%%javascript\n",
    "var cell = Jupyter.notebook.get_cell(2);\n",
    "var s = cell.get_text() \n",
    "s +=\"  ==\"\n",
    "element.text(s)"
   ]
  },
  {
   "cell_type": "code",
   "execution_count": 2,
   "metadata": {},
   "outputs": [
    {
     "data": {
      "application/javascript": [
       "var cell = Jupyter.notebook.get_cell(2);\n",
       "alert(cell.get_text())\n"
      ],
      "text/plain": [
       "<IPython.core.display.Javascript object>"
      ]
     },
     "metadata": {},
     "output_type": "display_data"
    }
   ],
   "source": [
    "%%javascript\n",
    "var cell = Jupyter.notebook.get_cell(2);\n",
    "alert(cell.get_text())"
   ]
  },
  {
   "cell_type": "code",
   "execution_count": 73,
   "metadata": {},
   "outputs": [
    {
     "data": {
      "text/plain": [
       "<notebook.services.config.manager.ConfigManager at 0x616f908>"
      ]
     },
     "execution_count": 73,
     "metadata": {},
     "output_type": "execute_result"
    }
   ],
   "source": [
    "from notebook.services.config.manager import ConfigManager\n",
    "cm = ConfigManager()\n",
    "cm\n"
   ]
  },
  {
   "cell_type": "code",
   "execution_count": 74,
   "metadata": {},
   "outputs": [],
   "source": [
    "# %lsmagic"
   ]
  },
  {
   "cell_type": "markdown",
   "metadata": {},
   "source": [
    "\n",
    "[Jupyter Notebook Users Manual](https://jupyter.brynmawr.edu/services/public/dblank/Jupyter%20Notebook%20Users%20Manual.ipynb#2.1.1.2-Cell-Tabbing)  \n",
    "[Интерактивное управление в Jupyter Notebooks](https://medium.com/nuances-of-programming/%D0%B8%D0%BD%D1%82%D0%B5%D1%80%D0%B0%D0%BA%D1%82%D0%B8%D0%B2%D0%BD%D0%BE%D0%B5-%D1%83%D0%BF%D1%80%D0%B0%D0%B2%D0%BB%D0%B5%D0%BD%D0%B8%D0%B5-%D0%B2-jupyter-notebooks-4fd1fccb5788)  \n",
    "[]()   \n",
    "[]()   \n",
    "[]()   \n",
    "[]()   \n"
   ]
  },
  {
   "cell_type": "markdown",
   "metadata": {},
   "source": [
    "%quickref"
   ]
  },
  {
   "cell_type": "code",
   "execution_count": 75,
   "metadata": {},
   "outputs": [],
   "source": [
    "%notebook e09jupyt.ipynb\n"
   ]
  },
  {
   "cell_type": "code",
   "execution_count": 81,
   "metadata": {},
   "outputs": [],
   "source": [
    "ip = get_ipython()\n",
    "a= ip.hooks.show_in_pager(\"2\")\n",
    "a"
   ]
  },
  {
   "cell_type": "code",
   "execution_count": 50,
   "metadata": {},
   "outputs": [
    {
     "name": "stdout",
     "output_type": "stream",
     "text": [
      "ConfigManager\t Javascript\t cm\t display\t hm\t ip\t json\t p_prompt\t register_cell_magic\t \n",
      "register_line_cell_magic\t tag\t \n"
     ]
    }
   ],
   "source": [
    "%who"
   ]
  },
  {
   "cell_type": "code",
   "execution_count": 31,
   "metadata": {},
   "outputs": [
    {
     "data": {
      "text/plain": [
       "['from IPython.core.magic import register_cell_magic, register_line_cell_magic\\nfrom IPython.display import Javascript, display\\nimport json\\n\\ndef _set_tags(tags):\\n    assert all(map(lambda t: isinstance(t, str), tags))\\n    display(Javascript(\\n        \"\"\"\\n        require([\\'setTags\\'], function(setTags) {\\n            setTags(element, %s);\\n        });\\n        \"\"\" % json.dumps(tags)\\n    ))\\n\\n@register_line_cell_magic\\ndef tag(line, cell=None):\\n    _set_tags(line.split())',\n",
       " 'Jupyter.notebook.get_cell_elements()',\n",
       " 'notebook.get_cell_elements()']"
      ]
     },
     "execution_count": 31,
     "metadata": {},
     "output_type": "execute_result"
    }
   ],
   "source": [
    "_ih[2:5]"
   ]
  },
  {
   "cell_type": "code",
   "execution_count": 89,
   "metadata": {},
   "outputs": [
    {
     "data": {
      "text/plain": [
       "<ipykernel.zmqshell.ZMQInteractiveShell at 0x4da5ec8>"
      ]
     },
     "execution_count": 89,
     "metadata": {},
     "output_type": "execute_result"
    }
   ],
   "source": [
    "ip = get_ipython()\n",
    "complete = ip.Completer.complete\n",
    "ip"
   ]
  },
  {
   "cell_type": "code",
   "execution_count": 87,
   "metadata": {},
   "outputs": [],
   "source": [
    "object?"
   ]
  },
  {
   "cell_type": "code",
   "execution_count": 100,
   "metadata": {},
   "outputs": [
    {
     "data": {
      "application/javascript": [
       "var cell = Jupyter.notebook.get_cell(2);\n",
       "var s = cell.get_text() \n",
       "s +=\"  ==\"\n",
       "element.text(s)\n"
      ],
      "text/plain": [
       "<IPython.core.display.Javascript object>"
      ]
     },
     "metadata": {},
     "output_type": "display_data"
    }
   ],
   "source": []
  },
  {
   "cell_type": "markdown",
   "metadata": {},
   "source": [
    "[Built-in magic commands](https://ipython.readthedocs.io/en/stable/interactive/magics.html#magic-alias)  "
   ]
  },
  {
   "cell_type": "code",
   "execution_count": 105,
   "metadata": {},
   "outputs": [
    {
     "name": "stdout",
     "output_type": "stream",
     "text": [
      "first A second B \n"
     ]
    }
   ],
   "source": [
    "%alias parts echo first %s second %s\n",
    "%parts A B"
   ]
  },
  {
   "cell_type": "code",
   "execution_count": 113,
   "metadata": {},
   "outputs": [
    {
     "data": {
      "text/plain": [
       "'%lsmagic'"
      ]
     },
     "execution_count": 113,
     "metadata": {},
     "output_type": "execute_result"
    }
   ],
   "source": [
    "# dir()\n",
    "_12"
   ]
  },
  {
   "cell_type": "code",
   "execution_count": 121,
   "metadata": {},
   "outputs": [
    {
     "name": "stdout",
     "output_type": "stream",
     "text": [
      "Variable                   Type                   Data/Info\n",
      "-----------------------------------------------------------\n",
      "ConfigManager              MetaHasTraits          <class 'notebook.services<...>g.manager.ConfigManager'>\n",
      "Javascript                 type                   <class 'IPython.core.display.Javascript'>\n",
      "a                          NoneType               None\n",
      "cm                         ConfigManager          <notebook.services.config<...>ct at 0x000000000616F908>\n",
      "complete                   method                 <bound method IPCompleter<...>t at 0x0000000005134E08>>\n",
      "display                    function               <function display at 0x00000000031381F8>\n",
      "hm                         HistoryManager         <IPython.core.history.His<...>ct at 0x0000000003C276C8>\n",
      "ip                         ZMQInteractiveShell    <ipykernel.zmqshell.ZMQIn<...>ct at 0x0000000004DA5EC8>\n",
      "json                       module                 <module 'json' from 'C:\\\\<...>\\lib\\\\json\\\\__init__.py'>\n",
      "p_prompt                   list                   n=3\n",
      "register_cell_magic        function               <function _function_magic<...>co at 0x00000000036661F8>\n",
      "register_line_cell_magic   function               <function _function_magic<...>co at 0x0000000003666288>\n",
      "tag                        function               <function tag at 0x0000000005500C18>\n"
     ]
    }
   ],
   "source": [
    "# %whos"
   ]
  },
  {
   "cell_type": "code",
   "execution_count": 132,
   "metadata": {},
   "outputs": [],
   "source": [
    "from IPython.core.events import pre_run_cell\n",
    "pre_run_cell(12)"
   ]
  },
  {
   "cell_type": "code",
   "execution_count": 133,
   "metadata": {},
   "outputs": [
    {
     "data": {
      "application/javascript": [
       "audiojs.event.ready(function(){\n",
       "    var as = audiojs.createAll();\n",
       "})\n"
      ],
      "text/plain": [
       "<IPython.core.display.Javascript object>"
      ]
     },
     "metadata": {},
     "output_type": "display_data"
    }
   ],
   "source": [
    "%%javascript\n",
    "audiojs.event.ready(function(){\n",
    "    var as = audiojs.createAll();\n",
    "})"
   ]
  },
  {
   "cell_type": "markdown",
   "metadata": {},
   "source": []
  },
  {
   "cell_type": "markdown",
   "metadata": {},
   "source": []
  },
  {
   "cell_type": "code",
   "execution_count": 34,
   "metadata": {},
   "outputs": [
    {
     "data": {
      "application/javascript": [
       "var s = \" \"\n",
       "var x = '5'\n",
       "s+=typeof(x)\n",
       "s+=' '+x+' '\n",
       "x *=1\n",
       "s+=typeof(x)\n",
       "s+=' '+x+' '\n",
       "x = parseInt('5.3')\n",
       "s+=' '+x+' '\n",
       "\n",
       "s += \"x = '5'*1 \"\n",
       "s += typeof(x)\n",
       "element.text(s)\n"
      ],
      "text/plain": [
       "<IPython.core.display.Javascript object>"
      ]
     },
     "metadata": {},
     "output_type": "display_data"
    }
   ],
   "source": [
    "%%javascript\n",
    "var s = \" \"\n",
    "var x = '5'\n",
    "s+=typeof(x)\n",
    "s+=' '+x+' '\n",
    "x *=1\n",
    "s+=typeof(x)\n",
    "s+=' '+x+' '\n",
    "x = parseInt('5.3')\n",
    "s+=' '+x+' '\n",
    "\n",
    "s += \"x = '5'*1 \"\n",
    "s += typeof(x)\n",
    "element.text(s)"
   ]
  },
  {
   "cell_type": "code",
   "execution_count": 1,
   "metadata": {},
   "outputs": [
    {
     "data": {
      "application/javascript": [
       "var o = {0:'Guest', 1:0, 2:false}\n",
       "var s = ''\n",
       "for(var i=0;i in o; i++){\n",
       "s += i + \": \" + o[i] + '; '\n",
       "}\n",
       "element.text(s)\n"
      ],
      "text/plain": [
       "<IPython.core.display.Javascript object>"
      ]
     },
     "metadata": {},
     "output_type": "display_data"
    }
   ],
   "source": [
    "%%javascript\n",
    "var o = {0:'Guest', 1:0, 2:false}\n",
    "var s = ''\n",
    "for(var i=0;i in o; i++){\n",
    "s += i + \": \" + o[i] + '; '\n",
    "}\n",
    "element.text(s)"
   ]
  },
  {
   "cell_type": "code",
   "execution_count": 24,
   "metadata": {},
   "outputs": [
    {
     "data": {
      "application/javascript": [
       "function f(){\n",
       "    var s = ''\n",
       "    for(var p in navigator){\n",
       "        s += \" \" + p + \" --- \" + navigator[p] + \" -|- \"\n",
       "    }\n",
       "    element.text(s)\n",
       "}\n",
       "f()\n"
      ],
      "text/plain": [
       "<IPython.core.display.Javascript object>"
      ]
     },
     "metadata": {},
     "output_type": "display_data"
    }
   ],
   "source": [
    "%%javascript\n",
    "function f(){\n",
    "    var s = ''\n",
    "    for(var p in navigator){\n",
    "        s += \" \" + p + \" --- \" + navigator[p] + \" -|- \"\n",
    "    }\n",
    "    element.text(s)\n",
    "}\n",
    "f()"
   ]
  },
  {
   "cell_type": "markdown",
   "metadata": {},
   "source": [
    "[Топ 5 сайтов для изучения JavaScript](https://www.youtube.com/watch?v=PsWIKvBeQ4k&list=PLVfMKQXDAhGUaEtJ_fOUz0F7TJtidE7Qw&index=39)  \n",
    "[www.freecodecamp.org](https://www.freecodecamp.org/learn/javascript-algorithms-and-data-structures/regular-expressions/using-the-test-method)  \n",
    "[www.codecademy.com](https://www.codecademy.com/courses/learn-html/lessons/intro-to-html/exercises/intro?action=resume_content_item)  \n",
    "[]()  \n",
    "[]()  \n",
    "[]()  \n",
    "[]()  \n",
    "[]()  \n",
    "[]()  \n",
    "[]()  \n"
   ]
  },
  {
   "cell_type": "markdown",
   "metadata": {},
   "source": [
    "[Regular Expressions: Using the Test Method](https://www.freecodecamp.org/learn/javascript-algorithms-and-data-structures/regular-expressions/using-the-test-method)  \n"
   ]
  },
  {
   "cell_type": "code",
   "execution_count": 28,
   "metadata": {},
   "outputs": [
    {
     "data": {
      "application/javascript": [
       "let myString = \"Hello, World!\";\n",
       "let myRegex = /Hello/;\n",
       "let result = myRegex.test(myString); // Change this line\n",
       "console.log(result)\n",
       "element.text(result)\n"
      ],
      "text/plain": [
       "<IPython.core.display.Javascript object>"
      ]
     },
     "metadata": {},
     "output_type": "display_data"
    }
   ],
   "source": [
    "%%javascript\n",
    "let myString = \"Hello, World!\";\n",
    "let myRegex = /Hello/;\n",
    "let result = myRegex.test(myString); // Change this line\n",
    "element.text(result)"
   ]
  },
  {
   "cell_type": "markdown",
   "metadata": {},
   "source": [
    "[Introduction to JavaScript](https://www.codecademy.com/learn/introduction-to-javascript)  "
   ]
  },
  {
   "cell_type": "markdown",
   "metadata": {},
   "source": [
    "#### Totorial Qt Creator - QTranslator"
   ]
  },
  {
   "cell_type": "markdown",
   "metadata": {},
   "source": [
    "```\n",
    "lupdate -pro Calculadora.pro -ts portugues.ts  \n",
    "found 13 source text(s) and 0 already exitsting  \n",
    "lupdate -pro Calculadora.pro -ts english.ts  \n",
    "found 13 source text(s)  \n",
    "Setting for portuques\n",
    "Source language  - Target language  \n",
    "lrelease portugues.ts  \n",
    "Project new resource file  \n",
    "traducciones.qrc  \n",
    "Prefix: Add files portugues.ts\n",
    "#include <QTranslator>  \n",
    "QApplication a\n",
    "QTranslator T;\n",
    "T.load(\":/portugues.qm\");\n",
    "a.installTranslator(&T)\n",
    "```"
   ]
  },
  {
   "cell_type": "markdown",
   "metadata": {},
   "source": [
    "```\n",
    "lupdate -pro a01prj.pro -ts a01prj.ts \n",
    "lupdate -pro diag.pro -ts diag.ts \n",
    "\n",
    "\n",
    "```"
   ]
  },
  {
   "cell_type": "markdown",
   "metadata": {},
   "source": [
    "[Локализация (перевод) программ на Qt](https://bravikov.wordpress.com/2016/11/02/%D0%BB%D0%BE%D0%BA%D0%B0%D0%BB%D0%B8%D0%B7%D0%B0%D1%86%D0%B8%D1%8F-%D0%BF%D1%80%D0%BE%D0%B3%D1%80%D0%B0%D0%BC%D0%BC-%D0%BD%D0%B0-qt/)  \n",
    "Linguist"
   ]
  },
  {
   "cell_type": "markdown",
   "metadata": {},
   "source": []
  },
  {
   "cell_type": "markdown",
   "metadata": {},
   "source": []
  }
 ],
 "metadata": {
  "kernelspec": {
   "display_name": "Python 3",
   "language": "python",
   "name": "python3"
  },
  "language_info": {
   "codemirror_mode": {
    "name": "ipython",
    "version": 3
   },
   "file_extension": ".py",
   "mimetype": "text/x-python",
   "name": "python",
   "nbconvert_exporter": "python",
   "pygments_lexer": "ipython3",
   "version": "3.7.4"
  }
 },
 "nbformat": 4,
 "nbformat_minor": 2
}
