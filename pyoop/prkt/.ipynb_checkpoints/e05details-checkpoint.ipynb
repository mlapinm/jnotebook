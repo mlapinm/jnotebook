{
 "cells": [
  {
   "cell_type": "markdown",
   "metadata": {},
   "source": []
  },
  {
   "cell_type": "code",
   "execution_count": 12,
   "metadata": {},
   "outputs": [
    {
     "name": "stdout",
     "output_type": "stream",
     "text": [
      "<details><pre>\n",
      "package fx;\r\n",
      "import javafx.animation.*;\r\n",
      "import javafx.application.Application;\r\n",
      "import javafx.scene.Group;\r\n",
      "import javafx.scene.Scene;\r\n",
      "import javafx.scene.image.Image;\r\n",
      "import javafx.scene.image.ImageView;\r\n",
      "import javafx.scene.paint.Color;\r\n",
      "import javafx.scene.shape.CubicCurveTo;\r\n",
      "import javafx.scene.shape.MoveTo;\r\n",
      "import javafx.scene.shape.Path;\r\n",
      "import javafx.scene.shape.Rectangle;\r\n",
      "import javafx.stage.Stage;\r\n",
      "import javafx.util.Duration;\r\n",
      "import java.io.FileInputStream;\r\n",
      "public class AnimationLesson extends Application {\r\n",
      "    public static void main(String[] args) {\r\n",
      "        launch(args);\r\n",
      "    }\r\n",
      "    @Override\r\n",
      "    public void start(Stage primaryStage) throws Exception {\r\n",
      "        Rectangle rectangle = new Rectangle(0, 0, 50, 50);\r\n",
      "        KeyValue xValue = new KeyValue(rectangle.xProperty(), 100);\r\n",
      "        KeyValue yValue = new KeyValue(rectangle.yProperty(), 100);\r\n",
      "        KeyFrame keyFrame = new KeyFrame(Duration.millis(1000), xValue, yValue);\r\n",
      "        Timeline timeline = new Timeline();\r\n",
      "        timeline.setCycleCount(Timeline.INDEFINITE);\r\n",
      "        timeline.setAutoReverse(true);\r\n",
      "        timeline.getKeyFrames().addAll(keyFrame);\r\n",
      "        timeline.play();\r\n",
      "        Image image = new Image(new FileInputStream(&quot;smile.jpg&quot;));\r\n",
      "        ImageView imageView = new ImageView(image);\r\n",
      "        imageView.setFitHeight(300);\r\n",
      "        imageView.setFitWidth(400);\r\n",
      "        FadeTransition fadeOut = new FadeTransition(Duration.millis(1000), imageView);\r\n",
      "        fadeOut.setFromValue(1.0);\r\n",
      "        fadeOut.setToValue(0.0);\r\n",
      "        fadeOut.setCycleCount(Timeline.INDEFINITE);\r\n",
      "        fadeOut.setAutoReverse(true);\r\n",
      "        fadeOut.play();\r\n",
      "        Rectangle rectPath = new Rectangle (0, 0, 40, 40);\r\n",
      "        rectPath.setFill(Color.ORANGE);\r\n",
      "        Path path = new Path();\r\n",
      "        path.getElements().add(new MoveTo(20,20));\r\n",
      "        path.getElements().add(new CubicCurveTo(380, 0, 380, 120, 200, 120));\r\n",
      "        path.getElements().add(new CubicCurveTo(0, 120, 0, 240, 380, 240));\r\n",
      "        PathTransition pathTransition = new PathTransition();\r\n",
      "        pathTransition.setDuration(Duration.millis(4000));\r\n",
      "        pathTransition.setPath(path);\r\n",
      "        pathTransition.setNode(rectPath);\r\n",
      "        pathTransition.setOrientation(PathTransition.OrientationType.ORTHOGONAL_TO_TANGENT);\r\n",
      "        pathTransition.setCycleCount(Timeline.INDEFINITE);\r\n",
      "        pathTransition.setAutoReverse(true);\r\n",
      "        pathTransition.play();\r\n",
      "        FadeTransition fadeTransition = new FadeTransition(Duration.millis(3000), rectPath);\r\n",
      "        fadeTransition.setFromValue(1.0f);\r\n",
      "        fadeTransition.setToValue(0.3f);\r\n",
      "        fadeTransition.setCycleCount(2);\r\n",
      "        fadeTransition.setAutoReverse(true);\r\n",
      "        TranslateTransition translateTransition = new TranslateTransition(Duration.millis(2000), rectPath);\r\n",
      "        translateTransition.setFromX(50);\r\n",
      "        translateTransition.setToX(350);\r\n",
      "        translateTransition.setCycleCount(2);\r\n",
      "        translateTransition.setAutoReverse(true);\r\n",
      "        RotateTransition rotateTransition = new RotateTransition(Duration.millis(3000), rectPath);\r\n",
      "        rotateTransition.setByAngle(180f);\r\n",
      "        rotateTransition.setCycleCount(4);\r\n",
      "        rotateTransition.setAutoReverse(true);\r\n",
      "        ScaleTransition scaleTransition = new ScaleTransition(Duration.millis(2000), rectPath);\r\n",
      "        scaleTransition.setToX(2f);\r\n",
      "        scaleTransition.setToY(2f);\r\n",
      "        scaleTransition.setCycleCount(2);\r\n",
      "        scaleTransition.setAutoReverse(true);\r\n",
      "        ParallelTransition parallelTransition = new ParallelTransition();\r\n",
      "        parallelTransition.getChildren().addAll(\r\n",
      "                fadeTransition,\r\n",
      "                translateTransition,\r\n",
      "                rotateTransition,\r\n",
      "                scaleTransition\r\n",
      "        );\r\n",
      "        parallelTransition.setCycleCount(Timeline.INDEFINITE);\r\n",
      "        parallelTransition.play();\r\n",
      "        SequentialTransition sequentialTransition = new SequentialTransition();\r\n",
      "        sequentialTransition.getChildren().addAll(\r\n",
      "                fadeTransition,\r\n",
      "                translateTransition,\r\n",
      "                rotateTransition,\r\n",
      "                scaleTransition);\r\n",
      "        sequentialTransition.setCycleCount(Timeline.INDEFINITE);\r\n",
      "        sequentialTransition.setAutoReverse(true);\r\n",
      "        sequentialTransition.play();\r\n",
      "        Group root = new Group();\r\n",
      "        root.getChildren().add(rectangle);\r\n",
      "        root.getChildren().add(rectPath);\r\n",
      "        root.getChildren().add(imageView);\r\n",
      "        primaryStage.setScene(new Scene(root, 400, 300));\r\n",
      "        primaryStage.show();\r\n",
      "    }\r\n",
      "}\n",
      "</pre></details>\n"
     ]
    }
   ],
   "source": [
    "import pandas as pd\n",
    "import codecs\n",
    "import clipboard\n",
    "\n",
    "st = \"\"\n",
    "with codecs.open(\"e05detr.txt\",\"r\",\"utf-8\") as fh :\n",
    "    st = fh.read();\n",
    "st = st.replace(\"<\",\"&lt;\")\n",
    "st = st.replace(\">\",\"&gt;\")\n",
    "st = st.replace(\"\\\"\",\"&quot;\")\n",
    "\n",
    "lst = st.split(\"\\n\")\n",
    "lst = [s for s in lst if len(s.strip())>0]\n",
    "lst2 = []\n",
    "lks = []\n",
    "for s in lst:\n",
    "    index=0\n",
    "    indexpr=0\n",
    "    quantity=0\n",
    "    first = 0\n",
    "    while 1:\n",
    "        index=s.find(' ',index)\n",
    "        if first == 0:\n",
    "            if index != 0:\n",
    "                break\n",
    "            first = 1\n",
    "        if index<0:\n",
    "            break\n",
    "#         print(index,indexpr)\n",
    "        if index-indexpr>1:\n",
    "            break\n",
    "        indexpr=index\n",
    "        quantity+=1\n",
    "        index+=1\n",
    "    if len(s)>0:\n",
    "        lst2.append(s)\n",
    "        lks.append(quantity)\n",
    "min=100\n",
    "for i in lks:\n",
    "    if min>i:\n",
    "        min=i\n",
    "\n",
    "lst3=[]\n",
    "for i in lst2:\n",
    "    \n",
    "    s = i[min:]\n",
    "    lst3.append(s)\n",
    "# print(lst3)\n",
    "# print(lst2)\n",
    "\n",
    "st = \"\\n\".join(lst3)\n",
    "st2 = \"<details><pre>\\n\"+st+\"\\n</pre></details>\"\n",
    "print(st2)\n",
    "\n",
    "with open(\"e05detw.txt\",\"w\") as fh :\n",
    "    fh.write(st2);\n",
    "clipboard.copy(st2)  \n",
    "text = clipboard.paste() "
   ]
  },
  {
   "cell_type": "code",
   "execution_count": null,
   "metadata": {},
   "outputs": [],
   "source": []
  },
  {
   "cell_type": "code",
   "execution_count": 47,
   "metadata": {},
   "outputs": [
    {
     "ename": "ModuleNotFoundError",
     "evalue": "No module named 'clipboard'",
     "output_type": "error",
     "traceback": [
      "\u001b[1;31m---------------------------------------------------------------------------\u001b[0m",
      "\u001b[1;31mModuleNotFoundError\u001b[0m                       Traceback (most recent call last)",
      "\u001b[1;32m<ipython-input-47-783e1baaac69>\u001b[0m in \u001b[0;36m<module>\u001b[1;34m\u001b[0m\n\u001b[1;32m----> 1\u001b[1;33m \u001b[1;32mimport\u001b[0m \u001b[0mclipboard\u001b[0m\u001b[1;33m\u001b[0m\u001b[1;33m\u001b[0m\u001b[0m\n\u001b[0m\u001b[0;32m      2\u001b[0m \u001b[0mclipboard\u001b[0m\u001b[1;33m.\u001b[0m\u001b[0mcopy\u001b[0m\u001b[1;33m(\u001b[0m\u001b[1;34m\"abc\"\u001b[0m\u001b[1;33m)\u001b[0m  \u001b[1;31m# now the clipboard content will be string \"abc\"\u001b[0m\u001b[1;33m\u001b[0m\u001b[1;33m\u001b[0m\u001b[0m\n\u001b[0;32m      3\u001b[0m \u001b[0mtext\u001b[0m \u001b[1;33m=\u001b[0m \u001b[0mclipboard\u001b[0m\u001b[1;33m.\u001b[0m\u001b[0mpaste\u001b[0m\u001b[1;33m(\u001b[0m\u001b[1;33m)\u001b[0m  \u001b[1;31m# text will have the content of clipboard\u001b[0m\u001b[1;33m\u001b[0m\u001b[1;33m\u001b[0m\u001b[0m\n",
      "\u001b[1;31mModuleNotFoundError\u001b[0m: No module named 'clipboard'"
     ]
    }
   ],
   "source": [
    "import clipboard\n",
    "clipboard.copy(\"abc\")  # now the clipboard content will be string \"abc\"\n",
    "text = clipboard.paste()  # text will have the content of clipboard"
   ]
  },
  {
   "cell_type": "code",
   "execution_count": 49,
   "metadata": {},
   "outputs": [
    {
     "data": {
      "text/plain": [
       "255"
      ]
     },
     "execution_count": 49,
     "metadata": {},
     "output_type": "execute_result"
    }
   ],
   "source": [
    "import os \n",
    "data = \"hello world\"\n",
    "os.system(\"echo '%s' | pbcopy\" % data)"
   ]
  },
  {
   "cell_type": "code",
   "execution_count": 51,
   "metadata": {},
   "outputs": [
    {
     "data": {
      "text/plain": [
       "0"
      ]
     },
     "execution_count": 51,
     "metadata": {},
     "output_type": "execute_result"
    }
   ],
   "source": [
    "import subprocess\n",
    "\n",
    "def copy2clip(txt):\n",
    "    cmd='echo '+txt.strip()+'|clip'\n",
    "    return subprocess.check_call(cmd, shell=True)\n",
    "copy2clip('This is on my clipboard!')\n"
   ]
  },
  {
   "cell_type": "code",
   "execution_count": 9,
   "metadata": {},
   "outputs": [],
   "source": [
    "import pandas as pd\n",
    "st2 ='Text to\\r\\n copy'\n",
    "df=pd.DataFrame({st2})\n",
    "df.to_clipboard(index=False,excel=True,header=False)"
   ]
  },
  {
   "cell_type": "code",
   "execution_count": 14,
   "metadata": {},
   "outputs": [],
   "source": [
    "#pip install clipboard\n",
    "import clipboard\n",
    "st2 ='Text to\\r\\n copy'\n",
    "clipboard.copy(st2)  \n",
    "text = clipboard.paste() "
   ]
  },
  {
   "cell_type": "markdown",
   "metadata": {},
   "source": [
    "Text to\n",
    " copy\n"
   ]
  }
 ],
 "metadata": {
  "kernelspec": {
   "display_name": "Python 3",
   "language": "python",
   "name": "python3"
  },
  "language_info": {
   "codemirror_mode": {
    "name": "ipython",
    "version": 3
   },
   "file_extension": ".py",
   "mimetype": "text/x-python",
   "name": "python",
   "nbconvert_exporter": "python",
   "pygments_lexer": "ipython3",
   "version": "3.7.4"
  }
 },
 "nbformat": 4,
 "nbformat_minor": 2
}
