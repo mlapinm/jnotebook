{
 "cells": [
  {
   "cell_type": "markdown",
   "metadata": {},
   "source": [
    "[codecademy](https://www.codecademy.com/learn/learn-python) "
   ]
  },
  {
   "cell_type": "markdown",
   "metadata": {},
   "source": [
    "#### Passing a list to a function\n",
    "Using an element from a list in a function Modifying an element of a list in a function List manipulation in functions Printing out a list item by item in a function Modifying each element in a list in a function Passing a range into a function Iterating over a list in a function Using strings in lists in functions Using two lists as two arguments in a function Using a list of lists in a function    "
   ]
  },
  {
   "cell_type": "markdown",
   "metadata": {},
   "source": [
    "#### Welcome to Battleship!\n",
    "Getting Our Feet Wet Make a List Check it Twice Custom Print Printing Pretty Hide... ...and Seek! It's Not Cheating—It's Debugging! You win! Danger, Will Robinson!! Bad Aim Not Again! Test Run Play It, Sam Game Over A Real Win To Your Battle Stations!     "
   ]
  },
  {
   "cell_type": "code",
   "execution_count": 4,
   "metadata": {},
   "outputs": [
    {
     "name": "stdout",
     "output_type": "stream",
     "text": [
      "O O O O O\n",
      "O O O O O\n",
      "O O O O O\n",
      "O O O O O\n",
      "O O O O O\n",
      "0\n",
      "0\n",
      "Turn 1\n",
      "Guess Row: 0\n",
      "Guess Col: 0\n",
      "Congratulations! You sunk my battleship!\n"
     ]
    }
   ],
   "source": [
    "from random import randint\n",
    "\n",
    "board = []\n",
    "\n",
    "for x in range(5):\n",
    "  board.append([\"O\"] * 5)\n",
    "\n",
    "def print_board(board):\n",
    "  for row in board:\n",
    "    print (\" \".join(row))\n",
    "\n",
    "print_board(board)\n",
    "\n",
    "def random_row(board):\n",
    "  return randint(0, len(board) - 1)\n",
    "\n",
    "def random_col(board):\n",
    "  return randint(0, len(board[0]) - 1)\n",
    "\n",
    "ship_row = random_row(board)\n",
    "ship_col = random_col(board)\n",
    "print (ship_row)\n",
    "print (ship_col)\n",
    "\n",
    "for turn in range(4):\n",
    "  print (\"Turn\", turn+1)\n",
    "  # Everything from here on should go in your for loop!\n",
    "  # Be sure to indent four spaces!\n",
    "  guess_row = int(input(\"Guess Row: \"))\n",
    "  guess_col = int(input(\"Guess Col: \"))\n",
    "\n",
    "  if guess_row == ship_row and guess_col == ship_col:\n",
    "    print (\"Congratulations! You sunk my battleship!\")\n",
    "    break\n",
    "  else:\n",
    "    if (guess_row < 0 or guess_row > 4) or (guess_col < 0 or guess_col > 4):\n",
    "      print (\"Oops, that's not even in the ocean.\")\n",
    "    elif(board[guess_row][guess_col] == \"X\"):\n",
    "      print (\"You guessed that one already.\")\n",
    "    else:\n",
    "      print (\"You missed my battleship!\")\n",
    "      board[guess_row][guess_col] = \"X\"\n",
    "    # Print (turn + 1) here!\n",
    "    print_board(board)\n",
    "if turn == 3:\n",
    "  print(\"Game Over\")\n",
    "    "
   ]
  },
  {
   "cell_type": "markdown",
   "metadata": {},
   "source": [
    "#### While you're here"
   ]
  },
  {
   "cell_type": "code",
   "execution_count": 6,
   "metadata": {},
   "outputs": [
    {
     "name": "stdout",
     "output_type": "stream",
     "text": [
      "Hello, I am an if statement and count is 0\n",
      "Hello, I am a while and count is 0\n",
      "Hello, I am a while and count is 1\n",
      "Hello, I am a while and count is 2\n",
      "Hello, I am a while and count is 3\n",
      "Hello, I am a while and count is 4\n",
      "Hello, I am a while and count is 5\n",
      "Hello, I am a while and count is 6\n",
      "Hello, I am a while and count is 7\n",
      "Hello, I am a while and count is 8\n",
      "Hello, I am a while and count is 9\n"
     ]
    }
   ],
   "source": [
    "count = 0\n",
    "\n",
    "if count < 10:\n",
    "  print (\"Hello, I am an if statement and count is\", count)\n",
    "\n",
    "while count < 10:\n",
    "  print (\"Hello, I am a while and count is\", count)\n",
    "  count += 1"
   ]
  },
  {
   "cell_type": "markdown",
   "metadata": {},
   "source": [
    "#### Condition"
   ]
  },
  {
   "cell_type": "code",
   "execution_count": 7,
   "metadata": {},
   "outputs": [
    {
     "name": "stdout",
     "output_type": "stream",
     "text": [
      "I am a loop\n"
     ]
    }
   ],
   "source": [
    "loop_condition = True\n",
    "\n",
    "while loop_condition:\n",
    "  print (\"I am a loop\")\n",
    "  loop_condition = False"
   ]
  },
  {
   "cell_type": "markdown",
   "metadata": {},
   "source": [
    "#### While you're at it"
   ]
  },
  {
   "cell_type": "code",
   "execution_count": null,
   "metadata": {},
   "outputs": [],
   "source": [
    "num = 1\n",
    "while num <= 10:  # Fill in the condition\n",
    "  print(num*num)\n",
    "  num += 1"
   ]
  },
  {
   "cell_type": "markdown",
   "metadata": {},
   "source": [
    "#### Simple errors"
   ]
  },
  {
   "cell_type": "code",
   "execution_count": 8,
   "metadata": {},
   "outputs": [
    {
     "name": "stdout",
     "output_type": "stream",
     "text": [
      "Enjoying the course? (y/n)k\n",
      "Sorry, I didn't catch that. Enter again: y\n"
     ]
    }
   ],
   "source": [
    "choice = input('Enjoying the course? (y/n)')\n",
    "\n",
    "while choice != 'y' and choice != 'n':  # Fill in the condition (before the colon)\n",
    "  choice = input(\"Sorry, I didn't catch that. Enter again: \")\n"
   ]
  },
  {
   "cell_type": "markdown",
   "metadata": {},
   "source": [
    "#### Infinite loops\n"
   ]
  },
  {
   "cell_type": "code",
   "execution_count": 9,
   "metadata": {},
   "outputs": [
    {
     "name": "stdout",
     "output_type": "stream",
     "text": [
      "0\n",
      "1\n",
      "2\n",
      "3\n",
      "4\n",
      "5\n",
      "6\n",
      "7\n",
      "8\n",
      "9\n"
     ]
    }
   ],
   "source": [
    "count = 0\n",
    "\n",
    "while count < 10: # Add a colon\n",
    "  print (count)\n",
    "  # Increment count\n",
    "  count += 1"
   ]
  },
  {
   "cell_type": "markdown",
   "metadata": {},
   "source": [
    "#### Break"
   ]
  },
  {
   "cell_type": "code",
   "execution_count": null,
   "metadata": {},
   "outputs": [],
   "source": [
    "count = 0\n",
    "\n",
    "while True:\n",
    "  print count\n",
    "  count += 1\n",
    "  if count >= 10:\n",
    "    break"
   ]
  },
  {
   "cell_type": "markdown",
   "metadata": {},
   "source": [
    "#### While / else"
   ]
  },
  {
   "cell_type": "code",
   "execution_count": null,
   "metadata": {},
   "outputs": [],
   "source": [
    "import random\n",
    "\n",
    "print \"Lucky Numbers! 3 numbers will be generated.\"\n",
    "print \"If one of them is a '5', you lose!\"\n",
    "\n",
    "count = 0\n",
    "while count < 3:\n",
    "  num = random.randint(1, 6)\n",
    "  print num\n",
    "  if num == 5:\n",
    "    print \"Sorry, you lose!\"\n",
    "    break\n",
    "  count += 1\n",
    "else:\n",
    "  print \"You win!\""
   ]
  },
  {
   "cell_type": "markdown",
   "metadata": {},
   "source": [
    "#### Your own while / else"
   ]
  },
  {
   "cell_type": "code",
   "execution_count": 10,
   "metadata": {},
   "outputs": [
    {
     "name": "stdout",
     "output_type": "stream",
     "text": [
      "Guess number.4\n",
      "Guess number.5\n",
      "Guess number.6\n",
      "You lose.\n"
     ]
    }
   ],
   "source": [
    "from random import randint\n",
    "\n",
    "# Generates a number from 1 through 10 inclusive\n",
    "random_number = randint(1, 10)\n",
    "\n",
    "guesses_left = 3\n",
    "# Start your game!\n",
    "while guesses_left > 0:\n",
    "  guess = input(\"Guess number.\")\n",
    "  if guess == random_number:\n",
    "    print(\"You win.\")\n",
    "    break\n",
    "  guesses_left -= 1\n",
    "else:\n",
    "  print(\"You lose.\")"
   ]
  },
  {
   "cell_type": "markdown",
   "metadata": {},
   "source": [
    "#### For your health"
   ]
  },
  {
   "cell_type": "code",
   "execution_count": 11,
   "metadata": {},
   "outputs": [
    {
     "name": "stdout",
     "output_type": "stream",
     "text": [
      "Counting...\n",
      "0\n",
      "1\n",
      "2\n",
      "3\n",
      "4\n",
      "5\n",
      "6\n",
      "7\n",
      "8\n",
      "9\n",
      "10\n",
      "11\n",
      "12\n",
      "13\n",
      "14\n",
      "15\n",
      "16\n",
      "17\n",
      "18\n",
      "19\n"
     ]
    }
   ],
   "source": [
    "print (\"Counting...\")\n",
    "\n",
    "for i in range(20):\n",
    "  print (i)"
   ]
  },
  {
   "cell_type": "markdown",
   "metadata": {},
   "source": [
    "#### For your hobbies"
   ]
  },
  {
   "cell_type": "code",
   "execution_count": 16,
   "metadata": {},
   "outputs": [
    {
     "name": "stdout",
     "output_type": "stream",
     "text": [
      "Your hobby: ff\n",
      "Your hobby: dd\n",
      "Your hobby: ss\n",
      "['ff', 'dd', 'ss']\n"
     ]
    }
   ],
   "source": [
    "hobbies = []\n",
    "\n",
    "# Add your code below!\n",
    "for i in range(3):\n",
    "  hobby = input(\"Your hobby: \")\n",
    "  hobbies.append(hobby)\n",
    "\n",
    "print(hobbies)"
   ]
  },
  {
   "cell_type": "markdown",
   "metadata": {},
   "source": [
    "#### For your strings"
   ]
  },
  {
   "cell_type": "code",
   "execution_count": null,
   "metadata": {},
   "outputs": [],
   "source": [
    "thing = \"spam!\"\n",
    "\n",
    "for c in thing:\n",
    "  print c\n",
    "\n",
    "word = \"eggs!\"\n",
    "\n",
    "# Your code here!\n",
    "for c in word:\n",
    "  print c\n"
   ]
  },
  {
   "cell_type": "markdown",
   "metadata": {},
   "source": [
    "#### For your A"
   ]
  },
  {
   "cell_type": "code",
   "execution_count": 17,
   "metadata": {},
   "outputs": [
    {
     "name": "stdout",
     "output_type": "stream",
     "text": [
      "X\n",
      " \n",
      "b\n",
      "i\n",
      "r\n",
      "d\n",
      " \n",
      "i\n",
      "n\n",
      " \n",
      "t\n",
      "h\n",
      "e\n",
      " \n",
      "h\n",
      "X\n",
      "n\n",
      "d\n",
      ".\n",
      ".\n",
      ".\n"
     ]
    }
   ],
   "source": [
    "phrase = \"A bird in the hand...\"\n",
    "\n",
    "# Add your for loop\n",
    "for char in phrase:\n",
    "  if char == \"A\" or char == \"a\":\n",
    "    print (\"X\") \n",
    "  else:\n",
    "    print (char)\n",
    "  print\n",
    "\n",
    "\n",
    "\n",
    "#Don't delete this print statement!"
   ]
  },
  {
   "cell_type": "markdown",
   "metadata": {},
   "source": [
    "#### For your lists"
   ]
  },
  {
   "cell_type": "code",
   "execution_count": null,
   "metadata": {},
   "outputs": [],
   "source": [
    "numbers  = [7, 9, 12, 54, 99]\n",
    "\n",
    "print \"This list contains: \"\n",
    "\n",
    "for num in numbers:\n",
    "  print num\n",
    "\n",
    "# Add your loop below!\n",
    "for num in numbers:\n",
    "  print num*num"
   ]
  },
  {
   "cell_type": "markdown",
   "metadata": {},
   "source": [
    "#### Looping over a dictionary"
   ]
  },
  {
   "cell_type": "code",
   "execution_count": 18,
   "metadata": {},
   "outputs": [
    {
     "name": "stdout",
     "output_type": "stream",
     "text": [
      "a apple\n",
      "b berry\n",
      "c cherry\n"
     ]
    }
   ],
   "source": [
    "d = {'a': 'apple', 'b': 'berry', 'c': 'cherry'}\n",
    "\n",
    "for key in d:\n",
    "  # Your code here!\n",
    "  print(key+\" \"+d[key])"
   ]
  },
  {
   "cell_type": "markdown",
   "metadata": {},
   "source": [
    "#### Counting as you go"
   ]
  },
  {
   "cell_type": "code",
   "execution_count": 20,
   "metadata": {},
   "outputs": [
    {
     "name": "stdout",
     "output_type": "stream",
     "text": [
      "Your choices are:\n",
      "1 pizza\n",
      "2 pasta\n",
      "3 salad\n",
      "4 nachos\n"
     ]
    }
   ],
   "source": [
    "choices = ['pizza', 'pasta', 'salad', 'nachos']\n",
    "\n",
    "print ('Your choices are:')\n",
    "for index, item in enumerate(choices):\n",
    "  print (index+1, item)"
   ]
  },
  {
   "cell_type": "markdown",
   "metadata": {},
   "source": [
    "#### Multiple lists"
   ]
  },
  {
   "cell_type": "code",
   "execution_count": null,
   "metadata": {},
   "outputs": [],
   "source": [
    "list_a = [3, 9, 17, 15, 19]\n",
    "list_b = [2, 4, 8, 10, 30, 40, 50, 60, 70, 80, 90]\n",
    "\n",
    "for a, b in zip(list_a, list_b):\n",
    "  # Add your code here!\n",
    "  c = a if a>b else b\n",
    "  print(c)"
   ]
  },
  {
   "cell_type": "markdown",
   "metadata": {},
   "source": [
    "#### For / else"
   ]
  },
  {
   "cell_type": "code",
   "execution_count": null,
   "metadata": {},
   "outputs": [],
   "source": [
    "fruits = ['banana', 'apple', 'orange', 'tomato', 'pear', 'grape']\n",
    "\n",
    "print 'You have...'\n",
    "for f in fruits:\n",
    "  if f == 'tomato':\n",
    "    print 'A tomato is not a fruit!' # (It actually is.)\n",
    "    break\n",
    "  print 'A', f\n",
    "else:\n",
    "  print 'A fine selection of fruits!'"
   ]
  },
  {
   "cell_type": "markdown",
   "metadata": {},
   "source": [
    "#### Change it up"
   ]
  },
  {
   "cell_type": "code",
   "execution_count": 21,
   "metadata": {},
   "outputs": [
    {
     "name": "stdout",
     "output_type": "stream",
     "text": [
      "You have...\n",
      "A banana\n",
      "A apple\n",
      "A orange\n",
      "A tomato is not a fruit!\n",
      "A tomato\n",
      "A pear\n",
      "A grape\n",
      "A fine selection of fruits!\n"
     ]
    }
   ],
   "source": [
    "fruits = ['banana', 'apple', 'orange', 'tomato', 'pear', 'grape']\n",
    "\n",
    "print ('You have...')\n",
    "for f in fruits:\n",
    "  if f == 'tomato':\n",
    "    print ('A tomato is not a fruit!') # (It actually is.)\n",
    "    \n",
    "  print ('A', f)\n",
    "else:\n",
    "  print ('A fine selection of fruits!')"
   ]
  },
  {
   "cell_type": "markdown",
   "metadata": {},
   "source": [
    "#### Create your own"
   ]
  },
  {
   "cell_type": "code",
   "execution_count": null,
   "metadata": {},
   "outputs": [],
   "source": [
    "s = \"to the editor regardless\"\n",
    "for i in s:\n",
    "  print(i)\n",
    "else:\n",
    "  print(\"end\")"
   ]
  },
  {
   "cell_type": "markdown",
   "metadata": {},
   "source": [
    "#### Practice Makes Perfect\n",
    "1. Practice! Practice Practice!\n",
    "\n",
    "2. is_even\n",
    "\n",
    "3. is_int\n",
    "\n",
    "4. digit_sum\n",
    "\n",
    "5. factorial\n",
    "\n",
    "6. is_prime\n",
    "\n",
    "7. reverse\n",
    "\n",
    "8. anti_vowel\n",
    "\n",
    "9. scrabble_score\n",
    "\n",
    "10. censor\n",
    "\n",
    "11. count\n",
    "\n",
    "12. purify\n",
    "\n",
    "13. product\n",
    "\n",
    "14. remove_duplicates\n",
    "\n",
    "15. median"
   ]
  },
  {
   "cell_type": "markdown",
   "metadata": {},
   "source": [
    "#### is_even"
   ]
  },
  {
   "cell_type": "code",
   "execution_count": null,
   "metadata": {},
   "outputs": [],
   "source": [
    "def is_even(x):\n",
    "  return True if x%2==0 else False "
   ]
  },
  {
   "cell_type": "markdown",
   "metadata": {},
   "source": [
    "#### is_int"
   ]
  },
  {
   "cell_type": "code",
   "execution_count": null,
   "metadata": {},
   "outputs": [],
   "source": [
    "def is_int(x):\n",
    "  if x-int(x)==0:\n",
    "    return True\n",
    "  else:\n",
    "    return False"
   ]
  },
  {
   "cell_type": "markdown",
   "metadata": {},
   "source": [
    "#### digit_sum"
   ]
  },
  {
   "cell_type": "code",
   "execution_count": null,
   "metadata": {},
   "outputs": [],
   "source": [
    "def digit_sum(x):\n",
    "  sum = 0\n",
    "  s = str(int(x))\n",
    "  for i in s:\n",
    "    sum +=int(i)\n",
    "  return sum"
   ]
  },
  {
   "cell_type": "markdown",
   "metadata": {},
   "source": [
    "#### factorial"
   ]
  },
  {
   "cell_type": "code",
   "execution_count": 28,
   "metadata": {},
   "outputs": [
    {
     "name": "stdout",
     "output_type": "stream",
     "text": [
      "6\n"
     ]
    }
   ],
   "source": [
    "def factorial(x):\n",
    "  s=1\n",
    "  for i in range(x):\n",
    "    s *= (i+1)\n",
    "  return s\n",
    "\n",
    "print(factorial(3))"
   ]
  },
  {
   "cell_type": "markdown",
   "metadata": {},
   "source": [
    "#### is_prime"
   ]
  },
  {
   "cell_type": "code",
   "execution_count": null,
   "metadata": {},
   "outputs": [],
   "source": [
    "def is_prime(x):\n",
    "  b = False\n",
    "  if x<2:\n",
    "    return b\n",
    "  for i in range(2,x):\n",
    "    if float(x)/i-int(x)/i==0:\n",
    "      break\n",
    "  else:\n",
    "    b = True\n",
    "  return b  \n",
    "  \n",
    "print(is_prime(0))"
   ]
  },
  {
   "cell_type": "markdown",
   "metadata": {},
   "source": [
    "#### reverse"
   ]
  },
  {
   "cell_type": "code",
   "execution_count": null,
   "metadata": {},
   "outputs": [],
   "source": [
    "def reverse(s):\n",
    "  s2=\"\"\n",
    "  for i in range(len(s),0,-1):\n",
    "    s2 += str(s[i-1])    \n",
    "  return s2\n",
    "\n",
    "print(reverse(\"abcd\"))  "
   ]
  },
  {
   "cell_type": "markdown",
   "metadata": {},
   "source": [
    "#### anti_vowel\n"
   ]
  },
  {
   "cell_type": "code",
   "execution_count": 29,
   "metadata": {},
   "outputs": [
    {
     "name": "stdout",
     "output_type": "stream",
     "text": [
      "Hy lk Wrds!\n"
     ]
    }
   ],
   "source": [
    "def anti_vowel(s):\n",
    "  s2=\"\"\n",
    "  s_vowel = \"aeiouAEIOU\"\n",
    "  for i in s:\n",
    "    if  s_vowel.find(str(i))==-1:\n",
    "      # print(s_vowel.find(str(i)))\n",
    "      s2 += i\n",
    "  return s2\n",
    "\n",
    "print(anti_vowel(\"Hey look Words!\"))"
   ]
  },
  {
   "cell_type": "markdown",
   "metadata": {},
   "source": [
    "#### scrabble_score"
   ]
  },
  {
   "cell_type": "code",
   "execution_count": 2,
   "metadata": {},
   "outputs": [
    {
     "name": "stdout",
     "output_type": "stream",
     "text": [
      "8\n"
     ]
    }
   ],
   "source": [
    "score = {\"a\": 1, \"c\": 3, \"b\": 3, \"e\": 1, \"d\": 2, \"g\": 2, \n",
    "         \"f\": 4, \"i\": 1, \"h\": 4, \"k\": 5, \"j\": 8, \"m\": 3, \n",
    "         \"l\": 1, \"o\": 1, \"n\": 1, \"q\": 10, \"p\": 3, \"s\": 1, \n",
    "         \"r\": 1, \"u\": 1, \"t\": 1, \"w\": 4, \"v\": 4, \"y\": 4, \n",
    "         \"x\": 8, \"z\": 10}\n",
    "\n",
    "def scrabble_score(word):\n",
    "  sum = 0\n",
    "  word = word.lower()\n",
    "  for i in word:\n",
    "    sum += score[i]\n",
    "  return sum\n",
    "    \n",
    "print(scrabble_score(\"word\"))"
   ]
  },
  {
   "cell_type": "markdown",
   "metadata": {},
   "source": [
    "#### censor"
   ]
  },
  {
   "cell_type": "code",
   "execution_count": 3,
   "metadata": {},
   "outputs": [
    {
     "name": "stdout",
     "output_type": "stream",
     "text": [
      "this **** is wack ****\n"
     ]
    }
   ],
   "source": [
    "def censor(text, word):\n",
    "  pattern=\"\"\n",
    "  for i in word:\n",
    "    pattern+=\"*\"\n",
    "  text = text.replace(word,pattern)\n",
    "  return text\n",
    "\n",
    "print(censor(\"this hack is wack hack\", \"hack\"))"
   ]
  },
  {
   "cell_type": "markdown",
   "metadata": {},
   "source": [
    "#### count"
   ]
  },
  {
   "cell_type": "code",
   "execution_count": null,
   "metadata": {},
   "outputs": [],
   "source": [
    "def count(sequence, item):\n",
    "  sum = 0\n",
    "  for i in sequence:\n",
    "    if i==item:\n",
    "      sum+=1\n",
    "  return sum\n",
    "\n",
    "print(count([1, 2, 1, 1], 1))"
   ]
  },
  {
   "cell_type": "markdown",
   "metadata": {},
   "source": [
    "#### purify"
   ]
  },
  {
   "cell_type": "code",
   "execution_count": 4,
   "metadata": {},
   "outputs": [
    {
     "name": "stdout",
     "output_type": "stream",
     "text": [
      "[2, 4]\n"
     ]
    }
   ],
   "source": [
    "def purify(l):\n",
    "  l2=[]\n",
    "  for i in l:\n",
    "    if i%2==0:\n",
    "      l2.append(i)\n",
    "  return l2\n",
    "\n",
    "print(purify([1,2,3,4]))"
   ]
  },
  {
   "cell_type": "code",
   "execution_count": 8,
   "metadata": {},
   "outputs": [
    {
     "name": "stdout",
     "output_type": "stream",
     "text": [
      "[2, 4]\n"
     ]
    }
   ],
   "source": [
    "def purify(l):\n",
    "  return [i for i in l if i%2==0]\n",
    "  # for i in l:\n",
    "  #   if i%2==0:\n",
    "  #     l2.append(i)\n",
    "  # return l2\n",
    "\n",
    "print(purify([1,2,3,4]))"
   ]
  },
  {
   "cell_type": "markdown",
   "metadata": {},
   "source": [
    "#### product"
   ]
  },
  {
   "cell_type": "code",
   "execution_count": null,
   "metadata": {},
   "outputs": [],
   "source": [
    "def product(l):\n",
    "  sum = 1\n",
    "  for i in l:\n",
    "    sum *=i\n",
    "  return sum\n",
    "\n",
    "print(product([4,5,5]))"
   ]
  },
  {
   "cell_type": "markdown",
   "metadata": {},
   "source": [
    "#### remove_duplicates"
   ]
  },
  {
   "cell_type": "code",
   "execution_count": 9,
   "metadata": {},
   "outputs": [
    {
     "name": "stdout",
     "output_type": "stream",
     "text": [
      "[1, 2]\n"
     ]
    }
   ],
   "source": [
    "def remove_duplicates(l):\n",
    "  s=set(l)\n",
    "  l2 = list(s)\n",
    "  return l2\n",
    "\n",
    "print(remove_duplicates([1, 1, 2, 2]))"
   ]
  },
  {
   "cell_type": "markdown",
   "metadata": {},
   "source": [
    "#### median"
   ]
  },
  {
   "cell_type": "code",
   "execution_count": 13,
   "metadata": {},
   "outputs": [
    {
     "name": "stdout",
     "output_type": "stream",
     "text": [
      "4.5\n"
     ]
    }
   ],
   "source": [
    "def median(l):\n",
    "  m=0\n",
    "  count = len(l)\n",
    "  l.sort()\n",
    "  if count%2 != 0:\n",
    "    m=l[count/2]\n",
    "  else:\n",
    "    m=(l[count//2-1]+l[count//2])/2.0\n",
    "  return m\n",
    "\n",
    "print(median([4, 5, 5, 4]))"
   ]
  },
  {
   "cell_type": "markdown",
   "metadata": {},
   "source": [
    "#### Exam Statistics\n",
    "LESSON\n",
    "Your students just took their first test. It’s time to see how everyone did. Let’s write a program to compute the mean, variance, and standard deviation of the test scores.\n",
    "\n",
    "Exercises\n",
    "\n",
    "1. Let's look at those grades!\n",
    "\n",
    "2. Print those grades\n",
    "\n",
    "3. Review\n",
    "\n",
    "4. The sum of scores\n",
    "\n",
    "5. Computing the Average\n",
    "\n",
    "6. Review\n",
    "\n",
    "7. The Variance\n",
    "\n",
    "8. Standard Deviation\n",
    "\n",
    "9. Review"
   ]
  },
  {
   "cell_type": "markdown",
   "metadata": {},
   "source": [
    "#### 1. Let's look at those grades!\n"
   ]
  },
  {
   "cell_type": "markdown",
   "metadata": {},
   "source": [
    "#### Print those grades"
   ]
  },
  {
   "cell_type": "code",
   "execution_count": 8,
   "metadata": {},
   "outputs": [
    {
     "name": "stdout",
     "output_type": "stream",
     "text": [
      "334.0710059171598\n"
     ]
    }
   ],
   "source": [
    "grades = [100, 100, 90, 40, 80, 100, 85, 70, 90, 65, 90, 85, 50.5]\n",
    "\n",
    "def print_grades(grades_input):\n",
    "  for grade in grades_input:\n",
    "    print grade\n",
    "\n",
    "def grades_sum(scores):\n",
    "  total = 0\n",
    "  for score in scores: \n",
    "    total += score\n",
    "  return total\n",
    "    \n",
    "def grades_average(grades_input):\n",
    "  sum_of_grades = grades_sum(grades_input)\n",
    "  average = sum_of_grades / float(len(grades_input))\n",
    "  return average\n",
    "\n",
    "def grades_variance(scores):\n",
    "  average=grades_average(scores)\n",
    "  variance=0\n",
    "  for score in scores:\n",
    "    variance+=(average - score) ** 2\n",
    "  return variance/len(scores)\n",
    "\n",
    "def grades_std_deviation(variance):\n",
    "  return variance ** 0.5\n",
    "\n",
    "print_grades(grades)\n",
    "print(grades_sum(grades))\n",
    "print(grades_average(grades))\n",
    "print(grades_variance(grades))\n",
    "print(grades_std_deviation(grades_variance(grades)))"
   ]
  },
  {
   "cell_type": "code",
   "execution_count": null,
   "metadata": {},
   "outputs": [],
   "source": []
  },
  {
   "cell_type": "markdown",
   "metadata": {},
   "source": [
    "#### Advanced Topics in Python\n",
    "LESSON\n",
    "In this lesson, we’ll cover some of the more complex aspects of Python, including iterating over data structures, list comprehensions, list slicing, and lambda expressions.\n",
    "\n",
    "Exercises\n",
    "\n",
    "1. Iterators for Dictionaries\n",
    "\n",
    "2. keys() and values()\n",
    "\n",
    "3. The 'in' Operator\n",
    "\n",
    "4. Building Lists\n",
    "\n",
    "5. List Comprehension Syntax\n",
    "\n",
    "6. Now You Try!\n",
    "\n",
    "7. List Slicing Syntax\n",
    "\n",
    "8. Omitting Indices\n",
    "\n",
    "9. Reversing a List\n",
    "\n",
    "10. Stride Length\n",
    "\n",
    "11. Practice Makes Perfect\n",
    "\n",
    "12. Anonymous Functions\n",
    "\n",
    "13. Lambda Syntax\n",
    "\n",
    "14. Try It!\n",
    "\n",
    "15. Iterating Over Dictionaries\n",
    "\n",
    "16. Comprehending Comprehensions\n",
    "\n",
    "17. List Slicing\n",
    "\n",
    "18. Lambda Expressions"
   ]
  },
  {
   "cell_type": "code",
   "execution_count": 9,
   "metadata": {},
   "outputs": [
    {
     "name": "stdout",
     "output_type": "stream",
     "text": [
      "dict_items([('Name', 'Michael'), ('Age', 56), ('BDFL', True)])\n"
     ]
    }
   ],
   "source": [
    "my_dict = {\n",
    "  \"Name\": \"Michael\",\n",
    "  \"Age\": 56,\n",
    "  \"BDFL\": True\n",
    "}\n",
    "\n",
    "print(my_dict.items())"
   ]
  },
  {
   "cell_type": "code",
   "execution_count": null,
   "metadata": {},
   "outputs": [],
   "source": [
    "my_dict = {\n",
    "  \"Name\": \"Michael\",\n",
    "  \"Age\": 56,\n",
    "  \"BDFL\": True\n",
    "}\n",
    "\n",
    "print(my_dict.keys())\n",
    "print(my_dict.values())"
   ]
  },
  {
   "cell_type": "markdown",
   "metadata": {},
   "source": [
    "#### "
   ]
  },
  {
   "cell_type": "code",
   "execution_count": 11,
   "metadata": {},
   "outputs": [
    {
     "name": "stdout",
     "output_type": "stream",
     "text": [
      "Name Michael\n",
      "Age 56\n",
      "BDFL True\n"
     ]
    }
   ],
   "source": [
    "my_dict = {\n",
    "  \"Name\": \"Michael\",\n",
    "  \"Age\": 56,\n",
    "  \"BDFL\": True\n",
    "}\n",
    "\n",
    "for key in my_dict:\n",
    "  print(key + \" \" + str(my_dict[key]))"
   ]
  },
  {
   "cell_type": "code",
   "execution_count": 15,
   "metadata": {},
   "outputs": [
    {
     "name": "stdout",
     "output_type": "stream",
     "text": [
      "[0, 2, 4, 6, 8, 10, 12, 14, 16, 18, 20, 22, 24, 26, 28, 30, 32, 34, 36, 38, 40, 42, 44, 46, 48, 50]\n"
     ]
    }
   ],
   "source": [
    "evens_to_50 = [i for i in range(51) if i % 2 == 0]\n",
    "print (evens_to_50)"
   ]
  },
  {
   "cell_type": "code",
   "execution_count": 16,
   "metadata": {},
   "outputs": [
    {
     "name": "stdout",
     "output_type": "stream",
     "text": [
      "[4, 16, 36, 64, 100]\n"
     ]
    }
   ],
   "source": [
    "doubles_by_3 = [x * 2 for x in range(1, 6) if (x * 2) % 3 == 0]\n",
    "\n",
    "# Complete the following line. Use the line above for help.\n",
    "even_squares = [i*i for i in range(1,11) if i%2==0]\n",
    "\n",
    "print (even_squares)"
   ]
  },
  {
   "cell_type": "code",
   "execution_count": 17,
   "metadata": {},
   "outputs": [
    {
     "name": "stdout",
     "output_type": "stream",
     "text": [
      "[8, 64, 216, 512, 1000]\n"
     ]
    }
   ],
   "source": [
    "cubes_by_four = [i**3 for i in range(1,11) if i**3%4==0]\n",
    "\n",
    "print(cubes_by_four)"
   ]
  },
  {
   "cell_type": "code",
   "execution_count": null,
   "metadata": {},
   "outputs": [],
   "source": [
    "my_list = range(1, 11) # List of numbers 1 - 10\n",
    "stride=my_list[::2]\n",
    "# Add your code below!\n",
    "print(stride)"
   ]
  },
  {
   "cell_type": "code",
   "execution_count": 18,
   "metadata": {},
   "outputs": [],
   "source": [
    "my_list = range(1, 11)\n",
    "\n",
    "# Add your code below!\n",
    "backwards = my_list[::-1]"
   ]
  },
  {
   "cell_type": "code",
   "execution_count": null,
   "metadata": {},
   "outputs": [],
   "source": [
    "to_one_hundred = range(101)\n",
    "# Add your code below!\n",
    "backwards_by_tens=to_one_hundred[::-10]\n",
    "print(backwards_by_tens)"
   ]
  },
  {
   "cell_type": "code",
   "execution_count": 30,
   "metadata": {},
   "outputs": [
    {
     "name": "stdout",
     "output_type": "stream",
     "text": [
      "range(1, 22)\n",
      "range(1, 22)\n",
      "[1, 3, 5, 7, 9, 11, 13, 15, 17, 19, 21]\n",
      "range(8, 15)\n"
     ]
    }
   ],
   "source": [
    "to_21 = range(1,22)\n",
    "print(to_21)\n",
    "odds = [ i for i in to_21 if i%2!=0]\n",
    "middle_third = to_21[7:14]\n",
    "print(to_21)\n",
    "print(odds)\n",
    "print(middle_third)\n"
   ]
  },
  {
   "cell_type": "markdown",
   "metadata": {},
   "source": [
    "#### "
   ]
  },
  {
   "cell_type": "code",
   "execution_count": 35,
   "metadata": {},
   "outputs": [
    {
     "name": "stdout",
     "output_type": "stream",
     "text": [
      "<filter object at 0x0000000005503948>\n"
     ]
    }
   ],
   "source": [
    "my_list = range(16)\n",
    "print(filter(lambda x: x % 3 == 0, my_list))"
   ]
  },
  {
   "cell_type": "code",
   "execution_count": 15,
   "metadata": {},
   "outputs": [
    {
     "name": "stdout",
     "output_type": "stream",
     "text": [
      "['Python']\n"
     ]
    }
   ],
   "source": [
    "languages = [\"HTML\", \"JavaScript\", \"Python\", \"Ruby\"]\n",
    "\n",
    "# Add arguments to the filter()\n",
    "print (list(filter(lambda x:  x==\"Python\", languages)))"
   ]
  },
  {
   "cell_type": "code",
   "execution_count": 16,
   "metadata": {},
   "outputs": [
    {
     "name": "stdout",
     "output_type": "stream",
     "text": [
      "[2, 4, 6]\n"
     ]
    }
   ],
   "source": [
    "a = [1, 2, 3, 4, 5, 6]\n",
    "k = list(filter(lambda x : x % 2 == 0, a)) # Вернет: [2, 4, 6]\n",
    "print(k)"
   ]
  },
  {
   "cell_type": "code",
   "execution_count": 20,
   "metadata": {},
   "outputs": [
    {
     "name": "stdout",
     "output_type": "stream",
     "text": [
      "[36, 49, 64]\n"
     ]
    }
   ],
   "source": [
    "squares =[i*i for i in range(1,11)]\n",
    "\n",
    "l=list(filter(lambda x:  x>=30 and x<=70, squares))\n",
    "print(l)"
   ]
  },
  {
   "cell_type": "code",
   "execution_count": 24,
   "metadata": {},
   "outputs": [
    {
     "name": "stdout",
     "output_type": "stream",
     "text": [
      "[('Monty Python and the Holy Grail', 'Great'), (\"Monty Python's Life of Brian\", 'Good'), (\"Monty Python's Meaning of Life\", 'Okay')]\n"
     ]
    }
   ],
   "source": [
    "movies = {\n",
    "  \"Monty Python and the Holy Grail\": \"Great\",\n",
    "  \"Monty Python's Life of Brian\": \"Good\",\n",
    "  \"Monty Python's Meaning of Life\": \"Okay\"\n",
    "}\n",
    "l = [i for i in movies.items()]\n",
    "print(l)"
   ]
  },
  {
   "cell_type": "code",
   "execution_count": 25,
   "metadata": {},
   "outputs": [
    {
     "name": "stdout",
     "output_type": "stream",
     "text": [
      "[3, 5, 6, 9, 10, 12, 15]\n"
     ]
    }
   ],
   "source": [
    "threes_and_fives = [i for i in range(1,16) if i%3==0 or i%5==0]\n",
    "print(threes_and_fives)"
   ]
  },
  {
   "cell_type": "code",
   "execution_count": 28,
   "metadata": {},
   "outputs": [
    {
     "name": "stdout",
     "output_type": "stream",
     "text": [
      "I am the secret message!\n"
     ]
    }
   ],
   "source": [
    "garbled = \"!XeXgXaXsXsXeXmX XtXeXrXcXeXsX XeXhXtX XmXaX XI\"\n",
    "\n",
    "backwards=garbled[::-1]\n",
    "message = backwards[::2]\n",
    "print(message)"
   ]
  },
  {
   "cell_type": "code",
   "execution_count": 29,
   "metadata": {},
   "outputs": [
    {
     "name": "stdout",
     "output_type": "stream",
     "text": [
      "I am another secret message!\n"
     ]
    }
   ],
   "source": [
    "garbled = \"IXXX aXXmX aXXXnXoXXXXXtXhXeXXXXrX sXXXXeXcXXXrXeXt mXXeXsXXXsXaXXXXXXgXeX!XX\"\n",
    "l = list(filter(lambda x: x!='X', garbled))\n",
    "message = ''.join(l)\n",
    "print(message)"
   ]
  },
  {
   "cell_type": "markdown",
   "metadata": {},
   "source": [
    "#### Introduction to Bitwise Operators\n",
    "LESSON\n",
    "Bitwise operations directly manipulate bits—patterns of 0s and 1s. Though they can be tricky to learn at first, their speed makes them a useful addition to any programmer’s toolbox.\n",
    "\n",
    "Exercises\n",
    "\n",
    "1. Just a Little BIT\n",
    "\n",
    "2. Lesson I0: The Base 2 Number System\n",
    "\n",
    "3. I Can Count to 1100!\n",
    "\n",
    "4. The bin() Function\n",
    "\n",
    "5. int()'s Second Parameter\n",
    "\n",
    "6. Slide to the Left! Slide to the Right!\n",
    "\n",
    "7. A BIT of This AND That\n",
    "\n",
    "8. A BIT of This OR That\n",
    "\n",
    "9. This XOR That?\n",
    "\n",
    "10. See? This is NOT That Hard!\n",
    "\n",
    "11. The Man Behind the Bit Mask\n",
    "\n",
    "12. Turn It On\n",
    "\n",
    "13. Just Flip Out\n",
    "\n",
    "14. Slip and Slide\n",
    "Close and return to main application\n"
   ]
  },
  {
   "cell_type": "code",
   "execution_count": 30,
   "metadata": {},
   "outputs": [
    {
     "name": "stdout",
     "output_type": "stream",
     "text": [
      "0\n",
      "10\n",
      "0\n",
      "13\n",
      "38\n",
      "-89\n"
     ]
    }
   ],
   "source": [
    "print (5 >> 4)  # Right Shift\n",
    "print (5 << 1)  # Left Shift\n",
    "print (8 & 5)   # Bitwise AND\n",
    "print (9 | 4)   # Bitwise OR\n",
    "print (12 ^ 42) # Bitwise XOR\n",
    "print (~88)     # Bitwise NOT\n"
   ]
  },
  {
   "cell_type": "code",
   "execution_count": 35,
   "metadata": {},
   "outputs": [
    {
     "name": "stdout",
     "output_type": "stream",
     "text": [
      "1 2 3 4 5 6 7\n",
      "******\n",
      "4\n",
      "9\n"
     ]
    }
   ],
   "source": [
    "print (0b1,end=' ')    #1\n",
    "print (0b10,end=' ')   #2\n",
    "print (0b11,end=' ')   #3\n",
    "print (0b100,end=' ')  #4\n",
    "print (0b101,end=' ')  #5\n",
    "print (0b110,end=' ')  #6\n",
    "print (0b111)   #7\n",
    "print (\"******\")\n",
    "print (0b1 + 0b11)\n",
    "print (0b11 * 0b11)"
   ]
  },
  {
   "cell_type": "code",
   "execution_count": null,
   "metadata": {},
   "outputs": [],
   "source": [
    "one = 0b1\n",
    "two = 0b10\n",
    "three = 0b11\n",
    "four = 0b100\n",
    "five = 0b101 \n",
    "six = 0b110 \n",
    "seven  = 0b111\n",
    "eight  = 0b1000\n",
    "nine  = 0b1001\n",
    "ten  = 0b1010\n",
    "eleven  = 0b1011\n",
    "twelve  = 0b1100"
   ]
  },
  {
   "cell_type": "code",
   "execution_count": 36,
   "metadata": {},
   "outputs": [
    {
     "name": "stdout",
     "output_type": "stream",
     "text": [
      "0b1\n",
      "0b10\n",
      "0b11\n",
      "0b100\n",
      "0b101\n"
     ]
    }
   ],
   "source": [
    "print (bin(1))\n",
    "for i in range(2,6):\n",
    "  print(bin(i))"
   ]
  },
  {
   "cell_type": "code",
   "execution_count": 37,
   "metadata": {},
   "outputs": [
    {
     "name": "stdout",
     "output_type": "stream",
     "text": [
      "1\n",
      "2\n",
      "7\n",
      "4\n",
      "5\n",
      "201\n"
     ]
    }
   ],
   "source": [
    "print (int(\"1\",2))\n",
    "print (int(\"10\",2))\n",
    "print (int(\"111\",2))\n",
    "print (int(\"0b100\",2))\n",
    "print (int(bin(5),2))\n",
    "# Print out the decimal equivalent of the binary 11001001.\n",
    "print (int(\"11001001\",2))"
   ]
  },
  {
   "cell_type": "code",
   "execution_count": 38,
   "metadata": {},
   "outputs": [
    {
     "name": "stdout",
     "output_type": "stream",
     "text": [
      "0b11\n",
      "0b100\n"
     ]
    }
   ],
   "source": [
    "shift_right = 0b1100\n",
    "shift_left = 0b1\n",
    "\n",
    "# Your code here!\n",
    "shift_right>>=2\n",
    "shift_left<<=2\n",
    "print (bin(shift_right))\n",
    "print (bin(shift_left))"
   ]
  },
  {
   "cell_type": "code",
   "execution_count": 39,
   "metadata": {},
   "outputs": [
    {
     "name": "stdout",
     "output_type": "stream",
     "text": [
      "0b100\n"
     ]
    }
   ],
   "source": [
    "print(bin(0b1110 & 0b101))"
   ]
  },
  {
   "cell_type": "code",
   "execution_count": 40,
   "metadata": {},
   "outputs": [
    {
     "name": "stdout",
     "output_type": "stream",
     "text": [
      "0b1111\n"
     ]
    }
   ],
   "source": [
    "print(bin(0b1110|0b101))"
   ]
  },
  {
   "cell_type": "code",
   "execution_count": 41,
   "metadata": {},
   "outputs": [
    {
     "name": "stdout",
     "output_type": "stream",
     "text": [
      "0b1011\n"
     ]
    }
   ],
   "source": [
    "print(bin(0b1110^0b101))"
   ]
  },
  {
   "cell_type": "code",
   "execution_count": 42,
   "metadata": {},
   "outputs": [
    {
     "name": "stdout",
     "output_type": "stream",
     "text": [
      "-2\n",
      "-3\n",
      "-4\n",
      "-43\n",
      "-124\n"
     ]
    }
   ],
   "source": [
    "print (~1)\n",
    "print (~2)\n",
    "print (~3)\n",
    "print (~42)\n",
    "print (~123)"
   ]
  },
  {
   "cell_type": "code",
   "execution_count": 43,
   "metadata": {},
   "outputs": [
    {
     "name": "stdout",
     "output_type": "stream",
     "text": [
      "on\n"
     ]
    }
   ],
   "source": [
    "num = 0b1100\n",
    "\n",
    "def check_bit4(input):\n",
    "  mask = 0b1000\n",
    "  desired = input&mask\n",
    "  if desired>0:\n",
    "    return \"on\"\n",
    "  else:\n",
    "    return \"off\"\n",
    "print(check_bit4(num))\n",
    "  "
   ]
  },
  {
   "cell_type": "code",
   "execution_count": 44,
   "metadata": {},
   "outputs": [
    {
     "name": "stdout",
     "output_type": "stream",
     "text": [
      "0b10111111\n"
     ]
    }
   ],
   "source": [
    "a = 0b10111011\n",
    "mask = 0b100\n",
    "b = a | mask\n",
    "print(bin(b))"
   ]
  },
  {
   "cell_type": "code",
   "execution_count": 45,
   "metadata": {},
   "outputs": [
    {
     "name": "stdout",
     "output_type": "stream",
     "text": [
      "0b10001\n"
     ]
    }
   ],
   "source": [
    "a = 0b11101110\n",
    "mask = 0b11111111\n",
    "b = a ^ mask\n",
    "print(bin(b))"
   ]
  },
  {
   "cell_type": "code",
   "execution_count": 46,
   "metadata": {},
   "outputs": [
    {
     "name": "stdout",
     "output_type": "stream",
     "text": [
      "0b101\n"
     ]
    }
   ],
   "source": [
    "def flip_bit(number,n):\n",
    "  mask = 1<<(n-1)\n",
    "  result = number^mask\n",
    "  return bin(result)\n",
    "\n",
    "print(flip_bit(7,2))\n"
   ]
  },
  {
   "cell_type": "markdown",
   "metadata": {},
   "source": [
    "#### Introduction to Classes\n",
    "LESSON\n",
    "Classes are a crucial part of object-oriented programming (OOP). In this lesson, we’ll explain what classes are, why they’re important, and how to use them effectively.\n",
    "\n",
    "Exercises\n",
    "\n",
    "1. Why Use Classes?\n",
    "\n",
    "2. Class Syntax\n",
    "\n",
    "3. Classier Classes\n",
    "\n",
    "4. Let's Not Get Too Selfish\n",
    "\n",
    "5. Instantiating Your First Object\n",
    "\n",
    "6. More on __init__() and self\n",
    "\n",
    "7. Class Scope\n",
    "\n",
    "8. A Methodical Approach\n",
    "\n",
    "9. They're Multiplying!\n",
    "\n",
    "10. It's Not All Animals and Fruits\n",
    "\n",
    "11. Warning: Here Be Dragons\n",
    "\n",
    "12. Inheritance Syntax\n",
    "\n",
    "13. Override!\n",
    "\n",
    "14. This Looks Like a Job For...\n",
    "\n",
    "15. Class Basics\n",
    "\n",
    "16. Class It Up\n",
    "\n",
    "17. Instantiate an Object\n",
    "\n",
    "18. Inheritance"
   ]
  },
  {
   "cell_type": "code",
   "execution_count": 49,
   "metadata": {},
   "outputs": [
    {
     "name": "stdout",
     "output_type": "stream",
     "text": [
      "I'm a yellow lemon and I taste sour.\n",
      "Yep! I'm edible.\n"
     ]
    }
   ],
   "source": [
    "class Fruit(object):\n",
    "  \"\"\"A class that makes various tasty fruits.\"\"\"\n",
    "  def __init__(self, name, color, flavor, poisonous):\n",
    "    self.name = name\n",
    "    self.color = color\n",
    "    self.flavor = flavor\n",
    "    self.poisonous = poisonous\n",
    "\n",
    "  def description(self):\n",
    "    print (\"I'm a %s %s and I taste %s.\" % (self.color, self.name, self.flavor))\n",
    "  def is_edible(self):\n",
    "    if not self.poisonous:\n",
    "      print (\"Yep! I'm edible.\")\n",
    "    else:\n",
    "      print (\"Don't eat me! I am super poisonous.\")\n",
    "\n",
    "lemon = Fruit(\"lemon\", \"yellow\", \"sour\", False)\n",
    "\n",
    "lemon.description()\n",
    "lemon.is_edible()\n"
   ]
  },
  {
   "cell_type": "code",
   "execution_count": 50,
   "metadata": {},
   "outputs": [],
   "source": [
    "class Animal(object):\n",
    "  pass"
   ]
  },
  {
   "cell_type": "code",
   "execution_count": null,
   "metadata": {},
   "outputs": [],
   "source": [
    "class Animal(object):\n",
    "  def __init__(self):\n",
    "    pass"
   ]
  },
  {
   "cell_type": "code",
   "execution_count": null,
   "metadata": {},
   "outputs": [],
   "source": [
    "class Animal(object):\n",
    "  def __init__(self, name):\n",
    "    self.name = name"
   ]
  },
  {
   "cell_type": "code",
   "execution_count": null,
   "metadata": {},
   "outputs": [],
   "source": [
    "class Animal(object):\n",
    "  def __init__(self, name):\n",
    "    self.name = name\n",
    "    \n",
    "zebra = Animal(\"Jeffrey\")\n",
    "print(zebra.name)"
   ]
  },
  {
   "cell_type": "code",
   "execution_count": 51,
   "metadata": {},
   "outputs": [
    {
     "name": "stdout",
     "output_type": "stream",
     "text": [
      "Jeffrey 2 True\n",
      "Bruce 1 False\n",
      "Chad 7 True\n"
     ]
    }
   ],
   "source": [
    "# Class definition\n",
    "class Animal(object):\n",
    "  \"\"\"Makes cute animals.\"\"\"\n",
    "  # For initializing our instance objects\n",
    "  def __init__(self, name, age, is_hungry ):\n",
    "    self.name = name\n",
    "    self.age = age\n",
    "    self.is_hungry = is_hungry\n",
    "\n",
    "# Note that self is only used in the __init__()\n",
    "# function definition; we don't need to pass it\n",
    "# to our instance objects.\n",
    "\n",
    "zebra = Animal(\"Jeffrey\", 2, True)\n",
    "giraffe = Animal(\"Bruce\", 1, False)\n",
    "panda = Animal(\"Chad\", 7, True)\n",
    "\n",
    "print (zebra.name, zebra.age, zebra.is_hungry)\n",
    "print (giraffe.name, giraffe.age, giraffe.is_hungry)\n",
    "print (panda.name, panda.age, panda.is_hungry)\n"
   ]
  },
  {
   "cell_type": "code",
   "execution_count": 52,
   "metadata": {},
   "outputs": [
    {
     "name": "stdout",
     "output_type": "stream",
     "text": [
      "Jeffrey 2 True\n",
      "Bruce 1 True\n",
      "Chad 7 True\n"
     ]
    }
   ],
   "source": [
    "class Animal(object):\n",
    "  \"\"\"Makes cute animals.\"\"\"\n",
    "  is_alive = True\n",
    "  def __init__(self, name, age):\n",
    "    self.name = name\n",
    "    self.age = age\n",
    "\n",
    "zebra = Animal(\"Jeffrey\", 2)\n",
    "giraffe = Animal(\"Bruce\", 1)\n",
    "panda = Animal(\"Chad\", 7)\n",
    "\n",
    "print (zebra.name, zebra.age, zebra.is_alive)\n",
    "print (giraffe.name, giraffe.age, giraffe.is_alive)\n",
    "print (panda.name, panda.age, panda.is_alive)\n"
   ]
  },
  {
   "cell_type": "code",
   "execution_count": null,
   "metadata": {},
   "outputs": [],
   "source": [
    "class Animal(object):\n",
    "  \"\"\"Makes cute animals.\"\"\"\n",
    "  is_alive = True\n",
    "  def __init__(self, name, age):\n",
    "    self.name = name\n",
    "    self.age = age\n",
    "  # Add your method here!\n",
    "  def description(self):\n",
    "    print(self.name)\n",
    "    print(self.age)\n",
    "\n",
    "hippo = Animal(\"Hippo\",3)\n",
    "hippo.description()    \n"
   ]
  },
  {
   "cell_type": "code",
   "execution_count": null,
   "metadata": {},
   "outputs": [],
   "source": [
    "class Animal(object):\n",
    "  \"\"\"Makes cute animals.\"\"\"\n",
    "  is_alive = True\n",
    "  health = \"good\"\n",
    "  def __init__(self, name, age):\n",
    "    self.name = name\n",
    "    self.age = age\n",
    "  # Add your method here!\n",
    "  def description(self):\n",
    "    print(self.name)\n",
    "    print(self.age)\n",
    "\n",
    "hippo = Animal(\"Hippo\",3)\n",
    "sloth = Animal(\"Sloth\",3)\n",
    "ocelot = Animal(\"Ocelot\",3)\n",
    "print(hippo.health)\n",
    "print(sloth.health)\n",
    "print(ocelot.health)\n"
   ]
  },
  {
   "cell_type": "code",
   "execution_count": 54,
   "metadata": {},
   "outputs": [
    {
     "name": "stdout",
     "output_type": "stream",
     "text": [
      "apple added.\n"
     ]
    }
   ],
   "source": [
    "class ShoppingCart(object):\n",
    "  \"\"\"Creates shopping cart objects\n",
    "  for users of our fine website.\"\"\"\n",
    "  \n",
    "  def __init__(self, customer_name):\n",
    "    self.customer_name = customer_name\n",
    "    self.items_in_cart = {}\n",
    "  def add_item(self, product, price):\n",
    "    \"\"\"Add product to the cart.\"\"\"\n",
    "    if not product in self.items_in_cart:\n",
    "      self.items_in_cart[product] = price\n",
    "      print (product + \" added.\")\n",
    "    else:\n",
    "      print (product + \" is already in the cart.\")\n",
    "\n",
    "  def remove_item(self, product):\n",
    "    \"\"\"Remove product from the cart.\"\"\"\n",
    "    if product in self.items_in_cart:\n",
    "      del self.items_in_cart[product]\n",
    "      print (product + \" removed.\")\n",
    "    else:\n",
    "      print (product + \" is not in the cart.\")\n",
    "\n",
    "my_cart = ShoppingCart(\"Vasya\") \n",
    "my_cart.add_item(\"apple\",1.50)"
   ]
  },
  {
   "cell_type": "code",
   "execution_count": null,
   "metadata": {},
   "outputs": [],
   "source": [
    "class Customer(object):\n",
    "  \"\"\"Produces objects that represent customers.\"\"\"\n",
    "  def __init__(self, customer_id):\n",
    "    self.customer_id = customer_id\n",
    "\n",
    "  def display_cart(self):\n",
    "    print \"I'm a string that stands in for the contents of your shopping cart!\"\n",
    "\n",
    "class ReturningCustomer(Customer):\n",
    "  \"\"\"For customers of the repeat variety.\"\"\"\n",
    "  def display_order_history(self):\n",
    "    print \"I'm a string that stands in for your order history!\"\n",
    "\n",
    "monty_python = ReturningCustomer(\"ID: 12345\")\n",
    "monty_python.display_cart()\n",
    "monty_python.display_order_history()\n"
   ]
  },
  {
   "cell_type": "code",
   "execution_count": null,
   "metadata": {},
   "outputs": [],
   "source": [
    "class Shape(object):\n",
    "  \"\"\"Makes shapes!\"\"\"\n",
    "  def __init__(self, number_of_sides):\n",
    "    self.number_of_sides = number_of_sides\n",
    "\n",
    "# Add your Triangle class below!\n",
    "class Triangle(Shape):\n",
    "  def __init__(self,side1,side2,side3):\n",
    "    self.side1=side1\n",
    "    self.side2=side2\n",
    "    self.side3=side3\n",
    "    "
   ]
  },
  {
   "cell_type": "code",
   "execution_count": null,
   "metadata": {},
   "outputs": [],
   "source": [
    "class Employee(object):\n",
    "  \"\"\"Models real-life employees!\"\"\"\n",
    "  def __init__(self, employee_name):\n",
    "    self.employee_name = employee_name\n",
    "\n",
    "  def calculate_wage(self, hours):\n",
    "    self.hours = hours\n",
    "    return hours * 20.00\n",
    "\n",
    "# Add your code below!\n",
    "class PartTimeEmployee(Employee):\n",
    "  def calculate_wage(self, hours):\n",
    "    self.hours = hours\n",
    "    return self.hours*12.00\n",
    "  "
   ]
  },
  {
   "cell_type": "code",
   "execution_count": null,
   "metadata": {},
   "outputs": [],
   "source": [
    "class Employee(object):\n",
    "  \"\"\"Models real-life employees!\"\"\"\n",
    "  def __init__(self, employee_name):\n",
    "    self.employee_name = employee_name\n",
    "\n",
    "  def calculate_wage(self, hours):\n",
    "    self.hours = hours\n",
    "    return hours * 20.00\n",
    "\n",
    "# Add your code below!\n",
    "class PartTimeEmployee(Employee):\n",
    "  def calculate_wage(self, hours):\n",
    "    self.hours = hours\n",
    "    return self.hours*12.00\n",
    "  def full_time_wage(self,hours):\n",
    "    return super(PartTimeEmployee,self).calculate_wage(hours)\n",
    "\n",
    "milton = PartTimeEmployee(\"Milton\")\n",
    "print(milton.full_time_wage(10))\n"
   ]
  },
  {
   "cell_type": "code",
   "execution_count": null,
   "metadata": {},
   "outputs": [],
   "source": [
    "class Triangle(object):\n",
    "  def __init__(self,angle1,angle2,angle3):\n",
    "    self.angle1 = angle1\n",
    "    self.angle2 = angle2\n",
    "    self.angle3 = angle3\n"
   ]
  },
  {
   "cell_type": "code",
   "execution_count": null,
   "metadata": {},
   "outputs": [],
   "source": [
    "class Triangle(object):\n",
    "  number_of_sides = 3\n",
    "  def __init__(self,angle1,angle2,angle3):\n",
    "    self.angle1 = angle1\n",
    "    self.angle2 = angle2\n",
    "    self.angle3 = angle3\n",
    "  def check_angles(self):\n",
    "    sum = self.angle1+self.angle2+self.angle3\n",
    "    if sum == 180:\n",
    "      return True\n",
    "    else:\n",
    "      return False\n",
    "    \n",
    "    "
   ]
  },
  {
   "cell_type": "code",
   "execution_count": null,
   "metadata": {},
   "outputs": [],
   "source": [
    "class Triangle(object):\n",
    "  number_of_sides = 3\n",
    "  def __init__(self,angle1,angle2,angle3):\n",
    "    self.angle1 = angle1\n",
    "    self.angle2 = angle2\n",
    "    self.angle3 = angle3\n",
    "  def check_angles(self):\n",
    "    sum = self.angle1+self.angle2+self.angle3\n",
    "    if sum == 180:\n",
    "      return True\n",
    "    else:\n",
    "      return False\n",
    "my_triangle = Triangle(90,30,60)    \n",
    "print(my_triangle.number_of_sides)\n",
    "print(my_triangle.check_angles())\n"
   ]
  },
  {
   "cell_type": "code",
   "execution_count": 55,
   "metadata": {},
   "outputs": [
    {
     "name": "stdout",
     "output_type": "stream",
     "text": [
      "3\n",
      "True\n"
     ]
    }
   ],
   "source": [
    "class Triangle(object):\n",
    "  number_of_sides = 3\n",
    "  def __init__(self,angle1,angle2,angle3):\n",
    "    self.angle1 = angle1\n",
    "    self.angle2 = angle2\n",
    "    self.angle3 = angle3\n",
    "  def check_angles(self):\n",
    "    sum = self.angle1+self.angle2+self.angle3\n",
    "    if sum == 180:\n",
    "      return True\n",
    "    else:\n",
    "      return False\n",
    "class Equilateral(Triangle):\n",
    "  angle = 60\n",
    "  def __init__(self):\n",
    "    self.angle1 = self.angle\n",
    "    self.angle2 = self.angle\n",
    "    self.angle3 = self.angle\n",
    "    \n",
    "my_triangle = Triangle(90,30,60)    \n",
    "print(my_triangle.number_of_sides)\n",
    "print(my_triangle.check_angles())\n"
   ]
  },
  {
   "cell_type": "markdown",
   "metadata": {},
   "source": [
    "#### Classes\n",
    "LESSON\n",
    "Make your own Car and learn how to driveCar()!\n",
    "\n",
    "Exercises\n",
    "\n",
    "1. Class basics\n",
    "\n",
    "2. Create an instance of a class\n",
    "\n",
    "3. Class member variables\n",
    "\n",
    "4. Calling class member variables\n",
    "\n",
    "5. Initializing a class\n",
    "\n",
    "6. Referring to member variables\n",
    "\n",
    "7. Creating class methods\n",
    "\n",
    "8. Modifying member variables\n",
    "\n",
    "9. Inheritance\n",
    "\n",
    "10. Overriding methods\n",
    "\n",
    "11. Building useful classes\n",
    "Close and return to main application\n"
   ]
  },
  {
   "cell_type": "code",
   "execution_count": 56,
   "metadata": {},
   "outputs": [
    {
     "name": "stdout",
     "output_type": "stream",
     "text": [
      "DeLorean\n",
      "silver\n",
      "88\n",
      "This is a silver DeLorean with 88 MPG.\n"
     ]
    }
   ],
   "source": [
    "class Car(object):\n",
    "  condition = \"new\"\n",
    "  def __init__(self, model, color, mpg):\n",
    "    self.model = model\n",
    "    self.color = color\n",
    "    self.mpg   = mpg\n",
    "  def display_car(self):\n",
    "    print(\"This is a %s %s with %s MPG.\" % (self.color,self.model,self.mpg))\n",
    "\n",
    "my_car = Car(\"DeLorean\", \"silver\", 88)\n",
    "\n",
    "print (my_car.model)\n",
    "print (my_car.color)\n",
    "print (my_car.mpg)\n",
    "my_car.display_car()"
   ]
  },
  {
   "cell_type": "code",
   "execution_count": null,
   "metadata": {},
   "outputs": [],
   "source": [
    "class Car(object):\n",
    "  condition = \"new\"\n",
    "  def __init__(self, model, color, mpg):\n",
    "    self.model = model\n",
    "    self.color = color\n",
    "    self.mpg   = mpg\n",
    "  def display_car(self):\n",
    "    print(\"This is a %s %s with %s MPG.\" % (self.color,self.model,self.mpg))\n",
    "  def drive_car(self):\n",
    "    self.condition = \"used\"\n",
    "\n",
    "my_car = Car(\"DeLorean\", \"silver\", 88)\n",
    "\n",
    "print my_car.model\n",
    "print my_car.color\n",
    "print my_car.mpg\n",
    "print(my_car.condition)\n",
    "my_car.drive_car()\n",
    "print(my_car.condition)\n"
   ]
  },
  {
   "cell_type": "code",
   "execution_count": null,
   "metadata": {},
   "outputs": [],
   "source": [
    "class Car(object):\n",
    "  condition = \"new\"\n",
    "  def __init__(self, model, color, mpg):\n",
    "    self.model = model\n",
    "    self.color = color\n",
    "    self.mpg   = mpg\n",
    "  def display_car(self):\n",
    "    print(\"This is a %s %s with %s MPG.\" % (self.color,self.model,self.mpg))\n",
    "  def drive_car(self):\n",
    "    self.condition = \"used\"\n",
    "    \n",
    "class ElectricCar(Car):\n",
    "  def __init__(self, model, color, mpg, battery_type):\n",
    "    self.model = model\n",
    "    self.color = color\n",
    "    self.mpg   = mpg\n",
    "    self.battery_type = battery_type \n",
    "         \n",
    "my_car = ElectricCar(\"DeLorean\", \"silver\", 88,\"molten salt\")\n",
    "\n",
    "print my_car.model\n",
    "print my_car.color\n",
    "print my_car.mpg\n",
    "print(my_car.condition)\n",
    "my_car.drive_car()\n",
    "print(my_car.condition)\n"
   ]
  },
  {
   "cell_type": "code",
   "execution_count": null,
   "metadata": {},
   "outputs": [],
   "source": [
    "class Car(object):\n",
    "  condition = \"new\"\n",
    "  def __init__(self, model, color, mpg):\n",
    "    self.model = model\n",
    "    self.color = color\n",
    "    self.mpg   = mpg\n",
    "  def display_car(self):\n",
    "    print(\"This is a %s %s with %s MPG.\" % (self.color,self.model,self.mpg))\n",
    "  def drive_car(self):\n",
    "    self.condition = \"used\"\n",
    "    \n",
    "class ElectricCar(Car):\n",
    "  def __init__(self, model, color, mpg, battery_type):\n",
    "    self.model = model\n",
    "    self.color = color\n",
    "    self.mpg   = mpg\n",
    "    self.battery_type = battery_type\n",
    "  def drive_car(self):\n",
    "    self.condition = \"like new\"\n",
    "         \n",
    "my_car = ElectricCar(\"DeLorean\", \"silver\", 88,\"molten salt\")\n",
    "\n",
    "print my_car.model\n",
    "print my_car.color\n",
    "print my_car.mpg\n",
    "print(my_car.condition)\n",
    "my_car.drive_car()\n",
    "print(my_car.condition)\n"
   ]
  },
  {
   "cell_type": "code",
   "execution_count": null,
   "metadata": {},
   "outputs": [],
   "source": [
    "class Point3D(object):\n",
    "  def __init__(self,x,y,z):\n",
    "    self.x = x\n",
    "    self.y = y\n",
    "    self.z = z\n",
    "  def __repr__(self):\n",
    "    return \"(%d, %d, %d)\" % (self.x, self.y, self.z)\n",
    "  \n",
    "my_point = Point3D(1,2,3)\n",
    "print(my_point)"
   ]
  },
  {
   "cell_type": "markdown",
   "metadata": {},
   "source": [
    "#### "
   ]
  },
  {
   "cell_type": "markdown",
   "metadata": {},
   "source": [
    "#### "
   ]
  },
  {
   "cell_type": "markdown",
   "metadata": {},
   "source": [
    "#### "
   ]
  },
  {
   "cell_type": "markdown",
   "metadata": {},
   "source": [
    "#### "
   ]
  },
  {
   "cell_type": "markdown",
   "metadata": {},
   "source": [
    "#### "
   ]
  },
  {
   "cell_type": "markdown",
   "metadata": {},
   "source": [
    "#### "
   ]
  },
  {
   "cell_type": "markdown",
   "metadata": {},
   "source": [
    "#### "
   ]
  },
  {
   "cell_type": "markdown",
   "metadata": {},
   "source": [
    "a|b|c|d|e|f\n",
    "--|--|--|--|--|--\n",
    "guessing|угадывание|purify|очищать|Average|средний\n",
    "capability|возможность|At least|по крайней мере||\n",
    "|||||\n",
    "|||||\n"
   ]
  },
  {
   "cell_type": "markdown",
   "metadata": {},
   "source": [
    "11.02 50-55  \n",
    "12.02 55-60-65-70  \n",
    "13.02 70-75-80-85-90-95  "
   ]
  }
 ],
 "metadata": {
  "kernelspec": {
   "display_name": "Python 3",
   "language": "python",
   "name": "python3"
  },
  "language_info": {
   "codemirror_mode": {
    "name": "ipython",
    "version": 3
   },
   "file_extension": ".py",
   "mimetype": "text/x-python",
   "name": "python",
   "nbconvert_exporter": "python",
   "pygments_lexer": "ipython3",
   "version": "3.7.4"
  }
 },
 "nbformat": 4,
 "nbformat_minor": 2
}
