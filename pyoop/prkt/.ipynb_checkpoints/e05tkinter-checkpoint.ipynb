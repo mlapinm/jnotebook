{
 "cells": [
  {
   "cell_type": "markdown",
   "metadata": {},
   "source": []
  },
  {
   "cell_type": "code",
   "execution_count": 23,
   "metadata": {},
   "outputs": [],
   "source": [
    "from tkinter import *\n",
    "\n",
    "class plEntry:\n",
    "    def __init__(self, panel, x, y, width, height, text, text_w, entry_w, val=''):\n",
    "        self.lab = Label(panel,text=text)\n",
    "        self.lab.place(x=x,y=y,width=text_w,height=height)\n",
    "        self.ent = Entry(panel)\n",
    "        self.ent.place(x=x+width-entry_w,y=y,width=entry_w,height=height)\n",
    "        self.set(val)\n",
    "    def get(self):\n",
    "        return self.ent.get()\n",
    "    \n",
    "    def set(self, text):\n",
    "        self.ent.delete(0,END)\n",
    "        self.ent.insert(END, text)\n",
    "        \n",
    "root = Tk()\n",
    "\n",
    "pn_control = Frame(root, height = 70, width=200, bg = 'silver')\n",
    "# -- side-расположение, fill-заполнение, expand-расширение выделенного текста\n",
    "pn_control.pack(side='top', fill='x')\n",
    "\n",
    "y_top = 10; h_top=18 # -- координаты верхнего ряда\n",
    "\n",
    "ed_dU =plEntry(pn_control, 20, y_top, \n",
    "               80, h_top, \n",
    "               text=\"x:\",text_w=20,\n",
    "               entry_w=40,val='1')\n",
    "\n",
    "root.mainloop()\n"
   ]
  },
  {
   "cell_type": "code",
   "execution_count": 9,
   "metadata": {},
   "outputs": [
    {
     "name": "stdout",
     "output_type": "stream",
     "text": [
      "[1, 2, 3, 4]\n"
     ]
    }
   ],
   "source": []
  },
  {
   "cell_type": "code",
   "execution_count": null,
   "metadata": {},
   "outputs": [],
   "source": [
    "#-- подключить библиотеки\n",
    "from tkinter import *\n",
    "from tkinter import ttk\n",
    "from tkinter.font import Font\n",
    "from tkinter import filedialog as tkFileDialog\n",
    "\n",
    "#-- упрощенные классы виджетов \n",
    "\n",
    "##-- кнопка с наборои параметров\n",
    "class Buttongrid(  ttk.Button):\n",
    "    def __init__( self, panel, row_num, col_num, btn_text, btn_width = 10, btn_fnc = \"\"):\n",
    "        ttk.Button.__init__(self, panel, text = btn_text, width = btn_width)\n",
    "        self.grid(row = row_num, column = col_num, sticky=E+N, pady = 5 , padx = 5)\n",
    "        if btn_fnc != \"\":\n",
    "            self.bind(\"<Button-1>\", btn_fnc)\n",
    "\n",
    "##-- поле ввода с меткой\n",
    "class Labelentry(ttk.Entry):\n",
    "    def __init__( self, panel, row_num, col_num, lab_text = \"\",\n",
    "                  ent_width = 10,  init_val = \"\",\n",
    "                  fnc_return = \"\", col_span = 1 ):\n",
    "        self.var = StringVar()\n",
    "        ttk.Entry.__init__( self, panel,  width = ent_width, textvariable = self.var, font = dFont)\n",
    "        self.var.set(init_val)\n",
    "        if  fnc_return  !=  \"\":\n",
    "            self.bind('<Return>', fnc_return)\n",
    "\n",
    "        if len(lab_text) > 0:\n",
    "            self.lab = ttk.Label( panel, text=lab_text , font = dFont )\n",
    "            self.lab.grid( row = row_num, column = col_num, sticky = E , padx = 5)\n",
    "        self.grid(row = row_num, column = col_num + 1, columnspan = col_span, sticky=W, pady = 5, padx=5 )\n",
    "\n",
    "    def  get(self):\n",
    "        return  self.var.get()\n",
    "\n",
    "    def  set( self, new_text ):\n",
    "        self.var.set(new_text)\n",
    "\n",
    "        \n",
    "        "
   ]
  }
 ],
 "metadata": {
  "kernelspec": {
   "display_name": "Python 3",
   "language": "python",
   "name": "python3"
  },
  "language_info": {
   "codemirror_mode": {
    "name": "ipython",
    "version": 3
   },
   "file_extension": ".py",
   "mimetype": "text/x-python",
   "name": "python",
   "nbconvert_exporter": "python",
   "pygments_lexer": "ipython3",
   "version": "3.7.4"
  }
 },
 "nbformat": 4,
 "nbformat_minor": 2
}
