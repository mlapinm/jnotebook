{
 "cells": [
  {
   "cell_type": "markdown",
   "metadata": {},
   "source": [
    "[py050 Программа текстовой связи с микроконтроллеромpy](#py050-Программа-текстовой-связи-с-микроконтроллеромpy)   \n",
    "[py051 Простой таймер учета времени](#py051-Простой-таймер-учета-времени)   \n",
    "[py052 Питон работа с внешними приложениями](#py052-Питон-работа-с-внешними-приложениями)   \n",
    "[py053 Питон парсим плейлист Youtube канала](#py053-Питон-парсим-плейлист-Youtube-канала)   \n",
    "[py054 Питон применение Radiobutton и Checkbutton](#py054-Питон-применение-Radiobutton-и-Checkbutton)   \n",
    "[py055 Питон используем Listbox](#py055-Питон-используем-Listbox)   \n",
    "[py056 Сортировка списка](#py056-Сортировка-списка)   \n",
    "[py057 простой чат на UDP](#py057-простой-чат-на-UDP)   \n",
    "[py058 Минибэкап на Питоне](#py058-Минибэкап-на-Питоне)   \n",
    "[py059 Крестики - нолики на Питоне](#py059-Крестики---нолики-на-Питоне)   \n"
   ]
  },
  {
   "cell_type": "markdown",
   "metadata": {},
   "source": [
    "#### py050 Программа текстовой связи с микроконтроллеромpy\n",
    "#### py051 Простой таймер учета времени\n",
    "#### py052 Питон работа с внешними приложениями\n",
    "#### py053 Питон парсим плейлист Youtube канала\n",
    "#### py054 Питон применение Radiobutton и Checkbutton\n",
    "#### py055 Питон используем Listbox\n",
    "#### py056 Сортировка списка\n",
    "#### py057 простой чат на UDP\n",
    "#### py058 Минибэкап на Питоне\n",
    "#### py059 Крестики - нолики на Питоне\n"
   ]
  },
  {
   "cell_type": "markdown",
   "metadata": {},
   "source": [
    "#### py050 Программа текстовой связи с микроконтроллеромpy\n",
    "#### py051 Простой таймер учета времени\n",
    "#### py052 Питон работа с внешними приложениями\n",
    "#### py053 Питон парсим плейлист Youtube канала\n",
    "#### py054 Питон применение Radiobutton и Checkbutton\n",
    "#### py055 Питон используем Listbox\n",
    "#### py056 Сортировка списка\n",
    "#### py057 простой чат на UDP\n",
    "#### py058 Минибэкап на Питоне\n",
    "#### py059 Крестики - нолики на Питоне\n"
   ]
  },
  {
   "cell_type": "code",
   "execution_count": null,
   "metadata": {},
   "outputs": [],
   "source": []
  },
  {
   "cell_type": "code",
   "execution_count": null,
   "metadata": {},
   "outputs": [],
   "source": []
  },
  {
   "cell_type": "code",
   "execution_count": null,
   "metadata": {},
   "outputs": [],
   "source": []
  }
 ],
 "metadata": {
  "kernelspec": {
   "display_name": "Python 3",
   "language": "python",
   "name": "python3"
  },
  "language_info": {
   "codemirror_mode": {
    "name": "ipython",
    "version": 3
   },
   "file_extension": ".py",
   "mimetype": "text/x-python",
   "name": "python",
   "nbconvert_exporter": "python",
   "pygments_lexer": "ipython3",
   "version": "3.7.4"
  }
 },
 "nbformat": 4,
 "nbformat_minor": 2
}
