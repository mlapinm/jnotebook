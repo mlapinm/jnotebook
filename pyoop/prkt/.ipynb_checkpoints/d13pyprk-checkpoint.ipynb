{
 "cells": [
  {
   "cell_type": "markdown",
   "metadata": {},
   "source": [
    "[py013 Питон работа с различными кодировками](#py013-Питон-работа-с-различными-кодировками)   \n",
    "[py014 Питон кодировки, часть 2 - автодекодирование](#py014-Питон-кодировки,-часть-2---автодекодирование)   \n",
    "[py015 Питон - постраничное листание текстовых списков](#py015-Питон---постраничное-листание-текстовых-списков)   \n",
    "[py017 Питон проекция текстового файла на числовой массив](#py017-Питон-проекция-текстового-файла-на-числовой-массив)   \n",
    "[py016 Питон: кодировка среды ввода](#py016-Питон:-кодировка-среды-ввода)   \n",
    "[py018 Питон формирование таблицы DBSN](#py018-Питон-формирование-таблицы-DBSN)   \n",
    "[py019 Экспорт MySQL таблицы в DBSN](#py019-Экспорт-MySQL-таблицы-в-DBSN)   \n",
    "[py020 Постраничный просмотр таблицы DBSN](#py020-Постраничный-просмотр-таблицы-DBSN)"
   ]
  },
  {
   "cell_type": "markdown",
   "metadata": {},
   "source": [
    "#### py013 Питон работа с различными кодировками"
   ]
  },
  {
   "cell_type": "code",
   "execution_count": 1,
   "metadata": {},
   "outputs": [
    {
     "data": {
      "text/plain": [
       "'Торт Обжорк  Король Лев'"
      ]
     },
     "execution_count": 1,
     "metadata": {},
     "output_type": "execute_result"
    }
   ],
   "source": [
    "\"’®ав ЋЎ¦®аЄ  Љ®а®«м ‹Ґў\".encode('cp1251').decode('cp866')"
   ]
  },
  {
   "cell_type": "code",
   "execution_count": null,
   "metadata": {},
   "outputs": [],
   "source": [
    "s='Ä ó¡ÑßÑ¡¿¿ ñ«»«½¡Ñ¡¿⌐ ó ºá¬«¡ « íεñªÑΓ¡«⌐ ¬½áßß¿Σ¿¬áµ¿¿'\n",
    "o=s.encode('CP437')\n",
    "print(o.decode('cp866'))"
   ]
  },
  {
   "cell_type": "markdown",
   "metadata": {},
   "source": [
    "cod | А   | Б | Г\n",
    "--------|------------|----------|-------------\n",
    "1251|C0|C1|C3\n",
    "866|80|81|83\n",
    "utf8|D090|D091|D093\n",
    "unicod|\\u0410|\\u0411|\\u0413\n"
   ]
  },
  {
   "cell_type": "code",
   "execution_count": 1,
   "metadata": {},
   "outputs": [
    {
     "name": "stderr",
     "output_type": "stream",
     "text": [
      "\"IDLE\" ­Ґ пў«пҐвбп ў­гваҐ­­Ґ© Ё«Ё ў­Ґи­Ґ©\n",
      "Є®¬ ­¤®©, ЁбЇ®«­пҐ¬®© Їа®Ја ¬¬®© Ё«Ё Ї ЄҐв­л¬ д ©«®¬.\n"
     ]
    }
   ],
   "source": [
    "!IDLE (Python GUI)"
   ]
  },
  {
   "cell_type": "code",
   "execution_count": 2,
   "metadata": {},
   "outputs": [
    {
     "name": "stdout",
     "output_type": "stream",
     "text": [
      "['А', 'Б', 'Г']\n",
      "АБГ\n"
     ]
    }
   ],
   "source": [
    "# -*- coding: 866 -*-\n",
    "st = \"АБГ\"\n",
    "#st = raw_input('?')\n",
    "ls = list(st)\n",
    "print(ls)\n",
    "print(st)\n"
   ]
  },
  {
   "cell_type": "markdown",
   "metadata": {},
   "source": [
    "```\n",
    "D:\\mailCloud\\prjother\\089hosts\\jnotebook\\pyoop>1.py\n",
    "['\\xd0', '\\x90', '\\xd0', '\\x91', '\\xd0', '\\x93']\n",
    "╨Р╨С╨У\n",
    "\n",
    "======== RESTART: D:\\mailCloud\\prjother\\089hosts\\jnotebook\\pyoop\\1.py ========\n",
    "['\\xd0', '\\x90', '\\xd0', '\\x91', '\\xd0', '\\x93']\n",
    "РђР‘Р“\n",
    "\n",
    "```"
   ]
  },
  {
   "cell_type": "code",
   "execution_count": 1,
   "metadata": {},
   "outputs": [
    {
     "name": "stdout",
     "output_type": "stream",
     "text": [
      "['\\xd0', '\\x90', '\\xd0', '\\x91', '\\xd0', '\\x93']\n",
      "АБГ\n"
     ]
    },
    {
     "data": {
      "text/plain": [
       "\"\\nD:\\\\mailCloud\\\\prjother\\x0089hosts\\\\jnotebook\\\\pyoop>1.py\\n['\\xd0', '\\x90', '\\xd0', '\\x91', '\\xd0', '\\x93']\\n\\xd0\\x90\\xd0\\x91\\xd0\\x93\\n\\n======== RESTART: D:\\\\mailCloud\\\\prjother\\x0089hosts\\\\jnotebook\\\\pyoop\\x01.py ========\\n['\\xd0', '\\x90', '\\xd0', '\\x91', '\\xd0', '\\x93']\\n\\xd0\\x90\\xd0\\x91\\xd0\\x93\\n\""
      ]
     },
     "execution_count": 1,
     "metadata": {},
     "output_type": "execute_result"
    }
   ],
   "source": [
    "# -*- coding: utf8 -*-\n",
    "st = \"АБГ\"\n",
    "#st = raw_input('?')\n",
    "ls = list(st)\n",
    "print(ls)\n",
    "print(st.decode('utf8'))\n",
    "'''\n",
    "D:\\mailCloud\\prjother\\089hosts\\jnotebook\\pyoop>1.py\n",
    "['\\xd0', '\\x90', '\\xd0', '\\x91', '\\xd0', '\\x93']\n",
    "АБГ\n",
    "\n",
    "======== RESTART: D:\\mailCloud\\prjother\\089hosts\\jnotebook\\pyoop\\1.py ========\n",
    "['\\xd0', '\\x90', '\\xd0', '\\x91', '\\xd0', '\\x93']\n",
    "АБГ\n",
    "'''\n",
    "\n"
   ]
  },
  {
   "cell_type": "code",
   "execution_count": null,
   "metadata": {},
   "outputs": [],
   "source": [
    "Str = \"this is string example....wow!!!\";\n",
    "Str = Str.encode('base64','strict');\n",
    "\n",
    "print (\"Encoded String: \" + Str)\n",
    "print (\"Decoded String: \" + Str.decode('base64','strict'))"
   ]
  },
  {
   "cell_type": "markdown",
   "metadata": {},
   "source": [
    "```\n",
    "# -*- coding: 866 -*-\n",
    "# -*- coding: cp1251 -*-\n",
    "\n",
    "```"
   ]
  },
  {
   "cell_type": "code",
   "execution_count": null,
   "metadata": {},
   "outputs": [],
   "source": [
    "tebook\\pyoop\\1.py ========\n",
    "['\\xc0', '\\xc1', '\\xc3']\n"
   ]
  },
  {
   "cell_type": "markdown",
   "metadata": {},
   "source": [
    "```\n",
    "======== RESTART: D:\\mailCloud\\prjother\\089hosts\\jnotebook\\pyoop\\1.py ========\n",
    "['\\xd0', '\\x90', '\\xd0', '\\x91', '\\xd0', '\\x93']\n",
    "\n",
    "tebook\\pyoop\\1.py ========\n",
    "['\\xc0', '\\xc1', '\\xc3']\n",
    "\n",
    "```"
   ]
  },
  {
   "cell_type": "code",
   "execution_count": 2,
   "metadata": {},
   "outputs": [
    {
     "ename": "AttributeError",
     "evalue": "'str' object has no attribute 'decode'",
     "output_type": "error",
     "traceback": [
      "\u001b[1;31m---------------------------------------------------------------------------\u001b[0m",
      "\u001b[1;31mAttributeError\u001b[0m                            Traceback (most recent call last)",
      "\u001b[1;32m<ipython-input-2-a74d9ca79094>\u001b[0m in \u001b[0;36m<module>\u001b[1;34m\u001b[0m\n\u001b[0;32m     22\u001b[0m     \u001b[1;32mreturn\u001b[0m \u001b[0mst\u001b[0m\u001b[1;33m\u001b[0m\u001b[1;33m\u001b[0m\u001b[0m\n\u001b[0;32m     23\u001b[0m \u001b[0mst\u001b[0m \u001b[1;33m=\u001b[0m \u001b[1;34m'АБГ'\u001b[0m\u001b[1;33m\u001b[0m\u001b[1;33m\u001b[0m\u001b[0m\n\u001b[1;32m---> 24\u001b[1;33m \u001b[0mcod\u001b[0m\u001b[1;33m(\u001b[0m\u001b[0mst\u001b[0m\u001b[1;33m,\u001b[0m\u001b[1;34m'uw'\u001b[0m\u001b[1;33m)\u001b[0m\u001b[1;33m\u001b[0m\u001b[1;33m\u001b[0m\u001b[0m\n\u001b[0m\u001b[0;32m     25\u001b[0m \u001b[0mls\u001b[0m \u001b[1;33m=\u001b[0m \u001b[0mlist\u001b[0m\u001b[1;33m(\u001b[0m\u001b[0mst\u001b[0m\u001b[1;33m)\u001b[0m\u001b[1;33m\u001b[0m\u001b[1;33m\u001b[0m\u001b[0m\n\u001b[0;32m     26\u001b[0m \u001b[1;31m# print ls\u001b[0m\u001b[1;33m\u001b[0m\u001b[1;33m\u001b[0m\u001b[1;33m\u001b[0m\u001b[0m\n",
      "\u001b[1;32m<ipython-input-2-a74d9ca79094>\u001b[0m in \u001b[0;36mcod\u001b[1;34m(st, dec_enc)\u001b[0m\n\u001b[0;32m      8\u001b[0m \u001b[1;33m\u001b[0m\u001b[0m\n\u001b[0;32m      9\u001b[0m     \u001b[1;32mif\u001b[0m \u001b[0mdec\u001b[0m \u001b[1;33m==\u001b[0m \u001b[1;34m\"u\"\u001b[0m\u001b[1;33m:\u001b[0m\u001b[1;33m\u001b[0m\u001b[1;33m\u001b[0m\u001b[0m\n\u001b[1;32m---> 10\u001b[1;33m         \u001b[0mst\u001b[0m \u001b[1;33m=\u001b[0m \u001b[0mst\u001b[0m\u001b[1;33m.\u001b[0m\u001b[0mdecode\u001b[0m\u001b[1;33m(\u001b[0m\u001b[1;34m\"utf-8\"\u001b[0m\u001b[1;33m)\u001b[0m\u001b[1;33m\u001b[0m\u001b[1;33m\u001b[0m\u001b[0m\n\u001b[0m\u001b[0;32m     11\u001b[0m     \u001b[1;32mif\u001b[0m \u001b[0mdec\u001b[0m \u001b[1;33m==\u001b[0m \u001b[1;34m\"w\"\u001b[0m\u001b[1;33m:\u001b[0m\u001b[1;33m\u001b[0m\u001b[1;33m\u001b[0m\u001b[0m\n\u001b[0;32m     12\u001b[0m         \u001b[0mst\u001b[0m \u001b[1;33m=\u001b[0m \u001b[0mst\u001b[0m\u001b[1;33m.\u001b[0m\u001b[0mdecode\u001b[0m\u001b[1;33m(\u001b[0m\u001b[1;34m\"cp1251\"\u001b[0m\u001b[1;33m)\u001b[0m\u001b[1;33m\u001b[0m\u001b[1;33m\u001b[0m\u001b[0m\n",
      "\u001b[1;31mAttributeError\u001b[0m: 'str' object has no attribute 'decode'"
     ]
    }
   ],
   "source": [
    "def cod(st, dec_enc):\n",
    "    # == перекодировать строку\n",
    "    # -- dec_enc задает режим перекодировки\n",
    "    # -- dec = \"u\",\"w\",\"c\",\"p\" - декодировать\n",
    "    # -- enc = \"u\",\"w\",\"c\",\"p\" - кодировать\n",
    "    # -- пример: st = cod(st,\"up\")\n",
    "    dec = dec_enc[0]; enc = dec_enc[1]\n",
    "    \n",
    "    if dec == \"u\":\n",
    "        st = st.decode(\"utf-8\")\n",
    "    if dec == \"w\":\n",
    "        st = st.decode(\"cp1251\")\n",
    "    if dec == \"c\":\n",
    "        st = st.decode(\"cp866\")\n",
    "\n",
    "    if enc == \"u\":\n",
    "        st = st.encode(\"utf-8\")\n",
    "    if enc == \"w\":\n",
    "        st = st.encode(\"cp1251\")\n",
    "    if enc == \"c\":\n",
    "        st = st.encode(\"cp866\")\n",
    "    return st\n",
    "st = 'АБГ'\n",
    "cod(st,'uw')\n",
    "ls = list(st)\n",
    "# print ls\n",
    "print(st)"
   ]
  },
  {
   "cell_type": "markdown",
   "metadata": {},
   "source": []
  },
  {
   "cell_type": "markdown",
   "metadata": {},
   "source": [
    "#### py014 Питон кодировки, часть 2 - автодекодирование\n"
   ]
  },
  {
   "cell_type": "code",
   "execution_count": 3,
   "metadata": {},
   "outputs": [
    {
     "ename": "AttributeError",
     "evalue": "'str' object has no attribute 'decode'",
     "output_type": "error",
     "traceback": [
      "\u001b[1;31m---------------------------------------------------------------------------\u001b[0m",
      "\u001b[1;31mAttributeError\u001b[0m                            Traceback (most recent call last)",
      "\u001b[1;32m<ipython-input-3-862748c0620a>\u001b[0m in \u001b[0;36m<module>\u001b[1;34m\u001b[0m\n\u001b[0;32m     18\u001b[0m     \u001b[1;32mreturn\u001b[0m \u001b[0mfile_coding\u001b[0m\u001b[1;33m\u001b[0m\u001b[1;33m\u001b[0m\u001b[0m\n\u001b[0;32m     19\u001b[0m \u001b[1;33m\u001b[0m\u001b[0m\n\u001b[1;32m---> 20\u001b[1;33m \u001b[0mprint\u001b[0m\u001b[1;33m(\u001b[0m\u001b[0mgetcod\u001b[0m\u001b[1;33m(\u001b[0m\u001b[1;34m'menu.txt'\u001b[0m\u001b[1;33m)\u001b[0m\u001b[1;33m)\u001b[0m\u001b[1;33m\u001b[0m\u001b[1;33m\u001b[0m\u001b[0m\n\u001b[0m",
      "\u001b[1;32m<ipython-input-3-862748c0620a>\u001b[0m in \u001b[0;36mgetcod\u001b[1;34m(file)\u001b[0m\n\u001b[0;32m     10\u001b[0m     \u001b[1;32mfor\u001b[0m \u001b[0menc\u001b[0m \u001b[1;32min\u001b[0m \u001b[0mcod_table\u001b[0m\u001b[1;33m:\u001b[0m\u001b[1;33m\u001b[0m\u001b[1;33m\u001b[0m\u001b[0m\n\u001b[0;32m     11\u001b[0m         \u001b[1;32mtry\u001b[0m\u001b[1;33m:\u001b[0m\u001b[1;33m\u001b[0m\u001b[1;33m\u001b[0m\u001b[0m\n\u001b[1;32m---> 12\u001b[1;33m             \u001b[0mtext_dec\u001b[0m \u001b[1;33m=\u001b[0m \u001b[0mtext\u001b[0m\u001b[1;33m.\u001b[0m\u001b[0mdecode\u001b[0m\u001b[1;33m(\u001b[0m\u001b[0menc\u001b[0m\u001b[1;33m)\u001b[0m\u001b[1;33m\u001b[0m\u001b[1;33m\u001b[0m\u001b[0m\n\u001b[0m\u001b[0;32m     13\u001b[0m         \u001b[1;32mexcept\u001b[0m\u001b[1;33m(\u001b[0m\u001b[0mUnicodeDecodeError\u001b[0m\u001b[1;33m,\u001b[0m \u001b[0mLookupError\u001b[0m\u001b[1;33m)\u001b[0m\u001b[1;33m:\u001b[0m\u001b[1;33m\u001b[0m\u001b[1;33m\u001b[0m\u001b[0m\n\u001b[0;32m     14\u001b[0m             \u001b[1;32mpass\u001b[0m\u001b[1;33m\u001b[0m\u001b[1;33m\u001b[0m\u001b[0m\n",
      "\u001b[1;31mAttributeError\u001b[0m: 'str' object has no attribute 'decode'"
     ]
    }
   ],
   "source": [
    "# dbsn.py\n",
    "def getcod(file):\n",
    "    cod_table = ['utf8','cp1251','cp866',]\n",
    "    \n",
    "    file_coding = ''\n",
    "    fh= open(file)\n",
    "    text = fh.read(8192)\n",
    "    fh.close()\n",
    "    \n",
    "    for enc in cod_table:\n",
    "        try:\n",
    "            text_dec = text.decode(enc)\n",
    "        except(UnicodeDecodeError, LookupError):\n",
    "            pass\n",
    "        else:\n",
    "            file_coding = enc\n",
    "            break\n",
    "    return file_coding\n",
    "\n",
    "# print(getcod('menu.txt'))\n"
   ]
  },
  {
   "cell_type": "code",
   "execution_count": null,
   "metadata": {},
   "outputs": [],
   "source": [
    "%%writefile dbsn.py\n",
    "# dbsn.py\n",
    "def getcod(file):\n",
    "    cod_table = ['utf8','cp1251','cp866',]\n",
    "    \n",
    "    file_coding = ''\n",
    "    fh= open(file)\n",
    "    text = fh.read(8192)\n",
    "    fh.close()\n",
    "    \n",
    "    for enc in cod_table:\n",
    "        try:\n",
    "            text_dec = text.decode(enc)\n",
    "        except(UnicodeDecodeError, LookupError):\n",
    "            pass\n",
    "        else:\n",
    "            file_coding = enc\n",
    "            break\n",
    "    return file_coding\n",
    "\n"
   ]
  },
  {
   "cell_type": "code",
   "execution_count": 5,
   "metadata": {},
   "outputs": [
    {
     "ename": "AttributeError",
     "evalue": "'str' object has no attribute 'decode'",
     "output_type": "error",
     "traceback": [
      "\u001b[1;31m---------------------------------------------------------------------------\u001b[0m",
      "\u001b[1;31mAttributeError\u001b[0m                            Traceback (most recent call last)",
      "\u001b[1;32m<ipython-input-5-9bf9c240457d>\u001b[0m in \u001b[0;36m<module>\u001b[1;34m\u001b[0m\n\u001b[0;32m      6\u001b[0m \u001b[1;32melse\u001b[0m\u001b[1;33m:\u001b[0m\u001b[1;33m\u001b[0m\u001b[1;33m\u001b[0m\u001b[0m\n\u001b[0;32m      7\u001b[0m     \u001b[0mfile_name\u001b[0m \u001b[1;33m=\u001b[0m \u001b[1;34m'1.txt'\u001b[0m\u001b[1;33m\u001b[0m\u001b[1;33m\u001b[0m\u001b[0m\n\u001b[1;32m----> 8\u001b[1;33m \u001b[0mfilecod\u001b[0m \u001b[1;33m=\u001b[0m \u001b[0mgetcod\u001b[0m\u001b[1;33m(\u001b[0m\u001b[0mfile_name\u001b[0m\u001b[1;33m)\u001b[0m\u001b[1;33m\u001b[0m\u001b[1;33m\u001b[0m\u001b[0m\n\u001b[0m\u001b[0;32m      9\u001b[0m \u001b[0mprint\u001b[0m \u001b[1;33m(\u001b[0m\u001b[0mfilecod\u001b[0m\u001b[1;33m)\u001b[0m\u001b[1;33m\u001b[0m\u001b[1;33m\u001b[0m\u001b[0m\n\u001b[0;32m     10\u001b[0m \u001b[0mfh\u001b[0m \u001b[1;33m=\u001b[0m \u001b[0mopen\u001b[0m\u001b[1;33m(\u001b[0m\u001b[0mfile_name\u001b[0m\u001b[1;33m)\u001b[0m\u001b[1;33m\u001b[0m\u001b[1;33m\u001b[0m\u001b[0m\n",
      "\u001b[1;32mD:\\mailCloud\\prjother\\089hosts\\jnotebook\\pyoop\\prkt\\dbsn.py\u001b[0m in \u001b[0;36mgetcod\u001b[1;34m(file)\u001b[0m\n\u001b[0;32m     11\u001b[0m     \u001b[1;32mfor\u001b[0m \u001b[0menc\u001b[0m \u001b[1;32min\u001b[0m \u001b[0mcod_table\u001b[0m\u001b[1;33m:\u001b[0m\u001b[1;33m\u001b[0m\u001b[1;33m\u001b[0m\u001b[0m\n\u001b[0;32m     12\u001b[0m         \u001b[1;32mtry\u001b[0m\u001b[1;33m:\u001b[0m\u001b[1;33m\u001b[0m\u001b[1;33m\u001b[0m\u001b[0m\n\u001b[1;32m---> 13\u001b[1;33m             \u001b[0mtext_dec\u001b[0m \u001b[1;33m=\u001b[0m \u001b[0mtext\u001b[0m\u001b[1;33m.\u001b[0m\u001b[0mdecode\u001b[0m\u001b[1;33m(\u001b[0m\u001b[0menc\u001b[0m\u001b[1;33m)\u001b[0m\u001b[1;33m\u001b[0m\u001b[1;33m\u001b[0m\u001b[0m\n\u001b[0m\u001b[0;32m     14\u001b[0m         \u001b[1;32mexcept\u001b[0m\u001b[1;33m(\u001b[0m\u001b[0mUnicodeDecodeError\u001b[0m\u001b[1;33m,\u001b[0m \u001b[0mLookupError\u001b[0m\u001b[1;33m)\u001b[0m\u001b[1;33m:\u001b[0m\u001b[1;33m\u001b[0m\u001b[1;33m\u001b[0m\u001b[0m\n\u001b[0;32m     15\u001b[0m             \u001b[1;32mpass\u001b[0m\u001b[1;33m\u001b[0m\u001b[1;33m\u001b[0m\u001b[0m\n",
      "\u001b[1;31mAttributeError\u001b[0m: 'str' object has no attribute 'decode'"
     ]
    }
   ],
   "source": [
    "#view.py\n",
    "from dbsn import *\n",
    "\n",
    "if 0:\n",
    "    file_name = raw_input('file for view: ')\n",
    "else:\n",
    "    file_name = '1.txt'\n",
    "filecod = getcod(file_name)\n",
    "print (filecod)\n",
    "fh = open(file_name)\n",
    "for num in range(10):\n",
    "    line = fh.readline().decode(filecod)\n",
    "    line = line.replace(u'\\u2013','-')\n",
    "    print(line)\n",
    "fh.close()\n",
    "\n"
   ]
  },
  {
   "cell_type": "code",
   "execution_count": null,
   "metadata": {},
   "outputs": [],
   "source": [
    "#view.py\n",
    "if 0:\n",
    "    file_name = raw_input('file for view: ')\n",
    "else:\n",
    "    file_name = '1.txt'\n",
    "fh = open(file_name)\n",
    "for num in range(10):\n",
    "    line = fh.readline()\n",
    "    print line\n",
    "fh.close()\n",
    "\n"
   ]
  },
  {
   "cell_type": "code",
   "execution_count": null,
   "metadata": {},
   "outputs": [],
   "source": [
    "%%writefile example.txt\n",
    "ab = 'This is code'\n",
    "a = 5\n",
    "print(a+ 2)"
   ]
  },
  {
   "cell_type": "code",
   "execution_count": null,
   "metadata": {},
   "outputs": [],
   "source": [
    "print(22)"
   ]
  },
  {
   "cell_type": "markdown",
   "metadata": {},
   "source": [
    "#### py015 Питон - постраничное листание текстовых списков"
   ]
  },
  {
   "cell_type": "code",
   "execution_count": 1,
   "metadata": {},
   "outputs": [
    {
     "name": "stdout",
     "output_type": "stream",
     "text": [
      "Overwriting tmp.txt\n"
     ]
    }
   ],
   "source": [
    "%%writefile tmp.txt\n",
    "строка 1\n",
    "строка 2\n",
    "строка 3\n",
    "строка 4\n",
    "строка 5\n",
    "строка 6\n",
    "строка 7\n",
    "строка 8\n",
    "строка 9\n",
    "строка 10\n",
    "строка 11\n",
    "строка 12\n",
    "строка 13\n",
    "строка 14\n",
    "строка 15\n",
    "строка 16\n",
    "строка 17\n",
    "строка 18\n",
    "строка 19\n"
   ]
  },
  {
   "cell_type": "code",
   "execution_count": null,
   "metadata": {},
   "outputs": [],
   "source": [
    "# %%writefile tmp.py\n",
    "from nlist import *\n",
    "filecod = getcod(file_name)\n",
    "print filecod\n",
    "\n",
    "ls = [line.rstrip().decod(filecod) for line in open(file_name)]\n",
    "nls = nlist(ls,6)\n",
    "\n",
    "print 'len=', len(nls)\n",
    "while 1:\n",
    "    num = input(' num: ')\n",
    "    num = absNum(num, len(nls))\n",
    "    if num < 1: break\n",
    "        print num, ': ', nls[ num ]\n",
    "        \n",
    "print 'chunk_count= ', nls.countChunk()\n",
    "\n",
    "chunk = nls.getChunk()\n",
    "print 'chunk[1]=', chunk[1]\n",
    "while 1:\n",
    "    print 'chunk_num = ', nls.getChunkNum()\n",
    "    for line in chunk: print line\n",
    "    step = input('input step: 1, -1,0 for exit: ')\n",
    "    if step == 0: break\n",
    "        chunk = nls.getChunk(0,step)\n",
    "        \n",
    "print 'reverse chunks:'\n",
    "chunk nls.getChunk(1,0,1)\n",
    "print ' chunk[1] = ', chunk[1]\n",
    "while 1:\n",
    "    print 'chunk_num= ', nls.getChunkNum()\n",
    "    for line in chunk: print line\n",
    "        step = input('1, -1, 0 for exit: ')\n",
    "        if stip == 0: break\n",
    "            chunk = nls.getChunk(0,step,1)\n",
    "    \n",
    "    \n",
    "    "
   ]
  },
  {
   "cell_type": "code",
   "execution_count": 58,
   "metadata": {},
   "outputs": [
    {
     "name": "stdout",
     "output_type": "stream",
     "text": [
      "['строка 19']\n"
     ]
    }
   ],
   "source": [
    "# %%writefile nlist3.py\n",
    "#nlist.py\n",
    "from chardet.universaldetector import UniversalDetector\n",
    "\n",
    "def getcod(file):\n",
    "    detector = UniversalDetector()\n",
    "    with open(file, 'rb') as fh:\n",
    "        for line in fh:\n",
    "            detector.feed(line)\n",
    "            if detector.done:\n",
    "                break #https://python-scripts.com/question/7401\n",
    "        detector.close()\n",
    "    return detector.result['encoding']\n",
    "    \n",
    "#------------------------------------------\n",
    "\n",
    "def absNum(num,count):\n",
    "    if num<0: \n",
    "        num += count + 1\n",
    "    if num<1 or num>count: \n",
    "        return 1\n",
    "    return num\n",
    "        \n",
    "#-- list class with natural index and pagination\n",
    "\n",
    "class nlist(list):\n",
    "    def __init__(self, ls, ch_size = 0):\n",
    "        list.__init__(self, ls)\n",
    "        \n",
    "        self.chunk_size = abs(ch_size)\n",
    "        self.chunk_num = 1\n",
    "\n",
    "    def __getitem__(self, key):\n",
    "        if type(key) == int:\n",
    "            key = absNum(key, len(self))\n",
    "#             print(key,'keyyyy')\n",
    "            if key == 0: \n",
    "                return list.__getitem__(self, len(self))\n",
    "            return list.__getitem__(self, key-1)\n",
    "\n",
    "    def __setitem__(self, key, value):\n",
    "        if type(key) == int:\n",
    "            key = absNum(key, len(self))\n",
    "            if key == 0:\n",
    "                list.__setitem__(self, len(self),value)\n",
    "            list.__setitem__(self, key-1, value)\n",
    "        \n",
    "    def __delitem__(self, key):\n",
    "        if type(key) == int:\n",
    "            key = absNum(key, len(self))\n",
    "            if key == 0: list.__delitem__(self, len(self))\n",
    "            list.__delitem__(self, key - 1)\n",
    "\n",
    "    def getchunkNum(self):\n",
    "        return self.chunk_num\n",
    "    \n",
    "    def getChunkSize(self):\n",
    "        return self.chunk_size if self.chunk_size >0 else len(self)\n",
    "                                    \n",
    "    def setChunkSize(ch_size):\n",
    "        self.chunk_size = abs(ch_size)\n",
    "        \n",
    "    def countChunk(self):\n",
    "        if self.chunk_size < 1: \n",
    "            return 1\n",
    "        return (len(self) + self.chunk_size -1)//self.chunk_size\n",
    "        \n",
    "    def getChunk(self, num=0, step=0, reverse=0):\n",
    "        if len(self) == 0: \n",
    "            return nlist([])\n",
    "        \n",
    "        if self.chunk_size>0:\n",
    "            chunk_size = self.chunk_size\n",
    "            chunk_count =(len(self) + chunk_size - 1)//chunk_size\n",
    "        else:\n",
    "            chunk_count=1\n",
    "            chunk_size = len(self)\n",
    "        \n",
    "        if num == 0: \n",
    "            num= self.chunk_num\n",
    "        num += step\n",
    "        if num <0: \n",
    "            num+= chunk_count + 1\n",
    "        if num <1:\n",
    "            self.chunk_num = 1\n",
    "        elif num > chunk_count:\n",
    "            self.chunk_num = chunk_count\n",
    "        else:\n",
    "            self.chunk_num = num\n",
    "            \n",
    "        if reverse:\n",
    "            el_num=len(self) - (self.chunk_num-1)*chunk_size\n",
    "            chunk = [self[j] for j in range(el_num,el_num - chunk_size, -1) if j>0]\n",
    "        else:\n",
    "            el_num=(self.chunk_num-1)*chunk_size\n",
    "#             chunk =self[el_num: el_num + chunk_size]\n",
    "            chunk = [self[j+1] for j in range(el_num,el_num + chunk_size) if j < len(self)]\n",
    "        return nlist(chunk)\n",
    "            \n",
    "import codecs\n",
    "\n",
    "file_name = 'tmp.txt'\n",
    "ls = [line.rstrip() for line in codecs.open(file_name,'r','utf-8')]\n",
    "\n",
    "# nls = nlist(ls, 6)\n",
    "chunk = nls.getChunk(6)\n",
    "print(chunk)"
   ]
  },
  {
   "cell_type": "code",
   "execution_count": 4,
   "metadata": {},
   "outputs": [
    {
     "data": {
      "text/plain": [
       "3"
      ]
     },
     "execution_count": 4,
     "metadata": {},
     "output_type": "execute_result"
    }
   ],
   "source": [
    "abs(-3)\n"
   ]
  },
  {
   "cell_type": "code",
   "execution_count": 2,
   "metadata": {},
   "outputs": [
    {
     "name": "stdout",
     "output_type": "stream",
     "text": [
      "utf-8\n"
     ]
    }
   ],
   "source": [
    "from nlist import *\n",
    "\n",
    "file_name = 'tmp.txt'\n",
    "file_cod = getcod(file_name)\n",
    "print(file_cod)"
   ]
  },
  {
   "cell_type": "code",
   "execution_count": 12,
   "metadata": {},
   "outputs": [
    {
     "name": "stdout",
     "output_type": "stream",
     "text": [
      "None\n"
     ]
    }
   ],
   "source": [
    "from nlist3 import *\n",
    "import codecs\n",
    "\n",
    "file_name = 'tmp.txt'\n",
    "ls = [line.rstrip() for line in codecs.open(file_name,'r','utf-8')]\n",
    "\n",
    "nls = nlist(ls)\n",
    "\n",
    "# print(ls[-1])\n",
    "nls = nlist(ls, 6)\n",
    "# print(nls)\n",
    "chank = nls.getChunk(1)\n",
    "print(chank)"
   ]
  },
  {
   "cell_type": "markdown",
   "metadata": {},
   "source": []
  },
  {
   "cell_type": "markdown",
   "metadata": {},
   "source": []
  },
  {
   "cell_type": "markdown",
   "metadata": {},
   "source": []
  },
  {
   "cell_type": "code",
   "execution_count": null,
   "metadata": {},
   "outputs": [],
   "source": []
  },
  {
   "cell_type": "code",
   "execution_count": null,
   "metadata": {},
   "outputs": [],
   "source": []
  },
  {
   "cell_type": "markdown",
   "metadata": {},
   "source": [
    "#### py016 Питон: кодировка среды ввода"
   ]
  },
  {
   "cell_type": "markdown",
   "metadata": {},
   "source": [
    "##### Программа. Вводим имя файла и его содержимое\n",
    "`file_name` - Имя файлв, куда пишем\n",
    "`fh` - объект файла  \n",
    "'st' - строка, в которую вводим  "
   ]
  },
  {
   "cell_type": "code",
   "execution_count": 31,
   "metadata": {},
   "outputs": [
    {
     "name": "stdout",
     "output_type": "stream",
     "text": [
      "Input name АБ\n",
      "АБ\n"
     ]
    }
   ],
   "source": [
    "# -*- coding: utf8 -*-\n",
    "file_name = raw_input(\"Input name \")\n",
    "print file_name.decode(\"cp1251\")\n",
    "#print('привет')"
   ]
  },
  {
   "cell_type": "code",
   "execution_count": 5,
   "metadata": {},
   "outputs": [
    {
     "name": "stdout",
     "output_type": "stream",
     "text": [
      "ВВ?АБ\n",
      "['А', 'Б']\n",
      "['А', 'Б']\n",
      "АБ\n"
     ]
    }
   ],
   "source": [
    "from dbsn import *\n",
    "\n",
    "st = input('ВВ?')\n",
    "ls = list(st)\n",
    "print(ls)\n",
    "\n",
    "#st= cod(st,'wp')\n",
    "ls = list(st)\n",
    "print(ls)\n",
    "print(st)"
   ]
  },
  {
   "cell_type": "code",
   "execution_count": 5,
   "metadata": {},
   "outputs": [
    {
     "name": "stdout",
     "output_type": "stream",
     "text": [
      "Writing 16.py\n"
     ]
    }
   ],
   "source": [
    "%%writefile '16.py'\n",
    "#dbsn.py\n",
    "import sys\n",
    "def getInputCode():\n",
    "    if \"idlelib\" in sys.modules:\n",
    "        input_cod='cp1251'\n",
    "    if \"Tkinter\" in sys.modules:\n",
    "        input_cod= 'cp1251'\n",
    "    elif sys.stdin.isatty():\n",
    "        input_cod='cp866'\n",
    "    else:\n",
    "        input_cod='cp1251'\n",
    "    return input_cod\n",
    "\n",
    "st = getInputCode()\n",
    "print(st)"
   ]
  },
  {
   "cell_type": "markdown",
   "metadata": {},
   "source": [
    "[dbsn.py](#dbsn.py)"
   ]
  },
  {
   "cell_type": "code",
   "execution_count": 14,
   "metadata": {},
   "outputs": [
    {
     "name": "stdout",
     "output_type": "stream",
     "text": [
      "input file name: 1\n",
      "input string: ав\n"
     ]
    }
   ],
   "source": [
    "# %%writefile 16w.py\n",
    "#16w.py\n",
    "file_name = input(\"input file name: \")\n",
    "fh = open(file_name, \"w\")\n",
    "st = input(\"input string: \")\n",
    "fh.write(st)\n",
    "fh.close()"
   ]
  },
  {
   "cell_type": "code",
   "execution_count": 13,
   "metadata": {},
   "outputs": [
    {
     "name": "stdout",
     "output_type": "stream",
     "text": [
      "Writing 16r.py\n"
     ]
    }
   ],
   "source": [
    "%%writefile 16r.py\n",
    "#16r.py\n",
    "file_name = input(\"input file name: \")\n",
    "fh = open( file_name, \"r\")\n",
    "st = fh.read()\n",
    "print(st)\n",
    "fh.close()"
   ]
  },
  {
   "cell_type": "markdown",
   "metadata": {},
   "source": [
    "#### py017 Питон проекция текстового файла на числовой массив"
   ]
  },
  {
   "cell_type": "code",
   "execution_count": null,
   "metadata": {},
   "outputs": [],
   "source": []
  },
  {
   "cell_type": "code",
   "execution_count": null,
   "metadata": {},
   "outputs": [],
   "source": [
    "# %%writefile nlist3.py\n",
    "#nlist.py\n",
    "import codecs\n",
    "from chardet.universaldetector import UniversalDetector\n",
    "\n",
    "def getcod(file):\n",
    "    detector = UniversalDetector()\n",
    "    with open(file, 'rb') as fh:\n",
    "        for line in fh:\n",
    "            detector.feed(line)\n",
    "            if detector.done:\n",
    "                break #https://python-scripts.com/question/7401\n",
    "        detector.close()\n",
    "    return detector.result['encoding']\n",
    "    \n",
    "#------------------------------------------\n",
    "\n",
    "def absNum(num,count):\n",
    "    if num<0: \n",
    "        num += count + 1\n",
    "    if num<1 or num>count: \n",
    "        return 1\n",
    "    return num\n",
    "        \n",
    "#-- list class with natural index and pagination\n",
    "\n",
    "class nlist(list):\n",
    "    def __init__(self, ls, ch_size = 0):\n",
    "#         list.__init__(self, ls)\n",
    "        \n",
    "        self.chunk_size = abs(ch_size)\n",
    "        self.chunk_num = 1\n",
    "        \n",
    "        self.fh = 0\n",
    "        if type(ls) == str:\n",
    "            self.fh = open(ls, 'rb+')\n",
    "            ls = [0]; offset = 0\n",
    "            while True:\n",
    "                line = self.fh.readline()\n",
    "                if not line:\n",
    "                    break\n",
    "                offset = self.fh.tell()\n",
    "#                 print(line)\n",
    "                ls.append(offset)\n",
    "                \n",
    "            self.fh.seek(offset)\n",
    "            st = self.fh.readline().rstrip()\n",
    "            if len(st) < 1: \n",
    "                ls.pop()\n",
    "            self.fh.seek(0,2)\n",
    "            self.fh.write('\\r\\n'.encode())\n",
    "                \n",
    "            list.__init__(self, ls)\n",
    "        else:\n",
    "            for j,val in enumerate(ls):\n",
    "                if type(val)==str:\n",
    "                    ls[j] = val\n",
    "                list.__init__(self,ls)    \n",
    "\n",
    "    def __getitem__(self, key):\n",
    "        if type(key) == int:\n",
    "            key = absNum(key, len(self))\n",
    "#             print(key,'keyyyy')\n",
    "            if key == 0: \n",
    "                return list.__getitem__(self, len(self))\n",
    "            el = list.__getitem__(self, key-1)\n",
    "            if self.fh:\n",
    "                self.fh.seek(el)\n",
    "                el = self.fh.readline().rstrip()\n",
    "                print(el)\n",
    "            return el.decode('utf-8')\n",
    "\n",
    "    def __setitem__(self, key, value):\n",
    "        if type(key) == int:\n",
    "            key = absNum(key, len(self))\n",
    "            if key == 0:\n",
    "                list.__setitem__(self, len(self),value)\n",
    "            if self.fh:\n",
    "                self.fh.seek(0,2)\n",
    "                offset = self.fh.tell()\n",
    "                value = value + '\\r\\n'\n",
    "                value = value\n",
    "                self.fh.write(value.encode('utf-8'))\n",
    "                value = offset\n",
    "                \n",
    "            list.__setitem__(self, key-1, value)\n",
    "\n",
    "    def append(self, value):\n",
    "        value=value\n",
    "        if self.fh:\n",
    "            self.fh.seek(0,2)\n",
    "            offset = self.fh.tell()\n",
    "            value = value + '\\r\\n'\n",
    "            value = value\n",
    "            self.fh.write(value.encode('utf-8'))\n",
    "            value = offset\n",
    "        list.append(self,value)\n",
    "            \n",
    "    def __delitem__(self, key):\n",
    "        if type(key) == int:\n",
    "            key = absNum(key, len(self))\n",
    "            if key == 0: list.__delitem__(self, len(self))\n",
    "            list.__delitem__(self, key - 1)\n",
    "\n",
    "    def getchunkNum(self):\n",
    "        return self.chunk_num\n",
    "    \n",
    "    def getChunkSize(self):\n",
    "        return self.chunk_size if self.chunk_size >0 else len(self)\n",
    "                                    \n",
    "    def setChunkSize(ch_size):\n",
    "        self.chunk_size = abs(ch_size)\n",
    "        \n",
    "    def countChunk(self):\n",
    "        if self.chunk_size < 1: \n",
    "            return 1\n",
    "        return (len(self) + self.chunk_size -1)//self.chunk_size\n",
    "        \n",
    "    def getChunk(self, num=0, step=0, reverse=0):\n",
    "        if len(self) == 0: \n",
    "            return nlist([])\n",
    "        \n",
    "        if self.chunk_size>0:\n",
    "            chunk_size = self.chunk_size\n",
    "            chunk_count =(len(self) + chunk_size - 1)//chunk_size\n",
    "        else:\n",
    "            chunk_count=1\n",
    "            chunk_size = len(self)\n",
    "        \n",
    "        if num == 0: \n",
    "            num= self.chunk_num\n",
    "        num += step\n",
    "        if num <0: \n",
    "            num+= chunk_count + 1\n",
    "        if num <1:\n",
    "            self.chunk_num = 1\n",
    "        elif num > chunk_count:\n",
    "            self.chunk_num = chunk_count\n",
    "        else:\n",
    "            self.chunk_num = num\n",
    "            \n",
    "        if reverse:\n",
    "            el_num=len(self) - (self.chunk_num-1)*chunk_size\n",
    "            chunk = [self[j] for j in range(el_num,el_num - chunk_size, -1) if j>0]\n",
    "        else:\n",
    "            el_num=(self.chunk_num-1)*chunk_size\n",
    "#             chunk =self[el_num: el_num + chunk_size]\n",
    "            chunk = [self[j+1] for j in range(el_num,el_num + chunk_size) if j < len(self)]\n",
    "\n",
    "        if self.fh:\n",
    "            for j in range(len(chunk)):\n",
    "                el=chunk[j]\n",
    "                chunk[j] = el\n",
    "#                 print(el.decode('utf-8'))\n",
    "#                 self.fh.seek(el)\n",
    "\n",
    "\n",
    "#                 chunk[j] = self.fh.readline()\n",
    "#                 chunk[j] = self.fh.readline().decode('utf-8')\n",
    "                \n",
    "        return nlist(chunk)\n",
    "    def save(self, file, enc='cp1251'):\n",
    "        fh_out =open(file,'wb')\n",
    "        for num in range(len(self)):\n",
    "            el=list.__getitim-_(self.num)\n",
    "            if self.fh:\n",
    "                self.fh.seek(el)\n",
    "                el= self.fh.readline().rstrip()\n",
    "                el= el +'\\r\\n'\n",
    "                fh_out.write(el.encode(enc))\n",
    "            else:\n",
    "                try:\n",
    "                    el=set(el)\n",
    "                except:\n",
    "                    pass\n",
    "            fh_out.write(el.encode(enc)+'\\r\\n')\n",
    "        fh_out.close()\n",
    "        \n",
    "# nls = nlist(ls, 6)\n",
    "# chunk = nls.getChunk(6)\n",
    "# print(chunk)\n",
    "\n",
    "# nls = nlist('habr.html',10)\n",
    "nls = nlist('tmp.txt',6)\n",
    "print(len(nls))\n",
    "# nls[1]= '2222'\n",
    "chunk = nls.getChunk(-1)\n",
    "print(chunk)\n",
    "# print(nls)\n",
    "# # nls.append('Утро')\n",
    "# print(nls)\n",
    "# nls[19]= '134'\n",
    "# chunk = nls.getChunk(-3)\n",
    "# print(chunk)\n",
    "print(nls[5])\n",
    "print(nls)"
   ]
  },
  {
   "cell_type": "code",
   "execution_count": null,
   "metadata": {},
   "outputs": [],
   "source": []
  },
  {
   "cell_type": "code",
   "execution_count": null,
   "metadata": {},
   "outputs": [],
   "source": []
  },
  {
   "cell_type": "markdown",
   "metadata": {},
   "source": [
    "#### py018 Питон формирование таблицы DBSN"
   ]
  },
  {
   "cell_type": "code",
   "execution_count": null,
   "metadata": {},
   "outputs": [],
   "source": [
    "import sys\n",
    "\n",
    "def getInputCod() \n",
    "def getFileCod() #py14\n",
    "def absNum(num,count) #py15\n",
    "class nlist(list): #py15\n",
    "    def __init__(self, ls,ch_size = 0, file_cod = 'cp1251')\n",
    "    def __getitem__\n",
    "    def \n",
    "    def \n",
    "    def \n",
    "    def \n",
    "    def \n",
    "    \n"
   ]
  },
  {
   "cell_type": "code",
   "execution_count": 15,
   "metadata": {},
   "outputs": [
    {
     "name": "stdout",
     "output_type": "stream",
     "text": [
      "Overwriting dbsn.py\n"
     ]
    }
   ],
   "source": [
    "%%writefile dbsn.py\n",
    "#dbsn.py\n",
    "\n",
    "import os\n",
    "\n",
    "def formDBSN(file_name):\n",
    "# == создать таблицу из текстового файла ==    \n",
    "# -- возвращает число записей или код ошибки\n",
    "# -- пример: res = formDBSN('abc.html')\n",
    "# -- исходный файл переименовывает в #.dbs\n",
    "# -- и формирует *.dbn\n",
    "\n",
    "# -- сформировать файлы таблицы\n",
    "    table_name = file_name.split('.')[0]\n",
    "    os.rename(file_name, table_name + '.dbs')\n",
    "    fil_dbs = table_name + '.dbs'\n",
    "    fhs = open(fil_dbs, \"rb\")\n",
    "    fil_dbn = table_name + \".dbn\"\n",
    "    fhn = open(fil_dbn, \"wb\")\n",
    "\n",
    "    #== сформировать файл dbn\n",
    "    rec_num = 0\n",
    "    fragm_offset = 0\n",
    "    while True:\n",
    "        line= fhs.readline()\n",
    "        if line == '':\n",
    "            break\n",
    "        rec_num += 1\n",
    "        offset = fhs.tell()\n",
    "        fragm_len = offset - fragm_offset\n",
    "        fwriteInt( fhn, fragm_offset)\n",
    "        fwriteInt( fhn, fragm_len)\n",
    "        fragm_offset = offset\n",
    "    fhs.close()\n",
    "    fhn.close()\n",
    "    return rec_num\n",
    "        \n",
    "# print(dir(os))    \n"
   ]
  },
  {
   "cell_type": "code",
   "execution_count": null,
   "metadata": {},
   "outputs": [],
   "source": []
  },
  {
   "cell_type": "code",
   "execution_count": 1,
   "metadata": {},
   "outputs": [
    {
     "ename": "NameError",
     "evalue": "name 'fwriteInt' is not defined",
     "output_type": "error",
     "traceback": [
      "\u001b[1;31m---------------------------------------------------------------------------\u001b[0m",
      "\u001b[1;31mNameError\u001b[0m                                 Traceback (most recent call last)",
      "\u001b[1;32m<ipython-input-1-add3ac3d2fb4>\u001b[0m in \u001b[0;36m<module>\u001b[1;34m\u001b[0m\n\u001b[0;32m      2\u001b[0m \u001b[1;32mfrom\u001b[0m \u001b[0mdbsn\u001b[0m \u001b[1;32mimport\u001b[0m \u001b[1;33m*\u001b[0m\u001b[1;33m\u001b[0m\u001b[1;33m\u001b[0m\u001b[0m\n\u001b[0;32m      3\u001b[0m \u001b[1;33m\u001b[0m\u001b[0m\n\u001b[1;32m----> 4\u001b[1;33m \u001b[0mformDBSN\u001b[0m\u001b[1;33m(\u001b[0m\u001b[1;34m'habr.html'\u001b[0m\u001b[1;33m)\u001b[0m\u001b[1;33m\u001b[0m\u001b[1;33m\u001b[0m\u001b[0m\n\u001b[0m",
      "\u001b[1;32mD:\\mailCloud\\prjother\\089hosts\\jnotebook\\pyoop\\prkt\\dbsn.py\u001b[0m in \u001b[0;36mformDBSN\u001b[1;34m(file_name)\u001b[0m\n\u001b[0;32m     28\u001b[0m         \u001b[0moffset\u001b[0m \u001b[1;33m=\u001b[0m \u001b[0mfhs\u001b[0m\u001b[1;33m.\u001b[0m\u001b[0mtell\u001b[0m\u001b[1;33m(\u001b[0m\u001b[1;33m)\u001b[0m\u001b[1;33m\u001b[0m\u001b[1;33m\u001b[0m\u001b[0m\n\u001b[0;32m     29\u001b[0m         \u001b[0mfragm_len\u001b[0m \u001b[1;33m=\u001b[0m \u001b[0moffset\u001b[0m \u001b[1;33m-\u001b[0m \u001b[0mfragm_offset\u001b[0m\u001b[1;33m\u001b[0m\u001b[1;33m\u001b[0m\u001b[0m\n\u001b[1;32m---> 30\u001b[1;33m         \u001b[0mfwriteInt\u001b[0m\u001b[1;33m(\u001b[0m \u001b[0mfhn\u001b[0m\u001b[1;33m,\u001b[0m \u001b[0mfragm_offset\u001b[0m\u001b[1;33m)\u001b[0m\u001b[1;33m\u001b[0m\u001b[1;33m\u001b[0m\u001b[0m\n\u001b[0m\u001b[0;32m     31\u001b[0m         \u001b[0mfwriteInt\u001b[0m\u001b[1;33m(\u001b[0m \u001b[0mfhn\u001b[0m\u001b[1;33m,\u001b[0m \u001b[0mfragm_len\u001b[0m\u001b[1;33m)\u001b[0m\u001b[1;33m\u001b[0m\u001b[1;33m\u001b[0m\u001b[0m\n\u001b[0;32m     32\u001b[0m         \u001b[0mfragm_offset\u001b[0m \u001b[1;33m=\u001b[0m \u001b[0moffset\u001b[0m\u001b[1;33m\u001b[0m\u001b[1;33m\u001b[0m\u001b[0m\n",
      "\u001b[1;31mNameError\u001b[0m: name 'fwriteInt' is not defined"
     ]
    }
   ],
   "source": [
    "\n",
    "# import os\n",
    "from dbsn import *\n",
    "\n",
    "formDBSN('habr.html')\n"
   ]
  },
  {
   "cell_type": "code",
   "execution_count": 17,
   "metadata": {},
   "outputs": [],
   "source": [
    "# dir(os)"
   ]
  },
  {
   "cell_type": "markdown",
   "metadata": {},
   "source": [
    "#### py019 Экспорт MySQL таблицы в DBSN\n",
    "#### py020 Постраничный просмотр таблицы DBSN\n"
   ]
  },
  {
   "cell_type": "markdown",
   "metadata": {},
   "source": [
    "#### py013 Питон работа с различными кодировками\n",
    "#### py014 Питон кодировки, часть 2 - автодекодирование\n",
    "#### py015 Питон - постраничное листание текстовых списков\n",
    "#### py017 Питон проекция текстового файла на числовой массив\n",
    "#### py016 Питон: кодировка среды ввода\n",
    "#### py018 Питон формирование таблицы DBSN\n",
    "#### py019 Экспорт MySQL таблицы в DBSN\n",
    "#### py020 Постраничный просмотр таблицы DBSN\n"
   ]
  },
  {
   "cell_type": "markdown",
   "metadata": {},
   "source": [
    "#### dbsn.py"
   ]
  },
  {
   "cell_type": "code",
   "execution_count": 16,
   "metadata": {},
   "outputs": [
    {
     "name": "stdout",
     "output_type": "stream",
     "text": [
      "Overwriting dbsn.py\n"
     ]
    }
   ],
   "source": [
    "%%writefile dbsn.py\n",
    "# -*- coding: utf8 -*-\n",
    "# dbsn.py\n",
    "\n",
    "import sys\n",
    "\n",
    "\n",
    "def getcod(file):\n",
    "    cod_table = ['utf8','cp1251','cp866',]\n",
    "    \n",
    "    file_coding = ''\n",
    "    fh= open(file)\n",
    "    text = fh.read(8192)\n",
    "    fh.close()\n",
    "    \n",
    "    for enc in cod_table:\n",
    "        try:\n",
    "            text_dec = text.decode(enc)\n",
    "        except(UnicodeDecodeError, LookupError):\n",
    "            pass\n",
    "        else:\n",
    "            file_coding = enc\n",
    "            break\n",
    "    return file_coding\n",
    "\n",
    "def cod(st, dec_enc):\n",
    "    # == перекодировать строку\n",
    "    # -- dec_enc задает режим перекодировки\n",
    "    # -- dec = \"u\",\"w\",\"c\",\"p\" - декодировать\n",
    "    # -- enc = \"u\",\"w\",\"c\",\"p\" - кодировать\n",
    "    # -- пример: st = cod(st,\"up\")\n",
    "    dec = dec_enc[0]; enc = dec_enc[1]\n",
    "    \n",
    "    if dec == \"u\":\n",
    "        st = st.decode(\"utf-8\")\n",
    "    if dec == \"w\":\n",
    "        st = st.decode(\"cp1251\")\n",
    "    if dec == \"c\":\n",
    "        st = st.decode(\"cp866\")\n",
    "\n",
    "    if enc == \"u\":\n",
    "        st = st.encode(\"utf-8\")\n",
    "    if enc == \"w\":\n",
    "        st = st.encode(\"cp1251\")\n",
    "    if enc == \"c\":\n",
    "        st = st.encode(\"cp866\")\n",
    "    return st\n",
    "\n",
    "def getInputCode():\n",
    "    if \"idlelib\" in sys.modules:\n",
    "        input_cod='cp1251'\n",
    "    if \"Tkinter\" in sys.modules:\n",
    "        input_cod= 'cp1251'\n",
    "    elif sys.stdin.isatty():\n",
    "        input_cod='cp866'\n",
    "    else:\n",
    "        input_cod='cp1251'\n",
    "    return input_cod\n"
   ]
  },
  {
   "cell_type": "markdown",
   "metadata": {},
   "source": [
    "C:\\ProgramData\\Anaconda2  \n",
    "conda create -n py27 python=2.7 ipykernel  \n",
    "conda create -n py36 python=3.6 ipykernel  \n",
    "[using-both-python-2-x-and-python-3-x](https://stackoverflow.com/questions/30492623/using-both-python-2-x-and-python-3-x-in-ipython-notebook)  \n"
   ]
  },
  {
   "cell_type": "markdown",
   "metadata": {},
   "source": [
    "[https://www.anaconda.com/distribution/#windows](https://www.anaconda.com/distribution/#windows)  \n",
    "[py001 Питон - практический старт](https://www.youtube.com/watch?v=K3hE5C2kglI&list=PLku9se_HAVOp8pSgrIWGIjHLP-EOw_ywq&index=82)  \n",
    "[py021 DBSN - начало использования](https://www.youtube.com/watch?v=6xPlvNF1tFM&list=PLku9se_HAVOp8pSgrIWGIjHLP-EOw_ywq&index=62)  \n",
    "[]()  \n",
    "[]()  \n",
    "[]()"
   ]
  }
 ],
 "metadata": {
  "kernelspec": {
   "display_name": "Python 3",
   "language": "python",
   "name": "python3"
  },
  "language_info": {
   "codemirror_mode": {
    "name": "ipython",
    "version": 3
   },
   "file_extension": ".py",
   "mimetype": "text/x-python",
   "name": "python",
   "nbconvert_exporter": "python",
   "pygments_lexer": "ipython3",
   "version": "3.7.4"
  }
 },
 "nbformat": 4,
 "nbformat_minor": 2
}
