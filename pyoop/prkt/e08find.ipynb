{
 "cells": [
  {
   "cell_type": "markdown",
   "metadata": {},
   "source": []
  },
  {
   "cell_type": "markdown",
   "metadata": {},
   "source": [
    "\n"
   ]
  },
  {
   "cell_type": "markdown",
   "metadata": {},
   "source": []
  },
  {
   "cell_type": "code",
   "execution_count": 43,
   "metadata": {},
   "outputs": [
    {
     "name": "stdout",
     "output_type": "stream",
     "text": [
      "0\n"
     ]
    }
   ],
   "source": [
    "import codecs\n",
    "import os\n",
    "import re\n",
    "\n",
    "CODEC_FROM = \"cp1251\"\n",
    "CODEC_TO = \"utf-8\"\n",
    "\n",
    "\n",
    "class ClFind:\n",
    "    MASK_FILES = ['*.cpp','*.h','*.txt',]\n",
    "    DIR_TO = '11'\n",
    "    \n",
    "    def __init__(self, builder):\n",
    "        self.MASK_FILES=builder.MASK_FILES\n",
    "        self.DIR_TO=builder.DIR_TO\n",
    "        \n",
    "    def mListFiles(self,):\n",
    "        return os.listdir('.')\n",
    "\n",
    "    def getMask(self,s):\n",
    "        '''\n",
    "        s = '*.cpp'\n",
    "        return: 'cpp'\n",
    "        '''\n",
    "        pattern = r'[*].(\\w+)$' \n",
    "        string = s\n",
    "        match = re.search(pattern, string)\n",
    "        s2 = None\n",
    "        if match:\n",
    "            if len(match.groups())>0:\n",
    "                s2 = match.group(1)\n",
    "        return s2\n",
    "\n",
    "    def mFindMask(self,s,p):\n",
    "        '''\n",
    "        s='file.cpp'\n",
    "        p ='cpp'\n",
    "        '''\n",
    "        pattern = r'.+\\.'+ p + '$'\n",
    "        string = s\n",
    "        match = re.search(pattern, string)\n",
    "        s2 = None\n",
    "        if match:\n",
    "            s2 = match[0]\n",
    "        return s2\n",
    "    \n",
    "    def mGetList(self):\n",
    "        files = self.mListFiles()\n",
    "        files2 = []\n",
    "        for i in files:\n",
    "                for j in self.MASK_FILES:\n",
    "                    m = self.getMask(j)\n",
    "                    s = self.mFindMask(i,m)\n",
    "                    if s:\n",
    "                        files2.append(s)\n",
    "        return files2\n",
    "    \n",
    "    def mFileStrings(self,file):\n",
    "        l = []\n",
    "        with open(file,\"rb\") as fh :\n",
    "            l = fh.readlines()\n",
    "        return l\n",
    "    \n",
    "    def mQuantityStringsFile(self,file):\n",
    "        return len(self.mFileStrings(file))\n",
    "\n",
    "    def mQuantityStringsFiles(self,files):\n",
    "        k=0\n",
    "        for i in files:\n",
    "#             print(i)\n",
    "            k+=self.mQuantityStringsFile(i)\n",
    "        return k\n",
    "            \n",
    "class Builder:\n",
    "    MASK_FILES = ['*.cpp','*.h']\n",
    "    DIR_TO = '..\\\\tmp1\\\\'\n",
    "    \n",
    "    def setMaskFiles(self, maskFiles):\n",
    "        self.MASK_FILES = maskFiles\n",
    "        return self\n",
    "    \n",
    "    def setDirTo(self, dirTo):\n",
    "        self.DIR_TO = dirTo\n",
    "        return self\n",
    "    \n",
    "    def build(self):\n",
    "         return ClFind(self)\n",
    "\n",
    "builder = Builder()\n",
    "builder.setMaskFiles(['*.cpp','*.h','*.ui'])\n",
    "builder.setDirTo('..\\\\tmp1\\\\')\n",
    "\n",
    "clFind=builder.build()\n",
    "\n",
    "l=clFind.mGetList()\n",
    "sz = clFind.mQuantityStringsFiles(l)\n",
    "print(sz)"
   ]
  },
  {
   "cell_type": "code",
   "execution_count": null,
   "metadata": {},
   "outputs": [],
   "source": []
  }
 ],
 "metadata": {
  "kernelspec": {
   "display_name": "Python 3",
   "language": "python",
   "name": "python3"
  },
  "language_info": {
   "codemirror_mode": {
    "name": "ipython",
    "version": 3
   },
   "file_extension": ".py",
   "mimetype": "text/x-python",
   "name": "python",
   "nbconvert_exporter": "python",
   "pygments_lexer": "ipython3",
   "version": "3.7.4"
  }
 },
 "nbformat": 4,
 "nbformat_minor": 2
}
