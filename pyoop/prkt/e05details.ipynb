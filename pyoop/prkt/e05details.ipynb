{
 "cells": [
  {
   "cell_type": "markdown",
   "metadata": {},
   "source": [
    "#### details"
   ]
  },
  {
   "cell_type": "code",
   "execution_count": 3,
   "metadata": {},
   "outputs": [
    {
     "name": "stdout",
     "output_type": "stream",
     "text": [
      "<details><pre>\n",
      "#include &quot;mainwindow.h&quot;\r\n",
      "#include &quot;ui_mainwindow.h&quot;\r\n",
      "MainWindow::MainWindow(QWidget *parent) :\r\n",
      "    QMainWindow(parent),\r\n",
      "    ui(new Ui::MainWindow)\r\n",
      "{\r\n",
      "    ui-&gt;setupUi(this);\r\n",
      "    QString s=tr(&quot;123&quot;);\r\n",
      "    QLocale::system().name();\r\n",
      "    ui-&gt;label-&gt;setText(QLocale::system().name());\r\n",
      "}\r\n",
      "MainWindow::~MainWindow()\r\n",
      "{\r\n",
      "    delete ui;\r\n",
      "}\r\n",
      "</pre></details>\n"
     ]
    }
   ],
   "source": [
    "# import pandas as pd\n",
    "import codecs\n",
    "import clipboard\n",
    "\n",
    "st = \"\"\n",
    "with codecs.open(\"e05detr.txt\",\"r\",\"utf-8\") as fh :\n",
    "    st = fh.read();\n",
    "st = st.replace(\"<\",\"&lt;\")\n",
    "st = st.replace(\">\",\"&gt;\")\n",
    "st = st.replace(\"\\\"\",\"&quot;\")\n",
    "\n",
    "lst = st.split(\"\\n\")\n",
    "lst = [s for s in lst if len(s.strip())>0]\n",
    "lst2 = []\n",
    "lks = []\n",
    "for s in lst:\n",
    "    index=0\n",
    "    indexpr=0\n",
    "    quantity=0\n",
    "    first = 0\n",
    "    while 1:\n",
    "        index=s.find(' ',index)\n",
    "        if first == 0:\n",
    "            if index != 0:\n",
    "                break\n",
    "            first = 1\n",
    "        if index<0:\n",
    "            break\n",
    "#         print(index,indexpr)\n",
    "        if index-indexpr>1:\n",
    "            break\n",
    "        indexpr=index\n",
    "        quantity+=1\n",
    "        index+=1\n",
    "    if len(s)>0:\n",
    "        lst2.append(s)\n",
    "        lks.append(quantity)\n",
    "min=100\n",
    "for i in lks:\n",
    "    if min>i:\n",
    "        min=i\n",
    "\n",
    "lst3=[]\n",
    "for i in lst2:\n",
    "    \n",
    "    s = i[min:]\n",
    "    lst3.append(s)\n",
    "# print(lst3)\n",
    "# print(lst2)\n",
    "\n",
    "st = \"\\n\".join(lst3)\n",
    "st2 = \"<details><pre>\\n\"+st+\"\\n</pre></details>\"\n",
    "print(st2)\n",
    "\n",
    "with open(\"e05detw.txt\",\"w\") as fh :\n",
    "    fh.write(st2);\n",
    "clipboard.copy(st2)  \n",
    "# text = clipboard.paste() "
   ]
  },
  {
   "cell_type": "code",
   "execution_count": null,
   "metadata": {},
   "outputs": [],
   "source": []
  },
  {
   "cell_type": "code",
   "execution_count": 47,
   "metadata": {},
   "outputs": [
    {
     "ename": "ModuleNotFoundError",
     "evalue": "No module named 'clipboard'",
     "output_type": "error",
     "traceback": [
      "\u001b[1;31m---------------------------------------------------------------------------\u001b[0m",
      "\u001b[1;31mModuleNotFoundError\u001b[0m                       Traceback (most recent call last)",
      "\u001b[1;32m<ipython-input-47-783e1baaac69>\u001b[0m in \u001b[0;36m<module>\u001b[1;34m\u001b[0m\n\u001b[1;32m----> 1\u001b[1;33m \u001b[1;32mimport\u001b[0m \u001b[0mclipboard\u001b[0m\u001b[1;33m\u001b[0m\u001b[1;33m\u001b[0m\u001b[0m\n\u001b[0m\u001b[0;32m      2\u001b[0m \u001b[0mclipboard\u001b[0m\u001b[1;33m.\u001b[0m\u001b[0mcopy\u001b[0m\u001b[1;33m(\u001b[0m\u001b[1;34m\"abc\"\u001b[0m\u001b[1;33m)\u001b[0m  \u001b[1;31m# now the clipboard content will be string \"abc\"\u001b[0m\u001b[1;33m\u001b[0m\u001b[1;33m\u001b[0m\u001b[0m\n\u001b[0;32m      3\u001b[0m \u001b[0mtext\u001b[0m \u001b[1;33m=\u001b[0m \u001b[0mclipboard\u001b[0m\u001b[1;33m.\u001b[0m\u001b[0mpaste\u001b[0m\u001b[1;33m(\u001b[0m\u001b[1;33m)\u001b[0m  \u001b[1;31m# text will have the content of clipboard\u001b[0m\u001b[1;33m\u001b[0m\u001b[1;33m\u001b[0m\u001b[0m\n",
      "\u001b[1;31mModuleNotFoundError\u001b[0m: No module named 'clipboard'"
     ]
    }
   ],
   "source": [
    "import clipboard\n",
    "clipboard.copy(\"abc\")  # now the clipboard content will be string \"abc\"\n",
    "text = clipboard.paste()  # text will have the content of clipboard"
   ]
  },
  {
   "cell_type": "code",
   "execution_count": 49,
   "metadata": {},
   "outputs": [
    {
     "data": {
      "text/plain": [
       "255"
      ]
     },
     "execution_count": 49,
     "metadata": {},
     "output_type": "execute_result"
    }
   ],
   "source": [
    "import os \n",
    "data = \"hello world\"\n",
    "os.system(\"echo '%s' | pbcopy\" % data)"
   ]
  },
  {
   "cell_type": "code",
   "execution_count": 51,
   "metadata": {},
   "outputs": [
    {
     "data": {
      "text/plain": [
       "0"
      ]
     },
     "execution_count": 51,
     "metadata": {},
     "output_type": "execute_result"
    }
   ],
   "source": [
    "import subprocess\n",
    "\n",
    "def copy2clip(txt):\n",
    "    cmd='echo '+txt.strip()+'|clip'\n",
    "    return subprocess.check_call(cmd, shell=True)\n",
    "copy2clip('This is on my clipboard!')\n"
   ]
  },
  {
   "cell_type": "code",
   "execution_count": 9,
   "metadata": {},
   "outputs": [],
   "source": [
    "import pandas as pd\n",
    "st2 ='Text to\\r\\n copy'\n",
    "df=pd.DataFrame({st2})\n",
    "df.to_clipboard(index=False,excel=True,header=False)"
   ]
  },
  {
   "cell_type": "code",
   "execution_count": 14,
   "metadata": {},
   "outputs": [],
   "source": [
    "#pip install clipboard\n",
    "import clipboard\n",
    "st2 ='Text to\\r\\n copy'\n",
    "clipboard.copy(st2)  \n",
    "text = clipboard.paste() "
   ]
  },
  {
   "cell_type": "markdown",
   "metadata": {},
   "source": [
    "Text to\n",
    " copy\n"
   ]
  },
  {
   "cell_type": "markdown",
   "metadata": {},
   "source": [
    "#### Jupyter\n",
    "[Набор Python-скриптов для автоматизации рутинных задач SEO-специалиста](https://vc.ru/seo/91963-nabor-python-skriptov-dlya-avtomatizacii-rutinnyh-zadach-seo-specialista)  \n",
    "[IPython magic to edit Jupyter cell tags](https://habr.com/en/post/439570/)  \n",
    "[БАЗА ЗНАНИЙ ПО ПРОГРАММИРОВАНИЮ НА PYTHON 3](https://pythonru.com/baza-znanij)  \n",
    "[]()  \n",
    "[]()  \n"
   ]
  },
  {
   "cell_type": "code",
   "execution_count": 23,
   "metadata": {},
   "outputs": [
    {
     "data": {
      "application/javascript": [
       "Jupyter.notebook.execute_cells([8]) # 0 to run first cell in notebook etc.\n"
      ],
      "text/plain": [
       "<IPython.core.display.Javascript object>"
      ]
     },
     "metadata": {},
     "output_type": "display_data"
    }
   ],
   "source": [
    "%%javascript\n",
    "Jupyter.notebook.execute_cells([8]) # 0 to run first cell in notebook etc."
   ]
  },
  {
   "cell_type": "code",
   "execution_count": 34,
   "metadata": {},
   "outputs": [
    {
     "data": {
      "text/plain": [
       "'# import pandas as pd\\nimport codecs\\nimport clipboard\\n\\nst = \"\"\\nwith codecs.open(\"e05detr.txt\",\"r\",\"utf-8\") as fh :\\n    st = fh.read();\\nst = st.replace(\"<\",\"&lt;\")\\nst = st.replace(\">\",\"&gt;\")\\nst = st.replace(\"\\\\\"\",\"&quot;\")\\n\\nlst = st.split(\"\\\\n\")\\nlst = [s for s in lst if len(s.strip())>0]\\nlst2 = []\\nlks = []\\nfor s in lst:\\n    index=0\\n    indexpr=0\\n    quantity=0\\n    first = 0\\n    while 1:\\n        index=s.find(\\' \\',index)\\n        if first == 0:\\n            if index != 0:\\n                break\\n            first = 1\\n        if index<0:\\n            break\\n#         print(index,indexpr)\\n        if index-indexpr>1:\\n            break\\n        indexpr=index\\n        quantity+=1\\n        index+=1\\n    if len(s)>0:\\n        lst2.append(s)\\n        lks.append(quantity)\\nmin=100\\nfor i in lks:\\n    if min>i:\\n        min=i\\n\\nlst3=[]\\nfor i in lst2:\\n    \\n    s = i[min:]\\n    lst3.append(s)\\n# print(lst3)\\n# print(lst2)\\n\\nst = \"\\\\n\".join(lst3)\\nst2 = \"<details><pre>\\\\n\"+st+\"\\\\n</pre></details>\"\\nprint(st2)\\n\\nwith open(\"e05detw.txt\",\"w\") as fh :\\n    fh.write(st2);\\nclipboard.copy(st2)  \\n# text = clipboard.paste() '"
      ]
     },
     "execution_count": 34,
     "metadata": {},
     "output_type": "execute_result"
    }
   ],
   "source": [
    "_i2"
   ]
  },
  {
   "cell_type": "code",
   "execution_count": null,
   "metadata": {},
   "outputs": [],
   "source": []
  },
  {
   "cell_type": "code",
   "execution_count": 9,
   "metadata": {},
   "outputs": [
    {
     "data": {
      "application/javascript": [
       "alert(\"hi!\")"
      ],
      "text/plain": [
       "<IPython.core.display.Javascript object>"
      ]
     },
     "metadata": {},
     "output_type": "display_data"
    }
   ],
   "source": [
    "from IPython.display import Javascript, display\n",
    "display(Javascript('alert(\"hi!\")'))"
   ]
  },
  {
   "cell_type": "code",
   "execution_count": 13,
   "metadata": {},
   "outputs": [
    {
     "data": {
      "application/javascript": [
       "define('setTags', function() {\n",
       "    return function(element, tags) {\n",
       "        var cell_element = element.parents('.cell');\n",
       "        var index = Jupyter.notebook.get_cell_elements().index(cell_element);\n",
       "        var cell = Jupyter.notebook.get_cell(index);\n",
       "        cell.metadata.tags = tags;\n",
       "    }\n",
       "});\n"
      ],
      "text/plain": [
       "<IPython.core.display.Javascript object>"
      ]
     },
     "metadata": {},
     "output_type": "display_data"
    }
   ],
   "source": [
    "%%javascript\n",
    "define('setTags', function() {\n",
    "    return function(element, tags) {\n",
    "        var cell_element = element.parents('.cell');\n",
    "        var index = Jupyter.notebook.get_cell_elements().index(cell_element);\n",
    "        var cell = Jupyter.notebook.get_cell(index);\n",
    "        cell.metadata.tags = tags;\n",
    "    }\n",
    "});"
   ]
  },
  {
   "cell_type": "code",
   "execution_count": 16,
   "metadata": {},
   "outputs": [],
   "source": [
    "from IPython.core.magic import register_cell_magic, register_line_cell_magic\n",
    "from IPython.display import Javascript, display\n",
    "import json\n",
    "\n",
    "def _set_tags(tags):\n",
    "    assert all(map(lambda t: isinstance(t, str), tags))\n",
    "    display(Javascript(\n",
    "        \"\"\"\n",
    "        require(['setTags'], function(setTags) {\n",
    "            setTags(element, %s);\n",
    "        });\n",
    "        \"\"\" % json.dumps(tags)\n",
    "    ))\n",
    "\n",
    "@register_line_cell_magic\n",
    "def tag(line, cell=None):\n",
    "    _set_tags(line.split())"
   ]
  },
  {
   "cell_type": "code",
   "execution_count": 15,
   "metadata": {
    "tags": [
     "code",
     "foo",
     "bar"
    ]
   },
   "outputs": [
    {
     "data": {
      "application/javascript": [
       "\n",
       "        require(['setTags'], function(setTags) {\n",
       "            setTags(element, [\"code\", \"foo\", \"bar\"]);\n",
       "        });\n",
       "        "
      ],
      "text/plain": [
       "<IPython.core.display.Javascript object>"
      ]
     },
     "metadata": {},
     "output_type": "display_data"
    },
    {
     "name": "stdout",
     "output_type": "stream",
     "text": [
      "hello world\n"
     ]
    }
   ],
   "source": [
    "%tag code foo bar\n",
    "print(\"hello world\")"
   ]
  }
 ],
 "metadata": {
  "kernelspec": {
   "display_name": "Python 3",
   "language": "python",
   "name": "python3"
  },
  "language_info": {
   "codemirror_mode": {
    "name": "ipython",
    "version": 3
   },
   "file_extension": ".py",
   "mimetype": "text/x-python",
   "name": "python",
   "nbconvert_exporter": "python",
   "pygments_lexer": "ipython3",
   "version": "3.7.4"
  }
 },
 "nbformat": 4,
 "nbformat_minor": 2
}
