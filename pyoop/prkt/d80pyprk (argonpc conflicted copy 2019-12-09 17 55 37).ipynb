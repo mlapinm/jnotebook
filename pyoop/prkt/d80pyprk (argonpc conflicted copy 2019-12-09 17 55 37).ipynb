{
 "cells": [
  {
   "cell_type": "markdown",
   "metadata": {},
   "source": [
    "[py080 Простая программа работы с СОМ портом на Python](#py080-Простая-программа-работы-с-СОМ-портом-на-Python)   \n",
    "[py081 Использование TFTP на Python 3](#py081-Использование-TFTP-на-Python-3)   \n",
    "[py083 Парсим простые сайты на Python3](#py083-Парсим-простые-сайты-на-Python3)   \n"
   ]
  },
  {
   "cell_type": "markdown",
   "metadata": {},
   "source": [
    "#### py080 Простая программа работы с СОМ портом на Python\n",
    "#### py081 Использование TFTP на Python 3\n",
    "#### py083 Парсим простые сайты на Python3\n"
   ]
  },
  {
   "cell_type": "markdown",
   "metadata": {},
   "source": [
    "#### py080 Простая программа работы с СОМ портом на Python\n",
    "#### py081 Использование TFTP на Python 3\n",
    "#### py083 Парсим простые сайты на Python3\n"
   ]
  },
  {
   "cell_type": "markdown",
   "metadata": {},
   "source": [
    "#### wb026 сниффер WireShark введение\n",
    "[wb026 сниффер WireShark введение](https://www.youtube.com/watch?v=6cSHoRq8Ijs&list=PLku9se_HAVOrs3p_jJzZAbV3BEODrhS3j)  \n",
    "Cupture\n",
    "1. host 192.168.0.112\n",
    "1. net 192.168.0.0\n",
    "1. port 80  \n",
    "\n",
    "filter  \n",
    "1.  ip.proto==01  \n",
    "\n"
   ]
  },
  {
   "cell_type": "markdown",
   "metadata": {},
   "source": [
    "`Захват` `Опции...`\n",
    "Интерфейсы захвата\n",
    "`host 192.168.0.112`   Фильтр захвата для выбранных интерфейсов  \n",
    "`Старт`\n",
    "`ip.proto==01` - фильтр  \n",
    "\n",
    "1 | ICMP\n",
    "-------|-------\n",
    "6 | TCP\n",
    "17 | UDP"
   ]
  },
  {
   "cell_type": "markdown",
   "metadata": {},
   "source": [
    "#### Регулярные выражения"
   ]
  },
  {
   "cell_type": "code",
   "execution_count": 4,
   "metadata": {},
   "outputs": [
    {
     "name": "stdout",
     "output_type": "stream",
     "text": [
      "<p></p><p></p>\n"
     ]
    }
   ],
   "source": [
    "import re\n",
    "# очистить параметры тэгв\n",
    "def clear_tagparams( tag, text ):\n",
    "    st = \"<\" + tag + \"[^>]*?>\"\n",
    "    rex = re.compile( st )\n",
    "    return re.sub( rex, \"<\" + tag + \">\" , text)\n",
    "\n",
    "\n",
    "s = '<p aaa ></p><p aaa ></p>'\n",
    "s2 = clear_tagparams('p',s)\n",
    "print(s2)"
   ]
  },
  {
   "cell_type": "code",
   "execution_count": 15,
   "metadata": {},
   "outputs": [
    {
     "name": "stdout",
     "output_type": "stream",
     "text": [
      "<p></p><p></p>\n"
     ]
    }
   ],
   "source": [
    "import re\n",
    "# очистить параметры тэгв\n",
    "def clear_tagparams( tag, text ):\n",
    "    return re.sub( r'<(p)[^>]*?>', r'<\\1>' , text)\n",
    "\n",
    "\n",
    "s = '<p aaa ></p><p aaa ></p>'\n",
    "s2 = clear_tagparams('p',s)\n",
    "print(s2)"
   ]
  },
  {
   "cell_type": "code",
   "execution_count": 6,
   "metadata": {},
   "outputs": [
    {
     "name": "stdout",
     "output_type": "stream",
     "text": [
      "We arrive on 25.03.2018. So you are welcome after 01.04.2018.\n"
     ]
    }
   ],
   "source": [
    "import re \n",
    "text = \"We arrive on 03/25/2018. So you are welcome after 04/01/2018.\" \n",
    "print(re.sub(r'(\\d\\d)/(\\d\\d)/(\\d{4})', r'\\2.\\1.\\3', text)) \n",
    "# -> We arrive on 25.03.2018. So you are welcome after 01.04.2018. "
   ]
  },
  {
   "cell_type": "code",
   "execution_count": 36,
   "metadata": {},
   "outputs": [
    {
     "name": "stdout",
     "output_type": "stream",
     "text": [
      "<a>href=\"1\"></a><a>href=\"2\">ффф</a>\n"
     ]
    }
   ],
   "source": [
    "import re\n",
    "# очистить ссылку\n",
    "def clear_tagparams( text ):\n",
    "    return re.sub( r'<a.*?(href=\\\"[^\\\"]*?\\\")[^>]*?>', \n",
    "                  r'<a>\\1>' , text)\n",
    "\n",
    "\n",
    "s = '<a ddd href=\"1\" aaa ></a><a href=\"2\" aaa >ффф</a>'\n",
    "s2 = clear_tagparams(s)\n",
    "print(s2)"
   ]
  }
 ],
 "metadata": {
  "kernelspec": {
   "display_name": "Python 3",
   "language": "python",
   "name": "python3"
  },
  "language_info": {
   "codemirror_mode": {
    "name": "ipython",
    "version": 3
   },
   "file_extension": ".py",
   "mimetype": "text/x-python",
   "name": "python",
   "nbconvert_exporter": "python",
   "pygments_lexer": "ipython3",
   "version": "3.7.4"
  }
 },
 "nbformat": 4,
 "nbformat_minor": 2
}
