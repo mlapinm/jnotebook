{
 "cells": [
  {
   "cell_type": "markdown",
   "metadata": {},
   "source": []
  },
  {
   "cell_type": "markdown",
   "metadata": {},
   "source": []
  },
  {
   "cell_type": "code",
   "execution_count": 1,
   "metadata": {},
   "outputs": [
    {
     "name": "stdout",
     "output_type": "stream",
     "text": [
      "<a>href=\"1\"></a><a>href=\"2\">ффф</a>\n"
     ]
    }
   ],
   "source": [
    "import re\n",
    "# очистить ссылку\n",
    "def clear_tagparams( text ):\n",
    "    return re.sub( r'<a.*?(href=\\\"[^\\\"]*?\\\")[^>]*?>', \n",
    "                  r'<a>\\1>' , text)\n",
    "\n",
    "\n",
    "s = '<a ddd href=\"1\" aaa ></a><a href=\"2\" aaa >ффф</a>'\n",
    "s2 = clear_tagparams(s)\n",
    "print(s2)"
   ]
  }
 ],
 "metadata": {
  "kernelspec": {
   "display_name": "Python 3",
   "language": "python",
   "name": "python3"
  },
  "language_info": {
   "codemirror_mode": {
    "name": "ipython",
    "version": 3
   },
   "file_extension": ".py",
   "mimetype": "text/x-python",
   "name": "python",
   "nbconvert_exporter": "python",
   "pygments_lexer": "ipython3",
   "version": "3.7.4"
  }
 },
 "nbformat": 4,
 "nbformat_minor": 2
}
