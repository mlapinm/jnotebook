{
 "cells": [
  {
   "cell_type": "markdown",
   "metadata": {},
   "source": [
    "[py013 Питон работа с различными кодировками](#py013-Питон-работа-с-различными-кодировками)   \n",
    "[py014 Питон кодировки, часть 2 - автодекодирование](#py014-Питон-кодировки,-часть-2---автодекодирование)   \n",
    "[py015 Питон - постраничное листание текстовых списков](#py015-Питон---постраничное-листание-текстовых-списков)   \n",
    "[py017 Питон проекция текстового файла на числовой массив](#py017-Питон-проекция-текстового-файла-на-числовой-массив)   \n",
    "[py016 Питон: кодировка среды ввода](#py016-Питон:-кодировка-среды-ввода)   \n",
    "[py018 Питон формирование таблицы DBSN](#py018-Питон-формирование-таблицы-DBSN)   \n",
    "[py019 Экспорт MySQL таблицы в DBSN](#py019-Экспорт-MySQL-таблицы-в-DBSN)   \n",
    "[py020 Постраничный просмотр таблицы DBSN](#py020-Постраничный-просмотр-таблицы-DBSN)"
   ]
  },
  {
   "cell_type": "markdown",
   "metadata": {},
   "source": [
    "#### py013 Питон работа с различными кодировками\n"
   ]
  },
  {
   "cell_type": "markdown",
   "metadata": {},
   "source": [
    "cod | А   | Б | Г\n",
    "--------|------------|----------|-------------\n",
    "1251|C0|C1|C3\n",
    "866|80|81|83\n",
    "utf8|D090|D091|D093\n",
    "unicod|\\u0410|\\u0411|\\u0413\n"
   ]
  },
  {
   "cell_type": "code",
   "execution_count": 1,
   "metadata": {},
   "outputs": [
    {
     "name": "stderr",
     "output_type": "stream",
     "text": [
      "\"IDLE\" ­Ґ пў«пҐвбп ў­гваҐ­­Ґ© Ё«Ё ў­Ґи­Ґ©\n",
      "Є®¬ ­¤®©, ЁбЇ®«­пҐ¬®© Їа®Ја ¬¬®© Ё«Ё Ї ЄҐв­л¬ д ©«®¬.\n"
     ]
    }
   ],
   "source": [
    "!IDLE (Python GUI)"
   ]
  },
  {
   "cell_type": "code",
   "execution_count": 2,
   "metadata": {},
   "outputs": [
    {
     "name": "stdout",
     "output_type": "stream",
     "text": [
      "['А', 'Б', 'Г']\n",
      "АБГ\n"
     ]
    }
   ],
   "source": [
    "# -*- coding: 866 -*-\n",
    "st = \"АБГ\"\n",
    "#st = raw_input('?')\n",
    "ls = list(st)\n",
    "print(ls)\n",
    "print(st)\n"
   ]
  },
  {
   "cell_type": "markdown",
   "metadata": {},
   "source": [
    "```\n",
    "D:\\mailCloud\\prjother\\089hosts\\jnotebook\\pyoop>1.py\n",
    "['\\xd0', '\\x90', '\\xd0', '\\x91', '\\xd0', '\\x93']\n",
    "╨Р╨С╨У\n",
    "\n",
    "======== RESTART: D:\\mailCloud\\prjother\\089hosts\\jnotebook\\pyoop\\1.py ========\n",
    "['\\xd0', '\\x90', '\\xd0', '\\x91', '\\xd0', '\\x93']\n",
    "РђР‘Р“\n",
    "\n",
    "```"
   ]
  },
  {
   "cell_type": "code",
   "execution_count": 1,
   "metadata": {},
   "outputs": [
    {
     "name": "stdout",
     "output_type": "stream",
     "text": [
      "['\\xd0', '\\x90', '\\xd0', '\\x91', '\\xd0', '\\x93']\n",
      "АБГ\n"
     ]
    },
    {
     "data": {
      "text/plain": [
       "\"\\nD:\\\\mailCloud\\\\prjother\\x0089hosts\\\\jnotebook\\\\pyoop>1.py\\n['\\xd0', '\\x90', '\\xd0', '\\x91', '\\xd0', '\\x93']\\n\\xd0\\x90\\xd0\\x91\\xd0\\x93\\n\\n======== RESTART: D:\\\\mailCloud\\\\prjother\\x0089hosts\\\\jnotebook\\\\pyoop\\x01.py ========\\n['\\xd0', '\\x90', '\\xd0', '\\x91', '\\xd0', '\\x93']\\n\\xd0\\x90\\xd0\\x91\\xd0\\x93\\n\""
      ]
     },
     "execution_count": 1,
     "metadata": {},
     "output_type": "execute_result"
    }
   ],
   "source": [
    "# -*- coding: utf8 -*-\n",
    "st = \"АБГ\"\n",
    "#st = raw_input('?')\n",
    "ls = list(st)\n",
    "print(ls)\n",
    "print(st.decode('utf8'))\n",
    "'''\n",
    "D:\\mailCloud\\prjother\\089hosts\\jnotebook\\pyoop>1.py\n",
    "['\\xd0', '\\x90', '\\xd0', '\\x91', '\\xd0', '\\x93']\n",
    "АБГ\n",
    "\n",
    "======== RESTART: D:\\mailCloud\\prjother\\089hosts\\jnotebook\\pyoop\\1.py ========\n",
    "['\\xd0', '\\x90', '\\xd0', '\\x91', '\\xd0', '\\x93']\n",
    "АБГ\n",
    "'''\n",
    "\n"
   ]
  },
  {
   "cell_type": "code",
   "execution_count": null,
   "metadata": {},
   "outputs": [],
   "source": [
    "Str = \"this is string example....wow!!!\";\n",
    "Str = Str.encode('base64','strict');\n",
    "\n",
    "print (\"Encoded String: \" + Str)\n",
    "print (\"Decoded String: \" + Str.decode('base64','strict'))"
   ]
  },
  {
   "cell_type": "markdown",
   "metadata": {},
   "source": [
    "```\n",
    "# -*- coding: 866 -*-\n",
    "# -*- coding: cp1251 -*-\n",
    "\n",
    "```"
   ]
  },
  {
   "cell_type": "code",
   "execution_count": null,
   "metadata": {},
   "outputs": [],
   "source": [
    "tebook\\pyoop\\1.py ========\n",
    "['\\xc0', '\\xc1', '\\xc3']\n"
   ]
  },
  {
   "cell_type": "markdown",
   "metadata": {},
   "source": [
    "```\n",
    "======== RESTART: D:\\mailCloud\\prjother\\089hosts\\jnotebook\\pyoop\\1.py ========\n",
    "['\\xd0', '\\x90', '\\xd0', '\\x91', '\\xd0', '\\x93']\n",
    "\n",
    "tebook\\pyoop\\1.py ========\n",
    "['\\xc0', '\\xc1', '\\xc3']\n",
    "\n",
    "```"
   ]
  },
  {
   "cell_type": "code",
   "execution_count": 27,
   "metadata": {},
   "outputs": [
    {
     "name": "stdout",
     "output_type": "stream",
     "text": [
      "['\\xd0', '\\x90', '\\xd0', '\\x91', '\\xd0', '\\x93']\n",
      "АБГ\n"
     ]
    }
   ],
   "source": [
    "def cod(st, dec_enc):\n",
    "    # == перекодировать строку\n",
    "    # -- dec_enc задает режим перекодировки\n",
    "    # -- dec = \"u\",\"w\",\"c\",\"p\" - декодировать\n",
    "    # -- enc = \"u\",\"w\",\"c\",\"p\" - кодировать\n",
    "    # -- пример: st = cod(st,\"up\")\n",
    "    dec = dec_enc[0]; enc = dec_enc[1]\n",
    "    \n",
    "    if dec == \"u\":\n",
    "        st = st.decode(\"utf-8\")\n",
    "    if dec == \"w\":\n",
    "        st = st.decode(\"cp1251\")\n",
    "    if dec == \"c\":\n",
    "        st = st.decode(\"cp866\")\n",
    "\n",
    "    if enc == \"u\":\n",
    "        st = st.encode(\"utf-8\")\n",
    "    if enc == \"w\":\n",
    "        st = st.encode(\"cp1251\")\n",
    "    if enc == \"c\":\n",
    "        st = st.encode(\"cp866\")\n",
    "    return st\n",
    "st = 'АБГ'\n",
    "cod(st,'uw')\n",
    "ls = list(st)\n",
    "print ls\n",
    "print(st)"
   ]
  },
  {
   "cell_type": "markdown",
   "metadata": {},
   "source": []
  },
  {
   "cell_type": "markdown",
   "metadata": {},
   "source": [
    "#### py014 Питон кодировки, часть 2 - автодекодирование\n"
   ]
  },
  {
   "cell_type": "code",
   "execution_count": null,
   "metadata": {},
   "outputs": [],
   "source": [
    "# dbsn.py\n",
    "def getcod(file):\n",
    "    cod_table = ['utf8','cp1251','cp866',]\n",
    "    \n",
    "    file_coding = ''\n",
    "    fh= open(file)\n",
    "    text = fh.read(8192)\n",
    "    fh.close()\n",
    "    \n",
    "    for enc in cod_table:\n",
    "        try:\n",
    "            text_dec = text.decode(enc)\n",
    "        except(UnicodeDecodeError, LookupError):\n",
    "            pass\n",
    "        else:\n",
    "            file_coding = enc\n",
    "            break\n",
    "    return file_coding\n",
    "\n"
   ]
  },
  {
   "cell_type": "code",
   "execution_count": null,
   "metadata": {},
   "outputs": [],
   "source": [
    "%%writefile dbsn.py\n",
    "# dbsn.py\n",
    "def getcod(file):\n",
    "    cod_table = ['utf8','cp1251','cp866',]\n",
    "    \n",
    "    file_coding = ''\n",
    "    fh= open(file)\n",
    "    text = fh.read(8192)\n",
    "    fh.close()\n",
    "    \n",
    "    for enc in cod_table:\n",
    "        try:\n",
    "            text_dec = text.decode(enc)\n",
    "        except(UnicodeDecodeError, LookupError):\n",
    "            pass\n",
    "        else:\n",
    "            file_coding = enc\n",
    "            break\n",
    "    return file_coding\n",
    "\n"
   ]
  },
  {
   "cell_type": "code",
   "execution_count": null,
   "metadata": {},
   "outputs": [],
   "source": [
    "#view.py\n",
    "from dbsn import *\n",
    "\n",
    "if 0:\n",
    "    file_name = raw_input('file for view: ')\n",
    "else:\n",
    "    file_name = '1.txt'\n",
    "filecod = getcod(file_name)\n",
    "print filecod\n",
    "fh = open(file_name)\n",
    "for num in range(10):\n",
    "    line = fh.readline().decode(filecod)\n",
    "    line = line.replace(u'\\u2013','-')\n",
    "    print(line)\n",
    "fh.close()\n",
    "\n"
   ]
  },
  {
   "cell_type": "code",
   "execution_count": null,
   "metadata": {},
   "outputs": [],
   "source": [
    "#view.py\n",
    "if 0:\n",
    "    file_name = raw_input('file for view: ')\n",
    "else:\n",
    "    file_name = '1.txt'\n",
    "fh = open(file_name)\n",
    "for num in range(10):\n",
    "    line = fh.readline()\n",
    "    print line\n",
    "fh.close()\n",
    "\n"
   ]
  },
  {
   "cell_type": "code",
   "execution_count": null,
   "metadata": {},
   "outputs": [],
   "source": [
    "%%writefile example.txt\n",
    "ab = 'This is code'\n",
    "a = 5\n",
    "print(a+ 2)"
   ]
  },
  {
   "cell_type": "code",
   "execution_count": null,
   "metadata": {},
   "outputs": [],
   "source": [
    "print(22)"
   ]
  },
  {
   "cell_type": "markdown",
   "metadata": {},
   "source": [
    "#### py015 Питон - постраничное листание текстовых списков"
   ]
  },
  {
   "cell_type": "code",
   "execution_count": null,
   "metadata": {},
   "outputs": [],
   "source": [
    "%%writefile tmp.txt\n",
    "строка 1\n",
    "строка 2\n",
    "строка 3\n",
    "строка 4\n",
    "строка 5\n",
    "строка 6\n",
    "строка 7\n",
    "строка 8\n",
    "строка 9\n",
    "строка 10\n",
    "строка 11\n",
    "строка 12\n",
    "строка 13\n",
    "строка 14\n",
    "строка 15\n",
    "строка 16\n",
    "строка 17\n",
    "строка 18\n",
    "строка 19\n"
   ]
  },
  {
   "cell_type": "code",
   "execution_count": null,
   "metadata": {},
   "outputs": [],
   "source": [
    "from nlist import *\n",
    "filecod = getcod(file_name)\n",
    "print filecod\n",
    "\n",
    "ls = [line.rstrip().decod(filecod) for line in open(file_name)]\n",
    "nls = nlist(ls,6)\n",
    "\n",
    "print 'len=', len(nls)\n",
    "while 1:\n",
    "    num = input(' num: ')\n",
    "    num = absNum(num, len(nls))\n",
    "    if num < 1: break\n",
    "        print num, ': ', nls[ num ]\n",
    "        \n",
    "print 'chunk_count= ', nls.countChunk()\n",
    "\n",
    "chunk = nls.getChunk()\n",
    "print 'chunk[1]=', chunk[1]\n",
    "while 1:\n",
    "    print 'chunk_num = ', nls.getChunkNum()\n",
    "    for line in chunk: print line\n",
    "    step = input('input step: 1, -1,0 for exit: ')\n",
    "    if step == 0: break\n",
    "        chunk = nls.getChunk(0,step)\n",
    "        \n",
    "print 'reverse chunks:'\n",
    "chunk nls.getChunk(1,0,1)\n",
    "print ' chunk[1] = ', chunk[1]\n",
    "while 1:\n",
    "    print 'chunk_num= ', nls.getChunkNum()\n",
    "    for line in chunk: print line\n",
    "        step = input('1, -1, 0 for exit: ')\n",
    "        if stip == 0: break\n",
    "            chunk = nls.getChunk(0,step,1)\n",
    "    \n",
    "    \n",
    "    "
   ]
  },
  {
   "cell_type": "code",
   "execution_count": null,
   "metadata": {},
   "outputs": [],
   "source": [
    "#nlist.py\n",
    "def getcod(file):\n",
    "    cod_table = ['utf8','cp1251','cp866',]\n",
    "    \n",
    "    file_coding = ''\n",
    "    fh= open(file)\n",
    "    text = fh.read(8192)\n",
    "    fh.close()\n",
    "    \n",
    "    for enc in cod_table:\n",
    "        try:\n",
    "            text_dec = text.decode(enc)\n",
    "        except(UnicodeDecodeError, LookupError):\n",
    "            pass\n",
    "        else:\n",
    "            file_coding = enc\n",
    "            break\n",
    "    return file_coding\n",
    "#------------------------------------------\n",
    "\n",
    "def absNum(num,count):\n",
    "    if num<0: num += count + 1\n",
    "    if num<1 or num>count: return 0\n",
    "    return num\n",
    "        \n",
    "#-- list class with natural index and pagination\n",
    "\n",
    "class nlist(list):\n",
    "    def __init__(self, ls, ch_size = 0):\n",
    "        list.__init__(self, ls)\n",
    "        self.chunk_size + abs(ch_size)\n",
    "        self.chunk_num = 1\n",
    "    \n",
    "    def __getitem__(self, key):\n",
    "        if type(key) == int:\n",
    "            key = absNum(key, len(self))\n",
    "            if key == 0: return list.__getitem__(self, len(self))\n",
    "            return list.__getitem__(self, key-1)\n",
    "                                   \n",
    "    def __delitem__(self, key):\n",
    "        if type(key) == int:\n",
    "            key = absNum(key, len(self))\n",
    "            if key == 0: list.__delitem__(self, len(self))\n",
    "            list.__delitem__(self, key - 1)\n",
    "\n",
    "    def getchunkNum(self):\n",
    "        return self.chunk_num\n",
    "    \n",
    "    def getChunkSize(self):\n",
    "        return self.chunk_size if self.chunk_size >0 else len(self)\n",
    "                                    \n",
    "    def setChunkSize(ch_size):\n",
    "        self.chunk_size = abs(ch_size)\n",
    "        \n",
    "    def countChunk(self):\n",
    "        if self.chunk_size < 1: return 1\n",
    "        return (len(self) + self.chunk_size -1)// self.chunk_size\n",
    "        \n",
    "    def getChunk(self, num=0, step=0, reverse=0):\n",
    "        if len(self) == 0: return nlist([])\n",
    "        \n",
    "        if self.chunk_size>0:\n",
    "            chunk_size = self.chunk_size\n",
    "            chunk_count =(len(self) + chunk_size - 1)//chunk_size\n",
    "        else:\n",
    "            chunk_count=1\n",
    "            chunk_size = len(self)\n",
    "        \n",
    "        if num == 0: num= self.chunk_num\n",
    "        num += step\n",
    "        if num <0: num+= chunk_count + 1\n",
    "        if num <1:\n",
    "            self.chunk_num = 1\n",
    "        elif num > chunk_count:\n",
    "            self.chunk_num = chunk_count\n",
    "        else:\n",
    "            self.chunk_num = num\n",
    "            \n",
    "        if reverse:\n",
    "            el_num=(self.chunk_num-1)*chunk_size\n",
    "            chunk = self[el_num: el_num + chunk_size]\n",
    "            return nlist(chunk)\n",
    "            \n",
    "\n",
    "\n"
   ]
  },
  {
   "cell_type": "code",
   "execution_count": null,
   "metadata": {},
   "outputs": [],
   "source": []
  },
  {
   "cell_type": "code",
   "execution_count": null,
   "metadata": {},
   "outputs": [],
   "source": []
  },
  {
   "cell_type": "markdown",
   "metadata": {},
   "source": [
    "#### py017 Питон проекция текстового файла на числовой массив\n",
    "#### py016 Питон: кодировка среды ввода"
   ]
  },
  {
   "cell_type": "markdown",
   "metadata": {},
   "source": [
    "##### Программа. Вводим имя файла и его содержимое\n",
    "`file_name` - Имя файлв, куда пишем\n",
    "`fh` - объект файла  \n",
    "'st' - строка, в которую вводим  "
   ]
  },
  {
   "cell_type": "code",
   "execution_count": 31,
   "metadata": {},
   "outputs": [
    {
     "name": "stdout",
     "output_type": "stream",
     "text": [
      "Input name АБ\n",
      "АБ\n"
     ]
    }
   ],
   "source": [
    "# -*- coding: utf8 -*-\n",
    "file_name = raw_input(\"Input name \")\n",
    "print file_name.decode(\"cp1251\")\n",
    "#print('привет')"
   ]
  },
  {
   "cell_type": "code",
   "execution_count": 5,
   "metadata": {},
   "outputs": [
    {
     "name": "stdout",
     "output_type": "stream",
     "text": [
      "ВВ?АБ\n",
      "['А', 'Б']\n",
      "['А', 'Б']\n",
      "АБ\n"
     ]
    }
   ],
   "source": [
    "from dbsn import *\n",
    "\n",
    "st = input('ВВ?')\n",
    "ls = list(st)\n",
    "print(ls)\n",
    "\n",
    "#st= cod(st,'wp')\n",
    "ls = list(st)\n",
    "print(ls)\n",
    "print(st)"
   ]
  },
  {
   "cell_type": "code",
   "execution_count": 5,
   "metadata": {},
   "outputs": [
    {
     "name": "stdout",
     "output_type": "stream",
     "text": [
      "Writing 16.py\n"
     ]
    }
   ],
   "source": [
    "%%writefile '16.py'\n",
    "#dbsn.py\n",
    "import sys\n",
    "def getInputCode():\n",
    "    if \"idlelib\" in sys.modules:\n",
    "        input_cod='cp1251'\n",
    "    if \"Tkinter\" in sys.modules:\n",
    "        input_cod= 'cp1251'\n",
    "    elif sys.stdin.isatty():\n",
    "        input_cod='cp866'\n",
    "    else:\n",
    "        input_cod='cp1251'\n",
    "    return input_cod\n",
    "\n",
    "st = getInputCode()\n",
    "print(st)"
   ]
  },
  {
   "cell_type": "markdown",
   "metadata": {},
   "source": [
    "[dbsn.py](#dbsn.py)"
   ]
  },
  {
   "cell_type": "code",
   "execution_count": 14,
   "metadata": {},
   "outputs": [
    {
     "name": "stdout",
     "output_type": "stream",
     "text": [
      "input file name: 1\n",
      "input string: ав\n"
     ]
    }
   ],
   "source": [
    "# %%writefile 16w.py\n",
    "#16w.py\n",
    "file_name = input(\"input file name: \")\n",
    "fh = open(file_name, \"w\")\n",
    "st = input(\"input string: \")\n",
    "fh.write(st)\n",
    "fh.close()"
   ]
  },
  {
   "cell_type": "code",
   "execution_count": 13,
   "metadata": {},
   "outputs": [
    {
     "name": "stdout",
     "output_type": "stream",
     "text": [
      "Writing 16r.py\n"
     ]
    }
   ],
   "source": [
    "%%writefile 16r.py\n",
    "#16r.py\n",
    "file_name = input(\"input file name: \")\n",
    "fh = open( file_name, \"r\")\n",
    "st = fh.read()\n",
    "print(st)\n",
    "fh.close()"
   ]
  },
  {
   "cell_type": "code",
   "execution_count": null,
   "metadata": {},
   "outputs": [],
   "source": []
  },
  {
   "cell_type": "code",
   "execution_count": null,
   "metadata": {},
   "outputs": [],
   "source": []
  },
  {
   "cell_type": "code",
   "execution_count": null,
   "metadata": {},
   "outputs": [],
   "source": []
  },
  {
   "cell_type": "markdown",
   "metadata": {},
   "source": [
    "#### py018 Питон формирование таблицы DBSN\n",
    "#### py019 Экспорт MySQL таблицы в DBSN\n",
    "#### py020 Постраничный просмотр таблицы DBSN\n"
   ]
  },
  {
   "cell_type": "markdown",
   "metadata": {},
   "source": [
    "#### py013 Питон работа с различными кодировками\n",
    "#### py014 Питон кодировки, часть 2 - автодекодирование\n",
    "#### py015 Питон - постраничное листание текстовых списков\n",
    "#### py017 Питон проекция текстового файла на числовой массив\n",
    "#### py016 Питон: кодировка среды ввода\n",
    "#### py018 Питон формирование таблицы DBSN\n",
    "#### py019 Экспорт MySQL таблицы в DBSN\n",
    "#### py020 Постраничный просмотр таблицы DBSN\n"
   ]
  },
  {
   "cell_type": "markdown",
   "metadata": {},
   "source": [
    "#### dbsn.py"
   ]
  },
  {
   "cell_type": "code",
   "execution_count": 16,
   "metadata": {},
   "outputs": [
    {
     "name": "stdout",
     "output_type": "stream",
     "text": [
      "Overwriting dbsn.py\n"
     ]
    }
   ],
   "source": [
    "%%writefile dbsn.py\n",
    "# -*- coding: utf8 -*-\n",
    "# dbsn.py\n",
    "\n",
    "import sys\n",
    "\n",
    "\n",
    "def getcod(file):\n",
    "    cod_table = ['utf8','cp1251','cp866',]\n",
    "    \n",
    "    file_coding = ''\n",
    "    fh= open(file)\n",
    "    text = fh.read(8192)\n",
    "    fh.close()\n",
    "    \n",
    "    for enc in cod_table:\n",
    "        try:\n",
    "            text_dec = text.decode(enc)\n",
    "        except(UnicodeDecodeError, LookupError):\n",
    "            pass\n",
    "        else:\n",
    "            file_coding = enc\n",
    "            break\n",
    "    return file_coding\n",
    "\n",
    "def cod(st, dec_enc):\n",
    "    # == перекодировать строку\n",
    "    # -- dec_enc задает режим перекодировки\n",
    "    # -- dec = \"u\",\"w\",\"c\",\"p\" - декодировать\n",
    "    # -- enc = \"u\",\"w\",\"c\",\"p\" - кодировать\n",
    "    # -- пример: st = cod(st,\"up\")\n",
    "    dec = dec_enc[0]; enc = dec_enc[1]\n",
    "    \n",
    "    if dec == \"u\":\n",
    "        st = st.decode(\"utf-8\")\n",
    "    if dec == \"w\":\n",
    "        st = st.decode(\"cp1251\")\n",
    "    if dec == \"c\":\n",
    "        st = st.decode(\"cp866\")\n",
    "\n",
    "    if enc == \"u\":\n",
    "        st = st.encode(\"utf-8\")\n",
    "    if enc == \"w\":\n",
    "        st = st.encode(\"cp1251\")\n",
    "    if enc == \"c\":\n",
    "        st = st.encode(\"cp866\")\n",
    "    return st\n",
    "\n",
    "def getInputCode():\n",
    "    if \"idlelib\" in sys.modules:\n",
    "        input_cod='cp1251'\n",
    "    if \"Tkinter\" in sys.modules:\n",
    "        input_cod= 'cp1251'\n",
    "    elif sys.stdin.isatty():\n",
    "        input_cod='cp866'\n",
    "    else:\n",
    "        input_cod='cp1251'\n",
    "    return input_cod\n"
   ]
  },
  {
   "cell_type": "markdown",
   "metadata": {},
   "source": [
    "C:\\ProgramData\\Anaconda2  \n",
    "conda create -n py27 python=2.7 ipykernel  \n",
    "conda create -n py36 python=3.6 ipykernel  \n",
    "[using-both-python-2-x-and-python-3-x](https://stackoverflow.com/questions/30492623/using-both-python-2-x-and-python-3-x-in-ipython-notebook)  \n"
   ]
  },
  {
   "cell_type": "markdown",
   "metadata": {},
   "source": [
    "[https://www.anaconda.com/distribution/#windows](https://www.anaconda.com/distribution/#windows)  \n",
    "[py001 Питон - практический старт](https://www.youtube.com/watch?v=K3hE5C2kglI&list=PLku9se_HAVOp8pSgrIWGIjHLP-EOw_ywq&index=82)  \n",
    "[py021 DBSN - начало использования](https://www.youtube.com/watch?v=6xPlvNF1tFM&list=PLku9se_HAVOp8pSgrIWGIjHLP-EOw_ywq&index=62)  \n",
    "[]()  \n",
    "[]()  \n",
    "[]()"
   ]
  }
 ],
 "metadata": {
  "kernelspec": {
   "display_name": "Python 3",
   "language": "python",
   "name": "python3"
  },
  "language_info": {
   "codemirror_mode": {
    "name": "ipython",
    "version": 3
   },
   "file_extension": ".py",
   "mimetype": "text/x-python",
   "name": "python",
   "nbconvert_exporter": "python",
   "pygments_lexer": "ipython3",
   "version": "3.7.4"
  }
 },
 "nbformat": 4,
 "nbformat_minor": 2
}
