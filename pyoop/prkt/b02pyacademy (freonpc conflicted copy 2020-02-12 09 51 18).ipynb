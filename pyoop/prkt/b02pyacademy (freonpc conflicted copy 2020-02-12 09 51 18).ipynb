{
 "cells": [
  {
   "cell_type": "markdown",
   "metadata": {},
   "source": [
    "[codecademy](https://www.codecademy.com/learn/learn-python)  "
   ]
  },
  {
   "cell_type": "markdown",
   "metadata": {},
   "source": [
    "#### Hello World!"
   ]
  },
  {
   "cell_type": "code",
   "execution_count": 1,
   "metadata": {},
   "outputs": [
    {
     "name": "stdout",
     "output_type": "stream",
     "text": [
      "hello\n"
     ]
    }
   ],
   "source": [
    "print(\"hello\")"
   ]
  },
  {
   "cell_type": "markdown",
   "metadata": {},
   "source": [
    "#### Print Statements"
   ]
  },
  {
   "cell_type": "markdown",
   "metadata": {},
   "source": [
    "#### Strings"
   ]
  },
  {
   "cell_type": "code",
   "execution_count": 2,
   "metadata": {},
   "outputs": [
    {
     "name": "stdout",
     "output_type": "stream",
     "text": [
      "Hello Michael\n"
     ]
    }
   ],
   "source": [
    "print (\"Hello \"+\"Michael\")"
   ]
  },
  {
   "cell_type": "markdown",
   "metadata": {},
   "source": [
    "#### Handling Errors"
   ]
  },
  {
   "cell_type": "markdown",
   "metadata": {},
   "source": [
    "#### Variables\n",
    "todays_date = 9"
   ]
  },
  {
   "cell_type": "markdown",
   "metadata": {},
   "source": [
    "#### Arithmetic\n",
    "product = 5*3  \n",
    "remainder = 1398 % 11"
   ]
  },
  {
   "cell_type": "markdown",
   "metadata": {},
   "source": [
    "#### Updating Variables"
   ]
  },
  {
   "cell_type": "code",
   "execution_count": 3,
   "metadata": {},
   "outputs": [
    {
     "name": "stdout",
     "output_type": "stream",
     "text": [
      "45.21000000000001\n"
     ]
    }
   ],
   "source": [
    "january_to_june_rainfall = 1.93 + 0.71 + 3.53 + 3.41 + 3.69 + 4.50\n",
    "annual_rainfall = january_to_june_rainfall\n",
    "\n",
    "july_rainfall = 1.05\n",
    "annual_rainfall += july_rainfall\n",
    "\n",
    "august_rainfall = 4.91\n",
    "annual_rainfall += august_rainfall\n",
    "\n",
    "september_rainfall = 5.16\n",
    "annual_rainfall += september_rainfall\n",
    "october_rainfall = 7.20\n",
    "annual_rainfall += october_rainfall\n",
    "november_rainfall = 5.06\n",
    "annual_rainfall += november_rainfall\n",
    "december_rainfall = 4.06\n",
    "annual_rainfall += december_rainfall\n",
    "print(annual_rainfall)"
   ]
  },
  {
   "cell_type": "markdown",
   "metadata": {},
   "source": [
    "#### Comments"
   ]
  },
  {
   "cell_type": "code",
   "execution_count": 4,
   "metadata": {},
   "outputs": [],
   "source": [
    "city_name = \"St. Potatosburg\"\n",
    "#population\n",
    "city_pop = 340000"
   ]
  },
  {
   "cell_type": "markdown",
   "metadata": {},
   "source": [
    "#### Numbers"
   ]
  },
  {
   "cell_type": "code",
   "execution_count": null,
   "metadata": {},
   "outputs": [],
   "source": [
    "cucumbers = 1\n",
    "price_per_cucumber = 3.25\n",
    "total_cost = cucumbers * price_per_cucumber\n",
    "print(total_cost)"
   ]
  },
  {
   "cell_type": "markdown",
   "metadata": {},
   "source": [
    "#### Two Types of Division\n"
   ]
  },
  {
   "cell_type": "code",
   "execution_count": 6,
   "metadata": {
    "scrolled": true
   },
   "outputs": [
    {
     "name": "stdout",
     "output_type": "stream",
     "text": [
      "16\n",
      "16.666666666666668\n"
     ]
    }
   ],
   "source": [
    "cucumbers = 100\n",
    "num_people = 6\n",
    "whole_cucumbers_per_person = cucumbers // num_people\n",
    "print(whole_cucumbers_per_person)\n",
    "float_cucumbers_per_person  = float (cucumbers) / num_people\n",
    "print(float_cucumbers_per_person)"
   ]
  },
  {
   "cell_type": "markdown",
   "metadata": {},
   "source": [
    "#### Multi-line Strings"
   ]
  },
  {
   "cell_type": "code",
   "execution_count": null,
   "metadata": {},
   "outputs": [],
   "source": [
    "haiku = \"\"\"The old pond,\n",
    "A frog jumps in:\n",
    "Plop!\"\"\""
   ]
  },
  {
   "cell_type": "markdown",
   "metadata": {},
   "source": [
    "#### Booleans"
   ]
  },
  {
   "cell_type": "code",
   "execution_count": null,
   "metadata": {},
   "outputs": [],
   "source": [
    "# Hi! I'm Maria and I live in script.py.\n",
    "# I'm an expert Python coder.\n",
    "# I'm 21 years old and I plan to program cool stuff forever.\n",
    "age_is_12 = False\n",
    "name_is_maria = True"
   ]
  },
  {
   "cell_type": "markdown",
   "metadata": {},
   "source": [
    "#### ValueError\n",
    "float_1 = 0.25\n",
    "float_2 = 40.0\n",
    "product = float_1*float_2\n",
    "big_string = \"The product was \" + str(product)"
   ]
  },
  {
   "cell_type": "code",
   "execution_count": 7,
   "metadata": {},
   "outputs": [
    {
     "name": "stdout",
     "output_type": "stream",
     "text": [
      "I got 165 points!\n"
     ]
    }
   ],
   "source": [
    "skill_completed = \"Python Syntax\"\n",
    "exercises_completed = 13\n",
    "#The amount of points for each exercise may change, because points don't exist yet\n",
    "points_per_exercise = 5\n",
    "point_total = 100\n",
    "point_total += exercises_completed * points_per_exercise\n",
    "print(\"I got \"+str(point_total)+\" points!\")"
   ]
  },
  {
   "cell_type": "markdown",
   "metadata": {},
   "source": [
    "### Strings"
   ]
  },
  {
   "cell_type": "markdown",
   "metadata": {},
   "source": [
    "#### Escaping characters\n",
    "'This isn\\'t flying, this is falling with style!'"
   ]
  },
  {
   "cell_type": "markdown",
   "metadata": {},
   "source": [
    "#### Access by Index"
   ]
  },
  {
   "cell_type": "code",
   "execution_count": 9,
   "metadata": {},
   "outputs": [
    {
     "name": "stdout",
     "output_type": "stream",
     "text": [
      "Y\n"
     ]
    }
   ],
   "source": [
    "fifth_letter =  \"MONTY\"[4]\n",
    "print (fifth_letter)"
   ]
  },
  {
   "cell_type": "markdown",
   "metadata": {},
   "source": [
    "#### String methods\n",
    "len()\n",
    "lower()\n",
    "upper()\n",
    "str()"
   ]
  },
  {
   "cell_type": "code",
   "execution_count": 10,
   "metadata": {},
   "outputs": [
    {
     "name": "stdout",
     "output_type": "stream",
     "text": [
      "14\n"
     ]
    }
   ],
   "source": [
    "parrot = \"Norwegian Blue\"\n",
    "print(len(parrot)) "
   ]
  },
  {
   "cell_type": "markdown",
   "metadata": {},
   "source": [
    "#### lower()"
   ]
  },
  {
   "cell_type": "code",
   "execution_count": 11,
   "metadata": {},
   "outputs": [
    {
     "name": "stdout",
     "output_type": "stream",
     "text": [
      "norwegian blue\n"
     ]
    }
   ],
   "source": [
    "parrot = \"Norwegian Blue\"\n",
    "\n",
    "print(parrot.lower())"
   ]
  },
  {
   "cell_type": "markdown",
   "metadata": {},
   "source": [
    "#### upper()"
   ]
  },
  {
   "cell_type": "code",
   "execution_count": null,
   "metadata": {},
   "outputs": [],
   "source": [
    "parrot = \"norwegian blue\"\n",
    "\n",
    "print(parrot.upper()) "
   ]
  },
  {
   "cell_type": "markdown",
   "metadata": {},
   "source": [
    "#### str()"
   ]
  },
  {
   "cell_type": "code",
   "execution_count": null,
   "metadata": {},
   "outputs": [],
   "source": [
    "pi = 3.14\n",
    "print(str(pi)) "
   ]
  },
  {
   "cell_type": "markdown",
   "metadata": {},
   "source": [
    "#### Dot Notation"
   ]
  },
  {
   "cell_type": "code",
   "execution_count": 12,
   "metadata": {},
   "outputs": [
    {
     "name": "stdout",
     "output_type": "stream",
     "text": [
      "27\n",
      "THE MINISTRY OF SILLY WALKS\n"
     ]
    }
   ],
   "source": [
    "ministry = \"The Ministry of Silly Walks\"\n",
    "\n",
    "print(len(ministry)) \n",
    "print(ministry.upper()) "
   ]
  },
  {
   "cell_type": "markdown",
   "metadata": {},
   "source": [
    "#### Printing Strings"
   ]
  },
  {
   "cell_type": "markdown",
   "metadata": {},
   "source": [
    "#### Printing Variables"
   ]
  },
  {
   "cell_type": "code",
   "execution_count": null,
   "metadata": {},
   "outputs": [],
   "source": [
    "the_machine_goes = \"Ping!\"\n",
    "print(the_machine_goes )"
   ]
  },
  {
   "cell_type": "markdown",
   "metadata": {},
   "source": [
    "#### String Concatenation"
   ]
  },
  {
   "cell_type": "code",
   "execution_count": 13,
   "metadata": {},
   "outputs": [
    {
     "name": "stdout",
     "output_type": "stream",
     "text": [
      "Spam and eggs\n"
     ]
    }
   ],
   "source": [
    "print(\"Spam \"+ \"and \"+ \"eggs\")"
   ]
  },
  {
   "cell_type": "markdown",
   "metadata": {},
   "source": [
    "#### Explicit String Conversion"
   ]
  },
  {
   "cell_type": "code",
   "execution_count": null,
   "metadata": {},
   "outputs": [],
   "source": [
    "print( \"The value of pi is around \" + str(3.14))"
   ]
  },
  {
   "cell_type": "markdown",
   "metadata": {},
   "source": [
    "#### String Formatting with %, Part 1"
   ]
  },
  {
   "cell_type": "code",
   "execution_count": 15,
   "metadata": {},
   "outputs": [
    {
     "name": "stdout",
     "output_type": "stream",
     "text": [
      "Let's not go to Camelot. 'Tis a silly place.\n"
     ]
    }
   ],
   "source": [
    "string_1 = \"Camelot\"\n",
    "string_2 = \"place\"\n",
    "\n",
    "print (\"Let's not go to %s. 'Tis a silly %s.\" % (string_1, string_2))"
   ]
  },
  {
   "cell_type": "markdown",
   "metadata": {},
   "source": [
    "#### String Formatting with %, Part 2"
   ]
  },
  {
   "cell_type": "code",
   "execution_count": 16,
   "metadata": {},
   "outputs": [
    {
     "name": "stdout",
     "output_type": "stream",
     "text": [
      "Ah, so your name is Michael, your quest is coding, and your favorite color is blue.\n"
     ]
    }
   ],
   "source": [
    "name = \"Michael\"\n",
    "quest = \"coding\"\n",
    "color = \"blue\"\n",
    "\n",
    "print (\"Ah, so your name is %s, your quest is %s, \" \\\n",
    "\"and your favorite color is %s.\" % (name, quest, color))"
   ]
  },
  {
   "cell_type": "markdown",
   "metadata": {},
   "source": [
    "#### And Now, For Something Completely Familiar"
   ]
  },
  {
   "cell_type": "markdown",
   "metadata": {},
   "source": [
    "### The datetime Library "
   ]
  },
  {
   "cell_type": "markdown",
   "metadata": {},
   "source": [
    "#### Getting the Current Date and Time"
   ]
  },
  {
   "cell_type": "code",
   "execution_count": 17,
   "metadata": {},
   "outputs": [
    {
     "name": "stdout",
     "output_type": "stream",
     "text": [
      "2020-02-09 21:42:07.177332\n"
     ]
    }
   ],
   "source": [
    "from datetime import datetime\n",
    "now = datetime.now()\n",
    "print(now)"
   ]
  },
  {
   "cell_type": "markdown",
   "metadata": {},
   "source": [
    "#### Extracting Information"
   ]
  },
  {
   "cell_type": "code",
   "execution_count": 18,
   "metadata": {},
   "outputs": [
    {
     "name": "stdout",
     "output_type": "stream",
     "text": [
      "2020-02-09 21:45:53.309288\n",
      "2020\n",
      "2\n",
      "9\n"
     ]
    }
   ],
   "source": [
    "from datetime import datetime\n",
    "now = datetime.now()\n",
    "print(now)\n",
    "print(now.year)\n",
    "print(now.month)\n",
    "print(now.day)"
   ]
  },
  {
   "cell_type": "markdown",
   "metadata": {},
   "source": [
    "#### Hot Date"
   ]
  },
  {
   "cell_type": "code",
   "execution_count": 19,
   "metadata": {},
   "outputs": [
    {
     "name": "stdout",
     "output_type": "stream",
     "text": [
      "09/02/2020\n"
     ]
    }
   ],
   "source": [
    "from datetime import datetime\n",
    "now = datetime.now()\n",
    "print(\"%02d/%02d/%04d\" %(now.day,now.month,now.year))"
   ]
  },
  {
   "cell_type": "markdown",
   "metadata": {},
   "source": [
    "#### Pretty Time"
   ]
  },
  {
   "cell_type": "markdown",
   "metadata": {},
   "source": [
    "#### Grand Finale"
   ]
  },
  {
   "cell_type": "code",
   "execution_count": 22,
   "metadata": {},
   "outputs": [
    {
     "name": "stdout",
     "output_type": "stream",
     "text": [
      "02/09/2020 22:01:56\n"
     ]
    }
   ],
   "source": [
    "from datetime import datetime\n",
    "now = datetime.now()\n",
    "\n",
    "print ('%02d/%02d/%04d %02d:%02d:%02d' \n",
    "       % (now.month, now.day, now.year, \n",
    "          now.hour, now.minute, now.second))"
   ]
  },
  {
   "cell_type": "markdown",
   "metadata": {},
   "source": [
    "#### Go With the Flow"
   ]
  },
  {
   "cell_type": "code",
   "execution_count": null,
   "metadata": {},
   "outputs": [],
   "source": [
    "# Assign True or False as appropriate on the lines below!\n",
    "\n",
    "# Set this to True if 17 < 328 or to False if it is not.\n",
    "bool_one = 17 < 328   # We did this one for you!\n",
    "\n",
    "# Set this to True if 100 == (2 * 50) or to False otherwise.\n",
    "bool_two = 100 == (2 * 50)\n",
    "\n",
    "# Set this to True if 19 <= 19 or to False if it is not.\n",
    "bool_three = 19 <= 19\n",
    "\n",
    "# Set this to True if -22 >= -18 or to False if it is not.\n",
    "bool_four = -22 >= -18\n",
    "\n",
    "# Set this to True if 99 != (98 + 1) or to False otherwise.\n",
    "bool_five = 99 != (98 + 1)"
   ]
  },
  {
   "cell_type": "markdown",
   "metadata": {},
   "source": [
    "#### Compare... Closelier!"
   ]
  },
  {
   "cell_type": "markdown",
   "metadata": {},
   "source": [
    "#### How the Tables Have Turned"
   ]
  },
  {
   "cell_type": "markdown",
   "metadata": {},
   "source": [
    "#### Conditional Statement Syntax"
   ]
  },
  {
   "cell_type": "code",
   "execution_count": null,
   "metadata": {},
   "outputs": [],
   "source": [
    "response = 'Y'\n",
    "\n",
    "answer = \"Left\"\n",
    "if answer == \"Left\":\n",
    "    print (\"This is the Verbal Abuse Room, you heap of parrot droppings!\")\n",
    "    \n",
    "# Will the above print statement print to the console?\n",
    "# Set response to 'Y' if you think so, and 'N' if you think not."
   ]
  },
  {
   "cell_type": "markdown",
   "metadata": {},
   "source": [
    "#### If You're Having..."
   ]
  },
  {
   "cell_type": "code",
   "execution_count": 1,
   "metadata": {},
   "outputs": [
    {
     "name": "stdout",
     "output_type": "stream",
     "text": [
      "Success #1\n",
      "Success #2\n"
     ]
    }
   ],
   "source": [
    "def using_control_once():\n",
    "    if True:\n",
    "        return \"Success #1\"\n",
    "\n",
    "def using_control_again():\n",
    "    if True:\n",
    "        return \"Success #2\"\n",
    "\n",
    "print (using_control_once())\n",
    "print (using_control_again())"
   ]
  },
  {
   "cell_type": "markdown",
   "metadata": {},
   "source": [
    "#### Else Problems, I Feel Bad for You, Son..."
   ]
  },
  {
   "cell_type": "markdown",
   "metadata": {},
   "source": [
    "#### I Got 99 Problems, But a Switch Ain't One"
   ]
  },
  {
   "cell_type": "code",
   "execution_count": 2,
   "metadata": {},
   "outputs": [
    {
     "name": "stdout",
     "output_type": "stream",
     "text": [
      "-1\n",
      "0\n",
      "1\n"
     ]
    }
   ],
   "source": [
    "def greater_less_equal_5(answer):\n",
    "    if answer > 5:\n",
    "        return 1\n",
    "    elif answer<5:          \n",
    "        return -1\n",
    "    else:\n",
    "        return 0\n",
    "        \n",
    "print (greater_less_equal_5(4))\n",
    "print (greater_less_equal_5(5))\n",
    "print (greater_less_equal_5(6))\n"
   ]
  },
  {
   "cell_type": "markdown",
   "metadata": {},
   "source": [
    "#### The Big If"
   ]
  },
  {
   "cell_type": "code",
   "execution_count": 3,
   "metadata": {},
   "outputs": [
    {
     "name": "stdout",
     "output_type": "stream",
     "text": [
      "A\n",
      "C\n",
      "F\n"
     ]
    }
   ],
   "source": [
    "# Complete the if and elif statements!\n",
    "def grade_converter(grade):\n",
    "    if grade>=90:\n",
    "        return \"A\"\n",
    "    elif grade>=80 and grade<90:\n",
    "        return \"B\"\n",
    "    elif grade>=70 and grade<80:\n",
    "        return \"C\"\n",
    "    elif grade>=65 and grade<70:\n",
    "        return \"D\"\n",
    "    else:\n",
    "        return \"F\"\n",
    "      \n",
    "# This should print an \"A\"      \n",
    "print (grade_converter(92))\n",
    "\n",
    "# This should print a \"C\"\n",
    "print (grade_converter(70))\n",
    "\n",
    "# This should print an \"F\"\n",
    "print (grade_converter(61))"
   ]
  },
  {
   "cell_type": "markdown",
   "metadata": {},
   "source": [
    "### Break It Down\n",
    "Ahoy! (or Should I Say Ahoyay!)  \n",
    "Check Yourself!  \n",
    "Check Yourself... Some More  \n",
    "Pop Quiz!  \n",
    "Ay B C  \n",
    "Word Up  \n",
    "Move it on Back  \n",
    "Ending Up\n"
   ]
  },
  {
   "cell_type": "markdown",
   "metadata": {},
   "source": [
    "### What Good are Functions? \n",
    "Function Junction  \n",
    "Call and Response  \n",
    "Parameters and Arguments  \n",
    "Functions Calling Functions  \n",
    "Practice Makes Perfect  \n",
    "I Know Kung Fu  "
   ]
  },
  {
   "cell_type": "markdown",
   "metadata": {},
   "source": [
    "#### "
   ]
  },
  {
   "cell_type": "code",
   "execution_count": 4,
   "metadata": {},
   "outputs": [
    {
     "name": "stdout",
     "output_type": "stream",
     "text": [
      "5.0\n"
     ]
    }
   ],
   "source": [
    "import math\n",
    "# Ask Python to print sqrt(25) on line 3.\n",
    "print (math.sqrt(25))"
   ]
  },
  {
   "cell_type": "markdown",
   "metadata": {},
   "source": [
    "#### Generic Imports"
   ]
  },
  {
   "cell_type": "markdown",
   "metadata": {},
   "source": [
    "#### Function Imports\n",
    "from math import sqrt"
   ]
  },
  {
   "cell_type": "markdown",
   "metadata": {},
   "source": [
    "#### Universal Imports\n",
    "from math import *"
   ]
  },
  {
   "cell_type": "markdown",
   "metadata": {},
   "source": [
    "#### Here Be Dragons"
   ]
  },
  {
   "cell_type": "code",
   "execution_count": 6,
   "metadata": {},
   "outputs": [
    {
     "name": "stdout",
     "output_type": "stream",
     "text": [
      "['__doc__', '__loader__', '__name__', '__package__', '__spec__', 'acos', 'acosh', 'asin', 'asinh', 'atan', 'atan2', 'atanh', 'ceil', 'copysign', 'cos', 'cosh', 'degrees', 'e', 'erf', 'erfc', 'exp', 'expm1', 'fabs', 'factorial', 'floor', 'fmod', 'frexp', 'fsum', 'gamma', 'gcd', 'hypot', 'inf', 'isclose', 'isfinite', 'isinf', 'isnan', 'ldexp', 'lgamma', 'log', 'log10', 'log1p', 'log2', 'modf', 'nan', 'pi', 'pow', 'radians', 'remainder', 'sin', 'sinh', 'sqrt', 'tan', 'tanh', 'tau', 'trunc']\n"
     ]
    }
   ],
   "source": [
    "import math # Imports the math module\n",
    "everything = dir(math) # Sets everything to a list of things from math\n",
    "print (everything) # Prints 'em all!"
   ]
  },
  {
   "cell_type": "markdown",
   "metadata": {},
   "source": [
    "#### On Beyond Strings"
   ]
  },
  {
   "cell_type": "markdown",
   "metadata": {},
   "source": [
    "#### max()"
   ]
  },
  {
   "cell_type": "code",
   "execution_count": 7,
   "metadata": {},
   "outputs": [
    {
     "name": "stdout",
     "output_type": "stream",
     "text": [
      "7\n"
     ]
    }
   ],
   "source": [
    "maximum = max([4,7,2,])\n",
    "\n",
    "print (maximum)"
   ]
  },
  {
   "cell_type": "markdown",
   "metadata": {},
   "source": [
    "#### min()"
   ]
  },
  {
   "cell_type": "code",
   "execution_count": null,
   "metadata": {},
   "outputs": [],
   "source": [
    "minimum = min([4,7,2,])\n",
    "\n",
    "print (minimum)"
   ]
  },
  {
   "cell_type": "markdown",
   "metadata": {},
   "source": [
    "#### abs()"
   ]
  },
  {
   "cell_type": "code",
   "execution_count": null,
   "metadata": {},
   "outputs": [],
   "source": [
    "absolute = abs(-42)\n",
    "\n",
    "print (absolute)"
   ]
  },
  {
   "cell_type": "markdown",
   "metadata": {},
   "source": [
    "#### type()\n",
    "a = 3\n",
    "b = 3.0\n",
    "c = \"\"\n",
    "print(type(a))\n",
    "print(type(b))\n",
    "print(type(c))\n"
   ]
  },
  {
   "cell_type": "code",
   "execution_count": null,
   "metadata": {},
   "outputs": [],
   "source": [
    "def shut_down(s):\n",
    "  if s == \"yes\":\n",
    "    return \"Shutting down\"\n",
    "  elif s == \"no\":\n",
    "    return \"Shutdown aborted\"\n",
    "  return \"Sorry\""
   ]
  },
  {
   "cell_type": "code",
   "execution_count": 8,
   "metadata": {},
   "outputs": [
    {
     "name": "stdout",
     "output_type": "stream",
     "text": [
      "117.0\n"
     ]
    }
   ],
   "source": [
    "import math\n",
    "print(math.sqrt(13689))"
   ]
  },
  {
   "cell_type": "code",
   "execution_count": null,
   "metadata": {},
   "outputs": [],
   "source": []
  },
  {
   "cell_type": "markdown",
   "metadata": {},
   "source": [
    "#### Review: Built-In Functions"
   ]
  },
  {
   "cell_type": "code",
   "execution_count": 10,
   "metadata": {},
   "outputs": [
    {
     "name": "stdout",
     "output_type": "stream",
     "text": [
      "<class 'int'>\n"
     ]
    },
    {
     "data": {
      "text/plain": [
       "42"
      ]
     },
     "execution_count": 10,
     "metadata": {},
     "output_type": "execute_result"
    }
   ],
   "source": [
    "def distance_from_zero(r):\n",
    "  if type(r) == type(1) or type(r) == type(1.1):\n",
    "    print(type(r))\n",
    "    return abs(r)\n",
    "  else:\n",
    "    return \"Nope\"\n",
    "distance_from_zero(-42)"
   ]
  },
  {
   "cell_type": "markdown",
   "metadata": {},
   "source": [
    "### Before We Begin\n",
    "Planning Your Trip  \n",
    "Transportation   \n",
    "Pull it Together   \n",
    "Hey, You Never Know!   \n",
    "Plan Your Trip!   "
   ]
  },
  {
   "cell_type": "code",
   "execution_count": 23,
   "metadata": {},
   "outputs": [
    {
     "name": "stdout",
     "output_type": "stream",
     "text": [
      "1815\n"
     ]
    }
   ],
   "source": [
    "def hotel_cost(nights):\n",
    "  return 140*nights\n",
    "\n",
    "def plane_ride_cost(city):\n",
    "  if city == \"Charlotte\":\n",
    "    return 183\n",
    "  elif city == \"Tampa\":\n",
    "    return 220\n",
    "  elif city == \"Pittsburgh\":\n",
    "    return 222\n",
    "  elif city == \"Los Angeles\":\n",
    "    return 475\n",
    "\n",
    "def rental_car_cost(days):\n",
    "  cost = days * 40\n",
    "  if days >= 7:\n",
    "    cost -= 50\n",
    "  elif days >=3:\n",
    "    cost -= 20\n",
    "  return cost\n",
    "\n",
    "def trip_cost(city, days, spending_money):\n",
    "  sum = rental_car_cost(days)\n",
    "  sum += hotel_cost(days-1)\n",
    "  sum += plane_ride_cost(city)\n",
    "  sum += spending_money\n",
    "  return sum\n",
    "\n",
    "print(trip_cost(\"Los Angeles\",5, 600))\n",
    "  "
   ]
  },
  {
   "cell_type": "markdown",
   "metadata": {},
   "source": [
    "### Introduction to Lists\n",
    "Access by Index Late Arrivals & List Length List Slicing Slicing Lists and Strings Maintaining Order For One and All More with 'for' This Next Part is Key New Entries Changing Your Mind"
   ]
  },
  {
   "cell_type": "markdown",
   "metadata": {},
   "source": [
    "Remove a Few Things"
   ]
  },
  {
   "cell_type": "code",
   "execution_count": null,
   "metadata": {},
   "outputs": [],
   "source": [
    "backpack = ['xylophone', 'dagger', 'tent', 'bread loaf']\n",
    "backpack.remove(\"dagger\")"
   ]
  },
  {
   "cell_type": "markdown",
   "metadata": {},
   "source": [
    "#### It's Dangerous to Go Alone! Take This"
   ]
  },
  {
   "cell_type": "code",
   "execution_count": 1,
   "metadata": {},
   "outputs": [],
   "source": [
    "inventory = {\n",
    "  'gold' : 500,\n",
    "  'pouch' : ['flint', 'twine', 'gemstone'], # Assigned a new list to 'pouch' key\n",
    "  'backpack' : ['xylophone','dagger', 'bedroll','bread loaf']\n",
    "}\n",
    "\n",
    "# Adding a key 'burlap bag' and assigning a list to it\n",
    "inventory['burlap bag'] = ['apple', 'small ruby', 'three-toed sloth']\n",
    "\n",
    "# Sorting the list found under the key 'pouch'\n",
    "inventory['pouch'].sort() \n",
    "\n",
    "# Your code here\n",
    "inventory[\"pocket\"]=[\"seashell\", \"strange berry\", \"lint\"]\n",
    "inventory[\"backpack\"].sort()\n",
    "inventory[\"backpack\"].remove(\"dagger\")\n",
    "inventory[\"gold\"] += 50"
   ]
  },
  {
   "cell_type": "markdown",
   "metadata": {},
   "source": [
    "### BeFOR We Begin"
   ]
  },
  {
   "cell_type": "code",
   "execution_count": null,
   "metadata": {},
   "outputs": [],
   "source": [
    "names = [\"Adam\",\"Alex\",\"Mariah\",\"Martine\",\"Columbus\"]\n",
    "for i in names:\n",
    "  print(i)"
   ]
  },
  {
   "cell_type": "markdown",
   "metadata": {},
   "source": [
    "#### This is KEY!"
   ]
  },
  {
   "cell_type": "code",
   "execution_count": null,
   "metadata": {},
   "outputs": [],
   "source": [
    "webster = {\n",
    "  \"Aardvark\" : \"A star of a popular children's cartoon show.\",\n",
    "  \"Baa\" : \"The sound a goat makes.\",\n",
    "  \"Carpet\": \"Goes on the floor.\",\n",
    "  \"Dab\": \"A small amount.\"\n",
    "}\n",
    "\n",
    "# print out all of the definitions\n",
    "for i in webster:\n",
    "  print(webster[i])"
   ]
  },
  {
   "cell_type": "markdown",
   "metadata": {},
   "source": [
    "#### Control Flow and Looping"
   ]
  },
  {
   "cell_type": "code",
   "execution_count": null,
   "metadata": {},
   "outputs": [],
   "source": [
    "a = [0, 1, 2, 3, 4, 5, 6, 7, 8, 9, 10, 11, 12, 13]\n",
    "\n",
    "for i in a:\n",
    "  if i%2==0:\n",
    "    print(i)"
   ]
  },
  {
   "cell_type": "markdown",
   "metadata": {},
   "source": [
    "#### Lists + Functions"
   ]
  },
  {
   "cell_type": "code",
   "execution_count": null,
   "metadata": {},
   "outputs": [],
   "source": [
    "# Write your function below!\n",
    "x = [\"fizz\",\"cat\",\"fizz\"]\n",
    "def fizz_count(x):\n",
    "  count = 0\n",
    "  for i in x:\n",
    "    if i == \"fizz\":\n",
    "      count += 1\n",
    "  return count"
   ]
  },
  {
   "cell_type": "markdown",
   "metadata": {},
   "source": [
    "#### String Looping"
   ]
  },
  {
   "cell_type": "markdown",
   "metadata": {},
   "source": [
    "#### Your Own Store!"
   ]
  },
  {
   "cell_type": "markdown",
   "metadata": {},
   "source": [
    "#### Keeping Track of the Produce"
   ]
  },
  {
   "cell_type": "markdown",
   "metadata": {},
   "source": [
    "#### Something of Value"
   ]
  },
  {
   "cell_type": "code",
   "execution_count": 3,
   "metadata": {},
   "outputs": [
    {
     "name": "stdout",
     "output_type": "stream",
     "text": [
      "banana\n",
      "price: 4\n",
      "stock: 6\n",
      "apple\n",
      "price: 2\n",
      "stock: 0\n",
      "orange\n",
      "price: 1.5\n",
      "stock: 32\n",
      "pear\n",
      "price: 3\n",
      "stock: 15\n",
      "24\n",
      "0\n",
      "48.0\n",
      "45\n",
      "117.0\n"
     ]
    }
   ],
   "source": [
    "prices = {\n",
    "  \"banana\" : 4,\n",
    "  \"apple\"  : 2,\n",
    "  \"orange\" : 1.5,\n",
    "  \"pear\"   : 3,\n",
    "}\n",
    "stock = {\n",
    "  \"banana\" : 6,\n",
    "  \"apple\"  : 0,\n",
    "  \"orange\" : 32,\n",
    "  \"pear\"   : 15,\n",
    "}\n",
    "\n",
    "for key in prices:\n",
    "  print (key)\n",
    "  print (\"price: %s\" % prices[key])\n",
    "  print (\"stock: %s\" % stock[key])\n",
    "\n",
    "total = 0\n",
    "for i in prices:\n",
    "  v = prices[i]*stock[i]\n",
    "  print(v)\n",
    "  total += v\n",
    "print(total)  "
   ]
  },
  {
   "cell_type": "markdown",
   "metadata": {},
   "source": [
    "#### Shopping at the Market"
   ]
  },
  {
   "cell_type": "code",
   "execution_count": null,
   "metadata": {},
   "outputs": [],
   "source": [
    "shopping_list = [\"banana\", \"orange\", \"apple\"]\n",
    "\n",
    "stock = {\n",
    "  \"banana\": 6,\n",
    "  \"apple\": 0,\n",
    "  \"orange\": 32,\n",
    "  \"pear\": 15\n",
    "}\n",
    "    \n",
    "prices = {\n",
    "  \"banana\": 4,\n",
    "  \"apple\": 2,\n",
    "  \"orange\": 1.5,\n",
    "  \"pear\": 3\n",
    "}\n",
    "\n",
    "# Write your code below!\n",
    "def compute_bill(food ):\n",
    "  total=0\n",
    "  for i in food :\n",
    "    if stock[i] > 0:\n",
    "      total += prices[i]\n",
    "      stock[i] -= 1\n",
    "  return total\n",
    "\n",
    "print(compute_bill(shopping_list))"
   ]
  },
  {
   "cell_type": "markdown",
   "metadata": {},
   "source": [
    "### Lesson Number One\n",
    "What's the Score? Put It Together For the Record Just Weight and See Sending a Letter"
   ]
  },
  {
   "cell_type": "code",
   "execution_count": null,
   "metadata": {},
   "outputs": [],
   "source": [
    "lloyd = {\n",
    "  \"name\": \"Lloyd\",\n",
    "  \"homework\": [90.0, 97.0, 75.0, 92.0],\n",
    "  \"quizzes\": [88.0, 40.0, 94.0],\n",
    "  \"tests\": [75.0, 90.0]\n",
    "}\n",
    "alice = {\n",
    "  \"name\": \"Alice\",\n",
    "  \"homework\": [100.0, 92.0, 98.0, 100.0],\n",
    "  \"quizzes\": [82.0, 83.0, 91.0],\n",
    "  \"tests\": [89.0, 97.0]\n",
    "}\n",
    "tyler = {\n",
    "  \"name\": \"Tyler\",\n",
    "  \"homework\": [0.0, 87.0, 75.0, 22.0],\n",
    "  \"quizzes\": [0.0, 75.0, 78.0],\n",
    "  \"tests\": [100.0, 100.0]\n",
    "}\n",
    "\n",
    "# Add your function below!\n",
    "def average(numbers):\n",
    "  total = sum(numbers)\n",
    "  return float(total)/len(numbers)\n",
    "\n",
    "def get_average(student):\n",
    "  hemework = average(student[\"homework\"])\n",
    "  quizzes = average(student[\"quizzes\"])\n",
    "  tests = average(student[\"tests\"])\n",
    "  sum = 0.1*hemework + 0.3*quizzes + 0.6*tests \n",
    "  return sum\n",
    "  \n",
    "def get_letter_grade(score):\n",
    "  if score >=90:\n",
    "    return \"A\"\n",
    "  elif score >= 80:\n",
    "    return \"B\"\n",
    "  elif score >= 70:\n",
    "    return \"C\"\n",
    "  elif score >= 60:\n",
    "    return \"D\"\n",
    "  else:\n",
    "    return \"F\"\n",
    "\n",
    "# print(get_letter_grade(get_average(lloyd)))   \n",
    "\n",
    "def get_class_average(class_list):\n",
    "  results = []\n",
    "  for student  in class_list:\n",
    "    results.append(get_average(student))\n",
    "  return average(results)\n",
    "\n",
    "students = [alice, lloyd, tyler]\n",
    "n = get_class_average(students)\n",
    "print(n)\n",
    "print(get_letter_grade(n))\n",
    "    \n"
   ]
  },
  {
   "cell_type": "markdown",
   "metadata": {},
   "source": [
    "### List accessing\n",
    "List element modification Appending to a list Removing elements from listsChanging the functionality of a function More than one argument Strings in functions           "
   ]
  },
  {
   "cell_type": "markdown",
   "metadata": {},
   "source": [
    "#### "
   ]
  },
  {
   "cell_type": "markdown",
   "metadata": {},
   "source": [
    "#### "
   ]
  },
  {
   "cell_type": "markdown",
   "metadata": {},
   "source": [
    "#### "
   ]
  },
  {
   "cell_type": "markdown",
   "metadata": {},
   "source": [
    "#### "
   ]
  },
  {
   "cell_type": "markdown",
   "metadata": {},
   "source": [
    "#### "
   ]
  },
  {
   "cell_type": "markdown",
   "metadata": {},
   "source": [
    "#### "
   ]
  },
  {
   "cell_type": "markdown",
   "metadata": {},
   "source": [
    "#### "
   ]
  },
  {
   "cell_type": "markdown",
   "metadata": {},
   "source": [
    "#### "
   ]
  },
  {
   "cell_type": "markdown",
   "metadata": {},
   "source": [
    "#### "
   ]
  },
  {
   "cell_type": "markdown",
   "metadata": {},
   "source": [
    "#### "
   ]
  },
  {
   "cell_type": "markdown",
   "metadata": {},
   "source": [
    "#### "
   ]
  },
  {
   "cell_type": "markdown",
   "metadata": {},
   "source": [
    "#### "
   ]
  },
  {
   "cell_type": "markdown",
   "metadata": {},
   "source": [
    "#### "
   ]
  },
  {
   "cell_type": "markdown",
   "metadata": {},
   "source": [
    "#### "
   ]
  },
  {
   "cell_type": "markdown",
   "metadata": {},
   "source": [
    "09.02 10-15\n",
    "10.02 20-30-35-40-50"
   ]
  },
  {
   "cell_type": "markdown",
   "metadata": {},
   "source": [
    "a|b|c|d|e|f \n",
    "--|--|--|--|--|-- \n",
    "parrot|попугай|Silly |глупый|Explicit |явное \n",
    "Familiar|знакомый|perform |выполнять|| \n",
    "||||| \n",
    "||||| \n"
   ]
  }
 ],
 "metadata": {
  "kernelspec": {
   "display_name": "Python 3",
   "language": "python",
   "name": "python3"
  },
  "language_info": {
   "codemirror_mode": {
    "name": "ipython",
    "version": 3
   },
   "file_extension": ".py",
   "mimetype": "text/x-python",
   "name": "python",
   "nbconvert_exporter": "python",
   "pygments_lexer": "ipython3",
   "version": "3.7.4"
  }
 },
 "nbformat": 4,
 "nbformat_minor": 2
}
