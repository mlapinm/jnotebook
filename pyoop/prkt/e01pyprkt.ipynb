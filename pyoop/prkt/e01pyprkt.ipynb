{
 "cells": [
  {
   "cell_type": "markdown",
   "metadata": {},
   "source": [
    "[e01 BeautifulSoup](#d01-BeautifulSoup)  \n",
    "[e02 cat2site01](e02pyprkt.ipynb)  \n",
    "[e03 playlist youtube](e03pyprkt.ipynb)  \n",
    "[e04 pyhelp](e04pyprkt.ipynb)  \n",
    "[e05 tkinter](e05tkinter.ipynb)  \n",
    "[]()  \n",
    "[]()  \n",
    "[]()  \n"
   ]
  },
  {
   "cell_type": "markdown",
   "metadata": {},
   "source": [
    "#### e01 BeautifulSoup\n",
    "[BeautifulSoup простой пример парсинга HTML](#BeautifulSoup-простой-пример-парсинга-HTML)  \n",
    "[BeautifulSoup теги, атрибуты name и text](#BeautifulSoup-теги,-атрибуты-name-и-text)  \n",
    "[BeautifulSoup атрибут children](#BeautifulSoup-атрибут-children)  \n",
    "[BeautifulSoup метод find(), поиск элементов по id](#BeautifulSoup-метод-find(),-поиск-элементов-по-id)  \n",
    "[BeautifulSoup метод append() добавление нового HTML-тега](#BeautifulSoup-метод-append()-добавление-нового-HTML-тега)  \n",
    "[BeautifulSoup метод replace_with() замена текста в теге](#BeautifulSoup-метод-replace_with()-замена-текста-в-теге)  \n",
    "[BeautifulSoup метод replace_with() замена тега](#BeautifulSoup-метод-replace_with()-замена-тега)  \n",
    "[Получение html таблицы с ссылками на *.html файлы директория](#Получение-html-таблицы-с-ссылками-на-*.html-файлы-директория)  \n",
    "[Html страница с таблицей ...](#Html-страница-с-таблицей-...)  \n",
    "[lib01 библиотека writeHTML](#lib01-библиотека-writeHTML)  \n",
    "[почитать имеющуюся таблицу e01emtab2.html](#почитать-имеющуюся-таблицу-e01emtab2.html)  \n",
    "[Получение списка из таблицы](#Получение-списка-из-таблицы)  \n",
    "[Пример таблицы по колонкам](#Пример-таблицы-по-колонкам)  \n",
    "[Подготовка изготовление 10-ти html файлов](#Подготовка-изготовление-10-ти-html-файлов)  \n",
    "[Пример использования lib01.writeHTML](#Пример-использования-lib01.writeHTML)  \n",
    "[алфавит](#алфавит)  \n"
   ]
  },
  {
   "cell_type": "markdown",
   "metadata": {},
   "source": [
    "#### BeautifulSoup\n",
    "#### BeautifulSoup простой пример парсинга HTML"
   ]
  },
  {
   "cell_type": "code",
   "execution_count": 47,
   "metadata": {},
   "outputs": [
    {
     "name": "stdout",
     "output_type": "stream",
     "text": [
      "<head>\n",
      "<meta charset=\"utf-8\"/>\n",
      "<title>Document</title>\n",
      "</head>\n",
      "<ul>\n",
      "<li>1</li>\n",
      "<li>2</li>\n",
      "<li>3</li>\n",
      "</ul>\n"
     ]
    }
   ],
   "source": [
    "from bs4 import BeautifulSoup\n",
    " \n",
    "with open(\"e01easy.html\", \"r\") as f:\n",
    "    \n",
    "    contents = f.read()\n",
    " \n",
    "    ho = BeautifulSoup(contents, 'lxml')\n",
    " \n",
    "    print(ho.head)\n",
    "    print(ho.ul)"
   ]
  },
  {
   "cell_type": "markdown",
   "metadata": {},
   "source": [
    "#### BeautifulSoup теги, атрибуты name и text"
   ]
  },
  {
   "cell_type": "code",
   "execution_count": 48,
   "metadata": {},
   "outputs": [
    {
     "name": "stdout",
     "output_type": "stream",
     "text": [
      "HTML: <li>1</li>, name: li, text: 1\n",
      "[<li>1</li>, <li>2</li>, <li>3</li>]\n"
     ]
    }
   ],
   "source": [
    "from bs4 import BeautifulSoup\n",
    " \n",
    "with open(\"e01easy.html\", \"r\") as f:\n",
    "    \n",
    "    contents = f.read()\n",
    " \n",
    "    ho = BeautifulSoup(contents, 'lxml')\n",
    " \n",
    "    print(\"HTML: {0}, name: {1}, text: {2}\".format(ho.li, \n",
    "        ho.li.name, ho.li.text))\n",
    "    \n",
    "    l = ho.findAll('li')\n",
    "    print(l)\n",
    "    "
   ]
  },
  {
   "cell_type": "markdown",
   "metadata": {},
   "source": [
    "#### BeautifulSoup атрибут children"
   ]
  },
  {
   "cell_type": "code",
   "execution_count": 49,
   "metadata": {},
   "outputs": [
    {
     "name": "stdout",
     "output_type": "stream",
     "text": [
      "['li', 'li', 'li']\n",
      "['1', '2', '3']\n"
     ]
    }
   ],
   "source": [
    "#!/usr/bin/python3\n",
    " \n",
    "from bs4 import BeautifulSoup\n",
    " \n",
    "with open(\"e01easy.html\", \"r\") as f:\n",
    "    \n",
    "    contents = f.read()\n",
    " \n",
    "    soup = BeautifulSoup(contents, 'lxml')\n",
    " \n",
    "    root = soup.ul\n",
    "    \n",
    "    root_childs = [e.name for e in root.children if e.name is not None]\n",
    "    print(root_childs)\n",
    "    root_childs = [e.text for e in root.children if e.name is not None]\n",
    "    print(root_childs)"
   ]
  },
  {
   "cell_type": "markdown",
   "metadata": {},
   "source": [
    "#### BeautifulSoup метод find(), поиск элементов по id"
   ]
  },
  {
   "cell_type": "code",
   "execution_count": 50,
   "metadata": {},
   "outputs": [
    {
     "name": "stdout",
     "output_type": "stream",
     "text": [
      "li: 111\n",
      "li: 2\n",
      "li: 3\n",
      "<head>\n",
      " <meta charset=\"utf-8\"/>\n",
      " <title>\n",
      "  Document\n",
      " </title>\n",
      "</head>\n",
      "<body>\n",
      " <ul>\n",
      "  <li>\n",
      "   1\n",
      "  </li>\n",
      "  <li>\n",
      "   2\n",
      "  </li>\n",
      "  <li>\n",
      "   3\n",
      "  </li>\n",
      " </ul>\n",
      "</body>\n",
      "\n"
     ]
    }
   ],
   "source": [
    "from bs4 import BeautifulSoup\n",
    " \n",
    "with open(\"e01easy.html\", \"r\") as f:\n",
    "    contents = f.read()\n",
    "    newTag = soup.new_tag('li')\n",
    "    newTag.string = \"111\"\n",
    "    soup = BeautifulSoup(contents, 'html.parser')\n",
    "    tag = soup.find(\"li\")\n",
    "    tag.replace_with(newTag)\n",
    "    n=1\n",
    "    for tag in soup.find_all(\"li\"):\n",
    "        newTag = soup.new_tag('li')\n",
    "        newTag.string = str(n)\n",
    "        tag.replace_with(newTag)\n",
    "        print(\"{0}: {1}\".format(tag.name, tag.text))\n",
    "        n += 1\n",
    "    print(soup.prettify())"
   ]
  },
  {
   "cell_type": "markdown",
   "metadata": {},
   "source": [
    "#### BeautifulSoup метод append() добавление нового HTML-тега"
   ]
  },
  {
   "cell_type": "code",
   "execution_count": 51,
   "metadata": {},
   "outputs": [
    {
     "name": "stdout",
     "output_type": "stream",
     "text": [
      "<ul>\n",
      " <li>\n",
      "  1\n",
      " </li>\n",
      " <li>\n",
      "  2\n",
      " </li>\n",
      " <li>\n",
      "  3\n",
      " </li>\n",
      " <li>\n",
      "  66\n",
      " </li>\n",
      "</ul>\n",
      "\n"
     ]
    }
   ],
   "source": [
    "from bs4 import BeautifulSoup\n",
    " \n",
    "with open(\"e01easy.html\", \"r\") as f:\n",
    "    \n",
    "    contents = f.read()\n",
    " \n",
    "    soup = BeautifulSoup(contents, 'lxml')\n",
    " \n",
    "    newtag = soup.new_tag('li')\n",
    "    newtag.string='66'\n",
    " \n",
    "    ultag = soup.ul\n",
    "    \n",
    "    ultag.append(newtag)\n",
    "    \n",
    "    print(ultag.prettify())"
   ]
  },
  {
   "cell_type": "code",
   "execution_count": null,
   "metadata": {},
   "outputs": [],
   "source": []
  },
  {
   "cell_type": "markdown",
   "metadata": {},
   "source": [
    "#### BeautifulSoup метод replace_with() замена текста в теге\n",
    "[BeautifulSoup](http://wiki.python.su/%D0%94%D0%BE%D0%BA%D1%83%D0%BC%D0%B5%D0%BD%D1%82%D0%B0%D1%86%D0%B8%D0%B8/BeautifulSoup#A.2BBBIESwQ3BD4EMg_.2BBEIENQQzBDA_.2BBDAEPQQwBDsEPgQzBDgERwQ9BD4_.2BBDIESwQ3BD4EMgRD_.60findall.60)"
   ]
  },
  {
   "cell_type": "code",
   "execution_count": 52,
   "metadata": {},
   "outputs": [
    {
     "name": "stdout",
     "output_type": "stream",
     "text": [
      "<ul>\n",
      " <li>\n",
      "  OpenBSD\n",
      " </li>\n",
      " <li>\n",
      "  2\n",
      " </li>\n",
      " <li>\n",
      "  3\n",
      " </li>\n",
      "</ul>\n",
      "\n"
     ]
    }
   ],
   "source": [
    "from bs4 import BeautifulSoup\n",
    " \n",
    "with open(\"e01easy.html\", \"r\") as f:\n",
    "    \n",
    "    contents = f.read()\n",
    " \n",
    "    soup = BeautifulSoup(contents, 'lxml')\n",
    " \n",
    "    tag = soup.find(text=\"1\")\n",
    "    tag.replace_with(\"OpenBSD\")\n",
    "    \n",
    "    print(soup.ul.prettify())"
   ]
  },
  {
   "cell_type": "code",
   "execution_count": null,
   "metadata": {},
   "outputs": [],
   "source": []
  },
  {
   "cell_type": "code",
   "execution_count": null,
   "metadata": {},
   "outputs": [],
   "source": []
  },
  {
   "cell_type": "code",
   "execution_count": null,
   "metadata": {},
   "outputs": [],
   "source": []
  },
  {
   "cell_type": "code",
   "execution_count": null,
   "metadata": {},
   "outputs": [],
   "source": []
  },
  {
   "cell_type": "markdown",
   "metadata": {},
   "source": [
    "#### BeautifulSoup метод replace_with() замена тега"
   ]
  },
  {
   "cell_type": "code",
   "execution_count": 53,
   "metadata": {},
   "outputs": [
    {
     "name": "stdout",
     "output_type": "stream",
     "text": [
      "\n",
      "<div>\n",
      "    <b>test1</b>\n",
      "    <i>test2</i>\n",
      "    <b>bold with some <i>italics</i></b>\n",
      "</div>\n",
      "\n",
      "\n",
      "<div>\n",
      "<li>111</li>\n",
      "<i>test2</i>\n",
      "<li>111</li>\n",
      "</div>\n",
      "\n"
     ]
    }
   ],
   "source": [
    "from bs4 import BeautifulSoup\n",
    "\n",
    "data = \"\"\"\n",
    "<div>\n",
    "    <b>test1</b>\n",
    "    <i>test2</i>\n",
    "    <b>bold with some <i>italics</i></b>\n",
    "</div>\n",
    "\"\"\"\n",
    "\n",
    "soup = BeautifulSoup(data, \"html.parser\")\n",
    "\n",
    "for b in soup.find_all(\"b\"):\n",
    "    newTag = soup.new_tag('li')\n",
    "    newTag.string = \"111\"\n",
    "    b.replace_with(newTag)\n",
    "print(data)\n",
    "print(soup)"
   ]
  },
  {
   "cell_type": "markdown",
   "metadata": {},
   "source": []
  },
  {
   "cell_type": "markdown",
   "metadata": {},
   "source": []
  },
  {
   "cell_type": "markdown",
   "metadata": {},
   "source": [
    "#### Получение html таблицы с ссылками на *.html файлы директория"
   ]
  },
  {
   "cell_type": "code",
   "execution_count": 54,
   "metadata": {},
   "outputs": [
    {
     "name": "stdout",
     "output_type": "stream",
     "text": [
      "\t<table>\n",
      "            <tr>\n",
      "                <td><a href=\"d21pyprk.html\">d21pyprk.html</a></td>\n",
      "                <td></td>\n",
      "                <td></td>\n",
      "                <td></td>\n",
      "                <td></td>\n",
      "                <td></td>\n",
      "            </tr>\n",
      "            <tr>\n",
      "                <td><a href=\"e01easy.html\">e01easy.html</a></td>\n",
      "                <td></td>\n",
      "                <td></td>\n",
      "                <td></td>\n",
      "                <td></td>\n",
      "                <td></td>\n",
      "            </tr>\n",
      "            <tr>\n",
      "                <td><a href=\"e01empty.html\">e01empty.html</a></td>\n",
      "                <td></td>\n",
      "                <td></td>\n",
      "                <td></td>\n",
      "                <td></td>\n",
      "                <td></td>\n",
      "            </tr>\n",
      "            <tr>\n",
      "                <td><a href=\"e01emtab.html\">e01emtab.html</a></td>\n",
      "                <td></td>\n",
      "                <td></td>\n",
      "                <td></td>\n",
      "                <td></td>\n",
      "                <td></td>\n",
      "            </tr>\n",
      "            <tr>\n",
      "                <td><a href=\"habr.html\">habr.html</a></td>\n",
      "                <td></td>\n",
      "                <td></td>\n",
      "                <td></td>\n",
      "                <td></td>\n",
      "                <td></td>\n",
      "            </tr>\n",
      "            <tr>\n",
      "                <td><a href=\"index2.html\">index2.html</a></td>\n",
      "                <td></td>\n",
      "                <td></td>\n",
      "                <td></td>\n",
      "                <td></td>\n",
      "                <td></td>\n",
      "            </tr>\n",
      "            \t</table>\n"
     ]
    }
   ],
   "source": [
    "# Получение html таблицы с ссылками на *.html файлы директория\n",
    "import os\n",
    "import lib01\n",
    "\n",
    "from bs4 import BeautifulSoup\n",
    "\n",
    "def getListDirHtml():\n",
    "    '''\n",
    "    Получение списка из *.html файлов директория\n",
    "    '''    \n",
    "    listDir = os.listdir()\n",
    "    listDirHtml = []\n",
    "    for i in listDir:\n",
    "        if i.find('html')>=0:\n",
    "            listDirHtml.append(i)\n",
    "    return listDirHtml\n",
    "\n",
    "\n",
    "def makeTable(listDirHtml):\n",
    "    '''\n",
    "    Получение таблицы ссылок из списка\n",
    "    ссылки в первой колонке таблицы\n",
    "    '''    \n",
    "    strHtml=''\n",
    "    strHtml += '''\t<table>\n",
    "            '''\n",
    "    for i in listDirHtml:\n",
    "        strHtml +='''<tr>\n",
    "                <td><a href=\"'''\n",
    "        strHtml += i\n",
    "        strHtml += '''\">'''\n",
    "        strHtml += i\n",
    "        strHtml += '''</a></td>\n",
    "                <td></td>\n",
    "                <td></td>\n",
    "                <td></td>\n",
    "                <td></td>\n",
    "                <td></td>\n",
    "            </tr>\n",
    "            '''    \n",
    "    strHtml += '''\t</table>'''\n",
    "    return strHtml\n",
    "\n",
    "listDirHtml = getListDirHtml()\n",
    "strHtml = makeTable(listDirHtml)\n",
    "lib01.writeHTML('index2.html', strHtml)\n",
    "\n",
    "print(strHtml)\n"
   ]
  },
  {
   "cell_type": "markdown",
   "metadata": {},
   "source": [
    "#### Html страница с таблицей ..."
   ]
  },
  {
   "cell_type": "code",
   "execution_count": 55,
   "metadata": {},
   "outputs": [
    {
     "name": "stdout",
     "output_type": "stream",
     "text": [
      "Overwriting e01emtab.html\n"
     ]
    }
   ],
   "source": [
    "%%writefile e01emtab.html\n",
    "<!DOCTYPE html>\n",
    "<html lang=\"en\">\n",
    "<head>\n",
    "\t<meta charset=\"UTF-8\">\n",
    "\t<title>Document</title>\n",
    "</head>\n",
    "\t<style>\n",
    "\t\ttd{border: 1px dotted #F50;\n",
    "\t\tvertical-align: top; }\n",
    "\t</style>\n",
    "<body>\n",
    "\t<table>\n",
    "\t\t<tr>\n",
    "\t\t\t<td>01</td>\n",
    "\t\t\t<td>02</td>\n",
    "\t\t\t<td>03</td>\n",
    "\t\t\t<td>04</td>\n",
    "\t\t\t<td>05</td>\n",
    "\t\t\t<td>06</td>\n",
    "\t\t</tr>\n",
    "\t\t<tr>\n",
    "\t\t\t<td>11</td>\n",
    "\t\t\t<td>12</td>\n",
    "\t\t\t<td>13</td>\n",
    "\t\t\t<td>14</td>\n",
    "\t\t\t<td>15</td>\n",
    "\t\t\t<td>16</td>\n",
    "\t\t</tr>\n",
    "\t\t<tr>\n",
    "\t\t\t<td>21</td>\n",
    "\t\t\t<td>22</td>\n",
    "\t\t\t<td>23</td>\n",
    "\t\t\t<td>24</td>\n",
    "\t\t\t<td>25</td>\n",
    "\t\t\t<td>26</td>\n",
    "\t\t</tr>\n",
    "\t\t<tr>\n",
    "\t\t\t<td>31</td>\n",
    "\t\t\t<td>32</td>\n",
    "\t\t\t<td>33</td>\n",
    "\t\t\t<td>34</td>\n",
    "\t\t\t<td>35</td>\n",
    "\t\t\t<td>36</td>\n",
    "\t\t</tr>\n",
    "\t\t<tr>\n",
    "\t\t\t<td>41</td>\n",
    "\t\t\t<td>42</td>\n",
    "\t\t\t<td>43</td>\n",
    "\t\t\t<td>44</td>\n",
    "\t\t\t<td>45</td>\n",
    "\t\t\t<td>46</td>\n",
    "\t\t</tr>\n",
    "\t\t<tr>\n",
    "\t\t\t<td>51</td>\n",
    "\t\t\t<td>52</td>\n",
    "\t\t\t<td>53</td>\n",
    "\t\t\t<td>54</td>\n",
    "\t\t\t<td>55</td>\n",
    "\t\t\t<td>56</td>\n",
    "\t\t</tr>\n",
    "\t\t<tr>\n",
    "\t\t\t<td>61</td>\n",
    "\t\t\t<td>62</td>\n",
    "\t\t\t<td>63</td>\n",
    "\t\t\t<td>64</td>\n",
    "\t\t\t<td>65</td>\n",
    "\t\t\t<td>66</td>\n",
    "\t\t</tr>\n",
    "\t\t<tr>\n",
    "\t\t\t<td>71</td>\n",
    "\t\t\t<td>72</td>\n",
    "\t\t\t<td>73</td>\n",
    "\t\t\t<td>74</td>\n",
    "\t\t\t<td>75</td>\n",
    "\t\t\t<td>76</td>\n",
    "\t\t</tr>\n",
    "\t\t<tr>\n",
    "\t\t\t<td>81</td>\n",
    "\t\t\t<td>82</td>\n",
    "\t\t\t<td>83</td>\n",
    "\t\t\t<td>84</td>\n",
    "\t\t\t<td>85</td>\n",
    "\t\t\t<td>86</td>\n",
    "\t\t</tr>\n",
    "\t\t<tr>\n",
    "\t\t\t<td>91</td>\n",
    "\t\t\t<td>92</td>\n",
    "\t\t\t<td>93</td>\n",
    "\t\t\t<td>94</td>\n",
    "\t\t\t<td>95</td>\n",
    "\t\t\t<td>96</td>\n",
    "\t\t</tr>\n",
    "\t</table>\n",
    "    <ul>\n",
    "    <li>1</li>\n",
    "    <li>2</li>\n",
    "    <li>3</li>\n",
    "    <li>4</li>\n",
    "    <li>5</li>\n",
    "    </ul>\n",
    "\t\n",
    "</body>\n",
    "</html>"
   ]
  },
  {
   "cell_type": "markdown",
   "metadata": {},
   "source": [
    "#### lib01 библиотека writeHTML"
   ]
  },
  {
   "cell_type": "code",
   "execution_count": 56,
   "metadata": {},
   "outputs": [
    {
     "name": "stdout",
     "output_type": "stream",
     "text": [
      "Overwriting lib01.py\n"
     ]
    }
   ],
   "source": [
    "%%writefile lib01.py\n",
    "#lib01.py\n",
    "import codecs\n",
    "\n",
    "string0 = '''\\\n",
    "<!DOCTYPE html>\n",
    "<html lang=\"en\">\n",
    "<head>\n",
    "\t<meta charset=\"UTF-8\">\n",
    "\t<title>Document</title>\n",
    "</head>\n",
    "<body>\n",
    "'''\n",
    "string2 = '''\\\n",
    "</body>\n",
    "</html>\n",
    "'''\n",
    "\n",
    "def writeHTML(name, string1):\n",
    "    global string0, string2\n",
    "    with codecs.open(name, 'w', 'utf-8') as file:\n",
    "        file.write(string0 + string1 + string2)\n",
    "\n",
    "\n",
    "def writeFile(name, string1):\n",
    "    with codecs.open(name, 'w', 'utf-8') as file:\n",
    "        file.write(string1)\n",
    "\n",
    "def readFile(name):\n",
    "    string1 = ''\n",
    "    with codecs.open(name, 'r', 'utf-8') as file:\n",
    "        string1 = file.read()\n",
    "    return string1"
   ]
  },
  {
   "cell_type": "markdown",
   "metadata": {},
   "source": [
    "#### почитать имеющуюся таблицу e01emtab2.html\n",
    "записать содержимое в список l и в файл e01emtab21.txt"
   ]
  },
  {
   "cell_type": "code",
   "execution_count": 58,
   "metadata": {},
   "outputs": [
    {
     "name": "stdout",
     "output_type": "stream",
     "text": [
      "e01emtab1.txt\n"
     ]
    }
   ],
   "source": [
    "from bs4 import BeautifulSoup\n",
    "\n",
    "numColumn=3\n",
    "fn = 'e01emtab.html'\n",
    "\n",
    "c = ''\n",
    "with open(fn,'r') as f:\n",
    "    c = f.read()\n",
    "soup = BeautifulSoup(c,'lxml')\n",
    "ltr = soup.findAll('tr')\n",
    "ltd = soup.findAll('td')\n",
    "ntr=len(ltr)\n",
    "la = []\n",
    "for j in range(numColumn):\n",
    "    for i in range(len(ltd)):\n",
    "        if (i-j*2)%(numColumn*2) == 0:\n",
    "            la.append(ltd[i])\n",
    "lat = []\n",
    "for i in la:\n",
    "    a = i.find('a') \n",
    "    if a:\n",
    "        lat.append(a['href'])\n",
    "    else:\n",
    "        lat.append(i.text)\n",
    "        \n",
    "\n",
    "lt = []\n",
    "for j in range(numColumn):\n",
    "    for i in range(len(ltd)):\n",
    "        if (i-1-j*2)%(numColumn*2) == 0:\n",
    "            lt.append(ltd[i])\n",
    "ltt = []            \n",
    "for i in lt:\n",
    "    ltt.append(i.text)\n",
    "\n",
    "l=[]\n",
    "for i in range(len(lat)):\n",
    "    l.append(f'{lat[i]}\\t{ltt[i]}')\n",
    "fn2=fn[:fn.find('.')]+'1.txt'\n",
    "\n",
    "st = '\\n'.join(l)\n",
    "with open(fn2,'w') as f:\n",
    "    f.write(st)\n",
    "print(fn2)"
   ]
  },
  {
   "cell_type": "markdown",
   "metadata": {},
   "source": [
    "#### Получение списка из таблицы"
   ]
  },
  {
   "cell_type": "code",
   "execution_count": 59,
   "metadata": {},
   "outputs": [
    {
     "name": "stdout",
     "output_type": "stream",
     "text": [
      "e01emtab1.txt\n"
     ]
    }
   ],
   "source": [
    "numColumn=3\n",
    "\n",
    "\n",
    "def get_table(st,num=0):\n",
    "    '''\n",
    "    возвращает список вида\n",
    "01\t02\n",
    "11\t12\n",
    "03\t04\n",
    "05\t06\n",
    "    num - число  значений\n",
    "    01 - ссылка\n",
    "    02 - ремарка\n",
    "    для таблицы вида\n",
    "    01 02 03 04 05 06\n",
    "    11 12 \n",
    "    где n = 4\n",
    "    '''\n",
    "    soup = BeautifulSoup(c,'lxml')\n",
    "    ltr = soup.findAll('tr')\n",
    "    ltd = soup.findAll('td')\n",
    "    if num==0:\n",
    "        ntr=len(ltr)\n",
    "    else:\n",
    "        ntr=num/numColumn\n",
    "        ltd =ltd[:num*2]    \n",
    "    la = []\n",
    "    for j in range(numColumn):\n",
    "        for i in range(len(ltd)):\n",
    "            if (i-j*2)%(numColumn*2) == 0:\n",
    "                la.append(ltd[i])\n",
    "    lat = []\n",
    "    for i in la:\n",
    "        a = i.find('a') \n",
    "        if a:\n",
    "            lat.append(a['href'])\n",
    "        else:\n",
    "            lat.append(i.text)\n",
    "\n",
    "\n",
    "    lt = []\n",
    "    for j in range(numColumn):\n",
    "        for i in range(len(ltd)):\n",
    "            if (i-1-j*2)%(numColumn*2) == 0:\n",
    "                lt.append(ltd[i])\n",
    "    ltt = []            \n",
    "    for i in lt:\n",
    "        ltt.append(i.text)\n",
    "\n",
    "    l=[]\n",
    "    for i in range(len(lat)):\n",
    "        l.append(f'{lat[i]}\\t{ltt[i]}')\n",
    "    fn2=fn[:fn.find('.')]+'1.txt'\n",
    "\n",
    "    st = '\\n'.join(l)\n",
    "    \n",
    "    return st\n",
    "\n",
    "c = ''\n",
    "with open(fn,'r') as f:\n",
    "    c = f.read()\n",
    "    \n",
    "c2 = get_table(c,4)\n",
    "\n",
    "with open(fn2,'w') as f:\n",
    "    f.write(c2)\n",
    "print(fn2)\n",
    "\n"
   ]
  },
  {
   "cell_type": "markdown",
   "metadata": {},
   "source": [
    "#### Пример таблицы по колонкам"
   ]
  },
  {
   "cell_type": "code",
   "execution_count": 60,
   "metadata": {},
   "outputs": [
    {
     "name": "stdout",
     "output_type": "stream",
     "text": [
      "[[0, 2, 4], [1, 3, '']]\n"
     ]
    }
   ],
   "source": [
    "l = range(5)\n",
    "nl = len(l)\n",
    "nt = 3\n",
    "nr = (nl+2)//3\n",
    "\n",
    "l2 = [['' for j in range(nt)] for i in range(nr)]\n",
    "# print(l2)\n",
    "k=0\n",
    "for i in range(nt):\n",
    "    for j in range(nr):\n",
    "        if(k>=len(l)):\n",
    "            break\n",
    "        l2[j][i]=l[k]\n",
    "        k+=1\n",
    "print(l2)"
   ]
  },
  {
   "cell_type": "markdown",
   "metadata": {},
   "source": [
    "#### Подготовка изготовление 10-ти html файлов\n",
    "**10 - e01e01.html - e01e10.html**  \n",
    "делаем из e01empty.html  "
   ]
  },
  {
   "cell_type": "code",
   "execution_count": 63,
   "metadata": {},
   "outputs": [
    {
     "name": "stdout",
     "output_type": "stream",
     "text": [
      "['e01e01.html', 'e01e02.html', 'e01e03.html', 'e01e04.html', 'e01e06.html', 'e01e07.html', 'e01e08.html', 'e01e09.html', 'e01e10.html']\n"
     ]
    }
   ],
   "source": [
    "import shutil\n",
    "\n",
    "paths_to = []\n",
    "for i in range(1,11):\n",
    "    stn = str(i)\n",
    "    stn = f'0{stn}' if len(stn)==1 else stn\n",
    "    st = f'e01e{stn}'\n",
    "    st += '.html'\n",
    "    paths_to.append(st)\n",
    "\n",
    "paths_to.remove(paths_to[4])\n",
    "print(paths_to)\n",
    "\n",
    "for i in paths_to:\n",
    "    shutil.copy2('e01empty.html',i)"
   ]
  },
  {
   "cell_type": "markdown",
   "metadata": {},
   "source": [
    "#### Пример использования lib01.writeHTML"
   ]
  },
  {
   "cell_type": "code",
   "execution_count": null,
   "metadata": {},
   "outputs": [],
   "source": [
    "# Директорий на страницу\n",
    "import lib01\n",
    "\n",
    "\n",
    "s = '''\\\n",
    "<?php\n",
    "echo \"Welcome!123\";\n",
    "'''\n",
    "lib01.writeHTML('index2.php', s)\n",
    "print('ok')\n"
   ]
  },
  {
   "cell_type": "markdown",
   "metadata": {},
   "source": [
    "#### алфавит"
   ]
  },
  {
   "cell_type": "code",
   "execution_count": null,
   "metadata": {},
   "outputs": [],
   "source": [
    "l = [chr(i) for i in range(ord('a'),ord('z')+1)] \n",
    "print(len(l),l)"
   ]
  },
  {
   "cell_type": "code",
   "execution_count": null,
   "metadata": {},
   "outputs": [],
   "source": [
    "l = [chr(i) for i in range(ord('а'),ord('я')+1)] \n",
    "print(len(l),l)"
   ]
  },
  {
   "cell_type": "code",
   "execution_count": null,
   "metadata": {},
   "outputs": [],
   "source": []
  },
  {
   "cell_type": "code",
   "execution_count": null,
   "metadata": {},
   "outputs": [],
   "source": []
  },
  {
   "cell_type": "code",
   "execution_count": null,
   "metadata": {},
   "outputs": [],
   "source": []
  },
  {
   "cell_type": "markdown",
   "metadata": {},
   "source": [
    "[beautifulsoup](https://python-scripts.com/beautifulsoup-html-parsing#BeautifulSoup-examples)  \n",
    "[]()  \n",
    "[]()  \n",
    "[]()  \n",
    "[]()  \n",
    "[]()  \n",
    "[]()  \n"
   ]
  }
 ],
 "metadata": {
  "kernelspec": {
   "display_name": "Python 3",
   "language": "python",
   "name": "python3"
  },
  "language_info": {
   "codemirror_mode": {
    "name": "ipython",
    "version": 3
   },
   "file_extension": ".py",
   "mimetype": "text/x-python",
   "name": "python",
   "nbconvert_exporter": "python",
   "pygments_lexer": "ipython3",
   "version": "3.7.4"
  }
 },
 "nbformat": 4,
 "nbformat_minor": 2
}
