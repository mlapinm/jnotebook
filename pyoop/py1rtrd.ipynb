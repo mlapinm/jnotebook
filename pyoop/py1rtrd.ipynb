{
 "cells": [
  {
   "cell_type": "markdown",
   "metadata": {},
   "source": [
    "#### Python. Уровень 1 Основы программирования\n",
    "#### Модуль 1 Начало работы\n",
    "##### Установка\n",
    "[https://www.python.org/downloads/](https://www.python.org/downloads/)"
   ]
  },
  {
   "cell_type": "markdown",
   "metadata": {},
   "source": [
    "##### Командная строка\n",
    "python -V\n",
    "##### Запуск командной строки Python в Windows"
   ]
  },
  {
   "cell_type": "code",
   "execution_count": null,
   "metadata": {},
   "outputs": [],
   "source": []
  },
  {
   "cell_type": "code",
   "execution_count": 11,
   "metadata": {},
   "outputs": [
    {
     "name": "stdout",
     "output_type": "stream",
     "text": [
      "Python 3.6.6\n"
     ]
    }
   ],
   "source": [
    "!python -V"
   ]
  },
  {
   "cell_type": "markdown",
   "metadata": {},
   "source": [
    "##### Использование командной строки интерпретатора\n",
    "python  \n",
    "Use quit() or Ctrl-Z plus Return to exit"
   ]
  },
  {
   "cell_type": "markdown",
   "metadata": {},
   "source": [
    "##### Получение помощи"
   ]
  },
  {
   "cell_type": "code",
   "execution_count": 12,
   "metadata": {},
   "outputs": [
    {
     "name": "stdout",
     "output_type": "stream",
     "text": [
      "The \"if\" statement\n",
      "******************\n",
      "\n",
      "The \"if\" statement is used for conditional execution:\n",
      "\n",
      "   if_stmt ::= \"if\" expression \":\" suite\n",
      "               ( \"elif\" expression \":\" suite )*\n",
      "               [\"else\" \":\" suite]\n",
      "\n",
      "It selects exactly one of the suites by evaluating the expressions one\n",
      "by one until one is found to be true (see section Boolean operations\n",
      "for the definition of true and false); then that suite is executed\n",
      "(and no other part of the \"if\" statement is executed or evaluated).\n",
      "If all expressions are false, the suite of the \"else\" clause, if\n",
      "present, is executed.\n",
      "\n",
      "Related help topics: TRUTHVALUE\n",
      "\n"
     ]
    }
   ],
   "source": [
    "help('if')"
   ]
  },
  {
   "cell_type": "code",
   "execution_count": 13,
   "metadata": {},
   "outputs": [
    {
     "name": "stdout",
     "output_type": "stream",
     "text": [
      "Help on built-in function print in module builtins:\n",
      "\n",
      "print(...)\n",
      "    print(value, ..., sep=' ', end='\\n', file=sys.stdout, flush=False)\n",
      "    \n",
      "    Prints the values to a stream, or to sys.stdout by default.\n",
      "    Optional keyword arguments:\n",
      "    file:  a file-like object (stream); defaults to the current sys.stdout.\n",
      "    sep:   string inserted between values, default a space.\n",
      "    end:   string appended after the last value, default a newline.\n",
      "    flush: whether to forcibly flush the stream.\n",
      "\n"
     ]
    }
   ],
   "source": [
    "help(print)"
   ]
  },
  {
   "cell_type": "markdown",
   "metadata": {},
   "source": [
    "##### Комментарии\n",
    "\\# comments\n",
    "##### Литеральные константы\n",
    "2, 'This string'\n",
    "##### Числа\n",
    "2, 2.3, 52.3E-1  \n",
    "+,-,\\*,/,//,**,%"
   ]
  },
  {
   "cell_type": "code",
   "execution_count": 14,
   "metadata": {},
   "outputs": [
    {
     "name": "stdout",
     "output_type": "stream",
     "text": [
      "5.23\n"
     ]
    }
   ],
   "source": [
    "a = 52.3E-1\n",
    "\n",
    "print(a)"
   ]
  },
  {
   "cell_type": "markdown",
   "metadata": {},
   "source": [
    "##### Строки\n",
    "##### Одинарные кавычки\n",
    "'paper'\n",
    "##### Двойные кавычки\n",
    "\"It's string\"\n",
    "##### Тройные кавычки\n",
    "''' \"NTPO \"Vector\" '''\n",
    "##### Строки неизменяемы\n",
    "##### Объединение строковых констант\n",
    "'111''222'  "
   ]
  },
  {
   "cell_type": "code",
   "execution_count": 15,
   "metadata": {},
   "outputs": [
    {
     "name": "stdout",
     "output_type": "stream",
     "text": [
      "111222\n",
      "333444\n"
     ]
    }
   ],
   "source": [
    "\n",
    "print('111''222')\n",
    "print('333'\\\n",
    "     '444')"
   ]
  },
  {
   "cell_type": "markdown",
   "metadata": {},
   "source": [
    "##### Метод format"
   ]
  },
  {
   "cell_type": "code",
   "execution_count": 22,
   "metadata": {},
   "outputs": [
    {
     "name": "stdout",
     "output_type": "stream",
     "text": [
      "Имя: John, возраст: 25 лет.\n",
      "Имя: John, возраст: 25 лет.\n",
      "0.33\n",
      "0.333333333333\n"
     ]
    }
   ],
   "source": [
    "age = 25\n",
    "name = 'John'\n",
    "print('Имя: {0}, возраст: {1} лет.'.format(name, age))\n",
    "print(f'Имя: {name}, возраст: {age} лет.')\n",
    "print('{0:.2}'.format(1/3))\n",
    "print('{0:.12}'.format(1/3))"
   ]
  },
  {
   "cell_type": "code",
   "execution_count": 19,
   "metadata": {},
   "outputs": [
    {
     "name": "stdout",
     "output_type": "stream",
     "text": [
      "first \n",
      "second\n",
      "first \\nsecond\n"
     ]
    }
   ],
   "source": [
    "print('first \\nsecond')\n",
    "print(r'first \\nsecond')"
   ]
  },
  {
   "cell_type": "markdown",
   "metadata": {},
   "source": [
    "##### Переменные\n",
    "##### Имена идентификаторов\n",
    "a1, _3 = 3\n"
   ]
  },
  {
   "cell_type": "code",
   "execution_count": 23,
   "metadata": {},
   "outputs": [
    {
     "name": "stdout",
     "output_type": "stream",
     "text": [
      "3\n"
     ]
    }
   ],
   "source": [
    " _3 = 3\n",
    "print(_3)"
   ]
  },
  {
   "cell_type": "markdown",
   "metadata": {},
   "source": [
    "##### Типы данных\n",
    "##### Объекты\n",
    "##### Встроенные функции"
   ]
  },
  {
   "cell_type": "code",
   "execution_count": 33,
   "metadata": {},
   "outputs": [
    {
     "name": "stdout",
     "output_type": "stream",
     "text": [
      "3 3.0 333 x 120 0xff 0b1000\n"
     ]
    }
   ],
   "source": [
    "print(abs(-3),float(3),str(3)+'33',chr(120),ord('x'),hex(255),bin(8))"
   ]
  },
  {
   "cell_type": "code",
   "execution_count": 38,
   "metadata": {},
   "outputs": [
    {
     "name": "stdout",
     "output_type": "stream",
     "text": [
      "0o14 3 55 4\n"
     ]
    }
   ],
   "source": [
    "print(oct(12), min(4,3,55), max(4,3,55), len('feel'))"
   ]
  },
  {
   "cell_type": "code",
   "execution_count": 40,
   "metadata": {},
   "outputs": [
    {
     "name": "stdout",
     "output_type": "stream",
     "text": [
      "1\n",
      "2\n",
      "3<>4\n",
      "5\n"
     ]
    }
   ],
   "source": [
    "print(1)\n",
    "print(2)\n",
    "print(3,end = '<>')\n",
    "print(4)\n",
    "print(5)"
   ]
  },
  {
   "cell_type": "code",
   "execution_count": 43,
   "metadata": {},
   "outputs": [
    {
     "name": "stdout",
     "output_type": "stream",
     "text": [
      "43\n",
      "43\n"
     ]
    }
   ],
   "source": [
    "a = input()\n",
    "print(a)"
   ]
  },
  {
   "cell_type": "markdown",
   "metadata": {},
   "source": [
    "##### Методы\n",
    "* str"
   ]
  },
  {
   "cell_type": "code",
   "execution_count": 45,
   "metadata": {},
   "outputs": [
    {
     "name": "stdout",
     "output_type": "stream",
     "text": [
      "Make me\n"
     ]
    }
   ],
   "source": [
    "print('make me'.capitalize())"
   ]
  },
  {
   "cell_type": "code",
   "execution_count": 54,
   "metadata": {},
   "outputs": [
    {
     "name": "stdout",
     "output_type": "stream",
     "text": [
      "5 1\n"
     ]
    }
   ],
   "source": [
    "a1 = 'Make my feel better'.count('e')\n",
    "a2 = 'Make my feel better'.count('e',4,10)\n",
    "print(a1,a2)"
   ]
  },
  {
   "cell_type": "code",
   "execution_count": 58,
   "metadata": {},
   "outputs": [
    {
     "name": "stdout",
     "output_type": "stream",
     "text": [
      "True 3\n"
     ]
    }
   ],
   "source": [
    "a1 = 'Make my feel better'.endswith('er')\n",
    "a2 = 'Make my feel better'.find('e')\n",
    "print(a1,a2)"
   ]
  },
  {
   "cell_type": "code",
   "execution_count": 15,
   "metadata": {},
   "outputs": [
    {
     "name": "stdout",
     "output_type": "stream",
     "text": [
      "-1 -1\n"
     ]
    }
   ],
   "source": [
    "try:\n",
    "    a1 = 'Make my feel better'.index('er1')\n",
    "except Exception as e:\n",
    "    a1 = -1\n",
    "print(a1,a1)"
   ]
  },
  {
   "cell_type": "code",
   "execution_count": 70,
   "metadata": {},
   "outputs": [
    {
     "name": "stdout",
     "output_type": "stream",
     "text": [
      "True False\n"
     ]
    }
   ],
   "source": [
    "a1 = 'Make'.isalnum()\n",
    "a2 = \"Make my feel better\".isalnum()\n",
    "print(a1, a2)"
   ]
  },
  {
   "cell_type": "code",
   "execution_count": 73,
   "metadata": {},
   "outputs": [
    {
     "name": "stdout",
     "output_type": "stream",
     "text": [
      "True True True\n"
     ]
    }
   ],
   "source": [
    "print('abc'.isalpha(), '234'.isdigit(), 'a4b'.islower())"
   ]
  },
  {
   "cell_type": "code",
   "execution_count": 79,
   "metadata": {},
   "outputs": [
    {
     "name": "stdout",
     "output_type": "stream",
     "text": [
      "True\n"
     ]
    }
   ],
   "source": [
    "print('\\t \\r\\n'.isspace())"
   ]
  },
  {
   "cell_type": "code",
   "execution_count": 82,
   "metadata": {},
   "outputs": [
    {
     "name": "stdout",
     "output_type": "stream",
     "text": [
      "False\n",
      "True\n"
     ]
    }
   ],
   "source": [
    "print('Real-time Communications'.istitle())\n",
    "print('Real-Time Communications'.istitle())"
   ]
  },
  {
   "cell_type": "code",
   "execution_count": 88,
   "metadata": {},
   "outputs": [
    {
     "name": "stdout",
     "output_type": "stream",
     "text": [
      "False True\n"
     ]
    }
   ],
   "source": [
    "print(\"RTC's \".isupper(), 'RTC '.isupper())"
   ]
  },
  {
   "cell_type": "code",
   "execution_count": 13,
   "metadata": {},
   "outputs": [
    {
     "name": "stdout",
     "output_type": "stream",
     "text": [
      " feel  1FEEL 2 FEEL3FEEL4 FEEL 5\n",
      "isu  FOOL   FEEL \n"
     ]
    }
   ],
   "source": [
    "s = ' FEEL '\n",
    "print(s.lower(),'1'+s.lstrip()+'2'\n",
    "      +s.rstrip()+'3'+s.strip()+'4'+s+'5')\n",
    "print('isupper'.rstrip('per'),s.replace('E','O'),s)"
   ]
  },
  {
   "cell_type": "code",
   "execution_count": 22,
   "metadata": {},
   "outputs": [
    {
     "name": "stdout",
     "output_type": "stream",
     "text": [
      "17 9 True\n"
     ]
    }
   ],
   "source": [
    "s = 'Make my feel better'\n",
    "try:\n",
    "    a1 = s.rindex('e')\n",
    "except Exception as e:\n",
    "    a1 = -1\n",
    "print(a1,s.rfind('ee'),s.lower().startswith('ma'))"
   ]
  },
  {
   "cell_type": "code",
   "execution_count": 28,
   "metadata": {},
   "outputs": [
    {
     "name": "stdout",
     "output_type": "stream",
     "text": [
      "mAKE Make MAKE\n",
      "Help on built-in function upper:\n",
      "\n",
      "upper(...) method of builtins.str instance\n",
      "    S.upper() -> str\n",
      "    \n",
      "    Return a copy of S converted to uppercase.\n",
      "\n"
     ]
    }
   ],
   "source": [
    "s = 'Make'\n",
    "print(s.swapcase(), s.swapcase().title(), s.upper())\n",
    "help(s.upper)"
   ]
  },
  {
   "cell_type": "markdown",
   "metadata": {},
   "source": [
    "##### Логические и физические строки\n",
    "i = 5; print(i);  \n",
    "s = 'Это строка. \\  \n",
    "Это строка продолжается.'  \n",
    "print(s)  \n",
    "print\\  \n",
    "(i)  \n",
    "##### Отступы\n",
    "4 space = tab  \n",
    "##### Операторы и выражения\n",
    "##### Операторы"
   ]
  },
  {
   "cell_type": "code",
   "execution_count": 29,
   "metadata": {},
   "outputs": [
    {
     "name": "stdout",
     "output_type": "stream",
     "text": [
      "lalala\n"
     ]
    }
   ],
   "source": [
    "print('la'*3)"
   ]
  },
  {
   "cell_type": "markdown",
   "metadata": {},
   "source": [
    "##### Краткая запись мат. операций и присваивания\n",
    "a *= 3  \n",
    "##### Порядок вычисления\n",
    "\\+ *\n",
    "##### Изменение порядка вычисления\n",
    "()\n",
    "##### Ассоциативность\n",
    "##### Выражения"
   ]
  },
  {
   "cell_type": "markdown",
   "metadata": {},
   "source": [
    "#### Модуль 2 Управляющие конструкции\n",
    "##### Булевы значения\n",
    "True, False, ==, !=, and, or, not  "
   ]
  },
  {
   "cell_type": "code",
   "execution_count": 30,
   "metadata": {},
   "outputs": [
    {
     "name": "stdout",
     "output_type": "stream",
     "text": [
      "False False False\n"
     ]
    }
   ],
   "source": [
    "print(bool(''),bool(0),bool(0.0))"
   ]
  },
  {
   "cell_type": "markdown",
   "metadata": {},
   "source": [
    "##### Поток команд\n",
    "##### Оператор if\n",
    "##### Оператор while\n",
    "##### Оператор break\n",
    "##### Оператор continue"
   ]
  },
  {
   "cell_type": "code",
   "execution_count": 34,
   "metadata": {},
   "outputs": [
    {
     "name": "stdout",
     "output_type": "stream",
     "text": [
      "3\n",
      "4\n"
     ]
    }
   ],
   "source": [
    "a = 3 if True else 4\n",
    "print(a)\n",
    "a = 3 if False else 4\n",
    "print(a)"
   ]
  },
  {
   "cell_type": "markdown",
   "metadata": {},
   "source": [
    "##### Оператор while\n",
    "##### Оператор break\n",
    "##### Оператор continue"
   ]
  },
  {
   "cell_type": "code",
   "execution_count": 44,
   "metadata": {},
   "outputs": [
    {
     "name": "stdout",
     "output_type": "stream",
     "text": [
      "1024\n"
     ]
    }
   ],
   "source": [
    "a = 2\n",
    "while True:\n",
    "    ap = a\n",
    "    a *= 2\n",
    "    if a>1500:\n",
    "        a = ap\n",
    "        break\n",
    "print(a)"
   ]
  },
  {
   "cell_type": "markdown",
   "metadata": {},
   "source": []
  },
  {
   "cell_type": "markdown",
   "metadata": {},
   "source": [
    "#### Модуль 3 Функции и коллекции\n",
    "##### Цикл for"
   ]
  },
  {
   "cell_type": "code",
   "execution_count": 49,
   "metadata": {},
   "outputs": [
    {
     "name": "stdout",
     "output_type": "stream",
     "text": [
      "[0, 3, 6, 9, 12] 0 - 1 - 2 - 3 - 4\n"
     ]
    }
   ],
   "source": [
    "a = [i*3 for i in range(5)]\n",
    "s = ''\n",
    "cnt = 5\n",
    "for i in range(cnt):\n",
    "    s += str(i)\n",
    "    if i < cnt - 1:\n",
    "        s += ' - '\n",
    "print(a, s)"
   ]
  },
  {
   "cell_type": "code",
   "execution_count": 50,
   "metadata": {},
   "outputs": [
    {
     "name": "stdout",
     "output_type": "stream",
     "text": [
      "0 - 1 - 2 - 3 - 4\n"
     ]
    }
   ],
   "source": [
    "s = '0'\n",
    "for i in range(1, 5):\n",
    "    s += ' - '\n",
    "    s += str(i)\n",
    "print(s)"
   ]
  },
  {
   "cell_type": "markdown",
   "metadata": {},
   "source": [
    "##### Структуры данных\n",
    "список, кортеж, словарь и множество  "
   ]
  },
  {
   "cell_type": "markdown",
   "metadata": {},
   "source": [
    "  _       | _      | _\n",
    ":---------|:-------|:------  \n",
    "список    | list   |[]\n",
    "кортеж    | tuple  |()\n",
    "словарь   | dict   |{:}\n",
    "множество | set    |{}"
   ]
  },
  {
   "cell_type": "markdown",
   "metadata": {},
   "source": [
    "##### Список"
   ]
  },
  {
   "cell_type": "code",
   "execution_count": 63,
   "metadata": {},
   "outputs": [
    {
     "name": "stdout",
     "output_type": "stream",
     "text": [
      "['0', '2', '3', '4']\n",
      "['0', '2', '3', '4', '1']\n",
      "['0', '1', '10', '2', '3', '4']\n",
      "['0', '1', '2', '3', '4', '10']\n"
     ]
    }
   ],
   "source": [
    "l = [str(i) for i in range(5)]\n",
    "del l[1]\n",
    "print(l)\n",
    "l.append(str(1))\n",
    "print(l)\n",
    "l.append(str(10))\n",
    "l.sort()\n",
    "print(l)\n",
    "l.sort(key = lambda a:int(a))\n",
    "print(l)"
   ]
  },
  {
   "cell_type": "markdown",
   "metadata": {},
   "source": [
    "##### Методы списков  "
   ]
  },
  {
   "cell_type": "code",
   "execution_count": 6,
   "metadata": {},
   "outputs": [
    {
     "name": "stdout",
     "output_type": "stream",
     "text": [
      "['a', 'b', 'c', 'd', 1, 2] None ['a', 'b', 'c', 'd', 1, 2] None ['a', 'b', 'c', 'd', 1, 2] 0 1\n"
     ]
    }
   ],
   "source": [
    "s='abc'\n",
    "l1 = list(s)\n",
    "l2 = [i for i in range(1,3)]\n",
    "print(l1,l1.append('d'),l1,l1.extend(l2),l1, l.count('e'), l.count('b'))\n"
   ]
  },
  {
   "cell_type": "code",
   "execution_count": 66,
   "metadata": {},
   "outputs": [
    {
     "name": "stdout",
     "output_type": "stream",
     "text": [
      "0\n",
      "33 is not in list <class 'ValueError'>\n",
      "-2\n"
     ]
    }
   ],
   "source": [
    "import random\n",
    "l = [random.randrange(1,10) for i in range(5)]\n",
    "print(l.count(33))\n",
    "i = 0\n",
    "try:\n",
    "    i = l.index(33)\n",
    "except Exception as e:    \n",
    "    i = -2\n",
    "    print(e, type(e))\n",
    "print(i)"
   ]
  },
  {
   "cell_type": "code",
   "execution_count": 85,
   "metadata": {},
   "outputs": [
    {
     "name": "stdout",
     "output_type": "stream",
     "text": [
      "['a', 'd', 'b', 'c'] None ['a', 'd', 'b', 'c']\n",
      "d ['a', 'b', 'c']\n",
      "None ['a', 'c']\n",
      "['c', 'b', 'd', 'a'] None\n",
      "['a', 'b', 'c', 'd'] None\n"
     ]
    }
   ],
   "source": [
    "l = [chr(i) for i in range(ord('a'),ord('d'))]\n",
    "print(l,l.insert(1,'d'),l)\n",
    "l2 = l.copy()\n",
    "print(l.pop(1),l)\n",
    "print(l.remove('b'),l)\n",
    "l = l2\n",
    "print(l,l.reverse())\n",
    "print(l,l.sort())"
   ]
  },
  {
   "cell_type": "markdown",
   "metadata": {},
   "source": [
    "##### Кортеж Tuple"
   ]
  },
  {
   "cell_type": "code",
   "execution_count": 96,
   "metadata": {},
   "outputs": [
    {
     "name": "stdout",
     "output_type": "stream",
     "text": [
      "2 ((1, 2, 3), (4, 5)) 4\n"
     ]
    }
   ],
   "source": [
    "t1 = (1,2,3)\n",
    "t2 = (4,5)\n",
    "t1 = t1,t2\n",
    "print(len(t1), t1,t1[1][0])"
   ]
  },
  {
   "cell_type": "markdown",
   "metadata": {},
   "source": [
    "##### Словарь dict"
   ]
  },
  {
   "cell_type": "code",
   "execution_count": 98,
   "metadata": {},
   "outputs": [
    {
     "name": "stdout",
     "output_type": "stream",
     "text": [
      "{'a': 1, 'b': 2, 'c': 3}\n"
     ]
    }
   ],
   "source": [
    "d = {'a':1,'b':2,'c':3}\n",
    "print(d)"
   ]
  },
  {
   "cell_type": "markdown",
   "metadata": {},
   "source": [
    "##### Методы и операторы, поддерживаемые словарями\n",
    "len(d), d[k], d[k]=x, del d[k], k in d, d.clear(), d.copy(), d.fromkeys(s [,value]), d.get(k [,v]), d.items(), d.keys(), d.pop(k [,default]), d.popitem(), d.setdefault(k [, v]), d.update(b), d.values()"
   ]
  },
  {
   "cell_type": "code",
   "execution_count": 117,
   "metadata": {},
   "outputs": [
    {
     "name": "stdout",
     "output_type": "stream",
     "text": [
      "3 2\n",
      "{'a': 1, 'b': 22, 'c': 3}\n",
      "{'a': 1, 'c': 3} True False\n",
      "{} None\n",
      "{'1': 44, '2': 44, '3': 44}\n",
      "bb 44\n"
     ]
    }
   ],
   "source": [
    "d = {'a':1,'b':2,'c':3}\n",
    "print(len(d), d['b'])\n",
    "d['b'] = 22\n",
    "print(d,)\n",
    "d1 = d.copy()\n",
    "del d['b']\n",
    "print(d, 'a' in d, 'e' in d)\n",
    "print(d, d.clear())\n",
    "l = [str(i) for i in range(1,4)]\n",
    "d = d.fromkeys(l, 44)\n",
    "print(d)\n",
    "print(d.get('a','bb'), d.get('2','bb'), )"
   ]
  },
  {
   "cell_type": "code",
   "execution_count": 202,
   "metadata": {},
   "outputs": [
    {
     "name": "stdout",
     "output_type": "stream",
     "text": [
      "('a', 1) a 1\n",
      "('b', 2) b 2\n",
      "('c', 3) c 3\n",
      "a\n",
      "b\n",
      "c\n",
      "dict_items([('a', 1), ('b', 2), ('c', 3)]) dict_items([('a', 1), ('b', 2), ('c', 3)]) dict_keys(['a', 'b', 'c'])\n"
     ]
    }
   ],
   "source": [
    "d = {'a':1,'b':2,'c':3}\n",
    "d1 = d.items()\n",
    "for i in d1:\n",
    "    print(i,i[0],i[1])\n",
    "k = d.keys()\n",
    "for i in k:\n",
    "    print(i)\n",
    "print(d.items(), d.items(), d.keys() )"
   ]
  },
  {
   "cell_type": "code",
   "execution_count": 200,
   "metadata": {},
   "outputs": [
    {
     "name": "stdout",
     "output_type": "stream",
     "text": [
      "{'a': 1, 'b': 2, 'c': 3}\n",
      "1 {'b': 2, 'c': 3} False False\n",
      "('c', 3) {'a': 1, 'b': 2}\n",
      "4 {'a': 1, 'b': 2, 'd': 4}\n",
      "None {'a': 1, 'b': 2, 'd': 4, 'c': 3}\n",
      "dict_values([1, 2, 4, 3]) <class 'dict_values'> dict_items([('a', 1), ('b', 2), ('d', 4), ('c', 3)])\n",
      "[1, 2, 4, 3]\n",
      "a 1, b 2, d 4, c 3, "
     ]
    }
   ],
   "source": [
    "d = {'a':1,'b':2,'c':3}\n",
    "d1  = d.copy()\n",
    "print(d)\n",
    "print(d.pop('a'), d, 'a' in d.items(), 1 in d.items())\n",
    "d = d1.copy()\n",
    "print(d.popitem(), d)\n",
    "print(d.setdefault('d', 4), d)\n",
    "print(d.update(d1), d)\n",
    "print(d.values(),type(d.values()),d.items())\n",
    "l = [i for i in d.values()]\n",
    "print(l)\n",
    "for i,j in d.items():\n",
    "    print(i,j, end = ', ')"
   ]
  },
  {
   "cell_type": "markdown",
   "metadata": {},
   "source": [
    "##### Последовательности\n",
    "in\n",
    "##### Операции над последовательностями\n",
    "s + r Конкатенация  \n",
    "s * n Создает n копий последовательности s, где n – целое число  \n",
    "all(s) Возвращает True, если все элементы последовательности s оцениваются, как\n",
    "истинные  \n",
    "any(s) Возвращает True, если хотя бы один элемент последовательности s оценивается,\n",
    "как истинный  \n",
    "len(s) Длина последовательности  \n",
    "min(s) Минимальный элемент в последовательности s  \n",
    "max(s) Максимальный элемент в последовательности s  \n",
    "sum(s [, initial]) Сумма элементов последовательности с необязательным начальным значением  "
   ]
  },
  {
   "cell_type": "markdown",
   "metadata": {},
   "source": [
    "##### Множество set\n",
    "##### Методы и операторы, поддерживаемые множествами\n",
    "- len(s) Возвращает количество элементов в множестве s.  \n",
    "- s.copy() Создает копию множества s.  \n",
    "- s.difference(t) Разность множеств. Возвращает все элементы из множества s, отсутствующие в t.  \n",
    "- s.intersection(t) Пересечение множеств. Возвращает все элементы, присутствующие в обоих множествах s и t.  \n",
    "- s.isdisjoint(t) Возвращает True, если множества s и t не имеют общих элементов. \n",
    "- s.issubset(t) Возвращает True, если множество s является подмножеством t.  \n",
    "- s.issuperset(t) Возвращает True, если множество s является надмножеством t.  \n",
    "- s.symmetric_difference(t) Симметричная разность множеств. Возвращает все элементы, которые присутствуют в множестве s или t, но не в обоих сразу.  \n",
    "- s.union(t) Объединение множеств. Возвращает все элементы, присутствующие в множестве s или t.  \n",
    "- s.add(item) Добавляет элемент item в s. Ничего не делает, если этот элемент уже имеется в множестве.  \n",
    "- s.clear() Удаляет все элементы из множества s.  \n",
    "- s.difference_update(t) Удаляет все элементы из множества s, которые присутствуют в t.  \n",
    "- s.discard(item) Удаляет элемент item из множества s. Ничего не делает, если этот элемент отсутствует в множестве.\n",
    "- s.intersection_update(t) Находит пересечение s и t и оставляет результат в s.\n",
    "- s.pop() Возвращает произвольный элемент множества и удаляет его из s."
   ]
  },
  {
   "cell_type": "markdown",
   "metadata": {},
   "source": [
    "##### Ссылки\n",
    "##### Ещё о строках\n",
    "##### Генераторы списков\n",
    "##### Итераторы\n",
    "##### Генераторы\n",
    "##### Функции\n",
    "##### Параметры функций\n",
    "##### Локальные переменные\n",
    "##### Зарезервированное слово \"global\"\n",
    "##### Зарезервированное слово \"nonlocal\""
   ]
  },
  {
   "cell_type": "code",
   "execution_count": null,
   "metadata": {},
   "outputs": [],
   "source": []
  },
  {
   "cell_type": "markdown",
   "metadata": {},
   "source": [
    "\n",
    "##### Значения аргументов по умолчанию\n",
    "##### Ключевые аргументы\n",
    "##### Переменное число параметров\n",
    "##### Только ключевые параметры\n",
    "##### Оператор \"return\"\n",
    "##### Строки документации\n",
    "##### Функция-генератор"
   ]
  },
  {
   "cell_type": "code",
   "execution_count": null,
   "metadata": {},
   "outputs": [],
   "source": []
  },
  {
   "cell_type": "markdown",
   "metadata": {},
   "source": [
    "#### Модуль 4 Модули и пакеты\n",
    "##### Модули\n",
    "##### Файлы байткода .pyc\n",
    "##### Оператор from ... import ...\n",
    "##### Имя модуля – __name__\n",
    "##### Создание собственных модулей\n",
    "##### Функция dir\n",
    "##### Пакеты\n",
    "##### Установка библиотек\n",
    "\n"
   ]
  },
  {
   "cell_type": "markdown",
   "metadata": {},
   "source": [
    "#### Модуль 5 Практическая работа 1\n"
   ]
  },
  {
   "cell_type": "markdown",
   "metadata": {},
   "source": [
    "#### Модуль 6 Работа с файловой системой\n"
   ]
  },
  {
   "cell_type": "markdown",
   "metadata": {},
   "source": [
    "##### Работа с файлами\n",
    "##### Режимы работы с файлами.\n",
    "##### Чтение из файла\n",
    "##### f.read(n)\n",
    "##### f.readline()\n",
    "##### f.readlines()\n",
    "##### Запись в файл\n",
    "##### Другие методы для работы с файлом\n",
    "##### f.tell()\n",
    "##### f.seek(смещение, откуда).\n",
    "##### Атрибуты объектов файлов"
   ]
  },
  {
   "cell_type": "markdown",
   "metadata": {},
   "source": [
    "##### Работа с данными в формате CSV\n",
    "##### Работа с файловой системой\n",
    "##### Модуль os\n",
    "##### Модуль os.path\n",
    "##### Разбор параметров командной строки"
   ]
  },
  {
   "cell_type": "markdown",
   "metadata": {},
   "source": [
    "#### Модуль 7 Исключения и обработка ошибок\n",
    "##### Ошибки и исключения\n",
    "##### Ошибки\n",
    "##### Исключения\n",
    "##### Иерархия исключений\n",
    "##### Описание некоторых типов исключений\n",
    "##### Обработка исключений\n",
    "##### Вызов исключения\n",
    "##### Try .. Except\n",
    "##### Оператор with\n",
    "##### Уточнение типа\n"
   ]
  },
  {
   "cell_type": "markdown",
   "metadata": {},
   "source": [
    "#### Модуль 8 Регулярные выражения\n",
    "##### Регулярное выражение\n",
    "##### Синтаксис шаблонов\n",
    "##### Флаги\n",
    "##### Методы модуля re\n",
    "##### Объекты MatchObject\n",
    "##### Пример"
   ]
  },
  {
   "cell_type": "markdown",
   "metadata": {},
   "source": [
    "#### Модуль 9 Элементы функционального программирования\n",
    "##### Функции как объекты\n",
    "##### Lambda выражение\n",
    "##### Функциональные функции\n",
    "##### Функция map()\n",
    "##### Функция filter()\n",
    "##### Функция reduce()\n",
    "##### Функция zip()\n",
    "##### Замыкания\n",
    "##### Декораторы\n",
    "##### Модуль functools"
   ]
  },
  {
   "cell_type": "markdown",
   "metadata": {},
   "source": [
    "#### Модуль 10 Практическая работа 2\n"
   ]
  },
  {
   "cell_type": "markdown",
   "metadata": {},
   "source": [
    "##### 1\n"
   ]
  },
  {
   "cell_type": "markdown",
   "metadata": {},
   "source": [
    "* [Python. Уровень 1 Основы программирования](#Python.-Уровень-1-Основы-программирования)\n",
    "* [Модуль 1 Начало работы](#Модуль-1-Начало-работы)\n",
    "* [Установка](#Установка)\n",
    "* [Командная строка](#Командная-строка)\n",
    "* [Запуск командной строки Python в Windows](#Запуск-командной-строки-Python-в-Windows)\n",
    "* [Использование командной строки интерпретатора](#Использование-командной-строки-интерпретатора)\n",
    "* [Получение помощи](#Получение-помощи)\n",
    "* [Комментарии](#Комментарии)\n",
    "* [Литеральные константы](#Литеральные-константы)\n",
    "* [Числа](#Числа)\n",
    "* [Строки](#Строки)\n",
    "* [Одинарные кавычки](#Одинарные-кавычки)\n",
    "* [Двойные кавычки](#Двойные-кавычки)\n",
    "* [Тройные кавычки](#Тройные-кавычки)\n",
    "* [Строки неизменяемы](#Строки-неизменяемы)\n",
    "* [Объединение строковых констант](#Объединение-строковых-констант)\n",
    "* [Метод format](#Метод-format)\n",
    "* [Переменные](#Переменные)\n",
    "* [Имена идентификаторов](#Имена-идентификаторов)\n",
    "* [Типы данных](#Типы-данных)\n",
    "* [Объекты](#Объекты)\n",
    "* [Встроенные функции](#Встроенные-функции)\n",
    "* [Методы](#Методы)\n",
    "* [Логические и физические строки](#Логические-и-физические-строки)\n",
    "* [Отступы](#Отступы)\n",
    "* [Операторы и выражения](#Операторы-и-выражения)\n",
    "* [Операторы](#Операторы)\n",
    "* [Краткая запись мат. операций и присваивания](#Краткая-запись-мат.-операций-и-присваивания)\n",
    "* [Порядок вычисления](#Порядок-вычисления)\n",
    "* [Изменение порядка вычисления](#Изменение-порядка-вычисления)\n",
    "* [Ассоциативность](#Ассоциативность)\n",
    "* [Выражения](#Выражения)\n",
    "* [Модуль 2 Управляющие конструкции](#Модуль-2-Управляющие-конструкции)\n",
    "* [Булевы значения](#Булевы-значения)\n",
    "* [Поток команд](#Поток-команд)\n",
    "* [Оператор if](#Оператор-if)\n",
    "* [Оператор while](#Оператор-while)\n",
    "* [Оператор break](#Оператор-break)\n",
    "* [Оператор continue](#Оператор-continue)\n",
    "* [Модуль 3 Функции и коллекции](#Модуль-3-Функции-и-коллекции)\n",
    "* [Цикл for](#Цикл-for)\n",
    "* [Структуры данных](#Структуры-данных)\n",
    "* [Список](#Список)\n",
    "* [Методы списков](#Методы-списков)\n",
    "* [Кортеж](#Кортеж)\n",
    "* [Словарь](#Словарь)\n",
    "* [Методы и операторы, поддерживаемые словарями](#Методы-и-операторы,-поддерживаемые-словарями)\n",
    "* [Последовательности](#Последовательности)\n",
    "* [Операции над последовательностями](#Операции-над-последовательностями)\n",
    "* [Множество](#Множество)\n",
    "* [Методы и операторы, поддерживаемые множествами](#Методы-и-операторы,-поддерживаемые-множествами)\n",
    "* [Ссылки](#Ссылки)\n",
    "* [Ещё о строках](#Ещё-о-строках)\n",
    "* [Генераторы списков](#Генераторы-списков)\n",
    "* [Итераторы](#Итераторы)\n",
    "* [Генераторы](#Генераторы)\n",
    "* [Функции](#Функции)\n",
    "* [Параметры функций](#Параметры-функций)\n",
    "* [Локальные переменные](#Локальные-переменные)\n",
    "* [Зарезервированное слово \"global\"](#Зарезервированное-слово-\"global\")\n",
    "* [Зарезервированное слово \"nonlocal\"](#Зарезервированное-слово-\"nonlocal\")\n",
    "* [Значения аргументов по умолчанию](#Значения-аргументов-по-умолчанию)\n",
    "* [Ключевые аргументы](#Ключевые-аргументы)\n",
    "* [Переменное число параметров](#Переменное-число-параметров)\n",
    "* [Только ключевые параметры](#Только-ключевые-параметры)\n",
    "* [Оператор \"return\"](#Оператор-\"return\")\n",
    "* [Строки документации](#Строки-документации)\n",
    "* [Функция-генератор](#Функция-генератор)\n",
    "* [Модуль 4 Модули и пакеты](#Модуль-4-Модули-и-пакеты)\n",
    "* [Модули](#Модули)\n",
    "* [Файлы байткода .pyc](#Файлы-байткода-.pyc)\n",
    "* [Оператор from ... import ...](#Оператор-from-...-import-...)\n",
    "* [Имя модуля – __name__](#Имя-модуля-–-__name__)\n",
    "* [Создание собственных модулей](#Создание-собственных-модулей)\n",
    "* [Функция dir](#Функция-dir)\n",
    "* [Пакеты](#Пакеты)\n",
    "* [Установка библиотек](#Установка-библиотек)\n",
    "* [Модуль 5 Практическая работа 1](#Модуль-5-Практическая-работа-1)\n",
    "* [Модуль 6 Работа с файловой системой](#Модуль-6-Работа-с-файловой-системой)\n",
    "* [Работа с файлами](#Работа-с-файлами)\n",
    "* [Режимы работы с файлами.](#Режимы-работы-с-файлами.)\n",
    "* [Чтение из файла](#Чтение-из-файла)\n",
    "* [f.read(n)](#f.read(n))\n",
    "* [f.readline()](#f.readline())\n",
    "* [f.readlines()](#f.readlines())\n",
    "* [Запись в файл](#Запись-в-файл)\n",
    "* [Другие методы для работы с файлом](#Другие-методы-для-работы-с-файлом)\n",
    "* [f.tell()](#f.tell())\n",
    "* [f.seek(смещение, откуда).](#f.seek(смещение,-откуда).)\n",
    "* [Атрибуты объектов файлов](#Атрибуты-объектов-файлов)\n",
    "* [Работа с данными в формате CSV](#Работа-с-данными-в-формате-CSV)\n",
    "* [Работа с файловой системой](#Работа-с-файловой-системой)\n",
    "* [Модуль os](#Модуль-os)\n",
    "* [Модуль os.path](#Модуль-os.path)\n",
    "* [Разбор параметров командной строки](#Разбор-параметров-командной-строки)\n",
    "* [Модуль 7 Исключения и обработка ошибок](#Модуль-7-Исключения-и-обработка-ошибок)\n",
    "* [Ошибки и исключения](#Ошибки-и-исключения)\n",
    "* [Ошибки](#Ошибки)\n",
    "* [Исключения](#Исключения)\n",
    "* [Иерархия исключений](#Иерархия-исключений)\n",
    "* [Описание некоторых типов исключений](#Описание-некоторых-типов-исключений)\n",
    "* [Обработка исключений](#Обработка-исключений)\n",
    "* [Вызов исключения](#Вызов-исключения)\n",
    "* [Try .. Except](#Try-..-Except)\n",
    "* [Оператор with](#Оператор-with)\n",
    "* [Уточнение типа](#Уточнение-типа)\n",
    "* [Модуль 8 Регулярные выражения](#Модуль-8-Регулярные-выражения)\n",
    "* [Регулярное выражение](#Регулярное-выражение)\n",
    "* [Синтаксис шаблонов](#Синтаксис-шаблонов)\n",
    "* [Флаги](#Флаги)\n",
    "* [Методы модуля re](#Методы-модуля-re)\n",
    "* [Объекты MatchObject](#Объекты-MatchObject)\n",
    "* [Пример](#Пример)\n",
    "* [Модуль 9 Элементы функционального программирования](#Модуль-9-Элементы-функционального-программирования)\n",
    "* [Функции как объекты](#Функции-как-объекты)\n",
    "* [Lambda выражение](#Lambda-выражение)\n",
    "* [Функциональные функции](#Функциональные-функции)\n",
    "* [Функция map()](#Функция-map())\n",
    "* [Функция filter()](#Функция-filter())\n",
    "* [Функция reduce()](#Функция-reduce())\n",
    "* [Функция zip()](#Функция-zip())\n",
    "* [Замыкания](#Замыкания)\n",
    "* [Декораторы](#Декораторы)\n",
    "* [Модуль functools](#Модуль-functools)\n",
    "* [Модуль 10 Практическая работа 2](#Модуль-10-Практическая-работа-2)\n",
    "\n"
   ]
  },
  {
   "cell_type": "markdown",
   "metadata": {},
   "source": [
    "##### 1\n"
   ]
  }
 ],
 "metadata": {
  "kernelspec": {
   "display_name": "Python 3",
   "language": "python",
   "name": "python3"
  },
  "language_info": {
   "codemirror_mode": {
    "name": "ipython",
    "version": 3
   },
   "file_extension": ".py",
   "mimetype": "text/x-python",
   "name": "python",
   "nbconvert_exporter": "python",
   "pygments_lexer": "ipython3",
   "version": "3.6.6"
  }
 },
 "nbformat": 4,
 "nbformat_minor": 2
}
