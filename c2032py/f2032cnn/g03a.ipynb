{
 "metadata": {
  "language_info": {
   "codemirror_mode": {
    "name": "ipython",
    "version": 3
   },
   "file_extension": ".py",
   "mimetype": "text/x-python",
   "name": "python",
   "nbconvert_exporter": "python",
   "pygments_lexer": "ipython3",
   "version": "3.8.5"
  },
  "orig_nbformat": 2,
  "kernelspec": {
   "name": "python3",
   "display_name": "Python 3.8.5 64-bit ('base': conda)"
  },
  "interpreter": {
   "hash": "b3ba2566441a7c06988d0923437866b63cedc61552a5af99d1f4fb67d367b25f"
  }
 },
 "nbformat": 4,
 "nbformat_minor": 2,
 "cells": [
  {
   "cell_type": "code",
   "execution_count": 7,
   "source": [
    "import re\r\n",
    "import json\r\n",
    "from google_trans_new import google_translator  \r\n",
    "from deep_translator import GoogleTranslator as google_translator\r\n",
    "\r\n",
    "translator = google_translator(source='auto', target='ru')  \r\n",
    "\r\n",
    "'''\r\n",
    "\r\n",
    "'''\r\n",
    "\r\n",
    "\r\n",
    "class Lines:\r\n",
    "    name = ''\r\n",
    "    nameWrite = ''\r\n",
    "    lines = []\r\n",
    "    rusEns = []\r\n",
    "    textJson = ''\r\n",
    "\r\n",
    "    def __init__(self, name):\r\n",
    "        self.name = name\r\n",
    "        self.nextName(self.name)\r\n",
    "\r\n",
    "    def makeTextJson(self):\r\n",
    "        self.translateList()\r\n",
    "        ljson = []\r\n",
    "        text = ''\r\n",
    "        obj1 = { \"ru\": '', \"en\": ''}\r\n",
    "\r\n",
    "\r\n",
    "        for e in self.rusEns:    \r\n",
    "            obj = obj1.copy()\r\n",
    "            obj['ru'] = e[1]\r\n",
    "            obj['en'] = e[0]\r\n",
    "            # print(e[0])\r\n",
    "            ljson.append(obj)\r\n",
    "        \r\n",
    "\r\n",
    "        self.textJson = json.dumps([ob for ob in ljson], indent=2, ensure_ascii=False)\r\n",
    "        \r\n",
    "\r\n",
    "        \r\n",
    "\r\n",
    "\r\n",
    "\r\n",
    "        \r\n",
    "\r\n",
    "        pass\r\n",
    "\r\n",
    "    def translateList(self):\r\n",
    "        l = self.lines\r\n",
    "        ll = self.rusEns\r\n",
    "        l1 = list(map(lambda x: x.replace('.', '') + '.', l))\r\n",
    "        text = '\\n\\n'.join(l1)\r\n",
    "        # print(text)\r\n",
    "        # textRu = translator.translate(text, lang_tgt='ru')\r\n",
    "        textRu = translator.translate(text)\r\n",
    "        # lru = textRu.split('.')\r\n",
    "        lru = re.split(r'[\\.\\?\\!]', textRu)\r\n",
    "        count = min(len(l), len(lru))\r\n",
    "        for i in range(count):\r\n",
    "            ll.append([self.addBreak(l[i]), lru[i].strip()])\r\n",
    "\r\n",
    "\r\n",
    "        pass\r\n",
    "\r\n",
    "\r\n",
    "    def nextName(self, name):\r\n",
    "        '''\r\n",
    "        c2022t.txt => c2022json.txt\r\n",
    "        '''\r\n",
    "        name = self.name\r\n",
    "        name2 = 'c1022json.txt'\r\n",
    "        match = re.search(r'(^\\w\\d\\d\\d\\d)[a-zA-Z]+', name)\r\n",
    "        if match and len(match.groups()) > 0:\r\n",
    "            name2 = name.replace(match[0], match.groups()[0] + 'json')\r\n",
    "        self.nameWrite = name2\r\n",
    "\r\n",
    "    def read(self):\r\n",
    "        with open(self.name, 'r', encoding='utf8') as file:\r\n",
    "           for line in file:\r\n",
    "                 line2 = line.strip()\r\n",
    "                 line2 = re.sub(\"[.,?!]\", '', line2)\r\n",
    "                 len(line2) == 0 or self.lines.append(line2)\r\n",
    "\r\n",
    "    def write(self, text):\r\n",
    "        with open(self.nameWrite, 'w', encoding='utf8') as file:\r\n",
    "            file.write(text)\r\n",
    "\r\n",
    "    def writeTo(self, name, text):\r\n",
    "        with open(name, 'w', encoding='utf8') as file:\r\n",
    "            file.write(text)\r\n",
    "\r\n",
    "\r\n",
    "    def addBreak(self, text):\r\n",
    "        '''\r\n",
    "        doesn't => does n't\r\n",
    "        '''\r\n",
    "        # text1 = re.sub(\"n't\",  \" n't\", text)\r\n",
    "        text2 = re.sub(\"[.,?!]\", '', text)\r\n",
    "        return text2\r\n",
    "\r\n",
    "\r\n",
    "\r\n",
    "    pass\r\n",
    "\r\n",
    "\r\n",
    "lines = Lines('c5022m.txt')\r\n",
    "lines.read()\r\n",
    "lines.makeTextJson()\r\n",
    "\r\n",
    "lines.write(lines.textJson)\r\n",
    "\r\n",
    "# print(lines.lines)\r\n",
    "\r\n",
    "\r\n"
   ],
   "outputs": [],
   "metadata": {}
  },
  {
   "cell_type": "code",
   "execution_count": 57,
   "source": [
    "from googletrans import Translator\r\n",
    "translator = Translator()\r\n",
    "# result = translator.translate('Mikä on nimesi', src='fi', target='ru')\r\n",
    "\r\n"
   ],
   "outputs": [],
   "metadata": {}
  },
  {
   "cell_type": "code",
   "execution_count": 3,
   "source": [
    "from deep_translator import GoogleTranslator\r\n",
    "to_translate = 'I want to translate this text'\r\n",
    "translated = GoogleTranslator(source='auto', target='ru').translate(to_translate)\r\n",
    "print(translated)\r\n"
   ],
   "outputs": [
    {
     "output_type": "stream",
     "name": "stdout",
     "text": [
      "Я хочу перевести это\n"
     ]
    }
   ],
   "metadata": {}
  },
  {
   "cell_type": "code",
   "execution_count": 55,
   "source": [
    "!python --version\r\n",
    "# !pip install deep-translator"
   ],
   "outputs": [
    {
     "output_type": "stream",
     "name": "stdout",
     "text": [
      "Python 3.8.5\n"
     ]
    }
   ],
   "metadata": {}
  },
  {
   "cell_type": "markdown",
   "source": [
    "[deep_translator](https://medium.com/analytics-vidhya/how-to-translate-text-with-python-9d203139dcf5)  "
   ],
   "metadata": {}
  }
 ]
}