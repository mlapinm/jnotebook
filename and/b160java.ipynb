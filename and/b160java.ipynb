{
 "cells": [
  {
   "cell_type": "markdown",
   "metadata": {},
   "source": [
    "[b160 ”рок Java 158: ѕочему нет множественного наследовани¤ в java](#b160-”рок-Java-158:-ѕочему-нет-множественного-наследовани¤-в-java)  \n",
    "[b161 ”рок Java 159: —татическа¤ инициализаци¤](#b161-”рок-Java-159:-—татическа¤-инициализаци¤)  \n",
    "[b162 ”рок Java 160: Final](#b162-”рок-Java-160:-Final)  \n",
    "[b163 ”рок Java 161: Enum подробнее](#b163-”рок-Java-161:-Enum-подробнее)  \n",
    "[b164 ”рок Java 162: Static Inner Classes](#b164-”рок-Java-162:-Static-Inner-Classes)  \n",
    "[b165 ”рок Java 163: Inner classes](#b165-”рок-Java-163:-Inner-classes)  \n",
    "[b166 ”рок Java 164: Local classes](#b166-”рок-Java-164:-Local-classes)  \n",
    "[b167 ”рок Java 165: »нтерфейсы подробнее](#b167-”рок-Java-165:-»нтерфейсы-подробнее)  \n",
    "[b168 ”рок Java 166 Try с ресурсами и AutoClosable](#b168-”рок-Java-166-Try-с-ресурсами-и-AutoClosable)  \n",
    "[b169 ”рок Java 167: ќтношени¤ между классами is A и Has A](#b169-”рок-Java-167:-ќтношени¤-между-классами-is-A-и-Has-A)  \n",
    "[b170 ”рок Java 168: Cohesion и Coupling](#b170-”рок-Java-168:-Cohesion-и-Coupling)  \n",
    "[b171 ”рок Java 169: –абота с файлами и стримы](#b171-”рок-Java-169:-–абота-с-файлами-и-стримы)  \n",
    "[b172 ”рок Java 170: классы Path и Files введенные в Java 7](#b172-”рок-Java-170:-классы-Path-и-Files-введенные-в-Java-7)  \n",
    "[b173 ”рок Java 171: Scanner и PrintWriter](#b173-”рок-Java-171:-Scanner-и-PrintWriter)  \n",
    "[b174 ”рок Java 172: Xml 1: Dom подход](#b174-”рок-Java-172:-Xml-1:-Dom-подход)  \n",
    "[b175 ”рок Java 173: Xml 2: Sax подход](#b175-”рок-Java-173:-Xml-2:-Sax-подход)  \n",
    "[b176 ”рок Java 174: Xml 3: —оздание xml, DOM поход](#b176-”рок-Java-174:-Xml-3:-—оздание-xml,-DOM-поход)  \n",
    "[b177 ”рок Java 175: XML 4: —оздание XML, SAX подход](#b177-”рок-Java-175:-XML-4:-—оздание-XML,-SAX-подход)  \n",
    "[b178 ”рок Java 176: Xml 5: XPath и работа с XML](#b178-”рок-Java-176:-Xml-5:-XPath-и-работа-с-XML)  \n",
    "[b179 ”рок Java 177: —ети 1: как работает сеть](#b179-”рок-Java-177:-—ети-1:-как-работает-сеть)  \n"
   ]
  },
  {
   "cell_type": "markdown",
   "metadata": {},
   "source": [
    "#### b160 ”рок Java 158: ѕочему нет множественного наследовани¤ в java  \n",
    "#### b161 ”рок Java 159: —татическа¤ инициализаци¤  \n",
    "#### b162 ”рок Java 160: Final  \n",
    "#### b163 ”рок Java 161: Enum подробнее  \n",
    "#### b164 ”рок Java 162: Static Inner Classes  \n",
    "#### b165 ”рок Java 163: Inner classes  \n",
    "#### b166 ”рок Java 164: Local classes  \n",
    "#### b167 ”рок Java 165: »нтерфейсы подробнее  \n",
    "#### b168 ”рок Java 166 Try с ресурсами и AutoClosable  \n",
    "#### b169 ”рок Java 167: ќтношени¤ между классами is A и Has A  \n",
    "#### b170 ”рок Java 168: Cohesion и Coupling  \n",
    "#### b171 ”рок Java 169: –абота с файлами и стримы  \n",
    "#### b172 ”рок Java 170: классы Path и Files введенные в Java 7  \n",
    "#### b173 ”рок Java 171: Scanner и PrintWriter  \n",
    "#### b174 ”рок Java 172: Xml 1: Dom подход  \n",
    "#### b175 ”рок Java 173: Xml 2: Sax подход  \n",
    "#### b176 ”рок Java 174: Xml 3: —оздание xml, DOM поход  \n",
    "#### b177 ”рок Java 175: XML 4: —оздание XML, SAX подход  \n",
    "#### b178 ”рок Java 176: Xml 5: XPath и работа с XML  \n",
    "#### b179 ”рок Java 177: —ети 1: как работает сеть  \n"
   ]
  },
  {
   "cell_type": "markdown",
   "metadata": {},
   "source": []
  },
  {
   "cell_type": "markdown",
   "metadata": {},
   "source": [
    "[]()  \n",
    "[]()  \n",
    "[]()  \n",
    "[]()  \n",
    "[Уроки по Java](https://www.youtube.com/watch?v=lmnVGd3sL48&list=PL786bPIlqEjRDXpAKYbzpdTaOYsWyjtCX&index=160) "
   ]
  },
  {
   "cell_type": "markdown",
   "metadata": {},
   "source": [
    "[]()  \n",
    "[]()  \n",
    "[]()  \n",
    "[]()  \n",
    "[]()  \n",
    "```\n",
    "\n",
    "```"
   ]
  }
 ],
 "metadata": {
  "kernelspec": {
   "display_name": "Python 3",
   "language": "python",
   "name": "python3"
  },
  "language_info": {
   "codemirror_mode": {
    "name": "ipython",
    "version": 3
   },
   "file_extension": ".py",
   "mimetype": "text/x-python",
   "name": "python",
   "nbconvert_exporter": "python",
   "pygments_lexer": "ipython3",
   "version": "3.7.4"
  }
 },
 "nbformat": 4,
 "nbformat_minor": 2
}
