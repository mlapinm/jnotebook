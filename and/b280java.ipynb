{
 "cells": [
  {
   "cell_type": "markdown",
   "metadata": {},
   "source": [
    "[b280 ”рок Java 270: Patterns 3: Abstract Factory](#b280-”рок-Java-270:-Patterns-3:-Abstract-Factory)  \n",
    "[b281 ”рок Java 271: Patterns 4: Factory Method](#b281-”рок-Java-271:-Patterns-4:-Factory-Method)  \n",
    "[b282 ”рок Java 272: Patterns 5: Singelton](#b282-”рок-Java-272:-Patterns-5:-Singelton)  \n",
    "[b283 ”рок Java 273: Patterns 6: Builder](#b283-”рок-Java-273:-Patterns-6:-Builder)  \n",
    "[b284 ”рок Java 274: Patterns 7: Prototype](#b284-”рок-Java-274:-Patterns-7:-Prototype)  \n",
    "[b285 ”рок Java 275: Patterns 8: Object Pool](#b285-”рок-Java-275:-Patterns-8:-Object-Pool)  \n",
    "[b286 ”рок Java 276: Patterns 9: Adapter](#b286-”рок-Java-276:-Patterns-9:-Adapter)  \n",
    "[b287 ”рок Java 277: Patterns 10: Bridge](#b287-”рок-Java-277:-Patterns-10:-Bridge)  \n",
    "[b288 ”рок Java 278: Patterns 11: Filter](#b288-”рок-Java-278:-Patterns-11:-Filter)  \n",
    "[b289 ”рок Java 279: Patterns 12: Composite](#b289-”рок-Java-279:-Patterns-12:-Composite)  \n",
    "[b290 ”рок Java 280: Pattern 13: Decorator](#b290-”рок-Java-280:-Pattern-13:-Decorator)  \n",
    "[b291 ”рок Java 281: Patterns 14: Facade](#b291-”рок-Java-281:-Patterns-14:-Facade)  \n",
    "[b292 ”рок Java 282: Pat 15: FlyWeight](#b292-”рок-Java-282:-Pat-15:-FlyWeight)  \n",
    "[b293 ”рок Java 283: Patterns 16: Proxy](#b293-”рок-Java-283:-Patterns-16:-Proxy)  \n",
    "[b294 ”рок Java 284: Patterns 17: Chain Of Responsibility](#b294-”рок-Java-284:-Patterns-17:-Chain-Of-Responsibility)  \n",
    "[b295 ”рок Java 285: Patterns 18: Command](#b295-”рок-Java-285:-Patterns-18:-Command)  \n",
    "[b296 ”рок Java 286: Patterns 19: Interpreter](#b296-”рок-Java-286:-Patterns-19:-Interpreter)  \n",
    "[b297 ”рок Java 287: Patterns 20: Iterator](#b297-”рок-Java-287:-Patterns-20:-Iterator)  \n",
    "[b298 ”рок Java 288: Patterns 21: Mediator](#b298-”рок-Java-288:-Patterns-21:-Mediator)  \n",
    "[b299 ”рок Java 289: Patterns 22: Momento](#b299-”рок-Java-289:-Patterns-22:-Momento)  "
   ]
  },
  {
   "cell_type": "markdown",
   "metadata": {},
   "source": [
    "#### b280 ”рок Java 270: Patterns 3: Abstract Factory  \n"
   ]
  },
  {
   "cell_type": "markdown",
   "metadata": {},
   "source": [
    "<details><pre>\n",
    "package patterns.creational;\n",
    "public class AbstractFactoryLesson {\n",
    "    public static void main(String[] args) {\n",
    "        Factory carFactory = new AbstractFactory().createFactory(&quot;Car&quot;);\n",
    "        Factory tankFactory = new AbstractFactory().createFactory(&quot;Tank&quot;);\n",
    "        Car toyota = carFactory.createCar(&quot;Toyota&quot;);\n",
    "        Car audi = carFactory.createCar(&quot;Audi&quot;);\n",
    "        toyota.drive();\n",
    "        audi.drive();\n",
    "        Tank t51 = tankFactory.createTank(&quot;t51&quot;);\n",
    "        Tank t52 = tankFactory.createTank(&quot;t52&quot;);\n",
    "        t51.drive();\n",
    "        t52.drive();\n",
    "    }\n",
    "}\n",
    "interface Car {\n",
    "    void drive();\n",
    "}\n",
    "class Toyota implements Car {\n",
    "    @Override\n",
    "    public void drive() {\n",
    "        System.out.println(&quot;drive Toyota&quot;);\n",
    "    }\n",
    "}\n",
    "class Audi implements Car {\n",
    "    @Override\n",
    "    public void drive() {\n",
    "        System.out.println(&quot;drive Audi&quot;);\n",
    "    }\n",
    "}\n",
    "class CarFactory implements Factory {\n",
    "    public Car createCar(String typeOfCar) {\n",
    "        switch (typeOfCar) {\n",
    "            case &quot;Toyota&quot; : return new Toyota();\n",
    "            case &quot;Audi&quot;: return new Audi();\n",
    "            default: return null;\n",
    "        }\n",
    "    }\n",
    "    @Override\n",
    "    public Tank createTank(String typeOfTank) {\n",
    "        return null;\n",
    "    }\n",
    "}\n",
    "interface Tank {\n",
    "    void drive();\n",
    "}\n",
    "class T51 implements Tank {\n",
    "    @Override\n",
    "    public void drive() {\n",
    "        System.out.println(&quot;drive t51&quot;);\n",
    "    }\n",
    "}\n",
    "class T52 implements Tank {\n",
    "    @Override\n",
    "    public void drive() {\n",
    "        System.out.println(&quot;drive t52&quot;);\n",
    "    }\n",
    "}\n",
    "class TankFactory implements Factory {\n",
    "    public Tank createTank(String typeOfCar) {\n",
    "        switch (typeOfCar) {\n",
    "            case &quot;t51&quot; : return new T51();\n",
    "            case &quot;t52&quot;: return new T52();\n",
    "            default: return null;\n",
    "        }\n",
    "    }\n",
    "    @Override\n",
    "    public Car createCar(String typeOfCar) {\n",
    "        return null;\n",
    "    }\n",
    "}\n",
    "interface Factory {\n",
    "    Car createCar(String typeOfCar);\n",
    "    Tank createTank(String typeOfTank);\n",
    "}\n",
    "class AbstractFactory {\n",
    "    Factory createFactory(String typeOfFactory) {\n",
    "        switch (typeOfFactory) {\n",
    "            case &quot;Car&quot; : return new CarFactory();\n",
    "            case &quot;Tank&quot; : return new TankFactory();\n",
    "            default: return null;\n",
    "        }\n",
    "    }\n",
    "}\n",
    "</pre></details>"
   ]
  },
  {
   "cell_type": "markdown",
   "metadata": {},
   "source": [
    "#### b281 ”рок Java 271: Patterns 4: Factory Method  \n"
   ]
  },
  {
   "cell_type": "markdown",
   "metadata": {},
   "source": [
    "<details><pre>\n",
    "package patterns.creational;\n",
    "public class FactoryMehodLesson {\n",
    "    public static void main(String[] args) {\n",
    "        Person person = Person.create();\n",
    "    }\n",
    "}\n",
    "class Person {\n",
    "    private Person() {}\n",
    "    public static Person create() {\n",
    "        return new Person();\n",
    "    }\n",
    "}\n",
    "</pre></details>"
   ]
  },
  {
   "cell_type": "markdown",
   "metadata": {},
   "source": [
    "#### b282 ”рок Java 272: Patterns 5: Singelton  \n"
   ]
  },
  {
   "cell_type": "markdown",
   "metadata": {},
   "source": [
    "<details><pre>\n",
    "package patterns.creational;\n",
    "public class SingeltonLesson {\n",
    "    public static void main(String[] args) {\n",
    "        Singelton singelton = Singelton.getInstance();\n",
    "    }\n",
    "}\n",
    "class Singelton {\n",
    "    static Singelton singelton = new Singelton();\n",
    "    private Singelton() {\n",
    "    }\n",
    "    public static Singelton getInstance() {\n",
    "        return singelton;\n",
    "    }\n",
    "}\n",
    "</pre></details>"
   ]
  },
  {
   "cell_type": "markdown",
   "metadata": {},
   "source": [
    "#### b283 ”рок Java 273: Patterns 6: Builder  \n"
   ]
  },
  {
   "cell_type": "markdown",
   "metadata": {},
   "source": [
    "<details><pre>\n",
    "package patterns.creational;\n",
    "//Audi\n",
    "//black\n",
    "//300\n",
    "public class BuilderLesson {\n",
    "    public static void main(String[] args) {\n",
    "        SportCar sportCar = new SportCar.Builder(&quot;Audi&quot;).setMaxSpeed(300).build();\n",
    "        System.out.println(sportCar.getName());\n",
    "        System.out.println(sportCar.getColor());\n",
    "        System.out.println(sportCar.getMaxSpeed());\n",
    "    }\n",
    "}\n",
    "class SportCar {\n",
    "    private String name;\n",
    "    private String color;\n",
    "    private int maxSpeed;\n",
    "    public String getName() {\n",
    "        return name;\n",
    "    }\n",
    "    public String getColor() {\n",
    "        return color;\n",
    "    }\n",
    "    public int getMaxSpeed() {\n",
    "        return maxSpeed;\n",
    "    }\n",
    "    private SportCar(Builder builder) {\n",
    "        this.name = builder.name;\n",
    "        this.color = builder.color;\n",
    "        this.maxSpeed = builder.maxSpeed;\n",
    "    }\n",
    "    static class Builder {\n",
    "        private String name;\n",
    "        private String color=&quot;black&quot;;\n",
    "        private int maxSpeed;\n",
    "        public Builder(String name) {\n",
    "            this.name = name;\n",
    "        }\n",
    "        public Builder setColor(String color) {\n",
    "            this.color = color;\n",
    "            return this;\n",
    "        }\n",
    "        public Builder setMaxSpeed(int maxSpeed) {\n",
    "            this.maxSpeed = maxSpeed;\n",
    "            return this;\n",
    "        }\n",
    "        public SportCar build() {\n",
    "            return new SportCar(this);\n",
    "        }\n",
    "    }\n",
    "}\n",
    "</pre></details>"
   ]
  },
  {
   "cell_type": "markdown",
   "metadata": {},
   "source": [
    "#### b284 ”рок Java 274: Patterns 7: Prototype  \n"
   ]
  },
  {
   "cell_type": "markdown",
   "metadata": {},
   "source": [
    "<details><pre>\n",
    "package patterns.creational;\n",
    "public class PrototypeLesson {\n",
    "    public static void main(String[] args) throws CloneNotSupportedException {\n",
    "        Cash cash = new Cash();\n",
    "        cash.setStudent(new Student());\n",
    "        Student student = cash.getStudent();\n",
    "    }\n",
    "}\n",
    "class Student implements Cloneable {\n",
    "    @Override\n",
    "    public Student clone() throws CloneNotSupportedException {\n",
    "        return (Student)super.clone();\n",
    "    }\n",
    "}\n",
    "class Cash {\n",
    "    private Student student;\n",
    "    public Student getStudent() throws CloneNotSupportedException {\n",
    "        return student.clone();\n",
    "    }\n",
    "    public void setStudent(Student student) {\n",
    "        this.student = student;\n",
    "    }\n",
    "}\n",
    "</pre></details>"
   ]
  },
  {
   "cell_type": "markdown",
   "metadata": {},
   "source": [
    "#### b285 ”рок Java 275: Patterns 8: Object Pool  \n"
   ]
  },
  {
   "cell_type": "markdown",
   "metadata": {},
   "source": [
    "<details><pre>\n",
    "package patterns.creational;\n",
    "import java.util.ArrayList;\n",
    "import java.util.List;\n",
    "//free:0, used:0\n",
    "//free:1, used:0\n",
    "//free:2, used:0\n",
    "public class ObjectPoolLesson {\n",
    "    public static void main(String[] args) {\n",
    "        ObjectPool objectPool = new ObjectPool();\n",
    "        System.out.println(&quot;free:&quot; + objectPool.free.size()\n",
    "                +&quot;, used:&quot;+objectPool.used.size());\n",
    "        PooledObject pooledObject = objectPool.getObject();\n",
    "        System.out.println(&quot;free:&quot; + objectPool.free.size()\n",
    "                +&quot;, used:&quot;+objectPool.used.size());\n",
    "        objectPool.releaseObject(pooledObject);\n",
    "        System.out.println(&quot;free:&quot; + objectPool.free.size()\n",
    "                +&quot;, used:&quot;+objectPool.used.size());\n",
    "    }\n",
    "}\n",
    "class PooledObject {}\n",
    "class ObjectPool {\n",
    "    List&lt;PooledObject&gt; free = new ArrayList&lt;&gt;();\n",
    "    List&lt;PooledObject&gt; used = new ArrayList&lt;&gt;();\n",
    "    public PooledObject getObject() {\n",
    "        if(free.isEmpty()) {\n",
    "            PooledObject pooledObject = new PooledObject();\n",
    "            used.add(pooledObject);\n",
    "            return pooledObject;\n",
    "        } else {\n",
    "            PooledObject pooledObject = free.get(0);\n",
    "            used.add(pooledObject);\n",
    "            free.remove(pooledObject);\n",
    "            return pooledObject;\n",
    "        }\n",
    "    }\n",
    "    public void releaseObject(PooledObject pooledObject) {\n",
    "        used.remove(pooledObject);\n",
    "        free.add(pooledObject);\n",
    "    }\n",
    "}\n",
    "</pre></details>"
   ]
  },
  {
   "cell_type": "markdown",
   "metadata": {},
   "source": [
    "#### b286 ”рок Java 276: Patterns 9: Adapter  \n"
   ]
  },
  {
   "cell_type": "markdown",
   "metadata": {},
   "source": [
    "##### Intent\n",
    "Convert the interface of a class into another interface clients expect. Adapter lets classes work together that couldn't otherwise because of incompatible interfaces."
   ]
  },
  {
   "cell_type": "markdown",
   "metadata": {},
   "source": [
    "<details><pre>\n",
    "package patterns.structural;\n",
    "//wash car\n",
    "//Track is clean\n",
    "public class AdapterLesson {\n",
    "    public static void main(String[] args) {\n",
    "        CarWash carWash = new CarWash();\n",
    "        carWash.washCar(new Audi());\n",
    "        carWash.washCar(new TrackWrap(new MyTrack()));\n",
    "    }\n",
    "}\n",
    "class TrackWrap implements Car {\n",
    "    Track track;\n",
    "    public TrackWrap(Track track) {\n",
    "        this.track = track;\n",
    "    }\n",
    "    @Override\n",
    "    public void wash() {\n",
    "        track.clean();\n",
    "    }\n",
    "}\n",
    "interface Track {\n",
    "    void clean();\n",
    "}\n",
    "class MyTrack implements Track {\n",
    "    @Override\n",
    "    public void clean() {\n",
    "        System.out.println(&quot;Track is clean&quot;);\n",
    "    }\n",
    "}\n",
    "interface Car {\n",
    "    void wash();\n",
    "}\n",
    "class Audi implements Car {\n",
    "    @Override\n",
    "    public void wash() {\n",
    "        System.out.println(&quot;wash car&quot;);\n",
    "    }\n",
    "}\n",
    "class CarWash {\n",
    "    public void washCar(Car car) {\n",
    "        car.wash();\n",
    "    }\n",
    "}\n",
    "</pre></details>"
   ]
  },
  {
   "cell_type": "markdown",
   "metadata": {},
   "source": [
    "#### b287 ”рок Java 277: Patterns 10: Bridge  \n",
    "[Шаблон Bridge Java](http://crypto.pp.ua/2010/06/shablon-bridge-java/)  \n",
    "избавление от трехуровневого наследования."
   ]
  },
  {
   "cell_type": "markdown",
   "metadata": {},
   "source": [
    "<details><pre>\n",
    "package patterns.structural;\n",
    "public class BridgeLesson {\n",
    "    public static void main(String[] args) {\n",
    "        ICar carToyota = new ToyotaCar(new CarBridge());\n",
    "        carToyota.drive();\n",
    "        carToyota.iBridge.drive();\n",
    "        ICar carAudi = new AudiCar(new CarBridge());\n",
    "        carAudi.drive();\n",
    "        carAudi.iBridge.drive();\n",
    "        System.out.println();\n",
    "        ICar toyotaTrack = new ToyotaTrack(new TrackBridge());\n",
    "        toyotaTrack.drive();\n",
    "        toyotaTrack.iBridge.drive();\n",
    "        //было TrackBridge стало CarBridge\n",
    "        ICar track = new TrackCar(new CarBridge());\n",
    "        track.drive();\n",
    "        track.iBridge.drive();\n",
    "    }\n",
    "}\n",
    "abstract class ICar {\n",
    "    IBridge iBridge;\n",
    "    public ICar(IBridge iBridge) {\n",
    "        this.iBridge = iBridge;\n",
    "    }\n",
    "    public abstract void drive();\n",
    "}\n",
    "abstract class ITrack {\n",
    "    IBridge iBridge;\n",
    "    public ITrack(IBridge iBridge) {\n",
    "        this.iBridge = iBridge;\n",
    "    }\n",
    "    abstract void drive();\n",
    "}\n",
    "interface IBridge {\n",
    "    void drive();\n",
    "}\n",
    "class CarBridge implements IBridge {\n",
    "    @Override\n",
    "    public void drive() {\n",
    "        System.out.println(&quot;drive car&quot;);\n",
    "    }\n",
    "}\n",
    "class TrackBridge implements IBridge {\n",
    "    @Override\n",
    "    public void drive() {\n",
    "        System.out.println(&quot;drive track&quot;);\n",
    "    }\n",
    "}\n",
    "class ToyotaCar extends ICar {\n",
    "    public ToyotaCar(IBridge iBridge) {\n",
    "        super(iBridge);\n",
    "    }\n",
    "    @Override\n",
    "    public void drive() {\n",
    "        System.out.println(&quot;drive toyota&quot;);\n",
    "    }\n",
    "}\n",
    "class AudiCar extends ICar {\n",
    "    public AudiCar(IBridge iBridge) {\n",
    "        super(iBridge);\n",
    "    }\n",
    "    @Override\n",
    "    public void drive() {\n",
    "        System.out.println(&quot;drive audi&quot;);\n",
    "    }\n",
    "}\n",
    "class ToyotaTrack extends ICar {\n",
    "    public ToyotaTrack(IBridge iBridge) {\n",
    "        super(iBridge);\n",
    "    }\n",
    "    @Override\n",
    "    public void drive() {\n",
    "        System.out.println(&quot;drive toyotaTrack&quot;);\n",
    "    }\n",
    "}\n",
    "class TrackCar extends ICar {\n",
    "    public TrackCar(IBridge iBridge) {\n",
    "        super(iBridge);\n",
    "    }\n",
    "    @Override\n",
    "    public void drive() {\n",
    "        System.out.println(&quot;drive trackCar&quot;);\n",
    "    }\n",
    "}\n",
    "</pre></details>"
   ]
  },
  {
   "cell_type": "markdown",
   "metadata": {},
   "source": [
    "#### b288 ”рок Java 278: Patterns 11: Filter  \n"
   ]
  },
  {
   "cell_type": "markdown",
   "metadata": {},
   "source": []
  },
  {
   "cell_type": "markdown",
   "metadata": {},
   "source": [
    "#### b289 ”рок Java 279: Patterns 12: Composite  \n"
   ]
  },
  {
   "cell_type": "markdown",
   "metadata": {},
   "source": [
    "Compose objects into tree structures to represent part-whole hierarchies. Composite lets clients treat individual objects and compositions of objects uniformly."
   ]
  },
  {
   "cell_type": "markdown",
   "metadata": {},
   "source": []
  },
  {
   "cell_type": "markdown",
   "metadata": {},
   "source": [
    "#### b290 ”рок Java 280: Pattern 13: Decorator  \n"
   ]
  },
  {
   "cell_type": "markdown",
   "metadata": {},
   "source": []
  },
  {
   "cell_type": "markdown",
   "metadata": {},
   "source": [
    "#### b291 ”рок Java 281: Patterns 14: Facade  \n"
   ]
  },
  {
   "cell_type": "markdown",
   "metadata": {},
   "source": []
  },
  {
   "cell_type": "markdown",
   "metadata": {},
   "source": [
    "#### b292 ”рок Java 282: Pat 15: FlyWeight  \n"
   ]
  },
  {
   "cell_type": "markdown",
   "metadata": {},
   "source": []
  },
  {
   "cell_type": "markdown",
   "metadata": {},
   "source": [
    "#### b293 ”рок Java 283: Patterns 16: Proxy  \n"
   ]
  },
  {
   "cell_type": "markdown",
   "metadata": {},
   "source": []
  },
  {
   "cell_type": "markdown",
   "metadata": {},
   "source": [
    "#### b294 ”рок Java 284: Patterns 17: Chain Of Responsibility  \n"
   ]
  },
  {
   "cell_type": "markdown",
   "metadata": {},
   "source": []
  },
  {
   "cell_type": "markdown",
   "metadata": {},
   "source": [
    "#### b295 ”рок Java 285: Patterns 18: Command  \n"
   ]
  },
  {
   "cell_type": "markdown",
   "metadata": {},
   "source": []
  },
  {
   "cell_type": "markdown",
   "metadata": {},
   "source": [
    "#### b296 ”рок Java 286: Patterns 19: Interpreter  \n"
   ]
  },
  {
   "cell_type": "markdown",
   "metadata": {},
   "source": []
  },
  {
   "cell_type": "markdown",
   "metadata": {},
   "source": [
    "#### b297 ”рок Java 287: Patterns 20: Iterator  \n"
   ]
  },
  {
   "cell_type": "markdown",
   "metadata": {},
   "source": [
    "Define an object that encapsulates how a set of objects interact. Meditor promotes loose coupling by keeping objects from referring toeach other explicitly, and it lets you vary their interaction independently."
   ]
  },
  {
   "cell_type": "markdown",
   "metadata": {},
   "source": []
  },
  {
   "cell_type": "markdown",
   "metadata": {},
   "source": [
    "#### b298 ”рок Java 288: Patterns 21: Mediator  \n"
   ]
  },
  {
   "cell_type": "markdown",
   "metadata": {},
   "source": []
  },
  {
   "cell_type": "markdown",
   "metadata": {},
   "source": [
    "#### b299 ”рок Java 289: Patterns 22: Momento  \n"
   ]
  },
  {
   "cell_type": "markdown",
   "metadata": {},
   "source": [
    "Without violating encapsulation, capture and externalize an object'sinternal state so that the object can be restored to this state later."
   ]
  },
  {
   "cell_type": "markdown",
   "metadata": {},
   "source": [
    "<details><pre>\n",
    "package patterns.behavioral;\n",
    "public class MomentoLesson {\n",
    "    public static void main(String[] args) {\n",
    "        Originator originator = new Originator();\n",
    "        CareTaker careTaker = new CareTaker();\n",
    "        originator.setState(&quot;one&quot;);\n",
    "        careTaker.createMomento(originator);\n",
    "        originator.setState(&quot;two&quot;);\n",
    "        System.out.println(originator.getState());\n",
    "        originator.setMomento(careTaker.getMomento());\n",
    "        System.out.println(originator.getState());\n",
    "    }\n",
    "}\n",
    "class CareTaker {\n",
    "    Momento momento;\n",
    "    void createMomento(Originator originator){\n",
    "        this.momento = originator.createMomento();\n",
    "    }\n",
    "    Momento getMomento(){\n",
    "        return momento;\n",
    "    }\n",
    "}\n",
    "class Originator {\n",
    "    String state;\n",
    "    public String getState() {\n",
    "        return state;\n",
    "    }\n",
    "    public void setState(String state) {\n",
    "        this.state = state;\n",
    "    }\n",
    "    Momento createMomento() {\n",
    "        return new Momento(state);\n",
    "    }\n",
    "    void setMomento(Momento momento) {\n",
    "        this.state = momento.getState();\n",
    "    }\n",
    "}\n",
    "class Momento {\n",
    "    String state;\n",
    "    Momento(String state) {\n",
    "        this.state = state;\n",
    "    }\n",
    "    public String getState() {\n",
    "        return state;\n",
    "    }\n",
    "}\n",
    "</pre></details>"
   ]
  },
  {
   "cell_type": "markdown",
   "metadata": {},
   "source": []
  },
  {
   "cell_type": "markdown",
   "metadata": {},
   "source": [
    "[]()  \n",
    "[]()  \n",
    "[]()  \n",
    "[]()  \n",
    "[Уроки по Java](https://www.youtube.com/watch?v=-PX_4nEE7p8&list=PL786bPIlqEjRDXpAKYbzpdTaOYsWyjtCX&index=280) "
   ]
  },
  {
   "cell_type": "markdown",
   "metadata": {},
   "source": [
    "[]()  \n",
    "[]()  \n",
    "[]()  \n",
    "[]()  \n",
    "[]()  \n",
    "```\n",
    "\n",
    "```"
   ]
  }
 ],
 "metadata": {
  "kernelspec": {
   "display_name": "Python 3",
   "language": "python",
   "name": "python3"
  },
  "language_info": {
   "codemirror_mode": {
    "name": "ipython",
    "version": 3
   },
   "file_extension": ".py",
   "mimetype": "text/x-python",
   "name": "python",
   "nbconvert_exporter": "python",
   "pygments_lexer": "ipython3",
   "version": "3.7.4"
  }
 },
 "nbformat": 4,
 "nbformat_minor": 2
}
