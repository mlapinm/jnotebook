{
 "cells": [
  {
   "cell_type": "markdown",
   "metadata": {},
   "source": [
    "[b320 ”рок Java 310: Generics 1: „то такое дженерики](#b320-”рок-Java-310:-Generics-1:-„то-такое-дженерики)  \n",
    "[b321 ”рок Java 311: Generic 2: Ќаследование Generics](#b321-”рок-Java-311:-Generic-2:-Ќаследование-Generics)  \n",
    "[b322 ”рок Java 312: Generic 3: Generic методы](#b322-”рок-Java-312:-Generic-3:-Generic-методы)  \n",
    "[b323 ”рок Java 313: Generic 4: Bounds](#b323-”рок-Java-313:-Generic-4:-Bounds)  \n",
    "[b324 ”рок Java 314: Generic 5: Whild Card](#b324-”рок-Java-314:-Generic-5:-Whild-Card)  \n",
    "[b325 ”рок Java 315: Generic 6: ќбобщеный и не обобщенный код](#b325-”рок-Java-315:-Generic-6:-ќбобщеный-и-не-обобщенный-код)  \n",
    "[b326 ”рок Java 316: ArrayList и LinkedList](#b326-”рок-Java-316:-ArrayList-и-LinkedList)  \n",
    "[b327 ”рок Java 317: Stack Queue Dequeue](#b327-”рок-Java-317:-Stack-Queue-Dequeue)  \n",
    "[b328 ”рок Java 318: Binary Search](#b328-”рок-Java-318:-Binary-Search)  \n",
    "[b329 ”рок Java 319: выбрасывание ошибок методами](#b329-”рок-Java-319:-выбрасывание-ошибок-методами)  \n",
    "[b330 ”рок Java 320: Ёксепшены и Pipeline оператор](#b330-”рок-Java-320:-Ёксепшены-и-Pipeline-оператор)  \n",
    "[b331 ”рок Java 321:  как AutoClosable работает](#b331-”рок-Java-321:-как-AutoClosable-работает)  \n",
    "[b332 ”рок Java 322: Assertions](#b332-”рок-Java-322:-Assertions)  \n",
    "[b333 ”рок Java 323: Immutable классы](#b333-”рок-Java-323:-Immutable-классы)  \n",
    "[b334 ”рок Java 324: ReadWrite Lock](#b334-”рок-Java-324:-ReadWrite-Lock)  \n",
    "[b335 ”рок Java 325: Java 8 p1: „то такое функциональное программирование](#b335-”рок-Java-325:-Java-8-p1:-„то-такое-функциональное-программирование)  \n",
    "[b336 ”рок 326: Java 8 p2: Ћ¤мбда](#b336-”рок-326:-Java-8-p2:-Ћ¤мбда)  \n",
    "[b337 ”рок 327: Java 8 p3: функциональные интерфейсы](#b337-”рок-327:-Java-8-p3:-функциональные-интерфейсы)  \n",
    "[b338 ”рок 328: Java 8 p4: Streams](#b338-”рок-328:-Java-8-p4:-Streams)  \n",
    "[b339 ”рок 329: Java 8 p5: default и static методы](#b339-”рок-329:-Java-8-p5:-default-и-static-методы)  \n",
    "[b340 ”рок 330: Java 8 p6: Optional](#b340-”рок-330:-Java-8-p6:-Optional)  \n",
    "[b341 ”рок Java 331: Java 8 p7: Method References](#b341-”рок-Java-331:-Java-8-p7:-Method-References)  \n",
    "[b342 ”рок Java 332: Java 8 p8: Collector](#b342-”рок-Java-332:-Java-8-p8:-Collector)  \n",
    "[b343 ”рок 333: Java 8 p9: Parallel](#b343-”рок-333:-Java-8-p9:-Parallel)  \n",
    "[b344 ”рок 334: Java 8 p10: LocalDate](#b344-”рок-334:-Java-8-p10:-LocalDate)  \n",
    "[b345 ”рок 335: Java 8 p11: как работают л¤мбда выражени¤](#b345-”рок-335:-Java-8-p11:-как-работают-л¤мбда-выражени¤)  \n",
    "[b346 ”рок 336: ѕереопределение Equals и HashCode](#b346-”рок-336:-ѕереопределение-Equals-и-HashCode)  \n",
    "[b347 ”рок Java 337: Clonnable подробнее](#b347-”рок-Java-337:-Clonnable-подробнее)  \n",
    "[b348 ”рок Java 338: ѕул оберток над примитивами.](#b348-”рок-Java-338:-ѕул-оберток-над-примитивами.)  \n",
    "[b349 ”рок Java 339: коллекции](#b349-”рок-Java-339:-коллекции)  \n",
    "[b350 ”рок Java 340: List](#b350-”рок-Java-340:-List)  \n",
    "[b351 ”рок Java 341: Set](#b351-”рок-Java-341:-Set)  \n",
    "[b352 ”рок Java 342: Queue](#b352-”рок-Java-342:-Queue)  \n",
    "[b353 ”рок Java 343: Maps](#b353-”рок-Java-343:-Maps)  \n",
    "[b354 ”рок Java 344: —ложность алгоритмов поиска по коллекции](#b354-”рок-Java-344:-—ложность-алгоритмов-поиска-по-коллекции)  \n",
    "[b355 ”рок Java 345: Concurrency package](#b355-”рок-Java-345:-Concurrency-package)  \n",
    "[b356 ”рок Java 346: Volatile и happens before](#b356-”рок-Java-346:-Volatile-и-happens-before)  \n",
    "[b357 ”рок Java 347: проблема double check](#b357-”рок-Java-347:-проблема-double-check)  \n",
    "[b358 ”рок Java 348: “ипы reference](#b358-”рок-Java-348:-“ипы-reference)  \n",
    "[b359 ”рок Java 349: ћодель пам¤ти Java и алогоритмы работы сборщиков муссора](#b359-”рок-Java-349:-ћодель-пам¤ти-Java-и-алогоритмы-работы-сборщиков-муссора)  \n"
   ]
  },
  {
   "cell_type": "markdown",
   "metadata": {},
   "source": [
    "#### b320 ”рок Java 310: Generics 1: „то такое дженерики  \n"
   ]
  },
  {
   "cell_type": "markdown",
   "metadata": {},
   "source": []
  },
  {
   "cell_type": "markdown",
   "metadata": {},
   "source": [
    "#### b321 ”рок Java 311: Generic 2: Ќаследование Generics  \n"
   ]
  },
  {
   "cell_type": "markdown",
   "metadata": {},
   "source": []
  },
  {
   "cell_type": "markdown",
   "metadata": {},
   "source": [
    "#### b322 ”рок Java 312: Generic 3: Generic методы  \n"
   ]
  },
  {
   "cell_type": "markdown",
   "metadata": {},
   "source": []
  },
  {
   "cell_type": "markdown",
   "metadata": {},
   "source": [
    "#### b323 ”рок Java 313: Generic 4: Bounds  \n"
   ]
  },
  {
   "cell_type": "markdown",
   "metadata": {},
   "source": []
  },
  {
   "cell_type": "markdown",
   "metadata": {},
   "source": [
    "#### b324 ”рок Java 314: Generic 5: Whild Card  \n"
   ]
  },
  {
   "cell_type": "markdown",
   "metadata": {},
   "source": []
  },
  {
   "cell_type": "markdown",
   "metadata": {},
   "source": [
    "#### b325 ”рок Java 315: Generic 6: ќбобщеный и не обобщенный код  \n"
   ]
  },
  {
   "cell_type": "markdown",
   "metadata": {},
   "source": []
  },
  {
   "cell_type": "markdown",
   "metadata": {},
   "source": [
    "#### b326 ”рок Java 316: ArrayList и LinkedList  \n"
   ]
  },
  {
   "cell_type": "markdown",
   "metadata": {},
   "source": []
  },
  {
   "cell_type": "markdown",
   "metadata": {},
   "source": [
    "#### b327 ”рок Java 317: Stack Queue Dequeue  \n"
   ]
  },
  {
   "cell_type": "markdown",
   "metadata": {},
   "source": []
  },
  {
   "cell_type": "markdown",
   "metadata": {},
   "source": [
    "#### b328 ”рок Java 318: Binary Search  \n"
   ]
  },
  {
   "cell_type": "markdown",
   "metadata": {},
   "source": []
  },
  {
   "cell_type": "markdown",
   "metadata": {},
   "source": [
    "#### b329 ”рок Java 319: выбрасывание ошибок методами  \n"
   ]
  },
  {
   "cell_type": "markdown",
   "metadata": {},
   "source": []
  },
  {
   "cell_type": "markdown",
   "metadata": {},
   "source": [
    "#### b330 ”рок Java 320: Ёксепшены и Pipeline оператор  \n"
   ]
  },
  {
   "cell_type": "markdown",
   "metadata": {},
   "source": []
  },
  {
   "cell_type": "markdown",
   "metadata": {},
   "source": [
    "#### b331 ”рок Java 321: как AutoClosable работает  \n"
   ]
  },
  {
   "cell_type": "markdown",
   "metadata": {},
   "source": []
  },
  {
   "cell_type": "markdown",
   "metadata": {},
   "source": [
    "#### b332 ”рок Java 322: Assertions  \n"
   ]
  },
  {
   "cell_type": "markdown",
   "metadata": {},
   "source": []
  },
  {
   "cell_type": "markdown",
   "metadata": {},
   "source": [
    "#### b333 ”рок Java 323: Immutable классы  \n"
   ]
  },
  {
   "cell_type": "markdown",
   "metadata": {},
   "source": []
  },
  {
   "cell_type": "markdown",
   "metadata": {},
   "source": [
    "#### b334 ”рок Java 324: ReadWrite Lock  \n"
   ]
  },
  {
   "cell_type": "markdown",
   "metadata": {},
   "source": []
  },
  {
   "cell_type": "markdown",
   "metadata": {},
   "source": [
    "#### b335 ”рок Java 325: Java 8 p1: „то такое функциональное программирование  \n"
   ]
  },
  {
   "cell_type": "markdown",
   "metadata": {},
   "source": []
  },
  {
   "cell_type": "markdown",
   "metadata": {},
   "source": [
    "#### b336 ”рок 326: Java 8 p2: Ћ¤мбда  \n"
   ]
  },
  {
   "cell_type": "markdown",
   "metadata": {},
   "source": [
    "<details><pre>\n",
    "package com.company.le01;\n",
    "public class Main {\n",
    "    public static void main(String[] args) throws Exception {\n",
    "        A a = () -&gt; System.out.println(&quot;aaa&quot;);\n",
    "        a.test();\n",
    "        B b = (x) -&gt;System.out.println(x);\n",
    "        b.test(&quot;xx&quot;);\n",
    "    }\n",
    "}\n",
    "interface A{\n",
    "    void test();\n",
    "}\n",
    "interface B{\n",
    "    void test(String s);\n",
    "}\n",
    "</pre></details>"
   ]
  },
  {
   "cell_type": "markdown",
   "metadata": {},
   "source": [
    "<details><pre>\n",
    "package java8;\n",
    "import java.awt.event.ActionEvent;\n",
    "import java.awt.event.ActionListener;\n",
    "public class LambdasLesson {\n",
    "    public static void main(String[] args) {\n",
    "        Runnable runnable = new Runnable() {\n",
    "            @Override\n",
    "            public void run() {\n",
    "                System.out.println(&quot;hello&quot;);\n",
    "            }\n",
    "        };\n",
    "        Runnable runnable2 = () -&gt; System.out.println(&quot;hello&quot;);\n",
    "        ActionListener actionListener = new ActionListener() {\n",
    "            @Override\n",
    "            public void actionPerformed(ActionEvent e) {\n",
    "                System.out.println(&quot;hello&quot;);\n",
    "            }\n",
    "        };\n",
    "        ActionListener actionListener2 = (x) -&gt; System.out.println(&quot;dd&quot;);\n",
    "        String s = &quot;hello&quot;;\n",
    "        ActionListener actionListener1 = (ActionEvent event) -&gt; {\n",
    "            System.out.println(s);\n",
    "        };\n",
    "        A a = () -&gt; System.out.println(&quot;a two hello&quot;);\n",
    "        a.two();\n",
    "    }\n",
    "}\n",
    "interface A {\n",
    "//    void one(int i);\n",
    "    void two();\n",
    "}\n",
    "</pre></details>"
   ]
  },
  {
   "cell_type": "markdown",
   "metadata": {},
   "source": [
    "#### b337 ”рок 327: Java 8 p3: функциональные интерфейсы  \n"
   ]
  },
  {
   "cell_type": "markdown",
   "metadata": {},
   "source": []
  },
  {
   "cell_type": "markdown",
   "metadata": {},
   "source": [
    "#### b338 ”рок 328: Java 8 p4: Streams  \n"
   ]
  },
  {
   "cell_type": "markdown",
   "metadata": {},
   "source": []
  },
  {
   "cell_type": "markdown",
   "metadata": {},
   "source": [
    "#### b339 ”рок 329: Java 8 p5: default и static методы  \n"
   ]
  },
  {
   "cell_type": "markdown",
   "metadata": {},
   "source": []
  },
  {
   "cell_type": "markdown",
   "metadata": {},
   "source": [
    "#### b340 ”рок 330: Java 8 p6: Optional  \n"
   ]
  },
  {
   "cell_type": "markdown",
   "metadata": {},
   "source": []
  },
  {
   "cell_type": "markdown",
   "metadata": {},
   "source": [
    "#### b341 ”рок Java 331: Java 8 p7: Method References  \n"
   ]
  },
  {
   "cell_type": "markdown",
   "metadata": {},
   "source": []
  },
  {
   "cell_type": "markdown",
   "metadata": {},
   "source": [
    "#### b342 ”рок Java 332: Java 8 p8: Collector  \n"
   ]
  },
  {
   "cell_type": "markdown",
   "metadata": {},
   "source": []
  },
  {
   "cell_type": "markdown",
   "metadata": {},
   "source": [
    "#### b343 ”рок 333: Java 8 p9: Parallel  \n"
   ]
  },
  {
   "cell_type": "markdown",
   "metadata": {},
   "source": []
  },
  {
   "cell_type": "markdown",
   "metadata": {},
   "source": [
    "#### b344 ”рок 334: Java 8 p10: LocalDate  \n"
   ]
  },
  {
   "cell_type": "markdown",
   "metadata": {},
   "source": []
  },
  {
   "cell_type": "markdown",
   "metadata": {},
   "source": [
    "#### b345 ”рок 335: Java 8 p11: как работают л¤мбда выражени¤  \n"
   ]
  },
  {
   "cell_type": "markdown",
   "metadata": {},
   "source": []
  },
  {
   "cell_type": "markdown",
   "metadata": {},
   "source": [
    "#### b346 ”рок 336: ѕереопределение Equals и HashCode  \n"
   ]
  },
  {
   "cell_type": "markdown",
   "metadata": {},
   "source": []
  },
  {
   "cell_type": "markdown",
   "metadata": {},
   "source": [
    "#### b347 ”рок Java 337: Clonnable подробнее  \n"
   ]
  },
  {
   "cell_type": "markdown",
   "metadata": {},
   "source": []
  },
  {
   "cell_type": "markdown",
   "metadata": {},
   "source": [
    "#### b348 ”рок Java 338: ѕул оберток над примитивами.  \n"
   ]
  },
  {
   "cell_type": "markdown",
   "metadata": {},
   "source": []
  },
  {
   "cell_type": "markdown",
   "metadata": {},
   "source": [
    "#### b349 ”рок Java 339: коллекции  \n"
   ]
  },
  {
   "cell_type": "markdown",
   "metadata": {},
   "source": []
  },
  {
   "cell_type": "markdown",
   "metadata": {},
   "source": [
    "#### b350 ”рок Java 340: List  \n"
   ]
  },
  {
   "cell_type": "markdown",
   "metadata": {},
   "source": []
  },
  {
   "cell_type": "markdown",
   "metadata": {},
   "source": [
    "#### b351 ”рок Java 341: Set  \n"
   ]
  },
  {
   "cell_type": "markdown",
   "metadata": {},
   "source": []
  },
  {
   "cell_type": "markdown",
   "metadata": {},
   "source": [
    "#### b352 ”рок Java 342: Queue  \n"
   ]
  },
  {
   "cell_type": "markdown",
   "metadata": {},
   "source": []
  },
  {
   "cell_type": "markdown",
   "metadata": {},
   "source": [
    "#### b353 ”рок Java 343: Maps  \n"
   ]
  },
  {
   "cell_type": "markdown",
   "metadata": {},
   "source": []
  },
  {
   "cell_type": "markdown",
   "metadata": {},
   "source": [
    "#### b354 ”рок Java 344: —ложность алгоритмов поиска по коллекции  \n"
   ]
  },
  {
   "cell_type": "markdown",
   "metadata": {},
   "source": []
  },
  {
   "cell_type": "markdown",
   "metadata": {},
   "source": [
    "#### b355 ”рок Java 345: Concurrency package  \n"
   ]
  },
  {
   "cell_type": "markdown",
   "metadata": {},
   "source": []
  },
  {
   "cell_type": "markdown",
   "metadata": {},
   "source": [
    "#### b356 ”рок Java 346: Volatile и happens before  \n"
   ]
  },
  {
   "cell_type": "markdown",
   "metadata": {},
   "source": []
  },
  {
   "cell_type": "markdown",
   "metadata": {},
   "source": [
    "#### b357 ”рок Java 347: проблема double check  \n"
   ]
  },
  {
   "cell_type": "markdown",
   "metadata": {},
   "source": []
  },
  {
   "cell_type": "markdown",
   "metadata": {},
   "source": [
    "#### b358 ”рок Java 348: “ипы reference  \n"
   ]
  },
  {
   "cell_type": "markdown",
   "metadata": {},
   "source": []
  },
  {
   "cell_type": "markdown",
   "metadata": {},
   "source": [
    "#### b359 ”рок Java 349: ћодель пам¤ти Java и алогоритмы работы сборщиков муссора  \n"
   ]
  },
  {
   "cell_type": "markdown",
   "metadata": {},
   "source": []
  },
  {
   "cell_type": "markdown",
   "metadata": {},
   "source": [
    "[]()  \n",
    "[]()  \n",
    "[]()  \n",
    "[]()  \n",
    "[]()  \n",
    "```\n",
    "\n",
    "```"
   ]
  }
 ],
 "metadata": {
  "kernelspec": {
   "display_name": "Python 3",
   "language": "python",
   "name": "python3"
  },
  "language_info": {
   "codemirror_mode": {
    "name": "ipython",
    "version": 3
   },
   "file_extension": ".py",
   "mimetype": "text/x-python",
   "name": "python",
   "nbconvert_exporter": "python",
   "pygments_lexer": "ipython3",
   "version": "3.7.4"
  }
 },
 "nbformat": 4,
 "nbformat_minor": 2
}
