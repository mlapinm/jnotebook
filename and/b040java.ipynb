{
 "cells": [
  {
   "cell_type": "markdown",
   "metadata": {},
   "source": [
    "[b40 ”рок по Java 40: ÷икл For](#b40-”рок-по-Java-40:-÷икл-For)  \n",
    "[b41 ”рок по Java 41: ”лучшенный цикл For](#b41-”рок-по-Java-41:-”лучшенный-цикл-For)  \n",
    "[b42 ”рок по Java 42: Exceptions - исключени¤](#b42-”рок-по-Java-42:-Exceptions---исключени¤)  \n",
    "[b43 ”рок по Java 43: ћеханизм Assertions](#b43-”рок-по-Java-43:-ћеханизм-Assertions)  \n",
    "[b44 ”рок по Java 44: StringBuilder](#b44-”рок-по-Java-44:-StringBuilder)  \n",
    "[b45 ”рок по Java 45: –абота с файлами и директори¤ми в Java](#b45-”рок-по-Java-45:-–абота-с-файлами-и-директори¤ми-в-Java)  \n",
    "[b46 ”рок по Java 46: —ериализаци¤](#b46-”рок-по-Java-46:-—ериализаци¤)  \n",
    "[b47 ”рок по Java 47: —ериализаци¤ наследуемых объектов](#b47-”рок-по-Java-47:-—ериализаци¤-наследуемых-объектов)  \n",
    "[b48 ”рок по Java 48: ƒаты, календари и врем¤.](#b48-”рок-по-Java-48:-ƒаты,-календари-и-врем¤.)  \n",
    "[b49 ”рок по Java 49: Equals and HashCode](#b49-”рок-по-Java-49:-Equals-and-HashCode)  \n",
    "[b50 ”рок по Java 50:  оллекции](#b50-урок-по-Java-50:-коллекции)  \n",
    "[b51 ”рок по Java 51: —ортировка коллекций и интерфейсы - Comparable и Comparator](#b51-”рок-по-Java-51:-—ортировка-коллекций-и-интерфейсы---Comparable-и-Comparator)  \n",
    "[b52 ”рок по Java 52: —писки - List](#b52-”рок-по-Java-52:-—писки---List)  \n",
    "[b53 ”рок по Java 53: ќчереди - Queue](#b53-”рок-по-Java-53:-ќчереди---Queue)  \n",
    "[b54 ”рок по Java 54: Maps](#b54-”рок-по-Java-54:-Maps)  \n",
    "[b55 ”рок по Java 55: Sets](#b55-”рок-по-Java-55:-Sets)  \n",
    "[^b56 ”рок по Java 56: Generics - обобщени¤](#b56-”рок-по-Java-56:-Generics---обобщени¤)  \n",
    "[b57 ”рок по Java 57: Inner Classes - ¬нутренние классы](#b57-”рок-по-Java-57:-Inner-Classes---¬нутренние-классы)  \n",
    "[b58 ”рок по Java 58: јнонимные классы](#b58-”рок-по-Java-58:-јнонимные-классы)  \n",
    "[b59 ”рок по Java 59:  лонирование объектов](#b59-”рок-по-Java-59:-клонирование-объектов)  "
   ]
  },
  {
   "cell_type": "markdown",
   "metadata": {},
   "source": [
    "#### b40 ”рок по Java 40: ÷икл For  \n"
   ]
  },
  {
   "cell_type": "markdown",
   "metadata": {},
   "source": [
    "```\n",
    "for(int i=0;i<5;i++){\n",
    "    System.out.print(\" \" + i);\n",
    "}// 0 1 2 3 4\n",
    "```"
   ]
  },
  {
   "cell_type": "markdown",
   "metadata": {},
   "source": [
    "#### b41 ”рок по Java 41: ”лучшенный цикл For  \n"
   ]
  },
  {
   "cell_type": "markdown",
   "metadata": {},
   "source": [
    "```\n",
    "int[] arr = {1,2,3};\n",
    "for(int i:arr){\n",
    "    System.out.print(\" \" + i);\n",
    "}//1 2 3\n",
    "```"
   ]
  },
  {
   "cell_type": "markdown",
   "metadata": {},
   "source": [
    "#### b42 ”рок по Java 42: Exceptions - исключени¤  \n"
   ]
  },
  {
   "cell_type": "markdown",
   "metadata": {},
   "source": [
    "- finally - всегда - закрывать открытые файлы...  \n",
    "- catch - может быть несколько\n",
    "- отлавливать сначала конкретные, а затем общие\n",
    "```\n",
    "```"
   ]
  },
  {
   "cell_type": "markdown",
   "metadata": {},
   "source": [
    "```\n",
    "int[] m = {1,2,3};\n",
    "try {\n",
    "    System.out.println(m[3]);\n",
    "}catch (Exception e){\n",
    "    System.out.println(e);\n",
    "    e.printStackTrace();\n",
    "}//java.lang.ArrayIndexOutOfBoundsException: 3\n",
    "//java.lang.ArrayIndexOutOfBoundsException: 3\n",
    "//at com.company.l01.Main.main(Main.java:14)\n",
    "```"
   ]
  },
  {
   "cell_type": "markdown",
   "metadata": {},
   "source": [
    "```\n",
    "throw new RuntimeException();\n",
    "//Exception in thread \"main\" java.lang.RuntimeException\n",
    "//\tat com.company.l01.Main.main(Main.java:20)\n",
    "throw new Error();\n",
    "//Exception in thread \"main\" java.lang.Error\n",
    "//\tat com.company.l01.Main.main(Main.java:23)\n",
    "System.exit(0);\n",
    "\n",
    "```"
   ]
  },
  {
   "cell_type": "markdown",
   "metadata": {},
   "source": [
    "```\n",
    "public class Main {\n",
    "    public static void main(String[] args) {\n",
    "        Main main = new Main();\n",
    "        try {\n",
    "            main.mMethod();\n",
    "        } catch (IOException e) {\n",
    "            e.printStackTrace();\n",
    "        }\n",
    "    }\n",
    "    void mMethod() throws IOException {\n",
    "        System.out.println(\"Method\");\n",
    "        throw new IOException();\n",
    "    }\n",
    "}\n",
    "\n",
    "java.io.IOException\n",
    "\tat com.company.l01.Main.mMethod(Main.java:20)\n",
    "\tat com.company.l01.Main.main(Main.java:13)\n",
    "Method\n",
    "\n",
    "```"
   ]
  },
  {
   "cell_type": "markdown",
   "metadata": {},
   "source": [
    "```\n",
    "public class Main {\n",
    "    public static void main(String[] args) {\n",
    "        Main main = new Main();\n",
    "            main.mMethod();\n",
    "    }\n",
    "    void mMethod() {\n",
    "        System.out.println(\"Method\");\n",
    "        throw new RuntimeException();\n",
    "    }\n",
    "}\n",
    "\n",
    "Exception in thread \"main\" java.lang.RuntimeException\n",
    "\tat com.company.l01.Main.mMethod(Main.java:17)\n",
    "\tat com.company.l01.Main.main(Main.java:12)\n",
    "Method\n",
    "```"
   ]
  },
  {
   "cell_type": "markdown",
   "metadata": {},
   "source": [
    "*checked*  \n",
    "- throw new Throwable();\n",
    "- throw new Exception();\n",
    "- throw new IOException();  \n",
    "*unchecked*  \n",
    "- throw new  Error();\n",
    "- throw new RuntimeException();\n",
    "  \n",
    "- java.lang.ArithmeticException: / by zero\n",
    "- java.lang.ArrayIndexOutOfBoundsException: 2  \n"
   ]
  },
  {
   "cell_type": "markdown",
   "metadata": {},
   "source": [
    "#### b43 ”рок по Java 43: ћеханизм Assertions  \n",
    "проверка определенных условий  \n",
    "-ea `VM option` `Configuration`  \n",
    "  \n",
    "javac Main.java  \n",
    "java -ea Main  \n",
    "```\n",
    "```"
   ]
  },
  {
   "cell_type": "markdown",
   "metadata": {},
   "source": [
    "assert (a>0); //a=-3\n",
    "```\n",
    "Exception in thread \"main\" java.lang.AssertionError\n",
    "\tat com.company.l01.Main.mMethod(Main.java:11)\n",
    "\tat com.company.l01.Main.main(Main.java:7)\n",
    "```"
   ]
  },
  {
   "cell_type": "markdown",
   "metadata": {},
   "source": [
    "```\n",
    "try {\n",
    "    assert (a>0);//a=-3\n",
    "}catch (AssertionError e){//Error - Throwable\n",
    "    System.out.println(\"eee\");\n",
    "    System.out.println(e);\n",
    "}\n",
    "        \n",
    "eee\n",
    "java.lang.AssertionError        \n",
    "```"
   ]
  },
  {
   "cell_type": "markdown",
   "metadata": {},
   "source": []
  },
  {
   "cell_type": "markdown",
   "metadata": {},
   "source": [
    "#### b44 ”рок по Java 44: StringBuilder  "
   ]
  },
  {
   "cell_type": "markdown",
   "metadata": {},
   "source": [
    "```\n",
    "String s = \"abc\";\n",
    "String s2 = s.concat(\"def\");\n",
    "\n",
    "System.out.println(s2);\n",
    "//abcdef\n",
    "```"
   ]
  },
  {
   "cell_type": "markdown",
   "metadata": {},
   "source": [
    "- StringBuilder\n",
    "- StringBuffer - для многопоточности, методы синхронизированы  \n",
    "```\n",
    "```"
   ]
  },
  {
   "cell_type": "markdown",
   "metadata": {},
   "source": [
    "```\n",
    "StringBuilder sb = new StringBuilder();\n",
    "for(int i=(int)'a';i<(int)'z'+1;i++){\n",
    "    sb.append((char)i);\n",
    "}//abcdefghijklmnopqrstuvwxyz\n",
    "```\n",
    "```\n",
    "for(int i=(int)'a';i<(int)'z'+1;i++){\n",
    "    System.out.print((char)i);\n",
    "}//abcdefghijklmnopqrstuvwxyz\n",
    "```"
   ]
  },
  {
   "cell_type": "markdown",
   "metadata": {},
   "source": [
    "```\n",
    "StringBuilder sb = new StringBuilder(\"abc\");\n",
    "sb.append(\"def\");\n",
    "sb.insert(3,\" ghi \");\n",
    "sb.append(\"jkl\");\n",
    "int i = sb.indexOf(\"jkl\");\n",
    "sb.delete(i,i+3);\n",
    "System.out.println(sb.toString()+ \", length= \" + sb.length());\n",
    "//abc ghi def, length= 11\n",
    "```"
   ]
  },
  {
   "cell_type": "markdown",
   "metadata": {},
   "source": [
    "#### b45 ”рок по Java 45: –абота с файлами и директори¤ми в Java  "
   ]
  },
  {
   "cell_type": "markdown",
   "metadata": {},
   "source": [
    "```\n",
    "File file = new File(\"temp\");\n",
    "file.mkdir();\n",
    "if(file.isDirectory()){\n",
    "    System.out.println(\"dir\");\n",
    "}\n",
    "if(file.isFile()){\n",
    "    System.out.println(\"file\");\n",
    "}\n",
    "if(file.exists()){\n",
    "    System.out.println(\"exist\");\n",
    "}\n",
    "System.out.println(file.getAbsolutePath());\n",
    "System.out.println(file.getPath());\n",
    "//dir\n",
    "//exist\n",
    "//D:\\programs\\android\\A02java\\temp\n",
    "//temp\n",
    "```"
   ]
  },
  {
   "cell_type": "markdown",
   "metadata": {},
   "source": [
    "```\n",
    "File file = new File(\"temp\");\n",
    "if(!file.exists()){\n",
    "    file.mkdir();\n",
    "}\n",
    "if(file.isDirectory()){\n",
    "    System.out.println(\"dir\");\n",
    "}\n",
    "if(file.isFile()){\n",
    "    System.out.println(\"file\");\n",
    "}//dir\n",
    "```"
   ]
  },
  {
   "cell_type": "markdown",
   "metadata": {},
   "source": [
    "```\n",
    "File file = new File(\"temp.txt\");\n",
    "if(!file.exists()){\n",
    "    try {\n",
    "        file.createNewFile();\n",
    "    } catch (IOException e) {\n",
    "        e.printStackTrace();\n",
    "    }\n",
    "}\n",
    "if(file.isDirectory()){\n",
    "    System.out.println(\"dir\");\n",
    "}\n",
    "if(file.isFile()){\n",
    "    System.out.println(\"file\");\n",
    "}//file\n",
    "```"
   ]
  },
  {
   "cell_type": "markdown",
   "metadata": {},
   "source": [
    "```\n",
    "File file = new File(\"temp.txt\");\n",
    "if (!file.exists()) {\n",
    "    try {\n",
    "        file.createNewFile();\n",
    "    } catch (IOException e) {\n",
    "        e.printStackTrace();\n",
    "    }\n",
    "}\n",
    "try {\n",
    "    FileWriter fileWriter = new FileWriter(file);\n",
    "    fileWriter.write(\"str1\\n\");\n",
    "    fileWriter.write(\"str2\\n\");\n",
    "    fileWriter.flush();\n",
    "    fileWriter.close();\n",
    "\n",
    "    FileReader fileReader = new FileReader(file);\n",
    "    char[] chars = new char[80];\n",
    "    fileReader.read(chars);\n",
    "    System.out.println(chars);\n",
    "} catch (IOException e) {\n",
    "    e.printStackTrace();\n",
    "}\n",
    "//str1\n",
    "//str2\n",
    "```"
   ]
  },
  {
   "cell_type": "markdown",
   "metadata": {},
   "source": [
    "```\n",
    "File file = new File(\"temp.txt\");\n",
    "if (!file.exists()) {\n",
    "    try {\n",
    "        file.createNewFile();\n",
    "    } catch (IOException e) {\n",
    "        e.printStackTrace();\n",
    "    }\n",
    "}\n",
    "try {\n",
    "    FileWriter fileWriter = new FileWriter(file);\n",
    "    BufferedWriter bufferedWriter = new BufferedWriter(fileWriter);\n",
    "    bufferedWriter.write(\"str3\");\n",
    "    bufferedWriter.newLine();\n",
    "    bufferedWriter.write(\"str4\");\n",
    "    bufferedWriter.flush();\n",
    "    bufferedWriter.close();\n",
    "\n",
    "    FileReader fileReader = new FileReader(file);\n",
    "    BufferedReader bufferedReader = new BufferedReader(fileReader);\n",
    "    while (bufferedReader.ready()){\n",
    "        System.out.println(bufferedReader.readLine());\n",
    "    }\n",
    "} catch (IOException e) {\n",
    "    e.printStackTrace();\n",
    "}\n",
    "//str3\n",
    "//str4\n",
    "```"
   ]
  },
  {
   "cell_type": "markdown",
   "metadata": {},
   "source": [
    "```\n",
    "```"
   ]
  },
  {
   "cell_type": "markdown",
   "metadata": {},
   "source": [
    "##### true - дописывать файл\n",
    "FileWriter fileWriter = new FileWriter(file,true);\n"
   ]
  },
  {
   "cell_type": "markdown",
   "metadata": {},
   "source": [
    "#### b46 ”рок по Java 46: —ериализаци¤  \n",
    "static не сериализуется  \n",
    "transient - не сериализуемое поле  "
   ]
  },
  {
   "cell_type": "markdown",
   "metadata": {},
   "source": []
  },
  {
   "cell_type": "markdown",
   "metadata": {},
   "source": []
  },
  {
   "cell_type": "markdown",
   "metadata": {},
   "source": [
    "```\n",
    "package com.company.l02;\n",
    "\n",
    "import java.io.Serializable;\n",
    "\n",
    "public class User implements Serializable {\n",
    "    int lifeLevel=0;\n",
    "    String name=null;\n",
    "    Sword sword;\n",
    "}\n",
    "```"
   ]
  },
  {
   "cell_type": "markdown",
   "metadata": {},
   "source": [
    "```\n",
    "package com.company.l02;\n",
    "\n",
    "import java.io.Serializable;\n",
    "\n",
    "public class Sword implements Serializable {\n",
    "    int level=0;\n",
    "}\n",
    "```"
   ]
  },
  {
   "cell_type": "markdown",
   "metadata": {},
   "source": [
    "```\n",
    "package com.company.l02;\n",
    "\n",
    "import java.io.*;\n",
    "\n",
    "public class Main {\n",
    "    public static void main(String[] args) {\n",
    "        User user = new User();\n",
    "        user.lifeLevel = 55;\n",
    "        user.name = \"John\";\n",
    "        Sword sword = new Sword();\n",
    "        sword.level = 5;\n",
    "        user.sword = sword;\n",
    "        user.sword.level = 5;\n",
    "        System.out.println(user.name+\": \"\n",
    "                + user.lifeLevel + \" sword_level \"\n",
    "                + user.sword.level);\n",
    "\n",
    "        try {\n",
    "            FileOutputStream fileOutputStream = new FileOutputStream(\"tempFile.obj\");\n",
    "            ObjectOutputStream objectOutputStream = new ObjectOutputStream(fileOutputStream);\n",
    "            objectOutputStream.writeObject(user);\n",
    "            objectOutputStream.close();\n",
    "\n",
    "            FileInputStream fileInputStream = new FileInputStream(\"tempFile.obj\");\n",
    "            ObjectInputStream objectInputStream = new ObjectInputStream(fileInputStream);\n",
    "            User user1 = (User)objectInputStream.readObject();\n",
    "            objectInputStream.close();\n",
    "            System.out.println(user1.name+\": \"\n",
    "                    + user1.lifeLevel + \" sword_level \"\n",
    "                    + user1.sword.level);\n",
    "\n",
    "        } catch (Exception e) {\n",
    "            e.printStackTrace();\n",
    "        }\n",
    "    }\n",
    "}\n",
    "```"
   ]
  },
  {
   "cell_type": "markdown",
   "metadata": {},
   "source": [
    "[JSON](https://javarush.ru/quests/lectures/questcollections.level03.lecture03)  \n",
    "```\n",
    "```"
   ]
  },
  {
   "cell_type": "markdown",
   "metadata": {},
   "source": [
    "```\n",
    "package com.company.l03;\n",
    "import com.fasterxml.jackson.databind.ObjectMapper;\n",
    "import java.io.Serializable;\n",
    "import java.util.Map;\n",
    "class User implements Serializable {\n",
    "    int lifeLevel = 0;\n",
    "    String name = null;\n",
    "\n",
    "    public int getLifeLevel() {\n",
    "        return lifeLevel;\n",
    "    }\n",
    "    public void setLifeLevel(int lifeLevel) {\n",
    "        this.lifeLevel = lifeLevel;\n",
    "    }\n",
    "\n",
    "    public String getName() {\n",
    "        return name;\n",
    "    }\n",
    "\n",
    "    public void setName(String name) {\n",
    "        this.name = name;\n",
    "    }\n",
    "}\n",
    "public class Main {\n",
    "    public static void main(String[] args) {\n",
    "        User user = new User();\n",
    "        user.lifeLevel = 55;\n",
    "        user.name = \"John\";\n",
    "        System.out.println(user.name+\": \"\n",
    "                + user.lifeLevel + \" sword_level \");\n",
    "        ObjectMapper objectMapper = new ObjectMapper();\n",
    "       Map<String,Object> map = objectMapper.convertValue(user, Map.class);\n",
    "        System.out.println(map);\n",
    "    }\n",
    "}\n",
    "```"
   ]
  },
  {
   "cell_type": "markdown",
   "metadata": {},
   "source": [
    "#### b47 ”рок по Java 47: —ериализаци¤ наследуемых объектов  \n",
    "static не сериализуется\n",
    "transient - не сериализуемое поле"
   ]
  },
  {
   "cell_type": "markdown",
   "metadata": {},
   "source": [
    "```\n",
    "package com.company.l02;\n",
    "\n",
    "import java.io.*;\n",
    "\n",
    "public class Main {\n",
    "    public static void main(String[] args) {\n",
    "        UserChild user = new UserChild();\n",
    "        user.lifeLevel = 55;\n",
    "        user.name = \"John\";\n",
    "        Sword sword = new Sword();\n",
    "        sword.level = 5;\n",
    "        user.sword = sword;\n",
    "        user.sword.level = 5;\n",
    "        user.chileLevel = 8;\n",
    "        System.out.println(user.name+\": \"\n",
    "                + user.lifeLevel + \" sword_level \"\n",
    "                + user.sword.level\n",
    "        + \" level_chile \" + user.chileLevel);\n",
    "\n",
    "        try {\n",
    "            FileOutputStream fileOutputStream = new FileOutputStream(\"tempFile.obj\");\n",
    "            ObjectOutputStream objectOutputStream = new ObjectOutputStream(fileOutputStream);\n",
    "            objectOutputStream.writeObject(user);\n",
    "            objectOutputStream.close();\n",
    "\n",
    "            FileInputStream fileInputStream = new FileInputStream(\"tempFile.obj\");\n",
    "            ObjectInputStream objectInputStream = new ObjectInputStream(fileInputStream);\n",
    "            User user1 = (User)objectInputStream.readObject();\n",
    "            objectInputStream.close();\n",
    "            System.out.println(user1.name+\": \"\n",
    "                    + user1.lifeLevel + \" sword_level \"\n",
    "                    + user1.sword.level\n",
    "            + \" level_chile \" + user.chileLevel);\n",
    "\n",
    "        } catch (Exception e) {\n",
    "            e.printStackTrace();\n",
    "        }\n",
    "    }\n",
    "}\n",
    "```"
   ]
  },
  {
   "cell_type": "markdown",
   "metadata": {},
   "source": [
    "#### b48 ”рок по Java 48: ƒаты, календари и врем¤.  "
   ]
  },
  {
   "cell_type": "markdown",
   "metadata": {},
   "source": [
    "```\n",
    "Date date = new Date();\n",
    "\n",
    "System.out.println(date);\n",
    "System.out.println(date.getTime());\n",
    "```"
   ]
  },
  {
   "cell_type": "markdown",
   "metadata": {},
   "source": [
    "```\n",
    "Date date = new Date();\n",
    "Calendar calendar = Calendar.getInstance();\n",
    "System.out.println(calendar.getTime());\n",
    "//Sat Jan 04 22:08:45 MSK 2020\n",
    "```"
   ]
  },
  {
   "cell_type": "markdown",
   "metadata": {},
   "source": [
    "```\n",
    "package com.company.l01;\n",
    "\n",
    "import java.util.Calendar;\n",
    "import java.util.Date;\n",
    "\n",
    "public class Main {\n",
    "    public static void main(String[] args) {\n",
    "//        new  Main().mMethod();\n",
    "\n",
    "        Date date = new Date();\n",
    "        Calendar calendar = Calendar.getInstance();\n",
    "        System.out.println(calendar.getTime());\n",
    "        calendar.add(Calendar.WEEK_OF_MONTH,1);\n",
    "        System.out.println(calendar.getTime());\n",
    "        //Sat Jan 04 22:15:06 MSK 2020\n",
    "        //Sat Jan 11 22:15:06 MSK 2020\n",
    "    }\n",
    "    void mMethod() {\n",
    "    }\n",
    "}\n",
    "```"
   ]
  },
  {
   "cell_type": "markdown",
   "metadata": {},
   "source": [
    "```\n",
    "DateFormat dateFormat = DateFormat.getDateInstance(DateFormat.SHORT);\n",
    "System.out.println(dateFormat.format(calendar.getTime()));\n",
    "//11.01.20\n",
    "    ```"
   ]
  },
  {
   "cell_type": "markdown",
   "metadata": {},
   "source": [
    "```\n",
    "SimpleDateFormat simpleDateFormat = new SimpleDateFormat(\"dd/MM/yyyy\");\n",
    "System.out.println(simpleDateFormat.format(calendar.getTime()));\n",
    "//11/01/2020\n",
    "```"
   ]
  },
  {
   "cell_type": "markdown",
   "metadata": {},
   "source": [
    "```\n",
    "SimpleDateFormat simpleDateFormat = new SimpleDateFormat(\"dd/MM/yyyy\");\n",
    "System.out.println(simpleDateFormat.format(calendar.getTime()));\n",
    "//11/01/2020\n",
    "Date date1 = null;\n",
    "try {\n",
    "    date1 = simpleDateFormat.parse(\"05/01/2010\");\n",
    "    //Tue Jan 05 00:00:00 MSK 2010\n",
    "} catch (ParseException e) {\n",
    "    e.printStackTrace();\n",
    "}\n",
    "System.out.println(date1);\n",
    "//\n",
    "//11/01/2020\n",
    "```"
   ]
  },
  {
   "cell_type": "markdown",
   "metadata": {},
   "source": []
  },
  {
   "cell_type": "markdown",
   "metadata": {},
   "source": []
  },
  {
   "cell_type": "markdown",
   "metadata": {},
   "source": [
    "#### b49 ”рок по Java 49: Equals and HashCode  \n"
   ]
  },
  {
   "cell_type": "markdown",
   "metadata": {},
   "source": [
    "```\n",
    "public class Main extends Object {\n",
    "    int value;\n",
    "    public static void main(String[] args) {\n",
    "        Main main= new  Main();\n",
    "        main.value = 5;\n",
    "\n",
    "        System.out.println(\"\"+main);\n",
    "    }\n",
    "    @Override\n",
    "    public String toString() {\n",
    "        return \"value = \" + value;\n",
    "    }\n",
    "}\n",
    "//value = 5\n",
    "```"
   ]
  },
  {
   "cell_type": "markdown",
   "metadata": {},
   "source": [
    "```\n",
    "class Book{\n",
    "    String author;\n",
    "    String name;\n",
    "}\n",
    "\n",
    "public class Main extends Object {\n",
    "    int value;\n",
    "    public static void main(String[] args) {\n",
    "        Book book= new Book();\n",
    "        book.author = \"Karnegy\";\n",
    "        book.name = \"How get friends\";\n",
    "        Map<String,Book> library = new HashMap<>();\n",
    "        library.put(book.name, book);\n",
    "        Book book1 = new Book();\n",
    "        book1.name = \"Подготовка к (SCJP) exam.\";\n",
    "        book1.author = \"Денис Жданов Enrelia\";\n",
    "        library.put(book1.name, book1);\n",
    "        System.out.println(\"\"+library);\n",
    "\n",
    "        Book karnegyBook = library.get(\"How get friends\");\n",
    "//        karnegyBook=library.get(\"Подготовка к (SCJP) exam.\");\n",
    "        System.out.println(\"name = \"\n",
    "        + karnegyBook.name\n",
    "        + \", author = \" + karnegyBook.author);\n",
    "System.out.println(book.equals(karnegyBook));//true\n",
    "        \n",
    "    }\n",
    "    //{Подготовка к (SCJP) exam.=com.company.l01.Book@63947c6b, \n",
    "    // How get friends=com.company.l01.Book@2b193f2d}\n",
    "    //name = How get friends, author = Karnegy\n",
    "}\n",
    "```"
   ]
  },
  {
   "cell_type": "markdown",
   "metadata": {},
   "source": [
    "```\n",
    "{com.company.l01.Ticket@63947c6b=com.company.l01.Book@2b193f2d}\n",
    "```"
   ]
  },
  {
   "cell_type": "markdown",
   "metadata": {},
   "source": [
    "```\n",
    "class Book{\n",
    "    String author;\n",
    "    String name;\n",
    "}\n",
    "class Ticket{\n",
    "    int number;\n",
    "    @Override\n",
    "    public int hashCode() {\n",
    "        return number;\n",
    "    }\n",
    "    @Override\n",
    "    public boolean equals(Object o) {\n",
    "        if(this == o) return true;\n",
    "        if(o==null || getClass()!=o.getClass())return false;\n",
    "        Ticket ticket = (Ticket)o;\n",
    "        return number == ticket.number;\n",
    "    }\n",
    "}\n",
    "public class Main extends Object {\n",
    "    int value;\n",
    "    public static void main(String[] args) {\n",
    "        Ticket ticket = new Ticket();\n",
    "        ticket.number = 123;\n",
    "        Book book= new Book();\n",
    "        book.author = \"Karnegy\";\n",
    "        book.name = \"How get friends\";\n",
    "        Map<Ticket,Book> library = new HashMap<>();\n",
    "        library.put(ticket, book);\n",
    "        System.out.println(\"\"+library);\n",
    "\n",
    "        Ticket ticket1 = new Ticket();\n",
    "        ticket1.number = 123;\n",
    "        System.out.println(ticket1);\n",
    "        Book karnegyBook = library.get(ticket1);\n",
    "        System.out.println(\"name = \"\n",
    "        + karnegyBook.name\n",
    "        + \", author = \" + karnegyBook.author);\n",
    "    }\n",
    "}\n",
    "//{com.company.l01.Ticket@7b=com.company.l01.Book@63947c6b}\n",
    "//com.company.l01.Ticket@7b\n",
    "//name = How get friends, author = Karnegy\n",
    "```"
   ]
  },
  {
   "cell_type": "markdown",
   "metadata": {},
   "source": [
    "```\n",
    "class Book{\n",
    "    String author;\n",
    "    String name;\n",
    "}\n",
    "class Ticket{\n",
    "    int number;\n",
    "    String libraryName;\n",
    "    @Override\n",
    "    public boolean equals(Object o) {\n",
    "        if (this == o) return true;\n",
    "        if (o == null || getClass() != o.getClass()) return false;\n",
    "        Ticket ticket = (Ticket) o;\n",
    "        if (number != ticket.number) return false;\n",
    "        return libraryName != null ? libraryName.equals(ticket.libraryName) : ticket.libraryName == null;\n",
    "    }\n",
    "    @Override\n",
    "    public int hashCode() {\n",
    "        int result = number;\n",
    "        result = 31 * result + (libraryName != null ? libraryName.hashCode() : 0);\n",
    "        return result;\n",
    "    }\n",
    "}\n",
    "public class Main extends Object {\n",
    "    int value;\n",
    "    public static void main(String[] args) {\n",
    "        Ticket ticket = new Ticket();\n",
    "        ticket.number = 123;\n",
    "        Book book= new Book();\n",
    "        book.author = \"Karnegy\";\n",
    "        book.name = \"How get friends\";\n",
    "        Map<Ticket,Book> library = new HashMap<>();\n",
    "        library.put(ticket, book);\n",
    "        System.out.println(\"\"+library);\n",
    "\n",
    "        Ticket ticket1 = new Ticket();\n",
    "        ticket1.number = 123;\n",
    "        System.out.println(ticket1);\n",
    "        Book karnegyBook = library.get(ticket1);\n",
    "        System.out.println(\"name = \"\n",
    "        + karnegyBook.name\n",
    "        + \", author = \" + karnegyBook.author);\n",
    "    }\n",
    "}\n",
    "//{com.company.l01.Ticket@7b=com.company.l01.Book@63947c6b}\n",
    "//com.company.l01.Ticket@7b\n",
    "//name = How get friends, author = Karnegy\n",
    "```"
   ]
  },
  {
   "cell_type": "markdown",
   "metadata": {},
   "source": [
    "hashCod Equals - генерируются, переопределяются вместе  \n",
    "для разных объектов hashCod м.б. одинаковым  \n",
    "по Equals всегда разные"
   ]
  },
  {
   "cell_type": "markdown",
   "metadata": {},
   "source": [
    "#### b50 урок по Java 50: коллекции  \n"
   ]
  },
  {
   "cell_type": "markdown",
   "metadata": {},
   "source": [
    "```\n",
    "int[] array = new int[15];\n",
    "Collection collection = new ArrayList();\n",
    "Collections collections;\n",
    "Arrays arrays;\n",
    "```"
   ]
  },
  {
   "cell_type": "markdown",
   "metadata": {},
   "source": [
    "```\n",
    "Collection collection = new ArrayList();\n",
    "collection.add(1);\n",
    "collection.add(\"2\");\n",
    "collection.add(\"a3\");\n",
    "collection.add(\"a4\");\n",
    "collection.add(2);\n",
    "collection.remove(2);\n",
    "Iterator iterator = collection.iterator();\n",
    "while (iterator.hasNext()){\n",
    "    System.out.print(iterator.next()+\" \");\n",
    "}\n",
    "System.out.println(\"\"+collection);\n",
    "//1 2 a3 a4 [1, 2, a3, a4]\n",
    "```"
   ]
  },
  {
   "cell_type": "markdown",
   "metadata": {},
   "source": [
    "```\n",
    "Collection collection = new ArrayList();\n",
    "collection.add(1);\n",
    "collection.add(\"2\");\n",
    "collection.add(\"a3\");\n",
    "collection.add(\"a4\");\n",
    "collection.add(2);\n",
    "collection.remove(2);\n",
    "for (Object o : collection) {\n",
    "    System.out.print(o + \" \");\n",
    "}\n",
    "System.out.println(\"\" + collection);\n",
    "//1 2 a3 a4 [1, 2, a3, a4]\n",
    "```"
   ]
  },
  {
   "cell_type": "markdown",
   "metadata": {},
   "source": [
    "```\n",
    "List collection = new ArrayList();\n",
    "Set collection2 = new HashSet();\n",
    "Queue collection3 = new PriorityQueue();\n",
    "Map map = new HashMap();\n",
    "\n",
    "collection.add(1);\n",
    "collection.add(\"2\");\n",
    "collection.add(\"a3\");\n",
    "collection.add(\"a4\");\n",
    "collection.add(2);\n",
    "collection.remove(2);\n",
    "for (Object o : collection) {\n",
    "    System.out.print(o + \" \");\n",
    "}\n",
    "System.out.println(\"\" + collection);\n",
    "//1 2 a4 2 [1, 2, a4, 2]\n",
    "```"
   ]
  },
  {
   "cell_type": "markdown",
   "metadata": {},
   "source": [
    " List\n",
    "- collection + get, set, add(int)  \n",
    "- индексированный список"
   ]
  },
  {
   "cell_type": "markdown",
   "metadata": {},
   "source": [
    "```\n",
    "List collection = new ArrayList();\n",
    "collection.add(\"1\");\n",
    "collection.add(\"2\");\n",
    "collection.add(\"3\");\n",
    "collection.add(\"4\");\n",
    "collection.set(2,5);\n",
    "collection.add(1,6);\n",
    "System.out.println(\"\" + collection);\n",
    "//[1, 6, 2, 5, 4]\n",
    "```"
   ]
  },
  {
   "cell_type": "markdown",
   "metadata": {},
   "source": [
    "Queue\n",
    "- (poll() peek()- не удаляет) (add offer) element remove\n"
   ]
  },
  {
   "cell_type": "markdown",
   "metadata": {},
   "source": [
    "```\n",
    "Queue collection = new PriorityQueue();\n",
    "for (int i = 0; i < 5; i++) {\n",
    "    collection.offer(\"\"+i);\n",
    "}\n",
    "int size=collection.size();\n",
    "for (int i = 0; i < size; i++) {\n",
    "//            System.out.print(collection.peek() + \" \");\n",
    "    //0 0 0 0 0 [0 1 2 3 4]\n",
    "    System.out.print(collection.poll() + \" \");\n",
    "}\n",
    "System.out.println(\"\" + collection);\n",
    "//0 1 2 3 4 []\n",
    "```"
   ]
  },
  {
   "cell_type": "markdown",
   "metadata": {},
   "source": [
    "```\n",
    "Queue collection = new PriorityQueue();\n",
    "for (int i = 0; i < 5; i++) {\n",
    "    collection.offer(\"\"+i);\n",
    "}\n",
    "Iterator iterator = collection.iterator();\n",
    "while (iterator.hasNext()){\n",
    "    System.out.print(collection.poll() + \" \");\n",
    "}\n",
    "System.out.println(\"\" + collection);\n",
    "//0 1 2 3 4 []\n",
    "```"
   ]
  },
  {
   "cell_type": "markdown",
   "metadata": {},
   "source": [
    "Set\n",
    "- коллекция не повторяющихся\n",
    "- \n",
    "```\n",
    "```"
   ]
  },
  {
   "cell_type": "markdown",
   "metadata": {},
   "source": [
    "##### Set\n",
    "<details><pre>\n",
    "Set collection = new HashSet();\n",
    "for (int i = 0; i &lt; 5; i++) {\n",
    "\tcollection.add(\"\"+i);\n",
    "}\n",
    "for (int i = 3; i &lt; 3+5; i++) {\n",
    "\tcollection.add(\"\"+i);\n",
    "}\n",
    "Iterator iterator = collection.iterator();\n",
    "while (iterator.hasNext()){\n",
    "\tSystem.out.print(iterator.next() + \" \");\n",
    "}\n",
    "System.out.println(\"\" + collection);\n",
    "//0 1 2 3 4 5 6 7 [0, 1, 2, 3, 4, 5, 6, 7]\n",
    "\n",
    "</pre></details>"
   ]
  },
  {
   "cell_type": "markdown",
   "metadata": {},
   "source": [
    "##### Map\n",
    "- size isEmpty get put remove \n",
    "- key - по ключу\n",
    "```\n",
    "```"
   ]
  },
  {
   "cell_type": "markdown",
   "metadata": {},
   "source": [
    "<details><pre>\n",
    "Map collection = new HashMap();\n",
    "for (int i = 0; i &lt; 5; i++) {\n",
    "    collection.put(\"\"+i, \"a\"+i);\n",
    "}\n",
    "for (int i = 0; i &lt; collection.size(); i++) {\n",
    "    System.out.print(\"\" + i + \" \" +collection.get(\"\"+i)+\" \");\n",
    "}\n",
    "System.out.println();\n",
    "Set set = collection.entrySet();\n",
    "for(Object o: set){\n",
    "    System.out.print(o);\n",
    "}\n",
    "System.out.println();\n",
    "Set set2 = collection.keySet();\n",
    "for(Object o: set2){\n",
    "    System.out.print(\"\" + o\n",
    "            +\"&gt;\" + collection.get(o) + \" \");\n",
    "}\n",
    "System.out.println();\n",
    "Collection list = collection.values();\n",
    "for(Object o: list){\n",
    "    System.out.print(o);\n",
    "}\n",
    "System.out.println(\"\" + collection);\n",
    "//0 a0 1 a1 2 a2 3 a3 4 a4 \n",
    "//0=a01=a12=a23=a34=a4\n",
    "//0&gt;a0 1&gt;a1 2&gt;a2 3&gt;a3 4&gt;a4 \n",
    "//a0a1a2a3a4{0=a0, 1=a1, 2=a2, 3=a3, 4=a4}\n",
    "</pre></details>"
   ]
  },
  {
   "cell_type": "markdown",
   "metadata": {},
   "source": [
    "##### HashSet неупорядоченный\n",
    "```\n",
    "Collection collection = new HashSet();\n",
    "for (int i = 5; i > -1; i--) {\n",
    "    collection.add(\"\"+i);\n",
    "}\n",
    "System.out.println(collection);\n",
    "//[0, 1, 2, 3, 4, 5]\n",
    "```"
   ]
  },
  {
   "cell_type": "markdown",
   "metadata": {},
   "source": [
    "##### LinkedHashSet - упорядоченный\n",
    "```\n",
    "Collection collection = new LinkedHashSet();\n",
    "for (int i = 5; i > -1; i--) {\n",
    "    collection.add(\"\"+i);\n",
    "}\n",
    "System.out.println(collection);\n",
    "//[5, 4, 3, 2, 1, 0]\n",
    "```"
   ]
  },
  {
   "cell_type": "markdown",
   "metadata": {},
   "source": [
    "##### TreeSet - отсортированное множество\n",
    "```\n",
    "Collection collection = new TreeSet();\n",
    "for (int i = 5; i > -1; i--) {\n",
    "    collection.add(\"\"+i);\n",
    "}\n",
    "for (int i = 5+3; i > -1+3; i--) {\n",
    "    collection.add(\"\"+i);\n",
    "}\n",
    "System.out.println(collection);\n",
    "//[0, 1, 2, 3, 4, 5, 6, 7, 8]\n",
    "```"
   ]
  },
  {
   "cell_type": "markdown",
   "metadata": {},
   "source": [
    "#### b51 ”рок по Java 51: —ортировка коллекций и интерфейсы - Comparable и Comparator  "
   ]
  },
  {
   "cell_type": "markdown",
   "metadata": {},
   "source": [
    "<details><pre>\n",
    "Set set = new TreeSet();\n",
    "for (int i = 5; i &gt; -1; i--) {\n",
    "    set.add(\"\"+i);\n",
    "}\n",
    "for (int i = 5+3; i &gt; -1+3; i--) {\n",
    "    set.add(\"\"+i);\n",
    "}\n",
    "System.out.println(set);\n",
    "//[0, 1, 2, 3, 4, 5, 6, 7, 8]\n",
    "</pre></details>"
   ]
  },
  {
   "cell_type": "markdown",
   "metadata": {},
   "source": [
    "##### Comparable\n",
    "<details><pre>\n",
    "class Person implements Comparable&lt;Person&gt;{\n",
    "    int age;\n",
    "    Person(int age){\n",
    "        this.age = age;\n",
    "    }\n",
    "    @Override\n",
    "    public int compareTo(Person p) {\n",
    "        return this.age-p.age;\n",
    "    }\n",
    "    @Override\n",
    "    public String toString() {\n",
    "        return \"Person{\" +\n",
    "                \"age=\" + age +\n",
    "                '}';\n",
    "    }\n",
    "}\n",
    "public class Main extends Object {\n",
    "    public static void main(String[] args) {\n",
    "        Set set = new TreeSet();\n",
    "        for (int i = 3; i &gt;= 0; i--) {\n",
    "            set.add(new Person(i+50));\n",
    "        }\n",
    "        for(Object o:set){\n",
    "            System.out.print(o+\" \");\n",
    "        }\n",
    "        System.out.println();\n",
    "        System.out.println(set);\n",
    "//Person{age=50} Person{age=51} Person{age=52} Person{age=53}\n",
    "//[Person{age=50}, Person{age=51}, Person{age=52}, Person{age=53}]\n",
    "   }\n",
    "}\n",
    "</pre></details>"
   ]
  },
  {
   "cell_type": "markdown",
   "metadata": {},
   "source": [
    "##### Comparator\n",
    "<details><pre>\n",
    "class Person {\n",
    "    int age;\n",
    "    Person(int age){\n",
    "        this.age = age;\n",
    "    }\n",
    "    @Override\n",
    "    public String toString() {\n",
    "        return \"Person{\" +\n",
    "                \"age=\" + age +\n",
    "                '}';\n",
    "    }\n",
    "}\n",
    "class ComparePerson implements Comparator&lt;Person&gt;{\n",
    "    @Override\n",
    "    public int compare(Person person, Person t1) {\n",
    "        return person.age - t1.age;\n",
    "    }\n",
    "}\n",
    "public class Main extends Object {\n",
    "    public static void main(String[] args) {\n",
    "        ComparePerson comparePerson = new ComparePerson();\n",
    "        Set set = new TreeSet(comparePerson);\n",
    "        for (int i = 3; i &gt;= 0; i--) {\n",
    "            set.add(new Person(i+50));\n",
    "        }\n",
    "        for(Object o:set){\n",
    "            System.out.print(o+\" \");\n",
    "        }\n",
    "        System.out.println();\n",
    "        System.out.println(set);\n",
    "//Person{age=50} Person{age=51} Person{age=52} Person{age=53}\n",
    "//[Person{age=50}, Person{age=51}, Person{age=52}, Person{age=53}]\n",
    "   }\n",
    "}\n",
    "</pre></details>"
   ]
  },
  {
   "cell_type": "markdown",
   "metadata": {},
   "source": [
    "#### b52 ”рок по Java 52: —писки - List  "
   ]
  },
  {
   "cell_type": "markdown",
   "metadata": {},
   "source": [
    "- ArrayList\n",
    "- Vector - потоки\n",
    "- LinkedList - сортированный\n",
    "```\n",
    "List list = new ArrayList();\n",
    "List list1 = new Vector();\n",
    "List list2 = new LinkedList();\n",
    "```"
   ]
  },
  {
   "cell_type": "markdown",
   "metadata": {},
   "source": [
    "#### b53 ”рок по Java 53: ќчереди - Queue  \n"
   ]
  },
  {
   "cell_type": "markdown",
   "metadata": {},
   "source": [
    "Queue queue = new LinkedList();  \n",
    "Queue queue1 = new PriorityQueue();\n"
   ]
  },
  {
   "cell_type": "markdown",
   "metadata": {},
   "source": [
    "```\n",
    "Queue queue = new LinkedList();\n",
    "for (int i = 0; i < 5; i++) {\n",
    "    queue.add(i);\n",
    "}\n",
    "int i=2;\n",
    "while (i-->=0) {\n",
    "    queue.add(queue.poll());\n",
    "    System.out.println(queue);\n",
    "}\n",
    "//[1, 2, 3, 4, 0]\n",
    "//[2, 3, 4, 0, 1]\n",
    "//[3, 4, 0, 1, 2]\n",
    "```"
   ]
  },
  {
   "cell_type": "markdown",
   "metadata": {},
   "source": [
    "```\n",
    "Stack stack = new Stack();\n",
    "for (int i = 0; i <5 ; i++) {\n",
    "    stack.push(i);\n",
    "}\n",
    "System.out.println(stack);\n",
    "System.out.print(stack.pop());\n",
    "System.out.println(stack);\n",
    "System.out.print(stack.pop());\n",
    "System.out.println(stack);\n",
    "//[0, 1, 2, 3, 4]\n",
    "//4[0, 1, 2, 3]\n",
    "//3[0, 1, 2]\n",
    "```"
   ]
  },
  {
   "cell_type": "markdown",
   "metadata": {},
   "source": [
    "```\n",
    "Queue queue = new PriorityQueue();\n",
    "for (int i = 0; i < 5; i++) {\n",
    "    queue.add(i);\n",
    "}\n",
    "for (int i = 0; i < 5; i++) {\n",
    "    queue.add(i);\n",
    "}\n",
    "System.out.println(queue);\n",
    "int i=2;\n",
    "while (i-->=0) {\n",
    "    System.out.print(queue.poll());\n",
    "    System.out.println(queue);\n",
    "}\n",
    "//[0, 1, 0, 2, 4, 2, 1, 3, 3, 4]\n",
    "//0[0, 1, 1, 2, 4, 2, 4, 3, 3]\n",
    "//0[1, 2, 1, 3, 4, 2, 4, 3]\n",
    "//1[1, 2, 2, 3, 4, 3, 4]\n",
    "```"
   ]
  },
  {
   "cell_type": "markdown",
   "metadata": {},
   "source": [
    "```\n",
    "Queue queue = new LinkedList();\n",
    "for (int i = 0; i < 5; i++) {\n",
    "    queue.add(i);\n",
    "}\n",
    "for (int i = 0; i < 5; i++) {\n",
    "    queue.add(i);\n",
    "}\n",
    "System.out.println(queue);\n",
    "List list = (List)queue;\n",
    "Collections.sort(list);\n",
    "System.out.println(queue);\n",
    "//[0, 1, 2, 3, 4, 0, 1, 2, 3, 4]\n",
    "//[0, 0, 1, 1, 2, 2, 3, 3, 4, 4]\n",
    "```"
   ]
  },
  {
   "cell_type": "markdown",
   "metadata": {},
   "source": []
  },
  {
   "cell_type": "markdown",
   "metadata": {},
   "source": [
    "#### b54 ”рок по Java 54: Maps  \n"
   ]
  },
  {
   "cell_type": "markdown",
   "metadata": {},
   "source": [
    "```\n",
    "Map map = new HashMap();\n",
    "Map map1 = new LinkedHashMap();\n",
    "Map map2 = new TreeMap();\n",
    "```"
   ]
  },
  {
   "cell_type": "markdown",
   "metadata": {},
   "source": [
    "<details><pre>\n",
    "Map map = new HashMap();\n",
    "for (int i = 0; i &lt; 4; i++) {\n",
    "    map.put(\"\"+i,\"a\"+i);\n",
    "}\n",
    "System.out.println(map);\n",
    "Set set = map.keySet();\n",
    "List list = new ArrayList();\n",
    "for (Object o:set){\n",
    "    list.add(o);\n",
    "}\n",
    "for (int i = 0; i &lt;list.size() ; i++) {\n",
    "    System.out.print(map.get(list.get(i)) + \" \");\n",
    "}\n",
    "//{0=a0, 1=a1, 2=a2, 3=a3}\n",
    "//a0 a1 a2 a3 a1\n",
    "</pre></details>"
   ]
  },
  {
   "cell_type": "markdown",
   "metadata": {},
   "source": [
    "```\n",
    "Map map = new HashMap();\n",
    "for (int i = 0; i <4 ; i++) {\n",
    "    map.put(\"\"+i,\"a\"+i);\n",
    "}\n",
    "map.forEach((k,v)-> System.out.print(\" \"+k+\" \"+v));\n",
    "System.out.println();\n",
    "map.size();\n",
    "// 0 a0 1 a1 2 a2 3 a3\n",
    "```"
   ]
  },
  {
   "cell_type": "markdown",
   "metadata": {},
   "source": [
    "```\n",
    "```"
   ]
  },
  {
   "cell_type": "markdown",
   "metadata": {},
   "source": [
    "#### b55 ”рок по Java 55: Sets  "
   ]
  },
  {
   "cell_type": "markdown",
   "metadata": {},
   "source": [
    "[Структуры данных в картинках. LinkedList](https://habr.com/ru/post/127864/)  \n",
    "[]()  \n",
    "[]()  \n",
    "[Теория дженериков в Java или как на практике ставить скобки](https://javarush.ru/groups/posts/2004-teorija-dzhenerikov-v-java-ili-gde-na-praktike-stavitjh-skobki)  \n"
   ]
  },
  {
   "cell_type": "markdown",
   "metadata": {},
   "source": [
    "#### b56 ”рок по Java 56: Generics - обобщени¤  \n",
    "<T> T getValue(Object obj, Class<T> clazz){\n",
    "    return (T)obj;}"
   ]
  },
  {
   "cell_type": "markdown",
   "metadata": {},
   "source": [
    "<details><pre>\n",
    "public class Main {\n",
    "    public static void main(String[] args) {\n",
    "        Main main = new Main();\n",
    "        Integer v = 11;\n",
    "        String st = \"aa\";\n",
    "        Integer i = main.&lt;Integer&gt;getValue(v, Integer.class);\n",
    "        System.out.println(i);\n",
    "        String st2 = main.getValue(st, String.class);\n",
    "        System.out.println(st2);\n",
    "    }\n",
    "    &lt;T&gt; T getValue(Object obj, Class&lt;T&gt; clazz) {\n",
    "        System.out.print(\"\" + obj + \" \");\n",
    "        System.out.println(clazz);\n",
    "        return (T) obj;\n",
    "    }\n",
    "</pre></details>"
   ]
  },
  {
   "cell_type": "markdown",
   "metadata": {},
   "source": [
    "#### b57 ”рок по Java 57: Inner Classes - ¬нутренние классы  \n"
   ]
  },
  {
   "cell_type": "markdown",
   "metadata": {},
   "source": [
    "<details><pre>\n",
    "public class Main {\n",
    "    int k = 5;\n",
    "class Inner{\n",
    "    int i = 3;\n",
    "    void mMethod(){\n",
    "        System.out.println(\"k= \"+k+\", i= \"+i);\n",
    "    }\n",
    "}\n",
    "    public static void main(String[] args) {\n",
    "        Main main = new Main();\n",
    "        Inner inner = main.new Inner();\n",
    "        inner.mMethod();\n",
    "    }\n",
    "}//k= 5, i= 3\n",
    "</pre></details>"
   ]
  },
  {
   "cell_type": "markdown",
   "metadata": {},
   "source": [
    "<details><pre>\n",
    "class Schet {\n",
    "    int k = 5;\n",
    "    void mMethod() {\n",
    "        Inner inner = new Inner();\n",
    "        inner.mMethod();\n",
    "    }\n",
    "    class Inner {\n",
    "        int i = 3;\n",
    "        void mMethod() {\n",
    "            System.out.print(\"schet_k= \" + k\n",
    "                    + \", schet_inner_i = \" + i);\n",
    "        }\n",
    "    }\n",
    "}\n",
    "public class Main {\n",
    "    public static void main(String[] args) {\n",
    "        Schet schet = new Schet();\n",
    "        schet.mMethod();\n",
    "    }\n",
    "}\n",
    "//schet_k= 5, schet_inner_i = 3\n",
    "</pre></details>"
   ]
  },
  {
   "cell_type": "markdown",
   "metadata": {},
   "source": [
    "<details><pre>\n",
    "class Schet {\n",
    "    int k = 5;\n",
    "    void mMethod() {\n",
    "        Inner inner = new Inner();\n",
    "        inner.mMethod();\n",
    "    }\n",
    "    class Inner {\n",
    "        int i = 3;\n",
    "        void mMethod() {\n",
    "            System.out.print(\"schet_k= \" + k\n",
    "                    + \", schet_inner_i = \" + i);\n",
    "        }\n",
    "    }\n",
    "}\n",
    "class Second{\n",
    "    void mMethod(){\n",
    "        Schet.Inner inner = new Schet().new Inner();\n",
    "        inner.mMethod();\n",
    "    }\n",
    "}\n",
    "public class Main {\n",
    "    public static void main(String[] args) {\n",
    "//        Schet schet = new Schet();\n",
    "//        schet.mMethod();\n",
    "//        Second second = new Second();\n",
    "//        second.mMethod();\n",
    "        new Schet().mMethod();\n",
    "    }\n",
    "}\n",
    "//schet_k= 5, schet_inner_i = 3\n",
    "</pre></details>"
   ]
  },
  {
   "cell_type": "markdown",
   "metadata": {},
   "source": [
    "<details><pre>\n",
    "public class Main {\n",
    "    int k = 5;\n",
    "    Inner inner=new Inner();\n",
    "    class Inner{\n",
    "        int i = 3;\n",
    "        void mMethod(){\n",
    "            System.out.println(\"k= \"+k+\", i= \"+i);\n",
    "        }\n",
    "    }\n",
    "    public static void main(String[] args) {\n",
    "        Main main = new Main();\n",
    "        Inner inner = main.new Inner();\n",
    "        inner.mMethod();\n",
    "        main.inner.mMethod();\n",
    "    }\n",
    "}\n",
    "//k= 5, i= 3\n",
    "//k= 5, i= 3\n",
    "</pre></details>"
   ]
  },
  {
   "cell_type": "markdown",
   "metadata": {},
   "source": [
    "- Inner\n",
    "- static Inner -   \n",
    "-- не является внутренним классом  \n",
    "-- м.б. использован для доступа к статическим переменным  \n",
    "- класс внутри метода(инициализуруется после описания класса)"
   ]
  },
  {
   "cell_type": "markdown",
   "metadata": {},
   "source": [
    "```\n",
    "    int k = 5;\n",
    "    void mMethod(){\n",
    "        class Inner{\n",
    "            int i = 3;\n",
    "            void mMethod(){\n",
    "                System.out.println(\"\"+k+\" \"+i);\n",
    "            }\n",
    "        }\n",
    "        new Inner().mMethod();\n",
    "    }\n",
    "```"
   ]
  },
  {
   "cell_type": "markdown",
   "metadata": {},
   "source": [
    "#### b58 ”рок по Java 58: јнонимные классы  \n"
   ]
  },
  {
   "cell_type": "markdown",
   "metadata": {},
   "source": [
    "создается класс popcorn c переопределенным методом. Этот класс является анонимным.\n",
    "Popcorn popcorn = new Popcorn()"
   ]
  },
  {
   "cell_type": "markdown",
   "metadata": {},
   "source": [
    "```\n",
    "Popcorn popcorn = new Popcorn(){\n",
    "    void doSomthing(){\n",
    "        super.doSomthing();\n",
    "        System.out.println(\"main\");\n",
    "    }\n",
    "};\n",
    "```"
   ]
  },
  {
   "cell_type": "markdown",
   "metadata": {},
   "source": [
    "<details><pre>\n",
    "public class Main {\n",
    "    class Popcorn{\n",
    "        void doSomthing(){\n",
    "            System.out.println(\"popcorn\");\n",
    "        }\n",
    "    }\n",
    "    public static void main(String[] args) {\n",
    "        Main main = new Main();\n",
    "        main.mMethod();\n",
    "    }\n",
    "    void mMethod(){\n",
    "        Popcorn popcorn = new Popcorn(){\n",
    "            void doSomthing(){\n",
    "                super.doSomthing();\n",
    "                System.out.println(\"main\");\n",
    "            }\n",
    "        };\n",
    "        popcorn.doSomthing();\n",
    "    }\n",
    "}\n",
    "</pre></details>"
   ]
  },
  {
   "cell_type": "markdown",
   "metadata": {},
   "source": [
    "переопределить(реализовать) интерфейс"
   ]
  },
  {
   "cell_type": "markdown",
   "metadata": {},
   "source": [
    "<details><pre>\n",
    "public static void main(String[] args) {\n",
    "    Main main = new Main();\n",
    "    main.mMethod();\n",
    "}\n",
    "void mMethod(){\n",
    "    Comparable comparable = new Comparable(){\n",
    "        @Override\n",
    "        public int compareTo(Object o) {\n",
    "            return 0;\n",
    "        }\n",
    "    };\n",
    "    comparable.compareTo(new Object());\n",
    "}\n",
    "</pre></details>"
   ]
  },
  {
   "cell_type": "markdown",
   "metadata": {},
   "source": [
    "Укороченная форма записи\n",
    "<details><pre>\n",
    "class Popcorn {\n",
    "    void doSomething() {\n",
    "        System.out.println(\"popcorn\");\n",
    "    }\n",
    "}\n",
    "public class Main {\n",
    "    public static void main(String[] args) {\n",
    "        Main main = new Main();\n",
    "        main.mMethod(new Popcorn() {\n",
    "            void doSomething() {\n",
    "                super.doSomething();\n",
    "                System.out.println(\"bla\");\n",
    "            }\n",
    "        });\n",
    "    }\n",
    "    void mMethod(Popcorn popcorn) {\n",
    "        popcorn.doSomething();\n",
    "    }\n",
    "}\n",
    "//popcorn\n",
    "//bla\n",
    "</pre></details>"
   ]
  },
  {
   "cell_type": "markdown",
   "metadata": {},
   "source": [
    "#### b59 ”рок по Java 59: клонирование объектов  "
   ]
  },
  {
   "cell_type": "markdown",
   "metadata": {},
   "source": [
    "<details><pre>\n",
    "class Popcorn implements Cloneable {\n",
    "    int k = 3;\n",
    "    @Override\n",
    "    protected Popcorn clone() throws CloneNotSupportedException {\n",
    "        return (Popcorn)super.clone();\n",
    "    }\n",
    "    void doSomething() {\n",
    "        System.out.println(\"\"popcorn\"\");\n",
    "    }\n",
    "}\n",
    "public class Main {\n",
    "    public static void main(String[] args) throws CloneNotSupportedException {\n",
    "        Main main = new Main();\n",
    "        Popcorn popcorn = new Popcorn();\n",
    "        popcorn.k = 1;\n",
    "        Popcorn popcorn1 = popcorn;\n",
    "        popcorn1.k = 2;\n",
    "        Popcorn popcorn2 = popcorn.clone();\n",
    "        popcorn2.k = 3;\n",
    "        System.out.println(popcorn.k);\n",
    "        System.out.println(popcorn1.k);\n",
    "        System.out.println(popcorn2.k);\n",
    "    }\n",
    "}\n",
    "</pre></details>"
   ]
  },
  {
   "cell_type": "markdown",
   "metadata": {},
   "source": [
    "с неправильным наследником\n",
    "<details><pre>\n",
    "class Popcorn implements Cloneable {\n",
    "    int k = 3;\n",
    "    @Override\n",
    "    protected Popcorn clone() throws CloneNotSupportedException {\n",
    "        return (Popcorn)super.clone();\n",
    "    }\n",
    "    void doSomething() {\n",
    "        System.out.println(\"\"popcorn\"\");\n",
    "    }\n",
    "}\n",
    "public class Main {\n",
    "    public static void main(String[] args) throws CloneNotSupportedException {\n",
    "        Main main = new Main();\n",
    "        Popcorn popcorn = new Popcorn();\n",
    "        popcorn.k = 1;\n",
    "        Popcorn popcorn1 = popcorn;\n",
    "        popcorn1.k = 2;\n",
    "        Popcorn popcorn2 = popcorn.clone();\n",
    "        popcorn2.k = 3;\n",
    " class Pudra{\n",
    "    int k=5;\n",
    "    void method(){\n",
    "    }\n",
    "}\n",
    "class Popcorn implements Cloneable {\n",
    "    int k = 3;\n",
    "    Pudra pudra;\n",
    "    @Override\n",
    "    protected Popcorn clone() throws CloneNotSupportedException {\n",
    "        return (Popcorn)super.clone();\n",
    "    }\n",
    "    void doSomething() {\n",
    "        System.out.println(\"\"popcorn\"\");\n",
    "    }\n",
    "}\n",
    "public class Main {\n",
    "    public static void main(String[] args) throws CloneNotSupportedException {\n",
    "        Main main = new Main();\n",
    "        Popcorn popcorn = new Popcorn();\n",
    "        popcorn.pudra = new Pudra();\n",
    "        popcorn.k = 1;\n",
    "        popcorn.pudra.k = 10;\n",
    "        Popcorn popcorn2 = popcorn.clone();\n",
    "        popcorn2.k = 2;\n",
    "        popcorn2.pudra.k = 20;\n",
    "        System.out.println(\"\"k popcorn 1 = \"\" + popcorn.k\n",
    "                + \"\", k pudra popcorn 1 = \"\"+ popcorn.pudra.k);\n",
    "        System.out.println(\"\"k popcorn 2 = \"\" + popcorn2.k\n",
    "                + \"\", k pudra popcorn 2 = \"\"+ popcorn2.pudra.k);\n",
    "    }\n",
    "    //k popcorn 1 = 1, k pudra popcorn 1 = 20\n",
    "    //k popcorn 2 = 2, k pudra popcorn 2 = 20\n",
    "}\n",
    "</pre></details>"
   ]
  },
  {
   "cell_type": "markdown",
   "metadata": {},
   "source": [
    "правильный пример\n",
    "<details><pre>\n",
    "package com.company.l01;\n",
    "class Pudra implements Cloneable {\n",
    "    int k = 5;\n",
    "    @Override\n",
    "    protected Pudra clone() throws CloneNotSupportedException {\n",
    "        return (Pudra) super.clone();\n",
    "    }\n",
    "}\n",
    "class Popcorn implements Cloneable {\n",
    "    int k = 3;\n",
    "    Pudra pudra;\n",
    "    @Override\n",
    "    protected Popcorn clone() throws CloneNotSupportedException {\n",
    "        Popcorn popcorn = (Popcorn) super.clone();\n",
    "        popcorn.pudra = pudra.clone();\n",
    "        return popcorn;\n",
    "    }\n",
    "    void doSomething() {\n",
    "        System.out.println(\"\"popcorn\"\");\n",
    "    }\n",
    "}\n",
    "public class Main {\n",
    "    public static void main(String[] args) throws CloneNotSupportedException {\n",
    "        Main main = new Main();\n",
    "        Popcorn popcorn = new Popcorn();\n",
    "        popcorn.pudra = new Pudra();\n",
    "        popcorn.k = 1;\n",
    "        popcorn.pudra.k = 10;\n",
    "        Popcorn popcorn2 = popcorn.clone();\n",
    "        popcorn2.k = 2;\n",
    "        popcorn2.pudra.k = 20;\n",
    "        System.out.println(\"\"k popcorn 1 = \"\" + popcorn.k\n",
    "                + \"\", k pudra popcorn 1 = \"\" + popcorn.pudra.k);\n",
    "        System.out.println(\"\"k popcorn 2 = \"\" + popcorn2.k\n",
    "                + \"\", k pudra popcorn 2 = \"\" + popcorn2.pudra.k);\n",
    "    }\n",
    "    //k popcorn 1 = 1, k pudra popcorn 1 = 10\n",
    "    //k popcorn 2 = 2, k pudra popcorn 2 = 20\n",
    "}\n",
    "</pre></details>"
   ]
  },
  {
   "cell_type": "code",
   "execution_count": null,
   "metadata": {},
   "outputs": [],
   "source": []
  },
  {
   "cell_type": "markdown",
   "metadata": {},
   "source": [
    "```\n",
    "Показатели по общей физичесой подготовке\n",
    "в начале сезона(сентябрь 2019)\n",
    "1.Прыжки на скакалке\n",
    "На 2-х ногах, раз/60 сек\t135\n",
    "На правой ноге, раз/30 сек\t75\n",
    "На левой ноге, раз/30 сек\t82\n",
    "На 2-х ногах, с двойным\n",
    "прокрутом раз/60 сек\t\t22\n",
    "2.Прыжок в дину с места,см\t190\n",
    "3.Подъем туловища вперед из\n",
    "положения лежа(\"пресс\"),\n",
    "раз/30 сек\t\t\t\t\t18\t\n",
    "4.Подъем туловища назад из\n",
    "положения лежа(\"спина\"),\n",
    "раз/30 сек\t\t\t\t\t29\t\n",
    "5.Ноклон туловища вперед\n",
    "(\"складка\"), см\t\t\t\t7\n",
    "6.\"Планк\",max/сек\t\t\t1.57\n",
    "```\n",
    "[jupyter](https://proglib.io/p/jupyter/)  "
   ]
  },
  {
   "cell_type": "markdown",
   "metadata": {},
   "source": [
    "[]()  \n",
    "[]()  \n",
    "[]()  \n",
    "[]()  \n",
    "[]()  \n",
    "```\n",
    "\n",
    "```"
   ]
  }
 ],
 "metadata": {
  "kernelspec": {
   "display_name": "Python 3",
   "language": "python",
   "name": "python3"
  },
  "language_info": {
   "codemirror_mode": {
    "name": "ipython",
    "version": 3
   },
   "file_extension": ".py",
   "mimetype": "text/x-python",
   "name": "python",
   "nbconvert_exporter": "python",
   "pygments_lexer": "ipython3",
   "version": "3.7.4"
  }
 },
 "nbformat": 4,
 "nbformat_minor": 2
}
