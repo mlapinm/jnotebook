{
 "cells": [
  {
   "cell_type": "markdown",
   "metadata": {},
   "source": [
    "[b180 ”рок Java 178: —ети 2: Sockets client side - —океты на стороне клиента](#b180-”рок-Java-178:-—ети-2:-Sockets-client-side---—океты-на-стороне-клиента)  \n",
    "[b181 ”рок Java 179: —ети 3: Sockets server side - —океты со стороны сервера.](#b181-”рок-Java-179:-—ети-3:-Sockets-server-side---—океты-со-стороны-сервера.)  \n",
    "[b182 ”рок Java 180: ѕротокол HTTP и как получить HTML](#b182-”рок-Java-180:-ѕротокол-HTTP-и-как-получить-HTML)  \n",
    "[b183 ”рок Java 181:  ак отправить email](#b183-”рок-Java-181:-как-отправить-email)  \n",
    "[b184 ”рок Java 182: ”становка Intellij Idea Ultimate](#b184-”рок-Java-182:-”становка-Intellij-Idea-Ultimate)  \n",
    "[b185 ”рок Java 183: JDBC 1: „то такое –ел¤ционна¤ база данных и SQL](#b185-”рок-Java-183:-JDBC-1:-„то-такое-–ел¤ционна¤-база-данных-и-SQL)  \n",
    "[b186 ”рок Java 184: JDBC 2: ”становка MySql на Windows 10](#b186-”рок-Java-184:-JDBC-2:-”становка-MySql-на-Windows-10)  \n",
    "[b187 ”рок Java 185: JDBC 3: ”становка MySql на Linux mint](#b187-”рок-Java-185:-JDBC-3:-”становка-MySql-на-Linux-mint)  \n",
    "[b188 ”рок Java 186: JDBC 4:  ак подключитьс¤ к MySql из Intellij Idea](#b188-”рок-Java-186:-JDBC-4:-как-подключитьс¤-к-MySql-из-Intellij-Idea)  \n",
    "[b189 ”рок Java 187: JDBC 5: ѕодключение к базе данных, на примере MySql](#b189-”рок-Java-187:-JDBC-5:-ѕодключение-к-базе-данных,-на-примере-MySql)  \n",
    "[b190 ”рок Java 188: JDBC 6: ¬ыполнение SQL комманд](#b190-”рок-Java-188:-JDBC-6:-¬ыполнение-SQL-комманд)  \n",
    "[b191 ”рок Java 189: JDBC 7: SQL Injection и PreparementStatement](#b191-”рок-Java-189:-JDBC-7:-SQL-Injection-и-PreparementStatement)  \n",
    "[b192 ”рок Java 190: JDBC 8 : BLOB - Binary large objects](#b192-”рок-Java-190:-JDBC-8-:-BLOB---Binary-large-objects)  \n",
    "[b193 ”рок Java 191: JDBC 9: ƒаты и SQL последовательности](#b193-”рок-Java-191:-JDBC-9:-ƒаты-и-SQL-последовательности)  \n",
    "[b194 ”рок Java 192: JDBC 10: ’ранимые процедуры](#b194-”рок-Java-192:-JDBC-10:-’ранимые-процедуры)  \n",
    "[b195 ”рок Java 193: JDBC 11: ћножественные результаты](#b195-”рок-Java-193:-JDBC-11:-ћножественные-результаты)  \n",
    "[b196 ”рок Java 194: JDBC 12: Scrollable RowSet](#b196-”рок-Java-194:-JDBC-12:-Scrollable-RowSet)  \n",
    "[b197 ”рок Java 195: JDBC 13: Update ResultSet](#b197-”рок-Java-195:-JDBC-13:-Update-ResultSet)  \n",
    "[b198 ”рок Java 196: JDBC 14:  эширование результата запроса - CachedRowSet](#b198-”рок-Java-196:-JDBC-14:-кэширование-результата-запроса---CachedRowSet)  \n",
    "[b199 ”рок Java 197: JDBC 15: Metadata](#b199-”рок-Java-197:-JDBC-15:-Metadata)  \n"
   ]
  },
  {
   "cell_type": "markdown",
   "metadata": {},
   "source": [
    "#### b180 ”рок Java 178: —ети 2: Sockets client side - —океты на стороне клиента  \n"
   ]
  },
  {
   "cell_type": "markdown",
   "metadata": {},
   "source": [
    "Microsoft Telnet> o india.colorado.edu 13  \n",
    "58873 20-01-25 08:37:13 00 0 0 394.2 UTC(NIST) *  \n"
   ]
  },
  {
   "cell_type": "markdown",
   "metadata": {},
   "source": [
    "telnet google.com 80  \n",
    "GET /search?q=test  \n",
    "  \n",
    "telnet zz.kl.com.ua 80  \n",
    "HOST: zz.kl.com.ua  "
   ]
  },
  {
   "cell_type": "markdown",
   "metadata": {},
   "source": []
  },
  {
   "cell_type": "markdown",
   "metadata": {},
   "source": [
    "<details><pre>\n",
    "//58873 20-01-25 09:01:07 00 0 0 914.1 UTC(NIST) *\n",
    "public class Main {\n",
    "    public static void main(String[] args)  {\n",
    "        try (Socket socket = new Socket()) {\n",
    "            socket.connect(new InetSocketAddress(&quot;india.colorado.edu&quot;,13),2000);\n",
    "            Scanner scanner=new Scanner(socket.getInputStream());\n",
    "            while (scanner.hasNextLine()){\n",
    "                System.out.println(scanner.nextLine());\n",
    "            }\n",
    "        } catch (IOException e) {\n",
    "            e.printStackTrace();\n",
    "        }\n",
    "    }\n",
    "}\n",
    "</pre></details>"
   ]
  },
  {
   "cell_type": "markdown",
   "metadata": {},
   "source": [
    "<details><pre>\n",
    "package network;\n",
    "import java.io.IOException;\n",
    "import java.io.InputStream;\n",
    "import java.net.InetSocketAddress;\n",
    "import java.net.Socket;\n",
    "import java.net.SocketException;\n",
    "import java.util.Scanner;\n",
    "public class SocketLesson {\n",
    "    public static void main(String[] args) {\n",
    "        try (Socket s = new Socket()) {\n",
    "            //s.connect(new InetSocketAddress(InetAddress.getLocalHost(), 8189));\n",
    "            //s.connect(new InetSocketAddress(&quot;india.colorado.edu&quot;, 13), 2000);\n",
    "            s.connect(new InetSocketAddress(&quot;google.com&quot;, 80), 2000);\n",
    "            InputStream inStream = s.getInputStream();\n",
    "            Scanner in = new Scanner(inStream);\n",
    "            while (in.hasNextLine()) {\n",
    "                String line = in.nextLine();\n",
    "                System.out.println(line);\n",
    "            }\n",
    "        } catch (SocketException e) {\n",
    "            e.printStackTrace();\n",
    "        } catch (IOException e) {\n",
    "            e.printStackTrace();\n",
    "        }\n",
    "    }\n",
    "}\n",
    "</pre></details>"
   ]
  },
  {
   "cell_type": "markdown",
   "metadata": {},
   "source": [
    "#### b181 ”рок Java 179: —ети 3: Sockets server side - —океты со стороны сервера.  \n"
   ]
  },
  {
   "cell_type": "markdown",
   "metadata": {},
   "source": [
    "//client\n",
    "<details><pre>\n",
    "package com.company.l01;\n",
    "import java.io.IOException;\n",
    "import java.io.PrintWriter;\n",
    "import java.net.InetSocketAddress;\n",
    "import java.net.Socket;\n",
    "import java.util.Scanner;\n",
    "//client\n",
    "public class Main {\n",
    "    public static void main(String[] args)  {\n",
    "        try (Socket socket = new Socket()) {\n",
    "            socket.connect(new InetSocketAddress(&quot;localhost&quot;,8189),2000);\n",
    "            Runnable runnable = () -&gt;  {\n",
    "                try {\n",
    "                    Scanner scanner = new Scanner(socket.getInputStream());\n",
    "                    while (scanner.hasNextLine()) {\n",
    "                        System.out.println(scanner.nextLine());\n",
    "                    }\n",
    "                } catch (IOException e) {\n",
    "                    e.printStackTrace();\n",
    "                }\n",
    "            };\n",
    "            new Thread(runnable).start();\n",
    "            PrintWriter printWriter = new PrintWriter(socket.getOutputStream(),true);\n",
    "            Scanner scannerConsole = new Scanner(System.in);\n",
    "            while (scannerConsole.hasNextLine()){\n",
    "                String s = scannerConsole.nextLine();\n",
    "                printWriter.println(s);\n",
    "//                System.out.println(s);\n",
    "                if(s.equals(&quot;exit&quot;)){\n",
    "                    break;\n",
    "                }\n",
    "            }\n",
    "        } catch (IOException e) {\n",
    "            e.printStackTrace();\n",
    "        }\n",
    "    }\n",
    "}\n",
    "</pre></details>"
   ]
  },
  {
   "cell_type": "markdown",
   "metadata": {},
   "source": [
    "//server\n",
    "<details><pre>\n",
    "package com.company.l02;\n",
    "import java.io.IOException;\n",
    "import java.io.InputStream;\n",
    "import java.io.OutputStream;\n",
    "import java.io.PrintWriter;\n",
    "import java.net.ServerSocket;\n",
    "import java.net.Socket;\n",
    "import java.util.Scanner;\n",
    "import java.util.regex.Matcher;\n",
    "import java.util.regex.Pattern;\n",
    "//server\n",
    "public class Main {\n",
    "    public static void main(String[] args) {\n",
    "        try (ServerSocket serverSocket = new ServerSocket(8189)) {\n",
    "            while (true) {\n",
    "                Socket socket = serverSocket.accept();\n",
    "                Runnable runnable = () -&gt; {\n",
    "                    Scanner scanner = null;\n",
    "                    try {\n",
    "                        scanner = new Scanner(socket.getInputStream());\n",
    "                        PrintWriter printWriter = new PrintWriter(socket.getOutputStream(), true);\n",
    "                        printWriter.println(&quot;Hello&quot;);\n",
    "                        while (scanner.hasNextLine()) {\n",
    "                            String s = scanner.nextLine();\n",
    "                            printWriter.println(s);\n",
    "                            System.out.println(s);\n",
    "                            if (s.equals(&quot;exit&quot;)) {\n",
    "                                break;\n",
    "                            }\n",
    "                        }\n",
    "                    } catch (IOException e) {\n",
    "                        e.printStackTrace();\n",
    "                    }\n",
    "                    System.out.println(&quot;End&quot;);\n",
    "                };\n",
    "                new Thread(runnable).start();\n",
    "            }\n",
    "        } catch (IOException e) {\n",
    "            e.printStackTrace();\n",
    "        }\n",
    "    }\n",
    "}\n",
    "</pre></details>"
   ]
  },
  {
   "cell_type": "markdown",
   "metadata": {},
   "source": [
    "<details><pre>\n",
    "package network;\n",
    "import java.io.IOException;\n",
    "import java.io.PrintWriter;\n",
    "import java.net.ServerSocket;\n",
    "import java.net.Socket;\n",
    "import java.util.Scanner;\n",
    "public class ServerSocketLesson {\n",
    "    public static void main(String[] args) throws IOException {\n",
    "        try(ServerSocket serverSocket = new ServerSocket(8189);\n",
    "            Socket socket = serverSocket.accept();\n",
    "            Scanner scanner = new Scanner(socket.getInputStream())) {\n",
    "            PrintWriter printWriter = new PrintWriter(socket.getOutputStream(),true);\n",
    "            //printWriter.println(&quot;bla&quot;);\n",
    "            while (scanner.hasNextLine()) {\n",
    "                String str = scanner.nextLine();\n",
    "                System.out.println(str);\n",
    "                printWriter.println(&quot;you've send: &quot; + str);\n",
    "                if(str.equals(&quot;exit&quot;)) {\n",
    "                    break;\n",
    "                }\n",
    "            }\n",
    "        }\n",
    "    }\n",
    "}\n",
    "</pre></details>"
   ]
  },
  {
   "cell_type": "markdown",
   "metadata": {},
   "source": [
    "#### b182 ”рок Java 180: ѕротокол HTTP и как получить HTML  \n"
   ]
  },
  {
   "cell_type": "markdown",
   "metadata": {},
   "source": [
    "[Examples of Request Message](https://www.tutorialspoint.com/http/http_requests.htm)  "
   ]
  },
  {
   "cell_type": "markdown",
   "metadata": {},
   "source": [
    "GET /index.html HTTP/1.1\n",
    "User-Agent: Mozilla/4.0 (compatible; MSIE5.01; Windows NT)\n",
    "Host: zz.kl.com.ua\n",
    "Accept-Language: en-us\n",
    "Accept-Encoding: gzip, deflate\n",
    "Connection: Keep-Alive"
   ]
  },
  {
   "cell_type": "markdown",
   "metadata": {},
   "source": [
    "GET /template/31bmrk.html HTTP/1.1\n",
    "Host: zz.kl.com.ua\n",
    "Accept-Language: en-us\n",
    "Connection: Keep-Alive\n"
   ]
  },
  {
   "cell_type": "markdown",
   "metadata": {},
   "source": [
    "<details><pre>\n",
    "package com.company.l04;\n",
    "import java.io.IOException;\n",
    "import java.net.MalformedURLException;\n",
    "import java.net.URL;\n",
    "import java.net.URLConnection;\n",
    "import java.util.List;\n",
    "import java.util.Map;\n",
    "import java.util.Scanner;\n",
    "//GET / HTTP/1.1\n",
    "//User-Agent: Java/1.8.0_161\n",
    "//Host: localhost:8189\n",
    "//Accept: text/html, image/gif, image/jpeg, *; q=.2, */*; q=.2\n",
    "//Connection: keep-alive\n",
    "//Transfer-Encoding / [chunked]\n",
    "//null / [HTTP/1.1 200 OK]\n",
    "//Server / [gws]\n",
    "//P3P / [CP=&quot;This is not a P3P policy! See g.co/p3phelp for more info.&quot;]\n",
    "//Date / [Sat, 25 Jan 2020 16:40:21 GMT]\n",
    "//Accept-Ranges / [none]\n",
    "//X-Frame-Options / [SAMEORIGIN]\n",
    "//Cache-Control / [private, max-age=0]\n",
    "//Vary / [Accept-Encoding]\n",
    "//Set-Cookie / [NID=196=gC1nT2WEm7HxOV_JmJ2NfkJVi598RALWxSZgs-LXrIrN-RkQMKaB2Qb-iYTbubtur4x41X-eFz1kROst2Q76vKmJFwG9oGGKMDsG7zsgR9C4rZc685ccarN8pYG-_SE5eG3VysNHFa1k4MnS6H13re2VOgRybwK7weBh63UGem0; expires=Sun, 26-Jul-2020 16:40:21 GMT; path=/; domain=.google.com; HttpOnly, 1P_JAR=2020-01-25-16; expires=Mon, 24-Feb-2020 16:40:21 GMT; path=/; domain=.google.com; Secure]\n",
    "//Expires / [-1]\n",
    "//X-XSS-Protection / [0]\n",
    "//Content-Type / [text/html; charset=ISO-8859-1]\n",
    "public class Main {\n",
    "    public static void main(String[] args) throws IOException {\n",
    "//        URLConnection connection = new URL(&quot;http://localhost:8189&quot;).openConnection();\n",
    "        URLConnection connection = new URL(&quot;http://google.com&quot;).openConnection();\n",
    "        Scanner scanner = new Scanner(connection.getInputStream());\n",
    "        scanner.useDelimiter(&quot;\\\\Z&quot;);\n",
    "//        System.out.println(scanner.next());\n",
    "        Map&lt;String,List&lt;String&gt;&gt; headerFields = connection.getHeaderFields();\n",
    "        for (Map.Entry&lt;String,List&lt;String&gt;&gt; entry: headerFields.entrySet()){\n",
    "            System.out.println(entry.getKey() + &quot; / &quot; + entry.getValue());\n",
    "        }\n",
    "        System.out.println(111);\n",
    "    }\n",
    "}\n",
    "</pre></details>"
   ]
  },
  {
   "cell_type": "markdown",
   "metadata": {},
   "source": [
    "<details><pre>\n",
    "package network;\n",
    "import java.io.IOException;\n",
    "import java.net.URL;\n",
    "import java.net.URLConnection;\n",
    "import java.util.List;\n",
    "import java.util.Map;\n",
    "import java.util.Scanner;\n",
    "public class WebDataLesson {\n",
    "    public static void main(String[] args) throws IOException {\n",
    "        URLConnection connection =  new URL(&quot;http://www.google.com/&quot;).openConnection();\n",
    "        Scanner scanner = new Scanner(connection.getInputStream());\n",
    "        scanner.useDelimiter(&quot;\\\\Z&quot;);\n",
    "        System.out.println(scanner.next());\n",
    "        Map&lt;String,List&lt;String&gt;&gt; headerFields = connection.getHeaderFields();\n",
    "        for (Map.Entry&lt;String, List&lt;String&gt;&gt; entry : headerFields.entrySet()) {\n",
    "            System.out.println(entry.getKey() + &quot;/&quot; + entry.getValue());\n",
    "        }\n",
    "//        connection.setDoOutput(true);\n",
    "//        try(PrintWriter out = new PrintWriter(connection.getOutputStream())) {\n",
    "//            out.print(&quot;q&quot; + &quot;=&quot; + URLEncoder.encode(&quot;test&quot;, &quot;UTF-8&quot;));\n",
    "//        }\n",
    "//        for (int i = 0; i &lt; 100; i++) {\n",
    "//            String value = connection.getHeaderField(i);\n",
    "//            if(value == null) {\n",
    "//                break;\n",
    "//            } else {\n",
    "//                System.out.println(value);\n",
    "//            }\n",
    "//        }\n",
    "//        Map&lt;String,List&lt;String&gt;&gt; headerFields = connection.getHeaderFields();\n",
    "//        for (Map.Entry&lt;String, List&lt;String&gt;&gt; entry : headerFields.entrySet()) {\n",
    "//            System.out.println(entry.getKey() + &quot;/&quot; + entry.getValue());\n",
    "//        }\n",
    "//        URLConnection connection = url.openConnection();\n",
    "//        connection.setDoOutput(true);\n",
    "//        connection.connect();\n",
    "//        System.out.println(connection.getContentEncoding());\n",
    "//        System.out.println(connection.getContentLength());\n",
    "//        System.out.println(connection.getContentType());\n",
    "//        System.out.println(connection.getContent());\n",
    "//        System.out.println(connection.getDate());\n",
    "//        System.out.println(connection.getExpiration());\n",
    "//        System.out.println(connection.getLastModified());\n",
    "//        Scanner scanner = new Scanner(connection.getInputStream());\n",
    "//        if(scanner.hasNextLine()) {\n",
    "//            System.out.println(scanner.nextLine());\n",
    "//        }\n",
    "    }\n",
    "}\n",
    "</pre></details>"
   ]
  },
  {
   "cell_type": "markdown",
   "metadata": {},
   "source": [
    "#### b183 ”рок Java 181: как отправить email  \n"
   ]
  },
  {
   "cell_type": "markdown",
   "metadata": {},
   "source": [
    "mail.transport.protocol=smtp\n",
    "mail.smtp.auth=true\n",
    "mail.smtp.host=smtp.gmail.com\n",
    "mail.smtp.user=mmlapinm@gmail.com\n"
   ]
  },
  {
   "cell_type": "markdown",
   "metadata": {},
   "source": [
    "<details><pre>\n",
    "package network;\n",
    "import java.io.IOException;\n",
    "import java.util.Properties;\n",
    "public class EmailLesson {\n",
    "    public static void main(String[] args) throws IOException {\n",
    "//        final Properties properties = new Properties();\n",
    "//        properties.load(EmailLesson.class.getClassLoader().getResourceAsStream(&quot;mail.properties&quot;));\n",
    "//\n",
    "//        Session mailSession = Session.getDefaultInstance(properties);\n",
    "//        MimeMessage message = new MimeMessage(mailSession);\n",
    "//        message.setFrom(new InternetAddress(&quot;myemail&quot;));\n",
    "//        message.addRecipient(Message.RecipientType.TO, new InternetAddress(&quot;youremail@mail.ru &quot;));\n",
    "//        message.setSubject(&quot;hello&quot;);\n",
    "//        message.setText(&quot;Hi this is my test message&quot;);\n",
    "//\n",
    "//        Transport tr = mailSession.getTransport();\n",
    "//        tr.connect(null, &quot;123&quot;);\n",
    "//        tr.sendMessage(message, message.getAllRecipients());\n",
    "//        tr.close();\n",
    "    }\n",
    "}\n",
    "</pre></details>"
   ]
  },
  {
   "cell_type": "markdown",
   "metadata": {},
   "source": [
    "#### b184 ”рок Java 182: ”становка Intellij Idea Ultimate  \n"
   ]
  },
  {
   "cell_type": "markdown",
   "metadata": {},
   "source": []
  },
  {
   "cell_type": "markdown",
   "metadata": {},
   "source": [
    "#### b185 ”рок Java 183: JDBC 1: „то такое –ел¤ционна¤ база данных и SQL  \n"
   ]
  },
  {
   "cell_type": "markdown",
   "metadata": {},
   "source": [
    "3036"
   ]
  },
  {
   "cell_type": "markdown",
   "metadata": {},
   "source": [
    "#### b186 ”рок Java 184: JDBC 2: ”становка MySql на Windows 10  \n"
   ]
  },
  {
   "cell_type": "markdown",
   "metadata": {},
   "source": [
    "##### mysql -u root -p\n",
    "D:\\programs\\OSPanel\\modules\\database\\MySQL-5.6-x64\\bin>mysql -u root -p  \n"
   ]
  },
  {
   "cell_type": "markdown",
   "metadata": {},
   "source": [
    "##### show databases;\n",
    "```\n",
    "mysql> show databases;\n",
    "+--------------------+\n",
    "| Database           |\n",
    "+--------------------+\n",
    "| information_schema |\n",
    "| mysql              |\n",
    "| performance_schema |\n",
    "+--------------------+\n",
    "3 rows in set (0.00 sec)\n",
    "```"
   ]
  },
  {
   "cell_type": "markdown",
   "metadata": {},
   "source": [
    "#### b187 ”рок Java 185: JDBC 3: ”становка MySql на Linux mint  \n"
   ]
  },
  {
   "cell_type": "markdown",
   "metadata": {},
   "source": [
    "apt get "
   ]
  },
  {
   "cell_type": "markdown",
   "metadata": {},
   "source": [
    "#### b188 ”рок Java 186: JDBC 4: как подключитьс¤ к MySql из Intellij Idea  \n"
   ]
  },
  {
   "cell_type": "markdown",
   "metadata": {},
   "source": []
  },
  {
   "cell_type": "markdown",
   "metadata": {},
   "source": [
    "#### b189 ”рок Java 187: JDBC 5: ѕодключение к базе данных, на примере MySql  \n"
   ]
  },
  {
   "cell_type": "markdown",
   "metadata": {},
   "source": [
    "`View` `Tool Window` `Database`"
   ]
  },
  {
   "attachments": {
    "img-2020-01-23-15-01-58.png": {
     "image/png": "[encoded data removed]"
    }
   },
   "cell_type": "markdown",
   "metadata": {},
   "source": [
    "##### Tool window\n",
    "![img-2020-01-23-15-01-58.png](attachment:img-2020-01-23-15-01-58.png)  \n"
   ]
  },
  {
   "cell_type": "markdown",
   "metadata": {},
   "source": [
    "1. \n",
    "1. \n",
    "1. \n",
    "1. Data Base Properties (Shift Enter)\n",
    "1. \n",
    "1. \n",
    "1. \n",
    "1. Jamp to Console (Ctrl Shift F10)\n",
    "1. \n"
   ]
  },
  {
   "cell_type": "markdown",
   "metadata": {},
   "source": [
    "##### Jamp to Console\n",
    "create DATABASE test;"
   ]
  },
  {
   "cell_type": "markdown",
   "metadata": {},
   "source": [
    "Name   |  mysql@localhost \n",
    "------------|--------------\n",
    "Port   | 3306  \n",
    "Host   | localhost  \n",
    "DataBase   | mysql  \n",
    "User   | root  \n",
    "Url   | jdbc:mysql://localhost:3306/mysql  \n",
    "Driver   | MySql  \n",
    "   |   \n",
    "   |  \n"
   ]
  },
  {
   "cell_type": "markdown",
   "metadata": {},
   "source": [
    "Name   |  test@localhost \n",
    "------------|--------------\n",
    "Url   | jdbc:mysql://localhost:3306/test \n"
   ]
  },
  {
   "cell_type": "markdown",
   "metadata": {},
   "source": [
    "CREATE TABLE IF NOT EXISTS Books (id MEDIUMINT NOT NULL AUTO_INCREMENT, name CHAR(30) NOT NULL, PRIMARY KEY (id));"
   ]
  },
  {
   "cell_type": "markdown",
   "metadata": {},
   "source": [
    "##### Driver\n",
    "[https://downloads.mysql.com/archives/c-j/](https://downloads.mysql.com/archives/c-j/)  \n",
    "mysql-connector-java-5.0.8-bin.jar  \n",
    "C:/Program Files/Java/jdk1.8.0_161/jre/lib/  \n"
   ]
  },
  {
   "cell_type": "markdown",
   "metadata": {},
   "source": [
    "`Project Structure` `SDKs` `ClassPath` `+`  \n",
    "C:/Program Files/Java/jdk1.8.0_161/jre/lib/mysql-connector-java-5.0.8-bin.jar"
   ]
  },
  {
   "cell_type": "markdown",
   "metadata": {},
   "source": [
    "[how to connect to mysql from jdbc](https://mkyong.com/jdbc/how-to-connect-to-mysql-with-jdbc-driver-java/)"
   ]
  },
  {
   "cell_type": "markdown",
   "metadata": {},
   "source": [
    "//We're connected\n",
    "<details><pre>\n",
    "package com.company.l01;\n",
    "import com.mysql.jdbc.Connection;\n",
    "import java.sql.DriverManager;\n",
    "//We're connected\n",
    "public class Main {\n",
    "    public static void main(String[] args) throws ClassNotFoundException {\n",
    "        String name = &quot;root&quot;;\n",
    "        String passwd = &quot;&quot;;\n",
    "        String url = &quot;jdbc:mysql://localhost:3306/test&quot;;\n",
    "        Class.forName(&quot;com.mysql.jdbc.Driver&quot;);\n",
    "        try {\n",
    "            Connection connection = (Connection) DriverManager.getConnection(\n",
    "                    url, name, passwd);\n",
    "            System.out.println(&quot;We're connected&quot;);\n",
    "        } catch (Exception e) {\n",
    "            System.out.println(e);\n",
    "        }\n",
    "    }\n",
    "}\n",
    "</pre></details>"
   ]
  },
  {
   "cell_type": "markdown",
   "metadata": {},
   "source": [
    "<details><pre>\n",
    "package jdbc;\n",
    "import java.sql.*;\n",
    "public class JDBCConectionLesson {\n",
    "    public static void main(String[] args) throws SQLException, ClassNotFoundException {\n",
    "        String url = &quot;jdbc:mysql://localhost:3306/Lessons&quot;;\n",
    "        String username = &quot;root&quot;;\n",
    "        String password = &quot;1&quot;;\n",
    "        Class.forName(&quot;com.mysql.jdbc.Driver&quot;);\n",
    "        try(Connection conn = DriverManager.getConnection(url, username, password)) {\n",
    "            System.out.println(&quot;We're connected&quot;);\n",
    "        }\n",
    "    }\n",
    "}\n",
    "</pre></details>"
   ]
  },
  {
   "cell_type": "markdown",
   "metadata": {},
   "source": [
    "#### b190 ”рок Java 188: JDBC 6: ¬ыполнение SQL комманд  \n"
   ]
  },
  {
   "cell_type": "markdown",
   "metadata": {},
   "source": [
    "//1 Solomon\n",
    "//2 Inferno\n",
    "//\n",
    "//id name\n",
    "\n",
    "<details><pre>\n",
    "//1 Solomon\n",
    "//2 Inferno\n",
    "//\n",
    "//id name\n",
    "public class Main {\n",
    "    public static void main(String[] args) throws ClassNotFoundException {\n",
    "        String name = &quot;root&quot;;\n",
    "        String passwd = &quot;&quot;;\n",
    "        String url = &quot;jdbc:mysql://localhost:3306/test&quot;;\n",
    "        Class.forName(&quot;com.mysql.jdbc.Driver&quot;);\n",
    "        try {\n",
    "            Connection connection = (Connection) DriverManager.getConnection(\n",
    "                    url, name, passwd);\n",
    "            Statement statement = (Statement) connection.createStatement();\n",
    "            if (false) {\n",
    "                statement.executeUpdate(&quot;drop table books&quot;);\n",
    "            }\n",
    "            if (false) {\n",
    "                statement.executeUpdate(\n",
    "                        &quot;CREATE TABLE IF NOT EXISTS Books (&quot; +\n",
    "                                &quot;id MEDIUMINT NOT NULL AUTO_INCREMENT, &quot; +\n",
    "                                &quot;name CHAR(30) NOT NULL, &quot; +\n",
    "                                &quot;PRIMARY KEY (id));&quot;\n",
    "                );\n",
    "            }\n",
    "            if (false) {\n",
    "                statement.executeUpdate(\n",
    "                        &quot;insert into books (name) values ('Inferno')&quot;);\n",
    "            }\n",
    "            if (true) {\n",
    "                statement.executeUpdate(\n",
    "                        &quot;insert into books set name = 'Solomon key'&quot;);\n",
    "            }\n",
    "            if (true) {\n",
    "                ResultSet resultSet = statement.executeQuery(\n",
    "                        &quot;select * from books&quot;);\n",
    "                if (false) {\n",
    "                    while (resultSet.next()) {\n",
    "                        System.out.print(resultSet.getInt(1) + &quot; &quot;);\n",
    "                        System.out.println(resultSet.getString(2));\n",
    "                    }\n",
    "                }\n",
    "                if (false) {\n",
    "                    while (resultSet.next()) {\n",
    "                        System.out.print(resultSet.getInt(&quot;id&quot;) + &quot; &quot;);\n",
    "                        System.out.println(resultSet.getString(&quot;name&quot;));\n",
    "                    }\n",
    "                }\n",
    "                if (false) {\n",
    "                    ResultSet resultSet1 = statement.executeQuery(\n",
    "                            &quot;select * from books where id&lt;3&quot;);\n",
    "                    while (resultSet1.next()) {\n",
    "                        System.out.print(resultSet1.getInt(&quot;id&quot;) + &quot; &quot;);\n",
    "                        System.out.println(resultSet1.getString(&quot;name&quot;));\n",
    "                    }\n",
    "                }\n",
    "                if(true){\n",
    "                    ResultSet resultSet2 = statement.executeQuery(\n",
    "                            &quot;select * from books where id &lt; 3&quot;);\n",
    "                    int columns = resultSet2.getMetaData().getColumnCount();\n",
    "                    // Перебор строк с данными\n",
    "                    for (int i = 1; i &lt;= columns; i++) {\n",
    "                        System.out.print(resultSet2.getMetaData().getColumnName(i)+&quot; &quot;);\n",
    "                    }\n",
    "                    System.out.println();\n",
    "                }\n",
    "            }\n",
    "        } catch (Exception e) {\n",
    "            System.out.println(e);\n",
    "        }\n",
    "    }\n",
    "}\n",
    "</pre></details>"
   ]
  },
  {
   "cell_type": "markdown",
   "metadata": {},
   "source": [
    "<details><pre>\n",
    "package jdbc;\n",
    "import java.sql.*;\n",
    "/**\n",
    " * Created by max on 2/7/17.\n",
    " */\n",
    "public class JDBCExecuteQueeryLesson {\n",
    "    public static void main(String[] args) throws SQLException, ClassNotFoundException {\n",
    "        String url = &quot;jdbc:mysql://localhost:3306/Lessons&quot;;\n",
    "        String username = &quot;root&quot;;\n",
    "        String password = &quot;1&quot;;\n",
    "        Class.forName(&quot;com.mysql.jdbc.Driver&quot;);\n",
    "        try(Connection conn = DriverManager.getConnection(url, username, password);\n",
    "            Statement stat = conn.createStatement()) {\n",
    "            stat.execute(&quot;drop table Books&quot;);\n",
    "            stat.executeUpdate(&quot;CREATE TABLE IF NOT EXISTS Books (id MEDIUMINT NOT NULL AUTO_INCREMENT, name CHAR(30) NOT NULL, PRIMARY KEY (id))&quot;);\n",
    "            stat.executeUpdate(&quot;INSERT INTO Books (name) VALUES ('Inferno')&quot;);\n",
    "            stat.executeUpdate(&quot;INSERT INTO Books SET name = 'Solomon key' &quot;);\n",
    "            ResultSet rs = stat.executeQuery(&quot;SELECT * FROM Books&quot;);\n",
    "            while (rs.next()) {\n",
    "                System.out.println(rs.getInt(&quot;id&quot;));\n",
    "                System.out.println(rs.getString(2));\n",
    "            }\n",
    "            //Statement st = conn.createStatement();\n",
    "            ResultSet rs2 = stat.executeQuery(&quot;SELECT name FROM Books where id = 1&quot;);\n",
    "            while (rs2.next()) {\n",
    "                System.out.println(rs2.getString(&quot;name&quot;));\n",
    "            }\n",
    "        }\n",
    "    }\n",
    "}\n",
    "</pre></details>"
   ]
  },
  {
   "cell_type": "markdown",
   "metadata": {},
   "source": [
    "#### b191 ”рок Java 189: JDBC 7: SQL Injection и PreparementStatement  \n"
   ]
  },
  {
   "cell_type": "markdown",
   "metadata": {},
   "source": [
    "//conn.prepareStatement\n",
    "<details><pre>\n",
    "package com.company.l01;\n",
    "import java.sql.*;\n",
    "//\n",
    "public class Main {\n",
    "    public static void main(String[] args) throws SQLException, ClassNotFoundException {\n",
    "        String url = &quot;jdbc:mysql://localhost:3306/test&quot;;\n",
    "        String username = &quot;root&quot;;\n",
    "        String password = &quot;&quot;;\n",
    "        Class.forName(&quot;com.mysql.jdbc.Driver&quot;);\n",
    "        try (\n",
    "                Connection conn = (Connection) DriverManager.getConnection(\n",
    "                        url, username, password);\n",
    "                Statement stat = conn.createStatement()) {\n",
    "            stat.execute(&quot;drop table Users&quot;);\n",
    "            stat.executeUpdate(&quot;CREATE TABLE IF NOT EXISTS Users (id MEDIUMINT NOT NULL AUTO_INCREMENT, name CHAR(30) NOT NULL, password CHAR(30) NOT NULL, PRIMARY KEY (id))&quot;);\n",
    "            stat.executeUpdate(&quot;INSERT INTO Users (name, password) VALUES ('max', '123')&quot;);\n",
    "            stat.executeUpdate(&quot;INSERT INTO Users SET name = 'otherGuy', password = '321' &quot;);\n",
    "            if (false) {\n",
    "                String s = &quot;&quot;;\n",
    "                switch (2) {\n",
    "                    case 1:\n",
    "                        s = &quot;1&quot;;\n",
    "                        break;\n",
    "                    case 2:\n",
    "                        s = &quot;1' or 1 = '1&quot;;\n",
    "                        break;\n",
    "                    case 3:\n",
    "                        s = &quot;1; drop table users&quot;;//no work\n",
    "                        break;\n",
    "                }\n",
    "                ResultSet rs = stat.executeQuery(&quot;SELECT * FROM Users where id = '&quot; + s + &quot;'&quot;);\n",
    "                while (rs.next()) {\n",
    "                    System.out.println(&quot;userName: &quot; + rs.getString(&quot;name&quot;));\n",
    "                    System.out.println(&quot;userPassword: &quot; + rs.getString(&quot;password&quot;));\n",
    "                }\n",
    "            }\n",
    "            if (true) {\n",
    "                PreparedStatement preparedStatement = conn.prepareStatement(&quot;SELECT * FROM Users where id = ?&quot;);\n",
    "                preparedStatement.setString(1, &quot;1' or 1 = '1&quot;);\n",
    "                ResultSet resultSet = preparedStatement.executeQuery();\n",
    "                while (resultSet.next()) {\n",
    "                    System.out.println(resultSet.getInt(&quot;id&quot;));\n",
    "                    System.out.println(resultSet.getString(&quot;name&quot;));\n",
    "                }\n",
    "            }\n",
    "        }\n",
    "    }\n",
    "}\n",
    "</pre></details>"
   ]
  },
  {
   "cell_type": "markdown",
   "metadata": {},
   "source": [
    "<details><pre>\n",
    "package jdbc;\n",
    "import java.sql.*;\n",
    "/**\n",
    " * Created by max on 2/7/17.\n",
    " */\n",
    "public class PrepareStatemantLesson {\n",
    "    public static void main(String[] args) throws SQLException, ClassNotFoundException {\n",
    "        String url = &quot;jdbc:mysql://localhost:3306/Lessons&quot;;\n",
    "        String username = &quot;root&quot;;\n",
    "        String password = &quot;1&quot;;\n",
    "        Class.forName(&quot;com.mysql.jdbc.Driver&quot;);\n",
    "        try(Connection conn = DriverManager.getConnection(url, username, password);\n",
    "            Statement stat = conn.createStatement()) {\n",
    "            stat.execute(&quot;drop table Users&quot;);\n",
    "            stat.executeUpdate(&quot;CREATE TABLE IF NOT EXISTS Users (id MEDIUMINT NOT NULL AUTO_INCREMENT, name CHAR(30) NOT NULL, password CHAR(30) NOT NULL, PRIMARY KEY (id))&quot;);\n",
    "            stat.executeUpdate(&quot;INSERT INTO Users (name, password) VALUES ('max', '123')&quot;);\n",
    "            stat.executeUpdate(&quot;INSERT INTO Users SET name = 'otherGuy', password = '321' &quot;);\n",
    "            //String s = &quot;1&quot;;\n",
    "//            String s = &quot;1' or 1 = '1&quot;;\n",
    "//            //String s = &quot;1; drop table Books&quot;;\n",
    "//            ResultSet rs = stat.executeQuery(&quot;SELECT * FROM Users where id = '&quot; + s + &quot;'&quot;);\n",
    "//            while (rs.next()) {\n",
    "//                System.out.println(&quot;userName: &quot; + rs.getString(&quot;name&quot;));\n",
    "//                System.out.println(&quot;userPassword: &quot; + rs.getString(&quot;password&quot;));\n",
    "//            }\n",
    "            PreparedStatement preparedStatement = conn.prepareStatement(&quot;SELECT * FROM Users where id = ?&quot;);\n",
    "            preparedStatement.setString(1, &quot;1' or 1 = '1&quot;);\n",
    "            ResultSet resultSet = preparedStatement.executeQuery();\n",
    "            while (resultSet.next()) {\n",
    "                System.out.println(resultSet.getInt(&quot;id&quot;));\n",
    "                System.out.println(resultSet.getString(&quot;name&quot;));\n",
    "            }\n",
    "        }\n",
    "    }\n",
    "}\n",
    "</pre></details>"
   ]
  },
  {
   "cell_type": "markdown",
   "metadata": {},
   "source": [
    "#### b192 ”рок Java 190: JDBC 8 : BLOB - Binary large objects  \n",
    "mysql-connector-java-5.1.40-bin.jar"
   ]
  },
  {
   "cell_type": "code",
   "execution_count": null,
   "metadata": {},
   "outputs": [],
   "source": []
  },
  {
   "cell_type": "markdown",
   "metadata": {},
   "source": [
    "<details><pre>\n",
    "package jdbc;\n",
    "import javax.imageio.ImageIO;\n",
    "import java.awt.*;\n",
    "import java.awt.image.BufferedImage;\n",
    "import java.io.BufferedInputStream;\n",
    "import java.io.File;\n",
    "import java.io.IOException;\n",
    "import java.io.OutputStream;\n",
    "import java.sql.*;\n",
    "import java.util.Scanner;\n",
    "/**\n",
    " * Created by max on 2/7/17.\n",
    " */\n",
    "public class BlobLesson {\n",
    "    public static void main(String[] args) throws ClassNotFoundException, SQLException, IOException {\n",
    "        String url = &quot;jdbc:mysql://localhost:3306/Lessons&quot;;\n",
    "        String username = &quot;root&quot;;\n",
    "        String password = &quot;1&quot;;\n",
    "        Class.forName(&quot;com.mysql.jdbc.Driver&quot;);\n",
    "        try(Connection conn = DriverManager.getConnection(url, username, password);\n",
    "            Statement stat = conn.createStatement()) {\n",
    "            stat.execute(&quot;drop table IF EXISTS Books&quot;);\n",
    "            stat.executeUpdate(&quot;CREATE TABLE IF NOT EXISTS Books (id MEDIUMINT NOT NULL AUTO_INCREMENT, name CHAR(30) NOT NULL, img BLOB, PRIMARY KEY (id))&quot;);\n",
    "            BufferedImage img = ImageIO.read(new File(&quot;smile.jpg&quot;));\n",
    "            Blob blb = conn.createBlob();\n",
    "            try (OutputStream out = blb.setBinaryStream(1)) {\n",
    "                ImageIO.write(img, &quot;jpg&quot;, out);\n",
    "            }\n",
    "            PreparedStatement preparedStatement = conn.prepareStatement(&quot;INSERT INTO Books (name, img) VALUES (?, ?)&quot;);\n",
    "            preparedStatement.setString(1, &quot;Inferno&quot;);\n",
    "            preparedStatement.setBlob(2, blb);\n",
    "            preparedStatement.executeUpdate();\n",
    "            ResultSet result = stat.executeQuery(&quot;select * from Books&quot;);\n",
    "            if (result.next())\n",
    "            {\n",
    "                Blob blob = result.getBlob(&quot;img&quot;);\n",
    "                BufferedImage image = ImageIO.read(blob.getBinaryStream());\n",
    "                File outputFile = new File(&quot;saved.png&quot;);\n",
    "                ImageIO.write(image, &quot;png&quot;, outputFile);\n",
    "            }\n",
    "        }\n",
    "    }\n",
    "}\n",
    "</pre></details>"
   ]
  },
  {
   "cell_type": "markdown",
   "metadata": {},
   "source": [
    "#### b193 ”рок Java 191: JDBC 9: ƒаты и SQL последовательности  \n"
   ]
  },
  {
   "cell_type": "markdown",
   "metadata": {},
   "source": [
    "<details><pre>\n",
    "package jdbc;\n",
    "import org.xml.sax.SAXException;\n",
    "import javax.xml.parsers.ParserConfigurationException;\n",
    "import javax.xml.stream.XMLStreamException;\n",
    "import javax.xml.transform.TransformerException;\n",
    "import javax.xml.xpath.XPathExpressionException;\n",
    "import java.io.IOException;\n",
    "import java.sql.*;\n",
    "/**\n",
    " * Created by max on 2/7/17.\n",
    " */\n",
    "public class SqlDateAndEscapeLesson {\n",
    "    public static void main(String[] args) throws ParserConfigurationException, IOException, SAXException, XMLStreamException, TransformerException, XPathExpressionException, SQLException, ClassNotFoundException {\n",
    "        String url = &quot;jdbc:mysql://localhost:3306/Lessons&quot;;\n",
    "        String username = &quot;root&quot;;\n",
    "        String password = &quot;1&quot;;\n",
    "        Class.forName(&quot;com.mysql.jdbc.Driver&quot;);\n",
    "        try(Connection conn = DriverManager.getConnection(url, username, password);\n",
    "            Statement stat = conn.createStatement()) {\n",
    "            stat.execute(&quot;drop table IF EXISTS Books&quot;);\n",
    "            stat.executeUpdate(&quot;CREATE TABLE IF NOT EXISTS Books (id MEDIUMINT NOT NULL AUTO_INCREMENT, name CHAR(30) NOT NULL, dt DATE, PRIMARY KEY (id))&quot;);\n",
    "            PreparedStatement preparedStatement = conn.prepareStatement(&quot;insert into Books (name, dt) values ('Inferno', ?)&quot;);\n",
    "            preparedStatement.setDate(1, new Date(1486494048359L));\n",
    "            preparedStatement.execute();\n",
    "            System.out.println(preparedStatement);\n",
    "            //stat.executeUpdate(&quot;insert into Books (name, dt) values ('Inferno', '2017-02-07')&quot;);\n",
    "            stat.executeUpdate(&quot;insert into Books (name, dt) values ('Inferno', {d '2017-02-07'})&quot;);\n",
    "            ResultSet resultSet = stat.executeQuery(&quot;SELECT * from Books&quot;);\n",
    "            while (resultSet.next()) {\n",
    "                System.out.println(resultSet.getDate(&quot;dt&quot;));\n",
    "            }\n",
    "        }\n",
    "    }\n",
    "}\n",
    "</pre></details>"
   ]
  },
  {
   "cell_type": "markdown",
   "metadata": {},
   "source": [
    "#### b194 ”рок Java 192: JDBC 10: ’ранимые процедуры  \n"
   ]
  },
  {
   "cell_type": "markdown",
   "metadata": {},
   "source": [
    "<details><pre>\n",
    "package jdbc;\n",
    "import java.sql.*;\n",
    "/**\n",
    " * Created by max on 2/7/17.\n",
    " */\n",
    "public class StoredPrcedureLesson {\n",
    "    public static void main(String[] args) throws ClassNotFoundException {\n",
    "        String url = &quot;jdbc:mysql://localhost:3306/Lessons&quot;;\n",
    "        String username = &quot;root&quot;;\n",
    "        String password = &quot;1&quot;;\n",
    "        Class.forName(&quot;com.mysql.jdbc.Driver&quot;);\n",
    "        try(Connection conn = DriverManager.getConnection(url, username, password);\n",
    "            Statement stat = conn.createStatement()) {\n",
    "            stat.execute(&quot;drop table IF EXISTS Books&quot;);\n",
    "            stat.executeUpdate(&quot;CREATE TABLE IF NOT EXISTS Books (id MEDIUMINT NOT NULL AUTO_INCREMENT, name CHAR(30) NOT NULL, PRIMARY KEY (id))&quot;);\n",
    "            stat.executeUpdate(&quot;insert into Books (name) values ('Inferno')&quot;);\n",
    "            stat.executeUpdate(&quot;insert into Books (name) values ('Solomon key')&quot;);\n",
    "            CallableStatement callableStatement = conn.prepareCall(&quot;{call BooksCount(?)}&quot;);\n",
    "            callableStatement.registerOutParameter(1, Types.INTEGER);\n",
    "            callableStatement.execute();\n",
    "            System.out.println(callableStatement.getInt(1));\n",
    "            System.out.println(&quot;--------------&quot;);\n",
    "            CallableStatement callableStatement2 = conn.prepareCall(&quot;{call getBooks(?)}&quot;);\n",
    "            callableStatement2.setInt(1, 1);\n",
    "            if (callableStatement2.execute()) {\n",
    "                ResultSet resultSet = callableStatement2.getResultSet();\n",
    "                while (resultSet.next()) {\n",
    "                    System.out.println(resultSet.getInt(&quot;id&quot;));\n",
    "                    System.out.println(resultSet.getString(&quot;name&quot;));\n",
    "                }\n",
    "            }\n",
    "            System.out.println(&quot;--------------&quot;);\n",
    "        } catch (SQLException e) {\n",
    "            e.printStackTrace();\n",
    "        }\n",
    "    }\n",
    "}\n",
    "</pre></details>"
   ]
  },
  {
   "cell_type": "markdown",
   "metadata": {},
   "source": [
    "#### b195 ”рок Java 193: JDBC 11: ћножественные результаты  \n"
   ]
  },
  {
   "cell_type": "markdown",
   "metadata": {},
   "source": [
    "<details><pre>\n",
    "package jdbc;\n",
    "import org.xml.sax.SAXException;\n",
    "import javax.xml.parsers.ParserConfigurationException;\n",
    "import javax.xml.stream.XMLStreamException;\n",
    "import javax.xml.transform.TransformerException;\n",
    "import javax.xml.xpath.XPathExpressionException;\n",
    "import java.io.IOException;\n",
    "import java.sql.*;\n",
    "/**\n",
    " * Created by max on 2/7/17.\n",
    " */\n",
    "public class MultipleResultsLesson {\n",
    "    public static void main(String[] args) throws ParserConfigurationException, IOException, SAXException, XMLStreamException, TransformerException, XPathExpressionException, SQLException, ClassNotFoundException {\n",
    "        String url = &quot;jdbc:mysql://localhost:3306/Lessons&quot;;\n",
    "        String username = &quot;root&quot;;\n",
    "        String password = &quot;1&quot;;\n",
    "        Class.forName(&quot;com.mysql.jdbc.Driver&quot;);\n",
    "        try (Connection conn = DriverManager.getConnection(url, username, password);\n",
    "             Statement stat = conn.createStatement()) {\n",
    "            stat.execute(&quot;drop table IF EXISTS Books&quot;);\n",
    "            stat.executeUpdate(&quot;CREATE TABLE IF NOT EXISTS Books (id MEDIUMINT NOT NULL AUTO_INCREMENT, name CHAR(30) NOT NULL, PRIMARY KEY (id))&quot;);\n",
    "            stat.executeUpdate(&quot;insert into Books (name) values ('Inferno')&quot;);\n",
    "            stat.executeUpdate(&quot;insert into Books (name) values ('Solomon key')&quot;);\n",
    "            CallableStatement callableStatement = conn.prepareCall(&quot;{call getCount()}&quot;);\n",
    "            boolean hadResults = callableStatement.execute();\n",
    "            while (hadResults) {\n",
    "                ResultSet resultSet = callableStatement.getResultSet();\n",
    "                while (resultSet.next()) {\n",
    "                    System.out.println(resultSet.getInt(1));\n",
    "                }\n",
    "                System.out.println(&quot;------------&quot;);\n",
    "                hadResults = callableStatement.getMoreResults();\n",
    "            }\n",
    "        }\n",
    "    }\n",
    "}\n",
    "</pre></details>"
   ]
  },
  {
   "cell_type": "markdown",
   "metadata": {},
   "source": [
    "#### b196 ”рок Java 194: JDBC 12: Scrollable RowSet  \n"
   ]
  },
  {
   "cell_type": "markdown",
   "metadata": {},
   "source": [
    "<details><pre>\n",
    "package jdbc;\n",
    "import org.xml.sax.SAXException;\n",
    "import javax.xml.parsers.ParserConfigurationException;\n",
    "import javax.xml.stream.XMLStreamException;\n",
    "import javax.xml.transform.TransformerException;\n",
    "import javax.xml.xpath.XPathExpressionException;\n",
    "import java.io.IOException;\n",
    "import java.sql.*;\n",
    "/**\n",
    " * Created by max on 2/8/17.\n",
    " */\n",
    "public class ScrolableSetLesson {\n",
    "    public static void main(String[] args) throws ParserConfigurationException, IOException, SAXException, XMLStreamException, TransformerException, XPathExpressionException, SQLException, ClassNotFoundException {\n",
    "        String url = &quot;jdbc:mysql://localhost:3306/Lessons&quot;;\n",
    "        String username = &quot;root&quot;;\n",
    "        String password = &quot;1&quot;;\n",
    "        Class.forName(&quot;com.mysql.jdbc.Driver&quot;);\n",
    "        try(Connection conn = DriverManager.getConnection(url, username, password);\n",
    "            Statement stat = conn.createStatement()) {\n",
    "            stat.execute(&quot;drop table IF EXISTS Books&quot;);\n",
    "            stat.executeUpdate(&quot;CREATE TABLE IF NOT EXISTS Books (id MEDIUMINT NOT NULL AUTO_INCREMENT, name CHAR(30) NOT NULL, PRIMARY KEY (id))&quot;);\n",
    "            stat.executeUpdate(&quot;INSERT INTO Books (name) VALUES ('Inferno')&quot;, Statement.RETURN_GENERATED_KEYS);\n",
    "            stat.executeUpdate(&quot;INSERT INTO Books (name) VALUES ('DaVinchi Code')&quot;, Statement.RETURN_GENERATED_KEYS);\n",
    "            stat.executeUpdate(&quot;INSERT INTO Books (name) VALUES ('Solomon key')&quot;, Statement.RETURN_GENERATED_KEYS);\n",
    "            Statement statement = conn.createStatement(ResultSet.TYPE_SCROLL_INSENSITIVE, ResultSet.CONCUR_READ_ONLY);\n",
    "            PreparedStatement preparedStatement = conn.prepareStatement(&quot;select * from Books&quot;, ResultSet.TYPE_SCROLL_INSENSITIVE, ResultSet.CONCUR_READ_ONLY);\n",
    "            ResultSet resultSet = statement.executeQuery(&quot;select * from Books&quot;);\n",
    "            if(resultSet.next())\n",
    "                System.out.println(resultSet.getString(&quot;name&quot;));\n",
    "            if(resultSet.next())\n",
    "            System.out.println(resultSet.getString(&quot;name&quot;));\n",
    "            if(resultSet.previous())\n",
    "                System.out.println(resultSet.getString(&quot;name&quot;));\n",
    "            if(resultSet.relative(1))\n",
    "                System.out.println(resultSet.getString(&quot;name&quot;));\n",
    "            if(resultSet.relative(-1))\n",
    "                System.out.println(resultSet.getString(&quot;name&quot;));\n",
    "            if(resultSet.absolute(3))\n",
    "                System.out.println(resultSet.getString(&quot;name&quot;));\n",
    "            System.out.println(resultSet.getRow());\n",
    "            resultSet.absolute(4);\n",
    "            System.out.println(resultSet.getRow());\n",
    "            if(resultSet.first())\n",
    "                System.out.println(&quot;first&quot;);\n",
    "            if(resultSet.last())\n",
    "                System.out.println(&quot;last&quot;);\n",
    "            System.out.println(resultSet.isFirst());\n",
    "            System.out.println(resultSet.isLast());\n",
    "        }\n",
    "    }\n",
    "}\n",
    "</pre></details>"
   ]
  },
  {
   "cell_type": "markdown",
   "metadata": {},
   "source": [
    "#### b197 ”рок Java 195: JDBC 13: Update ResultSet  \n"
   ]
  },
  {
   "cell_type": "markdown",
   "metadata": {},
   "source": [
    "<details><pre>\n",
    "package jdbc;\n",
    "import org.xml.sax.SAXException;\n",
    "import javax.xml.parsers.ParserConfigurationException;\n",
    "import javax.xml.stream.XMLStreamException;\n",
    "import javax.xml.transform.TransformerException;\n",
    "import javax.xml.xpath.XPathExpressionException;\n",
    "import java.io.IOException;\n",
    "import java.sql.*;\n",
    "/**\n",
    " * Created by max on 2/8/17.\n",
    " */\n",
    "public class UpdatableSetLesson {\n",
    "    public static void main(String[] args) throws ParserConfigurationException, IOException, SAXException, XMLStreamException, TransformerException, XPathExpressionException, SQLException, ClassNotFoundException {\n",
    "        String url = &quot;jdbc:mysql://localhost:3306/Lessons&quot;;\n",
    "        String username = &quot;root&quot;;\n",
    "        String password = &quot;1&quot;;\n",
    "        Class.forName(&quot;com.mysql.jdbc.Driver&quot;);\n",
    "        try(Connection conn = DriverManager.getConnection(url, username, password);\n",
    "            Statement stat = conn.createStatement()) {\n",
    "            stat.execute(&quot;drop table IF EXISTS Books&quot;);\n",
    "            stat.executeUpdate(&quot;CREATE TABLE IF NOT EXISTS Books (id MEDIUMINT NOT NULL AUTO_INCREMENT, name CHAR(30) NOT NULL, PRIMARY KEY (id))&quot;);\n",
    "            stat.executeUpdate(&quot;INSERT INTO Books (name) VALUES ('Inferno')&quot;);\n",
    "            stat.executeUpdate(&quot;INSERT INTO Books (name) VALUES ('DaVinchi Code')&quot;);\n",
    "            stat.executeUpdate(&quot;INSERT INTO Books (name) VALUES ('Solomon key')&quot;);\n",
    "            Statement statement = conn.createStatement(ResultSet.TYPE_SCROLL_SENSITIVE, ResultSet.CONCUR_UPDATABLE);\n",
    "            PreparedStatement preparedStatement = conn.prepareStatement(&quot;select * from Books&quot;, ResultSet.TYPE_SCROLL_INSENSITIVE, ResultSet.CONCUR_READ_ONLY);\n",
    "            ResultSet resultSet = statement.executeQuery(&quot;select * from Books&quot;);\n",
    "            while(resultSet.next()) {\n",
    "                System.out.println(resultSet.getInt(&quot;id&quot;));\n",
    "                System.out.println(resultSet.getString(&quot;name&quot;));\n",
    "            }\n",
    "            resultSet.last();\n",
    "            resultSet.updateString(&quot;name&quot;, &quot;angels and demons&quot;);\n",
    "            resultSet.updateRow();\n",
    "            resultSet.moveToInsertRow();\n",
    "            resultSet.updateString(&quot;name&quot;, &quot;inserted&quot;);\n",
    "            resultSet.insertRow();\n",
    "            resultSet.moveToCurrentRow();\n",
    "            resultSet.absolute(2);\n",
    "            resultSet.deleteRow();\n",
    "            resultSet.beforeFirst();\n",
    "            while(resultSet.next()) {\n",
    "                System.out.println(resultSet.getInt(&quot;id&quot;));\n",
    "                System.out.println(resultSet.getString(&quot;name&quot;));\n",
    "            }\n",
    "        }\n",
    "    }\n",
    "}\n",
    "</pre></details>"
   ]
  },
  {
   "cell_type": "markdown",
   "metadata": {},
   "source": [
    "#### b198 ”рок Java 196: JDBC 14: кэширование результата запроса - CachedRowSet  \n"
   ]
  },
  {
   "cell_type": "markdown",
   "metadata": {},
   "source": [
    "<details><pre>\n",
    "package jdbc;\n",
    "import com.sun.rowset.CachedRowSetImpl;\n",
    "import org.xml.sax.SAXException;\n",
    "import javax.sql.rowset.*;\n",
    "import javax.xml.parsers.ParserConfigurationException;\n",
    "import javax.xml.stream.XMLStreamException;\n",
    "import javax.xml.transform.TransformerException;\n",
    "import javax.xml.xpath.XPathExpressionException;\n",
    "import java.io.IOException;\n",
    "import java.sql.*;\n",
    "/**\n",
    " * Created by max on 2/8/17.\n",
    " */\n",
    "public class RowSetLesson {\n",
    "    static String url = &quot;jdbc:mysql://localhost:3306/Lessons?relaxAutoCommit=true&quot;;\n",
    "    static String username = &quot;root&quot;;\n",
    "    static String password = &quot;1&quot;;\n",
    "    public static void main(String[] args) throws ParserConfigurationException, IOException, SAXException, XMLStreamException, TransformerException, XPathExpressionException, SQLException, ClassNotFoundException {\n",
    "        ResultSet resultSet = getData();\n",
    "        while (resultSet.next()) {\n",
    "            System.out.println(resultSet.getInt(&quot;id&quot;));\n",
    "            System.out.println(resultSet.getString(&quot;name&quot;));\n",
    "        }\n",
    "        CachedRowSet cachedRowSet = (CachedRowSet)resultSet;\n",
    "        cachedRowSet.setUrl(url);\n",
    "        cachedRowSet.setUsername(username);\n",
    "        cachedRowSet.setPassword(password);\n",
    "//        cachedRowSet.setCommand(&quot;select * from Books where id = ?&quot;);\n",
    "//        cachedRowSet.setInt(1, 1);\n",
    "//        cachedRowSet.setPageSize(20);\n",
    "//        cachedRowSet.execute();\n",
    "//        do {\n",
    "//            while (cachedRowSet.next()) {\n",
    "//                System.out.println(cachedRowSet.getInt(&quot;id&quot;));\n",
    "//                System.out.println(cachedRowSet.getString(&quot;name&quot;));\n",
    "//            }\n",
    "//        } while(cachedRowSet.nextPage());\n",
    "        CachedRowSet cachedRowSet2 = (CachedRowSet)resultSet;\n",
    "        cachedRowSet2.setTableName(&quot;Books&quot;);\n",
    "        cachedRowSet2.absolute(1);\n",
    "        cachedRowSet2.deleteRow();\n",
    "        cachedRowSet2.beforeFirst();\n",
    "        while (cachedRowSet2.next()) {\n",
    "            System.out.println(cachedRowSet2.getInt(&quot;id&quot;));\n",
    "            System.out.println(cachedRowSet2.getString(&quot;name&quot;));\n",
    "        }\n",
    "        cachedRowSet2.acceptChanges(DriverManager.getConnection(url, username, password));\n",
    "//        cachedRowSet2.acceptChanges();\n",
    "    }\n",
    "    static ResultSet getData() throws ParserConfigurationException, IOException, SAXException, XMLStreamException, TransformerException, XPathExpressionException, SQLException, ClassNotFoundException {\n",
    "        Class.forName(&quot;com.mysql.jdbc.Driver&quot;);\n",
    "        try(Connection conn = DriverManager.getConnection(url, username, password);\n",
    "            Statement stat = conn.createStatement()) {\n",
    "            stat.execute(&quot;drop table IF EXISTS Books&quot;);\n",
    "            stat.executeUpdate(&quot;CREATE TABLE IF NOT EXISTS Books (id MEDIUMINT NOT NULL AUTO_INCREMENT, name CHAR(30) NOT NULL, PRIMARY KEY (id))&quot;);\n",
    "            stat.executeUpdate(&quot;INSERT INTO Books (name) VALUES ('Inferno')&quot;, Statement.RETURN_GENERATED_KEYS);\n",
    "            stat.executeUpdate(&quot;INSERT INTO Books (name) VALUES ('DaVinchi Code')&quot;, Statement.RETURN_GENERATED_KEYS);\n",
    "            stat.executeUpdate(&quot;INSERT INTO Books (name) VALUES ('Solomon key')&quot;, Statement.RETURN_GENERATED_KEYS);\n",
    "            RowSetFactory factory = RowSetProvider.newFactory();\n",
    "            CachedRowSet crs = factory.createCachedRowSet();\n",
    "            WebRowSet wrs = factory.createWebRowSet();\n",
    "            FilteredRowSet frs = factory.createFilteredRowSet();\n",
    "            JoinRowSet jrs = factory.createJoinRowSet();\n",
    "            JdbcRowSet jdrs = factory.createJdbcRowSet();\n",
    "            CachedRowSet cachedRowSet = new CachedRowSetImpl();\n",
    "            Statement statement = conn.createStatement(ResultSet.TYPE_SCROLL_INSENSITIVE, ResultSet.CONCUR_READ_ONLY);\n",
    "            ResultSet resultSet = statement.executeQuery(&quot;select * from Books&quot;);\n",
    "            cachedRowSet.populate(resultSet);\n",
    "            return cachedRowSet;\n",
    "        }\n",
    "    }\n",
    "}\n",
    "</pre></details>"
   ]
  },
  {
   "cell_type": "markdown",
   "metadata": {},
   "source": [
    "#### b199 ”рок Java 197: JDBC 15: Metadata  \n"
   ]
  },
  {
   "cell_type": "markdown",
   "metadata": {},
   "source": [
    "<details><pre>\n",
    "package jdbc;\n",
    "import org.xml.sax.SAXException;\n",
    "import javax.xml.parsers.ParserConfigurationException;\n",
    "import javax.xml.stream.XMLStreamException;\n",
    "import javax.xml.transform.TransformerException;\n",
    "import javax.xml.xpath.XPathExpressionException;\n",
    "import java.io.IOException;\n",
    "import java.sql.*;\n",
    "/**\n",
    " * Created by max on 2/8/17.\n",
    " */\n",
    "public class MetadataLesson {\n",
    "    public static void main(String[] args) throws ParserConfigurationException, IOException, SAXException, XMLStreamException, TransformerException, XPathExpressionException, SQLException, ClassNotFoundException {\n",
    "        String url = &quot;jdbc:mysql://localhost:3306/Lessons&quot;;\n",
    "        String username = &quot;root&quot;;\n",
    "        String password = &quot;1&quot;;\n",
    "        Class.forName(&quot;com.mysql.jdbc.Driver&quot;);\n",
    "        try(Connection conn = DriverManager.getConnection(url, username, password);\n",
    "            Statement stat = conn.createStatement()) {\n",
    "            stat.execute(&quot;drop table IF EXISTS Books&quot;);\n",
    "            stat.executeUpdate(&quot;CREATE TABLE IF NOT EXISTS Books (id MEDIUMINT NOT NULL AUTO_INCREMENT, name CHAR(30) NOT NULL, PRIMARY KEY (id))&quot;);\n",
    "            DatabaseMetaData databaseMetaData = conn.getMetaData();\n",
    "            databaseMetaData.nullPlusNonNullIsNull();//haha\n",
    "            ResultSet resultSet = databaseMetaData.getTables(null, null, null, new String[] {&quot;TABLE&quot; });\n",
    "            while (resultSet.next()) {\n",
    "                System.out.println(resultSet.getString(3));\n",
    "            }\n",
    "            ResultSet resultSet2 = stat.executeQuery(&quot;select * from Books&quot;);\n",
    "            ResultSetMetaData resultSetMetaData = resultSet2.getMetaData();\n",
    "            for (int i = 1; i &lt;= resultSetMetaData.getColumnCount(); i++) {\n",
    "                System.out.println(resultSetMetaData.getColumnLabel(i));\n",
    "            }\n",
    "        }\n",
    "    }\n",
    "}\n",
    "</pre></details>"
   ]
  },
  {
   "cell_type": "markdown",
   "metadata": {},
   "source": []
  },
  {
   "cell_type": "markdown",
   "metadata": {},
   "source": []
  },
  {
   "cell_type": "markdown",
   "metadata": {},
   "source": []
  },
  {
   "cell_type": "markdown",
   "metadata": {},
   "source": []
  },
  {
   "cell_type": "markdown",
   "metadata": {},
   "source": [
    "[]()  \n",
    "[]()  \n",
    "[]()  \n",
    "[]()  \n",
    "[Уроки по Java](https://www.youtube.com/watch?v=Jji5NPVmbAE&list=PL786bPIlqEjRDXpAKYbzpdTaOYsWyjtCX&index=180) "
   ]
  },
  {
   "cell_type": "markdown",
   "metadata": {},
   "source": [
    "[]()  \n",
    "[]()  \n",
    "[]()  \n",
    "[]()  \n",
    "[]()  \n",
    "```\n",
    "\n",
    "```"
   ]
  }
 ],
 "metadata": {
  "kernelspec": {
   "display_name": "Python 3",
   "language": "python",
   "name": "python3"
  },
  "language_info": {
   "codemirror_mode": {
    "name": "ipython",
    "version": 3
   },
   "file_extension": ".py",
   "mimetype": "text/x-python",
   "name": "python",
   "nbconvert_exporter": "python",
   "pygments_lexer": "ipython3",
   "version": "3.7.4"
  }
 },
 "nbformat": 4,
 "nbformat_minor": 2
}
