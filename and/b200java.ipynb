{
 "cells": [
  {
   "cell_type": "markdown",
   "metadata": {},
   "source": [
    "[b200 ”рок Java 198: JDBC 16: “ранзакции - transactions](#b200-”рок-Java-198:-JDBC-16:-“ранзакции---transactions)  \n",
    "[b201 ”рок Java 199: JDBC 17: как накатить SQL группой - SQL Batch](#b201-”рок-Java-199:-JDBC-17:-как-накатить-SQL-группой---SQL-Batch)  \n",
    "[b202 ”рок Java 200: JDBC 18: ”ровни изол¤ции транзакций](#b202-”рок-Java-200:-JDBC-18:-”ровни-изол¤ции-транзакций)  \n",
    "[b203 Java 9: ”рок 1: ”становка JDK](#b203-Java-9:-”рок-1:-”становка-JDK)  \n",
    "[b204 Java 9: ”рок 2: JShell](#b204-Java-9:-”рок-2:-JShell)  \n",
    "[b205 Java 9: ”рок 3: ProcessHandle](#b205-Java-9:-”рок-3:-ProcessHandle)  \n",
    "[b206 Java 9: ”рок 4: ѕриватные методы в интерфейсах](#b206-Java-9:-”рок-4:-ѕриватные-методы-в-интерфейсах)  \n",
    "[b207 Java 9: ”рок 5: Collections](#b207-Java-9:-”рок-5:-Collections)  \n",
    "[b208 Java 9: ”рок 6: StackWalker](#b208-Java-9:-”рок-6:-StackWalker)  \n",
    "[b209 Java 9: ”рок 7: ћодули - Modules](#b209-Java-9:-”рок-7:-ћодули---Modules)  \n",
    "[b210 Java 9: ”рок 8: »зменени¤ в try с ресурсами](#b210-Java-9:-”рок-8:-»зменени¤-в-try-с-ресурсами)  \n",
    "[b211 ”рок Java 201: JMX на стороне сервера](#b211-”рок-Java-201:-JMX-на-стороне-сервера)  \n",
    "[b212 ”рок Java 202: JMX Notification](#b212-”рок-Java-202:-JMX-Notification)  \n",
    "[b213 ”рок Java 203: JMX на стороне клиента](#b213-”рок-Java-203:-JMX-на-стороне-клиента)  \n",
    "[b214 ”рок Java 204: —равнени¤ строк](#b214-”рок-Java-204:-—равнени¤-строк)  \n",
    "[b215 ”рок Java 205: ‘орматирование строк](#b215-”рок-Java-205:-‘орматирование-строк)  \n",
    "[b216 ”рок Java 206: Ћокаль - locale](#b216-”рок-Java-206:-Ћокаль---locale)  \n",
    "[b217 ”рок Java 207: Ћокализаци¤ или интернационализаци¤](#b217-”рок-Java-207:-Ћокализаци¤-или-интернационализаци¤)  \n",
    "[b218 ”рок Java 208: Java Beans](#b218-”рок-Java-208:-Java-Beans)  \n",
    "[b219 ”рок Java 209: «агрузчик классов](#b219-”рок-Java-209:-«агрузчик-классов)  \n"
   ]
  },
  {
   "cell_type": "markdown",
   "metadata": {},
   "source": [
    "#### b200 ”рок Java 198: JDBC 16: “ранзакции - transactions  \n"
   ]
  },
  {
   "cell_type": "markdown",
   "metadata": {},
   "source": [
    "<details><pre>\n",
    "package jdbc;\n",
    "import org.xml.sax.SAXException;\n",
    "import javax.xml.parsers.ParserConfigurationException;\n",
    "import javax.xml.stream.XMLStreamException;\n",
    "import javax.xml.transform.TransformerException;\n",
    "import javax.xml.xpath.XPathExpressionException;\n",
    "import java.io.IOException;\n",
    "import java.sql.*;\n",
    "/**\n",
    " * Created by max on 2/8/17.\n",
    " */\n",
    "public class TransactionLesson {\n",
    "    public static void main(String[] args) throws ParserConfigurationException, IOException, SAXException, XMLStreamException, TransformerException, XPathExpressionException, SQLException, ClassNotFoundException {\n",
    "        String url = &quot;jdbc:mysql://localhost:3306/Lessons&quot;;\n",
    "        String username = &quot;root&quot;;\n",
    "        String password = &quot;1&quot;;\n",
    "        Class.forName(&quot;com.mysql.jdbc.Driver&quot;);\n",
    "        try(Connection conn = DriverManager.getConnection(url, username, password);\n",
    "            Statement stat = conn.createStatement()) {\n",
    "            conn.setAutoCommit(false);\n",
    "            stat.execute(&quot;drop table IF EXISTS Books&quot;);\n",
    "            stat.executeUpdate(&quot;CREATE TABLE IF NOT EXISTS Books (id MEDIUMINT NOT NULL AUTO_INCREMENT, name CHAR(30) NOT NULL, PRIMARY KEY (id))&quot;);\n",
    "            stat.executeUpdate(&quot;INSERT INTO Books (name) VALUES ('Inferno')&quot;);\n",
    "            stat.executeUpdate(&quot;INSERT INTO Books (name) VALUES ('DaVinchi Code')&quot;);\n",
    "            Savepoint savepoint = conn.setSavepoint();\n",
    "            stat.executeUpdate(&quot;INSERT INTO Books (name) VALUES ('Solomon key')&quot;);\n",
    "            conn.rollback();\n",
    "//            conn.rollback(savepoint);\n",
    "//            conn.commit();\n",
    "//            conn.releaseSavepoint(savepoint);\n",
    "        }\n",
    "    }\n",
    "}\n",
    "</pre></details>"
   ]
  },
  {
   "cell_type": "markdown",
   "metadata": {},
   "source": [
    "#### b201 ”рок Java 199: JDBC 17: как накатить SQL группой - SQL Batch  \n"
   ]
  },
  {
   "cell_type": "markdown",
   "metadata": {},
   "source": []
  },
  {
   "cell_type": "markdown",
   "metadata": {},
   "source": [
    "#### b202 ”рок Java 200: JDBC 18: ”ровни изол¤ции транзакций  \n"
   ]
  },
  {
   "cell_type": "markdown",
   "metadata": {},
   "source": [
    "<details><pre>\n",
    "package jdbc.transactionisolationlevel;\n",
    "import java.sql.*;\n",
    "/**\n",
    " * Created by max on 2/8/17.\n",
    " */\n",
    "public class DirtyReadLesson {\n",
    "    static String url = &quot;jdbc:mysql://localhost:3306/Lessons&quot;;\n",
    "    static String username = &quot;root&quot;;\n",
    "    static String password = &quot;1&quot;;\n",
    "    public static void main(String[] args) throws SQLException, InterruptedException {\n",
    "        new OtherTransaction().start();\n",
    "        Thread.currentThread().sleep(500);\n",
    "        try (Connection conn = DriverManager.getConnection(url, username, password);\n",
    "             Statement stmt = conn.createStatement()) {\n",
    "            conn.setAutoCommit(false);\n",
    "            conn.setTransactionIsolation(Connection.TRANSACTION_READ_COMMITTED);\n",
    "            //conn.setTransactionIsolation(Connection.TRANSACTION_READ_UNCOMMITTED);\n",
    "            ResultSet rs = stmt.executeQuery(&quot;Select name from Books where id = 1&quot;);\n",
    "            while (rs.next()){\n",
    "                System.out.println(&quot;Book name is:&quot; + rs.getString(&quot;name&quot;));\n",
    "            }\n",
    "        }\n",
    "    }\n",
    "    static class OtherTransaction extends Thread {\n",
    "        @Override\n",
    "        public void run() {\n",
    "            try(Connection conn = DriverManager.getConnection(url, username, password);\n",
    "                PreparedStatement stmt = conn.prepareStatement(&quot;Update Books set name = 'new Name' where id = 1&quot;)) {\n",
    "                conn.setAutoCommit(false);\n",
    "                stmt.execute();\n",
    "                Thread.currentThread().sleep(2000);\n",
    "                conn.rollback();\n",
    "            } catch (Exception e) {\n",
    "                e.printStackTrace();\n",
    "            }\n",
    "        }\n",
    "    }\n",
    "}\n",
    "</pre></details>"
   ]
  },
  {
   "cell_type": "markdown",
   "metadata": {},
   "source": [
    "#### b203 Java 9: ”рок 1: ”становка JDK  \n"
   ]
  },
  {
   "cell_type": "markdown",
   "metadata": {},
   "source": []
  },
  {
   "cell_type": "markdown",
   "metadata": {},
   "source": [
    "#### b204 Java 9: ”рок 2: JShell  \n"
   ]
  },
  {
   "cell_type": "markdown",
   "metadata": {},
   "source": []
  },
  {
   "cell_type": "markdown",
   "metadata": {},
   "source": [
    "#### b205 Java 9: ”рок 3: ProcessHandle  \n",
    "ProcessControlLesson"
   ]
  },
  {
   "cell_type": "markdown",
   "metadata": {},
   "source": []
  },
  {
   "cell_type": "markdown",
   "metadata": {},
   "source": [
    "#### b206 Java 9: ”рок 4: ѕриватные методы в интерфейсах  \n",
    "PrivateMethodsLesson"
   ]
  },
  {
   "cell_type": "markdown",
   "metadata": {},
   "source": []
  },
  {
   "cell_type": "markdown",
   "metadata": {},
   "source": [
    "#### b207 Java 9: ”рок 5: Collections  \n"
   ]
  },
  {
   "cell_type": "markdown",
   "metadata": {},
   "source": []
  },
  {
   "cell_type": "markdown",
   "metadata": {},
   "source": [
    "#### b208 Java 9: ”рок 6: StackWalker  \n"
   ]
  },
  {
   "cell_type": "markdown",
   "metadata": {},
   "source": []
  },
  {
   "cell_type": "markdown",
   "metadata": {},
   "source": [
    "#### b209 Java 9: ”рок 7: ћодули - Modules  \n"
   ]
  },
  {
   "cell_type": "markdown",
   "metadata": {},
   "source": []
  },
  {
   "cell_type": "markdown",
   "metadata": {},
   "source": [
    "#### b210 Java 9: ”рок 8: »зменени¤ в try с ресурсами  \n"
   ]
  },
  {
   "cell_type": "markdown",
   "metadata": {},
   "source": []
  },
  {
   "cell_type": "markdown",
   "metadata": {},
   "source": [
    "#### b211 ”рок Java 201: JMX на стороне сервера  \n",
    "- [QUARTZ](http://www.quartz-scheduler.org/)  \n",
    "- jconsole"
   ]
  },
  {
   "cell_type": "markdown",
   "metadata": {},
   "source": [
    "<details><pre>\n",
    "package jmx;\n",
    "import javax.management.MBeanServer;\n",
    "import javax.management.ObjectName;\n",
    "import java.lang.management.ManagementFactory;\n",
    "public class Main {\n",
    "    public static void main(String[] args)\n",
    "            throws Exception {\n",
    "        MBeanServer mbs = ManagementFactory.getPlatformMBeanServer();\n",
    "        ObjectName name = new ObjectName(&quot;jmx:type=Hello&quot;);\n",
    "        Hello mbean = new Hello();\n",
    "        mbs.registerMBean(mbean, name);\n",
    "        System.out.println(&quot;Waiting forever...&quot;);\n",
    "        Thread.sleep(Long.MAX_VALUE);\n",
    "    }\n",
    "}\n",
    "</pre></details>"
   ]
  },
  {
   "cell_type": "markdown",
   "metadata": {},
   "source": [
    "#### b212 ”рок Java 202: JMX Notification  \n"
   ]
  },
  {
   "cell_type": "markdown",
   "metadata": {},
   "source": []
  },
  {
   "cell_type": "markdown",
   "metadata": {},
   "source": [
    "#### b213 ”рок Java 203: JMX на стороне клиента  \n"
   ]
  },
  {
   "cell_type": "markdown",
   "metadata": {},
   "source": []
  },
  {
   "cell_type": "markdown",
   "metadata": {},
   "source": [
    "#### b214 ”рок Java 204: —равнени¤ строк  \n"
   ]
  },
  {
   "cell_type": "markdown",
   "metadata": {},
   "source": []
  },
  {
   "cell_type": "markdown",
   "metadata": {},
   "source": [
    "#### b215 ”рок Java 205: ‘орматирование строк  \n"
   ]
  },
  {
   "cell_type": "markdown",
   "metadata": {},
   "source": []
  },
  {
   "cell_type": "markdown",
   "metadata": {},
   "source": [
    "#### b216 ”рок Java 206: Ћокаль - locale  \n"
   ]
  },
  {
   "cell_type": "markdown",
   "metadata": {},
   "source": []
  },
  {
   "cell_type": "markdown",
   "metadata": {},
   "source": [
    "#### b217 ”рок Java 207: Ћокализаци¤ или интернационализаци¤  \n"
   ]
  },
  {
   "cell_type": "markdown",
   "metadata": {},
   "source": []
  },
  {
   "cell_type": "markdown",
   "metadata": {},
   "source": [
    "#### b218 ”рок Java 208: Java Beans  \n"
   ]
  },
  {
   "cell_type": "markdown",
   "metadata": {},
   "source": []
  },
  {
   "cell_type": "markdown",
   "metadata": {},
   "source": [
    "#### b219 ”рок Java 209: «агрузчик классов  "
   ]
  },
  {
   "cell_type": "markdown",
   "metadata": {},
   "source": []
  },
  {
   "cell_type": "markdown",
   "metadata": {},
   "source": []
  },
  {
   "cell_type": "markdown",
   "metadata": {},
   "source": [
    "[]()  \n",
    "[]()  \n",
    "[]()  \n",
    "[]()  \n",
    "[Уроки по Java](https://www.youtube.com/watch?v=NUfMe40y0BY&list=PL786bPIlqEjRDXpAKYbzpdTaOYsWyjtCX&index=200) "
   ]
  },
  {
   "cell_type": "markdown",
   "metadata": {},
   "source": [
    "[]()  \n",
    "[]()  \n",
    "[]()  \n",
    "[]()  \n",
    "[]()  \n",
    "```\n",
    "\n",
    "```"
   ]
  }
 ],
 "metadata": {
  "kernelspec": {
   "display_name": "Python 3",
   "language": "python",
   "name": "python3"
  },
  "language_info": {
   "codemirror_mode": {
    "name": "ipython",
    "version": 3
   },
   "file_extension": ".py",
   "mimetype": "text/x-python",
   "name": "python",
   "nbconvert_exporter": "python",
   "pygments_lexer": "ipython3",
   "version": "3.7.4"
  }
 },
 "nbformat": 4,
 "nbformat_minor": 2
}
