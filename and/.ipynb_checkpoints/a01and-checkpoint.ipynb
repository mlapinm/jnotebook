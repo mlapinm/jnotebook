{
 "cells": [
  {
   "cell_type": "markdown",
   "metadata": {},
   "source": [
    "[Android Studio](#Android-Studio)  \n",
    "[Intellij ADEA](#Intellij-ADEA)  \n",
    "[Увеличить размер шрифта Toast](#Увеличить-размер-шрифта-Toast)  \n",
    "[Убрать заголовок](#Убрать-заголовок)  \n",
    "[LinearLayout](#LinearLayout)  \n",
    "[RelativeLayout](#RelativeLayout)  \n",
    "[EditText as numeric](#EditText-as-numeric)  \n",
    "[Java](#Java)  \n",
    "[Быки и коровы](#Быки-и-коровы)  \n",
    "[apk](#apk)  \n",
    "[RegExpr](#RegExpr)  \n",
    "[](#)  \n",
    "[](#)  \n",
    "[](#)  \n",
    "[](#)  \n",
    "[](#)  \n"
   ]
  },
  {
   "cell_type": "markdown",
   "metadata": {},
   "source": [
    "#### Android Studio"
   ]
  },
  {
   "cell_type": "markdown",
   "metadata": {},
   "source": [
    "#### Intellij ADEA\n",
    "`Alt` - `Enter` - все  \n",
    "`Ctrl` - `lb` - попасть в определение  \n",
    "`Ctrl` - `Alt` - `L` - выравнивание кода  \n",
    "`Shift` - `F6` - refactoring  \n",
    "`Ctrl` `Shift` `+` - развернуть  \n",
    "`Ctrl` `Shift` `-` - свернуть  \n",
    "`Ctrl` `Y` - удалить строку  \n",
    "`Alt` `Ins` - добавить метод  \n",
    "\n",
    "\n",
    " "
   ]
  },
  {
   "cell_type": "markdown",
   "metadata": {},
   "source": []
  },
  {
   "cell_type": "markdown",
   "metadata": {},
   "source": []
  },
  {
   "cell_type": "markdown",
   "metadata": {},
   "source": []
  },
  {
   "cell_type": "markdown",
   "metadata": {},
   "source": [
    "#### Увеличить размер шрифта Toast"
   ]
  },
  {
   "cell_type": "code",
   "execution_count": null,
   "metadata": {},
   "outputs": [],
   "source": [
    "public void makeToast(Context context, String st) {\n",
    "    Toast toast = Toast.makeText(context,\n",
    "            st, Toast.LENGTH_LONG);\n",
    "    LinearLayout toastLayout = (LinearLayout) toast.getView();\n",
    "    TextView toastTV = (TextView) toastLayout.getChildAt(0);\n",
    "    toastTV.setTextSize(TypedValue.COMPLEX_UNIT_PX, 50);\n",
    "    toast.show();\n",
    "}\n",
    "makeToast(this,\"onStart\");\n",
    "\n"
   ]
  },
  {
   "cell_type": "markdown",
   "metadata": {},
   "source": [
    "#### Убрать заголовок"
   ]
  },
  {
   "cell_type": "code",
   "execution_count": null,
   "metadata": {},
   "outputs": [],
   "source": [
    "values/styles.xml\n",
    "    <style name=\"AppTheme\" \n",
    "    parent=\"Theme.AppCompat.Light.DarkActionBar.\">\n",
    "    <style name=\"AppTheme\" \n",
    "    parent=\"Theme.AppCompat.Light.NoActionBar\">\n"
   ]
  },
  {
   "cell_type": "markdown",
   "metadata": {},
   "source": [
    "#### LinearLayout \n",
    "выравнивает все дочерние объекты в одном направлении — вертикально или горизонтально  \n",
    "android:orientation=\"vertical\""
   ]
  },
  {
   "cell_type": "markdown",
   "metadata": {},
   "source": [
    "#### RelativeLayout\n",
    "android:layout_below=\"@id/button1\""
   ]
  },
  {
   "cell_type": "markdown",
   "metadata": {},
   "source": [
    "#### EditText as numeric\n",
    "android:inputType=\"number\"  \n",
    "android:maxLength=\"4\""
   ]
  },
  {
   "cell_type": "markdown",
   "metadata": {},
   "source": [
    "#### Java\n",
    "[Класс String в Java](https://javarush.ru/groups/posts/2347-klass-string-v-java)  \n",
    "[Массивы в Java](https://javarush.ru/groups/posts/massivy-java)  \n",
    "[Динамические массивы в Java](https://javarush.ru/groups/posts/dinamicheskie-massivy-java)  \n",
    "[Класс Random](http://developer.alexanderklimov.ru/android/java/random.php)  \n",
    "[Цикл for-each](https://javarush.ru/groups/posts/for-each-java)  \n",
    "[]()  \n",
    "[]()  \n",
    "[]()  \n",
    "[]()  \n",
    "[]()  \n"
   ]
  },
  {
   "cell_type": "code",
   "execution_count": null,
   "metadata": {},
   "outputs": [],
   "source": [
    "##### String\n",
    "int x = 1;\n",
    "String st = \"x = \";\n",
    "System.out.println(st+x);\n",
    "//x = 1;\n",
    "System.out.println(String.valueOf(x));\n",
    "//1"
   ]
  },
  {
   "cell_type": "markdown",
   "metadata": {},
   "source": [
    "##### Массив\n",
    "String st = \"qwe\";\n",
    "String[] l = st.split(\"\");\n",
    "String st2 = String.join(\"\",l);\n",
    "System.out.println(st2 + \"  \" + l.length);\n",
    "System.out.println(st + \"  \" + st.length());\n",
    "qwe  3\n",
    "qwe  3"
   ]
  },
  {
   "cell_type": "markdown",
   "metadata": {},
   "source": [
    "##### Random\n",
    "Random random = new Random();\n",
    "System.out.println(\"\"+random.nextInt(10));\n",
    "//0(0-9)"
   ]
  },
  {
   "cell_type": "markdown",
   "metadata": {},
   "source": []
  },
  {
   "cell_type": "markdown",
   "metadata": {},
   "source": [
    "#### Быки и коровы"
   ]
  },
  {
   "cell_type": "markdown",
   "metadata": {},
   "source": [
    "##### Выводы\n",
    "input,count,search,random,массив-длина,строка-длина-строка в число-число в строку,foreach,try-catch,\n",
    "##### BykiKorovy \n",
    "##### константы\n",
    "quantity_chisel = 3;\n",
    "##### поля\n",
    "zagChislo, inChislo;\n",
    "byki;korovy;\n",
    "##### методы\n",
    "makeZagChislo, setInChislo,  \n",
    "test,  \n",
    "printChislo, printBykiKorovy,  \n",
    "count_element, search_element"
   ]
  },
  {
   "cell_type": "markdown",
   "metadata": {},
   "source": [
    "##### input\n",
    "Scanner sc = new Scanner(System.in);  \n",
    "st_in = sc.next();\n",
    "##### count,search\n",
    "Реализовано вручную число и номер элемента\n",
    "##### random\n",
    "Random random = new Random();\n",
    "num = random.nextInt(10);//0-9\n",
    "##### массив-длина\n",
    "length\n",
    "##### строка-длина-строка в число-число в строку\n",
    "int len = st.length();  \n",
    "\"byki = \"+ this.byki + \", korovy = \"+ this.korovy\n",
    "String st=\"name\"  \n",
    "String[] lst=st.split(\"\")  \n",
    "lst = (,n,a,m,e)\n",
    "String ch = st.charAt(0); //'n'\n",
    "##### foreach\n",
    "for (int i : chislo) {  \n",
    "    System.out.print(\" \" + i);  \n",
    "}\n",
    "##### try-catch\n",
    "try {  \n",
    "    n = Integer.parseInt(lst[i]);  \n",
    "}catch (Exception e) {  \n",
    "    n = 0;  \n",
    "}  \n"
   ]
  },
  {
   "cell_type": "markdown",
   "metadata": {},
   "source": [
    "#### apk\n",
    "MyApplication\\app\\build\\outputs\\apk\\debug  \n",
    "app-debug.apk"
   ]
  },
  {
   "cell_type": "markdown",
   "metadata": {},
   "source": [
    "#### RegExpr\n",
    "##### Замена содержимого в скобках\n",
    "\\(.*\\)  - рег. выражение  \n",
    "\\(b020java.ipynb\\) - чем заменить  "
   ]
  },
  {
   "cell_type": "markdown",
   "metadata": {},
   "source": []
  },
  {
   "cell_type": "markdown",
   "metadata": {},
   "source": []
  },
  {
   "cell_type": "markdown",
   "metadata": {},
   "source": []
  },
  {
   "cell_type": "markdown",
   "metadata": {},
   "source": []
  },
  {
   "cell_type": "markdown",
   "metadata": {},
   "source": [
    "XPS (англ. XML Paper Specification) — открытый графический формат фиксированной разметки на базе XML, разработанный компанией Microsoft. Функциональность направлена исключительно на документооборот "
   ]
  },
  {
   "cell_type": "markdown",
   "metadata": {},
   "source": [
    "[]()  \n",
    "[]()  \n",
    "[]()  \n",
    "[]()  \n",
    "[]()  \n",
    "```\n",
    "\n",
    "```"
   ]
  }
 ],
 "metadata": {
  "kernelspec": {
   "display_name": "Python 3",
   "language": "python",
   "name": "python3"
  },
  "language_info": {
   "codemirror_mode": {
    "name": "ipython",
    "version": 3
   },
   "file_extension": ".py",
   "mimetype": "text/x-python",
   "name": "python",
   "nbconvert_exporter": "python",
   "pygments_lexer": "ipython3",
   "version": "3.7.4"
  }
 },
 "nbformat": 4,
 "nbformat_minor": 2
}
