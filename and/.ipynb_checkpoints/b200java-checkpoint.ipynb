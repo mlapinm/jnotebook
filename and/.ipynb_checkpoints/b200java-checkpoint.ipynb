{
 "cells": [
  {
   "cell_type": "markdown",
   "metadata": {},
   "source": [
    "[b200 ”рок Java 198: JDBC 16: “ранзакции - transactions](#b200-”рок-Java-198:-JDBC-16:-“ранзакции---transactions)  \n",
    "[b201 ”рок Java 199: JDBC 17:  ак накатить SQL группой - SQL Batch](#b201-”рок-Java-199:-JDBC-17:- ак-накатить-SQL-группой---SQL-Batch)  \n",
    "[b202 ”рок Java 200: JDBC 18: ”ровни изол¤ции транзакций](#b202-”рок-Java-200:-JDBC-18:-”ровни-изол¤ции-транзакций)  \n",
    "[b203 Java 9: ”рок 1: ”становка JDK](#b203-Java-9:-”рок-1:-”становка-JDK)  \n",
    "[b204 Java 9: ”рок 2: JShell](#b204-Java-9:-”рок-2:-JShell)  \n",
    "[b205 Java 9: ”рок 3: ProcessHandle](#b205-Java-9:-”рок-3:-ProcessHandle)  \n",
    "[b206 Java 9: ”рок 4: ѕриватные методы в интерфейсах](#b206-Java-9:-”рок-4:-ѕриватные-методы-в-интерфейсах)  \n",
    "[b207 Java 9: ”рок 5: Collections](#b207-Java-9:-”рок-5:-Collections)  \n",
    "[b208 Java 9: ”рок 6: StackWalker](#b208-Java-9:-”рок-6:-StackWalker)  \n",
    "[b209 Java 9: ”рок 7: ћодули - Modules](#b209-Java-9:-”рок-7:-ћодули---Modules)  \n",
    "[b210 Java 9: ”рок 8: »зменени¤ в try с ресурсами](#b210-Java-9:-”рок-8:-»зменени¤-в-try-с-ресурсами)  \n",
    "[b211 ”рок Java 201: JMX на стороне сервера](#b211-”рок-Java-201:-JMX-на-стороне-сервера)  \n",
    "[b212 ”рок Java 202: JMX Notification](#b212-”рок-Java-202:-JMX-Notification)  \n",
    "[b213 ”рок Java 203: JMX на стороне клиента](#b213-”рок-Java-203:-JMX-на-стороне-клиента)  \n",
    "[b214 ”рок Java 204: —равнени¤ строк](#b214-”рок-Java-204:-—равнени¤-строк)  \n",
    "[b215 ”рок Java 205: ‘орматирование строк](#b215-”рок-Java-205:-‘орматирование-строк)  \n",
    "[b216 ”рок Java 206: Ћокаль - locale](#b216-”рок-Java-206:-Ћокаль---locale)  \n",
    "[b217 ”рок Java 207: Ћокализаци¤ или интернационализаци¤](#b217-”рок-Java-207:-Ћокализаци¤-или-интернационализаци¤)  \n",
    "[b218 ”рок Java 208: Java Beans](#b218-”рок-Java-208:-Java-Beans)  \n",
    "[b219 ”рок Java 209: «агрузчик классов](#b219-”рок-Java-209:-«агрузчик-классов)  \n"
   ]
  },
  {
   "cell_type": "markdown",
   "metadata": {},
   "source": [
    "#### b200 ”рок Java 198: JDBC 16: “ранзакции - transactions  \n",
    "#### b201 ”рок Java 199: JDBC 17:  ак накатить SQL группой - SQL Batch  \n",
    "#### b202 ”рок Java 200: JDBC 18: ”ровни изол¤ции транзакций  \n",
    "#### b203 Java 9: ”рок 1: ”становка JDK  \n",
    "#### b204 Java 9: ”рок 2: JShell  \n",
    "#### b205 Java 9: ”рок 3: ProcessHandle  \n",
    "#### b206 Java 9: ”рок 4: ѕриватные методы в интерфейсах  \n",
    "#### b207 Java 9: ”рок 5: Collections  \n",
    "#### b208 Java 9: ”рок 6: StackWalker  \n",
    "#### b209 Java 9: ”рок 7: ћодули - Modules  \n",
    "#### b210 Java 9: ”рок 8: »зменени¤ в try с ресурсами  \n",
    "#### b211 ”рок Java 201: JMX на стороне сервера  \n",
    "#### b212 ”рок Java 202: JMX Notification  \n",
    "#### b213 ”рок Java 203: JMX на стороне клиента  \n",
    "#### b214 ”рок Java 204: —равнени¤ строк  \n",
    "#### b215 ”рок Java 205: ‘орматирование строк  \n",
    "#### b216 ”рок Java 206: Ћокаль - locale  \n",
    "#### b217 ”рок Java 207: Ћокализаци¤ или интернационализаци¤  \n",
    "#### b218 ”рок Java 208: Java Beans  \n",
    "#### b219 ”рок Java 209: «агрузчик классов  "
   ]
  },
  {
   "cell_type": "code",
   "execution_count": null,
   "metadata": {},
   "outputs": [],
   "source": []
  },
  {
   "cell_type": "markdown",
   "metadata": {},
   "source": [
    "[]()  \n",
    "[]()  \n",
    "[]()  \n",
    "[]()  \n",
    "[]()  \n",
    "```\n",
    "\n",
    "```"
   ]
  }
 ],
 "metadata": {
  "kernelspec": {
   "display_name": "Python 3",
   "language": "python",
   "name": "python3"
  },
  "language_info": {
   "codemirror_mode": {
    "name": "ipython",
    "version": 3
   },
   "file_extension": ".py",
   "mimetype": "text/x-python",
   "name": "python",
   "nbconvert_exporter": "python",
   "pygments_lexer": "ipython3",
   "version": "3.7.4"
  }
 },
 "nbformat": 4,
 "nbformat_minor": 2
}
