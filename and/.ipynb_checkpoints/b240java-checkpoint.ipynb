{
 "cells": [
  {
   "cell_type": "markdown",
   "metadata": {},
   "source": [
    "[b240 ”рок Java 230: FX 6: Layout](#b240-”рок-Java-230:-FX-6:-Layout)  \n",
    "[b241 ”рок Java 231: FX 7: UI Controls](#b241-”рок-Java-231:-FX-7:-UI-Controls)  \n",
    "[b242 ”рок Java 232: FX 8:  астомный контрол Control](#b242-”рок-Java-232:-FX-8:-кастомный-контрол-Control)  \n",
    "[b243 ”рок Java 233: FX 9:  ќбработка событий](#b243-”рок-Java-233:-FX-9:--ќбработка-событий)  \n",
    "[b244 ”рок Java 234: FX 10: –абота с изображени¤ми](#b244-”рок-Java-234:-FX-10:-–абота-с-изображени¤ми)  \n",
    "[b245 ”рок по Java 235: FX 11: јнимаци¤](#b245-”рок-по-Java-235:-FX-11:-јнимаци¤)  \n",
    "[b246 ”рок Java 236: FX 12: Scene Builder](#b246-”рок-Java-236:-FX-12:-Scene-Builder)  \n",
    "[b247 ”рок Java 237: FX 13: CSS](#b247-”рок-Java-237:-FX-13:-CSS)  \n",
    "[b248 ”рок Java 238: FX 14: FXML](#b248-”рок-Java-238:-FX-14:-FXML)  \n",
    "[b249 ”рок Java 239: FX 15: Media](#b249-”рок-Java-239:-FX-15:-Media)  \n",
    "[b250 ”рок Java 240: FX 16: ќтображение HTML и JavaScript в WebView](#b250-”рок-Java-240:-FX-16:-ќтображение-HTML-и-JavaScript-в-WebView)  \n",
    "[b251 ”рок Java 241: FX 17: √рафики - Charts](#b251-”рок-Java-241:-FX-17:-√рафики---Charts)  \n",
    "[b252 ”рок Java 242: FX 18: –абота с 3D](#b252-”рок-Java-242:-FX-18:-–абота-с-3D)  \n",
    "[b253 ”рок Java 243: FX 19: Collections](#b253-”рок-Java-243:-FX-19:-Collections)  \n",
    "[b254 ”рок Java 244: FX 20: Concurency](#b254-”рок-Java-244:-FX-20:-Concurency)  \n",
    "[b255 ”рок Java 245: FX 21: Swing и Fx](#b255-”рок-Java-245:-FX-21:-Swing-и-Fx)  \n",
    "[b256 ”рок 246: RegEx 1: „то такое регул¤рные выражени¤](#b256-”рок-246:-RegEx-1:-„то-такое-регул¤рные-выражени¤)  \n",
    "[b257 ”рок 247: RegEx 2: Ѕуквальные выражени¤](#b257-”рок-247:-RegEx-2:-Ѕуквальные-выражени¤)  \n",
    "[b258 ”рок 248: RegEx 3: Ќаборы символов](#b258-”рок-248:-RegEx-3:-Ќаборы-символов)  \n",
    "[b259 ”рок 249: RegEx 4: “очка](#b259-”рок-249:-RegEx-4:-“очка)  \n"
   ]
  },
  {
   "cell_type": "markdown",
   "metadata": {},
   "source": [
    "#### b240 ”рок Java 230: FX 6: Layout  \n",
    "[JavaFX: Working with Layouts in JavaFX](https://docs.oracle.com/javase/8/javafx/layout-tutorial/builtin_layouts.htm)  \n",
    "StackPane HBox VBox TilePane FlowPane AnchorPane BorderPane GridPane  \n",
    "TabPane TitledPane SplitPane Accordian ToolBar  "
   ]
  },
  {
   "cell_type": "markdown",
   "metadata": {},
   "source": [
    "<details><pre>\n",
    "package fx;\n",
    "import javafx.application.Application;\n",
    "import javafx.geometry.Insets;\n",
    "import javafx.scene.Group;\n",
    "import javafx.scene.Scene;\n",
    "import javafx.scene.control.Button;\n",
    "import javafx.scene.layout.HBox;\n",
    "import javafx.stage.Stage;\n",
    "/**\n",
    " * Created by max on 3/1/17.\n",
    " */\n",
    "public class LayoutLesson extends Application {\n",
    "    public static void main(String[] args) {\n",
    "        launch(args);\n",
    "    }\n",
    "    @Override\n",
    "    public void start(Stage primaryStage) throws Exception {\n",
    "        HBox hBox = new HBox();\n",
    "        hBox.getChildren().addAll(new Button(&quot;one&quot;), new Button(&quot;two&quot;));\n",
    "        hBox.setSpacing(5);\n",
    "        hBox.setPadding(new Insets(5));\n",
    "        Group root = new Group();\n",
    "        root.getChildren().addAll(hBox);\n",
    "        primaryStage.setScene(new Scene(root, 400, 300));\n",
    "        primaryStage.show();\n",
    "    }\n",
    "}\n",
    "</pre></details>"
   ]
  },
  {
   "cell_type": "markdown",
   "metadata": {},
   "source": [
    "//without BorderPane\n",
    "<details><pre>\n",
    "//without BorderPane\n",
    "public class Main extends Application {\n",
    "    public static void main(String[] args) {\n",
    "        launch(args);\n",
    "    }\n",
    "    @Override\n",
    "    public void start(Stage primaryStage) throws Exception {\n",
    "        Group group = new Group();\n",
    "        group.getChildren().addAll(new Button(&quot;Press&quot;),new TextField(&quot;TextField&quot;));\n",
    "        primaryStage.setScene(new Scene(group,400,300));\n",
    "        primaryStage.show();\n",
    "    }\n",
    "}\n",
    "</pre></details>"
   ]
  },
  {
   "cell_type": "markdown",
   "metadata": {},
   "source": [
    "//with BorderPane\n",
    "<details><pre>\n",
    "//with BorderPane\n",
    "public class Main extends Application {\n",
    "    public static void main(String[] args) {\n",
    "        launch(args);\n",
    "    }\n",
    "    @Override\n",
    "    public void start(Stage primaryStage) throws Exception {\n",
    "//        Group group = new Group();\n",
    "//        group.getChildren().addAll(new Button(&quot;Press&quot;),new TextField(&quot;TextField&quot;));\n",
    "        BorderPane borderPane = new BorderPane();\n",
    "        borderPane.setMinSize(200,100);\n",
    "        borderPane.setTop(new TextField(&quot;TextField&quot;));\n",
    "        borderPane.setLeft(new Label(&quot;Left&quot;));\n",
    "        borderPane.setBottom(new Label(&quot;Bottom&quot;));\n",
    "        borderPane.setCenter(new Button(&quot;Press&quot;));\n",
    "        primaryStage.setScene(new Scene(borderPane,400,300));\n",
    "        primaryStage.show();\n",
    "    }\n",
    "}\n",
    "</pre></details>"
   ]
  },
  {
   "cell_type": "markdown",
   "metadata": {},
   "source": []
  },
  {
   "cell_type": "markdown",
   "metadata": {},
   "source": []
  },
  {
   "cell_type": "markdown",
   "metadata": {},
   "source": []
  },
  {
   "cell_type": "markdown",
   "metadata": {},
   "source": [
    "#### b241 ”рок Java 231: FX 7: UI Controls  \n"
   ]
  },
  {
   "cell_type": "markdown",
   "metadata": {},
   "source": [
    "<details><pre>\n",
    "package fx;\n",
    "import javafx.application.Application;\n",
    "import javafx.collections.FXCollections;\n",
    "import javafx.collections.ObservableList;\n",
    "import javafx.event.ActionEvent;\n",
    "import javafx.event.EventHandler;\n",
    "import javafx.geometry.Orientation;\n",
    "import javafx.scene.Group;\n",
    "import javafx.scene.Scene;\n",
    "import javafx.scene.control.*;\n",
    "import javafx.scene.layout.FlowPane;\n",
    "import javafx.scene.layout.VBox;\n",
    "import javafx.scene.web.HTMLEditor;\n",
    "import javafx.stage.FileChooser;\n",
    "import javafx.stage.Stage;\n",
    "/**\n",
    " * Created by max on 3/2/17.\n",
    " */\n",
    "public class UIContrlsLesson extends Application {\n",
    "    public static void main(String[] args) {\n",
    "        launch(args);\n",
    "    }\n",
    "    @Override\n",
    "    public void start(Stage primaryStage) throws Exception {\n",
    "        FlowPane flowPane = new FlowPane();\n",
    "        flowPane.getChildren().add(new Label(&quot;label&quot;));\n",
    "        flowPane.getChildren().add(new Button(&quot;button&quot;));\n",
    "        //radio button\n",
    "        ToggleGroup group = new ToggleGroup();\n",
    "        RadioButton rb1 = new RadioButton(&quot;one&quot;);\n",
    "        rb1.setToggleGroup(group);\n",
    "        rb1.setSelected(true);\n",
    "        RadioButton rb2 = new RadioButton(&quot;two&quot;);\n",
    "        rb2.setToggleGroup(group);\n",
    "        RadioButton rb3 = new RadioButton(&quot;three&quot;);\n",
    "        rb3.setToggleGroup(group);\n",
    "        flowPane.getChildren().addAll(rb1, rb2, rb3);\n",
    "        flowPane.getChildren().add(new ToggleButton(&quot;toggle&quot;));\n",
    "        flowPane.getChildren().add(new CheckBox(&quot;check box&quot;));\n",
    "        flowPane.getChildren().add(new ChoiceBox&lt;String&gt;(FXCollections.observableArrayList(&quot;First&quot;, &quot;Second&quot;, &quot;Third&quot;)));\n",
    "        flowPane.getChildren().add(new TextField(&quot;text field&quot;));\n",
    "//        flowPane.getChildren().add(new PasswordField());\n",
    "        ScrollBar sc = new ScrollBar();\n",
    "        sc.setMin(0);\n",
    "        sc.setMax(100);\n",
    "        sc.setValue(50);\n",
    "        flowPane.getChildren().add(sc);\n",
    "//        Image roses = new Image(new FileInputStream(&quot;/home/max/IdeaProjects/JavaLessons/smile.jpg&quot;));\n",
    "//        ScrollPane sp = new ScrollPane();\n",
    "//        sp.setContent(new ImageView(roses));\n",
    "//        flowPane.getChildren().add(sp);\n",
    "        ListView&lt;String&gt; list = new ListView&lt;String&gt;();\n",
    "        ObservableList&lt;String&gt; items = FXCollections.observableArrayList (&quot;Single&quot;, &quot;Double&quot;, &quot;Suite&quot;, &quot;Family App&quot;);\n",
    "        list.setItems(items);\n",
    "        list.setMaxHeight(100);\n",
    "        flowPane.getChildren().add(list);\n",
    "        TreeItem&lt;String&gt; rootItem = new TreeItem&lt;String&gt; (&quot;Inbox&quot;);\n",
    "        rootItem.setExpanded(true);\n",
    "        for (int i = 1; i &lt; 6; i++) {\n",
    "            TreeItem&lt;String&gt; item = new TreeItem&lt;String&gt; (&quot;Message&quot; + i);\n",
    "            rootItem.getChildren().add(item);\n",
    "        }\n",
    "        TreeView&lt;String&gt; tree = new TreeView&lt;String&gt; (rootItem);\n",
    "        tree.setMaxHeight(100);\n",
    "        flowPane.getChildren().add(tree);\n",
    "        ObservableList&lt;String&gt; options =\n",
    "                FXCollections.observableArrayList(\n",
    "                        &quot;Option 1&quot;,\n",
    "                        &quot;Option 2&quot;,\n",
    "                        &quot;Option 3&quot;\n",
    "                );\n",
    "        ComboBox comboBox = new ComboBox(options);\n",
    "        flowPane.getChildren().add(comboBox);\n",
    "        Separator separator = new Separator();\n",
    "        separator.setOrientation(Orientation.VERTICAL);\n",
    "        flowPane.getChildren().add(separator);\n",
    "        Slider slider = new Slider();\n",
    "        slider.setMin(0);\n",
    "        slider.setMax(100);\n",
    "        slider.setValue(40);\n",
    "        slider.setShowTickLabels(true);\n",
    "        slider.setShowTickMarks(true);\n",
    "        slider.setMajorTickUnit(50);\n",
    "        slider.setMinorTickCount(5);\n",
    "        slider.setBlockIncrement(10);\n",
    "        flowPane.getChildren().add(slider);\n",
    "        ProgressBar pb = new ProgressBar(0.6);\n",
    "        ProgressIndicator pi = new ProgressIndicator(0.6);\n",
    "        flowPane.getChildren().add(pb);\n",
    "        flowPane.getChildren().add(pi);\n",
    "        Hyperlink link = new Hyperlink();\n",
    "        link.setText(&quot;http://google.com&quot;);\n",
    "        link.setOnAction(new EventHandler&lt;ActionEvent&gt;() {\n",
    "            @Override\n",
    "            public void handle(ActionEvent e) {\n",
    "                System.out.println(&quot;This link is clicked&quot;);\n",
    "            }\n",
    "        });\n",
    "        flowPane.getChildren().add(link);\n",
    "        Tooltip tooltip = new Tooltip();\n",
    "        tooltip.setText(&quot;this is link to google&quot;);\n",
    "        link.setTooltip(tooltip);\n",
    "        HTMLEditor htmlEditor = new HTMLEditor();\n",
    "        htmlEditor.setPrefHeight(245);\n",
    "        flowPane.getChildren().add(htmlEditor);\n",
    "        TitledPane tp = new TitledPane(&quot;My Titled Pane&quot;, new Button(&quot;Button&quot;));\n",
    "        flowPane.getChildren().add(tp);\n",
    "        Accordion accordion = new Accordion ();\n",
    "        accordion.getPanes().addAll(tp, new TitledPane(&quot;second&quot;, new TextField(&quot;text field&quot;)));\n",
    "        accordion.setExpandedPane(tp);\n",
    "        flowPane.getChildren().add(accordion);\n",
    "        MenuBar menuBar = new MenuBar();\n",
    "        Menu menuFile = new Menu(&quot;File&quot;);\n",
    "        Menu menuEdit = new Menu(&quot;Edit&quot;);\n",
    "        MenuItem menuItem = new MenuItem(&quot;open&quot;);\n",
    "        MenuItem menuItem2 = new MenuItem(&quot;save&quot;);\n",
    "        menuFile.getItems().addAll(menuItem, menuItem2);\n",
    "        MenuItem menuItem3 = new MenuItem(&quot;cut&quot;);\n",
    "        MenuItem menuItem4 = new MenuItem(&quot;copy&quot;);\n",
    "        menuEdit.getItems().addAll(menuItem3, menuItem4);\n",
    "        menuBar.getMenus().addAll(menuFile, menuEdit);\n",
    "        VBox vBox = new VBox();\n",
    "        vBox.getChildren().addAll(menuBar, flowPane);\n",
    "        ColorPicker colorPicker1 = new ColorPicker();\n",
    "        flowPane.getChildren().add(colorPicker1);\n",
    "        Pagination pagination1 = new Pagination();\n",
    "        flowPane.getChildren().add(pagination1);\n",
    "        FileChooser fileChooser = new FileChooser();\n",
    "        fileChooser.setTitle(&quot;Open Resource File&quot;);\n",
    "        Button button = new Button(&quot;open dialog&quot;);\n",
    "        button.setOnAction(new EventHandler&lt;ActionEvent&gt;() {\n",
    "            @Override\n",
    "            public void handle(ActionEvent event) {\n",
    "                fileChooser.showOpenDialog(primaryStage);\n",
    "            }\n",
    "        });\n",
    "        flowPane.getChildren().add(button);\n",
    "        Group root = new Group();\n",
    "        root.getChildren().addAll(vBox);\n",
    "        primaryStage.setScene(new Scene(root, 800, 600));\n",
    "        primaryStage.show();\n",
    "    }\n",
    "}\n",
    "</pre></details>"
   ]
  },
  {
   "cell_type": "markdown",
   "metadata": {},
   "source": [
    "#### b242 ”рок Java 232: FX 8: кастомный контрол Control  \n"
   ]
  },
  {
   "cell_type": "markdown",
   "metadata": {},
   "source": [
    "CustomConstrolLesson\n",
    "<details><pre>\n",
    "package fx;\n",
    "import javafx.application.Application;\n",
    "import javafx.scene.Group;\n",
    "import javafx.scene.Scene;\n",
    "import javafx.stage.Stage;\n",
    "/**\n",
    " * Created by max on 3/3/17.\n",
    " */\n",
    "public class CustomConstrolLesson extends Application {\n",
    "    public static void main(String[] args) {\n",
    "        Application.launch(args);\n",
    "    }\n",
    "    @Override\n",
    "    public void start(Stage primaryStage) throws Exception {\n",
    "//        CustomControl customControl = new CustomControl();\n",
    "//        customControl.setText(&quot;Hello!&quot;);\n",
    "        NumberTextField customControl = new NumberTextField();\n",
    "        Group group = new Group();\n",
    "        group.getChildren().addAll(customControl);\n",
    "        primaryStage.setScene(new Scene(group, 400, 300));\n",
    "        primaryStage.show();\n",
    "    }\n",
    "}\n",
    "</pre></details>"
   ]
  },
  {
   "cell_type": "markdown",
   "metadata": {},
   "source": [
    "NumberTextField\n",
    "<details><pre>\n",
    "package fx;\n",
    "import javafx.scene.control.TextField;\n",
    "public class NumberTextField extends TextField {\n",
    "    String numberRegEx = &quot;[0-9]*&quot;;\n",
    "    @Override\n",
    "    public void replaceText(int start, int end, String text) {\n",
    "        String oldValue = getText();\n",
    "        if ((validate(text))) {\n",
    "            super.replaceText(start, end, text);\n",
    "            String newText = super.getText();\n",
    "            if (!validate(newText)) {\n",
    "                super.setText(oldValue);\n",
    "            }\n",
    "        }\n",
    "    }\n",
    "    private boolean validate(String text) {\n",
    "        return (&quot;&quot;.equals(text) || text.matches(numberRegEx));\n",
    "    }\n",
    "}\n",
    "</pre></details>"
   ]
  },
  {
   "cell_type": "markdown",
   "metadata": {},
   "source": [
    "#### b243 ”рок Java 233: FX 9:  ќбработка событий  \n"
   ]
  },
  {
   "cell_type": "markdown",
   "metadata": {},
   "source": [
    "<details><pre>\n",
    "package fx;\n",
    "import javafx.application.Application;\n",
    "import javafx.event.ActionEvent;\n",
    "import javafx.event.EventHandler;\n",
    "import javafx.scene.Group;\n",
    "import javafx.scene.Scene;\n",
    "import javafx.scene.control.Button;\n",
    "import javafx.stage.Stage;\n",
    "/**\n",
    " * Created by max on 3/4/17.\n",
    " */\n",
    "public class EventLesson extends Application {\n",
    "    public static void main(String[] args) {\n",
    "        launch();\n",
    "    }\n",
    "    @Override\n",
    "    public void start(Stage primaryStage) throws Exception {\n",
    "        Button button = new Button(&quot;press&quot;);\n",
    "        button.setOnAction(new EventHandler&lt;ActionEvent&gt;() {\n",
    "            @Override\n",
    "            public void handle(ActionEvent event) {\n",
    "                System.out.println(&quot;action&quot;);\n",
    "            }\n",
    "        });\n",
    "        button.addEventHandler(ActionEvent.ACTION, new EventHandler&lt;ActionEvent&gt;() {\n",
    "            @Override\n",
    "            public void handle(ActionEvent event) {\n",
    "                System.out.println(&quot;event handler&quot;);\n",
    "            }\n",
    "        });\n",
    "        Group root = new Group();\n",
    "        root.getChildren().addAll(button);\n",
    "        primaryStage.setScene(new Scene(root, 500, 500));\n",
    "        primaryStage.show();\n",
    "    }\n",
    "}\n",
    "</pre></details>"
   ]
  },
  {
   "cell_type": "markdown",
   "metadata": {},
   "source": [
    "#### b244 ”рок Java 234: FX 10: –абота с изображени¤ми  \n"
   ]
  },
  {
   "cell_type": "markdown",
   "metadata": {},
   "source": [
    "<details><pre>\n",
    "package fx;\n",
    "import javafx.application.Application;\n",
    "import javafx.embed.swing.SwingFXUtils;\n",
    "import javafx.scene.Group;\n",
    "import javafx.scene.Scene;\n",
    "import javafx.scene.image.*;\n",
    "import javafx.scene.paint.Color;\n",
    "import javafx.stage.Stage;\n",
    "import javax.imageio.ImageIO;\n",
    "import java.io.FileInputStream;\n",
    "import java.io.FileOutputStream;\n",
    "/**\n",
    " * Created by max on 3/2/17.\n",
    " */\n",
    "public class ImageLesson extends Application {\n",
    "    public static void main(String[] args) {\n",
    "        launch(args);\n",
    "    }\n",
    "    @Override\n",
    "    public void start(Stage primaryStage) throws Exception {\n",
    "        Image image = new Image(new FileInputStream(&quot;smile.jpg&quot;));\n",
    "        ImageView imageView = new ImageView(image);\n",
    "        imageView.setFitHeight(300);\n",
    "        imageView.setFitWidth(400);\n",
    "        PixelReader pixelReader = image.getPixelReader();\n",
    "        for (int readY = 0; readY &lt; image.getHeight(); readY++) {\n",
    "            for (int readX = 0; readX &lt; image.getWidth(); readX++) {\n",
    "                Color color = pixelReader.getColor(readX, readY);\n",
    "            }\n",
    "        }\n",
    "        WritableImage wImage = new WritableImage((int)image.getWidth(),(int)image.getHeight());\n",
    "        PixelWriter pixelWriter = wImage.getPixelWriter();\n",
    "        for(int readY=0;readY&lt;image.getHeight();readY++){\n",
    "            for(int readX=0; readX&lt;image.getWidth();readX++){\n",
    "                pixelWriter.setColor(readX,readY,Color.ALICEBLUE);\n",
    "            }\n",
    "        }\n",
    "        ImageView wImageView = new ImageView(wImage);\n",
    "        wImageView.setFitHeight(300);\n",
    "        wImageView.setFitWidth(400);\n",
    "        ImageIO.write(SwingFXUtils.fromFXImage(wImage, null), &quot;png&quot;, new FileOutputStream(&quot;test.png&quot;));\n",
    "        Group root = new Group();\n",
    "        root.getChildren().addAll(imageView);\n",
    "        primaryStage.setScene(new Scene(root, 400, 300));\n",
    "        primaryStage.show();\n",
    "    }\n",
    "}\n",
    "</pre></details>"
   ]
  },
  {
   "cell_type": "markdown",
   "metadata": {},
   "source": [
    "#### b245 ”рок по Java 235: FX 11: јнимаци¤  \n"
   ]
  },
  {
   "cell_type": "markdown",
   "metadata": {},
   "source": [
    "<details><pre>\n",
    "package fx;\n",
    "import javafx.animation.*;\n",
    "import javafx.application.Application;\n",
    "import javafx.scene.Group;\n",
    "import javafx.scene.Scene;\n",
    "import javafx.scene.image.Image;\n",
    "import javafx.scene.image.ImageView;\n",
    "import javafx.scene.paint.Color;\n",
    "import javafx.scene.shape.CubicCurveTo;\n",
    "import javafx.scene.shape.MoveTo;\n",
    "import javafx.scene.shape.Path;\n",
    "import javafx.scene.shape.Rectangle;\n",
    "import javafx.stage.Stage;\n",
    "import javafx.util.Duration;\n",
    "import java.io.FileInputStream;\n",
    "public class AnimationLesson extends Application {\n",
    "    public static void main(String[] args) {\n",
    "        launch(args);\n",
    "    }\n",
    "    @Override\n",
    "    public void start(Stage primaryStage) throws Exception {\n",
    "        Rectangle rectangle = new Rectangle(0, 0, 50, 50);\n",
    "        KeyValue xValue = new KeyValue(rectangle.xProperty(), 100);\n",
    "        KeyValue yValue = new KeyValue(rectangle.yProperty(), 100);\n",
    "        KeyFrame keyFrame = new KeyFrame(Duration.millis(1000), xValue, yValue);\n",
    "        Timeline timeline = new Timeline();\n",
    "        timeline.setCycleCount(Timeline.INDEFINITE);\n",
    "        timeline.setAutoReverse(true);\n",
    "        timeline.getKeyFrames().addAll(keyFrame);\n",
    "        timeline.play();\n",
    "        Image image = new Image(new FileInputStream(&quot;smile.jpg&quot;));\n",
    "        ImageView imageView = new ImageView(image);\n",
    "        imageView.setFitHeight(300);\n",
    "        imageView.setFitWidth(400);\n",
    "        FadeTransition fadeOut = new FadeTransition(Duration.millis(1000), imageView);\n",
    "        fadeOut.setFromValue(1.0);\n",
    "        fadeOut.setToValue(0.0);\n",
    "        fadeOut.setCycleCount(Timeline.INDEFINITE);\n",
    "        fadeOut.setAutoReverse(true);\n",
    "        fadeOut.play();\n",
    "        Rectangle rectPath = new Rectangle (0, 0, 40, 40);\n",
    "        rectPath.setFill(Color.ORANGE);\n",
    "        Path path = new Path();\n",
    "        path.getElements().add(new MoveTo(20,20));\n",
    "        path.getElements().add(new CubicCurveTo(380, 0, 380, 120, 200, 120));\n",
    "        path.getElements().add(new CubicCurveTo(0, 120, 0, 240, 380, 240));\n",
    "        PathTransition pathTransition = new PathTransition();\n",
    "        pathTransition.setDuration(Duration.millis(4000));\n",
    "        pathTransition.setPath(path);\n",
    "        pathTransition.setNode(rectPath);\n",
    "        pathTransition.setOrientation(PathTransition.OrientationType.ORTHOGONAL_TO_TANGENT);\n",
    "        pathTransition.setCycleCount(Timeline.INDEFINITE);\n",
    "        pathTransition.setAutoReverse(true);\n",
    "        pathTransition.play();\n",
    "        FadeTransition fadeTransition = new FadeTransition(Duration.millis(3000), rectPath);\n",
    "        fadeTransition.setFromValue(1.0f);\n",
    "        fadeTransition.setToValue(0.3f);\n",
    "        fadeTransition.setCycleCount(2);\n",
    "        fadeTransition.setAutoReverse(true);\n",
    "        TranslateTransition translateTransition = new TranslateTransition(Duration.millis(2000), rectPath);\n",
    "        translateTransition.setFromX(50);\n",
    "        translateTransition.setToX(350);\n",
    "        translateTransition.setCycleCount(2);\n",
    "        translateTransition.setAutoReverse(true);\n",
    "        RotateTransition rotateTransition = new RotateTransition(Duration.millis(3000), rectPath);\n",
    "        rotateTransition.setByAngle(180f);\n",
    "        rotateTransition.setCycleCount(4);\n",
    "        rotateTransition.setAutoReverse(true);\n",
    "        ScaleTransition scaleTransition = new ScaleTransition(Duration.millis(2000), rectPath);\n",
    "        scaleTransition.setToX(2f);\n",
    "        scaleTransition.setToY(2f);\n",
    "        scaleTransition.setCycleCount(2);\n",
    "        scaleTransition.setAutoReverse(true);\n",
    "        ParallelTransition parallelTransition = new ParallelTransition();\n",
    "        parallelTransition.getChildren().addAll(\n",
    "                fadeTransition,\n",
    "                translateTransition,\n",
    "                rotateTransition,\n",
    "                scaleTransition\n",
    "        );\n",
    "        parallelTransition.setCycleCount(Timeline.INDEFINITE);\n",
    "        parallelTransition.play();\n",
    "        SequentialTransition sequentialTransition = new SequentialTransition();\n",
    "        sequentialTransition.getChildren().addAll(\n",
    "                fadeTransition,\n",
    "                translateTransition,\n",
    "                rotateTransition,\n",
    "                scaleTransition);\n",
    "        sequentialTransition.setCycleCount(Timeline.INDEFINITE);\n",
    "        sequentialTransition.setAutoReverse(true);\n",
    "        sequentialTransition.play();\n",
    "        Group root = new Group();\n",
    "        root.getChildren().add(rectangle);\n",
    "        root.getChildren().add(rectPath);\n",
    "        root.getChildren().add(imageView);\n",
    "        primaryStage.setScene(new Scene(root, 400, 300));\n",
    "        primaryStage.show();\n",
    "    }\n",
    "}\n",
    "</pre></details>"
   ]
  },
  {
   "cell_type": "markdown",
   "metadata": {},
   "source": [
    "#### b246 ”рок Java 236: FX 12: Scene Builder  \n"
   ]
  },
  {
   "cell_type": "markdown",
   "metadata": {},
   "source": []
  },
  {
   "cell_type": "markdown",
   "metadata": {},
   "source": [
    "#### b247 ”рок Java 237: FX 13: CSS  \n"
   ]
  },
  {
   "cell_type": "markdown",
   "metadata": {},
   "source": []
  },
  {
   "cell_type": "markdown",
   "metadata": {},
   "source": [
    "#### b248 ”рок Java 238: FX 14: FXML  \n"
   ]
  },
  {
   "cell_type": "markdown",
   "metadata": {},
   "source": []
  },
  {
   "cell_type": "markdown",
   "metadata": {},
   "source": [
    "#### b249 ”рок Java 239: FX 15: Media  \n"
   ]
  },
  {
   "cell_type": "markdown",
   "metadata": {},
   "source": []
  },
  {
   "cell_type": "markdown",
   "metadata": {},
   "source": [
    "#### b250 ”рок Java 240: FX 16: ќтображение HTML и JavaScript в WebView  \n"
   ]
  },
  {
   "cell_type": "markdown",
   "metadata": {},
   "source": []
  },
  {
   "cell_type": "markdown",
   "metadata": {},
   "source": [
    "#### b251 ”рок Java 241: FX 17: √рафики - Charts  \n"
   ]
  },
  {
   "cell_type": "markdown",
   "metadata": {},
   "source": []
  },
  {
   "cell_type": "markdown",
   "metadata": {},
   "source": [
    "#### b252 ”рок Java 242: FX 18: –абота с 3D  \n"
   ]
  },
  {
   "cell_type": "markdown",
   "metadata": {},
   "source": []
  },
  {
   "cell_type": "markdown",
   "metadata": {},
   "source": [
    "#### b253 ”рок Java 243: FX 19: Collections  \n"
   ]
  },
  {
   "cell_type": "markdown",
   "metadata": {},
   "source": []
  },
  {
   "cell_type": "markdown",
   "metadata": {},
   "source": [
    "#### b254 ”рок Java 244: FX 20: Concurency  \n"
   ]
  },
  {
   "cell_type": "markdown",
   "metadata": {},
   "source": []
  },
  {
   "cell_type": "markdown",
   "metadata": {},
   "source": [
    "#### b255 ”рок Java 245: FX 21: Swing и Fx  \n"
   ]
  },
  {
   "cell_type": "markdown",
   "metadata": {},
   "source": []
  },
  {
   "cell_type": "markdown",
   "metadata": {},
   "source": [
    "#### b256 ”рок 246: RegEx 1: „то такое регул¤рные выражени¤  \n"
   ]
  },
  {
   "cell_type": "markdown",
   "metadata": {},
   "source": []
  },
  {
   "cell_type": "markdown",
   "metadata": {},
   "source": [
    "#### b257 ”рок 247: RegEx 2: Ѕуквальные выражени¤  \n"
   ]
  },
  {
   "cell_type": "markdown",
   "metadata": {},
   "source": []
  },
  {
   "cell_type": "markdown",
   "metadata": {},
   "source": [
    "#### b258 ”рок 248: RegEx 3: Ќаборы символов  \n"
   ]
  },
  {
   "cell_type": "markdown",
   "metadata": {},
   "source": []
  },
  {
   "cell_type": "markdown",
   "metadata": {},
   "source": [
    "#### b259 ”рок 249: RegEx 4: “очка  \n"
   ]
  },
  {
   "cell_type": "markdown",
   "metadata": {},
   "source": []
  },
  {
   "cell_type": "markdown",
   "metadata": {},
   "source": []
  },
  {
   "cell_type": "markdown",
   "metadata": {},
   "source": []
  },
  {
   "cell_type": "markdown",
   "metadata": {},
   "source": [
    "[]()  \n",
    "[]()  \n",
    "[]()  \n",
    "[]()  \n",
    "[Уроки по Java](https://www.youtube.com/watch?v=GKpAB-UhYzA&list=PL786bPIlqEjRDXpAKYbzpdTaOYsWyjtCX&index=240) "
   ]
  },
  {
   "cell_type": "markdown",
   "metadata": {},
   "source": [
    "[]()  \n",
    "[]()  \n",
    "[]()  \n",
    "[]()  \n",
    "[]()  \n",
    "```\n",
    "\n",
    "```"
   ]
  }
 ],
 "metadata": {
  "kernelspec": {
   "display_name": "Python 3",
   "language": "python",
   "name": "python3"
  },
  "language_info": {
   "codemirror_mode": {
    "name": "ipython",
    "version": 3
   },
   "file_extension": ".py",
   "mimetype": "text/x-python",
   "name": "python",
   "nbconvert_exporter": "python",
   "pygments_lexer": "ipython3",
   "version": "3.7.4"
  }
 },
 "nbformat": 4,
 "nbformat_minor": 2
}
