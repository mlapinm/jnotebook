{
 "cells": [
  {
   "cell_type": "markdown",
   "metadata": {},
   "source": [
    "[b60 ”рок по Java 60: Reflection - рефлекси¤](#b60-”рок-по-Java-60:-Reflection---рефлекси¤)  \n",
    "[b61 ”рок по Java 61:  акие технологии надо знать что бы стать Java программистом](#b61-”рок-по-Java-61:-какие-технологии-надо-знать-что-бы-стать-Java-программистом)  \n",
    "[b62 ”рок по Java 62: „то нужно знать перед собеседованием.](#b62-”рок-по-Java-62:-„то-нужно-знать-перед-собеседованием.)  \n",
    "[b63 ”рок по Java 63:  ак компилировать и запускать классы через коммандную строку, плюс classpath](#b63-”рок-по-Java-63:-как-компилировать-и-запускать-классы-через-коммандную-строку,-плюс-classpath)  \n",
    "[b64 ”рок по Java 64: —оздание и подключение Jar файлов](#b64-”рок-по-Java-64:-—оздание-и-подключение-Jar-файлов)  \n",
    "[^b65 ”рок по Java 65: „тение из консоли.](#b65-”рок-по-Java-65:-„тение-из-консоли.)  \n",
    "[b66 »гра престолов JS и Java. „асть 1](#b66-»гра-престолов-JS-и-Java.-„асть-1)  \n",
    "[b67 »гра престолов JS и Java. „асть 2](#b67-»гра-престолов-JS-и-Java.-„асть-2)  \n",
    "[b68 ”рок по Java 66: ћногопоточность 1: —оздание потоков](#b68-”рок-по-Java-66:-ћногопоточность-1:-—оздание-потоков)  \n",
    "[b69 ”рок по Java 67: ћногопоточность 2: жизненый цикл потоков](#b69-”рок-по-Java-67:-ћногопоточность-2:-жизненый-цикл-потоков)  \n",
    "[b70 ”рок по Java 68: ћногопоточность 3: —инхронизаци¤](#b70-”рок-по-Java-68:-ћногопоточность-3:-—инхронизаци¤)  \n",
    "[b71 ”рок по Java 69: ћногопоточность 4: синхронизаци¤ статический методов](#b71-”рок-по-Java-69:-ћногопоточность-4:-синхронизаци¤-статический-методов)  \n",
    "[b72 ”рок по Java 70: ћногопоточность 5: volatile](#b72-”рок-по-Java-70:-ћногопоточность-5:-volatile)  \n",
    "[b73 ”рок по Java 71: ћногопоточность 6: атомарные переменные](#b73-”рок-по-Java-71:-ћногопоточность-6:-атомарные-переменные)  \n",
    "[b74 ”рок по Java 72: ћногопоточность 7: —инхронизированные коллекции](#b74-”рок-по-Java-72:-ћногопоточность-7:-—инхронизированные-коллекции)  \n",
    "[b75 ”рок по Java 73: ћногопоточность 8: Deadlock](#b75-”рок-по-Java-73:-ћногопоточность-8:-Deadlock)  \n",
    "[^b76 ”рок по Java 74: ћногопоточность 9: Wait and notify](#b76-”рок-по-Java-74:-ћногопоточность-9:-Wait-and-notify)  \n",
    "[b77 ”рок по Java 75: ћногопоточность 10: Wait and Notify пример](#b77-”рок-по-Java-75:-ћногопоточность-10:-Wait-and-Notify-пример)  \n",
    "[b78 ”рок по Java 76: ћногопоточность 11: ReentrantLock](#b78-”рок-по-Java-76:-ћногопоточность-11:-ReentrantLock)  \n",
    "[b79 ”рок по Java 77: ћногопоточность 12: TryLock](#b79-”рок-по-Java-77:-ћногопоточность-12:-TryLock)  \n"
   ]
  },
  {
   "cell_type": "markdown",
   "metadata": {},
   "source": [
    "#### b60 ”рок по Java 60: Reflection - рефлекси¤  "
   ]
  },
  {
   "cell_type": "markdown",
   "metadata": {},
   "source": [
    "<details><pre>\n",
    "import java.lang.reflect.*;\n",
    "//class com.company.l01.Popcorn&lt;&gt;com.company.l01.Popcorn\n",
    "//public com.company.l01.Popcorn()\n",
    "//        com.company.l01.Popcorn(java.lang.String)\n",
    "//        arg0\n",
    "//        java.lang.String\n",
    "//        Methods ==============\n",
    "//public synchronized java.lang.String com.company.l01.Popcorn.mPopStr(java.lang.String)\n",
    "//        arg0\n",
    "//        java.lang.String\n",
    "//        java.lang.String\n",
    "//        this is popStr test\n",
    "//        Fields ================\n",
    "//        field i\n",
    "//        int\n",
    "//private static transient\n",
    "//0\n",
    "//        5\n",
    "//        field st\n",
    "//class java.lang.String\n",
    "public class Main {\n",
    "    public static void main(String[] args) throws ClassNotFoundException, IllegalAccessException, InstantiationException {\n",
    "        Popcorn popcorn = new Popcorn();\n",
    "        Class clss = popcorn.getClass();\n",
    "        Class clss2 = Popcorn.class;\n",
    "        Class clss3 = Class.forName(\"\"com.company.l01.Popcorn\"\");\n",
    "        Popcorn popcorn1 = (Popcorn) clss.newInstance();\n",
    "        System.out.println(clss + \"\"&lt;&gt;\"\" + clss.getTypeName());\n",
    "        Constructor[] constructors = clss.getDeclaredConstructors();\n",
    "        for (Constructor constructor : constructors) {\n",
    "            System.out.println(constructor);\n",
    "            Parameter[] parameters = constructor.getParameters();\n",
    "            for (Parameter parameter : parameters) {\n",
    "                System.out.println(parameter.getName());\n",
    "                System.out.println(parameter.getType().getName());\n",
    "            }\n",
    "        }\n",
    "        System.out.println(\"\"Methods ==============\"\");\n",
    "        Method[] methods = clss.getDeclaredMethods();\n",
    "        for (Method method : methods) {\n",
    "            System.out.println(method);\n",
    "            Parameter[] parameters = method.getParameters();\n",
    "            for (Parameter parameter : parameters) {\n",
    "                System.out.println(parameter.getName());\n",
    "                System.out.println(parameter.getType().getName());\n",
    "            }\n",
    "            System.out.println(method.getReturnType().getName());\n",
    "        }\n",
    "        System.out.println(\"\"Fields ================\"\");\n",
    "        Field[] fields = clss.getDeclaredFields();\n",
    "        for (Field field : fields) {\n",
    "            System.out.println(\"\"field \"\" + field.getName());\n",
    "            String st = field.getType().toString();\n",
    "            System.out.println(st);\n",
    "            System.out.println(Modifier.toString(field.getModifiers()));\n",
    "            if (st.equals(\"\"int\"\")) {\n",
    "                field.setAccessible(true);\n",
    "                System.out.println(field.getInt(popcorn));\n",
    "                field.setInt(popcorn, 5);\n",
    "                System.out.println(field.getInt(popcorn));\n",
    "            }\n",
    "        }\n",
    "//        System.out.println(clss);\n",
    "    }\n",
    "}\n",
    "class Popcorn {\n",
    "    private static transient int i;\n",
    "    String st;\n",
    "    public Popcorn() {\n",
    "    }\n",
    "    Popcorn(String s) {\n",
    "        st = s;\n",
    "    }\n",
    "    public synchronized String mPopStr(String s) {\n",
    "        System.out.println(\"\"this is popStr \"\" + s);\n",
    "        return s;\n",
    "    }\n",
    "}\n",
    "</pre></details>"
   ]
  },
  {
   "cell_type": "markdown",
   "metadata": {},
   "source": [
    "#### b61 ”рок по Java 61: какие технологии надо знать что бы стать Java программистом  \n",
    "`java` `swing` `android` `web`"
   ]
  },
  {
   "cell_type": "markdown",
   "metadata": {},
   "source": [
    "- java 8\n",
    "- swing (desktop не сильно)\n",
    "- android хорошо\n",
    "- web везде\n",
    "- git, (svn)  \n",
    "- Maven (Apach) сборщик  \n",
    "javac *.java  \n",
    "mvn clean compile  \n",
    "[http://maven.apache.org/](http://maven.apache.org/)\n",
    "- junit тесты  \n",
    "[junit.org](https://junit.org/junit5/)\n",
    "- hibernate.org  SQL  \n",
    "[http://hibernate.org/](http://hibernate.org/)  \n",
    "- spring набор библиотек, контроллеры на сервере  MVC обеспечивает архитектуру паттерна Model — View — Controller (Модель — Отображение (далее — Вид) — Контроллер   \n",
    "для работы с web и с базами  \n",
    "[https://spring.io/](https://spring.io/)  \n",
    "- SQL, GPQL  \n",
    "List<User> users = entityMangger.createNativeQuery(\"Select * from user\");\n",
    "\n",
    "- HTML, CSS, JavaScript  \n",
    "[https://www.w3schools.com/](https://www.w3schools.com/) обучалка  \n",
    "- jQuery - удобнее  \n",
    "[https://jquery.com/](https://jquery.com/)    \n",
    "- \n",
    "- \n",
    "- \n",
    "- \n"
   ]
  },
  {
   "cell_type": "markdown",
   "metadata": {},
   "source": [
    "```\n",
    "// hibernate\n",
    "List<User> userList = entityManager.find(User.class);\n",
    "\n",
    "class User{\n",
    "    String userName;\n",
    "    String password;\n",
    "```"
   ]
  },
  {
   "cell_type": "markdown",
   "metadata": {},
   "source": [
    "#### b62 ”рок по Java 62: „то нужно знать перед собеседованием.  \n"
   ]
  },
  {
   "cell_type": "markdown",
   "metadata": {},
   "source": [
    "[Java для начинающих GMByte Java\n",
    "](https://www.youtube.com/watch?v=lo-2Xixsq9Y&list=PLk95cAdGYXN1GYSm1NIMHJuyq_kk9Obg9)  \n",
    "[Технострим Mail.Ru Group\n",
    "7 видео из 11](https://www.youtube.com/watch?v=9yyOdLxPj4M&list=PLrCZzMib1e9pz7f30YqoBLY0_AfiC36kM&index=7)  "
   ]
  },
  {
   "cell_type": "markdown",
   "metadata": {},
   "source": [
    "#### b63 ”рок по Java 63: как компилировать и запускать классы через коммандную строку, плюс classpath  \n"
   ]
  },
  {
   "cell_type": "markdown",
   "metadata": {},
   "source": [
    "```\n",
    "package com.company.l02;\n",
    "\n",
    "\n",
    "public class Main {\n",
    "    public static void main(String[] args) {\n",
    "\n",
    "        new Print().print();\n",
    "        System.out.println(\"java\");\n",
    "    }\n",
    "}\n",
    "```"
   ]
  },
  {
   "cell_type": "markdown",
   "metadata": {},
   "source": [
    "```\n",
    "package com.company.l02;\n",
    "\n",
    "public class Print {\n",
    "    public void print(){\n",
    "        System.out.println(\"Hello Yura\");\n",
    "    }\n",
    "}\n",
    "```"
   ]
  },
  {
   "cell_type": "markdown",
   "metadata": {},
   "source": [
    "```\n",
    "D:\\programs\\android\\A02java\\src>javac -cp . -d classes src\\com\\company\\l02\\Main.\n",
    "java\n",
    "\n",
    "D:\\programs\\android\\A02java\\src>java -cp  . com/company/l02/Main\n",
    "Hello Yura\n",
    "java\n",
    "```"
   ]
  },
  {
   "cell_type": "markdown",
   "metadata": {},
   "source": [
    "```\n",
    "D:\\programs\\android\\A02java\\src>javac -cp . -d classes com\\company\\l02\\Main.java\n",
    "D:\\programs\\android\\A02java\\src>javac -cp . -d classes com\\company\\l02\\Print.java\n",
    "\n",
    "D:\\programs\\android\\A02java\\src>java -cp   classes com/company/l02/Main\n",
    "Hello Yura\n",
    "java\n",
    "```"
   ]
  },
  {
   "cell_type": "markdown",
   "metadata": {},
   "source": [
    "#### b64 ”рок по Java 64: —оздание и подключение Jar файлов  \n"
   ]
  },
  {
   "cell_type": "markdown",
   "metadata": {},
   "source": [
    "```\n",
    "D:\\programs\\android\\A02java\\src\\classes>jar -cf MyJar.jar com\n",
    "//удалил Print.class\n",
    "D:\\programs\\android\\A02java\\src\\classes>java -cp .;MyJar.jar  com/company/l02/Ma\n",
    "in\n",
    "Hello Yura\n",
    "java\n",
    "\n",
    "```"
   ]
  },
  {
   "cell_type": "markdown",
   "metadata": {},
   "source": [
    "```\n",
    "D:\\programs\\android\\A02java\\src\\classes>jar -tf MyJar.jar\n",
    "META-INF/\n",
    "META-INF/MANIFEST.MF\n",
    "com/\n",
    "com/company/\n",
    "com/company/l02/\n",
    "com/company/l02/Main.class\n",
    "com/company/l02/Print.class\n",
    "```"
   ]
  },
  {
   "cell_type": "markdown",
   "metadata": {},
   "source": [
    "D:\\programs\\android\\A02java\\src\\classes>java -jar MyJar.jar  \n",
    "no main manifest attribute, in MyJar.jar\n",
    "```\n",
    "D:\\programs\\android\\A02java\\out\\artifacts\\A02java_jar>java -jar A02java.jar\n",
    "Hello Yura\n",
    "java\n",
    "```"
   ]
  },
  {
   "cell_type": "markdown",
   "metadata": {},
   "source": [
    "##### для добавления библиотек\n",
    "C:\\Program Files\\Java\\jdk1.8.0_161\\jre\\lib\\ext  \n"
   ]
  },
  {
   "cell_type": "markdown",
   "metadata": {},
   "source": [
    "#### b65 ”рок по Java 65: „тение из консоли.  \n"
   ]
  },
  {
   "cell_type": "markdown",
   "metadata": {},
   "source": [
    "```\n",
    "D:\\programs\\android\\A02java>javac src/com/company/l01/Main.java\n",
    "\n",
    "D:\\programs\\android\\A02java>java -cp src com/company/l01/Main\n",
    "134\n",
    "134\n",
    "exit\n",
    "exit\n",
    "```"
   ]
  },
  {
   "cell_type": "markdown",
   "metadata": {},
   "source": [
    "<details><pre>\n",
    "public class Main {\n",
    "    public static void main(String[] args) {\n",
    "        Console console = System.console();\n",
    "        String s = \"\"\"\";\n",
    "        while (!s.equals(\"\"exit\"\")) {\n",
    "            s = console.readLine();\n",
    "            System.out.println(s);\n",
    "        }\n",
    "    }\n",
    "}\n",
    "</pre></details>"
   ]
  },
  {
   "cell_type": "markdown",
   "metadata": {},
   "source": [
    "\"<details><pre>\n",
    "public class Main {\n",
    "    public static void main(String[] args) {\n",
    "        Scanner console = new Scanner(System.in);\n",
    "        String s = \"\"\"\";\n",
    "        while (!s.equals(\"\"exit\"\")) {\n",
    "            s = console.nextLine();\n",
    "            System.out.println(s);\n",
    "        }\n",
    "    }\n",
    "}\n",
    "</pre></details>"
   ]
  },
  {
   "cell_type": "markdown",
   "metadata": {},
   "source": [
    "#### b66 »гра престолов JS и Java. „асть 1  \n"
   ]
  },
  {
   "cell_type": "markdown",
   "metadata": {},
   "source": []
  },
  {
   "cell_type": "markdown",
   "metadata": {},
   "source": [
    "#### b67 »гра престолов JS и Java. „асть 2  \n"
   ]
  },
  {
   "cell_type": "markdown",
   "metadata": {},
   "source": []
  },
  {
   "cell_type": "markdown",
   "metadata": {},
   "source": [
    "#### b68 ”рок по Java 66: ћногопоточность 1: —оздание потоков  \n"
   ]
  },
  {
   "cell_type": "markdown",
   "metadata": {},
   "source": [
    "##### стек\n",
    "```\n",
    "Exception in thread \"main\" java.lang.RuntimeException\n",
    "\tat com.company.l01.Main.otherMethod(Main.java:12)\n",
    "\tat com.company.l01.Main.main(Main.java:7)\n",
    "```"
   ]
  },
  {
   "cell_type": "markdown",
   "metadata": {},
   "source": [
    "```\n",
    "1-main\n",
    "2-Thread-0\n",
    "this is new Thread\n",
    "Exception in thread \"Thread-0\" java.lang.RuntimeException\n",
    "\tat com.company.l01.MyThread.someMethod(Main.java:19)\n",
    "\tat com.company.l01.MyThread.run(Main.java:16)\n",
    "```"
   ]
  },
  {
   "cell_type": "markdown",
   "metadata": {},
   "source": [
    "<details><pre>\n",
    "public class Main {\n",
    "    public static void main(String[] args) {\n",
    "        MyThread myThread = new MyThread();\n",
    "        myThread.start();\n",
    "        System.out.println(\"\"1-\"\"+Thread.currentThread().getName());\n",
    "    }\n",
    "}\n",
    "class MyThread extends Thread{\n",
    "    @Override\n",
    "    public void run() {\n",
    "        System.out.println(\"\"2-\"\"+Thread.currentThread().getName());\n",
    "        System.out.println(\"\"this is new Thread\"\");\n",
    "        someMethod();\n",
    "    }\n",
    "    void someMethod(){\n",
    "        throw new RuntimeException();\n",
    "    }\n",
    "}\n",
    "</pre></details>"
   ]
  },
  {
   "cell_type": "markdown",
   "metadata": {},
   "source": [
    "##### Runnable\n",
    "<details><pre>\n",
    "public class Main {\n",
    "    public static void main(String[] args) {\n",
    "        System.out.println(\"\"1-\"\"+Thread.currentThread().getName());\n",
    "        MyThread myThread = new MyThread();\n",
    "        myThread.start();\n",
    "        MyRunnable myRunnable = new MyRunnable();\n",
    "        Thread thread2 = new Thread(myRunnable);\n",
    "        thread2.start();\n",
    "    }\n",
    "}\n",
    "class MyThread extends Thread{\n",
    "    @Override\n",
    "    public void run() {\n",
    "        System.out.println(\"\"2-\"\"+Thread.currentThread().getName());\n",
    "    }\n",
    "}\n",
    "class MyRunnable implements Runnable{\n",
    "    @Override\n",
    "    public void run() {\n",
    "        System.out.println(\"\"3-\"\"+Thread.currentThread().getName());\n",
    "    }\n",
    "}\n",
    "//1-main\n",
    "//2-Thread-0\n",
    "//3-Thread-1\n",
    "</pre></details>"
   ]
  },
  {
   "cell_type": "markdown",
   "metadata": {},
   "source": [
    "```\n",
    "000000000000000000000000000000000000000000000000000000000000000002122222222202222222222222222222222222222222222222222222222222222222222222222222222222222222222222222222222222222222222222222222222222222222222222222222111111112222222222222222222222222222222222222222222222222222222222222222222222222222222222222222222222222222222222222222222222222222222222222222222222222222222222220000000000000000000000000000000000000000000000000000000000000000000000000000000000000000000000000000000000000000000000000000000000000000000000000000000000000000000000000000000000000000000000000000000000000000000000000000000000000000000000000000000000000000000000000000000000000000000000000000000000000000000000000000000000000000000000122222222222222222222222222222222222222222222222222222222222222222222222222222222222222222222222111111111111111111111111111111111111111111111111111111111111111111111111111111111111111111111111111111111111111111111111111111111111111111111111111111111111111111111111111111111111111111111111111111111111111111111111111111111111111111111111111111111111111111111111111111111111111111111111111111111111111111111111111111111111111111111111111111111111111111111111111111111111111111111111111111\n",
    "```"
   ]
  },
  {
   "cell_type": "markdown",
   "metadata": {},
   "source": [
    "\"<details><pre>\n",
    "public class Main {\n",
    "    public static void main(String[] args) {\n",
    "        System.out.println(\"\"1-\"\"+Thread.currentThread().getName());\n",
    "        new MyThread().start();\n",
    "        new MyThread().start();\n",
    "        new MyThread().start();\n",
    "    }\n",
    "}\n",
    "class MyThread extends Thread{\n",
    "    @Override\n",
    "    public void run() {\n",
    "        for (int i = 0; i &lt; 400; i++) {\n",
    "            String st = Thread.currentThread().getName();\n",
    "            st = st.substring(st.length()-1,st.length());\n",
    "            System.out.print(st);\n",
    "        }\n",
    "    }\n",
    "}\n",
    "</pre></details>"
   ]
  },
  {
   "cell_type": "markdown",
   "metadata": {},
   "source": [
    "#### b69 ”рок по Java 67: ћногопоточность 2: жизненый цикл потоков  \n"
   ]
  },
  {
   "cell_type": "markdown",
   "metadata": {},
   "source": [
    "sleeping, wating, blocking  "
   ]
  },
  {
   "cell_type": "markdown",
   "metadata": {},
   "source": [
    "##### sleeping\n",
    "<details><pre>\n",
    "public class Main {\n",
    "    public static void main(String[] args) throws InterruptedException {\n",
    "        MyThread myThread = new MyThread();\n",
    "        myThread.start();\n",
    "        Thread.sleep(900);\n",
    "        myThread.interrupt();\n",
    "        System.out.println(Thread.currentThread().getName());\n",
    "    }\n",
    "}\n",
    "class MyThread extends Thread{\n",
    "    @Override\n",
    "    public void run() {\n",
    "        System.out.println(Thread.currentThread().getName());\n",
    "        try {\n",
    "            Thread.sleep(1000);\n",
    "        } catch (InterruptedException e) {\n",
    "            System.out.println(\"\"catch\"\");\n",
    "//            e.printStackTrace();\n",
    "        }\n",
    "    }\n",
    "}\n",
    "//Thread-0\n",
    "//main\n",
    "//catch\n",
    "</pre></details>"
   ]
  },
  {
   "cell_type": "markdown",
   "metadata": {},
   "source": [
    "##### yield\n",
    "<details><pre>\n",
    "public class Main {\n",
    "    public static void main(String[] args) throws InterruptedException {\n",
    "        MyThread myThread = new MyThread();\n",
    "        myThread.start();\n",
    "        Thread.sleep(1);\n",
    "        Thread.yield();\n",
    "        System.out.println(Thread.currentThread().getName());\n",
    "    }\n",
    "}\n",
    "class MyThread extends Thread{\n",
    "    @Override\n",
    "    public void run() {\n",
    "        System.out.println(Thread.currentThread().getName());\n",
    "    }\n",
    "}\n",
    "//Thread-0\n",
    "//main\n",
    "</pre></details>"
   ]
  },
  {
   "cell_type": "markdown",
   "metadata": {},
   "source": [
    "##### join\n",
    "<details><pre>\n",
    "public class Main {\n",
    "    public static void main(String[] args) throws InterruptedException {\n",
    "        MyThread myThread = new MyThread();\n",
    "        myThread.start();\n",
    "        myThread.join();\n",
    "        System.out.println(Thread.currentThread().getName());\n",
    "    }\n",
    "}\n",
    "class MyThread extends Thread {\n",
    "    @Override\n",
    "    public void run() {\n",
    "        System.out.println(Thread.currentThread().getName());\n",
    "    }\n",
    "}\n",
    "//Thread-0\n",
    "//main\n",
    "</pre></details>"
   ]
  },
  {
   "cell_type": "markdown",
   "metadata": {},
   "source": [
    "#### b70 ”рок по Java 68: ћногопоточность 3: —инхронизаци¤  \n"
   ]
  },
  {
   "cell_type": "markdown",
   "metadata": {},
   "source": [
    "<details><pre>\n",
    "public class Main {\n",
    "    public static void main(String[] args) throws InterruptedException {\n",
    "        Resource resource = new Resource();\n",
    "        for (int i = 0; i &lt; 25; i++) {\n",
    "            resource.i = 5;\n",
    "            MyThread myThread = new MyThread();\n",
    "            myThread.setName(\"\"One\"\");\n",
    "            MyThread myThread2 = new MyThread();\n",
    "            myThread.setResource(resource);\n",
    "            myThread2.setResource(resource);\n",
    "            myThread.start();\n",
    "            myThread2.start();\n",
    "            myThread.join();\n",
    "            myThread2.join();\n",
    "            System.out.print(resource.i);\n",
    "        }\n",
    "    }\n",
    "}\n",
    "class MyThread extends Thread {\n",
    "    Resource resource;\n",
    "    public void setResource(Resource resource){\n",
    "        this.resource = resource;\n",
    "    }\n",
    "    @Override\n",
    "    public void run() {\n",
    "        resource.changeI();\n",
    "    }\n",
    "}\n",
    "class Resource{\n",
    "    int i=0;\n",
    "    public void changeI(){\n",
    "        int i = this.i;\n",
    "        if(Thread.currentThread().getName().equals(\"\"One\"\")){\n",
    "            for (int j = 0; j &lt; 10000; j++) {}\n",
    "            Thread.yield();\n",
    "        }\n",
    "        i++;\n",
    "        this.i = i;\n",
    "    }\n",
    "}\n",
    "//7777666676777766677777777\n",
    "</pre></details>"
   ]
  },
  {
   "cell_type": "markdown",
   "metadata": {},
   "source": [
    "##### synchronized\n",
    "```\n",
    "public synchronized void changeI(){\n",
    "//7777777777777777777777777\n",
    "\n",
    "synchronized{}\n",
    "\n",
    "```"
   ]
  },
  {
   "cell_type": "markdown",
   "metadata": {},
   "source": [
    "<details><pre>\n",
    "public void changeI(){\n",
    "    synchronized (this) {\n",
    "        int i = this.i;\n",
    "        if (Thread.currentThread().getName().equals(\"\"One\"\")) {\n",
    "            for (int j = 0; j &lt; 10000; j++) {\n",
    "            }\n",
    "            Thread.yield();\n",
    "        }\n",
    "        i++;\n",
    "        this.i = i;\n",
    "    }\n",
    "}\n",
    "//7777777777777777777777777\n",
    "</pre></details>"
   ]
  },
  {
   "cell_type": "markdown",
   "metadata": {},
   "source": [
    "#### b71 ”рок по Java 69: ћногопоточность 4: синхронизаци¤ статический методов  \n"
   ]
  },
  {
   "cell_type": "markdown",
   "metadata": {},
   "source": [
    "\"<details><pre>\n",
    "class Resource {\n",
    "    static int i = 0;\n",
    "    public static void changeStaticI() {\n",
    "        synchronized (Resource.class) {\n",
    "            int i = Resource.i;\n",
    "            if (Thread.currentThread().getName().equals(\"\"One\"\")) {\n",
    "                for (int j = 0; j &lt; 10000; j++) {\n",
    "                }\n",
    "                Thread.yield();\n",
    "            }\n",
    "            i++;\n",
    "            Resource.i = i;\n",
    "        }\n",
    "    }\n",
    "</pre></details>"
   ]
  },
  {
   "cell_type": "markdown",
   "metadata": {},
   "source": [
    "статические переменные, только статическими методами\n",
    "<details><pre>\n",
    "public class Main {\n",
    "    public static void main(String[] args) throws InterruptedException {\n",
    "        Resource resource = new Resource();\n",
    "        for (int i = 0; i &lt; 25; i++) {\n",
    "            Resource.i = 5;\n",
    "            MyThread myThread = new MyThread();\n",
    "            myThread.setName(\"\"One\"\");\n",
    "            MyThread myThread2 = new MyThread();\n",
    "            myThread.start();\n",
    "            myThread2.start();\n",
    "            myThread.join();\n",
    "            myThread2.join();\n",
    "            System.out.print(Resource.i);\n",
    "        }\n",
    "    }\n",
    "}\n",
    "class MyThread extends Thread {\n",
    "    Resource resource;\n",
    "    public void setResource(Resource resource) {\n",
    "        this.resource = resource;\n",
    "    }\n",
    "    @Override\n",
    "    public void run() {\n",
    "        Resource.changeStaticI();\n",
    "        new Resource().changeI();\n",
    "    }\n",
    "}\n",
    "class Resource {\n",
    "    static int i = 0;\n",
    "    public static void changeStaticI() {\n",
    "        synchronized (Resource.class) {\n",
    "            int i = Resource.i;\n",
    "            if (Thread.currentThread().getName().equals(\"\"One\"\")) {\n",
    "                for (int j = 0; j &lt; 10000; j++) {\n",
    "                }\n",
    "                Thread.yield();\n",
    "            }\n",
    "            i++;\n",
    "            Resource.i = i;\n",
    "        }\n",
    "    }\n",
    "    public void changeI() {\n",
    "        synchronized (this) {\n",
    "            int i = Resource.i;\n",
    "            if (Thread.currentThread().getName().equals(\"\"One\"\")) {\n",
    "                for (int j = 0; j &lt; 10000; j++) {\n",
    "                }\n",
    "                Thread.yield();\n",
    "            }\n",
    "            i++;\n",
    "            Resource.i = i;\n",
    "        }\n",
    "    }\n",
    "    //8777777779799999999999999\n",
    "}\n",
    "</pre></details>"
   ]
  },
  {
   "cell_type": "markdown",
   "metadata": {},
   "source": [
    "#### b72 ”рок по Java 70: ћногопоточность 5: volatile  \n"
   ]
  },
  {
   "cell_type": "markdown",
   "metadata": {},
   "source": [
    "\"<details><pre>\n",
    "public class Main {\n",
    "    static int i;\n",
    "    public static void main(String[] args) {\n",
    "        new MyThreadRead().start();\n",
    "        new MyThreadWrite().start();\n",
    "    }\n",
    "    static class MyThreadWrite extends Thread{\n",
    "        @Override\n",
    "        public void run() {\n",
    "            while (i&lt;5){\n",
    "                System.out.println(\"\"Increment i to \"\" + (++i));\n",
    "                try {\n",
    "                    Thread.sleep(500);\n",
    "                } catch (InterruptedException e) {\n",
    "                    e.printStackTrace();\n",
    "                }\n",
    "            }\n",
    "        }\n",
    "    }\n",
    "    static class MyThreadRead extends Thread{\n",
    "        @Override\n",
    "        public void run() {\n",
    "            int localVar = i;\n",
    "            while (localVar&lt;5){\n",
    "                if(localVar!=i){\n",
    "                    System.out.println(\"\"new value of i is \"\"+ i);\n",
    "                    localVar = i;\n",
    "                }\n",
    "            }\n",
    "        }\n",
    "    }\n",
    "}\n",
    "//Increment i to 1\n",
    "//Increment i to 2\n",
    "//Increment i to 3\n",
    "//Increment i to 4\n",
    "//Increment i to 5\n",
    "</pre></details>\"\n"
   ]
  },
  {
   "cell_type": "markdown",
   "metadata": {},
   "source": [
    "```\n",
    "static volatile int i;\n",
    "//Increment i to 1\n",
    "//new value of i is 1\n",
    "//Increment i to 2\n",
    "//new value of i is 2\n",
    "//Increment i to 3\n",
    "//new value of i is 3\n",
    "//Increment i to 4\n",
    "//new value of i is 4\n",
    "//Increment i to 5\n",
    "//new value of i is 5\n",
    "```"
   ]
  },
  {
   "cell_type": "markdown",
   "metadata": {},
   "source": [
    "#### b73 ”рок по Java 71: ћногопоточность 6: атомарные переменные  \n"
   ]
  },
  {
   "cell_type": "markdown",
   "metadata": {},
   "source": [
    "[Package java.util.concurrent.atomic](https://docs.oracle.com/javase/7/docs/api/java/util/concurrent/atomic/package-summary.html)  \n"
   ]
  },
  {
   "cell_type": "markdown",
   "metadata": {},
   "source": [
    "\"<details><pre>\n",
    "public class Main {\n",
    "    static int i;\n",
    "    public static void main(String[] args) throws InterruptedException {\n",
    "        for (int i = 0; i &lt;10_000 ; i++) {\n",
    "            new MyThread().start();\n",
    "        }\n",
    "        Thread.sleep(2000);\n",
    "        System.out.println(i);\n",
    "    }\n",
    "    static class MyThread extends Thread{\n",
    "        @Override\n",
    "        public void run() {\n",
    "            i++;\n",
    "        }\n",
    "    }\n",
    "}\n",
    "//9999\n",
    "</pre></details>"
   ]
  },
  {
   "cell_type": "markdown",
   "metadata": {},
   "source": [
    "\"<details><pre>\n",
    "import java.util.concurrent.atomic.AtomicInteger;\n",
    "public class Main {\n",
    "    static AtomicInteger atomicInteger = new AtomicInteger();\n",
    "    public static void main(String[] args) throws InterruptedException {\n",
    "        for (int i = 0; i &lt;10_000 ; i++) {\n",
    "            new MyThread().start();\n",
    "        }\n",
    "        Thread.sleep(100);\n",
    "        System.out.println(atomicInteger.get());\n",
    "    }\n",
    "    static class MyThread extends Thread{\n",
    "        @Override\n",
    "        public void run() {\n",
    "            atomicInteger.incrementAndGet();\n",
    "        }\n",
    "    }\n",
    "}\n",
    "//10000\n",
    "</pre></details>"
   ]
  },
  {
   "cell_type": "markdown",
   "metadata": {},
   "source": [
    "#### b74 ”рок по Java 72: ћногопоточность 7: —инхронизированные коллекции  \n"
   ]
  },
  {
   "cell_type": "markdown",
   "metadata": {},
   "source": [
    "[Package java.util.concurrent](https://docs.oracle.com/javase/7/docs/api/java/util/concurrent/package-summary.html)  \n"
   ]
  },
  {
   "cell_type": "markdown",
   "metadata": {},
   "source": [
    "\"<details><pre>\n",
    "//Exception in thread \"\"One\"\" java.lang.IndexOutOfBoundsException: Index: 0, Size: 0\n",
    "//first\n",
    "//\tat java.util.ArrayList.rangeCheck(ArrayList.java:657)\n",
    "//\tat java.util.ArrayList.remove(ArrayList.java:496)\n",
    "//\tat java.util.Collections$SynchronizedList.remove(Collections.java:2426)\n",
    "//\tat com.company.l01.Main$NameList.removeFirst(Main.java:37)\n",
    "//\tat com.company.l01.Main$1MyThread.run(Main.java:16)\n",
    "public class Main {\n",
    "    public static void main(String[] args) throws InterruptedException {\n",
    "        NameList nameList = new NameList();\n",
    "        nameList.add(\"\"first\"\");\n",
    "        class MyThread extends Thread {\n",
    "            @Override\n",
    "            public void run() {\n",
    "                System.out.println(nameList.removeFirst());\n",
    "            }\n",
    "        }\n",
    "        MyThread myThread = new MyThread();\n",
    "        myThread.setName(\"\"One\"\");\n",
    "        myThread.start();\n",
    "        new MyThread().start();\n",
    "    }\n",
    "    static class NameList {\n",
    "        private List list = Collections.synchronizedList(new ArrayList&lt;&gt;());\n",
    "        public void add(String name) {\n",
    "            list.add(name);\n",
    "        }\n",
    "        public String removeFirst() {\n",
    "            if (list.size() &gt; 0) {\n",
    "                if(Thread.currentThread().getName()==\"\"One\"\"){\n",
    "                    Thread.yield();\n",
    "                }\n",
    "                return (String) list.remove(0);\n",
    "            }\n",
    "            return null;\n",
    "        }\n",
    "    }\n",
    "}\n",
    "</pre></details>"
   ]
  },
  {
   "cell_type": "markdown",
   "metadata": {},
   "source": [
    "```\n",
    "public synchronized void add(String name) {\n",
    "public synchronized String removeFirst() {\n",
    "```"
   ]
  },
  {
   "cell_type": "markdown",
   "metadata": {},
   "source": [
    "`Collections.synchronizedList` - нужен для работы с List-м из разных потоков  "
   ]
  },
  {
   "cell_type": "markdown",
   "metadata": {},
   "source": [
    "#### b75 ”рок по Java 73: ћногопоточность 8: Deadlock  \n"
   ]
  },
  {
   "cell_type": "markdown",
   "metadata": {},
   "source": [
    "Работа одного ресурса с другим и обратно.  \n",
    "Ресурсы залочены. Программа зависает."
   ]
  },
  {
   "cell_type": "markdown",
   "metadata": {},
   "source": [
    "<details><pre>\n",
    "public class Main {\n",
    "    public static void main(String[] args) throws Exception {\n",
    "        ResourceA resourceA = new ResourceA();\n",
    "        ResourceB resourceB = new ResourceB();\n",
    "        resourceA.resourceB = resourceB;\n",
    "        resourceB.resourceA = resourceA;\n",
    "        MyThread1 myThread1 = new MyThread1();\n",
    "        MyThread2 myThread2 = new MyThread2();\n",
    "        myThread1.resourceA = resourceA;\n",
    "        myThread2.resourceB = resourceB;\n",
    "        myThread1.start();\n",
    "        myThread2.start();\n",
    "    }\n",
    "}\n",
    "class MyThread1 extends Thread {\n",
    "    ResourceA resourceA;\n",
    "    @Override\n",
    "    public void run() {\n",
    "        System.out.println(resourceA.getI());\n",
    "    }\n",
    "}\n",
    "class MyThread2 extends Thread {\n",
    "    ResourceB resourceB;\n",
    "    @Override\n",
    "    public void run() {\n",
    "        System.out.println(resourceB.getI());\n",
    "    }\n",
    "}\n",
    "class ResourceA {\n",
    "    ResourceB resourceB;\n",
    "    public synchronized int getI() {\n",
    "        for (int i = 0; i &lt; 10000; i++) { }\n",
    "        return resourceB.returnI();\n",
    "    }\n",
    "    public synchronized int returnI() {\n",
    "        return 1;\n",
    "    }\n",
    "}\n",
    "class ResourceB {\n",
    "    ResourceA resourceA;\n",
    "    public synchronized int getI() {\n",
    "        for (int i = 0; i &lt; 10000; i++) { }\n",
    "        return resourceA.returnI();\n",
    "    }\n",
    "    public synchronized int returnI() {\n",
    "        return 2;\n",
    "    }\n",
    "}\n",
    "//Process finished with exit code -1\n",
    "</pre></details>"
   ]
  },
  {
   "cell_type": "markdown",
   "metadata": {},
   "source": [
    "#### b76 ”рок по Java 74: ћногопоточность 9: Wait and notify  \n"
   ]
  },
  {
   "cell_type": "markdown",
   "metadata": {},
   "source": [
    "- wait - жду сообщения\n",
    "- notify - посылаю сообщение  \n",
    "Программа подготовила данные и вырубилась до тех пор пока не получит сообщение, что данные обработаны. При получении данных она продолжит работу."
   ]
  },
  {
   "cell_type": "markdown",
   "metadata": {},
   "source": [
    "<details><pre>\n",
    "public class Main {\n",
    "    public static void main(String[] args) throws InterruptedException {\n",
    "        ThreadB threadB = new ThreadB();\n",
    "        threadB.start();\n",
    "        synchronized (threadB) {\n",
    "            threadB.wait();\n",
    "        }\n",
    "        System.out.println(threadB.total);\n",
    "    }\n",
    "    static class ThreadB extends Thread {\n",
    "        int total;\n",
    "        @Override\n",
    "        public void run() {\n",
    "            synchronized (this) {\n",
    "                for (int i = 0; i &lt; 5; i++) {\n",
    "                    total += i;\n",
    "                    try {\n",
    "                        sleep(500);\n",
    "                    } catch (InterruptedException e) {\n",
    "                        e.printStackTrace();\n",
    "                    }\n",
    "                }\n",
    "                notify();\n",
    "            }\n",
    "        }\n",
    "    }\n",
    "}\n",
    "</pre></details>"
   ]
  },
  {
   "cell_type": "markdown",
   "metadata": {},
   "source": [
    "#### b77 ”рок по Java 75: ћногопоточность 10: Wait and Notify пример  \n"
   ]
  },
  {
   "cell_type": "markdown",
   "metadata": {},
   "source": [
    "<details><pre>\n",
    "public class Main {\n",
    "    static List&lt;String&gt; strings = Collections.synchronizedList(new ArrayList&lt;&gt;());\n",
    "    public static void main(String[] args) {\n",
    "        new Operator().start();\n",
    "        new Machine().start();\n",
    "        System.out.println(\"\"java\"\");\n",
    "    }\n",
    "    static class Operator extends Thread {\n",
    "        @Override\n",
    "        public void run() {\n",
    "            Scanner scanner = new Scanner(System.in);\n",
    "            while (true) {\n",
    "                synchronized (strings) {\n",
    "                    strings.add(scanner.nextLine());\n",
    "                    strings.notify();\n",
    "                }\n",
    "                try {\n",
    "                    sleep(500);\n",
    "                } catch (InterruptedException e) {\n",
    "                    e.printStackTrace();\n",
    "                }\n",
    "            }\n",
    "        }\n",
    "    }\n",
    "    static class Machine extends Thread {\n",
    "        @Override\n",
    "        public void run() {\n",
    "            while (strings.isEmpty()) {\n",
    "                synchronized (strings) {\n",
    "                    try {\n",
    "                        strings.wait();\n",
    "                    } catch (InterruptedException e) {\n",
    "                        e.printStackTrace();\n",
    "                    }\n",
    "                    System.out.println(strings.remove(0));\n",
    "                }\n",
    "            }\n",
    "        }\n",
    "    }\n",
    "}\n",
    "</pre></details>"
   ]
  },
  {
   "cell_type": "markdown",
   "metadata": {},
   "source": [
    " ->111\n",
    "qw\n",
    "e\n",
    " ->qw\n",
    "r\n",
    "t\n",
    " ->e\n",
    "y\n",
    "u ->r\n",
    "\n",
    "i\n",
    " ->t\n",
    "o\n",
    "p\n",
    " ->y\n",
    " ->\n",
    " ->i\n",
    " ->o\n",
    " ->p"
   ]
  },
  {
   "cell_type": "markdown",
   "metadata": {},
   "source": [
    "\"<details><pre>\n",
    "public class Main {\n",
    "    static List&lt;String&gt; strings = Collections.synchronizedList(new ArrayList&lt;&gt;());\n",
    "    public static void main(String[] args) {\n",
    "        strings.add(\"\"111\"\");\n",
    "        new Operator().start();\n",
    "        new Machine().start();\n",
    "        System.out.println(\"\"java\"\");\n",
    "    }\n",
    "    static class Operator extends Thread {\n",
    "        @Override\n",
    "        public void run() {\n",
    "            Scanner scanner = new Scanner(System.in);\n",
    "            while (true) {\n",
    "                synchronized (strings) {\n",
    "                    strings.add(scanner.nextLine());\n",
    "                    strings.notify();\n",
    "                }\n",
    "                try {\n",
    "                    sleep(500);\n",
    "                } catch (InterruptedException e) {\n",
    "                    e.printStackTrace();\n",
    "                }\n",
    "            }\n",
    "        }\n",
    "    }\n",
    "    static class Machine extends Thread {\n",
    "        @Override\n",
    "        public void run() {\n",
    "            while (true) {\n",
    "                synchronized (strings) {\n",
    "                if(!strings.isEmpty()){\n",
    "                    try {\n",
    "                        sleep(1000);\n",
    "                    } catch (InterruptedException e) {\n",
    "                        e.printStackTrace();\n",
    "                    }\n",
    "                    System.out.println(\"\" -&gt;\"\" + strings.remove(0));\n",
    "                }else{\n",
    "                        try {\n",
    "                            strings.wait();\n",
    "                        } catch (InterruptedException e) {\n",
    "                            e.printStackTrace();\n",
    "                        }\n",
    "                    }\n",
    "                }\n",
    "            }\n",
    "        }\n",
    "    }\n",
    "}\n",
    "</pre></details>"
   ]
  },
  {
   "cell_type": "markdown",
   "metadata": {},
   "source": [
    "#### b78 ”рок по Java 76: ћногопоточность 11: ReentrantLock  \n"
   ]
  },
  {
   "cell_type": "markdown",
   "metadata": {},
   "source": [
    "<details><pre>\n",
    "public class Main {\n",
    "    public static void main(String[] args) throws InterruptedException {\n",
    "        Resource resource = new Resource();\n",
    "        for (int i = 0; i &lt; 25; i++) {\n",
    "            resource.i = 5;\n",
    "            MyThread myThread = new MyThread();\n",
    "            myThread.setName(&quot;One&quot;);\n",
    "            MyThread myThread2 = new MyThread();\n",
    "            myThread.setResource(resource);\n",
    "            myThread2.setResource(resource);\n",
    "            myThread.start();\n",
    "            myThread2.start();\n",
    "            myThread.join();\n",
    "            myThread2.join();\n",
    "            System.out.print(resource.i);\n",
    "        }\n",
    "    }\n",
    "}\n",
    "class MyThread extends Thread {\n",
    "    Resource resource;\n",
    "    public void setResource(Resource resource){\n",
    "        this.resource = resource;\n",
    "    }\n",
    "    @Override\n",
    "    public void run() {\n",
    "        resource.changeI();\n",
    "    }\n",
    "}\n",
    "class Resource{\n",
    "    int i=0;\n",
    "    Lock lock = new ReentrantLock();\n",
    "    public void changeI(){\n",
    "        lock.lock();\n",
    "        int i = this.i;\n",
    "        if(Thread.currentThread().getName().equals(&quot;One&quot;)){\n",
    "            for (int j = 0; j &lt; 10000; j++) {}\n",
    "            Thread.yield();\n",
    "        }\n",
    "        i++;\n",
    "        this.i = i;\n",
    "        lock.unlock();\n",
    "    }\n",
    "}\n",
    "//7777777777777777777777777\n",
    "</pre></details>"
   ]
  },
  {
   "cell_type": "markdown",
   "metadata": {},
   "source": [
    "<details><pre>\n",
    "public class Main {\n",
    "    public static void main(String[] args) throws InterruptedException {\n",
    "        Resource resource = new Resource();\n",
    "        for (int i = 0; i &lt; 25; i++) {\n",
    "            resource.i = 5;\n",
    "            resource.j = 5;\n",
    "            MyThread myThread = new MyThread();\n",
    "            myThread.setName(&quot;One&quot;);\n",
    "            MyThread myThread2 = new MyThread();\n",
    "            myThread.setResource(resource);\n",
    "            myThread2.setResource(resource);\n",
    "            myThread.start();\n",
    "            myThread2.start();\n",
    "            myThread.join();\n",
    "            myThread2.join();\n",
    "            System.out.print(&quot;&quot;+resource.i\n",
    "                    +resource.j+&quot;|&quot;);\n",
    "        }\n",
    "    }\n",
    "}\n",
    "class MyThread extends Thread {\n",
    "    Resource resource;\n",
    "    public void setResource(Resource resource){\n",
    "        this.resource = resource;\n",
    "    }\n",
    "    @Override\n",
    "    public void run() {\n",
    "        resource.changeI();\n",
    "        resource.changeJ();\n",
    "    }\n",
    "}\n",
    "class Resource{\n",
    "    int i=0;\n",
    "    int j=0;\n",
    "\n",
    "    Lock lock = new ReentrantLock();\n",
    "\n",
    "    public void changeI(){\n",
    "        lock.lock();\n",
    "        int i = this.i;\n",
    "        if(Thread.currentThread().getName().equals(&quot;One&quot;)){\n",
    "            for (int j = 0; j &lt; 10000; j++) {}\n",
    "            Thread.yield();\n",
    "        }\n",
    "        i++;\n",
    "        this.i = i;\n",
    "    }\n",
    "    public void changeJ(){\n",
    "        int j = this.j;\n",
    "        if(Thread.currentThread().getName().equals(&quot;One&quot;)){\n",
    "            for (int k = 0; k &lt; 10000; k++) {}\n",
    "            Thread.yield();\n",
    "        }\n",
    "        j++;\n",
    "        this.j = j;\n",
    "        lock.unlock();\n",
    "    }\n",
    "}\n",
    "//lock\n",
    "//77|77|77|77|77|77|77|77|77|77|77|77|77|77|77|77|77|77|77|77|77|77|77|77|77|\n",
    "//без lock\n",
    "//76|76|67|67|67|67|67|67|67|76|67|76|77|67|77|77|77|77|77|77|77|77|77|77|77|\n",
    "</pre></details>\n"
   ]
  },
  {
   "cell_type": "markdown",
   "metadata": {},
   "source": [
    "#### b79 ”рок по Java 77: ћногопоточность 12: TryLock  \n"
   ]
  },
  {
   "cell_type": "markdown",
   "metadata": {},
   "source": [
    "проверка lock-а ресурса"
   ]
  },
  {
   "cell_type": "markdown",
   "metadata": {},
   "source": [
    "```\n",
    "Thread-0 start working\n",
    "Thread-1 start working\n",
    ".\n",
    ".\n",
    ".\n",
    ".\n",
    ".\n",
    "\n",
    "Thread-0 stop working\n",
    "Thread-0 lock realise\n",
    ".\n",
    "Thread-1 working\n",
    "```\n",
    "<details><pre>\n",
    "public class Main {\n",
    "    static Lock lock = new ReentrantLock();\n",
    "\n",
    "    public static void main(String[] args) {\n",
    "        new Thread1().start();\n",
    "        new Thread2().start();\n",
    "\n",
    "    }\n",
    "\n",
    "    static class Thread1 extends Thread {\n",
    "        @Override\n",
    "        public void run() {\n",
    "            lock.lock();\n",
    "            System.out.println(getName() + &quot; start working&quot;);\n",
    "            try {\n",
    "                sleep(50);\n",
    "            } catch (InterruptedException e) {\n",
    "                e.printStackTrace();\n",
    "            }\n",
    "            System.out.println();\n",
    "            System.out.println(getName() + &quot; stop working&quot;);\n",
    "            lock.unlock();\n",
    "            System.out.println(getName()+ &quot; lock realise&quot;);\n",
    "        }\n",
    "    }\n",
    "\n",
    "    static class Thread2 extends Thread {\n",
    "        @Override\n",
    "        public void run() {\n",
    "            System.out.println(getName() + &quot; start working&quot;);\n",
    "            int k=0;\n",
    "            while (true) {\n",
    "                if (lock.tryLock()) {\n",
    "                    System.out.println(getName() + &quot; working&quot;);\n",
    "                    break;\n",
    "                }else {\n",
    "//                    if(k++%1000000==0)\n",
    "                        System.out.println\n",
    "                                (&quot;.&quot;);\n",
    "\n",
    "                }\n",
    "            }\n",
    "        }\n",
    "    }\n",
    "}\n",
    "</pre></details>"
   ]
  },
  {
   "cell_type": "markdown",
   "metadata": {},
   "source": []
  },
  {
   "cell_type": "markdown",
   "metadata": {},
   "source": [
    "[]()  \n",
    "[]()  \n",
    "[]()  \n",
    "[]()  \n",
    "[]()  \n",
    "```\n",
    "\n",
    "```"
   ]
  }
 ],
 "metadata": {
  "kernelspec": {
   "display_name": "Python 3",
   "language": "python",
   "name": "python3"
  },
  "language_info": {
   "codemirror_mode": {
    "name": "ipython",
    "version": 3
   },
   "file_extension": ".py",
   "mimetype": "text/x-python",
   "name": "python",
   "nbconvert_exporter": "python",
   "pygments_lexer": "ipython3",
   "version": "3.7.4"
  }
 },
 "nbformat": 4,
 "nbformat_minor": 2
}
