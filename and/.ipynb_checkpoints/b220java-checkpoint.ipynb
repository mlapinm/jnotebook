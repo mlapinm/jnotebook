{
 "cells": [
  {
   "cell_type": "markdown",
   "metadata": {},
   "source": [
    "[b220 ”рок Java 210: Byte code verifier](#b220-”рок-Java-210:-Byte-code-verifier)  \n",
    "[b221 ”рок Java 211: Security Manager](#b221-”рок-Java-211:-Security-Manager)  \n",
    "[b222 ”рок Java 212: Security Manager аунтентификаци¤ пользовател¤](#b222-”рок-Java-212:-Security-Manager-аунтентификаци¤-пользовател¤)  \n",
    "[b223 ”рок Java 213: –абота с шифрованием MD5 и SHA-1](#b223-”рок-Java-213:-–абота-с-шифрованием-MD5-и-SHA-1)  \n",
    "[b224 ”рок Java 214: —ертификаци¤ - Certification](#b224-”рок-Java-214:-—ертификаци¤---Certification)  \n",
    "[b225 ”рок Java 215: Ўифрование AES](#b225-”рок-Java-215:-Ўифрование-AES)  \n",
    "[b226 ”рок Java 216: Ўифрование RSA](#b226-”рок-Java-216:-Ўифрование-RSA)  \n",
    "[b227 ”рок Java 217: «апуск JavaScript](#b227-”рок-Java-217:-«апуск-JavaScript)  \n",
    "[b228 ”рок Java 218:  омпил¤ци¤ Java в рантайме](#b228-”рок-Java-218:- омпил¤ци¤-Java-в-рантайме)  \n",
    "[b229 ”рок Java 219: јннотации - Annotations](#b229-”рок-Java-219:-јннотации---Annotations)  \n",
    "[b230 ”рок Java 220: ѕример работы с аннотаци¤ми](#b230-”рок-Java-220:-ѕример-работы-с-аннотаци¤ми)  \n",
    "[b231 ”рок Java 221: RMI](#b231-”рок-Java-221:-RMI)  \n",
    "[b232 ”рок Java 222: «апуск \"native\" кода](#b232-”рок-Java-222:-«апуск-\"native\"-кода)  \n",
    "[b233 ”рок Java 223: JNDI](#b233-”рок-Java-223:-JNDI)  \n",
    "[b234 ”рок Java 224: JAXB](#b234-”рок-Java-224:-JAXB)  \n",
    "[b235 ”рок Java 225: FX 1: HelloWorld](#b235-”рок-Java-225:-FX-1:-HelloWorld)  \n",
    "[b236 ”рок Java 226: FX 2: Java Packager](#b236-”рок-Java-226:-FX-2:-Java-Packager)  \n",
    "[b237 ”рок Java 227: FX 3: Shapes](#b237-”рок-Java-227:-FX-3:-Shapes)  \n",
    "[b238 ”рок Java 228: FX 4: Canvas](#b238-”рок-Java-228:-FX-4:-Canvas)  \n",
    "[b239 ”рок Java 229: FX 5: Properties и binding](#b239-”рок-Java-229:-FX-5:-Properties-и-binding)  \n"
   ]
  },
  {
   "cell_type": "markdown",
   "metadata": {},
   "source": [
    "#### b220 ”рок Java 210: Byte code verifier  \n",
    "java -noverify VerifierTest  "
   ]
  },
  {
   "cell_type": "markdown",
   "metadata": {},
   "source": [
    "<details><pre>\n",
    "package security;\n",
    "import java.applet.Applet;\n",
    "public class VerifierTest extends Applet {\n",
    "    public static void main(String[] args) {\n",
    "        System.out.println(&quot;1 + 2 == &quot; + fun());\n",
    "    }\n",
    "    public static int fun() {\n",
    "        int m;\n",
    "        int n;\n",
    "        m = 1;\n",
    "        n = 2;\n",
    "// use hex editor to change to &quot;m = 2&quot; in class file\n",
    "        int r = m + n;\n",
    "        return r;\n",
    "    }\n",
    "}\n",
    "</pre></details>"
   ]
  },
  {
   "cell_type": "markdown",
   "metadata": {},
   "source": []
  },
  {
   "cell_type": "markdown",
   "metadata": {},
   "source": []
  },
  {
   "cell_type": "markdown",
   "metadata": {},
   "source": []
  },
  {
   "cell_type": "markdown",
   "metadata": {},
   "source": []
  },
  {
   "cell_type": "markdown",
   "metadata": {},
   "source": []
  },
  {
   "cell_type": "markdown",
   "metadata": {},
   "source": [
    "#### b221 ”рок Java 211: Security Manager  \n",
    "#### b222 ”рок Java 212: Security Manager аунтентификаци¤ пользовател¤  \n",
    "#### b223 ”рок Java 213: –абота с шифрованием MD5 и SHA-1  \n",
    "#### b224 ”рок Java 214: —ертификаци¤ - Certification  \n",
    "#### b225 ”рок Java 215: Ўифрование AES  \n",
    "#### b226 ”рок Java 216: Ўифрование RSA  \n",
    "#### b227 ”рок Java 217: «апуск JavaScript  \n",
    "#### b228 ”рок Java 218:  омпил¤ци¤ Java в рантайме  \n",
    "#### b229 ”рок Java 219: јннотации - Annotations  \n",
    "#### b230 ”рок Java 220: ѕример работы с аннотаци¤ми  \n",
    "#### b231 ”рок Java 221: RMI  \n",
    "#### b232 ”рок Java 222: «апуск \"native\" кода  \n",
    "#### b233 ”рок Java 223: JNDI  \n",
    "#### b234 ”рок Java 224: JAXB  \n",
    "#### b235 ”рок Java 225: FX 1: HelloWorld  \n",
    "#### b236 ”рок Java 226: FX 2: Java Packager  \n",
    "#### b237 ”рок Java 227: FX 3: Shapes  \n",
    "#### b238 ”рок Java 228: FX 4: Canvas  \n",
    "#### b239 ”рок Java 229: FX 5: Properties и binding  \n"
   ]
  },
  {
   "cell_type": "code",
   "execution_count": null,
   "metadata": {},
   "outputs": [],
   "source": []
  },
  {
   "cell_type": "markdown",
   "metadata": {},
   "source": [
    "[]()  \n",
    "[]()  \n",
    "[]()  \n",
    "[]()  \n",
    "[]()  \n",
    "```\n",
    "\n",
    "```"
   ]
  }
 ],
 "metadata": {
  "kernelspec": {
   "display_name": "Python 3",
   "language": "python",
   "name": "python3"
  },
  "language_info": {
   "codemirror_mode": {
    "name": "ipython",
    "version": 3
   },
   "file_extension": ".py",
   "mimetype": "text/x-python",
   "name": "python",
   "nbconvert_exporter": "python",
   "pygments_lexer": "ipython3",
   "version": "3.7.4"
  }
 },
 "nbformat": 4,
 "nbformat_minor": 2
}
