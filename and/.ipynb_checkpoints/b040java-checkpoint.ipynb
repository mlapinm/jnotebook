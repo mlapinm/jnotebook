{
 "cells": [
  {
   "cell_type": "markdown",
   "metadata": {},
   "source": [
    "[b40 ”рок по Java 40: ÷икл For](#b40-”рок-по-Java-40:-÷икл-For)  \n",
    "[b41 ”рок по Java 41: ”лучшенный цикл For](#b41-”рок-по-Java-41:-”лучшенный-цикл-For)  \n",
    "[b42 ”рок по Java 42: Exceptions - исключени¤](#b42-”рок-по-Java-42:-Exceptions---исключени¤)  \n",
    "[b43 ”рок по Java 43: ћеханизм Assertions](#b43-”рок-по-Java-43:-ћеханизм-Assertions)  \n",
    "[b44 ”рок по Java 44: StringBuilder](#b44-”рок-по-Java-44:-StringBuilder)  \n",
    "[b45 ”рок по Java 45: –абота с файлами и директори¤ми в Java](#b45-”рок-по-Java-45:-–абота-с-файлами-и-директори¤ми-в-Java)  \n",
    "[b46 ”рок по Java 46: —ериализаци¤](#b46-”рок-по-Java-46:-—ериализаци¤)  \n",
    "[b47 ”рок по Java 47: —ериализаци¤ наследуемых объектов](#b47-”рок-по-Java-47:-—ериализаци¤-наследуемых-объектов)  \n",
    "[b48 ”рок по Java 48: ƒаты, календари и врем¤.](#b48-”рок-по-Java-48:-ƒаты,-календари-и-врем¤.)  \n",
    "[b49 ”рок по Java 49: Equals and HashCode](#b49-”рок-по-Java-49:-Equals-and-HashCode)  \n",
    "[b50 ”рок по Java 50:  оллекции](#b50-урок-по-Java-50:-коллекции)  \n",
    "[b51 ”рок по Java 51: —ортировка коллекций и интерфейсы - Comparable и Comparator](#b51-”рок-по-Java-51:-—ортировка-коллекций-и-интерфейсы---Comparable-и-Comparator)  \n",
    "[b52 ”рок по Java 52: —писки - List](#b52-”рок-по-Java-52:-—писки---List)  \n",
    "[b53 ”рок по Java 53: ќчереди - Queue](#b53-”рок-по-Java-53:-ќчереди---Queue)  \n",
    "[b54 ”рок по Java 54: Maps](#b54-”рок-по-Java-54:-Maps)  \n",
    "[b55 ”рок по Java 55: Sets](#b55-”рок-по-Java-55:-Sets)  \n",
    "[b56 ”рок по Java 56: Generics - обобщени¤](#b56-”рок-по-Java-56:-Generics---обобщени¤)  \n",
    "[b57 ”рок по Java 57: Inner Classes - ¬нутренние классы](#b57-”рок-по-Java-57:-Inner-Classes---¬нутренние-классы)  \n",
    "[b58 ”рок по Java 58: јнонимные классы](#b58-”рок-по-Java-58:-јнонимные-классы)  \n",
    "[b59 ”рок по Java 59:  лонирование объектов](#b59-”рок-по-Java-59:-клонирование-объектов)  "
   ]
  },
  {
   "cell_type": "markdown",
   "metadata": {},
   "source": [
    "#### b40 ”рок по Java 40: ÷икл For  \n",
    "#### b41 ”рок по Java 41: ”лучшенный цикл For  \n",
    "#### b42 ”рок по Java 42: Exceptions - исключени¤  \n",
    "#### b43 ”рок по Java 43: ћеханизм Assertions  \n",
    "#### b44 ”рок по Java 44: StringBuilder  \n",
    "#### b45 ”рок по Java 45: –абота с файлами и директори¤ми в Java  \n",
    "#### b46 ”рок по Java 46: —ериализаци¤  \n",
    "#### b47 ”рок по Java 47: —ериализаци¤ наследуемых объектов  \n",
    "#### b48 ”рок по Java 48: ƒаты, календари и врем¤.  \n",
    "#### b49 ”рок по Java 49: Equals and HashCode  \n",
    "#### b50 урок по Java 50: коллекции  \n",
    "#### b51 ”рок по Java 51: —ортировка коллекций и интерфейсы - Comparable и Comparator  \n",
    "#### b52 ”рок по Java 52: —писки - List  \n",
    "#### b53 ”рок по Java 53: ќчереди - Queue  \n",
    "#### b54 ”рок по Java 54: Maps  \n",
    "#### b55 ”рок по Java 55: Sets  \n",
    "#### b56 ”рок по Java 56: Generics - обобщени¤  \n",
    "#### b57 ”рок по Java 57: Inner Classes - ¬нутренние классы  \n",
    "#### b58 ”рок по Java 58: јнонимные классы  \n",
    "#### b59 ”рок по Java 59: клонирование объектов  "
   ]
  },
  {
   "cell_type": "code",
   "execution_count": null,
   "metadata": {},
   "outputs": [],
   "source": []
  },
  {
   "cell_type": "markdown",
   "metadata": {},
   "source": [
    "[]()  \n",
    "[]()  \n",
    "[]()  \n",
    "[]()  \n",
    "[]()  \n",
    "```\n",
    "\n",
    "```"
   ]
  }
 ],
 "metadata": {
  "kernelspec": {
   "display_name": "Python 3",
   "language": "python",
   "name": "python3"
  },
  "language_info": {
   "codemirror_mode": {
    "name": "ipython",
    "version": 3
   },
   "file_extension": ".py",
   "mimetype": "text/x-python",
   "name": "python",
   "nbconvert_exporter": "python",
   "pygments_lexer": "ipython3",
   "version": "3.7.4"
  }
 },
 "nbformat": 4,
 "nbformat_minor": 2
}
