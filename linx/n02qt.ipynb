{
 "cells": [
  {
   "cell_type": "markdown",
   "metadata": {},
   "source": []
  },
  {
   "cell_type": "markdown",
   "metadata": {},
   "source": [
    "#### Diag"
   ]
  },
  {
   "cell_type": "markdown",
   "metadata": {},
   "source": []
  },
  {
   "cell_type": "markdown",
   "metadata": {},
   "source": [
    "D:\\mailCloud\\prjother\\083qt\\diag\\diag\\diag\\list.cpp\n",
    "int List::makeType(char* chStr)\n",
    "<details><pre>\n",
    "int List::makeType(char* chStr)\n",
    "{\n",
    "    int ret=0;\n",
    "    char chIn[18];\n",
    "    memcpy(chIn,chStr,12);\n",
    "    int k=0;\n",
    "    for(int i=0;i&lt;18;i++){\n",
    "        if(chIn[i]==0){\n",
    "            k=i;\n",
    "            break;\n",
    "        }\n",
    "    }\n",
    "    k = k&gt;17?17:k;\n",
    "    QTextCodec *codecChar1 = QTextCodec::codecForName( &quot;cp1251&quot; );\n",
    "    QString sBrd = codecChar1-&gt;toUnicode(chIn,k);\n",
    "\tQString strPsp,strPsp0,strPs5,strPsm,strPiu,strPvi;\n",
    "    strPsp=QString::fromUtf8(&quot;ПСП1&quot;);\n",
    "    strPsp0=QString::fromUtf8(&quot;ПСП&quot;);\t\t\t//5\n",
    "    strPs5=QString::fromUtf8(&quot;ПС5&quot;);\t\t\t//2\n",
    "    strPsm=QString::fromUtf8(&quot;ПСМ&quot;);\t\t\t//3\n",
    "    strPiu=QString::fromUtf8(&quot;ПИУ&quot;);\t\t\t//6\n",
    "    strPvi=QString::fromUtf8(&quot;ПВИ&quot;);\t\t\t//7\n",
    "    if(sBrd==strPsp)\n",
    "\t\tret = 1;\n",
    "    if(sBrd==strPs5)\n",
    "\t\tret = 2;\n",
    "    if(sBrd==strPsm)\n",
    "\t\tret = 3;\n",
    "    if(sBrd==strPsp0)\n",
    "\t\tret = 4;\n",
    "    if(sBrd==strPiu)\n",
    "\t\tret = 6;\n",
    "    if(sBrd==strPvi)\n",
    "\t\tret = 7;\n",
    "\treturn ret;\n",
    "}\n",
    "</pre></details>"
   ]
  },
  {
   "cell_type": "markdown",
   "metadata": {},
   "source": [
    "        chName[0]='К';\n"
   ]
  },
  {
   "cell_type": "markdown",
   "metadata": {},
   "source": [
    "#### 27.01.2020"
   ]
  },
  {
   "cell_type": "markdown",
   "metadata": {},
   "source": [
    "#### "
   ]
  },
  {
   "cell_type": "markdown",
   "metadata": {},
   "source": [
    "main.cpp\n",
    "str = QString::fromUtf8(\"Диагностика\");\n"
   ]
  },
  {
   "cell_type": "markdown",
   "metadata": {},
   "source": [
    "tabpiu.cpp\n",
    "laRlsArp\n",
    "void List::updateDialogList()\n",
    "dialog.cpp\n",
    "void Dialog::fChoice()\n",
    "str=QString::fromUtf8(\"РЛС:\");\n",
    "str =QString::fromUtf8(\", АРП:\");\n"
   ]
  },
  {
   "cell_type": "markdown",
   "metadata": {},
   "source": [
    "liEdPrimarName\n",
    "\tstr2 = QString::fromAscii(nameSource,k0+1);\n",
    "    \n",
    "    \n",
    "    \n"
   ]
  },
  {
   "cell_type": "markdown",
   "metadata": {},
   "source": [
    "```\n",
    "//96Е103  название первичного канала\n",
    "\tiAddr0 = 96;\n",
    "    memset(nameSource,0,sizeof(nameSource));\n",
    "    memcpy(nameSource,&unitReceive->basicSetting[iAddr0],16);\n",
    "    str2 = codecChar1->toUnicode(nameSource);\n",
    "\tif(!ui.liEdPrimarName->hasFocus())\n",
    "\t\tui.liEdPrimarName->setText(str2);\n",
    "```"
   ]
  },
  {
   "cell_type": "markdown",
   "metadata": {},
   "source": [
    "tabpiu.cpp\n",
    "<details><pre>\n",
    "void TabPiu::slLiEdPrimarName()\n",
    "{\n",
    "//12Е14  название первичного канала 16 байт\n",
    "\tint iAddr = 96;\n",
    "\tPLineEdit* lineEdit = ui.liEdPrimarName;\n",
    "    QString str1;\n",
    "\tstr1=lineEdit-&gt;text();\n",
    "    ushort sizeString = str1.length();\n",
    "    sizeString=sizeString&gt;16?16:sizeString;\n",
    "    str1=str1.mid(0,sizeString);\n",
    "    QByteArray qba1(16,(char)0);\n",
    "    qba1=codecChar1-&gt;fromUnicode(str1);\n",
    "    ushort ushArray[8];\n",
    "    memcpy(ushArray, qba1.constData(), 16);\n",
    "\tfor(int i=0;i&lt;8;i++)\n",
    "\t{\n",
    "        unitReceive-&gt;basicSetting[iAddr+i]=ushArray[i];\n",
    "        unitSend-&gt;basicSetting[iAddr+i]=ushArray[i];\n",
    "\t}\n",
    "}\n",
    "</pre></details>"
   ]
  },
  {
   "cell_type": "markdown",
   "metadata": {},
   "source": [
    "<details><pre>\n",
    "//96Е103  название первичного канала\n",
    "\tiAddr0 = 96;\n",
    "\tfor (int i=0;i&lt;16;i++)\n",
    "\t{\n",
    "\t\tk0=i;\n",
    "\t\tif(i/2*2==i)\n",
    "\t\t{\n",
    "\t\t\tch = firstChar(unitReceive-&gt;basicSetting[i/2+iAddr0]);\n",
    "\t\t\tif(ch == 0x00)\n",
    "\t\t\t{\tk0--;\n",
    "\t\t\t\tbreak;\t}\n",
    "\t\t\tnameSource[i]=ch;\n",
    "\t\t}\n",
    "\t\telse\n",
    "\t\t{\n",
    "\t\t\tch  = secondChar(unitReceive-&gt;basicSetting[i/2+iAddr0]);\n",
    "\t\t\tif(ch == 0x00)\n",
    "\t\t\t{\tk0--;\n",
    "\t\t\t\tbreak;\t}\n",
    "\t\t\tnameSource[i] = ch;\n",
    "\t\t}\n",
    "\t}\n",
    "    str2 = codecChar1-&gt;toUnicode(nameSource,k0+1);\n",
    "\tif(!ui.liEdPrimarName-&gt;hasFocus())\n",
    "\t\tui.liEdPrimarName-&gt;setText(str2);\n",
    "</pre></details>"
   ]
  },
  {
   "cell_type": "markdown",
   "metadata": {},
   "source": [
    "<details><pre>\n",
    "void TabPiu::slLiEdPrimarName()\n",
    "{\n",
    "//12Е14  название первичного канала 6 байт\n",
    "\tint iAddr = 96;\n",
    "\tPLineEdit* lineEdit = ui.liEdPrimarName;\n",
    "\tQString str1,str2;\n",
    "\tushort b1;\n",
    "\tQChar char1,char2;\n",
    "\tstr1=lineEdit-&gt;text();\n",
    "    qDebug()&lt;&lt;str1;\n",
    "\tb1=str1.size();\n",
    "\tQByteArray ba1,ba2;\n",
    "\tba2.resize(1);\n",
    "\tba2[0]=0x00;\n",
    "\tba1.resize(b1);\n",
    "\tba1 = str1.toAscii();\n",
    "\tstr1 = str1.trimmed();\n",
    "\tlineEdit-&gt;setText(str1);\n",
    "\tb1=str1.size();\n",
    "\tQByteArray ba = str1.toAscii();\n",
    "//\tb1 = b1 &gt; 5 ? 6 : b1;\n",
    "\tb1 = b1 &gt; 15 ? 16 : b1;\n",
    "\tushort ua[8];\n",
    "\tmemset(ua, 0, sizeof(ua));\n",
    "\tmemcpy(ua, str1.toAscii().constData(), b1);\n",
    "\t///*\n",
    "\tfor(int i=0;i&lt;8;i++)\n",
    "\t{\n",
    "\t\tunitReceive-&gt;basicSetting[iAddr+i]=ua[i];\n",
    "\t\tunitSend-&gt;basicSetting[iAddr+i]=ua[i];\n",
    "\t}\n",
    "}\n",
    "</pre></details>"
   ]
  },
  {
   "cell_type": "markdown",
   "metadata": {},
   "source": [
    "#### 28.01.2020"
   ]
  },
  {
   "cell_type": "markdown",
   "metadata": {},
   "source": [
    "##### liEdSecondName\n",
    "void TabPiu::slLiEdSecondName() liEdSecondName  \n"
   ]
  },
  {
   "cell_type": "markdown",
   "metadata": {},
   "source": [
    "##### liEdNameBoard\n",
    "void TabPiu::updateDialog()\n"
   ]
  },
  {
   "cell_type": "markdown",
   "metadata": {},
   "source": [
    "```\n",
    "//12Е14  функциональное название платы 6 байт\n",
    "\tiAddr=12;\t\t\t\t\t\t//12;\n",
    "    memset(nameSource,0,sizeof(nameSource));\n",
    "    memcpy(nameSource,&unitReceive->basicSetting[iAddr],6);\n",
    "    str2 = codecChar1->toUnicode(nameSource);\n",
    "    if(!ui.liEdNameBoard->hasFocus())\n",
    "        ui.liEdNameBoard->setText(str2);\n",
    "```"
   ]
  },
  {
   "cell_type": "markdown",
   "metadata": {},
   "source": [
    "##### liEdPointStandingAzimuth\n"
   ]
  },
  {
   "cell_type": "markdown",
   "metadata": {},
   "source": [
    "1|2\n",
    "------|---------\n",
    " 1°00' | 60         \n",
    " 1°30' | 90         \n"
   ]
  },
  {
   "cell_type": "markdown",
   "metadata": {},
   "source": [
    "```\n",
    "str.append(QString(\"°%1'\").arg(a2,2,10,QLatin1Char( '0' )));\n",
    "str.append(QString::fromUtf8(\"°%1'\").arg(a2,2,10,QChar( '0' )));\n",
    "```"
   ]
  },
  {
   "cell_type": "markdown",
   "metadata": {},
   "source": [
    "```\n",
    "//71 азимут точки сто¤ни¤, минуты (градусы ° 60)\n",
    "\tiAddr0 = 71;\n",
    "\ta0 = unitReceive->basicSetting[iAddr0];\n",
    "\ta1 = a0/60;\n",
    "\ta2 = a0 - (a1*60);\n",
    "\tstr = QString(\"%1\").arg(a1);\n",
    "\tstr.append(QString(\"°%1'\").arg(a2,2,10,QLatin1Char( '0' )));\n",
    "\tif(!ui.liEdPointStandingAzimuth->hasFocus())\n",
    "\t\tui.liEdPointStandingAzimuth->setText(str);\n",
    "```"
   ]
  },
  {
   "cell_type": "markdown",
   "metadata": {},
   "source": [
    "//prev\n",
    "<details><pre>\n",
    "void TabPiu::fLiEdAzimuth(void* l, ushort* pReceiveSePar, ushort* pSendSelPar)\n",
    "{\n",
    "\tPLineEdit* lineEdit =(PLineEdit*)l;\n",
    "\tint b1,b2,b3,index,index1;bool ok1,ok2;\n",
    "\tint a0,a1,a2;QString str;\n",
    "\tQString str1,str2,str3;\n",
    "\tstr1=lineEdit-&gt;text();\n",
    "\tindex=str1.indexOf(&quot;°&quot;,0);\n",
    "\tif(index==-1)\n",
    "\t{\n",
    "\t\tstr2=str1;\n",
    "\t\tstr3=&quot;00&quot;;\n",
    "\t}else\n",
    "\t{\n",
    "\t\tstr2 = str1.left(index);\n",
    "\t\tstr3 = str1.mid(index+1,str1.size()-index);\n",
    "\t}\n",
    "\tb2 = str2.toInt(&ok1);\n",
    "\tindex1 = str3.indexOf(&quot;'&quot;);\n",
    "\tif(index1&gt;0)\n",
    "\t{\n",
    "\t\tstr3.remove(index1,1);\n",
    "\t}\n",
    "\tb3 = str3.toInt(&ok2);\n",
    "\tb1 =b2*60 +b3;\n",
    "\tif(b1&gt;=360*60||b1&lt;0)\n",
    "\t\tb1=0;\n",
    "////\n",
    "\ta0=b1;\n",
    "\ta1 = a0/60;\n",
    "\ta2 = abs( a0 - (a1*60) );\n",
    "\tif(a1&gt;360.||a1&lt;360.)//модуль больше 360\n",
    "\t{\n",
    "\t\ta1 = a1-(a1/360*360) ;\n",
    "\t}\n",
    "\tif(a1&lt;0)\n",
    "\t\ta1+=360;\n",
    "\tstr = QString(&quot;%1&quot;).arg(a1);\n",
    "\tstr.append(QString(&quot;°%1'&quot;).arg(a2,2,10,QLatin1Char( '0' )));\n",
    "//\n",
    "\tif(ok1&&ok2)\n",
    "\t{\n",
    "\t\tlineEdit-&gt;setText(str);\n",
    "//\n",
    "\t\t*pReceiveSePar=b1;\n",
    "\t\t*pSendSelPar=b1;\n",
    "\t}\n",
    "\treturn;\n",
    "}\n",
    "</pre></details>"
   ]
  },
  {
   "cell_type": "markdown",
   "metadata": {},
   "source": [
    " 1. s\n",
    "```\n",
    "index=str1.indexOf(QString::fromUtf8(\"°\"),0);\n",
    "index=str1.indexOf(\"°\",0);\n",
    "```   \n",
    " 1. s\n",
    "```\n",
    "str.append(QString::fromUtf8(\"°%1'\").arg(a2,2,10,QChar( '0' )));\n",
    "str.append(QString(\"°%1'\").arg(a2,2,10,QLatin1Char( '0' )));\n",
    "```"
   ]
  },
  {
   "cell_type": "markdown",
   "metadata": {},
   "source": [
    "#### liEdSecondTurn\n"
   ]
  },
  {
   "cell_type": "markdown",
   "metadata": {},
   "source": [
    "1|2\n",
    "---|--- \n",
    "0°05' | 1\n",
    "0°10' | 2\n",
    "0°15' | 3\n",
    "0°21' | 4\n",
    "0°26' | 5\n",
    "0°58' | 11\n",
    "1°29' | 17\n",
    "1°34' | 18\n",
    "180°00' | 2048\n",
    "\n",
    " "
   ]
  },
  {
   "cell_type": "markdown",
   "metadata": {},
   "source": [
    " 1. s\n",
    "```\n",
    "index=str1.indexOf(QString::fromUtf8(\"°\"),0);\n",
    "index=str1.indexOf(\"°\",0);\n",
    "```   \n",
    " 1. s\n",
    "```\n",
    "str.append(QString::fromUtf8(\"°%1'\").arg(a2,2,10,QChar( '0' )));\n",
    "str.append(QString(\"°%1'\").arg(a2,2,10,QLatin1Char( '0' )));\n",
    "```"
   ]
  },
  {
   "cell_type": "markdown",
   "metadata": {},
   "source": [
    "```\n",
    "str.append(QString(\"°%1'\").arg(a2,2,10,QLatin1Char( '0' )));\n",
    "str.append(QString::fromUtf8(\"°%1'\").arg(a2,2,10,QChar( '0' )));\n",
    "```"
   ]
  },
  {
   "cell_type": "markdown",
   "metadata": {},
   "source": [
    "#### liEdPrimTurn"
   ]
  },
  {
   "cell_type": "markdown",
   "metadata": {},
   "source": [
    "90.0°/1024"
   ]
  },
  {
   "cell_type": "markdown",
   "metadata": {},
   "source": [
    "```\n",
    "str = QString(\"%1°/\").arg(d1,0,'f',1)+QString(\"%1\").arg(a3);\n",
    "str = QString::fromUtf8(\"%1°/\").arg(d1,0,'f',1)+QString(\"%1\").arg(a3);\n",
    "```"
   ]
  },
  {
   "cell_type": "markdown",
   "metadata": {},
   "source": [
    "```\n",
    "while(str.contains(QString::fromUtf8(\"°\")))\n",
    "strend=str3 + QString::fromUtf8(\"°\")+\"/\"+str2;\n",
    "```\n",
    "prev\n",
    "<details><pre>\n",
    "void TabPiu::slLiEdPrimTurn()\n",
    "{\n",
    "//104\n",
    "\tint iAddr = 104;\n",
    "\tPLineEdit* lineEdit = ui.liEdPrimTurn;\n",
    "\tint b1;\n",
    "//\tQString str1,str2;\n",
    "//\tstr1=lineEdit-&gt;text();\n",
    "\tQString str,str2,str3,strend;\n",
    "\tstr = lineEdit-&gt;text();\n",
    "        uint ival=0;double deg=0;\n",
    "\tif(str.contains(QChar('.'))||str.contains(QChar(',')))\n",
    "\t{\n",
    "        qDebug()&lt;&lt;1;\n",
    "        while(str.contains(QChar('°')))\n",
    "\t\t{\n",
    "\t\t\tstr.chop(1);\n",
    "\t\t}\n",
    "\t\tdeg=str.toDouble();\n",
    "\t\tif(deg&gt;360.||deg&lt;360.)//модуль больше 360\n",
    "\t\t{\n",
    "\t\t\tdeg = deg-((int)deg/360*360.) ;\n",
    "\t\t}\n",
    "\t\tif(deg&gt;=0)\t\t//&gt;&lt;0\n",
    "\t\t{\n",
    "\t\t\tival = deg*4096/360+.5;\n",
    "\t\t}else\n",
    "\t\t{\n",
    "\t\t\tival = (360.+deg)*4096/360+.5;\n",
    "\t\t}\n",
    "\t}else\n",
    "\t{\n",
    "\t\tif(str.contains(QChar('/')))\n",
    "\t\t{\n",
    "\t\t\tstr=str.right(str.indexOf(QChar('/')));\n",
    "\t\t}\n",
    "\t\tival=str.toInt()&0xfff;\n",
    "\t}\n",
    "\t\tdeg = ival*360./4096.;\n",
    "\t\t//&gt;&lt;180\n",
    "\t\tif(deg&gt;180.&&deg&lt;360.)\n",
    "\t\t{\n",
    "\t\t\tdeg = deg - 360.;\n",
    "\t\t}\n",
    "\tstr2=QString(&quot;%1&quot;).arg(ival);\n",
    "\tstr3=QString(&quot;%1&quot;).arg(deg,0,'f',1);\n",
    "\tstr3.replace(str3.indexOf(QChar('.')),1,QChar(','));\n",
    "\tstrend=str3+&quot;°&quot;+&quot;/&quot;+str2;\n",
    "\tb1=ival;\n",
    "\tlineEdit-&gt;setText(strend);\n",
    "\tunitReceive-&gt;basicSetting[iAddr]=b1;\n",
    "\tunitSend-&gt;basicSetting[iAddr]=b1;\n",
    "}\n",
    "</pre></details>"
   ]
  },
  {
   "cell_type": "markdown",
   "metadata": {},
   "source": [
    "#### liEdSclonenie"
   ]
  },
  {
   "cell_type": "markdown",
   "metadata": {},
   "source": [
    "```\tstr.append(QString(\"°%1'\").arg(a2,2,10,QLatin1Char( '0' )));\n",
    "    str.append(QString::fromUtf8(\"°%1'\").arg(a2,2,10,QLatin1Char( '0' )));\n",
    "```"
   ]
  },
  {
   "cell_type": "markdown",
   "metadata": {},
   "source": []
  },
  {
   "cell_type": "code",
   "execution_count": 15,
   "metadata": {},
   "outputs": [
    {
     "name": "stdout",
     "output_type": "stream",
     "text": [
      "['a', 'b', 'c', 'd', 'e', 'f', 'g', 'h', 'i', 'j', 'k', 'l', 'm', 'n', 'o', 'p', 'q', 'r', 's', 't', 'u', 'v', 'w', 'x', 'y']\n"
     ]
    }
   ],
   "source": [
    "l=[chr(i) for i in range(ord('a'),ord('z')) ]\n",
    "print(l)\n"
   ]
  },
  {
   "cell_type": "code",
   "execution_count": null,
   "metadata": {},
   "outputs": [],
   "source": [
    "\n"
   ]
  },
  {
   "cell_type": "markdown",
   "metadata": {},
   "source": [
    "[]()  \n",
    "[]()  \n",
    "[]()  \n",
    "[]()  \n",
    "[]()  \n",
    "```\n",
    "\n",
    "```"
   ]
  }
 ],
 "metadata": {
  "kernelspec": {
   "display_name": "Python 3",
   "language": "python",
   "name": "python3"
  },
  "language_info": {
   "codemirror_mode": {
    "name": "ipython",
    "version": 3
   },
   "file_extension": ".py",
   "mimetype": "text/x-python",
   "name": "python",
   "nbconvert_exporter": "python",
   "pygments_lexer": "ipython3",
   "version": "3.7.4"
  }
 },
 "nbformat": 4,
 "nbformat_minor": 2
}
