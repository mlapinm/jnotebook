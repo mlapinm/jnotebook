{
 "cells": [
  {
   "cell_type": "markdown",
   "metadata": {},
   "source": [
    "[](#)  \n",
    "[](#)  \n",
    "[](#)  \n",
    "[ русский cpp h с подготовкой к переводу](#русский-cpp-h-с-подготовкой-к-переводу)  \n",
    "[lineEdit](#lineEdit)  \n",
    "[Градусы](#Градусы)  \n",
    "[ПСП1](#ПСП1)  \n",
    "[ПВИ](#ПВИ)  \n",
    "[](#)  \n",
    "[](#)  \n",
    "[](#)  \n",
    "[](#)  \n"
   ]
  },
  {
   "cell_type": "markdown",
   "metadata": {},
   "source": [
    "#### Diag\n",
    "1. ПИУ\n",
    "1. ПЛС\n",
    "1. ПСП1\n",
    "1. ПВИ\n",
    "1. ПСП\n",
    "1. ПС5\n",
    "1. ПСМ\n",
    "1. \n",
    "1. \n"
   ]
  },
  {
   "cell_type": "markdown",
   "metadata": {},
   "source": []
  },
  {
   "cell_type": "markdown",
   "metadata": {},
   "source": [
    "D:\\mailCloud\\prjother\\083qt\\diag\\diag\\diag\\list.cpp\n",
    "int List::makeType(char* chStr)\n",
    "<details><pre>\n",
    "int List::makeType(char* chStr)\n",
    "{\n",
    "    int ret=0;\n",
    "    char chIn[18];\n",
    "    memcpy(chIn,chStr,12);\n",
    "    int k=0;\n",
    "    for(int i=0;i&lt;18;i++){\n",
    "        if(chIn[i]==0){\n",
    "            k=i;\n",
    "            break;\n",
    "        }\n",
    "    }\n",
    "    k = k&gt;17?17:k;\n",
    "    QTextCodec *codecChar1 = QTextCodec::codecForName( &quot;cp1251&quot; );\n",
    "    QString sBrd = codecChar1-&gt;toUnicode(chIn,k);\n",
    "\tQString strPsp,strPsp0,strPs5,strPsm,strPiu,strPvi;\n",
    "    strPsp=QString::fromUtf8(&quot;ПСП1&quot;);\n",
    "    strPsp0=QString::fromUtf8(&quot;ПСП&quot;);\t\t\t//5\n",
    "    strPs5=QString::fromUtf8(&quot;ПС5&quot;);\t\t\t//2\n",
    "    strPsm=QString::fromUtf8(&quot;ПСМ&quot;);\t\t\t//3\n",
    "    strPiu=QString::fromUtf8(&quot;ПИУ&quot;);\t\t\t//6\n",
    "    strPvi=QString::fromUtf8(&quot;ПВИ&quot;);\t\t\t//7\n",
    "    if(sBrd==strPsp)\n",
    "\t\tret = 1;\n",
    "    if(sBrd==strPs5)\n",
    "\t\tret = 2;\n",
    "    if(sBrd==strPsm)\n",
    "\t\tret = 3;\n",
    "    if(sBrd==strPsp0)\n",
    "\t\tret = 4;\n",
    "    if(sBrd==strPiu)\n",
    "\t\tret = 6;\n",
    "    if(sBrd==strPvi)\n",
    "\t\tret = 7;\n",
    "\treturn ret;\n",
    "}\n",
    "</pre></details>"
   ]
  },
  {
   "cell_type": "markdown",
   "metadata": {},
   "source": [
    "        chName[0]='К';\n"
   ]
  },
  {
   "cell_type": "markdown",
   "metadata": {},
   "source": [
    "#### 27.01.2020 \n",
    "#### 03.03.2020"
   ]
  },
  {
   "cell_type": "markdown",
   "metadata": {},
   "source": [
    "#### "
   ]
  },
  {
   "cell_type": "markdown",
   "metadata": {},
   "source": [
    "main.cpp\n",
    "str = QString::fromUtf8(\"Диагностика\");\n",
    "QObject::trUtf8(\"Диагностика\")"
   ]
  },
  {
   "cell_type": "markdown",
   "metadata": {},
   "source": [
    "tabpiu.cpp  \n",
    "dialog.cpp  \n",
    "laRlsArp  \n",
    "void List::updateDialogList()\n",
    "dialog.cpp\n",
    "void Dialog::fChoice()\n",
    "str=QString::fromUtf8(\"РЛС:\");\n",
    "str =QString::fromUtf8(\", АРП:\");  \n",
    "//03.03.20  \n",
    "    str=trUtf8(\"РЛС:\");\n",
    "\tstr+=QString(\"%1\").arg(iChoiceRls+1);\n",
    "\tsRls_x = str;\n",
    "    str =trUtf8(\", АРП:\");\n",
    "\tstr+=QString(\"%1\").arg(iChoiceArp+1);\n",
    "\tsArp_y = str;\n",
    "\n"
   ]
  },
  {
   "cell_type": "markdown",
   "metadata": {},
   "source": [
    "liEdPrimarName\n",
    "\tstr2 = QString::fromAscii(nameSource,k0+1);\n",
    "    \n",
    "    \n",
    "    \n"
   ]
  },
  {
   "cell_type": "markdown",
   "metadata": {},
   "source": [
    "```\n",
    "//96Е103  название первичного канала\n",
    "\tiAddr0 = 96;\n",
    "    memset(nameSource,0,sizeof(nameSource));\n",
    "    memcpy(nameSource,&unitReceive->basicSetting[iAddr0],16);\n",
    "    str2 = codecChar1->toUnicode(nameSource);\n",
    "\tif(!ui.liEdPrimarName->hasFocus())\n",
    "\t\tui.liEdPrimarName->setText(str2);\n",
    "```"
   ]
  },
  {
   "cell_type": "markdown",
   "metadata": {},
   "source": [
    "tabpiu.cpp\n",
    "<details><pre>\n",
    "void TabPiu::slLiEdPrimarName()\n",
    "{\n",
    "//12Е14  название первичного канала 16 байт\n",
    "\tint iAddr = 96;\n",
    "\tPLineEdit* lineEdit = ui.liEdPrimarName;\n",
    "    QString str1;\n",
    "\tstr1=lineEdit-&gt;text();\n",
    "    ushort sizeString = str1.length();\n",
    "    sizeString=sizeString&gt;16?16:sizeString;\n",
    "    str1=str1.mid(0,sizeString);\n",
    "    QByteArray qba1(16,(char)0);\n",
    "    qba1=codecChar1-&gt;fromUnicode(str1);\n",
    "    ushort ushArray[8];\n",
    "    memcpy(ushArray, qba1.constData(), 16);\n",
    "\tfor(int i=0;i&lt;8;i++)\n",
    "\t{\n",
    "        unitReceive-&gt;basicSetting[iAddr+i]=ushArray[i];\n",
    "        unitSend-&gt;basicSetting[iAddr+i]=ushArray[i];\n",
    "\t}\n",
    "}\n",
    "</pre></details>"
   ]
  },
  {
   "cell_type": "markdown",
   "metadata": {},
   "source": [
    "<details><pre>\n",
    "//96Е103  название первичного канала\n",
    "\tiAddr0 = 96;\n",
    "\tfor (int i=0;i&lt;16;i++)\n",
    "\t{\n",
    "\t\tk0=i;\n",
    "\t\tif(i/2*2==i)\n",
    "\t\t{\n",
    "\t\t\tch = firstChar(unitReceive-&gt;basicSetting[i/2+iAddr0]);\n",
    "\t\t\tif(ch == 0x00)\n",
    "\t\t\t{\tk0--;\n",
    "\t\t\t\tbreak;\t}\n",
    "\t\t\tnameSource[i]=ch;\n",
    "\t\t}\n",
    "\t\telse\n",
    "\t\t{\n",
    "\t\t\tch  = secondChar(unitReceive-&gt;basicSetting[i/2+iAddr0]);\n",
    "\t\t\tif(ch == 0x00)\n",
    "\t\t\t{\tk0--;\n",
    "\t\t\t\tbreak;\t}\n",
    "\t\t\tnameSource[i] = ch;\n",
    "\t\t}\n",
    "\t}\n",
    "    str2 = codecChar1-&gt;toUnicode(nameSource,k0+1);\n",
    "\tif(!ui.liEdPrimarName-&gt;hasFocus())\n",
    "\t\tui.liEdPrimarName-&gt;setText(str2);\n",
    "</pre></details>"
   ]
  },
  {
   "cell_type": "markdown",
   "metadata": {},
   "source": [
    "<details><pre>\n",
    "void TabPiu::slLiEdPrimarName()\n",
    "{\n",
    "//12Е14  название первичного канала 6 байт\n",
    "\tint iAddr = 96;\n",
    "\tPLineEdit* lineEdit = ui.liEdPrimarName;\n",
    "\tQString str1,str2;\n",
    "\tushort b1;\n",
    "\tQChar char1,char2;\n",
    "\tstr1=lineEdit-&gt;text();\n",
    "    qDebug()&lt;&lt;str1;\n",
    "\tb1=str1.size();\n",
    "\tQByteArray ba1,ba2;\n",
    "\tba2.resize(1);\n",
    "\tba2[0]=0x00;\n",
    "\tba1.resize(b1);\n",
    "\tba1 = str1.toAscii();\n",
    "\tstr1 = str1.trimmed();\n",
    "\tlineEdit-&gt;setText(str1);\n",
    "\tb1=str1.size();\n",
    "\tQByteArray ba = str1.toAscii();\n",
    "//\tb1 = b1 &gt; 5 ? 6 : b1;\n",
    "\tb1 = b1 &gt; 15 ? 16 : b1;\n",
    "\tushort ua[8];\n",
    "\tmemset(ua, 0, sizeof(ua));\n",
    "\tmemcpy(ua, str1.toAscii().constData(), b1);\n",
    "\t///*\n",
    "\tfor(int i=0;i&lt;8;i++)\n",
    "\t{\n",
    "\t\tunitReceive-&gt;basicSetting[iAddr+i]=ua[i];\n",
    "\t\tunitSend-&gt;basicSetting[iAddr+i]=ua[i];\n",
    "\t}\n",
    "}\n",
    "</pre></details>"
   ]
  },
  {
   "cell_type": "markdown",
   "metadata": {},
   "source": [
    "#### 28.01.2020"
   ]
  },
  {
   "cell_type": "markdown",
   "metadata": {},
   "source": [
    "##### liEdSecondName\n",
    "void TabPiu::slLiEdSecondName() liEdSecondName  \n"
   ]
  },
  {
   "cell_type": "markdown",
   "metadata": {},
   "source": [
    "##### liEdNameBoard\n",
    "void TabPiu::updateDialog()\n"
   ]
  },
  {
   "cell_type": "markdown",
   "metadata": {},
   "source": [
    "```\n",
    "//12Е14  функциональное название платы 6 байт\n",
    "\tiAddr=12;\t\t\t\t\t\t//12;\n",
    "    memset(nameSource,0,sizeof(nameSource));\n",
    "    memcpy(nameSource,&unitReceive->basicSetting[iAddr],6);\n",
    "    str2 = codecChar1->toUnicode(nameSource);\n",
    "    if(!ui.liEdNameBoard->hasFocus())\n",
    "        ui.liEdNameBoard->setText(str2);\n",
    "```"
   ]
  },
  {
   "cell_type": "markdown",
   "metadata": {},
   "source": [
    "##### liEdPointStandingAzimuth\n"
   ]
  },
  {
   "cell_type": "markdown",
   "metadata": {},
   "source": [
    "1|2\n",
    "------|---------\n",
    " 1°00' | 60         \n",
    " 1°30' | 90         \n"
   ]
  },
  {
   "cell_type": "markdown",
   "metadata": {},
   "source": [
    "```\n",
    "str.append(QString(\"°%1'\").arg(a2,2,10,QLatin1Char( '0' )));\n",
    "str.append(QString::fromUtf8(\"°%1'\").arg(a2,2,10,QChar( '0' )));\n",
    "```"
   ]
  },
  {
   "cell_type": "markdown",
   "metadata": {},
   "source": [
    "```\n",
    "//71 азимут точки сто¤ни¤, минуты (градусы ° 60)\n",
    "\tiAddr0 = 71;\n",
    "\ta0 = unitReceive->basicSetting[iAddr0];\n",
    "\ta1 = a0/60;\n",
    "\ta2 = a0 - (a1*60);\n",
    "\tstr = QString(\"%1\").arg(a1);\n",
    "\tstr.append(QString(\"°%1'\").arg(a2,2,10,QLatin1Char( '0' )));\n",
    "\tif(!ui.liEdPointStandingAzimuth->hasFocus())\n",
    "\t\tui.liEdPointStandingAzimuth->setText(str);\n",
    "```"
   ]
  },
  {
   "cell_type": "markdown",
   "metadata": {},
   "source": [
    "//prev\n",
    "<details><pre>\n",
    "void TabPiu::fLiEdAzimuth(void* l, ushort* pReceiveSePar, ushort* pSendSelPar)\n",
    "{\n",
    "\tPLineEdit* lineEdit =(PLineEdit*)l;\n",
    "\tint b1,b2,b3,index,index1;bool ok1,ok2;\n",
    "\tint a0,a1,a2;QString str;\n",
    "\tQString str1,str2,str3;\n",
    "\tstr1=lineEdit-&gt;text();\n",
    "\tindex=str1.indexOf(&quot;°&quot;,0);\n",
    "\tif(index==-1)\n",
    "\t{\n",
    "\t\tstr2=str1;\n",
    "\t\tstr3=&quot;00&quot;;\n",
    "\t}else\n",
    "\t{\n",
    "\t\tstr2 = str1.left(index);\n",
    "\t\tstr3 = str1.mid(index+1,str1.size()-index);\n",
    "\t}\n",
    "\tb2 = str2.toInt(&ok1);\n",
    "\tindex1 = str3.indexOf(&quot;'&quot;);\n",
    "\tif(index1&gt;0)\n",
    "\t{\n",
    "\t\tstr3.remove(index1,1);\n",
    "\t}\n",
    "\tb3 = str3.toInt(&ok2);\n",
    "\tb1 =b2*60 +b3;\n",
    "\tif(b1&gt;=360*60||b1&lt;0)\n",
    "\t\tb1=0;\n",
    "////\n",
    "\ta0=b1;\n",
    "\ta1 = a0/60;\n",
    "\ta2 = abs( a0 - (a1*60) );\n",
    "\tif(a1&gt;360.||a1&lt;360.)//модуль больше 360\n",
    "\t{\n",
    "\t\ta1 = a1-(a1/360*360) ;\n",
    "\t}\n",
    "\tif(a1&lt;0)\n",
    "\t\ta1+=360;\n",
    "\tstr = QString(&quot;%1&quot;).arg(a1);\n",
    "\tstr.append(QString(&quot;°%1'&quot;).arg(a2,2,10,QLatin1Char( '0' )));\n",
    "//\n",
    "\tif(ok1&&ok2)\n",
    "\t{\n",
    "\t\tlineEdit-&gt;setText(str);\n",
    "//\n",
    "\t\t*pReceiveSePar=b1;\n",
    "\t\t*pSendSelPar=b1;\n",
    "\t}\n",
    "\treturn;\n",
    "}\n",
    "</pre></details>"
   ]
  },
  {
   "cell_type": "markdown",
   "metadata": {},
   "source": [
    " 1. s\n",
    "```\n",
    "index=str1.indexOf(QString::fromUtf8(\"°\"),0);\n",
    "index=str1.indexOf(\"°\",0);\n",
    "```   \n",
    " 1. s\n",
    "```\n",
    "str.append(QString::fromUtf8(\"°%1'\").arg(a2,2,10,QChar( '0' )));\n",
    "str.append(QString(\"°%1'\").arg(a2,2,10,QLatin1Char( '0' )));\n",
    "```"
   ]
  },
  {
   "cell_type": "markdown",
   "metadata": {},
   "source": [
    "#### liEdSecondTurn\n"
   ]
  },
  {
   "cell_type": "markdown",
   "metadata": {},
   "source": [
    "1|2\n",
    "---|--- \n",
    "0°05' | 1\n",
    "0°10' | 2\n",
    "0°15' | 3\n",
    "0°21' | 4\n",
    "0°26' | 5\n",
    "0°58' | 11\n",
    "1°29' | 17\n",
    "1°34' | 18\n",
    "180°00' | 2048\n",
    "\n",
    " "
   ]
  },
  {
   "cell_type": "markdown",
   "metadata": {},
   "source": [
    " 1. s\n",
    "```\n",
    "index=str1.indexOf(QString::fromUtf8(\"°\"),0);\n",
    "index=str1.indexOf(\"°\",0);\n",
    "```   \n",
    " 1. s\n",
    "```\n",
    "str.append(QString::fromUtf8(\"°%1'\").arg(a2,2,10,QChar( '0' )));\n",
    "str.append(QString(\"°%1'\").arg(a2,2,10,QLatin1Char( '0' )));\n",
    "```"
   ]
  },
  {
   "cell_type": "markdown",
   "metadata": {},
   "source": [
    "```\n",
    "str.append(QString(\"°%1'\").arg(a2,2,10,QLatin1Char( '0' )));\n",
    "str.append(QString::fromUtf8(\"°%1'\").arg(a2,2,10,QChar( '0' )));\n",
    "```"
   ]
  },
  {
   "cell_type": "markdown",
   "metadata": {},
   "source": [
    "#### liEdPrimTurn"
   ]
  },
  {
   "cell_type": "markdown",
   "metadata": {},
   "source": [
    "90.0°/1024"
   ]
  },
  {
   "cell_type": "markdown",
   "metadata": {},
   "source": [
    "```\n",
    "str = QString(\"%1°/\").arg(d1,0,'f',1)+QString(\"%1\").arg(a3);\n",
    "str = QString::fromUtf8(\"%1°/\").arg(d1,0,'f',1)+QString(\"%1\").arg(a3);\n",
    "```"
   ]
  },
  {
   "cell_type": "markdown",
   "metadata": {},
   "source": [
    "```\n",
    "while(str.contains(QString::fromUtf8(\"°\")))\n",
    "strend=str3 + QString::fromUtf8(\"°\")+\"/\"+str2;\n",
    "```\n",
    "prev\n",
    "<details><pre>\n",
    "void TabPiu::slLiEdPrimTurn()\n",
    "{\n",
    "//104\n",
    "\tint iAddr = 104;\n",
    "\tPLineEdit* lineEdit = ui.liEdPrimTurn;\n",
    "\tint b1;\n",
    "//\tQString str1,str2;\n",
    "//\tstr1=lineEdit-&gt;text();\n",
    "\tQString str,str2,str3,strend;\n",
    "\tstr = lineEdit-&gt;text();\n",
    "        uint ival=0;double deg=0;\n",
    "\tif(str.contains(QChar('.'))||str.contains(QChar(',')))\n",
    "\t{\n",
    "        qDebug()&lt;&lt;1;\n",
    "        while(str.contains(QChar('°')))\n",
    "\t\t{\n",
    "\t\t\tstr.chop(1);\n",
    "\t\t}\n",
    "\t\tdeg=str.toDouble();\n",
    "\t\tif(deg&gt;360.||deg&lt;360.)//модуль больше 360\n",
    "\t\t{\n",
    "\t\t\tdeg = deg-((int)deg/360*360.) ;\n",
    "\t\t}\n",
    "\t\tif(deg&gt;=0)\t\t//&gt;&lt;0\n",
    "\t\t{\n",
    "\t\t\tival = deg*4096/360+.5;\n",
    "\t\t}else\n",
    "\t\t{\n",
    "\t\t\tival = (360.+deg)*4096/360+.5;\n",
    "\t\t}\n",
    "\t}else\n",
    "\t{\n",
    "\t\tif(str.contains(QChar('/')))\n",
    "\t\t{\n",
    "\t\t\tstr=str.right(str.indexOf(QChar('/')));\n",
    "\t\t}\n",
    "\t\tival=str.toInt()&0xfff;\n",
    "\t}\n",
    "\t\tdeg = ival*360./4096.;\n",
    "\t\t//&gt;&lt;180\n",
    "\t\tif(deg&gt;180.&&deg&lt;360.)\n",
    "\t\t{\n",
    "\t\t\tdeg = deg - 360.;\n",
    "\t\t}\n",
    "\tstr2=QString(&quot;%1&quot;).arg(ival);\n",
    "\tstr3=QString(&quot;%1&quot;).arg(deg,0,'f',1);\n",
    "\tstr3.replace(str3.indexOf(QChar('.')),1,QChar(','));\n",
    "\tstrend=str3+&quot;°&quot;+&quot;/&quot;+str2;\n",
    "\tb1=ival;\n",
    "\tlineEdit-&gt;setText(strend);\n",
    "\tunitReceive-&gt;basicSetting[iAddr]=b1;\n",
    "\tunitSend-&gt;basicSetting[iAddr]=b1;\n",
    "}\n",
    "</pre></details>"
   ]
  },
  {
   "cell_type": "markdown",
   "metadata": {},
   "source": [
    "#### liEdSclonenie"
   ]
  },
  {
   "cell_type": "markdown",
   "metadata": {},
   "source": [
    "```\tstr.append(QString(\"°%1'\").arg(a2,2,10,QLatin1Char( '0' )));\n",
    "    str.append(QString::fromUtf8(\"°%1'\").arg(a2,2,10,QLatin1Char( '0' )));\n",
    "```"
   ]
  },
  {
   "cell_type": "markdown",
   "metadata": {},
   "source": [
    "#### Градусы"
   ]
  },
  {
   "cell_type": "markdown",
   "metadata": {},
   "source": [
    "\"°%1  \n",
    "::fromUtf8  \n",
    "- D:\\mailCloud\\prjother\\083qt\\diag\\diag\\diag\\dialog.cpp:2071\n",
    "- D:\\mailCloud\\prjother\\083qt\\diag\\diag\\diag\\dialog2.cpp:1767\n",
    "- D:\\mailCloud\\prjother\\083qt\\diag\\diag\\diag\\tabcust0.cpp:1543\n",
    "- D:\\mailCloud\\prjother\\083qt\\diag\\diag\\diag\\tabcust2.cpp:5688\n",
    "- D:\\mailCloud\\prjother\\083qt\\diag\\diag\\diag\\tabcust3.cpp:4643\n",
    "- D:\\mailCloud\\prjother\\083qt\\diag\\diag\\diag\\tabcustkors.cpp:1608\n",
    "- D:\\mailCloud\\prjother\\083qt\\diag\\diag\\diag\\tabpdo.cpp:121\n",
    "- D:\\mailCloud\\prjother\\083qt\\diag\\diag\\diag\\tabpiu.cpp:169\n",
    "- D:\\mailCloud\\prjother\\083qt\\diag\\diag\\diag\\tabps5.cpp:105\n",
    "- \n",
    "- \n"
   ]
  },
  {
   "cell_type": "markdown",
   "metadata": {},
   "source": [
    "#### 12.03.2020"
   ]
  },
  {
   "cell_type": "code",
   "execution_count": null,
   "metadata": {},
   "outputs": [],
   "source": [
    "::fromUtf8  \n",
    "liEdPrimTurn        \n",
    "QString::fromUtf8(\"°\")        "
   ]
  },
  {
   "cell_type": "markdown",
   "metadata": {},
   "source": [
    "- lineEditRls0TurnKO\n",
    "D:\\mailCloud\\prjother\\083qt\\diag\\diag\\diag\\dialog.cpp:1564\n",
    "- lineEditRls1TurnKO  \n",
    "- liEdRls0TurnCorr  \n",
    "D:\\mailCloud\\prjother\\083qt\\diag\\diag\\diag\\dialog.cpp:1457\n",
    "- liEdRls1TurnCorr  \n",
    "D:\\mailCloud\\prjother\\083qt\\diag\\diag\\diag\\dialog.cpp:1466\n",
    "- void Dialog::fLineEditRls0TurnKO()\n",
    "- QString::fromUtf8(\"°\")\n",
    "- \n",
    "- \n"
   ]
  },
  {
   "cell_type": "markdown",
   "metadata": {},
   "source": [
    "lineEditRls0PointStandingAzimuth  \n",
    "fLiEdAzimuth  \n",
    "index=str1.indexOf(\"°\",0);  \n",
    "index=str1.indexOf(QString::fromUtf8(\"°\"),0);\n",
    "\n",
    "'[^0f /\\.\\,1\\-]' - регулярка для поиска  "
   ]
  },
  {
   "cell_type": "markdown",
   "metadata": {},
   "source": [
    "(QString(\"?%1'\")\n",
    "QString::fromUtf8(\"°%1'\")\n"
   ]
  },
  {
   "cell_type": "markdown",
   "metadata": {},
   "source": []
  },
  {
   "cell_type": "markdown",
   "metadata": {},
   "source": []
  },
  {
   "cell_type": "markdown",
   "metadata": {},
   "source": [
    "#### русский cpp h с подготовкой к переводу\n",
    "206 trUtf8  \n",
    "(QString)"
   ]
  },
  {
   "cell_type": "markdown",
   "metadata": {},
   "source": [
    "trUtf8\n",
    "\n",
    "\n",
    ".\\a01diagcpp\\dialog2.cpp [885, 886, 887, 888, 893, 894, 895, 896, 897, 901, 902, \n",
    "1235, 1236, \n",
    "1277, 1278, \n",
    "1404, 1405, 1455, 1456]\n",
    "206"
   ]
  },
  {
   "cell_type": "markdown",
   "metadata": {},
   "source": [
    ".\\a01diagcpp\\glcu.cpp [180, 181, 210, 211, 222, 223, 228, 229, 245, 251, 257, 263, 269, 296, 298, 304, 309, 318, 326, 328, 332, 338, 342, 344, 349, 369, 378, 387, 396, 405, 408, 416, 418, 420, 493, 495, 534, 536, 537, 543, 549, 555]\n",
    "\n",
    "\n",
    ".\\a01diagcpp\\tabcust.cpp [15, 16, 17, 18, 19, 20, 21, 22, 23, 24, 25, 26, 27, 28, 29, 31, 32, 34, 36, 37, 38, 39, 40, 41, 42, 43, 44, 45, 47, 49, 50, 51, 52, 53, 54, 55, 56, 58, 59, 60, 61, 62, 63, 64, 65, 67, 68, 69, 70]\n",
    "\n",
    ".\\a01diagcpp\\dialog.cpp [283, 284, 285, 286, 291, 292, 293, 294, 295, 299, 300, \n",
    "702, 727, 755, 792, 793, 812, 817, 939]\n",
    "\n",
    ".\\a01diagcpp\\list.cpp [169, 214, 215, 216, 217, 218, 219, 529, 668]\n",
    ".\\a01diagcpp\\main.cpp [55]\n",
    ".\\a01diagcpp\\diagnostica.cpp [103, 105, 111, 116, 125, 133, 138, 140, 141, 144, 146, 149, 150, 155, 157, 160, 162, 163, 167, 169, 171, 172, 175, 177, 178, 182, 184, 185, 187, 190, 192, 195, 201, 249, 251, 257, 262, 271, 279, 281, 285, 291, 295, 297, 302, 322, 331, 340, 349, 358, 361, 369, 371, 373, 446, 448, 487, 489, 490, 496, 502, 508]\n",
    "\n",
    ".\\a01diagcpp\\dlgfault.cpp [10, 12, 13, 14, 21]\n",
    "\tmDiagn[28]->strName[0]=QObject::trUtf8(\"количество отсчетов курса \");\n",
    "\n",
    "05.03 - 65 "
   ]
  },
  {
   "cell_type": "code",
   "execution_count": null,
   "metadata": {},
   "outputs": [],
   "source": [
    "dialog.cpp\n",
    "939  chName[0]='К';\n",
    "сделано    "
   ]
  },
  {
   "cell_type": "markdown",
   "metadata": {},
   "source": [
    "//Rls1::::::::::::::РЛС1\n",
    "D:\\mailCloud\\prjother\\083qt\\diag\\diag\\diag\\tabcust2.cpp:2909\n",
    "liEdRls1Name\n"
   ]
  },
  {
   "cell_type": "markdown",
   "metadata": {},
   "source": [
    "\n",
    "D:\\mailCloud\\prjother\\083qt\\diag\\diag\\diag\\tabpiu.cpp:484\n",
    "void TabPiu::slLiEdSecondName()\n"
   ]
  },
  {
   "cell_type": "markdown",
   "metadata": {},
   "source": [
    "\n",
    "\n",
    "D:\\mailCloud\\prjother\\083qt\\diag\\diag\\diag\\diag.pro(91): Function 'system' is not implementedD:\\mailCloud\\prjother\\083qt\\diag\\diag\\diag\\dialog2.cpp:885: ошибка: Qualifying with unknown namespace/class ::Dialog"
   ]
  },
  {
   "cell_type": "markdown",
   "metadata": {},
   "source": [
    "#### lineEdit\n",
    "- lineEditNameRls0\n",
    "- lineEditNameRls1\n",
    "- lineEditRls0NameArp\n",
    "```\n",
    "//84…91  212…219  340…347  название АРП 8\n",
    "    iAddr=84;\t\t\t\t\t\t//;\n",
    "    memset(nameSource,0,sizeof(nameSource));\n",
    "    memcpy(nameSource, unitReceive->pointerSelectedParameters(iChoiceArp,84), 8);\n",
    "    str2 = codecChar1->toUnicode(nameSource);\n",
    "    if(!lineEditRls0NameArp->hasFocus())\n",
    "\t\tlineEditRls0NameArp->setText(str2);\n",
    "void Dialog::fLineEditRls0NameArp()\n",
    "{\n",
    "//84…91  212…219  340…347  название АРП 8\n",
    "    int iAddr = 84;\n",
    "    const int nameLength = 8;\n",
    "    QLineEdit* lineEdit = lineEditRls0NameArp;\n",
    "    QString str1;\n",
    "    str1=lineEdit->text();\n",
    "    ushort sizeString = str1.length();\n",
    "    sizeString=sizeString>nameLength?nameLength:sizeString;\n",
    "    str1=str1.mid(0,sizeString);\n",
    "    QByteArray qba1(nameLength,(char)0);\n",
    "    qba1=codecChar1->fromUnicode(str1);\n",
    "    ushort ushArray[nameLength/2];\n",
    "    memcpy(ushArray, qba1.constData(), nameLength);\n",
    "    for(int i=0;i<nameLength/2;i++)\n",
    "    {\n",
    "       unitReceive->setSelectedParameters(iChoiceArp,iAddr+i,ushArray[i]);\n",
    "       unitSend->setSelectedParameters(iChoiceArp,iAddr+i,ushArray[i]);\n",
    "    }\n",
    "    if(isSetPressEnter())\n",
    "\t\tlineEdit->selectAll();\n",
    "}\n",
    "```\n",
    "- lineEditNameAPOI  \n",
    "//98..105 название источника UART  \n",
    "     \n",
    "- lineEditNameBoard\n",
    "- \n",
    "- \n",
    "- \n"
   ]
  },
  {
   "cell_type": "markdown",
   "metadata": {},
   "source": [
    "ushort* Unit::pointerSelectedParameters(int iRls,int num){\n",
    "    //возвращает указатель\n",
    "    ushort* psh = NULL;\n",
    "    if(iRls==0)\n",
    "        psh = &selectedParameters0[num];\n",
    "    if(iRls==1)\n",
    "        psh = &selectedParameters1[num];\n",
    "    return psh;\n",
    "}"
   ]
  },
  {
   "cell_type": "markdown",
   "metadata": {},
   "source": [
    "#### ПСП1\n",
    "1. liEdRls1Name\n",
    "1. liEdRls2Name\n",
    "1. liEdRls3Name\n",
    "1. liEdRls4Name\n",
    "1. liEdRls5Name\n",
    "1. liEdRls6Name\n",
    "1. liEdNameBoard\n",
    "1. liEdArp1Name\n",
    "1. liEdArp2Name  \n",
    "1. liEdSev1Name\n",
    "1. liEdSev2Name\n",
    "1. liEdMet0Name\n",
    "1. liEdMet1NameEP\n",
    "1. liEdMet2NameEP\n",
    "1. liEdMet3NameEP\n",
    "1. liEdMet4NameEP\n"
   ]
  },
  {
   "cell_type": "markdown",
   "metadata": {},
   "source": [
    "1. liEdMet1FirstCourse\n",
    "1. liEdMet1SecondCourse\n",
    "1. liEdMet2FirstCourse\n",
    "1. liEdMet2SecondCourse\n",
    "1. liEdMet3FirstCourse\n",
    "1. liEdMet3SecondCourse\n",
    "1. liEdMet4FirstCourse\n",
    "1. liEdMet4SecondCourse\n"
   ]
  },
  {
   "cell_type": "markdown",
   "metadata": {},
   "source": [
    "#### ПВИ\n",
    "1. liEdNameApoi\n",
    "1. liEdNameRls_1\n",
    "1. liEdNameRls_2\n",
    "1. liEdFuNameBoard\n",
    "1. \n"
   ]
  },
  {
   "cell_type": "markdown",
   "metadata": {},
   "source": [
    "#### ПС5\n",
    "1. liEdNameRls\n",
    "1. liEdFuNameBoard\n",
    "1. \n",
    "1. \n",
    "1. \n"
   ]
  },
  {
   "cell_type": "markdown",
   "metadata": {},
   "source": [
    "#### ПСМ\n",
    "1. liEdNameBoard\n",
    "1. \n",
    "1. \n",
    "1. \n",
    "1. \n",
    "vvvvvvvvvvvvvvvvvvvvvvvvvvvvvvvvvvvvvvvvvvvvvvvvvvv"
   ]
  },
  {
   "cell_type": "markdown",
   "metadata": {},
   "source": [
    "#### ПСП\n",
    "1. liEdPoC2Name  \n",
    "1. liEdLiram\n",
    "1. liEdKors1\n",
    "vvvvvvvvvvvvvvvvvvvvvvvvvvvvvvvvvvvvvvvvvvvvvvvvvvv  \n",
    "1. liEdKors2\n",
    "1. liEdKors3\n",
    "1. liEdMVRL1\n",
    "1. liEdMVRL2\n",
    "1. liEdSt2Th\n",
    "1. liEdArp95\n",
    "1. liEdPoAmisName\n",
    "1. liEdPoTahionName\n",
    "1. \n"
   ]
  },
  {
   "cell_type": "markdown",
   "metadata": {},
   "source": []
  },
  {
   "cell_type": "markdown",
   "metadata": {},
   "source": []
  },
  {
   "cell_type": "markdown",
   "metadata": {},
   "source": []
  },
  {
   "cell_type": "code",
   "execution_count": 15,
   "metadata": {},
   "outputs": [
    {
     "name": "stdout",
     "output_type": "stream",
     "text": [
      "['a', 'b', 'c', 'd', 'e', 'f', 'g', 'h', 'i', 'j', 'k', 'l', 'm', 'n', 'o', 'p', 'q', 'r', 's', 't', 'u', 'v', 'w', 'x', 'y']\n"
     ]
    }
   ],
   "source": [
    "l=[chr(i) for i in range(ord('a'),ord('z')) ]\n",
    "print(l)\n"
   ]
  },
  {
   "cell_type": "code",
   "execution_count": null,
   "metadata": {},
   "outputs": [],
   "source": [
    "\n"
   ]
  },
  {
   "cell_type": "markdown",
   "metadata": {},
   "source": [
    "[]()  \n",
    "[]()  \n",
    "[]()  \n",
    "[]()  \n",
    "[]()  \n",
    "```\n",
    "\n",
    "```"
   ]
  }
 ],
 "metadata": {
  "kernelspec": {
   "display_name": "Python 3",
   "language": "python",
   "name": "python3"
  },
  "language_info": {
   "codemirror_mode": {
    "name": "ipython",
    "version": 3
   },
   "file_extension": ".py",
   "mimetype": "text/x-python",
   "name": "python",
   "nbconvert_exporter": "python",
   "pygments_lexer": "ipython3",
   "version": "3.7.4"
  }
 },
 "nbformat": 4,
 "nbformat_minor": 2
}
