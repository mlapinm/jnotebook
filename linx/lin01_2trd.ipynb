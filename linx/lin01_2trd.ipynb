{
 "cells": [
  {
   "cell_type": "markdown",
   "metadata": {},
   "source": [
    "##### Локализация"
   ]
  },
  {
   "cell_type": "markdown",
   "metadata": {},
   "source": [
    "##### Пользователи\n",
    "`vim /etc/shadow` - информация о паролях   \n",
    "`man passwd` -   \n",
    "`man useradd` -   \n",
    "`man adduser` -   \n",
    "`useradd -m -s /bin/bash user2` - -s -shell - /bin/bush  \n",
    "-m, --create-home Создать домашний каталог пользователя\n",
    "`id user2` - uid=1000(mlapin) gid=1000(mlapin) группы=1000(mlapin),4(adm),24(cdrom),27(sudo),30(dip),46(plugdev),110(lpadmin),111(sambashare)\n",
    "`getent passwd` - mlapin:x:1000:1000:mlapin,,,:/home/mlapin:/bin/bash  \n",
    "`less /etc/passwd` - mlapin:x:1000:1000:mlapin,,,:/home/mlapin:/bin/bash  \n",
    "`passwd user2` -   \n",
    "`usermod -c 'Петров Петр Петрович, оф.111, 555-55-55' user2` - -с - добавить комментарий   \n",
    "`less /etc/passwd` -   \n",
    "`less /etc/group` - управлять группами. Группы нужны для предоставления доступа к одним и тем же ресурсам.  \n",
    "`man groupadd` - добавление группы   \n",
    "`usermod -G group1` - добавить пользователя в группу(ы), если названия нет в списки групп, он из группы удаляется(с ключом -a он только добавляется)  \n",
    "`usermod -g` - смена группы  \n",
    "`groups mlapin` - mlapin : mlapin adm cdrom sudo dip plugdev lpadmin sambashare  \n",
    "`` -   \n",
    "`` -   \n",
    "`` -   \n"
   ]
  },
  {
   "cell_type": "markdown",
   "metadata": {},
   "source": [
    "passwd, shadow, usermod, ...  \n",
    "##### Блокировка пользователя, смена пароля\n",
    "`id user2` - uid=1001(user2) gid=1001(user2) группы=1001(user2)  \n",
    "`chage -d 0 user2` - Принуждение смены пароля при следующем входе, -d last Day, при нуле смена пароля при первом посещении  \n",
    "`chage -E 2019-10-10 user2` - -E --expiredate дата смены пароля ГГГГ-ММ-ДД , chage -E -1 - отменяет устаревание пароля    \n",
    "`usermod -L user2` - залочили  \n",
    "`usermod -U user2` -   \n",
    "##### Service - user\n",
    "`vim /usr/sbin/nologin` - для сервиса создается учетная запись с запретом интерактивного взаимодействия  \n",
    "`/usr/sbin/nologin` - /bin/bash  \n",
    "`gpasswd -M user1 group1` - modification, кто были, выкидываются, кто в командной строке, тот добавляется   \n",
    "`less /etc/group | grep group1  \n",
    "group1:x:1002:user2,user1` - посмотреть членов группы  \n"
   ]
  },
  {
   "cell_type": "markdown",
   "metadata": {},
   "source": [
    "##### Группы\n",
    "##### Пользователя в группу\n",
    "```\n",
    "groupadd group1\n",
    "groupadd group2\n",
    "usermod -G group1,group2 user2\n",
    "id user2\n",
    "uid=1001(user2) gid=1001(user2) группы=1001(user2),1002(group1),1003(group2)\n",
    "groups user2\n",
    "user2 : user2 group1 group2\n",
    "```\n",
    "##### В группу пользователя\n",
    "`gpasswd -d user2 group2` - Removing user user2 from group group2 \n",
    "`gpasswd -a user2 group2` - Adding user user2 to group group2 \n",
    "`less /etc/group | grep group2` -  \n",
    "`` -  \n",
    "##### Аутентификация, авторизация\n",
    "`ls /lib/x86_64-linux-gnu/security/` - pam_mkhomedir.so  \n",
    "`less /etc/pam.d/sshd` - # Standard Un*x authentication. @include common-auth  \n",
    "`less /etc/pam.d/common-auth` -  \n",
    "`less /etc/pam.d/common-password` - # The \"sha512\" option enables salted SHA512 passwords.  Without this option, \n",
    "`apt install libpam-cracklib` -  \n",
    "`less /etc/pam.d/common-password` -  \n",
    "```\n",
    "# here are the per-package modules (the \"Primary\" block)\n",
    "password        requisite                       pam_cracklib.so retry=3 minlen=8 difok=3\n",
    "password        [success=1 default=ignore]      pam_unix.so obscure use_authtok try_first_pass sha512\n",
    "```\n",
    "`retry=3` - 3 попытки \n",
    "`minlen=8` - минимальная длина пароля \n",
    "`difok=3` - новый от страрого не менее 3-х символов \n",
    "`` -  \n",
    "`` -  \n",
    "`` -  \n",
    "`` -  \n",
    "`` -  \n"
   ]
  },
  {
   "cell_type": "markdown",
   "metadata": {},
   "source": [
    "`` -   \n",
    "`` -   \n",
    "`` -   \n"
   ]
  },
  {
   "cell_type": "markdown",
   "metadata": {},
   "source": []
  },
  {
   "cell_type": "markdown",
   "metadata": {},
   "source": []
  },
  {
   "cell_type": "markdown",
   "metadata": {},
   "source": []
  },
  {
   "cell_type": "markdown",
   "metadata": {},
   "source": [
    "##### Локализация\n",
    "##### Локализация консоли.\n",
    "##### Переменные окружения.\n",
    "##### Чтобы увидеть к каким группам вы принадлежите используйте команду groups:\n",
    "##### запретить доступ по SSH\n",
    "##### Разрешения(права) в Linux/UNIX\n",
    "##### Управление маской доступа\n",
    "##### Права доступа к папке\n",
    "##### Идентификатор пользователя (UID) и текущий идентификатор пользователя (EUID)\n",
    "##### POSIX ACL\n",
    "##### Управление ПО.\n",
    "##### Репозитории.\n",
    "##### Официальные репозитории\n",
    "##### Персональные архивы пакетов (PPA)\n",
    "##### Содержимое пакета\n",
    "##### В какой пакет входит файл\n",
    "##### apt - объединяет в одной утилите такие команды как:  apt-get, apt-cache и т д. \n",
    "##### aptitude \n",
    "##### Установка ПО из исходных текстов\n",
    "##### apt-get install gcc libncurses5-dev make\n",
    "##### Регистрация событий в Linux\n",
    "##### Использование утилиты logger\n",
    "##### Резервное копирование и восстановление\n",
    "##### Утилиты для резервного копирования\n",
    "##### Планирование заданий\n",
    "##### Пример задачи резервного копирования\n",
    "##### аутентификация на ключах\n",
    "##### Генерируем ключевые пары\n",
    "##### Работа с дисками\n",
    "##### Cоздать файловую систему\n",
    "##### Смонтировать раздел\n",
    "##### Настройка GUI\n",
    "##### Установка X сервера, менеджера дисплеев, оконного менеджера и клиентских программ\n",
    "##### Проблемы с разрешением экрана в VBox\n",
    "##### Сборка ядра.\n",
    "##### "
   ]
  },
  {
   "cell_type": "markdown",
   "metadata": {},
   "source": [
    "##### Локализация\n",
    "##### Локализация консоли.\n",
    "##### Переменные окружения.\n",
    "##### Чтобы увидеть к каким группам вы принадлежите используйте команду groups:\n",
    "##### запретить доступ по SSH\n",
    "##### Разрешения(права) в Linux/UNIX\n",
    "##### Управление маской доступа\n",
    "##### Права доступа к папке\n",
    "##### Идентификатор пользователя (UID) и текущий идентификатор пользователя (EUID)\n",
    "##### POSIX ACL\n",
    "##### Управление ПО.\n",
    "##### Репозитории.\n",
    "##### Официальные репозитории\n",
    "##### Персональные архивы пакетов (PPA)\n",
    "##### Содержимое пакета\n",
    "##### В какой пакет входит файл\n",
    "##### apt - объединяет в одной утилите такие команды как:  apt-get, apt-cache и т д. \n",
    "##### aptitude \n",
    "##### Установка ПО из исходных текстов\n",
    "##### apt-get install gcc libncurses5-dev make\n",
    "##### Регистрация событий в Linux\n",
    "##### Использование утилиты logger\n",
    "##### Резервное копирование и восстановление\n",
    "##### Утилиты для резервного копирования\n",
    "##### Планирование заданий\n",
    "##### Пример задачи резервного копирования\n",
    "##### аутентификация на ключах\n",
    "##### Генерируем ключевые пары\n",
    "##### Работа с дисками\n",
    "##### Cоздать файловую систему\n",
    "##### Смонтировать раздел\n",
    "##### Настройка GUI\n",
    "##### Установка X сервера, менеджера дисплеев, оконного менеджера и клиентских программ\n",
    "##### Проблемы с разрешением экрана в VBox\n",
    "##### Сборка ядра.\n",
    "##### "
   ]
  }
 ],
 "metadata": {
  "kernelspec": {
   "display_name": "Python 3",
   "language": "python",
   "name": "python3"
  },
  "language_info": {
   "codemirror_mode": {
    "name": "ipython",
    "version": 3
   },
   "file_extension": ".py",
   "mimetype": "text/x-python",
   "name": "python",
   "nbconvert_exporter": "python",
   "pygments_lexer": "ipython3",
   "version": "3.6.6"
  }
 },
 "nbformat": 4,
 "nbformat_minor": 2
}
