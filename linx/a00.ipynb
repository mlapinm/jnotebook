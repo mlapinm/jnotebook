{
 "cells": [
  {
   "cell_type": "markdown",
   "metadata": {},
   "source": [
    "[a00.ipynb](a00.ipynb)  \n",
    "[c01lpic.ipynb Курс молодого бойца](c01lpic.ipynb)  \n",
    "[c02lpic.ipynb Курс молодого бойца](c02lpic.ipynb)  \n",
    "[d01evetrd.ipynb UNetLab](d01evetrd.ipynb)   \n",
    "[e01mtk.ipynb MikroTik](e01mtk.ipynb)  \n",
    "[f1gns3 GNS3.ipynb](f1gns3.ipynb)  \n",
    "[g01linbgn.ipynb Linux для начинающих](g01linbgn.ipynb)  \n",
    "[lin01_1trd.ipynb](lin01_1trd.ipynb)  \n",
    "[lin01_2trd.ipynb](lin01_2trd.ipynb)  \n",
    "[lin02_123trd.ipynb](lin02_123trd.ipynb)  \n",
    "[lin02_123trd2.ipynb](lin02_123trd2.ipynb)  \n",
    "[lin11val.ipynb Работа в командной строке UNIX](lin11val.ipynb)  \n",
    "[lin21ast.ipynb asterix empty](lin21ast.ipynb)  \n",
    "[qt](n01qt.ipynb)  \n",
    "[]()  \n",
    "[]()  \n",
    "[]()  \n"
   ]
  },
  {
   "cell_type": "code",
   "execution_count": 54,
   "metadata": {
    "scrolled": true
   },
   "outputs": [
    {
     "name": "stdout",
     "output_type": "stream",
     "text": [
      "Help on function listdir in module __main__:\n",
      "\n",
      "listdir(ext='ipynb')\n",
      "    отсортировал по расширению ext\n",
      "    вырезал по нужному расширению\n",
      "    вывел в нужном виде\n",
      "\n"
     ]
    }
   ],
   "source": [
    "import os\n",
    "\n",
    "def listdir(ext = 'ipynb'):\n",
    "    '''\n",
    "    отсортировал по расширению ext\n",
    "    вырезал по нужному расширению\n",
    "    вывел в нужном виде\n",
    "    '''\n",
    "    def fs(a):\n",
    "        n = a.find('.')\n",
    "        e=''\n",
    "        if n>=0:\n",
    "            e = a[n+1:]\n",
    "        return e\n",
    "    l=os.listdir()\n",
    "    l.sort(key=fs)\n",
    "    la=[i for i in l if i.count(ext)]\n",
    "    print(len(la))\n",
    "    for i in la:\n",
    "        print(f'[{i}]({i})  ')\n",
    "# listdir()\n",
    "help(listdir)"
   ]
  },
  {
   "cell_type": "code",
   "execution_count": 58,
   "metadata": {},
   "outputs": [
    {
     "name": "stdout",
     "output_type": "stream",
     "text": [
      "2019-12-28\n"
     ]
    }
   ],
   "source": [
    "import datetime\n",
    "\n",
    "def what_day_today():\n",
    "    '''\n",
    "    2019-12-28\n",
    "    '''\n",
    "    return datetime.date.today()\n",
    "print(what_day_today())"
   ]
  },
  {
   "cell_type": "markdown",
   "metadata": {},
   "source": []
  },
  {
   "cell_type": "code",
   "execution_count": 32,
   "metadata": {},
   "outputs": [
    {
     "name": "stdout",
     "output_type": "stream",
     "text": [
      "['c.1', 'a.2', 'b.3a']\n"
     ]
    }
   ],
   "source": [
    "l = ['a.2','c.1','b.3a']\n",
    "def fs(a):\n",
    "    n = a.find('.')\n",
    "    e=0\n",
    "    if n>=0:\n",
    "        e = a[n+1:]\n",
    "    return e\n",
    "fs('a.2a')\n",
    "l.sort(key=fs)\n",
    "print(l)"
   ]
  },
  {
   "cell_type": "code",
   "execution_count": 42,
   "metadata": {},
   "outputs": [
    {
     "name": "stdout",
     "output_type": "stream",
     "text": [
      "['__add__', '__class__', '__contains__', '__delattr__', '__dir__', '__doc__', '__eq__', '__format__', '__ge__', '__getattribute__', '__getitem__', '__getnewargs__', '__gt__', '__hash__', '__init__', '__init_subclass__', '__iter__', '__le__', '__len__', '__lt__', '__mod__', '__mul__', '__ne__', '__new__', '__reduce__', '__reduce_ex__', '__repr__', '__rmod__', '__rmul__', '__setattr__', '__sizeof__', '__str__', '__subclasshook__', 'capitalize', 'casefold', 'center', 'count', 'encode', 'endswith', 'expandtabs', 'find', 'format', 'format_map', 'index', 'isalnum', 'isalpha', 'isascii', 'isdecimal', 'isdigit', 'isidentifier', 'islower', 'isnumeric', 'isprintable', 'isspace', 'istitle', 'isupper', 'join', 'ljust', 'lower', 'lstrip', 'maketrans', 'partition', 'replace', 'rfind', 'rindex', 'rjust', 'rpartition', 'rsplit', 'rstrip', 'split', 'splitlines', 'startswith', 'strip', 'swapcase', 'title', 'translate', 'upper', 'zfill']\n"
     ]
    }
   ],
   "source": [
    "st = 'aa'\n",
    "print(dir(st))"
   ]
  },
  {
   "cell_type": "code",
   "execution_count": 44,
   "metadata": {},
   "outputs": [
    {
     "name": "stdout",
     "output_type": "stream",
     "text": [
      "2\n"
     ]
    }
   ],
   "source": [
    "st = 'aa'\n",
    "print(st.count('a'))"
   ]
  },
  {
   "cell_type": "markdown",
   "metadata": {},
   "source": [
    "[]()  \n",
    "[]()  \n",
    "[]()  \n",
    "[]()  \n",
    "[]()  \n",
    "```\n",
    "\n",
    "```"
   ]
  }
 ],
 "metadata": {
  "kernelspec": {
   "display_name": "Python 3",
   "language": "python",
   "name": "python3"
  },
  "language_info": {
   "codemirror_mode": {
    "name": "ipython",
    "version": 3
   },
   "file_extension": ".py",
   "mimetype": "text/x-python",
   "name": "python",
   "nbconvert_exporter": "python",
   "pygments_lexer": "ipython3",
   "version": "3.7.4"
  }
 },
 "nbformat": 4,
 "nbformat_minor": 2
}
