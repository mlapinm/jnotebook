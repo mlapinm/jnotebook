{
 "cells": [
  {
   "cell_type": "markdown",
   "metadata": {},
   "source": [
    "```\n",
    "asterisk с нуля\n",
    "asterisk - ats server, звонки через него.\n",
    "Софтфон - программа sip клиент.\n",
    "Телефон имеет два разъема rj45.\n",
    "Компьютер подключается к сети через телефон.\n",
    "Сервер IP ats asterisk подключен к сети.\n",
    "Сервер asterisk поключен к интернет провайдеру.\n",
    "Сервер asterisk имеет свой номер.\n",
    "При звонке из вне происходит подключение к серверу Asterisk.\n",
    "А он коммутирует с соответсвующим софтфоном.\n",
    "\n",
    "Организация IP телефонии на UNIX Asterisk\n",
    "\n",
    "Уровень 1. Телефония будущего для предприятия\n",
    "Фрагмент занятия в УЦ Специалист по курсу \"Asterisk. Уровень 2\n",
    " Телефонное оборудование и безопасность\n",
    "\n",
    "asterisk\n",
    "1. сборка (linux+ asterisk + gui)\n",
    "\n",
    "Elastix\n",
    "Asterisk Now\n",
    "\n",
    "2. Чистый asterisk\n",
    " \n",
    "\n",
    "\n",
    "================================\n",
    "\n",
    "```"
   ]
  },
  {
   "cell_type": "markdown",
   "metadata": {},
   "source": []
  },
  {
   "cell_type": "markdown",
   "metadata": {},
   "source": []
  }
 ],
 "metadata": {
  "kernelspec": {
   "display_name": "Python 3",
   "language": "python",
   "name": "python3"
  },
  "language_info": {
   "codemirror_mode": {
    "name": "ipython",
    "version": 3
   },
   "file_extension": ".py",
   "mimetype": "text/x-python",
   "name": "python",
   "nbconvert_exporter": "python",
   "pygments_lexer": "ipython3",
   "version": "3.6.8"
  }
 },
 "nbformat": 4,
 "nbformat_minor": 2
}
