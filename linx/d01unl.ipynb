{
 "cells": [
  {
   "cell_type": "markdown",
   "metadata": {},
   "source": [
    "[1.Курс UNetLab. Введение](#1.Курс-UNetLab.-Введение)   \n",
    "[2.Курс UNetLab. Установка](#2.Курс-UNetLab.-Установка)   \n",
    "[3.Курс UNetLab. Dynamips](#3.Курс-UNetLab.-Dynamips)   \n",
    "[4.UNetLab. Telnet, VNC, Wireshark](#4.UNetLab.-Telnet,-VNC,-Wireshark)   \n",
    "[5.UNetLab. Создание сетевой топологии](#5.UNetLab.-Создание-сетевой-топологии)   \n",
    "[6.UNetLab. Компьютер в сетевой топологии - VPCS](#6.UNetLab.-Компьютер-в-сетевой-топологии---VPCS)   \n",
    "[7.UNetLab. Компьютер в сетевой топологии - VMware](#7.UNetLab.-Компьютер-в-сетевой-топологии---VMware)   \n",
    "[8.UNetLab. Компьютер в сетевой топологии - QEMU](#8.UNetLab.-Компьютер-в-сетевой-топологии---QEMU)   \n",
    "[9.UNetLab. Компьютер в сетевой топологии - Docker](#9.UNetLab.-Компьютер-в-сетевой-топологии---Docker)   \n",
    "[10.UNetLab. Cisco vIOS](#10.UNetLab.-Cisco-vIOS)   \n",
    "[11.UNetLab. Cisco ASA](#11.UNetLab.-Cisco-ASA)   \n"
   ]
  },
  {
   "cell_type": "markdown",
   "metadata": {},
   "source": [
    "##### 1.Курс UNetLab. Введение\n",
    "##### 2.Курс UNetLab. Установка\n",
    "Установка в VMware Workstation  \n",
    "Q:\\04install\\linx\\unl\\  \n",
    "\n",
    "Q:\\04install\\linx\\unl\\VMware Workstation 15 Pro 15.5.0 Build 14665864 RePack by KpoJIuK  \n",
    "D:\\programs\\eve  EVE Community VM.ova  EVE-NG-Win-Client-Pack.exe  \n",
    "\n",
    "WMEVE - VMWare Workstation  \n",
    "`root` - name  \n",
    "`eve` - password  \n"
   ]
  },
  {
   "cell_type": "markdown",
   "metadata": {},
   "source": [
    "*http://192.168.1.50/*  \n",
    "`admin` - name  \n",
    "`eve` - password  \n"
   ]
  },
  {
   "cell_type": "markdown",
   "metadata": {},
   "source": []
  },
  {
   "cell_type": "markdown",
   "metadata": {},
   "source": []
  },
  {
   "cell_type": "markdown",
   "metadata": {},
   "source": []
  },
  {
   "cell_type": "markdown",
   "metadata": {},
   "source": [
    "##### 3.Курс UNetLab. Dynamips\n",
    "\n",
    "NAT -  \n",
    "root -   \n",
    "11111 -   \n",
    "programs/eve  - dir\n",
    "eve01 - host name   \n",
    "example.com - dns name\n",
    "static - ip address  \n",
    "192.168.19.100 -  \n",
    "255.255.255.0 -   \n",
    "192.168.19.2 - GateWay   \n",
    "192.168.19.2 - DNS server1  \n",
    "8.8.8.8 - DNS server2  \n",
    "[Enter] - NTP  \n",
    "direct connection - Proxy   \n"
   ]
  },
  {
   "cell_type": "markdown",
   "metadata": {},
   "source": [
    "root -   \n",
    "11111 -   \n",
    "ip address - pnet0  \n",
    "shift PgUp -   \n",
    "dpkg -l eve-ng - 2.0.3-95   \n",
    "apt-get update -   \n",
    "apt install eve-ng - newest    "
   ]
  },
  {
   "cell_type": "markdown",
   "metadata": {},
   "source": [
    "*cmd*  \n",
    "ping 192.168.19.100   \n",
    "*chrome*\n",
    "http://192.168.19.100  \n",
    "admin -   \n",
    "eve -   \n",
    "first-lab -  add folder   \n",
    "System System Status -   "
   ]
  },
  {
   "cell_type": "markdown",
   "metadata": {},
   "source": [
    "*scpwin*   \n",
    "copy d:/download /opt /opt/unetlab/addons/dynamips  \n"
   ]
  },
  {
   "cell_type": "markdown",
   "metadata": {},
   "source": [
    "*putty*   \n",
    "\n",
    "```\n",
    "root@eve01:/opt/unetlab/addons/dynamips# ls\n",
    "c1710-bk9no3r2sy-mz.124-23.bin      c7200-adventerprisek9-mz.151-4.M.bin\n",
    "c3725-adventerprisek9-mz124-15.bin  c7200-adventerprisek9-mz.152-4.S7.bin\n",
    "\n",
    "```"
   ]
  },
  {
   "cell_type": "markdown",
   "metadata": {},
   "source": [
    "**image**   \n",
    "```\n",
    "cd /opt/unetlab/addons/dynamips \n",
    "unzip -p c7200-p-mz.123-19.bin > c7200-p-mz.123-19.image\n",
    "# unzip -p c1710-bk9no3r2sy-mz.124-23.bin > c1710-bk9no3r2sy-mz.124-23.image\n",
    "rm c1710-bk9no3r2sy-mz.124-23.bin\n",
    "# /opt/unetlab/wrappers/unl_wrapper -a fixpermissions\n",
    "```"
   ]
  },
  {
   "cell_type": "markdown",
   "metadata": {},
   "source": [
    "*chrom eve*\n",
    "```\n",
    "add new lab\n",
    "test-router - Name  \n",
    "1 - Version  \n",
    "mlapin - Author  \n",
    " - Config Script Timeout  \n",
    " - Description  \n",
    " - Tasks  \n",
    "Save  \n",
    "\n",
    "```\n",
    "\n"
   ]
  },
  {
   "cell_type": "markdown",
   "metadata": {},
   "source": [
    "*ADD A NEW NODE*  \n",
    "```\n",
    "[i] Status\n",
    "\n",
    "[Enter] - telnet\n",
    "\n",
    "192.168.19.100:32769\n",
    "```"
   ]
  },
  {
   "cell_type": "markdown",
   "metadata": {},
   "source": [
    "*Putty*\n",
    "```\n",
    "telnet 192.168.19.100:32769\n",
    "```"
   ]
  },
  {
   "cell_type": "markdown",
   "metadata": {},
   "source": [
    "*Рассчет Idle pc*  \n",
    "```\n",
    "c1710-bk9no3r2sy-mz.123-26.image\n",
    "0x80369ac4 -  25%\n",
    "c1710-bk9no3r2sy-mz.123-26.bin\n",
    "0x802318c8 - вычисленный  1%\n",
    "\n",
    "/opt/unetlab/wrappers/unl_wrapper -a fixpermissions\n",
    "\n",
    "dynamips -P 1700 -t 1710 c1710-bk9no3r2sy-mz.123-26.image\n",
    "no\n",
    "\n",
    "Ctrl-] i\n",
    "\n",
    "Router>\n",
    "Please wait while gathering statistics...\n",
    "Done. Suggested idling PC:\n",
    "   0x802318c8 (count=35)\n",
    "   0x8023223c (count=26)\n",
    "   0x80232268 (count=49)\n",
    "   0x802323ac (count=48)\n",
    "   0x8015aa58 (count=77)\n",
    "   0x8015aa8c (count=35)\n",
    "   0x8015aaa0 (count=41)\n",
    "   0x8029deb8 (count=50)\n",
    "   0x8022f44c (count=60)\n",
    "Restart the emulator with \"--idle-pc=0x802318c8\" (for example)\n",
    "\n",
    "Ctrl-] q\n",
    "\n",
    "\n",
    "\n",
    "```"
   ]
  },
  {
   "cell_type": "markdown",
   "metadata": {},
   "source": [
    "#### 4.UNetLab. Telnet, VNC, Wireshark\n",
    "*Включение telnet*  \n",
    "Панель управления\\Все элементы панели управления\\Программы и компоненты  \n",
    "Включение или отключение компонентов Windows  \n",
    "Клиент Telnet  \n"
   ]
  },
  {
   "cell_type": "markdown",
   "metadata": {},
   "source": [
    "**  \n",
    "```\n",
    "EVE-NG-Win-Client-Pack.exe\n",
    "Welcome to EVE-NG Windows x64_32 Installer\n",
    "\n",
    "\n",
    "*****************************************\n",
    "\n",
    "Installation Folder:\n",
    "\n",
    "C:\\Program Files\\EVE-NG\n",
    "\n",
    "*****************************************\n",
    "\n",
    "If you choose to install Wireshark and UltraVNC\n",
    "\n",
    "DO NOT change thier installation Folder\n",
    "\n",
    "*****************************************\n",
    "\n",
    "Win10 users\n",
    "\n",
    "If you want to change from putty to SecureCRT\n",
    "\n",
    "\n",
    "C:\\Program Files\\uvnc bvba\\UltraVNC\n",
    "C:\\Program Files\\Wireshark\n",
    "\n",
    "C:\\Program Files\\EVE-NG\n",
    "```"
   ]
  },
  {
   "cell_type": "markdown",
   "metadata": {},
   "source": [
    "*C:\\Program Files\\EVE-NG*  \n",
    "```\n",
    "win7_64bit_putty.reg\n",
    "\n",
    "\n",
    "Windows Registry Editor Version 5.00\n",
    "\n",
    "[HKEY_CLASSES_ROOT\\telnet]\n",
    "@=\"URL:Telnet Protocol\"\n",
    "\"URL Protocol\"=\"\"\n",
    "\n",
    "[HKEY_CLASSES_ROOT\\telnet\\shell]\n",
    "\n",
    "[HKEY_CLASSES_ROOT\\telnet\\shell\\open]\n",
    "\n",
    "[HKEY_CLASSES_ROOT\\telnet\\shell\\open\\command]\n",
    "@=\"\\\"C:\\\\Program Files\\\\EVE-NG\\\\putty.exe\\\" %1\"\n",
    "\n",
    "[HKEY_CLASSES_ROOT\\ssh]\n",
    "@=\"URL:SSH Protocol\"\n",
    "\"URL Protocol\"=\"\"\n",
    "\n",
    "[HKEY_CLASSES_ROOT\\ssh\\shell]\n",
    "\n",
    "[HKEY_CLASSES_ROOT\\ssh\\shell\\open]\n",
    "\n",
    "[HKEY_CLASSES_ROOT\\ssh\\shell\\open\\command]\n",
    "@=\"\\\"C:\\\\Program Files\\\\EVE-NG\\\\putty.exe\\\" %1\"\n",
    "------------------------------------------\n",
    "S-Terra - VNC  \n",
    "SecureCRT \n",
    "\n",
    "\n",
    "\n",
    "```"
   ]
  },
  {
   "cell_type": "markdown",
   "metadata": {},
   "source": [
    "*wireshark_wrapper.bat*  \n",
    "```\n",
    "SET USERNAME=\"root\"\n",
    "SET PASSWORD=\"11111\"\n",
    "\n",
    "1710\n",
    "Router(config)#int fa 0\n",
    "Router(config-if)#no shutdown\n",
    "\n",
    "[rb] captur fa0\n",
    "запустить wareshurk wrapper\n",
    "\n",
    "```"
   ]
  },
  {
   "cell_type": "markdown",
   "metadata": {},
   "source": [
    "#### 5.UNetLab. Создание сетевой топологии\n",
    "**  \n",
    "```\n",
    "```"
   ]
  },
  {
   "cell_type": "markdown",
   "metadata": {},
   "source": [
    "#### 10.UNetLab. Cisco vIOS\n",
    "**  \n",
    "```\n",
    "iosv-l2 download\n",
    "iosv-l3 download\n",
    "\n",
    "IOSv-L2.vmdk\n",
    "IOSv-L3.vmdk\n",
    "\n",
    "/opt/unetlab/addons/qemu/viosl2-15\n",
    "/opt/unetlab/addons/qemu/vios-15\n",
    "\n",
    "\n",
    "```"
   ]
  },
  {
   "cell_type": "markdown",
   "metadata": {},
   "source": [
    "**  \n",
    "```\n",
    "Для vIOS L2 - \n",
    "/opt/qemu/bin/qemu-img convert -f vmdk -O qcow2 vIOS-L2.vmdk virtioa.qcow2\n",
    "Для vIOS L3 - \n",
    "/opt/qemu/bin/qemu-img convert -f vmdk -O qcow2 vIOS-L3.vmdk virtioa.qcow2\n",
    "3. Задаем права командой /opt/unetlab/wrappers/unl_wrapper -a fixpermissions\n",
    "4. При добавлении устройств выставляйте 384 Мб оперативной памяти.\n",
    "5.```"
   ]
  },
  {
   "cell_type": "markdown",
   "metadata": {},
   "source": [
    "**  \n",
    "```\n",
    "root@eve01:/opt/unetlab/addons/qemu/viosl2-15# /opt/qemu/bin/qemu-img convert -f vmdk -O qcow2 IOSv-L2.vmdk virtioa.qcow2\n",
    "root@eve01:/opt/unetlab/addons/qemu/viosl2-15# ls\n",
    "IOSv-L2.vmdk  virtioa.qcow2\n",
    "\n",
    "root@eve01:/opt/unetlab/addons/qemu/vios-15# /opt/qemu/bin/qemu-img convert -f vmdk -O qcow2 IOSv-L3.vmdk virtioa.qcow2\n",
    "root@eve01:/opt/unetlab/addons/qemu/vios-15# ls\n",
    "IOSv-L3.vmdk  virtioa.qcow2\n",
    "\n",
    "/opt/unetlab/wrappers/unl_wrapper -a fixpermissions\n",
    "```"
   ]
  },
  {
   "cell_type": "markdown",
   "metadata": {},
   "source": [
    "**  \n",
    "```\n",
    "```"
   ]
  },
  {
   "cell_type": "markdown",
   "metadata": {},
   "source": [
    "**  \n",
    "```\n",
    "```"
   ]
  },
  {
   "cell_type": "markdown",
   "metadata": {},
   "source": [
    "**  \n",
    "```\n",
    "```"
   ]
  },
  {
   "cell_type": "markdown",
   "metadata": {},
   "source": [
    "**  \n",
    "```\n",
    "```"
   ]
  },
  {
   "cell_type": "markdown",
   "metadata": {},
   "source": [
    "**  \n",
    "```\n",
    "```"
   ]
  },
  {
   "cell_type": "markdown",
   "metadata": {},
   "source": [
    "**  \n",
    "```\n",
    "```"
   ]
  },
  {
   "cell_type": "markdown",
   "metadata": {},
   "source": [
    "#### 6.UNetLab. Компьютер в сетевой топологии - VPCS\n",
    "#### 7.UNetLab. Компьютер в сетевой топологии - VMware\n",
    "#### 8.UNetLab. Компьютер в сетевой топологии - QEMU"
   ]
  },
  {
   "cell_type": "markdown",
   "metadata": {},
   "source": [
    "  \n",
    "  \n",
    " \n",
    "[]()  \n",
    "[]()  \n",
    "[]()  \n",
    "[]()  \n",
    "[]()  \n",
    "[]()  \n",
    "[]()  \n",
    "\n"
   ]
  },
  {
   "cell_type": "markdown",
   "metadata": {},
   "source": [
    "#### Установка WinXP 32b\n",
    "1. `WINXP_SHARICOV_20170619.ISO` - [Windows XP SP3 professional 32-bit русская версия](https://windowsobraz.com/windows-xp-x64-skachat-torrent/sborkixp/97-windows-xp-sp3-professional-32-bit-russkaya-versiya.html)   \n",
    "2.1. `VirtualBox` `xp32-Настройки` `Сеть`\n",
    "`Сетевой мост` - Тип подключения:  \n",
    "`Дополнительно` -   \n",
    "`PCnet-FAST III (Am 79C975)` - Тип адаптера:  \n",
    "2.2.    \n",
    "`Intel PRO/1000 MT Desctop (82540EM)` - Тип адаптера:  \n",
    "`PRO2K3XP_32.exe` - [driver 32 windows Intel(R) PRO/100 Network Connection](https://www.helpjet.net/Fs-56418043-52205994-39559713.html)  \n",
    "[ImgBurn](https://www.imgburn.com/index.php?act=download)  \n",
    "`Create Image file from files/folders`  \n",
    "`d:\\dload\\PRO2K3XP_32.exe` - source   \n",
    "`VirtualBox` `xp32` `Устройства`\n",
    "`Оптические диски` `Выбрать образ диска` `PRO2K3XP_32.iso`  \n",
    "\n",
    "`WINXP_SHARICOV_20170619.ISO`  \n",
    "`PRO2K3XP_32.exe`  \n",
    "`SetupImgBurn_2.5.8.0.exe`    \n",
    "P:\\avi\\04install\\linx\n",
    "D:\\programs\\Oracle\\vms  \n"
   ]
  },
  {
   "cell_type": "markdown",
   "metadata": {},
   "source": [
    "#### 9.UNetLab. Компьютер в сетевой топологии - Docker\n",
    "#### 10.UNetLab. Cisco vIOS\n",
    "#### 11.UNetLab. Cisco ASA"
   ]
  },
  {
   "cell_type": "markdown",
   "metadata": {},
   "source": [
    "##### 1.Курс UNetLab. Введение\n",
    "##### 2.Курс UNetLab. Установка\n",
    "##### 3.Курс UNetLab. Dynamips\n",
    "##### 4.UNetLab. Telnet, VNC, Wireshark\n",
    "##### 5.UNetLab. Создание сетевой топологии\n",
    "##### 6.UNetLab. Компьютер в сетевой топологии - VPCS\n",
    "##### 7.UNetLab. Компьютер в сетевой топологии - VMware\n",
    "##### 8.UNetLab. Компьютер в сетевой топологии - QEMU\n",
    "##### 9.UNetLab. Компьютер в сетевой топологии - Docker\n",
    "##### 10.UNetLab. Cisco vIOS\n",
    "##### 11.UNetLab. Cisco ASA"
   ]
  },
  {
   "cell_type": "markdown",
   "metadata": {},
   "source": [
    "[4.UNetLab. Telnet, VNC, Wireshark](https://www.youtube.com/watch?v=R9h7FBv5fDs&list=PLcDkQ2Au8aVOgp32gj7yETU5R3NMBL8cu&index=4)  \n",
    "[unetlab-eve-ng](https://www.eve-ng.net/downloads/eve-ng)  \n",
    "[wiki](https://wiki.eve-ng.ru/wiki/%D0%9F%D0%BE%D0%B4%D0%B3%D0%BE%D1%82%D0%BE%D0%B2%D0%BA%D0%B0_%D0%BE%D0%B1%D1%80%D0%B0%D0%B7%D0%B0_Dynamips)  \n",
    "[img](http://tfr.org/cisco-ios/17xx/1710/)  \n",
    "[howto-add-dynamips-images](https://www.eve-ng.net/documentation/howto-s/64-howto-add-dynamips-images-cisco-ios)  \n",
    "[Windows integration pack](https://www.eve-ng.net/downloads/windows-client-side-pack)  \n",
    "[ОБРАЗЫ IOS, PIX, IPS, ASA, JUNIPER ДЛЯ GNS3 (DOWNLOAD IOS, ASA, IPS, JUNIPER FOR GNS3)](http://blog.netskills.ru/2011/12/ios-gns3-ios-for-gns3.html)  \n",
    "[howto-add-images-from-virl](https://www.eve-ng.net/documentation/howto-s/121-howto-add-images-from-virl)  \n",
    "[winscp](https://winscp.net/eng/download.php)  \n",
    "[VirtualBox Images](https://www.osboxes.org/virtualbox-images/)[]()  \n",
    "[]()  \n",
    "[]()  \n",
    "[]()  \n",
    "[]()  \n",
    "[]()  \n",
    "\n",
    "\n",
    "```\n",
    "\n",
    "```"
   ]
  }
 ],
 "metadata": {
  "kernelspec": {
   "display_name": "Python 3",
   "language": "python",
   "name": "python3"
  },
  "language_info": {
   "codemirror_mode": {
    "name": "ipython",
    "version": 3
   },
   "file_extension": ".py",
   "mimetype": "text/x-python",
   "name": "python",
   "nbconvert_exporter": "python",
   "pygments_lexer": "ipython3",
   "version": "3.6.6"
  }
 },
 "nbformat": 4,
 "nbformat_minor": 2
}
