{
 "cells": [
  {
   "cell_type": "markdown",
   "metadata": {},
   "source": [
    "#### Raspberry Pi 3 - [HINDI] Python Remote Programming Using Pycharm IDE 2017\n",
    "New Project  First_app  "
   ]
  },
  {
   "cell_type": "markdown",
   "metadata": {},
   "source": [
    "\n",
    "Location: | First_app\n",
    "------------------|----------------\n",
    "Interpreter: | *"
   ]
  },
  {
   "cell_type": "markdown",
   "metadata": {},
   "source": [
    "```\n",
    "* - Add Remote\n",
    "\n",
    "```\n",
    "Congigure Remote Python Interpreter  \n",
    "`[v]` - SSH Credentials  \n",
    "`` -   \n",
    "`` -   \n",
    "`` -   \n",
    "`` -   \n",
    "`` -   \n"
   ]
  },
  {
   "cell_type": "markdown",
   "metadata": {},
   "source": [
    "Host: | 192.168.0.102\n",
    "---------------|------------------ \n",
    "User name: | pi  \n",
    "Password | 11111 \n",
    "Py int path:  | /usr/bin/python    \n",
    "`OK` -   \n",
    "`tmp/pycharm_project_148` - Remote project location:     \n",
    "`Create` -   \n",
    "`[v]` - open in new Window  \n",
    "`` -   \n",
    "`` -   \n",
    "`` -   \n",
    "`` -   \n",
    "`` -   \n",
    "`` -   \n"
   ]
  },
  {
   "cell_type": "markdown",
   "metadata": {},
   "source": [
    "**Raspberry**   \n",
    "`cd /home/pi//home/pi` -   \n",
    "`` -   \n",
    "`` -   \n",
    "`` -   \n",
    "`` -   \n",
    "`` -   \n",
    "`` -   \n"
   ]
  },
  {
   "cell_type": "markdown",
   "metadata": {},
   "source": [
    "****   \n",
    "`` -   \n",
    "`` -   \n",
    "`` -   \n",
    "`` -   \n",
    "`` -   \n",
    "`` -   \n",
    "`` -   \n"
   ]
  },
  {
   "cell_type": "markdown",
   "metadata": {},
   "source": [
    "****   \n",
    "`` -   \n",
    "`` -   \n",
    "`` -   \n",
    "`` -   \n",
    "`` -   \n",
    "`` -   \n",
    "`` -   \n"
   ]
  },
  {
   "cell_type": "markdown",
   "metadata": {},
   "source": [
    "****   \n",
    "`` -   \n",
    "`` -   \n",
    "`` -   \n",
    "`` -   \n",
    "`` -   \n",
    "`` -   \n",
    "`` -   \n"
   ]
  },
  {
   "cell_type": "markdown",
   "metadata": {},
   "source": [
    "****   \n",
    "`` -   \n",
    "`` -   \n",
    "`` -   \n",
    "`` -   \n",
    "`` -   \n",
    "`` -   \n",
    "`` -   \n"
   ]
  },
  {
   "cell_type": "markdown",
   "metadata": {},
   "source": [
    "****   \n",
    "`` -   \n",
    "`` -   \n",
    "`` -   \n",
    "`` -   \n",
    "`` -   \n",
    "`` -   \n",
    "`` -   \n"
   ]
  },
  {
   "cell_type": "markdown",
   "metadata": {},
   "source": [
    "```\n",
    "D:\\programs\\android\\First_app\n",
    "192.168.1.106\n",
    "root 11111\n",
    "interpreter\n",
    "ssh://root@192.168.1.106:22/usr/bin/python\n",
    "/tmp/pycharm_project_546\n",
    "```\n",
    "\n",
    "lrwxrwxrwx 1 root   root           9 ноя 24  2017 python -> python2.7"
   ]
  },
  {
   "cell_type": "markdown",
   "metadata": {},
   "source": []
  },
  {
   "cell_type": "markdown",
   "metadata": {},
   "source": [
    "```\n",
    "# main.py\n",
    "def fun1():\n",
    "    while True:\n",
    "        print 'Welcome to Knowladge Shell'\n",
    "\n",
    "fun1()\n",
    "```"
   ]
  },
  {
   "cell_type": "markdown",
   "metadata": {},
   "source": [
    "```\n",
    "-u     : unbuffered binary stdout and stderr; also PYTHONUNBUFFERED=x\n",
    "         see man page for details on internal buffering relating to '-u'\n",
    "\n",
    "```"
   ]
  },
  {
   "cell_type": "markdown",
   "metadata": {},
   "source": [
    "****  \n",
    "```\n",
    "root@gate:/tmp/pycharm_project_546# ls\n",
    "main.py\n",
    "```"
   ]
  },
  {
   "cell_type": "markdown",
   "metadata": {},
   "source": [
    "****  \n",
    "```\n",
    "D:\\programs\\android\\First_app\\main.py\n",
    "```"
   ]
  },
  {
   "cell_type": "markdown",
   "metadata": {},
   "source": [
    "****  \n",
    "```\n",
    "root@gate:/tmp/pycharm_project_546# cat main.py\n",
    "#main.py\n",
    "def fun1():\n",
    "    while True:\n",
    "        print 'Welcome to Knowladge Shell'\n",
    "\n",
    "fun1()\n",
    "```"
   ]
  },
  {
   "cell_type": "markdown",
   "metadata": {},
   "source": [
    "****  \n",
    "```\n",
    "\n",
    "```"
   ]
  },
  {
   "cell_type": "markdown",
   "metadata": {},
   "source": [
    "****  \n",
    "```\n",
    "\n",
    "```"
   ]
  },
  {
   "cell_type": "markdown",
   "metadata": {},
   "source": [
    "****  \n",
    "```\n",
    "\n",
    "```"
   ]
  },
  {
   "cell_type": "markdown",
   "metadata": {},
   "source": [
    "OpenCV (англ. Open Source Computer Vision Library, библиотека"
   ]
  },
  {
   "cell_type": "markdown",
   "metadata": {},
   "source": [
    "[Raspberry Pi 3 - [HINDI] Python Remote Programming Using Pycharm IDE 2017](https://www.youtube.com/watch?v=nMevC69rFzM&list=PLkPmSWtWNIyREnsnDl36Ll3l2yzcwZeH7&index=10)  \n",
    "[Raspberry Pi 3 - [HINDI] Auto Run Python Script on Raspberry Pi 2017](https://www.youtube.com/watch?v=8yzGVX4uZ4k&list=PLkPmSWtWNIyREnsnDl36Ll3l2yzcwZeH7&index=13)  \n",
    "[Raspberry PI 3 - [HINDI]Your First GUI with TkInter and Python 2017 - VNC - viewer](https://www.youtube.com/watch?v=lwVkB9-jozI&list=PLkPmSWtWNIyREnsnDl36Ll3l2yzcwZeH7&index=18)  \n",
    "[Raspberry Pi 3 - [HINDI] How to setup VNC Server 2017 ?](https://www.youtube.com/watch?v=HvntXDubnLw&list=PLkPmSWtWNIyREnsnDl36Ll3l2yzcwZeH7&index=5)  \n",
    "[]()  \n",
    "[]()  \n",
    "[]()  \n",
    "[]()  \n",
    "[]()  \n",
    "[]()  \n",
    "\n"
   ]
  },
  {
   "cell_type": "markdown",
   "metadata": {},
   "source": [
    "[]()  \n",
    "[]()  \n",
    "[]()  \n",
    "[]()  \n",
    "[]()  \n",
    "```\n",
    "\n",
    "```"
   ]
  }
 ],
 "metadata": {
  "kernelspec": {
   "display_name": "Python 3",
   "language": "python",
   "name": "python3"
  },
  "language_info": {
   "codemirror_mode": {
    "name": "ipython",
    "version": 3
   },
   "file_extension": ".py",
   "mimetype": "text/x-python",
   "name": "python",
   "nbconvert_exporter": "python",
   "pygments_lexer": "ipython3",
   "version": "3.7.4"
  }
 },
 "nbformat": 4,
 "nbformat_minor": 2
}
