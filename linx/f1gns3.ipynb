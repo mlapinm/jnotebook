{
 "cells": [
  {
   "cell_type": "markdown",
   "metadata": {},
   "source": [
    "[1.Основы GNS3. Введение](#1.Основы-GNS3.-Введение)   \n",
    "[2.Основы GNS3. Установка на Windows](#2.Основы-GNS3.-Установка-на-Windows)   \n",
    "[3.Основы GNS3. Установка на Linux](#3.Основы-GNS3.-Установка-на-Linux)   \n",
    "[4.Основы GNS3. Базовая настройка. Добавляем образы Cisco](#4.Основы-GNS3.-Базовая-настройка.-Добавляем-образы-Cisco)   \n",
    "[5.Основы GNS3. Простейшая сеть](#5.Основы-GNS3.-Простейшая-сеть)   \n",
    "[6.Основы GNS3. Добавляем хост в сеть. Virtual PC Simulator](#6.Основы-GNS3.-Добавляем-хост-в-сеть.-Virtual-PC-Simulator)   \n",
    "[7.Основы GNS3. Коммутатор в GNS3](#7.Основы-GNS3.-Коммутатор-в-GNS3)   \n",
    "[8.Основы GNS3. L3 коммутатор (Router+EtherSwitch module)](#8.Основы-GNS3.-L3-коммутатор-(Router+EtherSwitch-module))   \n",
    "[9.Основы GNS3. Добавляем хост VirtualBox](#9.Основы-GNS3.-Добавляем-хост-VirtualBox)   \n",
    "[10.Основы GNS3. Добавляем хост VMware Workstation](#10.Основы-GNS3.-Добавляем-хост-VMware-Workstation)   \n",
    "[11.Основы GNS3. Добавляем свой компьютер в сеть GNS3](#11.Основы-GNS3.-Добавляем-свой-компьютер-в-сеть-GNS3)   \n",
    "[12.Основы GNS3. Подключение GNS3 к реальной сети](#12.Основы-GNS3.-Подключение-GNS3-к-реальной-сети)   \n",
    "[13.Основы GNS3. Cisco ASA + ASDM](#13.Основы-GNS3.-Cisco-ASA-+-ASDM)   \n",
    "[14.Основы GNS3. Wireshark](#14.Основы-GNS3.-Wireshark)   \n",
    "[15.Основы GNS. Заключение](#15.Основы-GNS.-Заключение)   \n"
   ]
  },
  {
   "cell_type": "markdown",
   "metadata": {},
   "source": [
    "#### 1.Основы GNS3. Введение\n",
    "#### 2.Основы GNS3. Установка на Windows\n"
   ]
  },
  {
   "cell_type": "markdown",
   "metadata": {},
   "source": [
    "```\n",
    "C:\\Program Files\\GNS3\n",
    "C:\\Program Files\\GNS3\n",
    "C:\\Program Files\\GNS3\\gns3server.EXE\n",
    "localhost\n",
    "3080 TCP\n",
    "\n",
    "```"
   ]
  },
  {
   "cell_type": "markdown",
   "metadata": {},
   "source": [
    "#### 3.Основы GNS3. Установка на Linux\n",
    "#### 4.Основы GNS3. Базовая настройка. Добавляем образы Cisco\n",
    "[Ссылка на презентацию](https://drive.google.com/file/d/0B-5kZl7ixcSKSmF1N2RLd2xvQUU/view)  \n",
    "[4. ОСНОВЫ GNS3. БАЗОВАЯ НАСТРОЙКА. ДОБАВЛЯЕМ ОБРАЗЫ CISCO](http://blog.netskills.ru/2015/09/4-gns3-cisco-images.html)  \n",
    "[]()  \n",
    "[]()  \n",
    "[]()  \n"
   ]
  },
  {
   "cell_type": "markdown",
   "metadata": {},
   "source": [
    "4.Основы GNS3. Базовая настройка. Добавляем образы Cisco  \n",
    "Dynamips - ядро GNS3  \n",
    "Подробнее о Dynamips  \n",
    "[wikipedia Dynamips](https://ru.wikipedia.org/wiki/Dynamips)  \n",
    "[community](https://gns3.com/community/latest)  \n",
    "Поддерживаемые модели маршрутизаторов Cisco  \n",
    "● Поддерживаемое оборудование  \n",
    "● Последние протестированные прошивки  \n",
    "[Cisco IOS images for Dynamips](https://docs.gns3.com/1-kBrTplBltp9P3P-AigoMzlDO-ISyL1h3bYpOl5Q8mQ/index.html)  \n",
    "[https://blog.netskills.ru/2011/12/ios-gns3-ios-for-gns3.html](https://blog.netskills.ru/2011/12/ios-gns3-ios-for-gns3.html)  \n",
    "● Наиболее стабильные: c3640, c3660, c3725, c3745 и c7200  "
   ]
  },
  {
   "cell_type": "markdown",
   "metadata": {},
   "source": [
    "```\n",
    "Edit Preferences\n",
    "New D:\\programs\\eve\\unl\\images\n",
    "Would you like to decompress selected image. Yes\n",
    "\n",
    "```"
   ]
  },
  {
   "cell_type": "markdown",
   "metadata": {},
   "source": []
  },
  {
   "cell_type": "markdown",
   "metadata": {},
   "source": [
    "#### 5.Основы GNS3. Простейшая сеть\n",
    "#### 6.Основы GNS3. Добавляем хост в сеть. Virtual PC Simulator\n"
   ]
  },
  {
   "cell_type": "markdown",
   "metadata": {},
   "source": [
    "**Способы добавить компьютеры в виртуальную сеть GNS3:**  \n",
    "1. Virtual PC Simulator\n",
    "1. VirtualBox\n",
    "1. VMWare\n",
    "1. Включение в сеть GNS3 собственного компьютера\n",
    "1. Подключение GNS3 к реальной сети  \n",
    "\n",
    "**Мы рассмотрим**  \n",
    "1. Как работает VPCS\n",
    "1. Как добавить хосты VPCS в схему GNS3\n",
    "1. Как настроить хосты VPCS\n"
   ]
  },
  {
   "cell_type": "markdown",
   "metadata": {},
   "source": [
    "**VPCS**  \n",
    "`?` `help` `ip ?` `show` `save` `ip dhcp` `ip 192.168.1.2/24 192.168.1.1` `arp` `trace 192.168.2.2` `` `` `` `` `` `` "
   ]
  },
  {
   "attachments": {
    "img-2019-11-14-11-27-57.png": {
     "image/png": "[encoded data removed]"
    }
   },
   "cell_type": "markdown",
   "metadata": {},
   "source": [
    "![img-2019-11-14-11-27-57.png](attachment:img-2019-11-14-11-27-57.png)"
   ]
  },
  {
   "cell_type": "markdown",
   "metadata": {},
   "source": [
    "```\n",
    "PC1> ?\n",
    "\n",
    "?                        Print help\n",
    "! COMMAND [ARG ...]      Invoke an OS COMMAND with optional ARG(s)\n",
    "arp                        Shortcut for: show arp. Show arp table\n",
    "clear ARG                Clear IPv4/IPv6, arp/neighbor cache, command history\n",
    "dhcp [OPTION]            Shortcut for: ip dhcp. Get IPv4 address via DHCP\n",
    "disconnect               Exit the telnet session (daemon mode)\n",
    "echo TEXT                Display TEXT in output. See also  set echo ?\n",
    "help                     Print help\n",
    "history                  Shortcut for: show history. List the command history\n",
    "ip ARG ... [OPTION]      Configure the current VPC's IP settings. See ip ?\n",
    "load [FILENAME]          Load the configuration/script from the file FILENAME\n",
    "ping HOST [OPTION ...]   Ping HOST with ICMP (default) or TCP/UDP. See ping ?\n",
    "quit                     Quit program\n",
    "relay ARG ...            Configure packet relay between UDP ports. See relay ?\n",
    "rlogin [ip] port         Telnet to port on host at ip (relative to host PC)\n",
    "save [FILENAME]          Save the configuration to the file FILENAME\n",
    "set ARG ...              Set VPC name and other options. Try set ?\n",
    "show [ARG ...]           Print the information of VPCs (default). See show ?\n",
    "sleep [seconds] [TEXT]   Print TEXT and pause running script for seconds\n",
    "trace HOST [OPTION ...]  Print the path packets take to network HOST\n",
    "version                  Shortcut for: show version\n",
    "\n",
    "To get command syntax help, please enter '?' as an argument of the command.\n",
    "```"
   ]
  },
  {
   "cell_type": "markdown",
   "metadata": {},
   "source": [
    "**PC1**\n",
    "```\n",
    "PC1> ip 192.168.1.2/24 192.168.1.1\n",
    "Checking for duplicate address...\n",
    "PC1 : 192.168.1.2 255.255.255.0 gateway 192.168.1.1\n",
    "\n",
    "PC1> show\n",
    "\n",
    "NAME   IP/MASK              GATEWAY           MAC                LPORT  RHOST:PORT\n",
    "PC1    192.168.1.2/24       192.168.1.1       00:50:79:66:68:00  10008  127.0.0.1:10009\n",
    "       fe80::250:79ff:fe66:6800/64\n",
    "```"
   ]
  },
  {
   "cell_type": "markdown",
   "metadata": {},
   "source": [
    "**R1**\n",
    "```\n",
    "interface FastEthernet0/0\n",
    " ip address 192.168.1.1 255.255.255.0\n",
    "interface FastEthernet0/1\n",
    " ip address 192.168.2.1 255.255.255.0\n",
    "```"
   ]
  },
  {
   "cell_type": "markdown",
   "metadata": {},
   "source": [
    "****\n",
    "```\n",
    "PC1> ping 192.168.1.1\n",
    "84 bytes from 192.168.1.1 icmp_seq=1 ttl=255 time=15.001 ms\n",
    "\n",
    "PC1> show arp\n",
    "c4:01:14:08:00:00  192.168.1.1 expires in 95 seconds\n",
    "```"
   ]
  },
  {
   "cell_type": "markdown",
   "metadata": {},
   "source": [
    "**R1**\n",
    "```\n",
    "R1(config)#ip dhcp pool DHCP\n",
    "R1(dhcp-config)#network 192.168.2.0 /24\n",
    "R1(dhcp-config)#default-router 192.168.2.1\n",
    "\n",
    "\n",
    "ip dhcp pool DHCP\n",
    "   network 192.168.2.0 255.255.255.0\n",
    "   default-router 192.168.2.1\n",
    "\n",
    "```"
   ]
  },
  {
   "cell_type": "markdown",
   "metadata": {},
   "source": [
    "**PC2**\n",
    "```\n",
    "PC2> ip dhcp\n",
    "DDORA IP 192.168.2.2/24 GW 192.168.2.1\n",
    "\n",
    "PC2> show\n",
    "\n",
    "NAME   IP/MASK              GATEWAY           MAC                LPORT  RHOST:PORT\n",
    "PC2    192.168.2.2/24       192.168.2.1       00:50:79:66:68:01  10010  127.0.0.1:10011\n",
    "       fe80::250:79ff:fe66:6801/64\n",
    "```"
   ]
  },
  {
   "cell_type": "markdown",
   "metadata": {},
   "source": [
    "**PC2**\n",
    "```\n",
    "PC2> trace 192.168.1.2\n",
    "trace to 192.168.1.2, 8 hops max, press Ctrl+C to stop\n",
    " 1   192.168.2.1   9.000 ms  10.001 ms  9.000 ms\n",
    " 2     *  *  *\n",
    " 3   *192.168.1.2   9.001 ms (ICMP type:3, code:3, Destination port unreachable)\n",
    "\n",
    "PC2> ping 192.168.1.2\n",
    "84 bytes from 192.168.1.2 icmp_seq=1 ttl=63 time=15.001 ms\n",
    "```"
   ]
  },
  {
   "cell_type": "markdown",
   "metadata": {},
   "source": [
    "**PC2**\n",
    "```\n",
    "PC2> save\n",
    "Saving startup configuration to startup.vpc\n",
    ".  done\n",
    "```"
   ]
  },
  {
   "cell_type": "markdown",
   "metadata": {},
   "source": [
    "**R1**\n",
    "```\n",
    "R1#copy running-config st\n",
    "R1#copy running-config startup-config\n",
    "Destination filename [startup-config]?\n",
    "Building configuration...\n",
    "[OK]\n",
    "```"
   ]
  },
  {
   "cell_type": "markdown",
   "metadata": {},
   "source": [
    "#### 7.Основы GNS3. Коммутатор в GNS3\n",
    "**Варианты использования коммутаторов в GNS3**  \n",
    "1. Встроенный коммутатор\n",
    "1. Router + Switch module = L3 Switch\n",
    "1. IOU L2\n",
    "1. Другие программные коммутаторы\n",
    "```\n",
    "```"
   ]
  },
  {
   "attachments": {
    "img-2019-11-14-13-25-48.png": {
     "image/png": "[encoded data removed]"
    }
   },
   "cell_type": "markdown",
   "metadata": {},
   "source": [
    "![img-2019-11-14-13-25-48.png](attachment:img-2019-11-14-13-25-48.png)"
   ]
  },
  {
   "cell_type": "markdown",
   "metadata": {},
   "source": [
    "****  \n",
    "`Brouse switches` `Ethernet switch` `SW1`  \n",
    "[Shift] + VPCS = `Nodes` `Namber of nodes` `4` \n",
    "```\n",
    "```"
   ]
  },
  {
   "cell_type": "markdown",
   "metadata": {},
   "source": [
    "**SW1 configuration**  \n",
    "`port 1` `2` - VLAN `Add`  \n",
    "`port 2` `2` - VLAN `Add`  \n",
    "`port 3` `3` - VLAN `Add`  \n",
    "`port 4` `3` - VLAN `Add`  \n",
    "```\n",
    "\n",
    "```"
   ]
  },
  {
   "cell_type": "markdown",
   "metadata": {},
   "source": [
    "****\n",
    "PC1 ip 192.168.2.2/24 192.168.2.1  \n",
    "PC2 ip 192.168.2.3/24 192.168.2.1  \n",
    "PC3 ip 192.168.3.2/24 192.168.3.1  \n",
    "PC4 ip 192.168.3.3/24 192.168.3.1  \n",
    "\n",
    "```\n",
    "```"
   ]
  },
  {
   "cell_type": "markdown",
   "metadata": {},
   "source": [
    "**SW1 configuration**  \n",
    "`port 5` `dot1q` - Type `Add`  \n",
    "****\n",
    "```\n",
    "```"
   ]
  },
  {
   "cell_type": "markdown",
   "metadata": {},
   "source": [
    "**R1**\n",
    "```\n",
    "interface FastEthernet0/0.2\n",
    " encapsulation dot1Q 2\n",
    " ip address 192.168.2.1 255.255.255.0\n",
    "!\n",
    "interface FastEthernet0/0.3\n",
    " encapsulation dot1Q 3\n",
    " ip address 192.168.3.1 255.255.255.0\n",
    "!```"
   ]
  },
  {
   "cell_type": "markdown",
   "metadata": {},
   "source": [
    "#### 8.Основы GNS3. L3 коммутатор (Router+EtherSwitch module)\n",
    "**Плюсы**  \n",
    "1. Хороший L2 функционал\n",
    "1. Наличие L3 функционала \n",
    "1. Малое потребление ресурсов\n",
    "\n",
    "**Минусы**  \n",
    "1. Не сохраняется конфигурация\n",
    "1. Не совместим с встроенные свичем GNS3\n",
    "1. Нестабильность\n",
    "```\n",
    "D:\\mailCloud\\prjother\\092linx\\f08swr\n",
    "\n",
    "```\n",
    "R1 configuration  \n",
    "Slots  \n",
    "NM-16ESW  \n",
    "Memory and disks  \n",
    "PCMCIA disk0:  `1` MiB  \n",
    "PCMCIA disk0: `1` MiB  \n",
    "0 --> 1\n"
   ]
  },
  {
   "cell_type": "markdown",
   "metadata": {},
   "source": [
    "**R1**  \n",
    "```\n",
    "R1#erase flash:\n",
    "Erasing the flash filesystem will remove all files! Continue? [confirm]\n",
    "Current DOS File System flash card in flash: will be formatted into Low End File System flash card!  Continue? [confirm]\n",
    "Erasing device... eeeeeeeeeeeeeeee ...erased\n",
    "Erase of flash: complete\n",
    "R1#vlan database\n",
    "R1(vlan)#vlan 2\n",
    "VLAN 2 added:\n",
    "    Name: VLAN0002\n",
    "R1(vlan)#vlan 3\n",
    "VLAN 3 added:\n",
    "    Name: VLAN0003\n",
    "R1(vlan)#apply\n",
    "APPLY completed.\n",
    "R1(vlan)#ex\n",
    "APPLY completed.\n",
    "Exiting....\n",
    "R1#\n",
    "```"
   ]
  },
  {
   "attachments": {
    "img-2019-11-14-15-00-42.png": {
     "image/png": "[encoded data removed]"
    }
   },
   "cell_type": "markdown",
   "metadata": {},
   "source": [
    "![img-2019-11-14-15-00-42.png](attachment:img-2019-11-14-15-00-42.png)"
   ]
  },
  {
   "cell_type": "markdown",
   "metadata": {},
   "source": [
    "**R1**  \n",
    "```\n",
    "R1(config)#int range fa1/0 - 1\n",
    "R1(config-if-range)#switchport mode access\n",
    "R1(config-if-range)#switchport access vlan 2\n",
    "R1(config-if-range)#ex\n",
    "R1(config)#int range fa 1/2 - 3\n",
    "R1(config-if-range)#switchport mode access\n",
    "R1(config-if-range)#switchport access vlan 3\n",
    "R1(config-if-range)#\n",
    "```"
   ]
  },
  {
   "cell_type": "markdown",
   "metadata": {},
   "source": [
    "****  \n",
    "```\n",
    "PC1 ip 192.168.2.2/24 192.168.2.1\n",
    "PC2 ip 192.168.2.3/24 192.168.2.1\n",
    "PC3 ip 192.168.3.2/24 192.168.3.1\n",
    "PC4 ip 192.168.3.3/24 192.168.3.1\n",
    "PC5 ip 192.168.2.4/24 192.168.2.1\n",
    "PC6 ip 192.168.3.4/24 192.168.3.1\n",
    " ```"
   ]
  },
  {
   "cell_type": "markdown",
   "metadata": {},
   "source": [
    "****  \n",
    "```\n",
    "R1(config)#int fa1/15\n",
    "R1(config-if)#switchport mode trunk\n",
    "R1(config-if)#switchport trunk allowed vlan 1-3,1002-1005\n",
    "```"
   ]
  },
  {
   "cell_type": "markdown",
   "metadata": {},
   "source": [
    "****  \n",
    "```\n",
    "ip route - как в L3 коммутаторах  \n",
    "```"
   ]
  },
  {
   "cell_type": "markdown",
   "metadata": {},
   "source": [
    "#### 9.Основы GNS3. Добавляем хост VirtualBox\n"
   ]
  },
  {
   "cell_type": "markdown",
   "metadata": {},
   "source": [
    "#### 10.Основы GNS3. Добавляем хост VMware Workstation\n",
    "#### 11.Основы GNS3. Добавляем свой компьютер в сеть GNS3\n",
    "#### 12.Основы GNS3. Подключение GNS3 к реальной сети\n",
    "#### 13.Основы GNS3. Cisco ASA + ASDM\n",
    "#### 14.Основы GNS3. Wireshark\n",
    "#### 15.Основы GNS. Заключение"
   ]
  },
  {
   "cell_type": "markdown",
   "metadata": {},
   "source": [
    "#### 1.Основы GNS3. Введение\n",
    "#### 2.Основы GNS3. Установка на Windows\n",
    "#### 3.Основы GNS3. Установка на Linux\n",
    "#### 4.Основы GNS3. Базовая настройка. Добавляем образы Cisco\n",
    "#### 5.Основы GNS3. Простейшая сеть\n",
    "#### 6.Основы GNS3. Добавляем хост в сеть. Virtual PC Simulator\n",
    "#### 7.Основы GNS3. Коммутатор в GNS3\n",
    "#### 8.Основы GNS3. L3 коммутатор (Router+EtherSwitch module)\n",
    "#### 9.Основы GNS3. Добавляем хост VirtualBox\n",
    "#### 10.Основы GNS3. Добавляем хост VMware Workstation\n",
    "#### 11.Основы GNS3. Добавляем свой компьютер в сеть GNS3\n",
    "#### 12.Основы GNS3. Подключение GNS3 к реальной сети\n",
    "#### 13.Основы GNS3. Cisco ASA + ASDM\n",
    "#### 14.Основы GNS3. Wireshark\n",
    "#### 15.Основы GNS. Заключение"
   ]
  },
  {
   "cell_type": "markdown",
   "metadata": {},
   "source": [
    "[2.Основы GNS3. Установка на Windows](https://www.youtube.com/watch?v=JGBaFZjIUfM&list=PLcDkQ2Au8aVM3fmdIYcT6wGE2moiahurw&index=2)  \n",
    "[CCNP ENTERPRISE](https://arny.ru/education/ccnp-enterprise/ccnp-enterprise/)  \n",
    "[github GNS3-2.2.3-all-in-one.exe](https://github.com/gns3/gns3-gui/releases)  \n",
    "[kali-linux](https://www.kali.org/)  \n",
    "[]()  \n",
    "[]()  \n",
    "[]()  \n",
    "[]()  \n",
    "[]()  \n",
    "[]()  \n",
    "[]()  \n",
    "[]()  \n"
   ]
  }
 ],
 "metadata": {
  "kernelspec": {
   "display_name": "Python 3",
   "language": "python",
   "name": "python3"
  },
  "language_info": {
   "codemirror_mode": {
    "name": "ipython",
    "version": 3
   },
   "file_extension": ".py",
   "mimetype": "text/x-python",
   "name": "python",
   "nbconvert_exporter": "python",
   "pygments_lexer": "ipython3",
   "version": "3.6.8"
  }
 },
 "nbformat": 4,
 "nbformat_minor": 2
}
