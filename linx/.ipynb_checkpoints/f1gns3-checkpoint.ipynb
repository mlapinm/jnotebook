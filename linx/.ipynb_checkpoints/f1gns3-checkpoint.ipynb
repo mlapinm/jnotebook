{
 "cells": [
  {
   "cell_type": "markdown",
   "metadata": {},
   "source": [
    "[1.Основы GNS3. Введение](#1.Основы-GNS3.-Введение)   \n",
    "[2.Основы GNS3. Установка на Windows](#2.Основы-GNS3.-Установка-на-Windows)   \n",
    "[3.Основы GNS3. Установка на Linux](#3.Основы-GNS3.-Установка-на-Linux)   \n",
    "[4.Основы GNS3. Базовая настройка. Добавляем образы Cisco](#4.Основы-GNS3.-Базовая-настройка.-Добавляем-образы-Cisco)   \n",
    "[5.Основы GNS3. Простейшая сеть](#5.Основы-GNS3.-Простейшая-сеть)   \n",
    "[6.Основы GNS3. Добавляем хост в сеть. Virtual PC Simulator](#6.Основы-GNS3.-Добавляем-хост-в-сеть.-Virtual-PC-Simulator)   \n",
    "[7.Основы GNS3. Коммутатор в GNS3](#7.Основы-GNS3.-Коммутатор-в-GNS3)   \n",
    "[8.Основы GNS3. L3 коммутатор (Router+EtherSwitch module)](#8.Основы-GNS3.-L3-коммутатор-(Router+EtherSwitch-module))   \n",
    "[9.Основы GNS3. Добавляем хост VirtualBox](#9.Основы-GNS3.-Добавляем-хост-VirtualBox)   \n",
    "[10.Основы GNS3. Добавляем хост VMware Workstation](#10.Основы-GNS3.-Добавляем-хост-VMware-Workstation)   \n",
    "[11.Основы GNS3. Добавляем свой компьютер в сеть GNS3](#11.Основы-GNS3.-Добавляем-свой-компьютер-в-сеть-GNS3)   \n",
    "[12.Основы GNS3. Подключение GNS3 к реальной сети](#12.Основы-GNS3.-Подключение-GNS3-к-реальной-сети)   \n",
    "[13.Основы GNS3. Cisco ASA + ASDM](#13.Основы-GNS3.-Cisco-ASA-+-ASDM)   \n",
    "[14.Основы GNS3. Wireshark](#14.Основы-GNS3.-Wireshark)   \n",
    "[15.Основы GNS. Заключение](#15.Основы-GNS.-Заключение)   \n"
   ]
  },
  {
   "cell_type": "markdown",
   "metadata": {},
   "source": []
  },
  {
   "cell_type": "markdown",
   "metadata": {},
   "source": []
  },
  {
   "cell_type": "markdown",
   "metadata": {},
   "source": [
    "#### 1.Основы GNS3. Введение\n",
    "#### 2.Основы GNS3. Установка на Windows\n",
    "#### 3.Основы GNS3. Установка на Linux\n",
    "#### 4.Основы GNS3. Базовая настройка. Добавляем образы Cisco\n",
    "#### 5.Основы GNS3. Простейшая сеть\n",
    "#### 6.Основы GNS3. Добавляем хост в сеть. Virtual PC Simulator\n",
    "#### 7.Основы GNS3. Коммутатор в GNS3\n",
    "#### 8.Основы GNS3. L3 коммутатор (Router+EtherSwitch module)\n",
    "#### 9.Основы GNS3. Добавляем хост VirtualBox\n",
    "#### 10.Основы GNS3. Добавляем хост VMware Workstation\n",
    "#### 11.Основы GNS3. Добавляем свой компьютер в сеть GNS3\n",
    "#### 12.Основы GNS3. Подключение GNS3 к реальной сети\n",
    "#### 13.Основы GNS3. Cisco ASA + ASDM\n",
    "#### 14.Основы GNS3. Wireshark\n",
    "#### 15.Основы GNS. Заключение"
   ]
  },
  {
   "cell_type": "markdown",
   "metadata": {},
   "source": [
    "#### 1.Основы GNS3. Введение\n",
    "#### 2.Основы GNS3. Установка на Windows\n",
    "#### 3.Основы GNS3. Установка на Linux\n",
    "#### 4.Основы GNS3. Базовая настройка. Добавляем образы Cisco\n",
    "#### 5.Основы GNS3. Простейшая сеть\n",
    "#### 6.Основы GNS3. Добавляем хост в сеть. Virtual PC Simulator\n",
    "#### 7.Основы GNS3. Коммутатор в GNS3\n",
    "#### 8.Основы GNS3. L3 коммутатор (Router+EtherSwitch module)\n",
    "#### 9.Основы GNS3. Добавляем хост VirtualBox\n",
    "#### 10.Основы GNS3. Добавляем хост VMware Workstation\n",
    "#### 11.Основы GNS3. Добавляем свой компьютер в сеть GNS3\n",
    "#### 12.Основы GNS3. Подключение GNS3 к реальной сети\n",
    "#### 13.Основы GNS3. Cisco ASA + ASDM\n",
    "#### 14.Основы GNS3. Wireshark\n",
    "#### 15.Основы GNS. Заключение"
   ]
  }
 ],
 "metadata": {
  "kernelspec": {
   "display_name": "Python 3",
   "language": "python",
   "name": "python3"
  },
  "language_info": {
   "codemirror_mode": {
    "name": "ipython",
    "version": 3
   },
   "file_extension": ".py",
   "mimetype": "text/x-python",
   "name": "python",
   "nbconvert_exporter": "python",
   "pygments_lexer": "ipython3",
   "version": "3.6.6"
  }
 },
 "nbformat": 4,
 "nbformat_minor": 2
}
