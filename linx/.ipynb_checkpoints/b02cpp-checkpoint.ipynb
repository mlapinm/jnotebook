{
 "cells": [
  {
   "cell_type": "markdown",
   "metadata": {},
   "source": [
    "[Learn C++](https://www.codecademy.com/learn/learn-c-plus-plus)  "
   ]
  },
  {
   "cell_type": "markdown",
   "metadata": {},
   "source": [
    "#### Hello World!\n",
    "```\n",
    "#include <iostream>\n",
    "\n",
    "int main() {\n",
    "  \n",
    "  std::cout << \"Hello World!\\n\";\n",
    "\n",
    "}```"
   ]
  },
  {
   "cell_type": "markdown",
   "metadata": {},
   "source": [
    "#### Output"
   ]
  },
  {
   "cell_type": "markdown",
   "metadata": {},
   "source": [
    "#### Pattern\n",
    "```#include <iostream>\n",
    "int main() \n",
    "{\n",
    "std::cout << \"       1\\n\";\n",
    "std::cout << \"     2 3\\n\";\n",
    "std::cout << \"   4 5 6\\n\";\n",
    "std::cout << \"7 8 9 10\\n\";\n",
    "}\n",
    "```"
   ]
  },
  {
   "cell_type": "markdown",
   "metadata": {},
   "source": [
    "#### Code → Save → Compile → Execute"
   ]
  },
  {
   "cell_type": "markdown",
   "metadata": {},
   "source": [
    "#### Compile and Execute"
   ]
  },
  {
   "cell_type": "markdown",
   "metadata": {},
   "source": [
    "#### Compile and Execute (Naming Executables)\n",
    "g++ hello.cpp -o hello"
   ]
  },
  {
   "cell_type": "markdown",
   "metadata": {},
   "source": [
    "### Introduction to Variables"
   ]
  },
  {
   "cell_type": "markdown",
   "metadata": {},
   "source": [
    "#### Step 1: Declare a Variable"
   ]
  },
  {
   "cell_type": "markdown",
   "metadata": {},
   "source": [
    "#### Step 1: Declare a Variable"
   ]
  },
  {
   "cell_type": "markdown",
   "metadata": {},
   "source": [
    "#### Chaining"
   ]
  },
  {
   "cell_type": "markdown",
   "metadata": {},
   "source": [
    "```\n",
    "#include <iostream>\n",
    "\n",
    "int main() {\n",
    "  \n",
    "  int score = 0;\n",
    "  \n",
    "  // Output\n",
    "std::cout<<\"Player score:\"<<score<<\"\\n\";  \n",
    "   \n",
    "}```"
   ]
  },
  {
   "cell_type": "markdown",
   "metadata": {},
   "source": [
    "#### User Input"
   ]
  },
  {
   "cell_type": "markdown",
   "metadata": {},
   "source": [
    "```\n",
    "#include <iostream>\n",
    "\n",
    "int main() {\n",
    "  \n",
    "  int tip = 0;\n",
    "  \n",
    "  std::cout << \"Enter tip amount: \";\n",
    "  std::cin >> tip;\n",
    "  std::cout << \"You paid \" <<tip <<\" dollars.\\n\";\n",
    "```"
   ]
  },
  {
   "cell_type": "markdown",
   "metadata": {},
   "source": [
    "#### Challenge: Temperature (Part 1)"
   ]
  },
  {
   "cell_type": "markdown",
   "metadata": {},
   "source": [
    "```\n",
    "#include <iostream>\n",
    "\n",
    "int main() {\n",
    " double tempf = 100;\n",
    " double tempc = (tempf-32)/1.8;\n",
    "std::cout<<\"The temp is \"<<tempc<<\" degrees Celsius.\\n\";\n",
    "}```"
   ]
  },
  {
   "cell_type": "markdown",
   "metadata": {},
   "source": [
    "#### Challenge: Temperature (Part 2)"
   ]
  },
  {
   "cell_type": "markdown",
   "metadata": {},
   "source": [
    "```\n",
    "#include <iostream>\n",
    "\n",
    "int main() {\n",
    "  \n",
    "  double tempf = 83;\n",
    "  double tempc;\n",
    "  \n",
    "  // Ask the user\n",
    "  std::cout<<\"Enter the temperature in Fahrenheit: \";\n",
    "  std::cin>>tempf;\n",
    "  \n",
    "  \n",
    "  tempc = (tempf - 32) / 1.8;\n",
    "  \n",
    "  std::cout << \"The temp is \" << tempc << \" degrees Celsius.\\n\";\n",
    "  \n",
    "}```"
   ]
  },
  {
   "cell_type": "markdown",
   "metadata": {},
   "source": [
    "#### "
   ]
  },
  {
   "cell_type": "markdown",
   "metadata": {},
   "source": [
    "#### "
   ]
  },
  {
   "cell_type": "markdown",
   "metadata": {},
   "source": [
    "#### "
   ]
  },
  {
   "cell_type": "markdown",
   "metadata": {},
   "source": [
    "#### "
   ]
  },
  {
   "cell_type": "markdown",
   "metadata": {},
   "source": [
    "#### "
   ]
  },
  {
   "cell_type": "markdown",
   "metadata": {},
   "source": []
  },
  {
   "cell_type": "markdown",
   "metadata": {},
   "source": [
    "10.02 7-\n",
    "12.02 23"
   ]
  },
  {
   "cell_type": "code",
   "execution_count": 15,
   "metadata": {},
   "outputs": [
    {
     "name": "stdout",
     "output_type": "stream",
     "text": [
      "['a', 'b', 'c', 'd', 'e', 'f', 'g', 'h', 'i', 'j', 'k', 'l', 'm', 'n', 'o', 'p', 'q', 'r', 's', 't', 'u', 'v', 'w', 'x', 'y']\n"
     ]
    }
   ],
   "source": [
    "l=[chr(i) for i in range(ord('a'),ord('z')) ]\n",
    "print(l)\n"
   ]
  },
  {
   "cell_type": "markdown",
   "metadata": {},
   "source": [
    "[]()  \n",
    "[]()  \n",
    "[]()  \n",
    "[]()  \n",
    "[]()  \n",
    "```\n",
    "\n",
    "```"
   ]
  }
 ],
 "metadata": {
  "kernelspec": {
   "display_name": "Python 3",
   "language": "python",
   "name": "python3"
  },
  "language_info": {
   "codemirror_mode": {
    "name": "ipython",
    "version": 3
   },
   "file_extension": ".py",
   "mimetype": "text/x-python",
   "name": "python",
   "nbconvert_exporter": "python",
   "pygments_lexer": "ipython3",
   "version": "3.7.4"
  }
 },
 "nbformat": 4,
 "nbformat_minor": 2
}
