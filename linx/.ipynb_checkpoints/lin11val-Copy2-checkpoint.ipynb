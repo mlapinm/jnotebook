{
 "cells": [
  {
   "cell_type": "markdown",
   "metadata": {},
   "source": [
    "##### Методические материалы Лохтурова Вячеслава\n",
    "##### Инструменты пользователя\n",
    "https://wikival.bmstu.ru/doku.php  \n",
    "[Работа в командной строке UNIX](https://wikival.bmstu.ru/doku.php?id=%D1%80%D0%B0%D0%B1%D0%BE%D1%82%D0%B0_%D0%B2_%D0%BA%D0%BE%D0%BC%D0%B0%D0%BD%D0%B4%D0%BD%D0%BE%D0%B9_%D1%81%D1%82%D1%80%D0%BE%D0%BA%D0%B5_unix)  "
   ]
  },
  {
   "cell_type": "markdown",
   "metadata": {},
   "source": [
    "[cat](#cat), [cp](#cp), [ed](#ed), [find](#find), [tail](#tail), [mkdir](#mkdir), [mkfs](#mkfs), [mount](#mount), [umount](#umount), [mv](#mv), [rm](#rm), [rmdir](#rmdir), [wc](#wc), [who](#who), [df](#df), [du](#du), [less](#less), [cut](#cut), [tr](#tr), [sort](#sort), [grep](#grep), [ps](#ps), [](#), [env](#env), [locale](#locale), [](#), [](#), [](#), [](#), [](#), [](#), [](#), [](#),   \n",
    "\n",
    "``"
   ]
  },
  {
   "cell_type": "markdown",
   "metadata": {},
   "source": [
    "avidemux  \n",
    "[Как подключить USB или SATA жесткий диск к Raspberry Pi 3](https://myraspberry.ru/kak-podklyuchit-usb-ili-sata-zhestkij-disk-k-raspberry-pi-3.html)  \n",
    "[Error: no display specified](https://unixforum.org/viewtopic.php?t=122849)  \n",
    "[SSH для простых смертных: настройка и использование SSH в Linux](http://mydebianblog.blogspot.com/2006/12/ssh.html)  \n",
    "https://winscp.net/download/WinSCP-5.15.4-Setup.exe  \n",
    "Thunderbird — это бесплатная почтовая программа  \n",
    "fetch - получить  \n",
    "vim sendmail fetchmail mutt \n",
    "\n",
    "\n",
    "Space Travel - игра для UNIX  "
   ]
  },
  {
   "cell_type": "markdown",
   "metadata": {},
   "source": [
    "##### Подключение к уже установленной и настроенной системе\n",
    "putty  \n",
    "winscp  \n",
    "xdm  \n",
    "putty X11 tunnel  \n",
    "//сколько подключений - 2(mlapin,root)  \n",
    "who | wc -l  \n",
    "\n"
   ]
  },
  {
   "cell_type": "markdown",
   "metadata": {},
   "source": [
    "  "
   ]
  },
  {
   "cell_type": "markdown",
   "metadata": {},
   "source": [
    "##### Принципы работы в системе\n",
    "##### Структура команд UNIX  \n",
    "`<команда> <ключи> <аргументы> `\n",
    "команда - что делать  \n",
    "ключи - как делать  \n",
    "аргументы - с чем делать  "
   ]
  },
  {
   "cell_type": "markdown",
   "metadata": {},
   "source": [
    "ls  \n",
    "List  information  about  the FILEs  \n",
    "\n",
    "-a, --all\n",
    "              do not ignore entries starting with .  \n",
    " -l     use a long listing format  \n",
    "  "
   ]
  },
  {
   "cell_type": "markdown",
   "metadata": {},
   "source": [
    "\n",
    "```\n",
    "mlapin@server:~$ ls -al\n",
    "total 32\n",
    "drwxr-xr-x 3 mlapin mlapin 4096 Sep 28 15:46 .\n",
    "drwxr-xr-x 3 root   root   4096 Sep 26 10:15 ..\n",
    "-rw------- 1 mlapin mlapin  765 Sep 27 20:48 .bash_history\n",
    "-rw-r--r-- 1 mlapin mlapin  220 Sep 26 10:15 .bash_logout\n",
    "-rw-r--r-- 1 mlapin mlapin 3637 Sep 26 10:15 .bashrc\n",
    "drwx------ 2 mlapin mlapin 4096 Sep 26 10:19 .cache\n",
    "-rw-r--r-- 1 root   root      9 Sep 28 15:44 file1.txt\n",
    "-rw-r--r-- 1 mlapin mlapin  675 Sep 26 10:15 .profile\n",
    "\n",
    "```\n",
    "  "
   ]
  },
  {
   "cell_type": "markdown",
   "metadata": {},
   "source": [
    "```\n",
    "mlapin@server:~$ netstat -tupan\n",
    "(No info could be read for \"-p\": geteuid()=1000 but you should be root.)\n",
    "Active Internet connections (servers and established)\n",
    "Proto Recv-Q Send-Q Local Address           Foreign Address         State       PID/Program name\n",
    "tcp        0      0 0.0.0.0:22              0.0.0.0:*               LISTEN      -\n",
    "tcp        0      0 192.168.0.114:22        192.168.0.112:4422      ESTABLISHED -\n",
    "tcp        0      0 192.168.0.114:22        192.168.0.112:4438      ESTABLISHED -\n",
    "tcp        0      0 192.168.0.114:22        192.168.0.112:4968      ESTABLISHED -\n",
    "tcp        0     64 192.168.0.114:22        192.168.0.112:5081      ESTABLISHED -\n",
    "tcp6       0      0 :::22                   :::*                    LISTEN      -\n",
    "udp        0      0 0.0.0.0:32481           0.0.0.0:*                           -\n",
    "udp        0      0 0.0.0.0:68              0.0.0.0:*                           -\n",
    "udp6       0      0 :::53634                :::*                                -\n",
    "\n",
    "```\n",
    "  "
   ]
  },
  {
   "cell_type": "markdown",
   "metadata": {},
   "source": [
    "[Организация системы UNIX](https://wikival.bmstu.ru/doku.php?id=%D0%BE%D1%80%D0%B3%D0%B0%D0%BD%D0%B8%D0%B7%D0%B0%D1%86%D0%B8%D1%8F_%D1%81%D0%B8%D1%81%D1%82%D0%B5%D0%BC%D1%8B_unix)  \n",
    "##### Логическая организация системы\n",
    "Управление ядром и модулями в FreeBSD  \n",
    "Подключение звуковой карты  \n",
    "//Копирование файла *.ua в устройство колонки приводит к воспроизведению звука в колонках\n",
    "freebsd10# cp bird_1.au /dev/dsp0.0  \n",
    "AU - расширение файла для формата звукового файла, принадлежащего Sun, NeXT и DEC, и используется в UNIX. Формат файла AU также известен как farat Sparc-audio или u-law. Файлы AU содержат три части: аудиоданные и текст для заголовка (содержащий 24 байта) и блок аннотаций.\n",
    "  "
   ]
  },
  {
   "cell_type": "markdown",
   "metadata": {},
   "source": [
    "##### Структура файловой системы\n",
    "  * /home\n",
    "  * двоичные\n",
    "    * пользовательские программы (bin)\n",
    "    * системные/административные/сервисы (sbin, libexec)\n",
    "  * библиотечные (lib)\n",
    "  * конфигурационные (etc) \n",
    "  * скрипты (etc/rc.d etc/init.d)\n",
    "  * общие ресурсы (иконки, обои, шрифты, документация) (share)\n",
    "  * исходные тесты (src)  "
   ]
  },
  {
   "cell_type": "markdown",
   "metadata": {},
   "source": [
    "##### which\n",
    "для поиска исполняемых  \n",
    "root@server:/home/mlapin# which ls  \n",
    "/bin/ls  \n",
    "root@server:/home/mlapin# which poweroff  \n",
    "/sbin/poweroff  \n",
    "mlapin@server:~$ which vim  \n",
    "/usr/bin/vim  \n",
    "\n",
    "  "
   ]
  },
  {
   "cell_type": "markdown",
   "metadata": {},
   "source": [
    " Ed - line-oriented text editor  \n",
    "mlapin@server:~$ which ed  \n",
    "/bin/ed  \n",
    "vi = vim  \n",
    "  "
   ]
  },
  {
   "cell_type": "markdown",
   "metadata": {},
   "source": [
    "##### Лабораторные работы\n",
    "##### Команды для работы с файловой системой\n",
    "##### mkdir\n",
    "\n",
    "ls -a ~mlapin --- .   .bash_history  .bashrc  file1.txt  .viminfo ..  .bash_logout   .cache   .profile  \n",
    "echo /home/* --- /home/mlapin  \n",
    "echo /bin/??? --- /bin/cat /bin/dir /bin/pwd /bin/red /bin/sed /bin/tar  \n",
    "##### mkfs\n",
    "`mkfs` - build a Linux filesystem  \n",
    " "
   ]
  },
  {
   "cell_type": "markdown",
   "metadata": {},
   "source": [
    "```\n",
    "mlapin@server:~$ mkdir abc\n",
    "mlapin@server:~$ cd abc\n",
    "mlapin@server:~/abc$ touch pwd\n",
    "mlapin@server:~/abc$ ls\n",
    "pwd\n",
    "mlapin@server:~/abc$ *\n",
    "/home/mlapin/abc```\n",
    "  "
   ]
  },
  {
   "cell_type": "markdown",
   "metadata": {},
   "source": [
    "##### cd без аргументов - домашний каталог\n",
    "```\n",
    "mlapin@server:/etc/asterisk$ cd\n",
    "mlapin@server:~$ pwd\n",
    "/home/mlapin\n",
    "```\n",
    "  "
   ]
  },
  {
   "cell_type": "markdown",
   "metadata": {},
   "source": [
    "```\n",
    "$ cd ..\n",
    "$ cd\n",
    "$ cd -\n",
    "$ cd ~user1\n",
    "```  "
   ]
  },
  {
   "cell_type": "markdown",
   "metadata": {},
   "source": [
    "Создание файла - `touch`  \n",
    "Создание каталога - `mkdir`  \n",
    "###### mv\n",
    "Переместить файл - `mv`  "
   ]
  },
  {
   "cell_type": "markdown",
   "metadata": {},
   "source": [
    "##### rm  \n",
    "-r, -R, --recursive remove directories and their contents recursively  \n",
    "Удаление файла - `rm`  \n",
    "Удаление каталога -`rm -rfv dir1`  \n",
    "##### rmdir  \n",
    "`rmdir` - remove empty directories  \n",
    "  "
   ]
  },
  {
   "cell_type": "markdown",
   "metadata": {},
   "source": [
    "##### df\n",
    "##### df -h\n",
    "Disk usage File system  \n",
    "-h human K,M,G - единицы измерения  "
   ]
  },
  {
   "cell_type": "markdown",
   "metadata": {},
   "source": [
    "##### du\n",
    "#####  du -sh /usr/share/\n",
    "du - disk usage  \n",
    "-sh - summary human  \n",
    " du -sh /usr/share/* | sort -n  "
   ]
  },
  {
   "cell_type": "markdown",
   "metadata": {},
   "source": [
    "##### find\n",
    "##### find /usr/share -name index.html\n",
    "```\n",
    "mlapin@server:~$ find /usr/share -name index.html\n",
    "/usr/share/doc/python-xapian/index.html\n",
    "/usr/share/doc/python/python-policy.html/index.html\n",
    "/usr/share/doc/python-chardet/index.html\n",
    "/usr/share/doc/adduser/examples/adduser.local.conf.examples/skel.other/index.html\n",
    "/usr/share/doc/python-configobj/api/index.html\n",
    "/usr/share/doc/shared-mime-info/shared-mime-info-spec.html/index.html\n",
    "mlapin@server:~$\n",
    "\n",
    "``` "
   ]
  },
  {
   "cell_type": "markdown",
   "metadata": {},
   "source": [
    "//одинарные кавычки, чтобы не шел не подставлял значения  \n",
    " `find /usr/share/ -name '*.html'\n",
    " find ~backup/ -mtime +60 -delete`  \n",
    "//Удаляет файлы старше  2 мес.  "
   ]
  },
  {
   "cell_type": "markdown",
   "metadata": {},
   "source": [
    "##### wc\n",
    "` find /usr/share/ -name *.html | wc -l\n",
    "117\n",
    "wc -l` - число строк    \n",
    "##### cp\n",
    "'man cp' -  copy files and directories  \n"
   ]
  },
  {
   "cell_type": "markdown",
   "metadata": {},
   "source": [
    "##### mount\n",
    "##### umount\n",
    "mount /dev/sdb1 /mnt/  \n",
    "umount /dev/sdb1  "
   ]
  },
  {
   "cell_type": "markdown",
   "metadata": {},
   "source": [
    "#### Команды чтения содержимого файлов"
   ]
  },
  {
   "cell_type": "markdown",
   "metadata": {},
   "source": [
    "##### cat\n",
    "cat - concatenate files and print on the standard output \n",
    "```\n",
    "mlapin@server:~$ cat /etc/fstab\n",
    "# /etc/fstab: static file system information.\n",
    "#\n",
    "# Use 'blkid' to print the universally unique identifier for a\n",
    "# device; this may be used with UUID= as a more robust way to name devices\n",
    "# that works even if disks are added and removed. See fstab(5).\n",
    "#\n",
    "# <file system> <mount point>   <type>  <options>       <dump>  <pass>\n",
    "/dev/mapper/server--vg-root /               ext4    errors=remount-ro 0       1\n",
    "# /boot was on /dev/sda1 during installation\n",
    "UUID=6e4f6749-e484-4258-b2a3-708cf97b97e9 /boot           ext2    defaults        0       2\n",
    "/dev/mapper/server--vg-swap_1 none            swap    sw              0       0\n",
    "```"
   ]
  },
  {
   "cell_type": "markdown",
   "metadata": {},
   "source": [
    "`cat /etc/hostname` - server  "
   ]
  },
  {
   "cell_type": "markdown",
   "metadata": {},
   "source": []
  },
  {
   "cell_type": "markdown",
   "metadata": {},
   "source": [
    " ##### more\n",
    " more — file perusal filter for crt viewing  \n",
    " ##### less\n",
    " less - added options  \n",
    " ##### less passwd\n",
    "/mlapin - Поиск слова в файле  "
   ]
  },
  {
   "cell_type": "markdown",
   "metadata": {},
   "source": [
    "#####  tail \n",
    "- output the last part of files  \n",
    "`tail -n4 /var/log/auth.log\n",
    "tail -fn0 /var/log/auth.log\n",
    "`  \n",
    "-f --- follow (вывод в реальном времени)"
   ]
  },
  {
   "cell_type": "markdown",
   "metadata": {},
   "source": [
    "##### Сигналы\n",
    "`^z - (fg - обратно - не пользоваться)\n",
    "^c - завершение \n",
    "^d - завершение вывода`"
   ]
  },
  {
   "cell_type": "markdown",
   "metadata": {},
   "source": [
    "[Лаборатория линуксоида](https://younglinux.info/bash/ctrl-c)"
   ]
  },
  {
   "cell_type": "markdown",
   "metadata": {},
   "source": [
    "#### Текстовые редакторы ed, sed, vi, vim\n",
    "##### ed \n",
    "##### sed \n",
    "##### vi \n",
    "##### vim \n",
    "##### nano \n"
   ]
  },
  {
   "cell_type": "markdown",
   "metadata": {},
   "source": [
    "```\n",
    "vim file2.txt\n",
    "i - insert\n",
    "esc - выход из insert-а\n",
    ":wq - write, quit\n",
    ":q! - выйти без сохранения\n",
    "vimtutor\n",
    "\n",
    "```"
   ]
  },
  {
   "cell_type": "markdown",
   "metadata": {},
   "source": [
    "#### Команды фильтры\n",
    "##### cut\n",
    "cut — команда выборки отдельных полей из строк файла  \n",
    "`cut -d: -f1,7 /etc/passwd` - разделитель ':' первое и седьмое поле  "
   ]
  },
  {
   "cell_type": "markdown",
   "metadata": {},
   "source": [
    "##### tr\n",
    "`cat /etc/passwd | tr ':' ' '` - заменяет ':' на пробелы  "
   ]
  },
  {
   "cell_type": "markdown",
   "metadata": {},
   "source": [
    "##### sort\n",
    "-n - numeric sort  \n",
    "-r - reverce  \n",
    "-u -kN  "
   ]
  },
  {
   "cell_type": "markdown",
   "metadata": {},
   "source": [
    "##### grep\n",
    "```\n",
    "mlapin@server:~$ grep 'root' /etc/passwd\n",
    "root:x:0:0:root:/root:/bin/bash\n",
    "mlapin@server:~$ grep mlapin /etc/passwd\n",
    "mlapin:x:1000:1000:mlapin,,,:/home/mlapin:/bin/bash\n",
    "```"
   ]
  },
  {
   "cell_type": "markdown",
   "metadata": {},
   "source": []
  },
  {
   "cell_type": "markdown",
   "metadata": {},
   "source": [
    "##### Регулярные выражения\n",
    "##### Примеры\n",
    "//Выводить строчки, заканчивающиеся на bash\n",
    "grep 'bash$' /etc/passwd  \n",
    "```\n",
    "//-v --- маска наоборот, выводит только не с #\n",
    "root@server:~# grep -v '^#' /etc/ssh/ssh_config\n",
    "\n",
    "\n",
    "\n",
    "\n",
    "\n",
    "Host *\n",
    "    SendEnv LANG LC_*\n",
    "    HashKnownHosts yes\n",
    "    GSSAPIAuthentication yes\n",
    "// ... и исключить пустые строки\n",
    "^# - решетка в начале строки\n",
    "\\| - или\n",
    "^$ - начало и сразу конец - пустая строка\n",
    "mlapin@server:~$ grep -v '^#\\|^$' /etc/ssh/ssh_config\n",
    "Host *\n",
    "    SendEnv LANG LC_*\n",
    "    HashKnownHosts yes\n",
    "    GSSAPIAuthentication yes\n",
    "```\n"
   ]
  },
  {
   "cell_type": "markdown",
   "metadata": {},
   "source": []
  },
  {
   "cell_type": "markdown",
   "metadata": {},
   "source": [
    "##### Модуль 3. Процессы в UNIX\n",
    "Робачевский А. М.\n",
    "Операционная система UNIX"
   ]
  },
  {
   "cell_type": "markdown",
   "metadata": {},
   "source": [
    "##### ps\n",
    "```\n",
    "ps aux\n",
    "ps auxf\n",
    "ps auxw\n",
    "pstree\n",
    "top\n",
    "```"
   ]
  },
  {
   "cell_type": "markdown",
   "metadata": {},
   "source": [
    "##### Перенаправление потоков ввода/вывода\n",
    "```\n",
    "ps auxw > ps.txt\n",
    "ps aux | grep init\n",
    "cat < /etc/passwd > passwd2\n",
    "< /etc/passwd > passwd2 cat\n",
    "// Печатать в файл\n",
    "cat > file.txt\n",
    "```\n"
   ]
  },
  {
   "cell_type": "markdown",
   "metadata": {},
   "source": []
  },
  {
   "cell_type": "markdown",
   "metadata": {},
   "source": [
    "##### Файловые дескрипторы\n",
    "0 - ввод - клавиатура  \n",
    "1 - вывод - экран  \n",
    "2 - информационный канал, вывод ошибок   "
   ]
  },
  {
   "cell_type": "markdown",
   "metadata": {},
   "source": [
    "```\n",
    "\n",
    "ls /binn 2> ls.err > ls.txt\n",
    "```"
   ]
  },
  {
   "cell_type": "markdown",
   "metadata": {},
   "source": [
    "##### Переменные окружения\n",
    "##### Управление процессами через переменные окружения"
   ]
  },
  {
   "cell_type": "markdown",
   "metadata": {},
   "source": [
    "##### env\n",
    "##### locale\n",
    "```\n",
    "env\n",
    "\n",
    "locale -a\n",
    "en_US.utf8\n",
    "ru_RU.utf8\n",
    "LANG='ru_RU.utf8'\n",
    "LANG='en_US.utf8'\n",
    "mlapin@server:~$ echo $LANG\n",
    "ru_RU.utf8\n",
    "\n",
    "mlapin@server:~$ f=file.txt\n",
    "mlapin@server:~$ ls $f\n",
    "file.txt\n",
    "ls $f > /dev/null\n",
    "\n",
    "mlapin@server:~$ f=fil.txt\n",
    "mlapin@server:~$ ls $f  > /dev/null\n",
    "ls: невозможно получить доступ к 'fil.txt': Нет такого файла или каталога\n",
    "mlapin@server:~$ ls $f  > /dev/null 2> /dev/null\n",
    "mlapin@server:~$\n",
    "//&1 - дескриптор вывода 1(экран)\n",
    " ls $f  > /dev/null 2>&1\n",
    "mlapin@server:~$ ls $f  > /dev/null 2>&1\n",
    "//вывод кода возврата\n",
    "mlapin@server:~$ echo $?\n",
    "2\n",
    "\n",
    "//несуществующий ip\n",
    "mlapin@server:~$ ip2=2.2.2.2\n",
    "mlapin@server:~$ ping -c1 -w1 $ip2 >/dev/null 2>&1\n",
    "mlapin@server:~$ echo $?\n",
    "1\n",
    "\n",
    "\n",
    "\n",
    "date\n",
    "cal\n",
    "```"
   ]
  },
  {
   "cell_type": "markdown",
   "metadata": {},
   "source": [
    "##### Коды завершения\n"
   ]
  },
  {
   "cell_type": "markdown",
   "metadata": {},
   "source": [
    "```\n",
    "//если код завершения 0, сработает echo\n",
    "ping -c1 -w1 $ip2 >/dev/null 2>&1 && echo OK\n",
    "```"
   ]
  },
  {
   "cell_type": "markdown",
   "metadata": {},
   "source": [
    "##### Установка системы server\n",
    "##### cat /etc/hosts\n",
    "```\n",
    "127.0.0.1       localhost\n",
    "127.0.1.1       thishost\n",
    "192.168.1.104   server.mydomain.org server\n",
    "===========================\n",
    "192.168.1.1     rep\n",
    "```\n",
    "##### cat /etc/resolv.conf\n",
    "```\n",
    "search mydomain.org\n",
    "nameserver 192.168.1.1\n",
    "====================\n",
    "nameserver 127.0.0.53\n",
    "options edns0\n",
    "======\n",
    "op\n",
    "```\n",
    "##### cat /etc/hostname\n",
    "```\n",
    "server.mydomain.org\n",
    "```\n",
    "##### cat /etc/network/interfaces\n",
    "```\n",
    "iface enp0s3 inet static\n",
    "address 192.168.1.104\n",
    "netmask 255.255.255.0\n",
    "gateway 192.168.1.1\n",
    "dns-nameservers 192.168.1.1\n",
    "dns-search mydomain.org\n",
    "\n",
    "```\n",
    "##### init 6\n"
   ]
  },
  {
   "cell_type": "markdown",
   "metadata": {},
   "source": [
    "```\n",
    "root@server:~# nslookup 8.8.8.8\n",
    "8.8.8.8.in-addr.arpa    name = dns.google.\n",
    "root@server:~# nslookup 5.18.220.202\n",
    "202.220.18.5.in-addr.arpa       name = 5x18x220x202.static-business.iz.ertelecom.ru.\n",
    "```"
   ]
  },
  {
   "cell_type": "markdown",
   "metadata": {},
   "source": [
    "##### Программирование на Shell-е"
   ]
  },
  {
   "cell_type": "markdown",
   "metadata": {},
   "source": [
    "##### sh test.txt\n",
    "//Возвращает несуществующие ip-шники\n",
    "```\n",
    "vim test.txt\n",
    "mlapin@server:~$ cat test.txt\n",
    "for i in 101 102 103 104 105\n",
    "do\n",
    "ping -c1 -w1 192.168.1.$i >/dev/null 2>&1 || echo $i\n",
    "done\n",
    "mlapin@server:~$ sh test.txt\n",
    "103\n",
    "105\n",
    "\n",
    "```"
   ]
  },
  {
   "cell_type": "markdown",
   "metadata": {},
   "source": [
    "##### bash test2.txt\n",
    "```\n",
    "mlapin@server:~$ cat test2.txt\n",
    "for i in {100..110}\n",
    "do\n",
    "ping -c1 -w1 192.168.1.$i >/dev/null 2>&1 || echo $i\n",
    "done\n",
    "mlapin@server:~$ bash test2.txt\n",
    "100\n",
    "105\n",
    "106\n",
    "107\n",
    "108\n",
    "109\n",
    "110\n",
    "mlapin@server:~$\n",
    "\n",
    "```"
   ]
  },
  {
   "cell_type": "markdown",
   "metadata": {},
   "source": [
    "##### Windows\n",
    "##### netsc.bat\n",
    "```\n",
    "@ECHO OFF\n",
    "FOR /L %%X IN (100,1,105) DO (\n",
    "ping -n 1 -w 1 192.168.1.%%X |Find /I \"TTL=\"||ECHO %%X\n",
    ")\n",
    "```"
   ]
  },
  {
   "cell_type": "markdown",
   "metadata": {},
   "source": [
    "##### Управление ПО в Linux\n",
    "apt-get update  \n"
   ]
  },
  {
   "cell_type": "markdown",
   "metadata": {},
   "source": [
    "##### Сигналы\n"
   ]
  },
  {
   "cell_type": "markdown",
   "metadata": {},
   "source": [
    "```\n",
    "mlapin@server:~$ sudo kill -L\n",
    "[sudo] пароль для mlapin:\n",
    " 1 HUP      2 INT      3 QUIT     4 ILL      5 TRAP     6 ABRT     7 BUS\n",
    " 8 FPE      9 KILL    10 USR1    11 SEGV    12 USR2    13 PIPE    14 ALRM\n",
    "15 TERM    16 STKFLT  17 CHLD    18 CONT    19 STOP    20 TSTP    21 TTIN\n",
    "22 TTOU    23 URG     24 XCPU    25 XFSZ    26 VTALRM  27 PROF    28 WINCH\n",
    "29 POLL    30 PWR     31 SYS\n",
    "```"
   ]
  },
  {
   "cell_type": "markdown",
   "metadata": {},
   "source": [
    "15 TERM 2 INT"
   ]
  },
  {
   "cell_type": "markdown",
   "metadata": {},
   "source": [
    "##### who\n",
    "```\n",
    "root@server:~# who\n",
    "root     pts/0        2019-10-01 13:26 (192.168.1.101)\n",
    "mlapin   pts/2        2019-10-01 13:57 (192.168.1.101)\n",
    "root@server:~# ps ax | grep ssh\n",
    "  851 ?        Ss     0:00 /usr/sbin/sshd -D\n",
    " 1888 ?        Ss     0:00 sshd: root@pts/0\n",
    " 3738 ?        Ss     0:00 sshd: mlapin [priv]\n",
    " 4562 ?        S      0:00 sshd: mlapin@pts/2\n",
    " 5053 pts/0    S+     0:00 grep --color=auto ssh\n",
    "root@server:~# kill -STOP 4562\n",
    "root@server:~# kill -CONT 4562\n",
    "```"
   ]
  },
  {
   "cell_type": "markdown",
   "metadata": {},
   "source": [
    "```\n",
    "root@server:~# ps ax | grep ast\n",
    "  375 ?        I<     0:00 [ib_mcast]\n",
    " 4858 ?        Ssl    0:09 /usr/sbin/asterisk -g -f -U asterisk\n",
    " 5078 pts/0    S+     0:00 grep --color=auto ast\n",
    "root@server:~# cat /etc/asterisk/sip.conf\n",
    "```"
   ]
  },
  {
   "cell_type": "markdown",
   "metadata": {},
   "source": [
    "```\n",
    "root@server:~# asterisk -x 'sip show peers'\n",
    "Name/username             Host                                    Dyn Forcerport Comedia    ACL Port     Status      Description\n",
    "0 sip peers [Monitored: 0 online, 0 offline Unmonitored: 0 online, 0 offline]\n",
    "root@server:~#\n",
    "```"
   ]
  },
  {
   "cell_type": "markdown",
   "metadata": {},
   "source": [
    "##### Настройка базового функционала IP PBX\n",
    "server# cat /etc/asterisk/sip.conf\n",
    "```\n",
    "[general]\n",
    ";udpbindaddr=0.0.0.0:5061\n",
    "transport=udp\n",
    "disallow=all\n",
    "allow=alaw\n",
    ";context=default\n",
    ";allowguest=no          ;Allow unknown access\n",
    ";alwaysauthreject=yes   ;Always auth rejects\n",
    ";autocreatepeer=no      ;AutoCreate Peer\n",
    ";localnet=192.168.X.0/255.255.255.0\n",
    ";;;externip=172.16.1.X\n",
    ";externaddr = 172.16.1.X\n",
    ";externaddr = 172.16.1.X:6050\n",
    ";defaultexpiry=60\n",
    "\n",
    "[401]\n",
    "secret=tpassword401\n",
    "type=friend\n",
    "host=dynamic\n",
    "\n",
    "[402]\n",
    "secret=tpassword402\n",
    "type=friend\n",
    "host=dynamic\n",
    ";allowsubscribe=no\n",
    ";setvar=MY-USER-ID=user2@corpX.un       ;in channel type=user \n",
    ";callerid=Petrov Petr Petrovitch<402>\n",
    ";cid_number=402\n",
    ";fullname=Petrov Petr Petrovitch\n",
    ";disallow=all\n",
    ";allow=gsm\n",
    ";canreinvite=no ;1.4\n",
    ";directmedia=no ;1.6\n",
    ";;;nat=yes\n",
    ";nat=force_rport,comedia\n",
    ";qualify=yes\n",
    ";call-limit=1\n",
    ";deny=0.0.0.0/0.0.0.0\n",
    ";permit=172.16.1.0/255.255.255.0\n",
    "\n",
    ";[user1]\n",
    ";secret=password1\n",
    ";type=friend\n",
    ";host=dynamic\n",
    "\n",
    ";[corpY]\n",
    ";type=peer\n",
    ";context=default\n",
    ";host=server.corpY.un\n",
    "```"
   ]
  },
  {
   "cell_type": "markdown",
   "metadata": {},
   "source": [
    "```\n",
    "root@server:~# ps aux | grep ast\n",
    "root       375  0.0  0.0      0     0 ?        I<   09:16   0:00 [ib_mcast]\n",
    "asterisk  4858  1.0  7.2 1756984 72900 ?       Ssl  13:57   0:20 /usr/sbin/asterisk -g -f -U asterisk\n",
    "root      5134  0.0  0.1  15652  1052 pts/0    S+   14:31   0:00 grep --color=auto ast\n",
    "root@server:~# kill -HUP 4858\n",
    "```"
   ]
  },
  {
   "cell_type": "markdown",
   "metadata": {},
   "source": [
    "##### kill -HUP 4858\n",
    "```\n",
    "root@server:~# asterisk -x 'sip show peers'\n",
    "Name/username             Host                                    Dyn Forcerport Comedia    ACL Port     Status      Description\n",
    "401                       (Unspecified)                            D  Auto (No)  No             0        Unmonitored\n",
    "402                       (Unspecified)                            D  Auto (No)  No             0        Unmonitored\n",
    "2 sip peers [Monitored: 0 online, 0 offline Unmonitored: 0 online, 2 offline]\n",
    "```"
   ]
  },
  {
   "cell_type": "markdown",
   "metadata": {},
   "source": [
    "##### service asterisk reload \n",
    "```\n",
    "root@server:~# service asterisk reload\n",
    "root@server:~# asterisk -x 'sip show peers'\n",
    "Name/username             Host                                    Dyn Forcerport Comedia    ACL Port     Status      Description\n",
    "401                       (Unspecified)                            D  Auto (No)  No             0        Unmonitored\n",
    "1 sip peers [Monitored: 0 online, 0 offline Unmonitored: 0 online, 1 offline]\n",
    "\n",
    "```"
   ]
  },
  {
   "cell_type": "markdown",
   "metadata": {},
   "source": [
    "##### asterisk -r ,  reload, sip reload,\n",
    "```\n",
    "root@server:~# asterisk -r\n",
    "Asterisk 13.18.3~dfsg-1ubuntu4, Copyright (C) 1999 - 2014, Digium, Inc. and others.\n",
    "Created by Mark Spencer <markster@digium.com>\n",
    "Asterisk comes with ABSOLUTELY NO WARRANTY; type 'core show warranty' for details.\n",
    "This is free software, with components licensed under the GNU General Public\n",
    "License version 2 and other licenses; you are welcome to redistribute it under\n",
    "certain conditions. Type 'core show license' for details.\n",
    "=========================================================================\n",
    "Connected to Asterisk 13.18.3~dfsg-1ubuntu4 currently running on server (pid = 4858)\n",
    "server*CLI> sip show peers\n",
    "Name/username             Host                                    Dyn Forcerport Comedia    ACL Port     Status      Description\n",
    "401                       (Unspecified)                            D  Auto (No)  No             0        Unmonitored\n",
    "1 sip peers [Monitored: 0 online, 0 offline Unmonitored: 0 online, 1 offline]\n",
    "server*CLI> reload\n",
    "server*CLI> sip show peers\n",
    "Name/username             Host                                    Dyn Forcerport Comedia    ACL Port     Status      Description\n",
    "401                       (Unspecified)                            D  Auto (No)  No             0        Unmonitored\n",
    "402                       (Unspecified)                            D  Auto (No)  No             0        Unmonitored\n",
    "2 sip peers [Monitored: 0 online, 0 offline Unmonitored: 0 online, 2 offline]\n",
    "```"
   ]
  },
  {
   "cell_type": "markdown",
   "metadata": {},
   "source": [
    "|oop                     |                  |\n",
    "|------------------------|:-----------------|\n",
    "|user / user@host        | 401              |\n",
    "|Password                | tpassword401     |\n",
    "|Domain / Outbound proxy | 192.168.1.104    |\n",
    "\n",
    "```\n",
    "\n",
    "```"
   ]
  },
  {
   "cell_type": "markdown",
   "metadata": {},
   "source": [
    "```\n",
    "server*CLI> sip show users\n",
    "Username                   Secret           Accountcode      Def.Context      ACL  Forcerport\n",
    "401                        tpassword401                      default          No   No\n",
    "402                        tpassword402                      default          No   No\n",
    "\n",
    "```"
   ]
  },
  {
   "cell_type": "markdown",
   "metadata": {},
   "source": [
    "##### Модуль 4. Система безопасности и права доступа\n",
    "```\n",
    "\n",
    "```"
   ]
  },
  {
   "cell_type": "markdown",
   "metadata": {},
   "source": [
    "**Пример [один][1], пример [два][2].**\n",
    "\n",
    "[1]: https://google.ru \"Гугл\" \n",
    "[2]: https://yandex.ru \"Яндекс\"\n",
    "\n"
   ]
  },
  {
   "cell_type": "markdown",
   "metadata": {},
   "source": [
    " <details>\n",
    "      <summary>Your header here! (Click to expand)</summary>\n",
    "-      Your content here...  <br/>\n",
    "-      (markup only where supported)    <br/>\n",
    "      more content here...    \n",
    "    </details>"
   ]
  },
  {
   "cell_type": "markdown",
   "metadata": {},
   "source": [
    "```\n",
    "\n",
    "```"
   ]
  },
  {
   "cell_type": "markdown",
   "metadata": {},
   "source": [
    "```\n",
    "root@server:~# ls -l /etc/asterisk/extensions.conf\n",
    "-rw-r----- 1 asterisk asterisk 31661 фев 28  2018 /etc/asterisk/extensions.conf\n",
    "root@server:~#\n",
    "```"
   ]
  },
  {
   "cell_type": "markdown",
   "metadata": {},
   "source": [
    "#### Система безопасности UNIX\n"
   ]
  },
  {
   "cell_type": "markdown",
   "metadata": {},
   "source": [
    "Процесс  \n",
    "PID - Process ID (идентификатор)  \n",
    "PPID - Parent Process ID  \n",
    "EUID - Effective User ID  \n",
    "EGID - Effective Group ID  \n"
   ]
  },
  {
   "cell_type": "markdown",
   "metadata": {},
   "source": [
    "файл  \n",
    "UID  asterisk\n",
    "GID  asterisk"
   ]
  },
  {
   "cell_type": "markdown",
   "metadata": {},
   "source": [
    "'''\n",
    "1 EUID = UID\n",
    "2 EUID !- UID\n",
    "  EGID  < GID\n",
    "3 Ничего не совпадает\n",
    "\n",
    "root@server:~# id asterisk\n",
    "uid=112(asterisk) gid=118(asterisk) группы=118(asterisk),20(dialout),29(audio)\n",
    "-rw-r-----    === Процесс работает от того же пользователя, кто и владелец файла. \n",
    "'''"
   ]
  },
  {
   "cell_type": "markdown",
   "metadata": {},
   "source": [
    "##### chown\n",
    "```\n",
    " chown - change file owner and group\n",
    "mlapin@server:~$ chown asterisk:asterisk /etc/asterisk/sip.conf\n",
    "chown: изменение владельца\n",
    "```"
   ]
  },
  {
   "cell_type": "markdown",
   "metadata": {},
   "source": [
    "##### useradd, chmod\n",
    "```\n",
    "создать пользователь с шел\n",
    "root@server:~# useradd -m -s /bin/bash student\n",
    "root@server:~# passwd student\n",
    "Введите новый пароль UNIX:\n",
    "Повторите ввод нового пароля UNIX:\n",
    "passwd: password updated successfully\n",
    "mlapin@server:~$ cat /etc/asterisk/sip.conf\n",
    "cat: /etc/asterisk/sip.conf: Отказано в доступе\n",
    "mlapin@server:~$ ls -l /etc/asterisk/sip.conf\n",
    "-rw-r----- 1 asterisk asterisk 928 окт  1 14:44 /etc/asterisk/sip.conf\n",
    "mlapin@server:~$ id\n",
    "uid=1000(mlapin) gid=1000(mlapin) группы=1000(mlapin),4(adm),24(cdrom),27(sudo),30(dip),46(plugdev),108(lxd),115(lpadmin),116(sambashare)\n",
    "root@server:~# chmod 644 /etc/asterisk/sip.conf\n",
    "root@server:~# ls -l /etc/asterisk/sip.conf\n",
    "-rw-r--r-- 1 asterisk asterisk 928 окт  1 14:44 /etc/asterisk/sip.conf\n",
    "\n",
    "```"
   ]
  },
  {
   "cell_type": "markdown",
   "metadata": {},
   "source": [
    "```\n",
    "usermod -G sudo student\n",
    "student$ sudo cat /etc/shadow\n",
    "\n",
    "```"
   ]
  },
  {
   "cell_type": "markdown",
   "metadata": {},
   "source": [
    "cat index.html"
   ]
  },
  {
   "cell_type": "markdown",
   "metadata": {},
   "source": [
    "```\n",
    "<!DOCTYPE html>\n",
    "<html lang=\"en\">\n",
    "<head>\n",
    "\t<meta charset=\"UTF-8\">\n",
    "\t<title>Document</title>\n",
    "</head>\n",
    "<body>\n",
    "<h3>Enter phone number</h3>\n",
    "<form action=\"example.php\">\n",
    "\t<input name name=phone>\n",
    "\t<input type=\"submit\">\n",
    "</form>\n",
    "</body>\n",
    "</html>\n",
    "```"
   ]
  },
  {
   "cell_type": "markdown",
   "metadata": {},
   "source": [
    "ex1.sh"
   ]
  },
  {
   "cell_type": "markdown",
   "metadata": {},
   "source": [
    "```\n",
    "#!/bin/sh\n",
    "echo -n \"Enter Name: \"\n",
    "read p\n",
    "echo Hello \"$p !!!\"\n",
    "```"
   ]
  },
  {
   "cell_type": "markdown",
   "metadata": {},
   "source": [
    "##### file /bin/ls\n",
    "```\n",
    "root@server:~# file /bin/ls\n",
    "/bin/ls: ELF 64-bit LSB  executable, x86-64, version 1 (SYSV), dynamically linked (uses shared libs), for GNU/Linux 2.6.24, BuildID[sha1]=8d0966ce81ec6609bbf4aa439c77138e2f48a471, stripped\n",
    "root@server:~# file ./ex1.sh\n",
    "./ex1.sh: ASCII text\n",
    "\n",
    "```"
   ]
  },
  {
   "cell_type": "markdown",
   "metadata": {},
   "source": [
    "```\n",
    "root@server:~# chmod 755 ex1.sh\n",
    "root@server:~# ls -l ex1.sh\n",
    "-rwxr-xr-x 1 root root 61 окт.   2 18:28 ex1.sh\n",
    "root@server:~# ./ex1.sh\n",
    "Enter Name: John\n",
    "Hello John !!!\n",
    "```\n",
    "##### chmod +x ex1.sh"
   ]
  },
  {
   "cell_type": "markdown",
   "metadata": {},
   "source": [
    "```\n",
    "mlapin@server:~$ test 7 -gt 20\n",
    "mlapin@server:~$ echo $?\n",
    "1\n",
    "mlapin@server:~$ test 7 -gt 2\n",
    "mlapin@server:~$ echo $?\n",
    "0\n",
    "\n",
    "```"
   ]
  },
  {
   "cell_type": "markdown",
   "metadata": {},
   "source": [
    "ex2.sh\n",
    "```\n",
    "#!/bin/sh\n",
    "\n",
    "i=1\n",
    "\n",
    "while [ $i -lt 20 ]\n",
    "do\n",
    "\n",
    "   echo -n $i ' '\n",
    "   i=$(($i+1))\n",
    "\n",
    "done\n",
    "echo '\\n'\n",
    "```"
   ]
  },
  {
   "cell_type": "markdown",
   "metadata": {},
   "source": [
    "##### Аутентификация с использованием ключей ssh\n",
    "[]()  \n",
    "[SSH SSO](https://www.youtube.com/watch?v=kXi1KXYy-NE&feature=youtu.be)  \n",
    "[Видео уроки](https://wikival.bmstu.ru/doku.php?id=%D0%B2%D0%B8%D0%B4%D0%B5%D0%BE_%D1%83%D1%80%D0%BE%D0%BA%D0%B8) \n",
    "id=видео_уроки\n",
    "```\n",
    "\n",
    "```"
   ]
  },
  {
   "cell_type": "markdown",
   "metadata": {},
   "source": [
    "##### Команда tar\n",
    "```\n",
    "tar -c -v -j -f /root/asterisk.tbz asterisk/\n",
    "tar -t -f asterisk.tbz\n",
    "root@server:~# tar -t -f asterisk.tbz | wc -l\n",
    "104\n",
    "tar -x -v -f asterisk.tbz\n",
    "acl.conf\n",
    "adsi.conf\n",
    "agents.conf\n",
    "alarmreceiver.conf\n",
    "alsa.conf\n",
    "amd.conf\n",
    "app_mysql.conf\n",
    "app_skel.conf\n",
    "asterisk.adsi\n",
    "asterisk.conf\n",
    "calendar.conf\n",
    "ccss.conf\n",
    "cdr_adaptive_odbc.conf\n",
    "cdr.conf\n",
    "cdr_custom.conf\n",
    "cdr_manager.conf\n",
    "cdr_mysql.conf\n",
    "cdr_odbc.conf\n",
    "cdr_pgsql.conf\n",
    "cdr_sqlite3_custom.conf\n",
    "cdr_syslog.conf\n",
    "cdr_tds.conf\n",
    "cel.conf\n",
    "cel_custom.conf\n",
    "cel_odbc.conf\n",
    "cel_pgsql.conf\n",
    "cel_sqlite3_custom.conf\n",
    "cel_tds.conf\n",
    "chan_dahdi.conf\n",
    "chan_mobile.conf\n",
    "cli_aliases.conf\n",
    "cli.conf\n",
    "cli_permissions.conf\n",
    "codecs.conf\n",
    "confbridge.conf\n",
    "config_test.conf\n",
    "console.conf\n",
    "dbsep.conf\n",
    "dnsmgr.conf\n",
    "dsp.conf\n",
    "dundi.conf\n",
    "enum.conf\n",
    "extconfig.conf\n",
    "extensions.ael\n",
    "extensions.conf\n",
    "extensions.lua\n",
    "extensions_minivm.conf\n",
    "features.conf\n",
    "festival.conf\n",
    "followme.conf\n",
    "func_odbc.conf\n",
    "gtalk.conf\n",
    "h323.conf\n",
    "http.conf\n",
    "iax.conf\n",
    "iaxprov.conf\n",
    "indications.conf\n",
    "jabber.conf\n",
    "jingle.conf\n",
    "logger.conf\n",
    "manager.conf\n",
    "manager.d\n",
    "meetme.conf\n",
    "mgcp.conf\n",
    "minivm.conf\n",
    "misdn.conf\n",
    "modules.conf\n",
    "motif.conf\n",
    "musiconhold.conf\n",
    "muted.conf\n",
    "ooh323.conf\n",
    "osp.conf\n",
    "oss.conf\n",
    "phone.conf\n",
    "phoneprov.conf\n",
    "queuerules.conf\n",
    "queues.conf\n",
    "res_config_mysql.conf\n",
    "res_config_sqlite3.conf\n",
    "res_config_sqlite.conf\n",
    "res_corosync.conf\n",
    "res_curl.conf\n",
    "res_fax.conf\n",
    "res_ldap.conf\n",
    "res_odbc.conf\n",
    "res_pgsql.conf\n",
    "res_pktccops.conf\n",
    "res_snmp.conf\n",
    "res_stun_monitor.conf\n",
    "rtp.conf\n",
    "say.conf\n",
    "sip.conf\n",
    "sip_notify.conf\n",
    "skinny.conf\n",
    "sla.conf\n",
    "smdi.conf\n",
    "telcordia-1.adsi\n",
    "udptl.conf\n",
    "unistim.conf\n",
    "users.conf\n",
    "voicemail.conf\n",
    "vpb.conf\n",
    "xmpp.conf\n",
    "```"
   ]
  },
  {
   "cell_type": "markdown",
   "metadata": {},
   "source": [
    "### Полезные ссылки. А дальше.\n",
    "```\n",
    "Linux (Ubuntu). Уровень 1. Основы администрирования и безопасности\n",
    "Linux (Ubuntu). Уровень 2. Использование в качестве серверов в Internet.\n",
    "Linux (Ubuntu). Уровень 2. Программирование в Linux на С.\n",
    "\n",
    "Asterisk - телефония в мире Unified Communications\n",
    "Asterisk. Использование телефонного оборудования и безопасность.\n",
    "\n",
    "Разработка драйверов устройств в Linux\n",
    "\n",
    "\n",
    "\n",
    "```"
   ]
  },
  {
   "cell_type": "markdown",
   "metadata": {},
   "source": [
    "#### Регулярные выражения\n",
    "[Регулярные выражения](https://wikival.bmstu.ru/doku.php?id=регулярные_выражения)   \n",
    "[Использование регулярных выражений в Linux/Unix](https://www.youtube.com/watch?v=BhbDsKetNn8&feature=youtu.be)  \n",
    "\n",
    "```\n",
    "root@gate:~# cat cat01.txt\n",
    "petrof ivan 234-56-78\n",
    "ivanof sidor 214-56-78\n",
    "root@gate:~# sed 's/\\(.*\\) .* \\(.*\\)/\\1 \\2/' cat01.txt\n",
    "petrof 234-56-78\n",
    "ivanof 214-56-78\n",
    "```\n",
    "sed 's/\\(.*:\\)/\\1/' t01.txt  \n",
    "sed -E 's/([[:alnum:]]+)[[:space:]]+[[:alnum:]]+[[:space:]]+([[:alnum:]]+)/\\1 \\2/' cat01.txt"
   ]
  },
  {
   "cell_type": "markdown",
   "metadata": {},
   "source": [
    "```\n",
    "s1=1:abcABC123ABCabc\n",
    "s2=11:abcABC123ABCabc\n",
    "#       =======\n",
    "echo `expr \"$s1\" : '^\\([0-9]\\{1,2\\}\\)'`       # 1\n",
    "echo `expr \"$s2\" : '^\\([0-9]\\{1,2\\}\\)'`       # 11\n",
    "echo `expr \"$s1\" : '\\(.......\\)'`             # 1:abcAB\n",
    "#\n",
    "```"
   ]
  },
  {
   "cell_type": "markdown",
   "metadata": {},
   "source": [
    "`echo '11:abcABC123ABCabc' | grep -o '^\\([0-9]\\{1,2\\}\\)'` - 11  "
   ]
  },
  {
   "cell_type": "markdown",
   "metadata": {},
   "source": [
    "`cat /etc/network/interfaces | grep -v '^$'` - без пустых строк    "
   ]
  },
  {
   "cell_type": "markdown",
   "metadata": {},
   "source": [
    "`cat /etc/network/interfaces | grep -n 'enp0s3'` - содержащие `enp0s3` и номера `11:`  "
   ]
  },
  {
   "cell_type": "markdown",
   "metadata": {},
   "source": [
    "```\n",
    "cat /etc/network/interfaces | grep -n 'enp0s3' | grep -o '^\\([0-9]\\{1,2\\}\\)'\n",
    "12\n",
    "13\n",
    "24\n",
    "```"
   ]
  },
  {
   "cell_type": "markdown",
   "metadata": {},
   "source": [
    "```\n",
    "cat /etc/network/interfaces | grep -n 'enp0s3' | grep -o '^\\([0-9]\\{1,2\\}\\)' | sed -n 1p\n",
    "12\n",
    "```"
   ]
  },
  {
   "cell_type": "markdown",
   "metadata": {},
   "source": [
    "`grep -A4 'enp0s3' /etc/network/interfaces` -   \n"
   ]
  },
  {
   "cell_type": "markdown",
   "metadata": {},
   "source": []
  },
  {
   "cell_type": "markdown",
   "metadata": {},
   "source": []
  },
  {
   "cell_type": "markdown",
   "metadata": {},
   "source": []
  }
 ],
 "metadata": {
  "kernelspec": {
   "display_name": "Python 3",
   "language": "python",
   "name": "python3"
  },
  "language_info": {
   "codemirror_mode": {
    "name": "ipython",
    "version": 3
   },
   "file_extension": ".py",
   "mimetype": "text/x-python",
   "name": "python",
   "nbconvert_exporter": "python",
   "pygments_lexer": "ipython3",
   "version": "3.6.8"
  },
  "widgets": {
   "application/vnd.jupyter.widget-state+json": {
    "state": {},
    "version_major": 2,
    "version_minor": 0
   }
  }
 },
 "nbformat": 4,
 "nbformat_minor": 4
}
