{
 "cells": [
  {
   "cell_type": "markdown",
   "metadata": {},
   "source": [
    "#### QT"
   ]
  },
  {
   "cell_type": "markdown",
   "metadata": {},
   "source": [
    "[Questions](#Questions)  \n",
    "[Qt Creator](#Qt-Creator)  \n",
    "[Установка МСВС VBox](#Установка-МСВС-VBox)  \n",
    "[Начальные установки](#Начальные-установки)  \n",
    "[Компиляция](#Компиляция)  \n",
    "[Русский](#Русский)  \n",
    "[Локализация(local)](#Локализация(local))  \n",
    "[Транслитерация](#Транслитерация)  \n",
    "[]()  \n",
    "[]()  \n",
    "[]()  \n",
    "[]()  \n"
   ]
  },
  {
   "cell_type": "markdown",
   "metadata": {},
   "source": [
    "#### Questions\n",
    "1. Сделать pro\n",
    "1. SeRe141.exe - не видится с наружи\n",
    "1. \n",
    "1. \n"
   ]
  },
  {
   "cell_type": "markdown",
   "metadata": {},
   "source": [
    "#### Qt Creator"
   ]
  },
  {
   "cell_type": "markdown",
   "metadata": {},
   "source": [
    "##### Закладки  \n",
    "- `Ctrl` `M` - Поставить  \n",
    "- `Ctrl` `.` , `Ctrl` `,` - Переход  "
   ]
  },
  {
   "cell_type": "markdown",
   "metadata": {},
   "source": [
    "#### Установка МСВС VBox\n",
    "- загрузчик ставить надо\n",
    "- \n",
    "- ssh root - work\n",
    "- qmake4 - is\n",
    "- \n",
    "- \n",
    "- \n"
   ]
  },
  {
   "cell_type": "markdown",
   "metadata": {},
   "source": [
    "#### Начальные установки\n",
    "- gccv4 - для выбора компилятора"
   ]
  },
  {
   "cell_type": "markdown",
   "metadata": {},
   "source": []
  },
  {
   "cell_type": "markdown",
   "metadata": {},
   "source": [
    "#### Компиляция\n",
    "[rm28qt](https://mlapinm.github.io/A02Nh/rm28qt.html)  "
   ]
  },
  {
   "cell_type": "markdown",
   "metadata": {},
   "source": [
    "#### Русский  \n",
    "[Поддержка русского языка в приложениях на Qt](http://easy-qt.blogspot.com/2012/11/qt.html)"
   ]
  },
  {
   "cell_type": "markdown",
   "metadata": {},
   "source": [
    "1. Отображение в виджете <- текста из листинга\n",
    "1. cp1251 - char -> отображение в виджете"
   ]
  },
  {
   "cell_type": "markdown",
   "metadata": {},
   "source": [
    "//Прописывается во всех случаях\n",
    "```\n",
    "    QTextCodec::setCodecForLocale(QTextCodec::codecForName(\"UTF-8\")); \n",
    "    QFont fnt = QApplication::font () ;\n",
    "    QString str;\n",
    "    str =fnt.family();\n",
    "    fnt.setFamily(\"verdana\");\n",
    "    QApplication::setFont (fnt) ;\n",
    "\n",
    "```"
   ]
  },
  {
   "cell_type": "markdown",
   "metadata": {},
   "source": [
    "##### Отображение в виджете <- текста из листинга\n",
    "//QTextCodec::setCodecForLocale(QTextCodec::codecForName(\"UTF-8\"));  \n",
    "QString sTitle = QString::fromUtf8(\"Заголовок\");"
   ]
  },
  {
   "cell_type": "markdown",
   "metadata": {},
   "source": [
    "##### cp1251 - char -> отображение в виджете\n",
    "абв\n",
    "```\n",
    "//QTextCodec *codecChar = QTextCodec::codecForName( \"cp1251\" );\n",
    "char c[] = {112,224,225,226,0};//112-'p'\n",
    "QString s=codecChar->toUnicode(c);\n",
    "ui->textEdit->append(s);\n",
    "```"
   ]
  },
  {
   "cell_type": "markdown",
   "metadata": {},
   "source": []
  },
  {
   "cell_type": "markdown",
   "metadata": {},
   "source": [
    "Для автоматического сохранения в UTF-8 всех новых файлов, содержащих символы, отличные от набора ASCII, необходимо включить опцию - Tools > Options > Environment > Documents > Save documents as Unicode when data cannot be saved in codepage"
   ]
  },
  {
   "cell_type": "markdown",
   "metadata": {},
   "source": [
    "не помогло, перешел на creator"
   ]
  },
  {
   "cell_type": "markdown",
   "metadata": {},
   "source": [
    "#### Локализация(local)"
   ]
  },
  {
   "cell_type": "markdown",
   "metadata": {},
   "source": [
    "#### Totorial Qt Creator - QTranslator"
   ]
  },
  {
   "cell_type": "markdown",
   "metadata": {},
   "source": []
  },
  {
   "cell_type": "markdown",
   "metadata": {},
   "source": [
    "```\n",
    "lupdate -pro Calculadora.pro -ts portugues.ts  \n",
    "found 13 source text(s) and 0 already exitsting  \n",
    "lupdate -pro Calculadora.pro -ts english.ts  \n",
    "found 13 source text(s)  \n",
    "Setting for portuques\n",
    "Source language  - Target language  \n",
    "lrelease portugues.ts  \n",
    "Project new resource file  \n",
    "traducciones.qrc  \n",
    "Prefix: Add files portugues.ts\n",
    "#include <QTranslator>  \n",
    "QApplication a\n",
    "QTranslator T;\n",
    "T.load(\":/portugues.qm\");\n",
    "a.installTranslator(&T)\n",
    "```"
   ]
  },
  {
   "cell_type": "markdown",
   "metadata": {},
   "source": [
    "```\n",
    "lupdate -pro a01prj.pro -ts a01prj.ts \n",
    "lupdate -pro diag.pro -ts diag.ts \n",
    "\n",
    "\n",
    "```"
   ]
  },
  {
   "cell_type": "markdown",
   "metadata": {},
   "source": [
    "[Локализация (перевод) программ на Qt](https://bravikov.wordpress.com/2016/11/02/%D0%BB%D0%BE%D0%BA%D0%B0%D0%BB%D0%B8%D0%B7%D0%B0%D1%86%D0%B8%D1%8F-%D0%BF%D1%80%D0%BE%D0%B3%D1%80%D0%B0%D0%BC%D0%BC-%D0%BD%D0%B0-qt/)  \n",
    "Linguist"
   ]
  },
  {
   "cell_type": "markdown",
   "metadata": {},
   "source": [
    "#### Транслитерация\n",
    "[\t\n",
    "Транслитерация [РЕШЕНО]](http://www.prog.org.ru/topic_9115_0.html)"
   ]
  },
  {
   "cell_type": "markdown",
   "metadata": {},
   "source": [
    "[]()  \n",
    "[]()  \n",
    "[]()  \n",
    "[]()  \n",
    "[]()  \n",
    "```\n",
    "\n",
    "```"
   ]
  }
 ],
 "metadata": {
  "kernelspec": {
   "display_name": "Python 3",
   "language": "python",
   "name": "python3"
  },
  "language_info": {
   "codemirror_mode": {
    "name": "ipython",
    "version": 3
   },
   "file_extension": ".py",
   "mimetype": "text/x-python",
   "name": "python",
   "nbconvert_exporter": "python",
   "pygments_lexer": "ipython3",
   "version": "3.7.4"
  }
 },
 "nbformat": 4,
 "nbformat_minor": 2
}
