{
 "cells": [
  {
   "cell_type": "markdown",
   "metadata": {},
   "source": [
    "##### Методические материалы Лохтурова Вячеслава\n",
    "##### Инструменты пользователя\n",
    "https://wikival.bmstu.ru/doku.php  \n",
    "[Работа в командной строке UNIX](https://wikival.bmstu.ru/doku.php?id=%D1%80%D0%B0%D0%B1%D0%BE%D1%82%D0%B0_%D0%B2_%D0%BA%D0%BE%D0%BC%D0%B0%D0%BD%D0%B4%D0%BD%D0%BE%D0%B9_%D1%81%D1%82%D1%80%D0%BE%D0%BA%D0%B5_unix)  "
   ]
  },
  {
   "cell_type": "markdown",
   "metadata": {},
   "source": [
    "avidemux  \n",
    "https://winscp.net/download/WinSCP-5.15.4-Setup.exe  \n",
    "Thunderbird — это бесплатная почтовая программа  \n",
    "fetch - получить  \n",
    "vim sendmail fetchmail mutt \n",
    "\n",
    "\n",
    "Space Travel - игра для UNIX  "
   ]
  },
  {
   "cell_type": "markdown",
   "metadata": {},
   "source": [
    "##### Подключение к уже установленной и настроенной системе\n",
    "putty  \n",
    "winscp  \n",
    "xdm  \n",
    "putty X11 tunnel  \n",
    "//сколько подключений - 2(mlapin,root)  \n",
    "who | wc -l  \n",
    "\n"
   ]
  },
  {
   "cell_type": "markdown",
   "metadata": {},
   "source": [
    "`cat, chdir, chmod, cp, ed, find, mail, mkdir, mkfs, mount, mv, rm, rmdir, wc, who.`\n",
    "  "
   ]
  },
  {
   "cell_type": "markdown",
   "metadata": {},
   "source": [
    "##### Принципы работы в системе\n",
    "##### Структура команд UNIX  \n",
    "`<команда> <ключи> <аргументы> `\n",
    "команда - что делать  \n",
    "ключи - как делать  \n",
    "аргументы - с чем делать  "
   ]
  },
  {
   "cell_type": "markdown",
   "metadata": {},
   "source": [
    "ls  \n",
    "List  information  about  the FILEs  \n",
    "\n",
    "-a, --all\n",
    "              do not ignore entries starting with .  \n",
    " -l     use a long listing format  \n",
    "  "
   ]
  },
  {
   "cell_type": "markdown",
   "metadata": {},
   "source": [
    "\n",
    "```\n",
    "mlapin@server:~$ ls -al\n",
    "total 32\n",
    "drwxr-xr-x 3 mlapin mlapin 4096 Sep 28 15:46 .\n",
    "drwxr-xr-x 3 root   root   4096 Sep 26 10:15 ..\n",
    "-rw------- 1 mlapin mlapin  765 Sep 27 20:48 .bash_history\n",
    "-rw-r--r-- 1 mlapin mlapin  220 Sep 26 10:15 .bash_logout\n",
    "-rw-r--r-- 1 mlapin mlapin 3637 Sep 26 10:15 .bashrc\n",
    "drwx------ 2 mlapin mlapin 4096 Sep 26 10:19 .cache\n",
    "-rw-r--r-- 1 root   root      9 Sep 28 15:44 file1.txt\n",
    "-rw-r--r-- 1 mlapin mlapin  675 Sep 26 10:15 .profile\n",
    "\n",
    "```\n",
    "  "
   ]
  },
  {
   "cell_type": "markdown",
   "metadata": {},
   "source": [
    "```\n",
    "mlapin@server:~$ netstat -tupan\n",
    "(No info could be read for \"-p\": geteuid()=1000 but you should be root.)\n",
    "Active Internet connections (servers and established)\n",
    "Proto Recv-Q Send-Q Local Address           Foreign Address         State       PID/Program name\n",
    "tcp        0      0 0.0.0.0:22              0.0.0.0:*               LISTEN      -\n",
    "tcp        0      0 192.168.0.114:22        192.168.0.112:4422      ESTABLISHED -\n",
    "tcp        0      0 192.168.0.114:22        192.168.0.112:4438      ESTABLISHED -\n",
    "tcp        0      0 192.168.0.114:22        192.168.0.112:4968      ESTABLISHED -\n",
    "tcp        0     64 192.168.0.114:22        192.168.0.112:5081      ESTABLISHED -\n",
    "tcp6       0      0 :::22                   :::*                    LISTEN      -\n",
    "udp        0      0 0.0.0.0:32481           0.0.0.0:*                           -\n",
    "udp        0      0 0.0.0.0:68              0.0.0.0:*                           -\n",
    "udp6       0      0 :::53634                :::*                                -\n",
    "\n",
    "```\n",
    "  "
   ]
  },
  {
   "cell_type": "markdown",
   "metadata": {},
   "source": [
    "[Организация системы UNIX](https://wikival.bmstu.ru/doku.php?id=%D0%BE%D1%80%D0%B3%D0%B0%D0%BD%D0%B8%D0%B7%D0%B0%D1%86%D0%B8%D1%8F_%D1%81%D0%B8%D1%81%D1%82%D0%B5%D0%BC%D1%8B_unix)  \n",
    "##### Логическая организация системы\n",
    "Управление ядром и модулями в FreeBSD  \n",
    "Подключение звуковой карты  \n",
    "//Копирование файла *.ua в устройство колонки приводит к воспроизведению звука в колонках\n",
    "freebsd10# cp bird_1.au /dev/dsp0.0  \n",
    "AU - расширение файла для формата звукового файла, принадлежащего Sun, NeXT и DEC, и используется в UNIX. Формат файла AU также известен как farat Sparc-audio или u-law. Файлы AU содержат три части: аудиоданные и текст для заголовка (содержащий 24 байта) и блок аннотаций.\n",
    "  "
   ]
  },
  {
   "cell_type": "markdown",
   "metadata": {},
   "source": [
    "##### Структура файловой системы\n",
    "  * /home\n",
    "  * двоичные\n",
    "    * пользовательские программы (bin)\n",
    "    * системные/административные/сервисы (sbin, libexec)\n",
    "  * библиотечные (lib)\n",
    "  * конфигурационные (etc) \n",
    "  * скрипты (etc/rc.d etc/init.d)\n",
    "  * общие ресурсы (иконки, обои, шрифты, документация) (share)\n",
    "  * исходные тесты (src)  "
   ]
  },
  {
   "cell_type": "markdown",
   "metadata": {},
   "source": [
    "##### which\n",
    "root@server:/home/mlapin# which ls  \n",
    "/bin/ls  \n",
    "root@server:/home/mlapin# which poweroff  \n",
    "/sbin/poweroff  \n",
    "mlapin@server:~$ which vim  \n",
    "/usr/bin/vim  \n",
    "\n",
    "  "
   ]
  },
  {
   "cell_type": "markdown",
   "metadata": {},
   "source": [
    " Ed - line-oriented text editor  \n",
    "mlapin@server:~$ which ed  \n",
    "/bin/ed  \n",
    "vi = vim  \n",
    "  "
   ]
  },
  {
   "cell_type": "markdown",
   "metadata": {},
   "source": [
    "##### Лабораторные работы\n",
    "##### Команды для работы с файловой системой\n",
    "ls -a ~mlapin --- .   .bash_history  .bashrc  file1.txt  .viminfo ..  .bash_logout   .cache   .profile  \n",
    "echo /home/* --- /home/mlapin  \n",
    "echo /bin/??? --- /bin/cat /bin/dir /bin/pwd /bin/red /bin/sed /bin/tar   \n",
    " "
   ]
  },
  {
   "cell_type": "markdown",
   "metadata": {},
   "source": [
    "```\n",
    "mlapin@server:~$ mkdir abc\n",
    "mlapin@server:~$ cd abc\n",
    "mlapin@server:~/abc$ touch pwd\n",
    "mlapin@server:~/abc$ ls\n",
    "pwd\n",
    "mlapin@server:~/abc$ *\n",
    "/home/mlapin/abc```\n",
    "  "
   ]
  },
  {
   "cell_type": "markdown",
   "metadata": {},
   "source": [
    "##### cd без аргументов - домашний каталог\n",
    "```\n",
    "mlapin@server:/etc/asterisk$ cd\n",
    "mlapin@server:~$ pwd\n",
    "/home/mlapin\n",
    "```\n",
    "  "
   ]
  },
  {
   "cell_type": "markdown",
   "metadata": {},
   "source": [
    "```\n",
    "$ cd ..\n",
    "$ cd\n",
    "$ cd -\n",
    "$ cd ~user1\n",
    "```  "
   ]
  },
  {
   "cell_type": "markdown",
   "metadata": {},
   "source": [
    "Создание файла - `touch`  \n",
    "Создание каталога - `mkdir`  \n",
    "Удаление файла - `rm`  \n",
    "Удаление каталога -`rmdir`"
   ]
  },
  {
   "cell_type": "markdown",
   "metadata": {},
   "source": [
    "\n",
    "  "
   ]
  },
  {
   "cell_type": "markdown",
   "metadata": {},
   "source": [
    "\n",
    "  "
   ]
  },
  {
   "cell_type": "markdown",
   "metadata": {},
   "source": [
    "\n",
    "  "
   ]
  },
  {
   "cell_type": "markdown",
   "metadata": {},
   "source": [
    "\n",
    "  "
   ]
  },
  {
   "cell_type": "markdown",
   "metadata": {},
   "source": [
    "\n",
    "  "
   ]
  }
 ],
 "metadata": {
  "kernelspec": {
   "display_name": "Python 3",
   "language": "python",
   "name": "python3"
  },
  "language_info": {
   "codemirror_mode": {
    "name": "ipython",
    "version": 3
   },
   "file_extension": ".py",
   "mimetype": "text/x-python",
   "name": "python",
   "nbconvert_exporter": "python",
   "pygments_lexer": "ipython3",
   "version": "3.6.8"
  }
 },
 "nbformat": 4,
 "nbformat_minor": 2
}
