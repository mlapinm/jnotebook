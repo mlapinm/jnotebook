{
 "cells": [
  {
   "cell_type": "markdown",
   "metadata": {},
   "source": [
    "#### PHP. Уровень 1 Основы PHP\n",
    "##### Как PHP обрабатывает файл"
   ]
  },
  {
   "cell_type": "code",
   "execution_count": null,
   "metadata": {},
   "outputs": [],
   "source": []
  },
  {
   "cell_type": "code",
   "execution_count": null,
   "metadata": {},
   "outputs": [],
   "source": [
    "import lib01\n",
    "s = '''\\\n",
    "<p>Это будет проигнорировано PHP и отображено браузером.</p>\n",
    "<?php echo 'Аэтобудетобработано.';?>\n",
    "<p>Это тоже будет проигнорировано PHP и отображено браузером.</p>\n",
    "<?php\n",
    "echo\"Hello world\";\n",
    "//... ещекод\n",
    "echo\"Последнеевыражение\";\n",
    "//СкриптзаканчиваетсятутбеззакрывающеготегаPHP\n",
    "?>\n",
    "'''\n",
    "lib01.writeHTML('index2.php', s)\n",
    "print('ok')"
   ]
  },
  {
   "cell_type": "markdown",
   "metadata": {},
   "source": [
    "[http://localhost:8000/index2.php](http://localhost:8000/index2.php)"
   ]
  },
  {
   "cell_type": "markdown",
   "metadata": {},
   "source": [
    "##### PHP тэги\n",
    "```\n",
    "<? echo('abcd') ?>\n",
    "```\n",
    "##### Комментарии\n",
    "```\n",
    "<? \n",
    "//echo('abcd') \n",
    "/***********/\n",
    "# Это комментарий в стиле оболочки Unix\n",
    "?>\n",
    "```\n",
    "##### Особенности PHP\n",
    "```\n",
    "<?\n",
    "echo\n",
    "('abcd') \n",
    "?>\n",
    "```\n",
    "##### Вывод данных"
   ]
  },
  {
   "cell_type": "code",
   "execution_count": 12,
   "metadata": {},
   "outputs": [
    {
     "name": "stdout",
     "output_type": "stream",
     "text": [
      "ok\n"
     ]
    }
   ],
   "source": [
    "import lib01\n",
    "s = '''\\\n",
    "<?php\n",
    "error_reporting(-1);\n",
    "header('Content-Type: text/html; charset=utf-8');\n",
    "date_default_timezone_set('Europe/Moscow');\n",
    "echo \"Привет мир!\";\n",
    "echo \"<br>\";\n",
    "print \"Привет мир!\";\n",
    "//Некоторые предпочитают передачу нескольких аргументов\n",
    "echo 'Эта ', 'строка ', 'была ', 'создана ', 'несколькими параметрами.';\n",
    "//Вывод результата функции\n",
    "echo strftime('%d-%B-%Y, %A');'''\n",
    "lib01.writeFile('index2.php', s)\n",
    "print('ok')"
   ]
  },
  {
   "cell_type": "markdown",
   "metadata": {},
   "source": [
    "[http://localhost:8000/index2.php](http://localhost:8000/index2.php)"
   ]
  },
  {
   "cell_type": "code",
   "execution_count": null,
   "metadata": {},
   "outputs": [],
   "source": [
    "import lib01\n",
    "s = '''\\\n",
    "'''\n",
    "lib01.writeHTML('index2.php', s)\n",
    "print('ok')"
   ]
  },
  {
   "cell_type": "markdown",
   "metadata": {},
   "source": [
    "[http://localhost:8000/index2.php](http://localhost:8000/index2.php)"
   ]
  },
  {
   "cell_type": "markdown",
   "metadata": {},
   "source": [
    "##### Вывод данных\n",
    "##### Содержание лабораторной работы 2.1\n",
    "##### Вывод данных Упражнение 1: Вывод текущей даты"
   ]
  },
  {
   "cell_type": "code",
   "execution_count": null,
   "metadata": {},
   "outputs": [],
   "source": []
  },
  {
   "cell_type": "code",
   "execution_count": 14,
   "metadata": {},
   "outputs": [
    {
     "name": "stdout",
     "output_type": "stream",
     "text": [
      "ok\n"
     ]
    }
   ],
   "source": [
    "import lib01\n",
    "s = '''\\\n",
    "<blockquote> \n",
    "<? date_default_timezone_set('Europe/Moscow');\n",
    " ?>\n",
    "<?= strftime('Сегодня %d-%m-%Y'); ?> \n",
    "</blockquote>\n",
    "<h3>Зачем мы ходим в школу?</h3>\n",
    "'''\n",
    "lib01.writeHTML('index2.php', s)\n",
    "print('ok')"
   ]
  },
  {
   "cell_type": "markdown",
   "metadata": {},
   "source": [
    "[http://localhost:8000/index2.php](http://localhost:8000/index2.php)"
   ]
  },
  {
   "cell_type": "markdown",
   "metadata": {},
   "source": [
    "##### Переменные"
   ]
  },
  {
   "cell_type": "code",
   "execution_count": 24,
   "metadata": {},
   "outputs": [
    {
     "name": "stdout",
     "output_type": "stream",
     "text": [
      "ok\n"
     ]
    }
   ],
   "source": [
    "import lib01\n",
    "s = '''\\\n",
    "<?\n",
    "// Присвоим переменной $x значение 10\n",
    "$x = 10;\n",
    "// Добавим к значению в переменной $x значение 15\n",
    "$x = $x + 15;\n",
    "// Выведем значение переменной $x\n",
    "echo $x;\n",
    "// Удалим переменную $x\n",
    "unset($x);\n",
    "// Вывод значения переменной\n",
    "$name = \"Вася\";\n",
    "?>\n",
    "<h1>Привет <?php echo $name ?></h1>\n",
    "<?\n",
    "// Что и\n",
    "?>\n",
    "<h1>Привет <?= $name ?></h1>\n",
    "<?\n",
    "// Преобразование кодировок\n",
    "echo iconv(\"UTF-8\", \"UTF-8\", $name);\n",
    "//windows-1251\n",
    "//Использование переменных\n",
    "?>\n",
    "'''\n",
    "lib01.writeHTML('index2.php', s)\n",
    "print('ok')"
   ]
  },
  {
   "cell_type": "markdown",
   "metadata": {},
   "source": [
    "##### Использование переменных\n",
    "##### Константы\n",
    "```\n",
    "define(\"USER_NAME\", \"Вася\");\n",
    "echo USER_NAME; // выводит\"Вася\"\n",
    "define(\"ONE_HUNDRED\", 100);\n",
    "define(\"ONE_HUNDRED_TEN\", ONE_HUNDRED_TEN + 10);\n",
    "const TWO_HUNDRED = 200;// PHP 5.3\n",
    "const TWO_HUNDRED_TEN = TWO_HUNDRED + 10;//```"
   ]
  },
  {
   "cell_type": "markdown",
   "metadata": {},
   "source": [
    "##### Содержание лабораторной работы 2.2\n",
    "##### Использование переменных Упражнение 1: Вывод текущей даты используя переменные"
   ]
  },
  {
   "cell_type": "code",
   "execution_count": 29,
   "metadata": {},
   "outputs": [
    {
     "name": "stdout",
     "output_type": "stream",
     "text": [
      "ok\n"
     ]
    }
   ],
   "source": [
    "import lib01\n",
    "s = '''\\\n",
    "<? date_default_timezone_set('Europe/Moscow');\n",
    " ?>\n",
    "<? // Установка локали и выбор значений даты \n",
    "setlocale(LC_ALL, \"russian\"); \n",
    "$day = strftime('%d'); \n",
    "$mon1 = strftime('%B');\n",
    "$mon = iconv('windows-1251','utf-8',$mon1);\n",
    "$year = strftime('%Y'); \n",
    "?>\n",
    "<blockquote>\n",
    "<?='Сегодня ', $day, ' число, ', \n",
    "$mon, ' месяц, ', \n",
    "$year, ' год.';?>\n",
    "</blockquote>\n",
    "<p><?=$year, ' год.';?></p>\n",
    "'''\n",
    "lib01.writeHTML('index2.php', s)\n",
    "print('ok')"
   ]
  },
  {
   "cell_type": "markdown",
   "metadata": {},
   "source": [
    "##### Ошибки -наше всё\n",
    "```\n",
    "Уровни ошибок\n",
    "E_PARSE\n",
    "E_ERROR\n",
    "E_WARNING\n",
    "E_NOTICE\n",
    "E_DEPRECATED\n",
    "Директивы PHP.INI\n",
    "display_errors = on\n",
    "error_reporting = E_ALL & ~E_NOTICE\n",
    "// Включаем вывод всех ошибок\n",
    "error_reporting(E_ALL);\n",
    "// Отключаем вывод всех ошибок\n",
    "error_reporting(0);\n",
    "// Включаем определённые уровни ошибок\n",
    "error_reporting(E_ERROR | E_WARNING);\n",
    "error_reporting(E_ALL & ~E_DEPRECATED);\n",
    "```"
   ]
  },
  {
   "cell_type": "markdown",
   "metadata": {},
   "source": [
    "##### Манипуляции с переменными"
   ]
  },
  {
   "cell_type": "code",
   "execution_count": 30,
   "metadata": {},
   "outputs": [
    {
     "name": "stdout",
     "output_type": "stream",
     "text": [
      "ok\n"
     ]
    }
   ],
   "source": [
    "import lib01\n",
    "s = '''\\\n",
    "<?\n",
    "// Копирование переменных\n",
    "$x = 10;\n",
    "$y = $x;\n",
    "$y = 20;\n",
    "echo $x; // 10\n",
    "echo $y; // 20\n",
    "// Ссылки\n",
    "$x = 10;\n",
    "$y = &$x;\n",
    "$y = 20;\n",
    "echo $x; // 20\n",
    "echo $y; // 20\n",
    "// Переменные переменных\n",
    "$x = \"name\";\n",
    "$$x = \"Вася\";\n",
    "$y = 20;\n",
    "echo \"Привет, \", $name; // Привет, Вася\n",
    "?>\n",
    "'''\n",
    "lib01.writeHTML('index2.php', s)\n",
    "print('ok')"
   ]
  },
  {
   "cell_type": "markdown",
   "metadata": {},
   "source": [
    "##### Типы данных: числа\n",
    "```\n",
    "// Целые числа (integer)\n",
    "$int = 1234; // десятичноечисло\n",
    "$int = -123; // отрицательноечисло\n",
    "$int = 0123; // восьмеричноечисло(эквивалентно83 вдесятичнойсистеме)\n",
    "$int = 0x1A; // шестнадцатеричноечисло(эквивалентно26 вдесятичнойсистеме)\n",
    "$int = 0b11111111; // двоичноечисло(эквивалентно255 вдесятичнойсистеме)\n",
    "// Числа с плавающей точкой (float, также известны как double и real)\n",
    "$float = 1.234;\n",
    "$float = 1.2e3;\n",
    "$float = 7E-10;\n",
    "```"
   ]
  },
  {
   "cell_type": "markdown",
   "metadata": {},
   "source": [
    "##### Типы данных: строки"
   ]
  },
  {
   "cell_type": "code",
   "execution_count": 69,
   "metadata": {},
   "outputs": [
    {
     "name": "stdout",
     "output_type": "stream",
     "text": [
      "ok\n"
     ]
    }
   ],
   "source": [
    "import lib01\n",
    "s = '''\\\n",
    "<?\n",
    "// Строка(string) -это набор символов, где символ -это то же самое, что и байт\n",
    "echo 'это простая строка в апострофах<br/> ';\n",
    "echo'это простая строка в двойных кавычках <br/>';\n",
    "echo \"Эт\\'о будет развернуто:<br/> в две строки <br/>\";\n",
    "echo'А это не будет развернуто:\\nв две строки<br/>';\n",
    "$name = \"John\"; $age = 25;\n",
    "echo \"Значения переменных $name и $age подставятся в строку<br/>\";\n",
    "echo'А здесь значения переменных $name и $age не разворачиваются<br/>';\n",
    "echo<<<HEREDOC\n",
    "подставятся в строку, а сама строка развернётся\n",
    "Значения переменных $name и $age <br/>\n",
    "HEREDOC;\n",
    "echo<<<'NOWDOC'\n",
    "$name <br/>\n",
    "NOWDOC;\n",
    "// Экранирование переменных\n",
    "$juice = \"apple\";\n",
    "// Решение\n",
    "echo \"He drank some juice made of {$juice}s.<br/>\";\n",
    "echo \"He drank some juice made of ${juice}s.<br/>\";\n",
    "// Доступ к символу в строке\n",
    "$str = 'This is a test.';\n",
    "echo '<br/>';\n",
    "echo $str;\n",
    "// Получение первого символа в строке\n",
    "$first = $str{0};\n",
    "echo '<br/>';\n",
    "echo $first;\n",
    "// Получение третьего символа в строке\n",
    "$third = $str{2};\n",
    "echo '<br/>';\n",
    "echo $third;\n",
    "// Получение последнего символа в строке\n",
    "$last = $str{strlen($str)-1};\n",
    "echo '<br/>';\n",
    "echo $last;\n",
    "// Изменение последнего символа в строке\n",
    "$str{strlen($str)-1} = '!';\n",
    "echo '<br/>';\n",
    "echo $str;\n",
    "?>\n",
    "'''\n",
    "lib01.writeHTML('index2.php', s)\n",
    "print('ok')"
   ]
  },
  {
   "cell_type": "markdown",
   "metadata": {},
   "source": [
    "##### Содержание лабораторной работы 2.3\n",
    "##### Использование строк в двойных кавычках\n",
    "##### Упражнение 1: Вывод текущей даты используя подстановку значений переменных в двойных кавычках"
   ]
  },
  {
   "cell_type": "code",
   "execution_count": 75,
   "metadata": {},
   "outputs": [
    {
     "name": "stdout",
     "output_type": "stream",
     "text": [
      "ok\n"
     ]
    }
   ],
   "source": [
    "import lib01\n",
    "s = '''\\\n",
    "<? date_default_timezone_set('Europe/Moscow');\n",
    "// Установка локали и выбор значений даты \n",
    "setlocale(LC_ALL, \"russian\"); \n",
    "$day = strftime('%d'); \n",
    "$mon1 = strftime('%B');\n",
    "$mon = iconv('windows-1251','utf-8',$mon1);\n",
    "$year = strftime('%Y');\n",
    "$str = \"Сегодня $day число $mon месяц, $year год.\";\n",
    "?>\n",
    "<blockquote>\n",
    "<?='Сегодня ', $day, ' число, ', \n",
    "$mon, ' месяц, ', \n",
    "$year, ' год.';?>\n",
    "</blockquote>\n",
    "<p> <?= $str; ?>  </p>\n",
    "'''\n",
    "lib01.writeHTML('index2.php', s)\n",
    "print('ok')"
   ]
  },
  {
   "cell_type": "markdown",
   "metadata": {},
   "source": [
    "##### Арифметические операторы\n",
    "```\n",
    "+, -, *, /, %,\n",
    "```"
   ]
  },
  {
   "cell_type": "markdown",
   "metadata": {},
   "source": [
    "##### Конкатенация строк\n",
    "#### ."
   ]
  },
  {
   "cell_type": "code",
   "execution_count": 79,
   "metadata": {},
   "outputs": [
    {
     "name": "stdout",
     "output_type": "stream",
     "text": [
      "ok\n"
     ]
    }
   ],
   "source": [
    "import lib01\n",
    "s = '''\\\n",
    "<?\n",
    "$a = \"Hello \";\n",
    "echo $a;\n",
    "echo '<br/>';\n",
    "$b = $a .\"World!\";\n",
    "echo $b;\n",
    "echo '<br/>';\n",
    "// $b теперь содержит строку \"Hello World!\"\n",
    "$a = \"Hello\"; $b = \"World!\";\n",
    "$c = $a . \" \" .$b;\n",
    "echo $c;\n",
    "echo '<br/>';\n",
    "// $c теперь содержит строку \"Hello World!\"\n",
    "// Кстати, $d тоже содержит строку\"Hello World!\"\n",
    "$d = \"$a $b\";\n",
    "echo $d;\n",
    "echo '<br/>';\n",
    "?>\n",
    "'''\n",
    "lib01.writeHTML('index2.php', s)\n",
    "print('ok')"
   ]
  },
  {
   "cell_type": "markdown",
   "metadata": {},
   "source": [
    "##### Типы данных: boolean и NULL"
   ]
  },
  {
   "cell_type": "code",
   "execution_count": 80,
   "metadata": {},
   "outputs": [
    {
     "name": "stdout",
     "output_type": "stream",
     "text": [
      "ok\n"
     ]
    }
   ],
   "source": [
    "import lib01\n",
    "s = '''\\\n",
    "<? \n",
    "$x = true; // присвоить$x значениеTRUE\n",
    "$y = false; // присвоить$y значениеTRUE\n",
    "$z = null; // присвоить$z значениеNULL\n",
    "unset($x);\n",
    "echo gettype($x); // NULL\n",
    "?>\n",
    "'''\n",
    "lib01.writeHTML('index2.php', s)\n",
    "print('ok')"
   ]
  },
  {
   "cell_type": "markdown",
   "metadata": {},
   "source": [
    "##### Манипуляции с типами"
   ]
  },
  {
   "cell_type": "code",
   "execution_count": 92,
   "metadata": {},
   "outputs": [
    {
     "name": "stdout",
     "output_type": "stream",
     "text": [
      "ok\n"
     ]
    }
   ],
   "source": [
    "import lib01\n",
    "s = '''\\\n",
    "<? \n",
    "// Проверка типов\n",
    "$str = \"John\";\n",
    "$int = 10;\n",
    "$bool = true;\n",
    "echo gettype($str); // \"string\"\n",
    "echo '<br/>';\n",
    "echo gettype($int); // \"integer\"\n",
    "echo '<br/>';\n",
    "echo gettype($bool); // \"boolean\"\n",
    "echo '<br/>';\n",
    "echo gettype($x); // \"NULL\"\n",
    "echo '<br/>';\n",
    "echo is_string($str); // \"1\"\n",
    "echo '<br/>';\n",
    "echo is_integer($int); // \"1\"\n",
    "echo '<br/>';\n",
    "echo is_bool($bool); // \"1\"\n",
    "echo '<br/>';\n",
    "echo is_null($x); // \"\"\n",
    "echo '<br/>';\n",
    "// Приведение типов\n",
    "$int_from_str =(int)$str;\n",
    "$str_from_int =(string)$int;\n",
    "$bool_from_int =(bool)$int;\n",
    "?>\n",
    "'''\n",
    "lib01.writeHTML('index2.php', s)\n",
    "print('ok')"
   ]
  },
  {
   "cell_type": "markdown",
   "metadata": {},
   "source": [
    "##### Управление кодом: if\n",
    "##### Таблица сравнения типов\n",
    "##### Операторы сравнения\n",
    "```\n",
    " ==, ===, !=, !==, <, >, <=, >=, , , , , \n",
    "```"
   ]
  },
  {
   "cell_type": "markdown",
   "metadata": {},
   "source": [
    "##### Логические операторы\n",
    "```\n",
    "and, or, xor, !, &&, ||\n",
    "```"
   ]
  },
  {
   "cell_type": "markdown",
   "metadata": {},
   "source": [
    "##### Управление кодом: elseif\n",
    "```\n",
    "$shop = true;\n",
    "echo ($shop) ? \"Иду в магазин\" :\"Иду в киоск\";\n",
    "```"
   ]
  },
  {
   "cell_type": "markdown",
   "metadata": {},
   "source": [
    "##### Содержание лабораторной работы 2.4\n",
    "##### Использование управляющих конструкций if-elseif-else Упражнение 1: Вывод приветствия в зависимости от времени суток"
   ]
  },
  {
   "cell_type": "code",
   "execution_count": 95,
   "metadata": {},
   "outputs": [
    {
     "name": "stdout",
     "output_type": "stream",
     "text": [
      "ok\n"
     ]
    }
   ],
   "source": [
    "import lib01\n",
    "s = '''\\\n",
    "<? date_default_timezone_set('Europe/Moscow');\n",
    "// Установка локали и выбор значений даты \n",
    "setlocale(LC_ALL, \"russian\"); \n",
    "$hour = (int) strftime('%H'); $welcome = '';\n",
    "echo $hour;\n",
    "if($hour<6){\n",
    "$welcome = 'Доброй ночи';\n",
    "}elseif($hour<12){\n",
    "$welcome = 'Доброе утро';\n",
    "}elseif($hour<18){\n",
    "$welcome = 'Добрый день';\n",
    "}elseif($hour<=23){\n",
    "$welcome = 'Добрый вечер';\n",
    "}else{\n",
    "$welcome = 'Доброй ночи';\n",
    "}\n",
    "?>\n",
    "<p><?=$welcome ?></p>\n",
    "'''\n",
    "lib01.writeHTML('index2.php', s)\n",
    "print('ok')"
   ]
  },
  {
   "cell_type": "markdown",
   "metadata": {},
   "source": [
    "/* * Получаем текущий час в виде строки от 00 до 23 * и приводим строку к целому числу от 0 до 23 */ $hour = (int) strftime('%H'); $welcome = ''; // Инициализируем переменную для приветствия"
   ]
  },
  {
   "cell_type": "markdown",
   "metadata": {},
   "source": [
    "##### Управление кодом: switch"
   ]
  },
  {
   "cell_type": "code",
   "execution_count": 9,
   "metadata": {},
   "outputs": [
    {
     "name": "stdout",
     "output_type": "stream",
     "text": [
      "ok\n"
     ]
    }
   ],
   "source": [
    "import lib01\n",
    "s = '''\\\n",
    "<?\n",
    "$n = 3;\n",
    "$day = '';\n",
    "switch($n){\n",
    "    case 1:\n",
    "        $day = \"Понедельник\";\n",
    "        break;\n",
    "    case 2:\n",
    "        $day = \"Вторник\";\n",
    "        break;\n",
    "    case 3:\n",
    "        $day = \"Среда\";\n",
    "        break;\n",
    "    case 4:\n",
    "        $day = \"Четверг\";\n",
    "        break;\n",
    "    case 5:\n",
    "        $day = \"Пятница\";\n",
    "        break;\n",
    "    case 6:\n",
    "        $day = \"Суббота\";\n",
    "        break;\n",
    "    case 7:\n",
    "        $day = \"Воскресение\";\n",
    "        break;\n",
    "    defult :\n",
    "        $day = \"\";\n",
    "}\n",
    "echo \"$n - $day\"\n",
    "?>\n",
    "'''\n",
    "lib01.writeHTML('index2.php', s)\n",
    "print('ok')"
   ]
  },
  {
   "cell_type": "markdown",
   "metadata": {},
   "source": [
    "##### Содержание лабораторной работы 2.5\n",
    "##### Использование управляющей конструкции switch\n",
    "##### Упражнение 1: Вывод значения директивы PHP post_max_size\n",
    "[contact.php](http://localhost:8000/contact.php)"
   ]
  },
  {
   "cell_type": "code",
   "execution_count": 28,
   "metadata": {},
   "outputs": [
    {
     "name": "stdout",
     "output_type": "stream",
     "text": [
      "ok\n"
     ]
    }
   ],
   "source": [
    "import lib01\n",
    "s = '''\\\n",
    "<?\n",
    "echo \"ini_get('post_max_size') --- \";\n",
    "echo ini_get('post_max_size');\n",
    "?>\n",
    "'''\n",
    "lib01.writeHTML('index2.php', s)\n",
    "print('ok')"
   ]
  },
  {
   "cell_type": "markdown",
   "metadata": {},
   "source": [
    "##### Типы данных: массив"
   ]
  },
  {
   "cell_type": "code",
   "execution_count": 18,
   "metadata": {},
   "outputs": [
    {
     "name": "stdout",
     "output_type": "stream",
     "text": [
      "ok\n"
     ]
    }
   ],
   "source": [
    "import lib01\n",
    "s = '''\\\n",
    "<?\n",
    "// Создание пустого массива\n",
    "$arr = []; // До PHP 5.4 $arr = array();\n",
    "// Создание массиваc элементами\n",
    "$arr = [\"John\", \"root\", \"1234\"]; \n",
    "// Обращение к элементу массива\n",
    "echo '$arr[1] = ', $arr[1]; // root\n",
    "echo '<br/>';\n",
    "echo $arr; // Array\n",
    "echo '<br/>';\n",
    "// Добавление элементов в массив\n",
    "$arr[] = 25;\n",
    "$arr[] = true;\n",
    "// Сколько элементов в массиве?\n",
    "echo 'count = ', count($arr); // 5\n",
    "echo '<br/>';\n",
    "// Выводим удобочитаемую информацию о переменной\n",
    "print_r($arr);\n",
    "echo '<br/>';\n",
    "// Выводим полную информацию о переменной\n",
    "var_dump($arr);\n",
    "?>\n",
    "'''\n",
    "lib01.writeHTML('index2.php', s)\n",
    "print('ok')"
   ]
  },
  {
   "cell_type": "code",
   "execution_count": 29,
   "metadata": {},
   "outputs": [
    {
     "name": "stdout",
     "output_type": "stream",
     "text": [
      "ok\n"
     ]
    }
   ],
   "source": [
    "import lib01\n",
    "s = '''\\\n",
    "<?\n",
    "// Ещё раз об индексации элементов массива\n",
    "// Если массив не существует, он будет создан\n",
    "$arr[] = 1; // Массив с одним элементом с ключом 0\n",
    "var_dump($arr);\n",
    "echo '<br/>';\n",
    "$arr[5] = 2; // Добавили второй элемент с ключом 5\n",
    "var_dump($arr);\n",
    "echo '<br/>';\n",
    "$arr[] = 3; // Добавили третий элемент с ключом 6\n",
    "var_dump($arr);\n",
    "echo '<br/>';\n",
    "unset($arr); // Удалили массив\n",
    "var_dump($arr);\n",
    "echo '<br/>';\n",
    "$arr = [12=>1, 5=>2]; // Создали массив из двух элементов с ключами 12 и 5\n",
    "$arr[] = 3; // Добавили третий элемент с ключом 13\n",
    "var_dump($arr);\n",
    "echo '<br/>';\n",
    "unset($arr[12]); // Удалили элемент массива с ключом 12\n",
    "var_dump($arr);\n",
    "echo '<br/>';\n",
    "?>\n",
    "'''\n",
    "lib01.writeHTML('index2.php', s)\n",
    "print('ok')"
   ]
  },
  {
   "cell_type": "code",
   "execution_count": 47,
   "metadata": {},
   "outputs": [
    {
     "name": "stdout",
     "output_type": "stream",
     "text": [
      "ok\n"
     ]
    }
   ],
   "source": [
    "import lib01\n",
    "s = '''\\\n",
    "<?\n",
    "// Ассоциативный массив\n",
    "$user = [\n",
    "    \"name\"=>\"John\",\n",
    "    \"login\"=>\"root\",\n",
    "    \"password\"=>\"1234\",\n",
    "    \"age\"=>25,\n",
    "    true\n",
    "];\n",
    "echo var_dump($user);\n",
    "echo '<br/>';\n",
    "echo $user[\"name\"]; // John\n",
    "echo '<br/>';\n",
    "echo $user[0]; // 1\n",
    "echo '<hr/>';\n",
    "\n",
    "// Многомерный массив\n",
    "$users[0]= [\n",
    "    \"login\" => \"john\",\n",
    "    \"pass\" => \"1234\"\n",
    "];\n",
    "$users[1]= [\n",
    "\"login\" => \"mike\",\n",
    "\"pass\" => \"5678\"\n",
    "];\n",
    "var_dump($users);\n",
    "echo '<br/>';\n",
    "echo \"\\\\$users[1][\\\\\"login\\\\\"]; --- \"; // mike\n",
    "echo $users[1][\"login\"]; // mike\n",
    "\n",
    "?>\n",
    "'''\n",
    "lib01.writeHTML('index2.php', s)\n",
    "print('ok')"
   ]
  },
  {
   "cell_type": "markdown",
   "metadata": {},
   "source": [
    "##### Содержание лабораторной работы 2.6\n",
    "##### Использование многомерного массива\n",
    "##### Упражнение 1: Создание динамического меню"
   ]
  },
  {
   "cell_type": "code",
   "execution_count": 11,
   "metadata": {},
   "outputs": [
    {
     "name": "stdout",
     "output_type": "stream",
     "text": [
      "ok\n"
     ]
    }
   ],
   "source": [
    "import lib01\n",
    "s = '''\\\n",
    "<?\n",
    "//https://yandex.ru/\n",
    "//https://www.rambler.ru/\n",
    "$leftMenu = [];\n",
    "$tr=[];\n",
    "$tr['link'] = 'yandex';\n",
    "$tr['href'] = 'https://yandex.ru/';\n",
    "$leftMenu[] = $tr;\n",
    "$tr['link'] = 'rambler';\n",
    "$tr['href'] = 'https://www.rambler.ru/';\n",
    "$leftMenu[] = $tr;\n",
    "echo $leftMenu[0]['href'];\n",
    "echo '<br/>';\n",
    "print $tr['href'];\n",
    "echo '<br/>';\n",
    "print($tr['href']);\n",
    "echo '<br/>';\n",
    "?>\n",
    "<ul>\n",
    "    <li>\n",
    "    <a href = '<?=$leftMenu[0]['href']; ?>'>\n",
    "    <?= $leftMenu[0]['link']; ?>\n",
    "    </a>\n",
    "    </li>\n",
    "    <li>\n",
    "    <a href = '<?=$leftMenu[1]['href']; ?>'>\n",
    "    <?= $leftMenu[1]['link']; ?>\n",
    "    </a>\n",
    "    </li>\n",
    "</ul>\n",
    "'''\n",
    "lib01.writeHTML('index2.php', s)\n",
    "print('ok')"
   ]
  },
  {
   "cell_type": "markdown",
   "metadata": {},
   "source": [
    "#### Модуль 3 PHP. Уровень 1 Циклы\n",
    "##### Операторы инкремента и декремента\n",
    "##### Цикл for"
   ]
  },
  {
   "cell_type": "code",
   "execution_count": 16,
   "metadata": {},
   "outputs": [
    {
     "name": "stdout",
     "output_type": "stream",
     "text": [
      "ok\n"
     ]
    }
   ],
   "source": [
    "import lib01\n",
    "s = '''\\\n",
    "<?\n",
    "for($i = 0;$i<10;print $i++)\n",
    "?>\n",
    "'''\n",
    "lib01.writeHTML('index2.php', s)\n",
    "print('ok')"
   ]
  },
  {
   "cell_type": "markdown",
   "metadata": {},
   "source": [
    "##### Лабораторная работа 3.1\n",
    "##### Использование цикла for\n",
    "##### Упражнение 1: Вывод нечетных чисел из заданного диапазона"
   ]
  },
  {
   "cell_type": "code",
   "execution_count": 21,
   "metadata": {},
   "outputs": [
    {
     "name": "stdout",
     "output_type": "stream",
     "text": [
      "ok\n"
     ]
    }
   ],
   "source": [
    "import lib01\n",
    "s = '''\\\n",
    "<?\n",
    "for($i=0;$i<50;$i++){\n",
    "    if($i%2){\n",
    "    echo \"<li style = \\\\\"list-style-type: none;\\\\\">{$i}</li>\";\n",
    "    }\n",
    "}\n",
    "?>\n",
    "'''\n",
    "lib01.writeHTML('index2.php', s)\n",
    "print('ok')"
   ]
  },
  {
   "cell_type": "markdown",
   "metadata": {},
   "source": [
    "##### Цикл while\n",
    "##### Содержание лабораторной работы 3.2\n",
    "##### Использование цикла while\n",
    "##### Упражнение 1: Вывод строки посимвольно"
   ]
  },
  {
   "cell_type": "code",
   "execution_count": 31,
   "metadata": {},
   "outputs": [
    {
     "name": "stdout",
     "output_type": "stream",
     "text": [
      "ok\n"
     ]
    }
   ],
   "source": [
    "import lib01\n",
    "s = '''\\\n",
    "<?\n",
    "$var = 'HELLO';\n",
    "$k = 0;\n",
    "$c = '';\n",
    "while(true){\n",
    "    $c=$var{$k++};\n",
    "    if($c == ''){\n",
    "        break;\n",
    "    }else{\n",
    "        echo \"<li style = \n",
    "        \\\\\"list-style-type: none;\\\\\">\n",
    "        {$c}\n",
    "        </li>\";\n",
    "    }\n",
    "}\n",
    "echo '<hr/>';\n",
    "// Управление вложенными циклами\n",
    "$i = 1; $j = 1;\n",
    "while ($j <= 10) {\n",
    "    while ($i <= 10) {\n",
    "        echo $i++;\n",
    "        if($i == 5)\n",
    "        break 2;\n",
    "    }\n",
    "$j++;\n",
    "}\n",
    "\n",
    "?>\n",
    "'''\n",
    "lib01.writeHTML('index2.php', s)\n",
    "print('ok')"
   ]
  },
  {
   "cell_type": "markdown",
   "metadata": {},
   "source": [
    "##### Цикл do-while\n",
    "##### Управление циклами\n",
    "##### Содержание лабораторной работы 3.3\n",
    "##### Создание динамической таблицы умножения\n",
    "##### Упражнение 1: Создание HTML-таблицы"
   ]
  },
  {
   "cell_type": "code",
   "execution_count": 127,
   "metadata": {},
   "outputs": [
    {
     "name": "stdout",
     "output_type": "stream",
     "text": [
      "ok\n"
     ]
    }
   ],
   "source": [
    "import lib01\n",
    "s = '''\\\n",
    "<?\n",
    "$color = \"#FAF\";\n",
    "$s = '';\n",
    "$tr = '';\n",
    "for($i = 0;$i<=10;$i++){\n",
    "    $tr = '';\n",
    "    if($i == 0){\n",
    "        for($j=0; $j<=10 ; $j++){\n",
    "            if( $j == 0){\n",
    "                $tr .= \"<td style='width:30px;\n",
    "                border:1px dotted;\n",
    "                background-color: $color ;'><b>\";\n",
    "                $tr .= $i;\n",
    "                $tr .= '</b></td>';\n",
    "            }else{\n",
    "                $tr .= \"<td style='width:30px;\n",
    "                border:1px dotted;\n",
    "                background-color: $color ;'><b>\";\n",
    "                $tr .= $j;\n",
    "                $tr .= '</b></td>';\n",
    "            }\n",
    "        }\n",
    "        }else{\n",
    "        for($j=0; $j<=10 ; $j++){\n",
    "            if( $j == 0){\n",
    "                $tr .= \"<td style='width:30px;\n",
    "                border:1px dotted;\n",
    "                background-color: $color ;'><b>\";\n",
    "                $tr .= $i;\n",
    "                $tr .= '</b></td>';\n",
    "            }else{\n",
    "                $tr .= '<td style=\"width:30px;\n",
    "                border:1px dotted;\">';\n",
    "                $tr .= $j*$i;\n",
    "                $tr .= '</td>';\n",
    "            }\n",
    "        }\n",
    "        \n",
    "        }\n",
    "\n",
    "    $s .= '<tr>';\n",
    "    $s .= $tr;\n",
    "    $s .= '</tr>';\n",
    "    //echo $tr;\n",
    "    //echo '<br/>';\n",
    "}\n",
    "//echo $s;\n",
    "?>\n",
    "<table>\n",
    "<?= $s; ?>\n",
    "</table>\n",
    "'''\n",
    "lib01.writeHTML('index2.php', s)\n",
    "print('ok')"
   ]
  },
  {
   "cell_type": "markdown",
   "metadata": {},
   "source": [
    "##### Упражнение 2: Приводим таблицу к товарному виду\n",
    "##### Цикл foreach"
   ]
  },
  {
   "cell_type": "code",
   "execution_count": 134,
   "metadata": {},
   "outputs": [
    {
     "name": "stdout",
     "output_type": "stream",
     "text": [
      "ok\n"
     ]
    }
   ],
   "source": [
    "import lib01\n",
    "s = '''\\\n",
    "<?\n",
    "$arr = ['a'=>'one', 'b'=>'two', 'c'=>'three'];\n",
    "foreach ($arr as $val) {\n",
    "    echo \"$val \";\n",
    "}/* one two three */\n",
    "echo '<hr/>';\n",
    "foreach ($arr as $key=> $val) { \n",
    "    echo \"$key: $val \";\n",
    "}/* a : one b : two c : three */\n",
    "echo '<hr/>';\n",
    "$nums = [1, 2, 3, 4, 5];\n",
    "foreach ($nums as $val) {\n",
    "    $val *= 10;\n",
    "}\n",
    "var_dump($nums);\n",
    "echo '<hr/>';\n",
    "// Массив не изменился\n",
    "foreach ($nums as &$val) {\n",
    "    $val *= 10;\n",
    "}\n",
    "var_dump($nums);\n",
    "// Теперь массив: [10, 20, 30, 40, 50]\n",
    "?>\n",
    "'''\n",
    "lib01.writeHTML('index2.php', s)\n",
    "print('ok')"
   ]
  },
  {
   "cell_type": "markdown",
   "metadata": {},
   "source": [
    "##### Содержание лабораторной работы 3.4\n",
    "##### Создание динамического навигационного меню\n",
    "##### Упражнение 1: Вывод меню с использованием цикла"
   ]
  },
  {
   "cell_type": "code",
   "execution_count": 156,
   "metadata": {},
   "outputs": [
    {
     "name": "stdout",
     "output_type": "stream",
     "text": [
      "ok\n"
     ]
    }
   ],
   "source": [
    "import lib01\n",
    "s = '''\\\n",
    "<?\n",
    "//https://yandex.ru/\n",
    "//https://www.rambler.ru/\n",
    "$leftMenu = [];\n",
    "$tr=[];\n",
    "$tr['link'] = 'yandex';\n",
    "$tr['href'] = 'https://yandex.ru/';\n",
    "$leftMenu[] = $tr;\n",
    "$tr['link'] = 'rambler';\n",
    "$tr['href'] = 'https://www.rambler.ru/';\n",
    "$leftMenu[] = $tr;\n",
    "$lis = '';\n",
    "foreach($leftMenu as $tr){\n",
    "    $link = $tr['link'];\n",
    "    $href = $tr['href'];\n",
    "    $lis .= '<li>';\n",
    "    $lis .= \"<a href='$href'>\";\n",
    "    $lis .= $link;\n",
    "    $lis .= \"</a>\";\n",
    "    $lis .= '</li>';\n",
    "}\n",
    "?>\n",
    "<ol>\n",
    "<?=$lis; ?>\n",
    "</ol>\n",
    "'''\n",
    "lib01.writeHTML('index2.php', s)\n",
    "print('ok')"
   ]
  },
  {
   "cell_type": "markdown",
   "metadata": {},
   "source": [
    "#### Модуль 4\n",
    "#### PHP. Уровень 1 Пользовательские функции\n",
    "##### Декларация функции\n",
    "##### Вызов функции\n",
    "##### Варианты объявления функции\n",
    "##### Аргументы функции\n",
    "##### Области видимости переменных"
   ]
  },
  {
   "cell_type": "code",
   "execution_count": 179,
   "metadata": {},
   "outputs": [
    {
     "name": "stdout",
     "output_type": "stream",
     "text": [
      "ok\n"
     ]
    }
   ],
   "source": [
    "import lib01\n",
    "s = '''\\\n",
    "<?\n",
    "$name = \"Vasya\";\n",
    "echo '<br>',$name;\n",
    "function hello(){\n",
    "    global $name;\n",
    "    $name = \"Petya\";\n",
    "    echo '<br>',$name;\n",
    "}\n",
    "hello();\n",
    "echo '<br>',$name;\n",
    "function rename1(&$name){\n",
    "    $name = 'John';\n",
    "}\n",
    "rename1($name);\n",
    "echo '<br/>', $name;\n",
    "?>\n",
    "'''\n",
    "lib01.writeHTML('index2.php', s)\n",
    "print('ok')"
   ]
  },
  {
   "cell_type": "markdown",
   "metadata": {},
   "source": [
    "##### Статические переменные"
   ]
  },
  {
   "cell_type": "code",
   "execution_count": 182,
   "metadata": {},
   "outputs": [
    {
     "name": "stdout",
     "output_type": "stream",
     "text": [
      "ok\n"
     ]
    }
   ],
   "source": [
    "import lib01\n",
    "s = '''\\\n",
    "<?\n",
    "function test(){\n",
    "    static $a = 0; \n",
    "    echo '<br/>', $a++;\n",
    "}\n",
    "test();// 0\n",
    "test();// 1\n",
    "test();// 2\n",
    "?>\n",
    "'''\n",
    "lib01.writeHTML('index2.php', s)\n",
    "print('ok')"
   ]
  },
  {
   "cell_type": "markdown",
   "metadata": {},
   "source": [
    "##### Возвращаемые значения\n",
    "##### Функция с переменным числом аргументов\n",
    "##### Уточнение типа аргумента функции##### "
   ]
  },
  {
   "cell_type": "code",
   "execution_count": 195,
   "metadata": {},
   "outputs": [
    {
     "name": "stdout",
     "output_type": "stream",
     "text": [
      "ok\n"
     ]
    }
   ],
   "source": [
    "import lib01\n",
    "s = '''\\\n",
    "<?\n",
    "foo(1, 2, 3);\n",
    "function foo() {\n",
    "    $numargs = func_num_args();\n",
    "    echo \"Всего аргументов: $numargs<br>\";\n",
    "    echo \"Второй\n",
    "        аргумент: \" . func_get_arg(1) . \"<br>\";\n",
    "\n",
    "    $args = func_get_args();\n",
    "    foreach ($args as $key => $value) {\n",
    "        echo \"Аргумент$key : $value<br>\";\n",
    "    }\n",
    "}\n",
    "?>\n",
    "'''\n",
    "lib01.writeHTML('index2.php', s)\n",
    "print('ok')"
   ]
  },
  {
   "cell_type": "markdown",
   "metadata": {},
   "source": [
    "##### Содержание лабораторной работы 4.1\n",
    "##### Создание функции отрисовки таблицы умножения\n",
    "##### Упражнение 1: Отрисовка таблицы с помощью функции"
   ]
  },
  {
   "cell_type": "code",
   "execution_count": 169,
   "metadata": {},
   "outputs": [
    {
     "name": "stdout",
     "output_type": "stream",
     "text": [
      "ok\n"
     ]
    }
   ],
   "source": [
    "import lib01\n",
    "s = '''\\\n",
    "<?\n",
    "function tab($row,$col,$color){\n",
    "    $s = '';\n",
    "$tr = '';\n",
    "for($i = 0;$i<=$row;$i++){\n",
    "    $tr = '';\n",
    "    if($i == 0){\n",
    "        for($j=0; $j<=$col ; $j++){\n",
    "            if( $j == 0){\n",
    "                $tr .= \"<td style='width:30px;\n",
    "                border:1px dotted;\n",
    "                background-color: $color ;'><b>\";\n",
    "                $tr .= $i;\n",
    "                $tr .= '</b></td>';\n",
    "            }else{\n",
    "                $tr .= \"<td style='width:30px;\n",
    "                border:1px dotted;\n",
    "                background-color: $color ;'><b>\";\n",
    "                $tr .= $j;\n",
    "                $tr .= '</b></td>';\n",
    "            }\n",
    "        }\n",
    "        }else{\n",
    "        for($j=0; $j<=$col ; $j++){\n",
    "            if( $j == 0){\n",
    "                $tr .= \"<td style='width:30px;\n",
    "                border:1px dotted;\n",
    "                background-color: $color ;'><b>\";\n",
    "                $tr .= $i;\n",
    "                $tr .= '</b></td>';\n",
    "            }else{\n",
    "                $tr .= '<td style=\"width:30px;\n",
    "                border:1px dotted;\">';\n",
    "                $tr .= $j*$i;\n",
    "                $tr .= '</td>';\n",
    "            }\n",
    "        }\n",
    "        \n",
    "        }\n",
    "\n",
    "    $s .= '<tr>';\n",
    "    $s .= $tr;\n",
    "    $s .= '</tr>';\n",
    "    \n",
    "    }\n",
    "    return $s;\n",
    "}\n",
    "?>\n",
    "<table>\n",
    "<?= tab(4,20,'#FAA') ?>\n",
    "</table>\n",
    "'''\n",
    "lib01.writeHTML('index2.php', s)\n",
    "print('ok')"
   ]
  },
  {
   "cell_type": "markdown",
   "metadata": {},
   "source": [
    "##### Содержание лабораторной работы 4.2\n",
    "##### Создание функции отрисовки меню навигации по сайту\n",
    "##### Упражнение 1: Отрисовка меню с помощью функции"
   ]
  },
  {
   "cell_type": "code",
   "execution_count": 192,
   "metadata": {},
   "outputs": [
    {
     "name": "stdout",
     "output_type": "stream",
     "text": [
      "ok\n"
     ]
    }
   ],
   "source": [
    "import lib01\n",
    "s = '''\\\n",
    "<?\n",
    "//https://yandex.ru/\n",
    "//https://www.rambler.ru/\n",
    "$leftMenu = [];\n",
    "$tr=[];\n",
    "$tr['link'] = 'yandex';\n",
    "$tr['href'] = 'https://yandex.ru/';\n",
    "$leftMenu[] = $tr;\n",
    "$tr['link'] = 'rambler';\n",
    "$tr['href'] = 'https://www.rambler.ru/';\n",
    "$leftMenu[] = $tr;\n",
    "\n",
    "function drawMenu($menu,$vertical = true){\n",
    "    $s = \"\";\n",
    "    if($vertical){\n",
    "        $s = '<ol>';\n",
    "        foreach($menu as $tr){\n",
    "            $link = $tr['link'];\n",
    "            $href = $tr['href'];\n",
    "            $s .= '<li>';\n",
    "            $s .= \"<a href='$href'>\";\n",
    "            $s .= $link;\n",
    "            $s .= \"</a>\";\n",
    "            $s .= '</li>';\n",
    "        }\n",
    "        $s .= '</ol>';\n",
    "    }else{\n",
    "        $s = '<p>';\n",
    "        foreach($menu as $tr){\n",
    "            $link = $tr['link'];\n",
    "            $href = $tr['href'];\n",
    "            $s .= '<span>';\n",
    "            $s .= \"<a href='$href'>\";\n",
    "            $s .= \" - $link - \";\n",
    "            $s .= \"</a>\";\n",
    "            $s .= '</span>';\n",
    "        }\n",
    "        $s .= '</p>';\n",
    "    }\n",
    "    return $s;\n",
    "}\n",
    "\n",
    "?>\n",
    "<div>\n",
    "<?=drawMenu($leftMenu, false); ?>\n",
    "</div>\n",
    "'''\n",
    "lib01.writeHTML('index2.php', s)\n",
    "print('ok')"
   ]
  },
  {
   "cell_type": "markdown",
   "metadata": {},
   "source": [
    "##### Возвращаемые значения"
   ]
  },
  {
   "cell_type": "code",
   "execution_count": 14,
   "metadata": {},
   "outputs": [
    {
     "name": "stdout",
     "output_type": "stream",
     "text": [
      "ok\n"
     ]
    }
   ],
   "source": [
    "import lib01\n",
    "s = '''\\\n",
    "<?\n",
    "function nums(){\n",
    "    return [1, 2, 3];\n",
    "}\n",
    "list($first, $second, $third) = nums();\n",
    "echo $second, '<br>';\n",
    "echo nums()[1], '<br>';\n",
    "function action($a, $b, &$sum, &$sub, &$mult, &$div){\n",
    "    $sum = $a + $b;\n",
    "    $sub = $a - $b;\n",
    "    $mult = $a * $b;\n",
    "    $div = $a / $b;\n",
    "}\n",
    "action(3 , 2, $sum, $sub, $mult, $div);\n",
    "echo $sum, '<br>';\n",
    "echo $sub, '<br>';\n",
    "echo $mult, '<br>';\n",
    "echo $div, '<br>';\n",
    "$arr = [1, 2, 2, 3];\n",
    "echo count($arr), '<br>';\n",
    "\n",
    "?>\n",
    "'''\n",
    "lib01.writeHTML('index2.php', s)\n",
    "print('ok')"
   ]
  },
  {
   "cell_type": "markdown",
   "metadata": {},
   "source": [
    "#### Модуль 5\n",
    "#### PHP. Уровень 1 Что внутри PHP?\n",
    "##### Учимся читать документацию\n",
    "##### Как читать описание функций\n",
    "[https://www.php.net/docs.php](https://www.php.net/docs.php)  \n",
    "[https://www.php.net/download-docs.php](https://www.php.net/download-docs.php)  \n",
    "[Руководство по PHP](https://www.php.net/manual/ru/)  \n",
    "[Установка и настройка](https://www.php.net/manual/ru/install.php)  \n",
    "[Справочник языка](https://www.php.net/manual/ru/langref.php)  \n",
    "[Справочник языка](https://www.php.net/manual/ru/langref.php)  \n",
    "[Справочник функций](https://www.php.net/manual/ru/funcref.php)  \n",
    "[]()  \n",
    "[]()  \n"
   ]
  },
  {
   "cell_type": "markdown",
   "metadata": {},
   "source": [
    "##### Обзор встроенных функций"
   ]
  },
  {
   "cell_type": "code",
   "execution_count": 34,
   "metadata": {},
   "outputs": [
    {
     "name": "stdout",
     "output_type": "stream",
     "text": [
      "ok\n"
     ]
    }
   ],
   "source": [
    "import lib01\n",
    "s = '''\\\n",
    "<?\n",
    "//print_r(get_defined_functions());\n",
    "$arr = get_defined_functions();\n",
    "echo count($arr), '<br>';\n",
    "echo $arr['internal'], '<br>';\n",
    "$ar1 = $arr['internal'];\n",
    "foreach($ar1 as $key=>$val){\n",
    "echo $key, ' ', $val, '<br>';\n",
    "}\n",
    "echo $arr['user'], '<br>';\n",
    "?>\n",
    "'''\n",
    "lib01.writeHTML('index2.php', s)\n",
    "print('ok')"
   ]
  },
  {
   "cell_type": "code",
   "execution_count": 47,
   "metadata": {},
   "outputs": [
    {
     "name": "stdout",
     "output_type": "stream",
     "text": [
      "ok\n"
     ]
    }
   ],
   "source": [
    "import lib01\n",
    "s = '''\\\n",
    "<?\n",
    "date_default_timezone_set('Europe/Moscow');\n",
    "print_r( getdate());\n",
    "echo '<br>';\n",
    "echo time(), '<br>';\n",
    "$x = mktime(0, 0, 0, 9, 22, 2019);\n",
    "print_r(getdate($x));\n",
    "echo '<br>';\n",
    "echo date(\"d-m-Y H:i:s\");\n",
    "echo '<br>';\n",
    "echo strftime(\"%H:%M:%S %d-%m-%Y\");\n",
    "?>\n",
    "'''\n",
    "lib01.writeHTML('index2.php', s)\n",
    "print('ok')"
   ]
  },
  {
   "cell_type": "markdown",
   "metadata": {},
   "source": [
    "Array ( [seconds] => 46 [minutes] => 41 [hours] => 11 [mday] => 22 [wday] => 0 [mon] => 9 [year] => 2019 [yday] => 264 [weekday] => Sunday [month] => September [0] => 1569141706 )"
   ]
  },
  {
   "cell_type": "code",
   "execution_count": 55,
   "metadata": {},
   "outputs": [
    {
     "data": {
      "text/plain": [
       "<IPython.core.display.HTML object>"
      ]
     },
     "execution_count": 55,
     "metadata": {},
     "output_type": "execute_result"
    }
   ],
   "source": [
    "from IPython.core.display import HTML\n",
    "HTML('https://yandex.ru/')"
   ]
  },
  {
   "cell_type": "markdown",
   "metadata": {},
   "source": [
    "##### Языковые конструкции\n",
    "- die и exit\n",
    "- echo и print\n",
    "- isset и unset\n",
    "- include и include_once\n",
    "- require и require_once\n",
    "- empty\n",
    "- eval\n",
    "- list\n",
    "- return"
   ]
  },
  {
   "cell_type": "code",
   "execution_count": null,
   "metadata": {},
   "outputs": [],
   "source": [
    "##### Встроенные константы и псевдоконстанты\n",
    "псевдоконстанты  \n",
    "- __LINE__\n",
    "- __FILE__\n",
    "- __FUNCTION__\n",
    "- __DIR__\n",
    "get_defined_constants(true)  \n",
    "- E_ALL\n",
    "- M_PI\n",
    "- PHP_VERSION\n",
    "- PHP_OS"
   ]
  },
  {
   "cell_type": "markdown",
   "metadata": {},
   "source": [
    "##### Суперглобальные переменные\n",
    "- $GLOBALS\n",
    "- $_ENV\n",
    "- $_SERVER\n",
    "- $_COOKIE\n",
    "- $_SESSION\n",
    "- $_FILES\n",
    "- $_GET\n",
    "- $_POST\n",
    "- $_REQUEST"
   ]
  },
  {
   "cell_type": "markdown",
   "metadata": {},
   "source": [
    "##### Функции эмуляции SSI\n",
    "##### Принцип подключения файлов\n",
    "##### Содержание лабораторной работы 5\n",
    "##### Конструирование сайта\n",
    "##### Упражнение 1: Создание подключаемых файлов\n",
    "##### Обработка ошибок"
   ]
  },
  {
   "cell_type": "code",
   "execution_count": 121,
   "metadata": {},
   "outputs": [
    {
     "name": "stdout",
     "output_type": "stream",
     "text": [
      "ok\n"
     ]
    }
   ],
   "source": [
    "import lib01\n",
    "s = '''\\\n",
    "<?\n",
    "// Функция перехвата ошибок\n",
    "function myError($errno, $errmsg, $errfile, $errline){\n",
    "    // Логгируем пользовательские ошибки\n",
    "    switch ($errno) {\n",
    "        case E_USER_ERROR:\n",
    "        case E_USER_WARNING:\n",
    "        case E_USER_NOTICE:\n",
    "            error_log(\"$errmsg\\n\", 3, \"error.log\");\n",
    "    }\n",
    "}\n",
    "// Установка перехватчика ошибок\n",
    "set_error_handler(\"myError\");\n",
    "// Отлавливаем ошибки\n",
    "if ($error)\n",
    "    trigger_error(\"Что-то случилось\", E_USER_ERROR);\n",
    "?>\n",
    "'''\n",
    "lib01.writeHTML('index2.php', s)\n",
    "print('ok')"
   ]
  },
  {
   "cell_type": "code",
   "execution_count": 121,
   "metadata": {},
   "outputs": [
    {
     "name": "stdout",
     "output_type": "stream",
     "text": [
      "ok\n"
     ]
    }
   ],
   "source": [
    "import lib01\n",
    "s = '''\\\n",
    "<?\n",
    "\n",
    "?>\n",
    "'''\n",
    "lib01.writeHTML('index2.php', s)\n",
    "print('ok')"
   ]
  },
  {
   "cell_type": "markdown",
   "metadata": {},
   "source": [
    "#### Модуль 6\n",
    "#### PHP. Уровень 1\n",
    "#### Работа с HTTP: формы\n",
    "##### HTTP 1/1\n",
    "##### Заголовки запроса и ответа Статусы сервера\n",
    "##### Переменные окружения сервера\n",
    "##### Работа с веб-формами:\n",
    "##### Передача и приём данных HTTP методы GET и POST"
   ]
  },
  {
   "cell_type": "code",
   "execution_count": 61,
   "metadata": {},
   "outputs": [
    {
     "name": "stdout",
     "output_type": "stream",
     "text": [
      "ok\n"
     ]
    }
   ],
   "source": [
    "import lib01\n",
    "s = '''\\\n",
    "<?\n",
    "echo $_GET['x'];\n",
    "echo '<br>';\n",
    "?>\n",
    "<a href=\n",
    "\"http://localhost:8000/index2.php?x=100\">LINK</a>\n",
    "'''\n",
    "lib01.writeHTML('index2.php', s)\n",
    "print('ok')"
   ]
  },
  {
   "cell_type": "code",
   "execution_count": null,
   "metadata": {},
   "outputs": [],
   "source": []
  },
  {
   "cell_type": "markdown",
   "metadata": {},
   "source": [
    "##### Проверка передаваемых значений\n",
    "##### Содержание лабораторной работы 6\n",
    "##### Передача параметров на сервер\n",
    "##### Упражнение 1: Создание подключаемых файлов\n",
    "##### Упражнение 2: Изменение меню\n",
    "##### Упражнение 3: Приём данных от пользователя\n",
    "##### Упражнение 4: Допиливаем таблицу умножения\n",
    "##### Содержание итоговой работы\n",
    "##### Создание простого калькулятора\n",
    "##### Уяснение задачи\n",
    "##### Упражнение 1: Прием данных из формы\n",
    "##### Упражнение 2: Получение необходимого результата\n",
    "##### Упражнение 3: Вывод результата и проверка работы\n",
    "##### Что почитать?"
   ]
  },
  {
   "cell_type": "markdown",
   "metadata": {},
   "source": [
    "[http://localhost:8000/index2.php](http://localhost:8000/index2.php)"
   ]
  },
  {
   "cell_type": "code",
   "execution_count": null,
   "metadata": {},
   "outputs": [],
   "source": []
  },
  {
   "cell_type": "code",
   "execution_count": 4,
   "metadata": {},
   "outputs": [
    {
     "name": "stdout",
     "output_type": "stream",
     "text": [
      "ok\n"
     ]
    }
   ],
   "source": [
    "import lib01\n",
    "s = '''\\\n",
    "<?php\n",
    "error_reporting(-1);\n",
    "header('Content-Type: text/html; charset=utf-8');?>\n",
    "<?php\n",
    "echo \"абвWelcome!123\";\n",
    "?>\n",
    "'''\n",
    "lib01.writeFile('index2.php', s)\n",
    "print('ok')"
   ]
  },
  {
   "cell_type": "markdown",
   "metadata": {},
   "source": [
    "[http://localhost:8000/index2.php](http://localhost:8000/index2.php)"
   ]
  },
  {
   "cell_type": "code",
   "execution_count": 13,
   "metadata": {},
   "outputs": [],
   "source": [
    "%less index2.php"
   ]
  },
  {
   "cell_type": "code",
   "execution_count": null,
   "metadata": {},
   "outputs": [],
   "source": [
    "# %load http://localhost:8000/index2.php\n",
    "Welcome!123"
   ]
  },
  {
   "cell_type": "markdown",
   "metadata": {},
   "source": [
    "##### Содержание лабораторной работы 1.2\n",
    "- Упражнение 1: Вывод системной информации"
   ]
  },
  {
   "cell_type": "code",
   "execution_count": 16,
   "metadata": {},
   "outputs": [
    {
     "name": "stdout",
     "output_type": "stream",
     "text": [
      "ok\n"
     ]
    }
   ],
   "source": [
    "import lib01\n",
    "s = '''\\\n",
    "<?php \n",
    "    phpinfo(); \n",
    "?>\n",
    "'''\n",
    "lib01.writeFile('index2.php', s)\n",
    "print('ok')"
   ]
  },
  {
   "cell_type": "markdown",
   "metadata": {},
   "source": [
    "[http://localhost:8000/index2.php](http://localhost:8000/index2.php)"
   ]
  },
  {
   "cell_type": "markdown",
   "metadata": {},
   "source": [
    "##### Как PHP обрабатывает файл"
   ]
  },
  {
   "cell_type": "code",
   "execution_count": null,
   "metadata": {},
   "outputs": [],
   "source": []
  },
  {
   "cell_type": "markdown",
   "metadata": {},
   "source": []
  },
  {
   "cell_type": "markdown",
   "metadata": {},
   "source": [
    "#### PHP. Уровень 1 Основы PHP\n",
    "##### Как PHP обрабатывает файл\n",
    "##### PHP тэги\n",
    "##### Комментарии\n",
    "##### Особенности PHP\n",
    "##### Вывод данных\n",
    "##### Содержание лабораторной работы 2.1\n",
    "##### Вывод данных Упражнение 1: Вывод текущей даты\n",
    "##### Переменные\n",
    "##### Использование переменных\n",
    "##### Константы\n",
    "##### Содержание лабораторной работы 2.2\n",
    "##### Использование переменных Упражнение 1: Вывод текущей даты используя переменные\n",
    "##### Ошибки -наше всё\n",
    "##### Манипуляции с переменными\n",
    "##### Типы данных: числа\n",
    "##### Типы данных: строки\n",
    "##### Содержание лабораторной работы 2.3\n",
    "##### Использование строк в двойных кавычках\n",
    "##### Упражнение 1: Вывод текущей даты используя подстановку значений переменных в двойных кавычках\n",
    "##### Арифметические операторы\n",
    "##### Конкатенация строк\n",
    "##### Типы данных: boolean и NULL\n",
    "##### Манипуляции с типами\n",
    "##### Управление кодом: if\n",
    "##### Таблица сравнения типов\n",
    "##### Операторы сравнения\n",
    "##### Логические операторы\n",
    "##### Управление кодом: elseif\n",
    "##### Содержание лабораторной работы 2.4\n",
    "##### Использование управляющих конструкций if-elseif-else Упражнение 1: Вывод приветствия в зависимости от времени суток\n",
    "##### Управление кодом: switch\n",
    "##### Содержание лабораторной работы 2.5\n",
    "##### Использование управляющей конструкции switch\n",
    "##### Упражнение 1: Вывод значения директивы PHP post_max_size\n",
    "##### Типы данных: массив\n",
    "##### Содержание лабораторной работы 2.6\n",
    "##### Использование многомерного массива\n",
    "##### Упражнение 1: Создание динамического меню\n",
    "#### Модуль 3 PHP. Уровень 1 Циклы\n",
    "##### Операторы инкремента и декремента\n",
    "##### Цикл for\n",
    "##### Лабораторная работа 3.1\n",
    "##### Использование цикла for\n",
    "##### Упражнение 1: Вывод нечетных чисел из заданного диапазона\n",
    "##### Цикл while\n",
    "##### Содержание лабораторной работы 3.2\n",
    "##### Использование цикла while\n",
    "##### Упражнение 1: Вывод строки посимвольно\n",
    "##### Цикл do-while\n",
    "##### Управление циклами\n",
    "##### Содержание лабораторной работы 3.3\n",
    "##### Создание динамической таблицы умножения\n",
    "##### Упражнение 1: Создание HTML-таблицы\n",
    "##### Упражнение 2: Приводим таблицу к товарному виду\n",
    "##### Цикл foreach\n",
    "##### Содержание лабораторной работы 3.4\n",
    "##### Создание динамического навигационного меню\n",
    "##### Упражнение 1: Вывод меню с использованием цикла\n",
    "#### Модуль 4\n",
    "#### PHP. Уровень 1 Пользовательские функции\n",
    "##### Декларация функции\n",
    "##### Вызов функции\n",
    "##### Варианты объявления функции\n",
    "##### Аргументы функции\n",
    "##### Области видимости переменных\n",
    "##### Статические переменные\n",
    "##### Возвращаемые значения\n",
    "##### Функция с переменным числом аргументов\n",
    "##### Уточнение типа аргумента функции##### \n",
    "##### Содержание лабораторной работы 4.1\n",
    "##### Создание функции отрисовки таблицы умножения\n",
    "##### Упражнение 1: Отрисовка таблицы с помощью функции\n",
    "##### Содержание лабораторной работы 4.2\n",
    "##### Создание функции отрисовки меню навигации по сайту\n",
    "##### Упражнение 1: Отрисовка меню с помощью функции\n",
    "##### Возвращаемые значения\n",
    "#### Модуль 5\n",
    "#### PHP. Уровень 1 Что внутри PHP?\n",
    "##### Учимся читать документацию\n",
    "##### Как читать описание функций\n",
    "##### Обзор встроенных функций\n",
    "##### Встроенные константы и псевдоконстанты\n",
    "##### Суперглобальные переменные\n",
    "##### Функции эмуляции SSI\n",
    "##### Принцип подключения файлов\n",
    "##### Содержание лабораторной работы 5\n",
    "##### Конструирование сайта\n",
    "##### Упражнение 1: Создание подключаемых файлов\n",
    "##### Обработка ошибок\n",
    "#### Модуль 6\n",
    "#### PHP. Уровень 1\n",
    "#### Работа с HTTP: формы\n",
    "##### HTTP 1/1\n",
    "##### Заголовки запроса и ответа Статусы сервера\n",
    "##### Переменные окружения сервера\n",
    "##### Работа с веб-формами:\n",
    "##### Передача и приём данных HTTP методы GET и POST\n",
    "##### Проверка передаваемых значений\n",
    "##### Содержание лабораторной работы 6\n",
    "##### Передача параметров на сервер\n",
    "##### Упражнение 1: Создание подключаемых файлов\n",
    "##### Упражнение 2: Изменение меню\n",
    "##### Упражнение 3: Приём данных от пользователя\n",
    "##### Упражнение 4: Допиливаем таблицу умножения\n",
    "##### Содержание итоговой работы\n",
    "##### Создание простого калькулятора\n",
    "##### Уяснение задачи\n",
    "##### Упражнение 1: Прием данных из формы\n",
    "##### Упражнение 2: Получение необходимого результата\n",
    "##### Упражнение 3: Вывод результата и проверка работы\n",
    "##### Что почитать?"
   ]
  },
  {
   "cell_type": "code",
   "execution_count": null,
   "metadata": {},
   "outputs": [],
   "source": []
  },
  {
   "cell_type": "code",
   "execution_count": 3,
   "metadata": {},
   "outputs": [
    {
     "name": "stdout",
     "output_type": "stream",
     "text": [
      "<?php\r\n",
      "echo \"Welcome!\";\r\n",
      "\n"
     ]
    }
   ],
   "source": [
    "import lib01\n",
    "print(lib01.readFile('index1.php'))"
   ]
  },
  {
   "cell_type": "code",
   "execution_count": null,
   "metadata": {},
   "outputs": [],
   "source": []
  },
  {
   "cell_type": "code",
   "execution_count": 1,
   "metadata": {},
   "outputs": [
    {
     "name": "stdout",
     "output_type": "stream",
     "text": [
      "php -S 127.0.0.1:8000 -t .\r\n",
      "\n"
     ]
    }
   ],
   "source": [
    "import lib01\n",
    "print(lib01.readFile('startphp.bat'))"
   ]
  },
  {
   "cell_type": "code",
   "execution_count": null,
   "metadata": {},
   "outputs": [],
   "source": []
  },
  {
   "cell_type": "code",
   "execution_count": null,
   "metadata": {},
   "outputs": [],
   "source": [
    "# %load http://localhost:8000/index1.php\n",
    "Welcome!"
   ]
  },
  {
   "cell_type": "markdown",
   "metadata": {},
   "source": [
    "[http://localhost:8000/index1.php](http://localhost:8000/index1.php)\n"
   ]
  },
  {
   "cell_type": "markdown",
   "metadata": {},
   "source": [
    "!php -S 127.0.0.1:8000 -t ."
   ]
  },
  {
   "cell_type": "code",
   "execution_count": null,
   "metadata": {},
   "outputs": [],
   "source": [
    "# %load startphp.bat\n",
    "php -S 127.0.0.1:8000 -t .\n"
   ]
  },
  {
   "cell_type": "code",
   "execution_count": null,
   "metadata": {},
   "outputs": [],
   "source": [
    "!msconfig"
   ]
  },
  {
   "cell_type": "code",
   "execution_count": null,
   "metadata": {},
   "outputs": [],
   "source": [
    "def writeFile(name, string1):\n",
    "    with codecs.open(name, 'w', 'utf-8') as file:\n",
    "        file.write(string1)\n",
    "\n",
    "def readFile(name):\n",
    "    string1 = ''\n",
    "    with codecs.open(name, 'r', 'utf-8') as file:\n",
    "        string1 = file.read()\n",
    "    return string1\n"
   ]
  },
  {
   "cell_type": "markdown",
   "metadata": {},
   "source": [
    "#### PHP. Уровень 1 Основы PHP\n",
    "##### Как PHP обрабатывает файл\n",
    "##### PHP тэги\n",
    "##### Комментарии\n",
    "##### Особенности PHP\n",
    "##### Вывод данных\n",
    "##### Содержание лабораторной работы 2.1\n",
    "##### Вывод данных Упражнение 1: Вывод текущей даты\n",
    "##### Переменные\n",
    "##### Использование переменных\n",
    "##### Константы\n",
    "##### Содержание лабораторной работы 2.2\n",
    "##### Использование переменных Упражнение 1: Вывод текущей даты используя переменные\n",
    "##### Ошибки -наше всё\n",
    "##### Манипуляции с переменными\n",
    "##### Типы данных: числа\n",
    "##### Типы данных: строки\n",
    "##### Содержание лабораторной работы 2.3\n",
    "##### Использование строк в двойных кавычках\n",
    "##### Упражнение 1: Вывод текущей даты используя подстановку значений переменных в двойных кавычках\n",
    "##### Арифметические операторы\n",
    "##### Конкатенация строк\n",
    "##### Типы данных: boolean и NULL\n",
    "##### Манипуляции с типами\n",
    "##### Управление кодом: if\n",
    "##### Таблица сравнения типов\n",
    "##### Операторы сравнения\n",
    "##### Логические операторы\n",
    "##### Управление кодом: elseif\n",
    "##### Содержание лабораторной работы 2.4\n",
    "##### Использование управляющих конструкций if-elseif-else Упражнение 1: Вывод приветствия в зависимости от времени суток\n",
    "##### Управление кодом: switch\n",
    "##### Содержание лабораторной работы 2.5\n",
    "##### Использование управляющей конструкции switch\n",
    "##### Упражнение 1: Вывод значения директивы PHP post_max_size\n",
    "##### Типы данных: массив\n",
    "##### Содержание лабораторной работы 2.6\n",
    "##### Использование многомерного массива\n",
    "##### Упражнение 1: Создание динамического меню\n",
    "#### Модуль 3 PHP. Уровень 1 Циклы\n",
    "##### Операторы инкремента и декремента\n",
    "##### Цикл for\n",
    "##### Лабораторная работа 3.1\n",
    "##### Использование цикла for\n",
    "##### Упражнение 1: Вывод нечетных чисел из заданного диапазона\n",
    "##### Цикл while\n",
    "##### Содержание лабораторной работы 3.2\n",
    "##### Использование цикла while\n",
    "##### Упражнение 1: Вывод строки посимвольно\n",
    "##### Цикл do-while\n",
    "##### Управление циклами\n",
    "##### Содержание лабораторной работы 3.3\n",
    "##### Создание динамической таблицы умножения\n",
    "##### Упражнение 1: Создание HTML-таблицы\n",
    "##### Упражнение 2: Приводим таблицу к товарному виду\n",
    "##### Цикл foreach\n",
    "##### Содержание лабораторной работы 3.4\n",
    "##### Создание динамического навигационного меню\n",
    "##### Упражнение 1: Вывод меню с использованием цикла\n",
    "#### Модуль 4\n",
    "#### PHP. Уровень 1 Пользовательские функции\n",
    "##### Декларация функции\n",
    "##### Вызов функции\n",
    "##### Варианты объявления функции\n",
    "##### Аргументы функции\n",
    "##### Области видимости переменных\n",
    "##### Статические переменные\n",
    "##### Возвращаемые значения\n",
    "##### Функция с переменным числом аргументов\n",
    "##### Уточнение типа аргумента функции##### \n",
    "##### Содержание лабораторной работы 4.1\n",
    "##### Создание функции отрисовки таблицы умножения\n",
    "##### Упражнение 1: Отрисовка таблицы с помощью функции\n",
    "##### Содержание лабораторной работы 4.2\n",
    "##### Создание функции отрисовки меню навигации по сайту\n",
    "##### Упражнение 1: Отрисовка меню с помощью функции\n",
    "##### Возвращаемые значения\n",
    "#### Модуль 5\n",
    "#### PHP. Уровень 1 Что внутри PHP?\n",
    "##### Учимся читать документацию\n",
    "##### Как читать описание функций\n",
    "##### Обзор встроенных функций\n",
    "##### Встроенные константы и псевдоконстанты\n",
    "##### Суперглобальные переменные\n",
    "##### Функции эмуляции SSI\n",
    "##### Принцип подключения файлов\n",
    "##### Содержание лабораторной работы 5\n",
    "##### Конструирование сайта\n",
    "##### Упражнение 1: Создание подключаемых файлов\n",
    "##### Обработка ошибок\n",
    "#### Модуль 6\n",
    "#### PHP. Уровень 1\n",
    "#### Работа с HTTP: формы\n",
    "##### HTTP 1/1\n",
    "##### Заголовки запроса и ответа Статусы сервера\n",
    "##### Переменные окружения сервера\n",
    "##### Работа с веб-формами:\n",
    "##### Передача и приём данных HTTP методы GET и POST\n",
    "##### Проверка передаваемых значений\n",
    "##### Содержание лабораторной работы 6\n",
    "##### Передача параметров на сервер\n",
    "##### Упражнение 1: Создание подключаемых файлов\n",
    "##### Упражнение 2: Изменение меню\n",
    "##### Упражнение 3: Приём данных от пользователя\n",
    "##### Упражнение 4: Допиливаем таблицу умножения\n",
    "##### Содержание итоговой работы\n",
    "##### Создание простого калькулятора\n",
    "##### Уяснение задачи\n",
    "##### Упражнение 1: Прием данных из формы\n",
    "##### Упражнение 2: Получение необходимого результата\n",
    "##### Упражнение 3: Вывод результата и проверка работы\n",
    "##### Что почитать?"
   ]
  },
  {
   "cell_type": "code",
   "execution_count": null,
   "metadata": {},
   "outputs": [],
   "source": []
  },
  {
   "cell_type": "code",
   "execution_count": null,
   "metadata": {},
   "outputs": [],
   "source": [
    "!startphp.bat"
   ]
  },
  {
   "cell_type": "code",
   "execution_count": null,
   "metadata": {},
   "outputs": [],
   "source": []
  }
 ],
 "metadata": {
  "kernelspec": {
   "display_name": "Python 3",
   "language": "python",
   "name": "python3"
  },
  "language_info": {
   "codemirror_mode": {
    "name": "ipython",
    "version": 3
   },
   "file_extension": ".py",
   "mimetype": "text/x-python",
   "name": "python",
   "nbconvert_exporter": "python",
   "pygments_lexer": "ipython3",
   "version": "3.6.8"
  }
 },
 "nbformat": 4,
 "nbformat_minor": 2
}
