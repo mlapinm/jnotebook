{
 "cells": [
  {
   "cell_type": "code",
   "execution_count": null,
   "metadata": {},
   "outputs": [],
   "source": [
    "#### PHP. Уровень 2.\n",
    "#### Разработка web-сайтов и\n",
    "#### взаимодействие с MySQL\n",
    "#### Использование cookie\n",
    "##### Что такое cookie?\n",
    "##### Типы cookie\n",
    "##### Параметры cookie\n",
    "##### Создание cookie\n",
    "##### Чтение сookie\n",
    "##### Удаление cookie\n",
    "##### Дополнительные манипуляции с cookie\n",
    "##### \n",
    "##### \n",
    "##### \n",
    "##### \n",
    "##### \n",
    "##### \n",
    "##### \n",
    "##### \n"
   ]
  }
 ],
 "metadata": {
  "kernelspec": {
   "display_name": "Python 3",
   "language": "python",
   "name": "python3"
  },
  "language_info": {
   "codemirror_mode": {
    "name": "ipython",
    "version": 3
   },
   "file_extension": ".py",
   "mimetype": "text/x-python",
   "name": "python",
   "nbconvert_exporter": "python",
   "pygments_lexer": "ipython3",
   "version": "3.6.8"
  }
 },
 "nbformat": 4,
 "nbformat_minor": 2
}
