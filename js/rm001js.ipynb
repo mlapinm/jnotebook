{
 "cells": [
  {
   "cell_type": "markdown",
   "metadata": {},
   "source": [
    "## JavaScript1:\n",
    "* [Типы](#Типы)  \n",
    "[Приведение к типам](#Приведение-к-типам)\n",
    "* [Запустить файл в консоли](#Запустить-файл-в-консоли)\n",
    "* [Управляющие конструкции](#Управляющие-конструкции)\n",
    "* [Рекурсия](#Рекурсия)\n",
    "* [Объекты и массивы](#Объекты-и-массивы)\n",
    "* [Проверка наличия свойств](#Проверка-наличия-свойств)\n",
    "* [Перебор свойств объекта](#Перебор-свойств-объекта)\n",
    "* [Методы, this](#Методы,-this)\n",
    "* [Урок 6](#Урок-6)\n",
    "* [Объектный тип массив: Array](#Объектный-тип-массив:-Array)\n",
    "* [Перебор элементов массива](#Перебор-элементов-массива)\n",
    "* [Удаление элементов массива](#Удаление-элементов-массива)\n",
    "* [Получение строки из массива](#Получение-строки-из-массива)\n",
    "* [Сложение массивов](#Сложение-массивов)\n",
    "* [Получение части массива](#Получение-части-массива)\n",
    "* [Сортировка массива](#Сортировка-массива)\n",
    "* [Работа с концом массива](#Работа-с-концом-массива)\n",
    "* [Работа с началом массива](#Работа-с-началом-массива)\n",
    "* [Вставка и удаление в любом месте](#Вставка-и-удаление-в-любом-месте)\n",
    "* [Встроенный объект Math](#Встроенный-объект-Math)\n",
    "* [Методы массива](#Методы-массива)\n",
    "* [Преобразование числа в строку](#Преобразование-числа-в-строку)\n",
    "* [Преобразование строки в число](#Преобразование-строки-в-число)\n",
    "* [Длина строки](#Длина-строки)\n",
    "* [Сложение строк](#Сложение-строк)\n",
    "* [Регистр символов](#Регистр-символов)\n",
    "* [Получение символа из строки](#Получение-символа-из-строки)\n",
    "* [Получение части строки](#Получение-части-строки)\n",
    "* [Поиск по строке](#Поиск-по-строке)\n",
    "* [Замена в строке](#Замена-в-строке)\n",
    "* [Разбиение строки](#Разбиение-строки)\n",
    "* [Регулярные выражения](#Регулярные-выражения)\n",
    "* [Базовое использование](#Базовое-использование)\n",
    "* [Специальные последовательности](#Специальные-последовательности)\n",
    "* [Классы символов](#Классы-символов)\n",
    "* [Повторения](#Повторения)\n",
    "* [Позиции соответствия](#Позиции-соответствия)\n",
    "* [Флаги](#Флаги)\n",
    "* [Группировка и ссылки](#Группировка-и-ссылки)\n",
    "* [Методы match() и exec()](#Методы-match()-и-exec())\n",
    "* [Объектно ориентированное программирование](#Объектно-ориентированное-программирование)\n",
    "* [Конструкторы](#Конструкторы)\n",
    "* [Новый взгляд на привычное](#Новый-взгляд-на-привычное)\n",
    "* [Проверка конструктора](#Проверка-конструктора)\n",
    "* [Прототипы](#Прототипы)\n",
    "* [Методы объекта](#Методы-объекта)\n",
    "* [Объект Date](#Объект-Date)\n",
    "* [Создание объекта Date](#Создание-объекта-Date)\n",
    "* [Методы объекта Date](#Методы-объекта-Date)\n",
    "* [Дополнительные методы](#Дополнительные-методы)\n",
    "* [Строчное представление даты](#Строчное-представление-даты)\n",
    "* [Запись информации](#Запись-информации)\n",
    "* [Объект error](#Объект-error)\n",
    "* [Конструктор объекта Error](#Конструктор-объекта-Error)\n"
   ]
  },
  {
   "cell_type": "markdown",
   "metadata": {},
   "source": [
    "##### Типы  \n",
    "Операто определения тиап  \n",
    "typeof  \n",
    "Функция проверки  \n",
    "isNaN()  \n",
    "isFinite()  \n",
    "##### Приведение к типам  \n",
    "- В число\n",
    "    - x = '5' * 1  \n",
    "    - x = + '5'  \n",
    "    - x = parseInt('5.3')\n",
    "    - x = parseFloat('5.3')\n",
    "    - x = Number(true)\n",
    "- В строку\n",
    "    - x = 5 + ''\n",
    "    - x = String(true)\n",
    "- В логический тип\n",
    "    - x = !!5\n",
    "    - x = Boolean(true)\n",
    "\n",
    "undefined, null  \n",
    "\n",
    "##### Запустить файл в консоли\n",
    "- // test.js\n",
    "var name = 'John'  \n",
    "print('hello ' + name)    \n",
    "- js test.js\n",
    "\n",
    "##### Chrome\n",
    "- &lt;script&gt;\n",
    "//comments  \n",
    "var name = 'John'  \n",
    "print('hello ' + name)    \n",
    "&lt;script&gt;\n",
    "- &lt;script src = \"test.js\"&gt;&lt;/script&gt;\n",
    "#### Управляющие конструкции\n",
    "- Циклы\n",
    "- while\n",
    "- for\n",
    "- do while\n",
    "- if - else if - else\n",
    "- метки\n",
    "- break continue\n",
    "- switch\n",
    "\n",
    "##### while\n",
    "- while(true){  \n",
    "    k++  \n",
    "}  \n",
    "##### ++ --\n",
    "##### 2**10\n",
    "r = 1  \n",
    "k = 0  \n",
    "while(k<10){  \n",
    "r *= 2  \n",
    "k++  \n",
    "}  \n",
    "\n"
   ]
  },
  {
   "cell_type": "code",
   "execution_count": 1,
   "metadata": {},
   "outputs": [
    {
     "data": {
      "text/html": [
       "\n",
       "    <div id=\"d1window\">____</div>\n",
       "    <script>\n",
       "    function f(){\n",
       "        s = ''\n",
       "//2**10\n",
       "        r = 1\n",
       "        k = 0\n",
       "        while(k<10){\n",
       "            r *= 2\n",
       "            k++\n",
       "        }\n",
       "        s += 'r = ' + r\n",
       "        s += '<br>'\n",
       "        s += '2**10= ' + 2**10\n",
       "        s += '<br>'\n",
       "//\n",
       "        r = 1\n",
       "        for(i=0;i<10;i++){\n",
       "            r*=2\n",
       "        }\n",
       "        s+= 'r(for) = '+ r\n",
       "        el = document.getElementById('d1window')\n",
       "        el.innerHTML = s\n",
       "    }\n",
       "    f()\n",
       "    \n",
       "    </script>\n"
      ],
      "text/plain": [
       "<IPython.core.display.HTML object>"
      ]
     },
     "execution_count": 1,
     "metadata": {},
     "output_type": "execute_result"
    }
   ],
   "source": [
    "from IPython.display import HTML\n",
    "form = \"\"\"\n",
    "    <div id=\"d1window\">____</div>\n",
    "    <script>\n",
    "    function f(){\n",
    "        s = ''\n",
    "//2**10\n",
    "        r = 1\n",
    "        k = 0\n",
    "        while(k<10){\n",
    "            r *= 2\n",
    "            k++\n",
    "        }\n",
    "        s += 'r = ' + r\n",
    "        s += '<br>'\n",
    "        s += '2**10= ' + 2**10\n",
    "        s += '<br>'\n",
    "//\n",
    "        r = 1\n",
    "        for(i=0;i<10;i++){\n",
    "            r*=2\n",
    "        }\n",
    "        s+= 'r(for) = '+ r\n",
    "        el = document.getElementById('d1window')\n",
    "        el.innerHTML = s\n",
    "    }\n",
    "    f()\n",
    "    \n",
    "    </script>\n",
    "\"\"\"\n",
    "\n",
    "HTML(form)"
   ]
  },
  {
   "cell_type": "code",
   "execution_count": 2,
   "metadata": {},
   "outputs": [
    {
     "data": {
      "text/html": [
       "\n",
       "    <div id=\"d1window\">____</div>\n",
       "    <script>\n",
       "    function f(){\n",
       "        s = ''\n",
       "        s += 'Приведение в число'\n",
       "        var x\n",
       "        //1\n",
       "        x = '5'*1\n",
       "        s += \"x = '5'*1 \"\n",
       "        s += typeof(x)\n",
       "        s += '<br>'\n",
       "        //2\n",
       "        x = parseInt('5.3')\n",
       "        s += \"parseInt('5.3') \"\n",
       "        s += typeof(x)\n",
       "        s += '  '+x\n",
       "        el = document.getElementById('d1window')\n",
       "        el.innerHTML = s\n",
       "    }\n",
       "    f()\n",
       "    \n",
       "    </script>\n"
      ],
      "text/plain": [
       "<IPython.core.display.HTML object>"
      ]
     },
     "execution_count": 2,
     "metadata": {},
     "output_type": "execute_result"
    }
   ],
   "source": [
    "from IPython.display import HTML\n",
    "form = \"\"\"\n",
    "    <div id=\"d1window\">____</div>\n",
    "    <script>\n",
    "    function f(){\n",
    "        s = ''\n",
    "        s += 'Приведение в число'\n",
    "        var x\n",
    "        //1\n",
    "        x = '5'*1\n",
    "        s += \"x = '5'*1 \"\n",
    "        s += typeof(x)\n",
    "        s += '<br>'\n",
    "        //2\n",
    "        x = parseInt('5.3')\n",
    "        s += \"parseInt('5.3') \"\n",
    "        s += typeof(x)\n",
    "        s += '  '+x\n",
    "        el = document.getElementById('d1window')\n",
    "        el.innerHTML = s\n",
    "    }\n",
    "    f()\n",
    "    \n",
    "    </script>\n",
    "\"\"\"\n",
    "\n",
    "HTML(form)"
   ]
  },
  {
   "cell_type": "markdown",
   "metadata": {},
   "source": [
    "##### Рекурсия"
   ]
  },
  {
   "cell_type": "code",
   "execution_count": 3,
   "metadata": {},
   "outputs": [
    {
     "data": {
      "text/html": [
       "\n",
       "    <div id=\"d1recurs\">____</div>\n",
       "    <script>\n",
       "    s = ''\n",
       "    function countLine(count){\n",
       "        if(count>=10){\n",
       "            return\n",
       "        }else{\n",
       "            s += 'Line'+count+'<br>'\n",
       "            count += 1\n",
       "            countLine(count)\n",
       "        }\n",
       "    }\n",
       "    function f(){\n",
       "    \n",
       "        countLine(0)\n",
       "    \n",
       "        el = document.getElementById('d1recurs')\n",
       "        el.innerHTML = s\n",
       "        \n",
       "    }\n",
       "    f()\n",
       "    \n",
       "    </script>\n"
      ],
      "text/plain": [
       "<IPython.core.display.HTML object>"
      ]
     },
     "execution_count": 3,
     "metadata": {},
     "output_type": "execute_result"
    }
   ],
   "source": [
    "from IPython.display import HTML\n",
    "form = \"\"\"\n",
    "    <div id=\"d1recurs\">____</div>\n",
    "    <script>\n",
    "    s = ''\n",
    "    function countLine(count){\n",
    "        if(count>=10){\n",
    "            return\n",
    "        }else{\n",
    "            s += 'Line'+count+'<br>'\n",
    "            count += 1\n",
    "            countLine(count)\n",
    "        }\n",
    "    }\n",
    "    function f(){\n",
    "    \n",
    "        countLine(0)\n",
    "    \n",
    "        el = document.getElementById('d1recurs')\n",
    "        el.innerHTML = s\n",
    "        \n",
    "    }\n",
    "    f()\n",
    "    \n",
    "    </script>\n",
    "\"\"\"\n",
    "\n",
    "HTML(form)"
   ]
  },
  {
   "cell_type": "code",
   "execution_count": 4,
   "metadata": {},
   "outputs": [
    {
     "data": {
      "text/html": [
       "\n",
       "    <div id=\"d_78\">____</div>\n",
       "    <script>\n",
       "    s = ''\n",
       "    var consol={\n",
       "    log:function (s1, s2='',s3='',s4 ='', s5='<br>'){\n",
       "        s += s1+' '+s2+' '+s3+' '+s4+' '+s5   }}\n",
       "    function f(){\n",
       "//===============================================    \n",
       "    function fl(x){\n",
       "        if(x == 0)\n",
       "            return 1\n",
       "        else\n",
       "            return x*fl(x-1)\n",
       "    }\n",
       "    x = 3\n",
       "    var y = fl(x)\n",
       "    consol.log(\"fl(\",x,\") = \", y)\n",
       "//===============================================    \n",
       "        el = document.getElementById('d_78')\n",
       "        el.innerHTML = s\n",
       "    }f()</script>\n"
      ],
      "text/plain": [
       "<IPython.core.display.HTML object>"
      ]
     },
     "execution_count": 4,
     "metadata": {},
     "output_type": "execute_result"
    }
   ],
   "source": [
    "from IPython.display import HTML\n",
    "form = \"\"\"\n",
    "    <div id=\"d_78\">____</div>\n",
    "    <script>\n",
    "    s = ''\n",
    "    var consol={\n",
    "    log:function (s1, s2='',s3='',s4 ='', s5='<br>'){\n",
    "        s += s1+' '+s2+' '+s3+' '+s4+' '+s5   }}\n",
    "    function f(){\n",
    "//===============================================    \n",
    "    function fl(x){\n",
    "        if(x == 0)\n",
    "            return 1\n",
    "        else\n",
    "            return x*fl(x-1)\n",
    "    }\n",
    "    x = 3\n",
    "    var y = fl(x)\n",
    "    consol.log(\"fl(\",x,\") = \", y)\n",
    "//===============================================    \n",
    "        el = document.getElementById('d_78')\n",
    "        el.innerHTML = s\n",
    "    }f()</script>\n",
    "\"\"\"\n",
    "HTML(form)"
   ]
  },
  {
   "cell_type": "code",
   "execution_count": 5,
   "metadata": {},
   "outputs": [
    {
     "data": {
      "text/html": [
       "\n",
       "    <div id=\"d_79\">____</div>\n",
       "    <script>\n",
       "    s = ''\n",
       "    var consol={\n",
       "    log:function (s1, s2='',s3='',s4 ='', s5='<br>'){\n",
       "        s += s1+' '+s2+' '+s3+' '+s4+' '+s5   }}\n",
       "    function f(){\n",
       "//===============================================    \n",
       "    function pow(x,y){\n",
       "        if (y == 0)\n",
       "            return 1\n",
       "        else\n",
       "            return x*pow(x,y-1)\n",
       "    }\n",
       "    consol.log(pow(3,3))\n",
       "//===============================================    \n",
       "        el = document.getElementById('d_79')\n",
       "        el.innerHTML = s\n",
       "    }f()</script>\n"
      ],
      "text/plain": [
       "<IPython.core.display.HTML object>"
      ]
     },
     "execution_count": 5,
     "metadata": {},
     "output_type": "execute_result"
    }
   ],
   "source": [
    "from IPython.display import HTML\n",
    "form = \"\"\"\n",
    "    <div id=\"d_79\">____</div>\n",
    "    <script>\n",
    "    s = ''\n",
    "    var consol={\n",
    "    log:function (s1, s2='',s3='',s4 ='', s5='<br>'){\n",
    "        s += s1+' '+s2+' '+s3+' '+s4+' '+s5   }}\n",
    "    function f(){\n",
    "//===============================================    \n",
    "    function pow(x,y){\n",
    "        if (y == 0)\n",
    "            return 1\n",
    "        else\n",
    "            return x*pow(x,y-1)\n",
    "    }\n",
    "    consol.log(pow(3,3))\n",
    "//===============================================    \n",
    "        el = document.getElementById('d_79')\n",
    "        el.innerHTML = s\n",
    "    }f()</script>\n",
    "\"\"\"\n",
    "HTML(form)"
   ]
  },
  {
   "cell_type": "markdown",
   "metadata": {},
   "source": [
    "### Объекты и массивы\n",
    "##### object\n",
    "- var user = {}\n",
    "- user.name = 'John'\n",
    "- user.age = 25\n",
    "- user.admin = true\n",
    "- console.log(user.name)"
   ]
  },
  {
   "cell_type": "code",
   "execution_count": 6,
   "metadata": {},
   "outputs": [
    {
     "data": {
      "text/html": [
       "\n",
       "    <div id=\"d_\">____</div>\n",
       "    <script>\n",
       "    s = ''\n",
       "    function f(){\n",
       "//===============================================    \n",
       "var user = {}\n",
       "user.name = 'John'\n",
       "user.age = 25\n",
       "user.admin = true\n",
       "s += 'name = ' + user.name\n",
       "//===============================================    \n",
       "        el = document.getElementById('d_')\n",
       "        el.innerHTML = s\n",
       "    }f()</script>\n"
      ],
      "text/plain": [
       "<IPython.core.display.HTML object>"
      ]
     },
     "execution_count": 6,
     "metadata": {},
     "output_type": "execute_result"
    }
   ],
   "source": [
    "from IPython.display import HTML\n",
    "form = \"\"\"\n",
    "    <div id=\"d_\">____</div>\n",
    "    <script>\n",
    "    s = ''\n",
    "    function f(){\n",
    "//===============================================    \n",
    "var user = {}\n",
    "user.name = 'John'\n",
    "user.age = 25\n",
    "user.admin = true\n",
    "s += 'name = ' + user.name\n",
    "//===============================================    \n",
    "        el = document.getElementById('d_')\n",
    "        el.innerHTML = s\n",
    "    }f()</script>\n",
    "\"\"\"\n",
    "HTML(form)"
   ]
  },
  {
   "cell_type": "markdown",
   "metadata": {},
   "source": [
    "- var user = {  \n",
    "    name: 'Guest',  \n",
    "    age: 0,  \n",
    "    admin: false,  \n",
    "}  \n",
    "- user.name = 'John'\n",
    "- user.age = 25"
   ]
  },
  {
   "cell_type": "code",
   "execution_count": 7,
   "metadata": {},
   "outputs": [
    {
     "data": {
      "text/html": [
       "\n",
       "    <div id=\"d1\">____</div>\n",
       "    <script>\n",
       "    s = ''\n",
       "    function f(){\n",
       "//===============================================    \n",
       "var user = {\n",
       "    'name': 'Guest',\n",
       "    age: 0,\n",
       "    admin: false\n",
       "}\n",
       "user.name = 'John'\n",
       "user.age = 25\n",
       "s += \"1234\"\n",
       "s += 'name = ' + user.name + ' ' + user['name'] + '<br>'\n",
       "s += 'age = ' + user.age + ' '  + user['age']\n",
       "//===============================================    \n",
       "        el = document.getElementById('d1')\n",
       "        el.innerHTML = s\n",
       "    }\n",
       "    f()\n",
       "    </script>\n"
      ],
      "text/plain": [
       "<IPython.core.display.HTML object>"
      ]
     },
     "execution_count": 7,
     "metadata": {},
     "output_type": "execute_result"
    }
   ],
   "source": [
    "from IPython.display import HTML\n",
    "form = \"\"\"\n",
    "    <div id=\"d1\">____</div>\n",
    "    <script>\n",
    "    s = ''\n",
    "    function f(){\n",
    "//===============================================    \n",
    "var user = {\n",
    "    'name': 'Guest',\n",
    "    age: 0,\n",
    "    admin: false\n",
    "}\n",
    "user.name = 'John'\n",
    "user.age = 25\n",
    "s += \"1234\"\n",
    "s += 'name = ' + user.name + ' ' + user['name'] + '<br>'\n",
    "s += 'age = ' + user.age + ' '  + user['age']\n",
    "//===============================================    \n",
    "        el = document.getElementById('d1')\n",
    "        el.innerHTML = s\n",
    "    }\n",
    "    f()\n",
    "    </script>\n",
    "\"\"\"\n",
    "HTML(form)"
   ]
  },
  {
   "cell_type": "markdown",
   "metadata": {},
   "source": [
    "##### Проверка наличия свойств\n",
    "- var user={x:25}\n",
    "- y = 'x' in user"
   ]
  },
  {
   "cell_type": "code",
   "execution_count": 5,
   "metadata": {},
   "outputs": [
    {
     "data": {
      "text/html": [
       "\n",
       "    <div id=\"d_44\">____</div>\n",
       "    <script>\n",
       "    s = ''\n",
       "    function f(){\n",
       "//===============================================    \n",
       "    var user={x:25}\n",
       "    y = 'x' in user\n",
       "    s += y\n",
       "//===============================================    \n",
       "        el = document.getElementById('d_44')\n",
       "        el.innerHTML = s\n",
       "    }f()</script>\n"
      ],
      "text/plain": [
       "<IPython.core.display.HTML object>"
      ]
     },
     "execution_count": 5,
     "metadata": {},
     "output_type": "execute_result"
    }
   ],
   "source": [
    "from IPython.display import HTML\n",
    "form = \"\"\"\n",
    "    <div id=\"d_44\">____</div>\n",
    "    <script>\n",
    "    s = ''\n",
    "    function f(){\n",
    "//===============================================    \n",
    "    var user={x:25}\n",
    "    y = 'x' in user\n",
    "    s += y\n",
    "//===============================================    \n",
    "        el = document.getElementById('d_44')\n",
    "        el.innerHTML = s\n",
    "    }f()</script>\n",
    "\"\"\"\n",
    "HTML(form)"
   ]
  },
  {
   "cell_type": "markdown",
   "metadata": {},
   "source": [
    "##### Перебор свойств объекта\n",
    "- var o = {0:'Guest', 1:0, 2:false}\n",
    "- for(var i=0;i in o; i++){  \n",
    "    s += i + \": \" + o[i] + '&lt;br&gt;'  \n",
    "} \n",
    "- for(var i in o){  \n",
    "    s += i + \": \" + o[i] + '&lt;br&gt;'  \n",
    "} "
   ]
  },
  {
   "cell_type": "code",
   "execution_count": 9,
   "metadata": {},
   "outputs": [
    {
     "data": {
      "text/html": [
       "\n",
       "    <div id=\"d_46\">____</div>\n",
       "    <script>\n",
       "    s = ''\n",
       "    var consol={\n",
       "    log:function (s1, s2='',s3='',s4 ='', s5='<br>'){\n",
       "        s += s1+' '+s2+' '+s3+' '+s4+' '+s5 } }\n",
       "    function f(){\n",
       "//===============================================    \n",
       "var o = {0:'Guest', 1:0, 2:false}\n",
       "for(var i=0;i in o; i++){\n",
       "s += i + \": \" + o[i] + '<br>'\n",
       "}\n",
       "for(var i in o){\n",
       "s += i + \": \" + o[i] + '<br>'\n",
       "}\n",
       "\n",
       "var user = {\n",
       "    name1: 'Guest',\n",
       "    age: 0,\n",
       "    admin: false\n",
       "}\n",
       "for(var i in user){\n",
       "consol.log(i,user[i])\n",
       "}\n",
       "//===============================================    \n",
       "        el = document.getElementById('d_46')\n",
       "        el.innerHTML = s\n",
       "    }f()</script>\n"
      ],
      "text/plain": [
       "<IPython.core.display.HTML object>"
      ]
     },
     "execution_count": 9,
     "metadata": {},
     "output_type": "execute_result"
    }
   ],
   "source": [
    "from IPython.display import HTML\n",
    "form = \"\"\"\n",
    "    <div id=\"d_46\">____</div>\n",
    "    <script>\n",
    "    s = ''\n",
    "    var consol={\n",
    "    log:function (s1, s2='',s3='',s4 ='', s5='<br>'){\n",
    "        s += s1+' '+s2+' '+s3+' '+s4+' '+s5 } }\n",
    "    function f(){\n",
    "//===============================================    \n",
    "var o = {0:'Guest', 1:0, 2:false}\n",
    "for(var i=0;i in o; i++){\n",
    "s += i + \": \" + o[i] + '<br>'\n",
    "}\n",
    "for(var i in o){\n",
    "s += i + \": \" + o[i] + '<br>'\n",
    "}\n",
    "\n",
    "var user = {\n",
    "    name1: 'Guest',\n",
    "    age: 0,\n",
    "    admin: false\n",
    "}\n",
    "for(var i in user){\n",
    "consol.log(i,user[i])\n",
    "}\n",
    "//===============================================    \n",
    "        el = document.getElementById('d_46')\n",
    "        el.innerHTML = s\n",
    "    }f()</script>\n",
    "\"\"\"\n",
    "HTML(form)"
   ]
  },
  {
   "cell_type": "markdown",
   "metadata": {},
   "source": [
    "##### Методы, this\n",
    "- var user = {  \n",
    "    name : 'Guest',  \n",
    "    getName : function(){  \n",
    "    consol.log(this.name)  \n",
    "    }  \n",
    "}\n",
    "- user.name = 'John'\n",
    "- user.getName()"
   ]
  },
  {
   "cell_type": "code",
   "execution_count": 10,
   "metadata": {},
   "outputs": [
    {
     "data": {
      "text/html": [
       "\n",
       "    <div id=\"d_74\">____</div>\n",
       "    <script>\n",
       "    s = ''\n",
       "    var consol={\n",
       "    log:function (s1, s2='',s3='',s4 ='', s5='<br>'){\n",
       "        s += s1+' '+s2+' '+s3+' '+s4+' '+s5   }}\n",
       "    function f(){\n",
       "//===============================================    \n",
       "var user = {\n",
       "    name : 'Guest',\n",
       "    getName : function(){\n",
       "    consol.log(this.name)\n",
       "    }\n",
       "}\n",
       "user.name = 'John'\n",
       "user.getName()    \n",
       "//===============================================    \n",
       "        el = document.getElementById('d_74')\n",
       "        el.innerHTML = s\n",
       "    }f()</script>\n"
      ],
      "text/plain": [
       "<IPython.core.display.HTML object>"
      ]
     },
     "execution_count": 10,
     "metadata": {},
     "output_type": "execute_result"
    }
   ],
   "source": [
    "from IPython.display import HTML\n",
    "form = \"\"\"\n",
    "    <div id=\"d_74\">____</div>\n",
    "    <script>\n",
    "    s = ''\n",
    "    var consol={\n",
    "    log:function (s1, s2='',s3='',s4 ='', s5='<br>'){\n",
    "        s += s1+' '+s2+' '+s3+' '+s4+' '+s5   }}\n",
    "    function f(){\n",
    "//===============================================    \n",
    "var user = {\n",
    "    name : 'Guest',\n",
    "    getName : function(){\n",
    "    consol.log(this.name)\n",
    "    }\n",
    "}\n",
    "user.name = 'John'\n",
    "user.getName()    \n",
    "//===============================================    \n",
    "        el = document.getElementById('d_74')\n",
    "        el.innerHTML = s\n",
    "    }f()</script>\n",
    "\"\"\"\n",
    "HTML(form)"
   ]
  },
  {
   "cell_type": "markdown",
   "metadata": {},
   "source": [
    "##### Урок 6"
   ]
  },
  {
   "cell_type": "code",
   "execution_count": 11,
   "metadata": {},
   "outputs": [
    {
     "data": {
      "text/html": [
       "\n",
       "    <div id=\"d_75\">____</div>\n",
       "    <script>\n",
       "    s = ''\n",
       "    var consol={\n",
       "    log:function (s1, s2='',s3='',s4 ='', s5='<br>'){\n",
       "        s += s1+' '+s2+' '+s3+' '+s4+' '+s5   }}\n",
       "    function f(){\n",
       "//===============================================    \n",
       "    function say(greet){\n",
       "        return function(name){\n",
       "            return greet + ' ' + name\n",
       "        }\n",
       "    }\n",
       "\n",
       "    consol.log(say)\n",
       "\n",
       "    var en = say(\"Hello\")\n",
       "    consol.log(en)\n",
       "    consol.log(en(\"John\"))\n",
       "    var ru = say(\"Привет\")\n",
       "    consol.log(ru(\"Вася\"))\n",
       "    consol.log(en(\"Mike\"))\n",
       "//===============================================    \n",
       "        el = document.getElementById('d_75')\n",
       "        el.innerHTML = s\n",
       "    }f()</script>\n"
      ],
      "text/plain": [
       "<IPython.core.display.HTML object>"
      ]
     },
     "execution_count": 11,
     "metadata": {},
     "output_type": "execute_result"
    }
   ],
   "source": [
    "from IPython.display import HTML\n",
    "form = \"\"\"\n",
    "    <div id=\"d_75\">____</div>\n",
    "    <script>\n",
    "    s = ''\n",
    "    var consol={\n",
    "    log:function (s1, s2='',s3='',s4 ='', s5='<br>'){\n",
    "        s += s1+' '+s2+' '+s3+' '+s4+' '+s5   }}\n",
    "    function f(){\n",
    "//===============================================    \n",
    "    function say(greet){\n",
    "        return function(name){\n",
    "            return greet + ' ' + name\n",
    "        }\n",
    "    }\n",
    "\n",
    "    consol.log(say)\n",
    "\n",
    "    var en = say(\"Hello\")\n",
    "    consol.log(en)\n",
    "    consol.log(en(\"John\"))\n",
    "    var ru = say(\"Привет\")\n",
    "    consol.log(ru(\"Вася\"))\n",
    "    consol.log(en(\"Mike\"))\n",
    "//===============================================    \n",
    "        el = document.getElementById('d_75')\n",
    "        el.innerHTML = s\n",
    "    }f()</script>\n",
    "\"\"\"\n",
    "HTML(form)"
   ]
  },
  {
   "cell_type": "markdown",
   "metadata": {},
   "source": [
    "function foo(x, y){  \n",
    "    consol.log(foo.length); // 2  \n",
    "    consol.log(arguments.length);//3  \n",
    "    consol.log(arguments[0]); // 5  \n",
    "}  \n",
    "consol.log('foo.length ' + foo.length); // 2  \n",
    "foo(5, 6, 7);  \n"
   ]
  },
  {
   "cell_type": "code",
   "execution_count": 12,
   "metadata": {},
   "outputs": [
    {
     "data": {
      "text/html": [
       "\n",
       "    <div id=\"d_76\">____</div>\n",
       "    <script>\n",
       "    s = ''\n",
       "    var consol={\n",
       "    log:function (s1, s2='',s3='',s4 ='', s5='<br>'){\n",
       "        s += s1+' '+s2+' '+s3+' '+s4+' '+s5   }}\n",
       "    function f(){\n",
       "//===============================================    \n",
       "function foo(x, y){  \n",
       "    consol.log(foo.length); // 2  \n",
       "    consol.log(arguments.length);//3  \n",
       "    consol.log(arguments[0]); // 5  \n",
       "}  \n",
       "consol.log('foo.length ' + foo.length); // 2  \n",
       "foo(5, 6, 7);  \n",
       "//===============================================    \n",
       "        el = document.getElementById('d_76')\n",
       "        el.innerHTML = s\n",
       "    }f()</script>\n"
      ],
      "text/plain": [
       "<IPython.core.display.HTML object>"
      ]
     },
     "execution_count": 12,
     "metadata": {},
     "output_type": "execute_result"
    }
   ],
   "source": [
    "from IPython.display import HTML\n",
    "form = \"\"\"\n",
    "    <div id=\"d_76\">____</div>\n",
    "    <script>\n",
    "    s = ''\n",
    "    var consol={\n",
    "    log:function (s1, s2='',s3='',s4 ='', s5='<br>'){\n",
    "        s += s1+' '+s2+' '+s3+' '+s4+' '+s5   }}\n",
    "    function f(){\n",
    "//===============================================    \n",
    "function foo(x, y){  \n",
    "    consol.log(foo.length); // 2  \n",
    "    consol.log(arguments.length);//3  \n",
    "    consol.log(arguments[0]); // 5  \n",
    "}  \n",
    "consol.log('foo.length ' + foo.length); // 2  \n",
    "foo(5, 6, 7);  \n",
    "//===============================================    \n",
    "        el = document.getElementById('d_76')\n",
    "        el.innerHTML = s\n",
    "    }f()</script>\n",
    "\"\"\"\n",
    "HTML(form)"
   ]
  },
  {
   "cell_type": "markdown",
   "metadata": {},
   "source": [
    "#### Объектный тип массив: Array\n",
    "var a = [];  \n",
    "var x = 'moon';  \n",
    "var y = function(){  \n",
    "    consol.log('Hello');  \n",
    "};  \n",
    "var a = [10, \"sun\", x, y, true];  \n",
    "a[1];  \n",
    "a[3]();  \n",
    "a[9] = 100;  "
   ]
  },
  {
   "cell_type": "code",
   "execution_count": 13,
   "metadata": {},
   "outputs": [
    {
     "data": {
      "text/html": [
       "\n",
       "    <div id=\"d_77\">____</div>\n",
       "    <script>\n",
       "    s = ''\n",
       "    var consol={\n",
       "    log:function (s1, s2='',s3='',s4 ='', s5='<br>'){\n",
       "        s += s1+' '+s2+' '+s3+' '+s4+' '+s5   }}\n",
       "    function f(){\n",
       "//===============================================    \n",
       "var a = [];  \n",
       "var x = 'moon';  \n",
       "var y = function(){  \n",
       "    consol.log('Hello');  \n",
       "};  \n",
       "var a = [10, \"sun\", x, y, true];  \n",
       "a[1];  \n",
       "a[3]();  \n",
       "a[9] = 100;  \n",
       "for(var i in a){\n",
       "    consol.log(i, a[i])\n",
       "}\n",
       "//===============================================    \n",
       "        el = document.getElementById('d_77')\n",
       "        el.innerHTML = s\n",
       "    }f()</script>\n"
      ],
      "text/plain": [
       "<IPython.core.display.HTML object>"
      ]
     },
     "execution_count": 13,
     "metadata": {},
     "output_type": "execute_result"
    }
   ],
   "source": [
    "from IPython.display import HTML\n",
    "form = \"\"\"\n",
    "    <div id=\"d_77\">____</div>\n",
    "    <script>\n",
    "    s = ''\n",
    "    var consol={\n",
    "    log:function (s1, s2='',s3='',s4 ='', s5='<br>'){\n",
    "        s += s1+' '+s2+' '+s3+' '+s4+' '+s5   }}\n",
    "    function f(){\n",
    "//===============================================    \n",
    "var a = [];  \n",
    "var x = 'moon';  \n",
    "var y = function(){  \n",
    "    consol.log('Hello');  \n",
    "};  \n",
    "var a = [10, \"sun\", x, y, true];  \n",
    "a[1];  \n",
    "a[3]();  \n",
    "a[9] = 100;  \n",
    "for(var i in a){\n",
    "    consol.log(i, a[i])\n",
    "}\n",
    "//===============================================    \n",
    "        el = document.getElementById('d_77')\n",
    "        el.innerHTML = s\n",
    "    }f()</script>\n",
    "\"\"\"\n",
    "HTML(form)"
   ]
  },
  {
   "cell_type": "markdown",
   "metadata": {},
   "source": [
    "##### Перебор элементов массива"
   ]
  },
  {
   "cell_type": "code",
   "execution_count": 14,
   "metadata": {},
   "outputs": [
    {
     "data": {
      "text/html": [
       "\n",
       "    <div id=\"d_80\">____</div>\n",
       "    <script>\n",
       "    s = ''\n",
       "    var consol={\n",
       "    log:function (s1, s2='',s3='',s4 ='', s5='<br>'){\n",
       "        s += s1+' '+s2+' '+s3+' '+s4+' '+s5   }}\n",
       "    function f(){\n",
       "//===============================================    \n",
       "var a = [5, 'abc', 73]; a[99] = 1;\n",
       "for (var i=0, x=0; i<a.length; i++)\n",
       "{\n",
       "x++;\n",
       "}\n",
       "consol.log(a)\n",
       "consol.log(x)\n",
       "var x = 0;\n",
       "for (var i in a) { x++; }    \n",
       "consol.log(x)\n",
       "//===============================================    \n",
       "        el = document.getElementById('d_80')\n",
       "        el.innerHTML = s\n",
       "    }f()</script>\n"
      ],
      "text/plain": [
       "<IPython.core.display.HTML object>"
      ]
     },
     "execution_count": 14,
     "metadata": {},
     "output_type": "execute_result"
    }
   ],
   "source": [
    "from IPython.display import HTML\n",
    "form = \"\"\"\n",
    "    <div id=\"d_80\">____</div>\n",
    "    <script>\n",
    "    s = ''\n",
    "    var consol={\n",
    "    log:function (s1, s2='',s3='',s4 ='', s5='<br>'){\n",
    "        s += s1+' '+s2+' '+s3+' '+s4+' '+s5   }}\n",
    "    function f(){\n",
    "//===============================================    \n",
    "var a = [5, 'abc', 73]; a[99] = 1;\n",
    "for (var i=0, x=0; i<a.length; i++)\n",
    "{\n",
    "x++;\n",
    "}\n",
    "consol.log(a)\n",
    "consol.log(x)\n",
    "var x = 0;\n",
    "for (var i in a) { x++; }    \n",
    "consol.log(x)\n",
    "//===============================================    \n",
    "        el = document.getElementById('d_80')\n",
    "        el.innerHTML = s\n",
    "    }f()</script>\n",
    "\"\"\"\n",
    "HTML(form)"
   ]
  },
  {
   "cell_type": "markdown",
   "metadata": {},
   "source": [
    "#####  Удаление элементов массива\n",
    "a[1] = undefined;  \n",
    "delete a[1];"
   ]
  },
  {
   "cell_type": "code",
   "execution_count": 15,
   "metadata": {},
   "outputs": [
    {
     "data": {
      "text/html": [
       "\n",
       "    <div id=\"d_81\">____</div>\n",
       "    <script>\n",
       "    s = ''\n",
       "    var consol={\n",
       "    log:function (s1, s2='',s3='',s4 ='', s5='<br>'){\n",
       "        s += s1+' '+s2+' '+s3+' '+s4+' '+s5   }}\n",
       "    function f(){\n",
       "//===============================================    \n",
       "var x = 0; var a = [4, 12, 7];\n",
       "consol.log(a)\n",
       "a[1] = undefined;\n",
       "consol.log(a)\n",
       "for (var i in a) { x++; }\n",
       "var x = 0; var a = [4, 12, 7];\n",
       "delete a[1];\n",
       "for (var i in a) { x++; }\n",
       "consol.log(a)\n",
       "//===============================================    \n",
       "        el = document.getElementById('d_81')\n",
       "        el.innerHTML = s\n",
       "    }f()</script>\n"
      ],
      "text/plain": [
       "<IPython.core.display.HTML object>"
      ]
     },
     "execution_count": 15,
     "metadata": {},
     "output_type": "execute_result"
    }
   ],
   "source": [
    "from IPython.display import HTML\n",
    "form = \"\"\"\n",
    "    <div id=\"d_81\">____</div>\n",
    "    <script>\n",
    "    s = ''\n",
    "    var consol={\n",
    "    log:function (s1, s2='',s3='',s4 ='', s5='<br>'){\n",
    "        s += s1+' '+s2+' '+s3+' '+s4+' '+s5   }}\n",
    "    function f(){\n",
    "//===============================================    \n",
    "var x = 0; var a = [4, 12, 7];\n",
    "consol.log(a)\n",
    "a[1] = undefined;\n",
    "consol.log(a)\n",
    "for (var i in a) { x++; }\n",
    "var x = 0; var a = [4, 12, 7];\n",
    "delete a[1];\n",
    "for (var i in a) { x++; }\n",
    "consol.log(a)\n",
    "//===============================================    \n",
    "        el = document.getElementById('d_81')\n",
    "        el.innerHTML = s\n",
    "    }f()</script>\n",
    "\"\"\"\n",
    "HTML(form)"
   ]
  },
  {
   "cell_type": "markdown",
   "metadata": {},
   "source": [
    "##### Получение строки из массива"
   ]
  },
  {
   "cell_type": "code",
   "execution_count": 16,
   "metadata": {},
   "outputs": [
    {
     "data": {
      "text/html": [
       "\n",
       "    <div id=\"d_82\">____</div>\n",
       "    <script>\n",
       "    s = ''\n",
       "    var consol={\n",
       "    log:function (s1, s2='',s3='',s4 ='', s5='<br>'){\n",
       "        s += s1+' '+s2+' '+s3+' '+s4+' '+s5   }}\n",
       "    function f(){\n",
       "//===============================================    \n",
       "var a = [1, 5, 7];\n",
       "consol.log(a)\n",
       "var s1 = a.toString(); // 1,5,7\n",
       "consol.log(s1)\n",
       "var s1 = a.join(); // 1,5,7\n",
       "consol.log(s1)\n",
       "var s1 = a.join(''); // 157\n",
       "consol.log(s1)\n",
       "var s1 = a.join('---'); // 1---5---7    \n",
       "consol.log(s1)\n",
       "//===============================================    \n",
       "        el = document.getElementById('d_82')\n",
       "        el.innerHTML = s\n",
       "    }f()</script>\n"
      ],
      "text/plain": [
       "<IPython.core.display.HTML object>"
      ]
     },
     "execution_count": 16,
     "metadata": {},
     "output_type": "execute_result"
    }
   ],
   "source": [
    "from IPython.display import HTML\n",
    "form = \"\"\"\n",
    "    <div id=\"d_82\">____</div>\n",
    "    <script>\n",
    "    s = ''\n",
    "    var consol={\n",
    "    log:function (s1, s2='',s3='',s4 ='', s5='<br>'){\n",
    "        s += s1+' '+s2+' '+s3+' '+s4+' '+s5   }}\n",
    "    function f(){\n",
    "//===============================================    \n",
    "var a = [1, 5, 7];\n",
    "consol.log(a)\n",
    "var s1 = a.toString(); // 1,5,7\n",
    "consol.log(s1)\n",
    "var s1 = a.join(); // 1,5,7\n",
    "consol.log(s1)\n",
    "var s1 = a.join(''); // 157\n",
    "consol.log(s1)\n",
    "var s1 = a.join('---'); // 1---5---7    \n",
    "consol.log(s1)\n",
    "//===============================================    \n",
    "        el = document.getElementById('d_82')\n",
    "        el.innerHTML = s\n",
    "    }f()</script>\n",
    "\"\"\"\n",
    "HTML(form)"
   ]
  },
  {
   "cell_type": "markdown",
   "metadata": {},
   "source": [
    "##### Сложение массивов"
   ]
  },
  {
   "cell_type": "code",
   "execution_count": 17,
   "metadata": {},
   "outputs": [
    {
     "data": {
      "text/html": [
       "\n",
       "    <div id=\"d_83\">____</div>\n",
       "    <script>\n",
       "    s = ''\n",
       "    var consol={\n",
       "    log:function (s1, s2='',s3='',s4 ='', s5='<br>'){\n",
       "        s += s1+' '+s2+' '+s3+' '+s4+' '+s5   }}\n",
       "    function f(){\n",
       "//===============================================    \n",
       "var a = [1, 5];\n",
       "var b = [11, 8];\n",
       "var arr = a.concat(3, b);\n",
       "consol.log(arr)\n",
       "// [1, 5, 3, 11, 8]\n",
       "var s1 = [1, 5] + [11, 8];\n",
       "consol.log(s1)\n",
       "// 1,511,8    \n",
       "//===============================================    \n",
       "        el = document.getElementById('d_83')\n",
       "        el.innerHTML = s\n",
       "    }f()</script>\n"
      ],
      "text/plain": [
       "<IPython.core.display.HTML object>"
      ]
     },
     "execution_count": 17,
     "metadata": {},
     "output_type": "execute_result"
    }
   ],
   "source": [
    "from IPython.display import HTML\n",
    "form = \"\"\"\n",
    "    <div id=\"d_83\">____</div>\n",
    "    <script>\n",
    "    s = ''\n",
    "    var consol={\n",
    "    log:function (s1, s2='',s3='',s4 ='', s5='<br>'){\n",
    "        s += s1+' '+s2+' '+s3+' '+s4+' '+s5   }}\n",
    "    function f(){\n",
    "//===============================================    \n",
    "var a = [1, 5];\n",
    "var b = [11, 8];\n",
    "var arr = a.concat(3, b);\n",
    "consol.log(arr)\n",
    "// [1, 5, 3, 11, 8]\n",
    "var s1 = [1, 5] + [11, 8];\n",
    "consol.log(s1)\n",
    "// 1,511,8    \n",
    "//===============================================    \n",
    "        el = document.getElementById('d_83')\n",
    "        el.innerHTML = s\n",
    "    }f()</script>\n",
    "\"\"\"\n",
    "HTML(form)"
   ]
  },
  {
   "cell_type": "markdown",
   "metadata": {},
   "source": [
    "##### Получение части массива"
   ]
  },
  {
   "cell_type": "code",
   "execution_count": 18,
   "metadata": {},
   "outputs": [
    {
     "data": {
      "text/html": [
       "\n",
       "    <div id=\"d_84\">____</div>\n",
       "    <script>\n",
       "    s = ''\n",
       "    var consol={\n",
       "    log:function (s1, s2='',s3='',s4 ='', s5='<br>'){\n",
       "        s += s1+' '+s2+' '+s3+' '+s4+' '+s5   }}\n",
       "    function f(){\n",
       "//===============================================    \n",
       "var a = [1, 5, 7, 12, 9];\n",
       "var arr = a.slice(2);\n",
       "consol.log(arr)\n",
       "// [7, 12, 9]\n",
       "var arr = a.slice(1, 3);\n",
       "consol.log(arr)\n",
       "// [5, 7]\n",
       "var arr = a.slice(-3, -1);\n",
       "consol.log(arr)\n",
       "// [7, 12]\n",
       "var arr = a.slice(2, 1);\n",
       "consol.log(arr)\n",
       "// []    \n",
       "//===============================================    \n",
       "        el = document.getElementById('d_84')\n",
       "        el.innerHTML = s\n",
       "    }f()</script>\n"
      ],
      "text/plain": [
       "<IPython.core.display.HTML object>"
      ]
     },
     "execution_count": 18,
     "metadata": {},
     "output_type": "execute_result"
    }
   ],
   "source": [
    "from IPython.display import HTML\n",
    "form = \"\"\"\n",
    "    <div id=\"d_84\">____</div>\n",
    "    <script>\n",
    "    s = ''\n",
    "    var consol={\n",
    "    log:function (s1, s2='',s3='',s4 ='', s5='<br>'){\n",
    "        s += s1+' '+s2+' '+s3+' '+s4+' '+s5   }}\n",
    "    function f(){\n",
    "//===============================================    \n",
    "var a = [1, 5, 7, 12, 9];\n",
    "var arr = a.slice(2);\n",
    "consol.log(arr)\n",
    "// [7, 12, 9]\n",
    "var arr = a.slice(1, 3);\n",
    "consol.log(arr)\n",
    "// [5, 7]\n",
    "var arr = a.slice(-3, -1);\n",
    "consol.log(arr)\n",
    "// [7, 12]\n",
    "var arr = a.slice(2, 1);\n",
    "consol.log(arr)\n",
    "// []    \n",
    "//===============================================    \n",
    "        el = document.getElementById('d_84')\n",
    "        el.innerHTML = s\n",
    "    }f()</script>\n",
    "\"\"\"\n",
    "HTML(form)"
   ]
  },
  {
   "cell_type": "markdown",
   "metadata": {},
   "source": [
    "##### Сортировка массива"
   ]
  },
  {
   "cell_type": "code",
   "execution_count": 19,
   "metadata": {},
   "outputs": [
    {
     "data": {
      "text/html": [
       "\n",
       "    <div id=\"d_85\">____</div>\n",
       "    <script>\n",
       "    s = ''\n",
       "    var consol={\n",
       "    log:function (s1, s2='',s3='',s4 ='', s5='<br>'){\n",
       "        s += s1+' '+s2+' '+s3+' '+s4+' '+s5   }}\n",
       "    function f(){\n",
       "//===============================================    \n",
       "var a = [14, 51, 7, 2];\n",
       "consol.log(a)\n",
       "a.reverse();\n",
       "consol.log(a)\n",
       "var a = [14, 51, 7, 2];\n",
       "a.sort();\n",
       "consol.log(a)\n",
       "// [14, 2, 51, 7] !?\n",
       "//function mySort(a, b) {return a–b;}\n",
       "function mySort(a, b){return a-b}\n",
       "a.sort(mySort);\n",
       "// [2, 7, 14, 51]  \n",
       "consol.log(a)\n",
       "//===============================================    \n",
       "        el = document.getElementById('d_85')\n",
       "        el.innerHTML = s\n",
       "    }f()</script>\n"
      ],
      "text/plain": [
       "<IPython.core.display.HTML object>"
      ]
     },
     "execution_count": 19,
     "metadata": {},
     "output_type": "execute_result"
    }
   ],
   "source": [
    "from IPython.display import HTML\n",
    "form = \"\"\"\n",
    "    <div id=\"d_85\">____</div>\n",
    "    <script>\n",
    "    s = ''\n",
    "    var consol={\n",
    "    log:function (s1, s2='',s3='',s4 ='', s5='<br>'){\n",
    "        s += s1+' '+s2+' '+s3+' '+s4+' '+s5   }}\n",
    "    function f(){\n",
    "//===============================================    \n",
    "var a = [14, 51, 7, 2];\n",
    "consol.log(a)\n",
    "a.reverse();\n",
    "consol.log(a)\n",
    "var a = [14, 51, 7, 2];\n",
    "a.sort();\n",
    "consol.log(a)\n",
    "// [14, 2, 51, 7] !?\n",
    "//function mySort(a, b) {return a–b;}\n",
    "function mySort(a, b){return a-b}\n",
    "a.sort(mySort);\n",
    "// [2, 7, 14, 51]  \n",
    "consol.log(a)\n",
    "//===============================================    \n",
    "        el = document.getElementById('d_85')\n",
    "        el.innerHTML = s\n",
    "    }f()</script>\n",
    "\"\"\"\n",
    "HTML(form)"
   ]
  },
  {
   "cell_type": "markdown",
   "metadata": {},
   "source": [
    "##### Работа с концом массива\n",
    "// Исходный массив  \n",
    "var a = [5,'abc',73]  \n",
    "// Извлечение элемента  \n",
    "var v = a.pop();  \n",
    "// [5, 'abc'], v = 73  \n",
    "// Добавление элемента  \n",
    "var v = a.push(12, 3);  \n",
    "//[5, 'abc', 12, 3], v = 4  \n"
   ]
  },
  {
   "cell_type": "code",
   "execution_count": 20,
   "metadata": {},
   "outputs": [
    {
     "data": {
      "text/html": [
       "\n",
       "    <div id=\"d_86\">____</div>\n",
       "    <script>\n",
       "    s = ''\n",
       "    var consol={\n",
       "    log:function (s1, s2='',s3='',s4 ='', s5='<br>'){\n",
       "        s += s1+' '+s2+' '+s3+' '+s4+' '+s5   }}\n",
       "    function f(){\n",
       "//===============================================    \n",
       "var a = [5,'abc',73]\n",
       "var v = a.pop();\n",
       "// [5, 'abc'], v = 73\n",
       "consol.log(a, v)\n",
       "var v = a.push(12, 3);  \n",
       "//[5, 'abc', 12, 3], v = 4  \n",
       "consol.log(a, v)\n",
       "//===============================================    \n",
       "        el = document.getElementById('d_86')\n",
       "        el.innerHTML = s\n",
       "    }f()</script>\n"
      ],
      "text/plain": [
       "<IPython.core.display.HTML object>"
      ]
     },
     "execution_count": 20,
     "metadata": {},
     "output_type": "execute_result"
    }
   ],
   "source": [
    "from IPython.display import HTML\n",
    "form = \"\"\"\n",
    "    <div id=\"d_86\">____</div>\n",
    "    <script>\n",
    "    s = ''\n",
    "    var consol={\n",
    "    log:function (s1, s2='',s3='',s4 ='', s5='<br>'){\n",
    "        s += s1+' '+s2+' '+s3+' '+s4+' '+s5   }}\n",
    "    function f(){\n",
    "//===============================================    \n",
    "var a = [5,'abc',73]\n",
    "var v = a.pop();\n",
    "// [5, 'abc'], v = 73\n",
    "consol.log(a, v)\n",
    "var v = a.push(12, 3);  \n",
    "//[5, 'abc', 12, 3], v = 4  \n",
    "consol.log(a, v)\n",
    "//===============================================    \n",
    "        el = document.getElementById('d_86')\n",
    "        el.innerHTML = s\n",
    "    }f()</script>\n",
    "\"\"\"\n",
    "HTML(form)"
   ]
  },
  {
   "cell_type": "markdown",
   "metadata": {},
   "source": [
    "##### Работа с началом массива\n",
    "// Исходный массив  \n",
    "var a = [5, 'abc', 73];  \n",
    "// Извлечение элемента  \n",
    "var v = a.shift();  \n",
    "// ['abc', 73], v = 5  \n",
    "// Добавление элементов  \n",
    "var v = a.unshift(12, 3);  \n",
    "//[12, 3, 'abc', 73], v = 4  \n"
   ]
  },
  {
   "cell_type": "code",
   "execution_count": 21,
   "metadata": {},
   "outputs": [
    {
     "data": {
      "text/html": [
       "\n",
       "    <div id=\"d_87\">____</div>\n",
       "    <script>\n",
       "    s = ''\n",
       "    var consol={\n",
       "    log:function (s1, s2='',s3='',s4 ='', s5='<br>'){\n",
       "        s += s1+' '+s2+' '+s3+' '+s4+' '+s5   }}\n",
       "    function f(){\n",
       "//===============================================    \n",
       "// Исходный массив\n",
       "var a = [5, 'abc', 73];\n",
       "consol.log(a)\n",
       "// Извлечение элемента\n",
       "var v = a.shift();\n",
       "consol.log(a, v)\n",
       "// ['abc', 73], v = 5\n",
       "// Добавление элементов \n",
       "var v = a.unshift(12, 3);\n",
       "consol.log(a, v)\n",
       "//[12, 3, 'abc', 73], v = 4    \n",
       "//===============================================    \n",
       "        el = document.getElementById('d_87')\n",
       "        el.innerHTML = s\n",
       "    }f()</script>\n"
      ],
      "text/plain": [
       "<IPython.core.display.HTML object>"
      ]
     },
     "execution_count": 21,
     "metadata": {},
     "output_type": "execute_result"
    }
   ],
   "source": [
    "from IPython.display import HTML\n",
    "form = \"\"\"\n",
    "    <div id=\"d_87\">____</div>\n",
    "    <script>\n",
    "    s = ''\n",
    "    var consol={\n",
    "    log:function (s1, s2='',s3='',s4 ='', s5='<br>'){\n",
    "        s += s1+' '+s2+' '+s3+' '+s4+' '+s5   }}\n",
    "    function f(){\n",
    "//===============================================    \n",
    "// Исходный массив\n",
    "var a = [5, 'abc', 73];\n",
    "consol.log(a)\n",
    "// Извлечение элемента\n",
    "var v = a.shift();\n",
    "consol.log(a, v)\n",
    "// ['abc', 73], v = 5\n",
    "// Добавление элементов \n",
    "var v = a.unshift(12, 3);\n",
    "consol.log(a, v)\n",
    "//[12, 3, 'abc', 73], v = 4    \n",
    "//===============================================    \n",
    "        el = document.getElementById('d_87')\n",
    "        el.innerHTML = s\n",
    "    }f()</script>\n",
    "\"\"\"\n",
    "HTML(form)"
   ]
  },
  {
   "cell_type": "markdown",
   "metadata": {},
   "source": [
    "##### Вставка и удаление в любом месте \n",
    "var a = [5, 'abc', 73, 12, 8];  \n",
    "consol.log(a)  \n",
    "var arr = a.splice(1, 2);  \n",
    "// [5, 12, 8]  \n",
    "// arr = ['abc', 73]  \n",
    "consol.log(a,' - - ',arr)  \n",
    "var a = [5, 'abc', 73, 12, 8];  \n",
    "var arr = a.splice(1, 0, 3);  \n",
    "consol.log(a,' - - ',arr)  \n",
    "// [5, 3, 'abc', 73, 12, 8]  \n",
    "// arr = []    \n"
   ]
  },
  {
   "cell_type": "code",
   "execution_count": null,
   "metadata": {},
   "outputs": [],
   "source": []
  },
  {
   "cell_type": "code",
   "execution_count": 22,
   "metadata": {},
   "outputs": [
    {
     "data": {
      "text/html": [
       "\n",
       "    <div id=\"d_88\">____</div>\n",
       "    <script>\n",
       "    s = ''\n",
       "    var consol={\n",
       "    log:function (s1, s2='',s3='',s4 ='', s5='<br>'){\n",
       "        s += s1+' '+s2+' '+s3+' '+s4+' '+s5   }}\n",
       "    function f(){\n",
       "//===============================================    \n",
       "var a = [5, 'abc', 73, 12, 8]; \n",
       "consol.log(a)\n",
       "var arr = a.splice(1, 2);  \n",
       "// [5, 12, 8]  \n",
       "// arr = ['abc', 73]  \n",
       "consol.log(a,' - - ',arr)\n",
       "var a = [5, 'abc', 73, 12, 8]; \n",
       "var arr = a.splice(1, 0, 3);  \n",
       "consol.log(a,' - - ',arr)\n",
       "// [5, 3, 'abc', 73, 12, 8]  \n",
       "// arr = []    \n",
       "//===============================================    \n",
       "        el = document.getElementById('d_88')\n",
       "        el.innerHTML = s\n",
       "    }f()</script>\n"
      ],
      "text/plain": [
       "<IPython.core.display.HTML object>"
      ]
     },
     "execution_count": 22,
     "metadata": {},
     "output_type": "execute_result"
    }
   ],
   "source": [
    "from IPython.display import HTML\n",
    "form = \"\"\"\n",
    "    <div id=\"d_88\">____</div>\n",
    "    <script>\n",
    "    s = ''\n",
    "    var consol={\n",
    "    log:function (s1, s2='',s3='',s4 ='', s5='<br>'){\n",
    "        s += s1+' '+s2+' '+s3+' '+s4+' '+s5   }}\n",
    "    function f(){\n",
    "//===============================================    \n",
    "var a = [5, 'abc', 73, 12, 8]; \n",
    "consol.log(a)\n",
    "var arr = a.splice(1, 2);  \n",
    "// [5, 12, 8]  \n",
    "// arr = ['abc', 73]  \n",
    "consol.log(a,' - - ',arr)\n",
    "var a = [5, 'abc', 73, 12, 8]; \n",
    "var arr = a.splice(1, 0, 3);  \n",
    "consol.log(a,' - - ',arr)\n",
    "// [5, 3, 'abc', 73, 12, 8]  \n",
    "// arr = []    \n",
    "//===============================================    \n",
    "        el = document.getElementById('d_88')\n",
    "        el.innerHTML = s\n",
    "    }f()</script>\n",
    "\"\"\"\n",
    "HTML(form)"
   ]
  },
  {
   "cell_type": "markdown",
   "metadata": {},
   "source": [
    "##### Встроенный объект Math\n",
    "-  Свойства  \n",
    "E, LN10, LN2, LOG10E, LOG2E, PI, SQRT1_2, SQRT2  \n",
    "-  Методы  \n",
    "sin(), asin(), cos(), acos(), tan(), atan(), atan2()  \n",
    "ceil(), floor(), round(), abs(), max(), min(), random()  \n",
    "exp(), log(), pow(), sqrt()  "
   ]
  },
  {
   "cell_type": "code",
   "execution_count": 23,
   "metadata": {},
   "outputs": [
    {
     "data": {
      "text/html": [
       "\n",
       "    <div id=\"d_89\">____</div>\n",
       "    <script>\n",
       "    s = ''\n",
       "    var consol={\n",
       "    log:function (s1, s2='',s3='',s4 ='', s5='<br>'){\n",
       "        s += s1+' '+s2+' '+s3+' '+s4+' '+s5   }}\n",
       "    function f(){\n",
       "//===============================================\n",
       "consol.log(Math.PI)    \n",
       "consol.log(Math.E)    \n",
       "consol.log(Math.pow(2,10))    \n",
       "//===============================================    \n",
       "        el = document.getElementById('d_89')\n",
       "        el.innerHTML = s\n",
       "    }f()</script>\n"
      ],
      "text/plain": [
       "<IPython.core.display.HTML object>"
      ]
     },
     "execution_count": 23,
     "metadata": {},
     "output_type": "execute_result"
    }
   ],
   "source": [
    "from IPython.display import HTML\n",
    "form = \"\"\"\n",
    "    <div id=\"d_89\">____</div>\n",
    "    <script>\n",
    "    s = ''\n",
    "    var consol={\n",
    "    log:function (s1, s2='',s3='',s4 ='', s5='<br>'){\n",
    "        s += s1+' '+s2+' '+s3+' '+s4+' '+s5   }}\n",
    "    function f(){\n",
    "//===============================================\n",
    "consol.log(Math.PI)    \n",
    "consol.log(Math.E)    \n",
    "consol.log(Math.pow(2,10))    \n",
    "//===============================================    \n",
    "        el = document.getElementById('d_89')\n",
    "        el.innerHTML = s\n",
    "    }f()</script>\n",
    "\"\"\"\n",
    "HTML(form)"
   ]
  },
  {
   "cell_type": "markdown",
   "metadata": {},
   "source": [
    "Лабораторная работа 4.3  \n",
    "Дан массив a[5, 12]  \n",
    "Записать в массив b[] квадраты значений  "
   ]
  },
  {
   "cell_type": "code",
   "execution_count": 24,
   "metadata": {},
   "outputs": [
    {
     "data": {
      "text/html": [
       "\n",
       "    <div id=\"d_90\">____</div>\n",
       "    <script>\n",
       "    s = ''\n",
       "    var consol={\n",
       "    log:function (s1, s2='',s3='',s4 ='', s5='<br>'){\n",
       "        s += s1+' '+s2+' '+s3+' '+s4+' '+s5   }}\n",
       "    function f(){\n",
       "//===============================================    \n",
       "var a = [5, 12]\n",
       "var b = []\n",
       "for(var i in a){\n",
       "    b.push(a[i]*a[i])\n",
       "}\n",
       "consol.log(a)\n",
       "consol.log(b)\n",
       "//===============================================    \n",
       "        el = document.getElementById('d_90')\n",
       "        el.innerHTML = s\n",
       "    }f()</script>\n"
      ],
      "text/plain": [
       "<IPython.core.display.HTML object>"
      ]
     },
     "execution_count": 24,
     "metadata": {},
     "output_type": "execute_result"
    }
   ],
   "source": [
    "from IPython.display import HTML\n",
    "form = \"\"\"\n",
    "    <div id=\"d_90\">____</div>\n",
    "    <script>\n",
    "    s = ''\n",
    "    var consol={\n",
    "    log:function (s1, s2='',s3='',s4 ='', s5='<br>'){\n",
    "        s += s1+' '+s2+' '+s3+' '+s4+' '+s5   }}\n",
    "    function f(){\n",
    "//===============================================    \n",
    "var a = [5, 12]\n",
    "var b = []\n",
    "for(var i in a){\n",
    "    b.push(a[i]*a[i])\n",
    "}\n",
    "consol.log(a)\n",
    "consol.log(b)\n",
    "//===============================================    \n",
    "        el = document.getElementById('d_90')\n",
    "        el.innerHTML = s\n",
    "    }f()</script>\n",
    "\"\"\"\n",
    "HTML(form)"
   ]
  },
  {
   "cell_type": "markdown",
   "metadata": {},
   "source": [
    "##### Методы массива \n",
    "//forEach:  \n",
    "var nums = [1, 2, 3];  \n",
    "nums.forEach(function(v){  \n",
    "console.log(v * 10);  \n",
    "});  \n",
    "//map:  \n",
    "var nums = [1, 4, 9];  \n",
    "var result = nums.map(function(v) {  \n",
    "return v * 10;  \n",
    "});  "
   ]
  },
  {
   "cell_type": "code",
   "execution_count": 25,
   "metadata": {},
   "outputs": [
    {
     "data": {
      "text/html": [
       "\n",
       "    <div id=\"d_91\">____</div>\n",
       "    <script>\n",
       "    s = ''\n",
       "    var consol={\n",
       "    log:function (s1, s2='',s3='',s4 ='', s5='<br>'){\n",
       "        s += s1+' '+s2+' '+s3+' '+s4+' '+s5   }}\n",
       "    function f(){\n",
       "//===============================================    \n",
       "//forEach:  \n",
       "var nums = [1, 2, 3];  \n",
       "nums.forEach(function(v){  \n",
       "    consol.log(v * 10);  \n",
       "});  \n",
       "//map:  \n",
       "var nums = [1, 4, 9];  \n",
       "var result = nums.map(function(v) {  \n",
       "    return v * 10;  \n",
       "});\n",
       "consol.log(nums, ' - ' , result)\n",
       "//===============================================    \n",
       "        el = document.getElementById('d_91')\n",
       "        el.innerHTML = s\n",
       "    }f()</script>\n"
      ],
      "text/plain": [
       "<IPython.core.display.HTML object>"
      ]
     },
     "execution_count": 25,
     "metadata": {},
     "output_type": "execute_result"
    }
   ],
   "source": [
    "from IPython.display import HTML\n",
    "form = \"\"\"\n",
    "    <div id=\"d_91\">____</div>\n",
    "    <script>\n",
    "    s = ''\n",
    "    var consol={\n",
    "    log:function (s1, s2='',s3='',s4 ='', s5='<br>'){\n",
    "        s += s1+' '+s2+' '+s3+' '+s4+' '+s5   }}\n",
    "    function f(){\n",
    "//===============================================    \n",
    "//forEach:  \n",
    "var nums = [1, 2, 3];  \n",
    "nums.forEach(function(v){  \n",
    "    consol.log(v * 10);  \n",
    "});  \n",
    "//map:  \n",
    "var nums = [1, 4, 9];  \n",
    "var result = nums.map(function(v) {  \n",
    "    return v * 10;  \n",
    "});\n",
    "consol.log(nums, ' - ' , result)\n",
    "//===============================================    \n",
    "        el = document.getElementById('d_91')\n",
    "        el.innerHTML = s\n",
    "    }f()</script>\n",
    "\"\"\"\n",
    "HTML(form)"
   ]
  },
  {
   "cell_type": "markdown",
   "metadata": {},
   "source": [
    "##### Преобразование числа в строку\n",
    "//toString()  \n",
    "var n = 12345.6789;  \n",
    "n.toFixed(2); // '12345.68'  \n",
    "n.toExponential(2); // '1.23e+4'  \n",
    "n.toPrecision(6); // '12345.7'  \n",
    "n.toPrecision(4); // '1.235e+4'  "
   ]
  },
  {
   "cell_type": "code",
   "execution_count": 26,
   "metadata": {},
   "outputs": [
    {
     "data": {
      "text/html": [
       "\n",
       "    <div id=\"d_92\">____</div>\n",
       "    <script>\n",
       "    s = ''\n",
       "    var consol={\n",
       "    log:function (s1, s2='',s3='',s4 ='', s5='<br>'){\n",
       "        s += s1+' '+s2+' '+s3+' '+s4+' '+s5   }}\n",
       "    function f(){\n",
       "//===============================================    \n",
       "var n = 12345.6789;\n",
       "consol.log(n.toFixed(2))\n",
       "consol.log(n.toExponential(2))\n",
       "consol.log(n.toPrecision(6))\n",
       "consol.log(n.toPrecision(2))\n",
       "//===============================================    \n",
       "        el = document.getElementById('d_92')\n",
       "        el.innerHTML = s\n",
       "    }f()</script>\n"
      ],
      "text/plain": [
       "<IPython.core.display.HTML object>"
      ]
     },
     "execution_count": 26,
     "metadata": {},
     "output_type": "execute_result"
    }
   ],
   "source": [
    "from IPython.display import HTML\n",
    "form = \"\"\"\n",
    "    <div id=\"d_92\">____</div>\n",
    "    <script>\n",
    "    s = ''\n",
    "    var consol={\n",
    "    log:function (s1, s2='',s3='',s4 ='', s5='<br>'){\n",
    "        s += s1+' '+s2+' '+s3+' '+s4+' '+s5   }}\n",
    "    function f(){\n",
    "//===============================================    \n",
    "var n = 12345.6789;\n",
    "consol.log(n.toFixed(2))\n",
    "consol.log(n.toExponential(2))\n",
    "consol.log(n.toPrecision(6))\n",
    "consol.log(n.toPrecision(2))\n",
    "//===============================================    \n",
    "        el = document.getElementById('d_92')\n",
    "        el.innerHTML = s\n",
    "    }f()</script>\n",
    "\"\"\"\n",
    "HTML(form)"
   ]
  },
  {
   "cell_type": "markdown",
   "metadata": {},
   "source": [
    "##### Преобразование строки в число\n",
    "var s = '37.5 км';  \n",
    "var n = parseFloat(s); // 37.5  \n",
    "var n = parseInt(s); // 37  "
   ]
  },
  {
   "cell_type": "code",
   "execution_count": 27,
   "metadata": {},
   "outputs": [
    {
     "data": {
      "text/html": [
       "\n",
       "    <div id=\"d_93\">____</div>\n",
       "    <script>\n",
       "    s = ''\n",
       "    var consol={\n",
       "    log:function (s1, s2='',s3='',s4 ='', s5='<br>'){\n",
       "        s += s1+' '+s2+' '+s3+' '+s4+' '+s5   }}\n",
       "    function f(){\n",
       "//===============================================    \n",
       "var s1 = '37.5 км';\n",
       "var n = parseFloat(s1); // 37.5\n",
       "consol.log(n)\n",
       "var n = parseInt(s1); // 37    \n",
       "consol.log(n)\n",
       "//===============================================    \n",
       "        el = document.getElementById('d_93')\n",
       "        el.innerHTML = s\n",
       "    }f()</script>\n"
      ],
      "text/plain": [
       "<IPython.core.display.HTML object>"
      ]
     },
     "execution_count": 27,
     "metadata": {},
     "output_type": "execute_result"
    }
   ],
   "source": [
    "from IPython.display import HTML\n",
    "form = \"\"\"\n",
    "    <div id=\"d_93\">____</div>\n",
    "    <script>\n",
    "    s = ''\n",
    "    var consol={\n",
    "    log:function (s1, s2='',s3='',s4 ='', s5='<br>'){\n",
    "        s += s1+' '+s2+' '+s3+' '+s4+' '+s5   }}\n",
    "    function f(){\n",
    "//===============================================    \n",
    "var s1 = '37.5 км';\n",
    "var n = parseFloat(s1); // 37.5\n",
    "consol.log(n)\n",
    "var n = parseInt(s1); // 37    \n",
    "consol.log(n)\n",
    "//===============================================    \n",
    "        el = document.getElementById('d_93')\n",
    "        el.innerHTML = s\n",
    "    }f()</script>\n",
    "\"\"\"\n",
    "HTML(form)"
   ]
  },
  {
   "cell_type": "markdown",
   "metadata": {},
   "source": [
    "Использование систем счисления  \n",
    "var n = 255;  \n",
    "var s = n.toString(16); // ff  \n",
    "var s = 'ff';  \n",
    "var n = parseInt(s, 16); // 255  "
   ]
  },
  {
   "cell_type": "code",
   "execution_count": 28,
   "metadata": {},
   "outputs": [
    {
     "data": {
      "text/html": [
       "\n",
       "    <div id=\"d_94\">____</div>\n",
       "    <script>\n",
       "    s = ''\n",
       "    var consol={\n",
       "    log:function (s1, s2='',s3='',s4 ='', s5='<br>'){\n",
       "        s += s1+' '+s2+' '+s3+' '+s4+' '+s5   }}\n",
       "    function f(){\n",
       "//===============================================    \n",
       "var n = 255;\n",
       "var s1= n.toString(16); // ff\n",
       "consol.log(n, s1)\n",
       "var s1= 'ff';\n",
       "var n = parseInt(s1, 16); // 255    \n",
       "consol.log(n, s1)\n",
       "//===============================================    \n",
       "        el = document.getElementById('d_94')\n",
       "        el.innerHTML = s\n",
       "    }f()</script>\n"
      ],
      "text/plain": [
       "<IPython.core.display.HTML object>"
      ]
     },
     "execution_count": 28,
     "metadata": {},
     "output_type": "execute_result"
    }
   ],
   "source": [
    "from IPython.display import HTML\n",
    "form = \"\"\"\n",
    "    <div id=\"d_94\">____</div>\n",
    "    <script>\n",
    "    s = ''\n",
    "    var consol={\n",
    "    log:function (s1, s2='',s3='',s4 ='', s5='<br>'){\n",
    "        s += s1+' '+s2+' '+s3+' '+s4+' '+s5   }}\n",
    "    function f(){\n",
    "//===============================================    \n",
    "var n = 255;\n",
    "var s1= n.toString(16); // ff\n",
    "consol.log(n, s1)\n",
    "var s1= 'ff';\n",
    "var n = parseInt(s1, 16); // 255    \n",
    "consol.log(n, s1)\n",
    "//===============================================    \n",
    "        el = document.getElementById('d_94')\n",
    "        el.innerHTML = s\n",
    "    }f()</script>\n",
    "\"\"\"\n",
    "HTML(form)"
   ]
  },
  {
   "cell_type": "markdown",
   "metadata": {},
   "source": [
    "##### Длина строки  \n",
    "var str = 'Это - просто пример.'  \n",
    "##### Сложение строк\n",
    "var s1 = 'Это';  \n",
    "var s2 = ' \\u2014\\x20';  \n",
    "var s3 = 'просто пример.';  \n",
    "var s = s1 + s2 + s3;  \n",
    "var s = s1.concat(s2, s3);  "
   ]
  },
  {
   "cell_type": "code",
   "execution_count": 29,
   "metadata": {},
   "outputs": [
    {
     "data": {
      "text/html": [
       "\n",
       "    <div id=\"d_95\">____</div>\n",
       "    <script>\n",
       "    ssstttrrr = ''\n",
       "    var consol={\n",
       "    log:function (s1, s2='',s3='',s4 ='', s5='<br>'){\n",
       "        ssstttrrr += s1+' '+s2+' '+s3+' '+s4+' '+s5   }}\n",
       "    function f(){\n",
       "//===============================================\n",
       "//.........12345678901234567890\n",
       "var str = 'Это - просто пример.'  \n",
       "consol.log(str, ' ', str.length)\n",
       "var str = 'Это ‒ просто пример.'\n",
       "consol.log(str, ' ', str.length)\n",
       "\n",
       "var s1 = 'Это';  \n",
       "var s2 = ' — ';  \n",
       "var s3 = 'просто пример.';  \n",
       "var s = s1 + s2 + s3;  \n",
       "consol.log(s)\n",
       "var s = s1.concat(s2, s3);\n",
       "consol.log(s)\n",
       "//===============================================    \n",
       "        el = document.getElementById('d_95')\n",
       "        el.innerHTML = ssstttrrr\n",
       "    }f()</script>\n"
      ],
      "text/plain": [
       "<IPython.core.display.HTML object>"
      ]
     },
     "execution_count": 29,
     "metadata": {},
     "output_type": "execute_result"
    }
   ],
   "source": [
    "from IPython.display import HTML\n",
    "form = \"\"\"\n",
    "    <div id=\"d_95\">____</div>\n",
    "    <script>\n",
    "    ssstttrrr = ''\n",
    "    var consol={\n",
    "    log:function (s1, s2='',s3='',s4 ='', s5='<br>'){\n",
    "        ssstttrrr += s1+' '+s2+' '+s3+' '+s4+' '+s5   }}\n",
    "    function f(){\n",
    "//===============================================\n",
    "//.........12345678901234567890\n",
    "var str = 'Это - просто пример.'  \n",
    "consol.log(str, ' ', str.length)\n",
    "var str = 'Это \\u2012\\u0020просто\\x20пример.'\n",
    "consol.log(str, ' ', str.length)\n",
    "\n",
    "var s1 = 'Это';  \n",
    "var s2 = ' \\u2014\\x20';  \n",
    "var s3 = 'просто пример.';  \n",
    "var s = s1 + s2 + s3;  \n",
    "consol.log(s)\n",
    "var s = s1.concat(s2, s3);\n",
    "consol.log(s)\n",
    "//===============================================    \n",
    "        el = document.getElementById('d_95')\n",
    "        el.innerHTML = ssstttrrr\n",
    "    }f()</script>\n",
    "\"\"\"\n",
    "HTML(form)"
   ]
  },
  {
   "cell_type": "markdown",
   "metadata": {},
   "source": [
    "##### Регистр символов\n",
    "var x = s.toLowerCase();  \n",
    "var x = s.toUpperCase();  \n",
    "##### Получение символа из строки\n",
    "var s = 'просто пример';  \n",
    "var x = s.charAt(4); // 'т  \n",
    "var x = s.charAt(40); // ''  \n",
    "var x = s.charCodeAt(4);//1090 (U+0442)  \n",
    "var x = s.charCodeAt(40); // NaN  \n",
    "// Создание строки из кодов символов  \n",
    "var x = String.fromCharCode(1051, 1091,  \n",
    "1085, 1072); // Луна  "
   ]
  },
  {
   "cell_type": "code",
   "execution_count": 30,
   "metadata": {},
   "outputs": [
    {
     "data": {
      "text/html": [
       "\n",
       "    <div id=\"d_96\">____</div>\n",
       "    <script>\n",
       "    ssstttrrr = ''\n",
       "    var consol={\n",
       "    log:function (s1, s2='',s3='',s4 ='', s5='<br>'){\n",
       "        ssstttrrr += s1+' '+s2+' '+s3+' '+s4+' '+s5   }}\n",
       "    function f(){\n",
       "//===============================================    \n",
       "var s = 'Это - просто пример.'\n",
       "consol.log(s)\n",
       "var x = s.toLowerCase();\n",
       "consol.log(x)\n",
       "var x = s.toUpperCase();    \n",
       "consol.log(x)\n",
       "\n",
       "var s = 'просто пример';\n",
       "consol.log(s)\n",
       "var x = s.charAt(4); // 'т\n",
       "consol.log(x)\n",
       "var x = s.charAt(40); // ''\n",
       "consol.log(x)\n",
       "var x = s.charCodeAt(4);//1090 (U+0442)\n",
       "consol.log(x)\n",
       "var x = s.charCodeAt(40); // NaN\n",
       "consol.log(x)\n",
       "// Создание строки из кодов символов\n",
       "var x = String.fromCharCode(1051, 1091,\n",
       "1085, 1072); // Луна\n",
       "consol.log(x)\n",
       "//===============================================    \n",
       "        el = document.getElementById('d_96')\n",
       "        el.innerHTML = ssstttrrr\n",
       "    }f()</script>\n"
      ],
      "text/plain": [
       "<IPython.core.display.HTML object>"
      ]
     },
     "execution_count": 30,
     "metadata": {},
     "output_type": "execute_result"
    }
   ],
   "source": [
    "from IPython.display import HTML\n",
    "form = \"\"\"\n",
    "    <div id=\"d_96\">____</div>\n",
    "    <script>\n",
    "    ssstttrrr = ''\n",
    "    var consol={\n",
    "    log:function (s1, s2='',s3='',s4 ='', s5='<br>'){\n",
    "        ssstttrrr += s1+' '+s2+' '+s3+' '+s4+' '+s5   }}\n",
    "    function f(){\n",
    "//===============================================    \n",
    "var s = 'Это - просто пример.'\n",
    "consol.log(s)\n",
    "var x = s.toLowerCase();\n",
    "consol.log(x)\n",
    "var x = s.toUpperCase();    \n",
    "consol.log(x)\n",
    "\n",
    "var s = 'просто пример';\n",
    "consol.log(s)\n",
    "var x = s.charAt(4); // 'т\n",
    "consol.log(x)\n",
    "var x = s.charAt(40); // ''\n",
    "consol.log(x)\n",
    "var x = s.charCodeAt(4);//1090 (U+0442)\n",
    "consol.log(x)\n",
    "var x = s.charCodeAt(40); // NaN\n",
    "consol.log(x)\n",
    "// Создание строки из кодов символов\n",
    "var x = String.fromCharCode(1051, 1091,\n",
    "1085, 1072); // Луна\n",
    "consol.log(x)\n",
    "//===============================================    \n",
    "        el = document.getElementById('d_96')\n",
    "        el.innerHTML = ssstttrrr\n",
    "    }f()</script>\n",
    "\"\"\"\n",
    "HTML(form)"
   ]
  },
  {
   "cell_type": "markdown",
   "metadata": {},
   "source": [
    "##### Получение части строки\n",
    "var s = 'просто пример';  \n",
    "var x = s.slice(3, 6); // сто  \n",
    "var x = s.substring(3, 6); // сто  \n",
    "var x = s.slice(6); // пример  \n",
    "var x = s.substring(6); // пример  \n",
    "var x = s.slice(); // просто пример  \n",
    "var x = s.substring(); // просто пример  \n",
    "var x = s.slice(6, 3); // \"\"  \n",
    "var x = s.substring(6, 3); // сто  \n"
   ]
  },
  {
   "cell_type": "code",
   "execution_count": 31,
   "metadata": {},
   "outputs": [
    {
     "data": {
      "text/html": [
       "\n",
       "    <div id=\"d_97\">____</div>\n",
       "    <script>\n",
       "    ssstttrrr = ''\n",
       "    var consol={\n",
       "    log:function (s1, s2='',s3='',s4 ='', s5='<br>'){\n",
       "        ssstttrrr += s1+' '+s2+' '+s3+' '+s4+' '+s5   }}\n",
       "    function f(){\n",
       "//===============================================    \n",
       "var s = 'просто пример';\n",
       "consol.log(s)\n",
       "var x = s.slice(3, 6); // сто\n",
       "consol.log(x)\n",
       "var x = s.substring(3, 6); // сто\n",
       "consol.log(x)\n",
       "var x = s.slice(6); // пример\n",
       "consol.log(x)\n",
       "var x = s.substring(6); // пример\n",
       "consol.log(x)\n",
       "var x = s.slice(); // просто пример\n",
       "consol.log(x)\n",
       "var x = s.substring(); // просто пример\n",
       "consol.log(x)\n",
       "var x = s.slice(6, 3); // \"\"\n",
       "consol.log(x)\n",
       "var x = s.substring(6, 3); // сто    \n",
       "consol.log(x)\n",
       "//===============================================    \n",
       "        el = document.getElementById('d_97')\n",
       "        el.innerHTML = ssstttrrr\n",
       "    }f()</script>\n"
      ],
      "text/plain": [
       "<IPython.core.display.HTML object>"
      ]
     },
     "execution_count": 31,
     "metadata": {},
     "output_type": "execute_result"
    }
   ],
   "source": [
    "from IPython.display import HTML\n",
    "form = \"\"\"\n",
    "    <div id=\"d_97\">____</div>\n",
    "    <script>\n",
    "    ssstttrrr = ''\n",
    "    var consol={\n",
    "    log:function (s1, s2='',s3='',s4 ='', s5='<br>'){\n",
    "        ssstttrrr += s1+' '+s2+' '+s3+' '+s4+' '+s5   }}\n",
    "    function f(){\n",
    "//===============================================    \n",
    "var s = 'просто пример';\n",
    "consol.log(s)\n",
    "var x = s.slice(3, 6); // сто\n",
    "consol.log(x)\n",
    "var x = s.substring(3, 6); // сто\n",
    "consol.log(x)\n",
    "var x = s.slice(6); // пример\n",
    "consol.log(x)\n",
    "var x = s.substring(6); // пример\n",
    "consol.log(x)\n",
    "var x = s.slice(); // просто пример\n",
    "consol.log(x)\n",
    "var x = s.substring(); // просто пример\n",
    "consol.log(x)\n",
    "var x = s.slice(6, 3); // \"\"\n",
    "consol.log(x)\n",
    "var x = s.substring(6, 3); // сто    \n",
    "consol.log(x)\n",
    "//===============================================    \n",
    "        el = document.getElementById('d_97')\n",
    "        el.innerHTML = ssstttrrr\n",
    "    }f()</script>\n",
    "\"\"\"\n",
    "HTML(form)"
   ]
  },
  {
   "cell_type": "markdown",
   "metadata": {},
   "source": [
    "##### Поиск по строке\n",
    "var s = 'Это - просто пример.'  \n",
    "var x = s.indexOf('пр'); // 6  \n",
    "var x = s.indexOf('пр', 7); // 13  \n",
    "var x = s.lastIndexOf('пр'); // 13  \n",
    "var x = s.lastIndexOf('пр', 9); // 6  \n"
   ]
  },
  {
   "cell_type": "code",
   "execution_count": 32,
   "metadata": {},
   "outputs": [
    {
     "data": {
      "text/html": [
       "\n",
       "    <div id=\"d_98\">____</div>\n",
       "    <script>\n",
       "    ssstttrrr = ''\n",
       "    var consol={\n",
       "    log:function (s1, s2='',s3='',s4 ='', s5='<br>'){\n",
       "        ssstttrrr += s1+' '+s2+' '+s3+' '+s4+' '+s5   }}\n",
       "    function f(){\n",
       "//===============================================    \n",
       "var s = 'Это - просто пример.'\n",
       "consol.log(s)\n",
       "var x = s.indexOf('пр'); // 6\n",
       "consol.log(x)\n",
       "var x = s.indexOf('пр', 7); // 13\n",
       "consol.log(x)\n",
       "var x = s.lastIndexOf('пр'); // 13\n",
       "consol.log(x)\n",
       "var x = s.lastIndexOf('пр', 9); // 6\n",
       "consol.log(x)\n",
       "//===============================================    \n",
       "        el = document.getElementById('d_98')\n",
       "        el.innerHTML = ssstttrrr\n",
       "    }f()</script>\n"
      ],
      "text/plain": [
       "<IPython.core.display.HTML object>"
      ]
     },
     "execution_count": 32,
     "metadata": {},
     "output_type": "execute_result"
    }
   ],
   "source": [
    "from IPython.display import HTML\n",
    "form = \"\"\"\n",
    "    <div id=\"d_98\">____</div>\n",
    "    <script>\n",
    "    ssstttrrr = ''\n",
    "    var consol={\n",
    "    log:function (s1, s2='',s3='',s4 ='', s5='<br>'){\n",
    "        ssstttrrr += s1+' '+s2+' '+s3+' '+s4+' '+s5   }}\n",
    "    function f(){\n",
    "//===============================================    \n",
    "var s = 'Это - просто пример.'\n",
    "consol.log(s)\n",
    "var x = s.indexOf('пр'); // 6\n",
    "consol.log(x)\n",
    "var x = s.indexOf('пр', 7); // 13\n",
    "consol.log(x)\n",
    "var x = s.lastIndexOf('пр'); // 13\n",
    "consol.log(x)\n",
    "var x = s.lastIndexOf('пр', 9); // 6\n",
    "consol.log(x)\n",
    "//===============================================    \n",
    "        el = document.getElementById('d_98')\n",
    "        el.innerHTML = ssstttrrr\n",
    "    }f()</script>\n",
    "\"\"\"\n",
    "HTML(form)"
   ]
  },
  {
   "cell_type": "markdown",
   "metadata": {},
   "source": [
    "##### Замена в строке\n",
    "var s = 'Это просто пример';  \n",
    "var x = s.replace('просто',  \n",
    "'сложный');  \n",
    "// 'Это сложный пример'  "
   ]
  },
  {
   "cell_type": "code",
   "execution_count": 1,
   "metadata": {},
   "outputs": [
    {
     "data": {
      "text/html": [
       "\n",
       "    <div id=\"d_99\">____</div>\n",
       "    <script>\n",
       "    ssstttrrr = ''\n",
       "    var consol={\n",
       "    log:function (s1, s2='',s3='',s4 ='', s5='<br>'){\n",
       "        ssstttrrr += s1+' '+s2+' '+s3+' '+s4+' '+s5   }}\n",
       "    function f(){\n",
       "//===============================================    \n",
       "var s = 'Это просто пример';\n",
       "var x = s.replace('просто',\n",
       "'сложный');\n",
       "// 'Это сложный пример' \n",
       "consol.log(s)\n",
       "consol.log(x)\n",
       "//===============================================    \n",
       "        el = document.getElementById('d_99')\n",
       "        el.innerHTML = ssstttrrr\n",
       "    }f()</script>\n"
      ],
      "text/plain": [
       "<IPython.core.display.HTML object>"
      ]
     },
     "execution_count": 1,
     "metadata": {},
     "output_type": "execute_result"
    }
   ],
   "source": [
    "from IPython.display import HTML\n",
    "form = \"\"\"\n",
    "    <div id=\"d_99\">____</div>\n",
    "    <script>\n",
    "    ssstttrrr = ''\n",
    "    var consol={\n",
    "    log:function (s1, s2='',s3='',s4 ='', s5='<br>'){\n",
    "        ssstttrrr += s1+' '+s2+' '+s3+' '+s4+' '+s5   }}\n",
    "    function f(){\n",
    "//===============================================    \n",
    "var s = 'Это просто пример';\n",
    "var x = s.replace('просто',\n",
    "'сложный');\n",
    "// 'Это сложный пример' \n",
    "consol.log(s)\n",
    "consol.log(x)\n",
    "//===============================================    \n",
    "        el = document.getElementById('d_99')\n",
    "        el.innerHTML = ssstttrrr\n",
    "    }f()</script>\n",
    "\"\"\"\n",
    "HTML(form)"
   ]
  },
  {
   "cell_type": "markdown",
   "metadata": {},
   "source": [
    "##### Разбиение строки\n",
    "var s = 'Это просто пример';  \n",
    "var x = s.split(' ');  \n",
    "// [Это, просто, пример]  \n",
    "var x = s.split(' ', 2);  \n",
    "// [Это, просто]  "
   ]
  },
  {
   "cell_type": "code",
   "execution_count": 2,
   "metadata": {},
   "outputs": [
    {
     "data": {
      "text/html": [
       "\n",
       "    <div id=\"d_101\">____</div>\n",
       "    <script>\n",
       "    ssstttrrr = ''\n",
       "    var consol={\n",
       "    log:function (s1, s2='',s3='',s4 ='', s5='<br>'){\n",
       "        ssstttrrr += s1+' '+s2+' '+s3+' '+s4+' '+s5   }}\n",
       "    function f(){\n",
       "//===============================================    \n",
       "var s = 'Это просто пример';\n",
       "var x = s.split(' ');\n",
       "// [Это, просто, пример]\n",
       "consol.log(s)\n",
       "consol.log(x)\n",
       "var x = s.split(' ', 2);\n",
       "// [Это, просто]    \n",
       "consol.log(x)\n",
       "//===============================================    \n",
       "        el = document.getElementById('d_101')\n",
       "        el.innerHTML = ssstttrrr\n",
       "    }f()</script>\n"
      ],
      "text/plain": [
       "<IPython.core.display.HTML object>"
      ]
     },
     "execution_count": 2,
     "metadata": {},
     "output_type": "execute_result"
    }
   ],
   "source": [
    "from IPython.display import HTML\n",
    "form = \"\"\"\n",
    "    <div id=\"d_101\">____</div>\n",
    "    <script>\n",
    "    ssstttrrr = ''\n",
    "    var consol={\n",
    "    log:function (s1, s2='',s3='',s4 ='', s5='<br>'){\n",
    "        ssstttrrr += s1+' '+s2+' '+s3+' '+s4+' '+s5   }}\n",
    "    function f(){\n",
    "//===============================================    \n",
    "var s = 'Это просто пример';\n",
    "var x = s.split(' ');\n",
    "// [Это, просто, пример]\n",
    "consol.log(s)\n",
    "consol.log(x)\n",
    "var x = s.split(' ', 2);\n",
    "// [Это, просто]    \n",
    "consol.log(x)\n",
    "//===============================================    \n",
    "        el = document.getElementById('d_101')\n",
    "        el.innerHTML = ssstttrrr\n",
    "    }f()</script>\n",
    "\"\"\"\n",
    "HTML(form)"
   ]
  },
  {
   "cell_type": "markdown",
   "metadata": {},
   "source": [
    "##### Регулярные выражения\n",
    "var re = /regexp/Флаги;  \n",
    "Методы объекта String  \n",
    "replace(regexp, string);  \n",
    "split(regexp)  \n",
    "search(regexp)  \n",
    "match(regexp)  \n",
    "Методы объекта RegExp  \n",
    "test(string);  \n",
    "exec(string);  \n",
    "##### Базовое использование\n",
    "var pattern = /@/;  \n",
    "var str = \"vasya@gmail.com\";  \n",
    "str.search(pattern); // 5 indexOf()  \n",
    "var re = /gmail|hotmail/;  \n",
    "str.search(re);  \n",
    "\"folder/file\".search(/\\//); // 6  \n",
    "/\\\\//.test(\"folder/file\"); // true  "
   ]
  },
  {
   "cell_type": "code",
   "execution_count": 13,
   "metadata": {},
   "outputs": [
    {
     "data": {
      "text/html": [
       "\n",
       "    <div id=\"d_103\">____</div>\n",
       "    <script>\n",
       "    ssstttrrr = ''\n",
       "    var consol={\n",
       "    log:function (s1, s2='',s3='',s4 ='', s5='<br>'){\n",
       "        ssstttrrr += s1+' '+s2+' '+s3+' '+s4+' '+s5   }}\n",
       "    function f(){\n",
       "//===============================================    \n",
       "var pattern = /@/;\n",
       "var str = \"vasya@gmail.com\";\n",
       "var k = str.search(pattern); // 5 indexOf()\n",
       "consol.log(k)\n",
       "var re = /gmail|hotmail/;\n",
       "var k = str.search(re);\n",
       "consol.log(k)\n",
       "str = 'folder/file'\n",
       "k = str.search(/\\//); // 6\n",
       "consol.log(k)\n",
       "k = /\\//.test(\"folder/file\"); // true    \n",
       "consol.log(k)\n",
       "//===============================================    \n",
       "        el = document.getElementById('d_103')\n",
       "        el.innerHTML = ssstttrrr\n",
       "    }f()</script>\n"
      ],
      "text/plain": [
       "<IPython.core.display.HTML object>"
      ]
     },
     "execution_count": 13,
     "metadata": {},
     "output_type": "execute_result"
    }
   ],
   "source": [
    "from IPython.display import HTML\n",
    "form = \"\"\"\n",
    "    <div id=\"d_103\">____</div>\n",
    "    <script>\n",
    "    ssstttrrr = ''\n",
    "    var consol={\n",
    "    log:function (s1, s2='',s3='',s4 ='', s5='<br>'){\n",
    "        ssstttrrr += s1+' '+s2+' '+s3+' '+s4+' '+s5   }}\n",
    "    function f(){\n",
    "//===============================================    \n",
    "var pattern = /@/;\n",
    "var str = \"vasya@gmail.com\";\n",
    "var k = str.search(pattern); // 5 indexOf()\n",
    "consol.log(k)\n",
    "var re = /gmail|hotmail/;\n",
    "var k = str.search(re);\n",
    "consol.log(k)\n",
    "str = 'folder/file'\n",
    "k = str.search(/\\//); // 6\n",
    "consol.log(k)\n",
    "k = /\\//.test(\"folder/file\"); // true    \n",
    "consol.log(k)\n",
    "//===============================================    \n",
    "        el = document.getElementById('d_103')\n",
    "        el.innerHTML = ssstttrrr\n",
    "    }f()</script>\n",
    "\"\"\"\n",
    "HTML(form)"
   ]
  },
  {
   "cell_type": "markdown",
   "metadata": {},
   "source": [
    "##### Специальные последовательности\n",
    "\\0 Символ NULL (\\u0000)  \n",
    "\\t Горизонтальная табуляция (\\u0009)  \n",
    "\\n Перевод строки (\\u000A)  \n",
    "\\r Возврат каретки (\\u000D)\n",
    "\\\\ Обратная косая черта (\\u005C)  \n",
    "\\xXX Символ Latin-1, Заданный двумя \n",
    "шестнадцатеричными цифрами  \n",
    "\\uXXXX Символ Unicode, Заданный четырьмя шестнадцатеричными цифрами  \n",
    "^ $ . * + ? = ! : | \\ / () [] {}  \n"
   ]
  },
  {
   "cell_type": "markdown",
   "metadata": {},
   "source": [
    "##### Классы символов\n",
    "var re = /[abc]/;  \n",
    "var re = /[^abc]/;  \n",
    "var re = /[a-f]/;  \n",
    ". Любой символ, кроме переноса  \n",
    "\\w Любой символ ASCII [a-zA-Z0-9_]  \n",
    "\\W Противоположное \\w [^a-zA-Z0-9_]  \n",
    "\\d Любая цифра ASCII [0-9]  \n",
    "\\D Противоположное \\d [^0-9]  \n",
    "\\s Любой символ-разделитель Unicode  \n",
    "\\S Противоположное \\s  \n",
    "##### Повторения\n",
    "{n,m}  \n",
    "шаблон повторяется не менее n, не более\n",
    "m раз  \n",
    "{n,}  \n",
    "шаблон повторяется не менее n раз  \n",
    "{n}  \n",
    "шаблон повторяется точно n раз  \n",
    "? Эквивалентно {0, 1}  \n",
    "\\+ Эквивалентно {1,}  \n",
    "\\* Эквивалентно {0,}  \n",
    "\n",
    "##### Позиции соответствия\n",
    "^ Поиск с начала строки  \n",
    "\\\\$ Поиск до конца строки  \n",
    "\\b Позиция между символом ASCII и символом ASCII (граница слова)  \n",
    "\\B Позиция между двумя символами\n",
    "ASCII (не граница слова)  \n",
    "var re = /^abc/;  \n",
    "var re = /abc$/;  \n",
    "var re = /\\bjava\\b/;  \n",
    "var re = /\\bjava\\B/;\n",
    "##### Флаги\n",
    "ignoreCase  \n",
    "var r = /a/i; //ищутся символы 'a' и 'A'  \n",
    "global  \n",
    "var r = /a/g; //ищутся все символы 'a'  \n",
    "multiline  \n",
    "var r = /a/gim;  \n"
   ]
  },
  {
   "cell_type": "markdown",
   "metadata": {},
   "source": [
    "##### Группировка и ссылки\n",
    "var r = /ab(cd)?/;  \n",
    "// Ищем содержимое в одинаковых кавычках  \n",
    "var r = /['\"][^'\"]*['\"]/; //проблема  \n",
    "var r = /(['\"])[^'\"]*\\1/; //ссылка \\1  \n",
    "//Внешние ссылки  \n",
    "'1A'.replace(/(\\d+)([a-z]+)/i, '\\\\$2-\\\\$1');  \n",
    "##### Методы match() и exec()\n",
    "var re = /(ab)(cd)(xyz)/;  \n",
    "var res = 'abcdxyz'.match(re);  \n",
    "Результат (переменная res)  \n",
    "[  \n",
    "'abcdxyz', // индекс 0  \n",
    "'ab',  \n",
    "'cd',  \n",
    "'xyz'  \n",
    "]  \n",
    "/(ab)(cd)(xyz)/.exec('abcdxyz');  "
   ]
  },
  {
   "cell_type": "markdown",
   "metadata": {},
   "source": [
    "#### Объектно ориентированное программирование\n",
    "###### Конструкторы\n",
    "function Point(x, y) {  \n",
    "this.x = x; this.y = y;  \n",
    "this.getCoords = function(){  \n",
    "return [this.x, this.y];  \n",
    "};  \n",
    "}  \n",
    "var start = new Point(10, 20);  \n",
    "var coords = start.getCoords();  \n",
    "start.constructor;  "
   ]
  },
  {
   "cell_type": "code",
   "execution_count": 16,
   "metadata": {},
   "outputs": [
    {
     "data": {
      "text/html": [
       "\n",
       "    <div id=\"d_115\">____</div>\n",
       "    <script>\n",
       "    ssstttrrr = ''\n",
       "    var consol={\n",
       "    log:function (s1, s2='',s3='',s4 ='', s5='<br>'){\n",
       "        ssstttrrr += s1+' '+s2+' '+s3+' '+s4+' '+s5   }}\n",
       "    function f(){\n",
       "//===============================================    \n",
       "function Point(x, y) {\n",
       "    this.x = x; this.y = y;\n",
       "    this.getCoords = function(){\n",
       "        return [this.x, this.y];\n",
       "    };\n",
       "}\n",
       "var start = new Point(10, 20);\n",
       "var coords = start.getCoords();\n",
       "start.constructor;    \n",
       "consol.log(coords, start.constructor)\n",
       "//===============================================    \n",
       "        el = document.getElementById('d_115')\n",
       "        el.innerHTML = ssstttrrr\n",
       "    }f()</script>\n"
      ],
      "text/plain": [
       "<IPython.core.display.HTML object>"
      ]
     },
     "execution_count": 16,
     "metadata": {},
     "output_type": "execute_result"
    }
   ],
   "source": [
    "from IPython.display import HTML\n",
    "form = \"\"\"\n",
    "    <div id=\"d_115\">____</div>\n",
    "    <script>\n",
    "    ssstttrrr = ''\n",
    "    var consol={\n",
    "    log:function (s1, s2='',s3='',s4 ='', s5='<br>'){\n",
    "        ssstttrrr += s1+' '+s2+' '+s3+' '+s4+' '+s5   }}\n",
    "    function f(){\n",
    "//===============================================    \n",
    "function Point(x, y) {\n",
    "    this.x = x; this.y = y;\n",
    "    this.getCoords = function(){\n",
    "        return [this.x, this.y];\n",
    "    };\n",
    "}\n",
    "var start = new Point(10, 20);\n",
    "var coords = start.getCoords();\n",
    "start.constructor;    \n",
    "consol.log(coords, start.constructor)\n",
    "//===============================================    \n",
    "        el = document.getElementById('d_115')\n",
    "        el.innerHTML = ssstttrrr\n",
    "    }f()</script>\n",
    "\"\"\"\n",
    "HTML(form)"
   ]
  },
  {
   "cell_type": "markdown",
   "metadata": {},
   "source": [
    "##### Новый взгляд на привычное\n",
    "var n = new Number(5);  \n",
    "var s = new String('John');  \n",
    "var b = new Boolean(true);  \n",
    "var a = new Array(5);  \n",
    "var o = new Object();  \n",
    "var re = new RegExp('[a-z+]','i');  \n",
    "##### Проверка конструктора\n",
    "var myObject = [];  \n",
    "myObject instanceof Array;  \n",
    "var x = new Number(5);  \n",
    "x instanceof Object; // true  \n",
    "x++;  \n",
    "x instanceof Object; // false  \n",
    "##### Прототипы\n",
    "```\n",
    "Point.prototype.add = function(obj) {  \n",
    "     return new Point(  \n",
    "     this.x + obj.x, this.y + obj.y);  \n",
    "};  \n",
    "var start = new Point(10, 10);  \n",
    "var finish = new Point(20, 20);  \n",
    "var line = start.add(finish);  \n",
    "var line = new Point(10, 10).add(new Point(20, 20);\n",
    "line.constructor.prototype.draw = ...\n",
    "```\n",
    "##### Методы объекта\n",
    "var n = new Number(5);  \n",
    "n.valueOf();  \n",
    "var obj = {x: 10};  \n",
    "obj.hasOwnProperty('x');  \n",
    "Object.prototype.isPrototypeOf(obj);  "
   ]
  },
  {
   "cell_type": "markdown",
   "metadata": {},
   "source": [
    "##### Объект Date\n",
    "Время хранится в миллисекундах  \n",
    "Точка отсчета -1 января 1970 года (00:00:00)  \n",
    "Greenwich Mean Time (GMT)  \n",
    "Дата и время указывается в соответствии с местным часовым поясом  \n",
    "Указывается смещение относительно Гринвичского меридиана  \n",
    "Смещение зависит от переходов на летнее и зимнее время  \n",
    "UniversalTime Coordinated (UTC)  \n",
    "Дата и время в любой точке планеты одинаково  \n",
    "Точка отсчета совпадает с точностью до долей секунды с точкой отсчета GMT  \n",
    "Никаких переходов на летнее и зимнее время в UTC нет  \n",
    "\n",
    "##### Создание объекта Date\n",
    "var d = new Date();  \n",
    "var d = new Date('Jan 01 2010 01:00:00');  \n",
    "var d = new Date(1234567890000);  \n",
    "var d = new Date(2011, 5);  \n",
    "год, месяц, дата, часы, минуты, секунды, миллисекунды  \n",
    "var d = new Date(2011, 5, 21);  \n",
    "var d = new Date(2011, 12, 40);  \n",
    "var d = new Date(2011, -1);  \n",
    "##### Методы объекта Date\n",
    "getFullYear()  \n",
    "getUTCFullYear()  \n",
    "getMonth() 0-11  \n",
    "getDate() 1-31  \n",
    "getHours() 0-24  \n",
    "getMinutes() 0-59  \n",
    "getSeconds() 0-59  \n",
    "getMilliseconds() 0-999  \n",
    "getDay() 0-6  \n",
    "0 - Воскресение!  \n",
    "##### Дополнительные методы\n",
    "getTimezoneOffset()  \n",
    "смещение GMT в минутах  \n",
    "количество миллисекунд от 01.01.1970  \n",
    "getTime(), valueOf()  \n",
    "var n = Date.parse('Feb 09 2012 03:45:15');  \n",
    "var d = new Date(n);  \n",
    "var n = Date.UTC(2012, 5);  \n",
    "##### Строчное представление даты\n",
    "toString() (GMT)  \n",
    "toLocaleString() (GMT)  \n",
    "toUTCString()  \n",
    "toTimeString()  \n",
    "toLocaleTimeString()  \n",
    "toDateString()  \n",
    "toLocaleDateString()  \n",
    "##### Запись информации\n",
    "setFullYear()  \n",
    "setUTCFullYear()  \n",
    "setMonth()  \n",
    "setDate()  \n",
    "setHours()  \n",
    "setMinutes()  \n",
    "setSeconds()  \n",
    "setMilliseconds()  \n",
    "setTime() не имеет  UTC  "
   ]
  },
  {
   "cell_type": "markdown",
   "metadata": {},
   "source": [
    "##### Объект error\n",
    "```\n",
    "try{\n",
    "    console.log(x);\n",
    "}catch(e){\n",
    "    console.log(e.name);\n",
    "    console.log(e.message);\n",
    "}\n",
    "console.log('test');\n",
    "```"
   ]
  },
  {
   "cell_type": "code",
   "execution_count": 2,
   "metadata": {},
   "outputs": [
    {
     "data": {
      "text/html": [
       "\n",
       "    <div id=\"d_129\">____</div>\n",
       "    <script>\n",
       "    ssstttrrr = ''\n",
       "    var consol={\n",
       "    log:function (s1, s2='',s3='',s4 ='', s5='<br>'){\n",
       "        ssstttrrr += s1+' '+s2+' '+s3+' '+s4+' '+s5   }}\n",
       "    function f(){\n",
       "//===============================================    \n",
       "\n",
       "try{\n",
       "    consol.log(x);\n",
       "}catch(e){\n",
       "    consol.log(e.name);\n",
       "    consol.log(e.message);\n",
       "}\n",
       "consol.log('test');    \n",
       "//===============================================    \n",
       "        el = document.getElementById('d_129')\n",
       "        el.innerHTML = ssstttrrr\n",
       "    }f()</script>\n"
      ],
      "text/plain": [
       "<IPython.core.display.HTML object>"
      ]
     },
     "execution_count": 2,
     "metadata": {},
     "output_type": "execute_result"
    }
   ],
   "source": [
    "from IPython.display import HTML\n",
    "form = \"\"\"\n",
    "    <div id=\"d_129\">____</div>\n",
    "    <script>\n",
    "    ssstttrrr = ''\n",
    "    var consol={\n",
    "    log:function (s1, s2='',s3='',s4 ='', s5='<br>'){\n",
    "        ssstttrrr += s1+' '+s2+' '+s3+' '+s4+' '+s5   }}\n",
    "    function f(){\n",
    "//===============================================    \n",
    "\n",
    "try{\n",
    "    consol.log(x);\n",
    "}catch(e){\n",
    "    consol.log(e.name);\n",
    "    consol.log(e.message);\n",
    "}\n",
    "consol.log('test');    \n",
    "//===============================================    \n",
    "        el = document.getElementById('d_129')\n",
    "        el.innerHTML = ssstttrrr\n",
    "    }f()</script>\n",
    "\"\"\"\n",
    "HTML(form)"
   ]
  },
  {
   "cell_type": "markdown",
   "metadata": {},
   "source": [
    "##### Конструктор объекта Error\n",
    "```\n",
    "try{\n",
    "    var a = 1, b = 0, x;\n",
    "    if(b == 0)\n",
    "        throw new Error('Ошибка!');\n",
    "    x = a / b;\n",
    "}catch(e){\n",
    "    console.log(e.message);\n",
    "}\n",
    "```"
   ]
  },
  {
   "cell_type": "code",
   "execution_count": 4,
   "metadata": {},
   "outputs": [
    {
     "data": {
      "text/html": [
       "\n",
       "    <div id=\"d_130\">____</div>\n",
       "    <script>\n",
       "    ssstttrrr = ''\n",
       "    var consol={\n",
       "    log:function (s1, s2='',s3='',s4 ='', s5='<br>'){\n",
       "        ssstttrrr += s1+' '+s2+' '+s3+' '+s4+' '+s5   }}\n",
       "    function f(){\n",
       "//===============================================    \n",
       "try{\n",
       "    var a = 1, b = 0, x;\n",
       "    if(b == 0)\n",
       "        throw new Error('Ошибка!');\n",
       "    x = a / b;\n",
       "}catch(e){\n",
       "    consol.log(e.message);\n",
       "}    \n",
       "//===============================================    \n",
       "        el = document.getElementById('d_130')\n",
       "        el.innerHTML = ssstttrrr\n",
       "    }f()</script>\n"
      ],
      "text/plain": [
       "<IPython.core.display.HTML object>"
      ]
     },
     "execution_count": 4,
     "metadata": {},
     "output_type": "execute_result"
    }
   ],
   "source": [
    "from IPython.display import HTML\n",
    "form = \"\"\"\n",
    "    <div id=\"d_130\">____</div>\n",
    "    <script>\n",
    "    ssstttrrr = ''\n",
    "    var consol={\n",
    "    log:function (s1, s2='',s3='',s4 ='', s5='<br>'){\n",
    "        ssstttrrr += s1+' '+s2+' '+s3+' '+s4+' '+s5   }}\n",
    "    function f(){\n",
    "//===============================================    \n",
    "try{\n",
    "    var a = 1, b = 0, x;\n",
    "    if(b == 0)\n",
    "        throw new Error('Ошибка!');\n",
    "    x = a / b;\n",
    "}catch(e){\n",
    "    consol.log(e.message);\n",
    "}    \n",
    "//===============================================    \n",
    "        el = document.getElementById('d_130')\n",
    "        el.innerHTML = ssstttrrr\n",
    "    }f()</script>\n",
    "\"\"\"\n",
    "HTML(form)"
   ]
  },
  {
   "cell_type": "code",
   "execution_count": null,
   "metadata": {},
   "outputs": [],
   "source": []
  },
  {
   "cell_type": "code",
   "execution_count": null,
   "metadata": {},
   "outputs": [],
   "source": []
  },
  {
   "cell_type": "code",
   "execution_count": null,
   "metadata": {},
   "outputs": [],
   "source": []
  },
  {
   "cell_type": "code",
   "execution_count": null,
   "metadata": {},
   "outputs": [],
   "source": []
  },
  {
   "cell_type": "code",
   "execution_count": null,
   "metadata": {},
   "outputs": [],
   "source": []
  },
  {
   "cell_type": "code",
   "execution_count": null,
   "metadata": {},
   "outputs": [],
   "source": []
  },
  {
   "cell_type": "code",
   "execution_count": 33,
   "metadata": {},
   "outputs": [
    {
     "data": {
      "text/html": [
       "\n",
       "    <div id=\"d_\">____</div>\n",
       "    <script>\n",
       "    ssstttrrr = ''\n",
       "    var consol={\n",
       "    log:function (s1, s2='',s3='',s4 ='', s5='<br>'){\n",
       "        ssstttrrr += s1+' '+s2+' '+s3+' '+s4+' '+s5   }}\n",
       "    function f(){\n",
       "//===============================================    \n",
       "    \n",
       "//===============================================    \n",
       "        el = document.getElementById('d_')\n",
       "        el.innerHTML = ssstttrrr\n",
       "    }f()</script>\n"
      ],
      "text/plain": [
       "<IPython.core.display.HTML object>"
      ]
     },
     "execution_count": 33,
     "metadata": {},
     "output_type": "execute_result"
    }
   ],
   "source": [
    "from IPython.display import HTML\n",
    "form = \"\"\"\n",
    "    <div id=\"d_\">____</div>\n",
    "    <script>\n",
    "    ssstttrrr = ''\n",
    "    var consol={\n",
    "    log:function (s1, s2='',s3='',s4 ='', s5='<br>'){\n",
    "        ssstttrrr += s1+' '+s2+' '+s3+' '+s4+' '+s5   }}\n",
    "    function f(){\n",
    "//===============================================    \n",
    "    \n",
    "//===============================================    \n",
    "        el = document.getElementById('d_')\n",
    "        el.innerHTML = ssstttrrr\n",
    "    }f()</script>\n",
    "\"\"\"\n",
    "HTML(form)"
   ]
  }
 ],
 "metadata": {
  "kernelspec": {
   "display_name": "Python 3",
   "language": "python",
   "name": "python3"
  },
  "language_info": {
   "codemirror_mode": {
    "name": "ipython",
    "version": 3
   },
   "file_extension": ".py",
   "mimetype": "text/x-python",
   "name": "python",
   "nbconvert_exporter": "python",
   "pygments_lexer": "ipython3",
   "version": "3.6.8"
  }
 },
 "nbformat": 4,
 "nbformat_minor": 2
}
