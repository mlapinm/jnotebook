{
 "cells": [
  {
   "cell_type": "markdown",
   "metadata": {},
   "source": []
  },
  {
   "cell_type": "markdown",
   "metadata": {},
   "source": [
    "##### Типы  \n",
    "Операто определения тиап  \n",
    "typeof  \n",
    "Функция проверки  \n",
    "isNaN()  \n",
    "isFinite()  \n",
    "##### Приведение к типам  \n",
    "- В число\n",
    "    - x = '5' * 1  \n",
    "    - x = + '5'  \n",
    "    - x = parseInt('5.3')\n",
    "    - x = parseFloat('5.3')\n",
    "    - x = Number(true)\n",
    "- В строку\n",
    "    - x = 5 + ''\n",
    "    - x = String(true)\n",
    "- В логический тип\n",
    "    - x = !!5\n",
    "    - x = Boolean(true)\n",
    "\n",
    "undefined, null  \n",
    "\n",
    "##### Запустить файл в консоли\n",
    "- // test.js\n",
    "var name = 'John'  \n",
    "print('hello ' + name)    \n",
    "- js test.js\n",
    "\n",
    "##### Chrome\n",
    "- &lt;script&gt;\n",
    "//comments  \n",
    "var name = 'John'  \n",
    "print('hello ' + name)    \n",
    "&lt;script&gt;\n",
    "- &lt;script src = \"test.js\"&gt;&lt;/script&gt;\n",
    "#### Управляющие конструкции\n",
    "- Циклы\n",
    "- while\n",
    "- for\n",
    "- do while\n",
    "- if - else if - else\n",
    "- метки\n",
    "- break continue\n",
    "- switch\n",
    "\n",
    "##### while\n",
    "- while(true){  \n",
    "    k++  \n",
    "}  \n",
    "##### ++ --\n",
    "##### 2**10\n",
    "r = 1  \n",
    "k = 0  \n",
    "while(k<10){  \n",
    "r *= 2  \n",
    "k++  \n",
    "}  \n",
    "\n"
   ]
  },
  {
   "cell_type": "code",
   "execution_count": 3,
   "metadata": {},
   "outputs": [
    {
     "data": {
      "text/html": [
       "\n",
       "    <div id=\"d1window\">____</div>\n",
       "    <script>\n",
       "    function f(){\n",
       "        s = ''\n",
       "//2**10\n",
       "        r = 1\n",
       "        k = 0\n",
       "        while(k<10){\n",
       "            r *= 2\n",
       "            k++\n",
       "        }\n",
       "        s += 'r = ' + r\n",
       "        s += '<br>'\n",
       "        s += '2**10= ' + 2**10\n",
       "        s += '<br>'\n",
       "//\n",
       "        r = 1\n",
       "        for(i=0;i<10;i++){\n",
       "            r*=2\n",
       "        }\n",
       "        s+= 'r(for) = '+ r\n",
       "        el = document.getElementById('d1window')\n",
       "        el.innerHTML = s\n",
       "    }\n",
       "    f()\n",
       "    \n",
       "    </script>\n"
      ],
      "text/plain": [
       "<IPython.core.display.HTML object>"
      ]
     },
     "execution_count": 3,
     "metadata": {},
     "output_type": "execute_result"
    }
   ],
   "source": [
    "from IPython.display import HTML\n",
    "form = \"\"\"\n",
    "    <div id=\"d1window\">____</div>\n",
    "    <script>\n",
    "    function f(){\n",
    "        s = ''\n",
    "//2**10\n",
    "        r = 1\n",
    "        k = 0\n",
    "        while(k<10){\n",
    "            r *= 2\n",
    "            k++\n",
    "        }\n",
    "        s += 'r = ' + r\n",
    "        s += '<br>'\n",
    "        s += '2**10= ' + 2**10\n",
    "        s += '<br>'\n",
    "//\n",
    "        r = 1\n",
    "        for(i=0;i<10;i++){\n",
    "            r*=2\n",
    "        }\n",
    "        s+= 'r(for) = '+ r\n",
    "        el = document.getElementById('d1window')\n",
    "        el.innerHTML = s\n",
    "    }\n",
    "    f()\n",
    "    \n",
    "    </script>\n",
    "\"\"\"\n",
    "\n",
    "HTML(form)"
   ]
  },
  {
   "cell_type": "code",
   "execution_count": 1,
   "metadata": {},
   "outputs": [
    {
     "data": {
      "text/html": [
       "\n",
       "    <div id=\"d1window\">____</div>\n",
       "    <script>\n",
       "    function f(){\n",
       "        s = ''\n",
       "        s += 'Приведение в число'\n",
       "        var x\n",
       "        //1\n",
       "        x = '5'*1\n",
       "        s += \"x = '5'*1 \"\n",
       "        s += typeof(x)\n",
       "        s += '<br>'\n",
       "        //2\n",
       "        x = parseInt('5.3')\n",
       "        s += \"parseInt('5.3') \"\n",
       "        s += typeof(x)\n",
       "        s += '  '+x\n",
       "        el = document.getElementById('d1window')\n",
       "        el.innerHTML = s\n",
       "    }\n",
       "    f()\n",
       "    \n",
       "    </script>\n"
      ],
      "text/plain": [
       "<IPython.core.display.HTML object>"
      ]
     },
     "execution_count": 1,
     "metadata": {},
     "output_type": "execute_result"
    }
   ],
   "source": [
    "from IPython.display import HTML\n",
    "form = \"\"\"\n",
    "    <div id=\"d1window\">____</div>\n",
    "    <script>\n",
    "    function f(){\n",
    "        s = ''\n",
    "        s += 'Приведение в число'\n",
    "        var x\n",
    "        //1\n",
    "        x = '5'*1\n",
    "        s += \"x = '5'*1 \"\n",
    "        s += typeof(x)\n",
    "        s += '<br>'\n",
    "        //2\n",
    "        x = parseInt('5.3')\n",
    "        s += \"parseInt('5.3') \"\n",
    "        s += typeof(x)\n",
    "        s += '  '+x\n",
    "        el = document.getElementById('d1window')\n",
    "        el.innerHTML = s\n",
    "    }\n",
    "    f()\n",
    "    \n",
    "    </script>\n",
    "\"\"\"\n",
    "\n",
    "HTML(form)"
   ]
  },
  {
   "cell_type": "markdown",
   "metadata": {},
   "source": [
    "##### Рекурсия"
   ]
  },
  {
   "cell_type": "code",
   "execution_count": 9,
   "metadata": {},
   "outputs": [
    {
     "data": {
      "text/html": [
       "\n",
       "    <div id=\"d1recurs\">____</div>\n",
       "    <script>\n",
       "    s = ''\n",
       "    function countLine(count){\n",
       "        if(count>=10){\n",
       "            return\n",
       "        }else{\n",
       "            s += 'Line'+count+'<br>'\n",
       "            count += 1\n",
       "            countLine(count)\n",
       "        }\n",
       "    }\n",
       "    function f(){\n",
       "    \n",
       "        countLine(0)\n",
       "    \n",
       "        el = document.getElementById('d1recurs')\n",
       "        el.innerHTML = s\n",
       "        \n",
       "    }\n",
       "    f()\n",
       "    \n",
       "    </script>\n"
      ],
      "text/plain": [
       "<IPython.core.display.HTML object>"
      ]
     },
     "execution_count": 9,
     "metadata": {},
     "output_type": "execute_result"
    }
   ],
   "source": [
    "from IPython.display import HTML\n",
    "form = \"\"\"\n",
    "    <div id=\"d1recurs\">____</div>\n",
    "    <script>\n",
    "    s = ''\n",
    "    function countLine(count){\n",
    "        if(count>=10){\n",
    "            return\n",
    "        }else{\n",
    "            s += 'Line'+count+'<br>'\n",
    "            count += 1\n",
    "            countLine(count)\n",
    "        }\n",
    "    }\n",
    "    function f(){\n",
    "    \n",
    "        countLine(0)\n",
    "    \n",
    "        el = document.getElementById('d1recurs')\n",
    "        el.innerHTML = s\n",
    "        \n",
    "    }\n",
    "    f()\n",
    "    \n",
    "    </script>\n",
    "\"\"\"\n",
    "\n",
    "HTML(form)"
   ]
  },
  {
   "cell_type": "markdown",
   "metadata": {},
   "source": [
    "### Объекты и массивы\n",
    "##### object\n",
    "- var user = {}\n",
    "- user.name = 'John'\n",
    "- user.age = 25\n",
    "- user.admin = true\n",
    "- console.log(user.name)"
   ]
  },
  {
   "cell_type": "code",
   "execution_count": 10,
   "metadata": {},
   "outputs": [
    {
     "data": {
      "text/html": [
       "\n",
       "    <div id=\"d_\">____</div>\n",
       "    <script>\n",
       "    s = ''\n",
       "    function f(){\n",
       "//===============================================    \n",
       "var user = {}\n",
       "user.name = 'John'\n",
       "user.age = 25\n",
       "user.admin = true\n",
       "s += 'name = ' + user.name\n",
       "//===============================================    \n",
       "        el = document.getElementById('d_')\n",
       "        el.innerHTML = s\n",
       "    }f()</script>\n"
      ],
      "text/plain": [
       "<IPython.core.display.HTML object>"
      ]
     },
     "execution_count": 10,
     "metadata": {},
     "output_type": "execute_result"
    }
   ],
   "source": [
    "from IPython.display import HTML\n",
    "form = \"\"\"\n",
    "    <div id=\"d_\">____</div>\n",
    "    <script>\n",
    "    s = ''\n",
    "    function f(){\n",
    "//===============================================    \n",
    "var user = {}\n",
    "user.name = 'John'\n",
    "user.age = 25\n",
    "user.admin = true\n",
    "s += 'name = ' + user.name\n",
    "//===============================================    \n",
    "        el = document.getElementById('d_')\n",
    "        el.innerHTML = s\n",
    "    }f()</script>\n",
    "\"\"\"\n",
    "HTML(form)"
   ]
  },
  {
   "cell_type": "markdown",
   "metadata": {},
   "source": [
    "- var user = {  \n",
    "    name: 'Guest'  \n",
    "    age: 0,  \n",
    "    admin: false  \n",
    "}  \n",
    "- user.name = 'John'\n",
    "- user.age = 25"
   ]
  },
  {
   "cell_type": "code",
   "execution_count": null,
   "metadata": {},
   "outputs": [],
   "source": [
    "from IPython.display import HTML\n",
    "form = \"\"\"\n",
    "    <div id=\"d_\">____</div>\n",
    "    <script>\n",
    "    s = ''\n",
    "    function f(){\n",
    "//===============================================    \n",
    "var user = {\n",
    "    name: 'Guest'\n",
    "    age: 0,\n",
    "    admin: false\n",
    "}\n",
    "user.name = 'John'\n",
    "user.age = 25\n",
    "//===============================================    \n",
    "        el = document.getElementById('d_')\n",
    "        el.innerHTML = s\n",
    "    }f()</script>\n",
    "\"\"\"\n",
    "HTML(form)"
   ]
  },
  {
   "cell_type": "code",
   "execution_count": null,
   "metadata": {},
   "outputs": [],
   "source": []
  },
  {
   "cell_type": "code",
   "execution_count": null,
   "metadata": {},
   "outputs": [],
   "source": []
  },
  {
   "cell_type": "code",
   "execution_count": null,
   "metadata": {},
   "outputs": [],
   "source": []
  },
  {
   "cell_type": "code",
   "execution_count": null,
   "metadata": {},
   "outputs": [],
   "source": []
  },
  {
   "cell_type": "code",
   "execution_count": null,
   "metadata": {},
   "outputs": [],
   "source": []
  },
  {
   "cell_type": "code",
   "execution_count": null,
   "metadata": {},
   "outputs": [],
   "source": [
    "from IPython.display import HTML\n",
    "form = \"\"\"\n",
    "    <div id=\"d_\">____</div>\n",
    "    <script>\n",
    "    s = ''\n",
    "    function f(){\n",
    "//===============================================    \n",
    "    \n",
    "//===============================================    \n",
    "        el = document.getElementById('d_')\n",
    "        el.innerHTML = s\n",
    "    }f()</script>\n",
    "\"\"\"\n",
    "HTML(form)"
   ]
  }
 ],
 "metadata": {
  "kernelspec": {
   "display_name": "Python 3",
   "language": "python",
   "name": "python3"
  },
  "language_info": {
   "codemirror_mode": {
    "name": "ipython",
    "version": 3
   },
   "file_extension": ".py",
   "mimetype": "text/x-python",
   "name": "python",
   "nbconvert_exporter": "python",
   "pygments_lexer": "ipython3",
   "version": "3.6.6"
  }
 },
 "nbformat": 4,
 "nbformat_minor": 2
}
