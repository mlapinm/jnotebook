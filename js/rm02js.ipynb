{
 "cells": [
  {
   "cell_type": "code",
   "execution_count": null,
   "metadata": {},
   "outputs": [],
   "source": []
  },
  {
   "cell_type": "code",
   "execution_count": null,
   "metadata": {},
   "outputs": [],
   "source": []
  },
  {
   "cell_type": "code",
   "execution_count": null,
   "metadata": {},
   "outputs": [],
   "source": []
  },
  {
   "cell_type": "code",
   "execution_count": null,
   "metadata": {},
   "outputs": [],
   "source": []
  },
  {
   "cell_type": "code",
   "execution_count": null,
   "metadata": {},
   "outputs": [],
   "source": []
  },
  {
   "cell_type": "code",
   "execution_count": 23,
   "metadata": {},
   "outputs": [
    {
     "name": "stdout",
     "output_type": "stream",
     "text": [
      "<html>\\\r\n",
      "    <head>\\\r\n",
      "    <title>Test</title>\\\r\n",
      "    </head>\\\r\n",
      "    <body>\\\r\n",
      "        <p id =\\\"p1\\\">Welcome..</p>\\\r\n",
      "    </body>\\\r\n",
      "    </html>\n"
     ]
    }
   ],
   "source": [
    "import codecs\n",
    "text = ''\n",
    "with codecs.open('text01.html','r','utf-8') as file:\n",
    "    text1 = file.read()\n",
    "print(text1)"
   ]
  },
  {
   "cell_type": "code",
   "execution_count": 26,
   "metadata": {},
   "outputs": [
    {
     "data": {
      "text/html": [
       "\n",
       "    <script>\n",
       "        var text2=\" <html>\\\r\n",
       "    <head>\\\r\n",
       "    <title>Test</title>\\\r\n",
       "    </head>\\\r\n",
       "    <body>\\\r\n",
       "        <p id =\\\"p1\\\">Welcome..</p>\\\r\n",
       "    </body>\\\r\n",
       "    </html> \"\n",
       "    </script>\n",
       "    <script>\n",
       "        var text=\n",
       "    '<html>    <head>    <title>Test</title>    </head>    <body>        <p name = \"p\">Welcome..</p>    </body>    </html>'\n",
       "    </script>\n",
       "    <div id=\"d2location\">____</div>\n",
       "    <p><input type=\"button\" value=\"openWin\" onclick=\"openWin()\"></p>\n",
       "    <p><input type=\"button\" value=\"closeWin\" onclick=\"closeWin()\"></p>\n",
       "    <p><input type=\"button\" value=\"writeDoc\" onclick=\"writeDoc()\"></p>\n",
       "    <p><input type=\"button\" value=\"getDoc\" onclick=\"getDoc()\"></p>\n",
       "    <script>\n",
       "    var win\n",
       "    function openWin(){\n",
       "        var p = \"width=300,height=200,top=0,left=0\"\n",
       "        win = window.open(\"\",\"\",p)\n",
       "        \n",
       "        var s = 'openWin'\n",
       "        el = document.getElementById('d2location')\n",
       "        el.innerHTML = s\n",
       "    }\n",
       "    function closeWin(){\n",
       "        win.close()\n",
       "    }\n",
       "    function writeDoc(){\n",
       "        win.focus()\n",
       "        win.document.open()\n",
       "        win.document.write(text2)\n",
       "        //win.document.close()\n",
       "    }\n",
       "    function getDoc(){\n",
       "        //win.document.open()\n",
       "        var d = win.document\n",
       "        //el = document.getElementById('d1screen')\n",
       "        //el.innerHTML = s\n",
       "        var el1 = win.document.getElementById('p1')\n",
       "        console.log(d, el1.innerHTML)\n",
       "        var el = document.getElementById('d2location')\n",
       "        el.innerHTML = el1.innerHTML\n",
       "        win.document.close()\n",
       "    }\n",
       "    </script>\n"
      ],
      "text/plain": [
       "<IPython.core.display.HTML object>"
      ]
     },
     "execution_count": 26,
     "metadata": {},
     "output_type": "execute_result"
    }
   ],
   "source": [
    "from IPython.display import HTML\n",
    "f1 = \"\"\"\n",
    "    <script>\n",
    "        var text2=\" \"\"\"\n",
    "f21 = \"<html>\\\n",
    "    <head>\\\n",
    "    <title>Test</title>\\\n",
    "    </head>\\\n",
    "    <body>\\\n",
    "        <p>Welcome..</p>\\\n",
    "    </body>\\\n",
    "    </html>\"\n",
    "f2 = text1\n",
    "f3 = \"\"\" \"\n",
    "    </script>\"\"\"\n",
    "form = \"\"\"\n",
    "    <script>\n",
    "        var text=\n",
    "    '<html>\\\n",
    "    <head>\\\n",
    "    <title>Test</title>\\\n",
    "    </head>\\\n",
    "    <body>\\\n",
    "        <p name = \"p\">Welcome..</p>\\\n",
    "    </body>\\\n",
    "    </html>'\n",
    "    </script>\n",
    "    <div id=\"d2location\">____</div>\n",
    "    <p><input type=\"button\" value=\"openWin\" onclick=\"openWin()\"></p>\n",
    "    <p><input type=\"button\" value=\"closeWin\" onclick=\"closeWin()\"></p>\n",
    "    <p><input type=\"button\" value=\"writeDoc\" onclick=\"writeDoc()\"></p>\n",
    "    <p><input type=\"button\" value=\"getDoc\" onclick=\"getDoc()\"></p>\n",
    "    <script>\n",
    "    var win\n",
    "    function openWin(){\n",
    "        var p = \"width=300,height=200,top=0,left=0\"\n",
    "        win = window.open(\"\",\"\",p)\n",
    "        \n",
    "        var s = 'openWin'\n",
    "        el = document.getElementById('d2location')\n",
    "        el.innerHTML = s\n",
    "    }\n",
    "    function closeWin(){\n",
    "        win.close()\n",
    "    }\n",
    "    function writeDoc(){\n",
    "        win.focus()\n",
    "        win.document.open()\n",
    "        win.document.write(text2)\n",
    "        //win.document.close()\n",
    "    }\n",
    "    function getDoc(){\n",
    "        //win.document.open()\n",
    "        var d = win.document\n",
    "        //el = document.getElementById('d1screen')\n",
    "        //el.innerHTML = s\n",
    "        var el1 = win.document.getElementById('p1')\n",
    "        console.log(d, el1.innerHTML)\n",
    "        var el = document.getElementById('d2location')\n",
    "        el.innerHTML = el1.innerHTML\n",
    "        win.document.close()\n",
    "    }\n",
    "    </script>\n",
    "\"\"\"\n",
    "\n",
    "HTML(f1+f2+f3+form)\n",
    "# print(f1+f2+f3+form)"
   ]
  },
  {
   "cell_type": "markdown",
   "metadata": {},
   "source": [
    "[yandex](https://yandex.ru)  \n",
    "[загрузить элементы документа с другой страницы](https://javascript.ru/forum/events/11544-zagruzit-ehlementy-dokumenta-s-drugojj-stranicy.html)"
   ]
  },
  {
   "cell_type": "code",
   "execution_count": 2,
   "metadata": {},
   "outputs": [
    {
     "data": {
      "text/html": [
       "\n",
       "    <div id=\"d2location\">____</div>\n",
       "    <p><input type=\"button\" value=\"openWin\" onclick=\"openWin()\"></p>\n",
       "    <p><input type=\"button\" value=\"closeWin\" onclick=\"closeWin()\"></p>\n",
       "    <p><input type=\"button\" value=\"writeDoc\" onclick=\"writeDoc()\"></p>\n",
       "    <script>\n",
       "    var win\n",
       "    function openWin(){\n",
       "        var p = \"width=300,height=200,top=0,left=0\"\n",
       "        win = window.open(\"\",\"\",p)\n",
       "        \n",
       "        var s = 'openWin'\n",
       "        el = document.getElementById('d2location')\n",
       "        el.innerHTML = s\n",
       "    }\n",
       "    function closeWin(){\n",
       "        win.close()\n",
       "    }\n",
       "    function writeDoc(){\n",
       "        var text = ''\n",
       "        text += \n",
       "    '<html>    <head>    <title>Test</title>    </head>    <body>        <p>Welcome..</p>    </body>    </html>'\n",
       "        win.document.open()\n",
       "        win.document.write(text)\n",
       "        win.document.close()\n",
       "    }\n",
       "    </script>\n"
      ],
      "text/plain": [
       "<IPython.core.display.HTML object>"
      ]
     },
     "execution_count": 2,
     "metadata": {},
     "output_type": "execute_result"
    }
   ],
   "source": [
    "from IPython.display import HTML\n",
    "form = \"\"\"\n",
    "    <div id=\"d2location\">____</div>\n",
    "    <p><input type=\"button\" value=\"openWin\" onclick=\"openWin()\"></p>\n",
    "    <p><input type=\"button\" value=\"closeWin\" onclick=\"closeWin()\"></p>\n",
    "    <p><input type=\"button\" value=\"writeDoc\" onclick=\"writeDoc()\"></p>\n",
    "    <script>\n",
    "    var win\n",
    "    function openWin(){\n",
    "        var p = \"width=300,height=200,top=0,left=0\"\n",
    "        win = window.open(\"\",\"\",p)\n",
    "        \n",
    "        var s = 'openWin'\n",
    "        el = document.getElementById('d2location')\n",
    "        el.innerHTML = s\n",
    "    }\n",
    "    function closeWin(){\n",
    "        win.close()\n",
    "    }\n",
    "    function writeDoc(){\n",
    "        var text = ''\n",
    "        text += \n",
    "    '<html>\\\n",
    "    <head>\\\n",
    "    <title>Test</title>\\\n",
    "    </head>\\\n",
    "    <body>\\\n",
    "        <p>Welcome..</p>\\\n",
    "    </body>\\\n",
    "    </html>'\n",
    "        win.document.open()\n",
    "        win.document.write(text)\n",
    "        win.document.close()\n",
    "    }\n",
    "    </script>\n",
    "\"\"\"\n",
    "\n",
    "HTML(form)"
   ]
  },
  {
   "cell_type": "code",
   "execution_count": null,
   "metadata": {},
   "outputs": [],
   "source": []
  }
 ],
 "metadata": {
  "kernelspec": {
   "display_name": "Python 3",
   "language": "python",
   "name": "python3"
  },
  "language_info": {
   "codemirror_mode": {
    "name": "ipython",
    "version": 3
   },
   "file_extension": ".py",
   "mimetype": "text/x-python",
   "name": "python",
   "nbconvert_exporter": "python",
   "pygments_lexer": "ipython3",
   "version": "3.7.8"
  }
 },
 "nbformat": 4,
 "nbformat_minor": 2
}
