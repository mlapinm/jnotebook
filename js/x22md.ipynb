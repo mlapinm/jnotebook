{
 "cells": [
  {
   "cell_type": "markdown",
   "metadata": {},
   "source": [
    "## dir to md"
   ]
  },
  {
   "cell_type": "markdown",
   "metadata": {},
   "source": [
    "## 1 dir"
   ]
  },
  {
   "cell_type": "code",
   "execution_count": 21,
   "metadata": {},
   "outputs": [
    {
     "name": "stdout",
     "output_type": "stream",
     "text": [
      "62\n"
     ]
    }
   ],
   "source": [
    "import os\n",
    "import re\n",
    "\n",
    "def mMd(s):\n",
    "    '''\n",
    "    a*class.md => True\n",
    "    '''\n",
    "    match = re.search(r'README.md$', s)\n",
    "    if match:\n",
    "        return False\n",
    "\n",
    "    match = re.search(r'^\\w*.ipynb$', s)\n",
    "    return True if match else False\n",
    "\n",
    "\n",
    "def mListDir(cwd = '.'):\n",
    "    lres = []\n",
    "    lres = list(filter(mMd, os.listdir(cwd)))\n",
    "    \n",
    "    return lres\n",
    "    \n",
    "l = mListDir()\n",
    "print(len(l))"
   ]
  },
  {
   "cell_type": "markdown",
   "metadata": {},
   "source": [
    "## 2 copy md to dirmd"
   ]
  },
  {
   "cell_type": "code",
   "execution_count": 22,
   "metadata": {},
   "outputs": [],
   "source": [
    "import shutil\n",
    "\n",
    "def mCopy(lipynb):\n",
    "    \n",
    "    limd = [v.replace('.ipynb', '.md') for v in lipynb]\n",
    "    cwd = os.getcwd()\n",
    "    cwd = re.sub(r'^.+\\\\', '', cwd)\n",
    "    lcwdp = os.listdir('..')\n",
    "    smd = f'{cwd}md'\n",
    "    if lcwdp.count(smd) == 0:\n",
    "        os.mkdir(f'..\\\\{smd}')\n",
    "#     print(smd, cwd, lcwdp)\n",
    "    \n",
    "    for v in limd:\n",
    "        shutil.copy2(v, f'..\\\\{smd}')\n",
    "        pass\n",
    "    \n",
    "    for v in limd:\n",
    "        os.remove(v)\n",
    "#     print(limd)\n",
    "    \n",
    "    return len(lipynb)\n",
    "    pass\n",
    "\n",
    "# count = mCopy(lipynb)\n",
    "# print(count)"
   ]
  },
  {
   "cell_type": "markdown",
   "metadata": {},
   "source": [
    "## 3 list ipynb to md"
   ]
  },
  {
   "cell_type": "code",
   "execution_count": 24,
   "metadata": {},
   "outputs": [
    {
     "name": "stdout",
     "output_type": "stream",
     "text": [
      "62\n"
     ]
    }
   ],
   "source": [
    "import subprocess\n",
    "\n",
    "def mMakeMd(lmd):\n",
    "    l2 = []\n",
    "    for v1 in lmd:\n",
    "        s1 = f'jupyter nbconvert --to markdown {v1}'\n",
    "        l2.append(s1)\n",
    "#         print(v1)\n",
    "        pass\n",
    "\n",
    "    for v2 in l2:\n",
    "        subprocess.check_output(v2, shell=True, text=True)\n",
    "    return l2    \n",
    "\n",
    "lipynb = mListDir(cwd = '.')\n",
    "l2 = mMakeMd(lipynb)\n",
    "count = mCopy(lipynb)\n",
    "print(count)\n"
   ]
  },
  {
   "cell_type": "code",
   "execution_count": 1,
   "metadata": {},
   "outputs": [
    {
     "name": "stdout",
     "output_type": "stream",
     "text": [
      "\n"
     ]
    }
   ],
   "source": [
    "import subprocess\n",
    "\n",
    "a = subprocess.check_output('jupyter nbconvert --to markdown x07dict.ipynb', shell=True, text=True)\n",
    "print(a)\n"
   ]
  }
 ],
 "metadata": {
  "kernelspec": {
   "display_name": "Python 3",
   "language": "python",
   "name": "python3"
  },
  "language_info": {
   "codemirror_mode": {
    "name": "ipython",
    "version": 3
   },
   "file_extension": ".py",
   "mimetype": "text/x-python",
   "name": "python",
   "nbconvert_exporter": "python",
   "pygments_lexer": "ipython3",
   "version": "3.7.8"
  }
 },
 "nbformat": 4,
 "nbformat_minor": 2
}
