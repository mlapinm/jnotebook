{
 "cells": [
  {
   "cell_type": "markdown",
   "metadata": {},
   "source": []
  },
  {
   "cell_type": "markdown",
   "metadata": {},
   "source": [
    "## 1"
   ]
  },
  {
   "cell_type": "code",
   "execution_count": 1,
   "metadata": {},
   "outputs": [],
   "source": [
    "def mTest(text, indexes):\n",
    "    lres = []\n",
    "    r = indexes[1] - indexes[0]\n",
    "    sen1 = text[indexes[0]:indexes[1]].strip()\n",
    "    sen2 = ''\n",
    "    if indexes[2]+r < len(text):\n",
    "        sen2 = text[indexes[2]:indexes[2]+r].strip()\n",
    "    l1 = sen1.split(' ')\n",
    "    l2 = sen2.split(' ')\n",
    "#     print(l1, l2)\n",
    "    if len(l1) != len(l2):\n",
    "        lres = [0 for v in l1]\n",
    "        return lres\n",
    "    for i in range(len(l1)):\n",
    "        if l1[i] == l2[i]:\n",
    "            lres.append(1)\n",
    "        else:\n",
    "            lres.append(0)\n",
    "#     print(l1,l2)\n",
    "    pass\n",
    "    return lres\n"
   ]
  },
  {
   "cell_type": "markdown",
   "metadata": {},
   "source": []
  },
  {
   "cell_type": "markdown",
   "metadata": {},
   "source": [
    "## 2 "
   ]
  },
  {
   "cell_type": "code",
   "execution_count": 5,
   "metadata": {},
   "outputs": [
    {
     "name": "stdout",
     "output_type": "stream",
     "text": [
      "718\n"
     ]
    }
   ],
   "source": [
    "s = '''\n",
    "1 2 3 1\n",
    "2 3 1 22 33\n",
    "4 5 6 4 5 \n",
    "6 4 5 6\n",
    "'''\n",
    "s = '''\n",
    "we sat down face to face we sat down\n",
    "face to face we sat down face to face\n",
    "you can go to the station by bus\n",
    "you can go to the station by bus you can\n",
    "go to the station by bus\n",
    "'''\n",
    "def mStrToList(s):\n",
    "    l = s.split('\\n')\n",
    "    l2 = []\n",
    "    for v in l:\n",
    "        for v2 in v.split(' '):\n",
    "            l2.append(v2.strip())\n",
    "    #     print(v)\n",
    "        pass\n",
    "    l2 = list(filter(lambda v: len(v.strip())>0, l2))\n",
    "#     print('l2', l2)\n",
    "    return l2\n",
    "\n",
    "# print(l)\n",
    "\n",
    "def m3index(text, index):\n",
    "    '''\n",
    "    return [i1, i3, i3]\n",
    "    '''\n",
    "    c = text.find(' ', index)\n",
    "    c = text.find(' ', c+1)\n",
    "    \n",
    "    st = ''\n",
    "    if c>0:\n",
    "        st = text[index:c]\n",
    "    else:\n",
    "        st = text[index:]\n",
    "    lr = []\n",
    "#     c = text.index(st, 1)\n",
    "#     index = 0\n",
    "    while 1:\n",
    "        index = text.find(st, index)\n",
    "        if index == -1:\n",
    "            break\n",
    "        lr.append(index)\n",
    "#         print(index)\n",
    "        index += 1\n",
    "#     print(c)\n",
    "#     print(lr)\n",
    "    lres = []\n",
    "    if len(lr)>2:\n",
    "        if lr[2]-lr[1] == lr[1]-lr[0] and lr[2]<200:\n",
    "            lres = lr[:3]\n",
    "        elif len(lr)>5 and lr[2]-lr[0] == lr[4]-lr[2]and lr[2]<200:\n",
    "            lres = [lr[0], lr[2], lr[4]]\n",
    "        elif len(lr)>8 and lr[3]-lr[0] == lr[6]-lr[3]and lr[2]<200:\n",
    "            lres = [lr[0], lr[3], lr[6]]\n",
    "        else:\n",
    "            lres = lr[:3]\n",
    "    if len(lr)<3:\n",
    "        lres=[0, 0, 0]\n",
    "    return lres\n",
    "\n",
    "def mOneAsThree(l):\n",
    "    l2 = []\n",
    "    for i in range(len(l)):\n",
    "        l2.append(l[i])\n",
    "        if i>1:\n",
    "            if l2[-2]==l2[-1] and l2[-3]==l2[-1]:\n",
    "                l2 = l2[:-2]\n",
    "        pass\n",
    "    return l2\n",
    "\n",
    "\n",
    "def mStToL2(s, l2):\n",
    "    index = 0\n",
    "#     print(s)\n",
    "    bString = False\n",
    "    btestback = False\n",
    "    while index<len(s):\n",
    "        indxs = m3index(s, index)\n",
    "        r1 = indxs[1]-indxs[0]\n",
    "        r2 = indxs[2]-indxs[1]\n",
    "        if r1 == r2 and r1!=0:\n",
    "            test = mTest(s, indxs)\n",
    "            s5 = 'dd'\n",
    "            summ = 0\n",
    "            for v in test:\n",
    "                summ +=v\n",
    "            btest = False    \n",
    "            if summ == len(test): \n",
    "                btest = True\n",
    "                btestback = False\n",
    "            sx = ' 11 '\n",
    "            if not btest and btestback == False:\n",
    "                sx = ' 22 '\n",
    "                i2 = indxs[0]\n",
    "                k=0\n",
    "                while k<2:\n",
    "                    i2 -= 1\n",
    "                    i2 = s[:i2+1].rfind(' ')\n",
    "                    k += 1\n",
    "                i2 += 1\n",
    "                indxs2 = m3index(s, i2)\n",
    "#                 test2 = []\n",
    "                test2 = mTest(s, indxs2)\n",
    "                summ = 0\n",
    "                for v in test2:\n",
    "                    summ +=v\n",
    "                btest = False    \n",
    "                if summ == len(test2) and indxs2[1]-indxs2[0]>0: \n",
    "#                     l2.append('===='+str(test2)+str(indxs2))\n",
    "                    btest2 = True\n",
    "                    indxs = indxs2\n",
    "#                     l2.append('11111')\n",
    "                else:\n",
    "                    btestback = True\n",
    "\n",
    "                sx = f' 22{s[i2]}22 '\n",
    "\n",
    "            l2.append(s[indxs[0]:indxs[0]+r1])\n",
    "            l2.append(s[indxs[1]:indxs[1]+r1])\n",
    "            l2.append(s[indxs[2]:indxs[2]+r1])\n",
    "            index = indxs[2]+r1\n",
    "#             print(s[indxs[2]:indxs[2]+r1])\n",
    "            c = s.find(' ', index-1)\n",
    "            if len(s[index:c].strip())>0:\n",
    "                l2[len(l2)-1]+=s[index:c]\n",
    "            if c>0:\n",
    "                index = c+1\n",
    "            else:\n",
    "                index = len(s)\n",
    "            pass\n",
    "#             print(1,s[index:index+10],2)\n",
    "            bString = False\n",
    "        else:\n",
    "            c = s.find(' ', index)\n",
    "#             print('sc', c, s[c])\n",
    "#             l2.append(s[index:c])\n",
    "#             l2[len(l2)-1] += ' ' + s[index:c]\n",
    "            if bString == False:\n",
    "                l2.append(s[index:c])\n",
    "                bString = True\n",
    "            else:\n",
    "                l2[-1] += \" \" + s[index:c]\n",
    "            if c>0:\n",
    "                index = c+1\n",
    "            else:\n",
    "                index = len(s)\n",
    "            pass\n",
    "        pass\n",
    "\n",
    "    \n",
    "def enru():\n",
    "    s = ''\n",
    "    with open(\"x24a.txt\", encoding=\"utf8\") as file:\n",
    "        s = file.read()\n",
    "\n",
    "    l = mStrToList(s)\n",
    "    s = ' '.join(l)\n",
    "    # print(l)\n",
    "    l2 = []\n",
    "    mStToL2(s, l2)\n",
    "    l2 = [v.strip() for v in l2]\n",
    "    for i in range(len(l2)):\n",
    "        \n",
    "        pass\n",
    "    l3 = mOneAsThree(l2)\n",
    "#     l3 = l2\n",
    "    s2 = '\\n'.join(l3)\n",
    "    with open(\"x24b.txt\", \"w\", encoding=\"utf8\") as file:\n",
    "        file.write(s2)\n",
    "    print(len(l3))\n",
    "    \n",
    "enru()        \n"
   ]
  },
  {
   "cell_type": "markdown",
   "metadata": {},
   "source": []
  },
  {
   "cell_type": "code",
   "execution_count": 21,
   "metadata": {},
   "outputs": [
    {
     "name": "stdout",
     "output_type": "stream",
     "text": [
      " 3 4[1, 2]\n"
     ]
    }
   ],
   "source": [
    "l = [1, 2]\n",
    "s = ' 3 4'\n",
    "s += str(l)\n",
    "print(s)"
   ]
  },
  {
   "cell_type": "markdown",
   "metadata": {},
   "source": [
    "## Добавление testback\n",
    " - хороший тест btestback = False\n",
    " - плохой тест и btestback = False =>    \n",
    " делаем testback и btestback = True\n",
    " "
   ]
  },
  {
   "cell_type": "code",
   "execution_count": 8,
   "metadata": {},
   "outputs": [
    {
     "name": "stdout",
     "output_type": "stream",
     "text": [
      "1 False\n",
      "1 False\n",
      "1 False\n",
      "1 False\n",
      "0 False\n",
      "make testback\n",
      "0 True\n",
      "1 True\n",
      "1 False\n",
      "0 False\n",
      "make testback\n",
      "0 True\n",
      "0 True\n",
      "0 True\n",
      "1 True\n",
      "1 False\n",
      "1 False\n",
      "1 False\n"
     ]
    }
   ],
   "source": [
    "s = '1111001100001111'\n",
    "i = 0\n",
    "btestback = False\n",
    "while i<len(s):\n",
    "    print(s[i], btestback)\n",
    "    if s[i] == '0' and btestback == False:\n",
    "        print('make testback')\n",
    "        btestback = True\n",
    "    elif s[i] == '1':\n",
    "        btestback = False\n",
    "    \n",
    "    i += 1\n"
   ]
  },
  {
   "cell_type": "code",
   "execution_count": 36,
   "metadata": {},
   "outputs": [
    {
     "name": "stdout",
     "output_type": "stream",
     "text": [
      " 333\n"
     ]
    }
   ],
   "source": [
    "s = '111 222 333'\n",
    "i = 8\n",
    "i2 = s[:i+1].rfind(' ')\n",
    "print(s[i2:])"
   ]
  },
  {
   "cell_type": "code",
   "execution_count": 40,
   "metadata": {},
   "outputs": [
    {
     "name": "stdout",
     "output_type": "stream",
     "text": [
      " 222 333\n"
     ]
    }
   ],
   "source": [
    "s = '111 222 333'\n",
    "i = 8\n",
    "k = 0\n",
    "i2 = 8\n",
    "\n",
    "while k<2:\n",
    "    i2 = s[:i2+1].rfind(' ')\n",
    "    i2 -= 1\n",
    "    k += 1\n",
    "i2 += 1\n",
    "print(s[i2:])"
   ]
  }
 ],
 "metadata": {
  "kernelspec": {
   "display_name": "Python 3",
   "language": "python",
   "name": "python3"
  },
  "language_info": {
   "codemirror_mode": {
    "name": "ipython",
    "version": 3
   },
   "file_extension": ".py",
   "mimetype": "text/x-python",
   "name": "python",
   "nbconvert_exporter": "python",
   "pygments_lexer": "ipython3",
   "version": "3.7.8"
  }
 },
 "nbformat": 4,
 "nbformat_minor": 4
}
