{
 "cells": [
  {
   "cell_type": "markdown",
   "metadata": {},
   "source": []
  },
  {
   "cell_type": "markdown",
   "metadata": {},
   "source": [
    "## recognition"
   ]
  },
  {
   "cell_type": "markdown",
   "metadata": {},
   "source": [
    "### install\n",
    "```\n",
    "pip install pipwin \n",
    "pipwin install pyaudio\n",
    "pipwin install pocketsphinx\n",
    "```"
   ]
  },
  {
   "cell_type": "markdown",
   "metadata": {},
   "source": [
    "## 1 recognize_google"
   ]
  },
  {
   "cell_type": "code",
   "execution_count": 2,
   "metadata": {},
   "outputs": [
    {
     "name": "stdout",
     "output_type": "stream",
     "text": [
      "3.8.1\n"
     ]
    }
   ],
   "source": [
    "import speech_recognition as sr\n",
    "print(sr.__version__)"
   ]
  },
  {
   "cell_type": "code",
   "execution_count": 3,
   "metadata": {},
   "outputs": [
    {
     "data": {
      "text/plain": [
       "'the stale smell of old beer lingers it takes heat to bring out the odor a cold dip restores health and zest a salt pickle taste fine with ham tacos al Pastore are my favorite a zestful food is be hot cross bun'"
      ]
     },
     "execution_count": 3,
     "metadata": {},
     "output_type": "execute_result"
    }
   ],
   "source": [
    "import speech_recognition as sr\n",
    "\n",
    "r = sr.Recognizer()\n",
    "harvard = sr.AudioFile('harvard.wav')\n",
    "with harvard as source:\n",
    "    audio = r.record(source)\n",
    "r.recognize_google(audio)    \n"
   ]
  },
  {
   "cell_type": "markdown",
   "metadata": {},
   "source": [
    "## 2 recognize_sphinx"
   ]
  },
  {
   "cell_type": "markdown",
   "metadata": {},
   "source": []
  },
  {
   "cell_type": "code",
   "execution_count": 12,
   "metadata": {},
   "outputs": [
    {
     "data": {
      "text/plain": [
       "\"this they'll smell of old we're lingers it takes heat to bring out the odor called it restores health and zest case all the colt is fine with him couples all pastore my favorite is as full food is the hot cross mon\""
      ]
     },
     "execution_count": 12,
     "metadata": {},
     "output_type": "execute_result"
    }
   ],
   "source": [
    "import speech_recognition as sr\n",
    "\n",
    "r = sr.Recognizer()\n",
    "harvard = sr.AudioFile('harvard.wav')\n",
    "with harvard as source:\n",
    "    audio = r.record(source)\n",
    "r.recognize_sphinx(audio)    \n"
   ]
  },
  {
   "cell_type": "markdown",
   "metadata": {},
   "source": [
    "## 3 Microphone"
   ]
  },
  {
   "cell_type": "code",
   "execution_count": 13,
   "metadata": {},
   "outputs": [
    {
     "name": "stdout",
     "output_type": "stream",
     "text": [
      "Say something!\n",
      "Sphinx could not understand audio\n"
     ]
    }
   ],
   "source": [
    "import speech_recognition as sr  \n",
    "   \n",
    "# obtain audio from the microphone  \n",
    "r = sr.Recognizer()  \n",
    "with sr.Microphone() as source:  \n",
    "    print(\"Say something!\")  \n",
    "    audio = r.listen(source)  \n",
    "\n",
    "# recognize speech using Sphinx  \n",
    "try:  \n",
    "    print(\"Sphinx thinks you said '\" + r.recognize_sphinx(audio) + \"'\")  \n",
    "except sr.UnknownValueError:  \n",
    "    print(\"Sphinx could not understand audio\")  \n",
    "except sr.RequestError as e:  \n",
    "    print(\"Sphinx error; {0}\".format(e))  "
   ]
  },
  {
   "cell_type": "code",
   "execution_count": 7,
   "metadata": {},
   "outputs": [
    {
     "name": "stdout",
     "output_type": "stream",
     "text": [
      "9115\n"
     ]
    }
   ],
   "source": [
    "import speech_recognition as sr\n",
    "\n",
    "r = sr.Recognizer()\n",
    "harvard = sr.AudioFile('2.wav')\n",
    "with harvard as source:\n",
    "    audio = r.record(source)\n",
    "s = '11'\n",
    "s = r.recognize_sphinx(audio)    \n",
    "mWriteFile(\"x27c.txt\", s)\n",
    "print(len(s))"
   ]
  },
  {
   "cell_type": "markdown",
   "metadata": {},
   "source": [
    "## закладки\n"
   ]
  },
  {
   "cell_type": "markdown",
   "metadata": {},
   "source": [
    "## 1\n",
    "- mBookmarksFolder(txt, word, lst)   \n",
    "принимает hrome export bookmarks  \n",
    "искомая папка с закладками (tmp02)  \n",
    "добавляет список строк вида []()  \n"
   ]
  },
  {
   "cell_type": "code",
   "execution_count": 2,
   "metadata": {},
   "outputs": [
    {
     "name": "stdout",
     "output_type": "stream",
     "text": [
      "3\n"
     ]
    }
   ],
   "source": [
    "from bs4 import BeautifulSoup as bf\n",
    "\n",
    "def mReadFile(fileName):\n",
    "    s = ''\n",
    "    with open(fileName, encoding=\"utf8\") as file:\n",
    "        s = file.read()\n",
    "    return s\n",
    "\n",
    "\n",
    "def mWriteFile(fileName, text):\n",
    "    with open(fileName, \"w\", encoding=\"utf8\") as file:\n",
    "        file.write(text)\n",
    "    \n",
    "\n",
    "\n",
    "def mBookmarksFolder(txt, word, lst):\n",
    "    soup = bf(txt, 'lxml')\n",
    "    soup2 = soup.find(string=word)\n",
    "    soup3 = soup2.find_parent().find_parent()\n",
    "    soup4 = soup3.find_parent()\n",
    "    soup5 = soup4.find_all([\"dl\",\"h3\"])\n",
    "\n",
    "    ll = []\n",
    "    for tag in soup5:\n",
    "        if tag.name == \"h3\":\n",
    "            ll.append([tag.text])\n",
    "        elif tag.name == \"dl\":\n",
    "            la0 = tag.find_all(\"a\")\n",
    "            la2 = [[e.text, e['href']] for e in la0 if e is not None]\n",
    "            ll[-1].append(la2)\n",
    "\n",
    "    for e in ll:\n",
    "        if e[0]==word:\n",
    "            for e2 in e[1]:\n",
    "                s2 = f\"[{e2[0]}]({e2[1]})\"\n",
    "                lst.append(s2)\n",
    " \n",
    "    \n",
    "txt = mReadFile(\"x27a.txt\")\n",
    "word = \"tmp02\"\n",
    "# word = \"a2\"\n",
    "lst = []\n",
    "mBookmarksFolder(txt, word, lst)\n",
    "mWriteFile(\"x27b.txt\", '   \\n'.join(lst))\n",
    "    \n",
    "print(len(lst))\n"
   ]
  },
  {
   "cell_type": "markdown",
   "metadata": {},
   "source": [
    "```\n",
    "D:\\mailCloud\\prjother\\089hosts\\jnotebook\\js\n",
    "D:\\mailCloud\\prjother\\089hosts\\jnotebook\\js\\bookmarks_0610.html\n",
    "```"
   ]
  },
  {
   "cell_type": "markdown",
   "metadata": {},
   "source": [
    "## 2"
   ]
  },
  {
   "cell_type": "code",
   "execution_count": 1,
   "metadata": {},
   "outputs": [],
   "source": [
    "from bs4 import BeautifulSoup as bf\n",
    "\n",
    "soup = ''\n",
    "lst = []\n",
    "with open(\"bookmarks_0610.html\", \"r\", encoding = 'utf8') as f:\n",
    "    txt = f.read()\n",
    "    soup = bf(txt, 'lxml')\n",
    "    \n",
    "soup2 = soup.find(string=\"a2\")\n",
    "soup3 = soup2.find_parent().find_parent()\n",
    "soup4 = soup3.find_parent()\n",
    "soup5 = soup4.find_all([\"dl\",\"h3\"])\n",
    "\n",
    "ll = []\n",
    "for tag in soup5:\n",
    "    if tag.name == \"h3\":\n",
    "        ll.append([tag.text])\n",
    "    elif tag.name == \"dl\":\n",
    "        la0 = tag.find_all(\"a\")\n",
    "        la2 = [[e.text, e['href']] for e in la0 if e is not None]\n",
    "        ll[-1].append(la2)\n",
    "        \n",
    "for e in ll:\n",
    "    if e[0]=='a2':\n",
    "        for e2 in e[1]:\n",
    "            s2 = f\"[{e2[0]}]({e2[1]})\"\n",
    "            lst.append(s2)\n",
    "            \n",
    "# print(lst)\n",
    "\n"
   ]
  },
  {
   "cell_type": "markdown",
   "metadata": {},
   "source": [
    "## clipboard"
   ]
  },
  {
   "cell_type": "code",
   "execution_count": 6,
   "metadata": {},
   "outputs": [
    {
     "ename": "NameError",
     "evalue": "name 'format_id' is not defined",
     "output_type": "error",
     "traceback": [
      "\u001b[1;31m---------------------------------------------------------------------------\u001b[0m",
      "\u001b[1;31mNameError\u001b[0m                                 Traceback (most recent call last)",
      "\u001b[1;32m<ipython-input-6-f8b9d12bdece>\u001b[0m in \u001b[0;36m<module>\u001b[1;34m\u001b[0m\n\u001b[0;32m      4\u001b[0m \u001b[0mwin32clipboard\u001b[0m\u001b[1;33m.\u001b[0m\u001b[0mOpenClipboard\u001b[0m\u001b[1;33m(\u001b[0m\u001b[1;33m)\u001b[0m\u001b[1;33m\u001b[0m\u001b[1;33m\u001b[0m\u001b[0m\n\u001b[0;32m      5\u001b[0m \u001b[0mdata\u001b[0m \u001b[1;33m=\u001b[0m \u001b[0mwin32clipboard\u001b[0m\u001b[1;33m.\u001b[0m\u001b[0mGetClipboardData\u001b[0m\u001b[1;33m(\u001b[0m\u001b[1;33m)\u001b[0m\u001b[1;33m\u001b[0m\u001b[1;33m\u001b[0m\u001b[0m\n\u001b[1;32m----> 6\u001b[1;33m \u001b[0mformat_name\u001b[0m \u001b[1;33m=\u001b[0m \u001b[0mwin32clipboard\u001b[0m\u001b[1;33m.\u001b[0m\u001b[0mGetClipboardFormatName\u001b[0m\u001b[1;33m(\u001b[0m\u001b[0mformat_id\u001b[0m\u001b[1;33m)\u001b[0m\u001b[1;33m\u001b[0m\u001b[1;33m\u001b[0m\u001b[0m\n\u001b[0m\u001b[0;32m      7\u001b[0m \u001b[0mwin32clipboard\u001b[0m\u001b[1;33m.\u001b[0m\u001b[0mCloseClipboard\u001b[0m\u001b[1;33m(\u001b[0m\u001b[1;33m)\u001b[0m\u001b[1;33m\u001b[0m\u001b[1;33m\u001b[0m\u001b[0m\n\u001b[0;32m      8\u001b[0m \u001b[0mprint\u001b[0m\u001b[1;33m(\u001b[0m\u001b[0mdata\u001b[0m\u001b[1;33m,\u001b[0m \u001b[0mformat_name\u001b[0m\u001b[1;33m)\u001b[0m\u001b[1;33m\u001b[0m\u001b[1;33m\u001b[0m\u001b[0m\n",
      "\u001b[1;31mNameError\u001b[0m: name 'format_id' is not defined"
     ]
    }
   ],
   "source": [
    "from io import StringIO\n",
    "import win32clipboard\n",
    "\n",
    "win32clipboard.OpenClipboard()\n",
    "data = win32clipboard.GetClipboardData()\n",
    "format_name = win32clipboard.GetClipboardFormatName(format_id)\n",
    "win32clipboard.CloseClipboard()\n",
    "print(data, format_name)\n"
   ]
  },
  {
   "cell_type": "code",
   "execution_count": null,
   "metadata": {},
   "outputs": [],
   "source": []
  },
  {
   "cell_type": "markdown",
   "metadata": {},
   "source": [
    "[convertio](https://convertio.co/ru/mp4-wav/)  \n",
    "[python - PyAudio не устанавливается - Stack Overflow на русском](https://ru.stackoverflow.com/questions/927657/pyaudio-%D0%BD%D0%B5-%D1%83%D1%81%D1%82%D0%B0%D0%BD%D0%B0%D0%B2%D0%BB%D0%B8%D0%B2%D0%B0%D0%B5%D1%82%D1%81%D1%8F)\n",
    "[Speech Recognition - распознавание речи | Учебник Python 3](https://learn4kid-python.firebaseapp.com/python_data_structure/python_speech_recognition/#%D0%BA%D0%B0%D0%BA-%D1%80%D0%B0%D0%B1%D0%BE%D1%82%D0%B0%D0%B5%D1%82-%D1%80%D0%B0%D1%81%D0%BF%D0%BE%D0%B7%D0%BD%D0%B0%D0%B2%D0%B0%D0%BD%D0%B8%D0%B5-%D1%80%D0%B5%D1%87%D0%B8)   \n",
    "[edureka! - YouTube](https://www.youtube.com/user/edurekaIN?sub_confirmation=1)  \n",
    "[Speech Recognition Using Python | Speech To Text Translation in Python | Python Training | Edureka - YouTube](https://www.youtube.com/watch?v=sHeJgKBaiAI)  \n",
    "[Python Full Course - Learn Python in 12 Hours | Python Tutorial For Beginners | Edureka - YouTube](https://www.youtube.com/watch?v=WGJJIrtnfpk&list=PL9ooVrP1hQOHY-BeYrKHDrHKphsJOyRyu)  \n",
    "[Real-time Speech to Text with DeepSpeech - Getting Started on Windows and Transcribe Microphone Free - YouTube](https://www.youtube.com/watch?v=c_0Q3T0XYTA)  \n",
    "[Python Speech Recognition | Open Website By Speech | Google Speech - YouTube](https://www.youtube.com/watch?v=a98tTmBZU9k&list=PL1FgJUcJJ03teZuZVmQY0_JcOi1ukrBYx&index=2)  \n",
    "[Окончательное руководство по распознаванию речи с Python | Guru](https://cyberguru.tech/%D0%BF%D1%80%D0%BE%D0%B3%D1%80%D0%B0%D0%BC%D0%BC%D0%B8%D1%80%D0%BE%D0%B2%D0%B0%D0%BD%D0%B8%D0%B5/%D0%BC%D0%B0%D1%88%D0%B8%D0%BD%D0%BD%D0%BE%D0%B5-%D0%BE%D0%B1%D1%83%D1%87%D0%B5%D0%BD%D0%B8%D0%B5/%D0%BE%D0%BA%D0%BE%D0%BD%D1%87%D0%B0%D1%82%D0%B5%D0%BB%D1%8C%D0%BD%D0%BE%D0%B5-%D1%80%D1%83%D0%BA%D0%BE%D0%B2%D0%BE%D0%B4%D1%81%D1%82%D0%B2%D0%BE-%D0%BF%D0%BE-%D1%80%D0%B0%D1%81%D0%BF%D0%BE%D0%B7)  "
   ]
  },
  {
   "cell_type": "markdown",
   "metadata": {},
   "source": [
    "## footer\n",
    "[BeautifulSoup – парсинг HTML в Python на примерах](https://python-scripts.com/beautifulsoup-html-parsing)  "
   ]
  },
  {
   "cell_type": "markdown",
   "metadata": {},
   "source": []
  },
  {
   "cell_type": "markdown",
   "metadata": {},
   "source": []
  }
 ],
 "metadata": {
  "kernelspec": {
   "display_name": "Python 3",
   "language": "python",
   "name": "python3"
  },
  "language_info": {
   "codemirror_mode": {
    "name": "ipython",
    "version": 3
   },
   "file_extension": ".py",
   "mimetype": "text/x-python",
   "name": "python",
   "nbconvert_exporter": "python",
   "pygments_lexer": "ipython3",
   "version": "3.7.8"
  }
 },
 "nbformat": 4,
 "nbformat_minor": 4
}
