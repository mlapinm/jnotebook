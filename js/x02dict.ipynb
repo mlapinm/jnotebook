{
 "cells": [
  {
   "cell_type": "markdown",
   "metadata": {},
   "source": [
    "_|_|_|_|_|_\n",
    "--|--|--|--|--|--\n",
    "|||||\n",
    "origin|происхождения|rather|скорее|frequently|часто\n",
    "treat|трактуются|amnesty|амнистия|amidst|посреди\n",
    "fashion|мода|immunised|иммунизированной||\n",
    "|||||\n",
    "|||||\n",
    "|||||\n"
   ]
  },
  {
   "cell_type": "markdown",
   "metadata": {},
   "source": [
    "_|_|_|_|_|_\n",
    "--|--|--|--|--|--\n",
    "So far|пока|breadth|ширина|away|на расстоянии\n",
    "reached|достигнуты|aware|знать|Similar|Аналогичный\n",
    "Whereas|когда|Notice how|обратите внимани|unlike|в отличие\n",
    "Instead|Вместо|approach|подходить|amazing|удивительный\n",
    "probably|наверное|mastering|освоение|benefit|выгода\n",
    "Interacting|взаимодейсвие|secure|безопасность|appreciated|оценили\n",
    "involved|участвуют|Parsing|разбор|predictions|прогнозы\n",
    "imply|обычно|scopes|цели|responsibilities|обязанности\n",
    "|||||\n",
    "|||||\n",
    "|||||\n",
    "|||||\n",
    "|||||\n",
    "|||||\n",
    "|||||"
   ]
  },
  {
   "cell_type": "markdown",
   "metadata": {},
   "source": []
  },
  {
   "cell_type": "markdown",
   "metadata": {},
   "source": [
    "_|_|_|_|_|_\n",
    "--|--|--|--|--|--\n",
    "DataFrame|таблица|ransom|выкупная|Eventually|в конце концов\n",
    "Snooping|искать|suspects|подозреваемые|narrow|сузить\n",
    "accepts|получает|witness|свидетели||\n",
    "|||||\n",
    "|||||\n",
    "|||||\n",
    "|||||\n",
    "|||||\n"
   ]
  },
  {
   "cell_type": "markdown",
   "metadata": {},
   "source": [
    "_|_|_|_|_|_\n",
    "--|--|--|--|--|--\n",
    "mood|настроение|swings|качели|Hazards|опасности\n",
    "habit|привычка|sneaky|подлых|approach|подход\n",
    "issues|проблемы|tense|натянуто|perform|выполнения\n",
    "exact|точное|indices|индексы|declarative|описательное\n",
    "offers|предлагает|handle|обрабатывает|write out|описать\n",
    "instead|вместо|mentioned|упомянутого|avoid|избежать\n",
    "Consider|рассмотрим|browsing|просматриваем|to track|отследить\n",
    "made up|сделан|behaviour|поведение|side|побочный\n",
    "consequences|последствия|confidence|уверенность|traps|ловушки\n",
    "distinct|особый|exciting|захватывающе|rest|оставшиеся\n",
    "solve|решили|necessary|необходимо|accomplish|выполнить\n",
    "vice versa|наоборот|omit|пропустить|arbitrary|произвольный\n",
    "so far|уже|bolster|укрепить|hesitate|стесняться\n",
    "approach|подход|navy|флот|Survey|обследование\n",
    "Definitely|определенно|ensures|гарантирует|involve|включает\n",
    "improving|улучшать||||\n",
    "|||||\n",
    "|||||\n",
    "|||||\n"
   ]
  },
  {
   "cell_type": "markdown",
   "metadata": {},
   "source": [
    "_|_|_|_|_|_\n",
    "--|--|--|--|--|--\n",
    "frequent|частый|malicious|вредный|vulnerable|уязвимый\n",
    "stealing|кражи|sensitive|конфиденциальный|dangerous|опасными\n",
    "mitigating|смягчать|adopting|применение|heuristic|поисковый\n",
    "wings|крылья|follower|последователь||\n",
    "|||||\n",
    "|||||\n"
   ]
  },
  {
   "cell_type": "markdown",
   "metadata": {},
   "source": []
  },
  {
   "cell_type": "markdown",
   "metadata": {},
   "source": [
    "_|_|_|_|_|_\n",
    "--|--|--|--|--|--\n",
    "|grateful caterwauling tuna|благодарный гусеничный тунец|||\n",
    "|jelly future ferret|желе будущее хорька|||\n",
    "|fabulous-stirring-passbook|сказочная-перемешивающая-сберкнижка|||\n",
    "|creative-everlasting-side|творческая вечная сторона|||\n",
    "|lofty-clammy-drink|высокий липкий напиток|||\n",
    "|||||\n"
   ]
  },
  {
   "cell_type": "markdown",
   "metadata": {},
   "source": [
    "[Introduction-to-the-JSON-APIs-and-AJAX-Challenges](./d10mongodb.ipynb#1.2.1.-Introduction-to-the-JSON-APIs-and-AJAX-Challenges)  \n",
    "[Technical-Documentation-Page](./d60siteprj.ipynb#4.-Build-a-Technical-Documentation-Page)  \n",
    "[]()  \n",
    "[]()  \n",
    "[]()  \n",
    "[]()  \n"
   ]
  },
  {
   "cell_type": "markdown",
   "metadata": {},
   "source": [
    "1. Build a Tribute Page\n",
    "\n",
    "\n",
    "\n",
    "\n"
   ]
  },
  {
   "cell_type": "markdown",
   "metadata": {},
   "source": [
    "```\n",
    "f  = () => {\n",
    "var s = \"\";\n",
    "var link = document.location[\"href\"];\n",
    "var title = document.getElementsByTagName(\"title\")[0].text;\n",
    "s = `[${title}](${link})   `;\n",
    "console.log(s);\n",
    "}\n",
    "f()\n",
    "```"
   ]
  },
  {
   "cell_type": "markdown",
   "metadata": {},
   "source": []
  },
  {
   "cell_type": "markdown",
   "metadata": {},
   "source": [
    " #### to json array"
   ]
  },
  {
   "cell_type": "code",
   "execution_count": 5,
   "metadata": {},
   "outputs": [
    {
     "name": "stdout",
     "output_type": "stream",
     "text": [
      "['RecipePane', '#delete-', '#edit-', '.recipe-body', '  ul.ingredient list', '    ingredients', '  ol.directions list', '    directions', '--\\t', 'Dialog', '{this.props.dialogType}', 'Add a Recipe', 'Edit Recipe', 'Recipe', 'textarea#{this.props.nameID}', 'Ingredients', 'textarea#{this.props.ingredientsID}', 'Directions', 'textarea#{this.props.directionsID}', 'button.corner-close', 'button#{this.props.submitID}', 'button#{this.props.closeID}', '--', 'IndexView', '#index-view', '.index-view-item']\n"
     ]
    }
   ],
   "source": [
    "s = '''\n",
    "\n",
    "\n",
    "RecipePane\n",
    "#delete-\n",
    "#edit-\n",
    ".recipe-body\n",
    "  ul.ingredient list\n",
    "    ingredients\n",
    "  ol.directions list\n",
    "    directions\n",
    "--\t\n",
    "Dialog\n",
    "{this.props.dialogType}\n",
    "Add a Recipe\n",
    "Edit Recipe\n",
    "Recipe\n",
    "textarea#{this.props.nameID}\n",
    "Ingredients\n",
    "textarea#{this.props.ingredientsID}\n",
    "Directions\n",
    "textarea#{this.props.directionsID}\n",
    "button.corner-close\n",
    "button#{this.props.submitID}\n",
    "button#{this.props.closeID}\n",
    "--\n",
    "IndexView\n",
    "#index-view\n",
    ".index-view-item\n",
    "\n",
    "'''\n",
    "l = s.split('\\n')\n",
    "l2 = []\n",
    "for i in l:\n",
    "    if i.strip() != \"\":\n",
    "        l2.append(i)\n",
    "print(l2)"
   ]
  },
  {
   "cell_type": "code",
   "execution_count": 14,
   "metadata": {
    "scrolled": true
   },
   "outputs": [
    {
     "name": "stdout",
     "output_type": "stream",
     "text": [
      "[Introduction to the Machine Learning Projects](#Introduction-to-the-Machine-Learning-Projects)  \n",
      "[1 Rock Paper Scissors](#1-Rock-Paper-Scissors)  \n",
      "[2 Cat and Dog Image Classifier](#2-Cat-and-Dog-Image-Classifier)  \n",
      "[3 Book Recommendation Engine using KNN](#3-Book-Recommendation-Engine-using-KNN)  \n",
      "[4 Linear Regression Health Costs Calculator](#4-Linear-Regression-Health-Costs-Calculator)  \n",
      "[5 Neural Network SMS Text Classifier](#5-Neural-Network-SMS-Text-Classifier)  \n"
     ]
    }
   ],
   "source": [
    "s = '''\n",
    "Introduction to the Machine Learning Projects\n",
    "Not Passed\n",
    "Rock Paper Scissors\n",
    "Not Passed\n",
    "Cat and Dog Image Classifier\n",
    "Not Passed\n",
    "Book Recommendation Engine using KNN\n",
    "Not Passed\n",
    "Linear Regression Health Costs Calculator\n",
    "Not Passed\n",
    "Neural Network SMS Text Classifier\n",
    "\n",
    "\n",
    "\n",
    "\n",
    "\n",
    "'''\n",
    "l = s.split('\\n')\n",
    "l2 = []\n",
    "for i in l:\n",
    "    if i.find(\"Passed\") == -1 \\\n",
    "    and i.strip() != \"\":\n",
    "        l2.append(i)\n",
    "l3 = []\n",
    "index = 0\n",
    "bigIndex = \"\"\n",
    "shead = \"\"\n",
    "words = [\"glich work\", \"glich view\"]\n",
    "for i in l2: \n",
    "   shead = bigIndex + str(index) + \". \" + i\n",
    "#    i = re.sub(r'Problem.*?: ', \"\", i) \n",
    "   if index != 0:\n",
    "        shead = str(index) + \" \" + i\n",
    "   else:\n",
    "        shead = i\n",
    "   shead = shead.replace(\"####\", \"\") \n",
    "   shead = shead.strip()\n",
    "   slink = shead.replace(\" \", \"-\")\n",
    "#    shead = words[index-1]\n",
    "   shead = \"[\" + shead + \"]\" \n",
    "   slink = \"(#\" + slink + \")  \" \n",
    "   l3.append(shead + slink)\n",
    "   index += 1\n",
    "s2 = \"\\n\".join(l3)\n",
    "print(s2)"
   ]
  },
  {
   "cell_type": "markdown",
   "metadata": {},
   "source": [
    "  "
   ]
  },
  {
   "cell_type": "code",
   "execution_count": 15,
   "metadata": {
    "scrolled": true
   },
   "outputs": [
    {
     "name": "stdout",
     "output_type": "stream",
     "text": [
      "#### Introduction to the Machine Learning Projects\n",
      "```\n",
      "```\n",
      "#### 1 Rock Paper Scissors\n",
      "```\n",
      "```\n",
      "#### 2 Cat and Dog Image Classifier\n",
      "```\n",
      "```\n",
      "#### 3 Book Recommendation Engine using KNN\n",
      "```\n",
      "```\n",
      "#### 4 Linear Regression Health Costs Calculator\n",
      "```\n",
      "```\n",
      "#### 5 Neural Network SMS Text Classifier\n",
      "```\n",
      "```\n"
     ]
    }
   ],
   "source": [
    "import re\n",
    "# s = '''\n",
    "# '''\n",
    "l = s.split('\\n')\n",
    "l2 = []\n",
    "for i in l:\n",
    "    if i.find(\"Passed\") == -1 \\\n",
    "    and i.strip() != \"\":\n",
    "        l2.append(i)\n",
    "l3 = []\n",
    "index = 0\n",
    "for i in l2: \n",
    "   i = re.sub(r'Problem.*?: ', \"\", i) \n",
    "   if index != 0:\n",
    "        l3.append(\"#### \" + bigIndex + str(index) + \" \" + i)\n",
    "   else:\n",
    "        l3.append(\"#### \" + bigIndex + i)\n",
    "#    l3.append(\"#### \" + bigIndex +  i)\n",
    "   l3.append(\"```\")\n",
    "   l3.append(\"```\")\n",
    "   index += 1\n",
    "s2 = \"\\n\".join(l3)\n",
    "print(s2)"
   ]
  },
  {
   "cell_type": "markdown",
   "metadata": {},
   "source": []
  },
  {
   "cell_type": "code",
   "execution_count": 13,
   "metadata": {},
   "outputs": [
    {
     "name": "stdout",
     "output_type": "stream",
     "text": [
      "\n"
     ]
    }
   ],
   "source": [
    "s = '''\n",
    "'''\n",
    "l = s.split('\\n')\n",
    "l2 = []\n",
    "for i in l:\n",
    "    if i.find(\"Passed\") == -1 \\\n",
    "    and i.strip() != \"\":\n",
    "        l2.append(i)\n",
    "l3 = []\n",
    "index = 1\n",
    "for i in l2: \n",
    "   l3.append(\"### \"+ \"3.\" + str(index) + \". \" + i)\n",
    "   index += 1\n",
    "s = \"\\n\".join(l3)\n",
    "print(s)"
   ]
  },
  {
   "cell_type": "markdown",
   "metadata": {},
   "source": []
  },
  {
   "cell_type": "markdown",
   "metadata": {},
   "source": [
    "[Google Переводчик](https://chrome.google.com/webstore/detail/google-translate/aapbdbdomjkkjkaonfhkkikfgjllcleb/related?hl=ru)  \n",
    "[4 расширения Chrome, которые мгновенно переводят выделенный текст](https://lifehacker.ru/chrome-translator/)  \n",
    "[]()  \n",
    "[]()  \n",
    "[]()  \n",
    "[]()  \n"
   ]
  }
 ],
 "metadata": {
  "kernelspec": {
   "display_name": "Python 3",
   "language": "python",
   "name": "python3"
  },
  "language_info": {
   "codemirror_mode": {
    "name": "ipython",
    "version": 3
   },
   "file_extension": ".py",
   "mimetype": "text/x-python",
   "name": "python",
   "nbconvert_exporter": "python",
   "pygments_lexer": "ipython3",
   "version": "3.7.4"
  }
 },
 "nbformat": 4,
 "nbformat_minor": 2
}
