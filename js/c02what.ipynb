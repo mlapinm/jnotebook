{
 "cells": [
  {
   "cell_type": "markdown",
   "metadata": {},
   "source": [
    "[Learn How to Code](https://www.codecademy.com/learn/learn-how-to-code)  \n",
    "[learn](https://www.codecademy.com/learn)  \n",
    "[]()  \n",
    "[]()  \n"
   ]
  },
  {
   "cell_type": "markdown",
   "metadata": {},
   "source": [
    "#### Variables\n",
    "LESSON\n",
    "Learn about the programming concept known as variables.\n",
    "\n",
    "Exercises\n",
    "\n",
    "1. Introduction to Variables\n",
    "\n",
    "2. Reusing Values in Variables\n",
    "\n",
    "3. Changing the Value of a Variable\n",
    "\n",
    "4. Putting it All Together\n",
    "\n",
    "5. Review - Variables"
   ]
  },
  {
   "cell_type": "markdown",
   "metadata": {},
   "source": [
    "#### Variables\n",
    "LESSON\n",
    "Learn about the programming concept known as variables.\n",
    "\n",
    "Exercises\n",
    "\n",
    "#### 1. Introduction to Variables\n",
    "```\n",
    "```\n",
    "#### 2. Reusing Values in Variables\n",
    "```\n",
    "```\n",
    "#### 3. Changing the Value of a Variable\n",
    "```\n",
    "```\n",
    "#### 4. Putting it All Together\n",
    "```\n",
    "one = 'grass'\n",
    "two = 'rocks'\n",
    "three = 'forest'\n",
    "```\n",
    "#### 5. Review - Variables"
   ]
  },
  {
   "cell_type": "markdown",
   "metadata": {},
   "source": [
    "#### Data Types\n",
    "LESSON\n",
    "Learn about data types, the building blocks of programming.\n",
    "\n",
    "Exercises\n",
    "\n",
    "1. Introduction to Data Types\n",
    "\n",
    "2. Numbers\n",
    "\n",
    "3. Strings\n",
    "\n",
    "4. Boolean\n",
    "\n",
    "5. Putting it All Together\n",
    "\n",
    "6. Data Types Review"
   ]
  },
  {
   "cell_type": "markdown",
   "metadata": {},
   "source": [
    "#### Data Types\n",
    "LESSON\n",
    "Learn about data types, the building blocks of programming.\n",
    "\n",
    "Exercises\n",
    "\n",
    "#### 1. Introduction to Data Types\n",
    "```\n",
    "```\n",
    "#### 2. Numbers\n",
    "```\n",
    "```\n",
    "#### 3. Strings\n",
    "```\n",
    "```\n",
    "#### 4. Boolean\n",
    "```\n",
    "```\n",
    "#### 5. Putting it All Together\n",
    "```\n",
    "// Define the 'makeSandwich()' function\n",
    "function makeSandwich(topping1, topping2) {\n",
    "  sandwich = 'bread' + ','\n",
    "  sandwich += topping1 + ','\n",
    "  sandwich += topping2 + ','\n",
    "  sandwich += 'bread'\n",
    "  return sandwich\n",
    "}\n",
    "\n",
    "// Call the function and store the returned value in 'result'\n",
    "result = makeSandwich('peanut butter', 'jelly')\n",
    "```\n",
    "#### 6. Data Types Review\n",
    "```\n",
    "```"
   ]
  },
  {
   "cell_type": "markdown",
   "metadata": {},
   "source": [
    "_|_|_|_|_|_\n",
    "--|--|--|--|--|--\n",
    "Strings form the parameters of our program, like string wrapped around a package|Строки формируют параметры нашей программы, как строка, обернутая вокруг пакета||||\n",
    "Strings are a sequence of symbols, so we can think of each characters being strung together, like beads in a necklace.|Строки - это последовательность символов, поэтому мы можем думать о том, что каждый символ нанизан вместе, как бусины в ожерелье.||||\n",
    "Strings represent different musical intervals, like the strings on a violin.|Струны представляют собой различные музыкальные интервалы, как струны на скрипке.||||\n",
    "Strings connect two pieces of code, like sheets of cloth sewn together with string.|Струны соединяют два фрагмента кода, как листы ткани, сшитые вместе с нитью.||||\n",
    "|||||\n",
    "|||||\n",
    "|||||\n"
   ]
  },
  {
   "cell_type": "markdown",
   "metadata": {},
   "source": [
    "```\n",
    "if (mode === 'public') {\n",
    "  // Call a function here to show the post details\n",
    "showDetails();\n",
    "} else {\n",
    "  // Call a function here to hide the post details\n",
    "hideDetails();\n",
    "}\n",
    "```"
   ]
  },
  {
   "cell_type": "markdown",
   "metadata": {},
   "source": [
    "Fill in the Blank: Control structures, such as ___, allow for ___ to be altered during the execution of a program."
   ]
  },
  {
   "cell_type": "markdown",
   "metadata": {},
   "source": [
    "Control structures, such as `conditionals`, allow for `control flow` to be altered during the execution of a program."
   ]
  },
  {
   "cell_type": "markdown",
   "metadata": {},
   "source": [
    "#### Define control flow.\n",
    "The condition that must be met to execute a conditional statement.\n",
    "\n",
    "\n",
    "`The order of execution in a program.`\n",
    "\n",
    "\n",
    "A program.\n",
    "\n",
    "\n",
    "A structure used to alter the order of execution in a program."
   ]
  },
  {
   "cell_type": "markdown",
   "metadata": {},
   "source": [
    "#### One of these “programs” uses a conditional control structure. Which one is it?\n",
    "\n",
    "\n",
    "`“If some condition is met, then do X. Otherwise, do Y.”`\n",
    "\n",
    "\n",
    "“Do steps A, B, C. If an error occurs, stop, and do steps J, K, L.”\n",
    "\n",
    "\n",
    "“Do something Z number of times” or “do something repeatedly until some condition is met.”"
   ]
  },
  {
   "cell_type": "markdown",
   "metadata": {},
   "source": [
    "#### Which of these best describes a loop?\n",
    "\n",
    "\n",
    "A control structure that repeats a set of instructions UNTIL a specified condition is met.\n",
    "\n",
    "\n",
    "A control structure that executes a set of instructions IF a specified condition is true.\n",
    "\n",
    "\n",
    "A control structure that executes a set of instructions UNLESS an error occurs."
   ]
  },
  {
   "cell_type": "markdown",
   "metadata": {},
   "source": [
    "#### Which of these best describes an exception control structure?\n",
    "\n",
    "\n",
    "`A set of instructions is executed. If an exception occurs, that set’s execution is stopped and a second set of instructions is executed.`\n",
    "\n",
    "\n",
    "A set of instructions is executed repeatedly until an exception occurs.\n",
    "\n",
    "\n",
    "A set of instructions is repeated if an error occurs during its execution."
   ]
  },
  {
   "cell_type": "markdown",
   "metadata": {},
   "source": [
    "#### Lists\n",
    "LESSON\n",
    "Learn how to use the the list data type to store and edit ordered data.\n",
    "\n",
    "Exercises\n",
    "\n",
    "1. Introduction to Lists\n",
    "\n",
    "2. Accessing List Items\n",
    "\n",
    "3. Adding Items to a List\n",
    "\n",
    "4. Removing Items from a List\n",
    "\n",
    "5. Lists: Putting it Together\n",
    "\n",
    "6. Lists: Review"
   ]
  },
  {
   "cell_type": "markdown",
   "metadata": {},
   "source": [
    "```\n",
    "// Build a list\n",
    "comicStrip = ['Codey sees the trail', 'Codey starts the hike', 'Codey is halfway', 'Codey reaches the finish']\n",
    "\n",
    "// select the 4th item from the list\n",
    "// and save it to the variable selection\n",
    "selection = comicStrip[3]\n",
    "```"
   ]
  },
  {
   "cell_type": "markdown",
   "metadata": {},
   "source": [
    "When we add something to the end of a list, that’s known as:\n",
    "\n",
    "\n",
    "Popping\n",
    "\n",
    "\n",
    "`Appending`\n",
    "\n",
    "\n",
    "Slicing"
   ]
  },
  {
   "cell_type": "markdown",
   "metadata": {},
   "source": [
    "Lists are a data structure. They are important in programming because:\n",
    "\n",
    "\n",
    "They are unordered and random.\n",
    "\n",
    "\n",
    "`They are ordered and sequential.`\n",
    "\n",
    "\n",
    "Can only contain one item."
   ]
  },
  {
   "cell_type": "markdown",
   "metadata": {},
   "source": [
    "#### Loops\n",
    "LESSON\n",
    "Learn about loops: what they are, why programmers use them, and where they use them.\n",
    "\n",
    "Exercises\n",
    "\n",
    "1. Introduction to Loops\n",
    "\n",
    "2. For Loops\n",
    "\n",
    "3. While Loops\n",
    "\n",
    "4. For Each Loops\n",
    "\n",
    "5. Putting it All Together\n",
    "\n",
    "6. Review"
   ]
  },
  {
   "cell_type": "markdown",
   "metadata": {},
   "source": [
    "```\n",
    "for (i = 0; i < 10; i++) {\n",
    "  placeTile('mint')\n",
    "  placeTile('orange')\n",
    "  placeTile('mint')\n",
    "}\n",
    "\n",
    "\n",
    "let i = 0;\n",
    "while (i < 10) {\n",
    "  placeTile('mint')\n",
    "  placeTile('orange')\n",
    "  placeTile('mint')\n",
    "  i++\n",
    "}\n",
    "```"
   ]
  },
  {
   "cell_type": "markdown",
   "metadata": {},
   "source": [
    "Select the most accurate statement about loops.\n",
    "\n",
    "\n",
    "Loops are only useful when the number of repetitions is known.\n",
    "\n",
    "\n",
    "Loops are not useful!\n",
    "\n",
    "\n",
    "An iteration is made up of multiple loops.\n",
    "\n",
    "\n",
    "`Loops require less coding and are easier to read than repeated lines of code.`\n",
    "\n"
   ]
  },
  {
   "cell_type": "markdown",
   "metadata": {},
   "source": [
    "In programming, each execution of a loop is called a(n)…\n",
    "\n",
    "\n",
    "Condition\n",
    "\n",
    "\n",
    "Collection\n",
    "\n",
    "\n",
    "List\n",
    "\n",
    "\n",
    "Iteration\n",
    "\n"
   ]
  },
  {
   "cell_type": "markdown",
   "metadata": {},
   "source": [
    "What type of loop is used in this program? “While there are slices of pizza left, eat a slice of pizza.”\n",
    "\n",
    "\n",
    "`While (condition-controlled) loop`\n",
    "\n",
    "\n",
    "For each (collection-controlled) loop\n",
    "\n",
    "\n",
    "For (count-controlled) loop\n",
    "\n"
   ]
  },
  {
   "cell_type": "markdown",
   "metadata": {},
   "source": [
    "What type of loop is used in this program? “Brush up and down for each tooth in your mouth.”\n",
    "\n",
    "\n",
    "While (condition-controlled) loop\n",
    "\n",
    "\n",
    "For (count-controlled) loop\n",
    "\n",
    "\n",
    "`For each (collection-controlled) loop`\n",
    "\n"
   ]
  },
  {
   "cell_type": "markdown",
   "metadata": {},
   "source": []
  },
  {
   "cell_type": "markdown",
   "metadata": {},
   "source": [
    "20.03 28-71-85-\n",
    "\n"
   ]
  },
  {
   "cell_type": "markdown",
   "metadata": {},
   "source": [
    "_|_|_|_|_|_\n",
    "--|--|--|--|--|--\n",
    "exciting|увлекательное|journey|путешествие|frustrating|неприятным\n",
    "stick|придекрживаться|Rather|лучше|terrains|местность\n",
    "tiles|плитки|either|любой|throughout|везде\n",
    "rely|зависят|pickles|приправа|burger patty|котлета\n",
    "ham|ветчина|annul|ежегодный|sequential|последовательны\n",
    "|||||\n",
    "|||||\n",
    "|||||\n",
    "|||||\n"
   ]
  }
 ],
 "metadata": {
  "kernelspec": {
   "display_name": "Python 3",
   "language": "python",
   "name": "python3"
  },
  "language_info": {
   "codemirror_mode": {
    "name": "ipython",
    "version": 3
   },
   "file_extension": ".py",
   "mimetype": "text/x-python",
   "name": "python",
   "nbconvert_exporter": "python",
   "pygments_lexer": "ipython3",
   "version": "3.7.4"
  }
 },
 "nbformat": 4,
 "nbformat_minor": 2
}
