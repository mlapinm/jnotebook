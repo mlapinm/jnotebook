{
 "cells": [
  {
   "cell_type": "markdown",
   "metadata": {},
   "source": [
    "[codecademy-css](https://www.codecademy.com/courses/learn-css/lessons/css-setup-selectors/exercises/intro-to-css)  "
   ]
  },
  {
   "cell_type": "markdown",
   "metadata": {},
   "source": [
    "#### Inline Styles\n",
    "style = \"font-family:Arial\"  \n"
   ]
  },
  {
   "cell_type": "markdown",
   "metadata": {},
   "source": [
    "#### The <style> Tag"
   ]
  },
  {
   "cell_type": "code",
   "execution_count": 6,
   "metadata": {},
   "outputs": [
    {
     "data": {
      "text/html": [
       "<html>\n",
       "<head>\n",
       "  <style>\n",
       "    p{\n",
       "      font-family:Arial;\n",
       "    }\n",
       "  </style>\n",
       "  <title>Vacation World</title>\n",
       "</head>\n",
       "</html>\n",
       "<body>\n",
       "    <p>Paragraph</p>\n",
       "</body>\n"
      ],
      "text/plain": [
       "<IPython.core.display.HTML object>"
      ]
     },
     "metadata": {},
     "output_type": "display_data"
    }
   ],
   "source": [
    "%%html\n",
    "<html>\n",
    "<head>\n",
    "  <style>\n",
    "    p{\n",
    "      font-family:Arial;\n",
    "    }\n",
    "  </style>\n",
    "  <title>Vacation World</title>\n",
    "</head>\n",
    "</html>\n",
    "<body>\n",
    "    <p>Paragraph</p>\n",
    "</body>"
   ]
  },
  {
   "cell_type": "markdown",
   "metadata": {},
   "source": [
    "#### The .css file"
   ]
  },
  {
   "cell_type": "markdown",
   "metadata": {},
   "source": [
    "#### Linking the CSS File"
   ]
  },
  {
   "cell_type": "code",
   "execution_count": 7,
   "metadata": {},
   "outputs": [
    {
     "data": {
      "text/html": [
       "<link href=\"./style.css\"  \n",
       "type=\"text/css\"  rel=\"stylesheet\" />\n"
      ],
      "text/plain": [
       "<IPython.core.display.HTML object>"
      ]
     },
     "metadata": {},
     "output_type": "display_data"
    }
   ],
   "source": [
    "%%html\n",
    "<link href=\"./style.css\"  \n",
    "type=\"text/css\"  rel=\"stylesheet\" />"
   ]
  },
  {
   "cell_type": "markdown",
   "metadata": {},
   "source": [
    "#### Class Name\n",
    ".title {\n",
    "  color: teal;\n",
    "}"
   ]
  },
  {
   "cell_type": "markdown",
   "metadata": {},
   "source": [
    "#### Multiple Classes\n",
    "class=\"title uppercase\""
   ]
  },
  {
   "cell_type": "markdown",
   "metadata": {},
   "source": [
    "#### ID Name\n",
    "id=\"article-title\"\n",
    "#article-title{\n",
    "font-family: cursive;\n",
    "text-transform: capitalize;  \n",
    "}"
   ]
  },
  {
   "cell_type": "markdown",
   "metadata": {},
   "source": [
    "#### Classes and IDs\n"
   ]
  },
  {
   "cell_type": "markdown",
   "metadata": {},
   "source": [
    "#### Specificity"
   ]
  },
  {
   "cell_type": "markdown",
   "metadata": {},
   "source": [
    "#### Chaining Selectors\n",
    "h2.destination{\n",
    "  font-family:cursive;\n",
    "}"
   ]
  },
  {
   "cell_type": "markdown",
   "metadata": {},
   "source": [
    "#### Nested Elements\n",
    ".description h5{\n",
    "  color: teal;\n",
    "}"
   ]
  },
  {
   "cell_type": "markdown",
   "metadata": {},
   "source": [
    "#### Chaining and Specificity\n",
    ".description h5{\n",
    "  color: teal;\n",
    "}\n",
    "h5{\n",
    "  color:rebeccapurple;\n",
    "}"
   ]
  },
  {
   "cell_type": "markdown",
   "metadata": {},
   "source": [
    "#### Important\n",
    ".description h5{\n",
    "  color: teal;\n",
    "}\n",
    "h5{\n",
    "  color:rebeccapurple !important;\n",
    "}"
   ]
  },
  {
   "cell_type": "markdown",
   "metadata": {},
   "source": [
    "#### Multiple Selectors\n",
    "h5,p{\n",
    "  font-family:Georgia;\n",
    "}"
   ]
  },
  {
   "cell_type": "markdown",
   "metadata": {},
   "source": [
    "### Introduction To Visual Rules"
   ]
  },
  {
   "cell_type": "markdown",
   "metadata": {},
   "source": [
    "#### Font Family\n",
    "[CSS Font Stack](https://www.cssfontstack.com/)  "
   ]
  },
  {
   "cell_type": "markdown",
   "metadata": {},
   "source": [
    "#### Font Size\n",
    "font-size:18px;"
   ]
  },
  {
   "cell_type": "markdown",
   "metadata": {},
   "source": [
    "#### Font Weight\n",
    "font-weight normal bold"
   ]
  },
  {
   "cell_type": "markdown",
   "metadata": {},
   "source": [
    "#### Text Align\n",
    "text-align left center right  \n",
    "h1 {\n",
    "  text-align:center;\n",
    "}"
   ]
  },
  {
   "cell_type": "markdown",
   "metadata": {},
   "source": [
    "#### Color\n",
    ".caption {\n",
    "  background-color:white;\n",
    "  color:black;\n",
    "}"
   ]
  },
  {
   "cell_type": "markdown",
   "metadata": {},
   "source": [
    "#### Opacity\n",
    "opacity:0.75;"
   ]
  },
  {
   "cell_type": "markdown",
   "metadata": {},
   "source": [
    "#### Background Image\n",
    "background-image: url(\"https://s3.amazonaws.com/codecademy-content/courses/freelance-1/unit-2/soccer.jpeg\");"
   ]
  },
  {
   "cell_type": "markdown",
   "metadata": {},
   "source": [
    "### Introduction to the Box Model"
   ]
  },
  {
   "cell_type": "markdown",
   "metadata": {},
   "source": [
    "height\n",
    "width\n",
    "padding\n",
    "border\n",
    "margin\n",
    "overflow"
   ]
  },
  {
   "cell_type": "markdown",
   "metadata": {},
   "source": [
    "#### The Box Model\n",
    "#banner{\n",
    "  height:700px;\n",
    "}\n",
    "\n",
    "#banner .content h1{\n",
    "  width:400px;\n",
    "}\n",
    ".pull-quote{\n",
    "  width:350px;\n",
    "}"
   ]
  },
  {
   "cell_type": "markdown",
   "metadata": {},
   "source": [
    "#### Borders\n",
    "width — thin, medium, or thick.  \n",
    "style —  none, dotted, and solid.  \n",
    "color  \n",
    "#banner .content h1{\n",
    "  border: solid 3px white;\n",
    "}"
   ]
  },
  {
   "cell_type": "markdown",
   "metadata": {},
   "source": [
    "#### Border Radius\n",
    "border-radius:5px;"
   ]
  },
  {
   "cell_type": "markdown",
   "metadata": {},
   "source": [
    "#### Padding I\n",
    "padding-top\n",
    "padding-right\n",
    "padding-bottom\n",
    "padding-left  \n",
    "h2{\n",
    "  padding-top: 20px;\n",
    "  padding-bottom: 20px;\n",
    "  padding-left: 30px;\n",
    "  padding-right: 30px;\n",
    "}"
   ]
  },
  {
   "cell_type": "markdown",
   "metadata": {},
   "source": [
    "#### Padding II\n",
    "padding: 1px 2px 3px 4px (top,right,bottom,left)\n",
    "padding: 20px 30px; (top,bottom) (left,right)"
   ]
  },
  {
   "cell_type": "markdown",
   "metadata": {},
   "source": [
    "#### Margins I"
   ]
  },
  {
   "cell_type": "markdown",
   "metadata": {},
   "source": [
    "#### Margins II"
   ]
  },
  {
   "cell_type": "markdown",
   "metadata": {},
   "source": [
    "#### Auto\n",
    "  margin: 0 auto; (центрует)"
   ]
  },
  {
   "cell_type": "markdown",
   "metadata": {},
   "source": [
    "#### Margin Collapse"
   ]
  },
  {
   "cell_type": "markdown",
   "metadata": {},
   "source": [
    "#### Minimum and Maximum Height and Width\n",
    "  min-width: 200px;\n",
    "  max-width: 800px;\n",
    "  min-height: 200px;\n",
    "  max-height: 300px;"
   ]
  },
  {
   "cell_type": "markdown",
   "metadata": {},
   "source": [
    "#### Overflow\n",
    "hidden scroll visible  \n",
    "#main {\n",
    "  margin: 0 auto;\n",
    "  padding: 40px;\n",
    "  text-align: center;\n",
    "  width: 400px;\n",
    "  height: 1000px;\n",
    "  overflow: scroll;\n",
    "}"
   ]
  },
  {
   "cell_type": "markdown",
   "metadata": {},
   "source": [
    "#### Resetting Defaults\n",
    "* {\n",
    "  margin: 0;\n",
    "  padding: 0;\n",
    "}"
   ]
  },
  {
   "cell_type": "markdown",
   "metadata": {},
   "source": [
    "#### Visibility\n",
    "hidden visible  \n",
    "visibility:hidden;"
   ]
  },
  {
   "cell_type": "markdown",
   "metadata": {},
   "source": [
    "#### Box Model: Content-Box\n",
    "box-sizing content-box"
   ]
  },
  {
   "cell_type": "markdown",
   "metadata": {},
   "source": [
    "#### Box Model: Border-Box\n",
    "border-box\n"
   ]
  },
  {
   "cell_type": "markdown",
   "metadata": {},
   "source": [
    "#### The New Box Model\n",
    "* {\n",
    "  box-sizing: border-box;\n",
    "}"
   ]
  },
  {
   "cell_type": "markdown",
   "metadata": {},
   "source": [
    "#### Flow of HTML"
   ]
  },
  {
   "cell_type": "markdown",
   "metadata": {},
   "source": [
    "#### Position\n",
    "static \n",
    "relative\n",
    "absolute\n",
    "fixed  \n",
    ".question {\n",
    "  position: static;\n",
    "}"
   ]
  },
  {
   "cell_type": "markdown",
   "metadata": {},
   "source": [
    "#### Position: Relative  \n",
    "top bottom left right  "
   ]
  },
  {
   "cell_type": "markdown",
   "metadata": {},
   "source": [
    "#### Position: Absolute\n",
    "  position: absolute;"
   ]
  },
  {
   "cell_type": "markdown",
   "metadata": {},
   "source": [
    "#### Position: Fixed \n",
    "  position: fixed;"
   ]
  },
  {
   "cell_type": "markdown",
   "metadata": {},
   "source": [
    "#### Z-Index\n",
    "  z-index:10;"
   ]
  },
  {
   "cell_type": "markdown",
   "metadata": {},
   "source": [
    "#### Inline Display\n",
    "display property: inline, block, and inline-block."
   ]
  },
  {
   "cell_type": "markdown",
   "metadata": {},
   "source": [
    "#### Block Display"
   ]
  },
  {
   "cell_type": "markdown",
   "metadata": {},
   "source": [
    "#### Inline-Block Display"
   ]
  },
  {
   "cell_type": "markdown",
   "metadata": {},
   "source": [
    "#### Float\n",
    "left right  \n",
    "float: left;"
   ]
  },
  {
   "cell_type": "markdown",
   "metadata": {},
   "source": [
    "#### Clear\n",
    " clear: left;"
   ]
  },
  {
   "cell_type": "markdown",
   "metadata": {},
   "source": [
    "### Introduction to Color"
   ]
  },
  {
   "cell_type": "markdown",
   "metadata": {},
   "source": [
    "#### Foreground vs Background\n",
    "  color:MidnightBlue;\n",
    "  background-color:Aqua;"
   ]
  },
  {
   "cell_type": "markdown",
   "metadata": {},
   "source": [
    "#### Hexadecimal"
   ]
  },
  {
   "cell_type": "markdown",
   "metadata": {},
   "source": [
    "#### RGB Colors\n",
    "color: rgb(23, 45, 23);"
   ]
  },
  {
   "cell_type": "markdown",
   "metadata": {},
   "source": [
    "#### Hex and RGB"
   ]
  },
  {
   "cell_type": "markdown",
   "metadata": {},
   "source": [
    "#### Hue, Saturation, and Lightness"
   ]
  },
  {
   "cell_type": "markdown",
   "metadata": {},
   "source": [
    "#### color: hsl(120, 60%, 70%);"
   ]
  },
  {
   "cell_type": "markdown",
   "metadata": {},
   "source": [
    "#### Opacity and Alpha\n",
    "color: hsla(34, 100%, 50%, 0.1);\n",
    "color: rgba(234, 45, 98, 0.33);\n"
   ]
  },
  {
   "cell_type": "markdown",
   "metadata": {},
   "source": [
    "### Typography "
   ]
  },
  {
   "cell_type": "markdown",
   "metadata": {},
   "source": [
    "#### Font Family\n",
    "font-family: Georgia;"
   ]
  },
  {
   "cell_type": "markdown",
   "metadata": {},
   "source": [
    "#### Font Weight\n",
    "font-weight: bold;"
   ]
  },
  {
   "cell_type": "markdown",
   "metadata": {},
   "source": [
    "#### Font Weight II\n",
    "400 is the default font-weight of most text.  \n",
    "700 signifies a bold font-weight.  \n",
    "300 signifies a light font-weight.  \n",
    "font-weight: 900;  "
   ]
  },
  {
   "cell_type": "markdown",
   "metadata": {},
   "source": [
    "#### Font Style\n",
    "font-style: italic;"
   ]
  },
  {
   "cell_type": "markdown",
   "metadata": {},
   "source": [
    "#### Word Spacing\n",
    "word-spacing: 0.05em;"
   ]
  },
  {
   "cell_type": "markdown",
   "metadata": {},
   "source": [
    "#### letter spacing\n",
    "letter-spacing:0.02em;"
   ]
  },
  {
   "cell_type": "markdown",
   "metadata": {},
   "source": [
    "#### Text Transformation\n",
    "text-transform: uppercase;"
   ]
  },
  {
   "cell_type": "markdown",
   "metadata": {},
   "source": [
    "#### Text Alignment\n",
    "text-align: left;\n",
    "text-align: center;"
   ]
  },
  {
   "cell_type": "markdown",
   "metadata": {},
   "source": [
    "#### Line Height Anatomy"
   ]
  },
  {
   "cell_type": "markdown",
   "metadata": {},
   "source": [
    "#### Line Height\n",
    "1.2 12px default  \n",
    "line-height: 1.4;  "
   ]
  },
  {
   "cell_type": "markdown",
   "metadata": {},
   "source": [
    "#### Serif and Sans Serif"
   ]
  },
  {
   "cell_type": "markdown",
   "metadata": {},
   "source": [
    "#### Fallback Fonts\n",
    "  font-family: \"Helvetica\", sans-serif;"
   ]
  },
  {
   "cell_type": "markdown",
   "metadata": {},
   "source": [
    "#### Linking Fonts I\n",
    "[https://fonts.google.com/](https://fonts.google.com/)  \n",
    "\n",
    "<link href=\"https://fonts.googleapis.com/css?family=Space+Mono:400,700\" rel=\"stylesheet\">  \n",
    "font-family: 'Space Mono', monospace;  "
   ]
  },
  {
   "cell_type": "markdown",
   "metadata": {},
   "source": [
    "#### Font-Face II"
   ]
  },
  {
   "cell_type": "markdown",
   "metadata": {},
   "source": [
    "```\n",
    "/* latin */\n",
    "@font-face {\n",
    "  font-family: 'Space Mono';\n",
    "  font-style: normal;\n",
    "  font-weight: 400;\n",
    "  src: local('Space Mono'), local('SpaceMono-Regular'), url(https://fonts.gstatic.com/s/spacemono/v5/i7dPIFZifjKcF5UAWdDRYEF8RQ.woff2) format('woff2');\n",
    "  unicode-range: U+0000-00FF, U+0131, U+0152-0153, U+02BB-02BC, U+02C6, U+02DA, U+02DC, U+2000-206F, U+2074, U+20AC, U+2122, U+2191, U+2193, U+2212, U+2215, U+FEFF, U+FFFD;\n",
    "}\n",
    "@font-face {\n",
    "  font-family: 'Space Mono';\n",
    "  font-style: normal;\n",
    "  font-weight: 700;\n",
    "  src: local('Space Mono Bold'), local('SpaceMono-Bold'), url(https://fonts.gstatic.com/s/spacemono/v5/i7dMIFZifjKcF5UAWdDRaPpZUFWaHg.woff2) format('woff2');\n",
    "  unicode-range: U+0000-00FF, U+0131, U+0152-0153, U+02BB-02BC, U+02C6, U+02DA, U+02DC, U+2000-206F, U+2074, U+20AC, U+2122, U+2191, U+2193, U+2212, U+2215, U+FEFF, U+FFFD;\n",
    "}\n",
    "```"
   ]
  },
  {
   "cell_type": "markdown",
   "metadata": {},
   "source": [
    "#### Font-Face III"
   ]
  },
  {
   "cell_type": "markdown",
   "metadata": {},
   "source": [
    "```\n",
    "@font-face {\n",
    "  font-family: 'Glegoo';\n",
    "  src: url(../fonts/Glegoo-Bold.ttf)\n",
    "  format('truetype')\n",
    "    \n",
    "}\n",
    "\n",
    "\n",
    "  font-family: Glegoo;\n",
    "  font-size: 20px;\n",
    "```"
   ]
  },
  {
   "cell_type": "markdown",
   "metadata": {},
   "source": [
    "#### Introduction to Grids\n",
    " display: grid;"
   ]
  },
  {
   "cell_type": "markdown",
   "metadata": {},
   "source": [
    "#### Creating Columns\n",
    "grid-template-columns: 100px 50% 200px;"
   ]
  },
  {
   "cell_type": "markdown",
   "metadata": {},
   "source": [
    "#### Creating Rows\n",
    "  grid-template-rows: 40% 50% 50px;"
   ]
  },
  {
   "cell_type": "markdown",
   "metadata": {},
   "source": [
    "#### Grid Template\n",
    "  grid-template: 40% 50% 50px / 100px 50% 200px;"
   ]
  },
  {
   "cell_type": "markdown",
   "metadata": {},
   "source": [
    "#### Fraction\n",
    "grid-template: 1fr 1fr 1fr / 3fr 50% 1fr;"
   ]
  },
  {
   "cell_type": "markdown",
   "metadata": {},
   "source": [
    "#### Repeat\n",
    "grid-template: repeat(3,1fr) / 3fr 50% 1fr;"
   ]
  },
  {
   "cell_type": "markdown",
   "metadata": {},
   "source": [
    "#### minmax\n",
    "grid-template: repeat(3, 1fr) / 3fr minmax(50px,300px) 1fr;"
   ]
  },
  {
   "cell_type": "markdown",
   "metadata": {},
   "source": [
    "#### Grid Gap\n",
    "/*   grid-row-gap: 20px;\n",
    "  grid-column-gap: 5px; */\n",
    "    grid-gap: 20px  5px;"
   ]
  },
  {
   "cell_type": "markdown",
   "metadata": {},
   "source": [
    "#### Grid Items"
   ]
  },
  {
   "cell_type": "markdown",
   "metadata": {},
   "source": [
    "#### Multiple Row Items\n",
    ".a {\n",
    "  grid-row-start: 5;\n",
    "  grid-row-end: 7;\n",
    "}"
   ]
  },
  {
   "cell_type": "markdown",
   "metadata": {},
   "source": [
    "#### Grid Row\n",
    "grid-row: 5 / 7;"
   ]
  },
  {
   "cell_type": "markdown",
   "metadata": {},
   "source": [
    "#### Grid Column\n",
    "```\n",
    ".a {\n",
    "  grid-row: 5 / 7;\n",
    "  grid-column: 1/ span 2;\n",
    "}\n",
    "\n",
    ".b {\n",
    " grid-column: 2 / span 6; \n",
    " grid-row: 2 / span 3; \n",
    "}\n",
    "\n",
    "\n",
    ".a {\n",
    "grid-column: 1 span 2;\n",
    "grid-row-start: 1; \n",
    "grid-row-end: 3; \n",
    "  \n",
    "}\n",
    ".a {\n",
    "  grid-area: 1 / 1 / span 2 / span 1;\n",
    "}\n",
    "\n",
    "```"
   ]
  },
  {
   "cell_type": "markdown",
   "metadata": {},
   "source": [
    "#### Grid Area\n",
    "grid-row-start\n",
    "grid-column-start\n",
    "grid-row-end\n",
    "grid-column-end\n",
    "```\n",
    ".c {\n",
    "  grid-area: 6 / 8 / span 3 / span 1;\n",
    "}\n",
    "```"
   ]
  },
  {
   "cell_type": "markdown",
   "metadata": {},
   "source": [
    "### Introduction \n"
   ]
  },
  {
   "cell_type": "markdown",
   "metadata": {},
   "source": [
    "#### Grid Template Areas\n",
    "grid-template-areas\n",
    "justify-items\n",
    "justify-content\n",
    "justify-self\n",
    "align-items\n",
    "align-content\n",
    "align-self\n",
    "grid-auto-rows\n",
    "grid-auto-columns\n",
    "grid-auto-flow"
   ]
  },
  {
   "cell_type": "markdown",
   "metadata": {},
   "source": [
    "```\n",
    ".container {\n",
    "  display: grid;\n",
    "  max-width: 900px;\n",
    "  position: relative;\n",
    "  margin: auto;\n",
    "  grid-gap: 10px;\n",
    "  grid-template-areas: \"header header\"\n",
    "    \"nav nav\"\n",
    "    \"left right\"\n",
    "    \"footer footer\";\n",
    "  grid-template-rows: 150px 200px 600px 200px;\n",
    "  grid-template-columns: 200px 400px; \n",
    "  \n",
    "}\n",
    "header {\n",
    "  grid-area: header;\n",
    "} \n",
    "\n",
    "nav {\n",
    "  grid-area: nav;\n",
    "}\n",
    "\n",
    ".left {\n",
    "  grid-area: left;\n",
    "}\n",
    "\n",
    ".right {\n",
    "  grid-area: right;\n",
    "}\n",
    "\n",
    "footer {\n",
    "  grid-area: footer;\n",
    "}\n",
    "\n",
    "h1, h2 {\n",
    "  font-family: monospace;\n",
    "  text-align: center;\n",
    "}\n",
    "\n",
    "header {\n",
    "  background-color: dodgerblue;\n",
    "}\n",
    "\n",
    "nav {\n",
    "  background-color: beige;\n",
    "}\n",
    "\n",
    ".left {\n",
    "  background-color: dodgerblue;\n",
    "}\n",
    "\n",
    ".right {\n",
    "  background-color: beige;\n",
    "}\n",
    "\n",
    "footer {\n",
    "  background-color: dodgerblue;\n",
    "}```"
   ]
  },
  {
   "cell_type": "markdown",
   "metadata": {},
   "source": [
    "#### Overlapping Elements"
   ]
  },
  {
   "cell_type": "markdown",
   "metadata": {},
   "source": [
    "#### Justify Items\n",
    "justify-items start end center stretch  \n",
    "  justify-items: end;\n",
    "  justify-items: center;"
   ]
  },
  {
   "cell_type": "markdown",
   "metadata": {},
   "source": [
    "#### Justify Content\n",
    "justify-content start end center stretch space-around space-between space-evenly  \n",
    "```  \n",
    "justify-content: space-around;\n",
    "\n",
    "```"
   ]
  },
  {
   "cell_type": "markdown",
   "metadata": {},
   "source": [
    "#### Align Items\n",
    "align-items start end center stretch"
   ]
  },
  {
   "cell_type": "markdown",
   "metadata": {},
   "source": [
    "#### Align Content\n",
    "start end center stretch space-around space-between space-evenly  \n"
   ]
  },
  {
   "cell_type": "markdown",
   "metadata": {},
   "source": [
    "#### Justify Self and Align Self"
   ]
  },
  {
   "cell_type": "markdown",
   "metadata": {},
   "source": [
    "#### Implicit vs. Explicit Grid"
   ]
  },
  {
   "cell_type": "markdown",
   "metadata": {},
   "source": [
    "#### Grid Auto Rows and Grid Auto Columns"
   ]
  },
  {
   "cell_type": "markdown",
   "metadata": {},
   "source": [
    "#### Grid Auto Flow\n",
    "grid-auto-flow row column dense"
   ]
  },
  {
   "cell_type": "markdown",
   "metadata": {},
   "source": [
    "#### "
   ]
  },
  {
   "cell_type": "markdown",
   "metadata": {},
   "source": [
    "#### "
   ]
  },
  {
   "cell_type": "markdown",
   "metadata": {},
   "source": [
    "#### "
   ]
  },
  {
   "cell_type": "markdown",
   "metadata": {},
   "source": [
    "#### "
   ]
  },
  {
   "cell_type": "markdown",
   "metadata": {},
   "source": [
    "#### "
   ]
  },
  {
   "cell_type": "markdown",
   "metadata": {},
   "source": [
    "#### "
   ]
  },
  {
   "cell_type": "markdown",
   "metadata": {},
   "source": [
    "#### "
   ]
  },
  {
   "cell_type": "markdown",
   "metadata": {},
   "source": []
  },
  {
   "cell_type": "markdown",
   "metadata": {},
   "source": []
  },
  {
   "cell_type": "markdown",
   "metadata": {},
   "source": []
  },
  {
   "cell_type": "markdown",
   "metadata": {},
   "source": []
  },
  {
   "cell_type": "markdown",
   "metadata": {},
   "source": [
    "08.02 11-22-44-55-66-  \n",
    "09.02 66-77\n",
    "10.02 88-"
   ]
  },
  {
   "cell_type": "markdown",
   "metadata": {},
   "source": [
    "A|B|C|D|E|F\n",
    "--|--|--|--|--|--\n",
    "period|точка|require |требовать|stand out more|выделит\n",
    "Nested |вложенный|consider |рассмотрим|prevents |предотвращает\n",
    "concise|лаконичный|typefaces |шрифты|distinctions |различия\n",
    "|||||\n",
    "|||||\n",
    "|||||\n"
   ]
  }
 ],
 "metadata": {
  "kernelspec": {
   "display_name": "Python 3",
   "language": "python",
   "name": "python3"
  },
  "language_info": {
   "codemirror_mode": {
    "name": "ipython",
    "version": 3
   },
   "file_extension": ".py",
   "mimetype": "text/x-python",
   "name": "python",
   "nbconvert_exporter": "python",
   "pygments_lexer": "ipython3",
   "version": "3.7.4"
  }
 },
 "nbformat": 4,
 "nbformat_minor": 2
}
