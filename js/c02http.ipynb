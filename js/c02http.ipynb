{
 "cells": [
  {
   "cell_type": "markdown",
   "metadata": {},
   "source": [
    "[html_codecademy](https://www.codecademy.com/learn/learn-html)  "
   ]
  },
  {
   "cell_type": "markdown",
   "metadata": {},
   "source": [
    "#### Displaying Text\n",
    "paragraph span"
   ]
  },
  {
   "cell_type": "code",
   "execution_count": 2,
   "metadata": {},
   "outputs": [
    {
     "data": {
      "text/html": [
       "<!DOCTYPE html>\n",
       "<html>\n",
       "\n",
       "<head>\n",
       "  <title>Brown Bears</title>\n",
       "</head>\n",
       "\n",
       "<body>\n",
       "  <a href=\"./index.html\">Brown Bear</a>\n",
       "  <a href=\"./aboutme.html\">About Me</a>\n",
       "  <h1>The Brown Bear</h1>\n",
       "  <ul>\n",
       "    <li><a href=\"#introduction\">Introduction</a></li>\n",
       "    <li><a href=\"#habitat\">Habitat</a></li>\n",
       "    <li><a href=\"#media\">Media</a></li>\n",
       "  </ul>\n",
       "  <div id=\"introduction\">\n",
       "    <h2>About Brown Bears</h2>\n",
       "    <p>The brown bear (<em>Ursus arctos</em>) is native to parts of northern Eurasia and North America. Its conservation status is currently <strong>Least Concern</strong>.<br /><br /> There are many subspecies within the brown bear species, including the\n",
       "      Atlas bear and the Himalayan brown bear.</p>\n",
       "    <a href=\"https://en.wikipedia.org/wiki/Brown_bear\" target=\"_blank\">Learn More</a>\n",
       "    <h3>Species</h3>\n",
       "    <ul>\n",
       "      <li>Arctos</li>\n",
       "      <li>Collarus</li>\n",
       "      <li>Horribilis</li>\n",
       "      <li>Nelsoni (extinct)</li>\n",
       "    </ul>\n",
       "    <h3>Features</h3>\n",
       "    <p>Brown bears are not always completely brown. Some can be reddish or yellowish. They have very large, curved claws and huge paws. Male brown bears are often 30% larger than female brown bears. They can range from 5 feet to 9 feet from head to toe.</p>\n",
       "  </div>\n",
       "  <div id=\"habitat\">\n",
       "    <h2>Habitat</h2>\n",
       "    <h3>Countries with Large Brown Bear Populations</h3>\n",
       "    <ol>\n",
       "      <li>Russia</li>\n",
       "      <li>United States</li>\n",
       "      <li>Canada</li>\n",
       "    </ol>\n",
       "    <h3>Countries with Small Brown Bear Populations</h3>\n",
       "    <p>Some countries with smaller brown bear populations include Armenia, Belarus, Bulgaria, China, Finland, France, Greece, India, Japan, Nepal, Poland, Romania, Slovenia, Turkmenistan, and Uzbekistan.</p>\n",
       "  </div>\n",
       "  <div id=\"media\">\n",
       "    <h2>Media</h2>\n",
       "    <a href=\"https://en.wikipedia.org/wiki/Brown_bear\" target=\"_blank\"><img src=\"https://s3.amazonaws.com/codecademy-content/courses/web-101/web101-image_brownbear.jpg\"/></a>\n",
       "    <video src=\"https://s3.amazonaws.com/codecademy-content/courses/freelance-1/unit-1/lesson-2/htmlcss1-vid_brown-bear.mp4\" height=\"240\" width=\"320\" controls>Video not supported</video>\n",
       "  </div>\n",
       "</body>\n",
       "\n",
       "</html>\n"
      ],
      "text/plain": [
       "<IPython.core.display.HTML object>"
      ]
     },
     "metadata": {},
     "output_type": "display_data"
    }
   ],
   "source": [
    "%%html\n",
    "<!DOCTYPE html>\n",
    "<html>\n",
    "\n",
    "<head>\n",
    "  <title>Brown Bears</title>\n",
    "</head>\n",
    "\n",
    "<body>\n",
    "  <a href=\"./index.html\">Brown Bear</a>\n",
    "  <a href=\"./aboutme.html\">About Me</a>\n",
    "  <h1>The Brown Bear</h1>\n",
    "  <ul>\n",
    "    <li><a href=\"#introduction\">Introduction</a></li>\n",
    "    <li><a href=\"#habitat\">Habitat</a></li>\n",
    "    <li><a href=\"#media\">Media</a></li>\n",
    "  </ul>\n",
    "  <div id=\"introduction\">\n",
    "    <h2>About Brown Bears</h2>\n",
    "    <p>The brown bear (<em>Ursus arctos</em>) is native to parts of northern Eurasia and North America. Its conservation status is currently <strong>Least Concern</strong>.<br /><br /> There are many subspecies within the brown bear species, including the\n",
    "      Atlas bear and the Himalayan brown bear.</p>\n",
    "    <a href=\"https://en.wikipedia.org/wiki/Brown_bear\" target=\"_blank\">Learn More</a>\n",
    "    <h3>Species</h3>\n",
    "    <ul>\n",
    "      <li>Arctos</li>\n",
    "      <li>Collarus</li>\n",
    "      <li>Horribilis</li>\n",
    "      <li>Nelsoni (extinct)</li>\n",
    "    </ul>\n",
    "    <h3>Features</h3>\n",
    "    <p>Brown bears are not always completely brown. Some can be reddish or yellowish. They have very large, curved claws and huge paws. Male brown bears are often 30% larger than female brown bears. They can range from 5 feet to 9 feet from head to toe.</p>\n",
    "  </div>\n",
    "  <div id=\"habitat\">\n",
    "    <h2>Habitat</h2>\n",
    "    <h3>Countries with Large Brown Bear Populations</h3>\n",
    "    <ol>\n",
    "      <li>Russia</li>\n",
    "      <li>United States</li>\n",
    "      <li>Canada</li>\n",
    "    </ol>\n",
    "    <h3>Countries with Small Brown Bear Populations</h3>\n",
    "    <p>Some countries with smaller brown bear populations include Armenia, Belarus, Bulgaria, China, Finland, France, Greece, India, Japan, Nepal, Poland, Romania, Slovenia, Turkmenistan, and Uzbekistan.</p>\n",
    "  </div>\n",
    "  <div id=\"media\">\n",
    "    <h2>Media</h2>\n",
    "    <a href=\"https://en.wikipedia.org/wiki/Brown_bear\" target=\"_blank\"><img src=\"https://s3.amazonaws.com/codecademy-content/courses/web-101/web101-image_brownbear.jpg\"/></a>\n",
    "    <video src=\"https://s3.amazonaws.com/codecademy-content/courses/freelance-1/unit-1/lesson-2/htmlcss1-vid_brown-bear.mp4\" height=\"240\" width=\"320\" controls>Video not supported</video>\n",
    "  </div>\n",
    "</body>\n",
    "\n",
    "</html>"
   ]
  },
  {
   "cell_type": "markdown",
   "metadata": {},
   "source": [
    "#### Styling Text\n",
    " The <em> tag emphasizes text, while the <strong> tag highlights important text."
   ]
  },
  {
   "cell_type": "markdown",
   "metadata": {},
   "source": [
    "#### Line Breaks\n",
    "<br>"
   ]
  },
  {
   "cell_type": "markdown",
   "metadata": {},
   "source": [
    "#### Unordered Lists\n",
    "<ul>\n",
    "  <li>"
   ]
  },
  {
   "cell_type": "markdown",
   "metadata": {},
   "source": [
    "#### Ordered Lists\n",
    "<ol>\n",
    "  <li>"
   ]
  },
  {
   "cell_type": "markdown",
   "metadata": {},
   "source": [
    "#### Images\n",
    "<img src=\"image-location.jpg\" />"
   ]
  },
  {
   "cell_type": "markdown",
   "metadata": {},
   "source": [
    "#### Image Alts\n",
    "<img src=\"image-location.jpg\" alt=\"this image\"/>"
   ]
  },
  {
   "cell_type": "markdown",
   "metadata": {},
   "source": [
    "#### Videos\n",
    "<video src=\"myVideo.mp4\" width=\"320\" height=\"240\" controls>\n",
    "  Video not supported\n",
    "</video>"
   ]
  },
  {
   "cell_type": "markdown",
   "metadata": {},
   "source": [
    "### Preparing for HTML"
   ]
  },
  {
   "cell_type": "markdown",
   "metadata": {},
   "source": [
    "#### The <html> tag"
   ]
  },
  {
   "cell_type": "markdown",
   "metadata": {},
   "source": [
    "#### The Head"
   ]
  },
  {
   "cell_type": "markdown",
   "metadata": {},
   "source": [
    "#### Page Titles\n",
    "<title></title>"
   ]
  },
  {
   "cell_type": "markdown",
   "metadata": {},
   "source": [
    "#### Linking to Other Web Pages\n",
    "<a href=\"\">text</a>"
   ]
  },
  {
   "cell_type": "markdown",
   "metadata": {},
   "source": [
    "#### Opening Links in a New Window\n",
    "target=\"_blank\""
   ]
  },
  {
   "cell_type": "markdown",
   "metadata": {},
   "source": [
    "#### Linking to Relative Page"
   ]
  },
  {
   "cell_type": "markdown",
   "metadata": {},
   "source": [
    "#### Linking At Will\n",
    "    <a href=\"https://en.wikipedia.org/wiki/Brown_bear\" target=\"_blank\"><img src=\"https://s3.amazonaws.com/codecademy-content/courses/web-101/web101-image_brownbear.jpg\" /></a>"
   ]
  },
  {
   "cell_type": "markdown",
   "metadata": {},
   "source": [
    "#### Linking to Same Page\n",
    "id #"
   ]
  },
  {
   "cell_type": "markdown",
   "metadata": {},
   "source": [
    "#### Whitespace\n",
    "W3C standards"
   ]
  },
  {
   "cell_type": "markdown",
   "metadata": {},
   "source": [
    "#### comment\n",
    "<!-- comment -->"
   ]
  },
  {
   "cell_type": "markdown",
   "metadata": {},
   "source": [
    "### Why Tables?"
   ]
  },
  {
   "cell_type": "markdown",
   "metadata": {},
   "source": [
    "#### Create a Table\n",
    "Table Rows  Table Data  Table Headings  Table Borders  Spanning Columns    Spanning Rows  Table Footer\n"
   ]
  },
  {
   "cell_type": "markdown",
   "metadata": {},
   "source": [
    "%%html\n",
    "<table>\n",
    "  <tr>\n",
    "    <th>Company Name</th>\n",
    "    <th>Number of Items to Ship</th>\n",
    "    <th>Next Action</th>\n",
    "  </tr>\n",
    "  <tr>\n",
    "    <td>Adam’s Greenworks</td>\n",
    "    <td>14</td>\n",
    "    <td>Package Items</td>\n",
    "  </tr>\n",
    "  <tr>\n",
    "    <td colspan = \"2\">Package Items</td>\n",
    "    <td></td>\n",
    "    <td></td>\n",
    "  </tr>\n",
    "    \n",
    "</table>\n"
   ]
  },
  {
   "cell_type": "code",
   "execution_count": 8,
   "metadata": {},
   "outputs": [
    {
     "data": {
      "text/html": [
       "</tr>\n",
       "  <tr>\n",
       "  <td rowspan=\"2\">1</td>\n",
       "  <td colspan=\"2\">2</td>\n",
       "</tr>\n",
       "  <tr>\n",
       "  <td>3</td>\n",
       "  <td>4</td>\n",
       "  </tr>\n"
      ],
      "text/plain": [
       "<IPython.core.display.HTML object>"
      ]
     },
     "metadata": {},
     "output_type": "display_data"
    }
   ],
   "source": [
    "%%html\n",
    "</tr>\n",
    "  <tr>\n",
    "  <td rowspan=\"2\">1</td>\n",
    "  <td colspan=\"2\">2</td>\n",
    "</tr>\n",
    "  <tr>\n",
    "  <td>3</td>\n",
    "  <td>4</td>\n",
    "  </tr>\n"
   ]
  },
  {
   "cell_type": "code",
   "execution_count": 9,
   "metadata": {},
   "outputs": [
    {
     "data": {
      "text/html": [
       "<table>\n",
       "  <thead>\n",
       "  <tr>\n",
       "    <th>Company Name</th>\n",
       "    <th>Number of Items to Ship</th>\n",
       "    <th>Next Action</th>\n",
       "  </tr>\n",
       "  </thead>\n",
       "<tbody>\n",
       "  <tr>\n",
       "    <td>Adam’s Greenworks</td>\n",
       "    <td>14</td>\n",
       "    <td>Package Items</td>\n",
       "  </tr>\n",
       "<tr>\n",
       "  <td>Davie's Burgers</td>\n",
       "  <td>2</td>\n",
       "  <td>Send Invoice</td>\n",
       "</tr>\n",
       "<tr>\n",
       "  <td>Baker's Bike Shop</td>\n",
       "  <td>3</td>\n",
       "  <td>Send Invoice</td>\n",
       "</tr>\n",
       "<tr>\n",
       "  <td>Miss Sally's Southern</td>\n",
       "  <td>4</td>\n",
       "  <td>Ship</td>\n",
       "</tr>\n",
       "<tr>\n",
       "  <td>Summit Resort Rentals</td>\n",
       "  <td>4</td>\n",
       "  <td>Ship</td>\n",
       "</tr>\n",
       "<tr>\n",
       "  <td>Strike Fitness</td>\n",
       "  <td>1</td>\n",
       "  <td>Enter Order</td>\n",
       "</tr>\n",
       "</tbody>\n",
       "<tfoot>\n",
       "<td>Total</td>\n",
       "<td>28</td>\n",
       "</tfoot>  \n",
       "  </table>\n"
      ],
      "text/plain": [
       "<IPython.core.display.HTML object>"
      ]
     },
     "metadata": {},
     "output_type": "display_data"
    }
   ],
   "source": [
    "%%html\n",
    "<table>\n",
    "  <thead>\n",
    "  <tr>\n",
    "    <th>Company Name</th>\n",
    "    <th>Number of Items to Ship</th>\n",
    "    <th>Next Action</th>\n",
    "  </tr>\n",
    "  </thead>\n",
    "<tbody>\n",
    "  <tr>\n",
    "    <td>Adam’s Greenworks</td>\n",
    "    <td>14</td>\n",
    "    <td>Package Items</td>\n",
    "  </tr>\n",
    "<tr>\n",
    "  <td>Davie's Burgers</td>\n",
    "  <td>2</td>\n",
    "  <td>Send Invoice</td>\n",
    "</tr>\n",
    "<tr>\n",
    "  <td>Baker's Bike Shop</td>\n",
    "  <td>3</td>\n",
    "  <td>Send Invoice</td>\n",
    "</tr>\n",
    "<tr>\n",
    "  <td>Miss Sally's Southern</td>\n",
    "  <td>4</td>\n",
    "  <td>Ship</td>\n",
    "</tr>\n",
    "<tr>\n",
    "  <td>Summit Resort Rentals</td>\n",
    "  <td>4</td>\n",
    "  <td>Ship</td>\n",
    "</tr>\n",
    "<tr>\n",
    "  <td>Strike Fitness</td>\n",
    "  <td>1</td>\n",
    "  <td>Enter Order</td>\n",
    "</tr>\n",
    "</tbody>\n",
    "<tfoot>\n",
    "<td>Total</td>\n",
    "<td>28</td>\n",
    "</tfoot>  \n",
    "  </table>\n"
   ]
  },
  {
   "cell_type": "markdown",
   "metadata": {},
   "source": [
    "#### Styling with CSS\n",
    "table {\n",
    "  font-size: 18px;\n",
    "}"
   ]
  },
  {
   "cell_type": "markdown",
   "metadata": {},
   "source": [
    "### Introduction to HTML Forms"
   ]
  },
  {
   "cell_type": "markdown",
   "metadata": {},
   "source": [
    "#### How a Form Works\n",
    "Text Input Adding a Label Password Input  Number Input"
   ]
  },
  {
   "cell_type": "code",
   "execution_count": 11,
   "metadata": {},
   "outputs": [
    {
     "data": {
      "text/html": [
       "<!DOCTYPE html>\n",
       "<html lang=\"en\" dir=\"ltr\">\n",
       "  <head>\n",
       "    <meta charset=\"utf-8\">\n",
       "    <link rel=\"stylesheet\" type=\"text/css\" href=\"style.css\">\n",
       "    <link href=\"https://fonts.googleapis.com/css?family=Rubik\" rel=\"stylesheet\">\n",
       "    <title>Adding a Text Input</title>\n",
       "  </head>\n",
       "  <body>\n",
       "    <section id=\"overlay\">\n",
       "      <img src=\"https://s3.amazonaws.com/codecademy-content/courses/web-101/unit-6/htmlcss1-img_burger-logo.svg\" alt=\"Davie's Burgers Logo\" id=\"logo\">\n",
       "      <hr>\n",
       "      <form>\n",
       "\t\t\t\t<h1>Login to start creating a burger!</h1>  \n",
       "\t      <!--Add your code below-->\n",
       "\t\t<input type=\"text\" name=\"username\" \n",
       "value=\"Davie\"/>\t\n",
       "      </form>\n",
       "    </section>\n",
       "  </body>\n",
       "</html>\n"
      ],
      "text/plain": [
       "<IPython.core.display.HTML object>"
      ]
     },
     "metadata": {},
     "output_type": "display_data"
    }
   ],
   "source": [
    "%%html\n",
    "<!DOCTYPE html>\n",
    "<html lang=\"en\" dir=\"ltr\">\n",
    "  <head>\n",
    "    <meta charset=\"utf-8\">\n",
    "    <link rel=\"stylesheet\" type=\"text/css\" href=\"style.css\">\n",
    "    <link href=\"https://fonts.googleapis.com/css?family=Rubik\" rel=\"stylesheet\">\n",
    "    <title>Adding a Text Input</title>\n",
    "  </head>\n",
    "  <body>\n",
    "    <section id=\"overlay\">\n",
    "      <img src=\"https://s3.amazonaws.com/codecademy-content/courses/web-101/unit-6/htmlcss1-img_burger-logo.svg\" alt=\"Davie's Burgers Logo\" id=\"logo\">\n",
    "      <hr>\n",
    "      <form>\n",
    "\t\t\t\t<h1>Login to start creating a burger!</h1>  \n",
    "\t      <!--Add your code below-->\n",
    "\t\t<input type=\"text\" name=\"username\" \n",
    "value=\"Davie\"/>\t\n",
    "      </form>\n",
    "    </section>\n",
    "  </body>\n",
    "</html>\n"
   ]
  },
  {
   "cell_type": "code",
   "execution_count": 13,
   "metadata": {},
   "outputs": [
    {
     "data": {
      "text/html": [
       "      <form>\n",
       "\t\t\t\t<h1>Login to start creating a burger!</h1>\n",
       "        <label for=\"username\">Username:</label>\n",
       "  \t\t\t<input type=\"text\" name=\"username\" id=\"username\">\n",
       "        <br>\n",
       "        <label for=\"user-pw\">Password:</label>\n",
       "        <!--Add your code below-->\n",
       "\t\t\t\t<input id=\"user-pw\" type=\"password\" name=\"user-pw\"/>\n",
       "      </form>\n"
      ],
      "text/plain": [
       "<IPython.core.display.HTML object>"
      ]
     },
     "metadata": {},
     "output_type": "display_data"
    }
   ],
   "source": [
    "%%html\n",
    "      <form>\n",
    "\t\t\t\t<h1>Login to start creating a burger!</h1>\n",
    "        <label for=\"username\">Username:</label>\n",
    "  \t\t\t<input type=\"text\" name=\"username\" id=\"username\">\n",
    "        <br>\n",
    "        <label for=\"user-pw\">Password:</label>\n",
    "        <!--Add your code below-->\n",
    "\t\t\t\t<input id=\"user-pw\" type=\"password\" name=\"user-pw\"/>\n",
    "      </form>\n"
   ]
  },
  {
   "cell_type": "markdown",
   "metadata": {},
   "source": []
  },
  {
   "cell_type": "markdown",
   "metadata": {},
   "source": []
  },
  {
   "cell_type": "code",
   "execution_count": 14,
   "metadata": {},
   "outputs": [
    {
     "data": {
      "text/html": [
       "<form>\n",
       "  <label for=\"city\">Ideal city to visit?</label>\n",
       "  <input type=\"text\" list=\"cities\" id=\"city\" name=\"city\">\n",
       "\n",
       "  <datalist id=\"cities\">\n",
       "    <option value=\"New York City\"></option>\n",
       "    <option value=\"Tokyo\"></option>\n",
       "    <option value=\"Barcelona\"></option>\n",
       "    <option value=\"Mexico City\"></option>\n",
       "    <option value=\"Melbourne\"></option>\n",
       "    <option value=\"Other\"></option>  \n",
       "  </datalist>\n",
       "</form>\n"
      ],
      "text/plain": [
       "<IPython.core.display.HTML object>"
      ]
     },
     "metadata": {},
     "output_type": "display_data"
    }
   ],
   "source": [
    "%%html\n",
    "<form>\n",
    "  <label for=\"city\">Ideal city to visit?</label>\n",
    "  <input type=\"text\" list=\"cities\" id=\"city\" name=\"city\">\n",
    "\n",
    "  <datalist id=\"cities\">\n",
    "    <option value=\"New York City\"></option>\n",
    "    <option value=\"Tokyo\"></option>\n",
    "    <option value=\"Barcelona\"></option>\n",
    "    <option value=\"Mexico City\"></option>\n",
    "    <option value=\"Melbourne\"></option>\n",
    "    <option value=\"Other\"></option>  \n",
    "  </datalist>\n",
    "</form>"
   ]
  },
  {
   "cell_type": "markdown",
   "metadata": {},
   "source": [
    "#### Range Input\n",
    " `Radio Button` `Input Dropdown list` `Datalist Input` Textarea element"
   ]
  },
  {
   "cell_type": "markdown",
   "metadata": {},
   "source": [
    "#### Submit Form"
   ]
  },
  {
   "cell_type": "code",
   "execution_count": 1,
   "metadata": {},
   "outputs": [
    {
     "data": {
      "text/html": [
       "<!DOCTYPE html>\n",
       "<html lang=\"en\" dir=\"ltr\">\n",
       "  <head>\n",
       "    <meta charset=\"utf-8\">\n",
       "    <link rel=\"stylesheet\" type=\"text/css\" href=\"style.css\">\n",
       "    <link href=\"https://fonts.googleapis.com/css?family=Rubik\" rel=\"stylesheet\">\n",
       "    <title>Textarea element</title>\n",
       "  </head>\n",
       "  <body>\n",
       "    <section id=\"overlay\">\n",
       "      <img src=\"https://s3.amazonaws.com/codecademy-content/courses/web-101/unit-6/htmlcss1-img_burger-logo.svg\" alt=\"Davie's Burgers Logo\" id=\"logo\">\n",
       "      <hr>\n",
       "      <form action=\"submission.html\" method=\"POST\">\n",
       "        <h1>Create a burger!</h1>\n",
       "\t\t\t\t\t<section class=\"protein\">\n",
       "          <label for=\"patty\">What type of protein would you like?</label>\n",
       "    \t\t\t<input type=\"text\" name=\"patty\" id=\"patty\">\n",
       "        </section>\n",
       "        <hr>\n",
       "        <section class=\"patties\">\n",
       "          <label for=\"amount\">How many patties would you like?</label>\n",
       "          <input type=\"number\" name=\"amount\" id=\"amount\">\n",
       "        </section>\n",
       "        <hr>\n",
       "        <section class=\"cooked\">\n",
       "          <label for=\"doneness\">How do you want your patty cooked</label>\n",
       "          <br>\n",
       "          <span>Rare</span>\n",
       "          <input type=\"range\" name=\"doneness\" id=\"doneness\" value=\"3\" min=\"1\" max=\"5\">\n",
       "          <span>Well-Done</span>\n",
       "        </section>\n",
       "        <hr>\n",
       "        <section class=\"toppings\">\n",
       "          <span>What toppings would you like?</span>\n",
       "          <br>\n",
       "          <input type=\"checkbox\" name=\"topping\" id=\"lettuce\" value=\"lettuce\">\n",
       "          <label for=\"lettuce\">Lettuce</label>\n",
       "          <input type=\"checkbox\" name=\"topping\" id=\"tomato\" value=\"tomato\">\n",
       "          <label for=\"tomato\">Tomato</label>\n",
       "          <input type=\"checkbox\" name=\"topping\" id=\"onion\" value=\"onion\">\n",
       "          <label for=\"onion\">Onion</label>\n",
       "        </section>\n",
       "        <hr>\n",
       "        <section class=\"cheesy\">\n",
       "          <span>Would you like to add cheese?</span>\n",
       "          <br>\n",
       "          <input type=\"radio\" name=\"cheese\" id=\"yes\" value=\"yes\">\n",
       "          <label for=\"yes\">Yes</label>\n",
       "          <input type=\"radio\" name=\"cheese\" id=\"no\" value=\"yes\">\n",
       "          <label for=\"no\">No</label>\n",
       "        </section>\n",
       "        <hr>\n",
       "        <section class=\"bun-type\">\n",
       "          <label for=\"bun\">What type of bun would you like?</label>\n",
       "          <select name=\"bun\" id=\"bun\">\n",
       "            <option value=\"sesame\">Sesame</option>\n",
       "            <option value=\"potatoe\">Potato</option>\n",
       "            <option value=\"pretzel\">Pretzel</option>\n",
       "          </select>\n",
       "        </section>\n",
       "        <hr>\n",
       "        <section class=\"sauce-selection\">\n",
       "          <label for=\"sauce\">What type of sauce would you like?</label>\n",
       "          <input list=\"sauces\" id=\"sauce\" name=\"sauce\">\n",
       "          <datalist id=\"sauces\">\n",
       "            <option value=\"ketchup\"></option>\n",
       "            <option value=\"mayo\"></option>\n",
       "            <option value=\"mustard\"></option>\n",
       "          </datalist>\n",
       "        </section>\n",
       "        <hr>\n",
       "        <section class=\"extra-info\">\n",
       "          <label for=\"extra\">Anything else you want to add?</label>\n",
       "          <br>\n",
       "          <textarea id=\"extra\" name=\"extra\" rows=\"3\" cols=\"40\"></textarea>\n",
       "        </section>\n",
       "        <hr>\n",
       "\n",
       "        <section class=\"submission\">\n",
       "          <!--Add your code below-->\n",
       "<input type=\"submit\" value=\"Submit\">          \n",
       "        </section>\n",
       "        \n",
       "      </form>\n",
       "    </section>\n",
       "  </body>\n",
       "</html>\n"
      ],
      "text/plain": [
       "<IPython.core.display.HTML object>"
      ]
     },
     "metadata": {},
     "output_type": "display_data"
    }
   ],
   "source": [
    "%%html\n",
    "<!DOCTYPE html>\n",
    "<html lang=\"en\" dir=\"ltr\">\n",
    "  <head>\n",
    "    <meta charset=\"utf-8\">\n",
    "    <link rel=\"stylesheet\" type=\"text/css\" href=\"style.css\">\n",
    "    <link href=\"https://fonts.googleapis.com/css?family=Rubik\" rel=\"stylesheet\">\n",
    "    <title>Textarea element</title>\n",
    "  </head>\n",
    "  <body>\n",
    "    <section id=\"overlay\">\n",
    "      <img src=\"https://s3.amazonaws.com/codecademy-content/courses/web-101/unit-6/htmlcss1-img_burger-logo.svg\" alt=\"Davie's Burgers Logo\" id=\"logo\">\n",
    "      <hr>\n",
    "      <form action=\"submission.html\" method=\"POST\">\n",
    "        <h1>Create a burger!</h1>\n",
    "\t\t\t\t\t<section class=\"protein\">\n",
    "          <label for=\"patty\">What type of protein would you like?</label>\n",
    "    \t\t\t<input type=\"text\" name=\"patty\" id=\"patty\">\n",
    "        </section>\n",
    "        <hr>\n",
    "        <section class=\"patties\">\n",
    "          <label for=\"amount\">How many patties would you like?</label>\n",
    "          <input type=\"number\" name=\"amount\" id=\"amount\">\n",
    "        </section>\n",
    "        <hr>\n",
    "        <section class=\"cooked\">\n",
    "          <label for=\"doneness\">How do you want your patty cooked</label>\n",
    "          <br>\n",
    "          <span>Rare</span>\n",
    "          <input type=\"range\" name=\"doneness\" id=\"doneness\" value=\"3\" min=\"1\" max=\"5\">\n",
    "          <span>Well-Done</span>\n",
    "        </section>\n",
    "        <hr>\n",
    "        <section class=\"toppings\">\n",
    "          <span>What toppings would you like?</span>\n",
    "          <br>\n",
    "          <input type=\"checkbox\" name=\"topping\" id=\"lettuce\" value=\"lettuce\">\n",
    "          <label for=\"lettuce\">Lettuce</label>\n",
    "          <input type=\"checkbox\" name=\"topping\" id=\"tomato\" value=\"tomato\">\n",
    "          <label for=\"tomato\">Tomato</label>\n",
    "          <input type=\"checkbox\" name=\"topping\" id=\"onion\" value=\"onion\">\n",
    "          <label for=\"onion\">Onion</label>\n",
    "        </section>\n",
    "        <hr>\n",
    "        <section class=\"cheesy\">\n",
    "          <span>Would you like to add cheese?</span>\n",
    "          <br>\n",
    "          <input type=\"radio\" name=\"cheese\" id=\"yes\" value=\"yes\">\n",
    "          <label for=\"yes\">Yes</label>\n",
    "          <input type=\"radio\" name=\"cheese\" id=\"no\" value=\"yes\">\n",
    "          <label for=\"no\">No</label>\n",
    "        </section>\n",
    "        <hr>\n",
    "        <section class=\"bun-type\">\n",
    "          <label for=\"bun\">What type of bun would you like?</label>\n",
    "          <select name=\"bun\" id=\"bun\">\n",
    "            <option value=\"sesame\">Sesame</option>\n",
    "            <option value=\"potatoe\">Potato</option>\n",
    "            <option value=\"pretzel\">Pretzel</option>\n",
    "          </select>\n",
    "        </section>\n",
    "        <hr>\n",
    "        <section class=\"sauce-selection\">\n",
    "          <label for=\"sauce\">What type of sauce would you like?</label>\n",
    "          <input list=\"sauces\" id=\"sauce\" name=\"sauce\">\n",
    "          <datalist id=\"sauces\">\n",
    "            <option value=\"ketchup\"></option>\n",
    "            <option value=\"mayo\"></option>\n",
    "            <option value=\"mustard\"></option>\n",
    "          </datalist>\n",
    "        </section>\n",
    "        <hr>\n",
    "        <section class=\"extra-info\">\n",
    "          <label for=\"extra\">Anything else you want to add?</label>\n",
    "          <br>\n",
    "          <textarea id=\"extra\" name=\"extra\" rows=\"3\" cols=\"40\"></textarea>\n",
    "        </section>\n",
    "        <hr>\n",
    "\n",
    "        <section class=\"submission\">\n",
    "          <!--Add your code below-->\n",
    "<input type=\"submit\" value=\"Submit\">          \n",
    "        </section>\n",
    "        \n",
    "      </form>\n",
    "    </section>\n",
    "  </body>\n",
    "</html>\n"
   ]
  },
  {
   "cell_type": "code",
   "execution_count": 3,
   "metadata": {},
   "outputs": [
    {
     "data": {
      "text/html": [
       "<!DOCTYPE html>\n",
       "<html lang=\"en\" dir=\"ltr\">\n",
       "  <head>\n",
       "    <meta charset=\"utf-8\">\n",
       "    <link rel=\"stylesheet\" type=\"text/css\" href=\"style.css\">\n",
       "    <link href=\"https://fonts.googleapis.com/css?family=Rubik\" rel=\"stylesheet\">\n",
       "    <title>Forms Review</title>\n",
       "  </head>\n",
       "  <body>\n",
       "    <section id=\"overlay\">\n",
       "      <img src=\"https://s3.amazonaws.com/codecademy-content/courses/web-101/unit-6/htmlcss1-img_burger-logo.svg\" alt=\"Davie's Burgers Logo\" id=\"logo\">\n",
       "      <hr>\n",
       "      <h1>Thanks for your submission!</h1>\n",
       "      <img id=\"burger\" src=\"https://s3.amazonaws.com/codecademy-content/courses/learn-html-forms/burger.svg\" alt=\"finished burger\">\n",
       "    </section>\n",
       "  </body>\n",
       "</html>\n"
      ],
      "text/plain": [
       "<IPython.core.display.HTML object>"
      ]
     },
     "metadata": {},
     "output_type": "display_data"
    }
   ],
   "source": [
    "%%html\n",
    "<!DOCTYPE html>\n",
    "<html lang=\"en\" dir=\"ltr\">\n",
    "  <head>\n",
    "    <meta charset=\"utf-8\">\n",
    "    <link rel=\"stylesheet\" type=\"text/css\" href=\"style.css\">\n",
    "    <link href=\"https://fonts.googleapis.com/css?family=Rubik\" rel=\"stylesheet\">\n",
    "    <title>Forms Review</title>\n",
    "  </head>\n",
    "  <body>\n",
    "    <section id=\"overlay\">\n",
    "      <img src=\"https://s3.amazonaws.com/codecademy-content/courses/web-101/unit-6/htmlcss1-img_burger-logo.svg\" alt=\"Davie's Burgers Logo\" id=\"logo\">\n",
    "      <hr>\n",
    "      <h1>Thanks for your submission!</h1>\n",
    "      <img id=\"burger\" src=\"https://s3.amazonaws.com/codecademy-content/courses/learn-html-forms/burger.svg\" alt=\"finished burger\">\n",
    "    </section>\n",
    "  </body>\n",
    "</html>"
   ]
  },
  {
   "cell_type": "markdown",
   "metadata": {},
   "source": [
    "### Introduction to HTML Form Validation"
   ]
  },
  {
   "cell_type": "markdown",
   "metadata": {},
   "source": [
    " \n",
    "1|2\n",
    "---|---\n",
    "Requiring an Input | required\n",
    "Set a Minimum and Maximum | min max type=\"number\"\n",
    "Checking Text Length |minlength=\"3\" maxlength=\"15\"\n",
    "Matching a Pattern |pattern=\"[a-zA-Z0-9]+\"\n"
   ]
  },
  {
   "cell_type": "markdown",
   "metadata": {},
   "source": [
    "### Introduction to Semantic HTML\n",
    "1|2\n",
    "--|--\n",
    "Header and Nav  |  &lt;header&gt; &lt;nav&gt;\n",
    "Main and Footer  | &lt;main&gt; &lt;footer&gt; \n",
    "Article and Section  | &lt;article&gt; &lt;section&gt; \n",
    "The Aside Element  | lt;aside&gt; \n",
    "Figure and Figcaption  | &lt;figure&gt; &lt;figcaption&gt; \n",
    "Audio and Attributes  | &lt;audio&gt; controls \n",
    "Video and Embed  | controls autoplay loop \n",
    "  |  \n",
    "  "
   ]
  },
  {
   "cell_type": "code",
   "execution_count": 6,
   "metadata": {},
   "outputs": [
    {
     "data": {
      "text/html": [
       "<figure>\n",
       "  <img src=\"https://codecademy-content.s3.amazonaws.com/courses/Semantic+HTML/dogimage.jpeg\"/>\n",
       "  <figcaption>Dog</figcaption>\n",
       " \n",
       "</figure> \n",
       "<audio controls><source src=\"https://codecademy-content.s3.amazonaws.com/courses/Semantic+HTML/dogBarking.mp3\" type=\"audio/mp3\"></audio>\n",
       "      <video src=\"https://codecademy-content.s3.amazonaws.com/courses/Semantic+HTML/dog+video.mp4\" controls>video is unable to load</video>      \n",
       "<embed src=\"https://codecademy-content.s3.amazonaws.com/courses/Semantic+HTML/dog-on-beach.gif\">      \n",
       "\n",
       "\n"
      ],
      "text/plain": [
       "<IPython.core.display.HTML object>"
      ]
     },
     "metadata": {},
     "output_type": "display_data"
    }
   ],
   "source": [
    "    %%html\n",
    "    <figure>\n",
    "      <img src=\"https://codecademy-content.s3.amazonaws.com/courses/Semantic+HTML/dogimage.jpeg\"/>\n",
    "      <figcaption>Dog</figcaption>\n",
    " \n",
    "    </figure> \n",
    "    <audio controls><source src=\"https://codecademy-content.s3.amazonaws.com/courses/Semantic+HTML/dogBarking.mp3\" type=\"audio/mp3\"></audio>\n",
    "          <video src=\"https://codecademy-content.s3.amazonaws.com/courses/Semantic+HTML/dog+video.mp4\" controls>video is unable to load</video>      \n",
    "<embed src=\"https://codecademy-content.s3.amazonaws.com/courses/Semantic+HTML/dog-on-beach.gif\">      \n",
    "\n",
    "    "
   ]
  },
  {
   "cell_type": "markdown",
   "metadata": {},
   "source": [
    "#### "
   ]
  },
  {
   "cell_type": "markdown",
   "metadata": {},
   "source": [
    "#### "
   ]
  },
  {
   "cell_type": "markdown",
   "metadata": {},
   "source": [
    "#### "
   ]
  },
  {
   "cell_type": "markdown",
   "metadata": {},
   "source": [
    "#### "
   ]
  },
  {
   "cell_type": "markdown",
   "metadata": {},
   "source": []
  },
  {
   "cell_type": "markdown",
   "metadata": {},
   "source": []
  },
  {
   "cell_type": "markdown",
   "metadata": {},
   "source": [
    " 1 | 2 | 3 | 4 | 5 | 6 \n",
    "---|---|---|---|---|---  \n",
    " restrictions | ограничения | Matching  |соответствует  |stated  |заявлено  \n",
    "  |  |  |  |  |  \n",
    "  |  |  |  |  |  \n",
    " "
   ]
  },
  {
   "cell_type": "markdown",
   "metadata": {},
   "source": [
    "07.02 - 50-83"
   ]
  }
 ],
 "metadata": {
  "kernelspec": {
   "display_name": "Python 3",
   "language": "python",
   "name": "python3"
  },
  "language_info": {
   "codemirror_mode": {
    "name": "ipython",
    "version": 3
   },
   "file_extension": ".py",
   "mimetype": "text/x-python",
   "name": "python",
   "nbconvert_exporter": "python",
   "pygments_lexer": "ipython3",
   "version": "3.7.4"
  }
 },
 "nbformat": 4,
 "nbformat_minor": 2
}
