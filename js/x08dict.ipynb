{
 "cells": [
  {
   "cell_type": "markdown",
   "metadata": {},
   "source": [
    "[translate to md file](#translate-to-md-file)   \n",
    "[append cwd](#append-cwd)  \n",
    "[Small packs](#Small-packs)   \n",
    "[srt 1](#srt-1)   \n",
    "[Yandex to dict](#Yandex-to-dict)   \n",
    "[translate to quizelet](#translate-to-quizelet)   \n",
    "[make links](#make-links)   \n",
    "[n-strings in dir](#n-strings-in-dir)   \n",
    "[CCNA](#CCNA)   \n",
    "[1 contexts](#1-contexts)   \n",
    "[2 make srt_en_ru and tabs_en_ru](#2-make-srt_en_ru-and-tabs_en_ru)   "
   ]
  },
  {
   "cell_type": "markdown",
   "metadata": {},
   "source": [
    "## translate to md file\n",
    "## 1."
   ]
  },
  {
   "cell_type": "code",
   "execution_count": 1,
   "metadata": {},
   "outputs": [
    {
     "name": "stdout",
     "output_type": "stream",
     "text": [
      "Это ручка.\n"
     ]
    }
   ],
   "source": [
    "from googletrans import Translator, constants\n",
    "from pprint import pprint\n",
    "# init the Google API translator\n",
    "translator = Translator()\n",
    "\n",
    "def translate(text):\n",
    "    translation = translator.translate(text, src=\"en\", dest=\"ru\")\n",
    "#     print(f\"{translation.origin} ({translation.src}) --> {translation.text} ({translation.dest})\")    return translation\n",
    "    return translation.text\n",
    "\n",
    "text = \"This is a pen.\"    \n",
    "translation = translate(text)   \n",
    "print(translation)\n"
   ]
  },
  {
   "cell_type": "markdown",
   "metadata": {},
   "source": [
    "## 2."
   ]
  },
  {
   "cell_type": "code",
   "execution_count": 2,
   "metadata": {},
   "outputs": [
    {
     "name": "stdout",
     "output_type": "stream",
     "text": [
      "[[['1'], []], [['1'], ['3', '4']], [['2'], ['5', '6']], [['1'], ['7', '8']], [['1'], []], [['1'], ['7', '8']]]\n"
     ]
    }
   ],
   "source": [
    "# l = s.split('\\n')\n",
    "# l = list(filter(lambda v: len(v)>0, l))\n",
    "\n",
    "l = ['1', '1', '3', '4', '2', '5', '6', '1', '7', '8', '1', '1', '7', '8']\n",
    "l = list(filter(lambda v: len(v)>0, l))\n",
    "\n",
    "def func(x):\n",
    "    return int(x)<3\n",
    "\n",
    "\n",
    "def listToX2List(l, func):\n",
    "    '''\n",
    "    [1,3,1,5] =>[[[1][3]],[[1],[5]]]\n",
    "    '''\n",
    "    ll = []\n",
    "    l0 = []\n",
    "    l1 = []\n",
    "    l01 = []\n",
    "    lt = []\n",
    "    k = 0\n",
    "    # print(l)\n",
    "    for i, v in enumerate(l):\n",
    "        v = v.strip()\n",
    "        if func(v):\n",
    "    #         print(ll)\n",
    "            l0.append(v)\n",
    "            l01.append(l0)\n",
    "            l01.append(lt)\n",
    "            if len(l1)>0 and k>0:\n",
    "                ll[k-1][1] = l1\n",
    "                pass\n",
    "            ll.append(l01)\n",
    "            l0 = []\n",
    "            l1 = []\n",
    "            l01 = []\n",
    "            k +=1\n",
    "        else:\n",
    "            if len(v.strip())>0:\n",
    "                l1.append(v)\n",
    "        if len(l)-1 == i and len(l1)>0:\n",
    "#             print(k,l1, ll)\n",
    "            ll[k-1][1] = l1\n",
    "            pass\n",
    "    return ll\n",
    "\n",
    "ll = listToX2List(l, func)\n",
    "print(ll)"
   ]
  },
  {
   "cell_type": "markdown",
   "metadata": {},
   "source": [
    "## 3."
   ]
  },
  {
   "cell_type": "code",
   "execution_count": 3,
   "metadata": {},
   "outputs": [],
   "source": [
    "s = '''\n",
    "[g25 Learn British English with Video - 5 Must-Know British English Words 2](https://www.youtube.com/watch?v=aBNmtHiBPDg)  \n",
    "\n",
    "\n",
    "5 Must-Know English Words 2\n",
    "man\n",
    "love\n",
    "woman\n",
    "\n",
    "[g24 Learn British English with Video - 5 Must-Know British English Words 1](https://www.youtube.com/watch?v=qqS6RRV8UGc)  \n",
    "\n",
    "\n",
    "5 Must-Know English Words 1\n",
    "duckling \n",
    "\n",
    "'''\n"
   ]
  },
  {
   "cell_type": "code",
   "execution_count": 45,
   "metadata": {},
   "outputs": [
    {
     "name": "stdout",
     "output_type": "stream",
     "text": [
      "44 44\n",
      "55 55\n",
      "62 62\n",
      "95 95\n",
      "48 48\n",
      "102 102\n",
      "51 51\n",
      "52 52\n",
      "80 80\n",
      "64 64\n",
      "76 76\n",
      "68 68\n",
      "69 69\n",
      "49 49\n",
      "72 72\n",
      "1123\n"
     ]
    }
   ],
   "source": [
    "import re\n",
    "\n",
    "l = s.split('\\n')\n",
    "l = list(filter(lambda v: len(v)>0, l))\n",
    "\n",
    "def func(v):\n",
    "    res = False\n",
    "    match = re.search(r'\\[.+\\]\\(.+\\)', v)\n",
    "    v2 = ''\n",
    "    v2 = match[0] if match else ''\n",
    "    if len(v2) > 0:\n",
    "        res = True\n",
    "    return res\n",
    "\n",
    "def translate2(s):\n",
    "    return s\n",
    "\n",
    "def translateListSmall(lien):\n",
    "    sen = '\\n'.join(lien)\n",
    "    sru = translate(sen)\n",
    "    liru = sru.split('\\n')\n",
    "    return liru\n",
    "\n",
    "def translateList(lien):\n",
    "    llen = mPackLl(lien)\n",
    "    liru = []\n",
    "    llru = []\n",
    "    for vlien in llen:\n",
    "        vliru = translateListSmall(vlien)\n",
    "        llru.append(vliru)\n",
    "    liru = mUnpackLl(llru)\n",
    "    return liru\n",
    "    \n",
    "def mPackLl(l):\n",
    "    '''\n",
    "['0', '1', '2', '3', '4', '5', '6', '7', '8', '9'] \n",
    "[['0', '1', '2', '3'], ['4', '5', '6', '7']]   \n",
    "    '''\n",
    "    max = 3000\n",
    "    ll = []\n",
    "    l0 = []\n",
    "    k = 0\n",
    "    klen = 0\n",
    "    while k < len(l):\n",
    "        v = l[k]\n",
    "        l0.append(v)\n",
    "        klen += len(v)\n",
    "        if klen > max or len(l)-1 == k :\n",
    "            ll.append(l0)\n",
    "            l0 = []\n",
    "            klen = 0\n",
    "        k += 1\n",
    "    return ll\n",
    "\n",
    "\n",
    "def mUnpackLl(ll):\n",
    "    '''\n",
    "    [['0', '1', '2', '3'], ['4', '5', '6', '7']]\n",
    "['0', '1', '2', '3', '4', '5', '6', '7', '8', '9']\n",
    "    '''\n",
    "    l2 = []\n",
    "    for v in ll:\n",
    "        for v2 in v:\n",
    "            l2.append(v2)\n",
    "    return l2\n",
    "\n",
    "def mContentAndTabs(x08en = 'x08en.txt', x08ru = 'x08ru.txt'):\n",
    "    text = ''\n",
    "    with open(x08en,encoding='utf8') as file:\n",
    "        text = file.read()\n",
    "#     print(text)\n",
    "    \n",
    "    l = text.split('\\n')\n",
    "    \n",
    "    ll = listToX2List(l, func)\n",
    "#     ll.reverse()\n",
    "#     print(ll)\n",
    "    l1 = []\n",
    "    l2 = []\n",
    "    for v in ll:\n",
    "        s2 = v[0][0]\n",
    "        match = re.search(r'\\[(.+)\\]', s2)\n",
    "        s3 = match[1] if match else ''\n",
    "        s4 = s3.replace(' ','-')\n",
    "        s4 = s4.replace(':','')\n",
    "        s4 = s4.replace('(','')\n",
    "        s4 = s4.replace(')','')\n",
    "        s4 = s4.replace(',','')\n",
    "        s4 = s4.replace('|','')\n",
    "        s4 = s4.replace(\"'\",'')\n",
    "        s4 = s4.replace(\"’\",'')\n",
    "        s5 = f'[{s3}](#{s4})  '\n",
    "        l1.append(s5)\n",
    "        l2.append(f'## {s3}')\n",
    "        l2.append(f'{s2}   ')\n",
    "        lien = v[1]\n",
    "        \n",
    "        liru = translateList(lien)\n",
    "        \n",
    "        if len(lien)>0:\n",
    "            print(len(lien), len(liru))\n",
    "            if len(lien) == len(liru):\n",
    "                l2.append('  ')\n",
    "                l2.append('  ')\n",
    "                l2.append('__|__')\n",
    "                l2.append('--|--')\n",
    "                for i, v in enumerate(lien):\n",
    "                    s2 = f'{v}|{liru[i]}'\n",
    "                    s2 = re.sub(r'^-', '', s2)\n",
    "                    l2.append(s2.strip())\n",
    "                l2.append('  ')\n",
    "                l2.append('  ')\n",
    "        pass\n",
    "    l3 = [v for v in l1]\n",
    "    l3.append('  ')\n",
    "    for v in l2:\n",
    "        l3.append(v)\n",
    "        pass\n",
    "    for v in l3:\n",
    "#         print(v)\n",
    "        pass\n",
    "    text2 = '\\n'.join(l3) \n",
    "    with open(x08ru,\"w\",encoding='utf8') as file:\n",
    "        file.write(text2)\n",
    "    print(len(l3))\n",
    "\n",
    "mContentAndTabs()    \n",
    "# print(l1)"
   ]
  },
  {
   "cell_type": "markdown",
   "metadata": {},
   "source": [
    "## append cwd"
   ]
  },
  {
   "cell_type": "code",
   "execution_count": 46,
   "metadata": {},
   "outputs": [],
   "source": [
    "s = '''\n",
    "\n",
    "[Friends: Ross Falls into a Grave at Nana’s Funeral (Season 1 Clip) | TBS](#Friends-Ross-Falls-into-a-Grave-at-Nanas-Funeral-Season-1-Clip--TBS)  \n",
    "[Friends: Chandler’s Shocked that People Assume He’s Gay (Season 1 Clip) | TBS](#Friends-Chandlers-Shocked-that-People-Assume-Hes-Gay-Season-1-Clip--TBS)  \n",
    "[Friends: Ross Gets Mauled by Cat (Season 1 Clip) | TBS](#Friends-Ross-Gets-Mauled-by-Cat-Season-1-Clip--TBS)  \n",
    "[Friends: Ross Almost Confesses his Feelings for Rachel (Season 1 Clip) | TBS](#Friends-Ross-Almost-Confesses-his-Feelings-for-Rachel-Season-1-Clip--TBS)  \n",
    "[Friends: Joey Loses the Role of Al Pacino’s Butt (Season 1 Clip) | TBS](#Friends-Joey-Loses-the-Role-of-Al-Pacinos-Butt-Season-1-Clip--TBS)  \n",
    "[Friends: Monica Doesn’t Think She Has OCD (Season 1 Clip) | TBS](#Friends-Monica-Doesnt-Think-She-Has-OCD-Season-1-Clip--TBS)  \n",
    "[Friends: Ross Teaches Rachel How To Do Laundry (Season 1 Clip) | TBS](#Friends-Ross-Teaches-Rachel-How-To-Do-Laundry-Season-1-Clip--TBS)  \n",
    "[Friends: Chandler Decides To Break Up With Janice (Season 1 Clip) | TBS](#Friends-Chandler-Decides-To-Break-Up-With-Janice-Season-1-Clip--TBS)  \n",
    "[Friends: Ross gets rushed to the Emergency Room (Season 1 Clip) | TBS](#Friends-Ross-gets-rushed-to-the-Emergency-Room-Season-1-Clip--TBS)  \n",
    "[Friends: Rachel Get her First Paycheck from Central Perk (Season 1 Clip) | TBS](#Friends-Rachel-Get-her-First-Paycheck-from-Central-Perk-Season-1-Clip--TBS)  \n",
    "[Friends: Monica Breaks Up with Alan (Season 1 Clip) | TBS](#Friends-Monica-Breaks-Up-with-Alan-Season-1-Clip--TBS)  \n",
    "[Friends: Chandler’s Caught Smoking (Season 1 Clip) | TBS](#Friends-Chandlers-Caught-Smoking-Season-1-Clip--TBS)  \n",
    "[Friends: Ross reveals his Ex-Wife Carol is Pregnant (Season 1 Clip) | TBS](#Friends-Ross-reveals-his-Ex-Wife-Carol-is-Pregnant-Season-1-Clip--TBS)  \n",
    "[Friends: Ross Asks Rachel Out for the First Time (Season 1 Clip) | TBS](#Friends-Ross-Asks-Rachel-Out-for-the-First-Time-Season-1-Clip--TBS)  \n",
    "[Friends: Rachel Runs Out on her Wedding to Barry (Season 1 Clip) | TBS](#Friends-Rachel-Runs-Out-on-her-Wedding-to-Barry-Season-1-Clip--TBS)  \n",
    "  \n",
    "\n",
    "\n",
    "\n",
    "'''"
   ]
  },
  {
   "cell_type": "code",
   "execution_count": 48,
   "metadata": {
    "scrolled": true
   },
   "outputs": [
    {
     "name": "stdout",
     "output_type": "stream",
     "text": [
      "\n",
      "\n",
      "1. [Friends: Ross Falls into a Grave at Nana’s Funeral (Season 1 Clip) | TBS](f0422friend.md#Friends-Ross-Falls-into-a-Grave-at-Nanas-Funeral-Season-1-Clip--TBS)  \n",
      "1. [Friends: Chandler’s Shocked that People Assume He’s Gay (Season 1 Clip) | TBS](f0422friend.md#Friends-Chandlers-Shocked-that-People-Assume-Hes-Gay-Season-1-Clip--TBS)  \n",
      "1. [Friends: Ross Gets Mauled by Cat (Season 1 Clip) | TBS](f0422friend.md#Friends-Ross-Gets-Mauled-by-Cat-Season-1-Clip--TBS)  \n",
      "1. [Friends: Ross Almost Confesses his Feelings for Rachel (Season 1 Clip) | TBS](f0422friend.md#Friends-Ross-Almost-Confesses-his-Feelings-for-Rachel-Season-1-Clip--TBS)  \n",
      "1. [Friends: Joey Loses the Role of Al Pacino’s Butt (Season 1 Clip) | TBS](f0422friend.md#Friends-Joey-Loses-the-Role-of-Al-Pacinos-Butt-Season-1-Clip--TBS)  \n",
      "1. [Friends: Monica Doesn’t Think She Has OCD (Season 1 Clip) | TBS](f0422friend.md#Friends-Monica-Doesnt-Think-She-Has-OCD-Season-1-Clip--TBS)  \n",
      "1. [Friends: Ross Teaches Rachel How To Do Laundry (Season 1 Clip) | TBS](f0422friend.md#Friends-Ross-Teaches-Rachel-How-To-Do-Laundry-Season-1-Clip--TBS)  \n",
      "1. [Friends: Chandler Decides To Break Up With Janice (Season 1 Clip) | TBS](f0422friend.md#Friends-Chandler-Decides-To-Break-Up-With-Janice-Season-1-Clip--TBS)  \n",
      "1. [Friends: Ross gets rushed to the Emergency Room (Season 1 Clip) | TBS](f0422friend.md#Friends-Ross-gets-rushed-to-the-Emergency-Room-Season-1-Clip--TBS)  \n",
      "1. [Friends: Rachel Get her First Paycheck from Central Perk (Season 1 Clip) | TBS](f0422friend.md#Friends-Rachel-Get-her-First-Paycheck-from-Central-Perk-Season-1-Clip--TBS)  \n",
      "1. [Friends: Monica Breaks Up with Alan (Season 1 Clip) | TBS](f0422friend.md#Friends-Monica-Breaks-Up-with-Alan-Season-1-Clip--TBS)  \n",
      "1. [Friends: Chandler’s Caught Smoking (Season 1 Clip) | TBS](f0422friend.md#Friends-Chandlers-Caught-Smoking-Season-1-Clip--TBS)  \n",
      "1. [Friends: Ross reveals his Ex-Wife Carol is Pregnant (Season 1 Clip) | TBS](f0422friend.md#Friends-Ross-reveals-his-Ex-Wife-Carol-is-Pregnant-Season-1-Clip--TBS)  \n",
      "1. [Friends: Ross Asks Rachel Out for the First Time (Season 1 Clip) | TBS](f0422friend.md#Friends-Ross-Asks-Rachel-Out-for-the-First-Time-Season-1-Clip--TBS)  \n",
      "1. [Friends: Rachel Runs Out on her Wedding to Barry (Season 1 Clip) | TBS](f0422friend.md#Friends-Rachel-Runs-Out-on-her-Wedding-to-Barry-Season-1-Clip--TBS)  \n",
      "  \n",
      "\n",
      "\n",
      "\n",
      "\n"
     ]
    }
   ],
   "source": [
    "cwd = 'f0422friend.md'.strip()\n",
    "appendOne = False\n",
    "appendOne = True\n",
    "l = s.split('\\n')\n",
    "# l = [re.sub('r^\\[', '1. [', v) for v in l]\n",
    "l2=[]\n",
    "for v in l:\n",
    "    v2 = ''\n",
    "    if appendOne:\n",
    "        v2 = re.sub(r'^\\[', '1. [', v)\n",
    "    if len(v2)>0:\n",
    "        l2.append(v2)\n",
    "    else:\n",
    "        l2.append(v)\n",
    "s2 = '\\n'.join(l2)\n",
    "s3 = re.sub(r']\\(#',f']({cwd}#', s2)\n",
    "\n",
    "print(s3)"
   ]
  },
  {
   "cell_type": "markdown",
   "metadata": {},
   "source": [
    "## Small packs"
   ]
  },
  {
   "cell_type": "code",
   "execution_count": 6,
   "metadata": {},
   "outputs": [
    {
     "ename": "NameError",
     "evalue": "name 'translateList2' is not defined",
     "output_type": "error",
     "traceback": [
      "\u001b[1;31m---------------------------------------------------------------------------\u001b[0m",
      "\u001b[1;31mNameError\u001b[0m                                 Traceback (most recent call last)",
      "\u001b[1;32m<ipython-input-6-7e584590ff08>\u001b[0m in \u001b[0;36m<module>\u001b[1;34m\u001b[0m\n\u001b[0;32m     37\u001b[0m \u001b[0mllru\u001b[0m \u001b[1;33m=\u001b[0m \u001b[1;33m[\u001b[0m\u001b[1;33m]\u001b[0m\u001b[1;33m\u001b[0m\u001b[1;33m\u001b[0m\u001b[0m\n\u001b[0;32m     38\u001b[0m \u001b[1;32mfor\u001b[0m \u001b[0mvlien\u001b[0m \u001b[1;32min\u001b[0m \u001b[0mllen\u001b[0m\u001b[1;33m:\u001b[0m\u001b[1;33m\u001b[0m\u001b[1;33m\u001b[0m\u001b[0m\n\u001b[1;32m---> 39\u001b[1;33m     \u001b[0mvliru\u001b[0m \u001b[1;33m=\u001b[0m \u001b[0mtranslateList2\u001b[0m\u001b[1;33m(\u001b[0m\u001b[0mvlien\u001b[0m\u001b[1;33m)\u001b[0m\u001b[1;33m\u001b[0m\u001b[1;33m\u001b[0m\u001b[0m\n\u001b[0m\u001b[0;32m     40\u001b[0m     \u001b[0mllru\u001b[0m\u001b[1;33m.\u001b[0m\u001b[0mappend\u001b[0m\u001b[1;33m(\u001b[0m\u001b[0mvliru\u001b[0m\u001b[1;33m)\u001b[0m\u001b[1;33m\u001b[0m\u001b[1;33m\u001b[0m\u001b[0m\n\u001b[0;32m     41\u001b[0m \u001b[0mliru\u001b[0m \u001b[1;33m=\u001b[0m \u001b[0mmUnpackLl\u001b[0m\u001b[1;33m(\u001b[0m\u001b[0mllru\u001b[0m\u001b[1;33m)\u001b[0m\u001b[1;33m\u001b[0m\u001b[1;33m\u001b[0m\u001b[0m\n",
      "\u001b[1;31mNameError\u001b[0m: name 'translateList2' is not defined"
     ]
    }
   ],
   "source": [
    "lien = [str(v) for v in range(10)]\n",
    "\n",
    "def mPackLl(l):\n",
    "    '''\n",
    "['0', '1', '2', '3', '4', '5', '6', '7', '8', '9'] \n",
    "[['0', '1', '2', '3'], ['4', '5', '6', '7']]   \n",
    "    '''\n",
    "    max = 3\n",
    "    ll = []\n",
    "    l0 = []\n",
    "    k = 0\n",
    "    klen = 0\n",
    "    while k < len(l):\n",
    "        v = l[k]\n",
    "        l0.append(v)\n",
    "        klen += len(v)\n",
    "        if klen > max or len(l)-1 == k :\n",
    "            ll.append(l0)\n",
    "            l0 = []\n",
    "            klen = 0\n",
    "        k += 1\n",
    "    return ll\n",
    "\n",
    "\n",
    "def mUnpackLl(ll):\n",
    "    '''\n",
    "    [['0', '1', '2', '3'], ['4', '5', '6', '7']]\n",
    "['0', '1', '2', '3', '4', '5', '6', '7', '8', '9']\n",
    "    '''\n",
    "    l2 = []\n",
    "    for v in ll:\n",
    "        for v2 in v:\n",
    "            l2.append(v2)\n",
    "    return l2\n",
    "\n",
    "llen = mPackLl(lien)\n",
    "llru = []\n",
    "for vlien in llen:\n",
    "    vliru = translateList2(vlien)\n",
    "    llru.append(vliru)\n",
    "liru = mUnpackLl(llru)\n",
    "\n",
    "print(ll)\n",
    "print(lien)\n",
    "print(liru)\n",
    "\n",
    "with open('xen.txt', 'w') as fh:\n",
    "    fh.write('\\n'.join(lien))\n"
   ]
  },
  {
   "cell_type": "markdown",
   "metadata": {},
   "source": [
    "## srt 1"
   ]
  },
  {
   "cell_type": "code",
   "execution_count": 7,
   "metadata": {},
   "outputs": [],
   "source": [
    "sru = '''\n",
    "1\n",
    "00:00:00,010 --> 00:00:00,020\n",
    " HP and the Sorcerer's Stone 2001 20:26:45 12.05.2013\n",
    "\n",
    "2\n",
    "00:00:09,500 --> 00:00:14,500\n",
    "Харри Поттер и Филосовский камень (брит.) \n",
    "Гарри Поттер и волшебный камень (амер.) \n",
    " 2001\n",
    "\n",
    "3\n",
    "00:00:15,500 --> 00:00:19,500\n",
    "Перевод ? + Виктор Д.\n",
    "\n",
    "4\n",
    "00:00:20,500 --> 00:00:30,500\n",
    "БИРЮЧИНОВАЯ АЛЛЕЯ \n",
    "(род растений семейства Маслиновые)\n",
    "\n",
    "5\n",
    "00:01:19,200 --> 00:01:37,078\n",
    "Я мог бы предвидеть, что вы будете здесь, профессор МакГонагалл.\n",
    "'''\n",
    "\n",
    "\n"
   ]
  },
  {
   "cell_type": "code",
   "execution_count": null,
   "metadata": {},
   "outputs": [],
   "source": []
  },
  {
   "cell_type": "code",
   "execution_count": 8,
   "metadata": {},
   "outputs": [
    {
     "name": "stdout",
     "output_type": "stream",
     "text": [
      "1 00:00:00,010 --> 00:00:00 [\"HP and the Sorcerer's Stone 2001 20:26:45 12.05.2013\"] []\n",
      "2 00:00:09,500 --> 00:00:14 [\"Harry Potter and the Philosopher's Stone (brit.)\", \"Harry Potter and the Sorcerer's Stone (amer.)\", '2001'] []\n",
      "3 00:00:15,500 --> 00:00:19 ['.'] []\n",
      "4 00:00:20,500 --> 00:00:30 ['.'] []\n",
      "5 00:01:19,200 --> 00:01:37 [\"I should've known that you would be here, Professor McGonagall.\"] []\n"
     ]
    }
   ],
   "source": [
    "import re\n",
    "\n",
    "sen = '''\n",
    "sda\n",
    "adaad\n",
    "\n",
    "dada\n",
    "1\n",
    "00:00:00,010 --> 00:00:00,020\n",
    " HP and the Sorcerer's Stone 2001 20:26:45 12.05.2013\n",
    "\n",
    "2\n",
    "00:00:09,500 --> 00:00:14,500\n",
    "Harry Potter and the Philosopher's Stone (brit.) \n",
    "Harry Potter and the Sorcerer's Stone (amer.) \n",
    " 2001\n",
    "\n",
    "3\n",
    "00:00:15,500 --> 00:00:19,500\n",
    ".\n",
    "\n",
    "4\n",
    "00:00:20,500 --> 00:00:30,500\n",
    ".\n",
    "\n",
    "5\n",
    "00:01:19,200 --> 00:01:37,078\n",
    "I should've known that you would be here, Professor McGonagall.\n",
    "'''\n",
    "\n",
    "def mSubtToLl(ll, sen):\n",
    "    '''\n",
    "    sen => [[],[]]\n",
    "[1, \n",
    "00:00:00,010 --> 00:00:00, \n",
    "[\"HP and the Sorcerer's Stone 2001 20:26:45 12.05.2013\"], \n",
    "[]]    \n",
    "    '''\n",
    "    lien = sen.split('\\n')\n",
    "    v0 = ''\n",
    "    v1 = ''\n",
    "    v1prev = ''\n",
    "    v2 = ''\n",
    "    v2prev = ''\n",
    "    v3 = []\n",
    "    v3prev = []\n",
    "#     ll = []\n",
    "    l0 = ['', '', [], []]\n",
    "    header = []\n",
    "    for i in range(0, len(lien)):\n",
    "        ven = lien[i]\n",
    "    #     print(ven)\n",
    "        match1 = re.search(r'\\d\\d:\\d\\d:\\d\\d.+\\d\\d:\\d\\d:\\d\\d', ven)\n",
    "        match2 = re.search(r'^\\d+\\s*$', ven)\n",
    "        if match1:\n",
    "            v3prev = v3\n",
    "            v2 = match1[0]\n",
    "            if len(v2prev) > 0:\n",
    "                l0[0], l0[1], l0[2] = v1prev, v2prev, v3\n",
    "                ll.append(l0[:])\n",
    "    #             print(v1prev, v2prev, v3)\n",
    "            v2prev = v2\n",
    "            v3 = []\n",
    "            pass\n",
    "        elif match2:\n",
    "            v1prev = v1\n",
    "            v1 = match2[0]\n",
    "            pass\n",
    "        else:\n",
    "            ven = ven.strip()\n",
    "            if len(ven)>0:\n",
    "                v3.append(ven)\n",
    "    #         print(ven)\n",
    "            pass\n",
    "        if len(lien)-1 == i:\n",
    "            l0[0], l0[1], l0[2] = v1, v2, v3\n",
    "            ll.append(l0)\n",
    "    #         print(v1,v2,v3)\n",
    "        if len(v1) == 0 and len(v2) == 0:\n",
    "            header.append(ven)\n",
    "#     print(header)\n",
    "\n",
    "ll = []\n",
    "mSubtToLl(ll, sen)\n",
    "for v in ll:\n",
    "    print(v[0], v[1], v[2], v[3])"
   ]
  },
  {
   "cell_type": "markdown",
   "metadata": {},
   "source": [
    "## 2."
   ]
  },
  {
   "cell_type": "code",
   "execution_count": 15,
   "metadata": {},
   "outputs": [
    {
     "name": "stdout",
     "output_type": "stream",
     "text": [
      "10 99\n"
     ]
    }
   ],
   "source": [
    "\n",
    "def mInsTranslateLl(ll):\n",
    "\n",
    "    l2 = [v[2] for v in ll]\n",
    "    # l2 = l2[:3]\n",
    "    lien = []\n",
    "    for v in l2:\n",
    "        lien += v\n",
    "\n",
    "\n",
    "\n",
    "    liru = translateList(lien)\n",
    "    cru = len(liru)\n",
    "    cen = len(lien)\n",
    "    if cru < cen:\n",
    "        for i in range(cen-cru):\n",
    "            liru.append('')\n",
    "    elif cen < cru:\n",
    "        for i in range(cru-cen):\n",
    "            lien.append('')\n",
    "\n",
    "    for v in lien:\n",
    "    #     print(v)\n",
    "        pass\n",
    "\n",
    "    for v in liru:\n",
    "    #     print(v)\n",
    "        pass\n",
    "\n",
    "\n",
    "    k = 0        \n",
    "    for v in ll:\n",
    "        l4 = []\n",
    "        for v2 in v[2]:\n",
    "    #         v2[3] = liru[k]\n",
    "            l4.append(liru[k])\n",
    "            k += 1\n",
    "    #         print(v2)\n",
    "        v[3] = l4\n",
    "        \n",
    "        \n",
    "mInsTranslateLl(ll)        \n",
    "for v in ll:\n",
    "#     print(v)\n",
    "    pass\n",
    "print(len(lien), len(liru))\n"
   ]
  },
  {
   "cell_type": "code",
   "execution_count": 22,
   "metadata": {},
   "outputs": [
    {
     "name": "stdout",
     "output_type": "stream",
     "text": [
      "D:\\mailCloud\\prjother\\tmp\\1\\a01_Your First Journey into the Cisco World.srt D:\\mailCloud\\prjother\\tmp\\1\\b01_Your First Journey into the Cisco World.srt\n"
     ]
    },
    {
     "ename": "UnicodeDecodeError",
     "evalue": "'charmap' codec can't decode byte 0x98 in position 2935: character maps to <undefined>",
     "output_type": "error",
     "traceback": [
      "\u001b[1;31m---------------------------------------------------------------------------\u001b[0m",
      "\u001b[1;31mUnicodeDecodeError\u001b[0m                        Traceback (most recent call last)",
      "\u001b[1;32m<ipython-input-22-d4ace1300a8d>\u001b[0m in \u001b[0;36m<module>\u001b[1;34m\u001b[0m\n\u001b[0;32m     27\u001b[0m \u001b[0ms2\u001b[0m \u001b[1;33m=\u001b[0m \u001b[1;34mr\"D:\\mailCloud\\prjother\\tmp\\1\\b01_Your First Journey into the Cisco World.srt\"\u001b[0m\u001b[1;33m\u001b[0m\u001b[1;33m\u001b[0m\u001b[0m\n\u001b[0;32m     28\u001b[0m \u001b[1;31m# mAddRusSub(\"x08stren.txt\",\"x08strru.txt\")\u001b[0m\u001b[1;33m\u001b[0m\u001b[1;33m\u001b[0m\u001b[1;33m\u001b[0m\u001b[0m\n\u001b[1;32m---> 29\u001b[1;33m \u001b[0mmAddRusSub\u001b[0m\u001b[1;33m(\u001b[0m\u001b[0ms1\u001b[0m\u001b[1;33m,\u001b[0m \u001b[0ms2\u001b[0m\u001b[1;33m)\u001b[0m\u001b[1;33m\u001b[0m\u001b[1;33m\u001b[0m\u001b[0m\n\u001b[0m",
      "\u001b[1;32m<ipython-input-22-d4ace1300a8d>\u001b[0m in \u001b[0;36mmAddRusSub\u001b[1;34m(fin, fout)\u001b[0m\n\u001b[0;32m      3\u001b[0m     \u001b[0msen\u001b[0m \u001b[1;33m=\u001b[0m \u001b[1;34m''\u001b[0m\u001b[1;33m\u001b[0m\u001b[1;33m\u001b[0m\u001b[0m\n\u001b[0;32m      4\u001b[0m     \u001b[1;32mwith\u001b[0m \u001b[0mopen\u001b[0m\u001b[1;33m(\u001b[0m\u001b[0mfin\u001b[0m\u001b[1;33m)\u001b[0m \u001b[1;32mas\u001b[0m \u001b[0mfn\u001b[0m\u001b[1;33m:\u001b[0m\u001b[1;33m\u001b[0m\u001b[1;33m\u001b[0m\u001b[0m\n\u001b[1;32m----> 5\u001b[1;33m         \u001b[0msen\u001b[0m \u001b[1;33m=\u001b[0m \u001b[0mfn\u001b[0m\u001b[1;33m.\u001b[0m\u001b[0mread\u001b[0m\u001b[1;33m(\u001b[0m\u001b[1;33m)\u001b[0m\u001b[1;33m\u001b[0m\u001b[1;33m\u001b[0m\u001b[0m\n\u001b[0m\u001b[0;32m      6\u001b[0m     \u001b[0mll\u001b[0m \u001b[1;33m=\u001b[0m \u001b[1;33m[\u001b[0m\u001b[1;33m]\u001b[0m\u001b[1;33m\u001b[0m\u001b[1;33m\u001b[0m\u001b[0m\n\u001b[0;32m      7\u001b[0m     \u001b[0mmSubtToLl\u001b[0m\u001b[1;33m(\u001b[0m\u001b[0mll\u001b[0m\u001b[1;33m,\u001b[0m \u001b[0msen\u001b[0m\u001b[1;33m)\u001b[0m\u001b[1;33m\u001b[0m\u001b[1;33m\u001b[0m\u001b[0m\n",
      "\u001b[1;32mC:\\ProgramData\\Anaconda3\\lib\\encodings\\cp1251.py\u001b[0m in \u001b[0;36mdecode\u001b[1;34m(self, input, final)\u001b[0m\n\u001b[0;32m     21\u001b[0m \u001b[1;32mclass\u001b[0m \u001b[0mIncrementalDecoder\u001b[0m\u001b[1;33m(\u001b[0m\u001b[0mcodecs\u001b[0m\u001b[1;33m.\u001b[0m\u001b[0mIncrementalDecoder\u001b[0m\u001b[1;33m)\u001b[0m\u001b[1;33m:\u001b[0m\u001b[1;33m\u001b[0m\u001b[1;33m\u001b[0m\u001b[0m\n\u001b[0;32m     22\u001b[0m     \u001b[1;32mdef\u001b[0m \u001b[0mdecode\u001b[0m\u001b[1;33m(\u001b[0m\u001b[0mself\u001b[0m\u001b[1;33m,\u001b[0m \u001b[0minput\u001b[0m\u001b[1;33m,\u001b[0m \u001b[0mfinal\u001b[0m\u001b[1;33m=\u001b[0m\u001b[1;32mFalse\u001b[0m\u001b[1;33m)\u001b[0m\u001b[1;33m:\u001b[0m\u001b[1;33m\u001b[0m\u001b[1;33m\u001b[0m\u001b[0m\n\u001b[1;32m---> 23\u001b[1;33m         \u001b[1;32mreturn\u001b[0m \u001b[0mcodecs\u001b[0m\u001b[1;33m.\u001b[0m\u001b[0mcharmap_decode\u001b[0m\u001b[1;33m(\u001b[0m\u001b[0minput\u001b[0m\u001b[1;33m,\u001b[0m\u001b[0mself\u001b[0m\u001b[1;33m.\u001b[0m\u001b[0merrors\u001b[0m\u001b[1;33m,\u001b[0m\u001b[0mdecoding_table\u001b[0m\u001b[1;33m)\u001b[0m\u001b[1;33m[\u001b[0m\u001b[1;36m0\u001b[0m\u001b[1;33m]\u001b[0m\u001b[1;33m\u001b[0m\u001b[1;33m\u001b[0m\u001b[0m\n\u001b[0m\u001b[0;32m     24\u001b[0m \u001b[1;33m\u001b[0m\u001b[0m\n\u001b[0;32m     25\u001b[0m \u001b[1;32mclass\u001b[0m \u001b[0mStreamWriter\u001b[0m\u001b[1;33m(\u001b[0m\u001b[0mCodec\u001b[0m\u001b[1;33m,\u001b[0m\u001b[0mcodecs\u001b[0m\u001b[1;33m.\u001b[0m\u001b[0mStreamWriter\u001b[0m\u001b[1;33m)\u001b[0m\u001b[1;33m:\u001b[0m\u001b[1;33m\u001b[0m\u001b[1;33m\u001b[0m\u001b[0m\n",
      "\u001b[1;31mUnicodeDecodeError\u001b[0m: 'charmap' codec can't decode byte 0x98 in position 2935: character maps to <undefined>"
     ]
    }
   ],
   "source": [
    "def mAddRusSub(fin, fout):\n",
    "    print(fin, fout)\n",
    "    sen = ''\n",
    "    with open(fin) as fn:\n",
    "        sen = fn.read()\n",
    "    ll = []\n",
    "    mSubtToLl(ll, sen)\n",
    "    mInsTranslateLl(ll)\n",
    "    sru = ''\n",
    "    lru = []\n",
    "    for v in ll:\n",
    "        lru.append(v[0])\n",
    "        lru.append(v[1])\n",
    "        for v2 in v[2]:\n",
    "            lru.append(v2)\n",
    "        for v3 in v[3]:\n",
    "            lru.append(v3)\n",
    "        \n",
    "    sru = '\\n'.join(lru)    \n",
    "    \n",
    "    with open(fout, \"w\", encoding = \"utf8\") as fn:\n",
    "        fn.write(sru)\n",
    "    \n",
    "#     print(sen)\n",
    "    pass\n",
    "s1 = r\"D:\\mailCloud\\prjother\\tmp\\1\\a01_Your First Journey into the Cisco World.srt\"\n",
    "s2 = r\"D:\\mailCloud\\prjother\\tmp\\1\\b01_Your First Journey into the Cisco World.srt\"\n",
    "# mAddRusSub(\"x08stren.txt\",\"x08strru.txt\")\n",
    "mAddRusSub(s1, s2)"
   ]
  },
  {
   "cell_type": "markdown",
   "metadata": {},
   "source": [
    "### Yandex to dict\n",
    "### 1"
   ]
  },
  {
   "cell_type": "code",
   "execution_count": 53,
   "metadata": {},
   "outputs": [],
   "source": [
    "s = '''\n",
    "taking money out of the purse\tвынимая деньги из кошелька \n",
    "EN \n",
    "gift\n",
    "RU \n",
    "подарок\n",
    "EN \n",
    "the way feeling\n",
    "RU \n",
    "как чувство\n",
    "EN \n",
    "through\n",
    "RU \n",
    "через\n",
    "EN \n",
    "tonight\n",
    "RU \n",
    "сегодня вечером\n",
    "EN \n",
    "hush\n",
    "RU \n",
    "\n",
    "\n",
    "'''"
   ]
  },
  {
   "cell_type": "markdown",
   "metadata": {},
   "source": [
    "## 2"
   ]
  },
  {
   "cell_type": "code",
   "execution_count": 54,
   "metadata": {},
   "outputs": [
    {
     "name": "stdout",
     "output_type": "stream",
     "text": [
      "tonight\tсегодня вечером\n",
      "through\tчерез\n",
      "the way feeling\tкак чувство\n",
      "gift\tподарок\n",
      "taking money out of the purse\tвынимая деньги из кошелька\n"
     ]
    }
   ],
   "source": [
    "import re\n",
    "\n",
    "\n",
    "\n",
    "l = s.split('\\n')\n",
    "l = [v.strip() for v in l]\n",
    "l = list(filter(lambda v: len(v.strip())>0, l))\n",
    "def mFilter(v):\n",
    "    res  = True\n",
    "    if v == 'RU':\n",
    "        res = False\n",
    "    if v == 'EN':\n",
    "        res = False\n",
    "    return res\n",
    "\n",
    "l = list(filter(mFilter, l))\n",
    "\n",
    "l2 = []\n",
    "vprev = ''\n",
    "for i in range(len(l)):\n",
    "    v = l[i]\n",
    "    if v.find('\\t')>0:\n",
    "        l2.append(v)\n",
    "        continue\n",
    "    matchEn = re.search(r'[a-zA-Z]', v)\n",
    "    if matchEn:\n",
    "        vprev = v\n",
    "    matchRu = re.search(r'[а-яА-Я]', v)\n",
    "    if matchRu:\n",
    "        s2 = f'{vprev}\\t{v}'\n",
    "        l2.append(s2)\n",
    "\n",
    "# print(l2)\n",
    "l2.reverse()\n",
    "for v in l2:\n",
    "    print(v)"
   ]
  },
  {
   "cell_type": "markdown",
   "metadata": {},
   "source": [
    "## translate to quizelet\n",
    "- translate start"
   ]
  },
  {
   "cell_type": "code",
   "execution_count": 98,
   "metadata": {},
   "outputs": [],
   "source": [
    "s = '''\n",
    "\n",
    "Do you have any plans for the weekend?\n",
    "Be sure to ask this casually.\n",
    "Do you feel like coming along?\n",
    "What time and where?\n",
    "That sounds really fun, but\n",
    "I’m not sure if I can.\n",
    "Can I take a rain check?\n",
    "postpone plans\n",
    "Do you maybe wanna see a movie this weekend?\n",
    "\n",
    "beauties\n",
    "is getting cooler\n",
    "to invite someone\n",
    "an established relationship\n",
    "to judge\n",
    "open to doing something social with you\n",
    "in an indirect way\n",
    "which spares you\n",
    "facial expression\n",
    "putting pressure on them\n",
    "an invitation\n",
    "want to casually\n",
    "to refuse\n",
    "took care\n",
    "to take pressure off\n",
    "take it to the extreme\n",
    "\n",
    "'''\n"
   ]
  },
  {
   "cell_type": "code",
   "execution_count": 99,
   "metadata": {},
   "outputs": [
    {
     "name": "stdout",
     "output_type": "stream",
     "text": [
      "Do you have any plans for the weekend?\tУ тебя есть планы на выходные?\n",
      "Be sure to ask this casually.\tОбязательно спросите об этом вскользь.\n",
      "Do you feel like coming along?\tВы хотите поехать?\n",
      "What time and where?\tВ какое время и где?\n",
      "That sounds really fun, but\tЗвучит очень весело, но\n",
      "I’m not sure if I can.\tЯ не уверен, что смогу.\n",
      "Can I take a rain check?\tМогу я пройти проверку дождя?\n",
      "postpone plans\tотложить планы\n",
      "Do you maybe wanna see a movie this weekend?\tМожет быть, ты хочешь посмотреть фильм в эти выходные?\n",
      "beauties\tкрасавицы\n",
      "is getting cooler\tстановится прохладнее\n",
      "to invite someone\tпригласить кого-то\n",
      "an established relationship\tустановившиеся отношения\n",
      "to judge\tсудить\n",
      "open to doing something social with you\tоткрыт для общения с вами\n",
      "in an indirect way\tкосвенным образом\n",
      "which spares you\tчто щадит вас\n",
      "facial expression\tВыражение лица\n",
      "putting pressure on them\tдавить на них\n",
      "an invitation\tприглашение\n",
      "want to casually\tхочу случайно\n",
      "to refuse\tотказаться\n",
      "took care\tзаботиться\n",
      "to take pressure off\tснять напряжение\n",
      "take it to the extreme\tдовести это до крайности\n"
     ]
    }
   ],
   "source": [
    "sen = s.strip()\n",
    "lien = s.split('\\n')\n",
    "lien = [v.strip() for v in lien]\n",
    "lien = list(filter(lambda v: len(v)>0, lien))\n",
    "sru = translate('\\n'.join(lien))\n",
    "liru = sru.split('\\n')\n",
    "litab = []\n",
    "if len(lien)==len(liru):\n",
    "    for i in range(len(lien)):\n",
    "        litab.append(f'{lien[i]}\\t{liru[i]}')\n",
    "stab = '\\n'.join(litab)        \n",
    "print(stab)"
   ]
  },
  {
   "cell_type": "markdown",
   "metadata": {},
   "source": [
    "## make links"
   ]
  },
  {
   "cell_type": "code",
   "execution_count": 54,
   "metadata": {},
   "outputs": [],
   "source": [
    "s = '''\n",
    "1 На карту памяти\n",
    "2 На gmail_com\n",
    "3 Сохранение контактов\n",
    "links\n",
    "https://support.google.com/android/answer/2819582?hl=ru\n",
    "'''"
   ]
  },
  {
   "cell_type": "code",
   "execution_count": 55,
   "metadata": {},
   "outputs": [
    {
     "name": "stdout",
     "output_type": "stream",
     "text": [
      "[1 На карту памяти](#1-На-карту-памяти)   \n",
      "[2 На gmail_com](#2-На-gmail_com)   \n",
      "[3 Сохранение контактов](#3-Сохранение-контактов)   \n",
      "[links](#links)   \n",
      "[https://support.google.com/android/answer/2819582?hl=ru](#https://support.google.com/android/answer/2819582?hl=ru)   \n",
      "## 1 На карту памяти\n",
      "## 2 На gmail_com\n",
      "## 3 Сохранение контактов\n",
      "## links\n",
      "## https://support.google.com/android/answer/2819582?hl=ru\n"
     ]
    }
   ],
   "source": [
    "import re\n",
    "\n",
    "l = s.split('\\n') \n",
    "l = [v.strip() for v in l]\n",
    "l = list(filter(lambda v: len(v)>0, l))\n",
    "l2 = []\n",
    "for v in l:\n",
    "    s1 = v\n",
    "    s2 = v.replace(' ', '-')\n",
    "    s2 = s2.replace(\"(\", '')\n",
    "    s2 = s2.replace(')', '')\n",
    "    s3 = f'[{s1}](#{s2})   '\n",
    "    print(s3)\n",
    "\n",
    "for v in l:\n",
    "    s2 = f'## {v}'\n",
    "    print(s2)\n",
    "    pass"
   ]
  },
  {
   "cell_type": "markdown",
   "metadata": {},
   "source": [
    "## n-strings in dir"
   ]
  },
  {
   "cell_type": "code",
   "execution_count": 146,
   "metadata": {
    "scrolled": true
   },
   "outputs": [
    {
     "name": "stdout",
     "output_type": "stream",
     "text": [
      "125863\n"
     ]
    }
   ],
   "source": [
    "import os\n",
    "cwd = r'D:\\mailCloud\\prjother\\tmp\\Cisco CCNA (200-120)_ The Complete Course Subs'\n",
    "cwd = cwd.replace('\\\\', '/') + '/'\n",
    "l = os.listdir(cwd)\n",
    "fn = '3 Types of NAT.srt'\n",
    "s = ''\n",
    "count = 0\n",
    "for f in l:\n",
    "    with open(cwd + f) as fn:\n",
    "        s = fn.read()\n",
    "        count += s.count('\\n')\n",
    "print(count)\n",
    "# print(s)\n",
    "\n",
    "# print(l)"
   ]
  },
  {
   "cell_type": "markdown",
   "metadata": {},
   "source": [
    "## CCNA\n",
    "[Cisco CCNA (200-120): The Complete Course](https://edufyre.com/p/the-complete-ccna-200-120-course)   \n",
    "## 1 contexts"
   ]
  },
  {
   "cell_type": "code",
   "execution_count": 55,
   "metadata": {},
   "outputs": [],
   "source": [
    "import re\n",
    "import os\n",
    "\n",
    "import shutil\n",
    "\n",
    "def mCopyFileList(l1, l2):\n",
    "    cwd1 = r'D:\\mailCloud\\prjother\\tmp\\Cisco CCNA (200-120)_ The Complete Course Subs'\n",
    "    cwd2 = r'D:\\mailCloud\\prjother\\tmp\\1'\n",
    "    if len(l1) != len(l2):\n",
    "        return\n",
    "    for i in range(len(l1)):\n",
    "        f1 = l1[i]\n",
    "        f2 = l2[i]\n",
    "        ff1 = f'{cwd1}\\\\{f1}'\n",
    "        ff2 = f'{cwd2}\\\\{f2}'\n",
    "        print(ff1)\n",
    "        shutil.copy2(ff1, ff2)\n",
    "\n",
    "\n",
    "\n",
    "s1 = 'Cisco CCNA (200-120)_ The Complete Course Subs\\n'\n",
    "with open(\"x0801cont.txt\") as fn:\n",
    "    s = fn.read()\n",
    "s = s1 + s\n",
    "l = s.split('\\n')\n",
    "l = list(filter(lambda v: len(v)>0,l))\n",
    "\n",
    "l2 = []\n",
    "\n",
    "\n",
    "k = 0\n",
    "for v in l:\n",
    "    s2 = re.sub(r'^ Preview', '', v)\n",
    "    s2 = re.sub(r'^ Start', '', s2)\n",
    "    s2 = re.sub(r'\\(\\d+:\\d\\d\\)', '', s2)\n",
    "    s2 = re.sub(r'[\\?\\/]', '', s2)\n",
    "    s2 = re.sub(r':', '_', s2)\n",
    "#     s2 = re.sub(r'[\\?]', '', s2)\n",
    "    s2 = s2.strip()\n",
    "    l2.append(s2)\n",
    "    pass\n",
    "\n",
    "cwd = r'D:\\mailCloud\\prjother\\tmp\\Cisco CCNA (200-120)_ The Complete Course Subs'\n",
    "cwd = cwd.replace('\\\\', '/') + '/'\n",
    "ld1 = os.listdir(cwd)\n",
    "\n",
    "ld2 = []\n",
    "for v in ld1:\n",
    "    s2 = re.sub(r'.srt', '', v)\n",
    "    ld2.append(s2)\n",
    "#     print(s2)\n",
    "    pass\n",
    "\n",
    "for v in ld2:\n",
    "#     print(v)\n",
    "    pass\n",
    "\n",
    "\n",
    "ll2 = [[v,0] for v in l2]    \n",
    "lld2 = [[v,0] for v in ld2]    \n",
    "    \n",
    "l3 = []\n",
    "for v in ll2:\n",
    "    for vd in lld2:\n",
    "        if v[0] == vd[0]:\n",
    "            v[1] = 1\n",
    "            vd[1] = 1\n",
    "            l3.append(v)\n",
    "            break\n",
    "\n",
    "ln1 = [f'{v[0]}.srt' for v in l3]\n",
    "ln2 = []\n",
    "for i, v in enumerate(ln1):\n",
    "    si = i + 1\n",
    "    s2 = '0' + str(si) if len(str(si)) == 1 else str(si)\n",
    "    s3 = f'a{s2}_{v}'\n",
    "    ln2.append(s3)\n",
    "    \n",
    "# print(ln2)\n",
    "# mCopyFileList(ln1, ln2)\n",
    "\n",
    "\n",
    "cwd = r'D:\\mailCloud\\prjother\\tmp\\1'\n",
    "cwd = cwd.replace('\\\\', '/') + '/'\n",
    "ld = os.listdir(cwd)\n",
    "ltxt = []\n",
    "\n",
    "l4 = []\n",
    "for v in ll2:\n",
    "    s4 = ''\n",
    "    for v2 in ld:\n",
    "#         print(v[0], v2)\n",
    "        s2 = re.sub(r'^a...', '', v2)\n",
    "        s2 = re.sub(r'.srt$', '', s2)\n",
    "#         print(s2)\n",
    "        if v[0] == s2:\n",
    "            s4 = v2\n",
    "#             print(v2)\n",
    "            break\n",
    "    s6 = ''\n",
    "    if s4 == '':\n",
    "        s6 = v[0]\n",
    "    else:\n",
    "        s6 = f'[{v[0]}]({s4})'\n",
    "    l4.append(s6)\n",
    "\n",
    "for v in l4:\n",
    "#     print(v)\n",
    "    pass\n",
    "\n",
    "def mWriteListFile(l, fn):\n",
    "    cwd = r'D:\\mailCloud\\prjother\\tmp\\1'\n",
    "    fn = cwd + '\\\\' + fn\n",
    "    l = [v + '   ' for v in l]\n",
    "    s4 = '\\n'.join(l)\n",
    "#     print(s4)\n",
    "    with open(fn, 'w', encoding = 'utf8') as fh:\n",
    "        fh.write(s4)\n",
    "        pass\n",
    "    pass\n",
    "\n",
    "mWriteListFile(l4, 'a00_context4.md')"
   ]
  },
  {
   "cell_type": "code",
   "execution_count": 52,
   "metadata": {},
   "outputs": [
    {
     "name": "stdout",
     "output_type": "stream",
     "text": [
      "#a01_Your-First-Journey-into-the-Cisco-World.srt\n"
     ]
    }
   ],
   "source": [
    "s4 = 'a01_Your First Journey into the Cisco World.srt'\n",
    "s44 = re.sub(r' ', '-', s4)\n",
    "s44 = r'#' + s44\n",
    "print(s44)"
   ]
  },
  {
   "cell_type": "markdown",
   "metadata": {},
   "source": [
    "## 2 make srt_en_ru and tabs_en_ru"
   ]
  },
  {
   "cell_type": "code",
   "execution_count": 46,
   "metadata": {},
   "outputs": [
    {
     "name": "stdout",
     "output_type": "stream",
     "text": [
      "116 116\n",
      "D:\\mailCloud\\prjother\\tmp\\1\\a100_Actual Configuration of NAT Overload.srt D:\\mailCloud\\prjother\\tmp\\1\\b100_Actual Configuration of NAT Overload.srt\n",
      "D:\\mailCloud\\prjother\\tmp\\1\\a101_Pitfalls to look for on your test.srt D:\\mailCloud\\prjother\\tmp\\1\\b101_Pitfalls to look for on your test.srt\n",
      "D:\\mailCloud\\prjother\\tmp\\1\\a102_What exactly is a WAN.srt D:\\mailCloud\\prjother\\tmp\\1\\b102_What exactly is a WAN.srt\n",
      "D:\\mailCloud\\prjother\\tmp\\1\\a103_What are the connection types.srt D:\\mailCloud\\prjother\\tmp\\1\\b103_What are the connection types.srt\n",
      "D:\\mailCloud\\prjother\\tmp\\1\\a104_Understanding the CIR and Burst Rate.srt D:\\mailCloud\\prjother\\tmp\\1\\b104_Understanding the CIR and Burst Rate.srt\n",
      "D:\\mailCloud\\prjother\\tmp\\1\\a105_What is a DLCI and who assigns it.srt D:\\mailCloud\\prjother\\tmp\\1\\b105_What is a DLCI and who assigns it.srt\n",
      "D:\\mailCloud\\prjother\\tmp\\1\\a106_configuring Frame-relay.srt D:\\mailCloud\\prjother\\tmp\\1\\b106_configuring Frame-relay.srt\n",
      "D:\\mailCloud\\prjother\\tmp\\1\\a107_show commands for frame-relay.srt D:\\mailCloud\\prjother\\tmp\\1\\b107_show commands for frame-relay.srt\n",
      "D:\\mailCloud\\prjother\\tmp\\1\\a108_Open Standard WAN protocol.srt D:\\mailCloud\\prjother\\tmp\\1\\b108_Open Standard WAN protocol.srt\n",
      "D:\\mailCloud\\prjother\\tmp\\1\\a109_Configuring PPP and Verifying PPP.srt D:\\mailCloud\\prjother\\tmp\\1\\b109_Configuring PPP and Verifying PPP.srt\n",
      "D:\\mailCloud\\prjother\\tmp\\1\\a110_Redundancy protocols overview.srt D:\\mailCloud\\prjother\\tmp\\1\\b110_Redundancy protocols overview.srt\n",
      "D:\\mailCloud\\prjother\\tmp\\1\\a111_HSRP Details and configuration.srt D:\\mailCloud\\prjother\\tmp\\1\\b111_HSRP Details and configuration.srt\n",
      "D:\\mailCloud\\prjother\\tmp\\1\\a112_VRRP and GLBP.srt D:\\mailCloud\\prjother\\tmp\\1\\b112_VRRP and GLBP.srt\n",
      "D:\\mailCloud\\prjother\\tmp\\1\\a113_SNMP and its Configuration.srt D:\\mailCloud\\prjother\\tmp\\1\\b113_SNMP and its Configuration.srt\n",
      "D:\\mailCloud\\prjother\\tmp\\1\\a114_SYSLOG and its Configuration.srt D:\\mailCloud\\prjother\\tmp\\1\\b114_SYSLOG and its Configuration.srt\n",
      "D:\\mailCloud\\prjother\\tmp\\1\\a115_NETFLOW and its Configuration.srt D:\\mailCloud\\prjother\\tmp\\1\\b115_NETFLOW and its Configuration.srt\n",
      "D:\\mailCloud\\prjother\\tmp\\1\\a116_Course Summary.srt D:\\mailCloud\\prjother\\tmp\\1\\b116_Course Summary.srt\n",
      "['a100_Actual Configuration of NAT Overload.srt', 'a101_Pitfalls to look for on your test.srt', 'a102_What exactly is a WAN.srt', 'a103_What are the connection types.srt', 'a104_Understanding the CIR and Burst Rate.srt', 'a105_What is a DLCI and who assigns it.srt', 'a106_configuring Frame-relay.srt', 'a107_show commands for frame-relay.srt', 'a108_Open Standard WAN protocol.srt', 'a109_Configuring PPP and Verifying PPP.srt', 'a110_Redundancy protocols overview.srt', 'a111_HSRP Details and configuration.srt', 'a112_VRRP and GLBP.srt', 'a113_SNMP and its Configuration.srt', 'a114_SYSLOG and its Configuration.srt', 'a115_NETFLOW and its Configuration.srt', 'a116_Course Summary.srt'] ['b100_Actual Configuration of NAT Overload.srt', 'b101_Pitfalls to look for on your test.srt', 'b102_What exactly is a WAN.srt', 'b103_What are the connection types.srt', 'b104_Understanding the CIR and Burst Rate.srt', 'b105_What is a DLCI and who assigns it.srt', 'b106_configuring Frame-relay.srt', 'b107_show commands for frame-relay.srt', 'b108_Open Standard WAN protocol.srt', 'b109_Configuring PPP and Verifying PPP.srt', 'b110_Redundancy protocols overview.srt', 'b111_HSRP Details and configuration.srt', 'b112_VRRP and GLBP.srt', 'b113_SNMP and its Configuration.srt', 'b114_SYSLOG and its Configuration.srt', 'b115_NETFLOW and its Configuration.srt', 'b116_Course Summary.srt']\n"
     ]
    }
   ],
   "source": [
    "\n",
    "def mGetList(l):\n",
    "    cwd = r'D:\\mailCloud\\prjother\\tmp\\1'\n",
    "    l4 = os.listdir(cwd)\n",
    "    for v in l4:\n",
    "        match1 = re.search(r'^a\\d+_', v)\n",
    "        match2 = re.search(r'^a00_', v)\n",
    "        if match1 and not match2:\n",
    "            l.append(v)\n",
    "    \n",
    "l = []\n",
    "mGetList(l)\n",
    "liru = []\n",
    "for v in l:\n",
    "    s4 = re.sub(r'^a', 'b', v)\n",
    "    liru.append(s4)\n",
    "#     print(s4)\n",
    "    pass\n",
    "\n",
    "def mListSrtEnRu(lien, liru):\n",
    "    if len(lien) != len(liru):\n",
    "        return\n",
    "    cwd = r'D:\\mailCloud\\prjother\\tmp\\1'\n",
    "    lfnen = [cwd + '\\\\' + v for v in lien]\n",
    "    lfnru = [cwd + '\\\\' + v for v in liru]\n",
    "    for i in range(len(lfnen)):\n",
    "        \n",
    "#         print(lfnen[i])\n",
    "#         print(lfnru[i])\n",
    "        mAddRusSub(lfnen[i], lfnru[i])\n",
    "        pass\n",
    "    \n",
    "print(len(l), len(liru))\n",
    "l = list(filter(lambda v: re.search(r'^.\\d\\d\\d_', v), l))\n",
    "liru = list(filter(lambda v: re.search(r'^.\\d\\d\\d_', v), liru))\n",
    "mListSrtEnRu(l, liru)\n",
    "print(l,liru)"
   ]
  },
  {
   "cell_type": "code",
   "execution_count": 37,
   "metadata": {},
   "outputs": [
    {
     "name": "stdout",
     "output_type": "stream",
     "text": [
      "<re.Match object; span=(0, 5), match='a088_'>\n"
     ]
    }
   ],
   "source": [
    "s = 'a088_Configuring a router.srt'\n",
    "s4 = re.sub(r'^a', 'b', s)\n",
    "match = re.search(r'^a\\d+_', s)\n",
    "print(match)"
   ]
  },
  {
   "cell_type": "code",
   "execution_count": 65,
   "metadata": {},
   "outputs": [
    {
     "name": "stdout",
     "output_type": "stream",
     "text": [
      "D:\\mailCloud\\prjother\\tmp\\b06.txt\n",
      "D:\\mailCloud\\prjother\\tmp\\b07.txt\n"
     ]
    }
   ],
   "source": [
    "import shutil\n",
    "\n",
    "def mCopyFileList(l1, l2):\n",
    "    cwd1 = r'D:\\mailCloud\\prjother\\tmp'\n",
    "    cwd2 = r'D:\\mailCloud\\prjother\\tmp'\n",
    "    if len(l1) != len(l2):\n",
    "        return\n",
    "    for i in range(len(l1)):\n",
    "        f1 = l1[i]\n",
    "        f2 = l2[i]\n",
    "        ff1 = f'{cwd1}\\\\{f1}'\n",
    "        ff2 = f'{cwd2}\\\\{f2}'\n",
    "        print(ff1)\n",
    "        shutil.copy2(ff1, ff2)\n",
    "    \n",
    "l1 = ['b06.txt', 'b07.txt']\n",
    "l2 = ['b08.txt', 'b09.txt']    \n",
    "mCopyFileList(l1, l2)\n"
   ]
  },
  {
   "cell_type": "code",
   "execution_count": 163,
   "metadata": {},
   "outputs": [
    {
     "name": "stdout",
     "output_type": "stream",
     "text": [
      "We arrive on 03/25/2018. So you are welcome after 04/01/2018.\n",
      "We arrive on 25.03.2018. So you are welcome after 01.04.2018.\n"
     ]
    }
   ],
   "source": []
  },
  {
   "cell_type": "markdown",
   "metadata": {},
   "source": [
    "[translate to md file](#translate-to-md-file)   \n",
    "[make links](#make-links)   "
   ]
  },
  {
   "cell_type": "markdown",
   "metadata": {},
   "source": [
    "[pytube3](https://python-pytube.readthedocs.io/en/latest/)  \n",
    "[youtube](https://www.youtube.com/watch?v=9bZkp7q19f0)  \n",
    "[]()  \n"
   ]
  },
  {
   "cell_type": "code",
   "execution_count": 2,
   "metadata": {},
   "outputs": [],
   "source": [
    "# from pytube import YouTube\n",
    "\n",
    "# yt = YouTube('https://www.youtube.com/user/ENGLISHCLASS101')\n"
   ]
  },
  {
   "cell_type": "markdown",
   "metadata": {},
   "source": [
    "[ПИТУБ | БИБЛИОТЕКА PYTHON ДЛЯ ЗАГРУЗКИ ВИДЕО НА YOUTUBE](http://espressocode.top/pytube-python-library-download-youtube-videos/)  \n"
   ]
  }
 ],
 "metadata": {
  "kernelspec": {
   "display_name": "Python 3",
   "language": "python",
   "name": "python3"
  },
  "language_info": {
   "codemirror_mode": {
    "name": "ipython",
    "version": 3
   },
   "file_extension": ".py",
   "mimetype": "text/x-python",
   "name": "python",
   "nbconvert_exporter": "python",
   "pygments_lexer": "ipython3",
   "version": "3.7.8"
  }
 },
 "nbformat": 4,
 "nbformat_minor": 2
}
