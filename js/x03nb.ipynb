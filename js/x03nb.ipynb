{
 "cells": [
  {
   "cell_type": "markdown",
   "metadata": {},
   "source": []
  },
  {
   "cell_type": "markdown",
   "metadata": {},
   "source": [
    "## ipynb context\n",
    "**rem**  \n",
    "можно делать json  \n"
   ]
  },
  {
   "cell_type": "markdown",
   "metadata": {},
   "source": [
    "## 1 general function"
   ]
  },
  {
   "cell_type": "code",
   "execution_count": null,
   "metadata": {},
   "outputs": [],
   "source": []
  },
  {
   "cell_type": "code",
   "execution_count": null,
   "metadata": {},
   "outputs": [],
   "source": []
  },
  {
   "cell_type": "markdown",
   "metadata": {},
   "source": [
    "## 2 functions"
   ]
  },
  {
   "cell_type": "code",
   "execution_count": 12,
   "metadata": {
    "scrolled": false
   },
   "outputs": [
    {
     "name": "stdout",
     "output_type": "stream",
     "text": [
      "[Learn how to easily build single-page web applications using this popular JavaScript framework.](#Learn-how-to-easily-build-single-page-web-applications-using-this-popular-JavaScript-framework.)   \n",
      "[Your First App](#Your-First-App)   \n",
      "[6. ng-repeat I](#6.-ng-repeat-I)   \n",
      "[7. ng-repeat II](#7.-ng-repeat-II)   \n",
      "[8. Directives](#8.-Directives)   \n",
      "[9. ng-click I](#9.-ng-click-I)   \n",
      "[10. ng-click II](#10.-ng-click-II)   \n",
      "[Directives](#Directives)   \n",
      "[Directives](#Directives)   \n",
      "\n",
      "[Learn how to easily build single-page web applications using this popular JavaScript framework.](#Learn-how-to-easily-build-single-page-web-applications-using-this-popular-JavaScript-framework.)   \n",
      "\n",
      "## Learn how to easily build single-page web applications using this popular JavaScript framework.\n",
      "[Learn how to easily build single-page web applications using this popular JavaScript framework.](c14angular.ipynb)   \n",
      "Learn how to easily build single-page web applications using this popular JavaScript framework.   \n",
      "Your First App   \n",
      "6. ng-repeat I   \n",
      "7. ng-repeat II   \n",
      "8. Directives   \n",
      "9. ng-click I   \n",
      "10. ng-click II   \n",
      "Directives   \n",
      "Directives   \n"
     ]
    }
   ],
   "source": [
    "import re\n",
    "\n",
    "def mIpynbContext(nameFile):\n",
    "\n",
    "    l2 = []\n",
    "    with open(nameFile, encoding='utf8') as file:\n",
    "        for e in file:\n",
    "            e = e.strip()\n",
    "            e = re.sub('\"','',e)\n",
    "            e = re.sub(',$','',e)\n",
    "            e = re.sub(\"\\\\\\\\n\",'',e)\n",
    "            e = e.strip()\n",
    "            if len(re.findall('^##+', e))>0:\n",
    "                l2.append(e)\n",
    "    l2 = [re.sub(\"^#+\",'', e).strip() for e in l2]\n",
    "    s2 = ''\n",
    "    l3 = []\n",
    "    for e in l2:\n",
    "        e2 = re.sub(' ', '-', e)\n",
    "        l3.append(f'[{e}](#{e2})   ')\n",
    "    l3.append('')\n",
    "    l3.append(l3[0])\n",
    "    l3.append('')\n",
    "    l3.append(f'## {l2[0]}')\n",
    "    l3.append(f'[{l2[0]}]({nameFile})   ')\n",
    "    l3 = l3 + [e + '   ' for e in l2]\n",
    "    s2 = '\\n'.join(l3)\n",
    "    \n",
    "    print(s2)\n",
    "\n",
    "mIpynbContext('c14angular.ipynb')\n"
   ]
  },
  {
   "cell_type": "code",
   "execution_count": 43,
   "metadata": {},
   "outputs": [
    {
     "name": "stdout",
     "output_type": "stream",
     "text": [
      "dfdf\n"
     ]
    }
   ],
   "source": [
    "s = 'dfdf\\n'\n",
    "e=re.sub('\\n','', s)\n",
    "print(e)"
   ]
  },
  {
   "cell_type": "code",
   "execution_count": null,
   "metadata": {},
   "outputs": [],
   "source": []
  }
 ],
 "metadata": {
  "kernelspec": {
   "display_name": "Python 3",
   "language": "python",
   "name": "python3"
  },
  "language_info": {
   "codemirror_mode": {
    "name": "ipython",
    "version": 3
   },
   "file_extension": ".py",
   "mimetype": "text/x-python",
   "name": "python",
   "nbconvert_exporter": "python",
   "pygments_lexer": "ipython3",
   "version": "3.7.8"
  }
 },
 "nbformat": 4,
 "nbformat_minor": 2
}
