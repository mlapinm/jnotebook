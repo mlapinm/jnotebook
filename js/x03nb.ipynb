{
 "cells": [
  {
   "cell_type": "markdown",
   "metadata": {},
   "source": []
  },
  {
   "cell_type": "markdown",
   "metadata": {},
   "source": [
    "## ipynb context\n",
    "**rem**  \n",
    "можно делать json  \n"
   ]
  },
  {
   "cell_type": "markdown",
   "metadata": {},
   "source": [
    "## 1 general function"
   ]
  },
  {
   "cell_type": "code",
   "execution_count": null,
   "metadata": {},
   "outputs": [],
   "source": []
  },
  {
   "cell_type": "code",
   "execution_count": null,
   "metadata": {},
   "outputs": [],
   "source": []
  },
  {
   "cell_type": "markdown",
   "metadata": {},
   "source": [
    "## 2 functions"
   ]
  },
  {
   "cell_type": "code",
   "execution_count": 124,
   "metadata": {
    "scrolled": false
   },
   "outputs": [
    {
     "name": "stdout",
     "output_type": "stream",
     "text": [
      "[Learn SQL codecademy](#Learn-SQL-codecademy)   \n",
      "[Manipulation](#Manipulation)   \n",
      "[Queries](#Queries)   \n",
      "[Aggregate Functions](#Aggregate-Functions)   \n",
      "[Aggregate Functions](#Aggregate-Functions)   \n",
      "[SELECT name, MAX(price) FROM fake_apps;](#SELECT-name,-MAX(price)-FROM-fake_apps;)   \n",
      "[7. Group By I](#7.-Group-By-I)   \n",
      "[Multiple Tables](#Multiple-Tables)   \n",
      "\n",
      "[Learn SQL codecademy](#Learn-SQL-codecademy)   \n",
      "\n",
      "## Learn SQL codecademy\n",
      "[Learn SQL codecademy](c07sql.ipynb)   \n",
      "Learn SQL codecademy   \n",
      "Manipulation   \n",
      "Queries   \n",
      "Aggregate Functions   \n",
      "Aggregate Functions   \n",
      "SELECT name, MAX(price) FROM fake_apps;   \n",
      "7. Group By I   \n",
      "Multiple Tables   \n"
     ]
    }
   ],
   "source": [
    "import re\n",
    "\n",
    "def mIpynbContext(nameFile):\n",
    "\n",
    "    l2 = []\n",
    "    with open(nameFile, encoding='utf8') as file:\n",
    "        for e in file:\n",
    "            e = e.strip()\n",
    "            e = re.sub('\"','',e)\n",
    "            e = re.sub(',$','',e)\n",
    "            e = re.sub(\"\\\\\\\\n\",'',e)\n",
    "            e = e.strip()\n",
    "            if len(re.findall('^##+', e))>0:\n",
    "                l2.append(e)\n",
    "    l2 = [re.sub(\"^#+\",'', e).strip() for e in l2]\n",
    "    s2 = ''\n",
    "    l3 = []\n",
    "    for e in l2:\n",
    "        e2 = re.sub(' ', '-', e)\n",
    "        l3.append(f'[{e}](#{e2})   ')\n",
    "    l3.append('')\n",
    "    l3.append(l3[0])\n",
    "    l3.append('')\n",
    "    l3.append(f'## {l2[0]}')\n",
    "    l3.append(f'[{l2[0]}]({nameFile})   ')\n",
    "    l3 = l3 + [e + '   ' for e in l2]\n",
    "    s2 = '\\n'.join(l3)\n",
    "    \n",
    "    print(s2)\n",
    "\n",
    "mIpynbContext('c07sql.ipynb')\n"
   ]
  },
  {
   "cell_type": "code",
   "execution_count": 43,
   "metadata": {},
   "outputs": [
    {
     "name": "stdout",
     "output_type": "stream",
     "text": [
      "dfdf\n"
     ]
    }
   ],
   "source": [
    "s = 'dfdf\\n'\n",
    "e=re.sub('\\n','', s)\n",
    "print(e)"
   ]
  },
  {
   "cell_type": "code",
   "execution_count": null,
   "metadata": {},
   "outputs": [],
   "source": []
  }
 ],
 "metadata": {
  "kernelspec": {
   "display_name": "Python 3",
   "language": "python",
   "name": "python3"
  },
  "language_info": {
   "codemirror_mode": {
    "name": "ipython",
    "version": 3
   },
   "file_extension": ".py",
   "mimetype": "text/x-python",
   "name": "python",
   "nbconvert_exporter": "python",
   "pygments_lexer": "ipython3",
   "version": "3.7.8"
  }
 },
 "nbformat": 4,
 "nbformat_minor": 2
}
