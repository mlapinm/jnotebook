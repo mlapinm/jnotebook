{
 "cells": [
  {
   "cell_type": "markdown",
   "metadata": {},
   "source": []
  },
  {
   "cell_type": "markdown",
   "metadata": {},
   "source": [
    "## ipynb context\n",
    "**rem**  \n",
    "можно делать json  \n"
   ]
  },
  {
   "cell_type": "markdown",
   "metadata": {},
   "source": [
    "## 1 general function"
   ]
  },
  {
   "cell_type": "code",
   "execution_count": null,
   "metadata": {},
   "outputs": [],
   "source": []
  },
  {
   "cell_type": "code",
   "execution_count": null,
   "metadata": {},
   "outputs": [],
   "source": []
  },
  {
   "cell_type": "markdown",
   "metadata": {},
   "source": [
    "## 2 functions"
   ]
  },
  {
   "cell_type": "code",
   "execution_count": 120,
   "metadata": {
    "scrolled": false
   },
   "outputs": [
    {
     "name": "stdout",
     "output_type": "stream",
     "text": [
      "[Introduction to PHP](#Introduction-to-PHP)   \n",
      "[PHP Numbers](#PHP-Numbers)   \n",
      "[Introduction to PHP Functions](#Introduction-to-PHP-Functions)   \n",
      "[Ordered Arrays](#Ordered-Arrays)   \n",
      "[Associative Arrays](#Associative-Arrays)   \n",
      "[PHP and HTML](#PHP-and-HTML)   \n",
      "[PHP and HTML](#PHP-and-HTML)   \n",
      "[HTML Form Handling in PHP](#HTML-Form-Handling-in-PHP)   \n",
      "[Booleans and Comparison Operators](#Booleans-and-Comparison-Operators)   \n",
      "[Logical Operators and Compound Conditions](#Logical-Operators-and-Compound-Conditions)   \n",
      "[Loops](#Loops)   \n",
      "[Loops in HTML](#Loops-in-HTML)   \n",
      "[Introduction to Form Validation](#Introduction-to-Form-Validation)   \n",
      "[Introduction to Regular Expressions](#Introduction-to-Regular-Expressions)   \n",
      "[Introduction to PHP Form Validation](#Introduction-to-PHP-Form-Validation)   \n",
      "[Classes and Objects](#Classes-and-Objects)   \n",
      "\n",
      "[Introduction to PHP](#Introduction-to-PHP)   \n",
      "\n",
      "## Introduction to PHP\n",
      "[Introduction to PHP](c06php.ipynb)   \n",
      "Introduction to PHP   \n",
      "PHP Numbers   \n",
      "Introduction to PHP Functions   \n",
      "Ordered Arrays   \n",
      "Associative Arrays   \n",
      "PHP and HTML   \n",
      "PHP and HTML   \n",
      "HTML Form Handling in PHP   \n",
      "Booleans and Comparison Operators   \n",
      "Logical Operators and Compound Conditions   \n",
      "Loops   \n",
      "Loops in HTML   \n",
      "Introduction to Form Validation   \n",
      "Introduction to Regular Expressions   \n",
      "Introduction to PHP Form Validation   \n",
      "Classes and Objects   \n"
     ]
    }
   ],
   "source": [
    "import re\n",
    "\n",
    "def mIpynbContext(nameFile):\n",
    "\n",
    "    l2 = []\n",
    "    with open(nameFile, encoding='utf8') as file:\n",
    "        for e in file:\n",
    "            e = e.strip()\n",
    "            e = re.sub('\"','',e)\n",
    "            e = re.sub(',$','',e)\n",
    "            e = re.sub(\"\\\\\\\\n\",'',e)\n",
    "            e = e.strip()\n",
    "            if len(re.findall('^##+', e))>0:\n",
    "                l2.append(e)\n",
    "    l2 = [re.sub(\"^#+\",'', e).strip() for e in l2]\n",
    "    s2 = ''\n",
    "    l3 = []\n",
    "    for e in l2:\n",
    "        e2 = re.sub(' ', '-', e)\n",
    "        l3.append(f'[{e}](#{e2})   ')\n",
    "    l3.append('')\n",
    "    l3.append(l3[0])\n",
    "    l3.append('')\n",
    "    l3.append(f'## {l2[0]}')\n",
    "    l3.append(f'[{l2[0]}]({nameFile})   ')\n",
    "    l3 = l3 + [e + '   ' for e in l2]\n",
    "    s2 = '\\n'.join(l3)\n",
    "    \n",
    "    print(s2)\n",
    "\n",
    "mIpynbContext('c06php.ipynb')\n"
   ]
  },
  {
   "cell_type": "code",
   "execution_count": 43,
   "metadata": {},
   "outputs": [
    {
     "name": "stdout",
     "output_type": "stream",
     "text": [
      "dfdf\n"
     ]
    }
   ],
   "source": [
    "s = 'dfdf\\n'\n",
    "e=re.sub('\\n','', s)\n",
    "print(e)"
   ]
  },
  {
   "cell_type": "code",
   "execution_count": null,
   "metadata": {},
   "outputs": [],
   "source": []
  }
 ],
 "metadata": {
  "kernelspec": {
   "display_name": "Python 3",
   "language": "python",
   "name": "python3"
  },
  "language_info": {
   "codemirror_mode": {
    "name": "ipython",
    "version": 3
   },
   "file_extension": ".py",
   "mimetype": "text/x-python",
   "name": "python",
   "nbconvert_exporter": "python",
   "pygments_lexer": "ipython3",
   "version": "3.7.8"
  }
 },
 "nbformat": 4,
 "nbformat_minor": 2
}
