{
 "cells": [
  {
   "cell_type": "markdown",
   "metadata": {},
   "source": [
    "[замена sign great to &gt](#замена-sign-great-to-&gt)   \n",
    "[text to p](#text-to-p)   "
   ]
  },
  {
   "cell_type": "markdown",
   "metadata": {},
   "source": [
    "## замена sign great to &gt"
   ]
  },
  {
   "cell_type": "code",
   "execution_count": 1,
   "metadata": {},
   "outputs": [
    {
     "name": "stdout",
     "output_type": "stream",
     "text": [
      "&lt;h2 style=\"color: blue;\"&gt;CatPhotoApp&lt;/h2&gt;\n"
     ]
    }
   ],
   "source": [
    "# Code\n",
    "import re\n",
    "\n",
    "class Code(object):\n",
    "    change = [[\"<\", \"&lt;\"], [\">\", \"&gt;\"]]\n",
    "    \n",
    "    def __init__(self):\n",
    "        self.listIn = []\n",
    "        for i in self.change:\n",
    "            self.listIn.append(i[0])\n",
    "        self.listOut = []\n",
    "        for i in self.change:\n",
    "            self.listOut.append(i[1])\n",
    "        self.pattern = \"\".join(self.listIn)    \n",
    "        pass\n",
    "    def foo(self):\n",
    "        print(self.listIn, self.listOut, self.change)\n",
    "    def test(self, s):\n",
    "        regExp = re.compile(f'[{self.pattern}]')\n",
    "        kis = False if regExp.search(s) == None else True\n",
    "        print(regExp.search(s))\n",
    "        return kis\n",
    "    \n",
    "    def replace(self, s):\n",
    "        s=s.strip()\n",
    "        sOut = ''\n",
    "        for i in s:\n",
    "            index = 0\n",
    "            bchange = False\n",
    "            for j in self.listIn:\n",
    "                if i == j:\n",
    "                    sOut += self.listOut[index]\n",
    "                    bchange = True\n",
    "                    break\n",
    "                index += 1\n",
    "            if not bchange:\n",
    "                sOut += i\n",
    "#         sOut = f\"<code>{sOut}<code>\"        \n",
    "        return sOut\n",
    "        \n",
    "code = Code()\n",
    "# code.test('dd>ddd')\n",
    "s = '''\n",
    "<h2 style=\"color: blue;\">CatPhotoApp</h2>\n",
    "'''\n",
    "print(code.replace(s))"
   ]
  },
  {
   "cell_type": "markdown",
   "metadata": {},
   "source": [
    "## text to p"
   ]
  },
  {
   "cell_type": "code",
   "execution_count": 2,
   "metadata": {},
   "outputs": [
    {
     "name": "stdout",
     "output_type": "stream",
     "text": [
      "      <p>CSS Variables can simplify the way you use media queries.</p>\n",
      "      <p>For instance, when your screen is smaller or larger than your media query break point, you can change the value of a variable, and it will apply its style wherever it is used.</p>\n"
     ]
    }
   ],
   "source": [
    "s = '''\n",
    "CSS Variables can simplify the way you use media queries.\n",
    "\n",
    "For instance, when your screen is smaller or larger than your media query break point, you can change the value of a variable, and it will apply its style wherever it is used.\n",
    "\n",
    "\n",
    "\n",
    "\n",
    "'''\n",
    "l = s.split('\\n')\n",
    "l2 = []\n",
    "for i in l:\n",
    "    if i.find(\"Passed\") == -1 \\\n",
    "    and i.strip() != \"\":\n",
    "        l2.append(i)\n",
    "l3 = []\n",
    "index = 1\n",
    "code = Code()\n",
    "for i in l2: \n",
    "   shead = code.replace(i)\n",
    "   slink = shead.replace(\" \", \"-\")\n",
    "   sli = f\"      <p>{shead}</p>\"\n",
    "   l3.append(sli)\n",
    "   index += 1\n",
    "s2 = \"\\n\".join(l3)\n",
    "print(s2)"
   ]
  },
  {
   "cell_type": "code",
   "execution_count": 5,
   "metadata": {},
   "outputs": [
    {
     "name": "stdout",
     "output_type": "stream",
     "text": [
      "<li><a class=\"nav-link\" href=\"#text-to-p\">text to p</a></li>\n",
      "<li><a class=\"nav-link\" href=\"#text-to-p\">text to p</a></li>\n"
     ]
    }
   ],
   "source": [
    "s = '''\n",
    "text to p\n",
    "text to p\n",
    "'''\n",
    "l = s.split('\\n')\n",
    "l2 = []\n",
    "for i in l:\n",
    "    if i.find(\"Passed\") == -1 \\\n",
    "    and i.strip() != \"\":\n",
    "        l2.append(i)\n",
    "l3 = []\n",
    "index = 1\n",
    "for i in l2: \n",
    "   shead = i\n",
    "   slink = shead.replace(\" \", \"-\")\n",
    "   sli = f\"<li><a class=\\\"nav-link\\\" href=\\\"#{slink}\\\">{shead}</a></li>\"\n",
    "   l3.append(sli)\n",
    "   index += 1\n",
    "s2 = \"\\n\".join(l3)\n",
    "print(s2)"
   ]
  },
  {
   "cell_type": "code",
   "execution_count": 6,
   "metadata": {
    "scrolled": false
   },
   "outputs": [
    {
     "name": "stdout",
     "output_type": "stream",
     "text": [
      "  <section class=\"main-section\" id=\"text-to-p\">\n",
      "    <header>text to p</header>\n",
      "    <article>\n",
      "      <p>\n",
      "      </p>\n",
      "      <p>\n",
      "      </p>\n",
      "    </article>\n",
      "  </section>\n",
      "  <section class=\"main-section\" id=\"text-to-p\">\n",
      "    <header>text to p</header>\n",
      "    <article>\n",
      "      <p>\n",
      "      </p>\n",
      "      <p>\n",
      "      </p>\n",
      "    </article>\n",
      "  </section>\n"
     ]
    }
   ],
   "source": [
    "import re\n",
    "# s = '''\n",
    "# '''\n",
    "l = s.split('\\n')\n",
    "l2 = []\n",
    "for i in l:\n",
    "    if i.find(\"Passed\") == -1 \\\n",
    "    and i.strip() != \"\":\n",
    "        l2.append(i)\n",
    "l3 = []\n",
    "index = 1\n",
    "for i in l2: \n",
    "#    i = re.sub(r'User.*: ', \"\", i) \n",
    "   shead = i\n",
    "   slink = shead.replace(\" \", \"-\")\n",
    "   l3.append(f\"  <section class=\\\"main-section\\\" id=\\\"{slink}\\\">\") \n",
    "   l3.append(f\"    <header>{shead}</header>\")\n",
    "   l3.append(f\"    <article>\")\n",
    "   l3.append(f\"      <p>\")\n",
    "   l3.append(f\"      </p>\")\n",
    "   l3.append(f\"      <p>\")\n",
    "   l3.append(f\"      </p>\")\n",
    "   l3.append(f\"    </article>\")\n",
    "   l3.append(f\"  </section>\")\n",
    "   index += 1\n",
    "s2 = \"\\n\".join(l3)\n",
    "print(s2)"
   ]
  },
  {
   "cell_type": "code",
   "execution_count": null,
   "metadata": {},
   "outputs": [],
   "source": []
  }
 ],
 "metadata": {
  "kernelspec": {
   "display_name": "Python 3",
   "language": "python",
   "name": "python3"
  },
  "language_info": {
   "codemirror_mode": {
    "name": "ipython",
    "version": 3
   },
   "file_extension": ".py",
   "mimetype": "text/x-python",
   "name": "python",
   "nbconvert_exporter": "python",
   "pygments_lexer": "ipython3",
   "version": "3.7.8"
  }
 },
 "nbformat": 4,
 "nbformat_minor": 2
}
