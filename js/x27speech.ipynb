{
 "cells": [
  {
   "cell_type": "markdown",
   "metadata": {},
   "source": [
    "[general](#general)  \n",
    "[recognition](#recognition)   \n",
    "[install](#install)   \n",
    "[1 recognize_google](#1-recognize_google)   \n",
    "[2 recognize_sphinx](#2-recognize_sphinx)   \n",
    "[3 Microphone](#3-Microphone)   \n",
    "[закладки](#закладки)   \n",
    "[2 mMakeMd](#2-mMakeMd)  \n",
    "[mPrepbmla](#mPrepbmla)  \n",
    "[yotube time](#yotube-time)  \n",
    "[Path](#Path)   \n",
    "[clipboard](#clipboard)   \n",
    "[1 what in clipboard](#1-what-in-clipboard)   \n",
    "[2 codecs](#2-codecs)   \n",
    "[3 end](#3-end)   \n",
    "[footer](#footer)   \n",
    "[](#)  \n",
    "[](#)  \n"
   ]
  },
  {
   "cell_type": "markdown",
   "metadata": {},
   "source": [
    "## general"
   ]
  },
  {
   "cell_type": "code",
   "execution_count": 1,
   "metadata": {},
   "outputs": [
    {
     "name": "stdout",
     "output_type": "stream",
     "text": [
      "ok\n"
     ]
    }
   ],
   "source": [
    "def mReadFile(fileName):\n",
    "    s = ''\n",
    "    with open(fileName, encoding=\"utf8\") as file:\n",
    "        s = file.read()\n",
    "    return s\n",
    "\n",
    "def mWriteFile(fileName, text):\n",
    "    with open(fileName, \"w\", encoding=\"utf8\") as file:\n",
    "        file.write(text)\n",
    "    \n",
    "\n",
    "def mStrToList(s):\n",
    "    l = s.split('\\n')\n",
    "    l2 = []\n",
    "    for v in l:\n",
    "        l2.append(v.strip())\n",
    "        pass\n",
    "    l2 = list(filter(lambda v: len(v.strip())>0, l2))\n",
    "#     print('l2', l2)\n",
    "    return l2\n",
    "print('ok')\n",
    "\n"
   ]
  },
  {
   "cell_type": "markdown",
   "metadata": {},
   "source": [
    "## recognition"
   ]
  },
  {
   "cell_type": "markdown",
   "metadata": {},
   "source": [
    "### install\n",
    "```\n",
    "pip install pipwin \n",
    "pipwin install pyaudio\n",
    "pipwin install pocketsphinx\n",
    "```"
   ]
  },
  {
   "cell_type": "markdown",
   "metadata": {},
   "source": [
    "## 1 recognize_google"
   ]
  },
  {
   "cell_type": "code",
   "execution_count": 156,
   "metadata": {},
   "outputs": [
    {
     "name": "stdout",
     "output_type": "stream",
     "text": [
      "3.8.1\n"
     ]
    }
   ],
   "source": [
    "import speech_recognition as sr\n",
    "print(sr.__version__)"
   ]
  },
  {
   "cell_type": "code",
   "execution_count": 157,
   "metadata": {},
   "outputs": [
    {
     "data": {
      "text/plain": [
       "'the stale smell of old beer lingers it takes heat to bring out the odor a cold dip restores health and zest a salt pickle taste fine with ham tacos al Pastore are my favorite a zestful food is be hot cross bun'"
      ]
     },
     "execution_count": 157,
     "metadata": {},
     "output_type": "execute_result"
    }
   ],
   "source": [
    "import speech_recognition as sr\n",
    "\n",
    "r = sr.Recognizer()\n",
    "harvard = sr.AudioFile('harvard.wav')\n",
    "with harvard as source:\n",
    "    audio = r.record(source)\n",
    "r.recognize_google(audio)    \n"
   ]
  },
  {
   "cell_type": "markdown",
   "metadata": {},
   "source": [
    "## 2 recognize_sphinx"
   ]
  },
  {
   "cell_type": "markdown",
   "metadata": {},
   "source": []
  },
  {
   "cell_type": "code",
   "execution_count": 158,
   "metadata": {},
   "outputs": [
    {
     "data": {
      "text/plain": [
       "\"this they'll smell of old we're lingers it takes heat to bring out the odor called it restores health and zest case all the colt is fine with him couples all pastore my favorite is as full food is the hot cross mon\""
      ]
     },
     "execution_count": 158,
     "metadata": {},
     "output_type": "execute_result"
    }
   ],
   "source": [
    "import speech_recognition as sr\n",
    "\n",
    "r = sr.Recognizer()\n",
    "harvard = sr.AudioFile('harvard.wav')\n",
    "with harvard as source:\n",
    "    audio = r.record(source)\n",
    "r.recognize_sphinx(audio)    \n"
   ]
  },
  {
   "cell_type": "markdown",
   "metadata": {},
   "source": [
    "## 3 Microphone"
   ]
  },
  {
   "cell_type": "code",
   "execution_count": 159,
   "metadata": {},
   "outputs": [
    {
     "name": "stdout",
     "output_type": "stream",
     "text": [
      "Say something!\n",
      "Sphinx could not understand audio\n"
     ]
    }
   ],
   "source": [
    "import speech_recognition as sr  \n",
    "   \n",
    "# obtain audio from the microphone  \n",
    "r = sr.Recognizer()  \n",
    "with sr.Microphone() as source:  \n",
    "    print(\"Say something!\")  \n",
    "    audio = r.listen(source)  \n",
    "\n",
    "# recognize speech using Sphinx  \n",
    "try:  \n",
    "    print(\"Sphinx thinks you said '\" + r.recognize_sphinx(audio) + \"'\")  \n",
    "except sr.UnknownValueError:  \n",
    "    print(\"Sphinx could not understand audio\")  \n",
    "except sr.RequestError as e:  \n",
    "    print(\"Sphinx error; {0}\".format(e))  "
   ]
  },
  {
   "cell_type": "code",
   "execution_count": 160,
   "metadata": {},
   "outputs": [
    {
     "ename": "FileNotFoundError",
     "evalue": "[Errno 2] No such file or directory: '2.wav'",
     "output_type": "error",
     "traceback": [
      "\u001b[1;31m---------------------------------------------------------------------------\u001b[0m",
      "\u001b[1;31mFileNotFoundError\u001b[0m                         Traceback (most recent call last)",
      "\u001b[1;32m<ipython-input-160-259949533f61>\u001b[0m in \u001b[0;36m<module>\u001b[1;34m\u001b[0m\n\u001b[0;32m      3\u001b[0m \u001b[0mr\u001b[0m \u001b[1;33m=\u001b[0m \u001b[0msr\u001b[0m\u001b[1;33m.\u001b[0m\u001b[0mRecognizer\u001b[0m\u001b[1;33m(\u001b[0m\u001b[1;33m)\u001b[0m\u001b[1;33m\u001b[0m\u001b[1;33m\u001b[0m\u001b[0m\n\u001b[0;32m      4\u001b[0m \u001b[0mharvard\u001b[0m \u001b[1;33m=\u001b[0m \u001b[0msr\u001b[0m\u001b[1;33m.\u001b[0m\u001b[0mAudioFile\u001b[0m\u001b[1;33m(\u001b[0m\u001b[1;34m'2.wav'\u001b[0m\u001b[1;33m)\u001b[0m\u001b[1;33m\u001b[0m\u001b[1;33m\u001b[0m\u001b[0m\n\u001b[1;32m----> 5\u001b[1;33m \u001b[1;32mwith\u001b[0m \u001b[0mharvard\u001b[0m \u001b[1;32mas\u001b[0m \u001b[0msource\u001b[0m\u001b[1;33m:\u001b[0m\u001b[1;33m\u001b[0m\u001b[1;33m\u001b[0m\u001b[0m\n\u001b[0m\u001b[0;32m      6\u001b[0m     \u001b[0maudio\u001b[0m \u001b[1;33m=\u001b[0m \u001b[0mr\u001b[0m\u001b[1;33m.\u001b[0m\u001b[0mrecord\u001b[0m\u001b[1;33m(\u001b[0m\u001b[0msource\u001b[0m\u001b[1;33m)\u001b[0m\u001b[1;33m\u001b[0m\u001b[1;33m\u001b[0m\u001b[0m\n\u001b[0;32m      7\u001b[0m \u001b[0ms\u001b[0m \u001b[1;33m=\u001b[0m \u001b[1;34m'11'\u001b[0m\u001b[1;33m\u001b[0m\u001b[1;33m\u001b[0m\u001b[0m\n",
      "\u001b[1;32mc:\\python36\\lib\\site-packages\\speech_recognition\\__init__.py\u001b[0m in \u001b[0;36m__enter__\u001b[1;34m(self)\u001b[0m\n\u001b[0;32m    201\u001b[0m         \u001b[1;32mtry\u001b[0m\u001b[1;33m:\u001b[0m\u001b[1;33m\u001b[0m\u001b[1;33m\u001b[0m\u001b[0m\n\u001b[0;32m    202\u001b[0m             \u001b[1;31m# attempt to read the file as WAV\u001b[0m\u001b[1;33m\u001b[0m\u001b[1;33m\u001b[0m\u001b[1;33m\u001b[0m\u001b[0m\n\u001b[1;32m--> 203\u001b[1;33m             \u001b[0mself\u001b[0m\u001b[1;33m.\u001b[0m\u001b[0maudio_reader\u001b[0m \u001b[1;33m=\u001b[0m \u001b[0mwave\u001b[0m\u001b[1;33m.\u001b[0m\u001b[0mopen\u001b[0m\u001b[1;33m(\u001b[0m\u001b[0mself\u001b[0m\u001b[1;33m.\u001b[0m\u001b[0mfilename_or_fileobject\u001b[0m\u001b[1;33m,\u001b[0m \u001b[1;34m\"rb\"\u001b[0m\u001b[1;33m)\u001b[0m\u001b[1;33m\u001b[0m\u001b[1;33m\u001b[0m\u001b[0m\n\u001b[0m\u001b[0;32m    204\u001b[0m             \u001b[0mself\u001b[0m\u001b[1;33m.\u001b[0m\u001b[0mlittle_endian\u001b[0m \u001b[1;33m=\u001b[0m \u001b[1;32mTrue\u001b[0m  \u001b[1;31m# RIFF WAV is a little-endian format (most ``audioop`` operations assume that the frames are stored in little-endian form)\u001b[0m\u001b[1;33m\u001b[0m\u001b[1;33m\u001b[0m\u001b[0m\n\u001b[0;32m    205\u001b[0m         \u001b[1;32mexcept\u001b[0m \u001b[1;33m(\u001b[0m\u001b[0mwave\u001b[0m\u001b[1;33m.\u001b[0m\u001b[0mError\u001b[0m\u001b[1;33m,\u001b[0m \u001b[0mEOFError\u001b[0m\u001b[1;33m)\u001b[0m\u001b[1;33m:\u001b[0m\u001b[1;33m\u001b[0m\u001b[1;33m\u001b[0m\u001b[0m\n",
      "\u001b[1;32mc:\\python36\\lib\\wave.py\u001b[0m in \u001b[0;36mopen\u001b[1;34m(f, mode)\u001b[0m\n\u001b[0;32m    508\u001b[0m             \u001b[0mmode\u001b[0m \u001b[1;33m=\u001b[0m \u001b[1;34m'rb'\u001b[0m\u001b[1;33m\u001b[0m\u001b[1;33m\u001b[0m\u001b[0m\n\u001b[0;32m    509\u001b[0m     \u001b[1;32mif\u001b[0m \u001b[0mmode\u001b[0m \u001b[1;32min\u001b[0m \u001b[1;33m(\u001b[0m\u001b[1;34m'r'\u001b[0m\u001b[1;33m,\u001b[0m \u001b[1;34m'rb'\u001b[0m\u001b[1;33m)\u001b[0m\u001b[1;33m:\u001b[0m\u001b[1;33m\u001b[0m\u001b[1;33m\u001b[0m\u001b[0m\n\u001b[1;32m--> 510\u001b[1;33m         \u001b[1;32mreturn\u001b[0m \u001b[0mWave_read\u001b[0m\u001b[1;33m(\u001b[0m\u001b[0mf\u001b[0m\u001b[1;33m)\u001b[0m\u001b[1;33m\u001b[0m\u001b[1;33m\u001b[0m\u001b[0m\n\u001b[0m\u001b[0;32m    511\u001b[0m     \u001b[1;32melif\u001b[0m \u001b[0mmode\u001b[0m \u001b[1;32min\u001b[0m \u001b[1;33m(\u001b[0m\u001b[1;34m'w'\u001b[0m\u001b[1;33m,\u001b[0m \u001b[1;34m'wb'\u001b[0m\u001b[1;33m)\u001b[0m\u001b[1;33m:\u001b[0m\u001b[1;33m\u001b[0m\u001b[1;33m\u001b[0m\u001b[0m\n\u001b[0;32m    512\u001b[0m         \u001b[1;32mreturn\u001b[0m \u001b[0mWave_write\u001b[0m\u001b[1;33m(\u001b[0m\u001b[0mf\u001b[0m\u001b[1;33m)\u001b[0m\u001b[1;33m\u001b[0m\u001b[1;33m\u001b[0m\u001b[0m\n",
      "\u001b[1;32mc:\\python36\\lib\\wave.py\u001b[0m in \u001b[0;36m__init__\u001b[1;34m(self, f)\u001b[0m\n\u001b[0;32m    158\u001b[0m         \u001b[0mself\u001b[0m\u001b[1;33m.\u001b[0m\u001b[0m_i_opened_the_file\u001b[0m \u001b[1;33m=\u001b[0m \u001b[1;32mNone\u001b[0m\u001b[1;33m\u001b[0m\u001b[1;33m\u001b[0m\u001b[0m\n\u001b[0;32m    159\u001b[0m         \u001b[1;32mif\u001b[0m \u001b[0misinstance\u001b[0m\u001b[1;33m(\u001b[0m\u001b[0mf\u001b[0m\u001b[1;33m,\u001b[0m \u001b[0mstr\u001b[0m\u001b[1;33m)\u001b[0m\u001b[1;33m:\u001b[0m\u001b[1;33m\u001b[0m\u001b[1;33m\u001b[0m\u001b[0m\n\u001b[1;32m--> 160\u001b[1;33m             \u001b[0mf\u001b[0m \u001b[1;33m=\u001b[0m \u001b[0mbuiltins\u001b[0m\u001b[1;33m.\u001b[0m\u001b[0mopen\u001b[0m\u001b[1;33m(\u001b[0m\u001b[0mf\u001b[0m\u001b[1;33m,\u001b[0m \u001b[1;34m'rb'\u001b[0m\u001b[1;33m)\u001b[0m\u001b[1;33m\u001b[0m\u001b[1;33m\u001b[0m\u001b[0m\n\u001b[0m\u001b[0;32m    161\u001b[0m             \u001b[0mself\u001b[0m\u001b[1;33m.\u001b[0m\u001b[0m_i_opened_the_file\u001b[0m \u001b[1;33m=\u001b[0m \u001b[0mf\u001b[0m\u001b[1;33m\u001b[0m\u001b[1;33m\u001b[0m\u001b[0m\n\u001b[0;32m    162\u001b[0m         \u001b[1;31m# else, assume it is an open file object already\u001b[0m\u001b[1;33m\u001b[0m\u001b[1;33m\u001b[0m\u001b[1;33m\u001b[0m\u001b[0m\n",
      "\u001b[1;31mFileNotFoundError\u001b[0m: [Errno 2] No such file or directory: '2.wav'"
     ]
    }
   ],
   "source": [
    "import speech_recognition as sr\n",
    "\n",
    "r = sr.Recognizer()\n",
    "harvard = sr.AudioFile('2.wav')\n",
    "with harvard as source:\n",
    "    audio = r.record(source)\n",
    "s = '11'\n",
    "s = r.recognize_sphinx(audio)    \n",
    "mWriteFile(\"x27c.txt\", s)\n",
    "print(len(s))"
   ]
  },
  {
   "cell_type": "markdown",
   "metadata": {},
   "source": [
    "## закладки\n"
   ]
  },
  {
   "cell_type": "markdown",
   "metadata": {},
   "source": [
    "## 1 mBookmarksFolder\n",
    "- mBookmarksFolder(txt, word, lst)   \n",
    "принимает hrome export bookmarks  \n",
    "искомая папка с закладками (tmp02)  \n",
    "добавляет список строк вида `[]()`  \n",
    "[]()  \n"
   ]
  },
  {
   "cell_type": "code",
   "execution_count": 2,
   "metadata": {},
   "outputs": [
    {
     "name": "stdout",
     "output_type": "stream",
     "text": [
      "18\n"
     ]
    }
   ],
   "source": [
    "from bs4 import BeautifulSoup as bf\n",
    "\n",
    "def mReadFile(fileName):\n",
    "    s = ''\n",
    "    with open(fileName, encoding=\"utf8\") as file:\n",
    "        s = file.read()\n",
    "    return s\n",
    "\n",
    "\n",
    "def mWriteFile(fileName, text):\n",
    "    with open(fileName, \"w\", encoding=\"utf8\") as file:\n",
    "        file.write(text)\n",
    "    \n",
    "\n",
    "\n",
    "def mBookmarksFolder(txt, word, lst):\n",
    "    soup = bf(txt, 'lxml')\n",
    "    soup2 = soup.find(string=word)\n",
    "    soup3 = soup2.find_parent().find_parent()\n",
    "    soup4 = soup3.find_parent()\n",
    "    soup5 = soup4.find_all([\"dl\",\"h3\"])\n",
    "\n",
    "    ll = []\n",
    "    for tag in soup5:\n",
    "        if tag.name == \"h3\":\n",
    "            ll.append([tag.text])\n",
    "        elif tag.name == \"dl\":\n",
    "            la0 = tag.find_all(\"a\")\n",
    "            la2 = [[e.text, e['href']] for e in la0 if e is not None]\n",
    "            ll[-1].append(la2)\n",
    "\n",
    "    for e in ll:\n",
    "        if e[0]==word:\n",
    "            for e2 in e[1]:\n",
    "                s2 = f\"[{e2[0]}]({e2[1]})\"\n",
    "                lst.append(s2)\n",
    " \n",
    "    \n",
    "txt = mReadFile(\"x27a.txt\")\n",
    "word = \"tmp02\"\n",
    "# word = \"a2\"\n",
    "lst = []\n",
    "mBookmarksFolder(txt, word, lst)\n",
    "mWriteFile(\"x27b.txt\", '   \\n'.join(lst))\n",
    "    \n",
    "print(len(lst))\n"
   ]
  },
  {
   "cell_type": "code",
   "execution_count": 39,
   "metadata": {},
   "outputs": [
    {
     "name": "stdout",
     "output_type": "stream",
     "text": [
      "1\n"
     ]
    }
   ],
   "source": [
    "import random\n",
    "\n",
    "x = random.randint(1,3)\n",
    "x = random.choice([1,3])\n",
    "print(x)"
   ]
  },
  {
   "cell_type": "markdown",
   "metadata": {},
   "source": [
    "java  \n",
    "Math.nextInt  \n",
    "\n",
    "\n",
    "import java.util.Collections;\n",
    "[...]\n",
    "Collection.shuffle(elements);\n",
    "element_answer = elements[0];\n"
   ]
  },
  {
   "cell_type": "markdown",
   "metadata": {},
   "source": [
    "```\n",
    "D:\\mailCloud\\prjother\\089hosts\\jnotebook\\js\n",
    "D:\\mailCloud\\prjother\\089hosts\\jnotebook\\js\\bookmarks_0610.html\n",
    "```"
   ]
  },
  {
   "cell_type": "markdown",
   "metadata": {},
   "source": [
    "## 2 mMakeMd\n",
    "x27bmka x27bmkb  \n",
    "from `[head](http..)` to  \n",
    "```\n",
    "[head1](#head1)\n",
    "[head2](#head2)\n",
    "\n",
    "\n",
    "## head1\n",
    "[head1](http1)\n",
    "## head1\n",
    "[head2](http2)\n",
    "```"
   ]
  },
  {
   "cell_type": "code",
   "execution_count": 4,
   "metadata": {},
   "outputs": [
    {
     "name": "stdout",
     "output_type": "stream",
     "text": [
      "18 72\n"
     ]
    }
   ],
   "source": [
    "import re\n",
    "\n",
    "def mMakeMd(l1, l2, l11 = []):\n",
    "    l1b = []\n",
    "    k = 0\n",
    "    for e in l1:\n",
    "        e2 = []\n",
    "        match = re.search('\\[(.*)\\]\\((.*)\\)', e)\n",
    "#         match = re.search('\\[.*\\]\\(.*\\)', e)\n",
    "        if match and len(match.groups()) > 1:\n",
    "            e2.append(match[1])\n",
    "            e3 = match[1].replace(' ', '-')\n",
    "            e2.append(e3)\n",
    "            e2.append(match[2])\n",
    "            if len(l11)>k:\n",
    "                e2.append(l11[k])\n",
    "            else:\n",
    "                e2.append('')\n",
    "            l1b.append(e2)\n",
    "            \n",
    "        k += 1    \n",
    "        pass\n",
    "    l2b = []\n",
    "    for e in l1b:\n",
    "        e2 = []\n",
    "        e2.append(f'[{e[0]}](#{e[1]})')\n",
    "        e2.append(f'## {e[0]}')\n",
    "        e2.append(f'[{e[0]}]({e[2]})')\n",
    "        e2.append(e[3])\n",
    "        l2b.append(e2)\n",
    "        pass\n",
    "\n",
    "    l2link = []\n",
    "    k = 1\n",
    "    for e in l2b:\n",
    "        l2link.append(f'{k} {e[0]}')\n",
    "        k +=1\n",
    "        pass\n",
    "\n",
    "    l2paragrahp = []\n",
    "    for e in l2b:\n",
    "        l2paragrahp.append(e[1])\n",
    "        l2paragrahp.append(e[2])\n",
    "        l2paragrahp.append(e[3])\n",
    "        pass\n",
    "\n",
    "    l2a = l2link + l2paragrahp\n",
    "    \n",
    "    for e in l2a:\n",
    "        l2.append(e+\"  \")\n",
    "    \n",
    "#     print(l2)\n",
    "#     print(l2link)\n",
    "#     print(l1b)\n",
    "    pass\n",
    "\n",
    "s = mReadFile('x27bmka.txt')\n",
    "l1 = mStrToList(s)\n",
    "l2 = []\n",
    "s = mReadFile('x27bmla.txt')\n",
    "l11 = mStrToList(s)\n",
    "# print(l11[:])\n",
    "mMakeMd(l1, l2, l11)\n",
    "for e in l2:\n",
    "#     print(e)\n",
    "    pass\n",
    "mWriteFile('x27bmkb.txt', '\\n'.join(l2))\n",
    "print(len(l1), len(l2))"
   ]
  },
  {
   "cell_type": "markdown",
   "metadata": {},
   "source": [
    "```\n",
    "in:\n",
    "[1 1](12)  \n",
    "[21](22)\n",
    "[31](32)\n",
    "\n",
    "out:\n",
    "[1 1](#1-1)  \n",
    "[21](#21)  \n",
    "[31](#31)  \n",
    "## 1 1  \n",
    "[1 1](12)  \n",
    "[b1201 - github](https://github.com/mlapinm/b04andr)  \n",
    "## 21  \n",
    "[21](22)  \n",
    "\n",
    "```"
   ]
  },
  {
   "cell_type": "markdown",
   "metadata": {},
   "source": [
    "## mPrepbmla"
   ]
  },
  {
   "cell_type": "code",
   "execution_count": 27,
   "metadata": {},
   "outputs": [],
   "source": [
    "\n",
    "s = '''\n",
    "l2012var\n",
    "l2022\n",
    "l2032\n",
    "l2042\n",
    "l2052\n",
    "l2062\n",
    "l2072\n",
    "l2082\n",
    "l2092\n",
    "l2102\n",
    "l2112\n",
    "l2122\n",
    "l2132\n",
    "l2142\n",
    "l2152\n",
    "l2162\n",
    "l2172\n",
    "l2182\n",
    "l2192\n",
    "l2202\n",
    "'''\n",
    "sn = ['https://github.com/mlapinm/b03andr', ' - github']\n"
   ]
  },
  {
   "cell_type": "code",
   "execution_count": 28,
   "metadata": {},
   "outputs": [
    {
     "name": "stdout",
     "output_type": "stream",
     "text": [
      "[l2012var - github](https://github.com/mlapinm/b03andr)\n",
      "[l2022 - github](https://github.com/mlapinm/b03andr)\n",
      "[l2032 - github](https://github.com/mlapinm/b03andr)\n",
      "[l2042 - github](https://github.com/mlapinm/b03andr)\n",
      "[l2052 - github](https://github.com/mlapinm/b03andr)\n",
      "[l2062 - github](https://github.com/mlapinm/b03andr)\n",
      "[l2072 - github](https://github.com/mlapinm/b03andr)\n",
      "[l2082 - github](https://github.com/mlapinm/b03andr)\n",
      "[l2092 - github](https://github.com/mlapinm/b03andr)\n",
      "[l2102 - github](https://github.com/mlapinm/b03andr)\n",
      "[l2112 - github](https://github.com/mlapinm/b03andr)\n",
      "[l2122 - github](https://github.com/mlapinm/b03andr)\n",
      "[l2132 - github](https://github.com/mlapinm/b03andr)\n",
      "[l2142 - github](https://github.com/mlapinm/b03andr)\n",
      "[l2152 - github](https://github.com/mlapinm/b03andr)\n",
      "[l2162 - github](https://github.com/mlapinm/b03andr)\n",
      "[l2172 - github](https://github.com/mlapinm/b03andr)\n",
      "[l2182 - github](https://github.com/mlapinm/b03andr)\n",
      "[l2192 - github](https://github.com/mlapinm/b03andr)\n",
      "[l2202 - github](https://github.com/mlapinm/b03andr)\n"
     ]
    }
   ],
   "source": [
    "l = mStrToList(s)\n",
    "for e in l:\n",
    "    print(f'[{e}{sn[1]}]({sn[0]})')\n",
    "    \n",
    "    pass\n"
   ]
  },
  {
   "cell_type": "markdown",
   "metadata": {},
   "source": [
    "## yotube time"
   ]
  },
  {
   "cell_type": "code",
   "execution_count": 5,
   "metadata": {},
   "outputs": [],
   "source": [
    "surl = 'https://www.youtube.com/watch?v=_8V5o2UHG0E'\n",
    "stime = '&t=s'\n",
    "s = '''\n",
    "⌨️ (0:00:00) Data Visualization Course Overview\n",
    "⌨️ (0:02:50) Why Visualize Data?\n",
    "⌨️ (0:14:28) Inputs for Data Visualization: Data & Tasks\n",
    "⌨️ (0:29:31) Intro to Javascript\n",
    "\n",
    "⌨️ (1:57:35) Intro to HTML, CSS & SVG\n",
    "\n",
    "⌨️ (2:31:56) Intro to D3.js - Let's Make a Face!\n",
    "\n",
    "⌨️ (3:15:06) Making a Bar Chart with D3.js and SVG\n",
    "\n",
    "⌨️ (3:44:02) Customizing Axes of a Bar Chart with D3.js\n",
    "\n",
    "⌨️ (4:10:03) Making a Scatter Plot with D3.js\n",
    "\n",
    "⌨️ (4:34:22) Making Line and Area Charts with D3.js\n",
    "\n",
    "⌨️ (5:04:36) The General Update Pattern of D3.js\n",
    "\n",
    "⌨️ (6:04:30) Marks & Channels in Data Visualization\n",
    "⌨️ (6:28:43) Interaction with Unidirectional Data Flow using D3.js\n",
    "\n",
    "⌨️ (6:45:13) Making a World Map with D3\n",
    "\n",
    "⌨️ (7:02:43) Cheap Tricks for Interaction on a D3.js World Map\n",
    "\n",
    "⌨️ (7:25:37) Blank Canvas\n",
    "\n",
    "⌨️ (7:30:43) Building a Tree Visualization of World Countries with D3.js\n",
    "\n",
    "⌨️ (8:04:48) Color and Size Legends with D3.js\n",
    "\n",
    "⌨️ (8:33:27) Choropleth Map with D3.js\n",
    "\n",
    "⌨️ (9:05:16) Interactive Filtering on a Choropleth Map\n",
    "\n",
    "⌨️ (9:51:00) Using Color in Visualization\n",
    "⌨️ (10:07:54) Scatter Plot with Menus\n",
    "\n",
    "⌨️ (10:54:03) Circles on a Map\n",
    "\n",
    "⌨️ (11:35:51) Line Chart with Multiple Lines\n",
    "\n",
    "⌨️ (11:59:34) Melting and Munging Data with JavaScript\n",
    "\n",
    "⌨️ (12:28:29) Selecting a Year on a Line Chart\n",
    "'''"
   ]
  },
  {
   "cell_type": "code",
   "execution_count": 6,
   "metadata": {},
   "outputs": [
    {
     "name": "stdout",
     "output_type": "stream",
     "text": [
      "[Data Visualization Course Overview](https://www.youtube.com/watch?v=_8V5o2UHG0E&t=0s)  \n",
      "[Why Visualize Data?](https://www.youtube.com/watch?v=_8V5o2UHG0E&t=170s)  \n",
      "[Inputs for Data Visualization: Data & Tasks](https://www.youtube.com/watch?v=_8V5o2UHG0E&t=868s)  \n",
      "[Intro to Javascript](https://www.youtube.com/watch?v=_8V5o2UHG0E&t=1771s)  \n",
      "[Intro to HTML, CSS & SVG](https://www.youtube.com/watch?v=_8V5o2UHG0E&t=3455s)  \n",
      "[Intro to D3.js - Let's Make a Face!](https://www.youtube.com/watch?v=_8V5o2UHG0E&t=1916s)  \n",
      "[Making a Bar Chart with D3.js and SVG](https://www.youtube.com/watch?v=_8V5o2UHG0E&t=906s)  \n",
      "[Customizing Axes of a Bar Chart with D3.js](https://www.youtube.com/watch?v=_8V5o2UHG0E&t=2642s)  \n",
      "[Making a Scatter Plot with D3.js](https://www.youtube.com/watch?v=_8V5o2UHG0E&t=603s)  \n",
      "[Making Line and Area Charts with D3.js](https://www.youtube.com/watch?v=_8V5o2UHG0E&t=2062s)  \n",
      "[The General Update Pattern of D3.js](https://www.youtube.com/watch?v=_8V5o2UHG0E&t=276s)  \n",
      "[Marks & Channels in Data Visualization](https://www.youtube.com/watch?v=_8V5o2UHG0E&t=270s)  \n",
      "[Interaction with Unidirectional Data Flow using D3.js](https://www.youtube.com/watch?v=_8V5o2UHG0E&t=1723s)  \n",
      "[Making a World Map with D3](https://www.youtube.com/watch?v=_8V5o2UHG0E&t=2713s)  \n",
      "[Cheap Tricks for Interaction on a D3.js World Map](https://www.youtube.com/watch?v=_8V5o2UHG0E&t=163s)  \n",
      "[Blank Canvas](https://www.youtube.com/watch?v=_8V5o2UHG0E&t=1537s)  \n",
      "[Building a Tree Visualization of World Countries with D3.js](https://www.youtube.com/watch?v=_8V5o2UHG0E&t=1843s)  \n",
      "[Color and Size Legends with D3.js](https://www.youtube.com/watch?v=_8V5o2UHG0E&t=288s)  \n",
      "[Choropleth Map with D3.js](https://www.youtube.com/watch?v=_8V5o2UHG0E&t=2007s)  \n",
      "[Interactive Filtering on a Choropleth Map](https://www.youtube.com/watch?v=_8V5o2UHG0E&t=316s)  \n",
      "[Using Color in Visualization](https://www.youtube.com/watch?v=_8V5o2UHG0E&t=3060s)  \n",
      "[Scatter Plot with Menus](https://www.youtube.com/watch?v=_8V5o2UHG0E&t=474s)  \n",
      "[Circles on a Map](https://www.youtube.com/watch?v=_8V5o2UHG0E&t=3243s)  \n",
      "[Line Chart with Multiple Lines](https://www.youtube.com/watch?v=_8V5o2UHG0E&t=2151s)  \n",
      "[Melting and Munging Data with JavaScript](https://www.youtube.com/watch?v=_8V5o2UHG0E&t=3574s)  \n",
      "[Selecting a Year on a Line Chart](https://www.youtube.com/watch?v=_8V5o2UHG0E&t=1709s)  \n"
     ]
    }
   ],
   "source": [
    "import re\n",
    "\n",
    "def mListNum(s2, l):\n",
    "    '''\n",
    "    '0:01:02' => [0, 1, 2] \n",
    "    '''\n",
    "    k = 0\n",
    "    l2 = []\n",
    "    while 1:\n",
    "        k2 = s2.find(':', k)\n",
    "        if k2<0:\n",
    "            l2.append(s2[k:])\n",
    "            break\n",
    "        l2.append(s2[k:k2])\n",
    "        k = k2 + 1\n",
    "    while len(l2)<3:\n",
    "        l2.insert(0, 0)\n",
    "    for e in l2:\n",
    "        l.append(int(e))\n",
    "        \n",
    "\n",
    "l = mStrToList(s)\n",
    "# l = l[:2]\n",
    "l2 = []\n",
    "for e in l:\n",
    "    match = re.search(r'^.*((\\d:)?\\d\\d:\\d\\d)\\) ', e)\n",
    "    k = len(match.groups()) if match else -1\n",
    "    if k>0:\n",
    "        e2 = e.replace(match[0],'')\n",
    "        e3 = match[1]\n",
    "        lt = []\n",
    "        mListNum(e3, lt)\n",
    "        lt.reverse()\n",
    "        m = 1\n",
    "        e4 = 0\n",
    "        for e in lt:\n",
    "            e4 += e*m\n",
    "            m *= 60\n",
    "        e5 = f'[{e2}]({surl}{stime[:-1]}{e4}{stime[-1:]})  '\n",
    "        l2.append(e5)\n",
    "\n",
    "        \n",
    "for x in l2:\n",
    "    print(x)\n",
    "    \n"
   ]
  },
  {
   "cell_type": "code",
   "execution_count": 15,
   "metadata": {},
   "outputs": [
    {
     "name": "stdout",
     "output_type": "stream",
     "text": [
      "[0, 1, 2]\n"
     ]
    }
   ],
   "source": [
    "def mListNum(s2, l):\n",
    "    '''\n",
    "    '0:01:02' => [0, 1, 2] \n",
    "    '''\n",
    "    k = 0\n",
    "    l2 = []\n",
    "    while 1:\n",
    "        k2 = s2.find(':', k)\n",
    "        if k2<0:\n",
    "            l2.append(s2[k:])\n",
    "            break\n",
    "        l2.append(s2[k:k2])\n",
    "        k = k2 + 1\n",
    "    while len(l2)<3:\n",
    "        l2.insert(0, 0)\n",
    "    for e in l2:\n",
    "        l.append(int(e))\n",
    "\n",
    "s2 = '01:02'\n",
    "l2 = []\n",
    "mListNum(s2, l2)\n",
    "print(l2)"
   ]
  },
  {
   "cell_type": "markdown",
   "metadata": {},
   "source": [
    "## Path"
   ]
  },
  {
   "cell_type": "code",
   "execution_count": 1,
   "metadata": {},
   "outputs": [],
   "source": [
    "s2 = '''\n",
    "[English Speaking 02](b0424vip.md)  \n",
    "\n",
    "'''\n"
   ]
  },
  {
   "cell_type": "code",
   "execution_count": 2,
   "metadata": {},
   "outputs": [
    {
     "name": "stdout",
     "output_type": "stream",
     "text": [
      "\n",
      "[English Speaking 02](htmla2present/b0424vip.md)  \n",
      "\n",
      "\n"
     ]
    }
   ],
   "source": [
    "import re\n",
    "\n",
    "def mPath(s2, s3):\n",
    "    l = s2.split('\\n')\n",
    "    l2 = []\n",
    "    for e in l:\n",
    "        k = e.find('http')\n",
    "        if k < 0:\n",
    "            k = e.find('](#')\n",
    "        s5 = ''\n",
    "        if k<0:\n",
    "            # если есть палка, то заменяется то что до палки и палка \n",
    "            s5 = re.sub(f'\\]\\((\\w+\\/)?', f']({s3}/', e)\n",
    "        else:\n",
    "            s5 = e\n",
    "        pass\n",
    "        l2.append(s5)\n",
    "    s4 = '\\n'.join(l2)\n",
    "    return s4\n",
    "\n",
    "s4 = mPath(s2,'htmla2present')\n",
    "print(s4)"
   ]
  },
  {
   "cell_type": "markdown",
   "metadata": {},
   "source": [
    "## clipboard\n",
    "[Module win32clipboard](http://timgolden.me.uk/pywin32-docs/win32clipboard.html)   \n",
    "[CF_BITMAP 2](https://docs.microsoft.com/en-us/windows/win32/dataxchg/standard-clipboard-formats)  \n",
    "[WIN32 API. БУФЕР ОБМЕНА](http://www.cyberguru.ru/programming/win32/win32-clipboard.html?showall=&start=26)\n"
   ]
  },
  {
   "cell_type": "markdown",
   "metadata": {},
   "source": [
    "### 1 what in clipboard"
   ]
  },
  {
   "cell_type": "code",
   "execution_count": 1,
   "metadata": {},
   "outputs": [
    {
     "name": "stdout",
     "output_type": "stream",
     "text": [
      "49431\n",
      "b'Version:0.9\\r\\nStartHTML:0000000105\\r\\nEndHTML:0000000336\\r\\nStartFragment:0000000141\\r\\nEndFragment:0000000300\\r\\n<html>\\r\\n<body>\\r\\n<!--StartFragment--><a href=\"https://interzet.domru.ru/\">\\xd0\\x94\\xd0\\x9e\\xd0\\x9c.RU \\xe2\\x80\\x93 \\xd0\\xb8\\xd0\\xbd\\xd1\\x82\\xd0\\xb5\\xd1\\x80\\xd0\\xbd\\xd0\\xb5\\xd1\\x82-\\xd0\\xbf\\xd1\\x80\\xd0\\xbe\\xd0\\xb2\\xd0\\xb0\\xd0\\xb9\\xd0\\xb4\\xd0\\xb5\\xd1\\x80 \\xd0\\xb2 \\xd0\\xa1\\xd0\\xb0\\xd0\\xbd\\xd0\\xba\\xd1\\x82-\\xd0\\x9f\\xd0\\xb5\\xd1\\x82\\xd0\\xb5\\xd1\\x80\\xd0\\xb1\\xd1\\x83\\xd1\\x80\\xd0\\xb3\\xd0\\xb5 | \\xd0\\x9e\\xd1\\x84\\xd0\\xb8\\xd1\\x86\\xd0\\xb8\\xd0\\xb0\\xd0\\xbb\\xd1\\x8c\\xd0\\xbd\\xd1\\x8b\\xd0\\xb9 \\xd1\\x81\\xd0\\xb0\\xd0\\xb9\\xd1\\x82</a><!--EndFragment-->\\r\\n</body>\\r\\n</html>\\x00'\n",
      "49443\n",
      "b'\\x14\\x04\\x1e\\x04\\x1c\\x04.\\x00R\\x00U\\x00 \\x00\\x13  \\x008\\x04=\\x04B\\x045\\x04@\\x04=\\x045\\x04B\\x04-\\x00?\\x04@\\x04>\\x042\\x040\\x049\\x044\\x045\\x04@\\x04 \\x002\\x04 \\x00!\\x040\\x04=\\x04:\\x04B\\x04-\\x00\\x1f\\x045\\x04B\\x045\\x04@\\x041\\x04C\\x04@\\x043\\x045\\x04 \\x00|\\x00 \\x00\\x1e\\x04D\\x048\\x04F\\x048\\x040\\x04;\\x04L\\x04=\\x04K\\x049\\x04 \\x00A\\x040\\x049\\x04B\\x04\\n\\x00h\\x00t\\x00t\\x00p\\x00s\\x00:\\x00/\\x00/\\x00i\\x00n\\x00t\\x00e\\x00r\\x00z\\x00e\\x00t\\x00.\\x00d\\x00o\\x00m\\x00r\\x00u\\x00.\\x00r\\x00u\\x00/\\x00\\x00\\x00'\n",
      "13\n",
      "https://interzet.domru.ru/\n",
      "50080\n",
      "b'\\xc0\\x00\\x00\\x00\\x00\\x00\\x00\\x00\\x01\\x00\\x00\\x00\\x01\\x00\\x00\\x00\\x1a\\x00\\x00\\x00https://interzet.domru.ru/\\x00\\x00A\\x00\\x00\\x00\\x14\\x04\\x1e\\x04\\x1c\\x04.\\x00R\\x00U\\x00 \\x00\\x13  \\x008\\x04=\\x04B\\x045\\x04@\\x04=\\x045\\x04B\\x04-\\x00?\\x04@\\x04>\\x042\\x040\\x049\\x044\\x045\\x04@\\x04 \\x002\\x04 \\x00!\\x040\\x04=\\x04:\\x04B\\x04-\\x00\\x1f\\x045\\x04B\\x045\\x04@\\x041\\x04C\\x04@\\x043\\x045\\x04 \\x00|\\x00 \\x00\\x1e\\x04D\\x048\\x04F\\x048\\x040\\x04;\\x04L\\x04=\\x04K\\x049\\x04 \\x00A\\x040\\x049\\x04B\\x04\\x00\\x00\\xee\\t\\x00\\x00\\x00\\x00\\x00\\x00\\x00\\x00\\x00\\x00'\n",
      "16\n",
      "b'\\t\\x04\\x00\\x00'\n",
      "1\n",
      "b'https://interzet.domru.ru/'\n",
      "7\n",
      "b'https://interzet.domru.ru/'\n"
     ]
    }
   ],
   "source": [
    "from io import StringIO\n",
    "import win32clipboard\n",
    "\n",
    "format_name=''\n",
    "win32clipboard.OpenClipboard()\n",
    "count = win32clipboard.CountClipboardFormats()\n",
    "l = []\n",
    "e = -1\n",
    "for i in range(count):\n",
    "    if i == 0:\n",
    "        e = win32clipboard.EnumClipboardFormats()\n",
    "    else:\n",
    "        e = win32clipboard.EnumClipboardFormats(e)\n",
    "    print(e) \n",
    "    ff = win32clipboard.GetClipboardData(e)\n",
    "    print(ff)\n",
    "    pass\n",
    "win32clipboard.CloseClipboard()\n"
   ]
  },
  {
   "cell_type": "markdown",
   "metadata": {},
   "source": [
    "```\n",
    "49432\n",
    "b'Version:0.9\\r\\nStartHTML:0000000105\\r\\nEndHTML:0000000226\\r\\nStartFragment:0000000141\\r\\nEndFragment:0000000190\\r\\n<html>\\r\\n<body>\\r\\n<!--StartFragment--><a href=\"https://www.yandex.ru/\">\\xd0\\xaf\\xd0\\xbd\\xd0\\xb4\\xd0\\xb5\\xd0\\xba\\xd1\\x81</a><!--EndFragment-->\\r\\n</body>\\r\\n</html>\\x00'\n",
    "49444\n",
    "b'/\\x04=\\x044\\x045\\x04:\\x04A\\x04\\n\\x00h\\x00t\\x00t\\x00p\\x00s\\x00:\\x00/\\x00/\\x00w\\x00w\\x00w\\x00.\\x00y\\x00a\\x00n\\x00d\\x00e\\x00x\\x00.\\x00r\\x00u\\x00/\\x00\\x00\\x00'\n",
    "13\n",
    "https://www.yandex.ru/\n",
    "49892\n",
    "b'\\x9c\\x00\\x00\\x00\\x00\\x00\\x00\\x00\\x01\\x00\\x00\\x00\\x01\\x00\\x00\\x00\\x16\\x00\\x00\\x00https://www.yandex.ru/\\x00\\x00\\x06\\x00\\x00\\x00/\\x04=\\x044\\x045\\x04:\\x04A\\x04|\\x05\\x00\\x00\\x00\\x00\\x00\\x00\\x02\\x00\\x00\\x00\\x0c\\x00\\x00\\x00last_visited\\x11\\x00\\x00\\x0013202844721658648\\x00\\x00\\x00\\x14\\x00\\x00\\x00last_visited_desktop\\x11\\x00\\x00\\x0013204217544035837\\x00\\x00\\x00'\n",
    "16\n",
    "b'\\t\\x04\\x00\\x00'\n",
    "1\n",
    "b'https://www.yandex.ru/'\n",
    "7\n",
    "b'https://www.yandex.ru/'\n",
    "\n",
    "```"
   ]
  },
  {
   "cell_type": "markdown",
   "metadata": {},
   "source": [
    "### 2 codecs"
   ]
  },
  {
   "cell_type": "code",
   "execution_count": null,
   "metadata": {},
   "outputs": [],
   "source": [
    "s2 = b\"\\xd0\\xaf\\xd0\\xbd\\xd0\\xb4\\xd0\\xb5\\xd0\\xba\\xd1\\x81\"\n",
    "s3 = s2.decode(\"utf-8\")\n",
    "print(s3)\n",
    "print(hex(49444))\n",
    "\n",
    "\n",
    "\n"
   ]
  },
  {
   "cell_type": "markdown",
   "metadata": {},
   "source": [
    "### 3 end"
   ]
  },
  {
   "cell_type": "code",
   "execution_count": 2,
   "metadata": {},
   "outputs": [
    {
     "name": "stdout",
     "output_type": "stream",
     "text": [
      "[['ДОМ.RU – интернет-провайдер в Санкт-Петербурге | Официальный сайт', 'https://interzet.domru.ru/']]\n"
     ]
    }
   ],
   "source": [
    "import win32clipboard\n",
    "from bs4 import BeautifulSoup as bf\n",
    "\n",
    "e = ''\n",
    "txt = ''\n",
    "win32clipboard.OpenClipboard()\n",
    "e = win32clipboard.EnumClipboardFormats()\n",
    "txt = win32clipboard.GetClipboardData(e)\n",
    "win32clipboard.CloseClipboard()\n",
    "soup = bf(txt, 'lxml')\n",
    "la2 = []\n",
    "for tag in soup:\n",
    "    la0 = tag.find_all(\"a\")\n",
    "    la2 = [[e.text, e['href']] for e in la0 if e is not None]\n",
    "    \n",
    "print(la2)  \n"
   ]
  },
  {
   "cell_type": "markdown",
   "metadata": {},
   "source": [
    "[convertio](https://convertio.co/ru/mp4-wav/)  \n",
    "[python - PyAudio не устанавливается - Stack Overflow на русском](https://ru.stackoverflow.com/questions/927657/pyaudio-%D0%BD%D0%B5-%D1%83%D1%81%D1%82%D0%B0%D0%BD%D0%B0%D0%B2%D0%BB%D0%B8%D0%B2%D0%B0%D0%B5%D1%82%D1%81%D1%8F)\n",
    "[Speech Recognition - распознавание речи | Учебник Python 3](https://learn4kid-python.firebaseapp.com/python_data_structure/python_speech_recognition/#%D0%BA%D0%B0%D0%BA-%D1%80%D0%B0%D0%B1%D0%BE%D1%82%D0%B0%D0%B5%D1%82-%D1%80%D0%B0%D1%81%D0%BF%D0%BE%D0%B7%D0%BD%D0%B0%D0%B2%D0%B0%D0%BD%D0%B8%D0%B5-%D1%80%D0%B5%D1%87%D0%B8)   \n",
    "[edureka! - YouTube](https://www.youtube.com/user/edurekaIN?sub_confirmation=1)  \n",
    "[Speech Recognition Using Python | Speech To Text Translation in Python | Python Training | Edureka - YouTube](https://www.youtube.com/watch?v=sHeJgKBaiAI)  \n",
    "[Python Full Course - Learn Python in 12 Hours | Python Tutorial For Beginners | Edureka - YouTube](https://www.youtube.com/watch?v=WGJJIrtnfpk&list=PL9ooVrP1hQOHY-BeYrKHDrHKphsJOyRyu)  \n",
    "[Real-time Speech to Text with DeepSpeech - Getting Started on Windows and Transcribe Microphone Free - YouTube](https://www.youtube.com/watch?v=c_0Q3T0XYTA)  \n",
    "[Python Speech Recognition | Open Website By Speech | Google Speech - YouTube](https://www.youtube.com/watch?v=a98tTmBZU9k&list=PL1FgJUcJJ03teZuZVmQY0_JcOi1ukrBYx&index=2)  \n",
    "[Окончательное руководство по распознаванию речи с Python | Guru](https://cyberguru.tech/%D0%BF%D1%80%D0%BE%D0%B3%D1%80%D0%B0%D0%BC%D0%BC%D0%B8%D1%80%D0%BE%D0%B2%D0%B0%D0%BD%D0%B8%D0%B5/%D0%BC%D0%B0%D1%88%D0%B8%D0%BD%D0%BD%D0%BE%D0%B5-%D0%BE%D0%B1%D1%83%D1%87%D0%B5%D0%BD%D0%B8%D0%B5/%D0%BE%D0%BA%D0%BE%D0%BD%D1%87%D0%B0%D1%82%D0%B5%D0%BB%D1%8C%D0%BD%D0%BE%D0%B5-%D1%80%D1%83%D0%BA%D0%BE%D0%B2%D0%BE%D0%B4%D1%81%D1%82%D0%B2%D0%BE-%D0%BF%D0%BE-%D1%80%D0%B0%D1%81%D0%BF%D0%BE%D0%B7)  "
   ]
  },
  {
   "cell_type": "markdown",
   "metadata": {},
   "source": [
    "## footer\n",
    "[BeautifulSoup – парсинг HTML в Python на примерах](https://python-scripts.com/beautifulsoup-html-parsing)  "
   ]
  },
  {
   "cell_type": "markdown",
   "metadata": {},
   "source": []
  },
  {
   "cell_type": "markdown",
   "metadata": {},
   "source": []
  }
 ],
 "metadata": {
  "kernelspec": {
   "display_name": "Python 3",
   "language": "python",
   "name": "python3"
  },
  "language_info": {
   "codemirror_mode": {
    "name": "ipython",
    "version": 3
   },
   "file_extension": ".py",
   "mimetype": "text/x-python",
   "name": "python",
   "nbconvert_exporter": "python",
   "pygments_lexer": "ipython3",
   "version": "3.7.8"
  }
 },
 "nbformat": 4,
 "nbformat_minor": 4
}
