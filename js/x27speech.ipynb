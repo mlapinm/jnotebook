{
 "cells": [
  {
   "cell_type": "markdown",
   "metadata": {},
   "source": [
    "[general](#general)  \n",
    "[recognition](#recognition)   \n",
    "[install](#install)   \n",
    "[1 recognize_google](#1-recognize_google)   \n",
    "[2 recognize_sphinx](#2-recognize_sphinx)   \n",
    "[3 Microphone](#3-Microphone)   \n",
    "[закладки](#закладки)   \n",
    "[2 mMakeMd](#2-mMakeMd)  \n",
    "[mPrepbmla](#mPrepbmla)  \n",
    "[yotube time](#yotube-time)  \n",
    "[Path](#Path)   \n",
    "[clipboard](#clipboard)   \n",
    "[1 what in clipboard](#1-what-in-clipboard)   \n",
    "[2 codecs](#2-codecs)   \n",
    "[3 end](#3-end)   \n",
    "[utils](#utils)  \n",
    "[](#)  \n",
    "[footer](#footer)   \n",
    "[](#)  \n",
    "[](#)  \n"
   ]
  },
  {
   "cell_type": "markdown",
   "metadata": {},
   "source": [
    "## general"
   ]
  },
  {
   "cell_type": "code",
   "execution_count": 27,
   "metadata": {},
   "outputs": [
    {
     "name": "stdout",
     "output_type": "stream",
     "text": [
      "ok\n"
     ]
    }
   ],
   "source": [
    "def mReadFile(fileName):\n",
    "    s = ''\n",
    "    with open(fileName, encoding=\"utf8\") as file:\n",
    "        s = file.read()\n",
    "    return s\n",
    "\n",
    "def mWriteFile(fileName, text):\n",
    "    with open(fileName, \"w\", encoding=\"utf8\") as file:\n",
    "        file.write(text)\n",
    "    \n",
    "\n",
    "def mStrToList(s):\n",
    "    l = s.split('\\n')\n",
    "    l2 = []\n",
    "    for v in l:\n",
    "        l2.append(v.strip())\n",
    "        pass\n",
    "    l2 = list(filter(lambda v: len(v.strip())>0, l2))\n",
    "#     print('l2', l2)\n",
    "    return l2\n",
    "print('ok')\n",
    "\n"
   ]
  },
  {
   "cell_type": "markdown",
   "metadata": {},
   "source": [
    "## recognition"
   ]
  },
  {
   "cell_type": "markdown",
   "metadata": {},
   "source": [
    "### install\n",
    "```\n",
    "pip install pipwin \n",
    "pipwin install pyaudio\n",
    "pipwin install pocketsphinx\n",
    "```"
   ]
  },
  {
   "cell_type": "markdown",
   "metadata": {},
   "source": [
    "## 1 recognize_google"
   ]
  },
  {
   "cell_type": "code",
   "execution_count": 156,
   "metadata": {},
   "outputs": [
    {
     "name": "stdout",
     "output_type": "stream",
     "text": [
      "3.8.1\n"
     ]
    }
   ],
   "source": [
    "import speech_recognition as sr\n",
    "print(sr.__version__)"
   ]
  },
  {
   "cell_type": "code",
   "execution_count": 157,
   "metadata": {},
   "outputs": [
    {
     "data": {
      "text/plain": [
       "'the stale smell of old beer lingers it takes heat to bring out the odor a cold dip restores health and zest a salt pickle taste fine with ham tacos al Pastore are my favorite a zestful food is be hot cross bun'"
      ]
     },
     "execution_count": 157,
     "metadata": {},
     "output_type": "execute_result"
    }
   ],
   "source": [
    "import speech_recognition as sr\n",
    "\n",
    "r = sr.Recognizer()\n",
    "harvard = sr.AudioFile('harvard.wav')\n",
    "with harvard as source:\n",
    "    audio = r.record(source)\n",
    "r.recognize_google(audio)    \n"
   ]
  },
  {
   "cell_type": "markdown",
   "metadata": {},
   "source": [
    "## 2 recognize_sphinx"
   ]
  },
  {
   "cell_type": "markdown",
   "metadata": {},
   "source": []
  },
  {
   "cell_type": "code",
   "execution_count": 158,
   "metadata": {},
   "outputs": [
    {
     "data": {
      "text/plain": [
       "\"this they'll smell of old we're lingers it takes heat to bring out the odor called it restores health and zest case all the colt is fine with him couples all pastore my favorite is as full food is the hot cross mon\""
      ]
     },
     "execution_count": 158,
     "metadata": {},
     "output_type": "execute_result"
    }
   ],
   "source": [
    "import speech_recognition as sr\n",
    "\n",
    "r = sr.Recognizer()\n",
    "harvard = sr.AudioFile('harvard.wav')\n",
    "with harvard as source:\n",
    "    audio = r.record(source)\n",
    "r.recognize_sphinx(audio)    \n"
   ]
  },
  {
   "cell_type": "markdown",
   "metadata": {},
   "source": [
    "## 3 Microphone"
   ]
  },
  {
   "cell_type": "code",
   "execution_count": 159,
   "metadata": {},
   "outputs": [
    {
     "name": "stdout",
     "output_type": "stream",
     "text": [
      "Say something!\n",
      "Sphinx could not understand audio\n"
     ]
    }
   ],
   "source": [
    "import speech_recognition as sr  \n",
    "   \n",
    "# obtain audio from the microphone  \n",
    "r = sr.Recognizer()  \n",
    "with sr.Microphone() as source:  \n",
    "    print(\"Say something!\")  \n",
    "    audio = r.listen(source)  \n",
    "\n",
    "# recognize speech using Sphinx  \n",
    "try:  \n",
    "    print(\"Sphinx thinks you said '\" + r.recognize_sphinx(audio) + \"'\")  \n",
    "except sr.UnknownValueError:  \n",
    "    print(\"Sphinx could not understand audio\")  \n",
    "except sr.RequestError as e:  \n",
    "    print(\"Sphinx error; {0}\".format(e))  "
   ]
  },
  {
   "cell_type": "code",
   "execution_count": 160,
   "metadata": {},
   "outputs": [
    {
     "ename": "FileNotFoundError",
     "evalue": "[Errno 2] No such file or directory: '2.wav'",
     "output_type": "error",
     "traceback": [
      "\u001b[1;31m---------------------------------------------------------------------------\u001b[0m",
      "\u001b[1;31mFileNotFoundError\u001b[0m                         Traceback (most recent call last)",
      "\u001b[1;32m<ipython-input-160-259949533f61>\u001b[0m in \u001b[0;36m<module>\u001b[1;34m\u001b[0m\n\u001b[0;32m      3\u001b[0m \u001b[0mr\u001b[0m \u001b[1;33m=\u001b[0m \u001b[0msr\u001b[0m\u001b[1;33m.\u001b[0m\u001b[0mRecognizer\u001b[0m\u001b[1;33m(\u001b[0m\u001b[1;33m)\u001b[0m\u001b[1;33m\u001b[0m\u001b[1;33m\u001b[0m\u001b[0m\n\u001b[0;32m      4\u001b[0m \u001b[0mharvard\u001b[0m \u001b[1;33m=\u001b[0m \u001b[0msr\u001b[0m\u001b[1;33m.\u001b[0m\u001b[0mAudioFile\u001b[0m\u001b[1;33m(\u001b[0m\u001b[1;34m'2.wav'\u001b[0m\u001b[1;33m)\u001b[0m\u001b[1;33m\u001b[0m\u001b[1;33m\u001b[0m\u001b[0m\n\u001b[1;32m----> 5\u001b[1;33m \u001b[1;32mwith\u001b[0m \u001b[0mharvard\u001b[0m \u001b[1;32mas\u001b[0m \u001b[0msource\u001b[0m\u001b[1;33m:\u001b[0m\u001b[1;33m\u001b[0m\u001b[1;33m\u001b[0m\u001b[0m\n\u001b[0m\u001b[0;32m      6\u001b[0m     \u001b[0maudio\u001b[0m \u001b[1;33m=\u001b[0m \u001b[0mr\u001b[0m\u001b[1;33m.\u001b[0m\u001b[0mrecord\u001b[0m\u001b[1;33m(\u001b[0m\u001b[0msource\u001b[0m\u001b[1;33m)\u001b[0m\u001b[1;33m\u001b[0m\u001b[1;33m\u001b[0m\u001b[0m\n\u001b[0;32m      7\u001b[0m \u001b[0ms\u001b[0m \u001b[1;33m=\u001b[0m \u001b[1;34m'11'\u001b[0m\u001b[1;33m\u001b[0m\u001b[1;33m\u001b[0m\u001b[0m\n",
      "\u001b[1;32mc:\\python36\\lib\\site-packages\\speech_recognition\\__init__.py\u001b[0m in \u001b[0;36m__enter__\u001b[1;34m(self)\u001b[0m\n\u001b[0;32m    201\u001b[0m         \u001b[1;32mtry\u001b[0m\u001b[1;33m:\u001b[0m\u001b[1;33m\u001b[0m\u001b[1;33m\u001b[0m\u001b[0m\n\u001b[0;32m    202\u001b[0m             \u001b[1;31m# attempt to read the file as WAV\u001b[0m\u001b[1;33m\u001b[0m\u001b[1;33m\u001b[0m\u001b[1;33m\u001b[0m\u001b[0m\n\u001b[1;32m--> 203\u001b[1;33m             \u001b[0mself\u001b[0m\u001b[1;33m.\u001b[0m\u001b[0maudio_reader\u001b[0m \u001b[1;33m=\u001b[0m \u001b[0mwave\u001b[0m\u001b[1;33m.\u001b[0m\u001b[0mopen\u001b[0m\u001b[1;33m(\u001b[0m\u001b[0mself\u001b[0m\u001b[1;33m.\u001b[0m\u001b[0mfilename_or_fileobject\u001b[0m\u001b[1;33m,\u001b[0m \u001b[1;34m\"rb\"\u001b[0m\u001b[1;33m)\u001b[0m\u001b[1;33m\u001b[0m\u001b[1;33m\u001b[0m\u001b[0m\n\u001b[0m\u001b[0;32m    204\u001b[0m             \u001b[0mself\u001b[0m\u001b[1;33m.\u001b[0m\u001b[0mlittle_endian\u001b[0m \u001b[1;33m=\u001b[0m \u001b[1;32mTrue\u001b[0m  \u001b[1;31m# RIFF WAV is a little-endian format (most ``audioop`` operations assume that the frames are stored in little-endian form)\u001b[0m\u001b[1;33m\u001b[0m\u001b[1;33m\u001b[0m\u001b[0m\n\u001b[0;32m    205\u001b[0m         \u001b[1;32mexcept\u001b[0m \u001b[1;33m(\u001b[0m\u001b[0mwave\u001b[0m\u001b[1;33m.\u001b[0m\u001b[0mError\u001b[0m\u001b[1;33m,\u001b[0m \u001b[0mEOFError\u001b[0m\u001b[1;33m)\u001b[0m\u001b[1;33m:\u001b[0m\u001b[1;33m\u001b[0m\u001b[1;33m\u001b[0m\u001b[0m\n",
      "\u001b[1;32mc:\\python36\\lib\\wave.py\u001b[0m in \u001b[0;36mopen\u001b[1;34m(f, mode)\u001b[0m\n\u001b[0;32m    508\u001b[0m             \u001b[0mmode\u001b[0m \u001b[1;33m=\u001b[0m \u001b[1;34m'rb'\u001b[0m\u001b[1;33m\u001b[0m\u001b[1;33m\u001b[0m\u001b[0m\n\u001b[0;32m    509\u001b[0m     \u001b[1;32mif\u001b[0m \u001b[0mmode\u001b[0m \u001b[1;32min\u001b[0m \u001b[1;33m(\u001b[0m\u001b[1;34m'r'\u001b[0m\u001b[1;33m,\u001b[0m \u001b[1;34m'rb'\u001b[0m\u001b[1;33m)\u001b[0m\u001b[1;33m:\u001b[0m\u001b[1;33m\u001b[0m\u001b[1;33m\u001b[0m\u001b[0m\n\u001b[1;32m--> 510\u001b[1;33m         \u001b[1;32mreturn\u001b[0m \u001b[0mWave_read\u001b[0m\u001b[1;33m(\u001b[0m\u001b[0mf\u001b[0m\u001b[1;33m)\u001b[0m\u001b[1;33m\u001b[0m\u001b[1;33m\u001b[0m\u001b[0m\n\u001b[0m\u001b[0;32m    511\u001b[0m     \u001b[1;32melif\u001b[0m \u001b[0mmode\u001b[0m \u001b[1;32min\u001b[0m \u001b[1;33m(\u001b[0m\u001b[1;34m'w'\u001b[0m\u001b[1;33m,\u001b[0m \u001b[1;34m'wb'\u001b[0m\u001b[1;33m)\u001b[0m\u001b[1;33m:\u001b[0m\u001b[1;33m\u001b[0m\u001b[1;33m\u001b[0m\u001b[0m\n\u001b[0;32m    512\u001b[0m         \u001b[1;32mreturn\u001b[0m \u001b[0mWave_write\u001b[0m\u001b[1;33m(\u001b[0m\u001b[0mf\u001b[0m\u001b[1;33m)\u001b[0m\u001b[1;33m\u001b[0m\u001b[1;33m\u001b[0m\u001b[0m\n",
      "\u001b[1;32mc:\\python36\\lib\\wave.py\u001b[0m in \u001b[0;36m__init__\u001b[1;34m(self, f)\u001b[0m\n\u001b[0;32m    158\u001b[0m         \u001b[0mself\u001b[0m\u001b[1;33m.\u001b[0m\u001b[0m_i_opened_the_file\u001b[0m \u001b[1;33m=\u001b[0m \u001b[1;32mNone\u001b[0m\u001b[1;33m\u001b[0m\u001b[1;33m\u001b[0m\u001b[0m\n\u001b[0;32m    159\u001b[0m         \u001b[1;32mif\u001b[0m \u001b[0misinstance\u001b[0m\u001b[1;33m(\u001b[0m\u001b[0mf\u001b[0m\u001b[1;33m,\u001b[0m \u001b[0mstr\u001b[0m\u001b[1;33m)\u001b[0m\u001b[1;33m:\u001b[0m\u001b[1;33m\u001b[0m\u001b[1;33m\u001b[0m\u001b[0m\n\u001b[1;32m--> 160\u001b[1;33m             \u001b[0mf\u001b[0m \u001b[1;33m=\u001b[0m \u001b[0mbuiltins\u001b[0m\u001b[1;33m.\u001b[0m\u001b[0mopen\u001b[0m\u001b[1;33m(\u001b[0m\u001b[0mf\u001b[0m\u001b[1;33m,\u001b[0m \u001b[1;34m'rb'\u001b[0m\u001b[1;33m)\u001b[0m\u001b[1;33m\u001b[0m\u001b[1;33m\u001b[0m\u001b[0m\n\u001b[0m\u001b[0;32m    161\u001b[0m             \u001b[0mself\u001b[0m\u001b[1;33m.\u001b[0m\u001b[0m_i_opened_the_file\u001b[0m \u001b[1;33m=\u001b[0m \u001b[0mf\u001b[0m\u001b[1;33m\u001b[0m\u001b[1;33m\u001b[0m\u001b[0m\n\u001b[0;32m    162\u001b[0m         \u001b[1;31m# else, assume it is an open file object already\u001b[0m\u001b[1;33m\u001b[0m\u001b[1;33m\u001b[0m\u001b[1;33m\u001b[0m\u001b[0m\n",
      "\u001b[1;31mFileNotFoundError\u001b[0m: [Errno 2] No such file or directory: '2.wav'"
     ]
    }
   ],
   "source": [
    "import speech_recognition as sr\n",
    "\n",
    "r = sr.Recognizer()\n",
    "harvard = sr.AudioFile('2.wav')\n",
    "with harvard as source:\n",
    "    audio = r.record(source)\n",
    "s = '11'\n",
    "s = r.recognize_sphinx(audio)    \n",
    "mWriteFile(\"x27c.txt\", s)\n",
    "print(len(s))"
   ]
  },
  {
   "cell_type": "markdown",
   "metadata": {},
   "source": [
    "## закладки\n"
   ]
  },
  {
   "cell_type": "markdown",
   "metadata": {},
   "source": [
    "## 1 mBookmarksFolder\n",
    "- mBookmarksFolder(txt, word, lst)   \n",
    "принимает hrome export bookmarks  \n",
    "искомая папка с закладками (tmp02)  \n",
    "добавляет список строк вида `[]()`  \n",
    "[]()  \n"
   ]
  },
  {
   "cell_type": "code",
   "execution_count": 63,
   "metadata": {},
   "outputs": [
    {
     "name": "stdout",
     "output_type": "stream",
     "text": [
      "10\n"
     ]
    }
   ],
   "source": [
    "from bs4 import BeautifulSoup as bf\n",
    "\n",
    "def mReadFile(fileName):\n",
    "    s = ''\n",
    "    with open(fileName, encoding=\"utf8\") as file:\n",
    "        s = file.read()\n",
    "    return s\n",
    "\n",
    "\n",
    "def mWriteFile(fileName, text):\n",
    "    with open(fileName, \"w\", encoding=\"utf8\") as file:\n",
    "        file.write(text)\n",
    "    \n",
    "\n",
    "\n",
    "def mBookmarksFolder(txt, word, lst):\n",
    "    soup = bf(txt, 'lxml')\n",
    "    soup2 = soup.find(string=word)\n",
    "    soup3 = soup2.find_parent().find_parent()\n",
    "    soup4 = soup3.find_parent()\n",
    "    soup5 = soup4.find_all([\"dl\",\"h3\"])\n",
    "\n",
    "    ll = []\n",
    "    for tag in soup5:\n",
    "        if tag.name == \"h3\":\n",
    "            ll.append([tag.text])\n",
    "        elif tag.name == \"dl\":\n",
    "            la0 = tag.find_all(\"a\")\n",
    "            la2 = [[e.text, e['href']] for e in la0 if e is not None]\n",
    "            ll[-1].append(la2)\n",
    "\n",
    "    for e in ll:\n",
    "        if e[0]==word:\n",
    "            for e2 in e[1]:\n",
    "                s2 = f\"[{e2[0]}]({e2[1]})\"\n",
    "                lst.append(s2)\n",
    " \n",
    "    \n",
    "txt = mReadFile(\"x27a.txt\")\n",
    "word = \"tmp02\"\n",
    "# word = \"a2\"\n",
    "lst = []\n",
    "mBookmarksFolder(txt, word, lst)\n",
    "mWriteFile(\"x27b.txt\", '   \\n'.join(lst))\n",
    "    \n",
    "print(len(lst))\n"
   ]
  },
  {
   "cell_type": "code",
   "execution_count": 39,
   "metadata": {},
   "outputs": [
    {
     "name": "stdout",
     "output_type": "stream",
     "text": [
      "1\n"
     ]
    }
   ],
   "source": [
    "import random\n",
    "\n",
    "x = random.randint(1,3)\n",
    "x = random.choice([1,3])\n",
    "print(x)"
   ]
  },
  {
   "cell_type": "markdown",
   "metadata": {},
   "source": [
    "java  \n",
    "Math.nextInt  \n",
    "\n",
    "\n",
    "import java.util.Collections;\n",
    "[...]\n",
    "Collection.shuffle(elements);\n",
    "element_answer = elements[0];\n"
   ]
  },
  {
   "cell_type": "markdown",
   "metadata": {},
   "source": [
    "```\n",
    "D:\\mailCloud\\prjother\\089hosts\\jnotebook\\js\n",
    "D:\\mailCloud\\prjother\\089hosts\\jnotebook\\js\\bookmarks_0610.html\n",
    "```"
   ]
  },
  {
   "cell_type": "markdown",
   "metadata": {},
   "source": [
    "## 2 mMakeMd\n",
    "x27bmka x27bmkb  \n",
    "from `[head](http..)` to  \n",
    "```\n",
    "[head1](#head1)\n",
    "[head2](#head2)\n",
    "\n",
    "\n",
    "## head1\n",
    "[head1](http1)\n",
    "## head1\n",
    "[head2](http2)\n",
    "```"
   ]
  },
  {
   "cell_type": "code",
   "execution_count": 67,
   "metadata": {},
   "outputs": [
    {
     "name": "stdout",
     "output_type": "stream",
     "text": [
      "10 40\n"
     ]
    }
   ],
   "source": [
    "import re\n",
    "\n",
    "def mMakeMd(l1, l2, l11 = []):\n",
    "    l1b = []\n",
    "    k = 0\n",
    "    for e in l1:\n",
    "        e2 = []\n",
    "        match = re.search('\\[(.*)\\]\\((.*)\\)', e)\n",
    "#         match = re.search('\\[.*\\]\\(.*\\)', e)\n",
    "        if match and len(match.groups()) > 1:\n",
    "            e2.append(match[1])\n",
    "            e3 = match[1].replace(' ', '-')\n",
    "            e3 = e3.replace('(', '')\n",
    "            e3 = e3.replace(')', '')\n",
    "            e2.append(e3)\n",
    "            e2.append(match[2])\n",
    "            if len(l11)>k:\n",
    "                e2.append(l11[k])\n",
    "            else:\n",
    "                e2.append('')\n",
    "            l1b.append(e2)\n",
    "            \n",
    "        k += 1    \n",
    "        pass\n",
    "    l2b = []\n",
    "    for e in l1b:\n",
    "        e2 = []\n",
    "        e2.append(f'[{e[0]}](#{e[1]})')\n",
    "        e2.append(f'## {e[0]}')\n",
    "        e2.append(f'[{e[0]}]({e[2]})')\n",
    "        e2.append(e[3])\n",
    "        l2b.append(e2)\n",
    "        pass\n",
    "\n",
    "    l2link = []\n",
    "    k = 1\n",
    "    for e in l2b:\n",
    "        l2link.append(f'{k} {e[0]}')\n",
    "        k +=1\n",
    "        pass\n",
    "\n",
    "    l2paragrahp = []\n",
    "    for e in l2b:\n",
    "        l2paragrahp.append(e[1])\n",
    "        l2paragrahp.append(e[2])\n",
    "        l2paragrahp.append(e[3])\n",
    "        pass\n",
    "\n",
    "    l2a = l2link + l2paragrahp\n",
    "    \n",
    "    for e in l2a:\n",
    "        l2.append(e+\"  \")\n",
    "    \n",
    "#     print(l2)\n",
    "#     print(l2link)\n",
    "#     print(l1b)\n",
    "    pass\n",
    "\n",
    "s = mReadFile('x27bmka.txt')\n",
    "l1 = mStrToList(s)\n",
    "l2 = []\n",
    "s = mReadFile('x27bmla.txt')\n",
    "l11 = mStrToList(s)\n",
    "# print(l11[:])\n",
    "mMakeMd(l1, l2, l11)\n",
    "for e in l2:\n",
    "#     print(e)\n",
    "    pass\n",
    "mWriteFile('x27bmkb.txt', '\\n'.join(l2))\n",
    "print(len(l1), len(l2))"
   ]
  },
  {
   "cell_type": "markdown",
   "metadata": {},
   "source": [
    "```\n",
    "in:\n",
    "[1 1](12)  \n",
    "[21](22)\n",
    "[31](32)\n",
    "\n",
    "out:\n",
    "[1 1](#1-1)  \n",
    "[21](#21)  \n",
    "[31](#31)  \n",
    "## 1 1  \n",
    "[1 1](12)  \n",
    "[b1201 - github](https://github.com/mlapinm/b04andr)  \n",
    "## 21  \n",
    "[21](22)  \n",
    "\n",
    "```"
   ]
  },
  {
   "cell_type": "markdown",
   "metadata": {},
   "source": [
    "## mPrepbmla"
   ]
  },
  {
   "cell_type": "code",
   "execution_count": 27,
   "metadata": {},
   "outputs": [],
   "source": [
    "\n",
    "s = '''\n",
    "l2012var\n",
    "l2022\n",
    "l2032\n",
    "l2042\n",
    "l2052\n",
    "l2062\n",
    "l2072\n",
    "l2082\n",
    "l2092\n",
    "l2102\n",
    "l2112\n",
    "l2122\n",
    "l2132\n",
    "l2142\n",
    "l2152\n",
    "l2162\n",
    "l2172\n",
    "l2182\n",
    "l2192\n",
    "l2202\n",
    "'''\n",
    "sn = ['https://github.com/mlapinm/b03andr', ' - github']\n"
   ]
  },
  {
   "cell_type": "code",
   "execution_count": 28,
   "metadata": {},
   "outputs": [
    {
     "name": "stdout",
     "output_type": "stream",
     "text": [
      "[l2012var - github](https://github.com/mlapinm/b03andr)\n",
      "[l2022 - github](https://github.com/mlapinm/b03andr)\n",
      "[l2032 - github](https://github.com/mlapinm/b03andr)\n",
      "[l2042 - github](https://github.com/mlapinm/b03andr)\n",
      "[l2052 - github](https://github.com/mlapinm/b03andr)\n",
      "[l2062 - github](https://github.com/mlapinm/b03andr)\n",
      "[l2072 - github](https://github.com/mlapinm/b03andr)\n",
      "[l2082 - github](https://github.com/mlapinm/b03andr)\n",
      "[l2092 - github](https://github.com/mlapinm/b03andr)\n",
      "[l2102 - github](https://github.com/mlapinm/b03andr)\n",
      "[l2112 - github](https://github.com/mlapinm/b03andr)\n",
      "[l2122 - github](https://github.com/mlapinm/b03andr)\n",
      "[l2132 - github](https://github.com/mlapinm/b03andr)\n",
      "[l2142 - github](https://github.com/mlapinm/b03andr)\n",
      "[l2152 - github](https://github.com/mlapinm/b03andr)\n",
      "[l2162 - github](https://github.com/mlapinm/b03andr)\n",
      "[l2172 - github](https://github.com/mlapinm/b03andr)\n",
      "[l2182 - github](https://github.com/mlapinm/b03andr)\n",
      "[l2192 - github](https://github.com/mlapinm/b03andr)\n",
      "[l2202 - github](https://github.com/mlapinm/b03andr)\n"
     ]
    }
   ],
   "source": [
    "l = mStrToList(s)\n",
    "for e in l:\n",
    "    print(f'[{e}{sn[1]}]({sn[0]})')\n",
    "    \n",
    "    pass\n"
   ]
  },
  {
   "cell_type": "markdown",
   "metadata": {},
   "source": [
    "## yotube time"
   ]
  },
  {
   "cell_type": "code",
   "execution_count": 28,
   "metadata": {},
   "outputs": [],
   "source": [
    "surl = 'https://www.youtube.com/watch?v=_8V5o2UHG0E'\n",
    "stime = '&t=s'\n",
    "s = '''\n",
    "Course Contents\n",
    "(0:00:00) Introduction\n",
    "(0:01:22) Windows Setup\n",
    "(0:05:02) Mac Setup\n",
    "(0:09:04) Hello World\n",
    "(0:12:51) Drawing a Shape\n",
    "(0:20:56) Variables\n",
    "(0:32:25) Data Types\n",
    "(0:38:32) Printf\n",
    "(0:45:22) Working With Numbers\n",
    "(0:52:20) Comments\n",
    "(0:56:00) Constants\n",
    "(1:00:13) Getting User Input\n",
    "(1:12:08) Building a Basic Calculator\n",
    "(1:17:43) Building a Mad Libs Game\n",
    "(1:26:29) Arrays\n",
    "(1:36:44) Functions\n",
    "(1:45:37) Return Statement\n",
    "(1:53:21) If Statements\n",
    "(2:07:11) Building a Better Calculator\n",
    "(2:14:51) Switch Statements\n",
    "(2:21:27) Structs\n",
    "(2:29:43) While Loops\n",
    "(2:37:48) Building a Guessing Game\n",
    "(2:50:11) For Loops\n",
    "(2:59:05) 2D Arrays & Nested Loops\n",
    "(3:09:10) Memory Addresses\n",
    "(3:17:20) Pointers\n",
    "(3:27:41) Dereferencing Pointers\n",
    "(3:32:37) Writing Files\n",
    "(3:41:52) Reading Files\n",
    "'''"
   ]
  },
  {
   "cell_type": "code",
   "execution_count": 30,
   "metadata": {},
   "outputs": [
    {
     "name": "stdout",
     "output_type": "stream",
     "text": [
      "[(0:00:00) Introduction](https://www.youtube.com/watch?v=_8V5o2UHG0E&t=0s)  \n",
      "[(0:01:22) Windows Setup](https://www.youtube.com/watch?v=_8V5o2UHG0E&t=82s)  \n",
      "[(0:05:02) Mac Setup](https://www.youtube.com/watch?v=_8V5o2UHG0E&t=302s)  \n",
      "[(0:09:04) Hello World](https://www.youtube.com/watch?v=_8V5o2UHG0E&t=544s)  \n",
      "[(0:12:51) Drawing a Shape](https://www.youtube.com/watch?v=_8V5o2UHG0E&t=771s)  \n",
      "[(0:20:56) Variables](https://www.youtube.com/watch?v=_8V5o2UHG0E&t=1256s)  \n",
      "[(0:32:25) Data Types](https://www.youtube.com/watch?v=_8V5o2UHG0E&t=1945s)  \n",
      "[(0:38:32) Printf](https://www.youtube.com/watch?v=_8V5o2UHG0E&t=2312s)  \n",
      "[(0:45:22) Working With Numbers](https://www.youtube.com/watch?v=_8V5o2UHG0E&t=2722s)  \n",
      "[(0:52:20) Comments](https://www.youtube.com/watch?v=_8V5o2UHG0E&t=3140s)  \n",
      "[(0:56:00) Constants](https://www.youtube.com/watch?v=_8V5o2UHG0E&t=3360s)  \n",
      "[(1:00:13) Getting User Input](https://www.youtube.com/watch?v=_8V5o2UHG0E&t=13s)  \n",
      "[(1:12:08) Building a Basic Calculator](https://www.youtube.com/watch?v=_8V5o2UHG0E&t=728s)  \n",
      "[(1:17:43) Building a Mad Libs Game](https://www.youtube.com/watch?v=_8V5o2UHG0E&t=1063s)  \n",
      "[(1:26:29) Arrays](https://www.youtube.com/watch?v=_8V5o2UHG0E&t=1589s)  \n",
      "[(1:36:44) Functions](https://www.youtube.com/watch?v=_8V5o2UHG0E&t=2204s)  \n",
      "[(1:45:37) Return Statement](https://www.youtube.com/watch?v=_8V5o2UHG0E&t=2737s)  \n",
      "[(1:53:21) If Statements](https://www.youtube.com/watch?v=_8V5o2UHG0E&t=3201s)  \n",
      "[(2:07:11) Building a Better Calculator](https://www.youtube.com/watch?v=_8V5o2UHG0E&t=431s)  \n",
      "[(2:14:51) Switch Statements](https://www.youtube.com/watch?v=_8V5o2UHG0E&t=891s)  \n",
      "[(2:21:27) Structs](https://www.youtube.com/watch?v=_8V5o2UHG0E&t=1287s)  \n",
      "[(2:29:43) While Loops](https://www.youtube.com/watch?v=_8V5o2UHG0E&t=1783s)  \n",
      "[(2:37:48) Building a Guessing Game](https://www.youtube.com/watch?v=_8V5o2UHG0E&t=2268s)  \n",
      "[(2:50:11) For Loops](https://www.youtube.com/watch?v=_8V5o2UHG0E&t=3011s)  \n",
      "[(2:59:05) 2D Arrays & Nested Loops](https://www.youtube.com/watch?v=_8V5o2UHG0E&t=3545s)  \n",
      "[(3:09:10) Memory Addresses](https://www.youtube.com/watch?v=_8V5o2UHG0E&t=550s)  \n",
      "[(3:17:20) Pointers](https://www.youtube.com/watch?v=_8V5o2UHG0E&t=1040s)  \n",
      "[(3:27:41) Dereferencing Pointers](https://www.youtube.com/watch?v=_8V5o2UHG0E&t=1661s)  \n",
      "[(3:32:37) Writing Files](https://www.youtube.com/watch?v=_8V5o2UHG0E&t=1957s)  \n",
      "[(3:41:52) Reading Files](https://www.youtube.com/watch?v=_8V5o2UHG0E&t=2512s)  \n"
     ]
    }
   ],
   "source": [
    "import re\n",
    "\n",
    "def replaceSpace(s):\n",
    "    s2 = ''\n",
    "    sr = '+():'\n",
    "    s = s.strip()\n",
    "    s = s.replace(' ','-')\n",
    "    for e in s:\n",
    "        if sr.find(e) != -1:\n",
    "            pass\n",
    "        else:\n",
    "            s2 += e\n",
    "    return s2\n",
    "\n",
    "\n",
    "def mListNum(s2, l):\n",
    "    '''\n",
    "    '0:01:02' => [0, 1, 2] \n",
    "    '''\n",
    "    k = 0\n",
    "    l2 = []\n",
    "    while 1:\n",
    "        k2 = s2.find(':', k)\n",
    "        if k2<0:\n",
    "            l2.append(s2[k:])\n",
    "            break\n",
    "        l2.append(s2[k:k2])\n",
    "        k = k2 + 1\n",
    "    while len(l2)<3:\n",
    "        l2.insert(0, 0)\n",
    "    for e in l2:\n",
    "        l.append(int(e))\n",
    "        \n",
    "\n",
    "l = mStrToList(s)\n",
    "# l = l[:2]\n",
    "l2 = []\n",
    "for e in l:\n",
    "    match = re.search(r'^.*((\\d:)?\\d\\d:\\d\\d)\\) ', e)\n",
    "    k = len(match.groups()) if match else -1\n",
    "    if k>0:\n",
    "#         e2 = e.replace(match[0],'')\n",
    "        e2 = e\n",
    "        e3 = match[1]\n",
    "        lt = []\n",
    "        mListNum(e3, lt)\n",
    "        lt.reverse()\n",
    "        m = 1\n",
    "        e4 = 0\n",
    "        for e in lt:\n",
    "            e4 += e*m\n",
    "            m *= 60\n",
    "        e5 = f'[{e2}]({surl}{stime[:-1]}{e4}{stime[-1:]})  '\n",
    "        l2.append(e5)\n",
    "\n",
    "        \n",
    "for x in l2:\n",
    "    print(x)\n",
    "    \n"
   ]
  },
  {
   "cell_type": "code",
   "execution_count": 15,
   "metadata": {},
   "outputs": [
    {
     "name": "stdout",
     "output_type": "stream",
     "text": [
      "[0, 1, 2]\n"
     ]
    }
   ],
   "source": [
    "def mListNum(s2, l):\n",
    "    '''\n",
    "    '0:01:02' => [0, 1, 2] \n",
    "    '''\n",
    "    k = 0\n",
    "    l2 = []\n",
    "    while 1:\n",
    "        k2 = s2.find(':', k)\n",
    "        if k2<0:\n",
    "            l2.append(s2[k:])\n",
    "            break\n",
    "        l2.append(s2[k:k2])\n",
    "        k = k2 + 1\n",
    "    while len(l2)<3:\n",
    "        l2.insert(0, 0)\n",
    "    for e in l2:\n",
    "        l.append(int(e))\n",
    "\n",
    "s2 = '01:02'\n",
    "l2 = []\n",
    "mListNum(s2, l2)\n",
    "print(l2)"
   ]
  },
  {
   "cell_type": "markdown",
   "metadata": {},
   "source": [
    "## Path"
   ]
  },
  {
   "cell_type": "code",
   "execution_count": 1,
   "metadata": {},
   "outputs": [],
   "source": [
    "s2 = '''\n",
    "[English Speaking 02](b0424vip.md)  \n",
    "\n",
    "'''\n"
   ]
  },
  {
   "cell_type": "code",
   "execution_count": 2,
   "metadata": {},
   "outputs": [
    {
     "name": "stdout",
     "output_type": "stream",
     "text": [
      "\n",
      "[English Speaking 02](htmla2present/b0424vip.md)  \n",
      "\n",
      "\n"
     ]
    }
   ],
   "source": [
    "import re\n",
    "\n",
    "def mPath(s2, s3):\n",
    "    l = s2.split('\\n')\n",
    "    l2 = []\n",
    "    for e in l:\n",
    "        k = e.find('http')\n",
    "        if k < 0:\n",
    "            k = e.find('](#')\n",
    "        s5 = ''\n",
    "        if k<0:\n",
    "            # если есть палка, то заменяется то что до палки и палка \n",
    "            s5 = re.sub(f'\\]\\((\\w+\\/)?', f']({s3}/', e)\n",
    "        else:\n",
    "            s5 = e\n",
    "        pass\n",
    "        l2.append(s5)\n",
    "    s4 = '\\n'.join(l2)\n",
    "    return s4\n",
    "\n",
    "s4 = mPath(s2,'htmla2present')\n",
    "print(s4)"
   ]
  },
  {
   "cell_type": "markdown",
   "metadata": {},
   "source": [
    "## clipboard\n",
    "[Module win32clipboard](http://timgolden.me.uk/pywin32-docs/win32clipboard.html)   \n",
    "[CF_BITMAP 2](https://docs.microsoft.com/en-us/windows/win32/dataxchg/standard-clipboard-formats)  \n",
    "[WIN32 API. БУФЕР ОБМЕНА](http://www.cyberguru.ru/programming/win32/win32-clipboard.html?showall=&start=26)\n"
   ]
  },
  {
   "cell_type": "markdown",
   "metadata": {},
   "source": [
    "### 1 what in clipboard"
   ]
  },
  {
   "cell_type": "code",
   "execution_count": 61,
   "metadata": {},
   "outputs": [
    {
     "name": "stdout",
     "output_type": "stream",
     "text": [
      "49161\n",
      "b'\\x00\\x00\\x00\\x00'\n",
      "13\n",
      "[ДОМ.RU – интернет-провайдер в Санкт-Петербурге | Официальный сайт](https://interzet.domru.ru/)\n",
      "49171\n",
      "b'\\x00\\x00\\x00\\x00x\\x00\\x00\\x00\\x01\\x00\\x00\\x00\\x01\\x00\\x00\\x00\\x00\\x00\\x00\\x00\\x00\\x00\\x00\\x00\\r\\x00\\x00\\x00\\x00\\x00\\x00\\x00\\x01\\x00\\x00\\x00\\xff\\xff\\xff\\xff\\x01\\x00\\x00\\x00\\x01\\x00\\x00\\x00\\x00\\x00\\x00\\x00\\x00\\x00\\x00\\x00\\x00\\x00\\x00\\x00\\x00\\x00\\x00\\x00\\x00\\x00\\x00\\x00\\x00\\x00\\x00\\x00\\x00\\x00\\x00\\x00\\x00\\x00\\x00\\x00\\x00\\x00\\x00\\x00\\x00\\x00\\x00\\x00\\x00\\x00\\x00\\x00\\x00\\x00\\x00\\x00\\x00\\x00\\x00\\x00\\x00\\x00\\x00\\x00\\x00\\x00\\x00\\x00\\x00\\x00\\x00\\x00\\x00\\x00\\x00\\x00\\x00\\x00\\x00\\x00'\n",
      "16\n",
      "b'\\t\\x04\\x00\\x00'\n",
      "1\n",
      "b'[???.RU \\x96 ????????-????????? ? ?????-?????????? | ??????????? ????](https://interzet.domru.ru/)'\n",
      "7\n",
      "b'[???.RU - ????????-????????? ? ?????-?????????? | ??????????? ????](https://interzet.domru.ru/)'\n"
     ]
    }
   ],
   "source": [
    "from io import StringIO\n",
    "import win32clipboard\n",
    "\n",
    "format_name=''\n",
    "win32clipboard.OpenClipboard()\n",
    "count = win32clipboard.CountClipboardFormats()\n",
    "l = []\n",
    "e = -1\n",
    "for i in range(count):\n",
    "    if i == 0:\n",
    "        e = win32clipboard.EnumClipboardFormats()\n",
    "    else:\n",
    "        e = win32clipboard.EnumClipboardFormats(e)\n",
    "    print(e) \n",
    "    ff = win32clipboard.GetClipboardData(e)\n",
    "    print(ff)\n",
    "    pass\n",
    "win32clipboard.CloseClipboard()\n"
   ]
  },
  {
   "cell_type": "markdown",
   "metadata": {},
   "source": [
    "```\n",
    "49432\n",
    "b'Version:0.9\\r\\nStartHTML:0000000105\\r\\nEndHTML:0000000226\\r\\nStartFragment:0000000141\\r\\nEndFragment:0000000190\\r\\n<html>\\r\\n<body>\\r\\n<!--StartFragment--><a href=\"https://www.yandex.ru/\">\\xd0\\xaf\\xd0\\xbd\\xd0\\xb4\\xd0\\xb5\\xd0\\xba\\xd1\\x81</a><!--EndFragment-->\\r\\n</body>\\r\\n</html>\\x00'\n",
    "49444\n",
    "b'/\\x04=\\x044\\x045\\x04:\\x04A\\x04\\n\\x00h\\x00t\\x00t\\x00p\\x00s\\x00:\\x00/\\x00/\\x00w\\x00w\\x00w\\x00.\\x00y\\x00a\\x00n\\x00d\\x00e\\x00x\\x00.\\x00r\\x00u\\x00/\\x00\\x00\\x00'\n",
    "13\n",
    "https://www.yandex.ru/\n",
    "49892\n",
    "b'\\x9c\\x00\\x00\\x00\\x00\\x00\\x00\\x00\\x01\\x00\\x00\\x00\\x01\\x00\\x00\\x00\\x16\\x00\\x00\\x00https://www.yandex.ru/\\x00\\x00\\x06\\x00\\x00\\x00/\\x04=\\x044\\x045\\x04:\\x04A\\x04|\\x05\\x00\\x00\\x00\\x00\\x00\\x00\\x02\\x00\\x00\\x00\\x0c\\x00\\x00\\x00last_visited\\x11\\x00\\x00\\x0013202844721658648\\x00\\x00\\x00\\x14\\x00\\x00\\x00last_visited_desktop\\x11\\x00\\x00\\x0013204217544035837\\x00\\x00\\x00'\n",
    "16\n",
    "b'\\t\\x04\\x00\\x00'\n",
    "1\n",
    "b'https://www.yandex.ru/'\n",
    "7\n",
    "b'https://www.yandex.ru/'\n",
    "\n",
    "```"
   ]
  },
  {
   "cell_type": "markdown",
   "metadata": {},
   "source": [
    "### 2 codecs"
   ]
  },
  {
   "cell_type": "code",
   "execution_count": null,
   "metadata": {},
   "outputs": [],
   "source": [
    "s2 = b\"\\xd0\\xaf\\xd0\\xbd\\xd0\\xb4\\xd0\\xb5\\xd0\\xba\\xd1\\x81\"\n",
    "s3 = s2.decode(\"utf-8\")\n",
    "print(s3)\n",
    "print(hex(49444))\n",
    "\n",
    "\n",
    "\n"
   ]
  },
  {
   "cell_type": "markdown",
   "metadata": {},
   "source": [
    "### 3 end"
   ]
  },
  {
   "cell_type": "code",
   "execution_count": 2,
   "metadata": {},
   "outputs": [
    {
     "name": "stdout",
     "output_type": "stream",
     "text": [
      "[['ДОМ.RU – интернет-провайдер в Санкт-Петербурге | Официальный сайт', 'https://interzet.domru.ru/']]\n"
     ]
    }
   ],
   "source": [
    "import win32clipboard\n",
    "from bs4 import BeautifulSoup as bf\n",
    "\n",
    "e = ''\n",
    "txt = ''\n",
    "win32clipboard.OpenClipboard()\n",
    "e = win32clipboard.EnumClipboardFormats()\n",
    "txt = win32clipboard.GetClipboardData(e)\n",
    "win32clipboard.CloseClipboard()\n",
    "soup = bf(txt, 'lxml')\n",
    "la2 = []\n",
    "for tag in soup:\n",
    "    la0 = tag.find_all(\"a\")\n",
    "    la2 = [[e.text, e['href']] for e in la0 if e is not None]\n",
    "    \n",
    "print(la2)  \n"
   ]
  },
  {
   "cell_type": "code",
   "execution_count": 60,
   "metadata": {},
   "outputs": [
    {
     "name": "stdout",
     "output_type": "stream",
     "text": [
      "https://interzet.domru.ru/\n",
      "ДОМ.RU – интернет-провайдер в Санкт-Петербурге | Официальный сайт\n",
      "150 htt\n",
      "176 \">Д\n",
      "178 ДОМ\n",
      "243 </a\n",
      "Version:0.9\r\n",
      "StartHTML:0000000105\r\n",
      "EndHTML:0000000336\r\n",
      "StartFragment:0000000141\r\n",
      "EndFragment:0000000300\r\n",
      "<html>\r\n",
      "<body>\r\n",
      "<!--StartFragment--><a href=\"https://interzet.domru.ru/\">ДОМ.RU – интернет-провайдер в Санкт-Петербурге | Официальный сайт</a><!--EndFragment-->\r\n",
      "</body>\r\n",
      "</html>\u0000\n"
     ]
    }
   ],
   "source": [
    "import win32clipboard\n",
    "from bs4 import BeautifulSoup as bf\n",
    "\n",
    "e = ''\n",
    "txt = ''\n",
    "win32clipboard.OpenClipboard()\n",
    "e = win32clipboard.EnumClipboardFormats()\n",
    "txt = win32clipboard.GetClipboardData(e)\n",
    "win32clipboard.CloseClipboard()\n",
    "txt2 = \"\"\n",
    "a1 = 0\n",
    "a2 = 0\n",
    "a3 = 0\n",
    "a4 = 0\n",
    "if type(txt) == str:\n",
    "    txt2 = txt\n",
    "elif type(txt) == bytes:\n",
    "    txt2 = txt.decode('utf-8')\n",
    "    a1 = txt2.find(\"href=\\\"\")\n",
    "    a1 += 6\n",
    "    a2 = txt2.find(\"\\\"\", a1)\n",
    "    a3 = a2 + 2\n",
    "    a4 = txt2.find(\"</a>\")\n",
    "    \n",
    "    print(txt2[a1: a2])\n",
    "    print(txt2[a3: a4])\n",
    "\n",
    "    \n",
    "    print(a1,txt2[a1:a1+3])  \n",
    "    print(a2,txt2[a2:a2+3])  \n",
    "    print(a3,txt2[a3:a3+3])  \n",
    "    print(a4,txt2[a4:a4+3])  \n",
    "    \n",
    "    \n",
    "print(txt2)"
   ]
  },
  {
   "cell_type": "markdown",
   "metadata": {},
   "source": [
    "## utils\n",
    "### space"
   ]
  },
  {
   "cell_type": "markdown",
   "metadata": {},
   "source": [
    "https://github.com/mlapinm/jnotebook/blob/master/jsnode/q2032beau.md#11743-building-a-mad-libs-game  \n",
    "\n",
    "https://github.com/mlapinm/jnotebook/blob/master/jsnode/q2032beau.md#11743-building-a-mad-libs-game\n",
    "\n",
    "11743-Building-a-Mad-Libs-Game\n",
    "11743-building-a-mad-libs-game\n",
    "\n",
    "How to Set up Visual Studio Code for C and C++ Programming - YouTube  \n",
    "\n",
    "How to Set up Visual Studio Code for C and C++ Programming - YouTube\n",
    "how-to-set-up-visual-studio-code-for-c-and-c-programming---youtube\n",
    "How-to-Set-up-Visual-Studio-Code-for-C-and-C-Programming---YouTube"
   ]
  },
  {
   "cell_type": "code",
   "execution_count": 32,
   "metadata": {},
   "outputs": [
    {
     "name": "stdout",
     "output_type": "stream",
     "text": [
      "11743-Building-a-Mad-Libs-Game\n"
     ]
    }
   ],
   "source": [
    "def replaceSpace(s):\n",
    "    s2 = ''\n",
    "    sr = '+():'\n",
    "    s = s.strip()\n",
    "    s = s.replace(' ','-')\n",
    "    for e in s:\n",
    "        if sr.find(e) != -1:\n",
    "            pass\n",
    "        else:\n",
    "            s2 += e\n",
    "    return s2\n",
    "\n",
    "s = '''\n",
    "(1:17:43) Building a Mad Libs Game\n",
    "'''\n",
    "s2 = replaceSpace(s)\n",
    "print(s2)"
   ]
  },
  {
   "cell_type": "code",
   "execution_count": 25,
   "metadata": {},
   "outputs": [],
   "source": [
    "# help(str)"
   ]
  },
  {
   "cell_type": "code",
   "execution_count": null,
   "metadata": {},
   "outputs": [],
   "source": []
  },
  {
   "cell_type": "markdown",
   "metadata": {},
   "source": [
    "### copy img"
   ]
  },
  {
   "cell_type": "code",
   "execution_count": 36,
   "metadata": {},
   "outputs": [
    {
     "name": "stdout",
     "output_type": "stream",
     "text": [
      "22 ['img-2020-12-20-15-26-50.png', 'img-2020-12-20-15-28-45.png', 'img-2020-12-20-15-30-19.png', 'img-2020-12-20-15-32-40.png', 'img-2020-12-20-15-35-56.png', 'img-2020-12-20-15-38-56.png', 'img-2020-12-20-15-44-01.png', 'img-2020-12-20-15-53-20.png', 'img-2020-12-20-15-54-50.png', 'img-2020-12-20-15-56-31.png', 'img-2020-12-20-15-58-12.png', 'img-2020-12-20-16-03-12.png', 'img-2020-12-20-16-05-35.png', 'img-2020-12-20-17-35-11.png', 'img-2020-12-20-17-37-35.png', 'img-2020-12-20-17-43-25.png', 'img-2020-12-20-17-43-47.png', 'img-2020-12-21-08-15-06.png', 'img-2020-12-21-08-19-31.png', 'img-2020-12-21-08-21-00.png', 'img-2020-12-21-08-22-38.png', 'img-2020-12-21-08-23-46.png']\n"
     ]
    },
    {
     "data": {
      "text/plain": [
       "'./img02/xx'"
      ]
     },
     "execution_count": 36,
     "metadata": {},
     "output_type": "execute_result"
    }
   ],
   "source": [
    "import os\n",
    "import shutil\n",
    "\n",
    "l = os.listdir(\"./img01\")\n",
    "print(len(l), l)\n",
    "shutil.copy(f'./img01/{l[0]}',f'./img02/xx')"
   ]
  },
  {
   "cell_type": "markdown",
   "metadata": {},
   "source": [
    "## footer\n",
    "[BeautifulSoup – парсинг HTML в Python на примерах](https://python-scripts.com/beautifulsoup-html-parsing)  "
   ]
  },
  {
   "cell_type": "markdown",
   "metadata": {},
   "source": [
    "[convertio](https://convertio.co/ru/mp4-wav/)  \n",
    "[python - PyAudio не устанавливается - Stack Overflow на русском](https://ru.stackoverflow.com/questions/927657/pyaudio-%D0%BD%D0%B5-%D1%83%D1%81%D1%82%D0%B0%D0%BD%D0%B0%D0%B2%D0%BB%D0%B8%D0%B2%D0%B0%D0%B5%D1%82%D1%81%D1%8F)\n",
    "[Speech Recognition - распознавание речи | Учебник Python 3](https://learn4kid-python.firebaseapp.com/python_data_structure/python_speech_recognition/#%D0%BA%D0%B0%D0%BA-%D1%80%D0%B0%D0%B1%D0%BE%D1%82%D0%B0%D0%B5%D1%82-%D1%80%D0%B0%D1%81%D0%BF%D0%BE%D0%B7%D0%BD%D0%B0%D0%B2%D0%B0%D0%BD%D0%B8%D0%B5-%D1%80%D0%B5%D1%87%D0%B8)   \n",
    "[edureka! - YouTube](https://www.youtube.com/user/edurekaIN?sub_confirmation=1)  \n",
    "[Speech Recognition Using Python | Speech To Text Translation in Python | Python Training | Edureka - YouTube](https://www.youtube.com/watch?v=sHeJgKBaiAI)  \n",
    "[Python Full Course - Learn Python in 12 Hours | Python Tutorial For Beginners | Edureka - YouTube](https://www.youtube.com/watch?v=WGJJIrtnfpk&list=PL9ooVrP1hQOHY-BeYrKHDrHKphsJOyRyu)  \n",
    "[Real-time Speech to Text with DeepSpeech - Getting Started on Windows and Transcribe Microphone Free - YouTube](https://www.youtube.com/watch?v=c_0Q3T0XYTA)  \n",
    "[Python Speech Recognition | Open Website By Speech | Google Speech - YouTube](https://www.youtube.com/watch?v=a98tTmBZU9k&list=PL1FgJUcJJ03teZuZVmQY0_JcOi1ukrBYx&index=2)  \n",
    "[Окончательное руководство по распознаванию речи с Python | Guru](https://cyberguru.tech/%D0%BF%D1%80%D0%BE%D0%B3%D1%80%D0%B0%D0%BC%D0%BC%D0%B8%D1%80%D0%BE%D0%B2%D0%B0%D0%BD%D0%B8%D0%B5/%D0%BC%D0%B0%D1%88%D0%B8%D0%BD%D0%BD%D0%BE%D0%B5-%D0%BE%D0%B1%D1%83%D1%87%D0%B5%D0%BD%D0%B8%D0%B5/%D0%BE%D0%BA%D0%BE%D0%BD%D1%87%D0%B0%D1%82%D0%B5%D0%BB%D1%8C%D0%BD%D0%BE%D0%B5-%D1%80%D1%83%D0%BA%D0%BE%D0%B2%D0%BE%D0%B4%D1%81%D1%82%D0%B2%D0%BE-%D0%BF%D0%BE-%D1%80%D0%B0%D1%81%D0%BF%D0%BE%D0%B7)  "
   ]
  },
  {
   "cell_type": "markdown",
   "metadata": {},
   "source": []
  },
  {
   "cell_type": "markdown",
   "metadata": {},
   "source": []
  }
 ],
 "metadata": {
  "kernelspec": {
   "display_name": "Python 3",
   "language": "python",
   "name": "python3"
  },
  "language_info": {
   "codemirror_mode": {
    "name": "ipython",
    "version": 3
   },
   "file_extension": ".py",
   "mimetype": "text/x-python",
   "name": "python",
   "nbconvert_exporter": "python",
   "pygments_lexer": "ipython3",
   "version": "3.7.8"
  }
 },
 "nbformat": 4,
 "nbformat_minor": 4
}
