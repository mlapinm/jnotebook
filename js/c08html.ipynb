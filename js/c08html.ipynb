{
 "cells": [
  {
   "cell_type": "markdown",
   "metadata": {},
   "source": [
    "[Make a Website codecademy](#Make-a-Website-codecademy)   \n",
    "[A Closer Look at CSS](#A-Closer-Look-at-CSS)   \n",
    "[Boundaries and Space](#Boundaries-and-Space)   \n",
    "[Setting Up Your Domain](#Setting-Up-Your-Domain)  "
   ]
  },
  {
   "cell_type": "markdown",
   "metadata": {},
   "source": [
    "## Make a Website codecademy\n",
    "[Make a Website](https://www.codecademy.com/learn/make-a-website)  "
   ]
  },
  {
   "cell_type": "markdown",
   "metadata": {},
   "source": [
    "Site Structure\n",
    "LESSON\n",
    "Build structure with HTML by adding text, links, images and more.\n",
    "\n",
    "Exercises\n",
    "\n",
    "1. What are HTML and CSS?\n",
    "\n",
    "2. Anatomy of an HTML Element\n",
    "```\n",
    "<!DOCTYPE html>\n",
    "<html>\n",
    "<head>\n",
    "\t<title>Ollie Bike Sharing</title>\n",
    "\t<meta charset=\"utf-8\"/>\n",
    "\t<link rel=\"stylesheet\" type=\"text/css\" href=\"main.css\">\n",
    "</head>\n",
    "<body>\n",
    "\t<h1>I'm Building a Website!</h1>\n",
    "</body>\n",
    "</html>\n",
    "```\n",
    "3. Add a Heading\n",
    "```\n",
    "<head>\n",
    "  <title>Ollie Bike Sharing</title>\n",
    "  <meta charset=\"utf-8\"/>\n",
    "  <link rel=\"stylesheet\" type=\"text/css\" href=\"main.css\">\n",
    "</head>\n",
    "<body>\n",
    "  <h1>Ollie Bike Sharing</h1>\n",
    "  <h2>Share Your Pedals with the World.</h2>\n",
    "</body>\n",
    "</html>\n",
    "```\n",
    "4. Add a Paragraph\n",
    "```\n",
    "<!DOCTYPE html>\n",
    "<html>\n",
    "<head>\n",
    "  <title>Ollie Bike Sharing</title>\n",
    "  <meta charset=\"utf-8\"/>\n",
    "  <link rel=\"stylesheet\" type=\"text/css\" href=\"main.css\">\n",
    "</head>\n",
    "<body>\n",
    "  <h1>Ollie Bike Sharing</h1>\n",
    "  <h2>Share Your Pedals with the World.</h2>\n",
    "  <p>Need a set of wheels while you're in town? Use Ollie to pair your perfect vacation with a stylish, affordable bike rental.</p>\n",
    "</body>\n",
    "</html>\n",
    "```\n",
    "5. Anchor Elements\n",
    "\n",
    "6. A Closer Look\n",
    "\n",
    "7. Adding Images"
   ]
  },
  {
   "cell_type": "markdown",
   "metadata": {},
   "source": []
  },
  {
   "cell_type": "code",
   "execution_count": 3,
   "metadata": {},
   "outputs": [
    {
     "data": {
      "text/html": [
       "<!DOCTYPE html>\n",
       "<html>\n",
       "<head>\n",
       "  <title>Ollie Bike Sharing</title>\n",
       "  <meta charset=\"utf-8\"/>\n",
       "  <link rel=\"stylesheet\" type=\"text/css\" href=\"main.css\">\n",
       "</head>\n",
       "<body>\n",
       "  <h1>Ollie Bike Sharing</h1>\n",
       "  <h2>Share Your Pedals with the World.</h2>\n",
       "  <p>Need a set of wheels while you're in town? Use Ollie to pair your perfect vacation with a stylish, affordable bike rental. Here is a <a href=\"cities.html\">list</a> of cities where you can find us. </p>\n",
       "  <img src=\"https://s3.amazonaws.com/codecademy-content/projects/make-a-website/lesson-1/bikes2.jpg\" />\n",
       "</body>\n",
       "</html>\n"
      ],
      "text/plain": [
       "<IPython.core.display.HTML object>"
      ]
     },
     "metadata": {},
     "output_type": "display_data"
    }
   ],
   "source": [
    "%%html\n",
    "<!DOCTYPE html>\n",
    "<html>\n",
    "<head>\n",
    "  <title>Ollie Bike Sharing</title>\n",
    "  <meta charset=\"utf-8\"/>\n",
    "  <link rel=\"stylesheet\" type=\"text/css\" href=\"main.css\">\n",
    "</head>\n",
    "<body>\n",
    "  <h1>Ollie Bike Sharing</h1>\n",
    "  <h2>Share Your Pedals with the World.</h2>\n",
    "  <p>Need a set of wheels while you're in town? Use Ollie to pair your perfect vacation with a stylish, affordable bike rental. Here is a <a href=\"cities.html\">list</a> of cities where you can find us. </p>\n",
    "  <img src=\"https://s3.amazonaws.com/codecademy-content/projects/make-a-website/lesson-1/bikes2.jpg\" />\n",
    "</body>\n",
    "</html>"
   ]
  },
  {
   "cell_type": "markdown",
   "metadata": {},
   "source": [
    "8. Add a Video"
   ]
  },
  {
   "cell_type": "code",
   "execution_count": 4,
   "metadata": {},
   "outputs": [
    {
     "data": {
      "text/html": [
       "<!DOCTYPE html>\n",
       "<html>\n",
       "<head>\n",
       "  <title>Ollie Bike Sharing</title>\n",
       "  <meta charset=\"utf-8\"/>\n",
       "  <link rel=\"stylesheet\" type=\"text/css\" href=\"main.css\">\n",
       "</head>\n",
       "<body>\n",
       "  <h1>Ollie Bike Sharing</h1>\n",
       "  <h2>Share Your Pedals with the World.</h2>\n",
       "  <p>Need a set of wheels while you're in town? Use Ollie to pair your perfect vacation with a stylish, affordable bike rental. Here is a <a href=\"cities.html\">list</a> of cities where you can find us. </p>\n",
       "  <video width=\"320\" height=\"240\" controls>\n",
       "  <source src=\"https://s3.amazonaws.com/codecademy-content/projects/make-a-website/lesson-1/ollie.mp4\">\n",
       "  </video>\n",
       " </body>\n",
       "</html>\n"
      ],
      "text/plain": [
       "<IPython.core.display.HTML object>"
      ]
     },
     "metadata": {},
     "output_type": "display_data"
    }
   ],
   "source": [
    "%%html\n",
    "<!DOCTYPE html>\n",
    "<html>\n",
    "<head>\n",
    "  <title>Ollie Bike Sharing</title>\n",
    "  <meta charset=\"utf-8\"/>\n",
    "  <link rel=\"stylesheet\" type=\"text/css\" href=\"main.css\">\n",
    "</head>\n",
    "<body>\n",
    "  <h1>Ollie Bike Sharing</h1>\n",
    "  <h2>Share Your Pedals with the World.</h2>\n",
    "  <p>Need a set of wheels while you're in town? Use Ollie to pair your perfect vacation with a stylish, affordable bike rental. Here is a <a href=\"cities.html\">list</a> of cities where you can find us. </p>\n",
    "  <video width=\"320\" height=\"240\" controls>\n",
    "  <source src=\"https://s3.amazonaws.com/codecademy-content/projects/make-a-website/lesson-1/ollie.mp4\">\n",
    "  </video>\n",
    " </body>\n",
    "</html>\n"
   ]
  },
  {
   "cell_type": "markdown",
   "metadata": {},
   "source": [
    "9. Create an Unordered List"
   ]
  },
  {
   "cell_type": "code",
   "execution_count": 5,
   "metadata": {},
   "outputs": [
    {
     "data": {
      "text/html": [
       "<!DOCTYPE html>\n",
       "<html>\n",
       "<head>\n",
       "  <title>Ollie Bike Sharing</title>\n",
       "  <meta charset=\"utf-8\"/>\n",
       "  <link rel=\"stylesheet\" type=\"text/css\" href=\"main.css\">\n",
       "</head>\n",
       "<body>\n",
       "  <h2>Ollie</h2>\n",
       "  <ul>\n",
       "  <li>sign up</li>\n",
       "  <li>search bikes</li>\n",
       "  <li>reserve a bike</li>\n",
       "  <li>about us</li>\n",
       "  </ul>\n",
       "  <h1>Ollie Bike Sharing</h1>\n",
       "  <h2>Share Your Pedals with the World.</h2>\n",
       "  <p>Need a set of wheels while you're in town? Use Ollie to pair your perfect vacation with a stylish, affordable bike rental. Here is a <a href=\"cities.html\">list</a> of cities where you can find us. </p>\n",
       "  <video width=\"320\" height=\"240\" controls>\n",
       "  <source src=\"https://s3.amazonaws.com/codecademy-content/projects/make-a-website/lesson-1/ollie.mp4\">\n",
       "  </video>\n",
       " </body>\n",
       "</html>\n"
      ],
      "text/plain": [
       "<IPython.core.display.HTML object>"
      ]
     },
     "metadata": {},
     "output_type": "display_data"
    }
   ],
   "source": [
    "%%html\n",
    "<!DOCTYPE html>\n",
    "<html>\n",
    "<head>\n",
    "  <title>Ollie Bike Sharing</title>\n",
    "  <meta charset=\"utf-8\"/>\n",
    "  <link rel=\"stylesheet\" type=\"text/css\" href=\"main.css\">\n",
    "</head>\n",
    "<body>\n",
    "  <h2>Ollie</h2>\n",
    "  <ul>\n",
    "  <li>sign up</li>\n",
    "  <li>search bikes</li>\n",
    "  <li>reserve a bike</li>\n",
    "  <li>about us</li>\n",
    "  </ul>\n",
    "  <h1>Ollie Bike Sharing</h1>\n",
    "  <h2>Share Your Pedals with the World.</h2>\n",
    "  <p>Need a set of wheels while you're in town? Use Ollie to pair your perfect vacation with a stylish, affordable bike rental. Here is a <a href=\"cities.html\">list</a> of cities where you can find us. </p>\n",
    "  <video width=\"320\" height=\"240\" controls>\n",
    "  <source src=\"https://s3.amazonaws.com/codecademy-content/projects/make-a-website/lesson-1/ollie.mp4\">\n",
    "  </video>\n",
    " </body>\n",
    "</html>\n"
   ]
  },
  {
   "cell_type": "markdown",
   "metadata": {},
   "source": []
  },
  {
   "cell_type": "code",
   "execution_count": 6,
   "metadata": {},
   "outputs": [
    {
     "data": {
      "text/html": [
       "<!DOCTYPE html>\n",
       "<html>\n",
       "<head>\n",
       "  <title>Ollie Bike Sharing</title>\n",
       "  <meta charset=\"utf-8\"/>\n",
       "  <link rel=\"stylesheet\" type=\"text/css\" href=\"main.css\">\n",
       "</head>\n",
       "<body>\n",
       "  <div class=\"container\">\n",
       "    <div class=\"nav\">\n",
       "  <h2>Ollie</h2>\n",
       "  <ul>\n",
       "  <li>sign up</li>\n",
       "  <li>search bikes</li>\n",
       "  <li>reserve a bike</li>\n",
       "  <li>about us</li>\n",
       "  </ul>\n",
       "    </div>\n",
       "    <div class=\"main\">\n",
       "  <h1>Ollie Bike Sharing</h1>\n",
       "  <h2>Share Your Pedals with the World.</h2>\n",
       "  <p>Need a set of wheels while you're in town? Use Ollie to pair your perfect vacation with a stylish, affordable bike rental. Here is a <a href=\"cities.html\">list</a> of cities where you can find us. </p>\n",
       "  <video width=\"320\" height=\"240\" controls>\n",
       "  <source src=\"https://s3.amazonaws.com/codecademy-content/projects/make-a-website/lesson-1/ollie.mp4\">\n",
       "  </video>\n",
       "    </div>\n",
       "  </div>\n",
       " </body>\n",
       "</html>\n"
      ],
      "text/plain": [
       "<IPython.core.display.HTML object>"
      ]
     },
     "metadata": {},
     "output_type": "display_data"
    }
   ],
   "source": [
    "%%html\n",
    "<!DOCTYPE html>\n",
    "<html>\n",
    "<head>\n",
    "  <title>Ollie Bike Sharing</title>\n",
    "  <meta charset=\"utf-8\"/>\n",
    "  <link rel=\"stylesheet\" type=\"text/css\" href=\"main.css\">\n",
    "</head>\n",
    "<body>\n",
    "  <div class=\"container\">\n",
    "    <div class=\"nav\">\n",
    "  <h2>Ollie</h2>\n",
    "  <ul>\n",
    "  <li>sign up</li>\n",
    "  <li>search bikes</li>\n",
    "  <li>reserve a bike</li>\n",
    "  <li>about us</li>\n",
    "  </ul>\n",
    "    </div>\n",
    "    <div class=\"main\">\n",
    "  <h1>Ollie Bike Sharing</h1>\n",
    "  <h2>Share Your Pedals with the World.</h2>\n",
    "  <p>Need a set of wheels while you're in town? Use Ollie to pair your perfect vacation with a stylish, affordable bike rental. Here is a <a href=\"cities.html\">list</a> of cities where you can find us. </p>\n",
    "  <video width=\"320\" height=\"240\" controls>\n",
    "  <source src=\"https://s3.amazonaws.com/codecademy-content/projects/make-a-website/lesson-1/ollie.mp4\">\n",
    "  </video>\n",
    "    </div>\n",
    "  </div>\n",
    " </body>\n",
    "</html>\n"
   ]
  },
  {
   "cell_type": "markdown",
   "metadata": {},
   "source": []
  },
  {
   "cell_type": "markdown",
   "metadata": {},
   "source": [
    "10. Parent and Child Elements\n",
    "\n",
    "11. Add a Div\n",
    "\n",
    "12. Metadata: The Brains\n",
    "<meta charset=\"utf-8\"/>\n",
    "13. HTML Review"
   ]
  },
  {
   "cell_type": "markdown",
   "metadata": {},
   "source": [
    "### A Closer Look at CSS\n",
    "LESSON\n",
    "Learn how to style text and add background images with CSS.\n",
    "\n",
    "Exercises\n",
    "\n",
    "1. Why Use CSS?\n",
    "\n",
    "2. Link to a Stylesheet  \n",
    "<link rel=\"stylesheet\" type=\"text/css\" href=\"main.css\" />  \n",
    "3. Anatomy of a CSS Rule  \n",
    "\n",
    "4. font-family  \n",
    "  font-family: Palatino,  \n",
    "    'Palatino Linotype', serif;  \n",
    "\n",
    "5. color  \n",
    "  color: rgba(46,105,163,0.9);  \n",
    "  background-color: blue;  \n",
    "\n",
    "6. CSS Class Selectors  \n",
    "  font-family: 'Trebuchet MS', Helvetica, sans-serif;  \n",
    "7. font-size  \n",
    "  font-size: 1rem;  \n",
    "8. A Background Image  \n",
    "url(\"https://s3.amazonaws.com/codecademy-content/projects/make-a-website/lesson-2/bg.jpg\");  \n",
    "  background-size: cover;  \n",
    "9. CSS id Selectors  \n",
    "```\n",
    "#footer{\n",
    "  font-size: 0.75rem;\n",
    "}\n",
    "```\n",
    "10. CSS Review"
   ]
  },
  {
   "cell_type": "markdown",
   "metadata": {},
   "source": [
    "#### Boundaries and Space\n",
    "LESSON\n",
    "Learn how CSS can manage boundaries and space on webpages.\n",
    "\n",
    "Exercises\n",
    "\n",
    "1. The Box Model\n",
    "\n",
    "2. Create a Border  \n",
    "  border: 5px solid #FFF;  \n",
    "3. Working with Padding  \n",
    "  padding: 30px;  \n",
    "4. Working with Margin  \n",
    "\n",
    "5. More Margins  \n",
    "margin-top: 20px;  \n",
    "6. Understanding Display  \n",
    "\n",
    "7. Keep It Inline  \n",
    "nav li {  \n",
    "  display: inline;  \n",
    "8. Using Float  \n",
    "```\n",
    ".contact-btn {\n",
    " float:right;\n",
    "}\n",
    "```\n",
    "9. Display: Flex\n",
    "```\n",
    ".gallery {\n",
    "  display: flex;\n",
    "  flex-wrap: wrap;\n",
    "  justify-content: center;\n",
    "```\n",
    "10. Working with Position\n",
    "```\n",
    ".contact-btn a { \n",
    "  position: relative;\n",
    "}\n",
    "```\n",
    "11. Review"
   ]
  },
  {
   "cell_type": "markdown",
   "metadata": {},
   "source": []
  },
  {
   "cell_type": "markdown",
   "metadata": {},
   "source": [
    "Building with Bootstrap\n",
    "LESSON\n",
    "Learn to create a webpage quickly using the Twitter Bootstrap library.\n",
    "\n",
    "Exercises\n",
    "\n",
    "1. CSS Frameworks\n",
    "\n",
    "2. Connecting to Bootstrap  \n",
    "    <link rel=\"stylesheet\" href=\"https://maxcdn.bootstrapcdn.com/bootstrap/3.3.6/css/bootstrap.min.css\" />  \n",
    "3. On the Grid  \n",
    "\n",
    "4. Header/Navigation\n"
   ]
  },
  {
   "cell_type": "code",
   "execution_count": 7,
   "metadata": {},
   "outputs": [
    {
     "data": {
      "text/html": [
       "    <div class=\"row\">\n",
       "      <h1 class=\"col-sm-4\"> Skillfair </h1>\n",
       "      <nav class=\"col-sm-8 text-right\">\n",
       "        <p>newest</p>\n",
       "        <p>catalogue</p>\n",
       "        <p>contact</p>\n",
       "      </nav>\n",
       "    </div>\n"
      ],
      "text/plain": [
       "<IPython.core.display.HTML object>"
      ]
     },
     "metadata": {},
     "output_type": "display_data"
    }
   ],
   "source": [
    "%%html\n",
    "    <div class=\"row\">\n",
    "      <h1 class=\"col-sm-4\"> Skillfair </h1>\n",
    "      <nav class=\"col-sm-8 text-right\">\n",
    "        <p>newest</p>\n",
    "        <p>catalogue</p>\n",
    "        <p>contact</p>\n",
    "      </nav>\n",
    "    </div>"
   ]
  },
  {
   "cell_type": "markdown",
   "metadata": {},
   "source": [
    "5. The Jumbotron"
   ]
  },
  {
   "cell_type": "code",
   "execution_count": 8,
   "metadata": {},
   "outputs": [
    {
     "data": {
      "text/html": [
       "  <section class=\"jumbotron\">\n",
       "    <div class=\"container\">\n",
       "      <div class=\"row text-center\">\n",
       "        <h2>Homemade Goods</h2>\n",
       "        <h3>This Year's Best</h3>\n",
       "        <a class=\"btn btn-primary\" href=\"#\" role=\"button\">See all</a>\n",
       "      </div>\n",
       "    </div>\n",
       "  </section>\n"
      ],
      "text/plain": [
       "<IPython.core.display.HTML object>"
      ]
     },
     "metadata": {},
     "output_type": "display_data"
    }
   ],
   "source": [
    "%%html\n",
    "  <section class=\"jumbotron\">\n",
    "    <div class=\"container\">\n",
    "      <div class=\"row text-center\">\n",
    "        <h2>Homemade Goods</h2>\n",
    "        <h3>This Year's Best</h3>\n",
    "        <a class=\"btn btn-primary\" href=\"#\" role=\"button\">See all</a>\n",
    "      </div>\n",
    "    </div>\n",
    "  </section>\n"
   ]
  },
  {
   "cell_type": "markdown",
   "metadata": {},
   "source": [
    "6. Supporting Content"
   ]
  },
  {
   "cell_type": "code",
   "execution_count": 9,
   "metadata": {},
   "outputs": [
    {
     "data": {
      "text/html": [
       "    <div class=\"row\">\n",
       "      <figure class=\"col-sm-6\">        <p>gifts</p>\n",
       "        <img src=\"https://s3.amazonaws.com/codecademy-content/projects/make-a-website/lesson-4/gifts.jpg\"/>\n",
       "</figure>\n",
       "      <figure class=\"col-sm-6\">        <p>antiques</p>\n",
       "        <img src=\"https://s3.amazonaws.com/codecademy-content/projects/make-a-website/lesson-4/antique.jpg\"/>\n",
       "</figure>\n",
       "    </div>\n"
      ],
      "text/plain": [
       "<IPython.core.display.HTML object>"
      ]
     },
     "metadata": {},
     "output_type": "display_data"
    }
   ],
   "source": [
    "%%html\n",
    "    <div class=\"row\">\n",
    "      <figure class=\"col-sm-6\">        <p>gifts</p>\n",
    "        <img src=\"https://s3.amazonaws.com/codecademy-content/projects/make-a-website/lesson-4/gifts.jpg\"/>\n",
    "</figure>\n",
    "      <figure class=\"col-sm-6\">        <p>antiques</p>\n",
    "        <img src=\"https://s3.amazonaws.com/codecademy-content/projects/make-a-website/lesson-4/antique.jpg\"/>\n",
    "</figure>\n",
    "    </div>\n"
   ]
  },
  {
   "cell_type": "markdown",
   "metadata": {},
   "source": [
    "7. Footers"
   ]
  },
  {
   "cell_type": "code",
   "execution_count": 10,
   "metadata": {},
   "outputs": [
    {
     "data": {
      "text/html": [
       "<!DOCTYPE html>\n",
       "<html>\n",
       "<head>\n",
       "  <title>Skillfair</title>\n",
       "  <meta charset=\"utf-8\"/>\n",
       "  <link rel=\"stylesheet\" href=\"https://maxcdn.bootstrapcdn.com/bootstrap/3.3.6/css/bootstrap.min.css\" integrity=\"sha384-1q8mTJOASx8j1Au+a5WDVnPi2lkFfwwEAa8hDDdjZlpLegxhjVME1fgjWPGmkzs7\" crossorigin=\"anonymous\">\n",
       "  <link href='https://fonts.googleapis.com/css?family=Roboto:300,400,700' rel='stylesheet' type='text/css'>\n",
       "  <link rel=\"stylesheet\" type=\"text/css\" href=\"main.css\">\n",
       "</head>\n",
       "<body>\n",
       "  <header class=\"container\">\n",
       "    <div class=\"row\">\n",
       "      <h1 class=\"col-sm-4\"> Skillfair </h1>\n",
       "      <nav class=\"col-sm-8 text-right\">\n",
       "        <p>newest</p>\n",
       "        <p>catalogue</p>\n",
       "        <p>contact</p>\n",
       "      </nav>\n",
       "    </div>\n",
       "  </header>\n",
       "  <section class=\"jumbotron\">\n",
       "    <div class=\"container\">\n",
       "      <div class=\"row text-center\">\n",
       "        <h2>Homemade Goods</h2>\n",
       "        <h3>This Year's Best</h3>\n",
       "        <a class=\"btn btn-primary\" href=\"#\" role=\"button\">See all</a>\n",
       "      </div>\n",
       "    </div>\n",
       "  </section>\n",
       "  <section class=\"container\">\n",
       "    <div class=\"row\">\n",
       "      <figure class=\"col-sm-6\">\n",
       "        <p>kitchen</p>\n",
       "        <img src=\"https://s3.amazonaws.com/codecademy-content/projects/make-a-website/lesson-4/kitchen.jpg\"/>\n",
       "      </figure>\n",
       "      <figure class=\"col-sm-6\">        <p>woodwork</p>\n",
       "        <img src=\"https://s3.amazonaws.com/codecademy-content/projects/make-a-website/lesson-4/woodwork.jpg\"/>\n",
       "</figure>\n",
       "    </div>\n",
       "    <div class=\"row\">\n",
       "      <figure class=\"col-sm-6\">        <p>gifts</p>\n",
       "        <img src=\"https://s3.amazonaws.com/codecademy-content/projects/make-a-website/lesson-4/gifts.jpg\"/>\n",
       "</figure>\n",
       "      <figure class=\"col-sm-6\">        <p>antiques</p>\n",
       "        <img src=\"https://s3.amazonaws.com/codecademy-content/projects/make-a-website/lesson-4/antique.jpg\"/>\n",
       "</figure>\n",
       "    </div>\n",
       "    </div>\n",
       "  </section>\n",
       "  <footer class=\"container\">\n",
       "    <div class=\"row\">\n",
       "      <p class=\"col-sm-4\">&copy; 2016 Skillfair</p>\n",
       "      <ul class=\"col-sm-8\">\n",
       "        <li class=\"col-sm-1\">  <img src=\"https://s3.amazonaws.com/codecademy-content/projects/make-a-website/lesson-4/twitter.svg\"></li>\n",
       "        <li class=\"col-sm-1\"><img src=\"https://s3.amazonaws.com/codecademy-content/projects/make-a-website/lesson-4/facebook.svg\"></li>\n",
       "        <li class=\"col-sm-1\">  <img src=\"https://s3.amazonaws.com/codecademy-content/projects/make-a-website/lesson-4/instagram.svg\">\n",
       "        </li>\n",
       "        <li class=\"col-sm-1\"><img src=\"https://s3.amazonaws.com/codecademy-content/projects/make-a-website/lesson-4/medium.svg\"></li>\n",
       "      </ul>\n",
       "      </div>\n",
       "  </footer>\n",
       "</body>\n",
       "</html>\n"
      ],
      "text/plain": [
       "<IPython.core.display.HTML object>"
      ]
     },
     "metadata": {},
     "output_type": "display_data"
    }
   ],
   "source": [
    "%%html\n",
    "<!DOCTYPE html>\n",
    "<html>\n",
    "<head>\n",
    "  <title>Skillfair</title>\n",
    "  <meta charset=\"utf-8\"/>\n",
    "  <link rel=\"stylesheet\" href=\"https://maxcdn.bootstrapcdn.com/bootstrap/3.3.6/css/bootstrap.min.css\" integrity=\"sha384-1q8mTJOASx8j1Au+a5WDVnPi2lkFfwwEAa8hDDdjZlpLegxhjVME1fgjWPGmkzs7\" crossorigin=\"anonymous\">\n",
    "  <link href='https://fonts.googleapis.com/css?family=Roboto:300,400,700' rel='stylesheet' type='text/css'>\n",
    "  <link rel=\"stylesheet\" type=\"text/css\" href=\"main.css\">\n",
    "</head>\n",
    "<body>\n",
    "  <header class=\"container\">\n",
    "    <div class=\"row\">\n",
    "      <h1 class=\"col-sm-4\"> Skillfair </h1>\n",
    "      <nav class=\"col-sm-8 text-right\">\n",
    "        <p>newest</p>\n",
    "        <p>catalogue</p>\n",
    "        <p>contact</p>\n",
    "      </nav>\n",
    "    </div>\n",
    "  </header>\n",
    "  <section class=\"jumbotron\">\n",
    "    <div class=\"container\">\n",
    "      <div class=\"row text-center\">\n",
    "        <h2>Homemade Goods</h2>\n",
    "        <h3>This Year's Best</h3>\n",
    "        <a class=\"btn btn-primary\" href=\"#\" role=\"button\">See all</a>\n",
    "      </div>\n",
    "    </div>\n",
    "  </section>\n",
    "  <section class=\"container\">\n",
    "    <div class=\"row\">\n",
    "      <figure class=\"col-sm-6\">\n",
    "        <p>kitchen</p>\n",
    "        <img src=\"https://s3.amazonaws.com/codecademy-content/projects/make-a-website/lesson-4/kitchen.jpg\"/>\n",
    "      </figure>\n",
    "      <figure class=\"col-sm-6\">        <p>woodwork</p>\n",
    "        <img src=\"https://s3.amazonaws.com/codecademy-content/projects/make-a-website/lesson-4/woodwork.jpg\"/>\n",
    "</figure>\n",
    "    </div>\n",
    "    <div class=\"row\">\n",
    "      <figure class=\"col-sm-6\">        <p>gifts</p>\n",
    "        <img src=\"https://s3.amazonaws.com/codecademy-content/projects/make-a-website/lesson-4/gifts.jpg\"/>\n",
    "</figure>\n",
    "      <figure class=\"col-sm-6\">        <p>antiques</p>\n",
    "        <img src=\"https://s3.amazonaws.com/codecademy-content/projects/make-a-website/lesson-4/antique.jpg\"/>\n",
    "</figure>\n",
    "    </div>\n",
    "    </div>\n",
    "  </section>\n",
    "  <footer class=\"container\">\n",
    "    <div class=\"row\">\n",
    "      <p class=\"col-sm-4\">&copy; 2016 Skillfair</p>\n",
    "      <ul class=\"col-sm-8\">\n",
    "        <li class=\"col-sm-1\">  <img src=\"https://s3.amazonaws.com/codecademy-content/projects/make-a-website/lesson-4/twitter.svg\"></li>\n",
    "        <li class=\"col-sm-1\"><img src=\"https://s3.amazonaws.com/codecademy-content/projects/make-a-website/lesson-4/facebook.svg\"></li>\n",
    "        <li class=\"col-sm-1\">  <img src=\"https://s3.amazonaws.com/codecademy-content/projects/make-a-website/lesson-4/instagram.svg\">\n",
    "        </li>\n",
    "        <li class=\"col-sm-1\"><img src=\"https://s3.amazonaws.com/codecademy-content/projects/make-a-website/lesson-4/medium.svg\"></li>\n",
    "      </ul>\n",
    "      </div>\n",
    "  </footer>\n",
    "</body>\n",
    "</html>\n"
   ]
  },
  {
   "cell_type": "markdown",
   "metadata": {},
   "source": [
    "8. Bootstrap Generalizations"
   ]
  },
  {
   "cell_type": "markdown",
   "metadata": {},
   "source": [
    "### Setting Up Your Domain\n",
    "LESSON\n",
    "In this lesson, learn the best strategies for choosing a domain name for your personal portfolio.\n",
    "\n",
    "Exercises\n",
    "\n",
    "1. How Websites Work\n",
    "\n",
    "2. Choosing a Domain Name  \n",
    "[Namecheap x Codecademy](https://codecademy.namecheap.com/)\n",
    "\n",
    "3. Registering a Domain Name with Namecheap\n",
    "\n",
    "4. Hosting your Site with Namecheap"
   ]
  },
  {
   "cell_type": "markdown",
   "metadata": {},
   "source": []
  },
  {
   "cell_type": "markdown",
   "metadata": {},
   "source": []
  },
  {
   "cell_type": "markdown",
   "metadata": {},
   "source": [
    "24.02 0-20\n",
    "25.02 40-60-80-  "
   ]
  },
  {
   "cell_type": "markdown",
   "metadata": {},
   "source": [
    "_|_|_|_|_|_\n",
    "--|--|--|--|--|--\n",
    "referred |называется|skill|навык|Awesome|потрясающе\n",
    "essential |существенный|bulleted|маркирован|nesting |вложенность\n",
    "involved |участвуют||||\n",
    "|||||\n",
    "|||||\n",
    "|||||\n"
   ]
  }
 ],
 "metadata": {
  "kernelspec": {
   "display_name": "Python 3",
   "language": "python",
   "name": "python3"
  },
  "language_info": {
   "codemirror_mode": {
    "name": "ipython",
    "version": 3
   },
   "file_extension": ".py",
   "mimetype": "text/x-python",
   "name": "python",
   "nbconvert_exporter": "python",
   "pygments_lexer": "ipython3",
   "version": "3.7.8"
  }
 },
 "nbformat": 4,
 "nbformat_minor": 2
}
