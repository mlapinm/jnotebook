{
 "cells": [
  {
   "cell_type": "markdown",
   "metadata": {},
   "source": [
    "### Take Home Projects"
   ]
  },
  {
   "cell_type": "markdown",
   "metadata": {},
   "source": [
    "[Introduction to the Coding Interview Take Home Projects](#Introduction-to-the-Coding-Interview-Take-Home-Projects)  \n",
    "[1. Show the Local Weather](#1.-Show-the-Local-Weather)  \n",
    "[2. Build a Wikipedia Viewer](#2.-Build-a-Wikipedia-Viewer)  \n",
    "[3. Use the Twitch JSON API](#3.-Use-the-Twitch-JSON-API)  \n",
    "[4. Build an Image Search Abstraction Layer](#4.-Build-an-Image-Search-Abstraction-Layer)  \n",
    "[5. Build a Tic Tac Toe Game](#5.-Build-a-Tic-Tac-Toe-Game)  \n",
    "[6. Build a Simon Game](#6.-Build-a-Simon-Game)  \n",
    "[7. Build a freeCodeCamp Forum Homepage](#7.-Build-a-freeCodeCamp-Forum-Homepage)  \n",
    "[8. Build a Recipe Box](#8.-Build-a-Recipe-Box)  \n",
    "[9. Build the Game of Life](#9.-Build-the-Game-of-Life)  \n",
    "[10. Build a Roguelike Dungeon Crawler Game](#10.-Build-a-Roguelike-Dungeon-Crawler-Game)  \n",
    "[11. P2P Video Chat Application](#11.-P2P-Video-Chat-Application)  \n",
    "[12. Show National Contiguity with a Force Directed Graph](#12.-Show-National-Contiguity-with-a-Force-Directed-Graph)  \n",
    "[13. Map Data Across the Globe](#13.-Map-Data-Across-the-Globe)  \n",
    "[14. Manage a Book Trading Club](#14.-Manage-a-Book-Trading-Club)  \n",
    "[15. Build a Pinterest Clone](#15.-Build-a-Pinterest-Clone)  \n",
    "[16. Build a Nightlife Coordination App](#16.-Build-a-Nightlife-Coordination-App)  \n",
    "[17. Chart the Stock Market](#17.-Chart-the-Stock-Market)  \n",
    "[18. Build a Voting App](#18.-Build-a-Voting-App)  \n",
    "[19. Build a Pong Game](#19.-Build-a-Pong-Game)  \n",
    "[20. Build a Light-Bright App](#20.-Build-a-Light-Bright-App)  \n"
   ]
  },
  {
   "cell_type": "markdown",
   "metadata": {},
   "source": []
  },
  {
   "cell_type": "markdown",
   "metadata": {},
   "source": [
    "#### Introduction to the Coding Interview Take Home Projects \n",
    "https://fcc-weather-api.glitch.me/api/current?lat=59.9508265&lon=30.4775539 \n",
    "```\n",
    "{\"coord\":{\"lon\":139,\"lat\":35},\n",
    "\"weather\":[{\"id\":803,\"main\":\"Clouds\",\"description\":\"broken clouds\"}],\n",
    "\"base\":\"stations\",\n",
    "\"main\":{\"temp\":28.23,\"pressure\":1011,\"humidity\":74,\"temp_min\":26,\"temp_max\":31},\n",
    "\"visibility\":10000,\n",
    "\"wind\":{\"speed\":3.6,\"deg\":230},\n",
    "\"clouds\":{\"all\":75},\n",
    "\"dt\":1499396400,\n",
    "\"sys\":{\"type\":1,\"id\":7616,\"message\":0.0043,\"country\":\"JP\",\"sunrise\":1499369792,\"sunset\":1499421666},\n",
    "\"id\":1851632,\n",
    "\"name\":\"Shuzenji\",\n",
    "\"cod\":200}\n",
    "```\n",
    "#### 1. Show the Local Weather\n",
    "[view](https://codepen.io/mlapin/full/zYvLjpq)   \n",
    "[dashboard](https://codepen.io/mlapin/pen/zYvLjpq)\n",
    "[work template](https://codepen.io/freeCodeCamp/pen/bELRjV)  \n",
    "[view template](https://codepen.io/freeCodeCamp/full/bELRjV)  \n",
    "[https://rapidapi.com/](https://rapidapi.com/)  \n",
    "[]()  \n",
    "[]()  \n",
    "[]()  \n",
    "[]()  \n",
    "[]()  \n",
    "```\n",
    "```\n"
   ]
  },
  {
   "cell_type": "markdown",
   "metadata": {},
   "source": [
    "#### 2. Build a Wikipedia Viewer\n",
    "h02wikiViewer  \n",
    "[dashboard](https://codepen.io/mlapin/pen/abvaNej)  \n",
    "[h02wikiViewer](https://codepen.io/mlapin/full/abvaNej)  \n",
    "[work template](https://codepen.io/freeCodeCamp/pen/wGqEga)  \n",
    "[view template](https://codepen.io/freeCodeCamp/full/wGqEga/)  \n",
    "[angularjs codecademy](https://www.codecademy.com/courses/learn-angularjs/lessons/directives/exercises/directives-generalizations)  \n",
    "[angularjs.org](https://docs.angularjs.org/api/ng/service/$http#jsonp)  \n",
    "[AngularJS $http.jsonp() Service Example](https://www.tutlane.com/tutorial/angularjs/angularjs-http-jsonp-http-jsonp-service-method-example)  \n",
    "[]()  \n",
    "[req](https://ru.wikipedia.org/w/api.php?format=json&action=query&generator=search&gsrnamespace=0&gsrlimit=10&prop=pageimages|extracts&pilimit=max&exintro&explaintext&exsentences=1&exlimit=max&gsrsearch=форд&callback=JSON_CALLBACK)  \n",
    "\n",
    "```\n",
    "```"
   ]
  },
  {
   "cell_type": "markdown",
   "metadata": {},
   "source": [
    "#### 3. Use the Twitch JSON API\n",
    "[dashboard]()  \n",
    "[view]()  \n",
    "[work template]()  \n",
    "[view template]()  \n",
    "[pianistkakatrine](https://www.twitch.tv/pianistkakatrine)  \n",
    "[poker](https://www.twitch.tv/ac7ionmannn)  \n",
    "[Нарды](https://www.twitch.tv/dubler1/video/617975619)  \n",
    "[games.md](https://github.com/mlapinm/A02Nh/blob/master/games.md)  \n",
    "[twitch.tv/docs](https://dev.twitch.tv/docs/v5)  \n",
    "[]()  \n",
    "[]()  \n",
    "```\n",
    "```"
   ]
  },
  {
   "cell_type": "markdown",
   "metadata": {},
   "source": []
  },
  {
   "cell_type": "markdown",
   "metadata": {},
   "source": [
    "#### 4. Build an Image Search Abstraction Layer\n",
    "- api google\n",
    "- clitch\n",
    "[dashboard]()  \n",
    "[view]()  \n",
    "[work template]()  \n",
    "[view template]()  \n",
    "[Image Search Abstraction Layer Part 1](https://www.youtube.com/watch?v=3TDtF4S4m4M)  \n",
    "[Image Search Abstraction Layer Part 2](https://www.youtube.com/watch?v=hCa2k0ab_vw)  \n",
    "[]()  \n",
    "[]()  \n",
    "[]()  \n",
    "[]()  \n",
    "```\n",
    "```"
   ]
  },
  {
   "cell_type": "markdown",
   "metadata": {},
   "source": []
  },
  {
   "cell_type": "markdown",
   "metadata": {},
   "source": [
    "#### 5. Build a Tic Tac Toe Game\n",
    "[dashboard](https://codepen.io/mlapin/pen/WNQaqgR)  \n",
    "[h05tictac](https://codepen.io/mlapin/full/WNQaqgR)  \n",
    "[work template]()  \n",
    "[view template]()  \n",
    "[]()  \n",
    "[]()  \n",
    "```\n",
    "```"
   ]
  },
  {
   "cell_type": "markdown",
   "metadata": {},
   "source": []
  },
  {
   "cell_type": "markdown",
   "metadata": {},
   "source": [
    "#### 6. Build a Simon Game\n",
    "[dashboard](https://codepen.io/mlapin/pen/JjYmgdq)  \n",
    "[h06Simon](https://codepen.io/mlapin/full/JjYmgdq)  \n",
    "[work template](https://codepen.io/Em-Ant/pen/QbRyqq)  \n",
    "[view template]()  \n",
    "[]()  \n",
    "[]()  \n",
    "```\n",
    "```"
   ]
  },
  {
   "cell_type": "markdown",
   "metadata": {},
   "source": []
  },
  {
   "cell_type": "markdown",
   "metadata": {},
   "source": [
    "#### 7. Build a freeCodeCamp Forum Homepage\n",
    "[dashboard](https://codepen.io/mlapin/pen/MWaPNKX)  \n",
    "[h07Forum](https://codepen.io/mlapin/full/MWaPNKX)  \n",
    "[work template](https://codepen.io/freeCodeCamp/pen/JqdoMV)  \n",
    "[view template](https://codepen.io/freeCodeCamp/full/JqdoMV)  \n",
    "[]()  \n",
    "[]()  \n",
    "```\n",
    "```\n"
   ]
  },
  {
   "cell_type": "markdown",
   "metadata": {},
   "source": []
  },
  {
   "cell_type": "markdown",
   "metadata": {},
   "source": [
    "#### 8. Build a Recipe Box\n",
    "[dashboard](https://codepen.io/mlapin/pen/wvKYVWe)  \n",
    "[h08Recipe](https://codepen.io/mlapin/full/wvKYVWe)  \n",
    "[work template](https://codepen.io/freeCodeCamp/pen/dNVazZ)  \n",
    "[view template](https://codepen.io/freeCodeCamp/full/dNVazZ/)  \n",
    "[]()  \n",
    "[]()  \n",
    "```\n",
    "```\n"
   ]
  },
  {
   "cell_type": "markdown",
   "metadata": {},
   "source": []
  },
  {
   "cell_type": "markdown",
   "metadata": {},
   "source": [
    "#### 9. Build the Game of Life\n",
    "[dashboard](https://codepen.io/mlapin/pen/YzyJdgV)  \n",
    "[h09Life](https://codepen.io/mlapin/full/YzyJdgV)  \n",
    "[view template](https://codepen.io/freeCodeCamp/full/BpwMZv)  \n",
    "[]()  \n",
    "[]()  \n",
    "```\n",
    "```\n",
    "##### only html\n",
    "##### empty react\n"
   ]
  },
  {
   "cell_type": "markdown",
   "metadata": {},
   "source": [
    "##### only html\n",
    "```\n",
    "#app\n",
    "  .boardWrapper\n",
    "    .board\n",
    "      .cell{:style => \"background-color:black;\"}\n",
    "      .cell{:style => \"background-color:black;\"}\n",
    "      .cell{:style => \"background-color:black;\"}\n",
    "```"
   ]
  },
  {
   "cell_type": "markdown",
   "metadata": {},
   "source": [
    "```\n",
    "@import url('https://fonts.googleapis.com/css?family=Orbitron|Shrikhand|Six+Caps');\n",
    "$cell-dimensions: 15px;\n",
    "$board-width: $cell-dimensions * 50;\n",
    "$board-height: $cell-dimensions * 30;\n",
    "$dark-highlight: lighten(black, 15%);\n",
    "$light-green: #66ff33;\n",
    "$cell-border: 1px solid $dark-highlight;\n",
    "body {\n",
    "  background: black;\n",
    "  font-family: Orbitron\n",
    "}\n",
    "\n",
    "#app {\n",
    "  display: flex;\n",
    "  //height: 100vh;\n",
    "  justify-content: center;\n",
    "  align-items: center;\n",
    "}\n",
    "\n",
    ".title {\n",
    "  color: $light-green;\n",
    "  font-family: Shrikhand;\n",
    "  font-size: 35px;\n",
    "  text-align: center;\n",
    "  margin-bottom: 3px;\n",
    "}\n",
    "\n",
    ".boardWrapper {\n",
    "  padding: 5px;\n",
    "  background: $dark-highlight;\n",
    "  border-radius: 5px;\n",
    "  .board {\n",
    "    height: $board-height;\n",
    "    width: $board-width;\n",
    "    border-top: $cell-border;\n",
    "    border-left: $cell-border;\n",
    "    .cell {\n",
    "      //background-color: black;\n",
    "      height: $cell-dimensions;\n",
    "      width: $cell-dimensions;\n",
    "      box-sizing: border-box;\n",
    "      border-right: $cell-border;\n",
    "      border-bottom: $cell-border;\n",
    "      float: left;\n",
    "      font-size: 7px;\n",
    "      color: orange;\n",
    "    }\n",
    "  }\n",
    "}\n",
    "```"
   ]
  },
  {
   "cell_type": "markdown",
   "metadata": {},
   "source": [
    "##### empty react\n",
    "```\n",
    "\n",
    "function log(value){\n",
    "      let div1 = document.getElementById(\"div1\");\n",
    "    div1.innerText = value;\n",
    "\n",
    "}\n",
    "\n",
    "class GameOfLife extends React.Component{\n",
    "  constructor(props){\n",
    "    super(props);\n",
    "    this.state={\n",
    "      patterns: []\n",
    "    };\n",
    "    this.createBoard = this.createBoard.bind(this); \n",
    "  }\n",
    "  createBoard(cells){\n",
    "    let config = [];\n",
    "    config.push(1);\n",
    "    \n",
    "    return config;\n",
    "  }\n",
    "  \n",
    "  render(){\n",
    "    log(3334444);\n",
    "    return (    <div>11111111111</div>\n",
    "    );\n",
    "  }\n",
    "}\n",
    "\n",
    "ReactDOM.render(\n",
    "<GameOfLife/>,\n",
    "  document.getElementById('app')\n",
    ");\n",
    "```"
   ]
  },
  {
   "cell_type": "markdown",
   "metadata": {},
   "source": []
  },
  {
   "cell_type": "markdown",
   "metadata": {},
   "source": []
  },
  {
   "cell_type": "markdown",
   "metadata": {},
   "source": []
  },
  {
   "cell_type": "markdown",
   "metadata": {},
   "source": [
    "#### 10. Build a Roguelike Dungeon Crawler Game\n",
    "[dashboard](https://codepen.io/mlapin/pen/bGVmXrY)  \n",
    "[h10Roguelike](https://codepen.io/mlapin/full/bGVmXrY)  \n",
    "[work template](https://codepen.io/freeCodeCamp/pen/apLXEJ)  \n",
    "[view template](https://codepen.io/freeCodeCamp/full/apLXEJ/)  \n",
    "[]()  \n",
    "[]()  \n",
    "```\n",
    "```\n"
   ]
  },
  {
   "cell_type": "markdown",
   "metadata": {},
   "source": []
  },
  {
   "cell_type": "markdown",
   "metadata": {},
   "source": [
    "#### 11. P2P Video Chat Application\n",
    "[dashboard](https://glitch.com/edit/#!/cooked-glaze-ant?path=README.md%3A1%3A0)  \n",
    "[h11P2P](https://cooked-glaze-ant.glitch.me/)  \n",
    "[work template]()  \n",
    "[view template](https://grove-voice.glitch.me/)  \n",
    "[]()  \n",
    "[]()  \n",
    "```\n",
    "```\n"
   ]
  },
  {
   "cell_type": "markdown",
   "metadata": {},
   "source": []
  },
  {
   "cell_type": "markdown",
   "metadata": {},
   "source": [
    "#### 12. Show National Contiguity with a Force Directed Graph\n",
    "[dashboard](https://codepen.io/mlapin/pen/VwvEoGK)  \n",
    "[h12Contiguity](https://codepen.io/mlapin/full/VwvEoGK)  \n",
    "[work template](https://codepen.io/freeCodeCamp/pen/xVopBo)  \n",
    "[view template](https://codepen.io/freeCodeCamp/full/xVopBo)  \n",
    "[]()  \n",
    "[]()  \n",
    "```\n",
    "```"
   ]
  },
  {
   "cell_type": "markdown",
   "metadata": {},
   "source": []
  },
  {
   "cell_type": "markdown",
   "metadata": {},
   "source": [
    "#### 13. Map Data Across the Globe\n",
    "[dashboard](https://codepen.io/mlapin/pen/yLYRmWr)  \n",
    "[h13Map](https://codepen.io/mlapin/full/yLYRmWr)  \n",
    "[work template](https://codepen.io/freeCodeCamp/pen/mVEJag)  \n",
    "[view template](https://codepen.io/freeCodeCamp/full/mVEJag)  \n",
    "[]()  \n",
    "[]()  \n",
    "```\n",
    "```"
   ]
  },
  {
   "cell_type": "markdown",
   "metadata": {},
   "source": []
  },
  {
   "cell_type": "markdown",
   "metadata": {},
   "source": [
    "#### 14. Manage a Book Trading Club\n",
    "[dashboard](https://glitch.com/edit/#!/burly-garrulous-respect?path=server.js%3A1%3A0)  \n",
    "[h14BookTrading](https://burly-garrulous-respect.glitch.me/)  \n",
    "[work template]()  \n",
    "[view template]()  \n",
    "[]()  \n",
    "[]()  \n",
    "```\n",
    "```"
   ]
  },
  {
   "cell_type": "markdown",
   "metadata": {},
   "source": []
  },
  {
   "cell_type": "markdown",
   "metadata": {},
   "source": [
    "#### 15. Build a Pinterest Clone\n",
    "[dashboard](https://glitch.com/edit/#!/scandalous-cake-dumpling?path=README.md%3A1%3A0)  \n",
    "[h15Pinterest](https://scandalous-cake-dumpling.glitch.me/)  \n",
    "[work template]()  \n",
    "[view template](https://wild-song.glitch.me/)  \n",
    "[]()  \n",
    "[]()  \n",
    "```\n",
    "```"
   ]
  },
  {
   "cell_type": "markdown",
   "metadata": {},
   "source": []
  },
  {
   "cell_type": "markdown",
   "metadata": {},
   "source": [
    "#### 16. Build a Nightlife Coordination App\n",
    "[dashboard]()  \n",
    "[h16Nightlife]()  \n",
    "[work template]()  \n",
    "[view template](http://whatsgoinontonight.herokuapp.com/)  \n",
    "[]()  \n",
    "[]()  \n",
    "```\n",
    "```"
   ]
  },
  {
   "cell_type": "markdown",
   "metadata": {},
   "source": []
  },
  {
   "cell_type": "markdown",
   "metadata": {},
   "source": []
  },
  {
   "cell_type": "markdown",
   "metadata": {},
   "source": []
  },
  {
   "cell_type": "markdown",
   "metadata": {},
   "source": []
  },
  {
   "cell_type": "markdown",
   "metadata": {},
   "source": []
  },
  {
   "cell_type": "markdown",
   "metadata": {},
   "source": []
  },
  {
   "cell_type": "markdown",
   "metadata": {},
   "source": [
    "#### 17. Chart the Stock Market\n",
    "[dashboard]()  \n",
    "[h17StockMarket]()  \n",
    "[work template]()  \n",
    "[view template](http://watchstocks.herokuapp.com/)  \n",
    "[]()  \n",
    "[]()  \n",
    "```\n",
    "```\n",
    "#### 18. Build a Voting App\n",
    "[dashboard]()  \n",
    "[h18Voting]()  \n",
    "[work template]()  \n",
    "[view template](https://fcc-voting-arthow4n.herokuapp.com/polls)  \n",
    "[]()  \n",
    "[]()  \n",
    "```\n",
    "```\n",
    "#### 19. Build a Pong Game\n",
    "[dashboard](https://codepen.io/mlapin/pen/RwWqbRx)  \n",
    "[h19Pong](https://codepen.io/mlapin/full/RwWqbRx)  \n",
    "[work template](https://codepen.io/satyamdev/full/pdMmBp)  \n",
    "[view template](https://codepen.io/satyamdev/full/pdMmBp)  \n",
    "[]()  \n",
    "[]()  \n",
    "```\n",
    "```\n",
    "#### 20. Build a Light-Bright App\n",
    "[dashboard](https://codepen.io/mlapin/pen/vYNQByp)  \n",
    "[h20Light-Bright](https://codepen.io/mlapin/full/vYNQByp)  \n",
    "[work template](https://codepen.io/freeCodeCamp/pen/eyLYXE)  \n",
    "[view template](https://codepen.io/freeCodeCamp/full/eyLYXE)  \n",
    "[]()  \n",
    "[]()  \n",
    "```\n",
    "```"
   ]
  },
  {
   "cell_type": "markdown",
   "metadata": {},
   "source": [
    "#### h21xPjson\n",
    "[h21xPjson](https://codepen.io/mlapin/pen/mdezOMG)  \n",
    "[]()  \n",
    "[Коммуникация между сайтами с помощью JSONP](https://www.youtube.com/watch?v=OIaaoSUBW0s)  \n",
    "[view template]()  \n",
    "[json](https://raw.githubusercontent.com/mlapinm/A02Nh/master/json/data.json)  \n",
    "```\n",
    "```"
   ]
  },
  {
   "cell_type": "markdown",
   "metadata": {},
   "source": [
    "#### h22xPjson\n",
    "[h22xPjson](https://codepen.io/mlapin/pen/MWaPpWB)  \n",
    "[Использование техники JSONP Борисов](https://www.youtube.com/watch?v=VyIvCFUw17g)  \n",
    "[api.flickr.com](http://api.flickr.com/services/feeds/photos_public.gne?tags=cars)  \n",
    "[]()  \n",
    "[]()  \n",
    "[]()  \n"
   ]
  },
  {
   "cell_type": "markdown",
   "metadata": {},
   "source": [
    "1. iexplorer открывает xml\n",
    "1. format=json  \n",
    "[json](http://api.flickr.com/services/feeds/photos_public.gne?tags=cars&format=json)\n",
    "1. &jsoncallback  \n",
    "[json](http://api.flickr.com/services/feeds/photos_public.gne?tags=cars&format=json&jsoncallback)\n",
    "1. jsonFlickrFeed\n",
    "demo.js\n",
    "1. \n",
    "1. \n",
    "1. \n"
   ]
  },
  {
   "cell_type": "markdown",
   "metadata": {},
   "source": []
  },
  {
   "cell_type": "markdown",
   "metadata": {},
   "source": []
  },
  {
   "cell_type": "markdown",
   "metadata": {},
   "source": []
  },
  {
   "cell_type": "markdown",
   "metadata": {},
   "source": []
  },
  {
   "cell_type": "markdown",
   "metadata": {},
   "source": []
  },
  {
   "cell_type": "markdown",
   "metadata": {},
   "source": [
    "[freecodecamp](https://www.freecodecamp.org/learn)  \n",
    "[]()  \n",
    "[h22xPjson](https://codepen.io/mlapin/pen/MWaPpWB)  \n",
    "[]()  \n",
    "[]()  \n"
   ]
  }
 ],
 "metadata": {
  "kernelspec": {
   "display_name": "Python 3",
   "language": "python",
   "name": "python3"
  },
  "language_info": {
   "codemirror_mode": {
    "name": "ipython",
    "version": 3
   },
   "file_extension": ".py",
   "mimetype": "text/x-python",
   "name": "python",
   "nbconvert_exporter": "python",
   "pygments_lexer": "ipython3",
   "version": "3.7.4"
  }
 },
 "nbformat": 4,
 "nbformat_minor": 2
}
