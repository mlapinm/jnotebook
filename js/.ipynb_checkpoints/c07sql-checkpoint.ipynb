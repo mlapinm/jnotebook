{
 "cells": [
  {
   "cell_type": "markdown",
   "metadata": {},
   "source": [
    "[Learn SQL codecademy](#Learn-SQL-codecademy)   \n",
    "[Manipulation](#Manipulation)   \n",
    "[Queries](#Queries)   \n",
    "[Aggregate Functions](#Aggregate-Functions)   \n",
    "[Aggregate Functions](#Aggregate-Functions)   \n",
    "[Multiple Tables](#Multiple-Tables)   \n"
   ]
  },
  {
   "cell_type": "markdown",
   "metadata": {},
   "source": [
    "## Learn SQL codecademy\n",
    "[Learn SQL](https://www.codecademy.com/learn/learn-sql)  "
   ]
  },
  {
   "cell_type": "markdown",
   "metadata": {},
   "source": [
    "#### Manipulation\n",
    "LESSON\n",
    "Get up and running with SQL by learning commands to manipulate data stored in relational databases.\n",
    "\n",
    "Exercises\n",
    "\n",
    "1. Introduction to SQL  \n",
    "SQLite  \n",
    " SELECT * FROM celebs;  \n"
   ]
  },
  {
   "cell_type": "markdown",
   "metadata": {},
   "source": [
    "id | name | age\n",
    "--|--|--\n",
    "1 | Justin Bieber | 22\n",
    "2 | Beyonce Knowles | 33\n",
    "3 | Jeremy Lin | 26\n",
    "4 | Taylor Swift | 26"
   ]
  },
  {
   "cell_type": "markdown",
   "metadata": {},
   "source": [
    "2. Relational Databases"
   ]
  },
  {
   "cell_type": "markdown",
   "metadata": {},
   "source": [
    "id | INTEGER\n",
    "--|--\n",
    "name | TEXT\n",
    "age | INTEGER"
   ]
  },
  {
   "cell_type": "markdown",
   "metadata": {},
   "source": []
  },
  {
   "cell_type": "markdown",
   "metadata": {},
   "source": [
    "3. Statements  \n",
    "SELECT * FROM celebs;  \n",
    "4. Create\n",
    "```\n",
    "SELECT * FROM celebs;\n",
    "CREATE TABLE celebs (\n",
    "   id INTEGER, \n",
    "   name TEXT, \n",
    "   age INTEGER\n",
    "); \n",
    "SELECT * FROM celebs;\n",
    "```\n",
    "5. Insert\n",
    "```\n",
    "INSERT INTO celebs (id, name, age) VALUES (1, 'Justin Bieber', 22); \n",
    "INSERT INTO celebs (id, name, age) VALUES (2, 'Beyonce Knowles', 33);\n",
    "INSERT INTO celebs (id, name, age) VALUES (3, 'Jeremy Lin', 26);\n",
    "INSERT INTO celebs (id,name,age) VALUES (4, 'Taylor Swift', 26);\n",
    "```\n",
    "6. Select\n",
    "```\n",
    "-- SELECT name FROM celebs; \n",
    "-- SELECT id,name FROM celebs;\n",
    "SELECT * FROM celebs;```\n",
    "7. Alter\n",
    "```\n",
    " SELECT * FROM celebs;\n",
    " ALTER TABLE celebs ADD COLUMN twitter_handle TEXT;\n",
    " SELECT * FROM celebs;\n",
    "```"
   ]
  },
  {
   "cell_type": "markdown",
   "metadata": {},
   "source": [
    "id | name | age | twitter_handle\n",
    "--|--|--|--\n",
    "1 | Justin Bieber | 22 | \n",
    "2 | Beyonce Knowles | 33 | \n",
    "3 | Jeremy Lin | 26 | \n",
    "4 | Taylor Swift | 26 | "
   ]
  },
  {
   "cell_type": "markdown",
   "metadata": {},
   "source": [
    "8. Update\n",
    "```\n",
    " UPDATE celebs SET twitter_handle = '@taylorswift13' WHERE id = 4;\n",
    " SELECT * FROM celebs;\n",
    " ```\n",
    "9. Delete\n",
    "```\n",
    "DELETE FROM celebs WHERE twitter_handle IS NULL; \n",
    "SELECT * FROM celebs;\n",
    "```\n",
    "10. Constraints\n",
    "```\n",
    " CREATE TABLE awards ( \n",
    "   id INTEGER PRIMARY KEY,\n",
    "   recipient TEXT NOT NULL,\n",
    "   award_name TEXT DEFAULT 'Grammy'\n",
    ");\n",
    "```\n",
    "11. Review"
   ]
  },
  {
   "cell_type": "markdown",
   "metadata": {},
   "source": [
    "`CREATE TABLE` creates a new table.  \n",
    "`INSERT INTO` adds a new row to a table.  \n",
    "`SELECT` queries data from a table.  \n",
    "`ALTER TABLE` changes an existing table.  \n",
    "`UPDATE` edits a row in a table.  \n",
    "`DELETE FROM` deletes rows from a table.  "
   ]
  },
  {
   "cell_type": "markdown",
   "metadata": {},
   "source": [
    "#### Queries\n",
    "LESSON\n",
    "Learn the most commonly used SQL commands to query a table in a database.\n",
    "\n",
    "Exercises\n",
    "\n",
    "1. Introduction\n"
   ]
  },
  {
   "cell_type": "markdown",
   "metadata": {},
   "source": [
    "id | name | genre | year | imdb_rating\n",
    "--|--|--|--|--\n",
    "1 | Avatar | action | 2009 | 7.9\n",
    "2 | Jurassic World | action | 2015 | 7.3\n",
    "3 | The Avengers | action | 2012 | 8.1\n",
    "4 | The Dark Knight | action | 2008 | 9.0\n",
    "5 | Star Wars: Episode I - The Phantom Menace | action | 1999 | 6.6\n",
    "6 | Star Wars | action | 1977 | 8.7\n",
    "7 | Avengers: Age of Ultron | action | 2015 | 7.9\n",
    "8 | The Dark Knight Rises | action | 2012 | 8.5\n",
    "9 | Pirates of the Caribbean: Dead Mans Chest | action | 2006 | 7.3\n",
    "10 | Iron Man 3 | action | 2013 | 7.3\n",
    "11 | Spider-Man | action | 2002 | 7.3\n",
    "12 | Transformers: Revenge of the Fallen | action | 2009 | 6.0\n",
    "13 | Star Wars: Episode III - Revenge of the Sith | action | 2005 | 7.7\n",
    "14 | Spider-Man 2 | action | 2004 | 7.3\n",
    "15 | Transformers: Dark of the Moon | action | 2011 | 6.3\n",
    "16 | American Sniper | action | 2014 | 7.4\n",
    "17 | Furious Seven | action | 2015 | 7.4\n",
    "18 | Spider-Man 3 | action | 2007 | 6.2\n",
    "19 | Guardians of the Galaxy | action | 2014 | 8.1\n",
    "20 | Transformers | action | 2007 | 7.1\n",
    "21 | Iron Man | action | 2008 | 7.9\n",
    "22 | Indiana Jones and the Kingdom of the Crystal Skull | action | 2008 | 6.2\n",
    "23 | Iron Man 2 | action | 2010 | 7.1\n",
    "24 | Star Wars: Episode II - Attack of the Clones | action | 2002 | 6.7\n",
    "25 | Pirates of the Caribbean: At Worlds End | action | 2007 | 7.1\n"
   ]
  },
  {
   "cell_type": "markdown",
   "metadata": {},
   "source": [
    "2. Select  \n",
    "SELECT name, genre, year FROM movies;  \n",
    "3. As\n",
    "SELECT  imdb_rating AS  'IMDb' FROM movies;  \n",
    "4. Distinct  \n",
    "```\n",
    "SELECT DISTINCT genre FROM movies;\n",
    "genre\n",
    "action\n",
    "comedy\n",
    "horror\n",
    "romance\n",
    "drama\n",
    "```\n",
    "5. Where\n",
    "SELECT * FROM movies WHERE imdb_rating > 8;  \n",
    "SELECT * FROM movies WHERE year > 2014;  \n"
   ]
  },
  {
   "cell_type": "markdown",
   "metadata": {},
   "source": [
    "6. Like I  \n",
    "SELECT * FROM movies WHERE name LIKE 'Se_en';"
   ]
  },
  {
   "cell_type": "markdown",
   "metadata": {},
   "source": [
    "id | name | genre | year | imdb_rating\n",
    "--|--|--|--|--\n",
    "219 | Se7en | drama | 1995 | 8.6\n",
    "220 | Seven | drama | 1979 | 6.1"
   ]
  },
  {
   "cell_type": "markdown",
   "metadata": {},
   "source": [
    "7. Like II\n",
    "```\n",
    "SELECT * FROM movies WHERE name LIKE '%man%';  \n",
    "SELECT * FROM movies WHERE name LIKE 'The %';  \n",
    "```\n",
    "8. Is Null  \n",
    "SELECT name FROM movies WHERE imdb_rating IS NOT NULL;  \n",
    "9. Between  \n",
    "```\n",
    "name begins with the letters ‘D’, ‘E’, and ‘F’  \n",
    "SELECT * FROM movies WHERE name BETWEEN 'D' AND 'G';\n",
    "SELECT year FROM movies WHERE year BETWEEN 1970 AND 1979;  \n",
    "если буквы крайнее правое не включается,\n",
    "если числа крайнее правое включается.\n",
    "```"
   ]
  },
  {
   "cell_type": "markdown",
   "metadata": {},
   "source": [
    "10. And  \n",
    "SELECT * FROM movies WHERE year BETWEEN 1970 AND 1979 AND imdb_rating > 8;"
   ]
  },
  {
   "cell_type": "markdown",
   "metadata": {},
   "source": [
    "id | name | genre | year | imdb_rating\n",
    "--|--|--|--|--\n",
    "6 | Star Wars | action | 1977 | 8.7\n",
    "194 | Jaws | drama | 1975 | 8.1"
   ]
  },
  {
   "cell_type": "markdown",
   "metadata": {},
   "source": [
    "11. Or  \n",
    "SELECT * FROM movies WHERE year < 1985 AND genre == 'horror';  \n",
    "SELECT * FROM movies WHERE year > 2014 OR genre = 'action';  \n",
    "SELECT * FROM movies WHERE genre = 'romance' OR genre = 'comedy';  \n",
    "12. Order By  \n",
    "SELECT name, year FROM movies ORDER BY name;  \n",
    "SELECT name, year, imdb_rating FROM movies ORDER BY imdb_rating DESC;  \n",
    "13. Limit   \n",
    "SELECT * FROM movies ORDER BY imdb_rating DESC LIMIT 3;  "
   ]
  },
  {
   "cell_type": "markdown",
   "metadata": {},
   "source": [
    "id | name | genre | year | imdb_rating\n",
    "--|--|--|--|--\n",
    "4 | The Dark Knight | action | 2008 | 9.0\n",
    "30 | Inception | action | 2010 | 8.8\n",
    "32 | Star Wars: Episode V - The Empire Strikes Back | action | 1980 | 8.8\n",
    "148 | Forrest Gump | romance | 1994 | 8.8\n",
    "6 | Star Wars | action | 1977 | 8.7\n",
    "201 | Interstellar | drama | 2014 | 8.7\n",
    "56 | Inside Out | comedy | 2015 | 8.6\n",
    "199 | Saving Private Ryan | drama | 1998 | 8.6\n",
    "219 | Se7en | drama | 1995 | 8.6\n",
    "8 | The Dark Knight Rises | action | 2012 | 8.5"
   ]
  },
  {
   "cell_type": "markdown",
   "metadata": {},
   "source": [
    "14. Case\n",
    "```\n",
    "SELECT name,  \n",
    "CASE \n",
    "WHEN genre = 'romance' THEN 'Chill' \n",
    "WHEN genre = 'comedy' THEN 'Chill' \n",
    "ELSE 'Intense' \n",
    "END AS 'Mood'\n",
    "FROM movies;\n",
    "```\n",
    "15. Review"
   ]
  },
  {
   "cell_type": "markdown",
   "metadata": {},
   "source": [
    "- SELECT is the clause we use every time we want to query information from a database.\n",
    "- AS renames a column or table.\n",
    "- DISTINCT return unique values.\n",
    "- WHERE is a popular command that lets you filter the results of the query based on conditions that you specify.\n",
    "- LIKE and BETWEEN are special operators.\n",
    "- AND and OR combines multiple conditions.\n",
    "- ORDER BY sorts the result.\n",
    "- LIMIT specifies the maximum number of rows that the query will return.\n",
    "- CASE creates different outputs."
   ]
  },
  {
   "cell_type": "markdown",
   "metadata": {},
   "source": [
    "#### Aggregate Functions\n",
    "LESSON\n",
    "Learn how to use SQL to perform calculations during a query.\n",
    "\n",
    "Exercises\n",
    "\n",
    "1. Introduction\n",
    "\n",
    "2. Count\n",
    "\n",
    "3. Sum\n",
    "\n",
    "4. Max / Min\n",
    "\n",
    "5. Average\n",
    "\n",
    "6. Round\n",
    "\n",
    "7. Group By I\n",
    "\n",
    "8. Group By II\n",
    "\n",
    "9. Having\n",
    "\n",
    "10. Review"
   ]
  },
  {
   "cell_type": "markdown",
   "metadata": {},
   "source": [
    "#### Aggregate Functions\n",
    "LESSON\n",
    "Learn how to use SQL to perform calculations during a query.\n",
    "\n",
    "Exercises\n",
    "\n",
    "1. Introduction  \n"
   ]
  },
  {
   "cell_type": "markdown",
   "metadata": {},
   "source": [
    "- COUNT(): count the number of rows\n",
    "- SUM(): the sum of the values in a column\n",
    "- MAX()/MIN(): the largest/smallest value\n",
    "- AVG(): the average of the values in a column\n",
    "- ROUND(): round the values in the column \n"
   ]
  },
  {
   "cell_type": "markdown",
   "metadata": {},
   "source": [
    "SELECT * FROM fake_apps;"
   ]
  },
  {
   "cell_type": "markdown",
   "metadata": {},
   "source": [
    "id | name | category | downloads | price\n",
    "--|--|--|--|--\n",
    "3 | siliconphase | Productivity | 17193 | 0.0\n",
    "6 | Donzolab | Education | 4259 | 0.99\n",
    "10 | Ittechi | Reference | 3874 | 0.0\n",
    "13 | Subdrill | Education | 7132 | 1.99"
   ]
  },
  {
   "cell_type": "markdown",
   "metadata": {},
   "source": [
    "2. Count\n"
   ]
  },
  {
   "cell_type": "markdown",
   "metadata": {},
   "source": [
    "```\n",
    "SELECT COUNT(*) FROM fake_apps;\n",
    "-- COUNT(*)\n",
    "-- 200\n",
    "SELECT COUNT(*) FROM fake_apps WHERE price = 0;\n",
    "-- COUNT(*)\n",
    "-- 73\n",
    "```"
   ]
  },
  {
   "cell_type": "markdown",
   "metadata": {},
   "source": []
  },
  {
   "cell_type": "markdown",
   "metadata": {},
   "source": [
    "3. Sum  \n",
    "```\n",
    "SELECT SUM(downloads) FROM fake_apps;\n",
    "-- 3322760\n",
    "```\n",
    "4. Max / Min\n",
    "```\n",
    "SELECT MAX(downloads) FROM fake_apps;\n",
    "-- 31090\n",
    "SELECT MIN(downloads) FROM fake_apps;\n",
    "-- 1387\n",
    "SELECT name, MIN(downloads) FROM fake_apps;\n",
    "```"
   ]
  },
  {
   "cell_type": "markdown",
   "metadata": {},
   "source": [
    "name | MIN(downloads)\n",
    "--|--\n",
    "Zimlane | 1387"
   ]
  },
  {
   "cell_type": "markdown",
   "metadata": {},
   "source": []
  },
  {
   "cell_type": "markdown",
   "metadata": {},
   "source": [
    "SELECT name, MAX(price) FROM fake_apps;   \n",
    "name | MAX(price)\n",
    "--|--\n",
    "Anzoom | 14.99"
   ]
  },
  {
   "cell_type": "markdown",
   "metadata": {},
   "source": [
    "5. Average\n",
    "```\n",
    "SELECT AVG(downloads) FROM fake_apps;\n",
    "-- 16613.8\n",
    "SELECT AVG(price) FROM fake_apps;\n",
    "-- 2.02365\n",
    "```\n",
    "6. Round\n",
    "```\n",
    "SELECT ROUND(price, 2)\n",
    "FROM fake_apps;\n",
    "-- 0.0\n",
    "-- 0.99\n",
    "-- 0.0\n",
    "-- 1.99\n",
    "\n",
    "SELECT ROUND(price, 0)\n",
    "FROM fake_apps;\n",
    "-- 0.0\n",
    "-- 1.0\n",
    "-- 0.0\n",
    "-- 2.0\n",
    "\n",
    "SELECT ROUND(AVG(price), 2)\n",
    "FROM fake_apps;\n",
    "-- 2.02 -- 2.02365\n",
    "```\n",
    "\n",
    "\n"
   ]
  },
  {
   "cell_type": "markdown",
   "metadata": {},
   "source": [
    "7. Group By I\n",
    "```\n",
    "SELECT price, COUNT(*) \n",
    "FROM fake_apps \n",
    "GROUP BY PRICE;\n",
    "```\n",
    "price | COUNT(*)\n",
    "--|--\n",
    "0.0 | 73\n",
    "0.99 | 43\n",
    "1.99 | 42\n",
    "2.99 | 21\n",
    "3.99 | 9\n",
    "14.99 | 12"
   ]
  },
  {
   "cell_type": "markdown",
   "metadata": {},
   "source": [
    "```\n",
    "SELECT price, COUNT(*) \n",
    "FROM fake_apps WHERE downloads >= 20000\n",
    "GROUP BY PRICE;\n",
    "```\n",
    "price | COUNT(*)\n",
    "--|--\n",
    "0.0 | 26\n",
    "0.99 | 17\n",
    "1.99 | 18\n",
    "2.99 | 7\n",
    "3.99 | 5\n",
    "14.99 | 5"
   ]
  },
  {
   "cell_type": "markdown",
   "metadata": {},
   "source": [
    "```\n",
    "SELECT category, SUM(downloads) FROM fake_apps \n",
    "GROUP BY category;\n",
    "```\n",
    "category | SUM(downloads)\n",
    "--|--\n",
    "Books | 160864\n",
    "Business | 178726\n",
    "Catalogs | 186158\n",
    "Education | 184724\n",
    "Entertainment | 95168\n",
    "Finance | 178163\n",
    "Food & Drink | 90950\n",
    "Games | 256083\n",
    "Health & Fitness | 165555\n",
    "Lifestyle | 166832\n",
    "Medical | 77191\n",
    "Music | 59367\n",
    "Navigation | 152114\n",
    "News | 103259\n",
    "Photo & Video | 184848\n",
    "Productivity | 117811\n",
    "Reference | 162032\n",
    "Social Networking | 126549\n",
    "Sports | 176988\n",
    "Travel | 242116\n",
    "Utilities | 96099\n",
    "Weather | 161163"
   ]
  },
  {
   "cell_type": "markdown",
   "metadata": {},
   "source": [
    "8. Group By II\n",
    "```\n",
    "SELECT category, \n",
    "   price,\n",
    "   AVG(downloads)\n",
    "FROM fake_apps\n",
    "GROUP BY category, price;\n",
    "```"
   ]
  },
  {
   "cell_type": "markdown",
   "metadata": {},
   "source": [
    "category | price | AVG(downloads)\n",
    "--|--|--\n",
    "Books | 0.0 | 11926.5\n",
    "Books | 0.99 | 27709.5\n",
    "Books | 1.99 | 21770.3333333333\n",
    "Books | 2.99 | 16281.0\n",
    "Business | 0.0 | 14744.25\n",
    "Business | 0.99 | 15753.0\n",
    "Business | 1.99 | 18155.5\n",
    "Business | 2.99 | 19598.5\n",
    "Business | 14.99 | 28488.0\n",
    "Catalogs | 0.0 | 19393.0\n",
    "Catalogs | 0.99 | 4937.0"
   ]
  },
  {
   "cell_type": "markdown",
   "metadata": {},
   "source": [
    "9. Having\n",
    "```\n",
    "SELECT price, \n",
    "   ROUND(AVG(downloads)),\n",
    "   COUNT(*)\n",
    "FROM fake_apps\n",
    "GROUP BY price;\n",
    "```\n"
   ]
  },
  {
   "cell_type": "markdown",
   "metadata": {},
   "source": [
    "price | ROUND(AVG(downloads)) | COUNT(*)\n",
    "--|--|--\n",
    "0.0 | 15762.0 | 73\n",
    "0.99 | 15972.0 | 43\n",
    "1.99 | 16953.0 | 42\n",
    "2.99 | 17725.0 | 21\n",
    "3.99 | 18742.0 | 9\n",
    "14.99 | 19369.0 | 12"
   ]
  },
  {
   "cell_type": "markdown",
   "metadata": {},
   "source": [
    "```\n",
    "SELECT price, \n",
    "   ROUND(AVG(downloads)),\n",
    "   COUNT(*)\n",
    "FROM fake_apps\n",
    "GROUP BY price\n",
    "HAVING COUNT(*)>10;\n",
    "```\n",
    "price | ROUND(AVG(downloads)) | COUNT(*)\n",
    "--|--|--\n",
    "0.0 | 15762.0 | 73\n",
    "0.99 | 15972.0 | 43\n",
    "1.99 | 16953.0 | 42\n",
    "2.99 | 17725.0 | 21\n",
    "14.99 | 19369.0 | 12"
   ]
  },
  {
   "cell_type": "markdown",
   "metadata": {},
   "source": [
    "10. Review"
   ]
  },
  {
   "cell_type": "markdown",
   "metadata": {},
   "source": [
    "#### Multiple Tables\n",
    "LESSON\n",
    "Learn how to query multiple tables using joins.\n",
    "\n",
    "Exercises\n",
    "\n",
    "1. Introduction\n",
    "```\n",
    "SELECT *\n",
    "FROM orders\n",
    "LIMIT 5;\n",
    "SELECT *\n",
    "FROM subscriptions\n",
    "LIMIT 5;\n",
    "SELECT * \n",
    "FROM customers\n",
    "LIMIT 5;\n",
    "```"
   ]
  },
  {
   "cell_type": "markdown",
   "metadata": {},
   "source": [
    "order_id | customer_id | subscription_id | purchase_date\n",
    "--|--|--|--\n",
    "1 | 3 | 2 | 01-10-2017\n",
    "2 | 2 | 4 | 01-9-2017\n",
    "3 | 3 | 4 | 01-26-2017\n",
    "4 | 9 | 9 | 01-4-2017\n",
    "5 | 7 | 5 | 01-25-2017"
   ]
  },
  {
   "cell_type": "markdown",
   "metadata": {},
   "source": [
    "subscription_id | description | price_per_month | subscription_length\n",
    "--|--|--|--\n",
    "1 | Politics Magazine | 10 | 12 months\n",
    "2 | Politics Magazine | 11 | 6 months\n",
    "3 | Politics Magazine | 12 | 3 months\n",
    "4 | Fashion Magazine | 15 | 12 months\n",
    "5 | Fashion Magazine | 17 | 6 months"
   ]
  },
  {
   "cell_type": "markdown",
   "metadata": {},
   "source": [
    "customer_id | customer_name | address\n",
    "--|--|--\n",
    "1 | Allie Rahaim | 123 Broadway\n",
    "2 | Jacquline Diddle | 456 Park Ave.\n",
    "3 | Lizabeth Letsche | 789 Main St.\n",
    "4 | Jessia Butman | 1 Columbus Ave.\n",
    "5 | Inocencia Goyco | 12 Amsterdam Ave."
   ]
  },
  {
   "cell_type": "markdown",
   "metadata": {},
   "source": [
    "2. Combining Tables Manually  \n",
    "```\n",
    "Sports Magazine\n",
    "Joe Schmo\t\n",
    "```"
   ]
  },
  {
   "cell_type": "markdown",
   "metadata": {},
   "source": [
    "3. Combining Tables with SQL  \n",
    "```\n",
    "SELECT orders.order_id,\n",
    " customers.customer_name\n",
    "FROM orders\n",
    "JOIN customers\n",
    "  ON orders.customer_id = customers.customer_id;\n",
    "```"
   ]
  },
  {
   "cell_type": "markdown",
   "metadata": {},
   "source": [
    "order_id | customer_name\n",
    "--|--\n",
    "1 | Lizabeth Letsche\n",
    "2 | Jacquline Diddle\n",
    "3 | Lizabeth Letsche\n",
    "4 | Eryn Vilar\n",
    "5 | Janay Priolo"
   ]
  },
  {
   "cell_type": "markdown",
   "metadata": {},
   "source": [
    "```\n",
    "JOIN subscriptions\n",
    "ON orders.subscription_id = subscriptions.subscription_id;\n",
    "SELECT * FROM orders\n",
    "JOIN subscriptions\n",
    "ON orders.subscription_id = subscriptions.subscription_id\n",
    "WHERE description = 'Fashion Magazine';\n",
    "```"
   ]
  },
  {
   "cell_type": "markdown",
   "metadata": {},
   "source": [
    "rder_id | customer_id | subscription_id | purchase_date | subscription_id | description | price_per_month | subscription_length\n",
    "--|--|--|--|--|--|--|--\n",
    "2 | 2 | 4 | 01-9-2017 | 4 | Fashion Magazine | 15 | 12 months\n",
    "3 | 3 | 4 | 01-26-2017"
   ]
  },
  {
   "cell_type": "markdown",
   "metadata": {},
   "source": [
    "SELECT COUNT(*) FROM newspaper;\n",
    "SELECT COUNT(*) FROM online;\n",
    "SELECT COUNT(*) FROM newspaper\n",
    "JOIN online\n",
    "ON newspaper.id == online.id; "
   ]
  },
  {
   "cell_type": "markdown",
   "metadata": {},
   "source": [
    "4. Inner Joins\n",
    "\n",
    "5. Left Joins\n"
   ]
  },
  {
   "cell_type": "markdown",
   "metadata": {},
   "source": [
    "```\n",
    "SELECT * FROM newspaper\n",
    "LEFT JOIN online\n",
    "ON newspaper.id = online.id;\n",
    "SELECT * FROM newspaper\n",
    "LEFT JOIN online\n",
    "ON newspaper.id = online.id\n",
    "WHERE online.id IS NULL;\n",
    "```"
   ]
  },
  {
   "cell_type": "markdown",
   "metadata": {},
   "source": [
    "\n",
    "\n",
    "\n",
    "\n",
    "6. Primary Key vs Foreign Key\n",
    "```\n",
    "SELECT * FROM classes\n",
    "JOIN students\n",
    "ON classes.id = students.class_id;\n",
    "```\n",
    "7. Cross Join\n",
    "```\n",
    "SELECT COUNT(*) FROM newspaper\n",
    "WHERE start_month <=3 AND end_month >=3;\n",
    "SELECT * FROM newspaper\n",
    "CROSS JOIN months;\n",
    "SELECT * FROM newspaper\n",
    "CROSS JOIN months\n",
    "WHERE start_month <=month AND end_month >= month;\n",
    "SELECT month, COUNT(*) FROM newspaper\n",
    "CROSS JOIN months\n",
    "WHERE start_month <=month AND end_month >= month\n",
    "GROUP BY month;\n",
    "```\n",
    "8. Union\n",
    "```\n",
    "SELECT * FROM newspaper\n",
    "UNION\n",
    "SELECT * FROM online;\n",
    "```\n",
    "9. With\n",
    "\n",
    "10. Review"
   ]
  },
  {
   "cell_type": "markdown",
   "metadata": {},
   "source": [
    "```\n",
    "SELECT customer_id, \n",
    "COUNT(subscription_id)\n",
    "AS 'subscriptions'\n",
    "FROM orders\n",
    "GROUP BY customer_id;\n",
    "```\n",
    "customer_id | subscriptions\n",
    "--|--\n",
    "1 | 4\n",
    "2 | 1\n",
    "3 | 6\n",
    "4 | 2\n",
    "5 | 2\n",
    "6 | 1\n",
    "7 | 1\n",
    "8 | 1\n",
    "9 | 2"
   ]
  },
  {
   "cell_type": "markdown",
   "metadata": {},
   "source": [
    "```\n",
    "WITH previous_query AS (\n",
    "SELECT customer_id, \n",
    "COUNT(subscription_id)\n",
    "AS 'subscriptions'\n",
    "FROM orders\n",
    "GROUP BY customer_id\n",
    ")\n",
    "SELECT customers.customer_name, previous_query.subscriptions FROM previous_query\n",
    "JOIN customers\n",
    "WHERE customers.customer_id = previous_query.customer_id;\n",
    "```\n",
    "customer_name | subscriptions\n",
    "--|--\n",
    "Allie Rahaim | 4\n",
    "Jacquline Diddle | 1\n",
    "Lizabeth Letsche | 6\n",
    "Jessia Butman | 2\n",
    "Inocencia Goyco | 2\n",
    "Bethann Schraub | 1\n",
    "Janay Priolo | 1\n",
    "Ophelia Sturdnant | 1\n",
    "Eryn Vilar | 2"
   ]
  },
  {
   "cell_type": "markdown",
   "metadata": {},
   "source": []
  },
  {
   "cell_type": "markdown",
   "metadata": {},
   "source": []
  },
  {
   "cell_type": "markdown",
   "metadata": {},
   "source": []
  },
  {
   "cell_type": "code",
   "execution_count": 63,
   "metadata": {},
   "outputs": [
    {
     "name": "stdout",
     "output_type": "stream",
     "text": [
      "customer_name | subscriptions\n",
      "--|--\n",
      "Allie Rahaim | 4\n",
      "Jacquline Diddle | 1\n",
      "Lizabeth Letsche | 6\n",
      "Jessia Butman | 2\n",
      "Inocencia Goyco | 2\n",
      "Bethann Schraub | 1\n",
      "Janay Priolo | 1\n",
      "Ophelia Sturdnant | 1\n",
      "Eryn Vilar | 2\n"
     ]
    }
   ],
   "source": [
    "def replaceTab(s2):\n",
    "    l2 = s2.split(\"\\n\")\n",
    "    i1 = \"\"\n",
    "    l3 = []\n",
    "    column=0\n",
    "    for i in l2:\n",
    "        if len(i) > 2:\n",
    "            k=i.count(\"\\t\")\n",
    "            column = k if k>column else column\n",
    "            i1 = i.replace(\"\\t\", \" | \")\n",
    "            l3.append(i1)\n",
    "    s3=\"__\"\n",
    "    for i in range(column):\n",
    "        s3 += \"|__\"\n",
    "    s4=\"--\"\n",
    "    for i in range(column):\n",
    "        s4 += \"|--\"    \n",
    "    l3.insert(1,s4)\n",
    "    # l3.insert(0,s3)\n",
    "    for i in l3:\n",
    "        print (i)\n",
    "    # print(l3, k)\n",
    "def makeTab6():\n",
    "    s3 = '_|_|_|_|_|_'\n",
    "    s4 = '--|--|--|--|--|--'\n",
    "    s5 = '|||||'\n",
    "    print(s3)\n",
    "    print(s4)\n",
    "    print(s5)\n",
    "    print(s5)\n",
    "s2 = \\\n",
    "'''\\\n",
    "customer_name\tsubscriptions\n",
    "Allie Rahaim\t4\n",
    "Jacquline Diddle\t1\n",
    "Lizabeth Letsche\t6\n",
    "Jessia Butman\t2\n",
    "Inocencia Goyco\t2\n",
    "Bethann Schraub\t1\n",
    "Janay Priolo\t1\n",
    "Ophelia Sturdnant\t1\n",
    "Eryn Vilar\t2\n",
    "'''\n",
    "a = 1\n",
    "if a==1:\n",
    "    replaceTab(s2)\n",
    "if a==2:    \n",
    "    makeTab6()"
   ]
  },
  {
   "cell_type": "markdown",
   "metadata": {},
   "source": [
    "\n"
   ]
  },
  {
   "cell_type": "code",
   "execution_count": 3,
   "metadata": {},
   "outputs": [
    {
     "data": {
      "text/html": [
       "<p></p>\n"
      ],
      "text/plain": [
       "<IPython.core.display.HTML object>"
      ]
     },
     "metadata": {},
     "output_type": "display_data"
    }
   ],
   "source": [
    "%%html\n"
   ]
  },
  {
   "cell_type": "code",
   "execution_count": 3,
   "metadata": {},
   "outputs": [
    {
     "data": {
      "text/html": [
       "<p></p>\n"
      ],
      "text/plain": [
       "<IPython.core.display.HTML object>"
      ]
     },
     "metadata": {},
     "output_type": "display_data"
    }
   ],
   "source": [
    "%%html\n"
   ]
  },
  {
   "cell_type": "code",
   "execution_count": 3,
   "metadata": {},
   "outputs": [
    {
     "data": {
      "text/html": [
       "<p></p>\n"
      ],
      "text/plain": [
       "<IPython.core.display.HTML object>"
      ]
     },
     "metadata": {},
     "output_type": "display_data"
    }
   ],
   "source": [
    "%%html\n"
   ]
  },
  {
   "cell_type": "markdown",
   "metadata": {},
   "source": [
    "22.02 0-25-50  \n",
    "23.02 50-75-  "
   ]
  },
  {
   "cell_type": "markdown",
   "metadata": {},
   "source": [
    "_|_|_|_|_|_\n",
    "--|--|--|--|--|--\n",
    "opposite|наоборот||||\n",
    "|||||"
   ]
  }
 ],
 "metadata": {
  "kernelspec": {
   "display_name": "Python 3",
   "language": "python",
   "name": "python3"
  },
  "language_info": {
   "codemirror_mode": {
    "name": "ipython",
    "version": 3
   },
   "file_extension": ".py",
   "mimetype": "text/x-python",
   "name": "python",
   "nbconvert_exporter": "python",
   "pygments_lexer": "ipython3",
   "version": "3.7.8"
  }
 },
 "nbformat": 4,
 "nbformat_minor": 2
}
