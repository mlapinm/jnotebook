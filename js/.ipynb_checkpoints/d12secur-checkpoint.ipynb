{
 "cells": [
  {
   "cell_type": "markdown",
   "metadata": {},
   "source": [
    "### 3. Information Security and Quality Assurance Certification (300 hours)"
   ]
  },
  {
   "cell_type": "markdown",
   "metadata": {},
   "source": [
    "### 3.1. Information Security with HelmetJS\n",
    "[3.1.1. Introduction to Information Security with HelmetJS Challenges](#3.1.1.-Introduction-to-Information-Security-with-HelmetJS-Challenges)  \n",
    "[3.1.2. Install and Require Helmet](#3.1.2.-Install-and-Require-Helmet)  \n",
    "[3.1.3. Hide Potentially Dangerous Information Using helmet.hidePoweredBy()](#3.1.3.-Hide-Potentially-Dangerous-Information-Using-helmet.hidePoweredBy())  \n",
    "[3.1.4. Mitigate the Risk of Clickjacking with helmet.frameguard()](#3.1.4.-Mitigate-the-Risk-of-Clickjacking-with-helmet.frameguard())  \n",
    "[3.1.5. Mitigate the Risk of Cross Site Scripting (XSS) Attacks with helmet.xssFilter()](#3.1.5.-Mitigate-the-Risk-of-Cross-Site-Scripting-(XSS)-Attacks-with-helmet.xssFilter())  \n",
    "[3.1.6. Avoid Inferring the Response MIME Type with helmet.noSniff()](#3.1.6.-Avoid-Inferring-the-Response-MIME-Type-with-helmet.noSniff())  \n",
    "[3.1.7. Prevent IE from Opening Untrusted HTML with helmet.ieNoOpen()](#3.1.7.-Prevent-IE-from-Opening-Untrusted-HTML-with-helmet.ieNoOpen())  \n",
    "[3.1.8. Ask Browsers to Access Your Site via HTTPS Only with helmet.hsts()](#3.1.8.-Ask-Browsers-to-Access-Your-Site-via-HTTPS-Only-with-helmet.hsts())  \n",
    "[3.1.9. Disable DNS Prefetching with helmet.dnsPrefetchControl()](#3.1.9.-Disable-DNS-Prefetching-with-helmet.dnsPrefetchControl())  \n",
    "[3.1.10. Disable Client-Side Caching with helmet.noCache()](#3.1.10.-Disable-Client-Side-Caching-with-helmet.noCache())  \n",
    "[3.1.11. Set a Content Security Policy with helmet.contentSecurityPolicy()](#3.1.11.-Set-a-Content-Security-Policy-with-helmet.contentSecurityPolicy())  \n",
    "[3.1.12. Configure Helmet Using the ‘parent’ helmet() Middleware](#3.1.12.-Configure-Helmet-Using-the-‘parent’-helmet()-Middleware)  \n",
    "[3.1.13. Understand BCrypt Hashes](#3.1.13.-Understand-BCrypt-Hashes)  \n",
    "[3.1.14. Hash and Compare Passwords Asynchronously](#3.1.14.-Hash-and-Compare-Passwords-Asynchronously)  \n",
    "[3.1.15. Hash and Compare Passwords Synchronously](#3.1.15.-Hash-and-Compare-Passwords-Synchronously) "
   ]
  },
  {
   "cell_type": "markdown",
   "metadata": {},
   "source": [
    "### 3.2. Quality Assurance and Testing with Chai\n",
    "[3.2.1. Introduction to the Quality Assurance with Chai Challenges](#3.2.1.-Introduction-to-the-Quality-Assurance-with-Chai-Challenges)  \n",
    "[3.2.2. Learn How JavaScript Assertions Work](#3.2.2.-Learn-How-JavaScript-Assertions-Work)  \n",
    "[3.2.3. Test if a Variable or Function is Defined](#3.2.3.-Test-if-a-Variable-or-Function-is-Defined)  \n",
    "[3.2.4. Use Assert.isOK and Assert.isNotOK](#3.2.4.-Use-Assert.isOK-and-Assert.isNotOK)  \n",
    "[3.2.5. Test for Truthiness](#3.2.5.-Test-for-Truthiness)  \n",
    "[3.2.6. Use the Double Equals to Assert Equality](#3.2.6.-Use-the-Double-Equals-to-Assert-Equality)  \n",
    "[3.2.7. Use the Triple Equals to Assert Strict Equality](#3.2.7.-Use-the-Triple-Equals-to-Assert-Strict-Equality)  \n",
    "[3.2.8. Assert Deep Equality with .deepEqual and .notDeepEqual](#3.2.8.-Assert-Deep-Equality-with-.deepEqual-and-.notDeepEqual)  \n",
    "[3.2.9. Compare the Properties of Two Elements](#3.2.9.-Compare-the-Properties-of-Two-Elements)  \n",
    "[3.2.10. Test if One Value is Below or At Least as Large as Another](#3.2.10.-Test-if-One-Value-is-Below-or-At-Least-as-Large-as-Another)  \n",
    "[3.2.11. Test if a Value Falls within a Specific Range](#3.2.11.-Test-if-a-Value-Falls-within-a-Specific-Range)  \n",
    "[3.2.12. Test if a Value is an Array](#3.2.12.-Test-if-a-Value-is-an-Array)  \n",
    "[3.2.13. Test if an Array Contains an Item](#3.2.13.-Test-if-an-Array-Contains-an-Item)  \n",
    "[3.2.14. Test if a Value is a String](#3.2.14.-Test-if-a-Value-is-a-String)  \n",
    "[3.2.15. Test if a String Contains a Substring](#3.2.15.-Test-if-a-String-Contains-a-Substring)  \n",
    "[3.2.16. Use Regular Expressions to Test a String](#3.2.16.-Use-Regular-Expressions-to-Test-a-String)  \n",
    "[3.2.17. Test if an Object has a Property](#3.2.17.-Test-if-an-Object-has-a-Property)  \n",
    "[3.2.18. Test if a Value is of a Specific Data Structure Type](#3.2.18.-Test-if-a-Value-is-of-a-Specific-Data-Structure-Type)  \n",
    "[3.2.19. Test if an Object is an Instance of a Constructor](#3.2.19.-Test-if-an-Object-is-an-Instance-of-a-Constructor)  \n",
    "[3.2.20. Run Functional Tests on API Endpoints using Chai-HTTP](#3.2.20.-Run-Functional-Tests-on-API-Endpoints-using-Chai-HTTP)  \n",
    "[3.2.21. Run Functional Tests on API Endpoints using Chai-HTTP II](#3.2.21.-Run-Functional-Tests-on-API-Endpoints-using-Chai-HTTP-II)  \n",
    "[3.2.22. Run Functional Tests on an API Response using Chai-HTTP III - PUT method](#3.2.22.-Run-Functional-Tests-on-an-API-Response-using-Chai-HTTP-III---PUT-method)  \n",
    "[3.2.23. Run Functional Tests on an API Response using Chai-HTTP IV - PUT method](#3.2.23.-Run-Functional-Tests-on-an-API-Response-using-Chai-HTTP-IV---PUT-method)  \n",
    "[3.2.24. Run Functional Tests using a Headless Browser](#3.2.24.-Run-Functional-Tests-using-a-Headless-Browser)  \n",
    "[3.2.25. Run Functional Tests using a Headless Browser II](#3.2.25.-Run-Functional-Tests-using-a-Headless-Browser-II)  "
   ]
  },
  {
   "cell_type": "markdown",
   "metadata": {},
   "source": [
    "### 3.3. Advanced Node and Express\n",
    "[3.3.1. Introduction to the Advanced Node and Express Challenges](#3.3.1.-Introduction-to-the-Advanced-Node-and-Express-Challenges)  \n",
    "[3.3.2. Set up a Template Engine](#3.3.2.-Set-up-a-Template-Engine)  \n",
    "[3.3.3. Use a Template Engine's Powers](#3.3.3.-Use-a-Template-Engine's-Powers)  \n",
    "[3.3.4. Set up Passport](#3.3.4.-Set-up-Passport)  \n",
    "[3.3.5. Serialization of a User Object](#3.3.5.-Serialization-of-a-User-Object)  \n",
    "[3.3.6. Implement the Serialization of a Passport User](#3.3.6.-Implement-the-Serialization-of-a-Passport-User)  \n",
    "[3.3.7. Authentication Strategies](#3.3.7.-Authentication-Strategies)  \n",
    "[3.3.8. How to Use Passport Strategies](#3.3.8.-How-to-Use-Passport-Strategies)  \n",
    "[3.3.9. Create New Middleware](#3.3.9.-Create-New-Middleware)  \n",
    "[3.3.10. How to Put a Profile Together](#3.3.10.-How-to-Put-a-Profile-Together)  \n",
    "[3.3.11. Logging a User Out](#3.3.11.-Logging-a-User-Out)  \n",
    "[3.3.12. Registration of New Users](#3.3.12.-Registration-of-New-Users)  \n",
    "[3.3.13. Hashing Your Passwords](#3.3.13.-Hashing-Your-Passwords)  \n",
    "[3.3.14. Clean Up Your Project with Modules](#3.3.14.-Clean-Up-Your-Project-with-Modules)  \n",
    "[3.3.15. Implementation of Social Authentication](#3.3.15.-Implementation-of-Social-Authentication)  \n",
    "[3.3.16. Implementation of Social Authentication II](#3.3.16.-Implementation-of-Social-Authentication-II)  \n",
    "[3.3.17. Implementation of Social Authentication III](#3.3.17.-Implementation-of-Social-Authentication-III)  \n",
    "[3.3.18. Set up the Environment](#3.3.18.-Set-up-the-Environment)  \n",
    "[3.3.19. Communicate by Emitting](#3.3.19.-Communicate-by-Emitting)  \n",
    "[3.3.20. Handle a Disconnect](#3.3.20.-Handle-a-Disconnect)  \n",
    "[3.3.21. Authentication with Socket.IO](#3.3.21.-Authentication-with-Socket.IO)  \n",
    "[3.3.22. Announce New Users](#3.3.22.-Announce-New-Users)  \n",
    "[3.3.23. Send and Display Chat Messages](#3.3.23.-Send-and-Display-Chat-Messages)  "
   ]
  },
  {
   "cell_type": "markdown",
   "metadata": {},
   "source": [
    "### 3.4. Information Security and Quality Assurance Projects\n",
    "[3.4.1. Introduction to the Information Security and Quality Assurance Projects](#3.4.1.-Introduction-to-the-Information-Security-and-Quality-Assurance-Projects)  \n",
    "[3.4.2. Metric-Imperial Converter](#3.4.2.-Metric-Imperial-Converter)  \n",
    "[3.4.3. Issue Tracker](#3.4.3.-Issue-Tracker)  \n",
    "[3.4.4. Personal Library](#3.4.4.-Personal-Library)  \n",
    "[3.4.5. Stock Price Checker](#3.4.5.-Stock-Price-Checker)  \n",
    "[3.4.6. Anonymous Message Board](#3.4.6.-Anonymous-Message-Board)  "
   ]
  },
  {
   "cell_type": "markdown",
   "metadata": {},
   "source": []
  },
  {
   "cell_type": "markdown",
   "metadata": {},
   "source": []
  },
  {
   "cell_type": "markdown",
   "metadata": {},
   "source": []
  },
  {
   "cell_type": "markdown",
   "metadata": {},
   "source": []
  },
  {
   "cell_type": "markdown",
   "metadata": {},
   "source": []
  },
  {
   "cell_type": "markdown",
   "metadata": {},
   "source": []
  },
  {
   "cell_type": "markdown",
   "metadata": {},
   "source": []
  },
  {
   "cell_type": "markdown",
   "metadata": {},
   "source": []
  },
  {
   "cell_type": "markdown",
   "metadata": {},
   "source": []
  },
  {
   "cell_type": "markdown",
   "metadata": {},
   "source": [
    "#### 2.4.2. Timestamp Microservice\n",
    "[1glitch-work](https://glitch.com/edit/#!/planet-salty-sagittarius?path=README.md:1:0)  \n",
    "[2glitch-view](https://planet-salty-sagittarius.glitch.me)  \n",
    "[3glitch-work-template](https://glitch.com/edit/#!/curse-arrow?path=README.md:1:0)  \n",
    "[4glitch-view-template](https://curse-arrow.glitch.me/)  \n",
    "[mongoose api doc]\n",
    "```\n",
    "```"
   ]
  },
  {
   "cell_type": "markdown",
   "metadata": {},
   "source": []
  },
  {
   "cell_type": "markdown",
   "metadata": {},
   "source": []
  },
  {
   "cell_type": "markdown",
   "metadata": {},
   "source": []
  },
  {
   "cell_type": "markdown",
   "metadata": {},
   "source": []
  },
  {
   "cell_type": "markdown",
   "metadata": {},
   "source": [
    "#### 2.4.3. Request Header Parser Microservice\n",
    "```\n",
    "```\n",
    "#### 2.4.4. URL Shortener Microservice\n",
    "```\n",
    "```\n",
    "#### 2.4.5. Exercise Tracker\n",
    "```\n",
    "```\n",
    "#### 2.4.6. File Metadata Microservice\n",
    "```\n",
    "```"
   ]
  },
  {
   "cell_type": "markdown",
   "metadata": {},
   "source": [
    "### 3. Information Security and Quality Assurance Certification (300 hours)"
   ]
  },
  {
   "cell_type": "markdown",
   "metadata": {},
   "source": [
    "### 3.1. Information Security with HelmetJS"
   ]
  },
  {
   "cell_type": "markdown",
   "metadata": {},
   "source": [
    "#### 3.1.1. Introduction to Information Security with HelmetJS Challenges\n",
    "```\n",
    "```\n",
    "#### 3.1.2. Install and Require Helmet\n",
    "```\n",
    "```\n",
    "#### 3.1.3. Hide Potentially Dangerous Information Using helmet.hidePoweredBy()\n",
    "```\n",
    "```\n",
    "#### 3.1.4. Mitigate the Risk of Clickjacking with helmet.frameguard()\n",
    "```\n",
    "```\n",
    "#### 3.1.5. Mitigate the Risk of Cross Site Scripting (XSS) Attacks with helmet.xssFilter()\n",
    "```\n",
    "```\n",
    "#### 3.1.6. Avoid Inferring the Response MIME Type with helmet.noSniff()\n",
    "```\n",
    "```\n",
    "#### 3.1.7. Prevent IE from Opening Untrusted HTML with helmet.ieNoOpen()\n",
    "```\n",
    "```\n",
    "#### 3.1.8. Ask Browsers to Access Your Site via HTTPS Only with helmet.hsts()\n",
    "```\n",
    "```\n",
    "#### 3.1.9. Disable DNS Prefetching with helmet.dnsPrefetchControl()\n",
    "```\n",
    "```\n",
    "#### 3.1.10. Disable Client-Side Caching with helmet.noCache()\n",
    "```\n",
    "```\n",
    "#### 3.1.11. Set a Content Security Policy with helmet.contentSecurityPolicy()\n",
    "```\n",
    "```\n",
    "#### 3.1.12. Configure Helmet Using the ‘parent’ helmet() Middleware\n",
    "```\n",
    "```\n",
    "#### 3.1.13. Understand BCrypt Hashes\n",
    "```\n",
    "```\n",
    "#### 3.1.14. Hash and Compare Passwords Asynchronously\n",
    "```\n",
    "```\n",
    "#### 3.1.15. Hash and Compare Passwords Synchronously\n",
    "```\n",
    "```"
   ]
  },
  {
   "cell_type": "markdown",
   "metadata": {},
   "source": [
    "### 3.2. Quality Assurance and Testing with Chai"
   ]
  },
  {
   "cell_type": "markdown",
   "metadata": {},
   "source": [
    "#### 3.2.1. Introduction to the Quality Assurance with Chai Challenges\n",
    "```\n",
    "```\n",
    "#### 3.2.2. Learn How JavaScript Assertions Work\n",
    "```\n",
    "```\n",
    "#### 3.2.3. Test if a Variable or Function is Defined\n",
    "```\n",
    "```\n",
    "#### 3.2.4. Use Assert.isOK and Assert.isNotOK\n",
    "```\n",
    "```\n",
    "#### 3.2.5. Test for Truthiness\n",
    "```\n",
    "```\n",
    "#### 3.2.6. Use the Double Equals to Assert Equality\n",
    "```\n",
    "```\n",
    "#### 3.2.7. Use the Triple Equals to Assert Strict Equality\n",
    "```\n",
    "```\n",
    "#### 3.2.8. Assert Deep Equality with .deepEqual and .notDeepEqual\n",
    "```\n",
    "```\n",
    "#### 3.2.9. Compare the Properties of Two Elements\n",
    "```\n",
    "```\n",
    "#### 3.2.10. Test if One Value is Below or At Least as Large as Another\n",
    "```\n",
    "```\n",
    "#### 3.2.11. Test if a Value Falls within a Specific Range\n",
    "```\n",
    "```\n",
    "#### 3.2.12. Test if a Value is an Array\n",
    "```\n",
    "```\n",
    "#### 3.2.13. Test if an Array Contains an Item\n",
    "```\n",
    "```\n",
    "#### 3.2.14. Test if a Value is a String\n",
    "```\n",
    "```\n",
    "#### 3.2.15. Test if a String Contains a Substring\n",
    "```\n",
    "```\n",
    "#### 3.2.16. Use Regular Expressions to Test a String\n",
    "```\n",
    "```\n",
    "#### 3.2.17. Test if an Object has a Property\n",
    "```\n",
    "```\n",
    "#### 3.2.18. Test if a Value is of a Specific Data Structure Type\n",
    "```\n",
    "```\n",
    "#### 3.2.19. Test if an Object is an Instance of a Constructor\n",
    "```\n",
    "```\n",
    "#### 3.2.20. Run Functional Tests on API Endpoints using Chai-HTTP\n",
    "```\n",
    "```\n",
    "#### 3.2.21. Run Functional Tests on API Endpoints using Chai-HTTP II\n",
    "```\n",
    "```\n",
    "#### 3.2.22. Run Functional Tests on an API Response using Chai-HTTP III - PUT method\n",
    "```\n",
    "```\n",
    "#### 3.2.23. Run Functional Tests on an API Response using Chai-HTTP IV - PUT method\n",
    "```\n",
    "```\n",
    "#### 3.2.24. Run Functional Tests using a Headless Browser\n",
    "```\n",
    "```\n",
    "#### 3.2.25. Run Functional Tests using a Headless Browser II\n",
    "```\n",
    "```"
   ]
  },
  {
   "cell_type": "markdown",
   "metadata": {},
   "source": [
    "### 3.3. Advanced Node and Express"
   ]
  },
  {
   "cell_type": "markdown",
   "metadata": {},
   "source": [
    "#### 3.3.1. Introduction to the Advanced Node and Express Challenges\n",
    "```\n",
    "```\n",
    "#### 3.3.2. Set up a Template Engine\n",
    "```\n",
    "```\n",
    "#### 3.3.3. Use a Template Engine's Powers\n",
    "```\n",
    "```\n",
    "#### 3.3.4. Set up Passport\n",
    "```\n",
    "```\n",
    "#### 3.3.5. Serialization of a User Object\n",
    "```\n",
    "```\n",
    "#### 3.3.6. Implement the Serialization of a Passport User\n",
    "```\n",
    "```\n",
    "#### 3.3.7. Authentication Strategies\n",
    "```\n",
    "```\n",
    "#### 3.3.8. How to Use Passport Strategies\n",
    "```\n",
    "```\n",
    "#### 3.3.9. Create New Middleware\n",
    "```\n",
    "```\n",
    "#### 3.3.10. How to Put a Profile Together\n",
    "```\n",
    "```\n",
    "#### 3.3.11. Logging a User Out\n",
    "```\n",
    "```\n",
    "#### 3.3.12. Registration of New Users\n",
    "```\n",
    "```\n",
    "#### 3.3.13. Hashing Your Passwords\n",
    "```\n",
    "```\n",
    "#### 3.3.14. Clean Up Your Project with Modules\n",
    "```\n",
    "```\n",
    "#### 3.3.15. Implementation of Social Authentication\n",
    "```\n",
    "```\n",
    "#### 3.3.16. Implementation of Social Authentication II\n",
    "```\n",
    "```\n",
    "#### 3.3.17. Implementation of Social Authentication III\n",
    "```\n",
    "```\n",
    "#### 3.3.18. Set up the Environment\n",
    "```\n",
    "```\n",
    "#### 3.3.19. Communicate by Emitting\n",
    "```\n",
    "```\n",
    "#### 3.3.20. Handle a Disconnect\n",
    "```\n",
    "```\n",
    "#### 3.3.21. Authentication with Socket.IO\n",
    "```\n",
    "```\n",
    "#### 3.3.22. Announce New Users\n",
    "```\n",
    "```\n",
    "#### 3.3.23. Send and Display Chat Messages\n",
    "```\n",
    "```"
   ]
  },
  {
   "cell_type": "markdown",
   "metadata": {},
   "source": [
    "### 3.4. Information Security and Quality Assurance Projects"
   ]
  },
  {
   "cell_type": "markdown",
   "metadata": {},
   "source": [
    "#### 3.4.1. Introduction to the Information Security and Quality Assurance Projects\n",
    "```\n",
    "```\n",
    "#### 3.4.2. Metric-Imperial Converter\n",
    "```\n",
    "```\n",
    "#### 3.4.3. Issue Tracker\n",
    "```\n",
    "```\n",
    "#### 3.4.4. Personal Library\n",
    "```\n",
    "```\n",
    "#### 3.4.5. Stock Price Checker\n",
    "```\n",
    "```\n",
    "#### 3.4.6. Anonymous Message Board\n",
    "```\n",
    "```"
   ]
  },
  {
   "cell_type": "markdown",
   "metadata": {},
   "source": []
  },
  {
   "cell_type": "markdown",
   "metadata": {},
   "source": []
  },
  {
   "cell_type": "markdown",
   "metadata": {},
   "source": []
  },
  {
   "cell_type": "markdown",
   "metadata": {},
   "source": []
  },
  {
   "cell_type": "markdown",
   "metadata": {},
   "source": []
  },
  {
   "cell_type": "markdown",
   "metadata": {},
   "source": []
  },
  {
   "cell_type": "markdown",
   "metadata": {},
   "source": []
  },
  {
   "cell_type": "markdown",
   "metadata": {},
   "source": []
  },
  {
   "cell_type": "markdown",
   "metadata": {},
   "source": [
    "[https://www.freecodecamp.org/learn/](https://www.freecodecamp.org/learn/)  \n",
    "[glitch.com](https://glitch.com/edit/#!/grateful-caterwauling-tuna?path=README.md:1:0)  \n",
    "[]()  \n",
    "[]()  \n",
    "[]()  \n",
    "[]()  \n"
   ]
  }
 ],
 "metadata": {
  "kernelspec": {
   "display_name": "Python 3",
   "language": "python",
   "name": "python3"
  },
  "language_info": {
   "codemirror_mode": {
    "name": "ipython",
    "version": 3
   },
   "file_extension": ".py",
   "mimetype": "text/x-python",
   "name": "python",
   "nbconvert_exporter": "python",
   "pygments_lexer": "ipython3",
   "version": "3.7.4"
  }
 },
 "nbformat": 4,
 "nbformat_minor": 2
}
