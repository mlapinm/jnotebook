{
 "cells": [
  {
   "cell_type": "code",
   "execution_count": null,
   "metadata": {},
   "outputs": [],
   "source": []
  },
  {
   "cell_type": "code",
   "execution_count": null,
   "metadata": {},
   "outputs": [],
   "source": []
  },
  {
   "cell_type": "code",
   "execution_count": null,
   "metadata": {},
   "outputs": [],
   "source": []
  },
  {
   "cell_type": "code",
   "execution_count": null,
   "metadata": {},
   "outputs": [],
   "source": []
  },
  {
   "cell_type": "markdown",
   "metadata": {},
   "source": [
    "window  \n",
    "innerWidth : 705\n",
    "innerHeight : 371"
   ]
  },
  {
   "cell_type": "code",
   "execution_count": 41,
   "metadata": {},
   "outputs": [
    {
     "data": {
      "text/html": [
       "\n",
       "    <div id=\"d1window\">____</div>\n",
       "    <script>\n",
       "    function f(){\n",
       "        var s = ''\n",
       "        var k = 0\n",
       "        for(var p in window){\n",
       "            s += p +' : ' + window[p]+ '</br>'\n",
       "            if(k == 30){\n",
       "            break\n",
       "            }\n",
       "            k += 1\n",
       "        }\n",
       "        \n",
       "        el = document.getElementById('d1window')\n",
       "        el.innerHTML = s\n",
       "    }\n",
       "    f()\n",
       "    </script>\n"
      ],
      "text/plain": [
       "<IPython.core.display.HTML object>"
      ]
     },
     "execution_count": 41,
     "metadata": {},
     "output_type": "execute_result"
    }
   ],
   "source": [
    "from IPython.display import HTML\n",
    "form = \"\"\"\n",
    "    <div id=\"d1window\">____</div>\n",
    "    <script>\n",
    "    function f(){\n",
    "        var s = ''\n",
    "        var k = 0\n",
    "        for(var p in window){\n",
    "            s += p +' : ' + window[p]+ '</br>'\n",
    "            if(k == 30){\n",
    "            break\n",
    "            }\n",
    "            k += 1\n",
    "        }\n",
    "        \n",
    "        el = document.getElementById('d1window')\n",
    "        el.innerHTML = s\n",
    "    }\n",
    "    f()\n",
    "    </script>\n",
    "\"\"\"\n",
    "\n",
    "HTML(form)"
   ]
  },
  {
   "cell_type": "markdown",
   "metadata": {},
   "source": [
    "replace : function () { [native code] }\n",
    "href : http://localhost:8888/notebooks/js/rm01js.ipynb\n",
    "ancestorOrigins : [object DOMStringList]\n",
    "origin : http://localhost:8888\n",
    "protocol : http:\n",
    "host : localhost:8888\n",
    "hostname : localhost\n",
    "port : 8888\n",
    "pathname : /notebooks/js/rm01js.ipynb\n",
    "search :\n",
    "hash :\n",
    "assign : function assign() { [native code] }\n",
    "reload : function reload() { [native code] }\n",
    "toString : function toString() { [native code] }"
   ]
  },
  {
   "cell_type": "code",
   "execution_count": 38,
   "metadata": {},
   "outputs": [
    {
     "data": {
      "text/html": [
       "\n",
       "    <div id=\"d1location\">____</div>\n",
       "    <script>\n",
       "    function f(){\n",
       "        var s = ''\n",
       "        for(var p in location){\n",
       "            s += p +' : ' + location[p]+ '</br>'\n",
       "        }\n",
       "        \n",
       "        el = document.getElementById('d1location')\n",
       "        el.innerHTML = s\n",
       "    }\n",
       "    f()\n",
       "    </script>\n"
      ],
      "text/plain": [
       "<IPython.core.display.HTML object>"
      ]
     },
     "execution_count": 38,
     "metadata": {},
     "output_type": "execute_result"
    }
   ],
   "source": [
    "from IPython.display import HTML\n",
    "form = \"\"\"\n",
    "    <div id=\"d1location\">____</div>\n",
    "    <script>\n",
    "    function f(){\n",
    "        var s = ''\n",
    "        for(var p in location){\n",
    "            s += p +' : ' + location[p]+ '</br>'\n",
    "        }\n",
    "        \n",
    "        el = document.getElementById('d1location')\n",
    "        el.innerHTML = s\n",
    "    }\n",
    "    f()\n",
    "    </script>\n",
    "\"\"\"\n",
    "\n",
    "HTML(form)"
   ]
  },
  {
   "cell_type": "markdown",
   "metadata": {},
   "source": [
    "screen"
   ]
  },
  {
   "cell_type": "code",
   "execution_count": 36,
   "metadata": {},
   "outputs": [
    {
     "data": {
      "text/html": [
       "\n",
       "    <div id=\"d1screen\">____</div>\n",
       "    <script>\n",
       "    function f(){\n",
       "        var s = ''\n",
       "        for(var p in screen){\n",
       "            s += p +' ------ ' + screen[p]+ '</br>'\n",
       "        }\n",
       "        \n",
       "        el = document.getElementById('d1screen')\n",
       "        el.innerHTML = s\n",
       "    }\n",
       "    f()\n",
       "    </script>\n"
      ],
      "text/plain": [
       "<IPython.core.display.HTML object>"
      ]
     },
     "execution_count": 36,
     "metadata": {},
     "output_type": "execute_result"
    }
   ],
   "source": [
    "from IPython.display import HTML\n",
    "form = \"\"\"\n",
    "    <div id=\"d1screen\">____</div>\n",
    "    <script>\n",
    "    function f(){\n",
    "        var s = ''\n",
    "        for(var p in screen){\n",
    "            s += p +' ------ ' + screen[p]+ '</br>'\n",
    "        }\n",
    "        \n",
    "        el = document.getElementById('d1screen')\n",
    "        el.innerHTML = s\n",
    "    }\n",
    "    f()\n",
    "    </script>\n",
    "\"\"\"\n",
    "\n",
    "HTML(form)"
   ]
  },
  {
   "cell_type": "markdown",
   "metadata": {},
   "source": [
    "navigator  \n",
    "clipboard  \n",
    "writeText"
   ]
  },
  {
   "cell_type": "code",
   "execution_count": 35,
   "metadata": {},
   "outputs": [
    {
     "data": {
      "text/html": [
       "\n",
       "    <div id=\"d1\">____</div>\n",
       "    <script>\n",
       "    function f(){\n",
       "        var s = ''\n",
       "        for(var p in navigator){\n",
       "            s += p +' ------ ' + navigator[p]+ '</br>'\n",
       "        }\n",
       "        \n",
       "        el = document.getElementById('d1')\n",
       "        el.innerHTML = s\n",
       "    }\n",
       "    f()\n",
       "    </script>\n"
      ],
      "text/plain": [
       "<IPython.core.display.HTML object>"
      ]
     },
     "execution_count": 35,
     "metadata": {},
     "output_type": "execute_result"
    }
   ],
   "source": [
    "from IPython.display import HTML\n",
    "form = \"\"\"\n",
    "    <div id=\"d1\">____</div>\n",
    "    <script>\n",
    "    function f(){\n",
    "        var s = ''\n",
    "        for(var p in navigator){\n",
    "            s += p +' ------ ' + navigator[p]+ '</br>'\n",
    "        }\n",
    "        \n",
    "        el = document.getElementById('d1')\n",
    "        el.innerHTML = s\n",
    "    }\n",
    "    f()\n",
    "    </script>\n",
    "\"\"\"\n",
    "\n",
    "HTML(form)"
   ]
  },
  {
   "cell_type": "code",
   "execution_count": 31,
   "metadata": {},
   "outputs": [
    {
     "data": {
      "text/html": [
       "\n",
       "    <script>\n",
       "    function f(){\n",
       "        console.log('Clicked')\n",
       "        el = document.getElementById('p1')\n",
       "        el.innerHTML = 'Clicked'\n",
       "        console.log('Clicked')\n",
       "    }\n",
       "    </script>\n",
       "     <p><input type=\"button\" value=\"Проверить\" onclick=\"f()\"></p>\n",
       "    <p id=\"p1\">____</p>\n"
      ],
      "text/plain": [
       "<IPython.core.display.HTML object>"
      ]
     },
     "execution_count": 31,
     "metadata": {},
     "output_type": "execute_result"
    }
   ],
   "source": [
    "from IPython.display import HTML\n",
    "form = \"\"\"\n",
    "    <script>\n",
    "    function f(){\n",
    "        console.log('Clicked')\n",
    "        el = document.getElementById('p1')\n",
    "        el.innerHTML = 'Clicked'\n",
    "        console.log('Clicked')\n",
    "    }\n",
    "    </script>\n",
    "     <p><input type=\"button\" value=\"Проверить\" onclick=\"f()\"></p>\n",
    "    <p id=\"p1\">____</p>\n",
    "\"\"\"\n",
    "\n",
    "HTML(form)"
   ]
  },
  {
   "cell_type": "code",
   "execution_count": 24,
   "metadata": {},
   "outputs": [
    {
     "data": {
      "application/javascript": [
       "    function f(){\n",
       "        console.log('Clicked')\n",
       "        var el2 = document.getElementById('p2')\n",
       "        el2.innerHTML = 'Clicked2'\n",
       "        console.log('Clicked2')\n",
       "    }\n",
       "    f()\n",
       "\n"
      ],
      "text/plain": [
       "<IPython.core.display.Javascript object>"
      ]
     },
     "metadata": {},
     "output_type": "display_data"
    }
   ],
   "source": [
    "%%js\n",
    "    function f(){\n",
    "        console.log('Clicked')\n",
    "        var el2 = document.getElementById('p2')\n",
    "        el2.innerHTML = 'Clicked2'\n",
    "        console.log('Clicked2')\n",
    "    }\n",
    "    f()\n",
    "\n"
   ]
  },
  {
   "cell_type": "markdown",
   "metadata": {},
   "source": [
    "<p id=\"p2\">____</p>"
   ]
  },
  {
   "cell_type": "code",
   "execution_count": null,
   "metadata": {},
   "outputs": [],
   "source": []
  },
  {
   "cell_type": "code",
   "execution_count": null,
   "metadata": {},
   "outputs": [],
   "source": []
  },
  {
   "cell_type": "code",
   "execution_count": null,
   "metadata": {},
   "outputs": [],
   "source": []
  },
  {
   "cell_type": "code",
   "execution_count": null,
   "metadata": {},
   "outputs": [],
   "source": []
  },
  {
   "cell_type": "code",
   "execution_count": null,
   "metadata": {},
   "outputs": [],
   "source": []
  }
 ],
 "metadata": {
  "kernelspec": {
   "display_name": "Python 3",
   "language": "python",
   "name": "python3"
  },
  "language_info": {
   "codemirror_mode": {
    "name": "ipython",
    "version": 3
   },
   "file_extension": ".py",
   "mimetype": "text/x-python",
   "name": "python",
   "nbconvert_exporter": "python",
   "pygments_lexer": "ipython3",
   "version": "3.6.8"
  }
 },
 "nbformat": 4,
 "nbformat_minor": 4
}
