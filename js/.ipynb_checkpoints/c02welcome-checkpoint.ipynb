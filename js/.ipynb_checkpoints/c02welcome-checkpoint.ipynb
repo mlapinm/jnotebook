{
 "cells": [
  {
   "cell_type": "markdown",
   "metadata": {},
   "source": [
    "[Welcome to Codecademy!](#Welcome-to-Codecademy!)   \n",
    "[Learn R](#Learn-R)   \n",
    "[Welcome to Codecademy!](#Welcome-to-Codecademy!)   \n",
    "[1 Welcome to Codecademy!](#1-Welcome-to-Codecademy!)   \n",
    "[2 Write some code!](#2-Write-some-code!)   \n",
    "[3 Changing Variables](#3-Changing-Variables)   \n",
    "[4 Changing colors](#4-Changing-colors)   \n",
    "[5 Multiple Colors](#5-Multiple-Colors)   \n",
    "[6 Change Physics!](#6-Change-Physics!)   \n",
    "[7 Onward](#7-Onward)   \n",
    "[Топ 5 сайтов для изучения JavaScript](#Топ-5-сайтов-для-изучения-JavaScript)   \n",
    "[1 freecodecamp](#1-freecodecamp)   \n",
    "[2 codecademy](#2-codecademy)   \n",
    "[3 CodeSchool com](#3-CodeSchool-com)   \n",
    "[4 codeavengers com](#4-codeavengers-com)   \n",
    "[5 codecombat](#5-codecombat)    \n",
    "[](#)  \n"
   ]
  },
  {
   "cell_type": "markdown",
   "metadata": {},
   "source": [
    "#### Welcome to Codecademy\n",
    "[Welcome To Codecademy](https://www.codecademy.com/learn/welcome-to-codecademy)   \n",
    "LESSON\n",
    "Learn to use Codecademy and animate your name in the process!\n",
    "\n",
    "Exercises\n",
    "\n",
    "1. Welcome to Codecademy!\n",
    "\n",
    "2. Write some code!\n",
    "\n",
    "3. Changing Variables\n",
    "\n",
    "4. Changing colors\n",
    "\n",
    "5. Multiple Colors\n",
    "\n",
    "6. Change Physics!\n",
    "\n",
    "7. Onward"
   ]
  },
  {
   "cell_type": "markdown",
   "metadata": {},
   "source": [
    "#### Learn R\n",
    "R is a popular language used by data scientists and researchers. If you are working with data, R is a fantastic language to learn.  \n",
    "[Learn R](https://www.codecademy.com/learn/learn-r)  \n",
    "[R язык программирования. Обработка данных [GeekBrains]](https://www.youtube.com/watch?v=3yhOYcJ2qqQ)  \n"
   ]
  },
  {
   "cell_type": "markdown",
   "metadata": {},
   "source": [
    "#### Welcome to Codecademy\n",
    "LESSON\n",
    "Learn to use Codecademy and animate your name in the process!\n",
    "\n",
    "Exercises\n",
    "\n",
    "#### 1 Welcome to Codecademy\n",
    "```\n",
    "```\n",
    "#### 2 Write some code\n",
    "```\n",
    "```\n",
    "#### 3 Changing Variables\n",
    "```\n",
    "```\n",
    "#### 4 Changing colors\n",
    "```\n",
    "red = [0, 100, 63];\n",
    "orange = [40, 100, 60];\n",
    "green = [75, 100, 40];\n",
    "blue = [196, 77, 55];\n",
    "purple = [280, 50, 60];\n",
    "\n",
    "message = 'Change the color!';\n",
    "\n",
    "drawName(message, orange);\n",
    "bounceBubbles();\n",
    "```\n",
    "#### 5 Multiple Colors\n",
    "```\n",
    "// Color variables:\n",
    "red = [0, 100, 100];\n",
    "orange = [40, 100, 60];\n",
    "green = [75, 100, 40];\n",
    "blue = [196, 77, 55];\n",
    "purple = [280, 50, 60];\n",
    "\n",
    "// Letters in the message will cycle through these colors:\n",
    "letterColors = [purple, orange, green, blue, red];\n",
    "\n",
    "message = 'Multiple colors!';\n",
    "\n",
    "drawName(message, letterColors);\n",
    "bounceBubbles();\n",
    "```\n",
    "#### 6 Change Physics\n",
    "```\n",
    "// Define color variables:\n",
    "red = [0, 100, 63];\n",
    "orange = [40, 100, 60];\n",
    "green = [75, 100, 40];\n",
    "blue = [196, 77, 55];\n",
    "purple = [280, 50, 60];\n",
    "letterColors = [red, orange, green, blue, purple];\n",
    "\n",
    "// This variable controls the smallest distance at which a mouse will make the dots react\n",
    "mouseResponseThreshold = 30;\n",
    "\n",
    "// This variable controls how strongly the dots will try to return to their starting position\n",
    "friction = 0.75;\n",
    "\n",
    "// This variable controls how much the dots will rotate when interacting\n",
    "rotationForce = 0.02;\n",
    "\n",
    "message = 'Change the physics!';\n",
    "\n",
    "drawName(message, letterColors);\n",
    "bounceBubbles();\n",
    "```\n",
    "#### 7 Onward"
   ]
  },
  {
   "cell_type": "markdown",
   "metadata": {},
   "source": [
    "### Топ 5 сайтов для изучения JavaScript"
   ]
  },
  {
   "cell_type": "markdown",
   "metadata": {},
   "source": [
    "[Топ 5 сайтов для изучения JavaScript](https://www.youtube.com/watch?v=PsWIKvBeQ4k&list=PLVfMKQXDAhGUaEtJ_fOUz0F7TJtidE7Qw&index=39)  \n",
    "[16 отличных сайтов, которые научат новому](https://www.adme.ru/zhizn-nauka/16-otlichnyh-sajtov-kotorye-nauchat-novomu-1073360/)  \n",
    "[]()  \n",
    "[]()  \n",
    "[]()  \n"
   ]
  },
  {
   "cell_type": "markdown",
   "metadata": {},
   "source": [
    "#### 1 freecodecamp\n",
    "[https://www.freecodecamp.org/](https://www.freecodecamp.org/)  \n",
    "[Introduction to jQuery](https://www.freecodecamp.org/learn/front-end-libraries/jquery/)  \n",
    "[]()  \n"
   ]
  },
  {
   "cell_type": "markdown",
   "metadata": {},
   "source": [
    "#### 2 codecademy\n",
    "[codecademy](https://www.codecademy.com/learn)  \n",
    "[]()  \n",
    "[]()  \n",
    "[]()  \n"
   ]
  },
  {
   "cell_type": "markdown",
   "metadata": {},
   "source": [
    "#### 3 CodeSchool com \n",
    "CodeSchool.com is now Pluralsight. Grow your skills with experiences like assessments, paths and expert-led content on today’s most in-demand technologies.  \n",
    "[www.codeschool.com](https://www.codeschool.com)  \n",
    "[https://www.pluralsight.com/](https://www.pluralsight.com/)  \n",
    "[]()  \n",
    "[]()  \n"
   ]
  },
  {
   "cell_type": "markdown",
   "metadata": {},
   "source": [
    "#### 4 codeavengers com\n",
    "[https://www.codeavengers.com/](https://www.codeavengers.com/)  \n",
    "[]()  \n",
    "[]()  \n",
    "[]()  \n"
   ]
  },
  {
   "cell_type": "markdown",
   "metadata": {},
   "source": [
    "#### 5 codecombat\n",
    "google registration \n",
    "Подземелье Китгарда \n",
    "[codecombat](https://codecombat.com)  \n",
    "[]()  \n",
    "[]()  \n",
    "[]()  \n"
   ]
  },
  {
   "cell_type": "markdown",
   "metadata": {},
   "source": [
    "_|_|_|_|_|_\n",
    "--|--|--|--|--|--\n",
    "comma|запятая|impacts|последствия|Response|ответ\n",
    "Threshold|порог|probably|возможно|Onward|далее\n",
    "|||||\n",
    "|||||\n",
    "|||||\n",
    "|||||\n"
   ]
  }
 ],
 "metadata": {
  "kernelspec": {
   "display_name": "Python 3",
   "language": "python",
   "name": "python3"
  },
  "language_info": {
   "codemirror_mode": {
    "name": "ipython",
    "version": 3
   },
   "file_extension": ".py",
   "mimetype": "text/x-python",
   "name": "python",
   "nbconvert_exporter": "python",
   "pygments_lexer": "ipython3",
   "version": "3.7.8"
  }
 },
 "nbformat": 4,
 "nbformat_minor": 2
}
