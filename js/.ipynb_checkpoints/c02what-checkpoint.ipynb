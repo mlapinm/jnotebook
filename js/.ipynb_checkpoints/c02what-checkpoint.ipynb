{
 "cells": [
  {
   "cell_type": "markdown",
   "metadata": {},
   "source": [
    "[Welcome To Codecademy](https://www.codecademy.com/learn/welcome-to-codecademy)  \n",
    "[]()  \n",
    "[]()  \n"
   ]
  },
  {
   "cell_type": "markdown",
   "metadata": {},
   "source": [
    "#### Welcome to Codecademy!\n",
    "LESSON\n",
    "Learn to use Codecademy and animate your name in the process!\n",
    "\n",
    "Exercises\n",
    "\n",
    "1. Welcome to Codecademy!\n",
    "\n",
    "2. Write some code!\n",
    "\n",
    "3. Changing Variables\n",
    "\n",
    "4. Changing colors\n",
    "\n",
    "5. Multiple Colors\n",
    "\n",
    "6. Change Physics!\n",
    "\n",
    "7. Onward"
   ]
  },
  {
   "cell_type": "markdown",
   "metadata": {},
   "source": [
    "#### Welcome to Codecademy!\n",
    "LESSON\n",
    "Learn to use Codecademy and animate your name in the process!\n",
    "\n",
    "Exercises\n",
    "\n",
    "#### 1. Welcome to Codecademy!\n",
    "```\n",
    "```\n",
    "#### 2. Write some code!\n",
    "```\n",
    "```\n",
    "#### 3. Changing Variables\n",
    "```\n",
    "```\n",
    "#### 4. Changing colors\n",
    "```\n",
    "red = [0, 100, 63];\n",
    "orange = [40, 100, 60];\n",
    "green = [75, 100, 40];\n",
    "blue = [196, 77, 55];\n",
    "purple = [280, 50, 60];\n",
    "\n",
    "message = 'Change the color!';\n",
    "\n",
    "drawName(message, orange);\n",
    "bounceBubbles();\n",
    "```\n",
    "#### 5. Multiple Colors\n",
    "```\n",
    "// Color variables:\n",
    "red = [0, 100, 100];\n",
    "orange = [40, 100, 60];\n",
    "green = [75, 100, 40];\n",
    "blue = [196, 77, 55];\n",
    "purple = [280, 50, 60];\n",
    "\n",
    "// Letters in the message will cycle through these colors:\n",
    "letterColors = [purple, orange, green, blue, red];\n",
    "\n",
    "message = 'Multiple colors!';\n",
    "\n",
    "drawName(message, letterColors);\n",
    "bounceBubbles();\n",
    "```\n",
    "#### 6. Change Physics!\n",
    "```\n",
    "// Define color variables:\n",
    "red = [0, 100, 63];\n",
    "orange = [40, 100, 60];\n",
    "green = [75, 100, 40];\n",
    "blue = [196, 77, 55];\n",
    "purple = [280, 50, 60];\n",
    "letterColors = [red, orange, green, blue, purple];\n",
    "\n",
    "// This variable controls the smallest distance at which a mouse will make the dots react\n",
    "mouseResponseThreshold = 30;\n",
    "\n",
    "// This variable controls how strongly the dots will try to return to their starting position\n",
    "friction = 0.75;\n",
    "\n",
    "// This variable controls how much the dots will rotate when interacting\n",
    "rotationForce = 0.02;\n",
    "\n",
    "message = 'Change the physics!';\n",
    "\n",
    "drawName(message, letterColors);\n",
    "bounceBubbles();\n",
    "```\n",
    "#### 7. Onward"
   ]
  },
  {
   "cell_type": "markdown",
   "metadata": {},
   "source": []
  },
  {
   "cell_type": "markdown",
   "metadata": {},
   "source": []
  },
  {
   "cell_type": "markdown",
   "metadata": {},
   "source": []
  },
  {
   "cell_type": "markdown",
   "metadata": {},
   "source": []
  },
  {
   "cell_type": "markdown",
   "metadata": {},
   "source": []
  },
  {
   "cell_type": "markdown",
   "metadata": {},
   "source": []
  },
  {
   "cell_type": "markdown",
   "metadata": {},
   "source": []
  },
  {
   "cell_type": "markdown",
   "metadata": {},
   "source": [
    "_|_|_|_|_|_\n",
    "--|--|--|--|--|--\n",
    "comma|запятая|impacts|последствия|Response|ответ\n",
    "Threshold|порог|probably|возможно|Onward|далее\n",
    "|||||\n",
    "|||||\n",
    "|||||\n",
    "|||||\n"
   ]
  }
 ],
 "metadata": {
  "kernelspec": {
   "display_name": "Python 3",
   "language": "python",
   "name": "python3"
  },
  "language_info": {
   "codemirror_mode": {
    "name": "ipython",
    "version": 3
   },
   "file_extension": ".py",
   "mimetype": "text/x-python",
   "name": "python",
   "nbconvert_exporter": "python",
   "pygments_lexer": "ipython3",
   "version": "3.7.4"
  }
 },
 "nbformat": 4,
 "nbformat_minor": 2
}
