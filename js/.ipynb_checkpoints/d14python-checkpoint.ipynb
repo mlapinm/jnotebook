{
 "cells": [
  {
   "cell_type": "markdown",
   "metadata": {},
   "source": [
    "### Data Analysis with Python Certification (300 hours)"
   ]
  },
  {
   "cell_type": "markdown",
   "metadata": {},
   "source": [
    "#### Data Analysis with Python Course\n"
   ]
  },
  {
   "cell_type": "markdown",
   "metadata": {},
   "source": [
    "[Introduction to the Data Analysis with Python Course Lectures](#Introduction-to-the-Data-Analysis-with-Python-Course-Lectures)  \n",
    "[1 Introduction to Data Analysis](#1-Introduction-to-Data-Analysis)  \n",
    "[2 Data Analysis Example A](#2-Data-Analysis-Example-A)  \n",
    "[3 Data Analysis Example B](#3-Data-Analysis-Example-B)  \n",
    "[4 How to use Jupyter Notebooks Intro](#4-How-to-use-Jupyter-Notebooks-Intro)  \n",
    "[5 Jupyter Notebooks Cells](#5-Jupyter-Notebooks-Cells)  \n",
    "[6 Jupyter Notebooks Importing and Exporting Data](#6-Jupyter-Notebooks-Importing-and-Exporting-Data)  \n",
    "[7 Numpy Introduction A](#7-Numpy-Introduction-A)  \n",
    "[8 Numpy Introduction B](#8-Numpy-Introduction-B)  \n",
    "[9 Numpy Arrays](#9-Numpy-Arrays)  \n",
    "[10 Numpy Operations](#10-Numpy-Operations)  \n",
    "[11 Numpy Boolean Arrays](#11-Numpy-Boolean-Arrays)  \n",
    "[12 Numpy Algebra and Size](#12-Numpy-Algebra-and-Size)  \n",
    "[13 Pandas Introduction](#13-Pandas-Introduction)  \n",
    "[14 Pandas Indexing and Conditional Selection](#14-Pandas-Indexing-and-Conditional-Selection)  \n",
    "[15 Pandas DataFrames](#15-Pandas-DataFrames)  \n",
    "[16 Pandas Condtitional Selection and Modifying DataFrames](#16-Pandas-Condtitional-Selection-and-Modifying-DataFrames)  \n",
    "[17 Pandas Creating Columns](#17-Pandas-Creating-Columns)  \n",
    "[18 Data Cleaning Introduction](#18-Data-Cleaning-Introduction)  \n",
    "[19 Data Cleaning with DataFrames](#19-Data-Cleaning-with-DataFrames)  \n",
    "[20 Data Cleaning Duplicates](#20-Data-Cleaning-Duplicates)  \n",
    "[21 Data Cleaning and Visualizations](#21-Data-Cleaning-and-Visualizations)  \n",
    "[22 Reading Data Introduction](#22-Reading-Data-Introduction)  \n",
    "[23 Reading Data CSV and TXT](#23-Reading-Data-CSV-and-TXT)  \n",
    "[24 Reading Data from Databases](#24-Reading-Data-from-Databases)  \n",
    "[25 Parsing HTML and Saving Data](#25-Parsing-HTML-and-Saving-Data)  \n",
    "[26 Python Introduction](#26-Python-Introduction)  \n",
    "[27 Python Functions and Collections](#27-Python-Functions-and-Collections)  \n",
    "[28 Python Iteration and Modules](#28-Python-Iteration-and-Modules)  \n"
   ]
  },
  {
   "cell_type": "markdown",
   "metadata": {},
   "source": [
    "#### Numpy\n"
   ]
  },
  {
   "cell_type": "markdown",
   "metadata": {},
   "source": [
    "[Introduction to the Numpy Lectures](#Introduction-to-the-Numpy-Lectures)  \n",
    "[1 What is NumPy](#1-What-is-NumPy)  \n",
    "[2 Basics of Numpy](#2-Basics-of-Numpy)  \n",
    "[3 Accessing and Changing Elements, Rows, Columns](#3-Accessing-and-Changing-Elements,-Rows,-Columns)  \n",
    "[4 Initializing Different Arrays](#4-Initializing-Different-Arrays)  \n",
    "[5 Initialize Array Problem](#5-Initialize-Array-Problem)  \n",
    "[6 Copying Arrays Warning](#6-Copying-Arrays-Warning)  \n",
    "[7 Mathematics](#7-Mathematics)  \n",
    "[8 Reorganizing Arrays](#8-Reorganizing-Arrays)  \n",
    "[9 Loading Data and Advanced Indexing](#9-Loading-Data-and-Advanced-Indexing)  "
   ]
  },
  {
   "cell_type": "markdown",
   "metadata": {},
   "source": [
    "#### Data Analysis with Python Projects\n"
   ]
  },
  {
   "cell_type": "markdown",
   "metadata": {},
   "source": [
    "[Introduction to the Data Analysis with Python Projects](#Introduction-to-the-Data-Analysis-with-Python-Projects)  \n",
    "[1 Mean-Variance-Standard Deviation Calculator](#1-Mean-Variance-Standard-Deviation-Calculator)  \n",
    "[2 Demographic Data Analyzer](#2-Demographic-Data-Analyzer)  \n",
    "[3 Medical Data Visualizer](#3-Medical-Data-Visualizer)  \n",
    "[4 Page View Time Series Visualizer](#4-Page-View-Time-Series-Visualizer)  \n",
    "[5 Sea Level Predictor](#5-Sea-Level-Predictor)  "
   ]
  },
  {
   "cell_type": "markdown",
   "metadata": {},
   "source": [
    "#### Machine Learning with Python Certification (300 hours)\n"
   ]
  },
  {
   "cell_type": "markdown",
   "metadata": {},
   "source": []
  },
  {
   "cell_type": "markdown",
   "metadata": {},
   "source": [
    "### Machine Learning with Python Certification (300 hours)"
   ]
  },
  {
   "cell_type": "markdown",
   "metadata": {},
   "source": [
    "#### TensorFlow\n"
   ]
  },
  {
   "cell_type": "markdown",
   "metadata": {},
   "source": [
    "[Introduction to the TensorFlow Lectures](#Introduction-to-the-TensorFlow-Lectures)  \n",
    "[1 Introduction: Machine Learning Fundamentals](#1-Introduction:-Machine-Learning-Fundamentals)  \n",
    "[2 Introduction to TensorFlow](#2-Introduction-to-TensorFlow)  \n",
    "[3 Core Learning Algorithms](#3-Core-Learning-Algorithms)  \n",
    "[4 Core Learning Algorithms: Working with Data](#4-Core-Learning-Algorithms:-Working-with-Data)  \n",
    "[5 Core Learning Algorithms: Training and Testing Data](#5-Core-Learning-Algorithms:-Training-and-Testing-Data)  \n",
    "[6 Core Learning Algorithms: The Training Process](#6-Core-Learning-Algorithms:-The-Training-Process)  \n",
    "[7 Core Learning Algorithms: Classification](#7-Core-Learning-Algorithms:-Classification)  \n",
    "[8 Core Learning Algorithms: Building the Model](#8-Core-Learning-Algorithms:-Building-the-Model)  \n",
    "[9 Core Learning Algorithms: Clustering](#9-Core-Learning-Algorithms:-Clustering)  \n",
    "[10 Core Learning Algorithms: Hidden Markov Models](#10-Core-Learning-Algorithms:-Hidden-Markov-Models)  \n",
    "[11 Core Learning Algorithms: Using Probabilities to make Predictions](#11-Core-Learning-Algorithms:-Using-Probabilities-to-make-Predictions)  \n",
    "[12 Neural Networks with TensorFlow](#12-Neural-Networks-with-TensorFlow)  \n",
    "[13 Neural Networks: Activation Functions](#13-Neural-Networks:-Activation-Functions)  \n",
    "[14 Neural Networks: Optimizers](#14-Neural-Networks:-Optimizers)  \n",
    "[15 Neural Networks: Creating a Model](#15-Neural-Networks:-Creating-a-Model)  \n",
    "[16 Convolutional Neural Networks](#16-Convolutional-Neural-Networks)  \n",
    "[17 Convolutional Neural Networks: The Convolutional Layer](#17-Convolutional-Neural-Networks:-The-Convolutional-Layer)  \n",
    "[18 Creating a Convolutional Neural Network](#18-Creating-a-Convolutional-Neural-Network)  \n",
    "[19 Convolutional Neural Networks: Evaluating the Model](#19-Convolutional-Neural-Networks:-Evaluating-the-Model)  \n",
    "[20 Convolutional Neural Networks: Picking a Pretrained Model](#20-Convolutional-Neural-Networks:-Picking-a-Pretrained-Model)  \n",
    "[21 Natural Language Processing With RNNs](#21-Natural-Language-Processing-With-RNNs)  \n",
    "[22 Natural Language Processing With RNNs: Part 2](#22-Natural-Language-Processing-With-RNNs:-Part-2)  \n",
    "[23 Natural Language Processing With RNNs: Recurring Neural Networks](#23-Natural-Language-Processing-With-RNNs:-Recurring-Neural-Networks)  \n",
    "[24 Natural Language Processing With RNNs: Sentiment Analysis](#24-Natural-Language-Processing-With-RNNs:-Sentiment-Analysis)  \n",
    "[25 Natural Language Processing With RNNs: Making Predictions](#25-Natural-Language-Processing-With-RNNs:-Making-Predictions)  \n",
    "[26 Natural Language Processing With RNNs: Create a Play Generator](#26-Natural-Language-Processing-With-RNNs:-Create-a-Play-Generator)  \n",
    "[27 Natural Language Processing With RNNs: Building the Model](#27-Natural-Language-Processing-With-RNNs:-Building-the-Model)  \n",
    "[28 Natural Language Processing With RNNs: Training the Model](#28-Natural-Language-Processing-With-RNNs:-Training-the-Model)  \n",
    "[29 Reinforcement Learning With Q-Learning](#29-Reinforcement-Learning-With-Q-Learning)  \n",
    "[30 Reinforcement Learning With Q-Learning: Part 2](#30-Reinforcement-Learning-With-Q-Learning:-Part-2)  \n",
    "[31 Reinforcement Learning With Q-Learning: Example](#31-Reinforcement-Learning-With-Q-Learning:-Example)  \n",
    "[32 Conclusion](#32-Conclusion)  "
   ]
  },
  {
   "cell_type": "markdown",
   "metadata": {},
   "source": []
  },
  {
   "cell_type": "markdown",
   "metadata": {},
   "source": [
    "#### How Neural Networks Work"
   ]
  },
  {
   "cell_type": "markdown",
   "metadata": {},
   "source": [
    "[Introduction to the How Neural Networks Work Lectures](#Introduction-to-the-How-Neural-Networks-Work-Lectures)  \n",
    "[1 How Deep Neural Networks Work](#1-How-Deep-Neural-Networks-Work)  \n",
    "[2 Recurrent Neural Networks RNN and Long Short Term Memory LSTM](#2-Recurrent-Neural-Networks-RNN-and-Long-Short-Term-Memory-LSTM)  \n",
    "[3 Deep Learning Demystified](#3-Deep-Learning-Demystified)  \n",
    "[4 How Convolutional Neural Networks work](#4-How-Convolutional-Neural-Networks-work)  "
   ]
  },
  {
   "cell_type": "markdown",
   "metadata": {},
   "source": []
  },
  {
   "cell_type": "markdown",
   "metadata": {},
   "source": [
    "#### Machine Learning with Python Projects"
   ]
  },
  {
   "cell_type": "markdown",
   "metadata": {},
   "source": [
    "[Introduction to the Machine Learning Projects](#Introduction-to-the-Machine-Learning-Projects)  \n",
    "[1 Rock Paper Scissors](#1-Rock-Paper-Scissors)  \n",
    "[2 Cat and Dog Image Classifier](#2-Cat-and-Dog-Image-Classifier)  \n",
    "[3 Book Recommendation Engine using KNN](#3-Book-Recommendation-Engine-using-KNN)  \n",
    "[4 Linear Regression Health Costs Calculator](#4-Linear-Regression-Health-Costs-Calculator)  \n",
    "[5 Neural Network SMS Text Classifier](#5-Neural-Network-SMS-Text-Classifier)  "
   ]
  },
  {
   "cell_type": "markdown",
   "metadata": {},
   "source": [
    "### Data Analysis with Python Certification (300 hours)"
   ]
  },
  {
   "cell_type": "markdown",
   "metadata": {},
   "source": [
    "#### Data Analysis with Python Course"
   ]
  },
  {
   "cell_type": "markdown",
   "metadata": {},
   "source": [
    "#### Introduction to the Data Analysis with Python Course Lectures\n",
    "[youtube](https://www.youtube.com/watch?v=r-uOLxNrNk8&feature=youtu.be)  \n",
    "[Interactive Notebooks Tutorial](https://notebooks.ai/mlapin/interactive-jupyterlab-tutorial-4606e21c/lab)  \n",
    "[https://github.com/notebooks-ai](https://github.com/notebooks-ai)  \n",
    "[]()  \n",
    "[]()  \n",
    "[Interactive JupyterLab Tutorial](https://notebooks.ai/rmotr-curriculum/interactive-jupyterlab-tutorial-ac5fa63f)  \n",
    "\n",
    "```\n",
    "```\n",
    "#### 1 Introduction to Data Analysis\n",
    "```\n",
    "Why should you choose R over Python for data analysis?\n",
    "\n",
    "It's better at dealing with advanced statistical methods.\n",
    "```\n"
   ]
  },
  {
   "cell_type": "markdown",
   "metadata": {},
   "source": [
    "#### 2 Data Analysis Example A\n",
    "```\n",
    "What does the shape of our dataframe tell us?\n",
    "\n",
    "How many rows and columns our dataframe has.\n",
    "```"
   ]
  },
  {
   "cell_type": "markdown",
   "metadata": {},
   "source": []
  },
  {
   "cell_type": "markdown",
   "metadata": {},
   "source": [
    "#### 3 Data Analysis Example B\n",
    "```\n",
    "What does the loc method allow you to do?\n",
    "\n",
    "Access a group of rows and columns by supplying label(s) arguments.\n",
    "```"
   ]
  },
  {
   "cell_type": "markdown",
   "metadata": {},
   "source": []
  },
  {
   "cell_type": "markdown",
   "metadata": {},
   "source": [
    "#### 4 How to use Jupyter Notebooks Intro\n",
    "```\n",
    "```\n"
   ]
  },
  {
   "cell_type": "markdown",
   "metadata": {},
   "source": [
    "What is not allowed in a Jupyter Notebook's cell?\n",
    "An Excel sheet"
   ]
  },
  {
   "cell_type": "markdown",
   "metadata": {},
   "source": [
    "#### 5 Jupyter Notebooks Cells\n",
    "```\n",
    "Which cells are responsible for rich display?\n",
    "\n",
    "Code Cells\n",
    "```\n"
   ]
  },
  {
   "cell_type": "markdown",
   "metadata": {},
   "source": []
  },
  {
   "cell_type": "markdown",
   "metadata": {},
   "source": [
    "#### 6 Jupyter Notebooks Importing and Exporting Data\n",
    "```\n",
    "What kind of data can you import and work with in a Jupyter Notebook?\n",
    "All of the above.\n",
    "```\n"
   ]
  },
  {
   "cell_type": "markdown",
   "metadata": {},
   "source": [
    "#### 7 Numpy Introduction A\n",
    "[Part 4: Intro to NumPy (01:04:58)](https://notebooks.ai/rmotr-curriculum/freecodecamp-intro-to-numpy-6c285b74)  \n",
    "[]()  \n",
    "[]()  \n",
    "[]()  \n",
    "[]()  \n",
    "[]()  \n",
    "\n",
    "```\n",
    "Why is Numpy an important, but unpopular Python library?\n",
    "\n",
    "\n",
    "*Often you won't work directly with Numpy.\n",
    "\n",
    "\n",
    "It's is extremely slow.\n",
    "\n",
    "\n",
    "Working with Numpy is difficult.\n",
    "```\n"
   ]
  },
  {
   "cell_type": "code",
   "execution_count": 1,
   "metadata": {},
   "outputs": [
    {
     "name": "stdout",
     "output_type": "stream",
     "text": [
      "[1 2 3 4] int32 [1 2] [1 3]\n",
      "['a' 'b' 'c'] <U1\n",
      "[{'a': 1} 'sys']\n"
     ]
    },
    {
     "data": {
      "text/plain": [
       "array([1, 2, 3, 4], dtype=int8)"
      ]
     },
     "execution_count": 1,
     "metadata": {},
     "output_type": "execute_result"
    }
   ],
   "source": [
    "import numpy as np\n",
    "\n",
    "a = np.array([1, 2, 3, 4])\n",
    "print(a, a.dtype, a[0:2], a[::2])\n",
    "# [1 2 3 4] int32 [1 2] [1 3]\n",
    "c = np.array(['a', 'b', 'c'])\n",
    "print(c, c.dtype)\n",
    "d = np.array([{'a': 1}, 'sys'])\n",
    "print(d)\n",
    "np.array([1, 2, 3, 4], dtype=np.int8)\n"
   ]
  },
  {
   "cell_type": "code",
   "execution_count": 2,
   "metadata": {},
   "outputs": [
    {
     "name": "stdout",
     "output_type": "stream",
     "text": [
      "(2, 3) 2 6\n"
     ]
    }
   ],
   "source": [
    "A = np.array([\n",
    "    [1, 2, 3],\n",
    "    [4, 5, 6]\n",
    "])\n",
    "print(A.shape, A.ndim, A.size)"
   ]
  },
  {
   "cell_type": "markdown",
   "metadata": {},
   "source": []
  },
  {
   "cell_type": "markdown",
   "metadata": {},
   "source": [
    "#### 8 Numpy Introduction B\n",
    "```\n",
    "About how much memory does the integer 5 consume in plain Python?\n",
    "\n",
    "\n",
    "32 bits\n",
    "\n",
    "\n",
    "*20 bytes\n",
    "\n",
    "\n",
    "16 bytes\n",
    "\n",
    "\n",
    "8 bits```\n"
   ]
  },
  {
   "cell_type": "markdown",
   "metadata": {},
   "source": [
    "#### 9 Numpy Arrays\n",
    "```\n",
    "```\n"
   ]
  },
  {
   "cell_type": "code",
   "execution_count": 3,
   "metadata": {},
   "outputs": [
    {
     "name": "stdout",
     "output_type": "stream",
     "text": [
      "[['a' 'b']\n",
      " ['d' 'e']\n",
      " ['g' 'h']]\n"
     ]
    }
   ],
   "source": [
    "A = np.array([\n",
    "    ['a', 'b', 'c'],\n",
    "    ['d', 'e', 'f'],\n",
    "    ['g', 'h', 'i']\n",
    "])\n",
    "print(A[:, :2])\n",
    "# [['a' 'b']\n",
    "#  ['d' 'e']\n",
    "#  ['g' 'h']]"
   ]
  },
  {
   "cell_type": "markdown",
   "metadata": {},
   "source": [
    "#### 10 Numpy Operations\n",
    "```\n",
    "```"
   ]
  },
  {
   "cell_type": "code",
   "execution_count": 4,
   "metadata": {},
   "outputs": [
    {
     "name": "stdout",
     "output_type": "stream",
     "text": [
      "[0 1 2 3 4] [20 21 22 23 24]\n"
     ]
    }
   ],
   "source": [
    "a = np.arange(5)\n",
    "a + 20\n",
    "print(a, a + 20)\n",
    "# [0 1 2 3 4] [20 21 22 23 24]"
   ]
  },
  {
   "cell_type": "markdown",
   "metadata": {},
   "source": [
    "#### 11 Numpy Boolean Arrays\n",
    "```\n",
    "```"
   ]
  },
  {
   "cell_type": "code",
   "execution_count": 5,
   "metadata": {},
   "outputs": [
    {
     "name": "stdout",
     "output_type": "stream",
     "text": [
      "[ True  True  True  True False]\n"
     ]
    }
   ],
   "source": [
    "a = np.arange(5)\n",
    "\n",
    "print(a <= 3)"
   ]
  },
  {
   "cell_type": "markdown",
   "metadata": {},
   "source": [
    "#### 12 Numpy Algebra and Size\n",
    "```\n",
    "What is the relationship between size of objects (such as lists and datatypes) in memory in Python's standard library and the NumPy library? Knowing this, what are the implications for performance?\n",
    "\n",
    "Standard Python objects take up more memory than NumPy objects; operations on NumPy objects complete very quickly compared to comparable objects in standard Python.\n",
    "]```\n"
   ]
  },
  {
   "cell_type": "markdown",
   "metadata": {},
   "source": [
    "#### 13 Pandas Introduction\n",
    "[]()  \n",
    "[]()  \n",
    "[]()  \n",
    "\n",
    "```\n",
    "```\n"
   ]
  },
  {
   "cell_type": "code",
   "execution_count": 6,
   "metadata": {},
   "outputs": [
    {
     "name": "stdout",
     "output_type": "stream",
     "text": [
      "Tom      8\n",
      "Kris     2\n",
      "Ahmad    5\n",
      "Beau     6\n",
      "dtype: int64\n"
     ]
    }
   ],
   "source": [
    "import pandas as pd\n",
    "\n",
    "certificates_earned = pd.Series(\n",
    "    [8, 2, 5, 6],\n",
    "    index=['Tom', 'Kris', 'Ahmad', 'Beau']\n",
    ")\n",
    "\n",
    "print(certificates_earned)"
   ]
  },
  {
   "cell_type": "markdown",
   "metadata": {},
   "source": []
  },
  {
   "cell_type": "markdown",
   "metadata": {},
   "source": [
    "#### 14 Pandas Indexing and Conditional Selection\n",
    "```\n",
    "```\n"
   ]
  },
  {
   "cell_type": "code",
   "execution_count": 7,
   "metadata": {},
   "outputs": [
    {
     "name": "stdout",
     "output_type": "stream",
     "text": [
      "Tom     8\n",
      "Beau    6\n",
      "dtype: int64\n"
     ]
    }
   ],
   "source": [
    "import pandas as pd\n",
    "\n",
    "certificates_earned = pd.Series(\n",
    "    [8, 2, 5, 6],\n",
    "    index=['Tom', 'Kris', 'Ahmad', 'Beau']\n",
    ")\n",
    "\n",
    "print(certificates_earned[certificates_earned > 5])"
   ]
  },
  {
   "cell_type": "markdown",
   "metadata": {},
   "source": [
    "#### 15 Pandas DataFrames\n",
    "```\n",
    "```\n"
   ]
  },
  {
   "cell_type": "code",
   "execution_count": 8,
   "metadata": {},
   "outputs": [
    {
     "name": "stdout",
     "output_type": "stream",
     "text": [
      "Certificates        5\n",
      "Time (in months)    9\n",
      "Name: Ahmad, dtype: int64\n"
     ]
    }
   ],
   "source": [
    "import pandas as pd\n",
    "\n",
    "certificates_earned = pd.DataFrame({\n",
    "    'Certificates': [8, 2, 5, 6],\n",
    "    'Time (in months)': [16, 5, 9, 12]\n",
    "})\n",
    "\n",
    "certificates_earned.index = ['Tom', 'Kris', 'Ahmad', 'Beau']\n",
    "\n",
    "print(certificates_earned.iloc[2])"
   ]
  },
  {
   "cell_type": "markdown",
   "metadata": {},
   "source": [
    "#### 16 Pandas Condtitional Selection and Modifying DataFrames\n",
    "```\n",
    "```\n"
   ]
  },
  {
   "cell_type": "code",
   "execution_count": 9,
   "metadata": {},
   "outputs": [
    {
     "name": "stdout",
     "output_type": "stream",
     "text": [
      "       Certificates  Time (in months)  Longest streak\n",
      "Tom               8                16              13\n",
      "Kris              2                 5              11\n",
      "Ahmad             5                 9               9\n",
      "Beau              6                12               7\n"
     ]
    }
   ],
   "source": [
    "import pandas as pd\n",
    "\n",
    "certificates_earned = pd.DataFrame({\n",
    "    'Certificates': [8, 2, 5, 6],\n",
    "    'Time (in months)': [16, 5, 9, 12]\n",
    "})\n",
    "names = ['Tom', 'Kris', 'Ahmad', 'Beau']\n",
    "\n",
    "certificates_earned.index = names\n",
    "longest_streak = pd.Series([13, 11, 9, 7], index=names)\n",
    "certificates_earned['Longest streak'] = longest_streak\n",
    "\n",
    "print(certificates_earned)\n"
   ]
  },
  {
   "cell_type": "markdown",
   "metadata": {},
   "source": [
    "#### 17 Pandas Creating Columns\n",
    "```\n",
    "```\n"
   ]
  },
  {
   "cell_type": "code",
   "execution_count": null,
   "metadata": {},
   "outputs": [],
   "source": [
    "import pandas as pd\n",
    "\n",
    "certificates_earned = pd.DataFrame({\n",
    "    'Certificates': [8, 2, 5, 6],\n",
    "    'Time (in months)': [16, 5, 9, 12]\n",
    "})\n",
    "names = ['Tom', 'Kris', 'Ahmad', 'Beau']\n",
    "\n",
    "certificates_earned.index = names\n",
    "\n",
    "\n",
    "certificates_earned['Certificates per month'] = round(\n",
    "    certificates_earned['Certificates'] /\n",
    "    certificates_earned['Time (in months)'],2\n",
    ")\n",
    "\n",
    "\n",
    "print(certificates_earned)\n"
   ]
  },
  {
   "cell_type": "markdown",
   "metadata": {},
   "source": [
    "#### 18 Data Cleaning Introduction\n",
    "[Data Cleaning RMOTR - FreeCodeCamp](https://notebooks.ai/rmotr-curriculum/data-cleaning-rmotr-freecodecamp-fd76fa59)   \n",
    "```\n",
    "```\n"
   ]
  },
  {
   "cell_type": "code",
   "execution_count": null,
   "metadata": {},
   "outputs": [],
   "source": [
    "import numpy as np\n",
    "a = np.array([1, 2, 3, np.nan, np.nan, 4])\n",
    "print(a, a.sum(), a.mean(), 3+np.nan)"
   ]
  },
  {
   "cell_type": "code",
   "execution_count": null,
   "metadata": {},
   "outputs": [],
   "source": [
    "print(3+np.inf)\n",
    "b = np.array([1, 2, 3, np.inf, np.nan, 4], dtype=np.float)\n",
    "print(b, b.sum())"
   ]
  },
  {
   "cell_type": "code",
   "execution_count": null,
   "metadata": {},
   "outputs": [],
   "source": [
    "b = np.array([1, 2, 3, np.inf, np.nan, 4], dtype=np.float)\n",
    "print(b, b[~np.isnan(b)], b[np.isnan(b)], np.isnan(b))\n",
    "print(np.isnan(b))\n",
    "# [ 1.  2.  3. inf nan  4.] [ 1.  2.  3. inf  4.] [nan] [False False False False  True False]\n",
    "# [False False False False  True False]"
   ]
  },
  {
   "cell_type": "markdown",
   "metadata": {},
   "source": [
    "##### Таблица"
   ]
  },
  {
   "cell_type": "code",
   "execution_count": null,
   "metadata": {},
   "outputs": [],
   "source": [
    "aa = [[11, 21], [12, 22], [13, 23]]\n",
    "a1 = list(map(lambda x:x[0],aa))\n",
    "a2 = list(map(lambda x:x[1],aa))\n",
    "s = pd.DataFrame({\n",
    "    'a1':a1,\n",
    "    'a2':a2\n",
    "})\n",
    "print(s)"
   ]
  },
  {
   "cell_type": "code",
   "execution_count": null,
   "metadata": {},
   "outputs": [],
   "source": [
    "aa = [[11, 21], [12, 22], [13, 23], [14, 24]]\n",
    "a1 = list(map(lambda x:x[0],aa))\n",
    "a2 = list(map(lambda x:x[1],aa))\n",
    "s = pd.DataFrame({\n",
    "    'a1':a1,\n",
    "    'a2':a2,\n",
    "    'a3':aa\n",
    "})\n",
    "print(s)"
   ]
  },
  {
   "cell_type": "code",
   "execution_count": null,
   "metadata": {},
   "outputs": [],
   "source": []
  },
  {
   "cell_type": "markdown",
   "metadata": {},
   "source": [
    "[pythonru](https://pythonru.com/biblioteki/struktury-dannyh-v-pandas)  \n",
    "[]()  \n"
   ]
  },
  {
   "cell_type": "code",
   "execution_count": null,
   "metadata": {},
   "outputs": [],
   "source": [
    "frame3 = pd.DataFrame(np.arange(16).reshape((4,4)),\n",
    "                       index=['red', 'blue', 'yellow', 'white'],\n",
    "                       columns=['ball', 'pen', 'pencil', 'paper']).T\n",
    "frame3"
   ]
  },
  {
   "cell_type": "code",
   "execution_count": null,
   "metadata": {},
   "outputs": [],
   "source": [
    "frame3 = pd.DataFrame(np.arange(16).reshape((4,4))).T\n",
    "frame3"
   ]
  },
  {
   "cell_type": "code",
   "execution_count": null,
   "metadata": {},
   "outputs": [],
   "source": [
    "frame3 = pd.DataFrame(np.arange(16).reshape((4,4))).T\n",
    "pd.melt(frame3)"
   ]
  },
  {
   "cell_type": "code",
   "execution_count": null,
   "metadata": {},
   "outputs": [],
   "source": [
    "import pandas as pd\n",
    "import numpy as np\n",
    "\n",
    "s = pd.Series(['a', 3, np.nan, 1, np.nan])\n",
    "\n",
    "print(s.notnull(), s.notnull().sum())\n",
    "# 0     True\n",
    "# 1     True\n",
    "# 2    False\n",
    "# 3     True\n",
    "# 4    False\n",
    "# dtype: bool 3\n",
    "# количество ненулевых членов"
   ]
  },
  {
   "cell_type": "markdown",
   "metadata": {},
   "source": [
    "#### 19 Data Cleaning with DataFrames\n",
    "```\n",
    "```\n"
   ]
  },
  {
   "cell_type": "code",
   "execution_count": null,
   "metadata": {},
   "outputs": [],
   "source": [
    "import pandas as pd\n",
    "import numpy as np\n",
    "\n",
    "s = pd.Series([np.nan, 1, 2, np.nan, 3])\n",
    "s = s.fillna(4)\n",
    "\n",
    "print(s)\n",
    "# 0    4.0\n",
    "# 1    1.0\n",
    "# 2    2.0\n",
    "# 3    4.0\n",
    "# 4    3.0\n",
    "# dtype: float64"
   ]
  },
  {
   "cell_type": "code",
   "execution_count": null,
   "metadata": {},
   "outputs": [],
   "source": [
    "import pandas as pd\n",
    "import numpy as np\n",
    "\n",
    "s = pd.Series([np.nan, 1, 2, np.nan, 3])\n",
    "s = s.fillna(method='ffill')\n",
    "\n",
    "print(s)\n",
    "help(s.fillna)"
   ]
  },
  {
   "cell_type": "markdown",
   "metadata": {},
   "source": [
    "#### 20 Data Cleaning Duplicates\n",
    "```\n",
    "The Python method .duplicated() returns a boolean Series for your DataFrame. True is the return value for rows that:\n",
    "\n",
    "\n",
    "contain a duplicate, where the value for the row contains the first occurrence of that value.\n",
    "\n",
    "\n",
    "===contain a duplicate, where the value for the row is at least the second occurrence of that value.\n",
    "\n",
    "\n",
    "contain a duplicate, where the value for the row contains either the first or second occurrence.\n",
    "```\n"
   ]
  },
  {
   "cell_type": "code",
   "execution_count": null,
   "metadata": {},
   "outputs": [],
   "source": [
    "import pandas as pd\n",
    "import numpy as np\n",
    "\n",
    "s = pd.Series([np.nan, 1, 2, np.nan, 3])\n",
    "s = s.duplicated()\n",
    "\n",
    "print(s)"
   ]
  },
  {
   "cell_type": "markdown",
   "metadata": {},
   "source": [
    "#### 21 Data Cleaning and Visualizations\n",
    "```\n",
    "When using Matplotlib's global API, what does the order of numbers mean here?: plt.subplot(1, 2, 1)\n",
    "\n",
    "\n",
    "My figure will have one column, two rows, and I am going to start drawing in the first (left) plot.\n",
    "\n",
    "\n",
    "I am going to start drawing in the first (left) plot, my figure will have two rows, and my figure will have one column.\n",
    "\n",
    "\n",
    "My figure will have one row, two columns, and I am going to start drawing in the first (left) plot.\n",
    "```\n"
   ]
  },
  {
   "cell_type": "code",
   "execution_count": null,
   "metadata": {},
   "outputs": [],
   "source": []
  },
  {
   "cell_type": "markdown",
   "metadata": {},
   "source": [
    "#### 22 Reading Data Introduction\n",
    "```\n",
    "```\n"
   ]
  },
  {
   "cell_type": "markdown",
   "metadata": {},
   "source": [
    "#### 23 Reading Data CSV and TXT\n",
    "```\n",
    "```\n"
   ]
  },
  {
   "cell_type": "markdown",
   "metadata": {},
   "source": [
    "#### 24 Reading Data from Databases\n",
    "```\n",
    "```\n"
   ]
  },
  {
   "cell_type": "markdown",
   "metadata": {},
   "source": [
    "#### 25 Parsing HTML and Saving Data\n",
    "```\n",
    "```\n"
   ]
  },
  {
   "cell_type": "markdown",
   "metadata": {},
   "source": [
    "#### 26 Python Introduction\n",
    "```\n",
    "```\n"
   ]
  },
  {
   "cell_type": "markdown",
   "metadata": {},
   "source": []
  },
  {
   "cell_type": "markdown",
   "metadata": {},
   "source": [
    "### 27 Python Functions and Collections\n",
    "```\n",
    "```\n"
   ]
  },
  {
   "cell_type": "markdown",
   "metadata": {},
   "source": []
  },
  {
   "cell_type": "markdown",
   "metadata": {},
   "source": []
  },
  {
   "cell_type": "markdown",
   "metadata": {},
   "source": [
    "#### 28 Python Iteration and Modules\n",
    "```\n",
    "```"
   ]
  },
  {
   "cell_type": "markdown",
   "metadata": {},
   "source": [
    "#### Numpy"
   ]
  },
  {
   "cell_type": "markdown",
   "metadata": {},
   "source": [
    "#### Introduction to the Numpy Lectures\n",
    "```\n",
    "```\n",
    "#### 1 What is NumPy\n",
    "```\n",
    "```\n",
    "#### 2 Basics of Numpy\n",
    "```\n",
    "```\n",
    "#### 3 Accessing and Changing Elements, Rows, Columns\n",
    "```\n",
    "```\n",
    "#### 4 Initializing Different Arrays\n",
    "```\n",
    "```\n",
    "#### 5 Initialize Array Problem\n",
    "```\n",
    "```\n",
    "#### 6 Copying Arrays Warning\n",
    "```\n",
    "```\n",
    "#### 7 Mathematics\n",
    "```\n",
    "```\n",
    "#### 8 Reorganizing Arrays\n",
    "```\n",
    "```\n",
    "#### 9 Loading Data and Advanced Indexing\n",
    "```\n",
    "```"
   ]
  },
  {
   "cell_type": "markdown",
   "metadata": {},
   "source": [
    "#### Data Analysis with Python Projects"
   ]
  },
  {
   "cell_type": "markdown",
   "metadata": {},
   "source": [
    "#### Introduction to the Data Analysis with Python Projects\n",
    "```\n",
    "```\n",
    "#### 1 Mean-Variance-Standard Deviation Calculator\n",
    "```\n",
    "```\n",
    "#### 2 Demographic Data Analyzer\n",
    "```\n",
    "```\n",
    "#### 3 Medical Data Visualizer\n",
    "```\n",
    "```\n",
    "#### 4 Page View Time Series Visualizer\n",
    "```\n",
    "```\n",
    "#### 5 Sea Level Predictor\n",
    "```\n",
    "```"
   ]
  },
  {
   "cell_type": "markdown",
   "metadata": {},
   "source": [
    "#### Machine Learning with Python Certification (300 hours)"
   ]
  },
  {
   "cell_type": "markdown",
   "metadata": {},
   "source": []
  },
  {
   "cell_type": "markdown",
   "metadata": {},
   "source": [
    "### Machine Learning with Python Certification (300 hours)"
   ]
  },
  {
   "cell_type": "markdown",
   "metadata": {},
   "source": [
    "#### TensorFlow"
   ]
  },
  {
   "cell_type": "markdown",
   "metadata": {},
   "source": [
    "#### Introduction to the TensorFlow Lectures\n",
    "```\n",
    "```\n",
    "#### 1 Introduction: Machine Learning Fundamentals\n",
    "```\n",
    "```\n",
    "#### 2 Introduction to TensorFlow\n",
    "```\n",
    "```\n",
    "#### 3 Core Learning Algorithms\n",
    "```\n",
    "```\n",
    "#### 4 Core Learning Algorithms: Working with Data\n",
    "```\n",
    "```\n",
    "#### 5 Core Learning Algorithms: Training and Testing Data\n",
    "```\n",
    "```\n",
    "#### 6 Core Learning Algorithms: The Training Process\n",
    "```\n",
    "```\n",
    "#### 7 Core Learning Algorithms: Classification\n",
    "```\n",
    "```\n",
    "#### 8 Core Learning Algorithms: Building the Model\n",
    "```\n",
    "```\n",
    "#### 9 Core Learning Algorithms: Clustering\n",
    "```\n",
    "```\n",
    "#### 10 Core Learning Algorithms: Hidden Markov Models\n",
    "```\n",
    "```\n",
    "#### 11 Core Learning Algorithms: Using Probabilities to make Predictions\n",
    "```\n",
    "```\n",
    "#### 12 Neural Networks with TensorFlow\n",
    "```\n",
    "```\n",
    "#### 13 Neural Networks: Activation Functions\n",
    "```\n",
    "```\n",
    "#### 14 Neural Networks: Optimizers\n",
    "```\n",
    "```\n",
    "#### 15 Neural Networks: Creating a Model\n",
    "```\n",
    "```\n",
    "#### 16 Convolutional Neural Networks\n",
    "```\n",
    "```\n",
    "#### 17 Convolutional Neural Networks: The Convolutional Layer\n",
    "```\n",
    "```\n",
    "#### 18 Creating a Convolutional Neural Network\n",
    "```\n",
    "```\n",
    "#### 19 Convolutional Neural Networks: Evaluating the Model\n",
    "```\n",
    "```\n",
    "#### 20 Convolutional Neural Networks: Picking a Pretrained Model\n",
    "```\n",
    "```\n",
    "#### 21 Natural Language Processing With RNNs\n",
    "```\n",
    "```\n",
    "#### 22 Natural Language Processing With RNNs: Part 2\n",
    "```\n",
    "```\n",
    "#### 23 Natural Language Processing With RNNs: Recurring Neural Networks\n",
    "```\n",
    "```\n",
    "#### 24 Natural Language Processing With RNNs: Sentiment Analysis\n",
    "```\n",
    "```\n",
    "#### 25 Natural Language Processing With RNNs: Making Predictions\n",
    "```\n",
    "```\n",
    "#### 26 Natural Language Processing With RNNs: Create a Play Generator\n",
    "```\n",
    "```\n",
    "#### 27 Natural Language Processing With RNNs: Building the Model\n",
    "```\n",
    "```\n",
    "#### 28 Natural Language Processing With RNNs: Training the Model\n",
    "```\n",
    "```\n",
    "#### 29 Reinforcement Learning With Q-Learning\n",
    "```\n",
    "```\n",
    "#### 30 Reinforcement Learning With Q-Learning: Part 2\n",
    "```\n",
    "```\n",
    "#### 31 Reinforcement Learning With Q-Learning: Example\n",
    "```\n",
    "```\n",
    "#### 32 Conclusion\n",
    "```\n",
    "```"
   ]
  },
  {
   "cell_type": "markdown",
   "metadata": {},
   "source": [
    "#### How Neural Networks Work"
   ]
  },
  {
   "cell_type": "markdown",
   "metadata": {},
   "source": [
    "#### Introduction to the How Neural Networks Work Lectures\n",
    "```\n",
    "```\n",
    "#### 1 How Deep Neural Networks Work\n",
    "```\n",
    "```\n",
    "#### 2 Recurrent Neural Networks RNN and Long Short Term Memory LSTM\n",
    "```\n",
    "```\n",
    "#### 3 Deep Learning Demystified\n",
    "```\n",
    "```\n",
    "#### 4 How Convolutional Neural Networks work\n",
    "```\n",
    "```"
   ]
  },
  {
   "cell_type": "markdown",
   "metadata": {},
   "source": [
    "#### Machine Learning with Python Projects"
   ]
  },
  {
   "cell_type": "markdown",
   "metadata": {},
   "source": [
    "#### Introduction to the Machine Learning Projects\n",
    "```\n",
    "```\n",
    "#### 1 Rock Paper Scissors\n",
    "```\n",
    "```\n",
    "#### 2 Cat and Dog Image Classifier\n",
    "```\n",
    "```\n",
    "#### 3 Book Recommendation Engine using KNN\n",
    "```\n",
    "```\n",
    "#### 4 Linear Regression Health Costs Calculator\n",
    "```\n",
    "```\n",
    "#### 5 Neural Network SMS Text Classifier\n",
    "```\n",
    "```"
   ]
  },
  {
   "cell_type": "markdown",
   "metadata": {},
   "source": []
  },
  {
   "cell_type": "markdown",
   "metadata": {},
   "source": []
  }
 ],
 "metadata": {
  "kernelspec": {
   "display_name": "Python 3",
   "language": "python",
   "name": "python3"
  },
  "language_info": {
   "codemirror_mode": {
    "name": "ipython",
    "version": 3
   },
   "file_extension": ".py",
   "mimetype": "text/x-python",
   "name": "python",
   "nbconvert_exporter": "python",
   "pygments_lexer": "ipython3",
   "version": "3.7.4"
  }
 },
 "nbformat": 4,
 "nbformat_minor": 2
}
