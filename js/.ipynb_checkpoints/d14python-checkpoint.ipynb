{
 "cells": [
  {
   "cell_type": "markdown",
   "metadata": {},
   "source": [
    "### Data Analysis with Python Certification (300 hours)"
   ]
  },
  {
   "cell_type": "markdown",
   "metadata": {},
   "source": [
    "#### Data Analysis with Python Course\n"
   ]
  },
  {
   "cell_type": "markdown",
   "metadata": {},
   "source": [
    "[Introduction to the Data Analysis with Python Course Lectures](#Introduction-to-the-Data-Analysis-with-Python-Course-Lectures)  \n",
    "[1 Introduction to Data Analysis](#1-Introduction-to-Data-Analysis)  \n",
    "[2 Data Analysis Example A](#2-Data-Analysis-Example-A)  \n",
    "[3 Data Analysis Example B](#3-Data-Analysis-Example-B)  \n",
    "[4 How to use Jupyter Notebooks Intro](#4-How-to-use-Jupyter-Notebooks-Intro)  \n",
    "[5 Jupyter Notebooks Cells](#5-Jupyter-Notebooks-Cells)  \n",
    "[6 Jupyter Notebooks Importing and Exporting Data](#6-Jupyter-Notebooks-Importing-and-Exporting-Data)  \n",
    "[7 Numpy Introduction A](#7-Numpy-Introduction-A)  \n",
    "[8 Numpy Introduction B](#8-Numpy-Introduction-B)  \n",
    "[9 Numpy Arrays](#9-Numpy-Arrays)  \n",
    "[10 Numpy Operations](#10-Numpy-Operations)  \n",
    "[11 Numpy Boolean Arrays](#11-Numpy-Boolean-Arrays)  \n",
    "[12 Numpy Algebra and Size](#12-Numpy-Algebra-and-Size)  \n",
    "[13 Pandas Introduction](#13-Pandas-Introduction)  \n",
    "[14 Pandas Indexing and Conditional Selection](#14-Pandas-Indexing-and-Conditional-Selection)  \n",
    "[15 Pandas DataFrames](#15-Pandas-DataFrames)  \n",
    "[16 Pandas Condtitional Selection and Modifying DataFrames](#16-Pandas-Condtitional-Selection-and-Modifying-DataFrames)  \n",
    "[17 Pandas Creating Columns](#17-Pandas-Creating-Columns)  \n",
    "[18 Data Cleaning Introduction](#18-Data-Cleaning-Introduction)  \n",
    "[19 Data Cleaning with DataFrames](#19-Data-Cleaning-with-DataFrames)  \n",
    "[20 Data Cleaning Duplicates](#20-Data-Cleaning-Duplicates)  \n",
    "[21 Data Cleaning and Visualizations](#21-Data-Cleaning-and-Visualizations)  \n",
    "[22 Reading Data Introduction](#22-Reading-Data-Introduction)  \n",
    "[23 Reading Data CSV and TXT](#23-Reading-Data-CSV-and-TXT)  \n",
    "[24 Reading Data from Databases](#24-Reading-Data-from-Databases)  \n",
    "[25 Parsing HTML and Saving Data](#25-Parsing-HTML-and-Saving-Data)  \n",
    "[26 Python Introduction](#26-Python-Introduction)  \n",
    "[27 Python Functions and Collections](#27-Python-Functions-and-Collections)  \n",
    "[28 Python Iteration and Modules](#28-Python-Iteration-and-Modules)  \n"
   ]
  },
  {
   "cell_type": "markdown",
   "metadata": {},
   "source": [
    "#### Numpy\n"
   ]
  },
  {
   "cell_type": "markdown",
   "metadata": {},
   "source": [
    "[Introduction to the Numpy Lectures](#Introduction-to-the-Numpy-Lectures)  \n",
    "[1 What is NumPy](#1-What-is-NumPy)  \n",
    "[2 Basics of Numpy](#2-Basics-of-Numpy)  \n",
    "[3 Accessing and Changing Elements, Rows, Columns](#3-Accessing-and-Changing-Elements,-Rows,-Columns)  \n",
    "[4 Initializing Different Arrays](#4-Initializing-Different-Arrays)  \n",
    "[5 Initialize Array Problem](#5-Initialize-Array-Problem)  \n",
    "[6 Copying Arrays Warning](#6-Copying-Arrays-Warning)  \n",
    "[7 Mathematics](#7-Mathematics)  \n",
    "[8 Reorganizing Arrays](#8-Reorganizing-Arrays)  \n",
    "[9 Loading Data and Advanced Indexing](#9-Loading-Data-and-Advanced-Indexing)  "
   ]
  },
  {
   "cell_type": "markdown",
   "metadata": {},
   "source": [
    "#### Data Analysis with Python Projects\n"
   ]
  },
  {
   "cell_type": "markdown",
   "metadata": {},
   "source": [
    "[Introduction to the Data Analysis with Python Projects](#Introduction-to-the-Data-Analysis-with-Python-Projects)  \n",
    "[1 Mean-Variance-Standard Deviation Calculator](#1-Mean-Variance-Standard-Deviation-Calculator)  \n",
    "[2 Demographic Data Analyzer](#2-Demographic-Data-Analyzer)  \n",
    "[3 Medical Data Visualizer](#3-Medical-Data-Visualizer)  \n",
    "[4 Page View Time Series Visualizer](#4-Page-View-Time-Series-Visualizer)  \n",
    "[5 Sea Level Predictor](#5-Sea-Level-Predictor)  "
   ]
  },
  {
   "cell_type": "markdown",
   "metadata": {},
   "source": [
    "#### Machine Learning with Python Certification (300 hours)\n"
   ]
  },
  {
   "cell_type": "markdown",
   "metadata": {},
   "source": []
  },
  {
   "cell_type": "markdown",
   "metadata": {},
   "source": [
    "### Machine Learning with Python Certification (300 hours)"
   ]
  },
  {
   "cell_type": "markdown",
   "metadata": {},
   "source": [
    "#### TensorFlow\n"
   ]
  },
  {
   "cell_type": "markdown",
   "metadata": {},
   "source": [
    "[Introduction to the TensorFlow Lectures](#Introduction-to-the-TensorFlow-Lectures)  \n",
    "[1 Introduction: Machine Learning Fundamentals](#1-Introduction:-Machine-Learning-Fundamentals)  \n",
    "[2 Introduction to TensorFlow](#2-Introduction-to-TensorFlow)  \n",
    "[3 Core Learning Algorithms](#3-Core-Learning-Algorithms)  \n",
    "[4 Core Learning Algorithms: Working with Data](#4-Core-Learning-Algorithms:-Working-with-Data)  \n",
    "[5 Core Learning Algorithms: Training and Testing Data](#5-Core-Learning-Algorithms:-Training-and-Testing-Data)  \n",
    "[6 Core Learning Algorithms: The Training Process](#6-Core-Learning-Algorithms:-The-Training-Process)  \n",
    "[7 Core Learning Algorithms: Classification](#7-Core-Learning-Algorithms:-Classification)  \n",
    "[8 Core Learning Algorithms: Building the Model](#8-Core-Learning-Algorithms:-Building-the-Model)  \n",
    "[9 Core Learning Algorithms: Clustering](#9-Core-Learning-Algorithms:-Clustering)  \n",
    "[10 Core Learning Algorithms: Hidden Markov Models](#10-Core-Learning-Algorithms:-Hidden-Markov-Models)  \n",
    "[11 Core Learning Algorithms: Using Probabilities to make Predictions](#11-Core-Learning-Algorithms:-Using-Probabilities-to-make-Predictions)  \n",
    "[12 Neural Networks with TensorFlow](#12-Neural-Networks-with-TensorFlow)  \n",
    "[13 Neural Networks: Activation Functions](#13-Neural-Networks:-Activation-Functions)  \n",
    "[14 Neural Networks: Optimizers](#14-Neural-Networks:-Optimizers)  \n",
    "[15 Neural Networks: Creating a Model](#15-Neural-Networks:-Creating-a-Model)  \n",
    "[16 Convolutional Neural Networks](#16-Convolutional-Neural-Networks)  \n",
    "[17 Convolutional Neural Networks: The Convolutional Layer](#17-Convolutional-Neural-Networks:-The-Convolutional-Layer)  \n",
    "[18 Creating a Convolutional Neural Network](#18-Creating-a-Convolutional-Neural-Network)  \n",
    "[19 Convolutional Neural Networks: Evaluating the Model](#19-Convolutional-Neural-Networks:-Evaluating-the-Model)  \n",
    "[20 Convolutional Neural Networks: Picking a Pretrained Model](#20-Convolutional-Neural-Networks:-Picking-a-Pretrained-Model)  \n",
    "[21 Natural Language Processing With RNNs](#21-Natural-Language-Processing-With-RNNs)  \n",
    "[22 Natural Language Processing With RNNs: Part 2](#22-Natural-Language-Processing-With-RNNs:-Part-2)  \n",
    "[23 Natural Language Processing With RNNs: Recurring Neural Networks](#23-Natural-Language-Processing-With-RNNs:-Recurring-Neural-Networks)  \n",
    "[24 Natural Language Processing With RNNs: Sentiment Analysis](#24-Natural-Language-Processing-With-RNNs:-Sentiment-Analysis)  \n",
    "[25 Natural Language Processing With RNNs: Making Predictions](#25-Natural-Language-Processing-With-RNNs:-Making-Predictions)  \n",
    "[26 Natural Language Processing With RNNs: Create a Play Generator](#26-Natural-Language-Processing-With-RNNs:-Create-a-Play-Generator)  \n",
    "[27 Natural Language Processing With RNNs: Building the Model](#27-Natural-Language-Processing-With-RNNs:-Building-the-Model)  \n",
    "[28 Natural Language Processing With RNNs: Training the Model](#28-Natural-Language-Processing-With-RNNs:-Training-the-Model)  \n",
    "[29 Reinforcement Learning With Q-Learning](#29-Reinforcement-Learning-With-Q-Learning)  \n",
    "[30 Reinforcement Learning With Q-Learning: Part 2](#30-Reinforcement-Learning-With-Q-Learning:-Part-2)  \n",
    "[31 Reinforcement Learning With Q-Learning: Example](#31-Reinforcement-Learning-With-Q-Learning:-Example)  \n",
    "[32 Conclusion](#32-Conclusion)  "
   ]
  },
  {
   "cell_type": "markdown",
   "metadata": {},
   "source": []
  },
  {
   "cell_type": "markdown",
   "metadata": {},
   "source": [
    "#### How Neural Networks Work"
   ]
  },
  {
   "cell_type": "markdown",
   "metadata": {},
   "source": [
    "[Introduction to the How Neural Networks Work Lectures](#Introduction-to-the-How-Neural-Networks-Work-Lectures)  \n",
    "[1 How Deep Neural Networks Work](#1-How-Deep-Neural-Networks-Work)  \n",
    "[2 Recurrent Neural Networks RNN and Long Short Term Memory LSTM](#2-Recurrent-Neural-Networks-RNN-and-Long-Short-Term-Memory-LSTM)  \n",
    "[3 Deep Learning Demystified](#3-Deep-Learning-Demystified)  \n",
    "[4 How Convolutional Neural Networks work](#4-How-Convolutional-Neural-Networks-work)  "
   ]
  },
  {
   "cell_type": "markdown",
   "metadata": {},
   "source": []
  },
  {
   "cell_type": "markdown",
   "metadata": {},
   "source": [
    "#### Machine Learning with Python Projects"
   ]
  },
  {
   "cell_type": "markdown",
   "metadata": {},
   "source": [
    "[Introduction to the Machine Learning Projects](#Introduction-to-the-Machine-Learning-Projects)  \n",
    "[1 Rock Paper Scissors](#1-Rock-Paper-Scissors)  \n",
    "[2 Cat and Dog Image Classifier](#2-Cat-and-Dog-Image-Classifier)  \n",
    "[3 Book Recommendation Engine using KNN](#3-Book-Recommendation-Engine-using-KNN)  \n",
    "[4 Linear Regression Health Costs Calculator](#4-Linear-Regression-Health-Costs-Calculator)  \n",
    "[5 Neural Network SMS Text Classifier](#5-Neural-Network-SMS-Text-Classifier)  "
   ]
  },
  {
   "cell_type": "markdown",
   "metadata": {},
   "source": [
    "### Data Analysis with Python Certification (300 hours)"
   ]
  },
  {
   "cell_type": "markdown",
   "metadata": {},
   "source": [
    "#### Data Analysis with Python Course"
   ]
  },
  {
   "cell_type": "markdown",
   "metadata": {},
   "source": [
    "#### Introduction to the Data Analysis with Python Course Lectures\n",
    "[youtube](https://www.youtube.com/watch?v=r-uOLxNrNk8&feature=youtu.be)  \n",
    "[Interactive Notebooks Tutorial](https://notebooks.ai/mlapin/interactive-jupyterlab-tutorial-4606e21c/lab)  \n",
    "[https://github.com/notebooks-ai](https://github.com/notebooks-ai)  \n",
    "[]()  \n",
    "[]()  \n",
    "[Interactive JupyterLab Tutorial](https://notebooks.ai/rmotr-curriculum/interactive-jupyterlab-tutorial-ac5fa63f)  \n",
    "\n",
    "```\n",
    "```\n",
    "#### 1 Introduction to Data Analysis\n",
    "```\n",
    "Why should you choose R over Python for data analysis?\n",
    "\n",
    "It's better at dealing with advanced statistical methods.\n",
    "```\n"
   ]
  },
  {
   "cell_type": "markdown",
   "metadata": {},
   "source": [
    "#### 2 Data Analysis Example A\n",
    "```\n",
    "What does the shape of our dataframe tell us?\n",
    "\n",
    "How many rows and columns our dataframe has.\n",
    "```"
   ]
  },
  {
   "cell_type": "markdown",
   "metadata": {},
   "source": []
  },
  {
   "cell_type": "markdown",
   "metadata": {},
   "source": [
    "#### 3 Data Analysis Example B\n",
    "```\n",
    "What does the loc method allow you to do?\n",
    "\n",
    "Access a group of rows and columns by supplying label(s) arguments.\n",
    "```"
   ]
  },
  {
   "cell_type": "markdown",
   "metadata": {},
   "source": []
  },
  {
   "cell_type": "markdown",
   "metadata": {},
   "source": [
    "#### 4 How to use Jupyter Notebooks Intro\n",
    "```\n",
    "```\n"
   ]
  },
  {
   "cell_type": "markdown",
   "metadata": {},
   "source": [
    "What is not allowed in a Jupyter Notebook's cell?\n",
    "An Excel sheet"
   ]
  },
  {
   "cell_type": "markdown",
   "metadata": {},
   "source": [
    "#### 5 Jupyter Notebooks Cells\n",
    "```\n",
    "Which cells are responsible for rich display?\n",
    "\n",
    "Code Cells\n",
    "```\n"
   ]
  },
  {
   "cell_type": "markdown",
   "metadata": {},
   "source": []
  },
  {
   "cell_type": "markdown",
   "metadata": {},
   "source": [
    "#### 6 Jupyter Notebooks Importing and Exporting Data\n",
    "```\n",
    "What kind of data can you import and work with in a Jupyter Notebook?\n",
    "All of the above.\n",
    "```\n"
   ]
  },
  {
   "cell_type": "markdown",
   "metadata": {},
   "source": [
    "#### 7 Numpy Introduction A\n",
    "[Part 4: Intro to NumPy (01:04:58)](https://notebooks.ai/rmotr-curriculum/freecodecamp-intro-to-numpy-6c285b74)  \n",
    "[]()  \n",
    "[]()  \n",
    "[]()  \n",
    "[]()  \n",
    "[]()  \n",
    "\n",
    "```\n",
    "Why is Numpy an important, but unpopular Python library?\n",
    "\n",
    "\n",
    "*Often you won't work directly with Numpy.\n",
    "\n",
    "\n",
    "It's is extremely slow.\n",
    "\n",
    "\n",
    "Working with Numpy is difficult.\n",
    "```\n"
   ]
  },
  {
   "cell_type": "code",
   "execution_count": 1,
   "metadata": {},
   "outputs": [
    {
     "name": "stdout",
     "output_type": "stream",
     "text": [
      "[1 2 3 4] int32 [1 2] [1 3]\n",
      "['a' 'b' 'c'] <U1\n",
      "[{'a': 1} 'sys']\n"
     ]
    },
    {
     "data": {
      "text/plain": [
       "array([1, 2, 3, 4], dtype=int8)"
      ]
     },
     "execution_count": 1,
     "metadata": {},
     "output_type": "execute_result"
    }
   ],
   "source": [
    "import numpy as np\n",
    "\n",
    "a = np.array([1, 2, 3, 4])\n",
    "print(a, a.dtype, a[0:2], a[::2])\n",
    "# [1 2 3 4] int32 [1 2] [1 3]\n",
    "c = np.array(['a', 'b', 'c'])\n",
    "print(c, c.dtype)\n",
    "d = np.array([{'a': 1}, 'sys'])\n",
    "print(d)\n",
    "np.array([1, 2, 3, 4], dtype=np.int8)\n"
   ]
  },
  {
   "cell_type": "code",
   "execution_count": 2,
   "metadata": {},
   "outputs": [
    {
     "name": "stdout",
     "output_type": "stream",
     "text": [
      "(2, 3) 2 6\n"
     ]
    }
   ],
   "source": [
    "A = np.array([\n",
    "    [1, 2, 3],\n",
    "    [4, 5, 6]\n",
    "])\n",
    "print(A.shape, A.ndim, A.size)"
   ]
  },
  {
   "cell_type": "markdown",
   "metadata": {},
   "source": []
  },
  {
   "cell_type": "markdown",
   "metadata": {},
   "source": [
    "#### 8 Numpy Introduction B\n",
    "```\n",
    "About how much memory does the integer 5 consume in plain Python?\n",
    "\n",
    "\n",
    "32 bits\n",
    "\n",
    "\n",
    "*20 bytes\n",
    "\n",
    "\n",
    "16 bytes\n",
    "\n",
    "\n",
    "8 bits```\n"
   ]
  },
  {
   "cell_type": "markdown",
   "metadata": {},
   "source": [
    "#### 9 Numpy Arrays\n",
    "```\n",
    "```\n"
   ]
  },
  {
   "cell_type": "code",
   "execution_count": 3,
   "metadata": {},
   "outputs": [
    {
     "name": "stdout",
     "output_type": "stream",
     "text": [
      "[['a' 'b']\n",
      " ['d' 'e']\n",
      " ['g' 'h']]\n"
     ]
    }
   ],
   "source": [
    "A = np.array([\n",
    "    ['a', 'b', 'c'],\n",
    "    ['d', 'e', 'f'],\n",
    "    ['g', 'h', 'i']\n",
    "])\n",
    "print(A[:, :2])\n",
    "# [['a' 'b']\n",
    "#  ['d' 'e']\n",
    "#  ['g' 'h']]"
   ]
  },
  {
   "cell_type": "markdown",
   "metadata": {},
   "source": [
    "#### 10 Numpy Operations\n",
    "```\n",
    "```"
   ]
  },
  {
   "cell_type": "code",
   "execution_count": 4,
   "metadata": {},
   "outputs": [
    {
     "name": "stdout",
     "output_type": "stream",
     "text": [
      "[0 1 2 3 4] [20 21 22 23 24]\n"
     ]
    }
   ],
   "source": [
    "a = np.arange(5)\n",
    "a + 20\n",
    "print(a, a + 20)\n",
    "# [0 1 2 3 4] [20 21 22 23 24]"
   ]
  },
  {
   "cell_type": "markdown",
   "metadata": {},
   "source": [
    "#### 11 Numpy Boolean Arrays\n",
    "```\n",
    "```"
   ]
  },
  {
   "cell_type": "code",
   "execution_count": 5,
   "metadata": {},
   "outputs": [
    {
     "name": "stdout",
     "output_type": "stream",
     "text": [
      "[ True  True  True  True False]\n"
     ]
    }
   ],
   "source": [
    "a = np.arange(5)\n",
    "\n",
    "print(a <= 3)"
   ]
  },
  {
   "cell_type": "markdown",
   "metadata": {},
   "source": [
    "#### 12 Numpy Algebra and Size\n",
    "```\n",
    "What is the relationship between size of objects (such as lists and datatypes) in memory in Python's standard library and the NumPy library? Knowing this, what are the implications for performance?\n",
    "\n",
    "Standard Python objects take up more memory than NumPy objects; operations on NumPy objects complete very quickly compared to comparable objects in standard Python.\n",
    "]```\n"
   ]
  },
  {
   "cell_type": "markdown",
   "metadata": {},
   "source": [
    "#### 13 Pandas Introduction\n",
    "[]()  \n",
    "[]()  \n",
    "[]()  \n",
    "\n",
    "```\n",
    "```\n"
   ]
  },
  {
   "cell_type": "code",
   "execution_count": 6,
   "metadata": {},
   "outputs": [
    {
     "name": "stdout",
     "output_type": "stream",
     "text": [
      "Tom      8\n",
      "Kris     2\n",
      "Ahmad    5\n",
      "Beau     6\n",
      "dtype: int64\n"
     ]
    }
   ],
   "source": [
    "import pandas as pd\n",
    "\n",
    "certificates_earned = pd.Series(\n",
    "    [8, 2, 5, 6],\n",
    "    index=['Tom', 'Kris', 'Ahmad', 'Beau']\n",
    ")\n",
    "\n",
    "print(certificates_earned)"
   ]
  },
  {
   "cell_type": "markdown",
   "metadata": {},
   "source": []
  },
  {
   "cell_type": "markdown",
   "metadata": {},
   "source": [
    "#### 14 Pandas Indexing and Conditional Selection\n",
    "```\n",
    "```\n"
   ]
  },
  {
   "cell_type": "code",
   "execution_count": 7,
   "metadata": {},
   "outputs": [
    {
     "name": "stdout",
     "output_type": "stream",
     "text": [
      "Tom     8\n",
      "Beau    6\n",
      "dtype: int64\n"
     ]
    }
   ],
   "source": [
    "import pandas as pd\n",
    "\n",
    "certificates_earned = pd.Series(\n",
    "    [8, 2, 5, 6],\n",
    "    index=['Tom', 'Kris', 'Ahmad', 'Beau']\n",
    ")\n",
    "\n",
    "print(certificates_earned[certificates_earned > 5])"
   ]
  },
  {
   "cell_type": "markdown",
   "metadata": {},
   "source": [
    "#### 15 Pandas DataFrames\n",
    "```\n",
    "```\n"
   ]
  },
  {
   "cell_type": "code",
   "execution_count": 8,
   "metadata": {},
   "outputs": [
    {
     "name": "stdout",
     "output_type": "stream",
     "text": [
      "Certificates        5\n",
      "Time (in months)    9\n",
      "Name: Ahmad, dtype: int64\n"
     ]
    }
   ],
   "source": [
    "import pandas as pd\n",
    "\n",
    "certificates_earned = pd.DataFrame({\n",
    "    'Certificates': [8, 2, 5, 6],\n",
    "    'Time (in months)': [16, 5, 9, 12]\n",
    "})\n",
    "\n",
    "certificates_earned.index = ['Tom', 'Kris', 'Ahmad', 'Beau']\n",
    "\n",
    "print(certificates_earned.iloc[2])"
   ]
  },
  {
   "cell_type": "markdown",
   "metadata": {},
   "source": [
    "#### 16 Pandas Condtitional Selection and Modifying DataFrames\n",
    "```\n",
    "```\n"
   ]
  },
  {
   "cell_type": "code",
   "execution_count": 2,
   "metadata": {},
   "outputs": [
    {
     "name": "stdout",
     "output_type": "stream",
     "text": [
      "       Certificates  Time (in months)  Longest streak\n",
      "Tom               8                16              13\n",
      "Kris              2                 5              11\n",
      "Ahmad             5                 9               9\n",
      "Beau              6                12               7\n"
     ]
    }
   ],
   "source": [
    "import pandas as pd\n",
    "\n",
    "certificates_earned = pd.DataFrame({\n",
    "    'Certificates': [8, 2, 5, 6],\n",
    "    'Time (in months)': [16, 5, 9, 12]\n",
    "})\n",
    "names = ['Tom', 'Kris', 'Ahmad', 'Beau']\n",
    "\n",
    "certificates_earned.index = names\n",
    "longest_streak = pd.Series([13, 11, 9, 7], index=names)\n",
    "certificates_earned['Longest streak'] = longest_streak\n",
    "\n",
    "print(certificates_earned)\n"
   ]
  },
  {
   "cell_type": "markdown",
   "metadata": {},
   "source": [
    "#### 17 Pandas Creating Columns\n",
    "```\n",
    "```\n"
   ]
  },
  {
   "cell_type": "code",
   "execution_count": 10,
   "metadata": {},
   "outputs": [
    {
     "name": "stdout",
     "output_type": "stream",
     "text": [
      "       Certificates  Time (in months)  Certificates per month\n",
      "Tom               8                16                    0.50\n",
      "Kris              2                 5                    0.40\n",
      "Ahmad             5                 9                    0.56\n",
      "Beau              6                12                    0.50\n"
     ]
    }
   ],
   "source": [
    "import pandas as pd\n",
    "\n",
    "certificates_earned = pd.DataFrame({\n",
    "    'Certificates': [8, 2, 5, 6],\n",
    "    'Time (in months)': [16, 5, 9, 12]\n",
    "})\n",
    "names = ['Tom', 'Kris', 'Ahmad', 'Beau']\n",
    "\n",
    "certificates_earned.index = names\n",
    "\n",
    "\n",
    "certificates_earned['Certificates per month'] = round(\n",
    "    certificates_earned['Certificates'] /\n",
    "    certificates_earned['Time (in months)'],2\n",
    ")\n",
    "\n",
    "\n",
    "print(certificates_earned)\n"
   ]
  },
  {
   "cell_type": "markdown",
   "metadata": {},
   "source": [
    "#### 18 Data Cleaning Introduction\n",
    "[Data Cleaning RMOTR - FreeCodeCamp](https://notebooks.ai/rmotr-curriculum/data-cleaning-rmotr-freecodecamp-fd76fa59)   \n",
    "```\n",
    "```\n"
   ]
  },
  {
   "cell_type": "code",
   "execution_count": 3,
   "metadata": {},
   "outputs": [
    {
     "name": "stdout",
     "output_type": "stream",
     "text": [
      "[ 1.  2.  3. nan nan  4.] nan nan nan\n"
     ]
    }
   ],
   "source": [
    "import numpy as np\n",
    "a = np.array([1, 2, 3, np.nan, np.nan, 4])\n",
    "print(a, a.sum(), a.mean(), 3+np.nan)"
   ]
  },
  {
   "cell_type": "code",
   "execution_count": 47,
   "metadata": {},
   "outputs": [
    {
     "name": "stdout",
     "output_type": "stream",
     "text": [
      "[1 3 5] 3.0\n"
     ]
    }
   ],
   "source": [
    "import numpy as np\n",
    "a = np.array([1, 3, 5])\n",
    "print(a,a.mean())\n"
   ]
  },
  {
   "cell_type": "code",
   "execution_count": 12,
   "metadata": {},
   "outputs": [
    {
     "name": "stdout",
     "output_type": "stream",
     "text": [
      "inf\n",
      "[ 1.  2.  3. inf nan  4.] nan\n"
     ]
    }
   ],
   "source": [
    "print(3+np.inf)\n",
    "b = np.array([1, 2, 3, np.inf, np.nan, 4], dtype=np.float)\n",
    "print(b, b.sum())"
   ]
  },
  {
   "cell_type": "code",
   "execution_count": 13,
   "metadata": {},
   "outputs": [
    {
     "name": "stdout",
     "output_type": "stream",
     "text": [
      "[ 1.  2.  3. inf nan  4.] [ 1.  2.  3. inf  4.] [nan] [False False False False  True False]\n",
      "[False False False False  True False]\n"
     ]
    }
   ],
   "source": [
    "b = np.array([1, 2, 3, np.inf, np.nan, 4], dtype=np.float)\n",
    "print(b, b[~np.isnan(b)], b[np.isnan(b)], np.isnan(b))\n",
    "print(np.isnan(b))\n",
    "# [ 1.  2.  3. inf nan  4.] [ 1.  2.  3. inf  4.] [nan] [False False False False  True False]\n",
    "# [False False False False  True False]"
   ]
  },
  {
   "cell_type": "markdown",
   "metadata": {},
   "source": [
    "##### Таблица"
   ]
  },
  {
   "cell_type": "code",
   "execution_count": 4,
   "metadata": {},
   "outputs": [
    {
     "name": "stdout",
     "output_type": "stream",
     "text": [
      "   a1  a2\n",
      "0  11  21\n",
      "1  12  22\n",
      "2  13  23\n"
     ]
    }
   ],
   "source": [
    "aa = [[11, 21], [12, 22], [13, 23]]\n",
    "a1 = list(map(lambda x:x[0],aa))\n",
    "a2 = list(map(lambda x:x[1],aa))\n",
    "s = pd.DataFrame({\n",
    "    'a1':a1,\n",
    "    'a2':a2\n",
    "})\n",
    "print(s)"
   ]
  },
  {
   "cell_type": "code",
   "execution_count": 15,
   "metadata": {},
   "outputs": [
    {
     "name": "stdout",
     "output_type": "stream",
     "text": [
      "   a1  a2        a3\n",
      "0  11  21  [11, 21]\n",
      "1  12  22  [12, 22]\n",
      "2  13  23  [13, 23]\n",
      "3  14  24  [14, 24]\n"
     ]
    }
   ],
   "source": [
    "aa = [[11, 21], [12, 22], [13, 23], [14, 24]]\n",
    "a1 = list(map(lambda x:x[0],aa))\n",
    "a2 = list(map(lambda x:x[1],aa))\n",
    "s = pd.DataFrame({\n",
    "    'a1':a1,\n",
    "    'a2':a2,\n",
    "    'a3':aa\n",
    "})\n",
    "print(s)"
   ]
  },
  {
   "cell_type": "code",
   "execution_count": null,
   "metadata": {},
   "outputs": [],
   "source": []
  },
  {
   "cell_type": "markdown",
   "metadata": {},
   "source": [
    "[pythonru](https://pythonru.com/biblioteki/struktury-dannyh-v-pandas)  \n",
    "[]()  \n"
   ]
  },
  {
   "cell_type": "code",
   "execution_count": 16,
   "metadata": {},
   "outputs": [
    {
     "data": {
      "text/html": [
       "<div>\n",
       "<style scoped>\n",
       "    .dataframe tbody tr th:only-of-type {\n",
       "        vertical-align: middle;\n",
       "    }\n",
       "\n",
       "    .dataframe tbody tr th {\n",
       "        vertical-align: top;\n",
       "    }\n",
       "\n",
       "    .dataframe thead th {\n",
       "        text-align: right;\n",
       "    }\n",
       "</style>\n",
       "<table border=\"1\" class=\"dataframe\">\n",
       "  <thead>\n",
       "    <tr style=\"text-align: right;\">\n",
       "      <th></th>\n",
       "      <th>red</th>\n",
       "      <th>blue</th>\n",
       "      <th>yellow</th>\n",
       "      <th>white</th>\n",
       "    </tr>\n",
       "  </thead>\n",
       "  <tbody>\n",
       "    <tr>\n",
       "      <td>ball</td>\n",
       "      <td>0</td>\n",
       "      <td>4</td>\n",
       "      <td>8</td>\n",
       "      <td>12</td>\n",
       "    </tr>\n",
       "    <tr>\n",
       "      <td>pen</td>\n",
       "      <td>1</td>\n",
       "      <td>5</td>\n",
       "      <td>9</td>\n",
       "      <td>13</td>\n",
       "    </tr>\n",
       "    <tr>\n",
       "      <td>pencil</td>\n",
       "      <td>2</td>\n",
       "      <td>6</td>\n",
       "      <td>10</td>\n",
       "      <td>14</td>\n",
       "    </tr>\n",
       "    <tr>\n",
       "      <td>paper</td>\n",
       "      <td>3</td>\n",
       "      <td>7</td>\n",
       "      <td>11</td>\n",
       "      <td>15</td>\n",
       "    </tr>\n",
       "  </tbody>\n",
       "</table>\n",
       "</div>"
      ],
      "text/plain": [
       "        red  blue  yellow  white\n",
       "ball      0     4       8     12\n",
       "pen       1     5       9     13\n",
       "pencil    2     6      10     14\n",
       "paper     3     7      11     15"
      ]
     },
     "execution_count": 16,
     "metadata": {},
     "output_type": "execute_result"
    }
   ],
   "source": [
    "frame3 = pd.DataFrame(np.arange(16).reshape((4,4)),\n",
    "                       index=['red', 'blue', 'yellow', 'white'],\n",
    "                       columns=['ball', 'pen', 'pencil', 'paper']).T\n",
    "frame3"
   ]
  },
  {
   "cell_type": "code",
   "execution_count": 17,
   "metadata": {},
   "outputs": [
    {
     "data": {
      "text/html": [
       "<div>\n",
       "<style scoped>\n",
       "    .dataframe tbody tr th:only-of-type {\n",
       "        vertical-align: middle;\n",
       "    }\n",
       "\n",
       "    .dataframe tbody tr th {\n",
       "        vertical-align: top;\n",
       "    }\n",
       "\n",
       "    .dataframe thead th {\n",
       "        text-align: right;\n",
       "    }\n",
       "</style>\n",
       "<table border=\"1\" class=\"dataframe\">\n",
       "  <thead>\n",
       "    <tr style=\"text-align: right;\">\n",
       "      <th></th>\n",
       "      <th>0</th>\n",
       "      <th>1</th>\n",
       "      <th>2</th>\n",
       "      <th>3</th>\n",
       "    </tr>\n",
       "  </thead>\n",
       "  <tbody>\n",
       "    <tr>\n",
       "      <td>0</td>\n",
       "      <td>0</td>\n",
       "      <td>4</td>\n",
       "      <td>8</td>\n",
       "      <td>12</td>\n",
       "    </tr>\n",
       "    <tr>\n",
       "      <td>1</td>\n",
       "      <td>1</td>\n",
       "      <td>5</td>\n",
       "      <td>9</td>\n",
       "      <td>13</td>\n",
       "    </tr>\n",
       "    <tr>\n",
       "      <td>2</td>\n",
       "      <td>2</td>\n",
       "      <td>6</td>\n",
       "      <td>10</td>\n",
       "      <td>14</td>\n",
       "    </tr>\n",
       "    <tr>\n",
       "      <td>3</td>\n",
       "      <td>3</td>\n",
       "      <td>7</td>\n",
       "      <td>11</td>\n",
       "      <td>15</td>\n",
       "    </tr>\n",
       "  </tbody>\n",
       "</table>\n",
       "</div>"
      ],
      "text/plain": [
       "   0  1   2   3\n",
       "0  0  4   8  12\n",
       "1  1  5   9  13\n",
       "2  2  6  10  14\n",
       "3  3  7  11  15"
      ]
     },
     "execution_count": 17,
     "metadata": {},
     "output_type": "execute_result"
    }
   ],
   "source": [
    "frame3 = pd.DataFrame(np.arange(16).reshape((4,4))).T\n",
    "frame3"
   ]
  },
  {
   "cell_type": "code",
   "execution_count": 18,
   "metadata": {},
   "outputs": [
    {
     "data": {
      "text/html": [
       "<div>\n",
       "<style scoped>\n",
       "    .dataframe tbody tr th:only-of-type {\n",
       "        vertical-align: middle;\n",
       "    }\n",
       "\n",
       "    .dataframe tbody tr th {\n",
       "        vertical-align: top;\n",
       "    }\n",
       "\n",
       "    .dataframe thead th {\n",
       "        text-align: right;\n",
       "    }\n",
       "</style>\n",
       "<table border=\"1\" class=\"dataframe\">\n",
       "  <thead>\n",
       "    <tr style=\"text-align: right;\">\n",
       "      <th></th>\n",
       "      <th>variable</th>\n",
       "      <th>value</th>\n",
       "    </tr>\n",
       "  </thead>\n",
       "  <tbody>\n",
       "    <tr>\n",
       "      <td>0</td>\n",
       "      <td>0</td>\n",
       "      <td>0</td>\n",
       "    </tr>\n",
       "    <tr>\n",
       "      <td>1</td>\n",
       "      <td>0</td>\n",
       "      <td>1</td>\n",
       "    </tr>\n",
       "    <tr>\n",
       "      <td>2</td>\n",
       "      <td>0</td>\n",
       "      <td>2</td>\n",
       "    </tr>\n",
       "    <tr>\n",
       "      <td>3</td>\n",
       "      <td>0</td>\n",
       "      <td>3</td>\n",
       "    </tr>\n",
       "    <tr>\n",
       "      <td>4</td>\n",
       "      <td>1</td>\n",
       "      <td>4</td>\n",
       "    </tr>\n",
       "    <tr>\n",
       "      <td>5</td>\n",
       "      <td>1</td>\n",
       "      <td>5</td>\n",
       "    </tr>\n",
       "    <tr>\n",
       "      <td>6</td>\n",
       "      <td>1</td>\n",
       "      <td>6</td>\n",
       "    </tr>\n",
       "    <tr>\n",
       "      <td>7</td>\n",
       "      <td>1</td>\n",
       "      <td>7</td>\n",
       "    </tr>\n",
       "    <tr>\n",
       "      <td>8</td>\n",
       "      <td>2</td>\n",
       "      <td>8</td>\n",
       "    </tr>\n",
       "    <tr>\n",
       "      <td>9</td>\n",
       "      <td>2</td>\n",
       "      <td>9</td>\n",
       "    </tr>\n",
       "    <tr>\n",
       "      <td>10</td>\n",
       "      <td>2</td>\n",
       "      <td>10</td>\n",
       "    </tr>\n",
       "    <tr>\n",
       "      <td>11</td>\n",
       "      <td>2</td>\n",
       "      <td>11</td>\n",
       "    </tr>\n",
       "    <tr>\n",
       "      <td>12</td>\n",
       "      <td>3</td>\n",
       "      <td>12</td>\n",
       "    </tr>\n",
       "    <tr>\n",
       "      <td>13</td>\n",
       "      <td>3</td>\n",
       "      <td>13</td>\n",
       "    </tr>\n",
       "    <tr>\n",
       "      <td>14</td>\n",
       "      <td>3</td>\n",
       "      <td>14</td>\n",
       "    </tr>\n",
       "    <tr>\n",
       "      <td>15</td>\n",
       "      <td>3</td>\n",
       "      <td>15</td>\n",
       "    </tr>\n",
       "  </tbody>\n",
       "</table>\n",
       "</div>"
      ],
      "text/plain": [
       "    variable  value\n",
       "0          0      0\n",
       "1          0      1\n",
       "2          0      2\n",
       "3          0      3\n",
       "4          1      4\n",
       "5          1      5\n",
       "6          1      6\n",
       "7          1      7\n",
       "8          2      8\n",
       "9          2      9\n",
       "10         2     10\n",
       "11         2     11\n",
       "12         3     12\n",
       "13         3     13\n",
       "14         3     14\n",
       "15         3     15"
      ]
     },
     "execution_count": 18,
     "metadata": {},
     "output_type": "execute_result"
    }
   ],
   "source": [
    "frame3 = pd.DataFrame(np.arange(16).reshape((4,4))).T\n",
    "pd.melt(frame3)"
   ]
  },
  {
   "cell_type": "code",
   "execution_count": 19,
   "metadata": {},
   "outputs": [
    {
     "name": "stdout",
     "output_type": "stream",
     "text": [
      "0     True\n",
      "1     True\n",
      "2    False\n",
      "3     True\n",
      "4    False\n",
      "dtype: bool 3\n"
     ]
    }
   ],
   "source": [
    "import pandas as pd\n",
    "import numpy as np\n",
    "\n",
    "s = pd.Series(['a', 3, np.nan, 1, np.nan])\n",
    "\n",
    "print(s.notnull(), s.notnull().sum())\n",
    "# 0     True\n",
    "# 1     True\n",
    "# 2    False\n",
    "# 3     True\n",
    "# 4    False\n",
    "# dtype: bool 3\n",
    "# количество ненулевых членов"
   ]
  },
  {
   "cell_type": "markdown",
   "metadata": {},
   "source": [
    "#### 19 Data Cleaning with DataFrames\n",
    "```\n",
    "```\n"
   ]
  },
  {
   "cell_type": "code",
   "execution_count": 20,
   "metadata": {},
   "outputs": [
    {
     "name": "stdout",
     "output_type": "stream",
     "text": [
      "0    4.0\n",
      "1    1.0\n",
      "2    2.0\n",
      "3    4.0\n",
      "4    3.0\n",
      "dtype: float64\n"
     ]
    }
   ],
   "source": [
    "import pandas as pd\n",
    "import numpy as np\n",
    "\n",
    "s = pd.Series([np.nan, 1, 2, np.nan, 3])\n",
    "s = s.fillna(4)\n",
    "\n",
    "print(s)\n",
    "# 0    4.0\n",
    "# 1    1.0\n",
    "# 2    2.0\n",
    "# 3    4.0\n",
    "# 4    3.0\n",
    "# dtype: float64"
   ]
  },
  {
   "cell_type": "code",
   "execution_count": 48,
   "metadata": {},
   "outputs": [
    {
     "name": "stdout",
     "output_type": "stream",
     "text": [
      "0    NaN\n",
      "1    1.0\n",
      "2    2.0\n",
      "3    2.0\n",
      "4    3.0\n",
      "dtype: float64\n"
     ]
    }
   ],
   "source": [
    "import pandas as pd\n",
    "import numpy as np\n",
    "\n",
    "s = pd.Series([np.nan, 1, 2, np.nan, 3])\n",
    "s = s.fillna(method='ffill')\n",
    "\n",
    "print(s)\n",
    "# help(s.fillna)"
   ]
  },
  {
   "cell_type": "markdown",
   "metadata": {},
   "source": [
    "#### 20 Data Cleaning Duplicates\n",
    "```\n",
    "The Python method .duplicated() returns a boolean Series for your DataFrame. True is the return value for rows that:\n",
    "\n",
    "\n",
    "contain a duplicate, where the value for the row contains the first occurrence of that value.\n",
    "\n",
    "\n",
    "===contain a duplicate, where the value for the row is at least the second occurrence of that value.\n",
    "\n",
    "\n",
    "contain a duplicate, where the value for the row contains either the first or second occurrence.\n",
    "```\n"
   ]
  },
  {
   "cell_type": "code",
   "execution_count": 22,
   "metadata": {},
   "outputs": [
    {
     "name": "stdout",
     "output_type": "stream",
     "text": [
      "0    False\n",
      "1    False\n",
      "2    False\n",
      "3     True\n",
      "4    False\n",
      "dtype: bool\n"
     ]
    }
   ],
   "source": [
    "import pandas as pd\n",
    "import numpy as np\n",
    "\n",
    "s = pd.Series([np.nan, 1, 2, np.nan, 3])\n",
    "s = s.duplicated()\n",
    "\n",
    "print(s)"
   ]
  },
  {
   "cell_type": "markdown",
   "metadata": {},
   "source": [
    "#### 21 Data Cleaning and Visualizations\n",
    "```\n",
    "When using Matplotlib's global API, what does the order of numbers mean here?: plt.subplot(1, 2, 1)\n",
    "\n",
    "\n",
    "My figure will have one column, two rows, and I am going to start drawing in the first (left) plot.\n",
    "\n",
    "\n",
    "I am going to start drawing in the first (left) plot, my figure will have two rows, and my figure will have one column.\n",
    "\n",
    "\n",
    "***My figure will have one row, two columns, and I am going to start drawing in the first (left) plot.\n",
    "```\n"
   ]
  },
  {
   "cell_type": "code",
   "execution_count": 62,
   "metadata": {},
   "outputs": [
    {
     "name": "stdout",
     "output_type": "stream",
     "text": [
      "[-10  -9  -8  -7  -6  -5  -4  -3  -2  -1   0   1   2   3   4   5   6   7\n",
      "   8   9  10]\n"
     ]
    },
    {
     "data": {
      "text/plain": [
       "[<matplotlib.lines.Line2D at 0x8fdbbc8>]"
      ]
     },
     "execution_count": 62,
     "metadata": {},
     "output_type": "execute_result"
    },
    {
     "data": {
      "image/png": "[encoded data removed]",
      "text/plain": [
       "<Figure size 432x288 with 1 Axes>"
      ]
     },
     "metadata": {
      "needs_background": "light"
     },
     "output_type": "display_data"
    }
   ],
   "source": [
    "import numpy\n",
    "import pandas as pd\n",
    "import matplotlib.pyplot as plt\n",
    "\n",
    "%matplotlib inline\n",
    "\n",
    "x = np.arange(-10, 11)\n",
    "print(x)\n",
    "# plt.figure(figsize=(12, 6))\n",
    "# plt.title(\"My nice plot\") ##############\n",
    "plt.plot(x, x**2)\n",
    "plt.plot(x, x)"
   ]
  },
  {
   "cell_type": "code",
   "execution_count": 94,
   "metadata": {},
   "outputs": [
    {
     "name": "stdout",
     "output_type": "stream",
     "text": [
      "3.141592653589793\n"
     ]
    },
    {
     "data": {
      "image/png": "[encoded data removed]",
      "text/plain": [
       "<Figure size 432x288 with 1 Axes>"
      ]
     },
     "metadata": {
      "needs_background": "light"
     },
     "output_type": "display_data"
    }
   ],
   "source": [
    "import numpy as np\n",
    "import pandas as pd\n",
    "import matplotlib.pyplot as plt\n",
    "import math\n",
    "%matplotlib inline\n",
    "\n",
    "x = np.arange(-12, 13, 0.1)\n",
    "# plt.plot(x,x)\n",
    "plt.plot(x, np.sin(x))\n",
    "plt.plot([0,0], [-1,1])\n",
    "plt.axhline(y=0, color='k')\n",
    "plt.grid()\n",
    "# plt.axline(x=0, color='k')\n",
    "print(np.pi)"
   ]
  },
  {
   "cell_type": "code",
   "execution_count": 95,
   "metadata": {},
   "outputs": [
    {
     "data": {
      "text/plain": [
       "Text(0, 0.5, 'X Squared')"
      ]
     },
     "execution_count": 95,
     "metadata": {},
     "output_type": "execute_result"
    },
    {
     "data": {
      "image/png": "[encoded data removed]",
      "text/plain": [
       "<Figure size 864x432 with 1 Axes>"
      ]
     },
     "metadata": {
      "needs_background": "light"
     },
     "output_type": "display_data"
    }
   ],
   "source": [
    "plt.figure(figsize=(12, 6))\n",
    "# plt.title('My Nice Plot')\n",
    "\n",
    "plt.subplot(1, 2, 1)  # rows, columns, panel selected\n",
    "plt.plot(x, x ** 2)\n",
    "plt.plot([0, 0, 0], [-10, 0, 100])\n",
    "plt.legend(['X^2', 'Vertical Line'])\n",
    "plt.xlabel('X')\n",
    "plt.ylabel('X Squared')\n",
    "\n",
    "plt.subplot(1, 2, 2)\n",
    "plt.plot(x, -1 * (x ** 2))\n",
    "plt.plot([-10, 0, 10], [-50, -50, -50])\n",
    "plt.legend(['-X^2', 'Horizontal Line'])\n",
    "\n",
    "plt.xlabel('X')\n",
    "plt.ylabel('X Squared')"
   ]
  },
  {
   "cell_type": "markdown",
   "metadata": {},
   "source": []
  },
  {
   "cell_type": "markdown",
   "metadata": {},
   "source": [
    "#### 22 Reading Data Introduction\n",
    "```\n",
    "A: 'certificates.csv'\n",
    "\n",
    "B: '$'\n",
    "\n",
    "C: certs_num\n",
    "\n",
    "certificates.csv\n",
    "\n",
    "Name$Certificates$Time (in months)\n",
    "Tom$8$16\n",
    "Kris$2$5\n",
    "Ahmad$5$9\n",
    "Beau$6$12\n",
    "\n",
    "```\n"
   ]
  },
  {
   "cell_type": "code",
   "execution_count": 96,
   "metadata": {},
   "outputs": [
    {
     "name": "stdout",
     "output_type": "stream",
     "text": [
      "Tom earned 8 certificates in 16 months\n",
      "Kris earned 2 certificates in 5 months\n",
      "Ahmad earned 5 certificates in 9 months\n",
      "Beau earned 6 certificates in 12 months\n"
     ]
    }
   ],
   "source": [
    "import csv\n",
    "\n",
    "with open('certificates.csv', 'r') as fp:\n",
    "    reader = csv.reader(fp, delimiter='$')\n",
    "    next(reader)\n",
    "    for index, values in enumerate(reader):\n",
    "        name, certs_num, months_num = values\n",
    "        print(f\"{name} earned {certs_num} certificates in {months_num} months\")"
   ]
  },
  {
   "cell_type": "markdown",
   "metadata": {},
   "source": [
    "#### 23 Reading Data CSV and TXT\n",
    "```\n",
    "How would you import the CSV file \"data.csv\" and store it in a DataFrame using the Pandas module?\n",
    "\n",
    "\n",
    "import pandas as pd\n",
    "df = pd.csv(\"data.csv\")\n",
    "\n",
    "***df = pd.read_csv(\"data.csv\")\n",
    "\n",
    "pd.read_csv(\"data.csv\")\n",
    "\n",
    "df = pd.csv_reader(\"data.csv\")\n",
    "```\n"
   ]
  },
  {
   "cell_type": "code",
   "execution_count": 99,
   "metadata": {},
   "outputs": [],
   "source": [
    "import pandas as pd\n",
    "# df = pd.csv(\"data.csv\")\n",
    "\n",
    "df = pd.read_csv(\"certificates.csv\")\n",
    "\n",
    "# pd.read_csv(\"data.csv\")\n",
    "\n",
    "# df = pd.csv_reader(\"data.csv\")\n"
   ]
  },
  {
   "cell_type": "markdown",
   "metadata": {},
   "source": [
    "#### 24 Reading Data from Databases\n",
    "[RDP - Reading Data From Relational Databases](https://notebooks.ai/rmotr-curriculum/rdp-reading-data-from-relational-databases-2a3a889b)  \n",
    "[]()\n",
    "```\n",
    "What method does a Cursor instance have and what does it allow?\n",
    "\n",
    "\n",
    "The Cursor instance has a .run() method which allows you to run SQL queries.\n",
    "\n",
    "\n",
    "The Cursor instance has a .select() method which allows you to select records.\n",
    "\n",
    "\n",
    "***The Cursor instance has an .execute() method which will receive SQL parameters to run against the database.\n",
    "```\n"
   ]
  },
  {
   "cell_type": "code",
   "execution_count": 104,
   "metadata": {},
   "outputs": [
    {
     "data": {
      "text/plain": [
       "[(1,\n",
       "  'Adams',\n",
       "  'Andrew',\n",
       "  'General Manager',\n",
       "  None,\n",
       "  '1962-02-18 00:00:00',\n",
       "  '2002-08-14 00:00:00',\n",
       "  '11120 Jasper Ave NW',\n",
       "  'Edmonton',\n",
       "  'AB',\n",
       "  'Canada',\n",
       "  'T5K 2N1',\n",
       "  '+1 (780) 428-9482',\n",
       "  '+1 (780) 428-3457',\n",
       "  'andrew@chinookcorp.com'),\n",
       " (2,\n",
       "  'Edwards',\n",
       "  'Nancy',\n",
       "  'Sales Manager',\n",
       "  1,\n",
       "  '1958-12-08 00:00:00',\n",
       "  '2002-05-01 00:00:00',\n",
       "  '825 8 Ave SW',\n",
       "  'Calgary',\n",
       "  'AB',\n",
       "  'Canada',\n",
       "  'T2P 2T3',\n",
       "  '+1 (403) 262-3443',\n",
       "  '+1 (403) 262-3322',\n",
       "  'nancy@chinookcorp.com'),\n",
       " (3,\n",
       "  'Peacock',\n",
       "  'Jane',\n",
       "  'Sales Support Agent',\n",
       "  2,\n",
       "  '1973-08-29 00:00:00',\n",
       "  '2002-04-01 00:00:00',\n",
       "  '1111 6 Ave SW',\n",
       "  'Calgary',\n",
       "  'AB',\n",
       "  'Canada',\n",
       "  'T2P 5M5',\n",
       "  '+1 (403) 262-3443',\n",
       "  '+1 (403) 262-6712',\n",
       "  'jane@chinookcorp.com'),\n",
       " (4,\n",
       "  'Park',\n",
       "  'Margaret',\n",
       "  'Sales Support Agent',\n",
       "  2,\n",
       "  '1947-09-19 00:00:00',\n",
       "  '2003-05-03 00:00:00',\n",
       "  '683 10 Street SW',\n",
       "  'Calgary',\n",
       "  'AB',\n",
       "  'Canada',\n",
       "  'T2P 5G3',\n",
       "  '+1 (403) 263-4423',\n",
       "  '+1 (403) 263-4289',\n",
       "  'margaret@chinookcorp.com'),\n",
       " (5,\n",
       "  'Johnson',\n",
       "  'Steve',\n",
       "  'Sales Support Agent',\n",
       "  2,\n",
       "  '1965-03-03 00:00:00',\n",
       "  '2003-10-17 00:00:00',\n",
       "  '7727B 41 Ave',\n",
       "  'Calgary',\n",
       "  'AB',\n",
       "  'Canada',\n",
       "  'T3B 1Y7',\n",
       "  '1 (780) 836-9987',\n",
       "  '1 (780) 836-9543',\n",
       "  'steve@chinookcorp.com')]"
      ]
     },
     "execution_count": 104,
     "metadata": {},
     "output_type": "execute_result"
    }
   ],
   "source": [
    "import sqlite3\n",
    "\n",
    "conn = sqlite3.connect('chinook.db')\n",
    "cur = conn.cursor()\n",
    "\n",
    "cur.execute('SELECT * FROM employees LIMIT 5;')\n",
    "\n",
    "results = cur.fetchall()\n",
    "results"
   ]
  },
  {
   "cell_type": "markdown",
   "metadata": {},
   "source": [
    "#### 25 Parsing HTML and Saving Data\n",
    "```\n",
    "What Python library has the .read_html() method we can we use for parsing HTML documents and extracting tables?\n",
    "\n",
    "\n",
    "BeautifierSoupy\n",
    "\n",
    "\n",
    "WebReader\n",
    "\n",
    "\n",
    "HTTP-master\n",
    "\n",
    "\n",
    "***Pandas```\n"
   ]
  },
  {
   "cell_type": "code",
   "execution_count": 105,
   "metadata": {},
   "outputs": [
    {
     "name": "stdout",
     "output_type": "stream",
     "text": [
      "Tom      8\n",
      "Kris     2\n",
      "Ahmad    5\n",
      "Beau     6\n",
      "dtype: int64\n"
     ]
    }
   ],
   "source": [
    "import pandas as pd\n",
    "\n",
    "certificates_earned = pd.Series(\n",
    "    [8, 2, 5, 6],\n",
    "    index=['Tom', 'Kris', 'Ahmad', 'Beau']\n",
    ")\n",
    "\n",
    "print(certificates_earned)"
   ]
  },
  {
   "cell_type": "code",
   "execution_count": 107,
   "metadata": {},
   "outputs": [
    {
     "name": "stdout",
     "output_type": "stream",
     "text": [
      "[      Rk        Player Pos Age   Tm   G  GS    MP   FG   FGA  ...   FT%  ORB  \\\n",
      "0      1  Álex Abrines  SG  25  OKC  31   2  19.0  1.8   5.1  ...  .923  0.2   \n",
      "1      2    Quincy Acy  PF  28  PHO  10   0  12.3  0.4   1.8  ...  .700  0.3   \n",
      "2      3  Jaylen Adams  PG  22  ATL  34   1  12.6  1.1   3.2  ...  .778  0.3   \n",
      "3      4  Steven Adams   C  25  OKC  80  80  33.4  6.0  10.1  ...  .500  4.9   \n",
      "4      5   Bam Adebayo   C  21  MIA  82  28  23.3  3.4   5.9  ...  .735  2.0   \n",
      "..   ...           ...  ..  ..  ...  ..  ..   ...  ...   ...  ...   ...  ...   \n",
      "729  528  Tyler Zeller   C  29  MEM   4   1  20.5  4.0   7.0  ...  .778  2.3   \n",
      "730  529    Ante Žižić   C  22  CLE  59  25  18.3  3.1   5.6  ...  .705  1.8   \n",
      "731  530   Ivica Zubac   C  21  TOT  59  37  17.6  3.6   6.4  ...  .802  1.9   \n",
      "732  530   Ivica Zubac   C  21  LAL  33  12  15.6  3.4   5.8  ...  .864  1.6   \n",
      "733  530   Ivica Zubac   C  21  LAC  26  25  20.2  3.8   7.2  ...  .733  2.3   \n",
      "\n",
      "     DRB  TRB  AST  STL  BLK  TOV   PF   PTS  \n",
      "0    1.4  1.5  0.6  0.5  0.2  0.5  1.7   5.3  \n",
      "1    2.2  2.5  0.8  0.1  0.4  0.4  2.4   1.7  \n",
      "2    1.4  1.8  1.9  0.4  0.1  0.8  1.3   3.2  \n",
      "3    4.6  9.5  1.6  1.5  1.0  1.7  2.6  13.9  \n",
      "4    5.3  7.3  2.2  0.9  0.8  1.5  2.5   8.9  \n",
      "..   ...  ...  ...  ...  ...  ...  ...   ...  \n",
      "729  2.3  4.5  0.8  0.3  0.8  1.0  4.0  11.5  \n",
      "730  3.6  5.4  0.9  0.2  0.4  1.0  1.9   7.8  \n",
      "731  4.2  6.1  1.1  0.2  0.9  1.2  2.3   8.9  \n",
      "732  3.3  4.9  0.8  0.1  0.8  1.0  2.2   8.5  \n",
      "733  5.3  7.7  1.5  0.4  0.9  1.4  2.5   9.4  \n",
      "\n",
      "[734 rows x 30 columns]]\n"
     ]
    }
   ],
   "source": [
    "html_url = \"https://www.basketball-reference.com/leagues/NBA_2019_per_game.html\"\n",
    "nba_tables = pd.read_html(html_url)\n",
    "len(nba_tables)\n",
    "print(nba_tables)"
   ]
  },
  {
   "cell_type": "markdown",
   "metadata": {},
   "source": [
    "#### 26 Python Introduction\n",
    "```\n",
    "How do we define blocks of code in the body of functions in Python?\n",
    "\n",
    "\n",
    "We use a set of curly braces, one on either side of each new block of our code.\n",
    "\n",
    "\n",
    "***We use indentation, usually right-aligned 4 spaces.\n",
    "\n",
    "\n",
    "We do not denote blocks of code.\n",
    "\n",
    "\n",
    "We could use curly braces or indentation to denote blocks of code.\n",
    "```\n"
   ]
  },
  {
   "cell_type": "markdown",
   "metadata": {},
   "source": []
  },
  {
   "cell_type": "markdown",
   "metadata": {},
   "source": [
    "### 27 Python Functions and Collections\n",
    "```\n",
    "What is the main difference between lists and tuples in Python?\n",
    "\n",
    "\n",
    "***Tuples are immutable.\n",
    "\n",
    "\n",
    "Lists are ordered.\n",
    "\n",
    "\n",
    "Tuples are unordered.\n",
    "```\n"
   ]
  },
  {
   "cell_type": "markdown",
   "metadata": {},
   "source": []
  },
  {
   "cell_type": "markdown",
   "metadata": {},
   "source": []
  },
  {
   "cell_type": "markdown",
   "metadata": {},
   "source": [
    "#### 28 Python Iteration and Modules\n",
    "```\n",
    "How would you iterate over and print the keys and values of a dictionary named \"user\"?\n",
    "\n",
    "\n",
    "for key in user.items():\n",
    "    print(key)\n",
    "\n",
    "for key, value in user.all():\n",
    "    print(key, value)\n",
    "    print(value)\n",
    "\n",
    "***for key, value in user.items():\n",
    "    print(key, value)\n",
    "\n",
    "for key, value in user\n",
    "    print(key, value)\n",
    "```"
   ]
  },
  {
   "cell_type": "code",
   "execution_count": 109,
   "metadata": {},
   "outputs": [
    {
     "name": "stdout",
     "output_type": "stream",
     "text": [
      "dict_items([('name', 'Mary Smith'), ('age', 30), ('subscribed', True)])\n",
      "name Mary Smith\n",
      "age 30\n",
      "subscribed True\n"
     ]
    }
   ],
   "source": [
    "user = {\n",
    "    'name': 'Mary Smith',\n",
    "    'age': 30,\n",
    "    'subscribed': True\n",
    "}\n",
    "print(user.items())\n",
    "for k,v in user.items():\n",
    "    print(k,v)"
   ]
  },
  {
   "cell_type": "code",
   "execution_count": 111,
   "metadata": {},
   "outputs": [
    {
     "data": {
      "text/plain": [
       "dict_items([])"
      ]
     },
     "execution_count": 111,
     "metadata": {},
     "output_type": "execute_result"
    }
   ],
   "source": [
    "l = {}\n",
    "l.items()"
   ]
  },
  {
   "cell_type": "markdown",
   "metadata": {},
   "source": [
    "#### Numpy"
   ]
  },
  {
   "cell_type": "markdown",
   "metadata": {},
   "source": [
    "#### Introduction to the Numpy Lectures\n",
    "[Python NumPy Tutorial for Beginners](https://www.youtube.com/watch?v=QUT1VHiLmmI)  \n",
    "[]()  \n",
    "```\n",
    "```\n"
   ]
  },
  {
   "cell_type": "markdown",
   "metadata": {},
   "source": [
    "#### 1 What is NumPy\n",
    "```\n",
    "Why are Numpy arrays faster than regular Python lists?:\n",
    "\n",
    "\n",
    "Numpy does not perform type checking while iterating through objects.\n",
    "\n",
    "\n",
    "Numpy uses fixed types.\n",
    "\n",
    "\n",
    "Numpy uses contiguous memory.\n",
    "\n",
    "\n",
    "***All of the above.\n",
    "```\n"
   ]
  },
  {
   "cell_type": "markdown",
   "metadata": {},
   "source": [
    "#### 2 Basics of Numpy\n",
    "```\n",
    "```\n"
   ]
  },
  {
   "cell_type": "code",
   "execution_count": 112,
   "metadata": {},
   "outputs": [
    {
     "name": "stdout",
     "output_type": "stream",
     "text": [
      "[[1. 2. 3.]\n",
      " [3. 4. 5.]]\n"
     ]
    }
   ],
   "source": [
    "b = np.array([[1.0,2.0,3.0],[3.0,4.0,5.0]])\n",
    "print(b)"
   ]
  },
  {
   "cell_type": "markdown",
   "metadata": {},
   "source": [
    "#### 3 Accessing and Changing Elements, Rows, Columns\n",
    "```\n",
    "a = np.array([[1, 2, 3, 4, 5], [6, 7, 8, 9, 10]])\n",
    "\n",
    "# Output:\n",
    "# [[ 1  2  20  4  5]\n",
    "# [ 6  7 20  9 10]]\n",
    "\n",
    "a[:, 3] = 20\n",
    "```\n"
   ]
  },
  {
   "cell_type": "code",
   "execution_count": 114,
   "metadata": {},
   "outputs": [
    {
     "name": "stdout",
     "output_type": "stream",
     "text": [
      "[[ 1  2 20  4  5]\n",
      " [ 6  7 20  9 10]]\n"
     ]
    }
   ],
   "source": [
    "a = np.array([[1, 2, 3, 4, 5], [6, 7, 8, 9, 10]])\n",
    "a[0][2] = 20\n",
    "a[:, 2] = 20\n",
    "print(a)"
   ]
  },
  {
   "cell_type": "code",
   "execution_count": null,
   "metadata": {},
   "outputs": [],
   "source": [
    "import numpy as np\n",
    "a = np.array([1, 2, 3, 4, 5])\n",
    "b = a\n",
    "b[2] = 20\n",
    "print(a, b)   # [ 1  2 20  4  5] [ 1  2 20  4  5]\n"
   ]
  },
  {
   "cell_type": "code",
   "execution_count": null,
   "metadata": {},
   "outputs": [],
   "source": [
    "a = np.array([[1,3,5],[6,8,10]])\n",
    "print(a)\n",
    "print(a.shape)\n",
    "# [[ 1  3  5]\n",
    "#  [ 6  8 10]]\n",
    "# (2, 3)"
   ]
  },
  {
   "cell_type": "code",
   "execution_count": null,
   "metadata": {},
   "outputs": [],
   "source": [
    "a = np.array([[1,3,5],[6,8,10]])\n",
    "# print(a[1,0], a[1][0])   # 6 6\n",
    "# get a specific row\n",
    "# print(a[0,:])   # [1 3 5]\n",
    "# get a specific column\n",
    "# print(a[:, 1])   # [3 8]\n",
    "# get a little more fancy [startindex:endindex:step]\n",
    "print(a[0,:3:2])   # [1 5]"
   ]
  },
  {
   "cell_type": "code",
   "execution_count": null,
   "metadata": {},
   "outputs": [],
   "source": [
    "a = np.array([[1,3,5],[6,8,10]])\n",
    "a[:,0]=5\n",
    "a[:,1]=[11, 22]\n",
    "print(a)\n",
    "# [[ 5 11  5]\n",
    "#  [ 5 22 10]]"
   ]
  },
  {
   "cell_type": "code",
   "execution_count": null,
   "metadata": {},
   "outputs": [],
   "source": [
    "b = np.array([[[1,2],[3,4]],[[5,6],[7,8]]])\n",
    "# print(b)\n",
    "# '''\n",
    "# [[[1 2]\n",
    "#   [3 4]]\n",
    "\n",
    "#  [[5 6]\n",
    "#   [7 8]]]\n",
    "# '''\n",
    "# get specific element (work outside in)\n",
    "# print(b[0,1,1])   # 4\n",
    "# print(b[0,:,:])   # [[1 2] [3 4]]\n",
    "# print(b[:,0,:])   # [[1 2] [5 6]]\n",
    "# print(b[:,:,0])   # [[1 3] [5 7]]\n"
   ]
  },
  {
   "cell_type": "code",
   "execution_count": null,
   "metadata": {},
   "outputs": [],
   "source": []
  },
  {
   "cell_type": "code",
   "execution_count": null,
   "metadata": {},
   "outputs": [],
   "source": []
  },
  {
   "cell_type": "markdown",
   "metadata": {},
   "source": [
    "#### 4 Initializing Different Arrays\n",
    "```\n",
    "[[100 100 100 100 100]\n",
    " [100 100 100 100 100]]\n",
    " ```\n"
   ]
  },
  {
   "cell_type": "code",
   "execution_count": 115,
   "metadata": {},
   "outputs": [
    {
     "name": "stdout",
     "output_type": "stream",
     "text": [
      "[[100 100 100 100 100]\n",
      " [100 100 100 100 100]]\n"
     ]
    }
   ],
   "source": [
    "a = np.array([[1, 2, 3, 4, 5], [6, 7, 8, 9, 10]])\n",
    "\n",
    "print(np.full_like(a, 100))"
   ]
  },
  {
   "cell_type": "code",
   "execution_count": 152,
   "metadata": {},
   "outputs": [
    {
     "name": "stdout",
     "output_type": "stream",
     "text": [
      "[0. 0. 0. 0. 0.]\n"
     ]
    }
   ],
   "source": [
    "a = np.zeros(5)\n",
    "# print(a)   # [0. 0. 0. 0. 0.]"
   ]
  },
  {
   "cell_type": "code",
   "execution_count": 172,
   "metadata": {},
   "outputs": [
    {
     "name": "stdout",
     "output_type": "stream",
     "text": [
      "[0 1 2 3 4 5 6 7 8]\n",
      "[0 1 2]\n"
     ]
    }
   ],
   "source": [
    "a = np.zeros((2, 3))\n",
    "# print(a)\n",
    "# [[0. 0. 0.]\n",
    "#  [0. 0. 0.]]\n",
    "b = np.ones(4, dtype = 'int32')\n",
    "# print(b)   #[1 1 1 1]\n",
    "c = np.full((9), np.arange(9))\n",
    "print(c)\n",
    "d = np.arange(3)\n",
    "print(d)"
   ]
  },
  {
   "cell_type": "code",
   "execution_count": 189,
   "metadata": {},
   "outputs": [
    {
     "name": "stdout",
     "output_type": "stream",
     "text": [
      "[[4. 4. 4.]\n",
      " [4. 4. 4.]]\n"
     ]
    }
   ],
   "source": [
    "a = np.zeros((2, 3))\n",
    "a = np.full_like(a, 4)\n",
    "# print(a)\n",
    "# [[4. 4. 4.]\n",
    "#  [4. 4. 4.]]"
   ]
  },
  {
   "cell_type": "code",
   "execution_count": 191,
   "metadata": {},
   "outputs": [
    {
     "name": "stdout",
     "output_type": "stream",
     "text": [
      "[[4 4 4]\n",
      " [4 4 4]]\n"
     ]
    }
   ],
   "source": [
    "a = np.zeros((2, 3))\n",
    "a = np.full(a.shape, 4)\n",
    "# print(a)\n",
    "# [[4 4 4]\n",
    "#  [4 4 4]]"
   ]
  },
  {
   "cell_type": "code",
   "execution_count": 193,
   "metadata": {},
   "outputs": [
    {
     "name": "stdout",
     "output_type": "stream",
     "text": [
      "[[0.58597721 0.9987238  0.71004699 0.78943465]\n",
      " [0.13728296 0.84818004 0.46788814 0.87201536]]\n"
     ]
    }
   ],
   "source": [
    "a = np.random.rand(2,4)\n",
    "# print(a)\n",
    "# [[0.58597721 0.9987238  0.71004699 0.78943465]\n",
    "#  [0.13728296 0.84818004 0.46788814 0.87201536]]"
   ]
  },
  {
   "cell_type": "code",
   "execution_count": 199,
   "metadata": {},
   "outputs": [
    {
     "name": "stdout",
     "output_type": "stream",
     "text": [
      "[[0.82287987 0.93920782 0.59346111]\n",
      " [0.7837377  0.13248194 0.53916535]]\n"
     ]
    }
   ],
   "source": [
    "# a = np.zeros((2,3))\n",
    "a = np.random.random_sample(a.shape)\n",
    "print(a)\n",
    "# [[0.82287987 0.93920782 0.59346111]\n",
    "#  [0.7837377  0.13248194 0.53916535]]"
   ]
  },
  {
   "cell_type": "code",
   "execution_count": 205,
   "metadata": {},
   "outputs": [
    {
     "name": "stdout",
     "output_type": "stream",
     "text": [
      "[[6 6 5]\n",
      " [6 4 6]]\n"
     ]
    }
   ],
   "source": [
    "# Random Integer values\n",
    "a = np.random.randint(7, size=(2,3))\n",
    "# print(a)\n",
    "# [[1 2 3]\n",
    "#  [3 2 0]]\n",
    "a = np.random.randint(4,7, size=(2,3))\n",
    "# print(a)\n",
    "# [[6 6 5]\n",
    "#  [6 4 6]]\n"
   ]
  },
  {
   "cell_type": "code",
   "execution_count": 208,
   "metadata": {},
   "outputs": [
    {
     "data": {
      "text/plain": [
       "array([[1., 0., 0.],\n",
       "       [0., 1., 0.],\n",
       "       [0., 0., 1.]])"
      ]
     },
     "execution_count": 208,
     "metadata": {},
     "output_type": "execute_result"
    }
   ],
   "source": [
    "np.identity(3)\n",
    "# array([[1., 0., 0.],\n",
    "#        [0., 1., 0.],\n",
    "#        [0., 0., 1.]])"
   ]
  },
  {
   "cell_type": "code",
   "execution_count": 216,
   "metadata": {},
   "outputs": [
    {
     "name": "stdout",
     "output_type": "stream",
     "text": [
      "[1 1 2 2 3 3]\n"
     ]
    }
   ],
   "source": [
    "a = np.array([1,2,3])\n",
    "b = np.repeat(a,2,axis=0)\n",
    "print(b)   # [1 1 2 2 3 3]"
   ]
  },
  {
   "cell_type": "code",
   "execution_count": 217,
   "metadata": {},
   "outputs": [
    {
     "name": "stdout",
     "output_type": "stream",
     "text": [
      "[[1 2 3]\n",
      " [1 2 3]]\n"
     ]
    }
   ],
   "source": [
    "a = np.array([[1,2,3]])\n",
    "b = np.repeat(a,2,axis=0)\n",
    "print(b)\n",
    "#  [1 2 3]]\n",
    "# [[1 2 3]"
   ]
  },
  {
   "cell_type": "code",
   "execution_count": 219,
   "metadata": {},
   "outputs": [
    {
     "name": "stdout",
     "output_type": "stream",
     "text": [
      "[[1 1 2 2 3 3]]\n"
     ]
    }
   ],
   "source": [
    "a = np.array([[1,2,3]])\n",
    "b = np.repeat(a,2,axis=1)\n",
    "print(b)   # [[1 1 2 2 3 3]]"
   ]
  },
  {
   "cell_type": "code",
   "execution_count": null,
   "metadata": {},
   "outputs": [],
   "source": [
    "a = np.array([[1,3,5],[6,8,10]])\n",
    "a[:,0]=5\n",
    "a[:,1]=[11, 22]\n",
    "print(a)\n",
    "# [[ 5 11  5]\n",
    "#  [ 5 22 10]]"
   ]
  },
  {
   "cell_type": "markdown",
   "metadata": {},
   "source": [
    "#### 5 Initialize Array Problem\n",
    "```\n",
    "```\n"
   ]
  },
  {
   "cell_type": "code",
   "execution_count": 315,
   "metadata": {},
   "outputs": [
    {
     "name": "stdout",
     "output_type": "stream",
     "text": [
      "[0 1 2 3]\n",
      "[[0 1]\n",
      " [2 3]]\n"
     ]
    }
   ],
   "source": []
  },
  {
   "cell_type": "code",
   "execution_count": 117,
   "metadata": {},
   "outputs": [
    {
     "name": "stdout",
     "output_type": "stream",
     "text": [
      "[[1. 1. 1. 1. 1.]\n",
      " [1. 0. 0. 0. 1.]\n",
      " [1. 0. 9. 0. 1.]\n",
      " [1. 0. 0. 0. 1.]\n",
      " [1. 1. 1. 1. 1.]]\n"
     ]
    }
   ],
   "source": [
    "output = np.ones((5, 5))\n",
    "\n",
    "z = np.zeros((3, 3))\n",
    "z[1, 1] = 9\n",
    "\n",
    "output[1:-1, 1:-1] = z\n",
    "print(output)"
   ]
  },
  {
   "cell_type": "markdown",
   "metadata": {},
   "source": [
    "#### 6 Copying Arrays Warning\n",
    "```\n",
    "[ 1  2 20  4  5] [ 1  2 20  4  5]\n",
    "```\n"
   ]
  },
  {
   "cell_type": "code",
   "execution_count": 222,
   "metadata": {},
   "outputs": [
    {
     "name": "stdout",
     "output_type": "stream",
     "text": [
      "[ 1  2 20  4  5] [ 1  2 20  4  5]\n"
     ]
    }
   ],
   "source": [
    "a = np.array([ 1,  2,  3,  4,  5])\n",
    "b = a\n",
    "b[2] = 20\n",
    "print(a,b)   # [ 1  2 20  4  5] [ 1  2 20  4  5]"
   ]
  },
  {
   "cell_type": "code",
   "execution_count": 223,
   "metadata": {},
   "outputs": [
    {
     "name": "stdout",
     "output_type": "stream",
     "text": [
      "[1 2 3 4 5] [ 1  2 20  4  5]\n"
     ]
    }
   ],
   "source": [
    "a = np.array([ 1,  2,  3,  4,  5])\n",
    "b = a.copy()\n",
    "b[2] = 20\n",
    "print(a,b)   # [1 2 3 4 5] [ 1  2 20  4  5]"
   ]
  },
  {
   "cell_type": "code",
   "execution_count": 232,
   "metadata": {},
   "outputs": [
    {
     "name": "stdout",
     "output_type": "stream",
     "text": [
      "[1 2 3 4]\n",
      "[1 2 3 4]\n",
      "[1 2 3 4]\n",
      "[1 2 3 4]\n"
     ]
    }
   ],
   "source": []
  },
  {
   "cell_type": "code",
   "execution_count": null,
   "metadata": {},
   "outputs": [],
   "source": []
  },
  {
   "cell_type": "code",
   "execution_count": 151,
   "metadata": {},
   "outputs": [],
   "source": [
    "\n"
   ]
  },
  {
   "cell_type": "markdown",
   "metadata": {},
   "source": [
    "#### 7 Mathematics\n",
    "```\n",
    "```\n"
   ]
  },
  {
   "cell_type": "markdown",
   "metadata": {},
   "source": [
    "[numpy Mathematical functions](https://numpy.org/doc/stable/reference/routines.math.html)"
   ]
  },
  {
   "cell_type": "code",
   "execution_count": 322,
   "metadata": {},
   "outputs": [
    {
     "name": "stdout",
     "output_type": "stream",
     "text": [
      "[[ 1  2  3  4  5]\n",
      " [ 6  7  8  9 10]] 40\n"
     ]
    }
   ],
   "source": [
    "import numpy as np\n",
    "\n",
    "a = np.array(([1, 2, 3, 4, 5], [6, 7, 8, 9, 10]))\n",
    "b = np.max(a, axis=1).sum()\n",
    "print(a,b)"
   ]
  },
  {
   "cell_type": "markdown",
   "metadata": {},
   "source": [
    "#### Linear Algebra\n",
    "[Linear algebra (numpy.linalg)](https://numpy.org/doc/stable/reference/routines.linalg.html)  "
   ]
  },
  {
   "cell_type": "code",
   "execution_count": 242,
   "metadata": {},
   "outputs": [
    {
     "name": "stdout",
     "output_type": "stream",
     "text": [
      "[[6. 6.]\n",
      " [6. 6.]]\n"
     ]
    }
   ],
   "source": [
    "a = np.ones((2,3))\n",
    "# print(a)\n",
    "# [[1. 1. 1.]\n",
    "#  [1. 1. 1.]]\n",
    "b = np.full((3,2),2)\n",
    "# print(b)\n",
    "# [[2 2]\n",
    "#  [2 2]\n",
    "#  [2 2]]\n",
    "# print(np.matmul(a,b))\n",
    "# [[6. 6.]\n",
    "#  [6. 6.]]"
   ]
  },
  {
   "cell_type": "code",
   "execution_count": 244,
   "metadata": {},
   "outputs": [
    {
     "name": "stdout",
     "output_type": "stream",
     "text": [
      "1.0\n"
     ]
    }
   ],
   "source": [
    "# Find the determinat\n",
    "c = np.identity(3)\n",
    "print(np.linalg.det(c))   # 1.0"
   ]
  },
  {
   "cell_type": "code",
   "execution_count": null,
   "metadata": {},
   "outputs": [],
   "source": [
    "# Determinant\n",
    "# Trace\n",
    "# Singular Vector Decomposition\n",
    "# Eigenalues\n",
    "# Matrix Norm\n",
    "# Inverse\n",
    "# Etc...\n",
    "# \n"
   ]
  },
  {
   "cell_type": "markdown",
   "metadata": {},
   "source": [
    "#### Statistics"
   ]
  },
  {
   "cell_type": "code",
   "execution_count": 252,
   "metadata": {},
   "outputs": [],
   "source": [
    "a = np.array([[1,2,3],[4,5,6]])\n",
    "# print(np.min(a))   # 1\n",
    "# print(np.min(a,axis=1))   # [1 4]\n",
    "# print(np.min(a,axis=0))   # [1 2 3]\n",
    "# print(np.max(a))   # 6\n"
   ]
  },
  {
   "cell_type": "code",
   "execution_count": 256,
   "metadata": {},
   "outputs": [],
   "source": [
    "a = np.array([[1,2,3],[4,5,6]])\n",
    "# print(np.sum(a))   # 21\n",
    "# print(np.sum(a,axis=0))   # [5 7 9]\n",
    "# print(np.sum(a,axis=1))   # [ 6 15]\n"
   ]
  },
  {
   "cell_type": "markdown",
   "metadata": {},
   "source": [
    "#### 8 Reorganizing Arrays\n",
    "```\n",
    "```\n"
   ]
  },
  {
   "cell_type": "code",
   "execution_count": 323,
   "metadata": {},
   "outputs": [
    {
     "name": "stdout",
     "output_type": "stream",
     "text": [
      "[[1. 1.]\n",
      " [1. 1.]\n",
      " [1. 1.]\n",
      " [1. 1.]]\n"
     ]
    }
   ],
   "source": [
    "a = np.ones((2, 4))\n",
    "b = a.reshape((4, 2))\n",
    "print(b)"
   ]
  },
  {
   "cell_type": "code",
   "execution_count": 269,
   "metadata": {},
   "outputs": [
    {
     "name": "stdout",
     "output_type": "stream",
     "text": [
      "[[1 2]\n",
      " [3 4]\n",
      " [5 6]]\n"
     ]
    }
   ],
   "source": [
    "a = np.array([[1,2,3],[4,5,6]])\n",
    "# b = a.reshape((6,1))\n",
    "# [[1]\n",
    "#  [2]\n",
    "#  [3]\n",
    "#  [4]\n",
    "#  [5]\n",
    "#  [6]]\n",
    "# b = a.reshape((1,6))   # [[1 2 3 4 5 6]]\n",
    "# b = a.reshape((3,2))\n",
    "# [[1 2]\n",
    "#  [3 4]\n",
    "#  [5 6]]\n",
    "print(b)"
   ]
  },
  {
   "cell_type": "code",
   "execution_count": 272,
   "metadata": {},
   "outputs": [
    {
     "name": "stdout",
     "output_type": "stream",
     "text": [
      "[[1 2 3 4]\n",
      " [5 6 7 8]\n",
      " [5 6 7 8]\n",
      " [5 6 7 8]]\n"
     ]
    }
   ],
   "source": [
    "# Vertically stacking vectors\n",
    "v1 = np.array([1,2,3,4])\n",
    "v2 = np.array([5,6,7,8])\n",
    "# b = np.vstack([v1,v2])\n",
    "# [[1 2 3 4]\n",
    "#  [5 6 7 8]]\n",
    "# b = np.vstack([v1,v2,v2,v2])\n",
    "# [[1 2 3 4]\n",
    "#  [5 6 7 8]\n",
    "#  [5 6 7 8]\n",
    "#  [5 6 7 8]]\n",
    "print(b)"
   ]
  },
  {
   "cell_type": "code",
   "execution_count": 281,
   "metadata": {},
   "outputs": [
    {
     "name": "stdout",
     "output_type": "stream",
     "text": [
      "[[0. 0. 0. 0. 1. 1. 1.]\n",
      " [0. 0. 0. 0. 1. 1. 1.]]\n"
     ]
    }
   ],
   "source": [
    "# Horisontal stack\n",
    "h1 = np.zeros((2,4))\n",
    "h2 = np.ones((2,3))\n",
    "# b = np.hstack((h1,h2))\n",
    "# [[0. 0. 0. 0. 1. 1. 1.]\n",
    "#  [0. 0. 0. 0. 1. 1. 1.]]\n",
    "\n",
    "print(b)"
   ]
  },
  {
   "cell_type": "markdown",
   "metadata": {},
   "source": [
    "#### 9 Loading Data and Advanced Indexing\n",
    "```\n",
    "data.txt\n",
    "1,13,21,11,196,75,4,3,34,6,7,8,0,1,2,3,4,5\n",
    "3,42,12,33,766,75,4,55,6,4,3,4,5,6,7,0,11,12\n",
    "1,22,33,11,999,11,2,1,78,0,1,2,9,8,7,1,76,88\n",
    "```"
   ]
  },
  {
   "cell_type": "code",
   "execution_count": 345,
   "metadata": {},
   "outputs": [
    {
     "name": "stdout",
     "output_type": "stream",
     "text": [
      "[[29 32 45 15  5 22]]\n"
     ]
    }
   ],
   "source": [
    "a = np.array([[29,97,32,100,45],[15,88,5,75,22]])\n",
    "# b = a.reshape((1,10))\n",
    "# [29. 32. 45. 15.  5. 22.]\n",
    "b = a[:,[0,2,4]].reshape(1,6)\n",
    "print(b)"
   ]
  },
  {
   "cell_type": "code",
   "execution_count": 350,
   "metadata": {},
   "outputs": [
    {
     "name": "stdout",
     "output_type": "stream",
     "text": [
      "[29 32 45 15  5 22]\n"
     ]
    }
   ],
   "source": [
    "a = np.array([[29,97,32,100,45],[15,88,5,75,22]])\n",
    "output = a[a < 50]\n",
    "\n",
    "print(output)"
   ]
  },
  {
   "cell_type": "code",
   "execution_count": 284,
   "metadata": {},
   "outputs": [
    {
     "name": "stdout",
     "output_type": "stream",
     "text": [
      "[[  1  13  21  11 196  75   4   3  34   6   7   8   0   1   2   3   4   5]\n",
      " [  3  42  12  33 766  75   4  55   6   4   3   4   5   6   7   0  11  12]\n",
      " [  1  22  33  11 999  11   2   1  78   0   1   2   9   8   7   1  76  88]]\n"
     ]
    }
   ],
   "source": [
    "a = np.genfromtxt('data.txt', delimiter = ',')\n",
    "a = a.astype('int32')   # [[  1  13  21  11 .....\n",
    "print(a)\n",
    "# [[  1.  13.  21.  11. 196.  75.   4.   3.  34.   6.   7.   8.   0.   1.\n",
    "#     2.   3.   4.   5.]\n",
    "#  [  3.  42.  12.  33. 766.  75.   4.  55.   6.   4.   3.   4.   5.   6.\n",
    "#     7.   0.  11.  12.]\n",
    "#  [  1.  22.  33.  11. 999.  11.   2.   1.  78.   0.   1.   2.   9.   8.\n",
    "#     7.   1.  76.  88.]]"
   ]
  },
  {
   "cell_type": "markdown",
   "metadata": {},
   "source": [
    "#### Boolean Masking and Advanced Indexing"
   ]
  },
  {
   "cell_type": "code",
   "execution_count": 285,
   "metadata": {},
   "outputs": [
    {
     "name": "stdout",
     "output_type": "stream",
     "text": [
      "[[False False False False  True  True False False False False False False\n",
      "  False False False False False False]\n",
      " [False False False False  True  True False  True False False False False\n",
      "  False False False False False False]\n",
      " [False False False False  True False False False  True False False False\n",
      "  False False False False  True  True]]\n"
     ]
    }
   ],
   "source": [
    "print(a>50)\n",
    "# [[False False False False  True  True False False False False False False\n",
    "#   False False False False False False]\n",
    "#  [False False False False  True  True False  True False False False False\n",
    "#   False False False False False False]\n",
    "#  [False False False False  True False False False  True False False False\n",
    "#   False False False False  True  True]]"
   ]
  },
  {
   "cell_type": "code",
   "execution_count": 286,
   "metadata": {},
   "outputs": [
    {
     "name": "stdout",
     "output_type": "stream",
     "text": [
      "[196  75 766  75  55 999  78  76  88]\n"
     ]
    }
   ],
   "source": [
    "print(a[a>50])   # [196  75 766  75  55 999  78  76  88]"
   ]
  },
  {
   "cell_type": "code",
   "execution_count": 287,
   "metadata": {},
   "outputs": [
    {
     "name": "stdout",
     "output_type": "stream",
     "text": [
      "[2 3 9]\n"
     ]
    }
   ],
   "source": [
    "## You can index with a list in Numpy\n",
    "a = np.array([1,2,3,4,5,6,7,8,9])\n",
    "print(a[[1,2,8]])   # [2 3 9]"
   ]
  },
  {
   "cell_type": "code",
   "execution_count": 289,
   "metadata": {},
   "outputs": [
    {
     "name": "stdout",
     "output_type": "stream",
     "text": [
      "[False False False False  True False False False False False False False\n",
      " False False False False False False]\n"
     ]
    }
   ],
   "source": [
    "a = np.genfromtxt('data.txt', delimiter = ',')\n",
    "b = np.any(a>50,axis=0)\n",
    "# [False False False False  True  True False  True  True False False False\n",
    "#  False False False False  True  True]\n",
    "b = np.all(a>50,axis=0)\n",
    "# [False False False False  True False False False False False False False\n",
    "#  False False False False False False]\n",
    "print(b)\n"
   ]
  },
  {
   "cell_type": "code",
   "execution_count": 293,
   "metadata": {},
   "outputs": [
    {
     "name": "stdout",
     "output_type": "stream",
     "text": [
      "[ True  True  True]\n"
     ]
    }
   ],
   "source": [
    "# b = np.any(a>50,axis=1)   # [ True  True  True]\n",
    "# b = np.all(a>50,axis=1)   # [False False False]\n",
    "print(b)"
   ]
  },
  {
   "cell_type": "code",
   "execution_count": 295,
   "metadata": {},
   "outputs": [
    {
     "name": "stdout",
     "output_type": "stream",
     "text": [
      "[[ True  True  True  True  True False  True  True  True  True  True  True\n",
      "   True  True  True  True  True  True]\n",
      " [ True  True  True  True  True False  True False  True  True  True  True\n",
      "   True  True  True  True  True  True]\n",
      " [ True  True  True  True  True  True  True  True False  True  True  True\n",
      "   True  True  True  True False False]]\n"
     ]
    }
   ],
   "source": [
    "# print(((a>50)&(a<100)))\n",
    "# [[False False False False False  True False False False False False False\n",
    "#   False False False False False False]\n",
    "#  [False False False False False  True False  True False False False False\n",
    "#   False False False False False False]\n",
    "#  [False False False False False False False False  True False False False\n",
    "#   False False False False  True  True]]\n",
    "# print(~((a>50)&(a<100)))\n",
    "# [[ True  True  True  True  True False  True  True  True  True  True  True\n",
    "#    True  True  True  True  True  True]\n",
    "#  [ True  True  True  True  True False  True False  True  True  True  True\n",
    "#    True  True  True  True  True  True]\n",
    "#  [ True  True  True  True  True  True  True  True False  True  True  True\n",
    "#    True  True  True  True False False]]"
   ]
  },
  {
   "cell_type": "code",
   "execution_count": 319,
   "metadata": {},
   "outputs": [
    {
     "name": "stdout",
     "output_type": "stream",
     "text": [
      "[[ 1  2  3  4  5]\n",
      " [ 6  7  8  9 10]\n",
      " [11 12 13 14 15]\n",
      " [16 17 18 19 20]\n",
      " [21 22 23 24 25]\n",
      " [26 27 28 29 30]]\n"
     ]
    }
   ],
   "source": [
    "a = np.arange(1,31)\n",
    "a = a.reshape(6,5)\n",
    "# print(a)\n",
    "# [[ 1  2  3  4  5]\n",
    "#  [ 6  7  8  9 10]\n",
    "#  [11 12 13 14 15]\n",
    "#  [16 17 18 19 20]\n",
    "#  [21 22 23 24 25]\n",
    "#  [26 27 28 29 30]]"
   ]
  },
  {
   "cell_type": "code",
   "execution_count": 321,
   "metadata": {},
   "outputs": [
    {
     "name": "stdout",
     "output_type": "stream",
     "text": [
      "[[ 4  5]\n",
      " [24 25]\n",
      " [29 30]]\n"
     ]
    }
   ],
   "source": [
    "a = np.arange(1,31)\n",
    "a = a.reshape(6,5)\n",
    "b = a[2:4,0:2]\n",
    "# [[11 12]\n",
    "#  [16 17]]\n",
    "b = a[[0,1,2,3],[1,2,3,4]]   # [ 2  8 14 20]\n",
    "b = a[[0,4,5], 3:]\n",
    "# [[ 4  5]\n",
    "#  [24 25]\n",
    "#  [29 30]]\n",
    "print(b)\n"
   ]
  },
  {
   "cell_type": "markdown",
   "metadata": {},
   "source": [
    "#### Data Analysis with Python Projects"
   ]
  },
  {
   "cell_type": "markdown",
   "metadata": {},
   "source": [
    "#### Introduction to the Data Analysis with Python Projects\n",
    "```\n",
    "```\n",
    "#### 1 Mean-Variance-Standard Deviation Calculator\n",
    "[Calculator](https://repl.it/@mlapinm/fcc-mean-var-std)  \n",
    "```\n",
    "```\n",
    "#### 2 Demographic Data Analyzer\n",
    "```\n",
    "```\n",
    "#### 3 Medical Data Visualizer\n",
    "```\n",
    "```\n",
    "#### 4 Page View Time Series Visualizer\n",
    "```\n",
    "```\n",
    "#### 5 Sea Level Predictor\n",
    "```\n",
    "```"
   ]
  },
  {
   "cell_type": "markdown",
   "metadata": {},
   "source": [
    "#### Machine Learning with Python Certification (300 hours)"
   ]
  },
  {
   "cell_type": "markdown",
   "metadata": {},
   "source": [
    "artificial intelligence:The effort to automate intellectual tasks normally performed by humans  \n",
    "искусственный интиллект: Усилия по автоматизации интеллектуальных задач, обычно выполняемых людьми\n"
   ]
  },
  {
   "cell_type": "markdown",
   "metadata": {},
   "source": [
    "### Machine Learning with Python Certification (300 hours)"
   ]
  },
  {
   "cell_type": "markdown",
   "metadata": {},
   "source": [
    "```\n",
    "data\n",
    "rules        > Answers\n",
    "classic programming\n",
    "\n",
    "data\n",
    "answers      > rules\n",
    "AI programming\n",
    "```"
   ]
  },
  {
   "cell_type": "markdown",
   "metadata": {},
   "source": [
    "AI -> ML -> NN  \n",
    "NN - neural network  \n",
    "форма ML слойное представление данных"
   ]
  },
  {
   "cell_type": "markdown",
   "metadata": {},
   "source": []
  },
  {
   "cell_type": "markdown",
   "metadata": {},
   "source": [
    "#### TensorFlow"
   ]
  },
  {
   "cell_type": "markdown",
   "metadata": {},
   "source": [
    "#### Introduction to the TensorFlow Lectures\n",
    "```\n",
    "```\n",
    "#### 1 Introduction: Machine Learning Fundamentals\n",
    "[Тензоры в TensorFlow](https://www.tensorflow.org/guide/tensor)  \n",
    "[]()  \n",
    "\n",
    "```\n",
    "Which statement below is false?\n",
    "\n",
    "\n",
    "****Neural networks are modeled after the way the human brain works.\n",
    "\n",
    "\n",
    "Computer programs that play tic-tac-toe or chess against human players are examples of simple artificial intelligence.\n",
    "\n",
    "\n",
    "Machine learning is a subset of artificial intelligence.```\n",
    "#### 2 Introduction to TensorFlow\n",
    "[TensorFlow-Introduction.ipynb](https://colab.research.google.com/drive/1F_EWVKa8rbMXi3_fG0w7AtcscFq7Hi7B#forceEdit=true&sandboxMode=true&scrollTo=4N7XbNDVY8P3)  \n",
    "```\n",
    "D:\\mailCloud\\prjother\\089hosts\\jnotebook>pip install tensorflow-gpu\n",
    "```\n",
    "```\n",
    "    Uninstalling scipy-1.3.1:\n",
    "ERROR: Could not install packages due to an EnvironmentError: [WinError 5] Отказ\n",
    "ано в доступе: 'c:\\\\programdata\\\\anaconda3\\\\lib\\\\site-packages\\\\scipy\\\\cluster\\\\\n",
    "hierarchy.py'\n",
    "Consider using the `--user` option or check the permissions.\n",
    "conda install -c conda-forge tensorflow \n",
    "\n",
    "pip uninstall tensorflow-estimator\n",
    "\n",
    "pip install tensorflow-estimator==2.1\n",
    "\n",
    "conda list\n",
    "conda uninstall -c conda-forge tensorflow-gpu \n",
    "conda uninstall -c conda-forge tensorflow-gpu-estimator \n",
    "conda uninstall -c conda-forge tensorflow-estimator \n",
    "                               tensorflow-gpu-estimator\n",
    "conda install -c conda-forge tensorflow-estimator==2.1 \n",
    "conda install -c conda-forge tensorflow==2.1 \n",
    "\n",
    "```"
   ]
  },
  {
   "cell_type": "code",
   "execution_count": 2,
   "metadata": {},
   "outputs": [
    {
     "name": "stderr",
     "output_type": "stream",
     "text": [
      "UsageError: Line magic function `%tensorflow_version` not found.\n"
     ]
    }
   ],
   "source": [
    "%tensorflow_version 2.x  # this line is not required unless you are in a notebook\n"
   ]
  },
  {
   "cell_type": "code",
   "execution_count": 1,
   "metadata": {
    "scrolled": true
   },
   "outputs": [
    {
     "ename": "AttributeError",
     "evalue": "module 'tensorflow' has no attribute 'compat'",
     "output_type": "error",
     "traceback": [
      "\u001b[1;31m---------------------------------------------------------------------------\u001b[0m",
      "\u001b[1;31mAttributeError\u001b[0m                            Traceback (most recent call last)",
      "\u001b[1;32m<ipython-input-1-a60d4a47e1a2>\u001b[0m in \u001b[0;36m<module>\u001b[1;34m\u001b[0m\n\u001b[0;32m      1\u001b[0m \u001b[1;31m# import tensorflow as tf\u001b[0m\u001b[1;33m\u001b[0m\u001b[1;33m\u001b[0m\u001b[1;33m\u001b[0m\u001b[0m\n\u001b[1;32m----> 2\u001b[1;33m \u001b[1;32mimport\u001b[0m \u001b[0mtensorflow\u001b[0m \u001b[1;32mas\u001b[0m \u001b[0mtf\u001b[0m\u001b[1;33m\u001b[0m\u001b[1;33m\u001b[0m\u001b[0m\n\u001b[0m",
      "\u001b[1;32mC:\\ProgramData\\Anaconda3\\lib\\site-packages\\tensorflow\\__init__.py\u001b[0m in \u001b[0;36m<module>\u001b[1;34m\u001b[0m\n\u001b[0;32m     99\u001b[0m \u001b[1;33m\u001b[0m\u001b[0m\n\u001b[0;32m    100\u001b[0m \u001b[1;31m# We still need all the names that are toplevel on tensorflow_core\u001b[0m\u001b[1;33m\u001b[0m\u001b[1;33m\u001b[0m\u001b[1;33m\u001b[0m\u001b[0m\n\u001b[1;32m--> 101\u001b[1;33m \u001b[1;32mfrom\u001b[0m \u001b[0mtensorflow_core\u001b[0m \u001b[1;32mimport\u001b[0m \u001b[1;33m*\u001b[0m\u001b[1;33m\u001b[0m\u001b[1;33m\u001b[0m\u001b[0m\n\u001b[0m\u001b[0;32m    102\u001b[0m \u001b[1;33m\u001b[0m\u001b[0m\n\u001b[0;32m    103\u001b[0m \u001b[1;31m# These should not be visible in the main tf module.\u001b[0m\u001b[1;33m\u001b[0m\u001b[1;33m\u001b[0m\u001b[1;33m\u001b[0m\u001b[0m\n",
      "\u001b[1;32mC:\\ProgramData\\Anaconda3\\lib\\site-packages\\tensorflow_core\\__init__.py\u001b[0m in \u001b[0;36m<module>\u001b[1;34m\u001b[0m\n\u001b[0;32m     44\u001b[0m \u001b[1;32mfrom\u001b[0m \u001b[1;33m.\u001b[0m \u001b[0m_api\u001b[0m\u001b[1;33m.\u001b[0m\u001b[0mv2\u001b[0m \u001b[1;32mimport\u001b[0m \u001b[0mautograph\u001b[0m\u001b[1;33m\u001b[0m\u001b[1;33m\u001b[0m\u001b[0m\n\u001b[0;32m     45\u001b[0m \u001b[1;32mfrom\u001b[0m \u001b[1;33m.\u001b[0m \u001b[0m_api\u001b[0m\u001b[1;33m.\u001b[0m\u001b[0mv2\u001b[0m \u001b[1;32mimport\u001b[0m \u001b[0mbitwise\u001b[0m\u001b[1;33m\u001b[0m\u001b[1;33m\u001b[0m\u001b[0m\n\u001b[1;32m---> 46\u001b[1;33m \u001b[1;32mfrom\u001b[0m \u001b[1;33m.\u001b[0m \u001b[0m_api\u001b[0m\u001b[1;33m.\u001b[0m\u001b[0mv2\u001b[0m \u001b[1;32mimport\u001b[0m \u001b[0mcompat\u001b[0m\u001b[1;33m\u001b[0m\u001b[1;33m\u001b[0m\u001b[0m\n\u001b[0m\u001b[0;32m     47\u001b[0m \u001b[1;32mfrom\u001b[0m \u001b[1;33m.\u001b[0m \u001b[0m_api\u001b[0m\u001b[1;33m.\u001b[0m\u001b[0mv2\u001b[0m \u001b[1;32mimport\u001b[0m \u001b[0mconfig\u001b[0m\u001b[1;33m\u001b[0m\u001b[1;33m\u001b[0m\u001b[0m\n\u001b[0;32m     48\u001b[0m \u001b[1;32mfrom\u001b[0m \u001b[1;33m.\u001b[0m \u001b[0m_api\u001b[0m\u001b[1;33m.\u001b[0m\u001b[0mv2\u001b[0m \u001b[1;32mimport\u001b[0m \u001b[0mdata\u001b[0m\u001b[1;33m\u001b[0m\u001b[1;33m\u001b[0m\u001b[0m\n",
      "\u001b[1;32mC:\\ProgramData\\Anaconda3\\lib\\site-packages\\tensorflow_core\\_api\\v2\\compat\\__init__.py\u001b[0m in \u001b[0;36m<module>\u001b[1;34m\u001b[0m\n\u001b[0;32m     37\u001b[0m \u001b[1;32mimport\u001b[0m \u001b[0msys\u001b[0m \u001b[1;32mas\u001b[0m \u001b[0m_sys\u001b[0m\u001b[1;33m\u001b[0m\u001b[1;33m\u001b[0m\u001b[0m\n\u001b[0;32m     38\u001b[0m \u001b[1;33m\u001b[0m\u001b[0m\n\u001b[1;32m---> 39\u001b[1;33m \u001b[1;32mfrom\u001b[0m \u001b[1;33m.\u001b[0m \u001b[1;32mimport\u001b[0m \u001b[0mv1\u001b[0m\u001b[1;33m\u001b[0m\u001b[1;33m\u001b[0m\u001b[0m\n\u001b[0m\u001b[0;32m     40\u001b[0m \u001b[1;32mfrom\u001b[0m \u001b[1;33m.\u001b[0m \u001b[1;32mimport\u001b[0m \u001b[0mv2\u001b[0m\u001b[1;33m\u001b[0m\u001b[1;33m\u001b[0m\u001b[0m\n\u001b[0;32m     41\u001b[0m \u001b[1;32mfrom\u001b[0m \u001b[0mtensorflow\u001b[0m\u001b[1;33m.\u001b[0m\u001b[0mpython\u001b[0m\u001b[1;33m.\u001b[0m\u001b[0mcompat\u001b[0m\u001b[1;33m.\u001b[0m\u001b[0mcompat\u001b[0m \u001b[1;32mimport\u001b[0m \u001b[0mforward_compatibility_horizon\u001b[0m\u001b[1;33m\u001b[0m\u001b[1;33m\u001b[0m\u001b[0m\n",
      "\u001b[1;32mC:\\ProgramData\\Anaconda3\\lib\\site-packages\\tensorflow_core\\_api\\v2\\compat\\v1\\__init__.py\u001b[0m in \u001b[0;36m<module>\u001b[1;34m\u001b[0m\n\u001b[0;32m     30\u001b[0m \u001b[1;32mfrom\u001b[0m \u001b[1;33m.\u001b[0m \u001b[1;32mimport\u001b[0m \u001b[0mautograph\u001b[0m\u001b[1;33m\u001b[0m\u001b[1;33m\u001b[0m\u001b[0m\n\u001b[0;32m     31\u001b[0m \u001b[1;32mfrom\u001b[0m \u001b[1;33m.\u001b[0m \u001b[1;32mimport\u001b[0m \u001b[0mbitwise\u001b[0m\u001b[1;33m\u001b[0m\u001b[1;33m\u001b[0m\u001b[0m\n\u001b[1;32m---> 32\u001b[1;33m \u001b[1;32mfrom\u001b[0m \u001b[1;33m.\u001b[0m \u001b[1;32mimport\u001b[0m \u001b[0mcompat\u001b[0m\u001b[1;33m\u001b[0m\u001b[1;33m\u001b[0m\u001b[0m\n\u001b[0m\u001b[0;32m     33\u001b[0m \u001b[1;32mfrom\u001b[0m \u001b[1;33m.\u001b[0m \u001b[1;32mimport\u001b[0m \u001b[0mconfig\u001b[0m\u001b[1;33m\u001b[0m\u001b[1;33m\u001b[0m\u001b[0m\n\u001b[0;32m     34\u001b[0m \u001b[1;32mfrom\u001b[0m \u001b[1;33m.\u001b[0m \u001b[1;32mimport\u001b[0m \u001b[0mdata\u001b[0m\u001b[1;33m\u001b[0m\u001b[1;33m\u001b[0m\u001b[0m\n",
      "\u001b[1;32mC:\\ProgramData\\Anaconda3\\lib\\site-packages\\tensorflow_core\\_api\\v2\\compat\\v1\\compat\\__init__.py\u001b[0m in \u001b[0;36m<module>\u001b[1;34m\u001b[0m\n\u001b[0;32m     37\u001b[0m \u001b[1;32mimport\u001b[0m \u001b[0msys\u001b[0m \u001b[1;32mas\u001b[0m \u001b[0m_sys\u001b[0m\u001b[1;33m\u001b[0m\u001b[1;33m\u001b[0m\u001b[0m\n\u001b[0;32m     38\u001b[0m \u001b[1;33m\u001b[0m\u001b[0m\n\u001b[1;32m---> 39\u001b[1;33m \u001b[1;32mfrom\u001b[0m \u001b[1;33m.\u001b[0m \u001b[1;32mimport\u001b[0m \u001b[0mv1\u001b[0m\u001b[1;33m\u001b[0m\u001b[1;33m\u001b[0m\u001b[0m\n\u001b[0m\u001b[0;32m     40\u001b[0m \u001b[1;32mfrom\u001b[0m \u001b[1;33m.\u001b[0m \u001b[1;32mimport\u001b[0m \u001b[0mv2\u001b[0m\u001b[1;33m\u001b[0m\u001b[1;33m\u001b[0m\u001b[0m\n\u001b[0;32m     41\u001b[0m \u001b[1;32mfrom\u001b[0m \u001b[0mtensorflow\u001b[0m\u001b[1;33m.\u001b[0m\u001b[0mpython\u001b[0m\u001b[1;33m.\u001b[0m\u001b[0mcompat\u001b[0m\u001b[1;33m.\u001b[0m\u001b[0mcompat\u001b[0m \u001b[1;32mimport\u001b[0m \u001b[0mforward_compatibility_horizon\u001b[0m\u001b[1;33m\u001b[0m\u001b[1;33m\u001b[0m\u001b[0m\n",
      "\u001b[1;32mC:\\ProgramData\\Anaconda3\\lib\\site-packages\\tensorflow_core\\_api\\v2\\compat\\v1\\compat\\v1\\__init__.py\u001b[0m in \u001b[0;36m<module>\u001b[1;34m\u001b[0m\n\u001b[0;32m     27\u001b[0m \u001b[1;33m\u001b[0m\u001b[0m\n\u001b[0;32m     28\u001b[0m \u001b[1;32mfrom\u001b[0m \u001b[1;33m.\u001b[0m \u001b[1;32mimport\u001b[0m \u001b[0mcompat\u001b[0m\u001b[1;33m\u001b[0m\u001b[1;33m\u001b[0m\u001b[0m\n\u001b[1;32m---> 29\u001b[1;33m \u001b[1;32mfrom\u001b[0m \u001b[0mtensorflow\u001b[0m\u001b[1;33m.\u001b[0m\u001b[0m_api\u001b[0m\u001b[1;33m.\u001b[0m\u001b[0mv2\u001b[0m\u001b[1;33m.\u001b[0m\u001b[0mcompat\u001b[0m\u001b[1;33m.\u001b[0m\u001b[0mv1\u001b[0m \u001b[1;32mimport\u001b[0m \u001b[0mapp\u001b[0m\u001b[1;33m\u001b[0m\u001b[1;33m\u001b[0m\u001b[0m\n\u001b[0m\u001b[0;32m     30\u001b[0m \u001b[1;32mfrom\u001b[0m \u001b[0mtensorflow\u001b[0m\u001b[1;33m.\u001b[0m\u001b[0m_api\u001b[0m\u001b[1;33m.\u001b[0m\u001b[0mv2\u001b[0m\u001b[1;33m.\u001b[0m\u001b[0mcompat\u001b[0m\u001b[1;33m.\u001b[0m\u001b[0mv1\u001b[0m \u001b[1;32mimport\u001b[0m \u001b[0maudio\u001b[0m\u001b[1;33m\u001b[0m\u001b[1;33m\u001b[0m\u001b[0m\n\u001b[0;32m     31\u001b[0m \u001b[1;32mfrom\u001b[0m \u001b[0mtensorflow\u001b[0m\u001b[1;33m.\u001b[0m\u001b[0m_api\u001b[0m\u001b[1;33m.\u001b[0m\u001b[0mv2\u001b[0m\u001b[1;33m.\u001b[0m\u001b[0mcompat\u001b[0m\u001b[1;33m.\u001b[0m\u001b[0mv1\u001b[0m \u001b[1;32mimport\u001b[0m \u001b[0mautograph\u001b[0m\u001b[1;33m\u001b[0m\u001b[1;33m\u001b[0m\u001b[0m\n",
      "\u001b[1;32mC:\\ProgramData\\Anaconda3\\lib\\site-packages\\tensorflow_core\\_api\\v2\\compat\\__init__.py\u001b[0m in \u001b[0;36m<module>\u001b[1;34m\u001b[0m\n\u001b[0;32m     37\u001b[0m \u001b[1;32mimport\u001b[0m \u001b[0msys\u001b[0m \u001b[1;32mas\u001b[0m \u001b[0m_sys\u001b[0m\u001b[1;33m\u001b[0m\u001b[1;33m\u001b[0m\u001b[0m\n\u001b[0;32m     38\u001b[0m \u001b[1;33m\u001b[0m\u001b[0m\n\u001b[1;32m---> 39\u001b[1;33m \u001b[1;32mfrom\u001b[0m \u001b[1;33m.\u001b[0m \u001b[1;32mimport\u001b[0m \u001b[0mv1\u001b[0m\u001b[1;33m\u001b[0m\u001b[1;33m\u001b[0m\u001b[0m\n\u001b[0m\u001b[0;32m     40\u001b[0m \u001b[1;32mfrom\u001b[0m \u001b[1;33m.\u001b[0m \u001b[1;32mimport\u001b[0m \u001b[0mv2\u001b[0m\u001b[1;33m\u001b[0m\u001b[1;33m\u001b[0m\u001b[0m\n\u001b[0;32m     41\u001b[0m \u001b[1;32mfrom\u001b[0m \u001b[0mtensorflow\u001b[0m\u001b[1;33m.\u001b[0m\u001b[0mpython\u001b[0m\u001b[1;33m.\u001b[0m\u001b[0mcompat\u001b[0m\u001b[1;33m.\u001b[0m\u001b[0mcompat\u001b[0m \u001b[1;32mimport\u001b[0m \u001b[0mforward_compatibility_horizon\u001b[0m\u001b[1;33m\u001b[0m\u001b[1;33m\u001b[0m\u001b[0m\n",
      "\u001b[1;32mC:\\ProgramData\\Anaconda3\\lib\\site-packages\\tensorflow_core\\_api\\v2\\compat\\v1\\__init__.py\u001b[0m in \u001b[0;36m<module>\u001b[1;34m\u001b[0m\n\u001b[0;32m     30\u001b[0m \u001b[1;32mfrom\u001b[0m \u001b[1;33m.\u001b[0m \u001b[1;32mimport\u001b[0m \u001b[0mautograph\u001b[0m\u001b[1;33m\u001b[0m\u001b[1;33m\u001b[0m\u001b[0m\n\u001b[0;32m     31\u001b[0m \u001b[1;32mfrom\u001b[0m \u001b[1;33m.\u001b[0m \u001b[1;32mimport\u001b[0m \u001b[0mbitwise\u001b[0m\u001b[1;33m\u001b[0m\u001b[1;33m\u001b[0m\u001b[0m\n\u001b[1;32m---> 32\u001b[1;33m \u001b[1;32mfrom\u001b[0m \u001b[1;33m.\u001b[0m \u001b[1;32mimport\u001b[0m \u001b[0mcompat\u001b[0m\u001b[1;33m\u001b[0m\u001b[1;33m\u001b[0m\u001b[0m\n\u001b[0m\u001b[0;32m     33\u001b[0m \u001b[1;32mfrom\u001b[0m \u001b[1;33m.\u001b[0m \u001b[1;32mimport\u001b[0m \u001b[0mconfig\u001b[0m\u001b[1;33m\u001b[0m\u001b[1;33m\u001b[0m\u001b[0m\n\u001b[0;32m     34\u001b[0m \u001b[1;32mfrom\u001b[0m \u001b[1;33m.\u001b[0m \u001b[1;32mimport\u001b[0m \u001b[0mdata\u001b[0m\u001b[1;33m\u001b[0m\u001b[1;33m\u001b[0m\u001b[0m\n",
      "\u001b[1;32mC:\\ProgramData\\Anaconda3\\lib\\site-packages\\tensorflow_core\\_api\\v2\\compat\\v1\\compat\\__init__.py\u001b[0m in \u001b[0;36m<module>\u001b[1;34m\u001b[0m\n\u001b[0;32m     37\u001b[0m \u001b[1;32mimport\u001b[0m \u001b[0msys\u001b[0m \u001b[1;32mas\u001b[0m \u001b[0m_sys\u001b[0m\u001b[1;33m\u001b[0m\u001b[1;33m\u001b[0m\u001b[0m\n\u001b[0;32m     38\u001b[0m \u001b[1;33m\u001b[0m\u001b[0m\n\u001b[1;32m---> 39\u001b[1;33m \u001b[1;32mfrom\u001b[0m \u001b[1;33m.\u001b[0m \u001b[1;32mimport\u001b[0m \u001b[0mv1\u001b[0m\u001b[1;33m\u001b[0m\u001b[1;33m\u001b[0m\u001b[0m\n\u001b[0m\u001b[0;32m     40\u001b[0m \u001b[1;32mfrom\u001b[0m \u001b[1;33m.\u001b[0m \u001b[1;32mimport\u001b[0m \u001b[0mv2\u001b[0m\u001b[1;33m\u001b[0m\u001b[1;33m\u001b[0m\u001b[0m\n\u001b[0;32m     41\u001b[0m \u001b[1;32mfrom\u001b[0m \u001b[0mtensorflow\u001b[0m\u001b[1;33m.\u001b[0m\u001b[0mpython\u001b[0m\u001b[1;33m.\u001b[0m\u001b[0mcompat\u001b[0m\u001b[1;33m.\u001b[0m\u001b[0mcompat\u001b[0m \u001b[1;32mimport\u001b[0m \u001b[0mforward_compatibility_horizon\u001b[0m\u001b[1;33m\u001b[0m\u001b[1;33m\u001b[0m\u001b[0m\n",
      "\u001b[1;32mC:\\ProgramData\\Anaconda3\\lib\\site-packages\\tensorflow_core\\_api\\v2\\compat\\v1\\compat\\v1\\__init__.py\u001b[0m in \u001b[0;36m<module>\u001b[1;34m\u001b[0m\n\u001b[0;32m    665\u001b[0m \u001b[0m_current_module\u001b[0m \u001b[1;33m=\u001b[0m \u001b[0m_sys\u001b[0m\u001b[1;33m.\u001b[0m\u001b[0mmodules\u001b[0m\u001b[1;33m[\u001b[0m\u001b[0m__name__\u001b[0m\u001b[1;33m]\u001b[0m\u001b[1;33m\u001b[0m\u001b[1;33m\u001b[0m\u001b[0m\n\u001b[0;32m    666\u001b[0m \u001b[1;32mtry\u001b[0m\u001b[1;33m:\u001b[0m\u001b[1;33m\u001b[0m\u001b[1;33m\u001b[0m\u001b[0m\n\u001b[1;32m--> 667\u001b[1;33m   \u001b[1;32mfrom\u001b[0m \u001b[0mtensorflow_estimator\u001b[0m\u001b[1;33m.\u001b[0m\u001b[0mpython\u001b[0m\u001b[1;33m.\u001b[0m\u001b[0mestimator\u001b[0m\u001b[1;33m.\u001b[0m\u001b[0mapi\u001b[0m\u001b[1;33m.\u001b[0m\u001b[0m_v1\u001b[0m \u001b[1;32mimport\u001b[0m \u001b[0mestimator\u001b[0m\u001b[1;33m\u001b[0m\u001b[1;33m\u001b[0m\u001b[0m\n\u001b[0m\u001b[0;32m    668\u001b[0m   _current_module.__path__ = (\n\u001b[0;32m    669\u001b[0m       [_module_util.get_parent_dir(estimator)] + _current_module.__path__)\n",
      "\u001b[1;32m~\\AppData\\Roaming\\Python\\Python37\\site-packages\\tensorflow_estimator\\__init__.py\u001b[0m in \u001b[0;36m<module>\u001b[1;34m\u001b[0m\n\u001b[0;32m      8\u001b[0m \u001b[1;32mimport\u001b[0m \u001b[0msys\u001b[0m \u001b[1;32mas\u001b[0m \u001b[0m_sys\u001b[0m\u001b[1;33m\u001b[0m\u001b[1;33m\u001b[0m\u001b[0m\n\u001b[0;32m      9\u001b[0m \u001b[1;33m\u001b[0m\u001b[0m\n\u001b[1;32m---> 10\u001b[1;33m \u001b[1;32mfrom\u001b[0m \u001b[0mtensorflow_estimator\u001b[0m\u001b[1;33m.\u001b[0m\u001b[0m_api\u001b[0m\u001b[1;33m.\u001b[0m\u001b[0mv1\u001b[0m \u001b[1;32mimport\u001b[0m \u001b[0mestimator\u001b[0m\u001b[1;33m\u001b[0m\u001b[1;33m\u001b[0m\u001b[0m\n\u001b[0m\u001b[0;32m     11\u001b[0m \u001b[1;33m\u001b[0m\u001b[0m\n\u001b[0;32m     12\u001b[0m \u001b[1;32mdel\u001b[0m \u001b[0m_print_function\u001b[0m\u001b[1;33m\u001b[0m\u001b[1;33m\u001b[0m\u001b[0m\n",
      "\u001b[1;32m~\\AppData\\Roaming\\Python\\Python37\\site-packages\\tensorflow_estimator\\_api\\v1\\estimator\\__init__.py\u001b[0m in \u001b[0;36m<module>\u001b[1;34m\u001b[0m\n\u001b[0;32m      8\u001b[0m \u001b[1;32mimport\u001b[0m \u001b[0msys\u001b[0m \u001b[1;32mas\u001b[0m \u001b[0m_sys\u001b[0m\u001b[1;33m\u001b[0m\u001b[1;33m\u001b[0m\u001b[0m\n\u001b[0;32m      9\u001b[0m \u001b[1;33m\u001b[0m\u001b[0m\n\u001b[1;32m---> 10\u001b[1;33m \u001b[1;32mfrom\u001b[0m \u001b[0mtensorflow_estimator\u001b[0m\u001b[1;33m.\u001b[0m\u001b[0m_api\u001b[0m\u001b[1;33m.\u001b[0m\u001b[0mv1\u001b[0m\u001b[1;33m.\u001b[0m\u001b[0mestimator\u001b[0m \u001b[1;32mimport\u001b[0m \u001b[0mexperimental\u001b[0m\u001b[1;33m\u001b[0m\u001b[1;33m\u001b[0m\u001b[0m\n\u001b[0m\u001b[0;32m     11\u001b[0m \u001b[1;32mfrom\u001b[0m \u001b[0mtensorflow_estimator\u001b[0m\u001b[1;33m.\u001b[0m\u001b[0m_api\u001b[0m\u001b[1;33m.\u001b[0m\u001b[0mv1\u001b[0m\u001b[1;33m.\u001b[0m\u001b[0mestimator\u001b[0m \u001b[1;32mimport\u001b[0m \u001b[0mexport\u001b[0m\u001b[1;33m\u001b[0m\u001b[1;33m\u001b[0m\u001b[0m\n\u001b[0;32m     12\u001b[0m \u001b[1;32mfrom\u001b[0m \u001b[0mtensorflow_estimator\u001b[0m\u001b[1;33m.\u001b[0m\u001b[0m_api\u001b[0m\u001b[1;33m.\u001b[0m\u001b[0mv1\u001b[0m\u001b[1;33m.\u001b[0m\u001b[0mestimator\u001b[0m \u001b[1;32mimport\u001b[0m \u001b[0minputs\u001b[0m\u001b[1;33m\u001b[0m\u001b[1;33m\u001b[0m\u001b[0m\n",
      "\u001b[1;32m~\\AppData\\Roaming\\Python\\Python37\\site-packages\\tensorflow_estimator\\_api\\v1\\estimator\\experimental\\__init__.py\u001b[0m in \u001b[0;36m<module>\u001b[1;34m\u001b[0m\n\u001b[0;32m      8\u001b[0m \u001b[1;32mimport\u001b[0m \u001b[0msys\u001b[0m \u001b[1;32mas\u001b[0m \u001b[0m_sys\u001b[0m\u001b[1;33m\u001b[0m\u001b[1;33m\u001b[0m\u001b[0m\n\u001b[0;32m      9\u001b[0m \u001b[1;33m\u001b[0m\u001b[0m\n\u001b[1;32m---> 10\u001b[1;33m \u001b[1;32mfrom\u001b[0m \u001b[0mtensorflow_estimator\u001b[0m\u001b[1;33m.\u001b[0m\u001b[0mpython\u001b[0m\u001b[1;33m.\u001b[0m\u001b[0mestimator\u001b[0m\u001b[1;33m.\u001b[0m\u001b[0mcanned\u001b[0m\u001b[1;33m.\u001b[0m\u001b[0mdnn\u001b[0m \u001b[1;32mimport\u001b[0m \u001b[0mdnn_logit_fn_builder\u001b[0m\u001b[1;33m\u001b[0m\u001b[1;33m\u001b[0m\u001b[0m\n\u001b[0m\u001b[0;32m     11\u001b[0m \u001b[1;32mfrom\u001b[0m \u001b[0mtensorflow_estimator\u001b[0m\u001b[1;33m.\u001b[0m\u001b[0mpython\u001b[0m\u001b[1;33m.\u001b[0m\u001b[0mestimator\u001b[0m\u001b[1;33m.\u001b[0m\u001b[0mcanned\u001b[0m\u001b[1;33m.\u001b[0m\u001b[0mkmeans\u001b[0m \u001b[1;32mimport\u001b[0m \u001b[0mKMeansClustering\u001b[0m \u001b[1;32mas\u001b[0m \u001b[0mKMeans\u001b[0m\u001b[1;33m\u001b[0m\u001b[1;33m\u001b[0m\u001b[0m\n\u001b[0;32m     12\u001b[0m \u001b[1;32mfrom\u001b[0m \u001b[0mtensorflow_estimator\u001b[0m\u001b[1;33m.\u001b[0m\u001b[0mpython\u001b[0m\u001b[1;33m.\u001b[0m\u001b[0mestimator\u001b[0m\u001b[1;33m.\u001b[0m\u001b[0mcanned\u001b[0m\u001b[1;33m.\u001b[0m\u001b[0mlinear\u001b[0m \u001b[1;32mimport\u001b[0m \u001b[0mLinearSDCA\u001b[0m\u001b[1;33m\u001b[0m\u001b[1;33m\u001b[0m\u001b[0m\n",
      "\u001b[1;32m~\\AppData\\Roaming\\Python\\Python37\\site-packages\\tensorflow_estimator\\python\\estimator\\canned\\dnn.py\u001b[0m in \u001b[0;36m<module>\u001b[1;34m\u001b[0m\n\u001b[0;32m     31\u001b[0m \u001b[1;32mfrom\u001b[0m \u001b[0mtensorflow\u001b[0m\u001b[1;33m.\u001b[0m\u001b[0mpython\u001b[0m\u001b[1;33m.\u001b[0m\u001b[0mkeras\u001b[0m\u001b[1;33m.\u001b[0m\u001b[0mutils\u001b[0m \u001b[1;32mimport\u001b[0m \u001b[0mlosses_utils\u001b[0m\u001b[1;33m\u001b[0m\u001b[1;33m\u001b[0m\u001b[0m\n\u001b[0;32m     32\u001b[0m \u001b[1;32mfrom\u001b[0m \u001b[0mtensorflow\u001b[0m\u001b[1;33m.\u001b[0m\u001b[0mpython\u001b[0m\u001b[1;33m.\u001b[0m\u001b[0mutil\u001b[0m\u001b[1;33m.\u001b[0m\u001b[0mtf_export\u001b[0m \u001b[1;32mimport\u001b[0m \u001b[0mestimator_export\u001b[0m\u001b[1;33m\u001b[0m\u001b[1;33m\u001b[0m\u001b[0m\n\u001b[1;32m---> 33\u001b[1;33m \u001b[1;32mfrom\u001b[0m \u001b[0mtensorflow_estimator\u001b[0m\u001b[1;33m.\u001b[0m\u001b[0mpython\u001b[0m\u001b[1;33m.\u001b[0m\u001b[0mestimator\u001b[0m \u001b[1;32mimport\u001b[0m \u001b[0mestimator\u001b[0m\u001b[1;33m\u001b[0m\u001b[1;33m\u001b[0m\u001b[0m\n\u001b[0m\u001b[0;32m     34\u001b[0m \u001b[1;32mfrom\u001b[0m \u001b[0mtensorflow_estimator\u001b[0m\u001b[1;33m.\u001b[0m\u001b[0mpython\u001b[0m\u001b[1;33m.\u001b[0m\u001b[0mestimator\u001b[0m\u001b[1;33m.\u001b[0m\u001b[0mcanned\u001b[0m \u001b[1;32mimport\u001b[0m \u001b[0mhead\u001b[0m \u001b[1;32mas\u001b[0m \u001b[0mhead_lib\u001b[0m\u001b[1;33m\u001b[0m\u001b[1;33m\u001b[0m\u001b[0m\n\u001b[0;32m     35\u001b[0m \u001b[1;32mfrom\u001b[0m \u001b[0mtensorflow_estimator\u001b[0m\u001b[1;33m.\u001b[0m\u001b[0mpython\u001b[0m\u001b[1;33m.\u001b[0m\u001b[0mestimator\u001b[0m\u001b[1;33m.\u001b[0m\u001b[0mcanned\u001b[0m \u001b[1;32mimport\u001b[0m \u001b[0moptimizers\u001b[0m\u001b[1;33m\u001b[0m\u001b[1;33m\u001b[0m\u001b[0m\n",
      "\u001b[1;32m~\\AppData\\Roaming\\Python\\Python37\\site-packages\\tensorflow_estimator\\python\\estimator\\estimator.py\u001b[0m in \u001b[0;36m<module>\u001b[1;34m\u001b[0m\n\u001b[0;32m     51\u001b[0m \u001b[1;32mfrom\u001b[0m \u001b[0mtensorflow_estimator\u001b[0m\u001b[1;33m.\u001b[0m\u001b[0mpython\u001b[0m\u001b[1;33m.\u001b[0m\u001b[0mestimator\u001b[0m \u001b[1;32mimport\u001b[0m \u001b[0mmodel_fn\u001b[0m \u001b[1;32mas\u001b[0m \u001b[0mmodel_fn_lib\u001b[0m\u001b[1;33m\u001b[0m\u001b[1;33m\u001b[0m\u001b[0m\n\u001b[0;32m     52\u001b[0m \u001b[1;32mfrom\u001b[0m \u001b[0mtensorflow_estimator\u001b[0m\u001b[1;33m.\u001b[0m\u001b[0mpython\u001b[0m\u001b[1;33m.\u001b[0m\u001b[0mestimator\u001b[0m \u001b[1;32mimport\u001b[0m \u001b[0mrun_config\u001b[0m\u001b[1;33m\u001b[0m\u001b[1;33m\u001b[0m\u001b[0m\n\u001b[1;32m---> 53\u001b[1;33m \u001b[1;32mfrom\u001b[0m \u001b[0mtensorflow_estimator\u001b[0m\u001b[1;33m.\u001b[0m\u001b[0mpython\u001b[0m\u001b[1;33m.\u001b[0m\u001b[0mestimator\u001b[0m \u001b[1;32mimport\u001b[0m \u001b[0mutil\u001b[0m \u001b[1;32mas\u001b[0m \u001b[0mestimator_util\u001b[0m\u001b[1;33m\u001b[0m\u001b[1;33m\u001b[0m\u001b[0m\n\u001b[0m\u001b[0;32m     54\u001b[0m \u001b[1;32mfrom\u001b[0m \u001b[0mtensorflow_estimator\u001b[0m\u001b[1;33m.\u001b[0m\u001b[0mpython\u001b[0m\u001b[1;33m.\u001b[0m\u001b[0mestimator\u001b[0m\u001b[1;33m.\u001b[0m\u001b[0mexport\u001b[0m \u001b[1;32mimport\u001b[0m \u001b[0mexport_lib\u001b[0m\u001b[1;33m\u001b[0m\u001b[1;33m\u001b[0m\u001b[0m\n\u001b[0;32m     55\u001b[0m \u001b[1;32mfrom\u001b[0m \u001b[0mtensorflow_estimator\u001b[0m\u001b[1;33m.\u001b[0m\u001b[0mpython\u001b[0m\u001b[1;33m.\u001b[0m\u001b[0mestimator\u001b[0m\u001b[1;33m.\u001b[0m\u001b[0mmode_keys\u001b[0m \u001b[1;32mimport\u001b[0m \u001b[0mModeKeys\u001b[0m\u001b[1;33m\u001b[0m\u001b[1;33m\u001b[0m\u001b[0m\n",
      "\u001b[1;32m~\\AppData\\Roaming\\Python\\Python37\\site-packages\\tensorflow_estimator\\python\\estimator\\util.py\u001b[0m in \u001b[0;36m<module>\u001b[1;34m\u001b[0m\n\u001b[0;32m     73\u001b[0m \u001b[1;33m\u001b[0m\u001b[0m\n\u001b[0;32m     74\u001b[0m \u001b[1;33m\u001b[0m\u001b[0m\n\u001b[1;32m---> 75\u001b[1;33m \u001b[1;32mclass\u001b[0m \u001b[0m_DatasetInitializerHook\u001b[0m\u001b[1;33m(\u001b[0m\u001b[0mtf\u001b[0m\u001b[1;33m.\u001b[0m\u001b[0mcompat\u001b[0m\u001b[1;33m.\u001b[0m\u001b[0mv1\u001b[0m\u001b[1;33m.\u001b[0m\u001b[0mtrain\u001b[0m\u001b[1;33m.\u001b[0m\u001b[0mSessionRunHook\u001b[0m\u001b[1;33m)\u001b[0m\u001b[1;33m:\u001b[0m\u001b[1;33m\u001b[0m\u001b[1;33m\u001b[0m\u001b[0m\n\u001b[0m\u001b[0;32m     76\u001b[0m   \u001b[1;34m\"\"\"Creates a SessionRunHook that initializes the passed iterator.\"\"\"\u001b[0m\u001b[1;33m\u001b[0m\u001b[1;33m\u001b[0m\u001b[0m\n\u001b[0;32m     77\u001b[0m \u001b[1;33m\u001b[0m\u001b[0m\n",
      "\u001b[1;31mAttributeError\u001b[0m: module 'tensorflow' has no attribute 'compat'"
     ]
    }
   ],
   "source": [
    "# import tensorflow as tf\n",
    "import tensorflow as tf"
   ]
  },
  {
   "cell_type": "markdown",
   "metadata": {},
   "source": [
    "#### 3 Core Learning Algorithms\n",
    "```\n",
    "```\n",
    "#### 4 Core Learning Algorithms: Working with Data\n",
    "```\n",
    "```\n",
    "#### 5 Core Learning Algorithms: Training and Testing Data\n",
    "```\n",
    "```\n",
    "#### 6 Core Learning Algorithms: The Training Process\n",
    "```\n",
    "What are epochs?\n",
    "\n",
    "\n",
    "***The number of times the model will see the same data.\n",
    "\n",
    "\n",
    "A type of graph.\n",
    "\n",
    "\n",
    "The number of elements you feed to the model at once.\n",
    "```\n",
    "#### 7 Core Learning Algorithms: Classification\n",
    "```\n",
    "```\n",
    "#### 8 Core Learning Algorithms: Building the Model\n",
    "```\n",
    "```\n",
    "#### 9 Core Learning Algorithms: Clustering\n",
    "```\n",
    "```\n",
    "#### 10 Core Learning Algorithms: Hidden Markov Models\n",
    "```\n",
    "```\n",
    "#### 11 Core Learning Algorithms: Using Probabilities to make Predictions\n",
    "```\n",
    "```\n",
    "#### 12 Neural Networks with TensorFlow\n",
    "```\n",
    "```\n",
    "#### 13 Neural Networks: Activation Functions\n",
    "```\n",
    "```\n",
    "#### 14 Neural Networks: Optimizers\n",
    "```\n",
    "```\n",
    "#### 15 Neural Networks: Creating a Model\n",
    "```\n",
    "```\n",
    "#### 16 Convolutional Neural Networks\n",
    "```\n",
    "```\n",
    "#### 17 Convolutional Neural Networks: The Convolutional Layer\n",
    "```\n",
    "```\n",
    "#### 18 Creating a Convolutional Neural Network\n",
    "```\n",
    "```\n",
    "#### 19 Convolutional Neural Networks: Evaluating the Model\n",
    "```\n",
    "```\n",
    "#### 20 Convolutional Neural Networks: Picking a Pretrained Model\n",
    "```\n",
    "```\n",
    "#### 21 Natural Language Processing With RNNs\n",
    "```\n",
    "```\n",
    "#### 22 Natural Language Processing With RNNs: Part 2\n",
    "```\n",
    "```\n",
    "#### 23 Natural Language Processing With RNNs: Recurring Neural Networks\n",
    "```\n",
    "```\n",
    "#### 24 Natural Language Processing With RNNs: Sentiment Analysis\n",
    "```\n",
    "```\n",
    "#### 25 Natural Language Processing With RNNs: Making Predictions\n",
    "```\n",
    "```\n",
    "#### 26 Natural Language Processing With RNNs: Create a Play Generator\n",
    "```\n",
    "```\n",
    "#### 27 Natural Language Processing With RNNs: Building the Model\n",
    "```\n",
    "```\n",
    "#### 28 Natural Language Processing With RNNs: Training the Model\n",
    "```\n",
    "```\n",
    "#### 29 Reinforcement Learning With Q-Learning\n",
    "```\n",
    "```\n",
    "#### 30 Reinforcement Learning With Q-Learning: Part 2\n",
    "```\n",
    "```\n",
    "#### 31 Reinforcement Learning With Q-Learning: Example\n",
    "```\n",
    "```\n",
    "#### 32 Conclusion\n",
    "```\n",
    "```"
   ]
  },
  {
   "cell_type": "markdown",
   "metadata": {},
   "source": [
    "#### How Neural Networks Work"
   ]
  },
  {
   "cell_type": "markdown",
   "metadata": {},
   "source": [
    "#### Introduction to the How Neural Networks Work Lectures\n",
    "```\n",
    "```\n",
    "#### 1 How Deep Neural Networks Work\n",
    "```\n",
    "```\n",
    "#### 2 Recurrent Neural Networks RNN and Long Short Term Memory LSTM\n",
    "```\n",
    "```\n",
    "#### 3 Deep Learning Demystified\n",
    "```\n",
    "```\n",
    "#### 4 How Convolutional Neural Networks work\n",
    "```\n",
    "```"
   ]
  },
  {
   "cell_type": "markdown",
   "metadata": {},
   "source": [
    "#### Machine Learning with Python Projects"
   ]
  },
  {
   "cell_type": "markdown",
   "metadata": {},
   "source": [
    "#### Introduction to the Machine Learning Projects\n",
    "```\n",
    "```\n",
    "#### 1 Rock Paper Scissors\n",
    "```\n",
    "```\n",
    "#### 2 Cat and Dog Image Classifier\n",
    "```\n",
    "```\n",
    "#### 3 Book Recommendation Engine using KNN\n",
    "```\n",
    "```\n",
    "#### 4 Linear Regression Health Costs Calculator\n",
    "```\n",
    "```\n",
    "#### 5 Neural Network SMS Text Classifier\n",
    "```\n",
    "```"
   ]
  },
  {
   "cell_type": "markdown",
   "metadata": {},
   "source": []
  },
  {
   "cell_type": "markdown",
   "metadata": {},
   "source": [
    "[all youtube Python Tutorials](https://www.youtube.com/watch?v=rfscVS0vtbw&list=PLWKjhJtqVAbnqBxcdjVGgT3uVR10bzTEB)  \n",
    "[Android Development for Beginners - Full Course](https://www.youtube.com/watch?v=fis26HvvDII)  \n",
    "[Machine Learning](https://www.youtube.com/watch?v=tPYj3fFJGjk&list=PLWKjhJtqVAblStefaz_YOVpDWqcRScc2s)  \n",
    "[Tim2 Python Machine Learning Tutorials](https://www.youtube.com/watch?v=ujTCoH21GlA&list=PLzMcBGfZo4-mP7qA9cagf68V06sko5otr)  \n",
    "[]()  \n",
    "[]()  \n"
   ]
  }
 ],
 "metadata": {
  "kernelspec": {
   "display_name": "Python 3",
   "language": "python",
   "name": "python3"
  },
  "language_info": {
   "codemirror_mode": {
    "name": "ipython",
    "version": 3
   },
   "file_extension": ".py",
   "mimetype": "text/x-python",
   "name": "python",
   "nbconvert_exporter": "python",
   "pygments_lexer": "ipython3",
   "version": "3.7.8"
  }
 },
 "nbformat": 4,
 "nbformat_minor": 2
}
