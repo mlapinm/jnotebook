{
 "cells": [
  {
   "cell_type": "markdown",
   "metadata": {},
   "source": [
    "[ipynb context](#ipynb-context)   \n",
    "[json](#json)  \n",
    "[list plus list](#list-plus-list)   \n",
    "[](#)  \n",
    "[](#)  \n",
    "[](#)  \n",
    "[](#)  \n",
    "[](#)  \n"
   ]
  },
  {
   "cell_type": "markdown",
   "metadata": {},
   "source": [
    "## ipynb context\n",
    "**rem**  \n",
    "можно делать json  \n"
   ]
  },
  {
   "cell_type": "markdown",
   "metadata": {},
   "source": [
    "## 1 general function"
   ]
  },
  {
   "cell_type": "code",
   "execution_count": 71,
   "metadata": {},
   "outputs": [
    {
     "name": "stdout",
     "output_type": "stream",
     "text": [
      "9478\n",
      "['Cisco CCNA (200-120)_ The Complete Course Subs', 'Course Curriculum']\n"
     ]
    }
   ],
   "source": [
    "def mReadFile(nameFile):\n",
    "    s = ''\n",
    "    with open(nameFile, encoding=\"utf8\") as file:\n",
    "        s = file.read()\n",
    "    return s\n",
    "\n",
    "def mWriteFile(nameFile, s):\n",
    "    with open(nameFile, 'w', encoding=\"utf8\") as file:\n",
    "        file.write(s)\n",
    "    return s\n",
    "\n",
    "def mStringList(s1, l4):\n",
    "    l2 = s1.split('\\n')\n",
    "    l2 = list(map(lambda x: x.strip(), l2))\n",
    "    l2 = list(filter(lambda x: len(x)>0, l2))\n",
    "    l4 += l2\n",
    "\n",
    "    \n",
    "s1 = mReadFile('x03a_in.txt')\n",
    "mWriteFile('x03c_out.txt', s1)\n",
    "print(len(s1))\n",
    "l4 = []\n",
    "mStringList(s1, l4)\n",
    "# print(l4[:2])"
   ]
  },
  {
   "cell_type": "code",
   "execution_count": null,
   "metadata": {},
   "outputs": [],
   "source": []
  },
  {
   "cell_type": "markdown",
   "metadata": {},
   "source": [
    "## 2 functions"
   ]
  },
  {
   "cell_type": "code",
   "execution_count": 141,
   "metadata": {
    "scrolled": true
   },
   "outputs": [
    {
     "name": "stdout",
     "output_type": "stream",
     "text": [
      "[jQuery для начинающих habr](#jQuery-для-начинающих-habr)   \n",
      "[Выдвижная панель](#Выдвижная-панель)   \n",
      "[Магические исчезновения](#Магические-исчезновения)   \n",
      "[Связанная анимация](#Связанная-анимация)   \n",
      "[Гармошка 1](#Гармошка-1)   \n",
      "[Гармошка 2](#Гармошка-2)   \n",
      "[Анимация для события hover 1](#Анимация-для-события-hover-1)   \n",
      "[Анимация для события hover 2](#Анимация-для-события-hover-2)   \n",
      "[Кликабельные блоки](#Кликабельные-блоки)   \n",
      "[Складывающиеся панельки](#Складывающиеся-панельки)   \n",
      "[Имитация Backend'a Wordpress'a](#Имитация-Backend'a-Wordpress'a)   \n",
      "[Галерея изображений](#Галерея-изображений)   \n",
      "\n",
      "[jQuery для начинающих habr](#jQuery-для-начинающих-habr)   \n",
      "\n",
      "## jQuery для начинающих habr\n",
      "[jQuery для начинающих habr](d01jq.ipynb)   \n",
      "jQuery для начинающих habr   \n",
      "Выдвижная панель   \n",
      "Магические исчезновения   \n",
      "Связанная анимация   \n",
      "Гармошка 1   \n",
      "Гармошка 2   \n",
      "Анимация для события hover 1   \n",
      "Анимация для события hover 2   \n",
      "Кликабельные блоки   \n",
      "Складывающиеся панельки   \n",
      "Имитация Backend'a Wordpress'a   \n",
      "Галерея изображений   \n"
     ]
    }
   ],
   "source": [
    "import re\n",
    "import json\n",
    "\n",
    "\n",
    "def mIpynbContext(nameFile):\n",
    "\n",
    "    json_string = mReadFile(nameFile)\n",
    "    data = json.loads(json_string)\n",
    "    l2 = []\n",
    "    for e in data[\"cells\"]:\n",
    "        for e2 in e[\"source\"]:\n",
    "            mach = re.search('^##+', e2)\n",
    "            if mach:\n",
    "                l2.append(e2.strip())\n",
    "            pass\n",
    "    l2 = [re.sub(\"^#+\",'', e).strip() for e in l2]\n",
    "    \n",
    "    s2 = ''\n",
    "    l3 = []\n",
    "    for e in l2:\n",
    "        e2 = re.sub(' ', '-', e)\n",
    "        l3.append(f'[{e}](#{e2})   ')\n",
    "    l3.append('')\n",
    "    l3.append(l3[0])\n",
    "    l3.append('')\n",
    "    l3.append(f'## {l2[0]}')\n",
    "    l3.append(f'[{l2[0]}]({nameFile})   ')\n",
    "    l3 = l3 + [e + '   ' for e in l2]\n",
    "    s2 = '\\n'.join(l3)\n",
    "    \n",
    "    print(s2)\n",
    "\n",
    "mIpynbContext('d01jq.ipynb')\n"
   ]
  },
  {
   "cell_type": "code",
   "execution_count": 43,
   "metadata": {},
   "outputs": [
    {
     "name": "stdout",
     "output_type": "stream",
     "text": [
      "dfdf\n"
     ]
    }
   ],
   "source": [
    "s = 'dfdf\\n'\n",
    "e=re.sub('\\n','', s)\n",
    "print(e)"
   ]
  },
  {
   "cell_type": "markdown",
   "metadata": {},
   "source": [
    "## json"
   ]
  },
  {
   "cell_type": "code",
   "execution_count": null,
   "metadata": {},
   "outputs": [],
   "source": []
  },
  {
   "cell_type": "code",
   "execution_count": 88,
   "metadata": {},
   "outputs": [],
   "source": [
    "json_string = ''"
   ]
  },
  {
   "cell_type": "code",
   "execution_count": 102,
   "metadata": {},
   "outputs": [],
   "source": [
    "\n",
    "json_string = mReadFile('xx.ipynb')\n",
    "\n"
   ]
  },
  {
   "cell_type": "code",
   "execution_count": 119,
   "metadata": {},
   "outputs": [
    {
     "name": "stdout",
     "output_type": "stream",
     "text": [
      "['## m1', '## m12', '## m2', '## m3']\n"
     ]
    }
   ],
   "source": [
    "import json\n",
    "\n",
    "data = json.loads(json_string)\n",
    "\n",
    "l2 = []\n",
    "for e in data[\"cells\"]:\n",
    "    for e2 in e[\"source\"]:\n",
    "        mach = re.search('^#+', e2)\n",
    "        if mach:\n",
    "            l2.append(e2.strip())\n",
    "        pass\n",
    "    \n",
    "print(l2)\n"
   ]
  },
  {
   "cell_type": "markdown",
   "metadata": {},
   "source": [
    "## list plus list"
   ]
  },
  {
   "cell_type": "code",
   "execution_count": 42,
   "metadata": {},
   "outputs": [],
   "source": [
    "s1 = '''\n",
    "aa  \n",
    "[](11)  \n",
    "bb  \n",
    "[2](22)  \n",
    "[3](33)  \n",
    "\n",
    "'''\n",
    "s2 = '''\n",
    "1  \n",
    "2  \n",
    "3   \n",
    "4   \n",
    "'''"
   ]
  },
  {
   "cell_type": "code",
   "execution_count": 83,
   "metadata": {},
   "outputs": [
    {
     "name": "stdout",
     "output_type": "stream",
     "text": [
      "4 2 5\n"
     ]
    }
   ],
   "source": [
    "import re\n",
    "\n",
    "s1 = mReadFile('x03a_in.txt')\n",
    "s2 = mReadFile('x03b_in.txt')\n",
    "l1 = s1.split('\\n')\n",
    "l1 = list(map(lambda x: x.strip(), l1))\n",
    "l1 = list(filter(lambda x: len(x)>0, l1))\n",
    "l2 = s2.split('\\n')\n",
    "l2 = list(map(lambda x: x.strip(), l2))\n",
    "l2 = list(filter(lambda x: len(x)>0, l2))\n",
    "\n",
    "def mListPlusList(l1, l2, l3):\n",
    "    '''\n",
    "    l3 = l1 + l2\n",
    "    l1 = \n",
    "    aa  \n",
    "    [1](11)  \n",
    "    bb  \n",
    "    [2](22)  \n",
    "    [3](33) \n",
    "    l2 =\n",
    "    1  \n",
    "    2  \n",
    "    3   \n",
    "    4   \n",
    "    l3=\n",
    "    aa\n",
    "    [1](11)\n",
    "    1\n",
    "    bb\n",
    "    [2](22)\n",
    "    2\n",
    "    [3](33)\n",
    "    3\n",
    "    '''    \n",
    "    count1 = len(l1)\n",
    "    count2 = len(l2)\n",
    "    i2 = 0\n",
    "    for i1 in range(count1):\n",
    "        l3.append(l1[i1] + \"   \")\n",
    "        mach = re.search('\\[.*\\]\\(.*\\)', l1[i1])\n",
    "        if i2 < count2 and mach:\n",
    "#             print(mach[0])\n",
    "            l3.append(l2[i2] + \"   \")\n",
    "            i2 += 1\n",
    "    pass\n",
    "\n",
    "l3 = []\n",
    "mListPlusList(l1, l2, l3)\n",
    "s3 = '\\n'.join(l3)\n",
    "mWriteFile('x03c_out.txt', s3)\n",
    "mWriteFile('x03d_out.md', s3)\n",
    "print(len(l1), len(l2), len(l3))\n",
    "\n"
   ]
  },
  {
   "cell_type": "markdown",
   "metadata": {},
   "source": [
    "## etc"
   ]
  },
  {
   "cell_type": "code",
   "execution_count": 84,
   "metadata": {},
   "outputs": [],
   "source": [
    "s4 = '''\n",
    "Summary of Section   \n",
    "'''"
   ]
  },
  {
   "cell_type": "code",
   "execution_count": 85,
   "metadata": {},
   "outputs": [
    {
     "name": "stdout",
     "output_type": "stream",
     "text": [
      "Summary of Section   \n",
      "[Summary of Section](.md)\n"
     ]
    }
   ],
   "source": [
    "l4 = []\n",
    "l6 = []\n",
    "mStringList(s4, l4)\n",
    "for e4 in l4:\n",
    "    l6.append(e4)\n",
    "    ss = f'[{e4}](.md)'\n",
    "    l6.append(ss)\n",
    "print('   \\n'.join(l6))"
   ]
  },
  {
   "cell_type": "code",
   "execution_count": null,
   "metadata": {},
   "outputs": [],
   "source": []
  }
 ],
 "metadata": {
  "kernelspec": {
   "display_name": "Python 3",
   "language": "python",
   "name": "python3"
  },
  "language_info": {
   "codemirror_mode": {
    "name": "ipython",
    "version": 3
   },
   "file_extension": ".py",
   "mimetype": "text/x-python",
   "name": "python",
   "nbconvert_exporter": "python",
   "pygments_lexer": "ipython3",
   "version": "3.7.8"
  }
 },
 "nbformat": 4,
 "nbformat_minor": 2
}
