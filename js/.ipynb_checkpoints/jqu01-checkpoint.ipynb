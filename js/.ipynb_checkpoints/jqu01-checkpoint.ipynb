{
 "cells": [
  {
   "cell_type": "markdown",
   "metadata": {},
   "source": [
    "demo-1-1.html  "
   ]
  },
  {
   "cell_type": "markdown",
   "metadata": {},
   "source": []
  },
  {
   "cell_type": "code",
   "execution_count": 5,
   "metadata": {},
   "outputs": [
    {
     "name": "stdout",
     "output_type": "stream",
     "text": [
      "ok\n"
     ]
    }
   ],
   "source": [
    "import lib01\n",
    "sss = '''\\\n",
    "\t\t<div id='box'>\n",
    "\t\t\t<ul>\n",
    "\t\t\t\t<li>Первый пункт</li>\n",
    "\t\t\t\t<li>Второй пункт</li>\n",
    "\t\t\t\t<li>Третий пункт</li>\n",
    "\t\t\t\t<li>Четвертый пункт</li>\n",
    "\t\t\t</ul>\n",
    "\t\t</div>\n",
    "\t\t<script>\n",
    "\t\tprint1($(\"li\").length, \"3\")\t\n",
    "\t\t</script>\n",
    "'''\n",
    "lib01.writeJQ('index2.html', sss)\n",
    "print('ok')"
   ]
  },
  {
   "cell_type": "code",
   "execution_count": 64,
   "metadata": {},
   "outputs": [
    {
     "data": {
      "text/html": [
       "\n",
       "<!doctype html>\n",
       "<html lang=\"ru\">\n",
       "\t<head>\n",
       "\t\t<meta http-equiv=\"Content-Type\" content=\"text/html; charset=utf-8\"/>\n",
       "\t\t<title>Начало</title>\n",
       "\t\t<link rel=\"stylesheet\" href=\"css/style.css\" type=\"text/css\" />  \n",
       "\t\t<script src=\"lib/jquery.js\" type=\"text/javascript\"></script>\n",
       "\t\t<script>\n",
       "        \n",
       "\t\t</script>\n",
       "\t\t<style>\n",
       "\t\t</style>\n",
       "\t</head>\n",
       "\t<body>\n",
       "\t\t<div id='box'>\n",
       "\t\t\t<ul>\n",
       "\t\t\t\t<li class = 'pp'>Первый пункт</li>\n",
       "\t\t\t\t<li class = 'pp'>Второй пункт</li>\n",
       "\t\t\t\t<li>Третий пункт</li>\n",
       "\t\t\t\t<li>Четвертый пункт</li>\n",
       "\t\t\t</ul>\n",
       "\t\t</div>\n",
       "    <div id=\"d_79\">____</div>\n",
       "    <script>\n",
       "    sss111 = ''\n",
       "    function print(s1, s2='',s3='',s4 ='', s5='<br>'){sss111 += s1+' '+s2+' '+s3+' '+s4+' '+s5}\n",
       "//    console.log('123')\n",
       "//    print($(\"li\").length)\n",
       "    console.log($(\"li\").length)\n",
       "//    console.log('123')\n",
       "    console.log($(\"li.pp\"))\n",
       "    print('dddddd')\n",
       "    var el = document.getElementById('d_79')\n",
       "    el.innerHTML = sss111\n",
       "\t\t\t\n",
       "\t</script>\n",
       "\t</body>\n",
       "</html>\n"
      ],
      "text/plain": [
       "<IPython.core.display.HTML object>"
      ]
     },
     "execution_count": 64,
     "metadata": {},
     "output_type": "execute_result"
    }
   ],
   "source": [
    "from IPython.display import HTML\n",
    "form = \"\"\"\n",
    "<!doctype html>\n",
    "<html lang=\"ru\">\n",
    "\t<head>\n",
    "\t\t<meta http-equiv=\"Content-Type\" content=\"text/html; charset=utf-8\"/>\n",
    "\t\t<title>Начало</title>\n",
    "\t\t<link rel=\"stylesheet\" href=\"css/style.css\" type=\"text/css\" />  \n",
    "\t\t<script src=\"lib/jquery.js\" type=\"text/javascript\"></script>\n",
    "\t\t<script>\n",
    "        \n",
    "\t\t</script>\n",
    "\t\t<style>\n",
    "\t\t</style>\n",
    "\t</head>\n",
    "\t<body>\n",
    "\t\t<div id='box'>\n",
    "\t\t\t<ul>\n",
    "\t\t\t\t<li class = 'pp'>Первый пункт</li>\n",
    "\t\t\t\t<li class = 'pp'>Второй пункт</li>\n",
    "\t\t\t\t<li>Третий пункт</li>\n",
    "\t\t\t\t<li>Четвертый пункт</li>\n",
    "\t\t\t</ul>\n",
    "\t\t</div>\n",
    "    <div id=\"d_79\">____</div>\n",
    "    <script>\n",
    "    sss111 = ''\n",
    "    function print(s1, s2='',s3='',s4 ='', s5='<br>'){sss111 += s1+' '+s2+' '+s3+' '+s4+' '+s5}\n",
    "//    console.log('123')\n",
    "//    print($(\"li\").length)\n",
    "    console.log($(\"li\").length)\n",
    "//    console.log('123')\n",
    "    console.log($(\"li.pp\"))\n",
    "    print('dddddd')\n",
    "    var el = document.getElementById('d_79')\n",
    "    el.innerHTML = sss111\n",
    "\t\t\t\n",
    "\t</script>\n",
    "\t</body>\n",
    "</html>\n",
    "\"\"\"\n",
    "\n",
    "HTML(form)"
   ]
  },
  {
   "cell_type": "code",
   "execution_count": 2,
   "metadata": {},
   "outputs": [
    {
     "name": "stdout",
     "output_type": "stream",
     "text": [
      "ok\n"
     ]
    }
   ],
   "source": [
    "import lib01\n",
    "s = '''\\\n",
    "<!doctype html>\n",
    "<html lang=\"ru\">\n",
    "\t<head>\n",
    "\t\t<meta http-equiv=\"Content-Type\" content=\"text/html; charset=utf-8\"/>\n",
    "\t\t<title>Начало</title>\n",
    "\t\t<link rel=\"stylesheet\" href=\"css/style.css\" type=\"text/css\" />  \n",
    "\t\t<script src=\"lib/jquery.js\" type=\"text/javascript\"></script>\n",
    "\t\t<script>\n",
    "\t\t</script>\n",
    "\t\t<style>\n",
    "\t\t</style>\n",
    "\t</head>\n",
    "\t<body>\n",
    "\t\t<div id='box'>\n",
    "\t\t\t<ul>\n",
    "\t\t\t\t<li>Первый пункт</li>\n",
    "\t\t\t\t<li>Второй пункт</li>\n",
    "\t\t\t\t<li>Третий пункт</li>\n",
    "\t\t\t\t<li>Четвертый пункт</li>\n",
    "\t\t\t</ul>\n",
    "\t\t</div>\n",
    "    <div id=\"d_78\">____</div>\n",
    "    <script>\n",
    "    sss111 = ''\n",
    "    function print(s1, s2='',s3='',s4 ='', s5='<br>'){sss111 += s1+' '+s2+' '+s3+' '+s4+' '+s5}\n",
    "    console.log('123')\n",
    "    print('112343424')\n",
    "    print($(\"li\").length)\n",
    "    console.log($(\"li\").length)\n",
    "    console.log('123')\n",
    "    var el = document.getElementById('d_78')\n",
    "    el.innerHTML = sss111\n",
    "\t\t\t\n",
    "\t\t</script>\n",
    "\t</body>\n",
    "</html>'''\n",
    "lib01.writeFile('index2.html', s)\n",
    "print('ok')"
   ]
  },
  {
   "cell_type": "code",
   "execution_count": 3,
   "metadata": {},
   "outputs": [
    {
     "name": "stdout",
     "output_type": "stream",
     "text": [
      "ok\n"
     ]
    }
   ],
   "source": [
    "import lib01\n",
    "sss = '''\\\n",
    "\t\t<div id='box'>\n",
    "\t\t\t<ul>\n",
    "\t\t\t\t<li>Первый пункт</li>\n",
    "\t\t\t\t<li>Второй пункт</li>\n",
    "\t\t\t\t<li>Третий пункт</li>\n",
    "\t\t\t\t<li>Четвертый пункт</li>\n",
    "\t\t\t</ul>\n",
    "\t\t</div>\n",
    "\t\t<script>\n",
    "\t\tprint1($(\"li\").length)\t\n",
    "\t\t</script>\n",
    "'''\n",
    "lib01.writeJQ('index2.html', sss)\n",
    "print('ok')"
   ]
  },
  {
   "cell_type": "code",
   "execution_count": null,
   "metadata": {},
   "outputs": [],
   "source": []
  }
 ],
 "metadata": {
  "kernelspec": {
   "display_name": "Python 3",
   "language": "python",
   "name": "python3"
  },
  "language_info": {
   "codemirror_mode": {
    "name": "ipython",
    "version": 3
   },
   "file_extension": ".py",
   "mimetype": "text/x-python",
   "name": "python",
   "nbconvert_exporter": "python",
   "pygments_lexer": "ipython3",
   "version": "3.6.6"
  }
 },
 "nbformat": 4,
 "nbformat_minor": 2
}
