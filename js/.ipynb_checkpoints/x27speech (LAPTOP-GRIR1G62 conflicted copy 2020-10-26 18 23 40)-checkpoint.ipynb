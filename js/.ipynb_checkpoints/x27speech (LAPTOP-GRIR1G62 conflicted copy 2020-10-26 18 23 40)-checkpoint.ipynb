{
 "cells": [
  {
   "cell_type": "markdown",
   "metadata": {},
   "source": [
    "[recognition](#recognition)   \n",
    "[закладки](#закладки)   \n",
    "[](#)   \n",
    "[](#)   \n",
    "[Path](#Path)   \n",
    "[](#)   \n",
    "[](#)   \n"
   ]
  },
  {
   "cell_type": "markdown",
   "metadata": {},
   "source": [
    "## recognition"
   ]
  },
  {
   "cell_type": "markdown",
   "metadata": {},
   "source": [
    "### install\n",
    "```\n",
    "pip install pipwin \n",
    "pipwin install pyaudio\n",
    "pipwin install pocketsphinx\n",
    "```"
   ]
  },
  {
   "cell_type": "markdown",
   "metadata": {},
   "source": [
    "## 1 recognize_google"
   ]
  },
  {
   "cell_type": "code",
   "execution_count": 2,
   "metadata": {},
   "outputs": [
    {
     "name": "stdout",
     "output_type": "stream",
     "text": [
      "3.8.1\n"
     ]
    }
   ],
   "source": [
    "import speech_recognition as sr\n",
    "print(sr.__version__)"
   ]
  },
  {
   "cell_type": "code",
   "execution_count": 3,
   "metadata": {},
   "outputs": [
    {
     "data": {
      "text/plain": [
       "'the stale smell of old beer lingers it takes heat to bring out the odor a cold dip restores health and zest a salt pickle taste fine with ham tacos al Pastore are my favorite a zestful food is be hot cross bun'"
      ]
     },
     "execution_count": 3,
     "metadata": {},
     "output_type": "execute_result"
    }
   ],
   "source": [
    "import speech_recognition as sr\n",
    "\n",
    "r = sr.Recognizer()\n",
    "harvard = sr.AudioFile('harvard.wav')\n",
    "with harvard as source:\n",
    "    audio = r.record(source)\n",
    "r.recognize_google(audio)    \n"
   ]
  },
  {
   "cell_type": "markdown",
   "metadata": {},
   "source": [
    "## 2 recognize_sphinx"
   ]
  },
  {
   "cell_type": "markdown",
   "metadata": {},
   "source": []
  },
  {
   "cell_type": "code",
   "execution_count": 12,
   "metadata": {},
   "outputs": [
    {
     "data": {
      "text/plain": [
       "\"this they'll smell of old we're lingers it takes heat to bring out the odor called it restores health and zest case all the colt is fine with him couples all pastore my favorite is as full food is the hot cross mon\""
      ]
     },
     "execution_count": 12,
     "metadata": {},
     "output_type": "execute_result"
    }
   ],
   "source": [
    "import speech_recognition as sr\n",
    "\n",
    "r = sr.Recognizer()\n",
    "harvard = sr.AudioFile('harvard.wav')\n",
    "with harvard as source:\n",
    "    audio = r.record(source)\n",
    "r.recognize_sphinx(audio)    \n"
   ]
  },
  {
   "cell_type": "markdown",
   "metadata": {},
   "source": [
    "## 3 Microphone"
   ]
  },
  {
   "cell_type": "code",
   "execution_count": 13,
   "metadata": {},
   "outputs": [
    {
     "name": "stdout",
     "output_type": "stream",
     "text": [
      "Say something!\n",
      "Sphinx could not understand audio\n"
     ]
    }
   ],
   "source": [
    "import speech_recognition as sr  \n",
    "   \n",
    "# obtain audio from the microphone  \n",
    "r = sr.Recognizer()  \n",
    "with sr.Microphone() as source:  \n",
    "    print(\"Say something!\")  \n",
    "    audio = r.listen(source)  \n",
    "\n",
    "# recognize speech using Sphinx  \n",
    "try:  \n",
    "    print(\"Sphinx thinks you said '\" + r.recognize_sphinx(audio) + \"'\")  \n",
    "except sr.UnknownValueError:  \n",
    "    print(\"Sphinx could not understand audio\")  \n",
    "except sr.RequestError as e:  \n",
    "    print(\"Sphinx error; {0}\".format(e))  "
   ]
  },
  {
   "cell_type": "code",
   "execution_count": 7,
   "metadata": {},
   "outputs": [
    {
     "name": "stdout",
     "output_type": "stream",
     "text": [
      "9115\n"
     ]
    }
   ],
   "source": [
    "import speech_recognition as sr\n",
    "\n",
    "r = sr.Recognizer()\n",
    "harvard = sr.AudioFile('2.wav')\n",
    "with harvard as source:\n",
    "    audio = r.record(source)\n",
    "s = '11'\n",
    "s = r.recognize_sphinx(audio)    \n",
    "mWriteFile(\"x27c.txt\", s)\n",
    "print(len(s))"
   ]
  },
  {
   "cell_type": "markdown",
   "metadata": {},
   "source": [
    "## закладки\n"
   ]
  },
  {
   "cell_type": "markdown",
   "metadata": {},
   "source": [
    "## 1\n",
    "- mBookmarksFolder(txt, word, lst)   \n",
    "принимает hrome export bookmarks  \n",
    "искомая папка с закладками (tmp02)  \n",
    "добавляет список строк вида []()  \n"
   ]
  },
  {
   "cell_type": "code",
   "execution_count": 4,
   "metadata": {},
   "outputs": [
    {
     "name": "stdout",
     "output_type": "stream",
     "text": [
      "17\n"
     ]
    }
   ],
   "source": [
    "from bs4 import BeautifulSoup as bf\n",
    "\n",
    "def mReadFile(fileName):\n",
    "    s = ''\n",
    "    with open(fileName, encoding=\"utf8\") as file:\n",
    "        s = file.read()\n",
    "    return s\n",
    "\n",
    "\n",
    "def mWriteFile(fileName, text):\n",
    "    with open(fileName, \"w\", encoding=\"utf8\") as file:\n",
    "        file.write(text)\n",
    "    \n",
    "\n",
    "\n",
    "def mBookmarksFolder(txt, word, lst):\n",
    "    soup = bf(txt, 'lxml')\n",
    "    soup2 = soup.find(string=word)\n",
    "    soup3 = soup2.find_parent().find_parent()\n",
    "    soup4 = soup3.find_parent()\n",
    "    soup5 = soup4.find_all([\"dl\",\"h3\"])\n",
    "\n",
    "    ll = []\n",
    "    for tag in soup5:\n",
    "        if tag.name == \"h3\":\n",
    "            ll.append([tag.text])\n",
    "        elif tag.name == \"dl\":\n",
    "            la0 = tag.find_all(\"a\")\n",
    "            la2 = [[e.text, e['href']] for e in la0 if e is not None]\n",
    "            ll[-1].append(la2)\n",
    "\n",
    "    for e in ll:\n",
    "        if e[0]==word:\n",
    "            for e2 in e[1]:\n",
    "                s2 = f\"[{e2[0]}]({e2[1]})\"\n",
    "                lst.append(s2)\n",
    " \n",
    "    \n",
    "txt = mReadFile(\"x27a.txt\")\n",
    "word = \"tmp02\"\n",
    "# word = \"a2\"\n",
    "lst = []\n",
    "mBookmarksFolder(txt, word, lst)\n",
    "mWriteFile(\"x27b.txt\", '   \\n'.join(lst))\n",
    "    \n",
    "print(len(lst))\n"
   ]
  },
  {
   "cell_type": "markdown",
   "metadata": {},
   "source": [
    "```\n",
    "D:\\mailCloud\\prjother\\089hosts\\jnotebook\\js\n",
    "D:\\mailCloud\\prjother\\089hosts\\jnotebook\\js\\bookmarks_0610.html\n",
    "```"
   ]
  },
  {
   "cell_type": "markdown",
   "metadata": {},
   "source": [
    "## 2"
   ]
  },
  {
   "cell_type": "code",
   "execution_count": 1,
   "metadata": {},
   "outputs": [],
   "source": [
    "from bs4 import BeautifulSoup as bf\n",
    "\n",
    "soup = ''\n",
    "lst = []\n",
    "with open(\"bookmarks_0610.html\", \"r\", encoding = 'utf8') as f:\n",
    "    txt = f.read()\n",
    "    soup = bf(txt, 'lxml')\n",
    "    \n",
    "soup2 = soup.find(string=\"a2\")\n",
    "soup3 = soup2.find_parent().find_parent()\n",
    "soup4 = soup3.find_parent()\n",
    "soup5 = soup4.find_all([\"dl\",\"h3\"])\n",
    "\n",
    "ll = []\n",
    "for tag in soup5:\n",
    "    if tag.name == \"h3\":\n",
    "        ll.append([tag.text])\n",
    "    elif tag.name == \"dl\":\n",
    "        la0 = tag.find_all(\"a\")\n",
    "        la2 = [[e.text, e['href']] for e in la0 if e is not None]\n",
    "        ll[-1].append(la2)\n",
    "        \n",
    "for e in ll:\n",
    "    if e[0]=='a2':\n",
    "        for e2 in e[1]:\n",
    "            s2 = f\"[{e2[0]}]({e2[1]})\"\n",
    "            lst.append(s2)\n",
    "            \n",
    "# print(lst)\n",
    "\n"
   ]
  },
  {
   "cell_type": "markdown",
   "metadata": {},
   "source": [
    "## Path"
   ]
  },
  {
   "cell_type": "markdown",
   "metadata": {},
   "source": [
    "[c02welcome](tmp/c02welcome.ipynb)"
   ]
  },
  {
   "cell_type": "code",
   "execution_count": 58,
   "metadata": {},
   "outputs": [],
   "source": [
    "\n",
    "s2 = '''\n",
    "[OXANA DOLINKA](#OXANA-DOLINKA)   \n",
    "[Shaw English Online](#Shaw-English-Online)   \n",
    "[footer](#footer)   \n",
    "\n",
    "\n",
    "https://www.youtube.com/watch?v=0H1tm1SD7dA&list=RDCMUCTYQzAi6YOcgv2mkzsfzmpA&start_radio=1&t=2849\n",
    "\n",
    "\n",
    "\n",
    "d0100.txt\n",
    "x3  \n",
    "d0208.txt   \n",
    "\n",
    "[English listening skills practice](https://youtu.be/uTueHiA1CKM)  \n",
    "\n",
    "https://youtu.be/uTueHiA1CKM  |  English listening skills practice\n",
    "\n",
    "d0200.txt\n",
    "x1\n",
    "b0210ru.md  \n",
    "[1500 English Conversation Practice](https://youtu.be/iXnA4d51vV8)  \n",
    "\n",
    "https://youtu.be/iXnA4d51vV8  |  1500 English Conversation Practice\n",
    "\n",
    "\n",
    "\n",
    "d0300.txt\n",
    "x1  \n",
    "b0212ru.md   \n",
    "[1000 English Conversation Practice](https://youtu.be/VOQ4Vby9SJM)  \n",
    "\n",
    "https://youtu.be/VOQ4Vby9SJM  |  1000 English Conversation Practice\n",
    "\n",
    "\n",
    "\n",
    "d0400.txt\n",
    "x2  \n",
    "b0214ru.md   \n",
    "[1100 Basic English Phrases for Conversation](https://youtu.be/X_FL6Ta_3WM)  \n",
    "\n",
    "https://youtu.be/X_FL6Ta_3WM  |  1100 Basic English Phrases for Conversation\n",
    "\n",
    "\n",
    "\n",
    "d0500.txt\n",
    "spanish\n",
    "\n",
    "[Slow and Easy English Conversation Practice](https://youtu.be/4IkM_Hb2B-A)  \n",
    "\n",
    "https://youtu.be/4IkM_Hb2B-A  |  Slow and Easy English Conversation Practice\n",
    "\n",
    "\n",
    "\n",
    "d0600.txt\n",
    "x2  \n",
    "b0206ru.md   \n",
    "[1000 Practical English Phrases](https://youtu.be/6u8mC8Wn6Cc)  \n",
    "\n",
    "https://youtu.be/6u8mC8Wn6Cc  |  1000 Practical English Phrases\n",
    "\n",
    "\n",
    "\n",
    "d0700.txt\n",
    "x2  \n",
    "b0216ru.md   \n",
    "[1000 Useful Expressions in English](https://youtu.be/r0npU0D51OA)  \n",
    "\n",
    "https://youtu.be/r0npU0D51OA  |  1000 Useful Expressions in English\n",
    "\n",
    "\n",
    "\n",
    "d0800.txt\n",
    "x2  \n",
    "b0218ru.md   \n",
    "[Learn English Questions & Answers for Beginners](https://youtu.be/rwGqUvgTgpA)  \n",
    "\n",
    "https://youtu.be/rwGqUvgTgpA  |   Learn English Questions & Answers for Beginners\n",
    "\n",
    "'''\n",
    "\n",
    "\n"
   ]
  },
  {
   "cell_type": "code",
   "execution_count": 60,
   "metadata": {},
   "outputs": [
    {
     "name": "stdout",
     "output_type": "stream",
     "text": [
      "\n",
      "[Языковая школа Кендры - Kendra's Language School](#Языковая-школа-Кендры---Kendras-Language-School)    \n",
      "[Английский Для Начинающих С Нуля, Уроки](#Английский-Для-Начинающих-С-Нуля-Уроки)   \n",
      "[Anh Ngu VIPS](#Anh-Ngu-VIPS)   \n",
      "[OXANA DOLINKA](#OXANA-DOLINKA)   \n",
      "[Shaw English Online](#Shaw-English-Online)   \n",
      "[footer](#footer)   \n",
      "\n",
      "\n",
      "## Языковая школа Кендры - Kendra’s Language School\n",
      "\n",
      "[1000 English conversation phrases that seem easy but are not](htmla2present/b0102ru.md)   \n",
      "[1000 English conversation phrases that seem easy but are not](htmla2present/b0104ru.md)   \n",
      "[1000 English conversation phrases that seem easy but are not](htmla2present/b0106ru.md)   \n",
      "[Everyday English Listening ||| Listen and Speak English Like a Native ||| American English Practice](htmla2present/b0108ru.md)   \n",
      "[500 Slightly Long English conversation phrases - Intermediate Level](htmla2present/b0110ru.md)   \n",
      "[English Listening & Speaking Practice - Listen and Repeat the Sentences](htmla2present/b0114ru.md)   \n",
      "[1000 Practical English Phrases](htmla2present/b0206ru.md)   \n",
      "[English listening skills practice - Listen and Read with slow speed](htmla2present/b0208ru.md)   \n",
      "[1500 English Conversation Practice - Learn Basic English with dialogues](htmla2present/b0210ru.md)   \n",
      "[1000 English Conversation Practice](htmla2present/b0212ru.md)   \n",
      "[1100 Basic English Phrases for Conversation](htmla2present/b0214ru.md)   \n",
      "[1000 Useful Expressions in English](htmla2present/b0216ru.md)   \n",
      "[Learn English Questions & Answers for Beginners](htmla2present/b0218ru.md)   \n",
      "[](htmla2present/)  \n",
      "[](htmla2present/)  \n",
      "\n",
      "\n",
      "\n",
      "## Английский Для Начинающих С Нуля, Уроки\n",
      "\n",
      "\n",
      "[УЧИМ АНГЛИЙСКИЕ СЛОВА -УРОК 1 для начинающих с нуля - Разговорный английский - 100 СЛОВ с ПЕРЕВОДОМ](htmla2present/g0112ru.md)  \n",
      "[Английские Разговорные СЛОВА И ФРАЗЫ для Начинающих с Нуля -Изучаем Английский Словарный Запас](htmla2present/g0120ru.md)  \n",
      "[УРОК 2 - Учим Английские Слова для Начинающих с Нуля - Английский Язык Онлайн](htmla2present/g0130ru.md)  \n",
      "[УРОК 3 - Учим Английские Слова - 100 СЛОВ с ПЕРЕВОДОМ для начинающих - Разговорный английский](htmla2present/g0140ru.md)  \n",
      "[УРОК 4 - Учим Английские Слова - 110 СЛОВ с ПЕРЕВОДОМ для начинающих с нуля - Разговорный английский](htmla2present/g0150ru.md)  \n",
      "[УЧИМ САМЫЕ ВАЖНЫЕ АНГЛИЙСКИЕ СЛОВА ЛЕГКО из серии \"Разговорный Английский для Начинающих с Нуля\"](htmla2present/g0160ru.md)  \n",
      "[Учим Английские Слова - Английский для Начинающих - УРОК 6 с Переводом - Разговорный Английский-Ч1](htmla2present/g0170ru.md)  \n",
      "[Учим Английские Слова - УРОК 6 - Часть 2 - Английский для Начинающих , Разговорный Английский](htmla2present/g0180ru.md)  \n",
      "[](htmla2present/)  \n",
      "[](htmla2present/)  \n",
      "[](htmla2present/)  \n",
      "\n",
      "\n",
      "\n",
      "\n",
      "## Anh Ngu VIPS\n",
      "\n",
      "[Разговорный английский 16](htmla2present/b0422vip.md)  \n",
      "[English Speaking 02](htmla2present/b0424vip.md)  \n",
      "[English Conversation 1](htmla2present/b0432vip.md)  \n",
      "[English Conversation 02](htmla2present/b0434vip.md)  \n",
      "[English Conversation 03](htmla2present/b0436vip.md)  \n",
      "[English Conversation 03](htmla2present/b0438vip.md)  \n",
      "[English Conversation 04](htmla2present/b0440vip.md)  \n",
      "[English Conversation 05](htmla2present/b0442vip.md)  \n",
      "[English Conversation 06](htmla2present/b04431vip.md)  \n",
      "[English Conversation 07 - YouTube](htmla2present/b04432vip.md)  \n",
      "[English Conversation 08 - YouTube](htmla2present/b04433vip.md)  \n",
      "[English Conversation 09 - YouTube](htmla2present/b04434vip.md)  \n",
      "[English Conversation 10 - YouTube](htmla2present/b04435vip.md)  \n",
      "[English Conversation 11 - YouTube](htmla2present/b04436vip.md)  \n",
      "[English Conversation 12 - YouTube](htmla2present/b04437vip.md)  \n",
      "[English Conversation 13](htmla2present/b0444vip.md)  \n",
      "[English Conversation 14](htmla2present/b0446vip.md)  \n",
      "[English Conversation 15](htmla2present/b0448vip.md)  \n",
      "[English Conversation 16](htmla2present/b0450vip.md)  \n",
      "[English Conversation 17](htmla2present/b0452vip.md)  \n",
      "[English Conversation 18](htmla2present/b0454vip.md)  \n",
      "[English Conversation 31](htmla2present/b0462vip.md)  \n",
      "[English Conversation 32](htmla2present/b0464vip.md)  \n",
      "[English Conversation 33](htmla2present/b0466vip.md)  \n",
      "[English Conversation 34](htmla2present/b0468vip.md)  \n",
      "[English Conversation 35](htmla2present/b0470vip.md)  \n",
      "[](htmla2present/)  \n",
      "[](htmla2present/)  \n",
      "\n",
      "\n",
      "\n",
      "\n",
      "## OXANA DOLINKA\n",
      "\n",
      "[Английский Язык По Песням. Видео-Урок. Аэросмит. Английский Язык Для Начинающих.](https://www.youtube.com/watch?v=SKQ8FX7irV0&list=PLMuaOd5gEFbBXQxp-4PVTimOZbCHkSWd9&index=5)  \n",
      "[Урок Разговорного Английского по Легендарному Сериалу Друзья](https://www.youtube.com/watch?v=k5sAnTTQxFA)  \n",
      "[](htmla2present/)  \n",
      "[](htmla2present/)  \n",
      "\n",
      "\n",
      "\n",
      "## Shaw English Online\n",
      "\n",
      "1. [Learn Present Simple Tense | English Grammar Course 1](htmla2present/a1201present.md)  \n",
      "1. [Practice Present Simple Tense | English Grammar Course](htmla2present/a1202present.md)  \n",
      "1. [Learn Present Continuous Tense | English Grammar Course](htmla2present/a1203present.md)  \n",
      "1. [Practice Present Continuous Tense | English Grammar Course Checkup](htmla2present/a1204present.md)  \n",
      "1. [Learn Present Perfect Tense | English Grammar Course](htmla2present/a1205present.md)  \n",
      "1. [Practice Present Perfect Tense | English Grammar Course #6 | CheckUp](htmla2present/a1206present.md)  \n",
      "1. [Learn Present Perfect Continuous Tense | English Grammar Course](htmla2present/a1207present.md)  \n",
      "1. [Practice Present Perfect Continuous Tense | English Grammar Course](htmla2present/a1208present.md)  \n",
      "1. [Learn Past Simple Tense English Grammar Course](htmla2present/a1209present.md)  \n",
      "1. [Practice Past Simple Tense | English Grammar Course](htmla2present/a1210present.md)  \n",
      "1. [Learn Past Continuous Tense | Basic English Grammar Course](htmla2present/a1211present.md)  \n",
      "1. [Practice Past Continuous Tense | Basic English Grammar Course](htmla2present/a1212present.md)  \n",
      "1. [Learn Past Perfect Tense | Basic English Grammar Course](htmla2present/a1213present.md)  \n",
      "1. [Practice Past Perfect Tense | Basic English Grammar Course | Check Up](htmla2present/a1214present.md)  \n",
      "1. [Practice Past Perfect Continuous Tense | Basic English Grammar Course Check Up](htmla2present/a1216present.md)  \n",
      "1. [1000 English conversation phrases that seem easy but are not](htmla2present/b0102ru.md)\n",
      "1. [1000 English conversation phrases that seem easy but are not](htmla2present/b0104ru.md)\n",
      "1. [1000 English conversation phrases that seem easy but are not](htmla2present/b0106ru.md)\n",
      "1. [Everyday English Listening ||| Listen and Speak English Like a Native ||| American English Practice](htmla2present/b0108ru.md)\n",
      "1. [500 Slightly Long English conversation phrases - Intermediate Level](htmla2present/b0110ru.md)\n",
      "1. [English Listening & Speaking Practice - Listen and Repeat the Sentences](htmla2present/b0114ru.md)\n",
      "1. [1000 Practical English Phrases](htmla2present/b0206ru.md)\n",
      "1. [English listening skills practice - Listen and Read with slow speed](htmla2present/b0208ru.md)\n",
      "1. [1500 English Conversation Practice - Learn Basic English with dialogues](htmla2present/b0210ru.md)\n",
      "1. [1000 English Conversation Practice](htmla2present/b0212ru.md)\n",
      "1. [1100 Basic English Phrases for Conversation](htmla2present/b0214ru.md)\n",
      "1. [1000 Useful Expressions in English](htmla2present/b0216ru.md)\n",
      "1. [1000 Useful Expressions in English](htmla2present/b0216ru.md)\n",
      "\n",
      "\n",
      "## footer\n",
      "\n",
      "[ICYMI: Miracle Workers | TBS](https://www.youtube.com/watch?v=vHzt6ewOUJk&list=PLJBo3iyb1U0ecx7LOvdNhHBlhO4a9rWTu&index=7)  \n",
      "[](htmla2present/)  \n",
      "[](htmla2present/)  \n",
      "[](htmla2present/)  \n",
      "\n",
      "<hr>\n",
      "\n",
      "[English Conversation 35 - YouTube](https://www.youtube.com/watch?v=_irVQ9xyOSQ)   \n",
      "[English Conversation 40 - YouTube](https://www.youtube.com/watch?v=ybEJ-ZVHjVo)   \n",
      "[English Conversation 41 - YouTube](https://www.youtube.com/watch?v=xo9e-EGV8eE)\n",
      "\n",
      "<hr>\n",
      "[English Listening & Speaking Practice - Listen and Repeat the Sentences](https://www.youtube.com/watch?v=0H1tm1SD7dA&list=RDCMUCTYQzAi6YOcgv2mkzsfzmpA&start_radio=1&t=2849)   \n",
      "\n",
      "\n",
      "https://www.youtube.com/watch?v=0H1tm1SD7dA&list=RDCMUCTYQzAi6YOcgv2mkzsfzmpA&start_radio=1&t=2849\n",
      "\n",
      "\n",
      "\n",
      "d0100.txt\n",
      "x3  \n",
      "d0208.txt   \n",
      "\n",
      "[English listening skills practice](https://youtu.be/uTueHiA1CKM)  \n",
      "\n",
      "https://youtu.be/uTueHiA1CKM  |  English listening skills practice\n",
      "\n",
      "d0200.txt\n",
      "x1\n",
      "b0210ru.md  \n",
      "[1500 English Conversation Practice](https://youtu.be/iXnA4d51vV8)  \n",
      "\n",
      "https://youtu.be/iXnA4d51vV8  |  1500 English Conversation Practice\n",
      "\n",
      "\n",
      "\n",
      "d0300.txt\n",
      "x1  \n",
      "b0212ru.md   \n",
      "[1000 English Conversation Practice](https://youtu.be/VOQ4Vby9SJM)  \n",
      "\n",
      "https://youtu.be/VOQ4Vby9SJM  |  1000 English Conversation Practice\n",
      "\n",
      "\n",
      "\n",
      "d0400.txt\n",
      "x2  \n",
      "b0214ru.md   \n",
      "[1100 Basic English Phrases for Conversation](https://youtu.be/X_FL6Ta_3WM)  \n",
      "\n",
      "https://youtu.be/X_FL6Ta_3WM  |  1100 Basic English Phrases for Conversation\n",
      "\n",
      "\n",
      "\n",
      "d0500.txt\n",
      "spanish\n",
      "\n",
      "[Slow and Easy English Conversation Practice](https://youtu.be/4IkM_Hb2B-A)  \n",
      "\n",
      "https://youtu.be/4IkM_Hb2B-A  |  Slow and Easy English Conversation Practice\n",
      "\n",
      "\n",
      "\n",
      "d0600.txt\n",
      "x2  \n",
      "b0206ru.md   \n",
      "[1000 Practical English Phrases](https://youtu.be/6u8mC8Wn6Cc)  \n",
      "\n",
      "https://youtu.be/6u8mC8Wn6Cc  |  1000 Practical English Phrases\n",
      "\n",
      "\n",
      "\n",
      "d0700.txt\n",
      "x2  \n",
      "b0216ru.md   \n",
      "[1000 Useful Expressions in English](https://youtu.be/r0npU0D51OA)  \n",
      "\n",
      "https://youtu.be/r0npU0D51OA  |  1000 Useful Expressions in English\n",
      "\n",
      "\n",
      "\n",
      "d0800.txt\n",
      "x2  \n",
      "b0218ru.md   \n",
      "[Learn English Questions & Answers for Beginners](https://youtu.be/rwGqUvgTgpA)  \n",
      "\n",
      "https://youtu.be/rwGqUvgTgpA  |   Learn English Questions & Answers for Beginners\n",
      "\n",
      "\n"
     ]
    }
   ],
   "source": [
    "import re\n",
    "\n",
    "def mPath(s2, s3):\n",
    "    l = s2.split('\\n')\n",
    "    l2 = []\n",
    "    for e in l:\n",
    "        k = e.find('http')\n",
    "        if k < 0:\n",
    "            k = e.find('](#')\n",
    "        s5 = ''\n",
    "        if k<0:\n",
    "            # если есть палка, то заменяется то что до палки и палка \n",
    "            s5 = re.sub(f'\\]\\((\\w+\\/)?', f']({s3}/', e)\n",
    "        else:\n",
    "            s5 = e\n",
    "        pass\n",
    "        l2.append(s5)\n",
    "    s4 = '\\n'.join(l2)\n",
    "    return s4\n",
    "\n",
    "s4 = mPath(s2,'htmla2present')\n",
    "print(s4)"
   ]
  },
  {
   "cell_type": "markdown",
   "metadata": {},
   "source": [
    "[convertio](https://convertio.co/ru/mp4-wav/)  \n",
    "[python - PyAudio не устанавливается - Stack Overflow на русском](https://ru.stackoverflow.com/questions/927657/pyaudio-%D0%BD%D0%B5-%D1%83%D1%81%D1%82%D0%B0%D0%BD%D0%B0%D0%B2%D0%BB%D0%B8%D0%B2%D0%B0%D0%B5%D1%82%D1%81%D1%8F)\n",
    "[Speech Recognition - распознавание речи | Учебник Python 3](https://learn4kid-python.firebaseapp.com/python_data_structure/python_speech_recognition/#%D0%BA%D0%B0%D0%BA-%D1%80%D0%B0%D0%B1%D0%BE%D1%82%D0%B0%D0%B5%D1%82-%D1%80%D0%B0%D1%81%D0%BF%D0%BE%D0%B7%D0%BD%D0%B0%D0%B2%D0%B0%D0%BD%D0%B8%D0%B5-%D1%80%D0%B5%D1%87%D0%B8)   \n",
    "[edureka! - YouTube](https://www.youtube.com/user/edurekaIN?sub_confirmation=1)  \n",
    "[Speech Recognition Using Python | Speech To Text Translation in Python | Python Training | Edureka - YouTube](https://www.youtube.com/watch?v=sHeJgKBaiAI)  \n",
    "[Python Full Course - Learn Python in 12 Hours | Python Tutorial For Beginners | Edureka - YouTube](https://www.youtube.com/watch?v=WGJJIrtnfpk&list=PL9ooVrP1hQOHY-BeYrKHDrHKphsJOyRyu)  \n",
    "[Real-time Speech to Text with DeepSpeech - Getting Started on Windows and Transcribe Microphone Free - YouTube](https://www.youtube.com/watch?v=c_0Q3T0XYTA)  \n",
    "[Python Speech Recognition | Open Website By Speech | Google Speech - YouTube](https://www.youtube.com/watch?v=a98tTmBZU9k&list=PL1FgJUcJJ03teZuZVmQY0_JcOi1ukrBYx&index=2)  \n",
    "[Окончательное руководство по распознаванию речи с Python | Guru](https://cyberguru.tech/%D0%BF%D1%80%D0%BE%D0%B3%D1%80%D0%B0%D0%BC%D0%BC%D0%B8%D1%80%D0%BE%D0%B2%D0%B0%D0%BD%D0%B8%D0%B5/%D0%BC%D0%B0%D1%88%D0%B8%D0%BD%D0%BD%D0%BE%D0%B5-%D0%BE%D0%B1%D1%83%D1%87%D0%B5%D0%BD%D0%B8%D0%B5/%D0%BE%D0%BA%D0%BE%D0%BD%D1%87%D0%B0%D1%82%D0%B5%D0%BB%D1%8C%D0%BD%D0%BE%D0%B5-%D1%80%D1%83%D0%BA%D0%BE%D0%B2%D0%BE%D0%B4%D1%81%D1%82%D0%B2%D0%BE-%D0%BF%D0%BE-%D1%80%D0%B0%D1%81%D0%BF%D0%BE%D0%B7)  "
   ]
  },
  {
   "cell_type": "markdown",
   "metadata": {},
   "source": [
    "## footer\n",
    "[BeautifulSoup – парсинг HTML в Python на примерах](https://python-scripts.com/beautifulsoup-html-parsing)  "
   ]
  },
  {
   "cell_type": "markdown",
   "metadata": {},
   "source": []
  },
  {
   "cell_type": "markdown",
   "metadata": {},
   "source": []
  }
 ],
 "metadata": {
  "kernelspec": {
   "display_name": "Python 3",
   "language": "python",
   "name": "python3"
  },
  "language_info": {
   "codemirror_mode": {
    "name": "ipython",
    "version": 3
   },
   "file_extension": ".py",
   "mimetype": "text/x-python",
   "name": "python",
   "nbconvert_exporter": "python",
   "pygments_lexer": "ipython3",
   "version": "3.7.8"
  }
 },
 "nbformat": 4,
 "nbformat_minor": 4
}
