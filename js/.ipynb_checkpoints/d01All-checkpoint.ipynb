{
 "cells": [
  {
   "cell_type": "markdown",
   "metadata": {},
   "source": []
  },
  {
   "cell_type": "markdown",
   "metadata": {},
   "source": [
    "[**Responsive Web Design Certification (300 hours)**]()  \n",
    "[*Basic HTML and HTML5*](./d02html.ipynb)  \n",
    "[Basic CSS]()  \n",
    "[Applied Visual Design]()  \n",
    "[*Applied Accessibility*](./d03aa.ipynb)  \n",
    "[Responsive Web Design Principles]()  \n",
    "[CSS Flexbox]()  \n",
    "[CSS Grid]()  \n",
    "[Responsive Web Design Projects]()  \n",
    "[**JavaScript Algorithms and Data Structures Certification (300 hours)**]()  \n",
    "[*Basic JavaScript*](./d05bjs.ipynb)  \n",
    "[ES6]()  \n",
    "[*Regular Expressions*](./d05re.ipynb)  \n",
    "[Debugging]()  \n",
    "[Basic Data Structures]()  \n",
    "[Basic Algorithm Scripting]()  \n",
    "[Object Oriented Programming]()  \n",
    "[Functional Programming]()  \n",
    "[Intermediate Algorithm Scripting]()  \n",
    "[JavaScript Algorithms and Data Structures Projects]()  \n",
    "[**Front End Libraries Certification (300 hours)**]()  \n",
    "[*Bootstrap*](./d05bootstap.ipynb)  \n",
    "[*jQuery*](d06query.ipynb)  \n",
    "[Sass]()  \n",
    "[React]()  \n",
    "[Redux]()  \n",
    "[React and Redux]()  \n",
    "[Front End Libraries Projects]()  \n",
    "[**Data Visualization Certification (300 hours)**]()  \n",
    "[*Data Visualization with D3*](./d10mongodb.ipynb)  \n",
    "[JSON APIs and Ajax]()  \n",
    "[Data Visualization Projects]()  \n",
    "[**APIs and Microservices Certification (300 hours)**]()  \n",
    "[Managing Packages with Npm]()  \n",
    "[Basic Node and Express]()  \n",
    "[MongoDB and Mongoose]()  \n",
    "[APIs and Microservices Projects]()  \n",
    "[**Information Security and Quality Assurance Certification (300 hours)**]()  \n",
    "[*Information Security with HelmetJS*](d12secur.ipynb)  \n",
    "[Quality Assurance and Testing with Chai]()  \n",
    "[Advanced Node and Express]()  \n",
    "[Information Security and Quality Assurance Projects]() "
   ]
  },
  {
   "cell_type": "markdown",
   "metadata": {},
   "source": []
  },
  {
   "cell_type": "markdown",
   "metadata": {},
   "source": []
  }
 ],
 "metadata": {
  "kernelspec": {
   "display_name": "Python 3",
   "language": "python",
   "name": "python3"
  },
  "language_info": {
   "codemirror_mode": {
    "name": "ipython",
    "version": 3
   },
   "file_extension": ".py",
   "mimetype": "text/x-python",
   "name": "python",
   "nbconvert_exporter": "python",
   "pygments_lexer": "ipython3",
   "version": "3.7.4"
  }
 },
 "nbformat": 4,
 "nbformat_minor": 2
}
