{
 "cells": [
  {
   "cell_type": "markdown",
   "metadata": {},
   "source": [
    "## dir to md"
   ]
  },
  {
   "cell_type": "markdown",
   "metadata": {},
   "source": [
    "## 1 dir"
   ]
  },
  {
   "cell_type": "code",
   "execution_count": 14,
   "metadata": {},
   "outputs": [
    {
     "name": "stdout",
     "output_type": "stream",
     "text": [
      "68\n"
     ]
    }
   ],
   "source": [
    "import os\n",
    "import re\n",
    "\n",
    "def mMd(s):\n",
    "    '''\n",
    "    a*class.md => True\n",
    "    '''\n",
    "    match = re.search(r'README.md$', s)\n",
    "    if match:\n",
    "        return False\n",
    "\n",
    "    match = re.search(r'^\\w*.ipynb$', s)\n",
    "    return True if match else False\n",
    "\n",
    "\n",
    "def mListDir(cwd = '.'):\n",
    "    lres = []\n",
    "    lres = list(filter(mMd, os.listdir(cwd)))\n",
    "    \n",
    "    return lres\n",
    "    \n",
    "l = mListDir()\n",
    "print(len(l))"
   ]
  },
  {
   "cell_type": "markdown",
   "metadata": {},
   "source": [
    "2 list ipynb to md"
   ]
  },
  {
   "cell_type": "code",
   "execution_count": 20,
   "metadata": {},
   "outputs": [
    {
     "name": "stdout",
     "output_type": "stream",
     "text": [
      "['jupyter nbconvert --to markdown b02js.ipynb', 'jupyter nbconvert --to markdown b03js.ipynb', 'jupyter nbconvert --to markdown b04js.ipynb', 'jupyter nbconvert --to markdown c02html.ipynb', 'jupyter nbconvert --to markdown c02http.ipynb', 'jupyter nbconvert --to markdown c02welcome.ipynb', 'jupyter nbconvert --to markdown c02what.ipynb', 'jupyter nbconvert --to markdown c03css.ipynb', 'jupyter nbconvert --to markdown c06php.ipynb', 'jupyter nbconvert --to markdown c07flms.ipynb', 'jupyter nbconvert --to markdown c07php.ipynb', 'jupyter nbconvert --to markdown c07sql.ipynb', 'jupyter nbconvert --to markdown c08html.ipynb', 'jupyter nbconvert --to markdown c10ruby.ipynb', 'jupyter nbconvert --to markdown c112react.ipynb', 'jupyter nbconvert --to markdown c11react.ipynb', 'jupyter nbconvert --to markdown c12react.ipynb', 'jupyter nbconvert --to markdown c16phaser.ipynb', 'jupyter nbconvert --to markdown c18angular.ipynb', 'jupyter nbconvert --to markdown c22sharp.ipynb', 'jupyter nbconvert --to markdown c24live.ipynb', 'jupyter nbconvert --to markdown d01All.ipynb', 'jupyter nbconvert --to markdown d02html.ipynb', 'jupyter nbconvert --to markdown d03aa.ipynb', 'jupyter nbconvert --to markdown d05bjs.ipynb', 'jupyter nbconvert --to markdown d05bootstap.ipynb', 'jupyter nbconvert --to markdown d05re.ipynb', 'jupyter nbconvert --to markdown d06query.ipynb', 'jupyter nbconvert --to markdown d10mongodb.ipynb', 'jupyter nbconvert --to markdown d12basicExpress.ipynb', 'jupyter nbconvert --to markdown d12secur.ipynb', 'jupyter nbconvert --to markdown d13python.ipynb', 'jupyter nbconvert --to markdown d14python.ipynb', 'jupyter nbconvert --to markdown d15tensorflow.ipynb', 'jupyter nbconvert --to markdown d16tensorflow.ipynb', 'jupyter nbconvert --to markdown d17tensorflow.ipynb', 'jupyter nbconvert --to markdown d20Euler.ipynb', 'jupyter nbconvert --to markdown d21Euler.ipynb', 'jupyter nbconvert --to markdown d22Euler.ipynb', 'jupyter nbconvert --to markdown d23Euler.ipynb', 'jupyter nbconvert --to markdown d24Euler.ipynb', 'jupyter nbconvert --to markdown d25Euler.ipynb', 'jupyter nbconvert --to markdown d28AlgSruct.ipynb', 'jupyter nbconvert --to markdown d28rosetta.ipynb', 'jupyter nbconvert --to markdown d31HomeProj.ipynb', 'jupyter nbconvert --to markdown d60siteprj.ipynb', 'jupyter nbconvert --to markdown jqu01.ipynb', 'jupyter nbconvert --to markdown jqw01.ipynb', 'jupyter nbconvert --to markdown rm001js.ipynb', 'jupyter nbconvert --to markdown rm01js.ipynb', 'jupyter nbconvert --to markdown rm02js.ipynb', 'jupyter nbconvert --to markdown solid.ipynb', 'jupyter nbconvert --to markdown ud10.ipynb', 'jupyter nbconvert --to markdown Untitled.ipynb', 'jupyter nbconvert --to markdown Untitled1.ipynb', 'jupyter nbconvert --to markdown Untitled2.ipynb', 'jupyter nbconvert --to markdown Untitled3.ipynb', 'jupyter nbconvert --to markdown Untitled4.ipynb', 'jupyter nbconvert --to markdown Untitled5.ipynb', 'jupyter nbconvert --to markdown x02dict.ipynb', 'jupyter nbconvert --to markdown x03sw.ipynb', 'jupyter nbconvert --to markdown x04html.ipynb', 'jupyter nbconvert --to markdown x06bookmarks.ipynb', 'jupyter nbconvert --to markdown x07dict.ipynb', 'jupyter nbconvert --to markdown x08dict.ipynb', 'jupyter nbconvert --to markdown x09dict.ipynb', 'jupyter nbconvert --to markdown x22md.ipynb', 'jupyter nbconvert --to markdown с14angular.ipynb']\n"
     ]
    }
   ],
   "source": [
    "\n",
    "def mMakeMd():\n",
    "    l1 = mListDir(cwd = '.')\n",
    "    l2 = []\n",
    "    for v1 in l1:\n",
    "        s1 = f'jupyter nbconvert --to markdown {v1}'\n",
    "        l2.append(s1)\n",
    "#         print(v1)\n",
    "        pass\n",
    "    return l2    \n",
    "    \n",
    "l2 = mMakeMd()\n",
    "print(l2)"
   ]
  },
  {
   "cell_type": "code",
   "execution_count": null,
   "metadata": {},
   "outputs": [],
   "source": []
  },
  {
   "cell_type": "code",
   "execution_count": 1,
   "metadata": {},
   "outputs": [
    {
     "name": "stdout",
     "output_type": "stream",
     "text": [
      "\n"
     ]
    }
   ],
   "source": [
    "import subprocess\n",
    "\n",
    "a = subprocess.check_output('jupyter nbconvert --to markdown x07dict.ipynb', shell=True, text=True)\n",
    "print(a)\n"
   ]
  }
 ],
 "metadata": {
  "kernelspec": {
   "display_name": "Python 3",
   "language": "python",
   "name": "python3"
  },
  "language_info": {
   "codemirror_mode": {
    "name": "ipython",
    "version": 3
   },
   "file_extension": ".py",
   "mimetype": "text/x-python",
   "name": "python",
   "nbconvert_exporter": "python",
   "pygments_lexer": "ipython3",
   "version": "3.7.8"
  }
 },
 "nbformat": 4,
 "nbformat_minor": 2
}
