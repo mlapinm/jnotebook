{
 "cells": [
  {
   "cell_type": "markdown",
   "metadata": {},
   "source": []
  },
  {
   "cell_type": "markdown",
   "metadata": {},
   "source": [
    "### test"
   ]
  },
  {
   "cell_type": "code",
   "execution_count": 7,
   "metadata": {},
   "outputs": [
    {
     "ename": "KeyError",
     "evalue": "'text'",
     "output_type": "error",
     "traceback": [
      "\u001b[1;31m---------------------------------------------------------------------------\u001b[0m",
      "\u001b[1;31mKeyError\u001b[0m                                  Traceback (most recent call last)",
      "\u001b[1;32m<ipython-input-7-884f20e3f10c>\u001b[0m in \u001b[0;36m<module>\u001b[1;34m\u001b[0m\n\u001b[0;32m     19\u001b[0m \u001b[1;33m\u001b[0m\u001b[0m\n\u001b[0;32m     20\u001b[0m \u001b[0mvalue\u001b[0m \u001b[1;33m=\u001b[0m \u001b[1;34m'bad'\u001b[0m\u001b[1;33m\u001b[0m\u001b[1;33m\u001b[0m\u001b[0m\n\u001b[1;32m---> 21\u001b[1;33m \u001b[0mresult\u001b[0m \u001b[1;33m=\u001b[0m \u001b[0mtranslate\u001b[0m\u001b[1;33m(\u001b[0m\u001b[0mvalue\u001b[0m\u001b[1;33m)\u001b[0m\u001b[1;33m\u001b[0m\u001b[1;33m\u001b[0m\u001b[0m\n\u001b[0m\u001b[0;32m     22\u001b[0m \u001b[0mprint\u001b[0m\u001b[1;33m(\u001b[0m\u001b[0mvalue\u001b[0m\u001b[1;33m,\u001b[0m \u001b[0mresult\u001b[0m\u001b[1;33m)\u001b[0m\u001b[1;33m\u001b[0m\u001b[1;33m\u001b[0m\u001b[0m\n",
      "\u001b[1;32m<ipython-input-7-884f20e3f10c>\u001b[0m in \u001b[0;36mtranslate\u001b[1;34m(world)\u001b[0m\n\u001b[0;32m     15\u001b[0m \u001b[1;31m#     print(r)\u001b[0m\u001b[1;33m\u001b[0m\u001b[1;33m\u001b[0m\u001b[1;33m\u001b[0m\u001b[0m\n\u001b[0;32m     16\u001b[0m     \u001b[0manswer\u001b[0m \u001b[1;33m=\u001b[0m \u001b[0mjson\u001b[0m\u001b[1;33m.\u001b[0m\u001b[0mloads\u001b[0m\u001b[1;33m(\u001b[0m\u001b[0mr\u001b[0m\u001b[1;33m.\u001b[0m\u001b[0mtext\u001b[0m\u001b[1;33m)\u001b[0m\u001b[1;33m\u001b[0m\u001b[1;33m\u001b[0m\u001b[0m\n\u001b[1;32m---> 17\u001b[1;33m     \u001b[0mword\u001b[0m \u001b[1;33m=\u001b[0m \u001b[0manswer\u001b[0m\u001b[1;33m[\u001b[0m\u001b[1;34m'text'\u001b[0m\u001b[1;33m]\u001b[0m\u001b[1;33m[\u001b[0m\u001b[1;36m0\u001b[0m\u001b[1;33m]\u001b[0m \u001b[1;32mif\u001b[0m \u001b[0mlen\u001b[0m\u001b[1;33m(\u001b[0m\u001b[0manswer\u001b[0m\u001b[1;33m[\u001b[0m\u001b[1;34m'text'\u001b[0m\u001b[1;33m]\u001b[0m\u001b[1;33m)\u001b[0m\u001b[1;33m>\u001b[0m\u001b[1;36m0\u001b[0m \u001b[1;32melse\u001b[0m \u001b[1;34m''\u001b[0m\u001b[1;33m\u001b[0m\u001b[1;33m\u001b[0m\u001b[0m\n\u001b[0m\u001b[0;32m     18\u001b[0m     \u001b[1;32mreturn\u001b[0m \u001b[0mword\u001b[0m\u001b[1;33m\u001b[0m\u001b[1;33m\u001b[0m\u001b[0m\n\u001b[0;32m     19\u001b[0m \u001b[1;33m\u001b[0m\u001b[0m\n",
      "\u001b[1;31mKeyError\u001b[0m: 'text'"
     ]
    }
   ],
   "source": [
    "import os\n",
    "\n",
    "import requests\n",
    "import json\n",
    "\n",
    "def translate(world):\n",
    "    payload = {\n",
    "       'key': r'trnsl.1.1.20190909T123034Z.91e60547a2d5b3f5.bbf98325fde572ca3205b83b31a9034d9ff08f94',\n",
    "       'text':'additional',\n",
    "       'lang':'en-ru'\n",
    "    }\n",
    "    payload['text']=world\n",
    "    url = 'https://translate.yandex.net/api/v1.5/tr.json/translate'\n",
    "    r = requests.post(url, data=payload)\n",
    "#     print(r)\n",
    "    answer = json.loads(r.text)\n",
    "    word = answer['text'][0] if len(answer['text'])>0 else ''\n",
    "    return word\n",
    "\n",
    "value = 'bad'\n",
    "result = translate(value)\n",
    "print(value, result)\n"
   ]
  },
  {
   "cell_type": "markdown",
   "metadata": {},
   "source": [
    "### sentence"
   ]
  },
  {
   "cell_type": "code",
   "execution_count": 1,
   "metadata": {},
   "outputs": [
    {
     "name": "stdout",
     "output_type": "stream",
     "text": [
      "273 273\n"
     ]
    }
   ],
   "source": [
    "\n",
    "import re \n",
    "\n",
    "def smallLetter(s):\n",
    "# ```\n",
    "# 'aa'=>True, 'Aa'=>Fale\n",
    "# ```    \n",
    "    res = False\n",
    "    x = re.search(r'^[^A-Z]', s)\n",
    "#     print(x, s)\n",
    "    if x:\n",
    "      res = True\n",
    "    return res\n",
    "\n",
    "def toListSentence(s):\n",
    "    '''\n",
    "    'aa. bb. cc! dd.' => ['aa.', 'bb.', 'cc!', 'dd.']\n",
    "    '''\n",
    "    res = []\n",
    "    s = re.sub(r'\\.\\.\\.','---',s)\n",
    "    l = re.split(r'([\\.\\!\\?])[^\\\"]', s)\n",
    "    l2 = ['']\n",
    "    for i in l:\n",
    "       x = re.search(r'^[\\.\\!\\?]$', i)\n",
    "       if x:\n",
    "            l2[len(l2)-1] += i\n",
    "       else:\n",
    "            l2.append(i)\n",
    "    for i in l2:\n",
    "        s = i.strip()\n",
    "        s = re.sub(r'---','...',s)\n",
    "        if len(s)>0:\n",
    "            res.append(s)\n",
    "    return res\n",
    "\n",
    "def addStrCount(sall, num, sv):\n",
    "    '''\n",
    "    in sall[num] += sv\n",
    "    len(sall[num]) < max\n",
    "    return True if append\n",
    "    return False in not append\n",
    "    '''\n",
    "    max = 1600\n",
    "    if len(sall[num])+len(sv) < max:\n",
    "        sall[num] += f\"{sv}\\n\"\n",
    "        return True\n",
    "    else:\n",
    "        return False\n",
    "\n",
    "def mListRefact(lin, lout):\n",
    "    '''\n",
    "    ['1','2','3','4','5'] => ['12','34','5']\n",
    "    '''\n",
    "    lout.append('')\n",
    "    num = 0\n",
    "    for i,v in enumerate(lin):\n",
    "        res = addStrCount(lout, num, v)\n",
    "        if not res:\n",
    "            lout.append('')\n",
    "            num +=1\n",
    "            res = addStrCount(lout, num, v)\n",
    "            if not res:\n",
    "                break\n",
    "                \n",
    "def mListRefactBack(lin, lout):\n",
    "    for i,v in enumerate(lin):\n",
    "#        l = toListSentence(v)\n",
    "       l = v.split('\\n')\n",
    "       for v2 in l:\n",
    "            lout.append(v2)\n",
    "            \n",
    "            \n",
    "\n",
    "def translateList(lienVal, l2en, l2ru):\n",
    "    '''\n",
    "    lien => l2en, l2ru\n",
    "    '''\n",
    "    lien = []\n",
    "    mListRefact(lienVal, lien)\n",
    "    liru = []\n",
    "    for v in lien:\n",
    "        s = translate(v)\n",
    "        liru.append(s)\n",
    "###################################        \n",
    "#     print(11,lien)\n",
    "    mListRefactBack(lien, l2en)\n",
    "    mListRefactBack(liru, l2ru)\n",
    "\n",
    "def enru():\n",
    "\n",
    "    lien = []\n",
    "    with open(\"x02en.txt\", encoding=\"utf8\") as fileEn:\n",
    "        for i in fileEn:\n",
    "            lien.append(i.strip())\n",
    "\n",
    "\n",
    "    lien2 = []\n",
    "    lien2.append(lien[0])\n",
    "    for i in range(1,len(lien)):\n",
    "    #   print(lien2)  \n",
    "      if not smallLetter(lien[i]):  \n",
    "        lien2.append(lien[i])\n",
    "      else:\n",
    "        lien2[len(lien2)-1] += \" \" + lien[i]\n",
    "\n",
    "    lien3 = []\n",
    "    for i in lien2:\n",
    "        l = toListSentence(i)\n",
    "        for j in l:\n",
    "            lien3.append(j)\n",
    "\n",
    "    \n",
    "    \n",
    "#     liru2 = []        \n",
    "#     for i in lien3:\n",
    "#         s = translate(i)\n",
    "#         liru2.append(s)\n",
    "\n",
    "    lien4 = [] \n",
    "    liru2 = []\n",
    "    translateList(lien3, lien4, liru2)\n",
    "\n",
    "    with open(\"x02en.txt\", \"w\", encoding=\"utf8\") as fileEn:\n",
    "      fileEn.write('\\n'.join(lien3))   # lien4\n",
    "\n",
    "    with open(\"x02ru.txt\", \"w\", encoding=\"utf8\") as fileEn:\n",
    "      fileEn.write('\\n'.join(liru2))\n",
    "\n",
    "\n",
    "    print(len(lien), len(lien3))\n",
    "\n",
    "enru()\n",
    "    \n"
   ]
  },
  {
   "cell_type": "markdown",
   "metadata": {},
   "source": [
    "### dict"
   ]
  },
  {
   "cell_type": "code",
   "execution_count": 65,
   "metadata": {},
   "outputs": [
    {
     "name": "stdout",
     "output_type": "stream",
     "text": [
      "203 203\n"
     ]
    }
   ],
   "source": [
    "enru()\n",
    "lien = []\n",
    "with open(\"x02en.txt\", encoding=\"utf8\") as fileEn:\n",
    "    for i in fileEn:\n",
    "        lien.append(i.strip())\n",
    "liru = []\n",
    "with open(\"x02ru.txt\", encoding=\"utf8\") as fileRu:\n",
    "    for i in fileRu:\n",
    "        liru.append(i.strip())\n",
    "ltab = []\n",
    "\n",
    "ltab.append(\"_|_\") \n",
    "ltab.append(\"--|--\") \n",
    "\n",
    "if len(lien) == len(liru):\n",
    "#     print(len(lien), len(liru))\n",
    "    for i in range(len(lien)):\n",
    "        s = lien[i]\n",
    "        s += \"|\"\n",
    "        s += liru[i]\n",
    "        \n",
    "        ltab.append(s)\n",
    "\n",
    "s = \"\"\n",
    "for i in ltab:\n",
    "    s += i\n",
    "    s += \"\\n\"\n",
    "    \n",
    "with open(\"x02tab.md\",\"w\", encoding=\"utf8\") as fileTab:\n",
    "    fileTab.write(s)\n",
    "\n",
    "    \n",
    "# print(s)\n"
   ]
  },
  {
   "cell_type": "markdown",
   "metadata": {},
   "source": []
  },
  {
   "cell_type": "code",
   "execution_count": null,
   "metadata": {},
   "outputs": [],
   "source": []
  },
  {
   "cell_type": "code",
   "execution_count": null,
   "metadata": {},
   "outputs": [],
   "source": []
  }
 ],
 "metadata": {
  "kernelspec": {
   "display_name": "Python 3",
   "language": "python",
   "name": "python3"
  },
  "language_info": {
   "codemirror_mode": {
    "name": "ipython",
    "version": 3
   },
   "file_extension": ".py",
   "mimetype": "text/x-python",
   "name": "python",
   "nbconvert_exporter": "python",
   "pygments_lexer": "ipython3",
   "version": "3.7.8"
  }
 },
 "nbformat": 4,
 "nbformat_minor": 2
}
