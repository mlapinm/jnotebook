{
 "cells": [
  {
   "cell_type": "markdown",
   "metadata": {},
   "source": [
    "[codecademy Introduction to JavaScript](#codecademy-Introduction-to-JavaScript)  \n",
    "[Introduction to JavaScript](#Introduction-to-JavaScript)   \n",
    "[Замыкания](#Замыкания)   \n",
    "[javascript jupyter notebook](#javascript-jupyter-notebook)   \n",
    "[Топ 5 сайтов для изучения JavaScript](#Топ-5-сайтов-для-изучения-JavaScript)   \n",
    "[Introduction to JavaScript](#Introduction-to-JavaScript)   \n",
    "[Arithmetic Operators](#Arithmetic-Operators)   \n",
    "[String Concatenation](#String-Concatenation)   \n",
    "[Properties](#Properties)   \n",
    "[Methods](#Methods)   \n",
    "[Built-in Objects](#Built-in-Objects)   \n",
    "[Create a Variable: let](#Create-a-Variable:-let)   \n",
    "[Create a Variable: const](#Create-a-Variable:-const)   \n",
    "[Mathematical Assignment Operators](#Mathematical-Assignment-Operators)   \n",
    "[The Increment and Decrement Operator](#The-Increment-and-Decrement-Operator)   \n",
    "[String Concatenation with Variables](#String-Concatenation-with-Variables)   \n",
    "[String Interpolation](#String-Interpolation)   \n",
    "[typeof operator](#typeof-operator)   \n",
    "[The if keyword](#The-if-keyword)   \n",
    "[If Else Statements](#If-Else-Statements)   \n",
    "[Comparison Operators](#Comparison-Operators)   \n",
    "[Logical Operators](#Logical-Operators)   \n",
    "[Truthy and Falsy](#Truthy-and-Falsy)   \n",
    "[Truthy and Falsy Assignment](#Truthy-and-Falsy-Assignment)   \n",
    "[Ternary Operator](#Ternary-Operator)   \n",
    "[Else If Statements](#Else-If-Statements)   \n",
    "[The switch keyword](#The-switch-keyword)   \n",
    "[Function Declarations](#Function-Declarations)   \n",
    "[Calling a Function](#Calling-a-Function)   \n",
    "[Parameters and Arguments](#Parameters-and-Arguments)   \n",
    "[Default Parameters](#Default-Parameters)   \n",
    "[Return](#Return)   \n",
    "[Helper Functions](#Helper-Functions)   \n",
    "[Function Expressions](#Function-Expressions)   \n",
    "[Arrow Functions](#Arrow-Functions)   \n",
    "[Concise Body Arrow Functions](#Concise-Body-Arrow-Functions)   \n",
    "[Scope](#Scope)   \n",
    "[Global Scope](#Global-Scope)   \n",
    "[Block Scope](#Block-Scope)   \n",
    "[Scope Pollution](#Scope-Pollution)   \n",
    "[Practice Good Scoping](#Practice-Good-Scoping)   \n",
    "[Arrays](#Arrays)   \n",
    "[Create an Array](#Create-an-Array)   \n",
    "[Accessing Elements](#Accessing-Elements)   \n",
    "[Update Elements](#Update-Elements)   \n",
    "[Arrays with let and const](#Arrays-with-let-and-const)   \n",
    "[The push Method](#The-push-Method)   \n",
    "[The pop Method](#The-pop-Method)   \n",
    "[More Array Methods](#More-Array-Methods)   \n",
    "[Nested Arrays](#Nested-Arrays)   \n",
    "[Loops](#Loops)   \n",
    "[Repeating Tasks Manually](#Repeating-Tasks-Manually)   \n",
    "[The For Loop](#The-For-Loop)   \n",
    "[Looping in Reverse](#Looping-in-Reverse)   \n",
    "[Looping through Arrays](#Looping-through-Arrays)   \n",
    "[Nested Loops](#Nested-Loops)   \n",
    "[The While Loop](#The-While-Loop)   \n",
    "[Do While Statements](#Do-While-Statements)   \n",
    "[The break Keyword](#The-break-Keyword)   \n",
    "[Functions as Data](#Functions-as-Data)   \n",
    "[Functions as Parameters](#Functions-as-Parameters)   \n",
    "[Introduction to Iterators](#Introduction-to-Iterators)   \n",
    "[The map Method](#The-map-Method)   \n",
    "[The filter Method](#The-filter-Method)   \n",
    "[The findIndex Method](#The-findIndex-Method)   \n",
    "[The reduce Method](#The-reduce-Method)   \n",
    "[Iterator Documentation](#Iterator-Documentation)   \n",
    "[Choose the Right Iterator](#Choose-the-Right-Iterator)   \n",
    "[Creating Object Literals](#Creating-Object-Literals)   \n",
    "[Accessing Properties](#Accessing-Properties)   \n",
    "[Bracket Notation](#Bracket-Notation)   \n",
    "[Property Assignment](#Property-Assignment)   \n",
    "[Methods](#Methods)   \n",
    "[Nested Objects](#Nested-Objects)   \n",
    "[Pass By Reference](#Pass-By-Reference)   \n",
    "[Looping Through Objects](#Looping-Through-Objects)   \n",
    "[Advanced Objects Introduction](#Advanced-Objects-Introduction)   \n",
    "[Arrow Functions and this](#Arrow-Functions-and-this)   \n",
    "[Privacy](#Privacy)   \n",
    "[Getters](#Getters)   \n",
    "[Setters](#Setters)   \n",
    "[Factory Functions](#Factory-Functions)   \n",
    "[Property Value Shorthand](#Property-Value-Shorthand)   \n",
    "[Destructured Assignment](#Destructured-Assignment)   \n",
    "[Built-in Object Methods](#Built-in-Object-Methods)   \n",
    "[Introduction to Classes](#Introduction-to-Classes)   \n",
    "[Constructor](#Constructor)   \n",
    "[Instance](#Instance)   \n",
    "[Methods](#Methods)   \n",
    "[Method Calls](#Method-Calls)   \n",
    "[Inheritance II](#Inheritance-II)   \n",
    "[Inheritance III](#Inheritance-III)   \n",
    "[Inheritance IV](#Inheritance-IV)   \n",
    "[Inheritance V](#Inheritance-V)   \n",
    "[Static Methods](#Static-Methods)   \n",
    "[caniuse com I](#caniuse-com-I)   \n",
    "[Transpilation With Babel](#Transpilation-With-Babel)   \n",
    "[npm init](#npm-init)   \n",
    "[Install Node Packages](#Install-Node-Packages)   \n",
    "[Babel Source Lib](#Babel-Source-Lib)   \n",
    "[Build](#Build)   \n",
    "[Hello Modules](#Hello-Modules)   \n",
    "[module exports](#module-exports)   \n",
    "[require](#require)   \n",
    "[module exports II](#module-exports-II)   \n",
    "[export default](#export-default)   \n",
    "[import](#import)   \n",
    "[Named Exports](#Named-Exports)   \n",
    "[Named Imports](#Named-Imports)   \n",
    "[Export Named Exports](#Export-Named-Exports)   \n",
    "[Import Named Imports](#Import-Named-Imports)   \n",
    "[Export as](#Export-as)   \n",
    "[Import as](#Import-as)   \n",
    "[Combining Export Statements](#Combining-Export-Statements)   \n",
    "[Combining Import Statements](#Combining-Import-Statements)   \n",
    "[Promise Object](#Promise-Object)   \n",
    "[Consuming Promises](#Consuming-Promises)   \n",
    "[The onFulfilled and onRejected Functions](#The-onFulfilled-and-onRejected-Functions)   \n",
    "[footer](#footer) "
   ]
  },
  {
   "cell_type": "markdown",
   "metadata": {},
   "source": [
    "## codecademy Introduction to JavaScript\n",
    "[www.codecademy.com](https://www.codecademy.com/courses/learn-html/lessons/intro-to-html/exercises/intro?action=resume_content_item)\n",
    "\n",
    "## Замыкания"
   ]
  },
  {
   "cell_type": "code",
   "execution_count": 17,
   "metadata": {},
   "outputs": [
    {
     "data": {
      "application/javascript": [
       "//Замыкания\n",
       "function createCalcFunction(n){\n",
       "    return function(){\n",
       "        return n*1000;\n",
       "    }\n",
       "}\n",
       "const calc = createCalcFunction(42)\n",
       "element.text(calc())\n",
       "//element.text(calc)\n",
       "// element.text(createCalcFunction(42)())\n"
      ],
      "text/plain": [
       "<IPython.core.display.Javascript object>"
      ]
     },
     "metadata": {},
     "output_type": "display_data"
    }
   ],
   "source": [
    "%%javascript\n",
    "//Замыкания\n",
    "function createCalcFunction(n){\n",
    "    return function(){\n",
    "        return n*1000;\n",
    "    }\n",
    "}\n",
    "const calc = createCalcFunction(42)\n",
    "element.text(calc())\n",
    "//element.text(calc)\n",
    "// element.text(createCalcFunction(42)())\n"
   ]
  },
  {
   "cell_type": "markdown",
   "metadata": {},
   "source": [
    "[Introduction to JavaScript](#Introduction-to-JavaScript)  \n",
    "[](#)  \n"
   ]
  },
  {
   "cell_type": "code",
   "execution_count": 18,
   "metadata": {},
   "outputs": [
    {
     "data": {
      "application/javascript": [
       "var s = \" \"\n",
       "var x = '5'\n",
       "s+=typeof(x)\n",
       "s+=' '+x+' '\n",
       "x *=1\n",
       "s+=typeof(x)\n",
       "s+=' '+x+' '\n",
       "x = parseInt('5.3')\n",
       "s+=' '+x+' '\n",
       "\n",
       "s += \"x = '5'*1 \"\n",
       "s += typeof(x)\n",
       "element.text(s)\n"
      ],
      "text/plain": [
       "<IPython.core.display.Javascript object>"
      ]
     },
     "metadata": {},
     "output_type": "display_data"
    }
   ],
   "source": [
    "%%javascript\n",
    "var s = \" \"\n",
    "var x = '5'\n",
    "s+=typeof(x)\n",
    "s+=' '+x+' '\n",
    "x *=1\n",
    "s+=typeof(x)\n",
    "s+=' '+x+' '\n",
    "x = parseInt('5.3')\n",
    "s+=' '+x+' '\n",
    "\n",
    "s += \"x = '5'*1 \"\n",
    "s += typeof(x)\n",
    "element.text(s)"
   ]
  },
  {
   "cell_type": "code",
   "execution_count": 19,
   "metadata": {},
   "outputs": [
    {
     "data": {
      "application/javascript": [
       "var o = {0:'Guest', 1:0, 2:false}\n",
       "var s = ''\n",
       "for(var i=0;i in o; i++){\n",
       "s += i + \": \" + o[i] + '; '\n",
       "}\n",
       "element.text(s)\n"
      ],
      "text/plain": [
       "<IPython.core.display.Javascript object>"
      ]
     },
     "metadata": {},
     "output_type": "display_data"
    }
   ],
   "source": [
    "%%javascript\n",
    "var o = {0:'Guest', 1:0, 2:false}\n",
    "var s = ''\n",
    "for(var i=0;i in o; i++){\n",
    "s += i + \": \" + o[i] + '; '\n",
    "}\n",
    "element.text(s)"
   ]
  },
  {
   "cell_type": "code",
   "execution_count": 20,
   "metadata": {},
   "outputs": [
    {
     "data": {
      "application/javascript": [
       "function f(){\n",
       "    var s = ''\n",
       "    for(var p in navigator){\n",
       "        s += \" \" + p + \" --- \" + navigator[p] + \" -|- \"\n",
       "    }\n",
       "    element.text(s)\n",
       "}\n",
       "// f()\n"
      ],
      "text/plain": [
       "<IPython.core.display.Javascript object>"
      ]
     },
     "metadata": {},
     "output_type": "display_data"
    }
   ],
   "source": [
    "%%javascript\n",
    "function f(){\n",
    "    var s = ''\n",
    "    for(var p in navigator){\n",
    "        s += \" \" + p + \" --- \" + navigator[p] + \" -|- \"\n",
    "    }\n",
    "    element.text(s)\n",
    "}\n",
    "// f()"
   ]
  },
  {
   "cell_type": "markdown",
   "metadata": {},
   "source": [
    "[Regular Expressions: Using the Test Method](https://www.freecodecamp.org/learn/javascript-algorithms-and-data-structures/regular-expressions/using-the-test-method)  \n"
   ]
  },
  {
   "cell_type": "markdown",
   "metadata": {},
   "source": [
    "## javascript jupyter notebook"
   ]
  },
  {
   "cell_type": "code",
   "execution_count": 21,
   "metadata": {},
   "outputs": [
    {
     "data": {
      "application/javascript": [
       "let myString = \"Hello, World!\";\n",
       "let myRegex = /Hello/;\n",
       "let result = myRegex.test(myString); // Change this line\n",
       "element.text(result)\n"
      ],
      "text/plain": [
       "<IPython.core.display.Javascript object>"
      ]
     },
     "metadata": {},
     "output_type": "display_data"
    }
   ],
   "source": [
    "%%javascript\n",
    "let myString = \"Hello, World!\";\n",
    "let myRegex = /Hello/;\n",
    "let result = myRegex.test(myString); // Change this line\n",
    "element.text(result)"
   ]
  },
  {
   "cell_type": "markdown",
   "metadata": {},
   "source": [
    "## Топ 5 сайтов для изучения JavaScript"
   ]
  },
  {
   "cell_type": "markdown",
   "metadata": {},
   "source": [
    "\n",
    "[Топ 5 сайтов для изучения JavaScript](https://www.youtube.com/watch?v=PsWIKvBeQ4k&list=PLVfMKQXDAhGUaEtJ_fOUz0F7TJtidE7Qw&index=39)  \n",
    "[www.freecodecamp.org](https://www.freecodecamp.org/learn/javascript-algorithms-and-data-structures/regular-expressions/using-the-test-method)  \n",
    "[www.codecademy.com](https://www.codecademy.com/courses/learn-html/lessons/intro-to-html/exercises/intro?action=resume_content_item)  \n",
    "[www.codecademy.com](https://www.codecademy.com/courses/introduction-to-javascript/lessons/introduction-to-javascript/exercises/math-operators)  \n",
    "[]()  \n",
    "[]()  \n",
    "[]()  \n",
    "[]()  \n",
    "[]()  \n",
    "[developer.mozilla.org/en-US/docs/Web/JavaScript/Reference](https://developer.mozilla.org/en-US/docs/Web/JavaScript/Reference/Global_Objects/String)  \n"
   ]
  },
  {
   "cell_type": "markdown",
   "metadata": {},
   "source": [
    "### Introduction to JavaScript\n",
    "[Introduction to JavaScript](https://www.codecademy.com/learn/introduction-to-javascript)  "
   ]
  },
  {
   "cell_type": "markdown",
   "metadata": {},
   "source": [
    "#### Arithmetic Operators"
   ]
  },
  {
   "cell_type": "markdown",
   "metadata": {},
   "source": [
    "1.Inside of a console.log(), add 3.5 to your age.\n",
    "This is the age you’ll be when we start sending people to live on Mars.\n",
    "console.log(50+3.5)  \n",
    "53.5  \n"
   ]
  },
  {
   "cell_type": "markdown",
   "metadata": {},
   "source": [
    "2.On a new line write another console.log(). Inside the parentheses, take the current year and subtract 1969.  \n",
    "The answer is how many years it’s been since the 1969 moon landing.  \n"
   ]
  },
  {
   "cell_type": "markdown",
   "metadata": {},
   "source": [
    "3.Create another console.log(). Inside the parentheses divide 65 by 240."
   ]
  },
  {
   "cell_type": "markdown",
   "metadata": {},
   "source": [
    "4.Create one last console.log(). Inside the parentheses, multiply 0.2708 by 100.\n",
    "\n",
    "That’s the percent of the sun that is made up of helium. Assuming we could stand on the sun, we’d all sound like chipmunks!"
   ]
  },
  {
   "cell_type": "markdown",
   "metadata": {},
   "source": [
    "INTRODUCTION TO JAVASCRIPT\n",
    "#### String Concatenation"
   ]
  },
  {
   "cell_type": "markdown",
   "metadata": {},
   "source": [
    "1.Inside a console.log() statement, concatenate the two strings 'Hello' and 'World'.\n",
    "\n",
    "Note: You should concatenate the two strings exactly (without introducing any additional characters).\n"
   ]
  },
  {
   "cell_type": "markdown",
   "metadata": {},
   "source": [
    "2.We left off the space last time. Create a second console.log() statement in which you concatenate the strings 'Hello' and 'World', but this time make sure to also include a space (' ') between the two words."
   ]
  },
  {
   "cell_type": "markdown",
   "metadata": {},
   "source": [
    "INTRODUCTION TO JAVASCRIPT\n",
    "#### Properties"
   ]
  },
  {
   "cell_type": "markdown",
   "metadata": {},
   "source": [
    "1.Use the .length property to log the number of characters in the following string to the console:\n",
    "\n",
    "'Teaching the world how to code'  \n",
    "console.log('Teaching the world how to code'.length)"
   ]
  },
  {
   "cell_type": "markdown",
   "metadata": {},
   "source": [
    "INTRODUCTION TO JAVASCRIPT\n",
    "#### Methods"
   ]
  },
  {
   "cell_type": "markdown",
   "metadata": {},
   "source": [
    "2.In the second console.log() statement in app.js, we have a string ' Remove whitespace ' which has spaces before and after the words 'Remove whitespace'."
   ]
  },
  {
   "cell_type": "markdown",
   "metadata": {},
   "source": [
    "\n",
    "\n",
    "\n",
    "// Use .toUpperCase() to log 'Codecademy' in all uppercase letters\n",
    "console.log('Codecademy'.toUpperCase());\n",
    "\n",
    "// Use a string method to log the following string without whitespace at the beginning and end of it.\n",
    "console.log('    Remove whitespace   ');\n",
    "\n"
   ]
  },
  {
   "cell_type": "markdown",
   "metadata": {},
   "source": [
    "INTRODUCTION TO JAVASCRIPT\n",
    "#### Built-in Objects"
   ]
  },
  {
   "cell_type": "markdown",
   "metadata": {},
   "source": [
    "1.Inside of a console.log(), create a random number with Math.random(), then multiply it by 100."
   ]
  },
  {
   "cell_type": "markdown",
   "metadata": {},
   "source": [
    "console.log(Math.random()*100)"
   ]
  },
  {
   "cell_type": "markdown",
   "metadata": {},
   "source": [
    "2.Now, use Math.floor() to make the output a whole number.\n",
    "\n",
    "Inside the console.log you wrote in the last step, put Math.random() * 100 inside the parentheses of Math.floor()."
   ]
  },
  {
   "cell_type": "markdown",
   "metadata": {},
   "source": [
    "3.Find a method on the JavaScript Math object that returns the smallest integer greater than or equal to a decimal number.\n",
    "\n",
    "Use this method with the number 43.8. Log the answer to the console."
   ]
  },
  {
   "cell_type": "markdown",
   "metadata": {},
   "source": [
    "[Math](https://developer.mozilla.org/en-US/docs/Web/JavaScript/Reference/Global_Objects/Math)  \n"
   ]
  },
  {
   "cell_type": "markdown",
   "metadata": {},
   "source": [
    "Find a method on the JavaScript Math object that returns the smallest integer greater than or equal to a decimal number.\n",
    "\n",
    "Use this method with the number 43.8. Log the answer to the console."
   ]
  },
  {
   "cell_type": "markdown",
   "metadata": {},
   "source": [
    "```\n",
    "console.log(Math.random()*100)\n",
    "console.log(Math.floor(Math.random()*100))\n",
    "console.log(Math.floor(43.8))\n",
    "console.log(Math.ceil(43.8))\n",
    "console.log(Math.round(43.8))\n",
    "console.log(Number.isInteger(2017))\n",
    "```"
   ]
  },
  {
   "cell_type": "markdown",
   "metadata": {},
   "source": [
    "1.\n",
    "Declare a variable named favoriteFood using the var keyword and assign to it the string 'pizza'.\n",
    "\n",
    "2.\n",
    "Declare a variable named numOfSlices using the var keyword and assign to it the number 8.\n",
    "\n",
    "3.\n",
    "Under the numOfSlices variable, use console.log() to print the value saved to favoriteFood.\n",
    "\n",
    "On the following line, use console.log() to print the value saved to numOfSlices."
   ]
  },
  {
   "cell_type": "markdown",
   "metadata": {},
   "source": [
    "```\n",
    "var favoriteFood = 'pizza'\n",
    "var numOfSlices = 8\n",
    "console.log(favoriteFood)\n",
    "console.log(numOfSlices)\n",
    "```"
   ]
  },
  {
   "cell_type": "markdown",
   "metadata": {},
   "source": [
    "#### Create a Variable: let\n",
    "1.\n",
    "Create a let variable called `changeMe` and set it equal to the boolean `true`.\n",
    "\n",
    "2.\n",
    "On the line after changeMe is declared, set the value of `changeMe` to be the boolean `false`.\n",
    "\n",
    "To check if `changeMe` was reassigned, log the value saved to `changeMe` to the console."
   ]
  },
  {
   "cell_type": "markdown",
   "metadata": {},
   "source": [
    "```\n",
    "let changeMe = true\n",
    "changeMe = false\n",
    "if(!changeMe){\n",
    "  console.log(changeMe)\n",
    "}```"
   ]
  },
  {
   "cell_type": "markdown",
   "metadata": {},
   "source": [
    "#### Create a Variable: const"
   ]
  },
  {
   "cell_type": "markdown",
   "metadata": {},
   "source": [
    "1.\n",
    "Create a constant variable named `entree` and set it to equal to the string 'Enchiladas'.\n",
    "\n",
    "2.\n",
    "Just to check that you’ve saved the value of 'Enchiladas' to entree, log the value of entree to the console.\n",
    "\n",
    "3.\n",
    "Great, let’s see what happens if you try to reassign a constant variable.\n",
    "\n",
    "Paste the following code to the bottom of your program.\n",
    "\n",
    "entree = 'Tacos'\n",
    "This code throws the following error when you run your code:\n",
    "\n",
    "TypeError: Assignment to constant variable.\n",
    "After you clear this checkpoint, if you want to see about another quirk of const in action open the hint!"
   ]
  },
  {
   "cell_type": "markdown",
   "metadata": {},
   "source": [
    "```\n",
    "const entree = 'Enchiladas'\n",
    "if(entree == 'Enchiladas'){\n",
    "  console.log(entree)\n",
    "}\n",
    "entree = 'Tacos'\n",
    "```"
   ]
  },
  {
   "cell_type": "markdown",
   "metadata": {},
   "source": [
    "#### Mathematical Assignment Operators\n",
    "1.\n",
    "Use the += mathematical assignment operator to increase the value stored in `levelUp` by 5.\n",
    "\n",
    "2.\n",
    "Use the -= mathematical assignment operator to decrease the value stored in `powerLevel` by 100.\n",
    "\n",
    "3.\n",
    "Use the *= mathematical assignment operator to multiply the value stored in `multiplyMe` by 11.\n",
    "\n",
    "4.\n",
    "Use the /= mathematical assignment operator to divide the value stored in quarterMe by 4."
   ]
  },
  {
   "cell_type": "markdown",
   "metadata": {},
   "source": [
    "```\n",
    "let levelUp = 10;\n",
    "let powerLevel = 9001;\n",
    "let multiplyMe = 32;\n",
    "let quarterMe = 1152;\n",
    "\n",
    "// Use the mathematical assignments in the space below:\n",
    "\n",
    "\n",
    "levelUp += 5\n",
    "powerLevel -= 100\n",
    "multiplyMe *= 11\n",
    "quarterMe /=4\n",
    "\n",
    "// These console.log() statements below will help you check the values of the variables.\n",
    "// You do not need to edit these statements. \n",
    "console.log('The value of levelUp:', levelUp); \n",
    "console.log('The value of powerLevel:', powerLevel); \n",
    "console.log('The value of multiplyMe:', multiplyMe); \n",
    "console.log('The value of quarterMe:', quarterMe);\n",
    "```"
   ]
  },
  {
   "cell_type": "markdown",
   "metadata": {},
   "source": [
    "#### The Increment and Decrement Operator\n",
    "1.\n",
    "Using the increment operator, increase the value of gainedDollar.\n",
    "\n",
    "2.\n",
    "Using the decrement operator, decrease the value of lostDollar."
   ]
  },
  {
   "cell_type": "markdown",
   "metadata": {},
   "source": [
    "```\n",
    "let gainedDollar = 3;\n",
    "let lostDollar = 50;\n",
    "\n",
    "gainedDollar++;\n",
    "--lostDollar;\n",
    "```"
   ]
  },
  {
   "cell_type": "markdown",
   "metadata": {},
   "source": [
    "#### String Concatenation with Variables\n",
    "1.\n",
    "Create a variable named favoriteAnimal and set it equal to your favorite animal.\n",
    "\n",
    "2.\n",
    "Use console.log() to print 'My favorite animal: ANIMAL' to the console. Use string concatenation so that ANIMAL is replaced with the value in your favoriteAnimal variable."
   ]
  },
  {
   "cell_type": "markdown",
   "metadata": {},
   "source": [
    "```\n",
    "var favoriteAnimal = 'rabbit'\n",
    "console.log('My favorite animal: ' + favoriteAnimal);\n",
    "console.log(`My favorite animal: ${favoriteAnimal}`)\n",
    "```"
   ]
  },
  {
   "cell_type": "code",
   "execution_count": 22,
   "metadata": {},
   "outputs": [
    {
     "data": {
      "application/javascript": [
       "var name1 = \"Alex\";\n",
       "var str1 = \n",
       "  `Привет, ${name1}`;\n",
       "\n",
       "element.text(str1)\n"
      ],
      "text/plain": [
       "<IPython.core.display.Javascript object>"
      ]
     },
     "metadata": {},
     "output_type": "display_data"
    }
   ],
   "source": [
    "%%javascript\n",
    "var name1 = \"Alex\";\n",
    "var str1 = \n",
    "  `Привет, ${name1}`;\n",
    "\n",
    "element.text(str1)"
   ]
  },
  {
   "cell_type": "code",
   "execution_count": 23,
   "metadata": {},
   "outputs": [
    {
     "data": {
      "application/javascript": [
       "var fa = \"rabbit\";\n",
       "var str='My favorite animal: ${fa}';\n",
       "\n",
       "element.text(str)\n"
      ],
      "text/plain": [
       "<IPython.core.display.Javascript object>"
      ]
     },
     "metadata": {},
     "output_type": "display_data"
    }
   ],
   "source": [
    "%%javascript\n",
    "var fa = \"rabbit\";\n",
    "var str='My favorite animal: ${fa}';\n",
    "\n",
    "element.text(str)"
   ]
  },
  {
   "cell_type": "markdown",
   "metadata": {},
   "source": [
    "#### String Interpolation\n",
    "1.\n",
    "Create a variable called myName and assign it your name.\n",
    "\n",
    "2.\n",
    "Create a variable called myCity and assign it your favorite city’s name.\n",
    "\n",
    "3.\n",
    "Use a single template literal to interpolate your variables into the sentence below. Use console.log() to print your sentence to the console in the following format:\n",
    "\n",
    "My name is NAME. My favorite city is CITY.\n",
    "Replace NAME and CITY in the string above by interpolating the values saved to myName and myCity."
   ]
  },
  {
   "cell_type": "markdown",
   "metadata": {},
   "source": [
    "```\n",
    "var myName = \"Michael\"\n",
    "var myCity = \"London\"\n",
    "console.log(`My name is ${myName}. My favorite city is ${myCity}.`)\n",
    "```"
   ]
  },
  {
   "cell_type": "markdown",
   "metadata": {},
   "source": [
    "#### typeof operator\n",
    "1.\n",
    "Use console.log() to print the typeof newVariable.\n",
    "\n",
    "2.\n",
    "Great, now let’s check what happens if we reassign the variable. Below the console.log() statement, reassign newVariable to 1."
   ]
  },
  {
   "cell_type": "markdown",
   "metadata": {},
   "source": [
    "```\n",
    "let newVariable = 'Playing around with typeof.';\n",
    "console.log(typeof(newVariable))\n",
    "newVariable = 1\n",
    "console.log(typeof(newVariable))\n",
    "```"
   ]
  },
  {
   "cell_type": "markdown",
   "metadata": {},
   "source": [
    "#### The if keyword\n",
    "1.\n",
    "Using the let keyword, declare a variable named sale. Assign the value true to it.\n",
    "\n",
    "2.\n",
    "Now create an if statement. Provide the if statement a condition of sale. Inside the code block of the if statement, console.log() the string 'Time to buy!'.\n",
    "\n",
    "3.\n",
    "Notice that the code inside the if statement ran, since 'Time to buy!' was logged to the console.\n",
    "\n",
    "Below the sale variable declaration, but before the if statement, reassign sale to false. Run your code and observe what happens, we’ll be changing this behavior in the next exercise."
   ]
  },
  {
   "cell_type": "markdown",
   "metadata": {},
   "source": [
    "```\n",
    "let sale = true\n",
    "// sale = false\n",
    "if(sale){\n",
    "  console.log('Time to buy!')\n",
    "}\n",
    "```"
   ]
  },
  {
   "cell_type": "markdown",
   "metadata": {},
   "source": [
    "#### If Else Statements\n",
    "1.\n",
    "Add an else statement to the existing if statement. Inside the code block of the else statement, console.log() the string 'Time to wait for a sale.'\n"
   ]
  },
  {
   "cell_type": "markdown",
   "metadata": {},
   "source": [
    "#### Comparison Operators\n",
    "1.\n",
    "Using let, create a variable named `hungerLevel` and set it equal to `7`.\n",
    "\n",
    "2.\n",
    "Write an if...else statement using a comparison operator. The condition should check if hungerLevel is greater than 7. If so, the conditional statement should log, 'Time to eat!'. Otherwise, it should log 'We can eat later!'.\n",
    "\n",
    "After you press run, play around with the condition by tweaking the comparison of hungerLevel by using different operators such as <=,>=,>, and <."
   ]
  },
  {
   "cell_type": "markdown",
   "metadata": {},
   "source": [
    "```\n",
    "let hungerLevel = 7\n",
    "\n",
    "if(hungerLevel>7){\n",
    "  console.log(\"Time to eat!\")\n",
    "}else{\n",
    "  console.log(\"We can eat later!\")\n",
    "}```"
   ]
  },
  {
   "cell_type": "markdown",
   "metadata": {},
   "source": [
    "#### Logical Operators\n",
    "1.\n",
    "In main.js there are two variables `mood` and `tirednessLevel`.\n",
    "\n",
    "Let’s create an if...else statement that checks if `mood` is 'sleepy' and tirednessLevel is greater than 8.\n",
    "\n",
    "If both conditions evaluate to true, then console.log() the string 'time to sleep'. Otherwise, we should console.log() 'not bed time yet'.\n",
    "\n",
    "After you press “Run”, play around with the || operator and the ! operator! What happens if you negate the value of the entire statement with ! and switch to || instead of &&?"
   ]
  },
  {
   "cell_type": "markdown",
   "metadata": {},
   "source": [
    "\n",
    "\n",
    "if(mood =='leepy' && terednessLevel>8){\n",
    "    conslole.log('time to sleep')\n",
    "}"
   ]
  },
  {
   "cell_type": "markdown",
   "metadata": {},
   "source": [
    "#### Truthy and Falsy\n",
    "1.\n",
    "Change the value of wordCount so that it is truthy. This value should still be a number.\n",
    "\n",
    "After you make this change and run your code, 'Great! You've started your work!' should log to the console.\n",
    "\n",
    "2.\n",
    "Change the value of favoritePhrase so that it is still a string but falsy.\n",
    "\n",
    "After you make this change and run your code, 'This string is definitely empty.' should log to the console."
   ]
  },
  {
   "cell_type": "markdown",
   "metadata": {},
   "source": [
    "```\n",
    "let wordCount = 0;\n",
    "wordCount = 1;\n",
    "if (wordCount) {\n",
    "  console.log(\"Great! You've started your work!\");\n",
    "} else {\n",
    "  console.log('Better get to work!');\n",
    "}\n",
    "\n",
    "\n",
    "let favoritePhrase = 'Hello World!';\n",
    "favoritePhrase = '';\n",
    "if (favoritePhrase) {\n",
    "  console.log(\"This string doesn't seem to be empty.\");\n",
    "} else {\n",
    "  console.log('This string is definitely empty.');\n",
    "}\n",
    "```"
   ]
  },
  {
   "cell_type": "markdown",
   "metadata": {},
   "source": [
    "#### Truthy and Falsy Assignment"
   ]
  },
  {
   "cell_type": "markdown",
   "metadata": {},
   "source": [
    "Let’s use short-circuit evaluation to assign a value to writingUtensil. Do not edit tool yet, we’ll return to tool in the next step.\n",
    "\n",
    "Assign to writingUtensil the value of tool and if tool is falsy, assign a default value of 'pen'.\n",
    "\n",
    "2.\n",
    "Notice that text 'The pen is mightier than the sword' logged to the console. Which means the value of writingUtensil is 'pen'.\n",
    "\n",
    "What if we reassign the value of tool to 'marker'. Let’s see what happens to the value of writingUtensil."
   ]
  },
  {
   "cell_type": "markdown",
   "metadata": {},
   "source": [
    "```\n",
    "let tool = '';\n",
    "tool = 'marker'\n",
    "// Use short circuit evaluation to assign  writingUtensil variable below:\n",
    "let writingUtensil = tool || 'pen';\n",
    "\n",
    "console.log(`The ${writingUtensil} is mightier than the sword.`);\n",
    "```"
   ]
  },
  {
   "cell_type": "markdown",
   "metadata": {},
   "source": [
    "#### Ternary Operator\n",
    "1.\n",
    "Refactor, or edit, the first if...else block to use a ternary operator.\n",
    "\n",
    "2.\n",
    "Refactor the second if...else block to use a ternary operator.\n",
    "\n",
    "3.\n",
    "Refactor the third if...else block to use a ternary operator."
   ]
  },
  {
   "cell_type": "code",
   "execution_count": 24,
   "metadata": {},
   "outputs": [
    {
     "data": {
      "application/javascript": [
       "let isLocked = false;\n",
       "if (isLocked) {\n",
       "  element.text('You will need a key to open the door.');\n",
       "} else {\n",
       "  element.text('You will not need a key to open the door.');\n",
       "}\n"
      ],
      "text/plain": [
       "<IPython.core.display.Javascript object>"
      ]
     },
     "metadata": {},
     "output_type": "display_data"
    }
   ],
   "source": [
    "%%javascript\n",
    "let isLocked = false;\n",
    "if (isLocked) {\n",
    "  element.text('You will need a key to open the door.');\n",
    "} else {\n",
    "  element.text('You will not need a key to open the door.');\n",
    "}"
   ]
  },
  {
   "cell_type": "code",
   "execution_count": 25,
   "metadata": {},
   "outputs": [
    {
     "data": {
      "application/javascript": [
       "let isLocked = false;\n",
       "if (isLocked) {\n",
       "  element.text('You will need a key to open the door.');\n",
       "} else {\n",
       "  element.text('You will not need a key to open the door.');\n",
       "}\n",
       "let s = isLocked ? 'You will need a key to open the door.' : 'You will not need a key to open the door.'\n",
       "element.text(s)\n"
      ],
      "text/plain": [
       "<IPython.core.display.Javascript object>"
      ]
     },
     "metadata": {},
     "output_type": "display_data"
    }
   ],
   "source": [
    "%%javascript\n",
    "let isLocked = false;\n",
    "if (isLocked) {\n",
    "  element.text('You will need a key to open the door.');\n",
    "} else {\n",
    "  element.text('You will not need a key to open the door.');\n",
    "}\n",
    "let s = isLocked ? 'You will need a key to open the door.' : 'You will not need a key to open the door.'\n",
    "element.text(s)"
   ]
  },
  {
   "cell_type": "markdown",
   "metadata": {},
   "source": [
    "#### Else If Statements\n",
    "1.\n",
    "Let’s create a program that keeps track of the way the environment changes with the seasons. Write a conditional statement to make this happen!\n",
    "\n",
    "In main.js there is already an if...else statement in place. Let’s add an else if statement that checks if season is equal to 'winter'.\n",
    "\n",
    "Inside the code block of the else if statement, add a console.log() that prints the string 'It\\'s winter! Everything is covered in snow.'.\n",
    "\n",
    "2.\n",
    "Add another else if statement that checks if season is equal to 'fall'.\n",
    "\n",
    "Inside the code block of the else if statement you just created, add a console.log() that prints the string 'It\\'s fall! Leaves are falling!'."
   ]
  },
  {
   "cell_type": "markdown",
   "metadata": {},
   "source": [
    "```\n",
    "let season = 'summer';\n",
    "season = 'winter'\n",
    "if (season === 'spring') {\n",
    "  console.log('It\\'s spring! The trees are budding!');\n",
    "} else if(season === 'winter'){\n",
    " console.log('It\\'s winter! Everything is covered in snow.') \n",
    "}else if(season === 'fall'){\n",
    " console.log('It\\'s fall! Leaves are falling!') \n",
    "}else if(season === 'summer'){\n",
    " console.log('It\\'s sunny and warm because it\\'s summer!') \n",
    "}else {\n",
    "  console.log('Invalid season.');\n",
    "}\n",
    "```"
   ]
  },
  {
   "cell_type": "markdown",
   "metadata": {},
   "source": [
    "#### The switch keyword\n",
    "1.\n",
    "Let’s write a switch statement to decide what medal to award an athlete.\n",
    "\n",
    "`athleteFinalPosition` is already defined at the top of main.js. So start by writing a switch statement with `athleteFinalPosition` as its expression.\n",
    "\n",
    "2.\n",
    "Inside the switch statement, add three cases:\n",
    "\n",
    "The first case checks for the value 'first place'\n",
    "If the expression’s value matches the value of the case then console.log() the string 'You get the gold medal!'\n",
    "The second case checks for the value 'second place'\n",
    "If the expression’s value matches the value of the case then console.log() the string 'You get the silver medal!'\n",
    "The third case checks for the value 'third place'\n",
    "If the expression’s value matches the value of the case then console.log() the string 'You get the bronze medal!'\n",
    "Remember to add a break after each console.log()."
   ]
  },
  {
   "cell_type": "code",
   "execution_count": 26,
   "metadata": {},
   "outputs": [
    {
     "data": {
      "application/javascript": [
       "function consolelog(s){element.text(s)}\n",
       "let athleteFinalPosition = 'first place';\n",
       "switch (athleteFinalPosition){\n",
       "   case 'first place':\n",
       "       consolelog('You get the gold medal!')\n",
       "   break;\n",
       "   case 'second place':\n",
       "       consolelog('You get the silver medal!')\n",
       "   break;\n",
       "   case 'third place':\n",
       "       consolelog('You get the bronze medal!')\n",
       "   break;\n",
       "}\n"
      ],
      "text/plain": [
       "<IPython.core.display.Javascript object>"
      ]
     },
     "metadata": {},
     "output_type": "display_data"
    }
   ],
   "source": [
    "%%javascript\n",
    "function consolelog(s){element.text(s)}\n",
    "let athleteFinalPosition = 'first place';\n",
    "switch (athleteFinalPosition){\n",
    "   case 'first place':\n",
    "       consolelog('You get the gold medal!')\n",
    "   break;\n",
    "   case 'second place':\n",
    "       consolelog('You get the silver medal!')\n",
    "   break;\n",
    "   case 'third place':\n",
    "       consolelog('You get the bronze medal!')\n",
    "   break;\n",
    "}"
   ]
  },
  {
   "cell_type": "markdown",
   "metadata": {},
   "source": [
    "#### Function Declarations\n",
    "1.\n",
    "Let’s create a function that prints a reminder to the console. Using a function declaration, create a function called getReminder()."
   ]
  },
  {
   "cell_type": "markdown",
   "metadata": {},
   "source": [
    "```\n",
    "function getReminder(){\n",
    "  console.log('Water the plants.')\n",
    "}\n",
    "function greetInSpanish(){\n",
    "  console.log('Buenas Tardes.')\n",
    "}\n",
    "```"
   ]
  },
  {
   "cell_type": "markdown",
   "metadata": {},
   "source": [
    "#### Calling a Function\n",
    "1.\n",
    "Imagine that you manage an online store. When a customer places an order, you send them a thank you note. Let’s create a function to complete this task:\n",
    "\n",
    "Define a function called `sayThanks()` as a function declaration.\n",
    "In the function body of sayThanks(), add code such that the function writes the following thank you message to the console when called: 'Thank you for your purchase! We appreciate your business.'\n",
    "2.\n",
    "Call sayThanks() to view the thank you message in the console.\n",
    "\n",
    "3.\n",
    "Functions can be called as many times as you need them.\n",
    "\n",
    "Imagine that three customers placed an order and you wanted to send each of them a thank you message. Update your code to call sayThanks() three times."
   ]
  },
  {
   "cell_type": "code",
   "execution_count": 27,
   "metadata": {},
   "outputs": [
    {
     "data": {
      "application/javascript": [
       "function sayThanks(){\n",
       "   console.log('Thank you for your purchase! We appreciate your business.');\n",
       "}\n",
       "sayThanks()\n",
       "sayThanks()\n",
       "sayThanks()\n"
      ],
      "text/plain": [
       "<IPython.core.display.Javascript object>"
      ]
     },
     "metadata": {},
     "output_type": "display_data"
    }
   ],
   "source": [
    "%%javascript\n",
    "function sayThanks(){\n",
    "   console.log('Thank you for your purchase! We appreciate your business.');\n",
    "}\n",
    "sayThanks()\n",
    "sayThanks()\n",
    "sayThanks()\n"
   ]
  },
  {
   "cell_type": "markdown",
   "metadata": {},
   "source": [
    "#### Parameters and Arguments\n",
    "1.\n",
    "The sayThanks() function works well, but let’s add the customer’s name in the message.\n",
    "\n",
    "Add a parameter called name to the function declaration for sayThanks().\n",
    "\n",
    "2.\n",
    "With name as a parameter, it can be used as a variable in the function body of sayThanks().\n",
    "\n",
    "Using name and string concatenation, change the thank you message into the following:\n",
    "\n",
    "'Thank you for your purchase '+ name + '! We appreciate your business.'\n",
    "Copy and paste the above message into your code.\n",
    "\n",
    "3.\n",
    "A customer named Cole just purchased something from your online store. Call sayThanks() and pass 'Cole' as an argument to send Cole a personalized thank you message."
   ]
  },
  {
   "cell_type": "code",
   "execution_count": 28,
   "metadata": {},
   "outputs": [
    {
     "data": {
      "application/javascript": [
       "function sayThanks(name) {\n",
       "  console.log('Thank you for your purchase '+ name + '! We appreciate your business.');\n",
       "}\n",
       "sayThanks('Cole');\n"
      ],
      "text/plain": [
       "<IPython.core.display.Javascript object>"
      ]
     },
     "metadata": {},
     "output_type": "display_data"
    }
   ],
   "source": [
    "%%javascript\n",
    "function sayThanks(name) {\n",
    "  console.log('Thank you for your purchase '+ name + '! We appreciate your business.');\n",
    "}\n",
    "sayThanks('Cole');"
   ]
  },
  {
   "cell_type": "markdown",
   "metadata": {},
   "source": [
    "#### Default Parameters\n",
    "1.\n",
    "The function makeShoppingList() creates a shopping list based on the items that are passed to the function as arguments.\n",
    "\n",
    "Imagine that you always purchase milk, bread, and eggs every time you go shopping for groceries. To make creating a grocery list easier, let’s assign default values to the parameters in makeShoppingList().\n",
    "\n",
    "Change the parameters of makeShoppingList() into default parameters :\n",
    "\n",
    "Assign ‘milk’ as the default value of item1.\n",
    "Assign ‘bread’ as the default value of item2.\n",
    "Assign ‘eggs’ as the default value of item3."
   ]
  },
  {
   "cell_type": "code",
   "execution_count": 29,
   "metadata": {},
   "outputs": [
    {
     "ename": "SyntaxError",
     "evalue": "invalid syntax (<ipython-input-29-9ed7315f88a5>, line 1)",
     "output_type": "error",
     "traceback": [
      "\u001b[1;36m  File \u001b[1;32m\"<ipython-input-29-9ed7315f88a5>\"\u001b[1;36m, line \u001b[1;32m1\u001b[0m\n\u001b[1;33m    function makeShoppingList(item1='milk', item2='bread', item3='eggs'){\u001b[0m\n\u001b[1;37m                            ^\u001b[0m\n\u001b[1;31mSyntaxError\u001b[0m\u001b[1;31m:\u001b[0m invalid syntax\n"
     ]
    }
   ],
   "source": [
    "function makeShoppingList(item1='milk', item2='bread', item3='eggs'){\n",
    "  console.log(`Remember to buy ${item1}`);\n",
    "  console.log(`Remember to buy ${item2}`);\n",
    "  console.log(`Remember to buy ${item3}`);\n",
    "}"
   ]
  },
  {
   "cell_type": "markdown",
   "metadata": {},
   "source": [
    "#### Return\n",
    "1.\n",
    "Imagine if we needed to order monitors for everyone in an office and this office is conveniently arranged in a grid shape. We could use a function to help us calculate the number of monitors needed!\n",
    "\n",
    "Declare a function monitorCount() that has two parameters. The first parameter is rows and the second parameter is columns.\n",
    "\n",
    "2.\n",
    "Let’s compute the number of monitors by multiplying rows and columns and then returning the value.\n",
    "\n",
    "In the function body of the function you just wrote, use the return keyword to return rows * columns.\n",
    "\n",
    "3.\n",
    "Now that the function is defined, we can compute the number of monitors needed. Let’s say that the office has 5 rows and 4 columns.\n",
    "\n",
    "Declare a variable named numOfMonitors using the const keyword and assign numOfMonitors the value of invoking monitorCount() with the arguments 5 and 4.\n",
    "\n",
    "4.\n",
    "To check that the function worked properly, log numOfMonitors to the console."
   ]
  },
  {
   "cell_type": "code",
   "execution_count": null,
   "metadata": {},
   "outputs": [],
   "source": [
    "%%javascript\n",
    "function monitorCount(rows,columns){\n",
    "    return rows*columns;\n",
    "}\n",
    "\n",
    "const numOfMonitors = monitorCount(5,4);\n",
    "console.log(numOfMonitors);"
   ]
  },
  {
   "cell_type": "markdown",
   "metadata": {},
   "source": [
    "#### Helper Functions\n",
    "1.\n",
    "In the previous exercise, we created a function to find the number of monitors to order for an office. Now let’s write another function that uses the monitorCount function to figure out the price.\n",
    "\n",
    "Below monitorCount Create a function declaration named costOfMonitors that has two parameters, the first parameter is rows and the second parameter is columns. Leave the function body empty for now.\n",
    "\n",
    "2.\n",
    "Time to add some code to the function body of costOfMonitors to calculate the total cost.\n",
    "\n",
    "Add a return statement that returns the value of calling monitorCount(rows, columns) multiplied by 200.\n",
    "\n",
    "3.\n",
    "We should save the cost to a variable.\n",
    "\n",
    "Declare a variable named totalCost using the const keyword. Assign to totalCost the value of calling costOfMonitors() with the arguments 5 and 4 respectively.\n",
    "\n",
    "4.\n",
    "To check that the function worked properly, log totalCost to the console.\n",
    "\n"
   ]
  },
  {
   "cell_type": "code",
   "execution_count": null,
   "metadata": {},
   "outputs": [],
   "source": [
    "%%javascript\n",
    "function monitorCount(rows, columns) {\n",
    "  return rows * columns;\n",
    "}\n",
    "function costOfMonitors(rows, columns) {\n",
    "  return monitorCount(rows, columns)*200;\n",
    "}\n",
    "const totalCost = costOfMonitors(4,5)\n",
    "element.text(totalCost)"
   ]
  },
  {
   "cell_type": "markdown",
   "metadata": {},
   "source": [
    "#### Function Expressions\n",
    "1.\n",
    "Let’s say we have a plant that we need to water once a week on Wednesdays. We could define a function expression to help us check the day of the week and the plant needs to be watered:\n",
    "\n",
    "Create a variable named plantNeedsWater using the const variable keyword.\n",
    "Assign an anonymous function that takes in a parameter of day to plantNeedsWater.\n",
    "2.\n",
    "Now we need to add some code to the function body of plantNeedsWater():\n",
    "\n",
    "In the function body add an if conditional that checks day === 'Wednesday'.\n",
    "If the conditional is truthy, inside the if code block, use the return keyword to return true.\n",
    "3.\n",
    "On days that aren’t 'Wednesday', plantNeedsWater() should return false:\n",
    "\n",
    "Add an else statement after the if statement.\n",
    "Inside the else statement use the return keyword to return false.\n",
    "4.\n",
    "Call the plantNeedsWater() and pass in 'Tuesday' as an argument.\n",
    "\n",
    "5.\n",
    "Let’s check that plantNeedsWater() returned the expected value.\n",
    "\n",
    "Log plantNeedsWater('Tuesday') to the console. If it worked correctly, you should see false logged to the console."
   ]
  },
  {
   "cell_type": "code",
   "execution_count": null,
   "metadata": {},
   "outputs": [],
   "source": [
    "%%javascript\n",
    "const plantNeedsWater = function plantNeedsWater (day){\n",
    "    if(day === 'Wednesday'){\n",
    "        return true;\n",
    "    }else{\n",
    "        return false;\n",
    "    }\n",
    "}\n",
    " plantNeedsWater('Tuesday')\n",
    "console.log(plantNeedsWater('Tuesday'))"
   ]
  },
  {
   "cell_type": "markdown",
   "metadata": {},
   "source": [
    "%%javascript\n",
    "#### Arrow Functions\n",
    "1.\n",
    "Change plantNeedsWater() to use arrow function syntax."
   ]
  },
  {
   "cell_type": "code",
   "execution_count": null,
   "metadata": {},
   "outputs": [],
   "source": [
    "const plantNeedsWater = function(day) {\n",
    "  if (day === 'Wednesday') {\n",
    "    return true;\n",
    "  } else {\n",
    "    return false;\n",
    "  }\n",
    "};"
   ]
  },
  {
   "cell_type": "code",
   "execution_count": null,
   "metadata": {},
   "outputs": [],
   "source": [
    "const plantNeedsWater = (day) => {\n",
    "  if (day === 'Wednesday') {\n",
    "    return true;\n",
    "  } else {\n",
    "    return false;\n",
    "  }\n",
    "};"
   ]
  },
  {
   "cell_type": "markdown",
   "metadata": {},
   "source": [
    "#### Concise Body Arrow Functions\n",
    "Let’s refactor plantNeedsWater() to be a concise body. Notice that we’ve already converted the if/else statement to a ternary operator to make the code fit on one line."
   ]
  },
  {
   "cell_type": "code",
   "execution_count": null,
   "metadata": {},
   "outputs": [],
   "source": [
    "const plantNeedsWater = (day) => {\n",
    "  return day === 'Wednesday' ? true : false;\n",
    "};"
   ]
  },
  {
   "cell_type": "markdown",
   "metadata": {},
   "source": [
    "#### Concise Body Arrow Functions\n",
    "1.\n",
    "Let’s refactor plantNeedsWater() to be a concise body. Notice that we’ve already converted the if/else statement to a ternary operator to make the code fit on one line."
   ]
  },
  {
   "cell_type": "code",
   "execution_count": null,
   "metadata": {},
   "outputs": [],
   "source": [
    "const plantNeedsWater = day =>  day === 'Wednesday' ? true : false;"
   ]
  },
  {
   "cell_type": "markdown",
   "metadata": {},
   "source": [
    "#### Scope"
   ]
  },
  {
   "cell_type": "markdown",
   "metadata": {},
   "source": [
    "1.\n",
    "At the top of main.js, declare a const variable, named `city` set equal to 'New York City'. This variable will exist outside of the block.\n",
    "\n",
    "2.\n",
    "Below the city variable, write a function named logCitySkyline.\n",
    "\n",
    "3.\n",
    "Inside of the function body of logCitySkyline(), write another variable using let named skyscraper and set it equal to 'Empire State Building'."
   ]
  },
  {
   "cell_type": "code",
   "execution_count": null,
   "metadata": {},
   "outputs": [],
   "source": [
    "const city = \"New York City\"\n",
    "function logCitySkyline(){\n",
    " let skyscraper = 'Empire State Building';\n",
    "\n",
    "  return 'The stars over the ' + skyscraper + ' in ' + city;\n",
    "}\n",
    "console.log(logCitySkyline());\n"
   ]
  },
  {
   "cell_type": "markdown",
   "metadata": {},
   "source": [
    "#### Global Scope\n",
    "1.\n",
    "At the top of main.js, write three global variables:\n",
    "\n",
    "Name the first variable satellite and set it equal to 'The Moon'.\n",
    "Name the second variable galaxy and set it equal to 'The Milky Way'.\n",
    "Name the third variable stars and set it equal to 'North Star'.\n",
    "2.\n",
    "Below the variables created in the previous step, write a function named callMyNightSky. Inside the function, include a return statement like this:\n",
    "\n",
    "return 'Night Sky: ' + satellite + ', ' + stars + ', and ' + galaxy;"
   ]
  },
  {
   "cell_type": "code",
   "execution_count": null,
   "metadata": {},
   "outputs": [],
   "source": [
    "var satellite  = 'The Moon'\n",
    "var galaxy  = 'The Milky Way'\n",
    "var stars  = 'North Star'\n",
    "function callMyNightSky(){\n",
    "  return 'Night Sky: ' + satellite + ', ' + stars + ', and ' + galaxy;\n",
    "}\n",
    "console.log(callMyNightSky());\n"
   ]
  },
  {
   "cell_type": "markdown",
   "metadata": {},
   "source": [
    "#### Block Scope"
   ]
  },
  {
   "cell_type": "code",
   "execution_count": null,
   "metadata": {},
   "outputs": [],
   "source": [
    "function logVisibleLightWaves(){\n",
    " const lightWaves = 'Moonlight' \n",
    " console.log(lightWaves)\n",
    " }\n",
    "logVisibleLightWaves();\n",
    " console.log(lightWaves)\n"
   ]
  },
  {
   "cell_type": "markdown",
   "metadata": {},
   "source": [
    "#### Scope Pollution\n",
    "1.\n",
    "Let’s see what happens if we create a variable that overwrites a global variable.\n",
    "\n",
    "Inside the callMyNightSky() function, on the very first line of the function body, assign the variable stars to 'Sirius' as such:\n",
    "\n",
    "stars = 'Sirius';\n",
    "2.\n",
    "Outside the function, under the current console.log() statement, add another console.log() statement to log stars to the console.\n",
    "\n",
    "You’ll notice that the global variable stars was reassigned to 'Sirius'. In other words, we changed the value of the global stars variable but it’s not easy to read what exactly happened. This is bad practice in code maintainability and could impact our program in ways we do not intend.\n",
    "\n"
   ]
  },
  {
   "cell_type": "code",
   "execution_count": null,
   "metadata": {},
   "outputs": [],
   "source": [
    "const satellite = 'The Moon';\n",
    "const galaxy = 'The Milky Way';\n",
    "let stars = 'North Star';\n",
    "\n",
    "const callMyNightSky = () => {\n",
    "  stars = 'Sirius'\n",
    "\treturn 'Night Sky: ' + satellite + ', ' + stars + ', ' + galaxy;\n",
    "};\n",
    "\n",
    "console.log(callMyNightSky());\n",
    "console.log(stars)"
   ]
  },
  {
   "cell_type": "markdown",
   "metadata": {},
   "source": [
    "#### Practice Good Scoping"
   ]
  },
  {
   "cell_type": "markdown",
   "metadata": {},
   "source": [
    "Given the challenges with global variables and scope pollution, we should follow best practices for scoping our variables as tightly as possible using block scope.  \n",
    "Учитывая проблемы, связанные с глобальными переменными и загрязнением области, мы должны следовать лучшим практикам для определения области ваших переменных как можно более плотно, используя область блока.  "
   ]
  },
  {
   "cell_type": "code",
   "execution_count": null,
   "metadata": {},
   "outputs": [],
   "source": [
    "const logVisibleLightWaves = () => {\n",
    "  let lightWaves = 'Moonlight';\n",
    "\tlet region = 'The Arctic';\n",
    "  // Add if statement here:\n",
    "  if(region === 'The Arctic'){\n",
    "    let lightWaves = 'Northern Lights';\n",
    "  console.log(lightWaves);\n",
    "  }\n",
    "  console.log(lightWaves);\n",
    "};\n",
    "\n",
    "logVisibleLightWaves();"
   ]
  },
  {
   "cell_type": "markdown",
   "metadata": {},
   "source": [
    "#### Arrays"
   ]
  },
  {
   "cell_type": "code",
   "execution_count": null,
   "metadata": {},
   "outputs": [],
   "source": [
    "let newYearsResolutions = ['Keep a journal', 'Take a falconry class', 'Learn to juggle'];\n",
    "\n",
    "console.log(newYearsResolutions);"
   ]
  },
  {
   "cell_type": "markdown",
   "metadata": {},
   "source": [
    "#### Create an Array"
   ]
  },
  {
   "cell_type": "code",
   "execution_count": null,
   "metadata": {},
   "outputs": [],
   "source": [
    "const hobbies = ['fs','rollers','language']\n",
    "console.log(hobbies)"
   ]
  },
  {
   "cell_type": "markdown",
   "metadata": {},
   "source": [
    "#### Accessing Elements"
   ]
  },
  {
   "cell_type": "markdown",
   "metadata": {},
   "source": [
    "const famousSayings = ['Fortune favors the brave.', 'A joke is a very serious thing.', 'Where there is love there is life.'];\n",
    "var listItem = famousSayings[0];\n",
    "console.log(listItem);\n",
    "console.log(famousSayings[2])\n",
    "console.log(famousSayings[3])"
   ]
  },
  {
   "cell_type": "markdown",
   "metadata": {},
   "source": [
    "#### Update Elements"
   ]
  },
  {
   "cell_type": "code",
   "execution_count": null,
   "metadata": {},
   "outputs": [],
   "source": [
    "let groceryList = ['bread', 'tomatoes', 'milk'];\n",
    "groceryList[1] = 'avocados'\n"
   ]
  },
  {
   "cell_type": "markdown",
   "metadata": {},
   "source": [
    "#### Arrays with let and const"
   ]
  },
  {
   "cell_type": "code",
   "execution_count": null,
   "metadata": {},
   "outputs": [],
   "source": [
    "let condiments = ['Ketchup', 'Mustard', 'Soy Sauce', 'Sriracha'];\n",
    "\n",
    "const utensils = ['Fork', 'Knife', 'Chopsticks', 'Spork'];\n",
    "utensils[3]='Spoon';\n",
    "console.log(utensils)\n",
    "condiments=['Mayo']\n",
    "condiments[0]='Mayo'\n",
    "console.log(condiments)"
   ]
  },
  {
   "cell_type": "markdown",
   "metadata": {},
   "source": [
    "#### The .length property"
   ]
  },
  {
   "cell_type": "markdown",
   "metadata": {},
   "source": []
  },
  {
   "cell_type": "markdown",
   "metadata": {},
   "source": [
    "#### The push Method"
   ]
  },
  {
   "cell_type": "code",
   "execution_count": null,
   "metadata": {},
   "outputs": [],
   "source": [
    "const chores = ['wash dishes', 'do laundry', 'take out trash'];\n",
    "chores.push('vacuum','tidy up')\n",
    "console.log(chores)"
   ]
  },
  {
   "cell_type": "markdown",
   "metadata": {},
   "source": [
    "#### The pop Method"
   ]
  },
  {
   "cell_type": "code",
   "execution_count": null,
   "metadata": {},
   "outputs": [],
   "source": [
    "const chores = ['wash dishes', 'do laundry', 'take out trash', 'cook dinner', 'mop floor'];\n",
    "chores.pop()\n",
    "console.log(chores)"
   ]
  },
  {
   "cell_type": "markdown",
   "metadata": {},
   "source": [
    "#### More Array Methods"
   ]
  },
  {
   "cell_type": "code",
   "execution_count": null,
   "metadata": {},
   "outputs": [],
   "source": [
    "const groceryList = ['orange juice', 'bananas', 'coffee beans', 'brown rice', 'pasta', 'coconut oil', 'plantains'];\n",
    "groceryList.shift()\n",
    "groceryList.unshift('popcorn')\n",
    "console.log(groceryList)\n",
    "console.log(groceryList.slice(1,4))\n",
    "console.log(groceryList)\n",
    "const pastaIndex = groceryList.indexOf('pasta')\n",
    "console.log(pastaIndex)"
   ]
  },
  {
   "cell_type": "markdown",
   "metadata": {},
   "source": [
    "#### Arrays and Functions"
   ]
  },
  {
   "cell_type": "markdown",
   "metadata": {},
   "source": []
  },
  {
   "cell_type": "markdown",
   "metadata": {},
   "source": [
    "#### Nested Arrays"
   ]
  },
  {
   "cell_type": "code",
   "execution_count": null,
   "metadata": {},
   "outputs": [],
   "source": [
    "var numberClusters=[\n",
    "  [1,2],[3,4],[5,6]\n",
    "]\n",
    "const target = numberClusters[2][1]"
   ]
  },
  {
   "cell_type": "markdown",
   "metadata": {},
   "source": [
    "#### Loops\n",
    "#### Repeating Tasks Manually"
   ]
  },
  {
   "cell_type": "code",
   "execution_count": null,
   "metadata": {},
   "outputs": [],
   "source": [
    "%%javascript\n",
    "// Write your code below\n",
    "var vacationSpots =[\n",
    "  'London','Moscow',\"Greece\"\n",
    "]\n",
    "var s = ''\n",
    "vacationSpots.forEach(function(i){\n",
    "  s+=i+' '\n",
    "})\n",
    "element.text(s)"
   ]
  },
  {
   "cell_type": "code",
   "execution_count": null,
   "metadata": {},
   "outputs": [],
   "source": [
    "// Write your code below\n",
    "var vacationSpots =[\n",
    "  'London','Moscow',\"Greece\"\n",
    "]\n",
    "console.log(vacationSpots[0])\n",
    "console.log(vacationSpots[1])\n",
    "\n",
    "console.log(vacationSpots[2])\n",
    "for(var i=0;i<3;i++){\n",
    "console.log(vacationSpots[i])\n",
    "}"
   ]
  },
  {
   "cell_type": "markdown",
   "metadata": {},
   "source": [
    "#### The For Loop\n",
    "1.\n",
    "Now, make your own! Create a program that loops from 5 to 10 and logs each number to the console.\n",
    "\n"
   ]
  },
  {
   "cell_type": "code",
   "execution_count": null,
   "metadata": {},
   "outputs": [],
   "source": [
    "// Write your code below\n",
    "for(let i=5;i<11;i++){\n",
    "  console.log(i)\n",
    "}"
   ]
  },
  {
   "cell_type": "markdown",
   "metadata": {},
   "source": [
    "#### Looping in Reverse"
   ]
  },
  {
   "cell_type": "code",
   "execution_count": null,
   "metadata": {},
   "outputs": [],
   "source": [
    "// The loop below loops from 0 to 3. Edit it to loop backwards from 3 to 0\n",
    "for (let counter = 3; counter >= 0; counter--){\n",
    "  console.log(counter);\n",
    "}"
   ]
  },
  {
   "cell_type": "markdown",
   "metadata": {},
   "source": [
    "#### Looping through Arrays"
   ]
  },
  {
   "cell_type": "code",
   "execution_count": null,
   "metadata": {},
   "outputs": [],
   "source": [
    "const vacationSpots = ['Bali', 'Paris', 'Tulum'];\n",
    "\n",
    "// Write your code below\n",
    "for(let i=0;i<vacationSpots.length;i++){\n",
    "  console.log('I would love to visit ' + vacationSpots[i]);\n",
    "}"
   ]
  },
  {
   "cell_type": "markdown",
   "metadata": {},
   "source": [
    "#### Nested Loops\n"
   ]
  },
  {
   "cell_type": "code",
   "execution_count": null,
   "metadata": {},
   "outputs": [],
   "source": [
    "// Write your code below\n",
    "let bobsFollowers=['John','Michael','Peter','Vasya',] \n",
    "let tinasFollowers=['Zina','Peter','Vasya']\n",
    "mutualFollowers = []\n",
    "for(let i = 0;i<bobsFollowers.length;i++){\n",
    "  for(let j=0;j<tinasFollowers.length;j++){\n",
    "    if(bobsFollowers[i]===tinasFollowers[j]){\n",
    "      mutualFollowers.push(bobsFollowers[i])\n",
    "    }\n",
    "  }\n",
    "}"
   ]
  },
  {
   "cell_type": "markdown",
   "metadata": {},
   "source": [
    "#### The While Loop"
   ]
  },
  {
   "cell_type": "code",
   "execution_count": null,
   "metadata": {},
   "outputs": [],
   "source": [
    "const cards = ['diamond', 'spade', 'heart', 'club'];\n",
    "let currentCard;\n",
    "// Write your code below\n",
    "while(currentCard!=='spade'){\n",
    "currentCard = cards[Math.floor(Math.random() * 4)];\n",
    "  console.log(currentCard)\n",
    "}"
   ]
  },
  {
   "cell_type": "code",
   "execution_count": null,
   "metadata": {},
   "outputs": [],
   "source": [
    "%%javascript\n",
    "element.text(Math.floor(Math.random() * 4))"
   ]
  },
  {
   "cell_type": "markdown",
   "metadata": {},
   "source": [
    "#### Do While Statements"
   ]
  },
  {
   "cell_type": "code",
   "execution_count": null,
   "metadata": {},
   "outputs": [],
   "source": [
    "// Write your code below\n",
    "let cupsOfSugarNeeded=3\n",
    "let cupsAdded=0\n",
    "do{\n",
    "  cupsAdded++;\n",
    "} while (cupsAdded<cupsOfSugarNeeded)\n"
   ]
  },
  {
   "cell_type": "markdown",
   "metadata": {},
   "source": [
    "#### The break Keyword"
   ]
  },
  {
   "cell_type": "markdown",
   "metadata": {},
   "source": [
    "const rapperArray = [\"Lil' Kim\", \"Jay-Z\", \"Notorious B.I.G.\", \"Tupac\"];\n",
    "\n",
    "// Write your code below\n",
    "for(let i=0;i<rapperArray.length;i++){\n",
    "  console.log(rapperArray[i])\n",
    "  if(rapperArray[i]==='Notorious B.I.G.'){\n",
    "    break;\n",
    "  }\n",
    "}\n",
    "console.log(\"And if you don\\'t know, now you know.\")\n"
   ]
  },
  {
   "cell_type": "markdown",
   "metadata": {},
   "source": [
    "#### Functions as Data"
   ]
  },
  {
   "cell_type": "code",
   "execution_count": null,
   "metadata": {},
   "outputs": [],
   "source": [
    "const checkThatTwoPlusTwoEqualsFourAMillionTimes = () => {\n",
    "  for(let i = 1; i <= 1000000; i++) {\n",
    "    if ( (2 + 2) != 4) {\n",
    "      console.log('Something has gone very wrong :( ');\n",
    "    }\n",
    "  }\n",
    "}\n",
    "\n",
    "// Write your code below\n",
    "let is2p2 = checkThatTwoPlusTwoEqualsFourAMillionTimes;\n",
    "is2p2()\n",
    "console.log(is2p2.name)"
   ]
  },
  {
   "cell_type": "markdown",
   "metadata": {},
   "source": [
    "#### Functions as Parameters"
   ]
  },
  {
   "cell_type": "code",
   "execution_count": null,
   "metadata": {},
   "outputs": [],
   "source": [
    "%%javascript\n",
    "const checkThatTwoPlusTwoEqualsFourAMillionTimes = () => {\n",
    "  for(let i = 1; i <= 1000000; i++) {\n",
    "    if ( (2 + 2) != 4) {\n",
    "      console.log('Something has gone very wrong :( ');\n",
    "    }\n",
    "  }\n",
    "};\n",
    "\n",
    "const addTwo = num => num + 2;\n",
    "\n",
    "const timeFuncRuntime = funcParameter => {\n",
    "  let t1 = Date.now();\n",
    "  funcParameter();\n",
    "  let t2 = Date.now();\n",
    "  return t2 - t1;\n",
    "};\n",
    "\n",
    "// Write your code below\n",
    "let time2p2 = timeFuncRuntime(checkThatTwoPlusTwoEqualsFourAMillionTimes)\n",
    "function checkConsistentOutput(f,a){\n",
    "  let b =   f(a);\n",
    "  let c =   f(a);\n",
    "  if(b==c)\n",
    "    return b\n",
    "  else\n",
    "   return 'This function returned inconsistent results'\n",
    "}\n",
    "checkConsistentOutput(addTwo,4)\n"
   ]
  },
  {
   "cell_type": "markdown",
   "metadata": {},
   "source": [
    "Write a higher-order function, checkConsistentOutput(). This function should have two parameters: a function and a value. It should call the argument function with the value two times. If the callback function produces the same result twice, it should return the result of the function call, otherwise, it should return the string 'This function returned inconsistent results'"
   ]
  },
  {
   "cell_type": "markdown",
   "metadata": {},
   "source": [
    "Напишите функцию более высокого порядка, проверьте согласованность вывода(). Эта функция должна иметь два параметра: функцию и значение. Он должен вызывать функцию аргумента со значением два раза. Если функция обратного вызова дважды выдает один и тот же результат, она должна вернуть результат вызова функции, в противном случае она должна вернуть строку \"эта функция вернула несогласованные результаты\"."
   ]
  },
  {
   "cell_type": "markdown",
   "metadata": {},
   "source": [
    "#### Introduction to Iterators"
   ]
  },
  {
   "cell_type": "markdown",
   "metadata": {},
   "source": [
    ".forEach()\n",
    ".map()\n",
    ".filter()"
   ]
  },
  {
   "cell_type": "code",
   "execution_count": null,
   "metadata": {},
   "outputs": [],
   "source": [
    "const fruits = ['mango', 'papaya', 'pineapple', 'apple'];\n",
    "\n",
    "// Iterate over fruits below\n",
    "fruits.forEach(function (i){\n",
    "  console.log('I want to eat a ' + i)\n",
    "});"
   ]
  },
  {
   "cell_type": "markdown",
   "metadata": {},
   "source": [
    "#### The map Method"
   ]
  },
  {
   "cell_type": "code",
   "execution_count": null,
   "metadata": {},
   "outputs": [],
   "source": [
    "const animals = ['Hen', 'elephant', 'llama', 'leopard', 'ostrich', 'Whale', 'octopus', 'rabbit', 'lion', 'dog'];\n",
    "\n",
    "// Create the secretMessage array below\n",
    "\n",
    "const secretMessage = animals.map(function(animal){\n",
    "  return animal[0];\n",
    "})\n",
    "console.log(secretMessage.join(''));\n",
    "\n",
    "const bigNumbers = [100, 200, 300, 400, 500];\n",
    "\n",
    "// Create the smallNumbers array below\n",
    "const smallNumbers = bigNumbers.map(function(number){\n",
    "  return number/100;\n",
    "  \n",
    "})"
   ]
  },
  {
   "cell_type": "markdown",
   "metadata": {},
   "source": [
    "#### The filter Method"
   ]
  },
  {
   "cell_type": "markdown",
   "metadata": {},
   "source": [
    "const randomNumbers = [375, 200, 3.14, 7, 13, 852];\n",
    "\n",
    "// Call .filter() on randomNumbers below\n",
    "const smallNumbers = randomNumbers.filter(function(number){\n",
    "  return number<250\n",
    "})\n",
    "\n",
    "const favoriteWords = ['nostalgia', 'hyperbole', 'fervent', 'esoteric', 'serene'];\n",
    "\n",
    "\n",
    "// Call .filter() on favoriteWords below\n",
    "const longFavoriteWords = favoriteWords.filter(function(word){ \n",
    "  return word.length>7\n",
    "  \n",
    "})\n"
   ]
  },
  {
   "cell_type": "markdown",
   "metadata": {},
   "source": [
    "#### The findIndex Method"
   ]
  },
  {
   "cell_type": "code",
   "execution_count": null,
   "metadata": {},
   "outputs": [],
   "source": [
    "%%javascript\n",
    "const jumbledNums = [123, 25, 78, 5, 9]; \n",
    "\n",
    "const lessThanTen = jumbledNums.findIndex(num => {\n",
    "  return num < 10;\n",
    "});\n",
    "element.text(lessThanTen)"
   ]
  },
  {
   "cell_type": "code",
   "execution_count": null,
   "metadata": {},
   "outputs": [],
   "source": [
    "const animals = ['hippo', 'tiger', 'lion', 'seal', 'cheetah', 'monkey', 'salamander', 'elephant'];\n",
    "\n",
    "const foundAnimal = animals.findIndex(function(animal){\n",
    "  return animal==='elephant'\n",
    "})\n",
    "const startsWithS =\n",
    "animals.findIndex(function(animal){\n",
    "  return animal[0]==='s'\n",
    "})"
   ]
  },
  {
   "cell_type": "markdown",
   "metadata": {},
   "source": [
    "#### The reduce Method"
   ]
  },
  {
   "cell_type": "markdown",
   "metadata": {},
   "source": [
    "const newNumbers = [1, 3, 5, 7];\n",
    "const newSum = newNumbers.reduce(function(accumulator,currentValue){\n",
    "  console.log('The value of accumulator: ', accumulator);\n",
    "console.log('The value of currentValue: ', currentValue);\n",
    "  return  accumulator + currentValue;\n",
    "},10)\n",
    "console.log(newSum)"
   ]
  },
  {
   "cell_type": "markdown",
   "metadata": {},
   "source": [
    "#### Iterator Documentation"
   ]
  },
  {
   "cell_type": "code",
   "execution_count": null,
   "metadata": {},
   "outputs": [],
   "source": [
    "const words = ['unique', 'uncanny', 'pique', 'oxymoron', 'guise'];\n",
    "\n",
    "// Something is missing in the method call below\n",
    "\n",
    "console.log(words.some((word) => {\n",
    "  return word.length < 6;\n",
    "}));\n",
    "\n",
    "// Use filter to create a new array\n",
    "const interestingWords = words.filter(function(word){\n",
    "  return word.length>5\n",
    "})\n",
    "// Make sure to uncomment the code below and fix the incorrect code before running it\n",
    "\n",
    "console.log(interestingWords.every((word) => {return word.length>5 } ));\n"
   ]
  },
  {
   "cell_type": "markdown",
   "metadata": {},
   "source": [
    "#### Choose the Right Iterator"
   ]
  },
  {
   "cell_type": "code",
   "execution_count": null,
   "metadata": {},
   "outputs": [],
   "source": [
    "const cities = ['Orlando', 'Dubai', 'Edinburgh', 'Chennai', 'Accra', 'Denver', 'Eskisehir', 'Medellin', 'Yokohama'];\n",
    "\n",
    "const nums = [1, 50, 75, 200, 350, 525, 1000];\n",
    "\n",
    "//  Choose a method that will return undefined\n",
    "cities.forEach(city => console.log('Have you visited ' + city + '?')\n",
    "                   );\n",
    "\n",
    "// Choose a method that will return a new array\n",
    "const longCities = cities.filter(city => city.length > 7);\n",
    "\n",
    "// Choose a method that will return a single value\n",
    "const word = cities.reduce((acc, currVal) => {\n",
    "   return acc + currVal[0]\n",
    " }, \"C\");\n",
    "\n",
    " console.log(word)\n",
    "\n",
    " // Choose a method that will return a new array\n",
    "const smallerNums = nums.map(num => num - 5);\n",
    "\n",
    "// Choose a method that will return a boolean value\n",
    "nums.some(num => num < 0);\n"
   ]
  },
  {
   "cell_type": "markdown",
   "metadata": {},
   "source": [
    "#### Creating Object Literals"
   ]
  },
  {
   "cell_type": "code",
   "execution_count": null,
   "metadata": {},
   "outputs": [],
   "source": [
    "// Write your fasterShip object literal below\n",
    "let fasterShip  = {\n",
    "  'Fuel Type': 'Turbo Fuel',\n",
    "  color: 'silver'\n",
    "};"
   ]
  },
  {
   "cell_type": "markdown",
   "metadata": {},
   "source": [
    "#### Accessing Properties"
   ]
  },
  {
   "cell_type": "code",
   "execution_count": null,
   "metadata": {},
   "outputs": [],
   "source": [
    "let spaceship = {\n",
    "  homePlanet: 'Earth',\n",
    "  color: 'silver',\n",
    "  'Fuel Type': 'Turbo Fuel',\n",
    "  numCrew: 5,\n",
    "  flightPath: ['Venus', 'Mars', 'Saturn']\n",
    "};\n",
    "\n",
    "// Write your code below\n",
    "let crewCount = spaceship.numCrew \n",
    "let planetArray = spaceship.flightPath "
   ]
  },
  {
   "cell_type": "markdown",
   "metadata": {},
   "source": [
    "#### Bracket Notation"
   ]
  },
  {
   "cell_type": "code",
   "execution_count": null,
   "metadata": {},
   "outputs": [],
   "source": [
    "let spaceship = {\n",
    "  'Fuel Type' : 'Turbo Fuel',\n",
    "  'Active Mission' : true,\n",
    "  homePlanet : 'Earth', \n",
    "  numCrew: 5\n",
    " };\n",
    "\n",
    "let propName =  'Active Mission';\n",
    "\n",
    "// Write your code below\n",
    "let isActive = spaceship['Active Mission']\n",
    "console.log(spaceship['Active Mission'])"
   ]
  },
  {
   "cell_type": "markdown",
   "metadata": {},
   "source": [
    "#### Property Assignment"
   ]
  },
  {
   "cell_type": "code",
   "execution_count": null,
   "metadata": {},
   "outputs": [],
   "source": [
    "let spaceship = {\n",
    "  'Fuel Type' : 'Turbo Fuel',\n",
    "  homePlanet : 'Earth',\n",
    "  color: 'silver',\n",
    "  'Secret Mission' : 'Discover life outside of Earth.'\n",
    "};\n",
    "\n",
    "// Write your code below\n",
    "spaceship.color = 'glorious gold'\n",
    "spaceship.numEngines = 3\n",
    "delete spaceship['Secret Mission']"
   ]
  },
  {
   "cell_type": "markdown",
   "metadata": {},
   "source": [
    "#### Methods"
   ]
  },
  {
   "cell_type": "code",
   "execution_count": null,
   "metadata": {},
   "outputs": [],
   "source": [
    "let retreatMessage = 'We no longer wish to conquer your planet. It is full of dogs, which we do not care for.';\n",
    "\n",
    "// Write your code below\n",
    "let alienShip={\n",
    "  retreat(){\n",
    "    console.log(retreatMessage)\n",
    "  },\n",
    "  takeOff(){\n",
    "    console.log('Spim... Borp... Glix... Blastoff!')\n",
    "  }\n",
    "}\n",
    "alienShip.retreat()\n",
    "alienShip.takeOff()"
   ]
  },
  {
   "cell_type": "markdown",
   "metadata": {},
   "source": [
    "#### Nested Objects"
   ]
  },
  {
   "cell_type": "code",
   "execution_count": null,
   "metadata": {},
   "outputs": [],
   "source": [
    "let spaceship = {\n",
    "  passengers: null,\n",
    "  telescope: {\n",
    "    yearBuilt: 2018,\n",
    "    model: \"91031-XLT\",\n",
    "    focalLength: 2032 \n",
    "  },\n",
    "  crew: {\n",
    "    captain: { \n",
    "      name: 'Sandra', \n",
    "      degree: 'Computer Engineering', \n",
    "      encourageTeam() { console.log('We got this!') },\n",
    "     'favorite foods': ['cookies', 'cakes', 'candy', 'spinach'] }\n",
    "  },\n",
    "  engine: {\n",
    "    model: \"Nimbus2000\"\n",
    "  },\n",
    "  nanoelectronics: {\n",
    "    computer: {\n",
    "      terabytes: 100,\n",
    "      monitors: \"HD\"\n",
    "    },\n",
    "    'back-up': {\n",
    "      battery: \"Lithium\",\n",
    "      terabytes: 50\n",
    "    }\n",
    "  }\n",
    "}; \n",
    "let capFave = spaceship.crew.captain['favorite foods'][0]\n",
    "spaceship.passengers = [{name:'Michael'}]\n",
    "let firstPassenger = spaceship.passengers[0]"
   ]
  },
  {
   "cell_type": "markdown",
   "metadata": {},
   "source": [
    "#### Pass By Reference"
   ]
  },
  {
   "cell_type": "code",
   "execution_count": null,
   "metadata": {},
   "outputs": [],
   "source": [
    "let spaceship = {\n",
    "  'Fuel Type' : 'Turbo Fuel',\n",
    "  homePlanet : 'Earth'\n",
    "};\n",
    "\n",
    "// Write your code below\n",
    "function greenEnergy(obj){\n",
    "  obj['Fuel Type']='avocado oil'\n",
    "}\n",
    "function remotelyDisable(obj){\n",
    "  obj.disabled = true\n",
    "}\n",
    "greenEnergy(spaceship)\n",
    "remotelyDisable(spaceship)\n",
    "console.log(spaceship)"
   ]
  },
  {
   "cell_type": "markdown",
   "metadata": {},
   "source": [
    "#### Looping Through Objects"
   ]
  },
  {
   "cell_type": "code",
   "execution_count": null,
   "metadata": {},
   "outputs": [],
   "source": [
    "let spaceship = {\n",
    "    crew: {\n",
    "    captain: { \n",
    "        name: 'Lily', \n",
    "        degree: 'Computer Engineering', \n",
    "        cheerTeam() { console.log('You got this!') } \n",
    "        },\n",
    "    'chief officer': { \n",
    "        name: 'Dan', \n",
    "        degree: 'Aerospace Engineering', \n",
    "        agree() { console.log('I agree, captain!') } \n",
    "        },\n",
    "    medic: { \n",
    "        name: 'Clementine', \n",
    "        degree: 'Physics', \n",
    "        announce() { console.log(`Jets on!`) } },\n",
    "    translator: {\n",
    "        name: 'Shauna', \n",
    "        degree: 'Conservation Science', \n",
    "        powerFuel() { console.log('The tank is full!') } \n",
    "        }\n",
    "    }\n",
    "}; \n",
    "\n",
    "// Write your code below\n",
    "\n",
    "for (let crewMember in spaceship.crew) {\n",
    "  console.log(`${crewMember}: ${spaceship.crew[crewMember].name}`)\n",
    "};\n",
    "\n",
    "for (let crewMember in spaceship.crew) {\n",
    "  console.log(`${spaceship.crew[crewMember].name}: ${spaceship.crew[crewMember].degree}`)\n",
    "};"
   ]
  },
  {
   "cell_type": "markdown",
   "metadata": {},
   "source": [
    "#### Advanced Objects Introduction"
   ]
  },
  {
   "cell_type": "code",
   "execution_count": null,
   "metadata": {},
   "outputs": [],
   "source": [
    "const robot = {\n",
    "  model :'1E78V2',\n",
    "  energyLevel:100,\n",
    "  provideInfo(){\n",
    "    return `I am ${this.model} and my current energy level is ${this.energyLevel}. `;\n",
    "  }\n",
    "};\n",
    "console.log(robot.provideInfo())"
   ]
  },
  {
   "cell_type": "markdown",
   "metadata": {},
   "source": [
    "#### Arrow Functions and this"
   ]
  },
  {
   "cell_type": "code",
   "execution_count": null,
   "metadata": {},
   "outputs": [],
   "source": [
    "%%javascript\n",
    "\n",
    "\n",
    "const goat = {\n",
    "  dietType: 'herbivore',\n",
    "  makeSound() {\n",
    "    console.log('baaa');\n",
    "  },\n",
    "  diet: () => {\n",
    "    console.log(goat.dietType);\n",
    "  }\n",
    "};\n",
    "\n",
    "goat.diet();"
   ]
  },
  {
   "cell_type": "code",
   "execution_count": null,
   "metadata": {},
   "outputs": [],
   "source": [
    "const robot = {\n",
    "  energyLevel: 100,\n",
    "  checkEnergy(){\n",
    "    console.log(`Energy is currently at ${this.energyLevel}%.`)\n",
    "  }\n",
    "}\n",
    "\n",
    "robot.checkEnergy();"
   ]
  },
  {
   "cell_type": "markdown",
   "metadata": {},
   "source": [
    "#### Privacy"
   ]
  },
  {
   "cell_type": "code",
   "execution_count": null,
   "metadata": {},
   "outputs": [],
   "source": [
    "const robot = {\n",
    "  _energyLevel: 100,\n",
    "  recharge(){\n",
    "    this._energyLevel += 30;\n",
    "    console.log(`Recharged! Energy is currently at ${this._energyLevel}%.`)\n",
    "  }\n",
    "};\n",
    "//robot._energyLevel='high'\n",
    "robot.recharge()"
   ]
  },
  {
   "cell_type": "markdown",
   "metadata": {},
   "source": [
    "#### Getters"
   ]
  },
  {
   "cell_type": "code",
   "execution_count": null,
   "metadata": {},
   "outputs": [],
   "source": [
    "%%javascript\n",
    "const robot = {\n",
    "  _model: '1E78V2',\n",
    "  _energyLevel: 100,\n",
    "  get energyLevel(){\n",
    "    if(typeof(this._energyLevel)==='number'){\n",
    "      return `My current energy level is ${this._energyLevel}`\n",
    "    }else{\n",
    "      return 'System malfunction: cannot retrieve energy level'\n",
    "    }\n",
    "  }\n",
    "};\n",
    "console.log(robot.energyLevel)\n"
   ]
  },
  {
   "cell_type": "markdown",
   "metadata": {},
   "source": [
    "#### Setters"
   ]
  },
  {
   "cell_type": "code",
   "execution_count": null,
   "metadata": {},
   "outputs": [],
   "source": [
    "const robot = {\n",
    "  _model: '1E78V2',\n",
    "  _energyLevel: 100,\n",
    "  _numOfSensors: 15,\n",
    "  get numOfSensors(){\n",
    "    if(typeof this._numOfSensors === 'number'){\n",
    "      return this._numOfSensors;\n",
    "    } else {\n",
    "      return 'Sensors are currently down.'\n",
    "    }\n",
    "  },\n",
    "  set numOfSensors(num){\n",
    "    if(typeof(num)==='number' && num>=0){\n",
    "      this._numOfSensors = num;\n",
    "    }else{\n",
    "      console.log('Pass in a number that is greater than or equal to 0')\n",
    "    }\n",
    "  }\n",
    "  \n",
    "};\n",
    "robot.numOfSensors = 100;\n",
    "console.log(robot.numOfSensors)\n"
   ]
  },
  {
   "cell_type": "markdown",
   "metadata": {},
   "source": [
    "#### Factory Functions"
   ]
  },
  {
   "cell_type": "code",
   "execution_count": null,
   "metadata": {},
   "outputs": [],
   "source": [
    "const robotFactory = (model,mobile) => {\n",
    "  return {\n",
    "    model:model,\n",
    "    mobile:mobile,\n",
    "    beep(){console.log('Beep Boop')}\n",
    "    \n",
    "  }\n",
    "}\n",
    "const tinCan = robotFactory('P-500',true)\n",
    "tinCan.beep()"
   ]
  },
  {
   "cell_type": "markdown",
   "metadata": {},
   "source": [
    "#### Property Value Shorthand"
   ]
  },
  {
   "cell_type": "code",
   "execution_count": null,
   "metadata": {},
   "outputs": [],
   "source": [
    "function robotFactory(model, mobile){\n",
    "  return {\n",
    "    model,\n",
    "    mobile,\n",
    "    beep() {\n",
    "      console.log('Beep Boop');\n",
    "    }\n",
    "  }\n",
    "}"
   ]
  },
  {
   "cell_type": "markdown",
   "metadata": {},
   "source": [
    "#### Destructured Assignment"
   ]
  },
  {
   "cell_type": "code",
   "execution_count": null,
   "metadata": {},
   "outputs": [],
   "source": [
    "const robot = {\n",
    "  model: '1E78V2',\n",
    "  energyLevel: 100,\n",
    "  functionality: {\n",
    "    beep() {\n",
    "      console.log('Beep Boop');\n",
    "    },\n",
    "    fireLaser() {\n",
    "      console.log('Pew Pew');\n",
    "    },\n",
    "  }\n",
    "};\n",
    "const {functionality } = robot;\n",
    "functionality.beep()"
   ]
  },
  {
   "cell_type": "markdown",
   "metadata": {},
   "source": [
    "#### Built-in Object Methods"
   ]
  },
  {
   "cell_type": "code",
   "execution_count": null,
   "metadata": {},
   "outputs": [],
   "source": [
    "const robot = {\n",
    "\tmodel: 'SAL-1000',\n",
    "  mobile: true,\n",
    "  sentient: false,\n",
    "  armor: 'Steel-plated',\n",
    "  energyLevel: 75\n",
    "};\n",
    "\n",
    "// What is missing in the following method call?\n",
    "const robotKeys = Object.keys(robot);\n",
    "\n",
    "console.log(robotKeys);\n",
    "\n",
    "// Declare robotEntries below this line:\n",
    "const robotEntries = Object.entries(robot);\n",
    "\n",
    "\n",
    "console.log(robotEntries);\n",
    "\n",
    "// Declare newRobot below this line:\n",
    "const newRobot = {laserBlaster: true, voiceRecognition: true}\n",
    "Object.assign(newRobot,robot)\n",
    "console.log(newRobot);"
   ]
  },
  {
   "cell_type": "markdown",
   "metadata": {},
   "source": [
    "#### Introduction to Classes"
   ]
  },
  {
   "cell_type": "code",
   "execution_count": null,
   "metadata": {},
   "outputs": [],
   "source": [
    "class Dog {\n",
    "  constructor(name) {\n",
    "    this._name = name;\n",
    "    this._behavior = 0;\n",
    "  }\n",
    "\n",
    "  get name() {\n",
    "    return this._name;\n",
    "  }\n",
    "  get behavior() {\n",
    "    return this._behavior;\n",
    "  }   \n",
    "\n",
    "  incrementBehavior() {\n",
    "    this._behavior ++;\n",
    "  }\n",
    "}\n",
    "\n",
    "const halley = new Dog('Halley');\n",
    "console.log(halley.name); // Print name value to console\n",
    "console.log(halley.behavior); // Print behavior value to console\n",
    "halley.incrementBehavior(); // Add one to behavior\n",
    "console.log(halley.name); // Print name value to console\n",
    "console.log(halley.behavior); // Print behavior value to console"
   ]
  },
  {
   "cell_type": "markdown",
   "metadata": {},
   "source": [
    "#### Constructor"
   ]
  },
  {
   "cell_type": "code",
   "execution_count": null,
   "metadata": {},
   "outputs": [],
   "source": [
    "class Surgeon{\n",
    "  constructor(name,department){\n",
    "    this.name = name;\n",
    "    this.department = department;\n",
    "  }\n",
    "}"
   ]
  },
  {
   "cell_type": "markdown",
   "metadata": {},
   "source": [
    "#### Instance"
   ]
  },
  {
   "cell_type": "code",
   "execution_count": null,
   "metadata": {},
   "outputs": [],
   "source": [
    "class Surgeon {\n",
    "  constructor(name, department) {\n",
    "    this.name = name;\n",
    "    this.department = department;\n",
    "  }\n",
    "}\n",
    "const surgeonCurry = new Surgeon('Curry','Cardiovascular')\n",
    "const surgeonDurant = new Surgeon('Durant','Orthopedics')"
   ]
  },
  {
   "cell_type": "markdown",
   "metadata": {},
   "source": [
    "#### Methods"
   ]
  },
  {
   "cell_type": "code",
   "execution_count": null,
   "metadata": {},
   "outputs": [],
   "source": [
    "class Surgeon {\n",
    "  constructor(name, department) {\n",
    "    this._name = name;\n",
    "    this._department = department;\n",
    "    this._remainingVacationDays=20;\n",
    "  }\n",
    "  get name(){\n",
    "    return this._name;\n",
    "  }\n",
    "  get department(){\n",
    "    return this._department;\n",
    "  }\n",
    "  get remainingVacationDays(){\n",
    "    return this._remainingVacationDays;\n",
    "  }\n",
    "  takeVacationDays(daysOff ){\n",
    "    this._remainingVacationDays-=daysOff;\n",
    "  }\n",
    "}\n",
    "\n",
    "const surgeonCurry = new Surgeon('Curry', 'Cardiovascular');\n",
    "const surgeonDurant = new Surgeon('Durant', 'Orthopedics');"
   ]
  },
  {
   "cell_type": "markdown",
   "metadata": {},
   "source": [
    "#### Method Calls"
   ]
  },
  {
   "cell_type": "code",
   "execution_count": null,
   "metadata": {},
   "outputs": [],
   "source": [
    "class Surgeon {\n",
    "  constructor(name, department) {\n",
    "    this._name = name;\n",
    "    this._department = department;\n",
    "    this._remainingVacationDays=20;\n",
    "  }\n",
    "  get name(){\n",
    "    return this._name;\n",
    "  }\n",
    "  get department(){\n",
    "    return this._department;\n",
    "  }\n",
    "  get remainingVacationDays(){\n",
    "    return this._remainingVacationDays;\n",
    "  }\n",
    "  takeVacationDays(daysOff ){\n",
    "    this._remainingVacationDays-=daysOff;\n",
    "  }\n",
    "}\n",
    "\n",
    "const surgeonCurry = new Surgeon('Curry', 'Cardiovascular');\n",
    "const surgeonDurant = new Surgeon('Durant', 'Orthopedics');\n",
    "console.log(surgeonCurry.name)\n",
    "surgeonCurry.takeVacationDays(3)\n",
    "console.log(surgeonCurry.remainingVacationDays )"
   ]
  },
  {
   "cell_type": "markdown",
   "metadata": {},
   "source": [
    "#### Inheritance I\n",
    "#### Inheritance II"
   ]
  },
  {
   "cell_type": "code",
   "execution_count": null,
   "metadata": {},
   "outputs": [],
   "source": [
    "%%javascript\n",
    "class HospitalEmployee {\n",
    "  constructor(name){\n",
    "    this._name = name;\n",
    "    this._remainingVacationDays=20\n",
    "  }  \n",
    "      get name(){\n",
    "      return this._name;\n",
    "    }\n",
    "    get remainingVacationDays(){\n",
    "      return this._remainingVacationDays\n",
    "    }\n",
    "     takeVacationDays(daysOff){\n",
    "     this._remainingVacationDays-= daysOff \n",
    "     }\n",
    "}\n",
    "class Doctor extends \n",
    "  HospitalEmployee {\n",
    "\n",
    "\n",
    "\n",
    "    constructor(name){\n",
    "     this._name = name;     this._remainingVacationDays=20;\n",
    "      this._insurance;\n",
    "    }\n",
    "    get name(){\n",
    "      return this._name;\n",
    "    }\n",
    "    get remainingVacationDays(){\n",
    "      return this._remainingVacationDays\n",
    "    }\n",
    "     takeVacationDays(daysOff){\n",
    "     this._remainingVacationDays-= daysOff \n",
    "     }\n",
    "}\n",
    "class Nurse extends HospitalEmployee {\n",
    "\n",
    ";\n",
    "    constructor(name){\n",
    "    this._name = name;      this._remainingVacationDays=20;\n",
    "    this._certifications;  \n",
    "    }\n",
    "    get name(){\n",
    "      return this._name;\n",
    "    }\n",
    "    get remainingVacationDays(){\n",
    "      return this._remainingVacationDays\n",
    "    }\n",
    "     takeVacationDays(daysOff){\n",
    "     this._remainingVacationDays -= daysOff \n",
    "     }  \n",
    "}"
   ]
  },
  {
   "cell_type": "markdown",
   "metadata": {},
   "source": [
    "#### Inheritance III"
   ]
  },
  {
   "cell_type": "code",
   "execution_count": null,
   "metadata": {},
   "outputs": [],
   "source": [
    "class HospitalEmployee {\n",
    "  constructor(name) {\n",
    "    this._name = name;\n",
    "    this._remainingVacationDays = 20;\n",
    "  }\n",
    "  \n",
    "  get name() {\n",
    "    return this._name;\n",
    "  }\n",
    "  \n",
    "  get remainingVacationDays() {\n",
    "    return this._remainingVacationDays;\n",
    "  }\n",
    "  \n",
    "  takeVacationDays(daysOff) {\n",
    "    this._remainingVacationDays -= daysOff;\n",
    "  }\n",
    "}\n",
    "class Nurse extends HospitalEmployee{\n",
    "  constructor(name, certifications){\n",
    "   super(name) \n",
    "   this._certifications=certifications; \n",
    "  }\n",
    "}\n",
    "const nurseOlynyk = new Nurse('Olynyk',['Trauma', 'Pediatrics'])"
   ]
  },
  {
   "cell_type": "markdown",
   "metadata": {},
   "source": [
    "#### Inheritance IV"
   ]
  },
  {
   "cell_type": "code",
   "execution_count": null,
   "metadata": {},
   "outputs": [],
   "source": [
    "class HospitalEmployee {\n",
    "  constructor(name) {\n",
    "    this._name = name;\n",
    "    this._remainingVacationDays = 20;\n",
    "  }\n",
    "  \n",
    "  get name() {\n",
    "    return this._name;\n",
    "  }\n",
    "  \n",
    "  get remainingVacationDays() {\n",
    "    return this._remainingVacationDays;\n",
    "  }\n",
    "  \n",
    "  takeVacationDays(daysOff) {\n",
    "    this._remainingVacationDays -= daysOff;\n",
    "  }\n",
    "}\n",
    "\n",
    "class Nurse extends HospitalEmployee {\n",
    " constructor(name, certifications) {\n",
    "   super(name);\n",
    "   this._certifications = certifications;\n",
    " } \n",
    "}\n",
    "\n",
    "const nurseOlynyk = new Nurse('Olynyk', ['Trauma','Pediatrics']);\n",
    "nurseOlynyk.takeVacationDays(5);\n",
    "console.log(nurseOlynyk.remainingVacationDays)"
   ]
  },
  {
   "cell_type": "markdown",
   "metadata": {},
   "source": [
    "#### Inheritance V"
   ]
  },
  {
   "cell_type": "code",
   "execution_count": null,
   "metadata": {},
   "outputs": [],
   "source": [
    "class HospitalEmployee {\n",
    "  constructor(name) {\n",
    "    this._name = name;\n",
    "    this._remainingVacationDays = 20;\n",
    "  }\n",
    "  \n",
    "  get name() {\n",
    "    return this._name;\n",
    "  }\n",
    "  \n",
    "  get remainingVacationDays() {\n",
    "    return this._remainingVacationDays;\n",
    "  }\n",
    "  \n",
    "  takeVacationDays(daysOff) {\n",
    "    this._remainingVacationDays -= daysOff;\n",
    "  }\n",
    "}\n",
    "\n",
    "class Nurse extends HospitalEmployee {\n",
    "  constructor(name, certifications) {\n",
    "    super(name);\n",
    "    this._certifications = certifications;\n",
    "  } \n",
    "  get certifications(){\n",
    "    return this._certifications;\n",
    "  }\n",
    "  addCertification(newCertification){\n",
    "    this._certifications.push(newCertification)\n",
    "  }\n",
    "}\n",
    "\n",
    "const nurseOlynyk = new Nurse('Olynyk', ['Trauma','Pediatrics']);\n",
    "nurseOlynyk.takeVacationDays(5);\n",
    "console.log(nurseOlynyk.remainingVacationDays);\n",
    "nurseOlynyk.addCertification('Genetics')\n",
    "console.log(nurseOlynyk.certifications)"
   ]
  },
  {
   "cell_type": "markdown",
   "metadata": {},
   "source": [
    "#### Static Methods"
   ]
  },
  {
   "cell_type": "code",
   "execution_count": null,
   "metadata": {},
   "outputs": [],
   "source": [
    "  static generatePassword(){\n",
    "    return Math.floor(Math.random()*10000)\n",
    "  }"
   ]
  },
  {
   "cell_type": "markdown",
   "metadata": {},
   "source": [
    "#### caniuse com I\n",
    "[https://caniuse.com/](https://caniuse.com/)  \n",
    "[]()"
   ]
  },
  {
   "cell_type": "code",
   "execution_count": null,
   "metadata": {},
   "outputs": [],
   "source": [
    "var pasta = \"Spaghetti\"; // ES5 syntax\n",
    "\n",
    "const meat = \"Pancetta\"; // ES6 syntax\n",
    "\n",
    "let sauce = \"Eggs and cheese\"; // ES6 syntax\n",
    "\n",
    "// Template literals, like the one below, were introduced in ES6\n",
    "const carbonara = `You can make carbonara with ${pasta}, ${meat}, and a sauce made with ${sauce}.`;"
   ]
  },
  {
   "cell_type": "code",
   "execution_count": null,
   "metadata": {},
   "outputs": [],
   "source": [
    "// Set the variable below to a number\n",
    "let esFivePercentageSupport=98;\n",
    "\n",
    "// Set the variable below to a number\n",
    "let esSixTemplateLiterals=85;"
   ]
  },
  {
   "cell_type": "markdown",
   "metadata": {},
   "source": [
    "#### Why ES6?"
   ]
  },
  {
   "cell_type": "code",
   "execution_count": null,
   "metadata": {},
   "outputs": [],
   "source": [
    "var pasta = \"Spaghetti\"; // ES5 syntax\n",
    "\n",
    "var meat = \"Pancetta\"; // ES6 syntax\n",
    "\n",
    "var sauce = \"Eggs and cheese\"; // ES6 syntax\n",
    "\n",
    "// Template literals, like the one below, were introduced in ES6\n",
    "var carbonara = 'You can make carbonara with'+pasta+', '+'meat+', and a sauce made with ' + sauce;"
   ]
  },
  {
   "cell_type": "markdown",
   "metadata": {},
   "source": [
    "#### Transpilation With Babel"
   ]
  },
  {
   "cell_type": "markdown",
   "metadata": {},
   "source": [
    "1.\n",
    "In the terminal window type:\n",
    "\n",
    "npm install babel-cli\n",
    "This installs one of the two required Babel packages.\n",
    "\n",
    "2.\n",
    "In the terminal window type:\n",
    "\n",
    "npm install babel-preset-env\n",
    "This installs the second of two required Babel packages.\n",
    "\n",
    "3.\n",
    "In the terminal, type npm run build and press enter.\n",
    "\n",
    "You can view the ES5 code in ./lib/main.js.\n",
    "\n",
    "You may need to refresh to see the newly created lib directory.\n",
    "\n"
   ]
  },
  {
   "cell_type": "markdown",
   "metadata": {},
   "source": [
    "#### npm init"
   ]
  },
  {
   "cell_type": "markdown",
   "metadata": {},
   "source": [
    "1.\n",
    "Run ls in the terminal to see the file structure of your current directory.\n",
    "\n",
    "2.\n",
    "Use npm to create a new package.json file. We recommend you set the name and description properties to the following values:\n",
    "\n",
    "name — learning-babel\n",
    "description — Use Babel to transpile JavaScript ES6 to ES5\n",
    "Enter ls into the terminal to see the file structure of your current directory. Notice the addition of package.json.\n",
    "\n"
   ]
  },
  {
   "cell_type": "markdown",
   "metadata": {},
   "source": [
    "#### Install Node Packages"
   ]
  },
  {
   "cell_type": "markdown",
   "metadata": {},
   "source": [
    "```\n",
    "$ npm install babel-cli -D\n",
    "$ npm install babel-preset-env -D\n",
    "```"
   ]
  },
  {
   "cell_type": "markdown",
   "metadata": {},
   "source": [
    "#### .babelrc"
   ]
  },
  {
   "cell_type": "markdown",
   "metadata": {},
   "source": [
    "{ \"presets\": [\"env\"] }"
   ]
  },
  {
   "cell_type": "markdown",
   "metadata": {},
   "source": [
    "#### Babel Source Lib"
   ]
  },
  {
   "cell_type": "markdown",
   "metadata": {},
   "source": [
    "Babel Source Lib\n",
    "There’s one last step before we can transpile our code. We need to specify a script in package.json that initiates the ES6+ to ES5 transpilation.\n",
    "\n",
    "Inside of the package.json file, there is a property named \"scripts\" that holds an object for specifying command line shortcuts. It looks like this:\n",
    "\n",
    "...\n",
    "\"scripts\": {\n",
    "  \"test\": \"echo \\\"Error: no test specified\\\" && exit 1\"\n",
    "}, ...\n",
    "In the code above, the \"scripts\" property contains an object with one property called \"test\". Below the \"test\" property, we will add a script that runs Babel like this:\n",
    "```\n",
    "...\n",
    "\"scripts\": {\n",
    "  \"test\": \"echo \\\"Error: no test specified\\\" && exit 1\",\n",
    "  \"build\": \"babel src -d lib\"\n",
    "}\n",
    "```\n",
    "In the \"scripts\" object above, we add a property called \"build\". The property’s value, \"babel src -d lib\", is a command line method that transpiles ES6+ code to ES5. Let’s consider each argument in the method call:\n",
    "\n",
    "babel — The Babel command call responsible for transpiling code.  \n",
    "src — Instructs Babel to transpile all JavaScript code inside the src directory.  \n",
    "-d — Instructs Babel to write the transpiled code to a directory.  \n",
    "lib — Babel writes the transpiled code to a directory called lib.  \n",
    "In the next exercise, we’ll run the babel src -d lib method to transpile our ES6+ code.  \n",
    "\n",
    "Instructions\n",
    "1.\n",
    "In package.json, add a script called \"build\".\n",
    "\n",
    "When run, the \"build\" script should use Babel to transpile JavaScript code inside of the src folder and write it to a folder called lib.\n",
    "\n",
    "Don’t forget to add a comma after the “test” script."
   ]
  },
  {
   "cell_type": "markdown",
   "metadata": {},
   "source": [
    "package.json\n",
    "```\n",
    "{\n",
    "  \"name\": \"learning-babel\",\n",
    "  \"version\": \"1.0.0\",\n",
    "  \"description\": \"description — Use Babel to transpile JavaScript ES6 to ES5\",\n",
    "  \"main\": \"index.js\",\n",
    "  \"scripts\": {\n",
    "    \"test\": \"echo \\\"Error: no test specified\\\" && exit 1\"\n",
    "  },\n",
    "  \"author\": \"\",\n",
    "  \"license\": \"ISC\",\n",
    "  \"devDependencies\": {\n",
    "    \"babel-cli\": \"^6.26.0\",\n",
    "    \"babel-preset-env\": \"^1.7.0\"\n",
    "  }\n",
    "}\n",
    "```"
   ]
  },
  {
   "cell_type": "markdown",
   "metadata": {},
   "source": [
    "package.json\n",
    "```\n",
    "{\n",
    "  \"name\": \"learning-babel\",\n",
    "  \"version\": \"1.0.0\",\n",
    "  \"description\": \"description — Use Babel to transpile JavaScript ES6 to ES5\",\n",
    "  \"main\": \"index.js\",\n",
    "  \"scripts\": {\n",
    "    \"test\": \"echo \\\"Error: no test specified\\\" && exit 1\"\n",
    "  },\n",
    "  \"author\": \"\",\n",
    "  \"license\": \"ISC\",\n",
    "  \"devDependencies\": {\n",
    "    \"babel-cli\": \"^6.26.0\",\n",
    "    \"babel-preset-env\": \"^1.7.0\"\n",
    "  }\n",
    "}\n",
    "```"
   ]
  },
  {
   "cell_type": "markdown",
   "metadata": {},
   "source": [
    "#### Build\n",
    "We’re ready to transpile our code! In the last exercise, we wrote the following script in package.json:\n",
    "\n",
    "\"build\": \"babel src -d lib\"\n",
    "Now, we need to call \"build\" from the command line to transpile and write ES5 code to a directory called lib.\n",
    "\n",
    "From the command line, we type:\n",
    "\n",
    "`npm run build`  \n",
    "The command above runs the build script in package.json.\n",
    "\n",
    "Babel writes the ES5 code to a file named main.js (it’s always the same name as the original file), inside of a folder called lib. The resulting directory structure is:\n",
    "\n",
    "project\n",
    "|_ lib\n",
    "|___ main.js\n",
    "|_ node_modules\n",
    "|___ .bin\n",
    "|___ ...\n",
    "|_ src\n",
    "|___ main.js\n",
    "|_ .babelrc\n",
    "|_ package.json\n",
    "Notice, the directory contains a new folder named lib, with one file, called main.js.\n",
    "\n",
    "The npm run build command will transpile all JavaScript files inside of the src folder. This is helpful as you build larger JavaScript projects — regardless of the number of JavaScript files, you only need to run one command (npm run build) to transpile all of your code.\n",
    "\n",
    "Instructions\n",
    "1.\n",
    "Transpile the ES6+ code to lib using the build command.\n",
    "\n",
    "Once you’ve done this, navigate to the new lib folder and open main.js."
   ]
  },
  {
   "cell_type": "markdown",
   "metadata": {},
   "source": [
    "son data.\n",
    "npm ERR! package.json must be actu\n",
    "al JSON, not just JavaScript.\n",
    "npm ERR!\n",
    "npm ERR! This is not a bug in npm.\n",
    "npm ERR! Tell the package author t\n",
    "o fix their package.json file. JSO\n",
    "N.parse\n",
    "\n",
    "npm ERR! Please include the follow\n",
    "ing file with any support request:\n",
    "npm ERR!     /home/ccuser/.npm/_lo\n",
    "gs/2020-02-03T06_32_02_106Z-debug.\n",
    "log"
   ]
  },
  {
   "cell_type": "markdown",
   "metadata": {},
   "source": [
    "#### Hello Modules\n",
    "JavaScript modules are reusable pieces of code that can be exported from one program and imported for use in another program.\n",
    "\n",
    "Modules are particularly useful for a number of reasons. By separating code with similar logic into files called modules, we can:\n",
    "\n",
    "find, fix, and debug code more easily;\n",
    "reuse and recycle defined logic in different parts of our application;\n",
    "keep information private and protected from other modules;\n",
    "and, importantly, prevent pollution of the global namespace and potential naming collisions, by cautiously selecting variables and behavior we load into a program.\n",
    "In this lesson, we’ll cover two ways to implement modules in JavaScript: Node.js’s module.exports and require() syntax, as well as the ES6 import/export syntax.\n",
    "\n",
    "Instructions\n",
    "Once you feel like you have a high-level understanding of modules, proceed to the next exercise.\n",
    "\n",
    "Community Forums\n",
    "Here are some helpful links to the top questions asked by coders about this exercise:\n",
    "\n",
    "Why would I select specific variables/behavior to load into a program instead of defining said variables/behavior in the program itself?"
   ]
  },
  {
   "cell_type": "markdown",
   "metadata": {},
   "source": [
    "#### module exports\n",
    "We can get started with modules by defining a module in one file and making the module available for use in another file with Node.js module.exports syntax. Every JavaScript file run in Node has a local module object with an exports property used to define what should be exported from the file.\n",
    "\n",
    "Below is an example of how to define a module and how to export it using the statement module.exports.\n",
    "\n",
    "In menu.js we write:\n",
    "\n",
    "let Menu = {};\n",
    "Menu.specialty = \"Roasted Beet Burger with Mint Sauce\";\n",
    "\n",
    "module.exports = Menu; \n",
    "Let’s consider what this code means.\n",
    "\n",
    "let Menu = {}; creates the object that represents the module Menu. The statement contains an uppercase variable named Menu which is set equal to an empty object.\n",
    "Menu.specialty is defined as a property of the Menu module. We add data to the Menu object by setting properties on that object and giving the properties a value.\n",
    "\"Roasted Beet Burger with Mint Sauce\"; is the value stored in the Menu.specialty property.\n",
    "module.exports = Menu; exports the Menu object as a module. module is a variable that represents the module, and exports exposes the module as an object.\n",
    "The pattern we use to export modules is thus:\n",
    "\n",
    "Create an object to represent the module.\n",
    "Add properties or methods to the module object.\n",
    "Export the module with module.exports.\n",
    "Let’s create our first module.\n",
    "\n",
    "Instructions\n",
    "1.\n",
    "Let’s begin by implementing the pattern above in an example. In 1-airplane.js create an object named Airplane.\n",
    "\n",
    "2.\n",
    "Within the same file, add a property to the Airplane object named myAirplane and set it equal to \"StarJet\".\n",
    "\n",
    "3.\n",
    "Export the module."
   ]
  },
  {
   "cell_type": "code",
   "execution_count": null,
   "metadata": {},
   "outputs": [],
   "source": [
    "let Airplane ={}\n",
    "Airplane.myAirplane = \"StarJet\"\n",
    "module.exports=Airplane"
   ]
  },
  {
   "cell_type": "markdown",
   "metadata": {},
   "source": [
    "#### require\n",
    "To make use of the exported module and the behavior we define within it, we import the module into another file. In Node.js, use the require() function to import modules.\n",
    "\n",
    "For instance, say we want the module to control the menu’s data and behavior, and we want a separate file to handle placing an order. We would create a separate file order.js and import the Menu module from menu.js to order.js using require(). require() takes a file path argument pointing to the original module file.\n",
    "\n",
    "In order.js we would write:\n",
    "\n",
    "const Menu = require('./menu.js');\n",
    "\n",
    "function placeOrder() {\n",
    "  console.log('My order is: ' + Menu.specialty);\n",
    "}\n",
    "\n",
    "placeOrder();\n",
    "We now have the entire behavior of Menu available in order.js. Here, we notice:\n",
    "\n",
    "In order.js we import the module by creating a const variable called Menu and setting it equal to the value of the require() function. We can set the name of this variable to anything we like, such as menuItems.\n",
    "require() is a JavaScript function that loads a module. It’s argument is the file path of the module: ./menu.js. With require(), the .js extension is optional and will be assumed if it is not included.\n",
    "The placeOrder() function then uses the Menu module. By calling Menu.specialty, we access the property specialty defined in the Menu module.\n",
    "Taking a closer look, the pattern to import a module is:\n",
    "\n",
    "Import the module with require() and assign it to a local variable.\n",
    "Use the module and its properties within a program.\n",
    "Instructions\n",
    "1.\n",
    "In 1-missionControl.js use the require() function to import the Airplane module from 1-airplane.js.\n",
    "\n",
    "Recall that you will need to use the precise name of the file that contains the module.\n",
    "\n",
    "2.\n",
    "In 1-missionControl.js, define a function displayAirplane(). In the function, log the value of the module and its property to the console.\n",
    "\n",
    "3.\n",
    "Call the displayAirplane() function. In the console, you should see the name of the airplane you defined in the module."
   ]
  },
  {
   "cell_type": "code",
   "execution_count": null,
   "metadata": {},
   "outputs": [],
   "source": [
    "const Airplane = require('./1-airplane.js')\n",
    "function displayAirplane(){\n",
    "  console.log(Airplane.myAirplane)\n",
    "}\n",
    "displayAirplane()"
   ]
  },
  {
   "cell_type": "markdown",
   "metadata": {},
   "source": [
    "#### module exports II\n",
    "We can also wrap any collection of data and functions in an object, and export the object using module.exports. In menu.js, we could write:\n",
    "\n",
    "module.exports = {\n",
    "  specialty: \"Roasted Beet Burger with Mint Sauce\",\n",
    "  getSpecialty: function() {\n",
    "    return this.specialty;\n",
    "  } \n",
    "}; \n",
    "In the above code, notice:\n",
    "\n",
    "module.exports exposes the current module as an object.\n",
    "specialty and getSpecialty are properties on the object.\n",
    "Then in order.js, we write:\n",
    "\n",
    "const Menu = require('./menu.js');\n",
    "\n",
    "console.log(Menu.getSpecialty());\n",
    "Here we can still access the behavior in the Menu module.\n",
    "\n",
    "Instructions\n",
    "1.\n",
    "In 2-airplane.js, set module.exports equal to an empty object.\n",
    "\n",
    "2.\n",
    "Within the object, create a key called myAirplane and set it to a value \"CloudJet\".\n",
    "\n",
    "3.\n",
    "Again, within module.exports, create another key displayAirplane and set it to an anonymous function. The function should use the this statement to return myAirplane.\n",
    "\n",
    "4.\n",
    "In 2-missionControl.js use the require() function to import the Airplane module.\n",
    "\n",
    "5.\n",
    "In 2-missionControl.js log the result of calling .displayAirplane() to the console, noting that it is a method of the Airplane object."
   ]
  },
  {
   "cell_type": "code",
   "execution_count": null,
   "metadata": {},
   "outputs": [],
   "source": [
    "//2-airplane.js\n",
    "module.exports = { \n",
    "  myAirplane : \"CloudJet\",\n",
    "  displayAirplane: function(){\n",
    "    return this.myAirplane;\n",
    "  }\n",
    "};"
   ]
  },
  {
   "cell_type": "code",
   "execution_count": null,
   "metadata": {},
   "outputs": [],
   "source": [
    "//2-missionControl.js\n",
    "const Airplane = require('./2-airplane.js')\n",
    "console.log(Airplane.displayAirplane())"
   ]
  },
  {
   "cell_type": "markdown",
   "metadata": {},
   "source": [
    "#### export default\n",
    "Node.js supports require()/module.exports, but as of ES6, JavaScript supports a new more readable and flexible syntax for exporting modules. These are usually broken down into one of two techniques, default export and named exports.\n",
    "\n",
    "We’ll begin with the first syntax, default export. The default export syntax works similarly to the module.exports syntax, allowing us to export one module per file.\n",
    "\n",
    "Let’s look at an example in menu.js.\n",
    "\n",
    "let Menu = {};\n",
    "\n",
    "export default Menu;\n",
    "export default uses the JavaScript export statement to export JavaScript objects, functions, and primitive data types.\n",
    "Menu refers to the name of the Menu object, the object that we are setting the properties on within our modules.\n",
    "When using ES6 syntax, we use export default in place of module.exports. Node.js doesn’t support export default by default, so module.exports is usually used for Node.js development and ES6 syntax is used for front-end development. As with most ES6 features, it is common to transpile code since ES6 is not supported by all browsers.\n",
    "\n",
    "Instructions\n",
    "1.\n",
    "In airplane.js, let’s again create an Airplane module from scratch, this time exporting the module with export default. Create an object to represent the module called Airplane.\n",
    "\n",
    "2.\n",
    "Now that we have an object Airplane, we can continue by adding data in the form of properties and values to the Airplane module.\n",
    "\n",
    "Create an availableAirplanes variable and set it equal to an empty array. Be sure that availableAirplanes is a property of the Airplane object.\n",
    "\n",
    "3.\n",
    "In the availableAirplanes array, add two array elements that are both of type object.\n",
    "\n",
    "The first object should contain a property name with a value 'AeroJet' and a property fuelCapacity with a value of 800.\n",
    "\n",
    "The second object should have a property name with a value of SkyJet and a property fuelCapacity with a value of 500.\n",
    "\n",
    "4.\n",
    "Use export default to export the Airplane module.\n",
    "\n",
    "Nice work! We added a property that lists the availableAirplanes to the Airplane module."
   ]
  },
  {
   "cell_type": "code",
   "execution_count": null,
   "metadata": {},
   "outputs": [],
   "source": [
    "let Airplane = {\n",
    "  availableAirplanes:[\n",
    "    {name:'AeroJet',\n",
    "    fuelCapacity:800,},\n",
    "    {\n",
    "      name:'SkyJet',\n",
    "    fuelCapacity:500,}]\n",
    "};\n",
    "export default Airplane;"
   ]
  },
  {
   "cell_type": "markdown",
   "metadata": {},
   "source": [
    "#### import\n",
    "ES6 module syntax also introduces the import keyword for importing objects. In our order.js example, we import an object like this:\n",
    "\n",
    "import Menu from './menu';  \n",
    "The import keyword begins the statement.\n",
    "The keyword Menu here specifies the name of the variable to store the default export in.\n",
    "from specifies where to load the module from.\n",
    "'./menu' is the name of the module to load. When dealing with local files, it specifically refers to the name of the file without the extension of the file.\n",
    "We can then continue using the Menu module in the order.js file.\n",
    "\n",
    "Instructions\n",
    "1.\n",
    "In missionControl.js we’ll use the module Airplane to display the fuel capacity of both our airplanes.\n",
    "\n",
    "Use the import keyword to import the Airplane module.\n",
    "\n",
    "2.\n",
    "Define a function displayFuelCapacity().\n",
    "\n",
    "3.\n",
    "Within the body of the displayFuelCapacity function, use forEach() to iterate over the Airplane.availableAirplanes array.\n",
    "\n",
    "The forEach() should take an anonymous function as a parameter. We’ll add more in the next step.\n",
    "\n",
    "4.\n",
    "Pass the anonymous function you created in the last step a parameter of element.\n",
    "\n",
    "5.\n",
    "Within the displayFuelCapacity function, use console.log() to output the element’s name and its fuel capacity. The output should look like this:\n",
    "\n",
    "'Fuel Capacity of + (element name) : + (element fuelCapacity)'\n",
    "6.\n",
    "Call the displayFuelCapacity function."
   ]
  },
  {
   "cell_type": "code",
   "execution_count": null,
   "metadata": {},
   "outputs": [],
   "source": [
    "import Airplane from './airplane'\n",
    "function displayFuelCapacity(){\n",
    "  Airplane.availableAirplanes.forEach(function(element){\n",
    "    console.log('Fuel Capacity of ' + element.name + ': '+ element.fuelCapacity);\n",
    "  })\n",
    "}\n",
    "displayFuelCapacity()"
   ]
  },
  {
   "cell_type": "markdown",
   "metadata": {},
   "source": [
    "#### Named Exports\n",
    "ES6 introduced a second common approach to export modules. In addition to export default, named exports allow us to export data through the use of variables.\n",
    "\n",
    "Let’s see how this works. In menu.js we would be sure to give each piece of data a distinct variable name:\n",
    "\n",
    "let specialty = '';\n",
    "function isVegetarian() {\n",
    "}; \n",
    "function isLowSodium() {\n",
    "}; \n",
    "\n",
    "export { specialty, isVegetarian };\n",
    "Notice that, when we use named exports, we are not setting the properties on an object. Each export is stored in its own variable.\n",
    "specialty is a string object, while isVegetarian and isLowSodium are objects in the form of functions. Recall that in JavaScript, every function is in fact a function object.\n",
    "export { specialty, isVegetarian }; exports objects by their variable names. Notice the keyword export is the prefix.\n",
    "specialty and isVegetarian are exported, while isLowSodium is not exported, since it is not specified in the export syntax.\n",
    "Instructions\n",
    "1.\n",
    "Remove the statement that sets Airplane to an empty object, and remove the entire export default line.\n",
    "\n",
    "You will see an error in the console, but we’ll fix this in the next step.\n",
    "\n",
    "2.\n",
    "Modify the availableAirplanes array such that it is a variable defined with let and no longer a property on the Airplane object.\n",
    "\n",
    "3.\n",
    "Let’s add some more data to the availableAirplanes array.\n",
    "\n",
    "In the first object, AeroJet, add a property availableStaff, and set it equal to an array with the elements 'pilots', 'flightAttendants', 'engineers', 'medicalAssistance', and 'sensorOperators'.\n",
    "\n",
    "In the second object, SkyJet, add a property availableStaff, and set it equal to an array with the elements 'pilots' and 'flightAttendants'.\n",
    "\n",
    "4.\n",
    "Define a new variable with let named flightRequirements, and set it equal to an empty object.\n",
    "\n",
    "5.\n",
    "Within the flightRequirements object, add a property requiredStaff, and set this equal to 4.\n",
    "\n",
    "6.\n",
    "Define a function with the name meetsStaffRequirements() that takes availableStaff and requiredStaff as parameters.\n",
    "\n",
    "7.\n",
    "In the body of the meetsStaffRequirements() function, write logic to check if the length of the availableStaff array is greater than or equal to requiredStaff.\n",
    "\n",
    "The function should contain this logic:\n",
    "\n",
    "if length of availableStaff is greater than or equal to requiredStaff\n",
    "  return true\n",
    "else \n",
    "  return false \n",
    "8.\n",
    "Using the export keyword, export the variables availableAirplanes, flightRequirements and meetsStaffRequirements."
   ]
  },
  {
   "cell_type": "code",
   "execution_count": null,
   "metadata": {},
   "outputs": [],
   "source": [
    "let Airplane = {\n",
    "  availableAirplanes:[\n",
    "    {name:'AeroJet',\n",
    "    fuelCapacity:800,},\n",
    "    {\n",
    "      name:'SkyJet',\n",
    "    fuelCapacity:500,}]\n",
    "};\n",
    "export default Airplane;"
   ]
  },
  {
   "cell_type": "code",
   "execution_count": null,
   "metadata": {},
   "outputs": [],
   "source": [
    "{\n",
    "  let availableAirplanes=[\n",
    "    {name:'AeroJet',\n",
    "    fuelCapacity:800,\n",
    "    availableStaff:['pilots', 'flightAttendants', 'engineers', 'medicalAssistance',  'sensorOperators'\n",
    "    ],},\n",
    "    {\n",
    "      name:'SkyJet',\n",
    "    fuelCapacity:500,\n",
    "    availableStaff:[\n",
    "      'pilots',  'flightAttendants',\n",
    "    ],}]\n",
    "};\n",
    "let flightRequirements = {\n",
    "  requiredStaff : 4,\n",
    "}\n",
    "function meetsStaffRequirements(availableStaff, requiredStaff){\n",
    "  if(availableStaff.length >= requiredStaff){\n",
    "    return true\n",
    "  }else{\n",
    "    return false\n",
    "  }  \n",
    "}\n",
    "export {availableAirplanes, flightRequirements, meetsStaffRequirements,};"
   ]
  },
  {
   "cell_type": "markdown",
   "metadata": {},
   "source": [
    "#### Named Imports\n",
    "To import objects stored in a variable, we use the import keyword and include the variables in a set of {}.\n",
    "\n",
    "In the order.js file, for example, we would write:\n",
    "\n",
    "import { specialty, isVegetarian } from './menu';\n",
    "\n",
    "console.log(specialty);\n",
    "Here specialty and isVegetarian are imported.\n",
    "If we did not want to import either of these variables, we could omit them from the import statement.\n",
    "We can then use these objects as in within our code. For example, we would use specialty instead of Menu.specialty.\n",
    "Instructions\n",
    "1.\n",
    "Let’s remove any reference to Airplane in our code since we are no longer exporting this module.\n",
    "\n",
    "For example, Airplane.availableAirplanes should be modified to availableAirplanes.\n",
    "\n",
    "Again, you will see a ReferenceError in the console for now, but we will fix that in our next step.\n",
    "\n",
    "2.\n",
    "Change the import statement such that it imports the availableAirplanes, flightRequirements, and meetsStaffRequirements variables.\n",
    "\n",
    "Now, modify any instance of the Airplane.availableAirplanes variable, so that you only use availableAirplanes.\n",
    "\n",
    "3.\n",
    "Define a function displayStaffStatus().\n",
    "\n",
    "4.\n",
    "Within the body of the displayStaffStatus() function, use the forEach to iterate over the availableAirplanes array.\n",
    "\n",
    "Specifically, the forEach() should take a function as a parameter. The function should in turn take element as a parameter.\n",
    "\n",
    "5.\n",
    "Within the displayStaffStatus() function, use console.log() to output the element’s name. We’ll add more in the next step.\n",
    "\n",
    "6.\n",
    "Continuing within the displayStaffStatus() function, modify the console.log() statement to output\n",
    "\n",
    "(element name) + ' meets staff requirements: ' + (true/false)\n",
    "To do this, we can call the meetsStaffRequirements method, passing in two parameters element.availableStaff and flightRequirements.requiredStaff.\n",
    "\n",
    "7.\n",
    "Call the displayStaffStatus() function."
   ]
  },
  {
   "cell_type": "code",
   "execution_count": null,
   "metadata": {},
   "outputs": [],
   "source": [
    "import Airplane from './airplane'\n",
    "function displayFuelCapacity(){\n",
    "  Airplane.availableAirplanes.forEach(function(element){\n",
    "    console.log('Fuel Capacity of ' + element.name + ': '+ element.fuelCapacity);\n",
    "  })\n",
    "}\n",
    "displayFuelCapacity()"
   ]
  },
  {
   "cell_type": "markdown",
   "metadata": {},
   "source": [
    "meetsStaffRequirements(element.availableStaff, flightRequirements.requiredStaff)"
   ]
  },
  {
   "cell_type": "code",
   "execution_count": null,
   "metadata": {},
   "outputs": [],
   "source": [
    "import {availableAirplanes, flightRequirements, meetsStaffRequirements } from './airplane'\n",
    "function displayFuelCapacity(){\n",
    "  availableAirplanes.forEach(function(element){\n",
    "     console.log('Fuel Capacity of ' + element.name + ': '+ element.fuelCapacity);\n",
    "   })\n",
    "}\n",
    "function displayStaffStatus (){\n",
    "  availableAirplanes.forEach(function(element){\n",
    "console.log( element.name+ \n",
    "            ' meets staff requirements: ' + meetsStaffRequirements(element.availableStaff, flightRequirements.requiredStaff));\n",
    "  })\n",
    "}\n",
    "displayFuelCapacity()\n",
    "displayStaffStatus()"
   ]
  },
  {
   "cell_type": "markdown",
   "metadata": {},
   "source": [
    "Export Named Exports\n",
    "Named exports are also distinct in that they can be exported as soon as they are declared, by placing the keyword export in front of variable declarations.\n",
    "\n",
    "In menu.js\n",
    "\n",
    "export let specialty = '';\n",
    "export function isVegetarian() {\n",
    "}; \n",
    "function isLowSodium() {\n",
    "}; \n",
    "The export keyword allows us to export objects upon declaration, as shown in export let specialty and export function isVegetarian() {}.\n",
    "We no longer need an export statement at the bottom of our file, since this behavior is handled above.\n",
    "Instructions\n",
    "1.\n",
    "Let’s add some additional data to our airplane.js file.\n",
    "\n",
    "Continue by adding more data to objects within the availableAirplanes variable.\n",
    "\n",
    "To the first object AeroJet, add a property maxSpeed with a value of 1200 and a property minSpeed with a value of 300.\n",
    "\n",
    "To the second object SkyJet, add a property maxSpeed with a value of 800 and a property minSpeed with a value of 200.\n",
    "\n",
    "2.\n",
    "Within the flightRequirements object, add a property requiredSpeedRange and set this equal to 700.\n",
    "\n",
    "3.\n",
    "Continuing with the same file, add a new function meetsSpeedRangeRequirements() that takes three arguments maxSpeed, minSpeed and requiredSpeedRange.\n",
    "\n",
    "4.\n",
    "Within the meetsSpeedRangeRequirements function, create a variable range, and set it to the difference between maxSpeed and minSpeed.\n",
    "\n",
    "5.\n",
    "In the body of the meetsSpeedRangeRequirements() function, create logic to check if the range is greater than the requiredSpeedRange.\n",
    "\n",
    "The function should contain this logic:\n",
    "\n",
    "if the `range` is greater than the `requiredSpeedRange`\n",
    "  return true\n",
    "else \n",
    "  return false \n",
    "6.\n",
    "Use export to export the variables as soon as they are declared, and remove the export statement at the bottom of the file."
   ]
  },
  {
   "cell_type": "markdown",
   "metadata": {},
   "source": [
    "#### Export Named Exports"
   ]
  },
  {
   "cell_type": "code",
   "execution_count": null,
   "metadata": {},
   "outputs": [],
   "source": [
    " let availableAirplanes=[\n",
    "    {name:'AeroJet',\n",
    "    fuelCapacity:800,\n",
    "    availableStaff:['pilots', 'flightAttendants', 'engineers', 'medicalAssistance',  'sensorOperators'\n",
    "    ],},\n",
    "    {\n",
    "      name:'SkyJet',\n",
    "    fuelCapacity:500,\n",
    "    availableStaff:[\n",
    "      'pilots',  'flightAttendants',\n",
    "    ],}]\n",
    "\n",
    "let flightRequirements = {\n",
    "  requiredStaff : 4,\n",
    "}\n",
    "function meetsStaffRequirements(availableStaff, requiredStaff){\n",
    "  if(availableStaff.length >= requiredStaff){\n",
    "    return true\n",
    "  }else{\n",
    "    return false\n",
    "  }  \n",
    "}\n",
    "export {availableAirplanes, flightRequirements, meetsStaffRequirements,};"
   ]
  },
  {
   "cell_type": "code",
   "execution_count": null,
   "metadata": {},
   "outputs": [],
   "source": [
    "\n",
    " export let availableAirplanes=[\n",
    "    {name:'AeroJet',\n",
    "    fuelCapacity:800,\n",
    "    availableStaff:['pilots', 'flightAttendants', 'engineers', 'medicalAssistance',  'sensorOperators'\n",
    "    ],\n",
    "     maxSpeed:1200,\n",
    "     minSpeed:300,\n",
    "    },\n",
    "    {\n",
    "      name:'SkyJet',\n",
    "    fuelCapacity:500,\n",
    "    availableStaff:[\n",
    "      'pilots',  'flightAttendants',\n",
    "    ],\n",
    "     maxSpeed:800,\n",
    "     minSpeed:200,\n",
    "    }]\n",
    "\n",
    "export let flightRequirements = {\n",
    "  requiredStaff : 4,\n",
    "  requiredSpeedRange : 700,\n",
    "}\n",
    "export function meetsStaffRequirements(availableStaff, requiredStaff){\n",
    "  if(availableStaff.length >= requiredStaff){\n",
    "    return true\n",
    "  }else{\n",
    "    return false\n",
    "  }  \n",
    "}\n",
    "export function meetsSpeedRangeRequirements(maxSpeed, minSpeed, requiredSpeedRange){\n",
    "  const range = maxSpeed - minSpeed;\n",
    "  if(range>requiredSpeedRange)\n",
    "    return true\n",
    "  else\n",
    "    return false\n",
    "  \n",
    "}"
   ]
  },
  {
   "cell_type": "markdown",
   "metadata": {},
   "source": [
    "#### Import Named Imports"
   ]
  },
  {
   "cell_type": "code",
   "execution_count": null,
   "metadata": {},
   "outputs": [],
   "source": [
    "import {availableAirplanes, flightRequirements, meetsStaffRequirements, meetsSpeedRangeRequirements } from './airplane';\n",
    "function displayFuelCapacity(){\n",
    "  availableAirplanes.forEach(function(element){\n",
    "     console.log('Fuel Capacity of ' + element.name + ': '+ element.fuelCapacity);\n",
    "   })\n",
    "}\n",
    "function displayStaffStatus (){\n",
    "  availableAirplanes.forEach(function(element){\n",
    "console.log( element.name+ \n",
    "            ' meets staff requirements: ' + meetsStaffRequirements(element.availableStaff, flightRequirements.requiredStaff));\n",
    "  })\n",
    "}\n",
    "function displaySpeedRangeStatus(){\n",
    "  availableAirplanes.forEach(function(element){\n",
    "console.log(element.name+ 'meets speed range requirements: ' + meetsSpeedRangeRequirements(element.maxSpeed, element.minSpeed, flightRequirements.requiredSpeedRange) );\n",
    "  });\n",
    "}\n",
    "displayFuelCapacity()\n",
    "displayStaffStatus()\n",
    "displaySpeedRangeStatus()"
   ]
  },
  {
   "cell_type": "markdown",
   "metadata": {},
   "source": [
    "#### Export as"
   ]
  },
  {
   "cell_type": "code",
   "execution_count": null,
   "metadata": {},
   "outputs": [],
   "source": [
    " export let availableAirplanes=[\n",
    "    {name:'AeroJet',\n",
    "    fuelCapacity:800,\n",
    "    availableStaff:['pilots', 'flightAttendants', 'engineers', 'medicalAssistance',  'sensorOperators'\n",
    "    ],\n",
    "     maxSpeed:1200,\n",
    "     minSpeed:300,\n",
    "    },\n",
    "    {\n",
    "      name:'SkyJet',\n",
    "    fuelCapacity:500,\n",
    "    availableStaff:[\n",
    "      'pilots',  'flightAttendants',\n",
    "    ],\n",
    "     maxSpeed:800,\n",
    "     minSpeed:200,\n",
    "    }]\n",
    "\n",
    "export let flightRequirements = {\n",
    "  requiredStaff : 4,\n",
    "  requiredSpeedRange : 700,\n",
    "}\n",
    "export function meetsStaffRequirements(availableStaff, requiredStaff){\n",
    "  if(availableStaff.length >= requiredStaff){\n",
    "    return true\n",
    "  }else{\n",
    "    return false\n",
    "  }  \n",
    "}\n",
    "export function meetsSpeedRangeRequirements(maxSpeed, minSpeed, requiredSpeedRange){\n",
    "  const range = maxSpeed - minSpeed;\n",
    "  if(range>requiredSpeedRange)\n",
    "    return true\n",
    "  else\n",
    "    return false\n",
    "  \n",
    "}\n",
    "//export {availableAirplanes, flightRequirements, meetsStaffRequirements,};"
   ]
  },
  {
   "cell_type": "code",
   "execution_count": null,
   "metadata": {},
   "outputs": [],
   "source": [
    "let availableAirplanes=[\n",
    "    {name:'AeroJet',\n",
    "    fuelCapacity:800,\n",
    "    availableStaff:['pilots', 'flightAttendants', 'engineers', 'medicalAssistance',  'sensorOperators'\n",
    "    ],\n",
    "     maxSpeed:1200,\n",
    "     minSpeed:300,\n",
    "    },\n",
    "    {\n",
    "      name:'SkyJet',\n",
    "    fuelCapacity:500,\n",
    "    availableStaff:[\n",
    "      'pilots',  'flightAttendants',\n",
    "    ],\n",
    "     maxSpeed:800,\n",
    "     minSpeed:200,\n",
    "    }]\n",
    "\n",
    "let flightRequirements = {\n",
    "  requiredStaff : 4,\n",
    "  requiredSpeedRange : 700,\n",
    "}\n",
    "function meetsStaffRequirements(availableStaff, requiredStaff){\n",
    "  if(availableStaff.length >= requiredStaff){\n",
    "    return true\n",
    "  }else{\n",
    "    return false\n",
    "  }  \n",
    "}\n",
    "function meetsSpeedRangeRequirements(maxSpeed, minSpeed, requiredSpeedRange){\n",
    "  const range = maxSpeed - minSpeed;\n",
    "  if(range>requiredSpeedRange)\n",
    "    return true\n",
    "  else\n",
    "    return false\n",
    "  \n",
    "}\n",
    "export {availableAirplanes as aircrafts, flightRequirements as flightReqs, meetsStaffRequirements as meetsStaffReqs, meetsSpeedRangeRequirements as meetsSpeedRangeReqs,};"
   ]
  },
  {
   "cell_type": "markdown",
   "metadata": {},
   "source": [
    "#### Import as"
   ]
  },
  {
   "cell_type": "markdown",
   "metadata": {},
   "source": [
    "import {availableAirplanes, flightRequirements, meetsStaffRequirements, meetsSpeedRangeRequirements } from './airplane';\n",
    "function displayFuelCapacity(){\n",
    "  availableAirplanes.forEach(function(element){\n",
    "     console.log('Fuel Capacity of ' + element.name + ': '+ element.fuelCapacity);\n",
    "   })\n",
    "}\n",
    "function displayStaffStatus (){\n",
    "  availableAirplanes.forEach(function(element){\n",
    "console.log( element.name+ \n",
    "            ' meets staff requirements: ' + meetsStaffRequirements(element.availableStaff, flightRequirements.requiredStaff));\n",
    "  })\n",
    "}\n",
    "function displaySpeedRangeStatus(){\n",
    "  availableAirplanes.forEach(function(element){\n",
    "console.log(element.name+ 'meets speed range requirements: ' + meetsSpeedRangeRequirements(element.maxSpeed, element.minSpeed, flightRequirements.requiredSpeedRange) );\n",
    "  });\n",
    "}\n",
    "displayFuelCapacity()\n",
    "displayStaffStatus()\n",
    "displaySpeedRangeStatus()"
   ]
  },
  {
   "cell_type": "markdown",
   "metadata": {},
   "source": []
  },
  {
   "cell_type": "code",
   "execution_count": null,
   "metadata": {},
   "outputs": [],
   "source": [
    "\n",
    "import {availableAirplanes as aircrafts, flightRequirements as flightReqs, meetsStaffRequirements as meetsStaffReqs, meetsSpeedRangeRequirements as meetsSpeedRangeReqs } from './airplane';\n",
    "function displayFuelCapacity(){\n",
    "  aircrafts.forEach(function(element){\n",
    "     console.log('Fuel Capacity of ' + element.name + ': '+ element.fuelCapacity);\n",
    "   });\n",
    "}\n",
    "function displayStaffStatus (){\n",
    "  aircrafts.forEach(function(element){\n",
    "console.log( element.name+ \n",
    "            ' meets staff requirements: ' + meetsStaffReqs(element.availableStaff, flightReqs.requiredStaff));\n",
    "  })\n",
    "}\n",
    "function displaySpeedRangeStatus(){\n",
    "  aircrafts.forEach(function(element){\n",
    "console.log(element.name+ 'meets speed range requirements: ' + meetsSpeedRangeReqs(element.maxSpeed, element.minSpeed, flightReqs.requiredSpeedRange) );\n",
    "  });\n",
    "}\n",
    "displayFuelCapacity()\n",
    "displayStaffStatus()\n",
    "displaySpeedRangeStatus()"
   ]
  },
  {
   "cell_type": "markdown",
   "metadata": {},
   "source": [
    "#### Combining Export Statements"
   ]
  },
  {
   "cell_type": "code",
   "execution_count": null,
   "metadata": {},
   "outputs": [],
   "source": [
    "export let availableAirplanes = [\n",
    "    {name:'AeroJet',\n",
    "    fuelCapacity:800,\n",
    "    availableStaff:['pilots', 'flightAttendants', 'engineers', 'medicalAssistance',  'sensorOperators'\n",
    "    ],\n",
    "     maxSpeed:1200,\n",
    "     minSpeed:300,\n",
    "    },\n",
    "    {\n",
    "      name:'SkyJet',\n",
    "    fuelCapacity:500,\n",
    "    availableStaff:[\n",
    "      'pilots',  'flightAttendants',\n",
    "    ],\n",
    "     maxSpeed:800,\n",
    "     minSpeed:200,\n",
    "    }];\n",
    "\n",
    "export let flightRequirements = {\n",
    "  requiredStaff : 4,\n",
    "  requiredSpeedRange : 700,\n",
    "}\n",
    "export function meetsStaffRequirements(availableStaff, requiredStaff){\n",
    "  if(availableStaff.length >= requiredStaff){\n",
    "    return true\n",
    "  }else{\n",
    "    return false\n",
    "  }  \n",
    "}\n",
    "function meetsSpeedRangeRequirements(maxSpeed, minSpeed, requiredSpeedRange){\n",
    "  const range = maxSpeed - minSpeed;\n",
    "  if(range>requiredSpeedRange)\n",
    "    return true\n",
    "  else\n",
    "    return false\n",
    "  \n",
    "}\n",
    "export default meetsSpeedRangeRequirements;"
   ]
  },
  {
   "cell_type": "markdown",
   "metadata": {},
   "source": []
  },
  {
   "cell_type": "markdown",
   "metadata": {},
   "source": [
    "#### Combining Import Statements"
   ]
  },
  {
   "cell_type": "code",
   "execution_count": null,
   "metadata": {},
   "outputs": [],
   "source": [
    "//import {availableAirplanes as aircrafts, flightRequirements as flightReqs, meetsStaffRequirements as meetsStaffReqs, meetsSpeedRangeRequirements as meetsSpeedRangeReqs } from './airplane';\n",
    "function displayFuelCapacity(){\n",
    "  availableAirplanes.forEach(function(element){\n",
    "     console.log('Fuel Capacity of ' + element.name + ': '+ element.fuelCapacity);\n",
    "   });\n",
    "}\n",
    "function displayStaffStatus (){\n",
    "  availableAirplanes.forEach(function(element){\n",
    "console.log( element.name+ \n",
    "            ' meets staff requirements: ' + meetsStaffRequirements(element.availableStaff, flightRequirements.requiredStaff));\n",
    "  })\n",
    "}\n",
    "function displaySpeedRangeStatus(){\n",
    "  availableAirplanes.forEach(function(element){\n",
    "console.log(element.name+ 'meets speed range requirements: ' + meetsSpeedRangeRequirements(element.maxSpeed, element.minSpeed, flightRequirements.requiredSpeedRange) );\n",
    "  });\n",
    "}\n",
    "displayFuelCapacity()\n",
    "displayStaffStatus()\n",
    "displaySpeedRangeStatus()"
   ]
  },
  {
   "cell_type": "code",
   "execution_count": null,
   "metadata": {},
   "outputs": [],
   "source": [
    "import {availableAirplanes, flightRequirements, meetsStaffRequirements, } from './airplane';\n",
    "import meetsSpeedRangeRequirements from './airplane';\n",
    "function displayFuelCapacity(){\n",
    "  availableAirplanes.forEach(function(element){\n",
    "     console.log('Fuel Capacity of ' + element.name + ': '+ element.fuelCapacity);\n",
    "   });\n",
    "}\n",
    "function displayStaffStatus (){\n",
    "  availableAirplanes.forEach(function(element){\n",
    "console.log( element.name+ \n",
    "            ' meets staff requirements: ' + meetsStaffRequirements(element.availableStaff, flightRequirements.requiredStaff));\n",
    "  })\n",
    "}\n",
    "function displaySpeedRangeStatus(){\n",
    "  availableAirplanes.forEach(function(element){\n",
    "console.log(element.name+ 'meets speed range requirements: ' + meetsSpeedRangeRequirements(element.maxSpeed, element.minSpeed, flightRequirements.requiredSpeedRange) );\n",
    "  });\n",
    "}\n",
    "displayFuelCapacity()\n",
    "displayStaffStatus()\n",
    "displaySpeedRangeStatus()"
   ]
  },
  {
   "cell_type": "markdown",
   "metadata": {},
   "source": [
    "import {availableAirplanes, flightRequirements, meetsStaffRequirements, meetsSpeedRangeRequirements} from './airplane';\n"
   ]
  },
  {
   "cell_type": "markdown",
   "metadata": {},
   "source": [
    "#### Promise Object\n",
    "Let’s construct a promise! To create a new Promise object, we use the new keyword and the Promise constructor method:\n",
    "\n",
    "const executorFunction = (resolve, reject) => { };\n",
    "const myFirstPromise = new Promise(executorFunction);\n",
    "The Promise constructor method takes a function parameter called the executor function which runs automatically when the constructor is called. The executor function generally starts an asynchronous operation and dictates how the promise should be settled.\n",
    "\n",
    "The executor function has two function parameters, usually referred to as the resolve() and reject() functions. The resolve() and reject() functions aren’t defined by the programmer. When the Promise constructor runs, JavaScript will pass its own resolve() and reject() functions into the executor function.\n",
    "\n",
    "resolve is a function with one argument. Under the hood, if invoked, resolve() will change the promise’s status from pending to fulfilled, and the promise’s resolved value will be set to the argument passed into resolve().\n",
    "reject is a function that takes a reason or error as an argument. Under the hood, if invoked, reject() will change the promise’s status from pending to rejected, and the promise’s rejection reason will be set to the argument passed into reject().\n",
    "Let’s look at an example executor function in a Promise constructor:\n",
    "\n",
    "const executorFunction = (resolve, reject) => {\n",
    "  if (someCondition) {\n",
    "      resolve('I resolved!');\n",
    "  } else {\n",
    "      reject('I rejected!'); \n",
    "  }\n",
    "}\n",
    "const myFirstPromise = new Promise(executorFunction);\n",
    "Let’s break down what’s happening above:\n",
    "\n",
    "We declare a variable myFirstPromise\n",
    "myFirstPromise is constructed using new Promise() which is the Promise constructor method.\n",
    "executorFunction() is passed to the constructor and has two functions as parameters: resolve and reject.\n",
    "If someCondition evaluates to true, we invoke resolve() with the string 'I resolved!'\n",
    "If not, we invoke reject() with the string 'I rejected!'\n",
    "In our example, myFirstPromise resolves or rejects based on a simple condition, but, in practice, promises settle based on the results of asynchronous operations. For example, a database request may fulfill with the data from a query or reject with an error thrown. In this exercise, we’ll construct promises which resolve synchronously to more easily understand how they work.\n",
    "\n",
    "Instructions\n",
    "1.\n",
    "You’ll be writing your code in the code-editor, but we won’t be running it until the final step. To check your code for a step, you can press the “Check Work” button.\n",
    "\n",
    "We’re going to create a promise representing ordering sunglasses from an online store. First, create the function, myExecutor(). Later on, you’ll pass this function into the Promise constructor.\n",
    "\n",
    "myExecutor() should:\n",
    "\n",
    "Have two parameters: resolve and reject\n",
    "Check if the sunglasses property on the inventory object has a value greater than zero\n",
    "If it does, myExecutor() should invoke resolve() with the string 'Sunglasses order processed.'\n",
    "If it does not, myExecutor() should invoke reject() with the string 'That item is sold out.'\n",
    "When you’re ready, press the “Check Work” button."
   ]
  },
  {
   "cell_type": "markdown",
   "metadata": {},
   "source": [
    "In this exercise and throughout the lesson, we’ll provide you with a bash terminal to execute your code. To run the app.js program, you’ll type node app.js in the terminal and hit enter (or return). You’ll be able to see the output of the program in the terminal.\n",
    "\n",
    "Let’s try it! Type node app.js in the terminal and hit enter.\n",
    "\n",
    "If you’d like, you can see an alternate output by changing the sunglasses property in the inventory object to 0 and executing app.js from the terminal again.\n",
    "\n",
    "When you’re ready to move on, press the “Check Work” button."
   ]
  },
  {
   "cell_type": "code",
   "execution_count": null,
   "metadata": {},
   "outputs": [],
   "source": [
    "const inventory = {\n",
    "  sunglasses: 1900,\n",
    "  pants: 1088,\n",
    "  bags: 1344\n",
    "};\n",
    "function myExecutor(resolve, reject){\n",
    "if (inventory.sunglasses>0) {\n",
    "      resolve('Sunglasses order processed.');\n",
    "  } else {\n",
    "      reject('That item is sold out.'); \n",
    "  }  \n",
    "}\n",
    "// Write your code below:\n",
    "function  orderSunglasses(){\n",
    "let orderPromise  = new Promise(myExecutor);  \n",
    "  return orderPromise ;\n",
    "}\n",
    "let orderPromise = orderSunglasses();\n",
    "console.log(orderPromise);"
   ]
  },
  {
   "cell_type": "markdown",
   "metadata": {},
   "source": [
    "node app.js  \n",
    "node app.js"
   ]
  },
  {
   "cell_type": "code",
   "execution_count": null,
   "metadata": {},
   "outputs": [],
   "source": [
    "console.log(\"This is the first line of code in app.js.\");\n",
    "// Keep the line above as the first line of code\n",
    "// Write your code here:\n",
    "function usingSTO() {\n",
    "  console.log(\"This is the  first line of synchronous code.\");\n",
    "}\n",
    "setTimeout(usingSTO,1000);"
   ]
  },
  {
   "cell_type": "markdown",
   "metadata": {},
   "source": [
    "#### Consuming Promises\n",
    "#### The onFulfilled and onRejected Functions"
   ]
  },
  {
   "cell_type": "markdown",
   "metadata": {},
   "source": [
    "<hr>"
   ]
  },
  {
   "cell_type": "markdown",
   "metadata": {},
   "source": [
    "## footer\n",
    "[www.codecademy.com](https://www.codecademy.com/courses/learn-html/lessons/intro-to-html/exercises/intro?action=resume_content_item)   \n",
    "[Text_formatting rus MOzilla javascript](https://developer.mozilla.org/ru/docs/Web/JavaScript/Guide/Text_formatting)  \n",
    "\n"
   ]
  },
  {
   "cell_type": "markdown",
   "metadata": {},
   "source": [
    "1.02 32-55  \n",
    "2.02 55-61-66  \n",
    "3.02 66-72-77  \n",
    "4.02 77-88  "
   ]
  },
  {
   "cell_type": "markdown",
   "metadata": {},
   "source": [
    "\n",
    "[]()  \n"
   ]
  }
 ],
 "metadata": {
  "kernelspec": {
   "display_name": "Python 3",
   "language": "python",
   "name": "python3"
  },
  "language_info": {
   "codemirror_mode": {
    "name": "ipython",
    "version": 3
   },
   "file_extension": ".py",
   "mimetype": "text/x-python",
   "name": "python",
   "nbconvert_exporter": "python",
   "pygments_lexer": "ipython3",
   "version": "3.7.8"
  }
 },
 "nbformat": 4,
 "nbformat_minor": 2
}
