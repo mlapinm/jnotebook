{
 "cells": [
  {
   "cell_type": "markdown",
   "metadata": {},
   "source": [
    "[Livestreams](https://www.codecademy.com/learn/livestreams)  \n",
    "[]()  \n"
   ]
  },
  {
   "cell_type": "markdown",
   "metadata": {},
   "source": [
    "#### Architect Arithmetic"
   ]
  },
  {
   "cell_type": "markdown",
   "metadata": {},
   "source": [
    "```\n",
    "using System;\n",
    "\n",
    "namespace ArchitectArithmetic\n",
    "{\n",
    "  class Program\n",
    "  {\n",
    "     public static double Rect(double l, double w){\n",
    "      return l*w;\n",
    "    }\n",
    "     public static double Circle(double r){\n",
    "      return Math.PI*Math.Pow(r, 2);\n",
    "    }\n",
    "       public static double Triangle(double bottom, double height){\n",
    "      return bottom*height/2.0;\n",
    "    }\n",
    "\n",
    "    public static void Main(string[] args)\n",
    "    {\n",
    " double r =  Rect(4, 5);\n",
    " double c =  Circle(4);\n",
    " double t =  Triangle(10, 9);\n",
    "      Console.WriteLine(r + \" \"  + c + \" \" + t);\n",
    "     double area = Rect(1500, 2500) + Circle(375)/2 + Triangle(500, 750);\n",
    "Console.WriteLine(area);\n",
    "double price = area * 180;   \n",
    "Console.WriteLine(Math.Round(price, 2)); \n",
    "    }\n",
    "  }\n",
    "}\n",
    "```"
   ]
  },
  {
   "cell_type": "markdown",
   "metadata": {},
   "source": [
    "10.\n",
    "For an extra challenge, try these additions:\n",
    "\n",
    "Make the entire program a method so that you can execute it in your Main() method with one line:\n",
    "CalculateTotalCost();\n",
    "Determine the total cost for the Taj Mahal in Agra, India and the Al-Masjid al-haram (Great Mosque) in Mecca, Saudi Arabia.\n",
    "Blueprint of Taj Mahal\n",
    "\n",
    "Blueprint of Great Mosque of Mecca\n",
    "\n",
    "Use conditional statements and Console.ReadLine() to allow users to pick which monument for which they’d like to calculate a cost.\n",
    "What monument would you like to work with? Teotihuacan\n",
    "The plan for that monument costs 748510782.02 pesos!\n",
    "\n",
    "Architect Arithmetic\n",
    "10/10Complete\n"
   ]
  },
  {
   "cell_type": "markdown",
   "metadata": {},
   "source": [
    "#### Hardware with Adafruit (Python)\n",
    "PROJECT\n",
    "In this livestream we will introduce you to programming with hardware!  \n",
    "[Livestream: Hardware with Adafruit](https://www.youtube.com/watch?v=szsYLKicTzo&feature=youtu.be)"
   ]
  },
  {
   "cell_type": "markdown",
   "metadata": {},
   "source": [
    "#### Console Creatures Livestream (C#)\n",
    "PROJECT\n",
    "Create characters in the console using just your keyboard and new C# knowledge.  \n",
    "```\n",
    "using System;\n",
    "\n",
    "namespace ConsoleCreatures\n",
    "{\n",
    "  class Program\n",
    "  {\n",
    "    static void Main()\n",
    "    {\n",
    "Console.WriteLine(\"c_     ___\");\n",
    "Console.WriteLine(\"　 \\\\\\\\__|__|__\");\n",
    "Console.WriteLine(\"　　 \\\\( o_o)\");\n",
    "Console.WriteLine(\"　　　 > ~  >\");\n",
    "Console.WriteLine(\"　　　/ 　 / \\\\\\\\\");\n",
    "Console.WriteLine(\"　　 /　　/　 \\\\\\\\\");\n",
    "Console.WriteLine(\"　　 \\\\　 )　　c/\");\n",
    "Console.WriteLine(\"　　/　 /\");\n",
    "Console.WriteLine(\"　 /　/|\");\n",
    "Console.WriteLine(\"　(　( \\\\\");\n",
    "Console.WriteLine(\"　|　|  \\\\\");\n",
    "Console.WriteLine(\"　| / \\\\  )\");\n",
    "Console.WriteLine(\"　| |　) |\");\n",
    "Console.WriteLine(\" /  )(_/\");\n",
    "Console.WriteLine(\"(_ /\");\n",
    "Console.WriteLine(\"\");\n",
    "       \n",
    "      \n",
    "      //write to console\n",
    "      Console.WriteLine(\" .-.\");    Console.WriteLine(\"(o o)\");\n",
    "   Console.WriteLine(\"| o |\");\n",
    "    Console.WriteLine(\"|   |\");\n",
    " Console.WriteLine(\"'~~~'\");\n",
    " Console.WriteLine(\"Ghost\");\n",
    "          \n",
    "     \n",
    "     }\n",
    "  }\n",
    "}\n",
    "```"
   ]
  },
  {
   "cell_type": "markdown",
   "metadata": {},
   "source": [
    "#### ACLU Child Separation Livestream (R)\n",
    "PROJECT\n",
    "In this livestream, you’ll learn about the basics of the statistical programming language R and how to load and organize data collected by the American Civil Liberties Union (ACLU)."
   ]
  },
  {
   "cell_type": "markdown",
   "metadata": {},
   "source": []
  },
  {
   "cell_type": "markdown",
   "metadata": {},
   "source": []
  },
  {
   "cell_type": "markdown",
   "metadata": {},
   "source": []
  },
  {
   "cell_type": "markdown",
   "metadata": {},
   "source": []
  },
  {
   "cell_type": "markdown",
   "metadata": {},
   "source": []
  },
  {
   "cell_type": "markdown",
   "metadata": {},
   "source": [
    "[Math.Round Метод](https://docs.microsoft.com/ru-ru/dotnet/api/system.math.round?view=netframework-4.8)  \n",
    "[Livestreams](https://www.youtube.com/watch?v=z9W2cvmFPuA&list=PLFzsFUO-y0HC7TDRw9w87sLhSQw_XicT5&index=1)  \n",
    "[]()  \n",
    "[]()  \n",
    "[]()  \n"
   ]
  }
 ],
 "metadata": {
  "kernelspec": {
   "display_name": "Python 3",
   "language": "python",
   "name": "python3"
  },
  "language_info": {
   "codemirror_mode": {
    "name": "ipython",
    "version": 3
   },
   "file_extension": ".py",
   "mimetype": "text/x-python",
   "name": "python",
   "nbconvert_exporter": "python",
   "pygments_lexer": "ipython3",
   "version": "3.7.4"
  }
 },
 "nbformat": 4,
 "nbformat_minor": 2
}
