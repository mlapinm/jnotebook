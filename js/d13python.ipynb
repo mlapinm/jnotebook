{
 "cells": [
  {
   "cell_type": "markdown",
   "metadata": {},
   "source": [
    "### Scientific Computing with Python Certification (300 hours)\n",
    "### Python for Everybody"
   ]
  },
  {
   "cell_type": "markdown",
   "metadata": {},
   "source": [
    "[Introduction to Python for Everybody](#Introduction-to-Python-for-Everybody)  \n",
    "[1 Introduction: Why Program?](#1-Introduction:-Why-Program?)  \n",
    "[2 Introduction: Hardware Architecture](#2-Introduction:-Hardware-Architecture)  \n",
    "[3 Introduction: Python as a Language](#3-Introduction:-Python-as-a-Language)  \n",
    "[4 Introduction: Elements of Python](#4-Introduction:-Elements-of-Python)  \n",
    "[5 Variables, Expressions, and Statements](#5-Variables,-Expressions,-and-Statements)  \n",
    "[6 Intermediate Expressions](#6-Intermediate-Expressions)  \n",
    "[7 Conditional Execution](#7-Conditional-Execution)  \n",
    "[8 More Conditional Structures](#8-More-Conditional-Structures)  \n",
    "[9 Python Functions](#9-Python-Functions)  \n",
    "[10 Build your own Functions](#10-Build-your-own-Functions)  \n",
    "[11 Loops and Iterations](#11-Loops-and-Iterations)  \n",
    "[12 Iterations: Definite Loops](#12-Iterations:-Definite-Loops)  \n",
    "[13 Iterations: Loop Idioms](#13-Iterations:-Loop-Idioms)  \n",
    "[14 Iterations: More Patterns](#14-Iterations:-More-Patterns)  \n",
    "[15 Strings in Python](#15-Strings-in-Python)  \n",
    "[16 Intermediate Strings](#16-Intermediate-Strings)  \n",
    "[17 Reading Files](#17-Reading-Files)  \n",
    "[18 Files as a Sequence](#18-Files-as-a-Sequence)  \n",
    "[19 Python Lists](#19-Python-Lists)  \n",
    "[20 Working with Lists](#20-Working-with-Lists)  \n",
    "[21 Strings and Lists](#21-Strings-and-Lists)  \n",
    "[22 Python Dictionaries](#22-Python-Dictionaries)  \n",
    "[23 Dictionaries: Common Applications](#23-Dictionaries:-Common-Applications)  \n",
    "[24 Dictionaries and Loops](#24-Dictionaries-and-Loops)  \n",
    "[25 The Tuples Collection](#25-The-Tuples-Collection)  \n",
    "[26 Comparing and Sorting Tuples](#26-Comparing-and-Sorting-Tuples)  \n",
    "[27 Regular Expressions](#27-Regular-Expressions)  \n",
    "[28 Regular Expressions: Matching and Extracting Data](#28-Regular-Expressions:-Matching-and-Extracting-Data)  \n",
    "[29 Regular Expressions: Practical Applications](#29-Regular-Expressions:-Practical-Applications)  \n",
    "[30 Networking with Python](#30-Networking-with-Python)  \n",
    "[31 Networking Protocol](#31-Networking-Protocol)  \n",
    "[32 Networking: Write a Web Browser](#32-Networking:-Write-a-Web-Browser)  \n",
    "[33 Networking: Text Processing](#33-Networking:-Text-Processing)  \n",
    "[34 Networking: Using urllib in Python](#34-Networking:-Using-urllib-in-Python)  \n",
    "[35 Networking: Web Scraping with Python](#35-Networking:-Web-Scraping-with-Python)  \n",
    "[36 Using Web Services](#36-Using-Web-Services)  \n",
    "[37 Web Services: XML](#37-Web-Services:-XML)  \n",
    "[38 Web Services: XML Schema](#38-Web-Services:-XML-Schema)  \n",
    "[39 Web Services: JSON](#39-Web-Services:-JSON)  \n",
    "[40 Web Services: Service Oriented Approach](#40-Web-Services:-Service-Oriented-Approach)  \n",
    "[41 Web Services: APIs](#41-Web-Services:-APIs)  \n",
    "[42 Web Services: API Rate Limiting and Security](#42-Web-Services:-API-Rate-Limiting-and-Security)  \n",
    "[43 Python Objects](#43-Python-Objects)  \n",
    "[44 Objects: A Sample Class](#44-Objects:-A-Sample-Class)  \n",
    "[45 Object Lifecycle](#45-Object-Lifecycle)  \n",
    "[46 Objects: Inheritance](#46-Objects:-Inheritance)  \n",
    "[47 Relational Databases and SQLite](#47-Relational-Databases-and-SQLite)  \n",
    "[48 Make a Relational Database](#48-Make-a-Relational-Database)  \n",
    "[49 Relational Database Design](#49-Relational-Database-Design)  \n",
    "[50 Representing Relationships in a Relational Database](#50-Representing-Relationships-in-a-Relational-Database)  \n",
    "[51 Relational Databases: Relationship Building](#51-Relational-Databases:-Relationship-Building)  \n",
    "[52 Relational Databases: Join Operation](#52-Relational-Databases:-Join-Operation)  \n",
    "[53 Relational Databases: Many-to-many Relationships](#53-Relational-Databases:-Many-to-many-Relationships)  \n",
    "[54 Visualizing Data with Python](#54-Visualizing-Data-with-Python)  \n",
    "[55 Data Visualization: Page Rank](#55-Data-Visualization:-Page-Rank)  \n",
    "[56 Data Visualization: Mailing Lists](#56-Data-Visualization:-Mailing-Lists)  "
   ]
  },
  {
   "cell_type": "markdown",
   "metadata": {},
   "source": []
  },
  {
   "cell_type": "markdown",
   "metadata": {},
   "source": []
  },
  {
   "cell_type": "markdown",
   "metadata": {},
   "source": [
    "### Scientific Computing with Python Projects"
   ]
  },
  {
   "cell_type": "markdown",
   "metadata": {},
   "source": [
    "[Introduction to the Scientific Computing with Python Projects](#Introduction-to-the-Scientific-Computing-with-Python-Projects)  \n",
    "[1 Arithmetic Formatter](#1-Arithmetic-Formatter)  \n",
    "[2 Time Calculator](#2-Time-Calculator)  \n",
    "[3 Budget App](#3-Budget-App)  \n",
    "[4 Polygon Area Calculator](#4-Polygon-Area-Calculator)  \n",
    "[5 Probability Calculator](#5-Probability-Calculator)  "
   ]
  },
  {
   "cell_type": "markdown",
   "metadata": {},
   "source": []
  },
  {
   "cell_type": "markdown",
   "metadata": {},
   "source": [
    "### Scientific Computing with Python Certification (300 hours)\n",
    "### Python for Everybody"
   ]
  },
  {
   "cell_type": "markdown",
   "metadata": {},
   "source": [
    "#### Introduction to Python for Everybody\n",
    "```\n",
    "```\n",
    "#### 1 Introduction: Why Program?\n",
    "```\n",
    "```\n",
    "#### 2 Introduction: Hardware Architecture\n",
    "```\n",
    "```\n",
    "#### 3 Introduction: Python as a Language\n",
    "```\n",
    "```\n",
    "#### 4 Introduction: Elements of Python\n",
    "```\n",
    "```"
   ]
  },
  {
   "cell_type": "code",
   "execution_count": 1,
   "metadata": {},
   "outputs": [
    {
     "name": "stdout",
     "output_type": "stream",
     "text": [
      "44\n"
     ]
    }
   ],
   "source": [
    "x = 43\n",
    "x = x + 1\n",
    "print(x)\n",
    "# 44"
   ]
  },
  {
   "cell_type": "markdown",
   "metadata": {},
   "source": [
    "#### 5 Variables, Expressions, and Statements\n",
    "```\n",
    "What is the symbol used in an assignment statement?\n",
    "\n",
    "\n",
    "~\n",
    "\n",
    "\n",
    "&\n",
    "\n",
    "\n",
    "***=\n",
    "\n",
    "\n",
    "|\n",
    "```\n",
    "#### 6 Intermediate Expressions\n",
    "```\n",
    "```"
   ]
  },
  {
   "cell_type": "code",
   "execution_count": 2,
   "metadata": {},
   "outputs": [
    {
     "name": "stdout",
     "output_type": "stream",
     "text": [
      "4.0\n"
     ]
    }
   ],
   "source": [
    "width = 15\n",
    "height = 12.0\n",
    "print(height/3)\n",
    "# 4.0"
   ]
  },
  {
   "cell_type": "markdown",
   "metadata": {},
   "source": [
    "#### 7 Conditional Execution\n",
    "```\n",
    "Which code is indented correctly to print \"Yes\" if x = 0 and y = 10?\n",
    "\n",
    "\n",
    "if 0 == x:\n",
    "if y == 10:\n",
    "print(\"Yes\")\n",
    "\n",
    "if 0 == x:\n",
    "    if y == 10:\n",
    "    print(\"Yes\")\n",
    "\n",
    "if 0 == x:\n",
    "if y == 10:\n",
    "    print(\"Yes\")\n",
    "vvvv\n",
    "if 0 == x:\n",
    "    if y == 10:\n",
    "        print(\"Yes\")\n",
    "```\n"
   ]
  },
  {
   "cell_type": "code",
   "execution_count": 3,
   "metadata": {},
   "outputs": [
    {
     "name": "stdout",
     "output_type": "stream",
     "text": [
      "Yes\n"
     ]
    }
   ],
   "source": [
    "x = 0\n",
    "y = 10\n",
    "if 0 == x:\n",
    "    if y == 10:\n",
    "        print(\"Yes\")"
   ]
  },
  {
   "cell_type": "markdown",
   "metadata": {},
   "source": [
    "#### 8 More Conditional Structures\n",
    "```\n",
    "temp = \"5 degrees\"\n",
    "cel = 0\n",
    "fahr = float(temp)\n",
    "cel = (fahr - 32.0) * 5.0 / 9.0\n",
    "print(cel)\n",
    "```"
   ]
  },
  {
   "cell_type": "code",
   "execution_count": 15,
   "metadata": {},
   "outputs": [
    {
     "name": "stdout",
     "output_type": "stream",
     "text": [
      "error\n",
      "0\n"
     ]
    }
   ],
   "source": [
    "temp = \"5 degrees\"\n",
    "cel = 0\n",
    "try:\n",
    "    fahr = float(temp)\n",
    "    cel = (fahr - 32.0) * 5.0 / 9.0\n",
    "except:\n",
    "    print('error')\n",
    "print(cel)"
   ]
  },
  {
   "cell_type": "markdown",
   "metadata": {},
   "source": [
    "#### 9 Python Functions\n",
    "```\n",
    "What is the purpose of the \"def\" keyword in Python?\n",
    "\n",
    "\n",
    "It is slang that means \"The following code is really cool.\"\n",
    "\n",
    "\n",
    "It indicates the start of a function.\n",
    "\n",
    "\n",
    "It indicates that the following indented section of code is to be stored for later.\n",
    "\n",
    "\n",
    "*** It indicates the start of a function, and the following indented section of code is to be stored for later.\n",
    "\n",
    "\n",
    "None of the above.\n",
    "```\n",
    "#### 10 Build your own Functions\n",
    "```\n",
    "```"
   ]
  },
  {
   "cell_type": "code",
   "execution_count": 16,
   "metadata": {},
   "outputs": [
    {
     "name": "stdout",
     "output_type": "stream",
     "text": [
      "ABC\n",
      "Zap\n",
      "ABC\n"
     ]
    }
   ],
   "source": [
    "def fred():\n",
    "    print(\"Zap\")\n",
    "def jane():\n",
    "    print(\"ABC\")\n",
    "\n",
    "jane()\n",
    "fred()\n",
    "jane()"
   ]
  },
  {
   "cell_type": "markdown",
   "metadata": {},
   "source": [
    "#### 11 Loops and Iterations\n",
    "```\n",
    "0\n",
    "1\n",
    "2\n",
    "```"
   ]
  },
  {
   "cell_type": "code",
   "execution_count": 17,
   "metadata": {},
   "outputs": [
    {
     "name": "stdout",
     "output_type": "stream",
     "text": [
      "0\n",
      "1\n",
      "2\n"
     ]
    }
   ],
   "source": [
    "n = 0\n",
    "while True:\n",
    "    if n == 3:\n",
    "        break\n",
    "    print(n)\n",
    "    n = n + 1"
   ]
  },
  {
   "cell_type": "markdown",
   "metadata": {},
   "source": [
    "#### 12 Iterations: Definite Loops\n",
    "```\n",
    "How many lines will the following code print?:\n",
    "3\n",
    "```"
   ]
  },
  {
   "cell_type": "code",
   "execution_count": 18,
   "metadata": {},
   "outputs": [
    {
     "name": "stdout",
     "output_type": "stream",
     "text": [
      "2\n",
      "1\n",
      "5\n"
     ]
    }
   ],
   "source": [
    "for i in [2,1,5]:\n",
    "    print(i)"
   ]
  },
  {
   "cell_type": "markdown",
   "metadata": {},
   "source": [
    "#### 13 Iterations: Loop Idioms\n",
    "```\n",
    "```"
   ]
  },
  {
   "cell_type": "code",
   "execution_count": 22,
   "metadata": {},
   "outputs": [
    {
     "name": "stdout",
     "output_type": "stream",
     "text": [
      "Before: None\n",
      "Smallest: 9\n"
     ]
    }
   ],
   "source": [
    "smallest = None\n",
    "print(\"Before:\", smallest)\n",
    "for itervar in [9, 41, 12, 3, 74, 15]:\n",
    "    if smallest is None or itervar < smallest:\n",
    "        smallest = itervar\n",
    "        break\n",
    "    print(\"Loop:\", itervar, smallest)\n",
    "print(\"Smallest:\", smallest)"
   ]
  },
  {
   "cell_type": "markdown",
   "metadata": {},
   "source": [
    "#### 14 Iterations: More Patterns\n",
    "```\n",
    "False\n",
    "\n",
    "0 == 0.0\n",
    "\n",
    "**0 is 0.0\n",
    "\n",
    "0 is not 0.0\n",
    "\n",
    "0 = 0.0\n",
    "```"
   ]
  },
  {
   "cell_type": "code",
   "execution_count": 23,
   "metadata": {},
   "outputs": [
    {
     "name": "stdout",
     "output_type": "stream",
     "text": [
      "False\n"
     ]
    }
   ],
   "source": [
    "print(0 is 0.0)"
   ]
  },
  {
   "cell_type": "markdown",
   "metadata": {},
   "source": [
    "#### 15 Strings in Python\n",
    "```\n",
    "b - a - n - a - n - a - \n",
    "```"
   ]
  },
  {
   "cell_type": "code",
   "execution_count": 25,
   "metadata": {},
   "outputs": [
    {
     "name": "stdout",
     "output_type": "stream",
     "text": [
      "b - a - n - a - n - a - "
     ]
    }
   ],
   "source": [
    "for n in \"banana\":\n",
    "    print(n, end = ' - ')"
   ]
  },
  {
   "cell_type": "markdown",
   "metadata": {},
   "source": [
    "#### 16 Intermediate Strings\n",
    "```\n",
    "2\n",
    "```"
   ]
  },
  {
   "cell_type": "code",
   "execution_count": 27,
   "metadata": {},
   "outputs": [
    {
     "name": "stdout",
     "output_type": "stream",
     "text": [
      "2\n"
     ]
    }
   ],
   "source": [
    "word = \"bananana\"\n",
    "i = word.find(\"na\")\n",
    "print(i)"
   ]
  },
  {
   "cell_type": "markdown",
   "metadata": {},
   "source": [
    "#### 17 Reading Files\n",
    "```\n",
    "What is used to indicate a new line in a string?\n",
    "\n",
    "\n",
    "\\n\n",
    "```"
   ]
  },
  {
   "cell_type": "markdown",
   "metadata": {},
   "source": [
    "#### 18 Files as a Sequence\n",
    "```\n",
    "What does the word 'continue' do in the middle of a loop?\n",
    "\n",
    "\n",
    "Skips to the code directly after the loop.\n",
    "\n",
    "\n",
    "Skips to the next line in the code.\n",
    "\n",
    "\n",
    "***Skips to the next iteration of the loop.\n",
    "\n",
    "\n",
    "Skips the next block of code.\n",
    "```\n"
   ]
  },
  {
   "cell_type": "markdown",
   "metadata": {},
   "source": [
    "#### 19 Python Lists\n",
    "```\n",
    "a\n",
    "```\n"
   ]
  },
  {
   "cell_type": "code",
   "execution_count": 28,
   "metadata": {},
   "outputs": [
    {
     "name": "stdout",
     "output_type": "stream",
     "text": [
      "a\n"
     ]
    }
   ],
   "source": [
    "fruit = \"banana\"\n",
    "x = fruit[1]\n",
    "print(x)"
   ]
  },
  {
   "cell_type": "markdown",
   "metadata": {},
   "source": [
    "#### 20 Working with Lists\n",
    "```\n",
    "Which method is used to add an item at the end of a list?\n",
    "\n",
    "\n",
    "insert\n",
    "\n",
    "\n",
    "push\n",
    "\n",
    "\n",
    "***append\n",
    "\n",
    "\n",
    "new\n",
    "```\n"
   ]
  },
  {
   "cell_type": "code",
   "execution_count": 32,
   "metadata": {},
   "outputs": [
    {
     "name": "stdout",
     "output_type": "stream",
     "text": [
      "[1, 2, 3]\n"
     ]
    }
   ],
   "source": [
    "l = [1,2]\n",
    "l.append(3)\n",
    "print(l)"
   ]
  },
  {
   "cell_type": "markdown",
   "metadata": {},
   "source": [
    "#### 21 Strings and Lists\n",
    "```\n",
    "```\n"
   ]
  },
  {
   "cell_type": "code",
   "execution_count": 36,
   "metadata": {},
   "outputs": [
    {
     "name": "stdout",
     "output_type": "stream",
     "text": [
      "['His', 'e-mail', 'is', 'q-lar@freecodecamp.org'] ['q', 'lar@freecodecamp.org'] lar@freecodecamp.org\n"
     ]
    }
   ],
   "source": [
    "words = 'His e-mail is q-lar@freecodecamp.org'\n",
    "pieces = words.split()\n",
    "parts = pieces[3].split('-')\n",
    "n = parts[1]\n",
    "print(pieces, parts, n)"
   ]
  },
  {
   "cell_type": "markdown",
   "metadata": {},
   "source": [
    "#### 22 Python Dictionaries\n",
    "```\n",
    "```\n"
   ]
  },
  {
   "cell_type": "code",
   "execution_count": 39,
   "metadata": {},
   "outputs": [
    {
     "name": "stdout",
     "output_type": "stream",
     "text": [
      "{'Fri': 20, 'Thu': 13, 'Sat': 2, 'Sun': 9, 'Mon': 22}\n"
     ]
    }
   ],
   "source": [
    "dict = {\"Fri\": 20, \"Thu\": 6, \"Sat\": 1}\n",
    "dict[\"Thu\"] = 13\n",
    "dict[\"Sat\"] = 2\n",
    "dict[\"Sun\"] = 9\n",
    "print(dict)"
   ]
  },
  {
   "cell_type": "markdown",
   "metadata": {},
   "source": [
    "#### 23 Dictionaries: Common Applications\n",
    "```\n",
    "```"
   ]
  },
  {
   "cell_type": "code",
   "execution_count": 40,
   "metadata": {},
   "outputs": [
    {
     "name": "stdout",
     "output_type": "stream",
     "text": [
      "0\n"
     ]
    }
   ],
   "source": [
    "counts = { 'quincy' : 1 , 'mrugesh' : 42, 'beau': 100, '0': 10}\n",
    "print(counts.get('kris', 0))"
   ]
  },
  {
   "cell_type": "markdown",
   "metadata": {},
   "source": [
    "#### 24 Dictionaries and Loops\n",
    "```\n",
    "annie 42\n",
    "jan 100\n",
    "```"
   ]
  },
  {
   "cell_type": "code",
   "execution_count": 43,
   "metadata": {},
   "outputs": [
    {
     "name": "stdout",
     "output_type": "stream",
     "text": [
      "annie 42\n",
      "jan 100\n"
     ]
    }
   ],
   "source": [
    "counts = { 'chuck' : 1 , 'annie' : 42, 'jan': 100}\n",
    "for key in counts:\n",
    "    if counts[key] > 10:\n",
    "        print(key, counts[key])"
   ]
  },
  {
   "cell_type": "markdown",
   "metadata": {},
   "source": [
    "#### 25 The Tuples Collection\n",
    "```\n",
    "```"
   ]
  },
  {
   "cell_type": "code",
   "execution_count": 53,
   "metadata": {},
   "outputs": [
    {
     "name": "stdout",
     "output_type": "stream",
     "text": [
      "quincy 1\n",
      "beau 5\n",
      "kris 9\n"
     ]
    }
   ],
   "source": [
    "d1 = {}\n",
    "d1['quincy'] = 1\n",
    "d1['beau'] = 5\n",
    "d1['kris'] = 9\n",
    "for (k,i) in d1.items():\n",
    "    print(k, i)"
   ]
  },
  {
   "cell_type": "markdown",
   "metadata": {},
   "source": [
    "#### 26 Comparing and Sorting Tuples\n",
    "```\n",
    "Which does the same thing as the following code?:\n",
    "\n",
    "lst = []\n",
    "for key, val in counts.items():\n",
    "    newtup = (val, key)\n",
    "    lst.append(newtup)\n",
    "lst = sorted(lst, reverse=True)\n",
    "print(lst)\n",
    "\n",
    "***print( sorted( [ (v,k) for k,v in counts.items() ], reverse=True ) )\n",
    "\n",
    "print( [ (k,v) for k,v in counts.items().sorted() ] )\n",
    "\n",
    "print( sorted( [ (v,k) for k,v in counts.keys() ] ) )\n",
    "\n",
    "print( [ (k,v) for k,v in counts.values().sort() ] )\n",
    "```"
   ]
  },
  {
   "cell_type": "code",
   "execution_count": 55,
   "metadata": {},
   "outputs": [
    {
     "name": "stdout",
     "output_type": "stream",
     "text": [
      "[(100, 'jan'), (42, 'annie'), (1, 'chuck')]\n",
      "[(100, 'jan'), (42, 'annie'), (1, 'chuck')]\n"
     ]
    }
   ],
   "source": [
    "lst = []\n",
    "for key, val in counts.items():\n",
    "    newtup = (val, key)\n",
    "    lst.append(newtup)\n",
    "lst = sorted(lst, reverse=True)\n",
    "print(lst)\n",
    "print( sorted( [ (v,k) for k,v in counts.items() ], reverse=True ) )"
   ]
  },
  {
   "cell_type": "markdown",
   "metadata": {},
   "source": [
    "#### 27 Regular Expressions\n",
    "```\n",
    "Which regex matches only a white space character?\n",
    "\\s\n",
    "```"
   ]
  },
  {
   "cell_type": "markdown",
   "metadata": {},
   "source": [
    "#### 28 Regular Expressions: Matching and Extracting Data\n",
    "```\n",
    "['csev@umich.edu', 'cwen@iupui.edu']\n",
    "```"
   ]
  },
  {
   "cell_type": "code",
   "execution_count": 56,
   "metadata": {},
   "outputs": [
    {
     "name": "stdout",
     "output_type": "stream",
     "text": [
      "['csev@umich.edu', 'cwen@iupui.edu']\n"
     ]
    }
   ],
   "source": [
    "import re\n",
    "s = 'A message from csev@umich.edu to cwen@iupui.edu about meeting @2PM'\n",
    "lst = re.findall('\\\\S+@\\\\S+', s)\n",
    "print(lst)"
   ]
  },
  {
   "cell_type": "markdown",
   "metadata": {},
   "source": [
    "#### 29 Regular Expressions: Practical Applications\n",
    "```\n",
    "What will search for a \"$\" in a regular expression?\n",
    "\n",
    "\\$\n",
    "```\n"
   ]
  },
  {
   "cell_type": "code",
   "execution_count": 63,
   "metadata": {},
   "outputs": [
    {
     "name": "stdout",
     "output_type": "stream",
     "text": [
      "['$frogman']\n"
     ]
    }
   ],
   "source": [
    "s = 'adfaf $frogman, sfsfafaf'\n",
    "lst = re.findall('\\$\\\\w+',s)\n",
    "print(lst)"
   ]
  },
  {
   "cell_type": "markdown",
   "metadata": {},
   "source": [
    "#### 30 Networking with Python\n",
    "```\n",
    "What Python library gives access to TCP Sockets?\n",
    "\n",
    "\n",
    "tcp\n",
    "\n",
    "\n",
    "***socket\n",
    "\n",
    "\n",
    "http\n",
    "\n",
    "\n",
    "port\n",
    "```\n"
   ]
  },
  {
   "cell_type": "markdown",
   "metadata": {},
   "source": [
    "#### 31 Networking Protocol\n",
    "```\n",
    "What type of HTTP request is usually used to access a website?\n",
    "\n",
    "\n",
    "POST\n",
    "\n",
    "\n",
    "***GET\n",
    "\n",
    "\n",
    "WEB\n",
    "\n",
    "\n",
    "ACCESS\n",
    "```"
   ]
  },
  {
   "cell_type": "markdown",
   "metadata": {},
   "source": [
    "#### 32 Networking: Write a Web Browser\n",
    "```\n",
    "A simple web server.\n",
    "\n",
    "\n",
    "A simple email client.\n",
    "\n",
    "\n",
    "A simple todo list.\n",
    "\n",
    "\n",
    "***A simple web browser.\n",
    "```"
   ]
  },
  {
   "cell_type": "code",
   "execution_count": 64,
   "metadata": {},
   "outputs": [
    {
     "name": "stdout",
     "output_type": "stream",
     "text": [
      "HTTP/1.1 200 OK\r\n",
      "Date: Thu, 09 Jul 2020 10:30:40 GMT\r\n",
      "Server: Apache/2.4.18 (Ubuntu)\r\n",
      "Last-Modified: Sat, 13 May 2017 11:22:22 GMT\r\n",
      "ETag: \"a7-54f6609245537\"\r\n",
      "Accept-Ranges: bytes\r\n",
      "Content-Length: 167\r\n",
      "Cache-Control: max-age=0, no-cache, no-store, must-revalidate\r\n",
      "Pragma: no-cache\r\n",
      "Expires: Wed, 11 Jan 1984 05:00:00 GMT\r\n",
      "Connection: close\r\n",
      "Content-Type: text/plain\r\n",
      "\r\n",
      "But soft what light through yonder window breaks\n",
      "It is the east and Juliet is the sun\n",
      "Arise fair sun and kill the envious moon\n",
      "Who is already sick and pale with grief\n"
     ]
    }
   ],
   "source": [
    "import socket\n",
    "\n",
    "mysock = socket.socket(socket.AF_INET, socket.SOCK_STREAM)\n",
    "mysock.connect(('data.pr4e.org', 80))\n",
    "cmd = 'GET http://data.pr4e.org/romeo.txt HTTP/1.0\\r\\n\\r\\n'.encode()\n",
    "mysock.send(cmd)\n",
    "\n",
    "while True:\n",
    "    data = mysock.recv(512)\n",
    "    if len(data) < 1:\n",
    "        break\n",
    "    print(data.decode(),end='')\n",
    "mysock.close()"
   ]
  },
  {
   "cell_type": "markdown",
   "metadata": {},
   "source": [
    "#### 33 Networking: Text Processing\n",
    "```\n",
    "Which type of encoding do most websites use?\n",
    "UTF-8\n",
    "```"
   ]
  },
  {
   "cell_type": "markdown",
   "metadata": {},
   "source": [
    "#### 34 Networking: Using urllib in Python\n",
    "```\n",
    "```"
   ]
  },
  {
   "cell_type": "code",
   "execution_count": 65,
   "metadata": {},
   "outputs": [
    {
     "name": "stdout",
     "output_type": "stream",
     "text": [
      "But soft what light through yonder window breaks\n",
      "It is the east and Juliet is the sun\n",
      "Arise fair sun and kill the envious moon\n",
      "Who is already sick and pale with grief\n"
     ]
    }
   ],
   "source": [
    "import urllib.request\n",
    "fhand = urllib.request.urlopen('http://data.pr4e.org/romeo.txt')\n",
    "for line in fhand:\n",
    "    print(line.decode().strip())"
   ]
  },
  {
   "cell_type": "markdown",
   "metadata": {},
   "source": [
    "#### 35 Networking: Web Scraping with Python\n",
    "```\n",
    "What Python library is used for parsing HTML documents and extracting data from HTML documents?\n",
    "\n",
    "\n",
    "socket\n",
    "\n",
    "\n",
    "http\n",
    "\n",
    "\n",
    "***BeautifulSoup\n",
    "\n",
    "\n",
    "PrettyBiscuit\n",
    "\n",
    "\n",
    "WonderfulSalad\n",
    "\n",
    "\n",
    "HttpParser\n",
    "\n",
    "\n",
    "GrunkleStan```"
   ]
  },
  {
   "cell_type": "markdown",
   "metadata": {},
   "source": [
    "#### 36 Using Web Services\n",
    "```\n",
    "What are the two most common ways to send data over the internet?\n",
    "\n",
    "\n",
    "JSON and TXT\n",
    "\n",
    "\n",
    "***JSON and XML\n",
    "\n",
    "\n",
    "XML and TXT\n",
    "\n",
    "\n",
    "XML and PHP\n",
    "\n",
    "\n",
    "PHP and TXT\n",
    "```"
   ]
  },
  {
   "cell_type": "markdown",
   "metadata": {},
   "source": [
    "#### 37 Web Services: XML\n",
    "```\n",
    "What is wrong with the following XML?:\n",
    "\n",
    "<person>\n",
    "  <name>Chuck</name>\n",
    "  <phone type=\"intl\">\n",
    "    +1 734 303 4456\n",
    "  <email hide=\"yes\" />\n",
    "</person>\n",
    "\n",
    "Email tag is missing closing tag.\n",
    "\n",
    "\n",
    "Spacing will cause XML to be invalid.\n",
    "\n",
    "\n",
    "***Phone tag is missing closing tag.\n",
    "\n",
    "\n",
    "Plain text should be encoded using UTF-8.\n",
    "```"
   ]
  },
  {
   "cell_type": "markdown",
   "metadata": {},
   "source": [
    "#### 38 Web Services: XML Schema\n",
    "[XSD — умный XML](https://habr.com/ru/post/90696/)  \n",
    "```\n",
    "What is XSD?\n",
    "\n",
    "\n",
    "***The W3C Schema specification for XML.\n",
    "\n",
    "\n",
    "The standard JSON schema from MOZ.\n",
    "\n",
    "\n",
    "Extensible Situational Driver\n",
    "```"
   ]
  },
  {
   "cell_type": "markdown",
   "metadata": {},
   "source": [
    "#### 39 Web Services: JSON\n",
    "```\n",
    "Mrugesh\n",
    "```"
   ]
  },
  {
   "cell_type": "code",
   "execution_count": 76,
   "metadata": {},
   "outputs": [
    {
     "name": "stdout",
     "output_type": "stream",
     "text": [
      "Mrugesh\n"
     ]
    }
   ],
   "source": [
    "import json\n",
    "data = '''\n",
    "  [\n",
    "    { \"id\" : \"001\",\n",
    "      \"x\" : \"2\",\n",
    "     \"name\" : \"Quincy\"\n",
    "    } ,\n",
    "    { \"id\" : \"009\",\n",
    "      \"x\" : \"7\",\n",
    "      \"name\" : \"Mrugesh\"\n",
    "      }\n",
    "  ]\n",
    "'''\n",
    "info = json.loads(data)\n",
    "# json.loads('[\"foo\", {\"bar\":[\"baz\", null, 1.0, 2]}]')\n",
    "print(info[1]['name'])"
   ]
  },
  {
   "cell_type": "markdown",
   "metadata": {},
   "source": [
    "#### 40 Web Services: Service Oriented Approach\n",
    "```\n",
    "With a services oriented approach to developing web apps, where is the data located?\n",
    "\n",
    "\n",
    "***Spread across many computer systems connected via the internet or internal network.\n",
    "\n",
    "\n",
    "Within different services on the main web server.\n",
    "\n",
    "\n",
    "On a separate database server.\n",
    "```"
   ]
  },
  {
   "cell_type": "markdown",
   "metadata": {},
   "source": [
    "#### 41 Web Services: APIs\n",
    "```\n",
    "What does API stand for?\n",
    "\n",
    "\n",
    "Application Portable Intelligence\n",
    "\n",
    "\n",
    "Associate Programming International\n",
    "\n",
    "\n",
    "***Application Program Interface\n",
    "\n",
    "\n",
    "Action Portable Interface\n",
    "```"
   ]
  },
  {
   "cell_type": "markdown",
   "metadata": {},
   "source": [
    "#### 42 Web Services: API Rate Limiting and Security\n",
    "```\n",
    "When making a request from the Twitter API, what information must always be sent with the request?\n",
    "\n",
    "\n",
    "Twitter username\n",
    "\n",
    "\n",
    "date range\n",
    "\n",
    "\n",
    "search term\n",
    "\n",
    "\n",
    "***key\n",
    "```"
   ]
  },
  {
   "cell_type": "markdown",
   "metadata": {},
   "source": [
    "#### 43 Python Objects\n",
    "```\n",
    "Which is NOT true about objects in Python?\n",
    "\n",
    "\n",
    "Objects get created and used.\n",
    "\n",
    "\n",
    "Objects are bits of code and data.\n",
    "\n",
    "\n",
    "Objects hide detail.\n",
    "\n",
    "\n",
    "***Objects are one of the five standard data types.\n",
    "```"
   ]
  },
  {
   "cell_type": "markdown",
   "metadata": {},
   "source": [
    "#### 44 Objects: A Sample Class\n",
    "```\n",
    "```\n"
   ]
  },
  {
   "cell_type": "code",
   "execution_count": 77,
   "metadata": {},
   "outputs": [
    {
     "name": "stdout",
     "output_type": "stream",
     "text": [
      "2\n",
      "4\n"
     ]
    }
   ],
   "source": [
    "class PartyAnimal:\n",
    "    x = 0\n",
    "    def party(self):\n",
    "        self.x = self.x + 2\n",
    "        print(self.x)\n",
    "\n",
    "an = PartyAnimal()\n",
    "an.party()\n",
    "an.party()"
   ]
  },
  {
   "cell_type": "markdown",
   "metadata": {},
   "source": [
    "#### 45 Object Lifecycle\n",
    "```\n",
    "```"
   ]
  },
  {
   "cell_type": "code",
   "execution_count": 78,
   "metadata": {},
   "outputs": [
    {
     "name": "stdout",
     "output_type": "stream",
     "text": [
      "Quincy constructed\n",
      "Miya constructed\n",
      "Quincy party count 1\n",
      "Miya party count 1\n",
      "Quincy party count 2\n"
     ]
    }
   ],
   "source": [
    "class PartyAnimal:\n",
    "    x = 0\n",
    "    name = ''\n",
    "    def __init__(self, nam):\n",
    "        self.name = nam\n",
    "        print(self.name,'constructed')\n",
    "    def party(self):\n",
    "        self.x = self.x + 1\n",
    "        print(self.name,'party count',self.x)\n",
    "\n",
    "q = PartyAnimal('Quincy')\n",
    "m = PartyAnimal('Miya')\n",
    "\n",
    "q.party()\n",
    "m.party()\n",
    "q.party()"
   ]
  },
  {
   "cell_type": "markdown",
   "metadata": {},
   "source": [
    "#### 46 Objects: Inheritance\n",
    "```\n",
    "What is inheritance in object-oriented programming?\n",
    "\n",
    "\n",
    "A new class created when a parent class is extended.\n",
    "\n",
    "\n",
    "A constructed instance of a class.\n",
    "\n",
    "\n",
    "***The ability to create a new class by extending an existing class.\n",
    "\n",
    "\n",
    "A method that is called at the moment when a class is being used to construct an object.\n",
    "```\n"
   ]
  },
  {
   "cell_type": "markdown",
   "metadata": {},
   "source": [
    "#### 47 Relational Databases and SQLite\n",
    "```\n",
    "Which is NOT a primary data structure in a database?\n",
    "\n",
    "\n",
    "***index\n",
    "\n",
    "\n",
    "table\n",
    "\n",
    "\n",
    "row\n",
    "\n",
    "\n",
    "column\n",
    "```\n"
   ]
  },
  {
   "cell_type": "markdown",
   "metadata": {},
   "source": [
    "#### 48 Make a Relational Database\n",
    "```\n",
    "What SQL command would you use to retrieve all users that have the email address quincy@freecodecamp.org?\n",
    "\n",
    "\n",
    "SELECT Users WHERE email=\"quincy@freecodecamp.org\"\n",
    "\n",
    "SELECT Users WHERE email IS \"quincy@freecodecamp.org\"\n",
    "\n",
    "SELECT ALL Users WHERE email=\"quincy@freecodecamp.org\"\n",
    "\n",
    "SELECT * FROM Users WHERE email IS \"quincy@freecodecamp.org\"\n",
    "\n",
    "SELECT * FROM Users WHERE email=\"quincy@freecodecamp.org\"\n",
    "```\n"
   ]
  },
  {
   "cell_type": "markdown",
   "metadata": {},
   "source": [
    "#### 49 Relational Database Design\n",
    "```\n",
    "What SQL command would you use to retrieve all users that have the email address quincy@freecodecamp.org?\n",
    "\n",
    "\n",
    "SELECT Users WHERE email=\"quincy@freecodecamp.org\"\n",
    "\n",
    "SELECT Users WHERE email IS \"quincy@freecodecamp.org\"\n",
    "\n",
    "SELECT ALL Users WHERE email=\"quincy@freecodecamp.org\"\n",
    "\n",
    "SELECT * FROM Users WHERE email IS \"quincy@freecodecamp.org\"\n",
    "\n",
    "***SELECT * FROM Users WHERE email=\"quincy@freecodecamp.org\"\n",
    "```"
   ]
  },
  {
   "cell_type": "markdown",
   "metadata": {},
   "source": [
    "#### 50 Representing Relationships in a Relational Database\n",
    "```\n",
    "What is the best practice for how many times a piece of string data should be stored in a database?\n",
    "\n",
    "\n",
    "0\n",
    "\n",
    "\n",
    "***1\n",
    "\n",
    "\n",
    "2\n",
    "\n",
    "\n",
    "3```\n",
    "\n",
    "```\n",
    "What is a foreign key?\n",
    "\n",
    "\n",
    "A key that is not supposed to be there.\n",
    "\n",
    "\n",
    "A key that uses non-latin characters.\n",
    "\n",
    "\n",
    "***A number that points to the primary key of an associated row in a different table.\n",
    "\n",
    "\n",
    "A key that the \"real world\" might use to look up a row.\n",
    "```\n"
   ]
  },
  {
   "cell_type": "markdown",
   "metadata": {},
   "source": [
    "#### 51 Relational Databases: Relationship Building\n",
    "```\n",
    "What does the INSERT command do in SQL?\n",
    "\n",
    "\n",
    "***It defines a new row by listing the fields we want to include followed by the values we want placed in the new row.\n",
    "\n",
    "\n",
    "It defines a new column by listing the rows we want to include followed by the values we want placed in the new column.\n",
    "\n",
    "\n",
    "It defines a new table by listing the rows and fields we want to include followed by the values that we want placed in the table.\n",
    "```\n"
   ]
  },
  {
   "cell_type": "markdown",
   "metadata": {},
   "source": [
    "#### 52 Relational Databases: Join Operation\n",
    "```\n",
    "When using a JOIN clause in an SQL statement, what does ON do?\n",
    "\n",
    "\n",
    "It indicates what tables to perform the JOIN on.\n",
    "\n",
    "\n",
    "It specifies the fields to use for the JOIN.\n",
    "\n",
    "\n",
    "***It indicates how the two tables are to be joined.\n",
    "```\n"
   ]
  },
  {
   "cell_type": "markdown",
   "metadata": {},
   "source": [
    "#### 53 Relational Databases: Many-to-many Relationships\n",
    "```\n",
    "Which is an example of a many-to-many relationship?\n",
    "\n",
    "\n",
    "***teacher to student\n",
    "\n",
    "\n",
    "customer to order\n",
    "\n",
    "\n",
    "book to pages\n",
    "\n",
    "\n",
    "city to country\n",
    "```\n"
   ]
  },
  {
   "cell_type": "markdown",
   "metadata": {},
   "source": [
    "#### 54 Visualizing Data with Python\n",
    "```\n",
    "Most data needs to be __ before using it.\n",
    "\n",
    "\n",
    "converted to JSON format\n",
    "\n",
    "\n",
    "graphed\n",
    "\n",
    "\n",
    "***cleaned\n",
    "\n",
    "\n",
    "memorized\n",
    "\n",
    "\n",
    "turned into song\n",
    "```\n"
   ]
  },
  {
   "cell_type": "markdown",
   "metadata": {},
   "source": [
    "#### 55 Data Visualization: Page Rank\n",
    "```\n",
    "How does the PageRank algorithm work?\n",
    "\n",
    "\n",
    "***It determines which pages are most highly connected.\n",
    "\n",
    "\n",
    "It ranks pages based on view counts.\n",
    "\n",
    "\n",
    "It figures out which pages contain the most important content.\n",
    "```\n"
   ]
  },
  {
   "cell_type": "markdown",
   "metadata": {},
   "source": []
  },
  {
   "cell_type": "markdown",
   "metadata": {},
   "source": []
  },
  {
   "cell_type": "markdown",
   "metadata": {},
   "source": []
  },
  {
   "cell_type": "markdown",
   "metadata": {},
   "source": []
  },
  {
   "cell_type": "markdown",
   "metadata": {},
   "source": [
    "#### 56 Data Visualization: Mailing Lists\n",
    "```\n",
    "Which is a common JavaScript visualization library?\n",
    "\n",
    "\n",
    "DataViz.js\n",
    "\n",
    "\n",
    "***D3\n",
    "\n",
    "\n",
    "Lowcharts\n",
    "\n",
    "\n",
    "DATA6\n",
    "```"
   ]
  },
  {
   "cell_type": "markdown",
   "metadata": {},
   "source": []
  },
  {
   "cell_type": "markdown",
   "metadata": {},
   "source": [
    "### Scientific Computing with Python Projects"
   ]
  },
  {
   "cell_type": "markdown",
   "metadata": {},
   "source": [
    "[]()  \n",
    "[]()  \n",
    "[]()  \n",
    "[]()  \n",
    "[]()  \n"
   ]
  },
  {
   "cell_type": "markdown",
   "metadata": {},
   "source": []
  },
  {
   "cell_type": "code",
   "execution_count": 19,
   "metadata": {},
   "outputs": [
    {
     "name": "stdout",
     "output_type": "stream",
     "text": [
      " 01 11 21\n",
      " 02 12 22\n",
      " 03 13 23\n",
      "\n"
     ]
    }
   ],
   "source": [
    "l1 = [' 01', ' 02', ' 03', ]\n",
    "l2 = [' 11', ' 12', ' 13', ]\n",
    "l3 = [' 21', ' 22', ' 23', ]\n",
    "\n",
    "ll1 = []\n",
    "ll1.append(l1)\n",
    "ll1.append(l2)\n",
    "ll1.append(l3)\n",
    "\n",
    "def arrColumn(ll1):\n",
    "    rs = ''\n",
    "    lenArr = len(l1[0])\n",
    "\n",
    "    ll = []\n",
    "    for i in range(lenArr):\n",
    "        s = ''\n",
    "        for j in range(len(ll1)):\n",
    "            s += ll1[j][i]\n",
    "        rs += s\n",
    "        rs += '\\n'\n",
    "    #         ll.append(i)\n",
    "    return rs\n",
    "print(arrColumn(ll1))\n",
    "\n",
    "\n",
    "# print(lenArr,l1)\n"
   ]
  },
  {
   "cell_type": "markdown",
   "metadata": {},
   "source": [
    "#### last"
   ]
  },
  {
   "cell_type": "code",
   "execution_count": 235,
   "metadata": {},
   "outputs": [
    {
     "name": "stdout",
     "output_type": "stream",
     "text": [
      "\n",
      "Error: Operator must be '+' or '-'.\n"
     ]
    }
   ],
   "source": [
    "import re\n",
    "\n",
    "def getNums(s):\n",
    "  a = re.findall(\"\\\\S+\",s)\n",
    "  r = []\n",
    "  for i in a:\n",
    "    if i != '+' and i != '-' and i != '/':\n",
    "      r.append(i)\n",
    "  return r\n",
    "\n",
    "def getSign(s):\n",
    "    r = re.findall(\"[+-]\",s)\n",
    "    return r[0] if len(r)==1 else ''\n",
    "\n",
    "def culc(s):\n",
    "    vn = getNums(s)\n",
    "    for i in range(0,len(vn)):\n",
    "        vn[i] = float(vn[i])\n",
    "    vs = getSign(s)\n",
    "    r = 0\n",
    "    if vs == '+':\n",
    "        r = vn[0] + vn[1]\n",
    "    elif vs == '-':\n",
    "        r = vn[0] - vn[1]\n",
    "    r = int(r)\n",
    "    return r\n",
    "\n",
    "# lenStr = 10\n",
    "def getStr(n, lenStr):\n",
    "#     print(n, 555)\n",
    "#     print(lenStr)\n",
    "    r = str(n)\n",
    "    r = \"          \" + \\\n",
    "    str(r)\n",
    "    r = r[-lenStr:]\n",
    "    return r\n",
    "\n",
    "def getLenStr(ln):\n",
    "#     print(ln,666)\n",
    "    l = list(map(lambda x:str(x),ln))\n",
    "    lenStr = len(l[0]) if len(l[0]) > len(l[1]) else len(l[1])\n",
    "    lenStr += 2\n",
    "#     print(lenStr, ln, 888888)\n",
    "    return lenStr\n",
    "    \n",
    "\n",
    "def getStrs(s):\n",
    "    ln = getNums(s)\n",
    "    lenMax = len(ln[0]) if len(ln[0]) > len(ln[1]) else len(ln[1])\n",
    "    lenStr = getLenStr(ln)\n",
    "#     print(lenStr, 777777)\n",
    "    ln[0] = getStr(ln[0], lenStr)\n",
    "    ln[1] = getStr(ln[1], lenStr)\n",
    "#     ln[1][-5] = '*'\n",
    "    ss = \"135678\"\n",
    "    ss = ss[0:3]+'a'+ss[3+1:]\n",
    "    ln[1] = ln[1][0:-lenMax-2]+getSign(s)+ln[1][-lenMax-1:]\n",
    "    lenStr = getLenStr(ln)\n",
    "#     print(lenStr, 88888888, ln[1])\n",
    "    ln.append(getStr('-------------', lenStr-2))\n",
    "    ln.append(getStr(culc(s), lenStr-2))\n",
    "#     print(ln)\n",
    "    return ln\n",
    "\n",
    "def arrColumn(ll1, isTrue):\n",
    "    rs = ''\n",
    "    lenArr = len(ll1[0])\n",
    "\n",
    "    ll = []\n",
    "    for i in range(lenArr):\n",
    "        s = ''\n",
    "        for j in range(len(ll1)):\n",
    "            s += ll1[j][i]\n",
    "            if j != len(ll1) - 1:\n",
    "              s += '    '\n",
    "        if isTrue == False and i == lenArr-1:\n",
    "          continue\n",
    "        rs += s\n",
    "        rs += '\\n'\n",
    "    #         ll.append(i)\n",
    "    return rs[:-1]\n",
    "\n",
    "def arithmetic_arranger(*args):\n",
    "  serror = ''\n",
    "  isTrue = False  \n",
    "  if len(args) == 2:\n",
    "    isTrue = args[1]\n",
    "  problems = args[0]\n",
    "  for k in problems:\n",
    "    l = getNums(k)\n",
    "    for i in l:\n",
    "      if len(i) > 4:\n",
    "        serror = \"Error: Numbers cannot be more than four digits.\"\n",
    "      try:\n",
    "        k = int(i)\n",
    "      except:\n",
    "        serror += \"\\n\"\n",
    "        serror = \"Error: Numbers must only contain digits.\"\n",
    "\n",
    "\n",
    "  for k in problems:\n",
    "    sign = getSign(k)\n",
    "    if len(sign) == 0:\n",
    "      serror += \"\\n\"\n",
    "      serror = \"Error: Operator must be '+' or '-'.\"\n",
    "\n",
    "  if len(problems) > 5:\n",
    "    serror += \"\\n\"\n",
    "    serror = \"Error: Too many problems.\"\n",
    "        \n",
    "  if len(serror)>0:\n",
    "    return serror  \n",
    "    \n",
    "  llColumn = []\n",
    "  for i in problems:\n",
    "    llColumn.append(getStrs(i))\n",
    "    arranged_problems = arrColumn(llColumn, isTrue)  \n",
    "  return arranged_problems\n",
    "\n",
    "\n",
    "\n",
    "problems = [\"32 / 698\", \"3801 - 2\", \"45 + 43\", \"123 + 49\"]\n",
    "s = arithmetic_arranger(problems)\n",
    "print(s)\n",
    "# s = \"32 + 698\"\n",
    "# print(getStrs(s))"
   ]
  },
  {
   "cell_type": "code",
   "execution_count": 230,
   "metadata": {},
   "outputs": [
    {
     "name": "stdout",
     "output_type": "stream",
     "text": [
      "4\n"
     ]
    }
   ],
   "source": [
    "print(\"1353673rtr3\".count('3'))"
   ]
  },
  {
   "cell_type": "code",
   "execution_count": 226,
   "metadata": {},
   "outputs": [
    {
     "name": "stdout",
     "output_type": "stream",
     "text": [
      "13\n"
     ]
    }
   ],
   "source": [
    "print(\"135\"[:-1])"
   ]
  },
  {
   "cell_type": "code",
   "execution_count": 197,
   "metadata": {},
   "outputs": [
    {
     "name": "stdout",
     "output_type": "stream",
     "text": [
      "1 2\n"
     ]
    }
   ],
   "source": [
    "def func(*args):\n",
    "    print(args[0],len(args))\n",
    "\n",
    "func(1, 2)    "
   ]
  },
  {
   "cell_type": "code",
   "execution_count": 168,
   "metadata": {},
   "outputs": [
    {
     "name": "stdout",
     "output_type": "stream",
     "text": [
      "[2, 6, 10]\n"
     ]
    }
   ],
   "source": [
    "l = [1,3,5]\n",
    "print(list(map(lambda x: x*2, l)))"
   ]
  },
  {
   "cell_type": "code",
   "execution_count": 115,
   "metadata": {},
   "outputs": [
    {
     "name": "stdout",
     "output_type": "stream",
     "text": [
      "Error: Numbers must only contain digits.\n",
      "['3a2', '698']\n"
     ]
    }
   ],
   "source": [
    "def getNums(s):\n",
    "    a = re.findall(\"\\\\S+\",s)\n",
    "    r = []\n",
    "    for i in a:\n",
    "        if i != '+' and i != '-':\n",
    "            r.append(i)\n",
    "    for i in r:\n",
    "        try:\n",
    "            k = int(i)\n",
    "        except:\n",
    "            print(\"Error: Numbers must only contain digits.\")\n",
    "    \n",
    "    return r\n",
    "s = \"3a2 + 698\"\n",
    "print(getNums(s))\n"
   ]
  },
  {
   "cell_type": "code",
   "execution_count": 37,
   "metadata": {},
   "outputs": [
    {
     "name": "stdout",
     "output_type": "stream",
     "text": [
      "Error: Numbers cannot be more than four digits.\n"
     ]
    }
   ],
   "source": [
    "try:\n",
    "   raise Exception(\"Numbers cannot be more than four digits.\")\n",
    "except Exception as e:\n",
    "   print(\"Error: \" + str(e))"
   ]
  },
  {
   "cell_type": "code",
   "execution_count": 84,
   "metadata": {},
   "outputs": [
    {
     "name": "stdout",
     "output_type": "stream",
     "text": [
      "32 + 698\n",
      "3801 - 2\n",
      "45 + 43\n",
      "123 + 49\n",
      "['32 + 698', '3801 - 2', '45 + 43', '123 + 49']\n"
     ]
    }
   ],
   "source": [
    "import re\n",
    "\n",
    "def getNums(s):\n",
    "    \n",
    "    return s\n",
    "\n",
    "def arithmetic_arranger(v):\n",
    "    for i in v:\n",
    "        print(i)\n",
    "    r = v\n",
    "    \n",
    "    return r\n",
    "\n",
    "\n",
    "print(arithmetic_arranger([\"32 + 698\", \"3801 - 2\", \"45 + 43\", \"123 + 49\"]))"
   ]
  },
  {
   "cell_type": "markdown",
   "metadata": {},
   "source": [
    "```\n",
    "  32         1      9999      523\n",
    "+  8    - 3801    + 9999    -  49\n",
    "----    ------    ------    -----\n",
    "  40     -3800     19998      474\n",
    "```"
   ]
  },
  {
   "cell_type": "markdown",
   "metadata": {},
   "source": [
    "[]()  \n",
    "[]()  \n",
    "[]()  \n"
   ]
  },
  {
   "cell_type": "code",
   "execution_count": 220,
   "metadata": {},
   "outputs": [
    {
     "name": "stdout",
     "output_type": "stream",
     "text": [
      "   32      3801      45      123\n",
      "+ 698    -    2    + 43    +  49\n",
      "-----    ------    ----    -----\n"
     ]
    }
   ],
   "source": [
    "def arithmetic_arranger(problems, flag = False):\n",
    "\n",
    "  if len(problems) > 5:\n",
    "    return 'Error: Too many problems.'\n",
    "\n",
    "  line_a = '' \n",
    "  line_b = ''\n",
    "  line_c = ''\n",
    "  line_d = ''\n",
    "\n",
    "  for i, problem in enumerate(problems):\n",
    "    n1, op, n2 = problem.split()\n",
    "    l1, l2 = len(n1), len(n2)\n",
    "    \n",
    "    if op not in ['+', '-']:\n",
    "      return 'Error: Operator must be \\'+\\' or \\'-\\'.'\n",
    "    if not (n1.isdigit() and n2.isdigit()):\n",
    "      return 'Error: Numbers must only contain digits.'\n",
    "    if l1 > 4 or l2 > 4:\n",
    "      return 'Error: Numbers cannot be more than four digits.'\n",
    "\n",
    "    spacing = max(l1,l2)\n",
    "    result = int(n1) + int(n2) if op == '+' else int(n1) - int(n2)\n",
    "\n",
    "    line_a = line_a + n1.rjust(spacing+2) \n",
    "    line_b = line_b + op + n2.rjust(spacing+1) \n",
    "    line_c = line_c + ''.rjust(spacing+2, '-') \n",
    "    line_d = line_d + str(result).rjust(spacing+2) \n",
    "\n",
    "    if i < len(problems) - 1:\n",
    "      line_a += '    '\n",
    "      line_b += '    '\n",
    "      line_c += '    '\n",
    "      line_d += '    '\n",
    "\n",
    "  #print(flag)\n",
    "  if flag:\n",
    "    arranged_problems = line_a + '\\n' + line_b + '\\n' + line_c + '\\n' + line_d\n",
    "  else:\n",
    "    arranged_problems = line_a + '\\n' + line_b + '\\n' + line_c  \n",
    "  return arranged_problems\n",
    "\n",
    "problems = [\"32 + 698\", \"3801 - 2\", \"45 + 43\", \"123 + 49\"]\n",
    "s = arithmetic_arranger(problems)\n",
    "print(s)\n"
   ]
  },
  {
   "cell_type": "markdown",
   "metadata": {},
   "source": [
    "#### Introduction to the Scientific Computing with Python Projects\n",
    "```\n",
    "```\n",
    "#### 1 Arithmetic Formatter\n",
    "[last](#last)  \n",
    "[fcc-arithmetic-arranger-1](https://repl.it/@mlapinm/fcc-arithmetic-arranger-1#arithmetic_arranger.py)   \n",
    "[repl.it](https://repl.it/@freeCodeCamp/fcc-arithmetic-arranger#README.md)  \n",
    "[github freeCodeCamp\n",
    "/\n",
    "CurriculumExpansion](https://github.com/freeCodeCamp/CurriculumExpansion/issues/231)  \n",
    "[all youtube Python Tutorials](https://www.youtube.com/watch?v=rfscVS0vtbw&list=PLWKjhJtqVAbnqBxcdjVGgT3uVR10bzTEB)  \n",
    "[youtube Python Tutorials](https://www.youtube.com/watch?v=8DvywoWv6fI&list=PLWKjhJtqVAbnqBxcdjVGgT3uVR10bzTEB&index=4)  \n",
    " \n",
    "[]()  \n",
    "[]()  \n",
    "[]()  \n",
    "```\n",
    "```\n",
    "#### 2 Time Calculator\n",
    "[fcc-time-calculator](https://repl.it/@mlapinm/fcc-time-calculator)  \n",
    "[]()  \n",
    "[]()  \n",
    "[]()  \n",
    "[]()  \n",
    "[]()  \n",
    "```\n",
    "```\n"
   ]
  },
  {
   "cell_type": "markdown",
   "metadata": {},
   "source": [
    "##### duble 1"
   ]
  },
  {
   "cell_type": "code",
   "execution_count": null,
   "metadata": {},
   "outputs": [],
   "source": [
    "def add_time(start, duration):\n",
    "\n",
    "\n",
    "\n",
    "\n",
    "\n",
    "  return new_time"
   ]
  },
  {
   "cell_type": "markdown",
   "metadata": {},
   "source": [
    "##### duble 2"
   ]
  },
  {
   "cell_type": "code",
   "execution_count": null,
   "metadata": {},
   "outputs": [],
   "source": [
    "def add_time(start, duration):\n",
    "\n",
    "\n",
    "\n",
    "\n",
    "\n",
    "    return new_time"
   ]
  },
  {
   "cell_type": "code",
   "execution_count": 236,
   "metadata": {},
   "outputs": [
    {
     "data": {
      "application/javascript": [
       "alert(333)\n",
       "element.text(\"\"+555 + 666)  \n"
      ],
      "text/plain": [
       "<IPython.core.display.Javascript object>"
      ]
     },
     "metadata": {},
     "output_type": "display_data"
    }
   ],
   "source": [
    "%%js\n",
    "alert(333)\n",
    "element.text(\"\"+555 + 666)  "
   ]
  },
  {
   "cell_type": "markdown",
   "metadata": {},
   "source": [
    "#### 3 Budget App\n",
    "[]()  \n",
    "[]()  \n",
    "```\n",
    "```\n",
    "#### 4 Polygon Area Calculator\n",
    "[]()  \n",
    "[]()  \n",
    "```\n",
    "```\n",
    "#### 5 Probability Calculator\n",
    "[]()  \n",
    "[]()  \n",
    "```\n",
    "```"
   ]
  },
  {
   "cell_type": "markdown",
   "metadata": {},
   "source": []
  },
  {
   "cell_type": "markdown",
   "metadata": {},
   "source": []
  },
  {
   "cell_type": "markdown",
   "metadata": {},
   "source": []
  },
  {
   "cell_type": "markdown",
   "metadata": {},
   "source": []
  },
  {
   "cell_type": "markdown",
   "metadata": {},
   "source": []
  },
  {
   "cell_type": "markdown",
   "metadata": {},
   "source": [
    "[all youtube Python Tutorials](https://www.youtube.com/watch?v=rfscVS0vtbw&list=PLWKjhJtqVAbnqBxcdjVGgT3uVR10bzTEB)  \n",
    "[]()  \n",
    "[]()  \n",
    "[]()  \n",
    "[]()  \n",
    "[]()  \n"
   ]
  }
 ],
 "metadata": {
  "celltoolbar": "Raw Cell Format",
  "kernelspec": {
   "display_name": "Python 3",
   "language": "python",
   "name": "python3"
  },
  "language_info": {
   "codemirror_mode": {
    "name": "ipython",
    "version": 3
   },
   "file_extension": ".py",
   "mimetype": "text/x-python",
   "name": "python",
   "nbconvert_exporter": "python",
   "pygments_lexer": "ipython3",
   "version": "3.7.8"
  }
 },
 "nbformat": 4,
 "nbformat_minor": 2
}
