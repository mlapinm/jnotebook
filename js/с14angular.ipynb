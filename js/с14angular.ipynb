{
 "cells": [
  {
   "cell_type": "markdown",
   "metadata": {},
   "source": [
    "##### Learn how to easily build single-page web applications using this popular JavaScript framework.\n",
    "[Learn AngularJS 1.X](https://www.codecademy.com/learn/learn-angularjs)  \n",
    "[]()  \n"
   ]
  },
  {
   "cell_type": "markdown",
   "metadata": {},
   "source": [
    "#### Your First App\n",
    "LESSON\n",
    "Get up and running quickly by building an AngularJS app from scratch.\n",
    "\n",
    "Exercises\n",
    "\n",
    "1. Hello AngularJS I\n",
    "\n",
    "2. Hello AngularJS II\n",
    "\n",
    "3. Workflow\n",
    "\n",
    "4. Filters I"
   ]
  },
  {
   "cell_type": "markdown",
   "metadata": {},
   "source": [
    "Your First App\n",
    "LESSON\n",
    "Get up and running quickly by building an AngularJS app from scratch.\n",
    "\n",
    "Exercises\n",
    "\n",
    "1. Hello AngularJS I\n",
    "\n",
    "2. Hello AngularJS II"
   ]
  },
  {
   "cell_type": "markdown",
   "metadata": {},
   "source": [
    "_|_|_|_|_|_\n",
    "--|--|--|--|--|--\n",
    "1|app.js|var app = angular.module('myApp',[]);|||\n",
    "2|index.html|&lt;body ng-app=\"myApp\"&gt;|||\n",
    "3|MainController.js|app.controller(|||\n",
    "4|index.html|&lt;div class=\"main\" ng-controller=\"MainController\"&gt;|||\n",
    "5|index.html|&lt;h1&gt;{{ title}}  &lt;/h1&gt;|||\n",
    "6|||||\n"
   ]
  },
  {
   "cell_type": "markdown",
   "metadata": {},
   "source": [
    "MainController.js"
   ]
  },
  {
   "cell_type": "code",
   "execution_count": null,
   "metadata": {},
   "outputs": [],
   "source": [
    "app.controller('MainController',['$scope',\n",
    "function($scope){\n",
    "  $scope.title = 'Top Sellers in Books';\n",
    "}\n",
    "]);"
   ]
  },
  {
   "cell_type": "markdown",
   "metadata": {},
   "source": [
    "index.html"
   ]
  },
  {
   "cell_type": "code",
   "execution_count": null,
   "metadata": {},
   "outputs": [],
   "source": [
    "    <!-- Modules -->\n",
    "    <script src=\"js/app.js\"></script>\n",
    "\n",
    "    <!-- Controllers -->\n",
    "    <script src=\"js/controllers/MainController.js\"></script>\n",
    "\n",
    "  </body>"
   ]
  },
  {
   "cell_type": "markdown",
   "metadata": {},
   "source": []
  },
  {
   "cell_type": "code",
   "execution_count": null,
   "metadata": {},
   "outputs": [],
   "source": [
    "$scope.promo = 'string promo';\n",
    "        <h1>{{title}}  </h1>\n",
    "        <h2>{{promo}}</h2>"
   ]
  },
  {
   "cell_type": "markdown",
   "metadata": {},
   "source": []
  },
  {
   "cell_type": "markdown",
   "metadata": {},
   "source": [
    "3. Workflow\n",
    "```\n",
    "  $scope.product = { \n",
    "  name: 'The Book of Trees', \n",
    "  price: 19 \n",
    "}; ```\n",
    "4. Filters I  \n",
    "{{product.price| currency}}"
   ]
  },
  {
   "cell_type": "markdown",
   "metadata": {},
   "source": [
    "5. Filters II\n",
    "```\n",
    "<p class=\"title\">{{product.name | uppercase}}</p>\n",
    "        <p class=\"price\">{{product.price| currency}}</p>\n",
    "        <p>{{product.price | currency}}</p>\n",
    "        <p class=\"date\">{{product.pubdate | date}}</p>\n",
    "  price: 19,\n",
    "  pubdate: new Date('2014', '03', '08')         \n",
    "```\n"
   ]
  },
  {
   "cell_type": "markdown",
   "metadata": {},
   "source": [
    "#### 6. ng-repeat I\n",
    "```\n",
    "$scope.products = [{ \n",
    "    name: 'The Book of Trees', \n",
    "    price: 19, \n",
    "    pubdate: new Date('2014', '03', '08'), \n",
    "    cover: 'img/the-book-of-trees.jpg' \n",
    "  }, \n",
    "  { \n",
    "    name: 'Program or be Programmed', \n",
    "    price: 8, \n",
    "    pubdate: new Date('2013', '08', '01'), \n",
    "    cover: 'img/program-or-be-programmed.jpg' \n",
    "  } \n",
    "];\n",
    "\n",
    "<div ng-repeat=\"product in products\" class=\"col-md-6\"> \n",
    "  <div class=\"thumbnail\"> \n",
    "    <img src=\"img/the-book-of-trees.jpg\"> \n",
    "    <p class=\"title\">{{ product.name }}</p> \n",
    "    <p class=\"price\">{{ product.price | currency }}</p> \n",
    "    <p class=\"date\">{{ product.pubdate | date }}</p> \n",
    "  </div> \n",
    "</div> \n",
    "```"
   ]
  },
  {
   "cell_type": "markdown",
   "metadata": {},
   "source": [
    "#### 7. ng-repeat II\n",
    "```\n",
    "<img ng-src=\"{{ product.cover }}\"> \n",
    "```"
   ]
  },
  {
   "cell_type": "markdown",
   "metadata": {},
   "source": [
    "#### 8. Directives"
   ]
  },
  {
   "cell_type": "markdown",
   "metadata": {},
   "source": [
    "#### 9. ng-click I\n",
    "1. \n",
    "```\n",
    "likes: 0,\n",
    "```\n",
    "1. \n",
    "```\n",
    "<div class=\"rating\"> \n",
    "  <p class=\"likes\">+{{product.likes}} </p> \n",
    "</div> \n",
    "```\n",
    "1. \n",
    "```\n",
    "  $scope.plusOne = function(index) { \n",
    "  $scope.products[index].likes += 1; \n",
    "};\n",
    "```\n",
    "1. \n",
    "```\n",
    "<p class=\"likes\" ng-click=\"plusOne($index)\">\n",
    "```"
   ]
  },
  {
   "cell_type": "markdown",
   "metadata": {},
   "source": [
    "#### 10. ng-click II\n",
    "1. \n",
    "```\n",
    "    dislikes: 0,\n",
    "```\n",
    "1. \n",
    "```\n",
    "<p class=\"dislikes\">{{product.dislikes}}</p>\n",
    "```\n",
    "1. \n",
    "```\n",
    "$scope.minusOne = function(index){\n",
    "  $scope.products[index].dislikes += 1;\n",
    "};  \n",
    "```\n",
    "1. \n",
    "```\n",
    "  <p class=\"dislikes\" ng-click=\"minusOne($index)\">-{{product.dislikes}}</p>  \n",
    "```\n",
    "1. \n",
    "```\n",
    "```\n",
    "1. \n",
    "```\n",
    "```\n",
    "1. \n",
    "```\n",
    "```\n",
    "1. \n",
    "```\n",
    "```\n"
   ]
  },
  {
   "cell_type": "markdown",
   "metadata": {},
   "source": [
    "\n",
    "\n",
    "11. Generalizations"
   ]
  },
  {
   "cell_type": "markdown",
   "metadata": {},
   "source": [
    "#### Directives\n",
    "LESSON\n",
    "Learn how to use directives to make standalone UI components.\n",
    "\n",
    "Exercises\n",
    "\n",
    "1. Directives I\n",
    "\n",
    "2. Directives II\n",
    "\n",
    "3. Directives III\n",
    "\n",
    "4. Built-in and Custom Directives\n",
    "\n",
    "5. installApp I\n",
    "\n",
    "6. installApp II\n",
    "\n",
    "7. installApp III\n",
    "\n",
    "8. Generalizations"
   ]
  },
  {
   "cell_type": "markdown",
   "metadata": {},
   "source": [
    "#### Directives\n",
    "LESSON\n",
    "Learn how to use directives to make standalone UI components.\n",
    "\n",
    "Exercises\n",
    "\n",
    "1. Directives I\n",
    "\n",
    "2. Directives II\n",
    "\n",
    "3. Directives III\n",
    "\n",
    "4. Built-in and Custom Directives\n",
    "\n",
    "5. installApp I\n",
    "\n",
    "6. installApp II\n",
    "\n",
    "7. installApp III\n",
    "\n",
    "8. Generalizations"
   ]
  },
  {
   "cell_type": "markdown",
   "metadata": {},
   "source": []
  },
  {
   "cell_type": "markdown",
   "metadata": {},
   "source": []
  },
  {
   "cell_type": "markdown",
   "metadata": {},
   "source": []
  },
  {
   "cell_type": "markdown",
   "metadata": {},
   "source": []
  },
  {
   "cell_type": "markdown",
   "metadata": {},
   "source": []
  },
  {
   "cell_type": "markdown",
   "metadata": {},
   "source": []
  },
  {
   "cell_type": "markdown",
   "metadata": {},
   "source": []
  },
  {
   "cell_type": "markdown",
   "metadata": {},
   "source": []
  },
  {
   "cell_type": "markdown",
   "metadata": {},
   "source": [
    "08.03 - 25 - "
   ]
  },
  {
   "cell_type": "markdown",
   "metadata": {},
   "source": [
    "_|_|_|_|_|_\n",
    "--|--|--|--|--|--\n",
    "currency|деньги|Workflow|рабочий процесс|thumbnail|эскиз\n",
    "generalize|обобщить|behavior|поведение||\n",
    "|||||"
   ]
  }
 ],
 "metadata": {
  "kernelspec": {
   "display_name": "Python 3",
   "language": "python",
   "name": "python3"
  },
  "language_info": {
   "codemirror_mode": {
    "name": "ipython",
    "version": 3
   },
   "file_extension": ".py",
   "mimetype": "text/x-python",
   "name": "python",
   "nbconvert_exporter": "python",
   "pygments_lexer": "ipython3",
   "version": "3.7.4"
  }
 },
 "nbformat": 4,
 "nbformat_minor": 2
}
