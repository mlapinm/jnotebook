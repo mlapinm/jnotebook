{
 "cells": [
  {
   "cell_type": "markdown",
   "metadata": {},
   "source": [
    "[ar00ar 57arduino](ar01ar.ipynb)  \n",
    "[es01rel 82esp](es01rel.ipynb)  \n",
    "[et01 ](et01.ipynb)  \n",
    "[et02 BBC](et02.ipynb)  \n",
    "[tu01 12](tu01.ipynb)  \n",
    "[tu02 3/12](tu02.ipynb)  \n",
    "[tu03 12 context](tu03.ipynb)  \n",
    "[]()  \n"
   ]
  }
 ],
 "metadata": {
  "kernelspec": {
   "display_name": "Python 3",
   "language": "python",
   "name": "python3"
  },
  "language_info": {
   "codemirror_mode": {
    "name": "ipython",
    "version": 3
   },
   "file_extension": ".py",
   "mimetype": "text/x-python",
   "name": "python",
   "nbconvert_exporter": "python",
   "pygments_lexer": "ipython3",
   "version": "3.7.4"
  }
 },
 "nbformat": 4,
 "nbformat_minor": 2
}
