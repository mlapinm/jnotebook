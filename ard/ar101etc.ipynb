{
 "cells": [
  {
   "cell_type": "code",
   "execution_count": null,
   "metadata": {},
   "outputs": [],
   "source": []
  },
  {
   "cell_type": "code",
   "execution_count": null,
   "metadata": {},
   "outputs": [],
   "source": []
  },
  {
   "cell_type": "markdown",
   "metadata": {},
   "source": [
    "#### Определение pin-в esp8266"
   ]
  },
  {
   "cell_type": "markdown",
   "metadata": {},
   "source": [
    "NodeMCU 1.0 (ESP-12E Module)  \n",
    "1,3 UART  \n"
   ]
  },
  {
   "cell_type": "code",
   "execution_count": null,
   "metadata": {},
   "outputs": [],
   "source": [
    "const uint8_t PIN_LED = LED_BUILTIN;  //D4\n",
    "const uint8_t PIN_BTN = 5;            //D1\n",
    "\n",
    "void setup() {\n",
    "  Serial.begin(115200);\n",
    "  Serial.println();\n",
    "\n",
    "  Serial.println(PIN_LED);\n",
    "//  pinMode(PIN_LED, OUTPUT);  \n",
    "  pinMode(PIN_BTN, INPUT_PULLUP);  \n",
    " }\n",
    "\n",
    "\n",
    "\n",
    "// функция loop() выполняется снова и снова всегда\n",
    "void loop() {\n",
    "//  digitalWrite(PIN_LED, digitalRead(PIN_BTN));  \n",
    "\n",
    "  digitalWrite(PIN_LED, !digitalRead(PIN_LED));  \n",
    "     \n",
    "  delay(500);              \n",
    "}"
   ]
  }
 ],
 "metadata": {
  "kernelspec": {
   "display_name": "Python 3",
   "language": "python",
   "name": "python3"
  },
  "language_info": {
   "codemirror_mode": {
    "name": "ipython",
    "version": 3
   },
   "file_extension": ".py",
   "mimetype": "text/x-python",
   "name": "python",
   "nbconvert_exporter": "python",
   "pygments_lexer": "ipython3",
   "version": "3.7.4"
  }
 },
 "nbformat": 4,
 "nbformat_minor": 2
}
