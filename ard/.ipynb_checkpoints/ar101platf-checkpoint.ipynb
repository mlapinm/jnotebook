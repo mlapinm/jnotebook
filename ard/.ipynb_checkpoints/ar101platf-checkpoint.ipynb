{
 "cells": [
  {
   "cell_type": "markdown",
   "metadata": {},
   "source": [
    "[PlatformIO или прощай, Arduino IDE](#PlatformIO-или-прощай,-Arduino-IDE)  \n",
    "[]()  \n",
    "[]()  \n",
    "[]()  \n",
    "[]()  \n"
   ]
  },
  {
   "cell_type": "markdown",
   "metadata": {},
   "source": []
  },
  {
   "cell_type": "markdown",
   "metadata": {},
   "source": [
    "#### PlatformIO или прощай, Arduino IDE"
   ]
  },
  {
   "cell_type": "markdown",
   "metadata": {},
   "source": [
    "[PlatformIO или прощай, Arduino IDE](https://www.youtube.com/watch?v=OGCyKncOyNU&list=PLZKvhpfgHOpkSCHcIPr_KZdjdsqOKe-Hn&index=5)  \n",
    "[wi-fi-modul-esp-01](https://3d-diy.ru/wiki/arduino-moduli/wi-fi-modul-esp-01/)  \n",
    "[Sonoff 4CH Pro (4-Канальный RF Выключатель)](https://sonoff.ru/catalog/wifi-rele/sonoff-4ch-pro-4-kanalnyy-rf-vyklyuchatel)  \n",
    "[]()  \n",
    "[]()  \n",
    "[]()  \n",
    "https://platformio.org/  \n"
   ]
  },
  {
   "cell_type": "markdown",
   "metadata": {},
   "source": [
    "https://code.visualstudio.com/  \n",
    "VSCodeUserSetup-x64-1.41.0.exe  \n",
    "C:\\Users\\argon\\AppData\\Local\\Programs\\Microsoft VS Code  \n",
    "Visual Studio Code  \n",
    "File Preferences Extensions  \n",
    "`platformio` - searching  \n",
    "install  reload  \n",
    "\n",
    "Setting Telemetry  [] []  \n"
   ]
  },
  {
   "cell_type": "markdown",
   "metadata": {},
   "source": [
    "##### Автоматический запуск монитора\n",
    "`Setting` `Extension` `Platformio configuration`  \n",
    "`[v]` - force apload and monitor  \n",
    "\n",
    "\n"
   ]
  },
  {
   "cell_type": "markdown",
   "metadata": {},
   "source": [
    "`View` `Open View...` `Pio Home` `Open`  \n",
    "`Platforms` `Embedded` \n",
    "`Atmel AVR` - Arduino uno mega\n",
    "`Install` -   \n",
    "`Atmel SAM` - Due   \n",
    "`Espressif 32` -   \n",
    "`Espressif 8266` - 1.7.3  \n",
    "`ST STM32` - CMSIS,SPL(standPriphLib)  \n",
    "`Intel ARC32` -   \n",
    "`Microchip PIC32` -   \n",
    "`Nordic nRF51` - BBC microbit (ARM)  \n",
    "`TI MSP430` -   \n",
    "`` -   \n",
    "`` -   \n"
   ]
  },
  {
   "cell_type": "markdown",
   "metadata": {},
   "source": [
    "`Libraries` -   \n",
    "`pubsubclient` -   \n"
   ]
  },
  {
   "cell_type": "markdown",
   "metadata": {},
   "source": [
    "Home New Project  \n",
    "`Blink` - Name  \n",
    "`Arduino Uno` - Board  \n",
    "`WeMos D1 R2 & mini (WEMOS)` - Board  \n",
    "`Arduino` - Framework  \n",
    "`[v]` - Use Default Location  \n",
    "C:\\Users\\argon\\Documents\\PlatformIO\\Projects\\Blink\\src\\main.cpp\n",
    "`Finish` -   \n",
    "platformio.ini  \n",
    "[env:uno]\n",
    "```\n",
    "platform = atmelavr  \n",
    "board = uno  \n",
    "framework = arduino  \n",
    "upload_speed = 115200\n",
    "monitor_speed = 115200\n",
    "```\n",
    "`upload_speed = 115200` -   \n",
    "`v` - build   \n",
    "`->` - run  \n",
    "`terminal` -   \n",
    "`Platform IO task` - Platform IO update  \n",
    "`` -   \n",
    "Force Upload And Monitor\n",
    "Force 'Upload and Monitor' task for `platformio-ide.upload` command\n",
    "`` -   \n",
    "`` -   \n"
   ]
  },
  {
   "cell_type": "markdown",
   "metadata": {},
   "source": [
    "`` -   \n",
    "`` -   \n"
   ]
  },
  {
   "cell_type": "markdown",
   "metadata": {},
   "source": []
  },
  {
   "cell_type": "markdown",
   "metadata": {},
   "source": []
  }
 ],
 "metadata": {
  "kernelspec": {
   "display_name": "Python 3",
   "language": "python",
   "name": "python3"
  },
  "language_info": {
   "codemirror_mode": {
    "name": "ipython",
    "version": 3
   },
   "file_extension": ".py",
   "mimetype": "text/x-python",
   "name": "python",
   "nbconvert_exporter": "python",
   "pygments_lexer": "ipython3",
   "version": "3.7.4"
  }
 },
 "nbformat": 4,
 "nbformat_minor": 2
}
