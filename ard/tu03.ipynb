{
 "cells": [
  {
   "cell_type": "markdown",
   "metadata": {},
   "source": [
    "[Цикл уроков по программированию на C++ для Arduino. Часть 1.](#Цикл-уроков-по-программированию-на-C++-для-Arduino.-Часть-1.)  \n",
    "[Цикл уроков по программированию на C++ для Arduino. Часть 2.](#Цикл-уроков-по-программированию-на-C++-для-Arduino.-Часть-2.)  \n",
    "[Цикл уроков по программированию на C++ для Arduino. Часть 3.](#Цикл-уроков-по-программированию-на-C++-для-Arduino.-Часть-3.)  \n",
    "[AVR heap mystic](#AVR-heap-mystic)  \n",
    "[Arduino ООП и зачем все это нужно](#Arduino-ООП-и-зачем-все-это-нужно)  \n",
    "[Сравнение с функцией millis()](#Сравнение-с-функцией-millis())  \n",
    "[Размер структур и классов в программах на ESP8266](#Размер-структур-и-классов-в-программах-на-ESP8266)  \n",
    "[Arduino оптимизация использования оперативной памяти](#Arduino-оптимизация-использования-оперативной-памяти)  \n",
    "[ESP8266 RTC память](#ESP8266-RTC-память)  \n",
    "[Особенности использования RX как входа на ESP8266](#Особенности-использования-RX-как-входа-на-ESP8266)  \n",
    "[Замена файлов поддержки I2C для ESP8266](#Замена-файлов-поддержки-I2C-для-ESP8266)  \n",
    "[ESP8266 Light Sleep или диета для ESP-01](#ESP8266-Light-Sleep-или-диета-для-ESP-01)  "
   ]
  },
  {
   "cell_type": "markdown",
   "metadata": {},
   "source": [
    "#### Цикл уроков по программированию на C++ для Arduino. Часть 1."
   ]
  },
  {
   "attachments": {},
   "cell_type": "markdown",
   "metadata": {},
   "source": [
    "Вероятно безнадежная попытка в нескольких уроках научить писать скетчи для Arduino.Первая часть охватывает скалярные типы данных и основные конструкции языка.Во второй части будут рассмотрены массивы, строки и производные типы (https://www.youtube.com/watch?v=5q5Ca...).Третья часть будет посвящена ООП (https://www.youtube.com/watch?v=ZbV_C...).PS: кто найдет логическую ошибку в примере, рассказывающем о while, может собой гордиться. :)"
   ]
  },
  {
   "cell_type": "markdown",
   "metadata": {},
   "source": [
    "#### Цикл уроков по программированию на C++ для Arduino. Часть 2."
   ]
  },
  {
   "attachments": {},
   "cell_type": "markdown",
   "metadata": {},
   "source": [
    "Вторая часть цикла посвящена указателям, ссылкам, массивам, работе со строками, структурам, объединениям и хранению строк во флеш-памяти.Третья часть об ООП: https://www.youtube.com/watch?v=ZbV_C...Полезные ссылки из видео:https://www.arduino.cc/en/Reference/H...http://www.nongnu.org/avr-libc/user-m...http://www.nongnu.org/avr-libc/user-m...PS: автор на глупые вопросы не отвечает!!! Рога на реализацию не принимает! По албански не разумеет!"
   ]
  },
  {
   "cell_type": "markdown",
   "metadata": {},
   "source": [
    "#### Цикл уроков по программированию на C++ для Arduino. Часть 3."
   ]
  },
  {
   "attachments": {},
   "cell_type": "markdown",
   "metadata": {},
   "source": [
    "Заключительная часть цикла посвящена ООП.Она (что естественно) самая сложная и длинная, рекомендую смотреть в несколько подходов (или не смотреть вообще :) )."
   ]
  },
  {
   "cell_type": "markdown",
   "metadata": {},
   "source": [
    "#### AVR heap mystic"
   ]
  },
  {
   "attachments": {},
   "cell_type": "markdown",
   "metadata": {},
   "source": [
    "Пример использования динамической памяти для хранения свойств классов.И немного мистики в определении свободной динамической памяти на AVR.Код из видео: https://drive.google.com/open?id=1qSg...PS: Если некоторое время назад с AVR можно было использовать new и delete только с классами, то сейчас их можно применять для выделения и освобождения памяти с любыми указателями."
   ]
  },
  {
   "cell_type": "markdown",
   "metadata": {},
   "source": [
    "#### Arduino ООП и зачем все это нужно"
   ]
  },
  {
   "attachments": {},
   "cell_type": "markdown",
   "metadata": {},
   "source": [
    "Практический пример использования ООП (объектно-ориентированного программирования) для реализации универсального хранения параметров.Код из видео: https://drive.google.com/open?id=15IL..."
   ]
  },
  {
   "cell_type": "markdown",
   "metadata": {},
   "source": [
    "#### Сравнение с функцией millis()"
   ]
  },
  {
   "attachments": {},
   "cell_type": "markdown",
   "metadata": {},
   "source": [
    "Об особенностях использования функции millis() для отсчета временных промежутков."
   ]
  },
  {
   "cell_type": "markdown",
   "metadata": {},
   "source": [
    "#### Размер структур и классов в программах на ESP8266\n"
   ]
  },
  {
   "attachments": {},
   "cell_type": "markdown",
   "metadata": {},
   "source": [
    "Из-за выравнивания полей структур и классов, занимаемый вашими типами данных  размер оперативной памяти может значительно превосходить ваши ожидания.Если скорость доступа к структурам (полям классов) не является критичной, то можно заставить компиллятор упаковать тип, добавив в описание типа конструкцию__attribute__((__packed__))Пример из видео (код для PlatformIO, в случае с Arduino IDE переименовать файл src\\main.cpp в StructSize_Test.ino и перенести его из подкаталога src в каталог проекта): https://drive.google.com/open?id=1UC5..."
   ]
  },
  {
   "cell_type": "markdown",
   "metadata": {},
   "source": [
    "#### Arduino оптимизация использования оперативной памяти"
   ]
  },
  {
   "attachments": {},
   "cell_type": "markdown",
   "metadata": {},
   "source": [
    "Примеры простейшей оптимизации использования оперативной памяти для Arduino (AVR, ESP8266, ESP32).В видео на 11-ой минуте в показанном коде ошибка: для определения длины строки, находящейся во флеше, надо использовать функцию strlen_P() вместо strlen().Спасибо внимательному зрителю."
   ]
  },
  {
   "cell_type": "markdown",
   "metadata": {},
   "source": [
    "#### ESP8266 RTC память"
   ]
  },
  {
   "attachments": {},
   "cell_type": "markdown",
   "metadata": {},
   "source": [
    "Пример использования RTC памяти для организации списка структур, сохраняющего значения в глубоком сне:https://drive.google.com/open?id=1yC1...или https://github.com/MoonFox2006/RtcMem..."
   ]
  },
  {
   "cell_type": "markdown",
   "metadata": {},
   "source": [
    "#### Особенности использования RX как входа на ESP8266"
   ]
  },
  {
   "attachments": {},
   "cell_type": "markdown",
   "metadata": {},
   "source": [
    "На платах на ESP8266 с USB-UART конвертером пин RX затруднительно использовать как вход без внутренней или внешней подтяжки к питанию.Имейте это ввиду!"
   ]
  },
  {
   "cell_type": "markdown",
   "metadata": {},
   "source": [
    "#### Замена файлов поддержки I2C для ESP8266"
   ]
  },
  {
   "attachments": {},
   "cell_type": "markdown",
   "metadata": {},
   "source": [
    "С помощью замены файлов поддержки I2C для ESP8266 можно решить некоторые проблемы с нестабильной работой устройств с интерфейсом I2C на платах на ESP8266.В случае использования PlatformIO, не забудьте сконвертировать все заменяемые файлы в кодировку UTF-8 BOM с помощью, например, Notepad++.Ссылка из видео: https://github.com/enjoyneering/ESP82...Еще раз большое спасибо enjoyneering!"
   ]
  },
  {
   "cell_type": "markdown",
   "metadata": {},
   "source": [
    "#### ESP8266 Light Sleep или диета для ESP-01"
   ]
  },
  {
   "attachments": {},
   "cell_type": "markdown",
   "metadata": {},
   "source": [
    "Использование режима легкого сна позволяет снизить энергопотребление ESP8266 в случае, когда невозможно использование режима глубокого сна (например в модулях на ESP8266 без GPIO16).Описание режимов энергосбережения ESP8266: https://www.espressif.com/sites/defau...Код функции: https://github.com/MoonFox2006/LightS..."
   ]
  }
 ],
 "metadata": {
  "kernelspec": {
   "display_name": "Python 3",
   "language": "python",
   "name": "python3"
  },
  "language_info": {
   "codemirror_mode": {
    "name": "ipython",
    "version": 3
   },
   "file_extension": ".py",
   "mimetype": "text/x-python",
   "name": "python",
   "nbconvert_exporter": "python",
   "pygments_lexer": "ipython3",
   "version": "3.7.4"
  }
 },
 "nbformat": 4,
 "nbformat_minor": 2
}
