{
 "cells": [
  {
   "cell_type": "markdown",
   "metadata": {},
   "source": [
    "[Цикл уроков по программированию на C++ для Arduino. Часть 1.](#Цикл-уроков-по-программированию-на-C++-для-Arduino.-Часть-1.)  \n",
    "[Цикл уроков по программированию на C++ для Arduino. Часть 2.](#Цикл-уроков-по-программированию-на-C++-для-Arduino.-Часть-2.)  \n",
    "[Цикл уроков по программированию на C++ для Arduino. Часть 3.](#Цикл-уроков-по-программированию-на-C++-для-Arduino.-Часть-3.)  \n",
    "[AVR heap mystic](#AVR-heap-mystic)  \n",
    "[Arduino ООП и зачем все это нужно](#Arduino-ООП-и-зачем-все-это-нужно)  \n",
    "[Сравнение с функцией millis()](#Сравнение-с-функцией-millis())  \n",
    "[Размер структур и классов в программах на ESP8266](#Размер-структур-и-классов-в-программах-на-ESP8266)  \n",
    "[Arduino оптимизация использования оперативной памяти](#Arduino-оптимизация-использования-оперативной-памяти)  \n",
    "[ESP8266 RTC память](#ESP8266-RTC-память)  \n",
    "[Особенности использования RX как входа на ESP8266](#Особенности-использования-RX-как-входа-на-ESP8266)  \n",
    "[Замена файлов поддержки I2C для ESP8266](#Замена-файлов-поддержки-I2C-для-ESP8266)  \n",
    "[ESP8266 Light Sleep или диета для ESP-01](#ESP8266-Light-Sleep-или-диета-для-ESP-01)  "
   ]
  },
  {
   "cell_type": "markdown",
   "metadata": {},
   "source": [
    "#### Цикл уроков по программированию на C++ для Arduino. Часть 1."
   ]
  },
  {
   "cell_type": "markdown",
   "metadata": {},
   "source": []
  },
  {
   "cell_type": "markdown",
   "metadata": {},
   "source": []
  },
  {
   "cell_type": "markdown",
   "metadata": {},
   "source": []
  },
  {
   "cell_type": "markdown",
   "metadata": {},
   "source": []
  },
  {
   "cell_type": "markdown",
   "metadata": {},
   "source": []
  },
  {
   "cell_type": "markdown",
   "metadata": {},
   "source": [
    "#### Цикл уроков по программированию на C++ для Arduino. Часть 2.\n",
    "#### Цикл уроков по программированию на C++ для Arduino. Часть 3.\n",
    "#### AVR heap mystic\n",
    "#### Arduino ООП и зачем все это нужно\n",
    "#### Сравнение с функцией millis()\n",
    "#### Размер структур и классов в программах на ESP8266\n",
    "#### Arduino оптимизация использования оперативной памяти\n",
    "#### ESP8266 RTC память\n",
    "#### Особенности использования RX как входа на ESP8266\n",
    "#### Замена файлов поддержки I2C для ESP8266\n",
    "#### ESP8266 Light Sleep или диета для ESP-01\n"
   ]
  }
 ],
 "metadata": {
  "kernelspec": {
   "display_name": "Python 3",
   "language": "python",
   "name": "python3"
  },
  "language_info": {
   "codemirror_mode": {
    "name": "ipython",
    "version": 3
   },
   "file_extension": ".py",
   "mimetype": "text/x-python",
   "name": "python",
   "nbconvert_exporter": "python",
   "pygments_lexer": "ipython3",
   "version": "3.7.4"
  }
 },
 "nbformat": 4,
 "nbformat_minor": 2
}
