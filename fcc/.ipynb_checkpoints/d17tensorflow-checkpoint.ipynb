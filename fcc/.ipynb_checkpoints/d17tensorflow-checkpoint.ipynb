{
 "cells": [
  {
   "cell_type": "markdown",
   "metadata": {},
   "source": [
    "### Freecodecamp"
   ]
  },
  {
   "cell_type": "markdown",
   "metadata": {},
   "source": [
    "[TensorFlow - Introduction to TensorFlow](#TensorFlow---Introduction-to-TensorFlow)  \n",
    "[]()  \n",
    "[]()  \n",
    "[]()  \n",
    "[]()  \n",
    "[]()  \n",
    "[]()  \n"
   ]
  },
  {
   "cell_type": "markdown",
   "metadata": {},
   "source": [
    "### KGP Talkie"
   ]
  },
  {
   "cell_type": "markdown",
   "metadata": {},
   "source": [
    "[TensorFlow 2.0 Tutorial for Beginners 1 - Getting Started with Coding of Tensorflow 2.0 and Keras](#TensorFlow-2.0-Tutorial-for-Beginners-1---Getting-Started-with-Coding-of-Tensorflow-2.0-and-Keras)  \n",
    "[]()  \n",
    "[]()  \n",
    "[]()  \n",
    "[]()  \n",
    "[]()  \n",
    "[]()  \n",
    "[]()  \n",
    "[]()  \n"
   ]
  },
  {
   "cell_type": "markdown",
   "metadata": {},
   "source": [
    "### Freecodecamp"
   ]
  },
  {
   "cell_type": "markdown",
   "metadata": {},
   "source": [
    "#### TensorFlow - Introduction to TensorFlow"
   ]
  },
  {
   "cell_type": "markdown",
   "metadata": {},
   "source": [
    "[youtube Machine Learning](https://www.youtube.com/watch?v=tPYj3fFJGjk&list=PLWKjhJtqVAblStefaz_YOVpDWqcRScc2s)  \n",
    "[Google Disk](https://drive.google.com/drive/folders/1jA-upbWhnhMziosA5KpswIITm_JiZ-EG)  \n",
    "[]() \n",
    "[]() \n",
    "[]() \n",
    "[]() \n",
    "[]() \n"
   ]
  },
  {
   "cell_type": "markdown",
   "metadata": {},
   "source": [
    "#### d1403Core Learning Algorithms.ipynb"
   ]
  },
  {
   "cell_type": "markdown",
   "metadata": {},
   "source": [
    "[Build a linear model with Estimators](https://www.tensorflow.org/tutorials/estimator/linear)  \n",
    "[]()  \n",
    "[]()  \n",
    "[]()  \n"
   ]
  },
  {
   "cell_type": "markdown",
   "metadata": {},
   "source": [
    "print(dftrain.head())\n",
    "```\n",
    "   survived     sex   age  ...     deck  embark_town  alone\n",
    "0         0    male  22.0  ...  unknown  Southampton      n\n",
    "1         1  female  38.0  ...        C    Cherbourg      n\n",
    "2         1  female  26.0  ...  unknown  Southampton      y\n",
    "3         1  female  35.0  ...        C  Southampton      n\n",
    "4         0    male  28.0  ...  unknown   Queenstown      y\n",
    "```"
   ]
  },
  {
   "cell_type": "markdown",
   "metadata": {},
   "source": [
    "print(dftrain.loc[0], \"\\n y_train.loc[0] = \", y_train.loc[0])\n",
    "```\n",
    "sex                          male\n",
    "age                            22\n",
    "n_siblings_spouses              1\n",
    "parch                           0\n",
    "fare                         7.25\n",
    "class                       Third\n",
    "deck                      unknown\n",
    "embark_town           Southampton\n",
    "alone                           n\n",
    "Name: 0, dtype: object \n",
    " y_train.loc[0] =  0\n",
    " ```"
   ]
  },
  {
   "cell_type": "markdown",
   "metadata": {},
   "source": [
    "print(dftrain[\"age\"][0])   # 22.0"
   ]
  },
  {
   "cell_type": "markdown",
   "metadata": {},
   "source": [
    "```\n",
    "[VocabularyListCategoricalColumn(key='sex', vocabulary_list=('male', 'female'), dtype=tf.string, default_value=-1, num_oov_buckets=0),\n",
    "\n",
    "VocabularyListCategoricalColumn(key='n_siblings_spouses', vocabulary_list=(1, 0, 3, 4, 2, 5, 8), dtype=tf.int64, default_value=-1, num_oov_buckets=0),  \n",
    "\n",
    "VocabularyListCategoricalColumn(key='parch', vocabulary_list=(0, 1, 2, 5, 3, 4), dtype=tf.int64, default_value=-1, num_oov_buckets=0),  \n",
    "VocabularyListCategoricalColumn(key='class', vocabulary_list=('Third', 'First', 'Second'), dtype=tf.string, default_value=-1, num_oov_buckets=0),  \n",
    "\n",
    " VocabularyListCategoricalColumn(key='deck', vocabulary_list=('unknown', 'C', 'G', 'A', 'B', 'D', 'F', 'E'), dtype=tf.string, default_value=-1, num_oov_buckets=0),  \n",
    " \n",
    "  VocabularyListCategoricalColumn(key='embark_town', vocabulary_list=('Southampton', 'Cherbourg', 'Queenstown', 'unknown'), dtype=tf.string, default_value=-1, num_oov_buckets=0),  \n",
    "  \n",
    "   VocabularyListCategoricalColumn(key='alone', vocabulary_list=('n', 'y'), dtype=tf.string, default_value=-1, num_oov_buckets=0),\n",
    "   \n",
    "   NumericColumn(key='age', shape=(1,), default_value=None, dtype=tf.float32, normalizer_fn=None), \n",
    "   \n",
    "   NumericColumn(key='fare', shape=(1,), default_value=None, dtype=tf.float32, normalizer_fn=None)]\n",
    "```"
   ]
  },
  {
   "cell_type": "markdown",
   "metadata": {},
   "source": [
    "```\n",
    "dftrain[\"sex\"].unique()\n",
    "# array(['male', 'female'], dtype=object)\n",
    "```"
   ]
  },
  {
   "cell_type": "markdown",
   "metadata": {},
   "source": [
    "```\n",
    "dftrain[\"n_siblings_spouses\"].unique()\n",
    "# array([1, 0, 3, 4, 2, 5, 8])\n",
    "```"
   ]
  },
  {
   "cell_type": "markdown",
   "metadata": {},
   "source": [
    "```\n",
    "d = dict(dftrain)\n",
    "print(type(dftrain), type(d))\n",
    "# <class 'pandas.core.frame.DataFrame'> <class 'dict'>\n",
    "```"
   ]
  },
  {
   "cell_type": "markdown",
   "metadata": {},
   "source": [
    "```\n",
    "d = dict(dftrain)\n",
    "# print(d['age'][0],d['sex'][0], d['embark_town'][0]) \n",
    "# 22.0 male Southampton\n",
    "# print(d.keys())\n",
    "s=''\n",
    "for i in d.keys():\n",
    "  s += \" \" + str(d[i][0])\n",
    "# print(s)  \n",
    "#  male 22.0 1 0 7.25 Third unknown Southampton n\n",
    "sk=''\n",
    "sv=''\n",
    "for k,v in d.items():\n",
    "  sk += \" \" + str(k)\n",
    "  sv += \" \" + str(v[0])\n",
    "  print(k, v[0])\n",
    "# sex male\n",
    "# age 22.0\n",
    "# n_siblings_spouses 1\n",
    "# parch 0\n",
    "# fare 7.25\n",
    "# class Third\n",
    "# deck unknown\n",
    "# embark_town Southampton\n",
    "# alone n\n",
    "\n",
    "\n",
    "# print(sk)  \n",
    "# print(sv)\n",
    "#  sex age n_siblings_spouses parch fare class deck embark_town alone\n",
    "#  male 22.0 1 0 7.25 Third unknown Southampton n\n",
    "```"
   ]
  },
  {
   "cell_type": "markdown",
   "metadata": {},
   "source": [
    "```\n",
    "a = np.array(range(8))\n",
    "ds = tf.data.Dataset.from_tensor_slices(a)\n",
    "# ds = ds.shuffle(2)   # [1, 2, 0, 3, 4, 6, 5, 7]\n",
    "# ds = ds.batch(3)\n",
    "# [array([0, 1, 2]), array([3, 4, 5]), array([6, 7])]\n",
    "list(ds.as_numpy_iterator())\n",
    "```"
   ]
  },
  {
   "cell_type": "markdown",
   "metadata": {},
   "source": [
    "```\n",
    "a = np.array(range(8))\n",
    "ds = tf.data.Dataset.from_tensor_slices(a)\n",
    "ds = ds.repeat(2)\n",
    "list(ds.as_numpy_iterator())\n",
    "# [0, 1, 2, 3, 4, 5, 6, 7, 0, 1, 2, 3, 4, 5, 6, 7]\n",
    "```"
   ]
  },
  {
   "cell_type": "markdown",
   "metadata": {},
   "source": [
    "```\n",
    "a = np.array(range(2))\n",
    "ds = tf.data.Dataset.from_tensor_slices((a,a))\n",
    "ds = ds.repeat(2)\n",
    "list(ds.as_numpy_iterator())\n",
    "# [(0, 0), (1, 1), (0, 0), (1, 1)]\n",
    "```"
   ]
  },
  {
   "cell_type": "markdown",
   "metadata": {},
   "source": [
    "#### train_input_fn()\n",
    "- la - 200 партий\n",
    "- la[0-199][0] - 9 колонок\n",
    "- la[0-199][0]['sex'] - 32 в партии\n",
    "- la[0-199][1] - 32 servive   \n",
    "\n",
    "  \n",
    "#### eval_input_fn()\n",
    "- lb - 9 партий\n",
    "- lb[0-8][0] - 9 колонок\n",
    "- lb[0-8][0]['sex'] - 32 в партии\n",
    "- lb[0-8][1] - 32 servive"
   ]
  },
  {
   "cell_type": "markdown",
   "metadata": {},
   "source": []
  },
  {
   "cell_type": "markdown",
   "metadata": {},
   "source": []
  },
  {
   "cell_type": "markdown",
   "metadata": {},
   "source": []
  },
  {
   "cell_type": "markdown",
   "metadata": {},
   "source": []
  },
  {
   "cell_type": "markdown",
   "metadata": {},
   "source": []
  },
  {
   "cell_type": "markdown",
   "metadata": {},
   "source": []
  },
  {
   "cell_type": "markdown",
   "metadata": {},
   "source": []
  },
  {
   "cell_type": "markdown",
   "metadata": {},
   "source": [
    "### KGP Talkie\n",
    "#### TensorFlow 2.0 Tutorial for Beginners 1 - Getting Started with Coding of Tensorflow 2.0 and Keras"
   ]
  },
  {
   "cell_type": "markdown",
   "metadata": {},
   "source": [
    "\n",
    "[TensorFlow 2.0 Tutorial for Beginners 1 - Getting Started with Coding of Tensorflow 2.0 and Keras](https://www.youtube.com/watch?v=nVvhkVLh60o&list=PLc2rvfiptPSR3iwFp1VHVJFK4yAMo0wuF&index=4)  \n",
    "[DeepLearning Google Disk](https://drive.google.com/drive/folders/1jA-upbWhnhMziosA5KpswIITm_JiZ-EG)  \n",
    "[github Getting-Started-with-Tensorflow-2.0-and-Keras-for-Beginners](https://github.com/Srishailamsri-123456789/Getting-Started-with-Tensorflow-2.0-and-Keras-for-Beginners/blob/master/Deep%20Learning%20with%20Tensorflow%202.0%20Tutorial%20-%20Getting%20Started%20with%20Tensorflow%202.0%20and%20Keras%20for%20Beginners.ipynb)  \n",
    "[]()  \n",
    "[]()  \n"
   ]
  },
  {
   "cell_type": "markdown",
   "metadata": {},
   "source": [
    "- обрабатывает данные \n",
    "- строит модель\n",
    "- тренировка и оценка модели\n"
   ]
  },
  {
   "cell_type": "markdown",
   "metadata": {},
   "source": [
    "```\n",
    "он принимает входные данные в качестве\n",
    "многомерный массив, который также является\n",
    "известный как тензор\n",
    "```"
   ]
  },
  {
   "cell_type": "markdown",
   "metadata": {},
   "source": [
    "- RC - release candidate\n",
    "- [KGP Talkie](https://www.youtube.com/c/KGPTalkie/videos)\n",
    "- [Обзор Keras для TensorFlow](https://habr.com/ru/post/482126/) "
   ]
  },
  {
   "cell_type": "markdown",
   "metadata": {},
   "source": [
    "- [Первая модель: набор данных Fashion MNIST](https://habr.com/ru/post/454034/)  \n"
   ]
  },
  {
   "cell_type": "markdown",
   "metadata": {},
   "source": [
    "- открыть anaconda в административном режиме\n",
    "- tf тренируется в режиме значений от 0 до 1(значение точек массива)\n",
    "- нейронные сети не принимают значения более 1\n",
    "- блокнот shif-tab - справочная информация"
   ]
  },
  {
   "cell_type": "code",
   "execution_count": null,
   "metadata": {},
   "outputs": [],
   "source": [
    "print()"
   ]
  },
  {
   "cell_type": "markdown",
   "metadata": {},
   "source": [
    "[Решение задачи классификации на примере dataset Titanic](https://ansmirnov.ru/kaggle-titanic-dataset/)  \n",
    "[]()  \n",
    "[]()  \n",
    "[]()  \n",
    "[]()  \n"
   ]
  }
 ],
 "metadata": {
  "kernelspec": {
   "display_name": "Python 3",
   "language": "python",
   "name": "python3"
  },
  "language_info": {
   "codemirror_mode": {
    "name": "ipython",
    "version": 3
   },
   "file_extension": ".py",
   "mimetype": "text/x-python",
   "name": "python",
   "nbconvert_exporter": "python",
   "pygments_lexer": "ipython3",
   "version": "3.7.8"
  }
 },
 "nbformat": 4,
 "nbformat_minor": 4
}
