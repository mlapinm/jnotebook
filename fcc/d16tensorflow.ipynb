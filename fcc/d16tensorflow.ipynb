{
 "cells": [
  {
   "cell_type": "markdown",
   "metadata": {},
   "source": [
    "### Freecodecamp"
   ]
  },
  {
   "cell_type": "markdown",
   "metadata": {},
   "source": [
    "[TensorFlow - Introduction to TensorFlow](#TensorFlow---Introduction-to-TensorFlow)  \n",
    "[]()  \n",
    "[]()  \n",
    "[]()  \n",
    "[]()  \n",
    "[]()  \n",
    "[]()  \n"
   ]
  },
  {
   "cell_type": "markdown",
   "metadata": {},
   "source": [
    "### KGP Talkie"
   ]
  },
  {
   "cell_type": "markdown",
   "metadata": {},
   "source": [
    "[TensorFlow 2.0 Tutorial for Beginners 1 - Getting Started with Coding of Tensorflow 2.0 and Keras](#TensorFlow-2.0-Tutorial-for-Beginners-1---Getting-Started-with-Coding-of-Tensorflow-2.0-and-Keras)  \n",
    "[]()  \n",
    "[]()  \n",
    "[]()  \n",
    "[]()  \n",
    "[]()  \n",
    "[]()  \n",
    "[]()  \n",
    "[]()  \n"
   ]
  },
  {
   "cell_type": "markdown",
   "metadata": {},
   "source": [
    "### Freecodecamp"
   ]
  },
  {
   "cell_type": "markdown",
   "metadata": {},
   "source": [
    "#### TensorFlow - Introduction to TensorFlow"
   ]
  },
  {
   "cell_type": "markdown",
   "metadata": {},
   "source": [
    "[youtube Machine Learning](https://www.youtube.com/watch?v=tPYj3fFJGjk&list=PLWKjhJtqVAblStefaz_YOVpDWqcRScc2s)  \n",
    "[Google Disk](https://drive.google.com/drive/folders/1jA-upbWhnhMziosA5KpswIITm_JiZ-EG)  \n",
    "[]() \n",
    "[]() \n",
    "[]() \n",
    "[]() \n",
    "[]() \n"
   ]
  },
  {
   "cell_type": "markdown",
   "metadata": {},
   "source": []
  },
  {
   "cell_type": "markdown",
   "metadata": {},
   "source": []
  },
  {
   "cell_type": "markdown",
   "metadata": {},
   "source": [
    "### KGP Talkie\n",
    "#### TensorFlow 2.0 Tutorial for Beginners 1 - Getting Started with Coding of Tensorflow 2.0 and Keras"
   ]
  },
  {
   "cell_type": "markdown",
   "metadata": {},
   "source": [
    "\n",
    "[TensorFlow 2.0 Tutorial for Beginners 1 - Getting Started with Coding of Tensorflow 2.0 and Keras](https://www.youtube.com/watch?v=nVvhkVLh60o&list=PLc2rvfiptPSR3iwFp1VHVJFK4yAMo0wuF&index=4)  \n",
    "[DeepLearning Google Disk](https://drive.google.com/drive/folders/1jA-upbWhnhMziosA5KpswIITm_JiZ-EG)  \n",
    "[github Getting-Started-with-Tensorflow-2.0-and-Keras-for-Beginners](https://github.com/Srishailamsri-123456789/Getting-Started-with-Tensorflow-2.0-and-Keras-for-Beginners/blob/master/Deep%20Learning%20with%20Tensorflow%202.0%20Tutorial%20-%20Getting%20Started%20with%20Tensorflow%202.0%20and%20Keras%20for%20Beginners.ipynb)  \n",
    "[]()  \n",
    "[]()  \n"
   ]
  },
  {
   "cell_type": "markdown",
   "metadata": {},
   "source": [
    "- обрабатывает данные \n",
    "- строит модель\n",
    "- тренировка и оценка модели\n"
   ]
  },
  {
   "cell_type": "markdown",
   "metadata": {},
   "source": [
    "```\n",
    "он принимает входные данные в качестве\n",
    "многомерный массив, который также является\n",
    "известный как тензор\n",
    "```"
   ]
  },
  {
   "cell_type": "markdown",
   "metadata": {},
   "source": [
    "- RC - release candidate\n",
    "- [KGP Talkie](https://www.youtube.com/c/KGPTalkie/videos)\n",
    "- [Обзор Keras для TensorFlow](https://habr.com/ru/post/482126/) "
   ]
  },
  {
   "cell_type": "markdown",
   "metadata": {},
   "source": [
    "- [Первая модель: набор данных Fashion MNIST](https://habr.com/ru/post/454034/)  \n"
   ]
  },
  {
   "cell_type": "markdown",
   "metadata": {},
   "source": [
    "- открыть anaconda в административном режиме\n",
    "- tf тренируется в режиме значений от 0 до 1(значение точек массива)\n",
    "- нейронные сети не принимают значения более 1\n",
    "- блокнот shif-tab - справочная информация"
   ]
  },
  {
   "cell_type": "code",
   "execution_count": null,
   "metadata": {},
   "outputs": [],
   "source": [
    "print()"
   ]
  }
 ],
 "metadata": {
  "kernelspec": {
   "display_name": "Python 3",
   "language": "python",
   "name": "python3"
  },
  "language_info": {
   "codemirror_mode": {
    "name": "ipython",
    "version": 3
   },
   "file_extension": ".py",
   "mimetype": "text/x-python",
   "name": "python",
   "nbconvert_exporter": "python",
   "pygments_lexer": "ipython3",
   "version": "3.7.8"
  }
 },
 "nbformat": 4,
 "nbformat_minor": 4
}
