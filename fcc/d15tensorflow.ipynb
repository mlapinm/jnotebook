{
 "cells": [
  {
   "cell_type": "markdown",
   "metadata": {},
   "source": [
    "### Freecodecamp"
   ]
  },
  {
   "cell_type": "markdown",
   "metadata": {},
   "source": [
    "[TensorFlow - Introduction to TensorFlow](#TensorFlow---Introduction-to-TensorFlow)  \n",
    "[3 Core Learning Algorithms](#3-Core-Learning-Algorithms)  \n",
    "[](#)  \n",
    "[Clustering](#Clustering)  \n",
    "[](#)  \n",
    "[](#)  \n",
    "[](#)  \n",
    "[](#)  \n",
    "[](#)  \n",
    "[](#)  \n"
   ]
  },
  {
   "cell_type": "markdown",
   "metadata": {},
   "source": [
    "pip install --upgrade tensorflow"
   ]
  },
  {
   "cell_type": "code",
   "execution_count": null,
   "metadata": {},
   "outputs": [],
   "source": []
  },
  {
   "cell_type": "code",
   "execution_count": 1,
   "metadata": {},
   "outputs": [
    {
     "name": "stdout",
     "output_type": "stream",
     "text": [
      "<module 'tensorflow._api.v2.version' from 'c:\\\\python36\\\\lib\\\\site-packages\\\\tensorflow\\\\_api\\\\v2\\\\version\\\\__init__.py'>\n"
     ]
    }
   ],
   "source": [
    "import tensorflow as tf  # now import the tensorflow module\n",
    "print(tf.version)  \n",
    "# make sure the version is 2.x"
   ]
  },
  {
   "cell_type": "code",
   "execution_count": 2,
   "metadata": {},
   "outputs": [
    {
     "name": "stdout",
     "output_type": "stream",
     "text": [
      "tf.Tensor(0, shape=(), dtype=int32)\n"
     ]
    }
   ],
   "source": [
    "string = tf.Variable(\"this is a string\", tf.string) \n",
    "number = tf.Variable(324, tf.int16)\n",
    "floating = tf.Variable(3.567, tf.float64)\n",
    "print(tf.rank(string))"
   ]
  },
  {
   "cell_type": "markdown",
   "metadata": {},
   "source": [
    "### KGP Talkie"
   ]
  },
  {
   "cell_type": "markdown",
   "metadata": {},
   "source": [
    "[TensorFlow 2.0 Tutorial for Beginners 1 - Getting Started with Coding of Tensorflow 2.0 and Keras](#TensorFlow-2.0-Tutorial-for-Beginners-1---Getting-Started-with-Coding-of-Tensorflow-2.0-and-Keras)  \n",
    "[]()  \n",
    "[]()  \n",
    "[]()  \n",
    "[]()  \n",
    "[]()  \n",
    "[]()  \n",
    "[]()  \n",
    "[]()  \n"
   ]
  },
  {
   "cell_type": "markdown",
   "metadata": {},
   "source": [
    "### Freecodecamp"
   ]
  },
  {
   "cell_type": "markdown",
   "metadata": {},
   "source": [
    "#### TensorFlow - Introduction to TensorFlow"
   ]
  },
  {
   "cell_type": "markdown",
   "metadata": {},
   "source": [
    "[youtube Machine Learning](https://www.youtube.com/watch?v=tPYj3fFJGjk&list=PLWKjhJtqVAblStefaz_YOVpDWqcRScc2s)  \n",
    "[Google Disk](https://drive.google.com/drive/folders/1jA-upbWhnhMziosA5KpswIITm_JiZ-EG)  \n",
    "[]() \n",
    "[]() \n",
    "[]() \n",
    "[]() \n",
    "[]() \n"
   ]
  },
  {
   "cell_type": "markdown",
   "metadata": {},
   "source": [
    "#### 3 Core Learning Algorithms"
   ]
  },
  {
   "cell_type": "markdown",
   "metadata": {},
   "source": []
  },
  {
   "cell_type": "code",
   "execution_count": 1,
   "metadata": {},
   "outputs": [
    {
     "name": "stdout",
     "output_type": "stream",
     "text": [
      "hello\n"
     ]
    }
   ],
   "source": [
    "x = lambda:print('hello')\n",
    "x()"
   ]
  },
  {
   "cell_type": "code",
   "execution_count": 2,
   "metadata": {},
   "outputs": [
    {
     "name": "stdout",
     "output_type": "stream",
     "text": [
      "9\n"
     ]
    }
   ],
   "source": [
    "x = lambda y: y*y\n",
    "print(x(3))\n"
   ]
  },
  {
   "cell_type": "code",
   "execution_count": 4,
   "metadata": {},
   "outputs": [
    {
     "name": "stdout",
     "output_type": "stream",
     "text": [
      "9\n"
     ]
    }
   ],
   "source": [
    "y=3\n",
    "print((lambda y: y*y)(y))"
   ]
  },
  {
   "cell_type": "markdown",
   "metadata": {},
   "source": [
    "```\n",
    "print(pred_dict['probabilities'])\n",
    "\n",
    "[0.7154412  0.13349664 0.1510621 ]\n",
    "Prediction is \"Setosa\" (71.5%)\n",
    "[0.15408039 0.4087489  0.4371708 ]\n",
    "Prediction is \"Virginica\" (43.7%)\n",
    "[0.08867785 0.32989404 0.5814282 ]\n",
    "Prediction is \"Virginica\" (58.1%)\n",
    "\n",
    "expected = ['Setosa', 'Versicolor', 'Virginica']\n",
    "```"
   ]
  },
  {
   "cell_type": "markdown",
   "metadata": {},
   "source": [
    "## Clustering"
   ]
  },
  {
   "cell_type": "markdown",
   "metadata": {},
   "source": [
    "```\n",
    "Clustering\n",
    "\n",
    "Hidden Markov Models\n",
    "Data\n",
    "\n",
    "Imports and Setup\n",
    "Weather Model\n",
    "Conclusion\n",
    "Sources\n",
    "```"
   ]
  },
  {
   "cell_type": "markdown",
   "metadata": {},
   "source": []
  },
  {
   "cell_type": "markdown",
   "metadata": {},
   "source": []
  },
  {
   "cell_type": "markdown",
   "metadata": {},
   "source": []
  },
  {
   "cell_type": "markdown",
   "metadata": {},
   "source": []
  },
  {
   "cell_type": "markdown",
   "metadata": {},
   "source": []
  },
  {
   "cell_type": "markdown",
   "metadata": {},
   "source": []
  },
  {
   "cell_type": "markdown",
   "metadata": {},
   "source": []
  },
  {
   "cell_type": "markdown",
   "metadata": {},
   "source": [
    "### KGP Talkie\n",
    "#### TensorFlow 2.0 Tutorial for Beginners 1 - Getting Started with Coding of Tensorflow 2.0 and Keras"
   ]
  },
  {
   "cell_type": "markdown",
   "metadata": {},
   "source": [
    "\n",
    "[TensorFlow 2.0 Tutorial for Beginners 1 - Getting Started with Coding of Tensorflow 2.0 and Keras](https://www.youtube.com/watch?v=nVvhkVLh60o&list=PLc2rvfiptPSR3iwFp1VHVJFK4yAMo0wuF&index=4)  \n",
    "[DeepLearning Google Disk](https://drive.google.com/drive/folders/1jA-upbWhnhMziosA5KpswIITm_JiZ-EG)  \n",
    "[github Getting-Started-with-Tensorflow-2.0-and-Keras-for-Beginners](https://github.com/Srishailamsri-123456789/Getting-Started-with-Tensorflow-2.0-and-Keras-for-Beginners/blob/master/Deep%20Learning%20with%20Tensorflow%202.0%20Tutorial%20-%20Getting%20Started%20with%20Tensorflow%202.0%20and%20Keras%20for%20Beginners.ipynb)  \n",
    "[]()  \n",
    "[]()  \n"
   ]
  },
  {
   "cell_type": "markdown",
   "metadata": {},
   "source": [
    "- обрабатывает данные \n",
    "- строит модель\n",
    "- тренировка и оценка модели\n"
   ]
  },
  {
   "cell_type": "markdown",
   "metadata": {},
   "source": [
    "```\n",
    "он принимает входные данные в качестве\n",
    "многомерный массив, который также является\n",
    "известный как тензор\n",
    "```"
   ]
  },
  {
   "cell_type": "markdown",
   "metadata": {},
   "source": [
    "- RC - release candidate\n",
    "- [KGP Talkie](https://www.youtube.com/c/KGPTalkie/videos)\n",
    "- [Обзор Keras для TensorFlow](https://habr.com/ru/post/482126/) "
   ]
  },
  {
   "cell_type": "markdown",
   "metadata": {},
   "source": [
    "- [Первая модель: набор данных Fashion MNIST](https://habr.com/ru/post/454034/)  \n"
   ]
  },
  {
   "cell_type": "markdown",
   "metadata": {},
   "source": [
    "- открыть anaconda в административном режиме\n",
    "- tf тренируется в режиме значений от 0 до 1(значение точек массива)\n",
    "- нейронные сети не принимают значения более 1\n",
    "- блокнот shif-tab - справочная информация"
   ]
  },
  {
   "cell_type": "code",
   "execution_count": null,
   "metadata": {},
   "outputs": [],
   "source": [
    "print()"
   ]
  }
 ],
 "metadata": {
  "kernelspec": {
   "display_name": "Python 3",
   "language": "python",
   "name": "python3"
  },
  "language_info": {
   "codemirror_mode": {
    "name": "ipython",
    "version": 3
   },
   "file_extension": ".py",
   "mimetype": "text/x-python",
   "name": "python",
   "nbconvert_exporter": "python",
   "pygments_lexer": "ipython3",
   "version": "3.7.8"
  }
 },
 "nbformat": 4,
 "nbformat_minor": 4
}
