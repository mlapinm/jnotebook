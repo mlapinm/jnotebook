{
 "cells": [
  {
   "cell_type": "markdown",
   "metadata": {},
   "source": [
    "### Take Home Projects"
   ]
  },
  {
   "cell_type": "markdown",
   "metadata": {},
   "source": [
    "[Introduction to the Coding Interview Take Home Projects](#Introduction-to-the-Coding-Interview-Take-Home-Projects)  \n",
    "[1. Show the Local Weather](#1.-Show-the-Local-Weather)  \n",
    "[2. Build a Wikipedia Viewer](#2.-Build-a-Wikipedia-Viewer)  \n",
    "[3. Use the Twitch JSON API](#3.-Use-the-Twitch-JSON-API)  \n",
    "[4. Build an Image Search Abstraction Layer](#4.-Build-an-Image-Search-Abstraction-Layer)  \n",
    "[5. Build a Tic Tac Toe Game](#5.-Build-a-Tic-Tac-Toe-Game)  \n",
    "[6. Build a Simon Game](#6.-Build-a-Simon-Game)  \n",
    "[7. Build a freeCodeCamp Forum Homepage](#7.-Build-a-freeCodeCamp-Forum-Homepage)  \n",
    "[8. Build a Recipe Box](#8.-Build-a-Recipe-Box)  \n",
    "[9. Build the Game of Life](#9.-Build-the-Game-of-Life)  \n",
    "[10. Build a Roguelike Dungeon Crawler Game](#10.-Build-a-Roguelike-Dungeon-Crawler-Game)  \n",
    "[11. P2P Video Chat Application](#11.-P2P-Video-Chat-Application)  \n",
    "[12. Show National Contiguity with a Force Directed Graph](#12.-Show-National-Contiguity-with-a-Force-Directed-Graph)  \n",
    "[13. Map Data Across the Globe](#13.-Map-Data-Across-the-Globe)  \n",
    "[14. Manage a Book Trading Club](#14.-Manage-a-Book-Trading-Club)  \n",
    "[15. Build a Pinterest Clone](#15.-Build-a-Pinterest-Clone)  \n",
    "[16. Build a Nightlife Coordination App](#16.-Build-a-Nightlife-Coordination-App)  \n",
    "[17. Chart the Stock Market](#17.-Chart-the-Stock-Market)  \n",
    "[18. Build a Voting App](#18.-Build-a-Voting-App)  \n",
    "[19. Build a Pong Game](#19.-Build-a-Pong-Game)  \n",
    "[20. Build a Light-Bright App](#20.-Build-a-Light-Bright-App)  \n"
   ]
  },
  {
   "cell_type": "markdown",
   "metadata": {},
   "source": []
  },
  {
   "cell_type": "markdown",
   "metadata": {},
   "source": [
    "#### Introduction to the Coding Interview Take Home Projects \n",
    "https://fcc-weather-api.glitch.me/api/current?lat=59.9508265&lon=30.4775539 \n",
    "```\n",
    "{\"coord\":{\"lon\":139,\"lat\":35},\n",
    "\"weather\":[{\"id\":803,\"main\":\"Clouds\",\"description\":\"broken clouds\"}],\n",
    "\"base\":\"stations\",\n",
    "\"main\":{\"temp\":28.23,\"pressure\":1011,\"humidity\":74,\"temp_min\":26,\"temp_max\":31},\n",
    "\"visibility\":10000,\n",
    "\"wind\":{\"speed\":3.6,\"deg\":230},\n",
    "\"clouds\":{\"all\":75},\n",
    "\"dt\":1499396400,\n",
    "\"sys\":{\"type\":1,\"id\":7616,\"message\":0.0043,\"country\":\"JP\",\"sunrise\":1499369792,\"sunset\":1499421666},\n",
    "\"id\":1851632,\n",
    "\"name\":\"Shuzenji\",\n",
    "\"cod\":200}\n",
    "```\n",
    "#### 1. Show the Local Weather\n",
    "[view](https://codepen.io/mlapin/full/zYvLjpq)   \n",
    "[dashboard](https://codepen.io/mlapin/pen/zYvLjpq)\n",
    "[work template](https://codepen.io/freeCodeCamp/pen/bELRjV)  \n",
    "[view template](https://codepen.io/freeCodeCamp/full/bELRjV)  \n",
    "[https://rapidapi.com/](https://rapidapi.com/)  \n",
    "[]()  \n",
    "[]()  \n",
    "[]()  \n",
    "[]()  \n",
    "[]()  \n",
    "```\n",
    "```\n"
   ]
  },
  {
   "cell_type": "markdown",
   "metadata": {},
   "source": [
    "#### 2. Build a Wikipedia Viewer\n",
    "h02wikiViewer  \n",
    "[dashboard](https://codepen.io/mlapin/pen/abvaNej)  \n",
    "[h02wikiViewer](https://codepen.io/mlapin/full/abvaNej)  \n",
    "[work template](https://codepen.io/freeCodeCamp/pen/wGqEga)  \n",
    "[view template](https://codepen.io/freeCodeCamp/full/wGqEga/)  \n",
    "[angularjs codecademy](https://www.codecademy.com/courses/learn-angularjs/lessons/directives/exercises/directives-generalizations)  \n",
    "[angularjs.org](https://docs.angularjs.org/api/ng/service/$http#jsonp)  \n",
    "[AngularJS $http.jsonp() Service Example](https://www.tutlane.com/tutorial/angularjs/angularjs-http-jsonp-http-jsonp-service-method-example)  \n",
    "[]()  \n",
    "[req](https://ru.wikipedia.org/w/api.php?format=json&action=query&generator=search&gsrnamespace=0&gsrlimit=10&prop=pageimages|extracts&pilimit=max&exintro&explaintext&exsentences=1&exlimit=max&gsrsearch=форд&callback=JSON_CALLBACK)  \n",
    "\n",
    "```\n",
    "```"
   ]
  },
  {
   "cell_type": "markdown",
   "metadata": {},
   "source": [
    "#### 3. Use the Twitch JSON API\n",
    "[dashboard](https://codepen.io/mlapin/pen/abvXzjX)  \n",
    "[h03twitch](https://codepen.io/mlapin/full/abvXzjX)  \n",
    "[work template](https://codepen.io/freeCodeCamp/pen/Myvqmo)  \n",
    "[view template](https://codepen.io/freeCodeCamp/full/Myvqmo/)  \n",
    "[pianistkakatrine](https://www.twitch.tv/pianistkakatrine)  \n",
    "[poker](https://www.twitch.tv/ac7ionmannn)  \n",
    "[Нарды](https://www.twitch.tv/dubler1/video/617975619)  \n",
    "[games.md](https://github.com/mlapinm/A02Nh/blob/master/games.md)  \n",
    "[twitch.tv/docs](https://dev.twitch.tv/docs/v5)  \n",
    "[]()  \n",
    "[]()  \n",
    "[]()  \n",
    "```\n",
    "```"
   ]
  },
  {
   "cell_type": "markdown",
   "metadata": {},
   "source": [
    "#### Use the TwitchTV JSON API \n",
    "[Use the TwitchTV JSON API Part 1](https://www.youtube.com/watch?v=Nm2bXBlELZU&list=PLHdCowjFIBmJwYL9tPZOkn6CIVLg6Z36a&index=1)  \n",
    "\n",
    "[dashboard]()  \n",
    "[h03x1twitch]()  \n",
    "[work template]()  \n",
    "[view template]()  \n",
    "\n",
    "[]()  \n",
    "[]()  \n",
    "[]()  \n",
    "[]()  \n",
    "[]()  \n"
   ]
  },
  {
   "cell_type": "markdown",
   "metadata": {},
   "source": [
    "```\n",
    "var img = new Image();\n",
    "img.src = 'http://lol.ru/ololoshka.png';\n",
    "img.onload = function(){alert('картинка существует')};\n",
    "img.onerror = function(){alert('картинка не существует')};\n",
    "```"
   ]
  },
  {
   "cell_type": "markdown",
   "metadata": {},
   "source": [
    "#### 4. Build an Image Search Abstraction Layer\n",
    "- api google\n",
    "- clitch\n",
    "[dashboard](https://glitch.com/edit/#!/understood-verdant-brian?path=server.js%3A1%3A0)  \n",
    "[view](https://understood-verdant-brian.glitch.me/)  \n",
    "[work template]()  \n",
    "[view template]()  \n",
    "[Image Search Abstraction Layer Part 1](https://www.youtube.com/watch?v=3TDtF4S4m4M)  \n",
    "[Image Search Abstraction Layer Part 2](https://www.youtube.com/watch?v=hCa2k0ab_vw)  \n",
    "[]()  \n",
    "[]()  \n",
    "[]()  \n",
    "[]()  \n",
    "```\n",
    "```"
   ]
  },
  {
   "cell_type": "markdown",
   "metadata": {},
   "source": [
    "[API-интерфейсы поиска Bing версии 7](https://azure.microsoft.com/ru-ru/try/cognitive-services/my-apis/?apiSlug=search-api-v7)  \n",
    "```\n",
    "API-интерфейсы поиска Bing версии 7 содержат разные улучшения, такие как повышение производительности при поиске в Интернете, новые фильтры для поиска изображений, упрощенная разбивка на страницы при поиске видео и изображений, а также оптимизированная обработка ошибок.\n",
    "\n",
    "Пакет этой бесплатной пробной версии включает все API-интерфейсы поиска Bing (для поиска в Интернете, поиска изображений, видео, новостей, сущностей и визуального поиска), включая исправление орфографических ошибок, связанные поисковые запросы и другие доступные ответы. Конечная точка визуального поиска Bing поддерживает 1 000 транзакций в месяц (до 1 в секунду), а все другие конечные точки — 3 000 транзакций в месяц (до 3 в секунду). Срок действия ключей пробной версии истекает через 7 дн., после чего подписку можно будет приобрести на портале Azure.\n",
    "\n",
    "Конечные точки\n",
    "\n",
    "https://api.cognitive.microsoft.com/bing/v7.0/suggestions\n",
    "\n",
    "https://api.cognitive.microsoft.com/bing/v7.0/entities\n",
    "\n",
    "https://api.cognitive.microsoft.com/bing/v7.0/images\n",
    "\n",
    "https://api.cognitive.microsoft.com/bing/v7.0/localbusinesses\n",
    "\n",
    "https://api.cognitive.microsoft.com/bing/v7.0/news\n",
    "\n",
    "https://api.cognitive.microsoft.com/bing/v7.0/spellcheck\n",
    "\n",
    "https://api.cognitive.microsoft.com/bing/v7.0/urlpreview\n",
    "\n",
    "https://api.cognitive.microsoft.com/bing/v7.0/videos\n",
    "\n",
    "https://api.cognitive.microsoft.com/bing/v7.0/images/visualsearch\n",
    "\n",
    "https://api.cognitive.microsoft.com/bing/v7.0\n",
    "\n",
    "Ключ 1: c0bc83bda52a45eea3e68f59eb9fda90\n",
    "\n",
    "Ключ 2: ff319a0e66e84945b6e4bb3bec1621bb\n",
    "```"
   ]
  },
  {
   "cell_type": "markdown",
   "metadata": {},
   "source": [
    "#### Part 1\n",
    "[api/imagesearch/test?offset=2](https://understood-verdant-brian.glitch.me/api/imagesearch/test?offset=2)  \n",
    "[cloud.mongodb.com](https://cloud.mongodb.com/v2/5ea44c39177e42591b408863#clusters)  \n",
    "[api/recentsearchs](https://understood-verdant-brian.glitch.me/api/recentsearchs)  \n",
    "[]()  \n",
    "```\n",
    "{\"searchVal\":\"test\",\"offset\":\"2\"}\n",
    "```"
   ]
  },
  {
   "cell_type": "markdown",
   "metadata": {},
   "source": [
    "```\n",
    "// server.js\n",
    "\n",
    "const express = require(\"express\");\n",
    "const app = express();\n",
    "const bodyParser = require(\"body-parser\");\n",
    "const cors = require('cors');\n",
    "const mongoose = require('mongoose');\n",
    "const Bing = require('node-bing-api')({accKey:'c0bc83bda52a45eea3e68f59eb9fda90'});\n",
    "\n",
    "app.use(bodyParser.json());\n",
    "app.use(cors());\n",
    "\n",
    "//Get call with required and not required params to do a search for an image\n",
    "app.get('/api/imagesearch/:searchVal*', (req, res, next)=>{\n",
    "\n",
    "  var {searchVal} = req.params;\n",
    "  var {offset} = req.query;\n",
    "  res.json({\n",
    "    searchVal,\n",
    "    offset\n",
    "  });  \n",
    "});\n",
    "\n",
    "app.listen(process.env.PORT || 3000,()=>{\n",
    "  console.log(\"Server is running\");\n",
    "});\n",
    "```"
   ]
  },
  {
   "cell_type": "markdown",
   "metadata": {},
   "source": [
    "#### Part 2\n",
    "model  "
   ]
  },
  {
   "cell_type": "markdown",
   "metadata": {},
   "source": [
    "```\n",
    "//Requirements for mongoose and schema\n",
    "const mongoose = require('mongoose');\n",
    "const Schema = mongoose.Schema;\n",
    "//Model\n",
    "const searchTermSchema = new Schema(\n",
    "{\n",
    "  searchVal: String,\n",
    "  searchDate: Date\n",
    "},\n",
    "  {timeStamps: true}\n",
    ");\n",
    "//Connects model and collection\n",
    "const ModelClass = mongoose.model('searchTerm', searchTermSchema);\n",
    "\n",
    "module.exports = ModelClass;\n",
    "\n",
    "```"
   ]
  },
  {
   "cell_type": "markdown",
   "metadata": {},
   "source": [
    "```\n",
    "var data = new searchTerm({\n",
    "  searchVal,\n",
    "  searchDate: new Date()\n",
    "});  \n",
    "\n",
    "data.save(err => {\n",
    "  if(err){ \n",
    "    return res.send('Error Saving to DataBase');\n",
    "  }\n",
    "  res.json(data);\n",
    "```"
   ]
  },
  {
   "cell_type": "markdown",
   "metadata": {},
   "source": [
    "#### Part 3\n",
    "[node-bing-api](https://www.npmjs.com/package/node-bing-api#usage)  \n",
    "[images-search](https://www.npmjs.com/package/node-bing-api#images-search)  \n",
    "[api/imagesearch/pokemon](https://understood-verdant-brian.glitch.me/api/imagesearch/pokemon)  "
   ]
  },
  {
   "cell_type": "markdown",
   "metadata": {},
   "source": []
  },
  {
   "cell_type": "markdown",
   "metadata": {},
   "source": [
    "#### 5. Build a Tic Tac Toe Game\n",
    "[dashboard](https://codepen.io/mlapin/pen/WNQaqgR)  \n",
    "[h05tictac](https://codepen.io/mlapin/full/WNQaqgR)  \n",
    "[work template](https://codepen.io/freeCodeCamp/pen/KzXQgy)  \n",
    "[view template](https://codepen.io/freeCodeCamp/full/KzXQgy/)  \n",
    "[Tic Tac Toe Game Part 2 jQuery: Free Code Camp Advanced Front End Projects](https://www.youtube.com/watch?v=iBnYfox2rX8)  \n",
    "[]()  \n",
    "[]()  \n",
    "[]()  \n",
    "```\n",
    "```"
   ]
  },
  {
   "cell_type": "markdown",
   "metadata": {},
   "source": [
    "```\n",
    "//Определение соответствия [turn, turn, turn]\n",
    "var arr = [0, 0, 0];\n",
    "var turn = 0;\n",
    "var arr2 =[];\n",
    "//1-й способ\n",
    "//вернет положительный результат при несоответсвии заданному массиву\n",
    "//состоящему из 3-х turn\n",
    " arr2 = arr.filter(i => i != turn)\n",
    "//2-й способ\n",
    "//isTrue=true - когда как надо \n",
    "//все элементы - turn\n",
    "var isNo = false;\n",
    "arr.forEach((i) => {\n",
    " if(i !== turn){\n",
    "   return;\n",
    " }\n",
    "   isNo = true;\n",
    "})\n",
    "\n",
    "log(isNo,arr2, arr)\n",
    "```"
   ]
  },
  {
   "cell_type": "markdown",
   "metadata": {},
   "source": [
    "```\n",
    "//нахождение наличия выигрышных ходов\n",
    "//массив ходов\n",
    "var turnArray = ['X', 'X', 'X']\n",
    "var turn = 'X';\n",
    "//массив выигрышных ходов\n",
    "var winArray = [[0, 1, 2]];\n",
    "var isTrue = false;\n",
    "\n",
    "var arrLine = [];\n",
    "winArray.forEach((i) => {\n",
    "  var arrVal = [turnArray[i[0]], turnArray[i[1]], turnArray[i[2]]];\n",
    "  if(arrVal.filter(i => i == turn).length == 3){\n",
    "    isTrue = true;\n",
    "    arrLine = i;\n",
    "    return;\n",
    "  }\n",
    "});\n",
    "\n",
    "log(isTrue,arr2, arrLine)\n",
    "```"
   ]
  },
  {
   "cell_type": "markdown",
   "metadata": {},
   "source": [
    "#### computerTurn\n",
    "- ход компьютера\n",
    "- в цикле, генерит число от 0 до 8 и если клетка свободна выходит из цикла\n",
    "- проставляет в клетку свой символ"
   ]
  },
  {
   "cell_type": "markdown",
   "metadata": {},
   "source": [
    "```\n",
    "  function computerTurn(){\n",
    "    //Used to break while loop\n",
    "    var taken = false;\n",
    "    while(taken===false && count!==5){\n",
    "      //Generate computer's random turn\n",
    "      var computersMove = (Math.random()*10).toFixed();\n",
    "      var move = $(\"#\"+computersMove).text();\n",
    "      if(move===\"#\"){\n",
    "        $(\"#\"+computersMove).text(computersTurn);\n",
    "        taken = true;\n",
    "        turns[computersMove] = computersTurn;\n",
    "      }\n",
    "      \n",
    "    }\n",
    "  }\n",
    "```"
   ]
  },
  {
   "cell_type": "markdown",
   "metadata": {},
   "source": [
    "#### tictac\n",
    "```\n",
    "Крестики нолики.\n",
    "Кнопки 2 кто чем ходит\n",
    "кнопка 0 кто первый pc, user\n",
    "gameOn - false - ходит компьютер\n",
    "при загрузке если gameOn===false - compurersTurn\n",
    "turn вызывается по клику с номером клетки\n",
    "winTest - проверка на победу запускается после хода\n",
    "если победа gameOn=true , чтобы не ходил компьютер\n",
    "в ней же вызывается compurersTurn\n",
    "winTest - проверка на победу запускается после хода\n",
    "\n",
    "turn='X'\n",
    "pcTurn='O'\n",
    "\n",
    "mTurn()\n",
    "mPcTurn()\n",
    "\n",
    "btnFirst btnA btnB \n",
    "x - user\n",
    "0 - pc\n",
    "0 - user\n",
    "x - pc\n",
    "\n",
    "```"
   ]
  },
  {
   "cell_type": "markdown",
   "metadata": {},
   "source": [
    "```\n",
    "var log = console.log\n",
    "\n",
    "var winArray = [[0, 1, 2], [3, 4, 5], [6, 7, 8], [0, 3, 6], [1, 4, 7], [2, 5, 8], [0, 4, 8], [2, 4, 6]];\n",
    "\n",
    "var turn = \"X\";\n",
    "  //Array stores values that we will check later for a winner\n",
    "  var turns =[]\n",
    "  turns = ['#', '#', '#', '#', '#', '#', '#', '#', '#'];\n",
    "//turns = ['1', '1', '1', '1', '1', '1', '1', '1', '1'];\n",
    "\n",
    "function mOtherCell(fromArr, exArr){\n",
    "//возвращает 1-й элемент не равный exArr  \n",
    "  var resArr = []\n",
    "  resArr = fromArr.filter(v => exArr.indexOf(v)==-1)\n",
    "  return resArr.length == 1 ? resArr[0] : -1\n",
    "}\n",
    "\n",
    "function mOtherCells(fromArr, exArr){\n",
    "//возвращает массив элементов не равных exArr  \n",
    "  var resArr = []\n",
    "  resArr = fromArr.filter(v => exArr.indexOf(v)==-1)\n",
    "  return resArr\n",
    "}\n",
    "\n",
    "function mLinesCells(cell){\n",
    "//при входном массиве из одной клетки свободные клетки не проверяет  \n",
    "//функция возвращает массив линий с заданными 2-мя клетками\n",
    "//оставшаяся клетка #\n",
    "  var resArr = []\n",
    "  winArray.forEach(val => {\n",
    "    var is = 0\n",
    "    cell.forEach(v => {\n",
    "      if(val.indexOf(v) != -1){\n",
    "         is++ \n",
    "      }\n",
    "    })\n",
    "    if(is == cell.length){\n",
    "      var otherCell = mOtherCell(val, cell);\n",
    "      if(turns[otherCell] == '#' || cell.length == 1){\n",
    "        resArr.push(val)\n",
    "      }\n",
    "    }\n",
    "  })\n",
    "  return resArr;\n",
    "}\n",
    "\n",
    "function mMovesFrom(winArr, searchArr, excludeArr){\n",
    "// функцию, которая принимает массив выигрышных линий и массив предпочтительных ходов\n",
    "// возвращает массив ходов из числа предпочтительных ходов\n",
    " var resArr=[];\n",
    " var seArr = mOtherCells(searchArr, excludeArr);\n",
    " for(var i in winArr){\n",
    "   //[ 0, 3, 6 ]\n",
    "   for(var j in winArr[i]){\n",
    "     //0\n",
    "     for(var k in seArr){\n",
    "       if(seArr[k] == winArr[i][j]){\n",
    "         resArr.push(seArr[k]);\n",
    "       }\n",
    "     }     \n",
    "   }\n",
    " }\n",
    " resArr = resArr.sort()\n",
    " return resArr;\n",
    "}\n",
    "\n",
    "var arr = []\n",
    "arr = mLinesCells([0])\n",
    "var res = mOtherCell([1,3,5],[1,5])\n",
    "//log(res, arr)\n",
    "var ar = [ [ 0, 1, 2 ], [ 0, 3, 6 ], [ 0, 4, 8 ] ]\n",
    "var winArr = [[ 0, 1, 2 ], [0, 3, 6 ], [ 0, 4, 8 ]]\n",
    "arr = mMovesFrom(winArr,[0,2,4,6,8],[0])\n",
    "log(arr)\n",
    "```"
   ]
  },
  {
   "cell_type": "markdown",
   "metadata": {},
   "source": [
    "```\n",
    "\n",
    "```"
   ]
  },
  {
   "cell_type": "markdown",
   "metadata": {},
   "source": []
  },
  {
   "cell_type": "markdown",
   "metadata": {},
   "source": [
    "#### 6. Build a Simon Game\n",
    "[dashboard](https://codepen.io/mlapin/pen/JjYmgdq)  \n",
    "[h06Simon](https://codepen.io/mlapin/full/JjYmgdq)  \n",
    "[work template](https://codepen.io/Em-Ant/pen/QbRyqq)  \n",
    "[view template]()  \n",
    "[]()  \n",
    "[]()  \n",
    "```\n",
    "```"
   ]
  },
  {
   "cell_type": "markdown",
   "metadata": {},
   "source": []
  },
  {
   "cell_type": "markdown",
   "metadata": {},
   "source": [
    "#### 7. Build a freeCodeCamp Forum Homepage\n",
    "[dashboard](https://codepen.io/mlapin/pen/MWaPNKX)  \n",
    "[h07Forum](https://codepen.io/mlapin/full/MWaPNKX)  \n",
    "[work template](https://codepen.io/freeCodeCamp/pen/JqdoMV)  \n",
    "[view template](https://codepen.io/freeCodeCamp/full/JqdoMV)  \n",
    "[]()  \n",
    "[]()  \n",
    "```\n",
    "```\n"
   ]
  },
  {
   "cell_type": "markdown",
   "metadata": {},
   "source": [
    "componentDidMount  \n",
    "fetch  \n",
    "[glitch/latest](https://buttercup-island.glitch.me/latest)  \n",
    "[glitch](https://buttercup-island.glitch.me/)  \n",
    "[glitch-work](https://glitch.com/edit/#!/buttercup-island.glitch.me)  \n",
    "[freecodecamp](https://forum.freecodecamp.org/latest.json)  \n",
    "\n",
    "\n"
   ]
  },
  {
   "cell_type": "markdown",
   "metadata": {},
   "source": [
    "1. App\n",
    "1. ForumTopic\n",
    "1. StyledForumTopic\n",
    "1. StyledTopicField\n",
    "1. TopicRank\n",
    "1. TopicTitle\n",
    "1. TopicLink\n",
    "1. UserAvatar\n",
    "1. UserLink\n",
    "1. UserImage\n",
    "1. Posters\n",
    "1. CountField\n",
    "1. ForumTopic\n"
   ]
  },
  {
   "cell_type": "markdown",
   "metadata": {},
   "source": []
  },
  {
   "cell_type": "markdown",
   "metadata": {},
   "source": []
  },
  {
   "cell_type": "markdown",
   "metadata": {},
   "source": [
    "#### 8. Build a Recipe Box\n",
    "[dashboard](https://codepen.io/mlapin/pen/wvKYVWe)  \n",
    "[h08Recipe](https://codepen.io/mlapin/full/wvKYVWe)  \n",
    "[work template](https://codepen.io/freeCodeCamp/pen/dNVazZ)  \n",
    "[view template](https://codepen.io/freeCodeCamp/full/dNVazZ/)  \n",
    "[]()  \n",
    "[]()  \n",
    "```\n",
    "```\n"
   ]
  },
  {
   "cell_type": "markdown",
   "metadata": {},
   "source": []
  },
  {
   "cell_type": "markdown",
   "metadata": {},
   "source": [
    "#### 9. Build the Game of Life\n",
    "[dashboard](https://codepen.io/mlapin/pen/YzyJdgV)  \n",
    "[h09Life](https://codepen.io/mlapin/full/YzyJdgV)  \n",
    "[view template](https://codepen.io/freeCodeCamp/full/BpwMZv)  \n",
    "[]()  \n",
    "[]()  \n",
    "```\n",
    "```\n",
    "##### only html\n",
    "##### empty react\n",
    "##### react empty"
   ]
  },
  {
   "cell_type": "markdown",
   "metadata": {},
   "source": [
    "##### only html\n",
    "```\n",
    "#app\n",
    "  .boardWrapper\n",
    "    .board\n",
    "      .cell{:style => \"background-color:black;\"}\n",
    "      .cell{:style => \"background-color:black;\"}\n",
    "      .cell{:style => \"background-color:black;\"}\n",
    "```"
   ]
  },
  {
   "cell_type": "markdown",
   "metadata": {},
   "source": [
    "```\n",
    "@import url('https://fonts.googleapis.com/css?family=Orbitron|Shrikhand|Six+Caps');\n",
    "$cell-dimensions: 15px;\n",
    "$board-width: $cell-dimensions * 50;\n",
    "$board-height: $cell-dimensions * 30;\n",
    "$dark-highlight: lighten(black, 15%);\n",
    "$light-green: #66ff33;\n",
    "$cell-border: 1px solid $dark-highlight;\n",
    "body {\n",
    "  background: black;\n",
    "  font-family: Orbitron\n",
    "}\n",
    "\n",
    "#app {\n",
    "  display: flex;\n",
    "  //height: 100vh;\n",
    "  justify-content: center;\n",
    "  align-items: center;\n",
    "}\n",
    "\n",
    ".title {\n",
    "  color: $light-green;\n",
    "  font-family: Shrikhand;\n",
    "  font-size: 35px;\n",
    "  text-align: center;\n",
    "  margin-bottom: 3px;\n",
    "}\n",
    "\n",
    ".boardWrapper {\n",
    "  padding: 5px;\n",
    "  background: $dark-highlight;\n",
    "  border-radius: 5px;\n",
    "  .board {\n",
    "    height: $board-height;\n",
    "    width: $board-width;\n",
    "    border-top: $cell-border;\n",
    "    border-left: $cell-border;\n",
    "    .cell {\n",
    "      //background-color: black;\n",
    "      height: $cell-dimensions;\n",
    "      width: $cell-dimensions;\n",
    "      box-sizing: border-box;\n",
    "      border-right: $cell-border;\n",
    "      border-bottom: $cell-border;\n",
    "      float: left;\n",
    "      font-size: 7px;\n",
    "      color: orange;\n",
    "    }\n",
    "  }\n",
    "}\n",
    "```"
   ]
  },
  {
   "cell_type": "markdown",
   "metadata": {},
   "source": [
    "##### empty react\n",
    "```\n",
    "\n",
    "function log(value){\n",
    "      let div1 = document.getElementById(\"div1\");\n",
    "    div1.innerText = value;\n",
    "\n",
    "}\n",
    "\n",
    "class GameOfLife extends React.Component{\n",
    "  constructor(props){\n",
    "    super(props);\n",
    "    this.state={\n",
    "      patterns: []\n",
    "    };\n",
    "    this.createBoard = this.createBoard.bind(this); \n",
    "  }\n",
    "  createBoard(cells){\n",
    "    let config = [];\n",
    "    config.push(1);\n",
    "    \n",
    "    return config;\n",
    "  }\n",
    "  \n",
    "  render(){\n",
    "    log(3334444);\n",
    "    return (    <div>11111111111</div>\n",
    "    );\n",
    "  }\n",
    "}\n",
    "\n",
    "ReactDOM.render(\n",
    "<GameOfLife/>,\n",
    "  document.getElementById('app')\n",
    ");\n",
    "```"
   ]
  },
  {
   "cell_type": "markdown",
   "metadata": {},
   "source": [
    "##### react empty\n",
    "```\n",
    "const HEIGHT_BOARD = 30;\n",
    "const WIDTH_BOARD = 50;\n",
    "\n",
    "function log(value){\n",
    "      let div1 = document.getElementById(\"div1\");\n",
    "  if(div1)\n",
    "    div1.innerText = value;\n",
    "}\n",
    "\n",
    "class GameOfLife extends React.Component{\n",
    "  constructor(props){\n",
    "    super(props);\n",
    "    this.state={ \n",
    "      currentBoard: [],\n",
    "      patterns: []\n",
    "    };\n",
    "    this.createBoard = this.createBoard.bind(this); \n",
    "    this.convertToOneDimension = this.convertToOneDimension.bind(this); \n",
    "  }\n",
    "  createBoard(cells){\n",
    "    let config = [];\n",
    "\n",
    "    \n",
    "    return config;\n",
    "  }\n",
    "  convertToOneDimension(multiDimArray) {\n",
    "    // Converts multi-dim representation of board into a\n",
    "    // single dimension array than can easily be drawn by the\n",
    "    // render function.\n",
    "    \n",
    "    let multiDimArray2 = [];\n",
    "    for(let i=0;i<HEIGHT_BOARD;i++){\n",
    "      multiDimArray2.push([]); \n",
    "      for(let j=0;j<WIDTH_BOARD;j++){\n",
    "        multiDimArray2[i].push(0);\n",
    "      }\n",
    "    }\n",
    "    log(multiDimArray2.length);\n",
    "    \n",
    "    let oneDimesnional = [];\n",
    "      multiDimArray2.forEach(row => {\n",
    "        row.map(cell => {\n",
    "          return oneDimesnional.push(cell);\n",
    "        });\n",
    "      });\n",
    "    return oneDimesnional;\n",
    "  }\n",
    "   \n",
    "  render(){\n",
    "    log(3334444);\n",
    "    const dead = { background: 'black' };\n",
    "    const alive = { background: '#66ff33' };\n",
    "    const board = this.convertToOneDimension(this.state.currentBoard);\n",
    "    const drawBoard = board.map((cell, i) => {\n",
    "      let color = cell === 0 ? dead : alive;\n",
    "      return <div id={i} onClick={this.clickChanger} className='cell' style={color} key={i}></div>\n",
    "    });\n",
    "    \n",
    "    return ( \n",
    "      <div>\n",
    "    <GameBoard create={drawBoard}/>\n",
    "      </div>\n",
    "    );\n",
    "  }\n",
    "}\n",
    "// STATELESS COMPONENTS:\n",
    "class GameBoard extends React.Component {\n",
    "  render() {\n",
    "    return (\n",
    "      <div className='boardWrapper'>\n",
    "        <div className='board'>\n",
    "          {this.props.create}\n",
    "        </div>\n",
    "      </div>\n",
    "    )\n",
    "  }\n",
    "}\n",
    "\n",
    "ReactDOM.render(\n",
    "<GameOfLife/>,\n",
    "  document.getElementById('app')\n",
    ");\n",
    "```"
   ]
  },
  {
   "cell_type": "markdown",
   "metadata": {},
   "source": []
  },
  {
   "cell_type": "markdown",
   "metadata": {},
   "source": []
  },
  {
   "cell_type": "markdown",
   "metadata": {},
   "source": [
    "#### 10. Build a Roguelike Dungeon Crawler Game\n",
    "[dashboard](https://codepen.io/mlapin/pen/bGVmXrY)  \n",
    "[h10Roguelike](https://codepen.io/mlapin/full/bGVmXrY)  \n",
    "[work template](https://codepen.io/freeCodeCamp/pen/apLXEJ)  \n",
    "[view template](https://codepen.io/freeCodeCamp/full/apLXEJ/)  \n",
    "[]()  \n",
    "[]()  \n",
    "```\n",
    "```\n"
   ]
  },
  {
   "cell_type": "markdown",
   "metadata": {},
   "source": []
  },
  {
   "cell_type": "markdown",
   "metadata": {},
   "source": [
    "#### 11. P2P Video Chat Application\n",
    "[horoku view](https://calm-cliffs-53803.herokuapp.com/)  \n",
    "[github h31Express](https://github.com/mlapinm/h31Express)  \n",
    "\n",
    "\n",
    "[dashboard](https://glitch.com/edit/#!/cooked-glaze-ant?path=README.md%3A1%3A0)  \n",
    "[h11P2P](https://cooked-glaze-ant.glitch.me/)  \n",
    "[work template](https://glitch.com/edit/#!/grove-voice.glitch.me)  \n",
    "[view template](https://grove-voice.glitch.me/)  \n",
    "[](https://grove-voice.glitch.me/hh)  \n",
    "[]()  \n",
    "```\n",
    "```\n"
   ]
  },
  {
   "cell_type": "markdown",
   "metadata": {},
   "source": []
  },
  {
   "cell_type": "markdown",
   "metadata": {},
   "source": [
    "#### 12. Show National Contiguity with a Force Directed Graph\n",
    "[dashboard](https://codepen.io/mlapin/pen/VwvEoGK)  \n",
    "[h12Contiguity](https://codepen.io/mlapin/full/VwvEoGK)  \n",
    "[work template](https://codepen.io/freeCodeCamp/pen/xVopBo)  \n",
    "[view template](https://codepen.io/freeCodeCamp/full/xVopBo)  \n",
    "[]()  \n",
    "[]()  \n",
    "```\n",
    "```"
   ]
  },
  {
   "cell_type": "markdown",
   "metadata": {},
   "source": []
  },
  {
   "cell_type": "markdown",
   "metadata": {},
   "source": [
    "#### 13. Map Data Across the Globe\n",
    "[dashboard](https://codepen.io/mlapin/pen/yLYRmWr)  \n",
    "[h13Map](https://codepen.io/mlapin/full/yLYRmWr)  \n",
    "[work template](https://codepen.io/freeCodeCamp/pen/mVEJag)  \n",
    "[view template](https://codepen.io/freeCodeCamp/full/mVEJag)  \n",
    "[]()  \n",
    "[]()  \n",
    "```\n",
    "```"
   ]
  },
  {
   "cell_type": "markdown",
   "metadata": {},
   "source": []
  },
  {
   "cell_type": "markdown",
   "metadata": {},
   "source": [
    "#### 14. Manage a Book Trading Club\n",
    "[dashboard](https://glitch.com/edit/#!/burly-garrulous-respect?path=server.js%3A1%3A0)  \n",
    "[h14BookTrading](https://burly-garrulous-respect.glitch.me/)  \n",
    "[work template]()  \n",
    "[view template]()  \n",
    "[]()  \n",
    "[]()  \n",
    "```\n",
    "```"
   ]
  },
  {
   "cell_type": "markdown",
   "metadata": {},
   "source": []
  },
  {
   "cell_type": "markdown",
   "metadata": {},
   "source": [
    "#### 15. Build a Pinterest Clone\n",
    "[dashboard](https://glitch.com/edit/#!/scandalous-cake-dumpling?path=README.md%3A1%3A0)  \n",
    "[h15Pinterest](https://scandalous-cake-dumpling.glitch.me/)  \n",
    "[work template]()  \n",
    "[view template](https://wild-song.glitch.me/)  \n",
    "[]()  \n",
    "[]()  \n",
    "```\n",
    "```"
   ]
  },
  {
   "cell_type": "markdown",
   "metadata": {},
   "source": []
  },
  {
   "cell_type": "markdown",
   "metadata": {},
   "source": [
    "#### 16. Build a Nightlife Coordination App\n",
    "[dashboard]()  \n",
    "[h16Nightlife]()  \n",
    "[work template]()  \n",
    "[view template](http://whatsgoinontonight.herokuapp.com/)  \n",
    "[]()  \n",
    "[]()  \n",
    "```\n",
    "```"
   ]
  },
  {
   "cell_type": "markdown",
   "metadata": {},
   "source": []
  },
  {
   "cell_type": "markdown",
   "metadata": {},
   "source": []
  },
  {
   "cell_type": "markdown",
   "metadata": {},
   "source": []
  },
  {
   "cell_type": "markdown",
   "metadata": {},
   "source": []
  },
  {
   "cell_type": "markdown",
   "metadata": {},
   "source": []
  },
  {
   "cell_type": "markdown",
   "metadata": {},
   "source": []
  },
  {
   "cell_type": "markdown",
   "metadata": {},
   "source": [
    "#### 17. Chart the Stock Market\n",
    "[dashboard]()  \n",
    "[h17StockMarket]()  \n",
    "[work template]()  \n",
    "[view template](http://watchstocks.herokuapp.com/)  \n",
    "[]()  \n",
    "[]()  \n",
    "```\n",
    "```\n",
    "#### 18. Build a Voting App\n",
    "[dashboard]()  \n",
    "[h18Voting]()  \n",
    "[work template]()  \n",
    "[view template](https://fcc-voting-arthow4n.herokuapp.com/polls)  \n",
    "[]()  \n",
    "[]()  \n",
    "```\n",
    "```\n",
    "#### 19. Build a Pong Game\n",
    "[dashboard](https://codepen.io/mlapin/pen/RwWqbRx)  \n",
    "[h19Pong](https://codepen.io/mlapin/full/RwWqbRx)  \n",
    "[work template](https://codepen.io/satyamdev/full/pdMmBp)  \n",
    "[view template](https://codepen.io/satyamdev/full/pdMmBp)  \n",
    "[]()  \n",
    "[]()  \n",
    "```\n",
    "```\n",
    "#### 20. Build a Light-Bright App\n",
    "[dashboard](https://codepen.io/mlapin/pen/vYNQByp)  \n",
    "[h20Light-Bright](https://codepen.io/mlapin/full/vYNQByp)  \n",
    "[work template](https://codepen.io/freeCodeCamp/pen/eyLYXE)  \n",
    "[view template](https://codepen.io/freeCodeCamp/full/eyLYXE)  \n",
    "[]()  \n",
    "[]()  \n",
    "```\n",
    "```"
   ]
  },
  {
   "cell_type": "markdown",
   "metadata": {},
   "source": [
    "#### h21xPjson\n",
    "[h21xPjson](https://codepen.io/mlapin/pen/mdezOMG)  \n",
    "[]()  \n",
    "[Коммуникация между сайтами с помощью JSONP](https://www.youtube.com/watch?v=OIaaoSUBW0s)  \n",
    "[view template]()  \n",
    "[json](https://raw.githubusercontent.com/mlapinm/A02Nh/master/json/data.json)  \n",
    "```\n",
    "```"
   ]
  },
  {
   "cell_type": "markdown",
   "metadata": {},
   "source": [
    "#### h22xPjson\n",
    "[h22xPjson](https://codepen.io/mlapin/pen/MWaPpWB)  \n",
    "[Использование техники JSONP Борисов](https://www.youtube.com/watch?v=VyIvCFUw17g)  \n",
    "[api.flickr.com](http://api.flickr.com/services/feeds/photos_public.gne?tags=cars)  \n",
    "[]()  \n",
    "[]()  \n",
    "[]()  \n"
   ]
  },
  {
   "cell_type": "markdown",
   "metadata": {},
   "source": [
    "1. iexplorer открывает xml\n",
    "1. format=json  \n",
    "[json](http://api.flickr.com/services/feeds/photos_public.gne?tags=cars&format=json)\n",
    "1. &jsoncallback  \n",
    "[json](http://api.flickr.com/services/feeds/photos_public.gne?tags=cars&format=json&jsoncallback)\n",
    "1. jsonFlickrFeed\n",
    "demo.js\n",
    "1. \n",
    "1. \n",
    "1. \n"
   ]
  },
  {
   "cell_type": "markdown",
   "metadata": {},
   "source": [
    "#### h23xvchat\n",
    "[work](https://glitch.com/edit/#!/gray-vigorous-frog?path=README.md%3A1%3A0)  \n",
    "[h23xvchat](https://gray-vigorous-frog.glitch.me/)  \n",
    "[]()  \n",
    "[]()  \n",
    "[]()  \n",
    "[]()  \n",
    "[]()  \n",
    "[]()  \n"
   ]
  },
  {
   "cell_type": "markdown",
   "metadata": {},
   "source": [
    "[P2P Video Chat with JavaScript / WebRTC](https://www.youtube.com/watch?v=ieBtXwHvoNk&list=PL1QRvYV-LXn7Mdt7pKOdp7gircj8CwMgk&index=2)  \n",
    "[Build Video Chat Web App From Scratch in 40 mins](https://www.youtube.com/watch?v=KLCcCTFivhM&t=105s)  \n",
    "[WebRTC Let's learn together (ReactNative) - Part 4](https://www.youtube.com/watch?v=uR_92JkSezA)  \n",
    "[]()  \n",
    "[]()  \n",
    "[]()  \n",
    "[]()  \n",
    "[]()  \n"
   ]
  },
  {
   "cell_type": "markdown",
   "metadata": {},
   "source": [
    "#### simple-peer tutorial\n",
    "[SimplePeerTutorial](https://www.youtube.com/watch?v=JOQlo-D4ElU)  \n",
    "[]()  \n",
    "[]()  \n",
    "[]()  \n",
    "[]()"
   ]
  },
  {
   "cell_type": "markdown",
   "metadata": {},
   "source": [
    "#### h29server\n",
    "node express visual code  \n",
    "[code.visualstudio](https://code.visualstudio.com/)  \n",
    "[]()  \n",
    "[]()  \n",
    "[]()  \n",
    "\n"
   ]
  },
  {
   "cell_type": "markdown",
   "metadata": {},
   "source": [
    "- Visual Studio Code\n",
    "- open folder D:\\programs\\nodejs\\h29server\n",
    "- npm init\n",
    "- npm install express\n",
    "- для получения devDepencies\n",
    "- для автоматической перезагрузки сервера\n",
    "- npm i -D nodemon\n",
    "- npm install nodemon --save-dev\n",
    "```\n",
    "\"scripts\":{\n",
    "    \"start\": \"node server\",\n",
    "    \"dev\": \"nodemon server\"\n",
    "}\n",
    "```\n",
    "- save"
   ]
  },
  {
   "cell_type": "markdown",
   "metadata": {},
   "source": [
    "- index.js"
   ]
  },
  {
   "cell_type": "markdown",
   "metadata": {},
   "source": [
    "```\n",
    "const express = require('express')\n",
    "\n",
    "const PORT = 3000\n",
    "\n",
    "const app = express()\n",
    "\n",
    "\n",
    "\n",
    "app.get('/',(req,res,next)=>{\n",
    "    res.send('hello1')\n",
    "//    res.sendFile(__dirname + '/index.html')\n",
    "})\n",
    "\n",
    "app.listen(PORT,()=>{\n",
    "    console.log(\"Server started ... port 3000\")\n",
    "})\n",
    "```"
   ]
  },
  {
   "cell_type": "markdown",
   "metadata": {},
   "source": [
    "- npm run dev\n",
    "- http://localhost:3000/"
   ]
  },
  {
   "cell_type": "markdown",
   "metadata": {},
   "source": [
    "#### h30Express\n",
    "How to deploy a Node / Express App to Heroku  \n",
    "[How to deploy a Node / Express App to Heroku](https://www.youtube.com/watch?v=6Fu39V6T_G0)  \n",
    "[]()  \n",
    "[]()  \n",
    "[]()  \n",
    "[]()  \n",
    "[]()  \n"
   ]
  },
  {
   "cell_type": "markdown",
   "metadata": {},
   "source": [
    "##### Удаление проекта\n",
    "- nodechate\n",
    "- apps/nodechate/settings\n",
    "- delete\n"
   ]
  },
  {
   "cell_type": "markdown",
   "metadata": {},
   "source": [
    "##### [Getting Started on Heroku with Node.js](https://devcenter.heroku.com/articles/getting-started-with-nodejs)\n"
   ]
  },
  {
   "cell_type": "markdown",
   "metadata": {},
   "source": [
    "- are you ready to start  \n",
    "- download windows 64 \n",
    "- Heroku Command Line Interface (CLI)\n",
    "- heroku-x64.exe\n",
    "- change password zZ2"
   ]
  },
  {
   "cell_type": "markdown",
   "metadata": {},
   "source": [
    "#### h31Express  \n",
    "- new repository h31Express"
   ]
  },
  {
   "cell_type": "markdown",
   "metadata": {},
   "source": [
    "```\n",
    "echo \"# h31Express\" >> README.md\n",
    "git init\n",
    "git add README.md\n",
    "git commit -m \"first commit\"\n",
    "git remote add origin https://github.com/mlapinm/h31Express.git\n",
    "git push -u origin master\n",
    "```"
   ]
  },
  {
   "cell_type": "markdown",
   "metadata": {},
   "source": [
    "- D:\\programs\\nodejs\\h31Express>\n",
    "- git clone https://github.com/mlapinm/h31Express.git\n",
    "- cd h31Express"
   ]
  },
  {
   "cell_type": "markdown",
   "metadata": {},
   "source": [
    "```\n",
    "D:\\programs\\nodejs\\h31Express>heroku create\n",
    "Creating app... done, ? calm-cliffs-53803\n",
    "https://calm-cliffs-53803.herokuapp.com/ | https://git.heroku.com/calm-cliffs-53\n",
    "803.git\n",
    "```"
   ]
  },
  {
   "cell_type": "markdown",
   "metadata": {},
   "source": [
    "- git add .\n",
    "- git commit -m \"Deploy app heroku\"\n",
    "- git push heroku master"
   ]
  },
  {
   "cell_type": "markdown",
   "metadata": {},
   "source": [
    "- git add .\n",
    "- git commit -m \"Deploy app server video\"\n",
    "- git push heroku master"
   ]
  },
  {
   "cell_type": "markdown",
   "metadata": {},
   "source": [
    "[horoku view](https://calm-cliffs-53803.herokuapp.com/)  \n",
    "[github h31Express](https://github.com/mlapinm/h31Express)  "
   ]
  },
  {
   "cell_type": "markdown",
   "metadata": {},
   "source": []
  },
  {
   "cell_type": "markdown",
   "metadata": {},
   "source": []
  },
  {
   "cell_type": "markdown",
   "metadata": {},
   "source": []
  },
  {
   "cell_type": "markdown",
   "metadata": {},
   "source": []
  },
  {
   "cell_type": "markdown",
   "metadata": {},
   "source": []
  },
  {
   "cell_type": "markdown",
   "metadata": {},
   "source": [
    "#### Build Video Chat Web App From Scratch in 40 mins\n",
    "\n",
    "[Doubt Everything](https://www.youtube.com/watch?v=KLCcCTFivhM)  \n",
    "[work](https://glitch.com/edit/#!/ordinary-industrious-salt?path=README.md%3A1%3A0)  \n",
    "[h27xvchat](https://ordinary-industrious-salt.glitch.me/)  \n",
    "[Build Video Chat Web App From Scratch in 40 mins](https://www.youtube.com/watch?v=KLCcCTFivhM&t=108s)  \n",
    "[]()  \n",
    "[]()  \n",
    "[]()  \n"
   ]
  },
  {
   "cell_type": "markdown",
   "metadata": {},
   "source": [
    "- npm i -D watchify\n",
    "- npm install simple-peer\n",
    "- npm install socket.io\n",
    "- npm install package_name@latest --save-dev\n",
    "- npm install package_name@latest --save\n",
    "- npm run watch\n",
    "```\n",
    "  \"scripts\": {\n",
    "    \"start\": \"nodemon index\",\n",
    "    \"watch\": \"npx watchify ./public/main.js -o ./public/bundle.js\"\n",
    "  },\n",
    "  \"dependencies\": {\n",
    "    \"express\": \"^4.17.1\"\n",
    "  },\n",
    "  \"devDependencies\": {\n",
    "    \"nodemon\": \"^2.0.4\",\n",
    "    \"watchify\": \"^3.11.1\"\n",
    "  }\n",
    "```"
   ]
  },
  {
   "cell_type": "markdown",
   "metadata": {},
   "source": []
  },
  {
   "cell_type": "markdown",
   "metadata": {},
   "source": []
  },
  {
   "cell_type": "markdown",
   "metadata": {},
   "source": [
    "[freecodecamp](https://www.freecodecamp.org/learn)  \n",
    "[glitch](https://glitch.com/@mmlapinm)  \n",
    "[h22xPjson](https://codepen.io/mlapin/pen/MWaPpWB)  \n",
    "[datacamp](https://campus.datacamp.com/courses/introduction-to-data-science-in-python/getting-started-in-python?ex=8)  \n",
    "[]()  \n",
    "[]()  \n",
    "[]()  \n",
    "[]()  \n"
   ]
  }
 ],
 "metadata": {
  "kernelspec": {
   "display_name": "Python 3",
   "language": "python",
   "name": "python3"
  },
  "language_info": {
   "codemirror_mode": {
    "name": "ipython",
    "version": 3
   },
   "file_extension": ".py",
   "mimetype": "text/x-python",
   "name": "python",
   "nbconvert_exporter": "python",
   "pygments_lexer": "ipython3",
   "version": "3.7.4"
  }
 },
 "nbformat": 4,
 "nbformat_minor": 2
}
