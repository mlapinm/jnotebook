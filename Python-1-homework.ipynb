{
 "cells": [
  {
   "cell_type": "markdown",
   "metadata": {},
   "source": [
    "Ввод/Вывод\n",
    "Задание 1.\n",
    "Напишите код, который принимает три целых числа и печатает их сумму. Каждое число принимается\n",
    "на отдельной строке."
   ]
  },
  {
   "cell_type": "code",
   "execution_count": 7,
   "metadata": {},
   "outputs": [
    {
     "name": "stdin",
     "output_type": "stream",
     "text": [
      "a1 =  1\n",
      "a2 =  2\n",
      "a3 =  3\n"
     ]
    },
    {
     "name": "stdout",
     "output_type": "stream",
     "text": [
      "sum = 6\n"
     ]
    }
   ],
   "source": [
    "a1 = int(input('a1 = '))\n",
    "a2 = int(input('a2 = '))\n",
    "a3 = int(input('a3 = '))\n",
    "print(f'sum = {a1 + a2 + a3}')"
   ]
  },
  {
   "cell_type": "markdown",
   "metadata": {},
   "source": [
    "Задание 2.\n",
    "Напишите код, который принимает значения основания и высоты прямоугольного треугольника и\n",
    "печатает его площадь. Каждое число принимается на отдельной строке"
   ]
  },
  {
   "cell_type": "code",
   "execution_count": 9,
   "metadata": {},
   "outputs": [
    {
     "name": "stdin",
     "output_type": "stream",
     "text": [
      "h =  3\n",
      "a =  4\n"
     ]
    },
    {
     "name": "stdout",
     "output_type": "stream",
     "text": [
      "S triangle = 6.0\n"
     ]
    }
   ],
   "source": [
    "h = int(input('h = '))\n",
    "a = int(input('a = '))\n",
    "print(f'S triangle = {h*a/2}')"
   ]
  },
  {
   "cell_type": "markdown",
   "metadata": {},
   "source": [
    "Задание 3.\n",
    "Напишите код, который принимает имя пользователя и печатает фразу состоящую из слов \"Привет\",\n",
    "запятой, имени пользователя и восклицательного знака."
   ]
  },
  {
   "cell_type": "code",
   "execution_count": 12,
   "metadata": {},
   "outputs": [
    {
     "name": "stdin",
     "output_type": "stream",
     "text": [
      "Input name:  Yurii\n"
     ]
    },
    {
     "name": "stdout",
     "output_type": "stream",
     "text": [
      "Hello, Yurii!\n"
     ]
    }
   ],
   "source": [
    "name = input('Input name: ')\n",
    "print(f'Hello, {name}!')"
   ]
  },
  {
   "cell_type": "markdown",
   "metadata": {},
   "source": [
    "Задание 4.\n",
    "Напишите код, который принимает целое *число* и печатает *числа*, которые следуют до него и после него.<font color=blue|red|green|pink|yellow>Text</font>\n",
    "<background color = blue>text</background><span style=\"background:#FAF\">word</span>"
   ]
  },
  {
   "cell_type": "code",
   "execution_count": 16,
   "metadata": {},
   "outputs": [
    {
     "name": "stdin",
     "output_type": "stream",
     "text": [
      "Input m =  34\n"
     ]
    },
    {
     "name": "stdout",
     "output_type": "stream",
     "text": [
      "Предыдущее число для 34: 33\n",
      "Следующее число для 34: 35\n"
     ]
    }
   ],
   "source": [
    "m = int(input('Input m = '))\n",
    "print(f'Предыдущее число для {m}: {m-1}')\n",
    "print(f'Следующее число для {m}: {m+1}')"
   ]
  },
  {
   "cell_type": "markdown",
   "metadata": {},
   "source": [
    "Задание 5.\n",
    "N студентов получают K яблок и распределяют их друг другу поровну. Оставшиеся яблоки\n",
    "складываются в корзину."
   ]
  },
  {
   "cell_type": "code",
   "execution_count": 21,
   "metadata": {},
   "outputs": [
    {
     "name": "stdin",
     "output_type": "stream",
     "text": [
      "k_bits =  50\n",
      "n_men =  6\n"
     ]
    },
    {
     "name": "stdout",
     "output_type": "stream",
     "text": [
      "8 у студентов. 2 в корзине.\n"
     ]
    }
   ],
   "source": [
    "binput = True\n",
    "k_bits = 58\n",
    "n_men = 7\n",
    "if binput:\n",
    "    k_bits = int(input('k_bits = '))\n",
    "    n_men = int(input('n_men = '))\n",
    "s_ost = k_bits%n_men\n",
    "s_men = k_bits//n_men\n",
    "print(f'{s_men} у студентов. {s_ost} в корзине.')"
   ]
  },
  {
   "cell_type": "markdown",
   "metadata": {},
   "source": [
    "Задание 7.\n",
    "Даны две метки времени одного дня. Метка времени состоит из полного количества часов, минут и\n",
    "секунд, например: 1 15 23 - один час 15 минут и 23 секунды. Первая метка времени произошла\n",
    "раньше второй.\n",
    "Напишите код, который вычисляет разницу между двумя метками в секундах."
   ]
  },
  {
   "cell_type": "code",
   "execution_count": 23,
   "metadata": {},
   "outputs": [
    {
     "data": {
      "text/plain": [
       "3661"
      ]
     },
     "execution_count": 23,
     "metadata": {},
     "output_type": "execute_result"
    }
   ],
   "source": [
    "h1 = 1\n",
    "m1 = 1\n",
    "s1 = 1\n",
    "h2 = 2\n",
    "m2 = 2\n",
    "s2 = 2\n",
    "margin =h2*60*60+m2*60+s2 - (h1*60*60+m1*60+s1)\n",
    "margin"
   ]
  },
  {
   "cell_type": "markdown",
   "metadata": {},
   "source": [
    "### Числа"
   ]
  },
  {
   "cell_type": "markdown",
   "metadata": {},
   "source": [
    "Задание 1.\n",
    "Дано целое двузначное число.\n",
    "Напечатайте правую и левую цифры, используя для их определения арифметические операторы."
   ]
  },
  {
   "cell_type": "code",
   "execution_count": 24,
   "metadata": {},
   "outputs": [
    {
     "name": "stdout",
     "output_type": "stream",
     "text": [
      "26: 2 and 6\n"
     ]
    }
   ],
   "source": [
    "num1 = 26\n",
    "print(f'{num1}: {num1//10} and {num1%10}')"
   ]
  },
  {
   "cell_type": "markdown",
   "metadata": {},
   "source": [
    "Задание 3.\n",
    "Дано целое число больше 9.\n",
    "Напечатайте последние две цифры числа."
   ]
  },
  {
   "cell_type": "code",
   "execution_count": 7,
   "metadata": {},
   "outputs": [
    {
     "name": "stdout",
     "output_type": "stream",
     "text": [
      "1234 last 2 digits: 34\n"
     ]
    }
   ],
   "source": [
    "num1 = 1234\n",
    "strnum1 = str(num1)\n",
    "strlast2num1 = strnum1[-2:]\n",
    "print(f'{num1} last 2 digits: {strlast2num1}')"
   ]
  },
  {
   "cell_type": "markdown",
   "metadata": {},
   "source": [
    "Задание 2.\n",
    "Дано целое двузначное число.\n",
    "Напечатайте число, в котором правая и левая цифры поменяны местами."
   ]
  },
  {
   "cell_type": "code",
   "execution_count": 8,
   "metadata": {},
   "outputs": [
    {
     "name": "stdout",
     "output_type": "stream",
     "text": [
      "79:97\n"
     ]
    }
   ],
   "source": [
    "n1 = 79\n",
    "a = 79//10\n",
    "b = 79%10\n",
    "n2 = b*10 + a\n",
    "print(f'{n1}:{n2}')"
   ]
  },
  {
   "cell_type": "markdown",
   "metadata": {},
   "source": [
    "<script>\n",
    "console.log('dfd')\n",
    "</script>"
   ]
  },
  {
   "cell_type": "markdown",
   "metadata": {},
   "source": [
    "Задание 3.\n",
    "Дано целое число больше 9.\n",
    "Напечатайте последние две цифры числа."
   ]
  },
  {
   "cell_type": "code",
   "execution_count": 4,
   "metadata": {},
   "outputs": [
    {
     "name": "stdout",
     "output_type": "stream",
     "text": [
      "34 34\n"
     ]
    }
   ],
   "source": [
    "n = 1234\n",
    "print(str(n)[-2:], n%100)"
   ]
  },
  {
   "cell_type": "markdown",
   "metadata": {},
   "source": [
    "Задание 4.\n",
    "Дано целое число больше 9.\n",
    "Напечатайте цифру числа, которая находится в ряду десяток."
   ]
  },
  {
   "cell_type": "code",
   "execution_count": 6,
   "metadata": {},
   "outputs": [
    {
     "name": "stdout",
     "output_type": "stream",
     "text": [
      "3 3\n"
     ]
    }
   ],
   "source": [
    "n = 1234\n",
    "print(str(n)[-2:-1], n%100//10)"
   ]
  },
  {
   "cell_type": "markdown",
   "metadata": {},
   "source": [
    "Задание 5.\n",
    "Дано целое число из трёх цифр.\n",
    "Напечатайте сумму цифру числа."
   ]
  },
  {
   "cell_type": "code",
   "execution_count": 32,
   "metadata": {},
   "outputs": [
    {
     "name": "stdout",
     "output_type": "stream",
     "text": [
      "6\n",
      "1 2 3\n",
      "6\n"
     ]
    }
   ],
   "source": [
    "n = 123\n",
    "sum = 0\n",
    "for i in range(3):\n",
    "    sum += int(str(n)[i])\n",
    "print(sum)    \n",
    "print(n%1000//100, n%100//10, n%10//1)\n",
    "sum = 0\n",
    "for i in range(1, 4):\n",
    "    sum += n%(10**i)//(10**(i-1))\n",
    "print(sum)    "
   ]
  },
  {
   "cell_type": "markdown",
   "metadata": {},
   "source": [
    "Задание 6.\n",
    "Дано вещественное положительное число.\n",
    "Напечатайте первую цифру справа после точки."
   ]
  },
  {
   "cell_type": "code",
   "execution_count": 51,
   "metadata": {},
   "outputs": [
    {
     "name": "stdout",
     "output_type": "stream",
     "text": [
      "21.94 1\n",
      "21.94 1\n"
     ]
    }
   ],
   "source": [
    "import re\n",
    "e = 21.94\n",
    "print(e, int(e)%10)\n",
    "se = str(e)\n",
    "lf = re.findall(r'(\\d)\\.', se)\n",
    "s2 = lf[0] if (len(lf)>0) else ''\n",
    "print(se, s2)"
   ]
  },
  {
   "cell_type": "markdown",
   "metadata": {},
   "source": [
    "Задание 7.\n",
    "Дан год в виде целого положительного числа.\n",
    "Напечатайте число соответствующее веку. Обратите внимание, что 20 век начинается в 1901 году."
   ]
  },
  {
   "cell_type": "code",
   "execution_count": 57,
   "metadata": {},
   "outputs": [
    {
     "name": "stdout",
     "output_type": "stream",
     "text": [
      "20\n"
     ]
    }
   ],
   "source": [
    "d = 1901\n",
    "sv = str(d-1)[:2]\n",
    "v = int(sv)+1 \n",
    "print(v)"
   ]
  },
  {
   "cell_type": "code",
   "execution_count": 61,
   "metadata": {},
   "outputs": [
    {
     "name": "stdout",
     "output_type": "stream",
     "text": [
      "1901 20\n"
     ]
    }
   ],
   "source": [
    "d = 1901\n",
    "v = (d-1)//100+1\n",
    "print(d, v)"
   ]
  },
  {
   "cell_type": "markdown",
   "metadata": {},
   "source": [
    "Задание 8.\n",
    "Дни недели пронумерованы как: 0 — Воскресенье, 1 — Понедельник, ..., 6 — Суббота. Целое число N\n",
    "имеет значение в диапазоне от 1 до 365.\n",
    "Найдите число дня недели для N-ого дня исходя из условия, что 1 Января был четверг."
   ]
  },
  {
   "cell_type": "code",
   "execution_count": 76,
   "metadata": {},
   "outputs": [
    {
     "name": "stdout",
     "output_type": "stream",
     "text": [
      "{1: 4, 2: 5, 3: 6, 4: 0, 5: 1, 6: 2, 7: 3, 8: 4, 9: 5, 10: 6, 11: 0, 12: 1, 13: 2, 14: 3, 15: 4, 16: 5, 17: 6, 18: 0, 19: 1, 20: 2, 21: 3, 22: 4, 23: 5, 24: 6, 25: 0, 26: 1, 27: 2, 28: 3, 29: 4, 30: 5, 31: 6, 32: 0, 33: 1}\n"
     ]
    }
   ],
   "source": [
    "n0 = 4\n",
    "n = 1\n",
    "d = {}\n",
    "for n in range(1, 34):\n",
    "    k = (n - n0)%7\n",
    "    d[n]=k\n",
    "print(d)"
   ]
  },
  {
   "cell_type": "markdown",
   "metadata": {},
   "source": [
    "Задание 9.\n",
    "Дано целое число N - количество минут прошедших после полуночи. Сколько часов и минут должно\n",
    "показываться на дисплее 24-часовых электронных часов?\n",
    "Ваш код должен напечатать два число разделённых двоеточием: количество часов (между 0 и 23) и\n",
    "количество минут (мкжду 0 and 59).\n",
    "На пример, если N = 150, то 150 минут после полуночи - это 2:30. Это и должна напечатать программа."
   ]
  },
  {
   "cell_type": "code",
   "execution_count": 2,
   "metadata": {},
   "outputs": [
    {
     "name": "stdout",
     "output_type": "stream",
     "text": [
      "2:30\n"
     ]
    }
   ],
   "source": [
    "n = 150\n",
    "h = 150//60\n",
    "m = 150%60\n",
    "print(f'{h}:{m}')"
   ]
  },
  {
   "cell_type": "markdown",
   "metadata": {},
   "source": [
    "Задание 10.\n",
    "Школа решила заменить столы в трех классах. За каждым столом сидят два ученика. Учитывая\n",
    "количество учеников в каждом классе, напечатайте минимально возможное количество столов,\n",
    "которые нужно приобрести.\n",
    "Программа должна принять три целых числа: количество учащихся в каждом из трех классов, a, b и c\n",
    "соответственно.\n",
    "На пример, в первом классе 20 учеников и, следовательно, класс нуждается в 10 столах. Второй класс\n",
    "состоит из 21 ученика, поэтому им нужно не менее, чем 11 столов. 11 столов также достаточно для\n",
    "третьего класса из 22 учеников. Так что нам нужно всего 32 стола."
   ]
  },
  {
   "cell_type": "code",
   "execution_count": 8,
   "metadata": {},
   "outputs": [
    {
     "name": "stdout",
     "output_type": "stream",
     "text": [
      "[20, 21, 22] 32\n"
     ]
    }
   ],
   "source": [
    "n1 = 20\n",
    "n2 = 21\n",
    "n3 = 22\n",
    "l = []\n",
    "l.append(n1)\n",
    "l.append(n2)\n",
    "l.append(n3)\n",
    "sum = 0\n",
    "for i in range(3):\n",
    "    k = (l[i]+1)//2\n",
    "    sum += k\n",
    "print(l, sum)    \n"
   ]
  },
  {
   "cell_type": "markdown",
   "metadata": {},
   "source": [
    "4 посетителя за столом в кафе"
   ]
  },
  {
   "cell_type": "code",
   "execution_count": 22,
   "metadata": {},
   "outputs": [
    {
     "name": "stdout",
     "output_type": "stream",
     "text": [
      "{8: 2, 9: 3, 10: 3, 11: 3, 12: 3, 13: 4}\n"
     ]
    }
   ],
   "source": [
    "l = [i for i in range(8, 14)]\n",
    "a = 4 # чел за столом\n",
    "res = {}\n",
    "for i in l:\n",
    "    k = (i + a - 1)//a\n",
    "    res[i] = k \n",
    "print(res)"
   ]
  },
  {
   "cell_type": "markdown",
   "metadata": {},
   "source": [
    "### Строки"
   ]
  },
  {
   "cell_type": "markdown",
   "metadata": {},
   "source": [
    "Задание 1.\n",
    "Дана строка, состоящая из слов, разделенных пробелами. Определите, сколько слов имеет данная\n",
    "строка."
   ]
  },
  {
   "cell_type": "code",
   "execution_count": 31,
   "metadata": {},
   "outputs": [
    {
     "name": "stdout",
     "output_type": "stream",
     "text": [
      "['Дана', 'строка,', 'состоящая', 'из', 'слов,', 'разделенных', 'пробелами.', 'Определите,', 'сколько', 'слов', 'имеет', 'данная', 'строка.'] 13\n"
     ]
    }
   ],
   "source": [
    "str1 = 'Дана строка, состоящая из слов, разделенных пробелами. Определите, сколько слов имеет данная строка.'\n",
    "l = str1.split()\n",
    "print(l, len(l))"
   ]
  },
  {
   "cell_type": "markdown",
   "metadata": {},
   "source": [
    "Задание 2.\n",
    "Дана строка, состоящая ровно из двух слов, разделенных пробелом.\n",
    "Напечатайте новую строку с заменой первого и второго слов: сначала будет напечатано второе слово,\n",
    "потом первое."
   ]
  },
  {
   "cell_type": "code",
   "execution_count": 9,
   "metadata": {},
   "outputs": [
    {
     "name": "stdout",
     "output_type": "stream",
     "text": [
      "['tree', 'wood'] wood tree tree wood\n"
     ]
    }
   ],
   "source": [
    "str1 = 'wood tree'\n",
    "l = str1.split()\n",
    "# l.reverse()\n",
    "l[0],l[1] = l[1],l[0]\n",
    "str2 = ' '.join(l)\n",
    "print(l, str1, str2)"
   ]
  },
  {
   "cell_type": "markdown",
   "metadata": {},
   "source": [
    "Задание 3.\n",
    "Дана строка, которая может содержать букву f.\n",
    "Напечатайте позицию первого и последнего вхождения f. Если буква f встречается только один раз, то\n",
    "выведите позицию один раз. Если буква f не встречается, напечатайте -1.\n",
    "Позиции букв в слове считайте с 0. Например, в слове hello буква h находится в позиции 0, буква e - в\n",
    "позиции 1, буква o - в позиции 4."
   ]
  },
  {
   "cell_type": "code",
   "execution_count": 22,
   "metadata": {},
   "outputs": [
    {
     "name": "stdout",
     "output_type": "stream",
     "text": [
      "list =  [18, 25]\n"
     ]
    }
   ],
   "source": [
    "str1 = 'How do I list all files of a directory?'\n",
    "l = []\n",
    "r=0\n",
    "k=0\n",
    "while r != -1:\n",
    "    r = str1.find('f', k)\n",
    "    if r != -1:\n",
    "        l.append(r)\n",
    "    k = r + 1\n",
    "print('list = ', l)    "
   ]
  },
  {
   "cell_type": "markdown",
   "metadata": {},
   "source": [
    "Задание 4.\n",
    "Дана какая-то строка. Замените в этой строке все числа 1 словом 'one'.\n",
    "Напечатайте изменённую строку"
   ]
  },
  {
   "cell_type": "code",
   "execution_count": 24,
   "metadata": {},
   "outputs": [
    {
     "name": "stdout",
     "output_type": "stream",
     "text": [
      "1 + 1 = 2 one + one = 2\n"
     ]
    }
   ],
   "source": [
    "str1 = '1 + 1 = 2'\n",
    "str2 = str1.replace('1', 'one')\n",
    "print(str1, str2)"
   ]
  },
  {
   "cell_type": "markdown",
   "metadata": {},
   "source": [
    "Задание 5.\n",
    "Дана строка. Удалите все символы '@' из этой строки.\n",
    "Напечатайте изменённую строку"
   ]
  },
  {
   "cell_type": "code",
   "execution_count": 25,
   "metadata": {},
   "outputs": [
    {
     "name": "stdout",
     "output_type": "stream",
     "text": [
      "john@smith.com johnsmith.com\n"
     ]
    }
   ],
   "source": [
    "str1 = 'john@smith.com'\n",
    "str2 = str1.replace('@', '')\n",
    "print(str1, str2)"
   ]
  },
  {
   "cell_type": "markdown",
   "metadata": {},
   "source": [
    "### Ветвление"
   ]
  },
  {
   "cell_type": "code",
   "execution_count": null,
   "metadata": {},
   "outputs": [],
   "source": [
    "Задание 1.\n",
    "Дано целое положительное число.\n",
    "Напечатайте \"чёт\", если число чётное и \"нечет\", если число нечётное."
   ]
  },
  {
   "cell_type": "code",
   "execution_count": 29,
   "metadata": {},
   "outputs": [
    {
     "name": "stdout",
     "output_type": "stream",
     "text": [
      "odd\n"
     ]
    }
   ],
   "source": [
    "n = 21\n",
    "str1 = 'even' if n%2 == 0 else 'odd'\n",
    "print(str1)"
   ]
  },
  {
   "cell_type": "code",
   "execution_count": 281,
   "metadata": {},
   "outputs": [
    {
     "name": "stdout",
     "output_type": "stream",
     "text": [
      "{0: 'even', 2: 'even', 9: 'odd', 12: 'even', 16: 'even', 17: 'odd', 19: 'odd', 20: 'even'}\n"
     ]
    }
   ],
   "source": [
    "import random\n",
    "d = {random.randrange(21) for i in range(11)}\n",
    "d = {i:'even' if i%2 == 0 else 'odd' for i in d}\n",
    "print(d)\n"
   ]
  },
  {
   "cell_type": "markdown",
   "metadata": {},
   "source": [
    "Нет сортировки, но есть количество"
   ]
  },
  {
   "cell_type": "code",
   "execution_count": 286,
   "metadata": {},
   "outputs": [
    {
     "name": "stdout",
     "output_type": "stream",
     "text": [
      "{17: 'even', 15: 'even', 7: 'even', 18: 'even', 12: 'even', 4: 'even', 16: 'even', 9: 'even', 2: 'even', 13: 'even'}\n"
     ]
    }
   ],
   "source": [
    "d = {}\n",
    "while len(d)<10:\n",
    "    k = random.randrange(21)\n",
    "    d.update({k:'even' if i%2 == 0 else 'odd'})\n",
    "print(d)"
   ]
  },
  {
   "cell_type": "markdown",
   "metadata": {},
   "source": [
    "генерация сортированного списка из `10` разных случайных"
   ]
  },
  {
   "cell_type": "code",
   "execution_count": 300,
   "metadata": {},
   "outputs": [
    {
     "name": "stdout",
     "output_type": "stream",
     "text": [
      "[1, 3, 6, 7, 8, 12, 17, 18, 19, 20]\n"
     ]
    }
   ],
   "source": [
    "import random\n",
    "l = []\n",
    "while len(l)<10:\n",
    "    k = random.randrange(21)\n",
    "    if (k in l)==False:\n",
    "        l.append(k)\n",
    "l.sort()   \n",
    "print(l)"
   ]
  },
  {
   "cell_type": "markdown",
   "metadata": {},
   "source": [
    "Задание 2.\n",
    "Даны два целых числа.\n",
    "Напечатайте меньшее из чисел."
   ]
  },
  {
   "cell_type": "code",
   "execution_count": 305,
   "metadata": {},
   "outputs": [
    {
     "name": "stdout",
     "output_type": "stream",
     "text": [
      "5 5\n"
     ]
    }
   ],
   "source": [
    "l = [5, 8, 7]\n",
    "k = l[0]\n",
    "for i in l:\n",
    "    if i < k:\n",
    "        k = i\n",
    "print(min(l), k)"
   ]
  },
  {
   "cell_type": "markdown",
   "metadata": {},
   "source": [
    "Задание 3.\n",
    "Дано целое число\n",
    "Напечатайте 1, если число положительное; -1, если число отрицательное; 0, если это число ноль."
   ]
  },
  {
   "cell_type": "code",
   "execution_count": 374,
   "metadata": {},
   "outputs": [
    {
     "name": "stdout",
     "output_type": "stream",
     "text": [
      "{3: 1, 4: 1, -1: -1, 7: 1, 5: 1, -3: -1, -7: -1, 2: 1}\n"
     ]
    }
   ],
   "source": [
    "import random\n",
    "l = [random.randrange(-8,8) for i in range(10)]\n",
    "d = {}\n",
    "for i in l:\n",
    "    k = 1\n",
    "    if i<0:\n",
    "        k = -1\n",
    "    d.update({i:k})\n",
    "print(d)"
   ]
  },
  {
   "cell_type": "markdown",
   "metadata": {},
   "source": [
    "Задание 4.\n",
    "Дано целое число\n",
    "Напечатайте \"Да\", если число состоит из 3 цифр и \"Нет\", если не состоит."
   ]
  },
  {
   "cell_type": "code",
   "execution_count": 429,
   "metadata": {},
   "outputs": [
    {
     "name": "stdout",
     "output_type": "stream",
     "text": [
      "[895, 817, 462, 1837, 937, 624, 1232, 950, 158, 1918] [895, 817, 462, 937, 624, 950, 158]\n"
     ]
    }
   ],
   "source": [
    "import random\n",
    "l = [random.randrange(2000) for i in range(10)]\n",
    "l1 = []\n",
    "for i in l:\n",
    "    if i < 1000 and i > 99:\n",
    "        l1.append(i)\n",
    "print(l, l1)"
   ]
  },
  {
   "cell_type": "markdown",
   "metadata": {},
   "source": [
    "Задание 5.\n",
    "Даны два целых числа отличные от числа 0.\n",
    "Напечатайте \"Да\", если хотя бы одно число является положительным и \"Нет\", если оба числа\n",
    "отрицательные."
   ]
  },
  {
   "cell_type": "code",
   "execution_count": 57,
   "metadata": {},
   "outputs": [
    {
     "name": "stdout",
     "output_type": "stream",
     "text": [
      "{4: -8, 5: -7, -5: -1, -6: 4, -1: 6, -8: 3, 2: 7, 3: -8}\n",
      "['Yes', 'Yes', 'No', 'Yes', 'Yes', 'Yes', 'Yes', 'Yes']\n"
     ]
    }
   ],
   "source": [
    "import random\n",
    "d ={random.randrange(-8,8):random.randrange(-8,8) for i in range(11)}\n",
    "l = []\n",
    "for i in d:\n",
    "    if i==0 or d[i]==0:\n",
    "        k=int(i)\n",
    "        l.append(k)\n",
    "for i in l:        \n",
    "    print(i, d[i])\n",
    "    d.pop(i)\n",
    "l = []\n",
    "for i in d:\n",
    "    str = 'No'\n",
    "    if i>0 or d[i]>0:\n",
    "        str ='Yes'\n",
    "    l.append(str)    \n",
    "print(d)\n",
    "print(l)"
   ]
  },
  {
   "cell_type": "markdown",
   "metadata": {},
   "source": [
    "Задание 6.\n",
    "Дано целое положительное число из трёх отличных друг от друга цифр.\n",
    "Напечатайте \"Да\", если цифры следуют друг относительно друга в восходящем порядке слева\n",
    "направо и \"Нет\", если это не так."
   ]
  },
  {
   "cell_type": "code",
   "execution_count": 644,
   "metadata": {},
   "outputs": [
    {
     "name": "stdout",
     "output_type": "stream",
     "text": [
      "1\n",
      "[[378, 'Yes'], [976, 'No'], [561, 'No'], [837, 'No'], [463, 'No'], [640, 'No'], [109, 'No'], [296, 'No'], [632, 'No'], [651, 'No']]\n"
     ]
    }
   ],
   "source": [
    "import random\n",
    "def mNum():\n",
    "    l = []\n",
    "    k = 0\n",
    "    while k < 3:\n",
    "        n = random.randrange(10)\n",
    "        if n == 0 and k ==0:\n",
    "            print(1)\n",
    "            continue\n",
    "        if l.count(n) == 0:\n",
    "            l.append(n)\n",
    "            k += 1\n",
    "    nn = 0\n",
    "    k = 0\n",
    "    for i in l:\n",
    "        nn += i*10**(2 - k)\n",
    "        k += 1\n",
    "    return nn;\n",
    "\n",
    "def mNumList(nn):\n",
    "    l = []\n",
    "    for i in range(1,4):\n",
    "        l.append(nn%(10**(4-i))//(10**(4-i-1)))\n",
    "    return l\n",
    "\n",
    "def mCheckList(l):\n",
    "    k = l[0]\n",
    "    str1 = 'Yes'\n",
    "    for i in l:\n",
    "        if i<k:\n",
    "            str1='No'\n",
    "            break\n",
    "        k = i    \n",
    "    return str1\n",
    "\n",
    "\n",
    "ll = []\n",
    "for i in range(10):\n",
    "    l1 = []\n",
    "    nn = mNum()\n",
    "    l = mNumList(nn)\n",
    "    str1 = mCheckList(l)\n",
    "    l1.append(nn)\n",
    "    l1.append(str1)\n",
    "    ll.append(l1)\n",
    "\n",
    "def mSortVal(l):\n",
    "    return l[1]\n",
    "\n",
    "# ll.sort(key = mSortVal)\n",
    "ll.sort(key = lambda l:l[1])\n",
    "ll.reverse()\n",
    "print(ll)        "
   ]
  },
  {
   "cell_type": "markdown",
   "metadata": {},
   "source": [
    "Задание 7.\n",
    "Дано целое положительное число из четырёх. Число может является палиндромом, то есть читаться\n",
    "одинакого слева направо и справа налево\n",
    "Напечатайте \"Да\", если число является палиндромом и \"Нет\", если не является."
   ]
  },
  {
   "cell_type": "code",
   "execution_count": 1,
   "metadata": {},
   "outputs": [
    {
     "name": "stdout",
     "output_type": "stream",
     "text": [
      "[9449, 2882, 3223, 6336, 2442, 6776, 5335, 9339, 5335, 6886] [47, 95, 207, 424, 528, 576, 592, 606, 670, 683]\n"
     ]
    }
   ],
   "source": [
    "import random\n",
    "\n",
    "def mNum():\n",
    "    l = []\n",
    "    while True:\n",
    "        l = [random.randrange(10) for i in range(4)]\n",
    "        if l[0]!=0 and l[3]!=0:\n",
    "            break\n",
    "    return l[0]*1000+l[1]*100+l[2]*10+l[3]\n",
    "\n",
    "def mNumList(nn):\n",
    "    a=5\n",
    "    l = []\n",
    "    for i in range(1,a):\n",
    "        l.append(nn%(10**(a-i))//(10**(a-i-1)))\n",
    "    return l\n",
    "\n",
    "def mPalindrom(nn):\n",
    "    str1 = 'No'\n",
    "    l = mNumList(nn)\n",
    "    l1 = l.copy()\n",
    "    l1.reverse()\n",
    "    if l == l1:\n",
    "        str1 = 'Yes'\n",
    "    return str1\n",
    "\n",
    "k = 0\n",
    "kn = 10\n",
    "l = []\n",
    "lk = []\n",
    "while True:\n",
    "    nn = mNum()\n",
    "    str1 = mPalindrom(nn)\n",
    "    k += 1\n",
    "    if str1 == 'Yes' or k == 1000:\n",
    "        l.append(nn)\n",
    "        lk.append(k)\n",
    "        kn -=1\n",
    "    if kn == 0 or k == 1000:    \n",
    "        break\n",
    "print(l,  lk)"
   ]
  },
  {
   "cell_type": "markdown",
   "metadata": {},
   "source": [
    "Задание 8.\n",
    "Дано целое положительное число в диапазоне от 1 до 12, которое определяет календарный месяц.\n",
    "Напечатайте число дней в этом месяце в текущем году."
   ]
  },
  {
   "cell_type": "code",
   "execution_count": 18,
   "metadata": {},
   "outputs": [
    {
     "name": "stdout",
     "output_type": "stream",
     "text": [
      "365 {1: 31, 2: 28, 3: 31, 4: 30, 5: 31, 6: 30, 7: 31, 8: 31, 9: 30, 10: 31, 11: 30, 12: 31}\n"
     ]
    }
   ],
   "source": [
    "def mDayMonth(k):\n",
    "    k1 = k if k<8 else k-7\n",
    "    n = 31 if k1%2 > 0 else 30\n",
    "    n = 28 if k==2 else n\n",
    "    return n\n",
    "\n",
    "l = [i for i in range(1,13)]\n",
    "d = {}\n",
    "dsum = 0\n",
    "for i in l:\n",
    "    nk = mDayMonth(i)\n",
    "    d.update({i:nk})\n",
    "    dsum += nk\n",
    "print(dsum, d)    "
   ]
  },
  {
   "cell_type": "code",
   "execution_count": 20,
   "metadata": {},
   "outputs": [
    {
     "name": "stdout",
     "output_type": "stream",
     "text": [
      "86400\n"
     ]
    }
   ],
   "source": [
    "def second_per_day(n):\n",
    "    h = n*24\n",
    "    m = h*60\n",
    "    s = m*60\n",
    "    return s\n",
    "\n",
    "n = second_per_day(1)\n",
    "print(n)"
   ]
  },
  {
   "cell_type": "markdown",
   "metadata": {},
   "source": [
    "Задание 9.\n",
    "Даны три целых числа. Определите, как много из чисел равны между собой.\n",
    "Напечатайте число 3, если все числа одинаковы, 2 - если только два из них равны и 0, если все числа\n",
    "разные."
   ]
  },
  {
   "cell_type": "code",
   "execution_count": 244,
   "metadata": {},
   "outputs": [
    {
     "name": "stdout",
     "output_type": "stream",
     "text": [
      "48 [[3, [2, 2, 2]], [3, [1, 1, 1]], [2, [9, 7, 9]], [2, [9, 5, 9]], [2, [4, 4, 5]], [2, [3, 3, 5]], [2, [3, 3, 2]], [2, [2, 6, 2]], [2, [1, 1, 7]]]\n"
     ]
    }
   ],
   "source": [
    "import random\n",
    "def mList():\n",
    "    l = [random.randrange(10) for i in range(3)]\n",
    "    return l\n",
    "\n",
    "def mEqual(l):\n",
    "    k = l[0]\n",
    "    n = 1\n",
    "    for i in range(1,3):\n",
    "        if k==l[i]:\n",
    "            n +=1\n",
    "    return n\n",
    "\n",
    "ll = []\n",
    "i1 = 0\n",
    "k = 0\n",
    "while True:\n",
    "    l = mList()\n",
    "    n = mEqual(l)\n",
    "    if n>1:\n",
    "        ll.append([n,l])\n",
    "    if n == 3 and k==1 or i1>1000:\n",
    "        break\n",
    "    if n==3:\n",
    "        k+=1\n",
    "    i1 += 1    \n",
    "ll.sort()\n",
    "ll.reverse()\n",
    "print(i1, ll)"
   ]
  },
  {
   "cell_type": "markdown",
   "metadata": {},
   "source": [
    "Задание 10.\n",
    "Даны два целых числа - координаты клетки на шахматной доске. Первое число от 1 до 8 обозначает\n",
    "вертикаль снизу вверх, второе - горизонталь слева направо.\n",
    "Шахматная доска\n",
    "Напечатайте слово \"Белая\", если клетка на данных координатах белая и \"Чёрная\", если клетка чёрная."
   ]
  },
  {
   "cell_type": "code",
   "execution_count": 260,
   "metadata": {},
   "outputs": [
    {
     "name": "stdout",
     "output_type": "stream",
     "text": [
      " x   .   x   .   x   .   x   .  \n",
      " .   x   .   x   .   x   .   x  \n",
      " x   .   x   .   x   .   x   .  \n",
      " .   x   .   x   .   x   .   x  \n",
      " x   .   x   .   x   .   x   .  \n",
      " .   x   .   x   .   x   .   x  \n",
      " x   .   x   .   x   .   x   .  \n",
      " .   x   .   x   .   x   .   x  \n",
      "\n"
     ]
    }
   ],
   "source": [
    "def mColorBoard(tr, td):\n",
    "    k = 0 if tr%2>0 else 1\n",
    "    c = 'black' if (td+k)%2>0 else 'white'\n",
    "    return c\n",
    "\n",
    "ll = []\n",
    "for i in range(1,9):\n",
    "    l = []\n",
    "    for j in range(1,9):\n",
    "        c = mColorBoard(i,j)\n",
    "        l.append(c)\n",
    "    lch = []    \n",
    "    for i in l:\n",
    "        ch = '.' if i == 'white' else 'x'\n",
    "        lch.append(ch)\n",
    "    ll.append(lch)\n",
    "s = ''    \n",
    "for i in ll:\n",
    "    for j in i:\n",
    "        s += f' {j}  '\n",
    "    s += '\\n'\n",
    "print(s)    "
   ]
  },
  {
   "cell_type": "code",
   "execution_count": 267,
   "metadata": {},
   "outputs": [
    {
     "name": "stdout",
     "output_type": "stream",
     "text": [
      "<class 'tuple'>\n",
      "[1, 2, 3, 4, 5, 6, 7, 8]\n"
     ]
    }
   ],
   "source": [
    "def fn(*p):\n",
    "    print(type(p))\n",
    "    for i in p:\n",
    "        print(i)\n",
    "\n",
    "l=[i for i in range(1,9)]\n",
    "foo(l)"
   ]
  },
  {
   "cell_type": "code",
   "execution_count": 288,
   "metadata": {},
   "outputs": [
    {
     "name": "stdout",
     "output_type": "stream",
     "text": [
      "<class 'dict'>\n",
      "dict_items([('John', 2), ('Smith', 3)])\n",
      "John 2\n",
      "Smith 3\n",
      "{'Vasia': 11} <class 'dict'>\n"
     ]
    }
   ],
   "source": [
    "def fn(**p):\n",
    "    print(type(p))\n",
    "    print(p.items())\n",
    "    for i,j in p.items():\n",
    "        print(i,j)\n",
    "\n",
    "fn(John = 2, Smith = 3)\n",
    "d = {}\n",
    "d['Vasia'] = 11\n",
    "print(d, type(d))\n"
   ]
  },
  {
   "cell_type": "code",
   "execution_count": null,
   "metadata": {},
   "outputs": [],
   "source": []
  },
  {
   "cell_type": "markdown",
   "metadata": {},
   "source": [
    "Задание 12.\n",
    "Даны два целых числа. Первое - в диапазоне от 1 до 12 календарный месяц. Второе - в диапазоне от\n",
    "1 до 31 день месяца заданного первым числом.\n",
    "Напечатайте дату для следующего дня от заданного в формате день-месяц-год для текущего года."
   ]
  },
  {
   "cell_type": "code",
   "execution_count": 316,
   "metadata": {},
   "outputs": [
    {
     "name": "stdout",
     "output_type": "stream",
     "text": [
      "07.09.2019 11:48\n"
     ]
    }
   ],
   "source": [
    "import datetime\n",
    "\n",
    "def mDate(m,d,y):\n",
    "    sm = str(m) if m>9 else f'0{m}'\n",
    "    sd = str(d) if d>9 else f'0{d}'\n",
    "    s = f'{sd}.{sm}.{y}'\n",
    "    return s\n",
    "\n",
    "dnow = datetime.datetime.now()\n",
    "m = dnow.month\n",
    "d = dnow.day\n",
    "y = dnow.year\n",
    "h = dnow.hour\n",
    "minute = dnow.minute\n",
    "dt = mDate(m,d,y)\n",
    "print( dt ,f'{h}:{minute}')"
   ]
  },
  {
   "cell_type": "code",
   "execution_count": 318,
   "metadata": {},
   "outputs": [
    {
     "name": "stdout",
     "output_type": "stream",
     "text": [
      "0.5000000000000001\n"
     ]
    }
   ],
   "source": [
    "import math\n",
    "cos = math.cos(60*2*math.pi/360)\n",
    "print(cos)"
   ]
  },
  {
   "cell_type": "code",
   "execution_count": 328,
   "metadata": {},
   "outputs": [
    {
     "name": "stdout",
     "output_type": "stream",
     "text": [
      "['Formatter', 'Template', '_ChainMap', '_TemplateMetaclass', '__all__', '__builtins__', '__cached__', '__doc__', '__file__', '__loader__', '__name__', '__package__', '__spec__', '_re', '_string', 'ascii_letters', 'ascii_lowercase', 'ascii_uppercase', 'capwords', 'digits', 'hexdigits', 'octdigits', 'printable', 'punctuation', 'whitespace']\n",
      "0123456789abcdefghijklmnopqrstuvwxyzABCDEFGHIJKLMNOPQRSTUVWXYZ!\"#$%&'()*+,-./:;<=>?@[\\]^_`{|}~ \t\n",
      "\u000b",
      "\f",
      "\n"
     ]
    },
    {
     "data": {
      "text/plain": [
       "'!\"#$%&\\'()*+,-./:;<=>?@[\\\\]^_`{|}~'"
      ]
     },
     "execution_count": 328,
     "metadata": {},
     "output_type": "execute_result"
    }
   ],
   "source": [
    "import string\n",
    "l = dir(string)\n",
    "print(l)\n",
    "print(string.printable)\n",
    "string.punctuation"
   ]
  },
  {
   "cell_type": "code",
   "execution_count": null,
   "metadata": {},
   "outputs": [],
   "source": []
  },
  {
   "cell_type": "code",
   "execution_count": null,
   "metadata": {},
   "outputs": [],
   "source": []
  },
  {
   "cell_type": "code",
   "execution_count": null,
   "metadata": {},
   "outputs": [],
   "source": []
  },
  {
   "cell_type": "code",
   "execution_count": null,
   "metadata": {},
   "outputs": [],
   "source": []
  },
  {
   "cell_type": "code",
   "execution_count": null,
   "metadata": {},
   "outputs": [],
   "source": []
  },
  {
   "cell_type": "markdown",
   "metadata": {},
   "source": [
    "### Цикл While"
   ]
  },
  {
   "cell_type": "markdown",
   "metadata": {},
   "source": [
    "Задание 1.\n",
    "Дано целое число не меньше 2.\n",
    "Напечатайте наименьший целочисленный делитель данного числа больший 1."
   ]
  },
  {
   "cell_type": "code",
   "execution_count": 335,
   "metadata": {},
   "outputs": [
    {
     "name": "stdout",
     "output_type": "stream",
     "text": [
      "5\n"
     ]
    }
   ],
   "source": [
    "def mDivider(n):\n",
    "    k=2\n",
    "    while True:\n",
    "        if n%k == 0:\n",
    "            break\n",
    "        k+=1\n",
    "        if k == n:\n",
    "            break\n",
    "    return k\n",
    "\n",
    "m = mDivider(25)\n",
    "print(m)"
   ]
  },
  {
   "cell_type": "markdown",
   "metadata": {},
   "source": [
    "Задание 2.\n",
    "Для заданного целого X найдите наибольшее целое число N, где 2ⁿ меньше или равно X.\n",
    "Напечатайте значение экспоненты и результат выражения 2ⁿ."
   ]
  },
  {
   "cell_type": "code",
   "execution_count": 352,
   "metadata": {},
   "outputs": [
    {
     "name": "stdout",
     "output_type": "stream",
     "text": [
      "[[2, 1, 2], [4, 2, 4], [8, 3, 8], [16, 4, 16], [32, 5, 32], [64, 6, 64], [128, 7, 128], [256, 8, 256], [512, 9, 512]]\n",
      "[[1, 0, 1], [3, 1, 2], [7, 2, 4], [15, 3, 8], [31, 4, 16], [63, 5, 32], [127, 6, 64], [255, 7, 128], [511, 8, 256]]\n"
     ]
    }
   ],
   "source": [
    "def mExp(x):\n",
    "    l = []\n",
    "    n = 0\n",
    "    np = 0\n",
    "    while True:\n",
    "        if 2**n > x:\n",
    "            break\n",
    "        np = n\n",
    "        n += 1\n",
    "    n2 = 2**np\n",
    "    l.append(x)\n",
    "    l.append(np)\n",
    "    l.append(n2)\n",
    "    return l\n",
    "\n",
    "l1 = [i for i in range(1,610)]\n",
    "ll = []\n",
    "ll2 = []\n",
    "p2 = 0\n",
    "l2 = []\n",
    "for i in l1:\n",
    "    l = mExp(i)\n",
    "    if p2 != l[1]:\n",
    "        ll.append(l)\n",
    "        ll2.append(l2)\n",
    "    p2 = l[1]\n",
    "    l2 = l\n",
    "print(ll)\n",
    "print(ll2)"
   ]
  },
  {
   "cell_type": "markdown",
   "metadata": {},
   "source": [
    "Задание 3.\n",
    "Даны два целых числа X и Y. Бегун в первый тренировачный день пробежал X километров. Всего\n",
    "бегун должен набегать Y километров. Каждый день бегун пробегает дистанцию на 10% длинее\n",
    "дистанции предыдущего дня.\n",
    "Напечатайте количество дней, которое понадобится бегуну, чтобы пробежать общее число\n",
    "километров (число Y)."
   ]
  },
  {
   "cell_type": "code",
   "execution_count": 387,
   "metadata": {},
   "outputs": [
    {
     "name": "stdout",
     "output_type": "stream",
     "text": [
      "[13, [1, 1.1, 2.1, 1.21, 3.31, 1.33, 4.64, 1.46, 6.11, 1.61, 7.72, 1.77, 9.49, 1.95, 11.44, 2.14, 13.58, 2.36, 15.94, 2.59, 18.53, 2.85, 21.38, 3.14, 24.52]]\n"
     ]
    }
   ],
   "source": [
    "def mDays(x,y):\n",
    "    l = []\n",
    "    sum = x\n",
    "\n",
    "    l.append(sum)\n",
    "    d = 1\n",
    "    x1 = x\n",
    "    while True:\n",
    "        x1 = x1+x1*0.1\n",
    "        sum += x1\n",
    "        d += 1\n",
    "        l.append(round(x1, 2))\n",
    "        l.append(round(sum, 2))\n",
    "        if sum > y:\n",
    "            break\n",
    "    l2 = []    \n",
    "    l2.append(d)\n",
    "    l2.append(l)\n",
    "    return l2\n",
    "\n",
    "d = mDays(1,22)\n",
    "print(d)"
   ]
  },
  {
   "cell_type": "markdown",
   "metadata": {},
   "source": [
    "Задание 4.\n",
    "Дана последовательность неотрицательных целых чисел, где каждое число записывается в отдельной\n",
    "строке. Последовательность заканчивается на 0.\n",
    "Напечатайте количество элементов последовательности, которые больше, чем предыдущие."
   ]
  },
  {
   "cell_type": "code",
   "execution_count": 407,
   "metadata": {},
   "outputs": [
    {
     "name": "stdout",
     "output_type": "stream",
     "text": [
      "3 [1, 2, 3, 4, 3, 0]\n"
     ]
    }
   ],
   "source": [
    "l1 = [1, 2, 3, 4, 3, 0]\n",
    "l = []\n",
    "for i in l1:\n",
    "    l.append(str(i))\n",
    "str1 = '\\n'.join(l)\n",
    "# str1 += '\\n'\n",
    "k = 0\n",
    "l = []\n",
    "while True:\n",
    "    i1 = str1.find('\\n', k)\n",
    "    if i1 == -1:\n",
    "        l.append(int(str1[k:]))\n",
    "        break\n",
    "    l.append(int(str1[k:i1]))\n",
    "    k= i1 + 1\n",
    "k = 1\n",
    "n = l[0]\n",
    "n1 = 0\n",
    "while True:\n",
    "    if l[k]>n:\n",
    "        n1 += 1\n",
    "    else:\n",
    "        break\n",
    "    n = l[k]\n",
    "    k += 1\n",
    "print(n1, l)"
   ]
  },
  {
   "cell_type": "markdown",
   "metadata": {},
   "source": [
    "Задание 5.\n",
    "Для заданного целого числа N напечатайте все квадраты положительных целых чисел, где квадрат\n",
    "меньше или равен N в порядке возрастания."
   ]
  },
  {
   "cell_type": "code",
   "execution_count": 413,
   "metadata": {},
   "outputs": [
    {
     "name": "stdout",
     "output_type": "stream",
     "text": [
      "[1, 4, 9, 16, 25, 36, 49, 64, 81, 100, 121, 144, 169, 196]\n"
     ]
    }
   ],
   "source": [
    "def mRects(n):\n",
    "    l = []\n",
    "    r = 1\n",
    "    while True:\n",
    "        r2 = r*r\n",
    "        if r2 > n:\n",
    "            break\n",
    "        l.append(r2)\n",
    "        r += 1\n",
    "    return l\n",
    "\n",
    "l = mRects(200)\n",
    "print(l)"
   ]
  },
  {
   "cell_type": "markdown",
   "metadata": {},
   "source": [
    "Задание 6.\n",
    "Дано целое положительное число N.\n",
    "Определите, является ли число N числом Фибоначчи. Если это так, напечатайте порядковую позицию\n",
    "этого числа, иначе напечатайте -1.\n",
    "Позиции для чисел Фибоначчи считайте от первого числа 1, то есть 1, 1, 2, 3, 5, 8, 13, 21, 34, ..."
   ]
  },
  {
   "cell_type": "code",
   "execution_count": 13,
   "metadata": {},
   "outputs": [
    {
     "name": "stdout",
     "output_type": "stream",
     "text": [
      "{1: 1, 2: 3, 3: 4, 5: 5, 8: 6, 13: 7, 21: 8, 34: 9, 55: 10, 89: 11}\n"
     ]
    }
   ],
   "source": [
    "def mFib(n):\n",
    "    k1 = 0\n",
    "    k2 = 1\n",
    "    k3 = k2\n",
    "    i = 1\n",
    "    while i < n:\n",
    "        k3 = k1 + k2\n",
    "        k1 = k2\n",
    "        k2 = k3\n",
    "        i += 1\n",
    "    return k3\n",
    "\n",
    "def mTest(n):\n",
    "    k = 1\n",
    "    f = 0\n",
    "    while True:\n",
    "        f = mFib(k)\n",
    "        if n <= f:\n",
    "            break\n",
    "        k += 1\n",
    "    k1 = 0    \n",
    "    if n == f:\n",
    "        k1 = k\n",
    "    else:\n",
    "        k1 = -1\n",
    "    return k1\n",
    "\n",
    "d = {i:mTest(i) for i in range(1, 20)}\n",
    "d1 = {}\n",
    "for i in d:\n",
    "    if d[i]!= -1\n",
    "    d1.update({i:d[i]})\n",
    "print(d1)"
   ]
  },
  {
   "cell_type": "code",
   "execution_count": 446,
   "metadata": {},
   "outputs": [
    {
     "name": "stdout",
     "output_type": "stream",
     "text": [
      "[1, 1, 2, 3, 5, 8, 13, 21, 34]\n"
     ]
    }
   ],
   "source": [
    "def mFib(n):\n",
    "    k1 = 0\n",
    "    k2 = 1\n",
    "    k3 = k2\n",
    "    i = 1\n",
    "    while i < n:\n",
    "        k3 = k1 + k2\n",
    "        k1 = k2\n",
    "        k2 = k3\n",
    "        i += 1\n",
    "    return k3\n",
    "l = [mFib(i) for i in range(1,10)]\n",
    "m = mFib(3)\n",
    "print(l)"
   ]
  },
  {
   "cell_type": "markdown",
   "metadata": {},
   "source": [
    "Задание 7.\n",
    "Дано целое положительное число N.\n",
    "Напечатайте число Фибоначчи, которое находится в позиции числа N.\n",
    "Позиции для чисел Фибоначчи считайте от первого числа 1, то есть 1, 1, 2, 3, 5, 8, 13, 21, 34, ..."
   ]
  },
  {
   "cell_type": "code",
   "execution_count": 15,
   "metadata": {},
   "outputs": [
    {
     "name": "stdout",
     "output_type": "stream",
     "text": [
      "[1, 1, 2, 3, 5, 8, 13, 21, 34]\n"
     ]
    }
   ],
   "source": [
    "def mFib(k):\n",
    "    n=0\n",
    "    if k>2:\n",
    "        n= mFib(k-2)+mFib(k-1)\n",
    "    else:\n",
    "        n=1\n",
    "    return n\n",
    "\n",
    "l = [mFib(i) for i in range(1,10)]\n",
    "print(l)"
   ]
  },
  {
   "cell_type": "markdown",
   "metadata": {},
   "source": [
    "Задание 8.\n",
    "Дана последовательность неотрицательных целых чисел, где каждое число записывается в отдельной\n",
    "строке. Последовательность заканчивается на 0.\n",
    "Напечатайте длину самого широкого фрагмента последовательности, где все элементы равны друг\n",
    "другу."
   ]
  },
  {
   "cell_type": "code",
   "execution_count": 106,
   "metadata": {},
   "outputs": [
    {
     "name": "stdout",
     "output_type": "stream",
     "text": [
      "[4, 15] <== [8, 1, 1, 5, 3, 7, 4, 2, 5, 4, 8, 2, 0, 0, 0, 0, 9, 6, 5, 5, 3, 5, 8, 3, 1, 4, 8, 0, 5, 8]\n"
     ]
    }
   ],
   "source": [
    "import random\n",
    "def mEq(l):\n",
    "    n=1\n",
    "    n1 = 0\n",
    "    v=l[0]\n",
    "    k=1\n",
    "    i=-1\n",
    "    while True:\n",
    "        if v == l[k]:\n",
    "            n += 1\n",
    "            if n > n1:\n",
    "                n1 = n\n",
    "                i = k\n",
    "        else:        \n",
    "            n = 1        \n",
    "        v = l[k]        \n",
    "        k += 1\n",
    "        if k>=len(l):\n",
    "            break\n",
    "        l1 = []    \n",
    "        l1.append(n1)    \n",
    "        l1.append(i)    \n",
    "    return l1\n",
    "\n",
    "l = [random.randrange(10) for i in range(30)]\n",
    "l1 = mEq(l)\n",
    "print(l1, '<==', l)"
   ]
  },
  {
   "cell_type": "markdown",
   "metadata": {},
   "source": [
    "### Последовательности"
   ]
  },
  {
   "cell_type": "markdown",
   "metadata": {},
   "source": [
    "Задание 1.\n",
    "На вход подаётся строка из целых чисел разделённых пробелами.\n",
    "Напечатайте все нечётные числа из введённой строки.\n",
    "Сформировать список можно так: lst = [int(s) for s in input().split()]"
   ]
  },
  {
   "cell_type": "code",
   "execution_count": 110,
   "metadata": {},
   "outputs": [
    {
     "name": "stdin",
     "output_type": "stream",
     "text": [
      " 1 1\n"
     ]
    },
    {
     "data": {
      "text/plain": [
       "[1, 1]"
      ]
     },
     "execution_count": 110,
     "metadata": {},
     "output_type": "execute_result"
    }
   ],
   "source": [
    "lst = [int(s) for s in input().split()]\n",
    "lst"
   ]
  },
  {
   "cell_type": "code",
   "execution_count": 114,
   "metadata": {},
   "outputs": [
    {
     "name": "stdout",
     "output_type": "stream",
     "text": [
      "[7, 5, 10, 6, 3, 4, 1, 4, 2, 7, 7, 3, 5, 7, 3, 7, 0, 5, 3, 1]\n",
      "[7, 5, 3, 1, 7, 7, 3, 5, 7, 3, 7, 5, 3, 1]\n"
     ]
    }
   ],
   "source": [
    "import random\n",
    "\n",
    "def mOdd(l):\n",
    "    l1 = []\n",
    "    for i in l:\n",
    "        if i % 2 > 0:\n",
    "            l1.append(i)\n",
    "    return l1\n",
    "\n",
    "l = [random.randrange(11) for i in range(20)]\n",
    "l1 = mOdd(l)\n",
    "print(l)\n",
    "print(l1)"
   ]
  },
  {
   "cell_type": "markdown",
   "metadata": {},
   "source": [
    "Задание 2.\n",
    "На вход подаётся строка из целых чисел разделённых пробелами.\n",
    "Напечатайте числа, которые больше, чем число слева от них."
   ]
  },
  {
   "cell_type": "code",
   "execution_count": 118,
   "metadata": {},
   "outputs": [
    {
     "name": "stdout",
     "output_type": "stream",
     "text": [
      "[1, 7, 7, 3, 9, 6, 7, 2, 9, 8, 1, 10, 4, 3, 0, 2, 6, 6, 10, 4]\n",
      "[7, 9, 7, 9, 10, 2, 6, 10]\n"
     ]
    }
   ],
   "source": [
    "import random\n",
    "\n",
    "def mBig(l):\n",
    "    l1 = []\n",
    "    m = l[0]\n",
    "    k = 1\n",
    "    for k in range(1, len(l)):\n",
    "        if l[k]>m:\n",
    "            l1.append(l[k])\n",
    "        m = l[k]\n",
    "    return l1\n",
    "\n",
    "l = [random.randrange(11) for i in range(20)]\n",
    "l1 = mBig(l)\n",
    "print(l)\n",
    "print(l1)"
   ]
  },
  {
   "cell_type": "markdown",
   "metadata": {},
   "source": [
    "Задание 3.\n",
    "На вход подаётся строка из целых чисел разделённых пробелами.\n",
    "Напечатайте числа, поменяв пары чисел местами, то есть первое со вторым, третье с четвёртым и т.д."
   ]
  },
  {
   "cell_type": "code",
   "execution_count": 151,
   "metadata": {},
   "outputs": [
    {
     "name": "stdout",
     "output_type": "stream",
     "text": [
      "[8, 6, 5, 0, 5, 6, 0, 7, 9, 5, 6]\n",
      "[6, 8, 0, 5, 6, 5, 7, 0, 5, 9, 6]\n"
     ]
    }
   ],
   "source": [
    "import random\n",
    "\n",
    "def mReplace(l):\n",
    "    l1 = l.copy()\n",
    "    len1 = len(l1)//2\n",
    "    for i in range(len1):\n",
    "        l1[i*2], l1[i*2+1] = l1[i*2+1], l1[i*2]\n",
    "    \n",
    "    return l1\n",
    "\n",
    "l = [random.randrange(11) for i in range(11)]\n",
    "l1 = mReplace(l)\n",
    "print(l)\n",
    "print(l1)"
   ]
  },
  {
   "cell_type": "markdown",
   "metadata": {},
   "source": [
    "Задание 4.\n",
    "На вход подаётся строка из целых уникальных чисел разделённых пробелами.\n",
    "Напечатайте числа, поменяв минимальное и максимальное чисела местами."
   ]
  },
  {
   "cell_type": "code",
   "execution_count": 354,
   "metadata": {},
   "outputs": [
    {
     "name": "stdout",
     "output_type": "stream",
     "text": [
      "6 3\n",
      "[13, 17, 14, 1, 4, 10, 19, 18, 12, 11]\n",
      "[13, 17, 14, 19, 4, 10, 1, 18, 12, 11]\n"
     ]
    }
   ],
   "source": [
    "import random\n",
    "\n",
    "def mLiUniqum(n,max):\n",
    "    l = []\n",
    "    i = 0\n",
    "    while i<n:\n",
    "        r = random.randrange(max)\n",
    "        if l.count(r) == 0:\n",
    "            l.append(r)\n",
    "            i += 1\n",
    "    return l\n",
    "\n",
    "def mIndMax(l):\n",
    "    max = 0\n",
    "    k = 0\n",
    "    k1 = 0\n",
    "    for i in l:\n",
    "        if i>max:\n",
    "            max = i\n",
    "            k1 = k\n",
    "        k += 1    \n",
    "    return k1\n",
    "\n",
    "def mIndMin(l):\n",
    "    min = max(l)\n",
    "    k = 0\n",
    "    k1 = 0\n",
    "    for i in l:\n",
    "        if i<min:\n",
    "            min = i\n",
    "            k1 = k\n",
    "        k += 1    \n",
    "    return k1\n",
    "\n",
    "l = mLiUniqum(10, 20)\n",
    "imax = mIndMax(l)\n",
    "imin = mIndMin(l)\n",
    "l1 = l.copy()\n",
    "l1[imin], l1[imax] = l1[imax], l1[imin]\n",
    "print(imax, imin)\n",
    "print(l)\n",
    "print(l1)"
   ]
  },
  {
   "cell_type": "markdown",
   "metadata": {},
   "source": [
    "Задание 5.\n",
    "На вход подаются две строки целых чисел.\n",
    "Напечатайте количество чисел из первой строки, которые встречаются во второй строке."
   ]
  },
  {
   "cell_type": "code",
   "execution_count": 432,
   "metadata": {},
   "outputs": [
    {
     "name": "stdout",
     "output_type": "stream",
     "text": [
      "[8, 4, 10, 2, 10, 8, 10, 8, 4, 4, 6]\n",
      "[3, 0, 1, 5, 4, 6, 3, 4, 0, 3, 1]\n",
      "[4, 6] 4\n"
     ]
    }
   ],
   "source": [
    "import random\n",
    "\n",
    "def mCompare(l1,l2):\n",
    "    l3 = []\n",
    "    for i in l1:\n",
    "        if l2.count(i) > 0 and l3.count(i) == 0:\n",
    "                l3.append(i)\n",
    "    return l3\n",
    "\n",
    "def mCount(l1,l2):\n",
    "    n = 0\n",
    "    for i in l1:\n",
    "        if l2.count(i) > 0:\n",
    "            n += 1\n",
    "    return n\n",
    "\n",
    "l = [random.randrange(11) for i in range(11)]\n",
    "l1 = [random.randrange(11) for i in range(11)]\n",
    "l3 = mCompare(l,l1)\n",
    "n = mCount(l,l1)\n",
    "print(l)\n",
    "print(l1)\n",
    "print(l3, n)"
   ]
  },
  {
   "cell_type": "markdown",
   "metadata": {},
   "source": [
    "Задание 6.\n",
    "На вход подаются две строки целых чисел.\n",
    "Напечатайте числа, которые встречаются и в первой строке, и во второй."
   ]
  },
  {
   "cell_type": "code",
   "execution_count": 423,
   "metadata": {},
   "outputs": [
    {
     "name": "stdout",
     "output_type": "stream",
     "text": [
      "[0, 3, 10, 0, 6, 10, 0, 10, 10, 7, 0]\n",
      "[1, 5, 4, 9, 7, 10, 10, 6, 2, 5, 3]\n",
      "[3, 10, 6, 7]\n"
     ]
    }
   ],
   "source": [
    "def mCompare1(l1,l2):\n",
    "    l3 = []\n",
    "    for i in l1:\n",
    "        for j in l2:\n",
    "            if j == i:\n",
    "                if l3.count(j)==0:\n",
    "                    l3.append(j)\n",
    "    return l3\n",
    "\n",
    "def mCompare(l1,l2):\n",
    "    l3 = []\n",
    "    for i in l1:\n",
    "        if l2.count(i) > 0 and l3.count(i) == 0:\n",
    "                l3.append(i)\n",
    "    return l3\n",
    "\n",
    "l = [random.randrange(11) for i in range(11)]\n",
    "l1 = [random.randrange(11) for i in range(11)]\n",
    "l3 = mCompare(l,l1)\n",
    "print(l)\n",
    "print(l1)\n",
    "print(l3)"
   ]
  },
  {
   "cell_type": "markdown",
   "metadata": {},
   "source": [
    "Задание 7.\n",
    "На вход подаётся строка целых чисел.\n",
    "Просматривая строку слева направо напечатайте \"ДА\", если число уже встречалось при просмотре и\n",
    "\"НЕТ\", если число встретилось первый раз."
   ]
  },
  {
   "cell_type": "code",
   "execution_count": 435,
   "metadata": {},
   "outputs": [
    {
     "name": "stdout",
     "output_type": "stream",
     "text": [
      "[8, 10, 6, 0, 0, 6, 8, 6, 2, 8, 7]\n",
      "['None', 'None', 'None', 'None', 'Yes', 'Yes', 'Yes', 'Yes', 'None', 'Yes', 'None']\n"
     ]
    }
   ],
   "source": [
    "import random\n",
    "\n",
    "def mSCmp(l):\n",
    "    l0 = []\n",
    "    l1 = []\n",
    "    for i in l:\n",
    "        if l0.count(i)==0:\n",
    "            l1.append('None')\n",
    "        else:\n",
    "            l1.append('Yes')\n",
    "        l0.append(i)\n",
    "    return l1\n",
    "\n",
    "l = [random.randrange(11) for i in range(11)]\n",
    "l3 = mSCmp(l)\n",
    "print(l)\n",
    "print(l3)\n"
   ]
  },
  {
   "cell_type": "markdown",
   "metadata": {},
   "source": [
    "Задание 8.\n",
    "На вход подаётся строка.  \n",
    "Напечатайте:  \n",
    "Третий символ в строке.  \n",
    "Последний символ в строке.  \n",
    "Первые пять символов строки.  \n",
    "Все символы строки, кроме двух последних.  \n",
    "Все символы строки, которые находятся на чётных позициях (0 считайте за чётное число).    \n",
    "Все символы строки, которые находятся на нечётных позициях (0 считайте за чётное число).  \n",
    "Все символы строки в обратном порядке.  \n",
    "Каждый второй символ строки в обратном порядке начиная с последнего."
   ]
  },
  {
   "cell_type": "code",
   "execution_count": 441,
   "metadata": {},
   "outputs": [
    {
     "name": "stdout",
     "output_type": "stream",
     "text": [
      "frightening\n",
      "i\n",
      "g\n",
      "frigh\n",
      "frighteni\n"
     ]
    }
   ],
   "source": [
    "s = 'frightening'\n",
    "print(s)\n",
    "# Третий символ в строке.\n",
    "print(s[2])\n",
    "# Последний символ в строке.\n",
    "print(s[-1])\n",
    "# Первые пять символов строки.\n",
    "print(s[:5])\n",
    "# Все символы строки, кроме двух последних.\n",
    "print(s[:-2])\n"
   ]
  },
  {
   "cell_type": "code",
   "execution_count": null,
   "metadata": {},
   "outputs": [],
   "source": [
    "# Все символы строки, которые находятся на чётных позициях (0 считайте за чётное число).\n",
    "# Все символы строки, которые находятся на нечётных позициях (0 считайте за чётное число).\n",
    "# Все символы строки в обратном порядке.\n",
    "# Каждый второй символ строки в обратном порядке начиная с последнего."
   ]
  },
  {
   "cell_type": "code",
   "execution_count": 448,
   "metadata": {},
   "outputs": [
    {
     "name": "stdout",
     "output_type": "stream",
     "text": [
      "frightening fiheig rgtnn\n"
     ]
    }
   ],
   "source": [
    "# Все символы строки, которые находятся на чётных позициях (0 считайте за чётное число).\n",
    "def mEven(s):\n",
    "    k = 0\n",
    "    s1 = ''\n",
    "    for i in s:\n",
    "        if k%2 == 0:\n",
    "            s1 += i\n",
    "        k += 1\n",
    "    return s1\n",
    "\n",
    "# Все символы строки, которые находятся на нечётных позициях (0 считайте за чётное число).\n",
    "def mOdd(s):\n",
    "    k = 0\n",
    "    s1 = ''\n",
    "    for i in s:\n",
    "        if k%2 == 1:\n",
    "            s1 += i\n",
    "        k += 1\n",
    "    return s1\n",
    "\n",
    "s = 'frightening'\n",
    "s1 = mEven(s)\n",
    "s2 = mOdd(s)\n",
    "print(s, s1, s2)"
   ]
  },
  {
   "cell_type": "code",
   "execution_count": 453,
   "metadata": {},
   "outputs": [
    {
     "name": "stdout",
     "output_type": "stream",
     "text": [
      "frightening gninethgirf\n"
     ]
    }
   ],
   "source": [
    "# Все символы строки в обратном порядке.\n",
    "def mRev(s):\n",
    "    l = [i for i in s]\n",
    "    l.reverse()\n",
    "    s2 = ''.join(l)\n",
    "    return s2\n",
    "\n",
    "s = 'frightening'\n",
    "s2 = mRev(s)\n",
    "print(s, s2)\n"
   ]
  },
  {
   "cell_type": "code",
   "execution_count": 467,
   "metadata": {},
   "outputs": [
    {
     "name": "stdout",
     "output_type": "stream",
     "text": [
      "frightening gninethgirf nntgr\n"
     ]
    }
   ],
   "source": [
    "# Каждый второй символ строки в обратном порядке начиная с последнего.\n",
    "def mRev(s):\n",
    "    l = [i for i in s]\n",
    "    l.reverse()\n",
    "    s2 = ''.join(l)\n",
    "    return s2\n",
    "\n",
    "def mDouble(s2):\n",
    "    k = 0\n",
    "    s3 = ''\n",
    "    for i in s2:\n",
    "        if k%2 == 1:\n",
    "            s3 += i\n",
    "        k += 1    \n",
    "    return s3\n",
    "\n",
    "s = 'frightening'\n",
    "s2 = mRev(s)\n",
    "s3 = mDouble(s2)\n",
    "print(s, s2, s3)\n"
   ]
  },
  {
   "cell_type": "markdown",
   "metadata": {},
   "source": [
    "Задание 9.\n",
    "На вход подаётся строка.\n",
    "Разделите строку на две равные части. Если количество символов в строке нечётное, то символ по\n",
    "середине добавьте к первой строке, таким образом первая строка будет на один символ длинее\n",
    "второй.\n",
    "Напечатайте строку состоящую из второй и первой части. Попробуйте решить это без использования\n",
    "конструкции if."
   ]
  },
  {
   "cell_type": "code",
   "execution_count": 472,
   "metadata": {},
   "outputs": [
    {
     "name": "stdout",
     "output_type": "stream",
     "text": [
      "frightening fright ening\n"
     ]
    }
   ],
   "source": [
    "s = 'frightening'\n",
    "l = (len(s)+1)//2\n",
    "s1 = s[:l]\n",
    "s2 = s[l:]\n",
    "print(s,s1,s2)"
   ]
  },
  {
   "cell_type": "markdown",
   "metadata": {},
   "source": [
    "Задание 10.\n",
    "На вход подаётся строка, в которой несколько раз встречается вхождение буквы \"h\".\n",
    "Напечатайте эту строку предварительно удалив из неё первое и последнее вхождение буквы \"h\", а\n",
    "также все символы между ними."
   ]
  },
  {
   "cell_type": "code",
   "execution_count": 491,
   "metadata": {},
   "outputs": [
    {
     "name": "stdout",
     "output_type": "stream",
     "text": [
      "In the hole in the ground there lived a hobbit\n",
      "In tobbit\n"
     ]
    }
   ],
   "source": [
    "import re\n",
    "\n",
    "def mHh(s):\n",
    "    s1 = ''\n",
    "    s1 = re.findall(r'(^.+?)h', s)\n",
    "    s2 = re.findall(r'h([^h.]+?$)', s)\n",
    "    return s1[0] + s2[0]\n",
    "\n",
    "s = 'In the hole in the ground there lived a hobbit'\n",
    "s1 = mHh(s)\n",
    "print(s)\n",
    "print(s1)"
   ]
  },
  {
   "cell_type": "markdown",
   "metadata": {},
   "source": [
    "Задание 11.\n",
    "На вход подаётся строка, в которой несколько раз встречается вхождение буквы \"h\".\n",
    "Напечатайте эту строку так, чтобы символы между первым и последним вхождением буквы \"h\" шли в\n",
    "обратном порядке."
   ]
  },
  {
   "cell_type": "code",
   "execution_count": 501,
   "metadata": {},
   "outputs": [
    {
     "name": "stdout",
     "output_type": "stream",
     "text": [
      "4 40\n",
      "In the hole in the ground there lived a hobbit\n",
      "In th a devil ereht dnuorg eht ni eloh ehobbit\n"
     ]
    }
   ],
   "source": [
    "import re\n",
    "\n",
    "def mHhm(s):\n",
    "    s1 = ''\n",
    "    n1 = None\n",
    "    n2 = None\n",
    "    k = 0\n",
    "    for i in s:\n",
    "        if i == 'h':\n",
    "            if n1 == None:\n",
    "                n1 = k\n",
    "            n2 = k\n",
    "        k += 1\n",
    "    print(n1,n2) \n",
    "    s11 = s[:n1]\n",
    "    s21 = s[n2+1:]\n",
    "    s12 = s[n1:n2+1]\n",
    "    s13 = ''\n",
    "    for i in range(len(s12)):\n",
    "        s13 += s12[len(s12)-1-i]\n",
    "    s1 = s11 + s13 + s21\n",
    "    return s1\n",
    "\n",
    "s = 'In the hole in the ground there lived a hobbit'\n",
    "s1 = mHhm(s)\n",
    "print(s)\n",
    "print(s1)"
   ]
  },
  {
   "cell_type": "markdown",
   "metadata": {},
   "source": [
    "Задание 12.\n",
    "На вход подаётся строка, в которой несколько раз встречается вхождение буквы \"h\".\n",
    "Напечатайте эту строку заменив все буквы \"h\" на \"H\". кроме её первого и последнего вхождения."
   ]
  },
  {
   "cell_type": "code",
   "execution_count": 519,
   "metadata": {},
   "outputs": [
    {
     "name": "stdout",
     "output_type": "stream",
     "text": [
      "In the hole in the ground there lived a hobbit\n",
      "In the Hole in tHe ground tHere lived a hobbit\n",
      "[4, 7, 16, 27, 40]\n",
      "[7, 16, 27]\n"
     ]
    }
   ],
   "source": [
    "s = 'In the hole in the ground there lived a hobbit'\n",
    "s1 = ''\n",
    "l = []\n",
    "k = 0\n",
    "for i in s:\n",
    "    s1 = ''\n",
    "    if i == 'h':\n",
    "        l.append(k)\n",
    "    k += 1\n",
    "    l1 = l[1:-1]\n",
    "for i in range(len(s)):\n",
    "    if l1.count(i)>0:\n",
    "        s1 += 'H'\n",
    "    else:\n",
    "        s1 += s[i]\n",
    "        \n",
    "print(s)\n",
    "print(s1)\n",
    "print(l)\n",
    "print(l1)\n"
   ]
  },
  {
   "cell_type": "markdown",
   "metadata": {},
   "source": [
    "### Словарь"
   ]
  },
  {
   "cell_type": "markdown",
   "metadata": {},
   "source": [
    "Задание 1.\n",
    "Вводится текст одной строкой. Каждое слово разделено пробелом.\n",
    "Для каждого слова посчитайте количество данного слова встречающегося перед ним."
   ]
  },
  {
   "cell_type": "code",
   "execution_count": 524,
   "metadata": {},
   "outputs": [
    {
     "name": "stdout",
     "output_type": "stream",
     "text": [
      "one two one two three two four three\n",
      "[0, 0, 1, 1, 0, 2, 0, 1]\n"
     ]
    }
   ],
   "source": [
    "\n",
    "def mQu(s):\n",
    "    l = s.split()\n",
    "    l1 = []\n",
    "    ln = []\n",
    "    for i in l:\n",
    "        ln.append(l1.count(i))\n",
    "        l1.append(i)\n",
    "    return ln\n",
    "\n",
    "s = 'one two one two three two four three'\n",
    "ln = mQu(s)\n",
    "\n",
    "print(s)\n",
    "print(ln)"
   ]
  },
  {
   "cell_type": "markdown",
   "metadata": {},
   "source": [
    "Задание 2.\n",
    "На вход подаётся целое число N - количество пар синонимов для словаря. Далее подаются N пар\n",
    "синонимов. Далее, искомый ключ.\n",
    "Исходя из общего количества пар синонимов сформировать словарь синонимов. Приняв последний\n",
    "параметр напечатать его синоним"
   ]
  },
  {
   "cell_type": "code",
   "execution_count": 529,
   "metadata": {},
   "outputs": [
    {
     "name": "stdout",
     "output_type": "stream",
     "text": [
      "{'Hello': 'Hi', 'Bye': 'Goodbye', 'List': 'Array'}\n",
      "Bye\n"
     ]
    }
   ],
   "source": [
    "# Hello Hi\n",
    "# Bye Goodbye\n",
    "# List Array\n",
    "# Goodbye\n",
    "\n",
    "def nIn(s, d):\n",
    "    st = ''\n",
    "    l = s.split()\n",
    "    if len(l) == 2:\n",
    "        d[l[0]] = l[1]\n",
    "    else:\n",
    "        for i in d:\n",
    "            if d[i] == s:\n",
    "                st = i\n",
    "    return st\n",
    "d = {}\n",
    "nIn('Hello Hi', d)\n",
    "nIn('Bye Goodbye', d)\n",
    "nIn('List Array', d)\n",
    "s = nIn('Goodbye', d)\n",
    "print(d)\n",
    "print(s)"
   ]
  },
  {
   "cell_type": "markdown",
   "metadata": {},
   "source": [
    "Задание 3.\n",
    "На вход подаётся целое число N - количество записей в словаре. Далее подаются N пар: фамилия\n",
    "кандидата в президенты и число проголосовавших.\n",
    "Задача посчитать и вывести фамилии кандидатов с общим числом, которое они набрали. Фамилии\n",
    "вывести в алфавитном порядке."
   ]
  },
  {
   "cell_type": "code",
   "execution_count": 545,
   "metadata": {},
   "outputs": [
    {
     "name": "stdout",
     "output_type": "stream",
     "text": [
      "{'Smith': 16, 'Dow': 17}\n"
     ]
    }
   ],
   "source": [
    "# Smith 10\n",
    "# Smith 5\n",
    "# Dow 9\n",
    "# Dow 8\n",
    "# Smith 1\n",
    "\n",
    "def mInSum(s, d):\n",
    "    l = s.split()\n",
    "    s1 = l[0]\n",
    "    n1 = int(l[1])\n",
    "    k = 0 if d.get(s1) == None else d.get(s1)\n",
    "    d[s1] = n1 + k\n",
    "\n",
    "d = {}\n",
    "mInSum('Smith 10', d)\n",
    "mInSum('Smith 5', d)\n",
    "mInSum('Dow 9', d)\n",
    "mInSum('Dow 8', d)\n",
    "mInSum('Smith 1', d)\n",
    "print(d)"
   ]
  },
  {
   "cell_type": "code",
   "execution_count": 553,
   "metadata": {},
   "outputs": [
    {
     "name": "stdout",
     "output_type": "stream",
     "text": [
      "[0, 1, 2, 3, 4, 5] ['0', '1', '2', '3', '4', '5'] [0, 10, 20, 30, 40, 50]\n",
      "[3, 4, 5]\n"
     ]
    }
   ],
   "source": [
    "l1 = [i for i in range(6)]\n",
    "l2 = list(map(str, l1))\n",
    "l3 = list(map(lambda i:i*10, l1))\n",
    "print(l1, l2, l3)\n",
    "l4 = list(filter(lambda i:i>2, l1))\n",
    "print(l4)"
   ]
  },
  {
   "cell_type": "markdown",
   "metadata": {},
   "source": [
    "Задание 4.\n",
    "На вход подаётся целое число N - количество строк. Далее, подаётся N строк слов, которые\n",
    "разделены пробелами.\n",
    "Напечатайте слово, которое встречается в строках наибольшее количество раз. Если таких слов\n",
    "несколько, то напечатайте то слово, которое стоит раньше других в алфавитном порядке."
   ]
  },
  {
   "cell_type": "code",
   "execution_count": 569,
   "metadata": {},
   "outputs": [
    {
     "name": "stdout",
     "output_type": "stream",
     "text": [
      "2 banana ['apple', 'orange', 'banana', 'banana', 'orange']\n",
      "{'apple': 1, 'orange': 2, 'banana': 2}\n"
     ]
    }
   ],
   "source": [
    "# apple orange banana\n",
    "# banana orange\n",
    "l = []\n",
    "s = 'apple orange banana'\n",
    "l = s.split()\n",
    "s = 'banana orange'\n",
    "l.extend(s.split())\n",
    "d = {}\n",
    "for i in l:\n",
    "    k = 0 if d.get(i)==None else d.get(i)\n",
    "    d[i] = k + 1\n",
    "k = 0    \n",
    "for i in d:\n",
    "    if k < d[i]:\n",
    "        k = d[i]\n",
    "l1=[]        \n",
    "for i in d:\n",
    "    if k == d[i]:\n",
    "        l1.append(i)\n",
    "l1.sort()\n",
    "print(k, l1[0], l)\n",
    "print(d)"
   ]
  },
  {
   "cell_type": "markdown",
   "metadata": {},
   "source": [
    "Задание 5.\n",
    "На вход подаётся целое число N - количество файлов в файловой системе. Далее, подаются N строк в\n",
    "формате \"имя файла\" и допустимые операции разделённые пробелами. Допустимые операции\n",
    "следующие: W - write, R - read, X - execute. Далее, подаётся целое число М - количество операций с\n",
    "файлами. Далее, подаётся М строк в формате \"операция имя файла\".\n",
    "Напечатайте \"OK\", если такая операция с файлом допустима и \"Denied\", если нет."
   ]
  },
  {
   "cell_type": "code",
   "execution_count": null,
   "metadata": {},
   "outputs": [],
   "source": [
    "# 4\n",
    "# notepad.exe R X\n",
    "# access.log W R\n",
    "# logo.gif R\n",
    "# httpd.conf X W R\n",
    "# 5\n",
    "# read logo.gif\n",
    "# write notepad.exe\n",
    "# execute logo.gif\n",
    "# read access.log\n",
    "# write access.log\n",
    "\n"
   ]
  },
  {
   "cell_type": "code",
   "execution_count": null,
   "metadata": {},
   "outputs": [],
   "source": []
  },
  {
   "cell_type": "code",
   "execution_count": null,
   "metadata": {},
   "outputs": [],
   "source": []
  },
  {
   "cell_type": "code",
   "execution_count": null,
   "metadata": {},
   "outputs": [],
   "source": []
  },
  {
   "cell_type": "code",
   "execution_count": null,
   "metadata": {},
   "outputs": [],
   "source": []
  },
  {
   "cell_type": "code",
   "execution_count": null,
   "metadata": {},
   "outputs": [],
   "source": []
  },
  {
   "cell_type": "code",
   "execution_count": null,
   "metadata": {},
   "outputs": [],
   "source": []
  }
 ],
 "metadata": {
  "kernelspec": {
   "display_name": "Python 3",
   "language": "python",
   "name": "python3"
  },
  "language_info": {
   "codemirror_mode": {
    "name": "ipython",
    "version": 3
   },
   "file_extension": ".py",
   "mimetype": "text/x-python",
   "name": "python",
   "nbconvert_exporter": "python",
   "pygments_lexer": "ipython3",
   "version": "3.6.8"
  }
 },
 "nbformat": 4,
 "nbformat_minor": 4
}
