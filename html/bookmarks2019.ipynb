{
 "cells": [
  {
   "cell_type": "markdown",
   "metadata": {},
   "source": [
    "Qt  \n",
    "[habr Простой сервер на Qt/C++](https://habr.com/ru/post/131472/)  \n",
    "Рисовать Google disk блок схмы svg, pdf  \n",
    "[draw.io](https://www.draw.io/)  \n",
    "Web  Блог  \n",
    "[GeekBrains Курс \"PHP. Быстрый старт\"](https://www.youtube.com/watch?v=TgZl3tEZgEE&list=PLmRNNqEA7JoM_Xp2EI24lVXt8MyXu0r16)  \n",
    "audio  \n",
    "In this demonstration I will use Wireshark to capture streaming audio and save it to my computer for playback.  \n",
    "[Wireshark Audio File Extraction](https://www.youtube.com/watch?v=6ZvEIkJCJ7I)  \n",
    "Raspberry  \n",
    "В данном видео я рассказываю о том как настроить Netbeans, чтобы удалённо запускать приложения Java на Raspberry Pi.\n",
    "[Java на Raspberry Pi. Программирование в NetBeans](https://www.youtube.com/watch?v=BC7r_4LxDek)  \n",
    "Python  \n",
    "[How to Recursively Copy a Folder (Directory) in Python](https://www.pythoncentral.io/how-to-recursively-copy-a-directory-folder-in-python/)  \n",
    "Pycharm Jupyter\n",
    "[Pycharm Install Jupyter Notebook](https://www.youtube.com/watch?v=XTOxzA04L00)  \n",
    "[Pycharm jetbrains  Jupyter notebook support](https://www.jetbrains.com/help/pycharm/jupyter-notebook-support.html)  \n",
    "[jupyter.org](https://jupyter.org/install)  \n",
    "[Stream Your Webcam In Your Browser with WebRTC](https://www.youtube.com/watch?v=w3dx7JAnrGs)  \n",
    "[Захват изображения с камеры в браузере с помощью getUserMedia (с зеркальным отображением)](https://html5.by/blog/html5-image-capture-getusermedia-stream-api-mirror/)  \n",
    "[habr Ежедневная работа с Git](https://habr.com/ru/post/174467/)  \n",
    "[4.4 Git на сервере - Настраиваем сервер](https://git-scm.com/book/ru/v2/Git-%D0%BD%D0%B0-%D1%81%D0%B5%D1%80%D0%B2%D0%B5%D1%80%D0%B5-%D0%9D%D0%B0%D1%81%D1%82%D1%80%D0%B0%D0%B8%D0%B2%D0%B0%D0%B5%D0%BC-%D1%81%D0%B5%D1%80%D0%B2%D0%B5%D1%80)  \n",
    "[Всё о Java / Войти в IT после 30 и Kotlin / Интервью с Senior Java Developer](https://www.youtube.com/watch?v=iM445BnBhpw)  \n",
    "[Учись целый год бесплатно! | GeekBrains - образовательный IT-портал](https://year4free.geekbrains.ru/?utm_source=vk_am&utm_medium=cpc&utm_campaign=1012493774_all&utm_content=56400733&utm_term=vkmcid:1012493774|bid:56400733)  \n",
    "[ijavascript https://github.com/n-riesco/ijavascript#installation](https://github.com/n-riesco/ijavascript#installation)  \n",
    "[IJavascript](http://n-riesco.github.io/ijavascript/#installation)  \n",
    "[Using Jupyter Notebooks for JavaScript #1: Installation](https://www.youtube.com/watch?v=XAnX50OlCms)  \n",
    "[habr 5 способов вычисления чисел Фибоначчи: реализация и сравнение](https://habr.com/ru/post/261159/)  \n",
    "[API-ключи translate](https://translate.yandex.ru/developers/keys)  \n",
    "[ipython Public API for display tools in IPython. Create an audio object.](https://ipython.org/ipython-doc/3/api/generated/IPython.display.html)  \n",
    "[Пишем свой веб-сервер на Python: протокол HTTP](https://iximiuz.com/ru/posts/writing-python-web-server-part-3/)  \n",
    "[Простой чат Вход (без регистрации) Рисовалка для детей до трёх лет](http://www.michurin.net/chat/)  \n",
    "[Зубы за 1 день - сеть стоматологических клиник в СПб, Сочи, Краснодаре](https://zubyza1den.com/?utm_source=google&utm_medium=cpc&utm_campaign=temy_spb&utm_term=www.youtube.com&utm_content=redconcept&gclid=EAIaIQobChMI8a7C4b3i5AIVh4WaCh1K4AKdEAEYASAAEgLNHfD_BwE)  \n",
    "[Руководство для начинающих в Node.js](https://proglib.io/p/beginners-guide-to-node-js/)  \n",
    "[habr Работа с Java в командной строке](https://habr.com/ru/post/125210/)  \n",
    "[How to create HTTP Server in Java - ServerSocket Example javarevisited](https://javarevisited.blogspot.com/2015/06/how-to-create-http-server-in-java-serversocket-example.html)  \n",
    "[Урок по Java 5: как можно запустить программу без использования метода main. Удивите своих друзей. youtube](https://www.youtube.com/watch?v=y_CV1l71-Fc&list=PL786bPIlqEjRDXpAKYbzpdTaOYsWyjtCX&index=5)  \n",
    "[habr jQuery для начинающих](https://habr.com/ru/post/38208/)  \n",
    "[youtube Основы Linux на примере Ubuntu - #1 Введение](https://www.youtube.com/watch?v=6MniYXvQvVo&list=PL5volPZTPJtrWoHvz5speIdA4L6K7asjg)  \n",
    "[habr Выбираем бесплатный сервер в облаке для тестовых целей, домашних проектов и т.д](https://habr.com/ru/post/332130/)  \n",
    "[Создать бесплатный VPS в Google Cloud](https://o7planning.org/ru/11853/create-free-vps-on-google-cloud)  \n",
    "[]()  \n",
    "[]()  \n",
    "[]()  \n",
    "[]()  \n",
    "[]()  \n",
    "[]()  \n",
    "[]()  \n",
    "[]()  \n",
    "[]()  \n",
    "[]()  \n",
    "[]()  \n"
   ]
  },
  {
   "cell_type": "markdown",
   "metadata": {},
   "source": []
  },
  {
   "cell_type": "code",
   "execution_count": null,
   "metadata": {},
   "outputs": [],
   "source": []
  }
 ],
 "metadata": {
  "kernelspec": {
   "display_name": "Python 3",
   "language": "python",
   "name": "python3"
  },
  "language_info": {
   "codemirror_mode": {
    "name": "ipython",
    "version": 3
   },
   "file_extension": ".py",
   "mimetype": "text/x-python",
   "name": "python",
   "nbconvert_exporter": "python",
   "pygments_lexer": "ipython3",
   "version": "3.7.4"
  }
 },
 "nbformat": 4,
 "nbformat_minor": 2
}
