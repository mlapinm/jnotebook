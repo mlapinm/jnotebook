{
 "metadata": {
  "language_info": {
   "codemirror_mode": {
    "name": "ipython",
    "version": 3
   },
   "file_extension": ".py",
   "mimetype": "text/x-python",
   "name": "python",
   "nbconvert_exporter": "python",
   "pygments_lexer": "ipython3",
   "version": "3.8.5"
  },
  "orig_nbformat": 2,
  "kernelspec": {
   "name": "python385jvsc74a57bd0b3ba2566441a7c06988d0923437866b63cedc61552a5af99d1f4fb67d367b25f",
   "display_name": "Python 3.8.5 64-bit (conda)"
  }
 },
 "nbformat": 4,
 "nbformat_minor": 2,
 "cells": [
  {
   "cell_type": "code",
   "execution_count": null,
   "metadata": {},
   "outputs": [],
   "source": []
  },
  {
   "cell_type": "code",
   "execution_count": null,
   "metadata": {},
   "outputs": [],
   "source": []
  },
  {
   "cell_type": "code",
   "execution_count": null,
   "metadata": {},
   "outputs": [],
   "source": []
  },
  {
   "source": [
    "## x01ordered"
   ],
   "cell_type": "markdown",
   "metadata": {}
  },
  {
   "cell_type": "code",
   "execution_count": 109,
   "metadata": {},
   "outputs": [
    {
     "output_type": "stream",
     "name": "stdout",
     "text": [
      "make file b1172.txt with length:\n150 = 25 x ( 1 + 5 )\n"
     ]
    }
   ],
   "source": [
    "import os\n",
    "import re\n",
    "\n",
    "class Lines:\n",
    "    linesEmpty = []\n",
    "    spaces = 0\n",
    "    number = 0\n",
    "    def __init__(self, name):\n",
    "        self.name = name\n",
    "\n",
    "    def setNumber(self, number):\n",
    "        self.number = number\n",
    "        return self\n",
    "\n",
    "    def setSpaces(self, spaces):\n",
    "        self.spaces = spaces\n",
    "        for i in range(self.spaces):\n",
    "            self.linesEmpty.append('')\n",
    "        return self\n",
    "\n",
    "    def build(self):\n",
    "        self.lines = []\n",
    " \n",
    "        for i in range(1, self.number + 1) :\n",
    "            line = f'{i:02}'\n",
    "            self.lines.append(line)\n",
    "            self.lines += self.linesEmpty\n",
    "\n",
    "    def nextName(self):\n",
    "        def checked(x):\n",
    "            match = re.search(r'^b\\d\\d\\d\\d', x)\n",
    "            return True if match else False\n",
    "\n",
    "        files = os.listdir()\n",
    "        files = list(filter(checked, files))\n",
    "        name = self.name\n",
    "        if len(files) > 0:\n",
    "            name = files[-1]\n",
    "        match = re.search('b\\d(\\d\\d)', name)\n",
    "        num = match.groups()[0] if match else '00'\n",
    "        num = f'{(int(num) + 1)%100:02}'\n",
    "        self.name = name[:2] + num + name[4:]\n",
    "        return self\n",
    "\n",
    "\n",
    "    def __str__(self):\n",
    "        return self.lines.__str__()\n",
    "\n",
    "    def write(self):\n",
    "        text = '\\n'.join(self.lines)\n",
    "        if not os.path.isfile(self.name):\n",
    "            with open(self.name, 'w', encoding='utf8') as file:\n",
    "                file.write(text)\n",
    "        else:\n",
    "            print(\"do not write exist file\")\n",
    "\n",
    "    def length(self):\n",
    "        return len(self.lines)\n",
    "\n",
    "    def getName(self):\n",
    "        return self.name\n",
    "\n",
    "lines = Lines(\"b1002.txt\")\n",
    "lines.setNumber(25).setSpaces(5).build()\n",
    "lines.nextName().write()\n",
    "\n",
    "print(f\"make file {lines.getName()} with length:\")\n",
    "print(lines.length(), \"=\", lines.number, 'x ( 1 +', lines.spaces, \")\")\n",
    "# input()"
   ]
  },
  {
   "source": [
    "## mJson\n"
   ],
   "cell_type": "markdown",
   "metadata": {}
  },
  {
   "cell_type": "code",
   "execution_count": 16,
   "metadata": {},
   "outputs": [],
   "source": [
    "items = ['1', '', '', '11', '12', '', '', '13', '14', '', '13', '14', '', '13', '14', '', '', '1', '', '21', '22', '', '23', '24', '', '23', '24', '', '23', '24', '', '1', '', '31', '32', '', '31', '32', '', '31', '32', '', '31', '32', '', '']"
   ]
  },
  {
   "cell_type": "code",
   "execution_count": 95,
   "metadata": {},
   "outputs": [
    {
     "output_type": "stream",
     "name": "stdout",
     "text": [
      "[['1', ['11', '12'], ['13', '14'], ['13', '14'], ['13', '14']], ['1', ['21', '22'], ['23', '24'], ['23', '24'], ['23', '24']], ['1', ['31', '32'], ['31', '32'], ['31', '32'], ['31', '32']]]\n"
     ]
    }
   ],
   "source": [
    "lines = []\n",
    "firstLine = []\n",
    "secondLine = []\n",
    "k = 0\n",
    "l = len(items)\n",
    "for item in items:\n",
    "    if item == '1' or k == l-1:\n",
    "        if len(firstLine) > 0 :\n",
    "            lines.append(firstLine)\n",
    "        firstLine = [item]\n",
    "    elif item == '' and len(secondLine) > 0 :\n",
    "        firstLine.append(secondLine)\n",
    "        secondLine = []\n",
    "        pass\n",
    "    elif item != '':\n",
    "        secondLine.append(item)\n",
    "    k += 1\n",
    "\n",
    "print(lines)"
   ]
  },
  {
   "cell_type": "code",
   "execution_count": 24,
   "metadata": {},
   "outputs": [
    {
     "output_type": "stream",
     "name": "stdout",
     "text": [
      "{'number': [], 'type': [], 'asks': [], 'responses': [], 'variants': []}\n"
     ]
    }
   ],
   "source": [
    "test = {\n",
    "  \"number\": '',\n",
    "  \"type\": [],\n",
    "  \"asks\": [],\n",
    "  \"responses\":[],\n",
    "  \"variants\": []\n",
    "}\n",
    "print(test)\n"
   ]
  },
  {
   "cell_type": "code",
   "execution_count": 40,
   "metadata": {},
   "outputs": [
    {
     "output_type": "stream",
     "name": "stdout",
     "text": [
      "[{'number': '1', 'type': ['11', '12'], 'asks': ['13', '14'], 'responses': ['13', '14'], 'variants': ['13', '14']}, {'number': '1', 'type': ['21', '22'], 'asks': ['23', '24'], 'responses': ['23', '24'], 'variants': ['23', '24']}]\n"
     ]
    }
   ],
   "source": [
    "tests = []\n",
    "for line in lines:\n",
    "    test1 = test.copy()\n",
    "    test1['number'] = line[0]\n",
    "    test1['type'] = line[1]\n",
    "    test1['asks'] = line[2]\n",
    "    test1['responses'] = line[3]\n",
    "    test1['variants'] = line[4]\n",
    "    tests.append(test1)\n",
    "\n",
    "print(tests)\n",
    "\n"
   ]
  },
  {
   "cell_type": "code",
   "execution_count": 47,
   "metadata": {},
   "outputs": [
    {
     "output_type": "stream",
     "name": "stdout",
     "text": [
      "{\n  \"number\": \"1\",\n  \"type\": [\n    \"11\",\n    \"12\"\n  ],\n  \"asks\": [\n    \"13\",\n    \"14\"\n  ],\n  \"responses\": [\n    \"13\",\n    \"14\"\n  ],\n  \"variants\": [\n    \"13\",\n    \"14\"\n  ]\n}\n{\n  \"number\": \"1\",\n  \"type\": [\n    \"21\",\n    \"22\"\n  ],\n  \"asks\": [\n    \"23\",\n    \"24\"\n  ],\n  \"responses\": [\n    \"23\",\n    \"24\"\n  ],\n  \"variants\": [\n    \"23\",\n    \"24\"\n  ]\n}\n"
     ]
    }
   ],
   "source": [
    "import json\n",
    "\n",
    "testJsons = []\n",
    "for test in tests:\n",
    "    jsonData = json.dumps(test, indent=2)\n",
    "    testJsons.append(jsonData)\n",
    "    print(jsonData)\n",
    "# print(testJsons.__str__())"
   ]
  },
  {
   "cell_type": "code",
   "execution_count": 51,
   "metadata": {},
   "outputs": [
    {
     "output_type": "stream",
     "name": "stdout",
     "text": [
      "[\n  {\n    \"number\": \"1\",\n    \"type\": [\n      \"11\",\n      \"12\"\n    ],\n    \"asks\": [\n      \"13\",\n      \"14\"\n    ],\n    \"responses\": [\n      \"13\",\n      \"14\"\n    ],\n    \"variants\": [\n      \"13\",\n      \"14\"\n    ]\n  },\n  {\n    \"number\": \"1\",\n    \"type\": [\n      \"21\",\n      \"22\"\n    ],\n    \"asks\": [\n      \"23\",\n      \"24\"\n    ],\n    \"responses\": [\n      \"23\",\n      \"24\"\n    ],\n    \"variants\": [\n      \"23\",\n      \"24\"\n    ]\n  }\n]\n"
     ]
    }
   ],
   "source": [
    "json_string = json.dumps([ob for ob in tests], indent=2)\n",
    "print(json_string)"
   ]
  },
  {
   "source": [
    "## Quiz"
   ],
   "cell_type": "markdown",
   "metadata": {}
  },
  {
   "cell_type": "code",
   "execution_count": 1,
   "metadata": {},
   "outputs": [
    {
     "output_type": "stream",
     "name": "stdout",
     "text": [
      "x2022json.en\n[{'number': ['01'], 'type': ['simple'], 'asks': ['I _________ a lot of sport in my spare time.'], 'responses': ['do'], 'variants': ['playing', 'like', 'do', 'make']}]\ntext\n"
     ]
    }
   ],
   "source": [
    "import json\n",
    "\n",
    "class Quiz:\n",
    "    name = \"\"\n",
    "    nameWrite = \"\"\n",
    "    lines = []\n",
    "    items = []\n",
    "    textTest = ''\n",
    "    quizs = []\n",
    "    textJson = ''\n",
    "\n",
    "    test = {\n",
    "        \"number\": '',\n",
    "        \"type\": [],\n",
    "        \"asks\": [],\n",
    "        \"responses\":[],\n",
    "        \"variants\": []\n",
    "        }\n",
    "\n",
    "\n",
    "    def __init__(self, name):\n",
    "        self.name = name\n",
    "        self.nextName(self.name)\n",
    "\n",
    "    def nextName(self, name):\n",
    "        shortName = name[:name.find('.')]\n",
    "        self.nameWrite = shortName + '.en'\n",
    "        print(self.nameWrite)\n",
    "\n",
    "\n",
    "        pass\n",
    "\n",
    "    def read(self):\n",
    "        with open(self.name, 'r', encoding='utf8') as file:\n",
    "            for line in file:\n",
    "                self.lines.append(line.strip())\n",
    "\n",
    "    def mItems(self):\n",
    "        lines = []\n",
    "        firstLine = []\n",
    "        secondLine = []\n",
    "        k = 0\n",
    "        l = len(self.lines)\n",
    "        for line in self.lines:\n",
    "            if line == '1' or k == l-1:\n",
    "                if len(firstLine) > 0 :\n",
    "                    self.items.append(firstLine)\n",
    "                firstLine = [line]\n",
    "            elif line == '' and len(secondLine) > 0 :\n",
    "                firstLine.append(secondLine)\n",
    "                secondLine = []\n",
    "                pass\n",
    "            elif line != '':\n",
    "                secondLine.append(line)\n",
    "            k += 1\n",
    "        \n",
    "    def testing(self):\n",
    "        self.textTest = \"text\"\n",
    "\n",
    "\n",
    "        pass\n",
    "\n",
    "\n",
    "    def mTests(self):\n",
    "        for item in self.items:\n",
    "            test1 = self.test.copy()\n",
    "            test1['number'] = item[0]\n",
    "            test1['type'] = item[1]\n",
    "            test1['asks'] = item[2]\n",
    "            test1['responses'] = item[3]\n",
    "            test1['variants'] = item[4]\n",
    "            self.quizs.append(test1)\n",
    "\n",
    "    def mText(self):\n",
    "        self.textJson = json.dumps([ob for ob in self.quizs], indent=2)\n",
    "\n",
    "        # print(self.textJson)\n",
    "\n",
    "    def write(self):\n",
    "        with open(self.nameWrite, 'w', encoding='utf8') as file:\n",
    "            file.write(self.textJson)\n",
    "\n",
    "\n",
    "quiz = Quiz('x2022json.txt')\n",
    "quiz.read()\n",
    "quiz.mItems()\n",
    "quiz.mTests()\n",
    "print(quiz.quizs)\n",
    "quiz.mText()\n",
    "quiz.write()\n",
    "quiz.testing()\n",
    "\n",
    "print(quiz.textTest)\n",
    "\n",
    "# print(quiz.items)\n",
    "\n"
   ]
  },
  {
   "cell_type": "code",
   "execution_count": 27,
   "metadata": {},
   "outputs": [
    {
     "output_type": "stream",
     "name": "stdout",
     "text": [
      "['1 - 2', '2 - 1', '1 - 3', '2 - 1']\n[1, 1, 2, 1, 1, 1, 2]\n"
     ]
    }
   ],
   "source": [
    "items = [1, 1, 2, 1, 1, 1, 2]\n",
    "a = items[0]\n",
    "k = 1\n",
    "periods = []\n",
    "l = len(items)\n",
    "for i in range(1, l):\n",
    "    if a != items[i]:\n",
    "        periods.append(f'{a} - {k}')\n",
    "        a = items[i]\n",
    "        k = 1\n",
    "    else:\n",
    "        k += 1\n",
    "    if i == l-1:\n",
    "        periods.append(f'{a} - {k}')\n",
    "\n",
    "print(periods)\n",
    "print(items)\n"
   ]
  },
  {
   "cell_type": "code",
   "execution_count": 2,
   "metadata": {},
   "outputs": [
    {
     "output_type": "stream",
     "name": "stdout",
     "text": [
      "[['1', '2'], ['3', '4'], ['5', '6']]\n"
     ]
    }
   ],
   "source": []
  },
  {
   "cell_type": "code",
   "execution_count": 46,
   "metadata": {},
   "outputs": [
    {
     "output_type": "stream",
     "name": "stdout",
     "text": [
      "[['1', '2', '3'], ['4', '5', '6']]\n"
     ]
    }
   ],
   "source": [
    "s = ['1', '2', '3', '4', '5', '6']\n",
    "s2 = [s[:len(s)//2]]\n",
    "s2.append(s[len(s)//2:])\n",
    "\n",
    "print(s2)\n"
   ]
  },
  {
   "cell_type": "code",
   "execution_count": 37,
   "metadata": {},
   "outputs": [
    {
     "output_type": "stream",
     "name": "stdout",
     "text": [
      "[['1', '2'], ['3', '4'], ['5', '6']]\n"
     ]
    }
   ],
   "source": [
    "s = ['1', '2', '3', '4', '5', '6']\n",
    "s2 = [[s[::2][i]] + [s[1::2][i]] for i in range(len(s)//2)]\n",
    "\n",
    "print(s2)\n"
   ]
  },
  {
   "cell_type": "code",
   "execution_count": 6,
   "metadata": {},
   "outputs": [
    {
     "output_type": "stream",
     "name": "stdout",
     "text": [
      "0\n"
     ]
    }
   ],
   "source": [
    "s = '==='\n",
    "print(s.find('=='))\n",
    "\n"
   ]
  }
 ]
}