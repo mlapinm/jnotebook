{
 "cells": [
  {
   "cell_type": "code",
   "execution_count": null,
   "metadata": {},
   "outputs": [],
   "source": [
    "html01rtrd"
   ]
  },
  {
   "cell_type": "code",
   "execution_count": 2,
   "metadata": {},
   "outputs": [
    {
     "data": {
      "text/html": [
       "\n",
       "    <div id=\"d_46\">____</div>\n",
       "    <script>\n",
       "    s = ''\n",
       "    var consol={\n",
       "    log:function (s1, s2='',s3='',s4 ='', s5='<br>'){\n",
       "        s += s1+' '+s2+' '+s3+' '+s4+' '+s5 } }\n",
       "    function f(){\n",
       "//===============================================    \n",
       "\n",
       "//===============================================    \n",
       "        el = document.getElementById('d_46')\n",
       "        el.innerHTML = s\n",
       "    }f()</script>\n"
      ],
      "text/plain": [
       "<IPython.core.display.HTML object>"
      ]
     },
     "execution_count": 2,
     "metadata": {},
     "output_type": "execute_result"
    }
   ],
   "source": [
    "from IPython.display import HTML\n",
    "form = \"\"\"\n",
    "    <div id=\"d_46\">____</div>\n",
    "    <script>\n",
    "    s = ''\n",
    "    var consol={\n",
    "    log:function (s1, s2='',s3='',s4 ='', s5='<br>'){\n",
    "        s += s1+' '+s2+' '+s3+' '+s4+' '+s5 } }\n",
    "    function f(){\n",
    "//===============================================    \n",
    "\n",
    "//===============================================    \n",
    "        el = document.getElementById('d_46')\n",
    "        el.innerHTML = s\n",
    "    }f()</script>\n",
    "\"\"\"\n",
    "HTML(form)"
   ]
  },
  {
   "cell_type": "markdown",
   "metadata": {},
   "source": [
    "##### HTML и CSS\n",
    "##### Создание сайтов по стандартам W3C\n",
    "```\n",
    "Введение и основные понятия\n",
    "Анатомия страницы\n",
    "Гиперссылки\n",
    "Изображения\n",
    "CSS. Каскадные таблицы стилей: основные свойства\n",
    "Списки\n",
    "Таблицы\n",
    "Фреймы\n",
    "Формы\n",
    "Использование CSS для макетирования\n",
    "Дополнительные возможности HTML и CSS\n",
    "Мета-информация на странице\n",
    "Выбор хостинга и поддержка сайта\n",
    "Что дальше?\n",
    "```\n",
    "##### Введение и основные понятия\n",
    "##### Текстовые редакторы\n",
    "https://notepad-plus-plus.org/\n",
    "http://www.sublimetext.com/ https://www.emeditor.com/ https://www.editplus.com/ http://www.ultraedit.com/  \n",
    "https://www.adobe.com/ru/products/dreamweaver.html"
   ]
  },
  {
   "cell_type": "markdown",
   "metadata": {},
   "source": [
    "##### Эволюция языков разметки. \n",
    "##### Цели и задачи языка HTML\n",
    "##### Стркуктура HTML-документа\n",
    "```\n",
    "<html>\n",
    "<head>\n",
    "    Служебная информация\n",
    "</head>\n",
    "<body>\n",
    "    Содержание документа\n",
    "</body>\n",
    "</html>\n",
    "```"
   ]
  },
  {
   "cell_type": "markdown",
   "metadata": {},
   "source": [
    "##### HTML-разметка:\n",
    "##### Элементы\n",
    "##### Тэги\n",
    "##### Основные элементы разметки\n",
    "##### Комментарии\n",
    "##### Заголовки"
   ]
  },
  {
   "cell_type": "code",
   "execution_count": 4,
   "metadata": {},
   "outputs": [
    {
     "data": {
      "text/html": [
       "\n",
       "<h1>Заголовок первого уровня</h1>\n",
       "<h2>Заголовок второго уровня</h2>\n",
       "<h3>Заголовок третьего уровня</h3>\n",
       "<h4>Заголовок четвертого уровня</h4>\n",
       "<h5>Заголовок пятого уровня</h5>\n",
       "<h6>Заголовок шестого уровня</h6>\n"
      ],
      "text/plain": [
       "<IPython.core.display.HTML object>"
      ]
     },
     "execution_count": 4,
     "metadata": {},
     "output_type": "execute_result"
    }
   ],
   "source": [
    "from IPython.display import HTML\n",
    "form = \"\"\"\n",
    "<h1>Заголовок первого уровня</h1>\n",
    "<h2>Заголовок второго уровня</h2>\n",
    "<h3>Заголовок третьего уровня</h3>\n",
    "<h4>Заголовок четвертого уровня</h4>\n",
    "<h5>Заголовок пятого уровня</h5>\n",
    "<h6>Заголовок шестого уровня</h6>\n",
    "\"\"\"\n",
    "HTML(form)"
   ]
  },
  {
   "cell_type": "markdown",
   "metadata": {},
   "source": [
    "##### Абзац"
   ]
  },
  {
   "cell_type": "code",
   "execution_count": 5,
   "metadata": {},
   "outputs": [
    {
     "data": {
      "text/html": [
       "\n",
       "<p>\n",
       "Браузеры, которые интерпретируют мягкие\n",
       "переносы, должны обеспечивать\n",
       "следующую семантику: если строка\n",
       "прекращается в месте мягкого переноса, в\n",
       "конце первой строки должен отображаться\n",
       "символ переноса.\n",
       "</p>\n"
      ],
      "text/plain": [
       "<IPython.core.display.HTML object>"
      ]
     },
     "execution_count": 5,
     "metadata": {},
     "output_type": "execute_result"
    }
   ],
   "source": [
    "from IPython.display import HTML\n",
    "form = \"\"\"\n",
    "<p>\n",
    "Браузеры, которые интерпретируют мягкие\n",
    "переносы, должны обеспечивать\n",
    "следующую семантику: если строка\n",
    "прекращается в месте мягкого переноса, в\n",
    "конце первой строки должен отображаться\n",
    "символ переноса.\n",
    "</p>\n",
    "\"\"\"\n",
    "HTML(form)"
   ]
  },
  {
   "cell_type": "markdown",
   "metadata": {},
   "source": [
    "##### Принудительный разрыв строки"
   ]
  },
  {
   "cell_type": "code",
   "execution_count": 6,
   "metadata": {},
   "outputs": [
    {
     "data": {
      "text/html": [
       "\n",
       "<p>\n",
       "Браузеры, которые интерпретируют мягкие\n",
       "переносы, должны обеспечивать\n",
       "следующую семантику: если строка\n",
       "<br>\n",
       "прекращается в месте мягкого переноса, в\n",
       "конце первой строки должен отображаться\n",
       "символ переноса.\n",
       "</p>"
      ],
      "text/plain": [
       "<IPython.core.display.HTML object>"
      ]
     },
     "execution_count": 6,
     "metadata": {},
     "output_type": "execute_result"
    }
   ],
   "source": [
    "from IPython.display import HTML\n",
    "form = \"\"\"\n",
    "<p>\n",
    "Браузеры, которые интерпретируют мягкие\n",
    "переносы, должны обеспечивать\n",
    "следующую семантику: если строка\n",
    "<br>\n",
    "прекращается в месте мягкого переноса, в\n",
    "конце первой строки должен отображаться\n",
    "символ переноса.\n",
    "</p>\"\"\"\n",
    "HTML(form)"
   ]
  },
  {
   "cell_type": "code",
   "execution_count": 19,
   "metadata": {},
   "outputs": [
    {
     "data": {
      "text/html": [
       "\n",
       "<p>1</p>\n",
       "<hr align='center' width=100'>\n",
       "<p>2</p>\n"
      ],
      "text/plain": [
       "<IPython.core.display.HTML object>"
      ]
     },
     "execution_count": 19,
     "metadata": {},
     "output_type": "execute_result"
    }
   ],
   "source": [
    "from IPython.display import HTML\n",
    "form = \"\"\"\n",
    "<p>1</p>\n",
    "<hr align='center' width=100'>\n",
    "<p>2</p>\n",
    "\"\"\"\n",
    "HTML(form)"
   ]
  },
  {
   "cell_type": "code",
   "execution_count": 3,
   "metadata": {},
   "outputs": [
    {
     "data": {
      "text/html": [
       "\n",
       "    <div id=\"d_46\">____</div>\n"
      ],
      "text/plain": [
       "<IPython.core.display.HTML object>"
      ]
     },
     "execution_count": 3,
     "metadata": {},
     "output_type": "execute_result"
    }
   ],
   "source": [
    "from IPython.display import HTML\n",
    "form = \"\"\"\n",
    "\n",
    "\"\"\"\n",
    "HTML(form)"
   ]
  },
  {
   "cell_type": "markdown",
   "metadata": {},
   "source": [
    "##### Атрибуты элементов\n",
    "##### Блочная цитата"
   ]
  },
  {
   "cell_type": "code",
   "execution_count": 20,
   "metadata": {},
   "outputs": [
    {
     "data": {
      "text/html": [
       "\n",
       "<p>Браузеры, которые интерпретируют мягкие\n",
       "переносы, должны обеспечивать\n",
       "<blockquote>\n",
       "Браузеры, которые интерпретируют мягкие\n",
       "переносы, должны обеспечивать\n",
       "следующую семантику: если строка\n",
       "прекращается в месте мягкого переноса, в\n",
       "конце первой строки должен отображаться\n",
       "символ переноса.\n",
       "</blockquote>\n",
       "конце первой строки должен отображаться\n",
       "символ переноса.\n",
       "</p>\n"
      ],
      "text/plain": [
       "<IPython.core.display.HTML object>"
      ]
     },
     "execution_count": 20,
     "metadata": {},
     "output_type": "execute_result"
    }
   ],
   "source": [
    "from IPython.display import HTML\n",
    "form = \"\"\"\n",
    "<p>Браузеры, которые интерпретируют мягкие\n",
    "переносы, должны обеспечивать\n",
    "<blockquote>\n",
    "Браузеры, которые интерпретируют мягкие\n",
    "переносы, должны обеспечивать\n",
    "следующую семантику: если строка\n",
    "прекращается в месте мягкого переноса, в\n",
    "конце первой строки должен отображаться\n",
    "символ переноса.\n",
    "</blockquote>\n",
    "конце первой строки должен отображаться\n",
    "символ переноса.\n",
    "</p>\n",
    "\"\"\"\n",
    "HTML(form)"
   ]
  },
  {
   "cell_type": "markdown",
   "metadata": {},
   "source": [
    "##### Авторское форматирование"
   ]
  },
  {
   "cell_type": "code",
   "execution_count": 20,
   "metadata": {},
   "outputs": [
    {
     "data": {
      "text/html": [
       "\n",
       "<p>Браузеры, которые интерпретируют мягкие\n",
       "переносы, должны обеспечивать\n",
       "<blockquote>\n",
       "Браузеры, которые интерпретируют мягкие\n",
       "переносы, должны обеспечивать\n",
       "следующую семантику: если строка\n",
       "прекращается в месте мягкого переноса, в\n",
       "конце первой строки должен отображаться\n",
       "символ переноса.\n",
       "</blockquote>\n",
       "конце первой строки должен отображаться\n",
       "символ переноса.\n",
       "</p>\n"
      ],
      "text/plain": [
       "<IPython.core.display.HTML object>"
      ]
     },
     "execution_count": 20,
     "metadata": {},
     "output_type": "execute_result"
    }
   ],
   "source": [
    "from IPython.display import HTML\n",
    "form = \"\"\"\n",
    "\n",
    "\"\"\"\n",
    "HTML(form)"
   ]
  },
  {
   "cell_type": "code",
   "execution_count": 22,
   "metadata": {},
   "outputs": [
    {
     "data": {
      "text/html": [
       "\n",
       "<pre>\n",
       "Время –\n",
       "    начинаю\n",
       "        про Ленина рассказ.\n",
       "Но не потому,\n",
       "    что горя\n",
       "        нету более,\n",
       "время\n",
       "    потому,\n",
       "        что резкая тоска\n",
       "стала ясною\n",
       "    осознанною болью.\n",
       "</pre>\n"
      ],
      "text/plain": [
       "<IPython.core.display.HTML object>"
      ]
     },
     "execution_count": 22,
     "metadata": {},
     "output_type": "execute_result"
    }
   ],
   "source": [
    "from IPython.display import HTML\n",
    "form = \"\"\"\n",
    "<pre>\n",
    "Время –\n",
    "    начинаю\n",
    "        про Ленина рассказ.\n",
    "Но не потому,\n",
    "    что горя\n",
    "        нету более,\n",
    "время\n",
    "    потому,\n",
    "        что резкая тоска\n",
    "стала ясною\n",
    "    осознанною болью.\n",
    "</pre>\n",
    "\"\"\"\n",
    "HTML(form)"
   ]
  },
  {
   "cell_type": "markdown",
   "metadata": {},
   "source": [
    "##### Форматирование текста"
   ]
  },
  {
   "cell_type": "code",
   "execution_count": 26,
   "metadata": {},
   "outputs": [
    {
     "data": {
      "text/html": [
       "\n",
       "<strong>Очень важный текст</strong>\n",
       "<em>Просто важный текст</em>\n",
       "<ins>Подчеркнутый текст</ins>\n",
       "<cite>Цитата курсивным текстом</cite>\n",
       "<big>Увеличили шрифт</big>\n",
       "<small>Уменьшили шрифт</small>\n",
       "3<sup>2</sup>\n",
       "H<sub>2</sub>O\n",
       "Фирма <q lang=\"en\">Рога и Копыта</q>\n"
      ],
      "text/plain": [
       "<IPython.core.display.HTML object>"
      ]
     },
     "execution_count": 26,
     "metadata": {},
     "output_type": "execute_result"
    }
   ],
   "source": [
    "from IPython.display import HTML\n",
    "form = \"\"\"\n",
    "<strong>Очень важный текст</strong>\n",
    "<em>Просто важный текст</em>\n",
    "<ins>Подчеркнутый текст</ins>\n",
    "<cite>Цитата курсивным текстом</cite>\n",
    "<big>Увеличили шрифт</big>\n",
    "<small>Уменьшили шрифт</small>\n",
    "3<sup>2</sup>\n",
    "H<sub>2</sub>O\n",
    "Фирма <q lang=\"ru\">Рога и Копыта</q>\n",
    "\"\"\"\n",
    "HTML(form)"
   ]
  },
  {
   "cell_type": "code",
   "execution_count": 21,
   "metadata": {},
   "outputs": [
    {
     "data": {
      "text/html": [
       "\n",
       "\n"
      ],
      "text/plain": [
       "<IPython.core.display.HTML object>"
      ]
     },
     "execution_count": 21,
     "metadata": {},
     "output_type": "execute_result"
    }
   ],
   "source": [
    "from IPython.display import HTML\n",
    "form = \"\"\"\n",
    "\n",
    "\"\"\"\n",
    "HTML(form)"
   ]
  },
  {
   "cell_type": "markdown",
   "metadata": {},
   "source": [
    "##### Специальные символы\n",
    "```\n",
    "&nbsp;    &#160;    Неразбиваемый пробел                \n",
    "&amp;     &#038;    Амперсанд             &  \n",
    "&lt;      &#060;    Знак \"меньше\"         <\n",
    "&gt;      &#062;    Знак \"больше\"         >\n",
    "&copy;    &#169;    Копирайт              ©\n",
    "&reg;     &#174;    Зарегистрировано      ®\n",
    "&trade;   &#153;    Торговая марка        ™\n",
    "&mdash;   &#8212;   Тире                  —  \n",
    "```"
   ]
  },
  {
   "cell_type": "markdown",
   "metadata": {},
   "source": [
    "##### Лабораторная работа - 1\n",
    "##### Анатомия страницы\n",
    "##### Темы модуля\n",
    "##### Основные сведения о языках разметки:\n",
    "##### Что и как мы пишем\n",
    "```\n",
    "<title> or <TITLE>\n",
    "<br> or <br/>\n",
    "alighn = 'right' ore alighn = right\n",
    "<strong> или <b> ?\n",
    "<em> или <i>\n",
    "\n",
    "```\n",
    "https://www.w3.org/community/webed/wiki/HTML/Specifications"
   ]
  },
  {
   "cell_type": "markdown",
   "metadata": {},
   "source": [
    "##### Типы HTML-документов\n",
    "http://validator.w3.org/"
   ]
  },
  {
   "cell_type": "markdown",
   "metadata": {},
   "source": [
    "##### Лабораторная работа - 2.1\n",
    "##### ВалидацияHTML-документа\n",
    "##### Структурные элементы разметки\n",
    "```\n",
    "<div id=“content”>\n",
    "\n",
    "</div>\n",
    "```\n",
    "##### Новое в HTML 5\n",
    "```\n",
    "<section>Какой-то раздел</section>\n",
    "<article>Самостоятельный раздел</article>\n",
    "<header>Верхняя часть блока</header>\n",
    "<footer>Нижняя часть блока</footer>\n",
    "<aside>Дополнительный контент</aside>\n",
    "<nav>Навигационное меню</nav>\n",
    "```"
   ]
  },
  {
   "cell_type": "markdown",
   "metadata": {},
   "source": [
    "##### Лабораторная работа - 2.2\n",
    "##### Текстовые элементы разметки\n",
    "##### Гиперссылки\n",
    "##### Темы модуля\n",
    "##### Понятие гиперссылок в www\n",
    "##### Внешние и внутренние гиперссылки"
   ]
  },
  {
   "cell_type": "markdown",
   "metadata": {},
   "source": [
    "```\n",
    "Внутренняя (метка)\n",
    "<div id=‘abc’>...</div>\n",
    "id – Общий атрибут\n",
    "<a href=‘#abc’>Прыгаем внутри</a>\n",
    "Внешняя\n",
    "<a href=‘file.html’>Загрузи файл</a>\n",
    "Смешанная\n",
    "<a href=‘file.html#abc’>Нажми меня</a>\n",
    "```"
   ]
  },
  {
   "cell_type": "markdown",
   "metadata": {},
   "source": [
    "##### Гиперссылки в новом окне\n",
    "##### Лабораторная работа - 3\n",
    "##### Типы адресов в www\n",
    "```\n",
    "Абсолютные\n",
    "http://www.site.ru/index.html\n",
    "ftp://site.ru/pub/install.exe\n",
    "mailto:john@smith.com\n",
    "Относительные\n",
    "file.html\n",
    "folder/file.html\n",
    "../file.html\n",
    "../folder/file.html\n",
    "```"
   ]
  },
  {
   "cell_type": "markdown",
   "metadata": {},
   "source": [
    "##### Гиперссылки в новом окне\n",
    "```\n",
    "<a href='file.html' target='_blank'>\n",
    "Открываем ссылку в новом окне\n",
    "</a>\n",
    "\n",
    "Базовый target\n",
    " <head> <base target='_blank'> </head>\n",
    " <a href='file.html' href='_self'>\n",
    "Нажми меня\n",
    "</a>\n",
    "```"
   ]
  },
  {
   "cell_type": "markdown",
   "metadata": {},
   "source": [
    "##### Дополнительные атрибуты гиперссылок\n",
    "##### Изображения\n",
    "##### Темы модуля\n",
    "##### Типы изображений используемые в WWW\n",
    "gif,jpg,png\n",
    "##### Вставка изображений на страницу\n",
    "```\n",
    "<img src='folder.gif' alt='Логотип' />\n",
    "```\n",
    "<img src='folder.gif' alt='Логотип' />"
   ]
  },
  {
   "cell_type": "code",
   "execution_count": null,
   "metadata": {},
   "outputs": [],
   "source": [
    "##### Атрибуты элемента img\n",
    "```\n",
    "Другие атрибуты\n",
    "width='100'\n",
    "height='100'\n",
    "border='1'\n",
    "Общий атрибут\n",
    "title='Логотип нашей компании'\n",
    "```"
   ]
  },
  {
   "cell_type": "markdown",
   "metadata": {},
   "source": [
    "##### Новые элементы для избражений\n",
    "```\n",
    "<figure>\n",
    "<img src='logo.gif' alt='Логотип' />\n",
    "<figcaption>\n",
    "Логотип нашей компании\n",
    "</figcaption>\n",
    "</figure>\n",
    "```\n",
    "<figure>\n",
    "<img src='folder.gif' alt='Логотип' />\n",
    "<figcaption>\n",
    "Логотип нашей компании\n",
    "</figcaption>\n",
    "</figure>"
   ]
  },
  {
   "cell_type": "markdown",
   "metadata": {},
   "source": [
    "##### Лабораторная работа - 4\n",
    "##### CSS. Каскадные таблицы стилей: основные свойства\n",
    "##### Основные понятия CSS\n",
    "##### Способы определения стилей\n",
    "```\n",
    "Вложение (inline)\n",
    "<p style=“color:red; background:#FF0000”>\n",
    "Встраивание (embedding)\n",
    "<style type=“text/css”>\n",
    "p{ color:red; background:#FF0000 }\n",
    "</style>\n",
    "Связывание (linking)\n",
    "<link rel=“stylesheet” type=“text/css”\n",
    "href=“style.css”/>\n",
    "```"
   ]
  },
  {
   "cell_type": "markdown",
   "metadata": {},
   "source": [
    "##### Каскадирование"
   ]
  },
  {
   "cell_type": "code",
   "execution_count": 1,
   "metadata": {},
   "outputs": [
    {
     "data": {
      "text/html": [
       "\n",
       "<style>\n",
       "p{ color: red }\n",
       "div{ color: red }\n",
       "div{ color: green }\n",
       "</style>\n",
       "<p>Первая строка</p>\n",
       "<div>Вторая строка</div>\n",
       "<p style=\"color: blue\">Третья строка</p>\n"
      ],
      "text/plain": [
       "<IPython.core.display.HTML object>"
      ]
     },
     "execution_count": 1,
     "metadata": {},
     "output_type": "execute_result"
    }
   ],
   "source": [
    "from IPython.display import HTML\n",
    "form = \"\"\"\n",
    "<style>\n",
    "p{ color: red }\n",
    "div{ color: red }\n",
    "div{ color: green }\n",
    "</style>\n",
    "<p>Первая строка</p>\n",
    "<div>Вторая строка</div>\n",
    "<p style=\"color: blue\">Третья строка</p>\n",
    "\"\"\"\n",
    "HTML(form)"
   ]
  },
  {
   "cell_type": "markdown",
   "metadata": {},
   "source": [
    "##### Наследование"
   ]
  },
  {
   "cell_type": "code",
   "execution_count": 35,
   "metadata": {},
   "outputs": [
    {
     "data": {
      "text/html": [
       "\n",
       "<div style=\"color: green\">Первая строка\n",
       "    <div style=\"background: yellow\">Вторая строка\n",
       "        <div style=\"color: red\">Третья строка</div>\n",
       "    </div>\n",
       "</div>\n"
      ],
      "text/plain": [
       "<IPython.core.display.HTML object>"
      ]
     },
     "execution_count": 35,
     "metadata": {},
     "output_type": "execute_result"
    }
   ],
   "source": [
    "from IPython.display import HTML\n",
    "form = \"\"\"\n",
    "<div style=\"color: green\">Первая строка\n",
    "    <div style=\"background: yellow\">Вторая строка\n",
    "        <div style=\"color: red\">Третья строка</div>\n",
    "    </div>\n",
    "</div>\n",
    "\"\"\"\n",
    "HTML(form)"
   ]
  },
  {
   "cell_type": "markdown",
   "metadata": {},
   "source": [
    "##### Единицы измерения\n",
    "px,%,em,ex  \n",
    "cm, mm, in, pt, pc"
   ]
  },
  {
   "cell_type": "markdown",
   "metadata": {},
   "source": [
    "Название цвета  \n",
    "red, green, blue  \n",
    "Шестнадцатиричное представление  \n",
    "#FF33CC, #F3C  \n",
    "В формате RGB  \n",
    "rgb(0, 240, 125), rgb(0%, 80%, 25%)\n",
    "opacity: 0.3, rgba(205, 214, 219, 0.3), hsla()\n",
    "```\n",
    "0/360° — красный цвет\n",
    "60° — желтый цвет\n",
    "120° — зеленый цвет\n",
    "180° — голубой цвет\n",
    "240° — синий цвет\n",
    "270° — фиолетовый цвет\n",
    "300° — пурпурный цвет.\n",
    "```"
   ]
  },
  {
   "cell_type": "code",
   "execution_count": 24,
   "metadata": {},
   "outputs": [
    {
     "data": {
      "text/html": [
       "\n",
       "<div style=\"color: hsla(0,100%,50%,1)\">Красный</div>\n",
       "<div style=\"color: hsla(120,100%,50%,1)\">Зеленый</div>\n",
       "<div style=\"color: hsla(240,100%,50%,1)\">Синий</div>\n",
       "<div style=\"color: hsla(38.8,100%,50%,1)\">Оранжевый</div>\n",
       "<div style=\"color: hsla(60,100%,50%,1)\">Желтый</div>\n",
       "<div style=\"color: hsla(180,100%,50%,1)\">Голубой</div>\n",
       "<div style=\"color: hsla(300,100%,50%,1)\">Розовый</div>\n"
      ],
      "text/plain": [
       "<IPython.core.display.HTML object>"
      ]
     },
     "execution_count": 24,
     "metadata": {},
     "output_type": "execute_result"
    }
   ],
   "source": [
    "from IPython.display import HTML\n",
    "form = \"\"\"\n",
    "<div style=\"color: hsla(0,100%,50%,1)\">Красный</div>\n",
    "<div style=\"color: hsla(120,100%,50%,1)\">Зеленый</div>\n",
    "<div style=\"color: hsla(240,100%,50%,1)\">Синий</div>\n",
    "<div style=\"color: hsla(38.8,100%,50%,1)\">Оранжевый</div>\n",
    "<div style=\"color: hsla(60,100%,50%,1)\">Желтый</div>\n",
    "<div style=\"color: hsla(180,100%,50%,1)\">Голубой</div>\n",
    "<div style=\"color: hsla(300,100%,50%,1)\">Розовый</div>\n",
    "\"\"\"\n",
    "HTML(form)"
   ]
  },
  {
   "cell_type": "markdown",
   "metadata": {},
   "source": [
    "##### Селекторы тега и класса"
   ]
  },
  {
   "cell_type": "code",
   "execution_count": 22,
   "metadata": {},
   "outputs": [
    {
     "data": {
      "text/html": [
       "\n",
       "<style>\n",
       "div { color: red }\n",
       "div.green { color: green }\n",
       ".blue { color: blue }\n",
       "</style>\n",
       "<div>Обычный DIV</div>\n",
       "<div class=\"green\">DIV с классом green</div>\n",
       "<p class=\"green\">P с классом green</p>\n",
       "<p class=\"blue\">P с классом blue</p>\n",
       "<div class=\"blue\">DIV с классом blue</div>\n"
      ],
      "text/plain": [
       "<IPython.core.display.HTML object>"
      ]
     },
     "execution_count": 22,
     "metadata": {},
     "output_type": "execute_result"
    }
   ],
   "source": [
    "from IPython.display import HTML\n",
    "form = \"\"\"\n",
    "<style>\n",
    "div { color: red }\n",
    "div.green { color: green }\n",
    ".blue { color: blue }\n",
    "</style>\n",
    "<div>Обычный DIV</div>\n",
    "<div class=\"green\">DIV с классом green</div>\n",
    "<p class=\"green\">P с классом green</p>\n",
    "<p class=\"blue\">P с классом blue</p>\n",
    "<div class=\"blue\">DIV с классом blue</div>\n",
    "\"\"\"\n",
    "HTML(form)"
   ]
  },
  {
   "cell_type": "code",
   "execution_count": 26,
   "metadata": {},
   "outputs": [
    {
     "data": {
      "text/html": [
       "\n",
       "<style>\n",
       "#x { color: red }\n",
       "b + em { color: green }\n",
       "div em { color: blue }\n",
       "div#y > em { color: orange }\n",
       "</style>\n",
       "<p id=\"x\">P c id x</p>\n",
       "<p>P, в котором рядом с <b>B</b> находится <em>EM</em></p>\n",
       "<div><em>EM</em> <b><em>находится</em></b> в DIV</div>\n",
       "<div id=\"y\"><em>EM</em> <b><em>находится</em></b> в DIV</div>\n"
      ],
      "text/plain": [
       "<IPython.core.display.HTML object>"
      ]
     },
     "execution_count": 26,
     "metadata": {},
     "output_type": "execute_result"
    }
   ],
   "source": [
    "from IPython.display import HTML\n",
    "form = \"\"\"\n",
    "<style>\n",
    "#x { color: red }\n",
    "b + em { color: green }\n",
    "div em { color: blue }\n",
    "div#y > em { color: orange }\n",
    "</style>\n",
    "<p id=\"x\">P c id x</p>\n",
    "<p>P, в котором рядом с <b>B</b> находится <em>EM</em></p>\n",
    "<div><em>EM</em> <b><em>находится</em></b> в DIV</div>\n",
    "<div id=\"y\"><em>EM</em> <b><em>находится</em></b> в DIV</div>\n",
    "\"\"\"\n",
    "HTML(form)"
   ]
  },
  {
   "cell_type": "markdown",
   "metadata": {},
   "source": [
    "div[align]  \n",
    "Имеет атрибут  \n",
    "div[align=“center”]  \n",
    "Имеет атрибут со значением  \n",
    "a[href^=“ftp://”]  \n",
    "Значение атрибута начинается с  \n",
    "a[href$=“.com”]  \n",
    "Значение атрибута заканчивается на  \n",
    "a[href*=“google”]  \n",
    "Значение атрибута содержит  \n",
    "div[class~=“content”]  \n",
    "Одно из нескольких значений  \n",
    "div[class|=“side”]  \n",
    "Значение содержит дефис  "
   ]
  },
  {
   "cell_type": "markdown",
   "metadata": {},
   "source": [
    "##### Группировка селекторов\n",
    "h1, h2, h3{ background: yellow }  \n",
    "h1 { color: red }  \n",
    "h2 { color: green }  \n",
    "h3 { color: blue }  \n",
    "em, i, cite { background: #CCC }  \n",
    "\\* { color: #000 }  "
   ]
  },
  {
   "cell_type": "markdown",
   "metadata": {},
   "source": [
    "##### Псевдоклассыи псевдоэлементы"
   ]
  },
  {
   "cell_type": "markdown",
   "metadata": {},
   "source": [
    "a:link { color: blue }  \n",
    "a:active { color: red }  \n",
    "a:visited { color: green }  \n",
    "a:hover { background: yellow }  \n",
    "div:hover { color: red }  \n",
    "q:lang(ru) { quotes: “\\00AB” “\\00BB” }  \n",
    "p:first-child { color: green }  \n",
    "p:first-letter { color: red }  \n",
    "p:first-line { color: green }  \n",
    "p:after { content: “ The end” }  \n",
    "p.new:before { content: “New. ” }"
   ]
  },
  {
   "cell_type": "markdown",
   "metadata": {},
   "source": [
    "##### Лабораторная работа - 5.1\n",
    "##### Свойства шрифтов"
   ]
  },
  {
   "cell_type": "markdown",
   "metadata": {},
   "source": [
    "font-family: семейство шрифта | тип шрифта\n",
    "font-family: Arial, Geneva, sans-serif  \n",
    "font-size: величина | %  \n",
    "xx-small | x-small | small | medium| large | x-large | xx-large\n",
    "smaller | larger  \n",
    "font-size: 12px  \n",
    "font-weight: normal | bold | bolder | lighter | [100-900]  \n",
    "font-style: normal | italic  \n",
    "font-variant: normal | small-caps  \n",
    "font: style (|) variant (|) weigth (|) size family  \n",
    "font: bold 12px Arial !important  "
   ]
  },
  {
   "cell_type": "markdown",
   "metadata": {},
   "source": [
    "##### Свойства текста\n",
    "text-align: left | right | center | justify  \n",
    "text-decoration: none | overline (|) underline (|) line-through  \n",
    "text-indent: величина| %  \n",
    "text-transform: none | capitalize | uppercase | lowercase  \n",
    "letter-spacing: normal | величина  \n",
    "word-spacing: normal | величина  \n",
    "vertical-align: sub | super  \n",
    "line-height: normal | величина | %  \n",
    "white-space: normal | pre | nowrap"
   ]
  },
  {
   "cell_type": "markdown",
   "metadata": {},
   "source": [
    "##### Свойства цвета и фона\n",
    "color: цвет  \n",
    "background-color: цвет | transparent  \n",
    "background-image: none | URL  \n",
    "background-image: url(“fon.gif”)  \n",
    "background-position:  \n",
    "top | bottom| left | right | center | величина | %\n",
    "background-position: top left  \n",
    "background-repeat: repeat | repeat-x | repeat-y | no-repeat  \n",
    "background-attachment: fixed | scroll  \n",
    "background:  \n",
    "color (|) image (|) repeat (|) attachment (|) position  "
   ]
  },
  {
   "cell_type": "markdown",
   "metadata": {},
   "source": [
    "##### Лабораторная работа - 5.2\n",
    "##### Списки"
   ]
  },
  {
   "cell_type": "markdown",
   "metadata": {},
   "source": [
    "##### Маркированный список"
   ]
  },
  {
   "cell_type": "code",
   "execution_count": 35,
   "metadata": {},
   "outputs": [
    {
     "data": {
      "text/html": [
       "\n",
       "<ul style = \"list-style-type: none\">\n",
       "<li>Пункт списка</li>\n",
       "<li>Пункт списка</li>\n",
       "<li>Пункт списка</li>\n",
       "<li>Пункт списка</li>\n",
       "</ul>\n"
      ],
      "text/plain": [
       "<IPython.core.display.HTML object>"
      ]
     },
     "execution_count": 35,
     "metadata": {},
     "output_type": "execute_result"
    }
   ],
   "source": [
    "from IPython.display import HTML\n",
    "# Unordered list\n",
    "# CSS свойство элемента UL\n",
    "# list-style-type: none | disc | circle | square\n",
    "form = \"\"\"\n",
    "<ul style = \"list-style-type: none\">\n",
    "<li>Пункт списка</li>\n",
    "<li>Пункт списка</li>\n",
    "<li>Пункт списка</li>\n",
    "<li>Пункт списка</li>\n",
    "</ul>\n",
    "\"\"\"\n",
    "HTML(form)"
   ]
  },
  {
   "cell_type": "markdown",
   "metadata": {},
   "source": [
    "##### Нумерованный список"
   ]
  },
  {
   "cell_type": "code",
   "execution_count": 37,
   "metadata": {},
   "outputs": [
    {
     "data": {
      "text/html": [
       "\n",
       "<ol style = \"list-style-type: lower-roman\">\n",
       "<li>Пункт списка</li>\n",
       "<li>Пункт списка</li>\n",
       "<li>Пункт списка</li>\n",
       "<li>Пункт списка</li>\n",
       "</ol>\n"
      ],
      "text/plain": [
       "<IPython.core.display.HTML object>"
      ]
     },
     "execution_count": 37,
     "metadata": {},
     "output_type": "execute_result"
    }
   ],
   "source": [
    "from IPython.display import HTML\n",
    "# Unordered list\n",
    "# CSS свойство элемента UL\n",
    "# list-style-type: none | decimal | lower-alpha | upper-alpha | lower-roman | upper-roman\n",
    "form = \"\"\"\n",
    "<ol style = \"list-style-type: lower-roman\">\n",
    "<li>Пункт списка</li>\n",
    "<li>Пункт списка</li>\n",
    "<li>Пункт списка</li>\n",
    "<li>Пункт списка</li>\n",
    "</ol>\n",
    "\"\"\"\n",
    "HTML(form)"
   ]
  },
  {
   "cell_type": "markdown",
   "metadata": {},
   "source": [
    "##### Список определений\n"
   ]
  },
  {
   "cell_type": "code",
   "execution_count": 41,
   "metadata": {},
   "outputs": [
    {
     "data": {
      "text/html": [
       "\n",
       "<dl style = \"list-style-type: lower-roman\">\n",
       "    <dt>Первый термин</dt>\n",
       "        <dd>Описание термина</dd>\n",
       "        <dd>Описание термина</dd>\n",
       "    <dt>Второй термин</dt>\n",
       "    <dt>Третий термин</dt>\n",
       "        <dd>Описание термина</dd>\n",
       "</dl>\n"
      ],
      "text/plain": [
       "<IPython.core.display.HTML object>"
      ]
     },
     "execution_count": 41,
     "metadata": {},
     "output_type": "execute_result"
    }
   ],
   "source": [
    "from IPython.display import HTML\n",
    "# Definition list\n",
    "form = \"\"\"\n",
    "<dl>\n",
    "    <dt>Первый термин</dt>\n",
    "        <dd>Описание термина</dd>\n",
    "        <dd>Описание термина</dd>\n",
    "    <dt>Второй термин</dt>\n",
    "    <dt>Третий термин</dt>\n",
    "        <dd>Описание термина</dd>\n",
    "</dl>\n",
    "\"\"\"\n",
    "HTML(form)"
   ]
  },
  {
   "cell_type": "markdown",
   "metadata": {},
   "source": [
    "##### Лабораторная работа - 6\n",
    "##### Смешанные списки\n",
    "##### CSS свойства для списков"
   ]
  },
  {
   "cell_type": "markdown",
   "metadata": {},
   "source": [
    "list-style-position: outside | inside  \n",
    "list-style-image: none | URL  \n",
    "list-style: type (|) position (|) image  \n",
    "list-style: none inside url(‘point.gif’)  "
   ]
  },
  {
   "cell_type": "markdown",
   "metadata": {},
   "source": [
    "##### Таблицы\n",
    "##### Темы модуля\n",
    "##### Основные элементы таблицы\n",
    "##### Объединение ячеек\n",
    "##### Заголовок"
   ]
  },
  {
   "cell_type": "code",
   "execution_count": 43,
   "metadata": {},
   "outputs": [
    {
     "data": {
      "text/html": [
       "\n",
       "<table>\n",
       "\t<tr>\n",
       "\t\t<th>1</th>\n",
       "\t\t<th>2</th>\n",
       "\t\t<th>3</th>\n",
       "\t\t<th>4</th>\n",
       "\t\t<th>5</th>\n",
       "\t</tr>\n",
       "\t<tr>\n",
       "\t\t<td>11</td>\n",
       "\t\t<td>12</td>\n",
       "\t\t<td>13</td>\n",
       "\t\t<td>14</td>\n",
       "\t\t<td>15</td>\n",
       "\t</tr>\n",
       "\t<tr>\n",
       "\t\t<td>21</td>\n",
       "\t\t<td>22</td>\n",
       "\t\t<td>23</td>\n",
       "\t\t<td>24</td>\n",
       "\t\t<td>25</td>\n",
       "\t</tr>\n",
       "\t<tr>\n",
       "\t\t<td></td>\n",
       "\t\t<td></td>\n",
       "\t\t<td></td>\n",
       "\t\t<td></td>\n",
       "\t\t<td></td>\n",
       "\t</tr>\n",
       "</table>\n"
      ],
      "text/plain": [
       "<IPython.core.display.HTML object>"
      ]
     },
     "execution_count": 43,
     "metadata": {},
     "output_type": "execute_result"
    }
   ],
   "source": [
    "from IPython.display import HTML\n",
    "# \n",
    "form = \"\"\"\n",
    "<table>\n",
    "\t<tr>\n",
    "\t\t<th>1</th>\n",
    "\t\t<th>2</th>\n",
    "\t\t<th>3</th>\n",
    "\t\t<th>4</th>\n",
    "\t\t<th>5</th>\n",
    "\t</tr>\n",
    "\t<tr>\n",
    "\t\t<td>11</td>\n",
    "\t\t<td>12</td>\n",
    "\t\t<td>13</td>\n",
    "\t\t<td>14</td>\n",
    "\t\t<td>15</td>\n",
    "\t</tr>\n",
    "\t<tr>\n",
    "\t\t<td>21</td>\n",
    "\t\t<td>22</td>\n",
    "\t\t<td>23</td>\n",
    "\t\t<td>24</td>\n",
    "\t\t<td>25</td>\n",
    "\t</tr>\n",
    "\t<tr>\n",
    "\t\t<td></td>\n",
    "\t\t<td></td>\n",
    "\t\t<td></td>\n",
    "\t\t<td></td>\n",
    "\t\t<td></td>\n",
    "\t</tr>\n",
    "</table>\n",
    "\"\"\"\n",
    "HTML(form)"
   ]
  },
  {
   "cell_type": "markdown",
   "metadata": {},
   "source": [
    "##### CSS свойства элементов таблиц"
   ]
  },
  {
   "cell_type": "markdown",
   "metadata": {},
   "source": [
    "border: величина тип цвет  \n",
    "border: 1px solid black  \n",
    "тип: none | solid | dotted | dashed | double | …  \n",
    "width: величина  \n",
    "height: величина  \n",
    "padding: величина  \n",
    "margin: величина  \n",
    "empty-cells: show | hide  \n",
    "border-spacing: величина величина  \n",
    "border-collapse: collapse | separate  \n",
    "table-layout: auto | fixed"
   ]
  },
  {
   "cell_type": "markdown",
   "metadata": {},
   "source": [
    "##### Дополнительные элементы таблицы"
   ]
  },
  {
   "cell_type": "code",
   "execution_count": 50,
   "metadata": {},
   "outputs": [
    {
     "data": {
      "text/html": [
       "\n",
       "<table>\n",
       "<caption>Заголовок</caption>\n",
       "        <tr>\n",
       "\t\t<th>1</th>\n",
       "\t\t<th>2</th>\n",
       "\t\t<th>3</th>\n",
       "\t\t<th>4</th>\n",
       "\t\t<th>5</th>\n",
       "\t</tr>\n",
       "\t<tr>\n",
       "\t\t<td colspan=\"2\">aaaa11</td>\n",
       "\t\t<td>12</td>\n",
       "\t\t<td rowspan=\"2\">13</td>\n",
       "\t\t<td>14</td>\n",
       "\t</tr>\n",
       "\t<tr>\n",
       "\t\t<td>21</td>\n",
       "\t\t<td>22</td>\n",
       "\t\t<td>23</td>\n",
       "\t\t<td>24</td>\n",
       "\t</tr>\n",
       "\t<tr>\n",
       "\t\t<td></td>\n",
       "\t\t<td></td>\n",
       "\t\t<td></td>\n",
       "\t\t<td></td>\n",
       "\t\t<td></td>\n",
       "\t</tr>\n",
       "</table>\n"
      ],
      "text/plain": [
       "<IPython.core.display.HTML object>"
      ]
     },
     "execution_count": 50,
     "metadata": {},
     "output_type": "execute_result"
    }
   ],
   "source": [
    "from IPython.display import HTML\n",
    "# caption-side: top | bottom| left | right\n",
    "form = \"\"\"\n",
    "<table>\n",
    "<caption>Заголовок</caption>\n",
    "        <tr>\n",
    "\t\t<th>1</th>\n",
    "\t\t<th>2</th>\n",
    "\t\t<th>3</th>\n",
    "\t\t<th>4</th>\n",
    "\t\t<th>5</th>\n",
    "\t</tr>\n",
    "\t<tr>\n",
    "\t\t<td colspan=\"2\">aaaa11</td>\n",
    "\t\t<td>12</td>\n",
    "\t\t<td rowspan=\"2\">13</td>\n",
    "\t\t<td>14</td>\n",
    "\t</tr>\n",
    "\t<tr>\n",
    "\t\t<td>21</td>\n",
    "\t\t<td>22</td>\n",
    "\t\t<td>23</td>\n",
    "\t\t<td>24</td>\n",
    "\t</tr>\n",
    "\t<tr>\n",
    "\t\t<td></td>\n",
    "\t\t<td></td>\n",
    "\t\t<td></td>\n",
    "\t\t<td></td>\n",
    "\t\t<td></td>\n",
    "\t</tr>\n",
    "</table>\n",
    "\"\"\"\n",
    "HTML(form)"
   ]
  },
  {
   "cell_type": "markdown",
   "metadata": {},
   "source": [
    "##### Полезные псевдоклассы в CSS3\n",
    ":nth-of-type(odd | even | число | выражение)  \n",
    ":nth-last-of-type(odd | even | число | выражение)  \n",
    ":nth-child(odd | even | число | выражение)  \n",
    ":nth-last-child(odd | even | число | выражение)  \n",
    "Примеры  a\n",
    "tr:nth-of-type(even)  \n",
    "tr:nth-last-of-type(odd)  \n",
    "tr:nth-child(n+2)  \n",
    "tr:nth-last-child(2)  \n",
    "tr:nth-child(2n+4)  \n",
    "tr:nth-last-child(-n+3)  "
   ]
  },
  {
   "cell_type": "markdown",
   "metadata": {},
   "source": [
    "##### Лабораторная работа - 7\n",
    "##### Группировка по блокам"
   ]
  },
  {
   "cell_type": "code",
   "execution_count": 51,
   "metadata": {},
   "outputs": [
    {
     "data": {
      "text/html": [
       "\n",
       "<table>\n",
       "\t<thead>\n",
       "\t\t<tr>\n",
       "\t\t\t<td>11</td>\n",
       "\t\t\t<td>12</td>\n",
       "\t\t\t<td>13</td>\n",
       "\t\t</tr>\n",
       "\t</thead>\n",
       "\t<tfoot>\n",
       "\t\t<tr>\n",
       "\t\t\t<td>21</td>\n",
       "\t\t\t<td>22</td>\n",
       "\t\t\t<td>23</td>\n",
       "\t\t</tr>\n",
       "\t</tfoot>\n",
       "\t<tbody>\n",
       "\t\t<tr>\n",
       "\t\t\t<td>31</td>\n",
       "\t\t\t<td>32</td>\n",
       "\t\t\t<td>33</td>\n",
       "\t\t</tr>\n",
       "\t</tbody>\n",
       "</table>\n"
      ],
      "text/plain": [
       "<IPython.core.display.HTML object>"
      ]
     },
     "execution_count": 51,
     "metadata": {},
     "output_type": "execute_result"
    }
   ],
   "source": [
    "from IPython.display import HTML\n",
    "# \n",
    "form = \"\"\"\n",
    "<table>\n",
    "\t<thead>\n",
    "\t\t<tr>\n",
    "\t\t\t<td>11</td>\n",
    "\t\t\t<td>12</td>\n",
    "\t\t\t<td>13</td>\n",
    "\t\t</tr>\n",
    "\t</thead>\n",
    "\t<tfoot>\n",
    "\t\t<tr>\n",
    "\t\t\t<td>21</td>\n",
    "\t\t\t<td>22</td>\n",
    "\t\t\t<td>23</td>\n",
    "\t\t</tr>\n",
    "\t</tfoot>\n",
    "\t<tbody>\n",
    "\t\t<tr>\n",
    "\t\t\t<td>31</td>\n",
    "\t\t\t<td>32</td>\n",
    "\t\t\t<td>33</td>\n",
    "\t\t</tr>\n",
    "\t</tbody>\n",
    "</table>\n",
    "\"\"\"\n",
    "HTML(form)"
   ]
  },
  {
   "cell_type": "code",
   "execution_count": 42,
   "metadata": {},
   "outputs": [
    {
     "data": {
      "text/html": [
       "\n",
       "\n"
      ],
      "text/plain": [
       "<IPython.core.display.HTML object>"
      ]
     },
     "execution_count": 42,
     "metadata": {},
     "output_type": "execute_result"
    }
   ],
   "source": [
    "from IPython.display import HTML\n",
    "# \n",
    "form = \"\"\"\n",
    "\n",
    "\"\"\"\n",
    "HTML(form)"
   ]
  },
  {
   "cell_type": "markdown",
   "metadata": {},
   "source": [
    "##### Группировка по колонкам"
   ]
  },
  {
   "cell_type": "code",
   "execution_count": 56,
   "metadata": {},
   "outputs": [
    {
     "data": {
      "text/html": [
       "\n",
       "<table>\n",
       "<colgroup span=\"3\" />\n",
       "<colgroup span=\"2\" width=\"100\" />\n",
       "<colgroup span=\"5\" width=\"50\" /> \n",
       "<caption>Заголовок</caption>\n",
       "        <tr>\n",
       "\t\t<th>1</th>\n",
       "\t\t<th>2</th>\n",
       "\t\t<th>3</th>\n",
       "\t\t<th>4</th>\n",
       "\t\t<th>5</th>\n",
       "\t</tr>\n",
       "\t<tr>\n",
       "\t\t<td>11</td>\n",
       "\t\t<td>12</td>\n",
       "\t\t<td>13</td>\n",
       "\t\t<td>14</td>\n",
       "\t\t<td>15</td>\n",
       "\t</tr>\n",
       "\t<tr>\n",
       "\t\t<td>21</td>\n",
       "\t\t<td>22</td>\n",
       "\t\t<td>23</td>\n",
       "\t\t<td>24</td>\n",
       "\t\t<td>25</td>\n",
       "\t</tr>\n",
       "\t<tr>\n",
       "\t\t<td></td>\n",
       "\t\t<td></td>\n",
       "\t\t<td></td>\n",
       "\t\t<td></td>\n",
       "\t\t<td></td>\n",
       "\t</tr>\n",
       "</table>\n"
      ],
      "text/plain": [
       "<IPython.core.display.HTML object>"
      ]
     },
     "execution_count": 56,
     "metadata": {},
     "output_type": "execute_result"
    }
   ],
   "source": [
    "from IPython.display import HTML\n",
    "# \n",
    "form = \"\"\"\n",
    "<table>\n",
    "<colgroup span=\"3\" />\n",
    "<colgroup span=\"2\" width=\"100\" />\n",
    "<colgroup span=\"5\" width=\"50\" /> \n",
    "<caption>Заголовок</caption>\n",
    "        <tr>\n",
    "\t\t<th>1</th>\n",
    "\t\t<th>2</th>\n",
    "\t\t<th>3</th>\n",
    "\t\t<th>4</th>\n",
    "\t\t<th>5</th>\n",
    "\t</tr>\n",
    "\t<tr>\n",
    "\t\t<td>11</td>\n",
    "\t\t<td>12</td>\n",
    "\t\t<td>13</td>\n",
    "\t\t<td>14</td>\n",
    "\t\t<td>15</td>\n",
    "\t</tr>\n",
    "\t<tr>\n",
    "\t\t<td>21</td>\n",
    "\t\t<td>22</td>\n",
    "\t\t<td>23</td>\n",
    "\t\t<td>24</td>\n",
    "\t\t<td>25</td>\n",
    "\t</tr>\n",
    "\t<tr>\n",
    "\t\t<td></td>\n",
    "\t\t<td></td>\n",
    "\t\t<td></td>\n",
    "\t\t<td></td>\n",
    "\t\t<td></td>\n",
    "\t</tr>\n",
    "</table>\n",
    "\"\"\"\n",
    "HTML(form)"
   ]
  },
  {
   "cell_type": "markdown",
   "metadata": {},
   "source": [
    "```\n",
    "<table>  \n",
    "<colgroup span=\"5\" >  \n",
    "<col span=\"2\" width=\"200\" />  \n",
    "<col span=\"3\" align=\"center\" />  \n",
    "</colgroup>  \n",
    "<colgroup span=\"4\" >  \n",
    "<col width=\"100\" />  \n",
    "<col span=\"3\" valign=\"top\" />   \n",
    "</colgroup>  \n",
    "```"
   ]
  },
  {
   "cell_type": "markdown",
   "metadata": {},
   "source": [
    "##### Фреймы\n",
    "##### Темы модуля\n",
    "##### История фреймов\n",
    "##### Плавающие фреймы"
   ]
  },
  {
   "cell_type": "markdown",
   "metadata": {},
   "source": [
    "```\n",
    "<iframe src=“content.html”></iframe>  \n",
    "Атрибуты\n",
    "    name\n",
    "    scrolling  \n",
    "Ссылки на фрейм\n",
    "    <iframe src=“blank.html” name=“menu”>\n",
    "    <a src=“test.html” target=“menu”>\n",
    "```"
   ]
  },
  {
   "cell_type": "markdown",
   "metadata": {},
   "source": [
    "##### Фреймы и гиперссылки\n",
    "##### Лабораторная работа - 8\n",
    "##### Формы\n",
    "##### Темы модуля\n",
    "##### Что такое веб-формы?\n",
    "```\n",
    "<form>\n",
    "    Элементы формы\n",
    "</form>\n",
    "Атрибуты\n",
    "    action=“http://site.ru/handler/”\n",
    "    method=“GET”\n",
    "    enctype=“application/x-www-form-urlencoded”\n",
    "    target=“_blank”\n",
    "```"
   ]
  },
  {
   "cell_type": "markdown",
   "metadata": {},
   "source": [
    "##### Элемент form\n",
    "##### Текстовые поля и кнопки\n",
    "```\n",
    "<input type=“text” name=“login” />  \n",
    "<input type=“password” name=“secret” />\n",
    "\tvalue=“Текст по умoлчанию”\n",
    "\tsize=“20”\n",
    "\tmaxlength=“50”  \n",
    "<input type=“submit” value=“Отправить” />  \n",
    "<input type=“reset” value=“Очистить” />  \n",
    "<input type=“button” value=“Кнопка” />  \n",
    "<input type=“image” src=“button.gif” />\n",
    "```"
   ]
  },
  {
   "cell_type": "markdown",
   "metadata": {},
   "source": [
    "##### Элементы выбора \n",
    "```\n",
    "<input type=“checkbox” name=“agree” />\n",
    "\tvalue=“yes”\n",
    "\tchecked=“checked”  \n",
    "<input type=“radio” name=“agree”\n",
    "checked=“checked” value=“0” />\n",
    "<input type=“radio” name=“agree”\n",
    "value=“1” />  \n",
    "<input type=“checkbox” name=“chk” id=“X” />\n",
    "<label for=“X”>Вы уверены?</label>\n",
    "```"
   ]
  },
  {
   "cell_type": "markdown",
   "metadata": {},
   "source": [
    "##### Списки\n",
    "```\n",
    "<select name=“books”>\n",
    "<option>HTML</option>\n",
    "</select>  \n",
    "Атрибуты option\n",
    "\tvalue=“1”\n",
    "\tselected=“selected”  \n",
    "Атрибуты select\n",
    "\tsize=“3”\n",
    "\tmultiple=“multiple”  \n",
    "<optgroup label=“English”>\n",
    "<option>HTML</option>\n",
    "</optgroup>\n",
    "```"
   ]
  },
  {
   "cell_type": "markdown",
   "metadata": {},
   "source": [
    "```\n",
    "<textarea name=\"text\" cols=\"10\" rows=\"5\">\n",
    "Какой-то текст\n",
    "</textarea>  \n",
    "<input type=\"file\" name=\"upload\" />  \n",
    "<input type=\"hidden\" name=\"x\" value=\"10\" />  \n",
    "<fieldset>\n",
    "<legend>Ваши данные</legend>\n",
    "<input type=\"text\" name=\"login\" />\n",
    "\n",
    "</fieldset>\n",
    "\n",
    "disabled=“disabled”  \n",
    "readonly=“readonly”  \n",
    "tabindex=“1”  \n",
    "accesskey=“q”\n",
    "\n",
    "```"
   ]
  },
  {
   "cell_type": "markdown",
   "metadata": {},
   "source": [
    "```\n",
    "number (min=\"1\" max=\"10\" step=\"2\")  \n",
    "range (min=\"1\" max=\"10\" step=\"2\")  \n",
    "datetime  \n",
    "date  \n",
    "time  \n",
    "month  \n",
    "week  \n",
    "color  \n",
    "email  \n",
    "url  \n",
    "search  \n",
    "tel\n",
    "```"
   ]
  },
  {
   "cell_type": "markdown",
   "metadata": {},
   "source": [
    "##### Атрибуты элементов формы\n",
    "##### Элементы и их атрибуты в HTML 5\n",
    "```\n",
    "autofocus\n",
    "\tautofocus  \n",
    "placeholder\n",
    "\tстрока  \n",
    "autocomplete\n",
    "\ton | off  \n",
    "required\n",
    "\trequired  \n",
    "pattern\n",
    "\tрегулярное выражение  \n",
    "form\n",
    "\tзначение атрибута id элемента form\n",
    "```"
   ]
  },
  {
   "cell_type": "markdown",
   "metadata": {},
   "source": [
    "##### Редактируемый список\n",
    "```\n",
    "<datalist id=\"browsers\" >\n",
    "<option value=\"Internet Explorer\" />\n",
    "<option value=\"Fire Fox\" />\n",
    "<option value=\"Chrome\" />\n",
    "<option value=\"Opera\" />\n",
    "<option value=\"Safari\" />\n",
    "</datalist>\n",
    "\n",
    "<input list=\"browsers\" />\n",
    "```"
   ]
  },
  {
   "cell_type": "markdown",
   "metadata": {},
   "source": [
    "##### Лабораторная работа - 9\n",
    "##### Использование CSS для макетирования\n",
    "##### Оформление границ элемента\n",
    "```\n",
    "border: величина тип цвет\n",
    "\tborder: 1px solid black\n",
    "\tborder-width: величина | % | (thin | medium | thick)\n",
    "\tborder-style: none | solid | dotted | dashed | double |\n",
    "groove | ridge | inset | outset\n",
    "\tborder-color: цвет\n",
    "\tborder-top- (width | style | color)\n",
    "\tborder-right- (width | style | color)\n",
    "\tborder-left- (width | style | color)\n",
    "\tborder-bottom- (width | style | color)\n",
    "```"
   ]
  },
  {
   "cell_type": "markdown",
   "metadata": {},
   "source": [
    "##### Границы с закругленными краями\n",
    "```\n",
    "border-top-left-radius: величина | %  \n",
    "border-top-right-radius: величина | %  \n",
    "border-bottom-left-radius: величина | %  \n",
    "border-bottom-right-radius: величина | %  \n",
    "border-radius: 20px  \n",
    "border-radius: 20px 10px  \n",
    "border-radius: 20px 15px 10px  \n",
    "border-radius: 20px 10px 20px 10px  \n",
    "border-radius: 30px/20px\n",
    "```"
   ]
  },
  {
   "cell_type": "markdown",
   "metadata": {},
   "source": [
    "##### Внутренние отступы элемента\n",
    "```\n",
    "padding-top: величина | %  \n",
    "padding-right: величина | %  \n",
    "padding-bottom: величина | %  \n",
    "padding-left: величина | %  \n",
    "padding: 20px  \n",
    "padding: 20px 10px  \n",
    "padding: 20px 15px 10px  \n",
    "padding: 20px 10px 20px 10px\n",
    "```"
   ]
  },
  {
   "cell_type": "markdown",
   "metadata": {},
   "source": [
    "##### Наружные отступы элемента\n",
    "```\n",
    "margin-top: величина | % | auto  \n",
    "margin-right: величина | % | auto  \n",
    "margin-bottom: величина | %| auto  \n",
    "margin-left: величина | % | auto  \n",
    "margin: 20px  \n",
    "margin: 20px 10px  \n",
    "margin: 20px 15px 10px  \n",
    "margin: 20px 10px 20px 10px  \n",
    "margin: 20px auto\n",
    "```"
   ]
  },
  {
   "cell_type": "markdown",
   "metadata": {},
   "source": [
    "##### Размеры элемента\n",
    "```\n",
    "width: величина | %  \n",
    "height: величина | %  \n",
    "min-width: величина | %  \n",
    "max-width: величина | % | none  \n",
    "min-height: величина | % |  \n",
    "max-height: величина | % | none  \n",
    "overflow: visible | hidden | scroll | auto  \n",
    "overflow-x: visible | hidden | scroll | auto  \n",
    "overflow-y: visible | hidden | scroll | auto\n",
    "```"
   ]
  },
  {
   "cell_type": "markdown",
   "metadata": {},
   "source": [
    "##### Позиционирование элемента\n",
    "```\n",
    "float: left | right  \n",
    "clear: left | right | both  \n",
    "position: static | relative | absolute | fixed  \n",
    "top: величина | % | auto  \n",
    "right: величина | % | auto  \n",
    "bottom: величина | % | auto  \n",
    "left: величина | % | auto  \n",
    "z-index: число | auto\n",
    "```"
   ]
  },
  {
   "cell_type": "markdown",
   "metadata": {},
   "source": [
    "##### Видимость элемента\n",
    "```\n",
    "visibility: visible | hidden\n",
    "    display: none | block | inline | inline-block | inline-table\n",
    "```"
   ]
  },
  {
   "cell_type": "markdown",
   "metadata": {},
   "source": [
    "##### Лабораторная работа - 10\n",
    "##### Дополнительные возможности HTML и CSS\n",
    "##### Темы модуля\n",
    "##### Импорт CSS\n",
    "```\n",
    "@import “style.css”;  \n",
    "@import url(“style.css”);  \n",
    "@import “style.css” screen;  \n",
    "@import url(“style.css”) print;\n",
    "```"
   ]
  },
  {
   "cell_type": "markdown",
   "metadata": {},
   "source": [
    "##### Типы носителей\n",
    "'''\n",
    "screen  \n",
    "print  \n",
    "handled  \n",
    "projection  \n",
    "tv  \n",
    "aural  \n",
    "braille  \n",
    "all\n",
    "'''"
   ]
  },
  {
   "cell_type": "markdown",
   "metadata": {},
   "source": [
    "##### Стилидля различных типов носителей\n",
    "```\n",
    "<link type=“text/css” rel=“stylesheet”\n",
    "    href=“main.css” media=“screen, handled” />  \n",
    "<link type=“text/css” rel=“stylesheet”\n",
    "    href=“print.css” media=“print” />  \n",
    "@media screen{\n",
    "    /* правила для отображения на экране */\n",
    "}  \n",
    "@media print{\n",
    "    /* правила для вывода на принтер */\n",
    "}\n",
    "```"
   ]
  },
  {
   "cell_type": "markdown",
   "metadata": {},
   "source": [
    "##### Свойства CSSдля печати страниц\n",
    "```\n",
    "@page{\n",
    "    margin: 5cm 1cm 1cm 2cm\n",
    "}  \n",
    "@page:first  \n",
    "@page:left  \n",
    "@page:right  \n",
    "page-break-after: always | auto | avoid | left | right  \n",
    "page-break-after: always | auto | avoid | left | right  \n",
    "page-break-inside: auto | avoid\n",
    "```"
   ]
  },
  {
   "cell_type": "markdown",
   "metadata": {},
   "source": [
    "##### Лабораторная работа - 10\n",
    "##### Свойства курсора\n",
    "```\n",
    "cursor  \n",
    "\tauto  \n",
    "\tdefault  \n",
    "\tcrosshair  \n",
    "\tpointer  \n",
    "\tmove  \n",
    "\ttext  \n",
    "\twait  \n",
    "\te-resize (ne-, nw-, n-, se-, sw-, s-, w-)  \n",
    "\tизображение\n",
    "```"
   ]
  },
  {
   "cell_type": "markdown",
   "metadata": {},
   "source": [
    "##### Использование внешних объектов\n",
    "```\n",
    "<object type=“application/x-shockwave-flash”\n",
    "        data=“film.swf”\n",
    "        width=“300” height=“200”>\n",
    "    <param name=“quality” value=“high” />\n",
    "    <param name=“scale” value=“exactfit” />\n",
    "</object>\n",
    "<embed type=“application/x-shockwave-flash”\n",
    "    src=“film.swf”\n",
    "    width=“300” height=“200”\n",
    "    pluginspage=“http://adobe.com/...” />\n",
    "```"
   ]
  },
  {
   "cell_type": "markdown",
   "metadata": {},
   "source": [
    "##### Использование аудио-и видео-файлов\n",
    "```\n",
    "<audio src=\"music.mp3\" controls></audio>  \n",
    "\t<audio autoplay loop preload=\"auto\">\n",
    "\t<source src=\"music.mp3\" type=\"audio/mpeg\"/>\n",
    "\t<source src=\"music.ogg\" type=\"audio/ogg\"/>\n",
    "</audio>  \n",
    "<video src=\"film.mp4\" preload=\"none\"></video>  \n",
    "<video width=\"300\" height=\"200\" autoplay>\n",
    "\t<source src=\"film.mp4\" type=\"video/mpeg\"/>\n",
    "\t<source src=\"film.ogv\" type=\"video/ogg\"/>\n",
    "\t<p>Неизвестный формат</p>\n",
    "</video>\n",
    "```"
   ]
  },
  {
   "cell_type": "markdown",
   "metadata": {},
   "source": [
    "##### Обзор возможностей HTML 5\n",
    "http://html5test.com/  \n",
    "```\n",
    "Специфика браузеров  \n",
    "-moz-box-shadow  \n",
    "-webkit-box-shadow  \n",
    "-o-  \n",
    "-ms-  \n",
    "Canvas  \n",
    "Web Storage  \n",
    "Offline application API  \n",
    "Drag and Drop API\n",
    "```"
   ]
  },
  {
   "cell_type": "markdown",
   "metadata": {},
   "source": [
    "##### Мета-информация на странице\n",
    "##### Темы модуля\n",
    "##### Использование мета-информации\n",
    "```\n",
    "<meta name=“author”\n",
    "content=“Вася Пупкин” />  \n",
    "<meta name=“generator”\n",
    "content=“Notepad++” />  \n",
    "<meta name=“yandex-verification”\n",
    "content=“786f7d0f536b732c” />  \n",
    "<meta name=“google-site-verification”\n",
    "content=“rCLLGGTVdEiGe+DXL=” />\n",
    "```"
   ]
  },
  {
   "cell_type": "markdown",
   "metadata": {},
   "source": [
    "##### Элемент meta и его атрибуты\n",
    "##### Поясняющая мета-информация\n",
    "##### Мета-информация для роботов\n",
    "```\n",
    "<meta name=“keywords”\n",
    "content=“...” />  \n",
    "<meta name=“description”\n",
    "content=“...” />  \n",
    "<meta name=“robots”\n",
    "content=“index, follow” />  \n",
    "<meta name=“robots”\n",
    "content=“noindex, nofollow” />  \n",
    "<meta name=“googlebot”\n",
    "content=“noarchive, nosnippet />\n",
    "```"
   ]
  },
  {
   "cell_type": "markdown",
   "metadata": {},
   "source": [
    "##### Эмуляция заголовков ответа сервера\n",
    "```\n",
    "<meta\n",
    "http-equiv=\"Refresh\"\n",
    "content=\"60\" />  \n",
    "<meta\n",
    "http-equiv=\"Refresh\"\n",
    "content=\"60; url=http://site.ru\" />  \n",
    "<meta\n",
    "http-equiv=\"Content-Type\"\n",
    "content=\"text/html; charset=utf-8\"/>\n",
    "```"
   ]
  },
  {
   "cell_type": "markdown",
   "metadata": {},
   "source": [
    "##### Выбор хостинга поддержка сайта\n",
    "##### Хостинг\n",
    "##### Поиск хостера\n",
    "##### Услуги хостера\n",
    "##### Использование FTP-клиента\n",
    "##### Доступ к сайту через проводник Windows\n",
    "##### Что дольше?\n",
    "##### Темы модуля\n",
    "##### Тонкая настройка сайта на стороне сервера\n",
    "Хотите знать:  \n",
    "Что стоит за аббревиатурой «HTTP»?  \n",
    "Основные директивы настройки сервера?  \n",
    "Как конфигурировать локальный сервер?  \n",
    "Как настраивать сообщения об ошибках?  \n",
    "Как управлять заголовками ответа сервера?  \n",
    "Как управлять кэшированием контента?  \n",
    "Web-мастеринг.\n",
    "##### Серверное web-программирование"
   ]
  },
  {
   "cell_type": "markdown",
   "metadata": {},
   "source": [
    "##### Динамические элементы на странице\n",
    "Хотите знать:  \n",
    "Как использовать свойства CSS display и visibility  \n",
    "Как проверять данные перед отправкой веб-формы  \n",
    "Как «на лету» изменять содержимое страницы  \n",
    "Как зффективно использовать элемент Canvas  \n",
    "##### JavaScript. Уровень 1. Основы веб-программирования\n",
    "##### JavaScript. Уровень 2. Расширенные возможности"
   ]
  },
  {
   "cell_type": "markdown",
   "metadata": {},
   "source": [
    "##### Динамическое создание контентана сервере\n",
    "Хотите знать:  \n",
    "Как формировать содержимое сайта на\n",
    "стороне сервера?  \n",
    "Как и для чего использовать куки и сеансы?  \n",
    "Как принимать данные от пользователя?  \n",
    "Как хранить информацию в базе данных?  \n",
    "##### PHP. Уровень 1. Основы создания сайтов\n",
    "##### PHP. Уровень 2. Разработка web - сайтов и взаимодействие с MySQL"
   ]
  },
  {
   "cell_type": "markdown",
   "metadata": {},
   "source": [
    "##### Современные способы предоставления информации\n",
    "Хотите знать:  \n",
    "Как передавать и получать данные с сервера\n",
    "без перезагрузки страницы?  \n",
    "Что такое веб-службы и как их использовать?  \n",
    "Что стоит за графическим форматом SVG?\n",
    "##### AJAX. Разработка веб - приложений для Web 2.0\n",
    "##### XML и XSLT. Современные технологии обработки данных для ВЕБ"
   ]
  },
  {
   "cell_type": "markdown",
   "metadata": {},
   "source": [
    "* [HTML и CSS](#HTML-и-CSS)\n",
    "* [Создание сайтов по стандартам W3C](#Создание-сайтов-по-стандартам-W3C)\n",
    "```\n",
    "Введение и основные понятия\n",
    "Анатомия страницы\n",
    "Гиперссылки\n",
    "Изображения\n",
    "CSS. Каскадные таблицы стилей: основные свойства\n",
    "Списки\n",
    "Таблицы\n",
    "Фреймы\n",
    "Формы\n",
    "Использование CSS для макетирования\n",
    "Дополнительные возможности HTML и CSS\n",
    "Мета-информация на странице\n",
    "Выбор хостинга и поддержка сайта\n",
    "Что дальше?\n",
    "```\n",
    "* [Введение и основные понятия](#Введение-и-основные-понятия)\n",
    "* [Текстовые редакторы](#Текстовые-редакторы)\n",
    "* [Эволюция языков разметки. ](#Эволюция-языков-разметки.-)\n",
    "* [Цели и задачи языка HTML](#Цели-и-задачи-языка-HTML)\n",
    "* [Стркуктура HTML-документа](#Стркуктура-HTML-документа)\n",
    "* [HTML-разметка:](#HTML-разметка:)\n",
    "* [Элементы](#Элементы)\n",
    "* [Тэги](#Тэги)\n",
    "* [Основные элементы разметки](#Основные-элементы-разметки)\n",
    "* [Комментарии](#Комментарии)\n",
    "* [Заголовки](#Заголовки)\n",
    "* [Абзац](#Абзац)\n",
    "* [Принудительный разрыв строки](#Принудительный-разрыв-строки)\n",
    "* [Атрибуты элементов](#Атрибуты-элементов)\n",
    "* [Блочная цитата](#Блочная-цитата)\n",
    "* [Авторское форматирование](#Авторское-форматирование)\n",
    "* [Форматирование текста](#Форматирование-текста)\n",
    "* [Специальные символы](#Специальные-символы)\n",
    "* [Лабораторная работа - 1](#Лабораторная-работа---1)\n",
    "* [Анатомия страницы](#Анатомия-страницы)\n",
    "* [Темы модуля](#Темы-модуля)\n",
    "* [Основные сведения о языках разметки:](#Основные-сведения-о-языках-разметки:)\n",
    "* [Что и как мы пишем](#Что-и-как-мы-пишем)\n",
    "* [Типы HTML-документов](#Типы-HTML-документов)\n",
    "* [Лабораторная работа - 2.1](#Лабораторная-работа---2.1)\n",
    "* [ВалидацияHTML-документа](#ВалидацияHTML-документа)\n",
    "* [Структурные элементы разметки](#Структурные-элементы-разметки)\n",
    "* [Лабораторная работа - 2.2](#Лабораторная-работа---2.2)\n",
    "* [Текстовые элементы разметки](#Текстовые-элементы-разметки)\n",
    "* [Гиперссылки](#Гиперссылки)\n",
    "* [Темы модуля](#Темы-модуля)\n",
    "* [Понятие гиперссылок в www](#Понятие-гиперссылок-в-www)\n",
    "* [Внешние и внутренние гиперссылки](#Внешние-и-внутренние-гиперссылки)\n",
    "* [Гиперссылки в новом окне](#Гиперссылки-в-новом-окне)\n",
    "* [Лабораторная работа - 3](#Лабораторная-работа---3)\n",
    "* [Типы адресов в www](#Типы-адресов-в-www)\n",
    "* [Дополнительные атрибуты гиперссылок](#Дополнительные-атрибуты-гиперссылок)\n",
    "* [Изображения](#Изображения)\n",
    "* [Темы модуля](#Темы-модуля)\n",
    "* [Типы изображений используемые в WWW](#Типы-изображений-используемые-в-WWW)\n",
    "* [Вставка изображений на страницу](#Вставка-изображений-на-страницу)\n",
    "* [Атрибуты элемента img](#Атрибуты-элемента-img)\n",
    "* [Новые элементы для избражений](#Новые-элементы-для-избражений)\n",
    "* [Лабораторная работа - 4](#Лабораторная-работа---4)\n",
    "* [CSS. Каскадные таблицы стилей: основные свойства](#CSS.-Каскадные-таблицы-стилей:-основные-свойства)\n",
    "* [Основные понятия CSS](#Основные-понятия-CSS)\n",
    "* [Способы определения стилей](#Способы-определения-стилей)\n",
    "* [Каскадирование](#Каскадирование)\n",
    "* [Наследование](#Наследование)\n",
    "* [Селекторы](#Селекторы)\n",
    "* [Псевдоклассыи псевдоэлементы](#Псевдоклассыи-псевдоэлементы)\n",
    "* [Лабораторная работа - 5.1](#Лабораторная-работа---5.1)\n",
    "* [Свойства шрифтов](#Свойства-шрифтов)\n",
    "* [Свойства текста](#Свойства-текста)\n",
    "* [Свойства цвета и фона](#Свойства-цвета-и-фона)\n",
    "* [Лабораторная работа - 5.2](#Лабораторная-работа---5.2)\n",
    "* [Списки](#Списки)\n",
    "* [Маркированный список](#Маркированный-список)\n",
    "* [Нумерованный список](#Нумерованный-список)\n",
    "* [Список определений](#Список-определений)\n",
    "* [Лабораторная работа - 6](#Лабораторная-работа---6)\n",
    "* [Смешанные списки](#Смешанные-списки)\n",
    "* [CSS свойства для списков](#CSS-свойства-для-списков)\n",
    "* [Таблицы](#Таблицы)\n",
    "* [Темы модуля](#Темы-модуля)\n",
    "* [Основные элементы таблицы](#Основные-элементы-таблицы)\n",
    "* [Объединение ячеек](#Объединение-ячеек)\n",
    "* [Заголовок](#Заголовок)\n",
    "* [CSS свойства элементов таблиц](#CSS-свойства-элементов-таблиц)\n",
    "* [Дополнительные элементы таблицы](#Дополнительные-элементы-таблицы)\n",
    "* [Лабораторная работа - 7](#Лабораторная-работа---7)\n",
    "* [Группировка по блокам](#Группировка-по-блокам)\n",
    "* [Группировка по колонкам](#Группировка-по-колонкам)\n",
    "* [Фреймы](#Фреймы)\n",
    "* [Темы модуля](#Темы-модуля)\n",
    "* [История фреймов](#История-фреймов)\n",
    "* [Плавающие фреймы](#Плавающие-фреймы)\n",
    "* [Фреймы и гиперссылки](#Фреймы-и-гиперссылки)\n",
    "* [Лабораторная работа - 8](#Лабораторная-работа---8)\n",
    "* [Формы](#Формы)\n",
    "* [Темы модуля](#Темы-модуля)\n",
    "* [Что такое веб-формы?](#Что-такое-веб-формы?)\n",
    "* [Элемент form](#Элемент-form)\n",
    "* [Текстовые поля и кнопки](#Текстовые-поля-и-кнопки)\n",
    "* [Элементы выбора ](#Элементы-выбора-)\n",
    "* [Списки](#Списки)\n",
    "* [Атрибуты элементов формы](#Атрибуты-элементов-формы)\n",
    "* [Элементы и их атрибуты в HTML 5](#Элементы-и-их-атрибуты-в-HTML-5)\n",
    "* [Лабораторная работа - 9](#Лабораторная-работа---9)\n",
    "* [Использование CSS для макетирования](#Использование-CSS-для-макетирования)\n",
    "* [Оформление границ элемента](#Оформление-границ-элемента)\n",
    "* [Внутренние отступы элемента](#Внутренние-отступы-элемента)\n",
    "* [Наружные отступы элемента](#Наружные-отступы-элемента)\n",
    "* [Размеры элемента](#Размеры-элемента)\n",
    "* [Позиционирование элемента](#Позиционирование-элемента)\n",
    "* [Видимость элемента](#Видимость-элемента)\n",
    "* [Лабораторная работа - 10](#Лабораторная-работа---10)\n",
    "* [Дополнительные возможности HTML и CSS](#Дополнительные-возможности-HTML-и-CSS)\n",
    "* [Темы модуля](#Темы-модуля)\n",
    "* [Импорт CSS](#Импорт-CSS)\n",
    "* [Стилидля различных типов носителей](#Стилидля-различных-типов-носителей)\n",
    "* [Свойства CSSдля печати страниц](#Свойства-CSSдля-печати-страниц)\n",
    "* [Лабораторная работа - 10](#Лабораторная-работа---10)\n",
    "* [Свойства курсора](#Свойства-курсора)\n",
    "* [Использование внешних объектов](#Использование-внешних-объектов)\n",
    "* [Использование аудио-и видео-файлов](#Использование-аудио-и-видео-файлов)\n",
    "* [Обзор возможностей HTML 5](#Обзор-возможностей-HTML-5)\n",
    "* [Мета-информация на странице](#Мета-информация-на-странице)\n",
    "* [Темы модуля](#Темы-модуля)\n",
    "* [Использование мета-информации](#Использование-мета-информации)\n",
    "* [Элемент meta и его атрибуты](#Элемент-meta-и-его-атрибуты)\n",
    "* [Поясняющая мета-информация](#Поясняющая-мета-информация)\n",
    "* [Мета-информация для роботов](#Мета-информация-для-роботов)\n",
    "* [Эмуляция заголовков ответа сервера](#Эмуляция-заголовков-ответа-сервера)\n",
    "* [Выбор хостинга поддержка сайта](#Выбор-хостинга-поддержка-сайта)\n",
    "* [Хостинг](#Хостинг)\n",
    "* [Поиск хостера](#Поиск-хостера)\n",
    "* [Услуги хостера](#Услуги-хостера)\n",
    "* [Использование FTP-клиента](#Использование-FTP-клиента)\n",
    "* [Доступ к сайту через проводник Windows](#Доступ-к-сайту-через-проводник-Windows)\n",
    "* [Что дольше?](#Что-дольше?)\n",
    "* [Темы модуля](#Темы-модуля)\n",
    "* [Тонкая настройка сайта на стороне сервера](#Тонкая-настройка-сайта-на-стороне-сервера)\n",
    "* [Динамические элементы на странице](#Динамические-элементы-на-странице)\n",
    "* [Динамическое создание контентана сервере](#Динамическое-создание-контентана-сервере)\n",
    "* [Современные способы предоставления информации](#Современные-способы-предоставления-информации)\n"
   ]
  }
 ],
 "metadata": {
  "kernelspec": {
   "display_name": "Python 3",
   "language": "python",
   "name": "python3"
  },
  "language_info": {
   "codemirror_mode": {
    "name": "ipython",
    "version": 3
   },
   "file_extension": ".py",
   "mimetype": "text/x-python",
   "name": "python",
   "nbconvert_exporter": "python",
   "pygments_lexer": "ipython3",
   "version": "3.6.8"
  }
 },
 "nbformat": 4,
 "nbformat_minor": 2
}
