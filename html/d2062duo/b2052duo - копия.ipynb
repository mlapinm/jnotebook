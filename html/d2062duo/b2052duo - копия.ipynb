{
 "metadata": {
  "language_info": {
   "codemirror_mode": {
    "name": "ipython",
    "version": 3
   },
   "file_extension": ".py",
   "mimetype": "text/x-python",
   "name": "python",
   "nbconvert_exporter": "python",
   "pygments_lexer": "ipython3",
   "version": "3.8.5"
  },
  "orig_nbformat": 2,
  "kernelspec": {
   "name": "python3",
   "display_name": "Python 3.8.5 64-bit ('base': conda)"
  },
  "interpreter": {
   "hash": "b3ba2566441a7c06988d0923437866b63cedc61552a5af99d1f4fb67d367b25f"
  }
 },
 "nbformat": 4,
 "nbformat_minor": 2,
 "cells": [
  {
   "cell_type": "code",
   "execution_count": 63,
   "metadata": {},
   "outputs": [
    {
     "output_type": "stream",
     "name": "stdout",
     "text": [
      "The Ugly Duckling.\n\nOn a beautiful summer day a family of ducks is taking a swim while another is enjoying a stroll by the bank.\n\nBut one duck is sitting on her eggs among the tall leaves.\n\nI wonder when my babies are going to come out.\n\nThey are taking so long to hatch.\n\nIt is so lonely no one has the time to visit me.\n\nBut Mommy duck didn’t have to wait too long.\n\nSoon the eggs started cracking and the little ducklings started taking small unsteady steps out of the shells.\n\nQuack quack quack quack.\n\nOooh my babies are so beautiful.\n\nNow come and line up here all of you.\n\nOneTwoThreeFour…FiveHey there should be one more.\n\nMother duck looked around and saw one egg which had not yet hatched I think I will have to sit again on this egg till it hatches.\n\nIt seems pretty large.\n\nSoon the last egg hatched but the duckling that crept out was large and ugly.\n\nThis little fellow doesn’t look like his brothers and sisters.\n\nThe next day Mother Duck leads her brood to the water.\n\nI am proud today that my ducklings are swimming so well.\n\nAnd how well the youngest one is swimming.\n\nCome on kids that’s enough for today.\n\nWe must get to the farm before it turns dark.\n\nThe duck family makes its way to the farmhouse where there are lots of other ducks.\n\nWhat is that strange looking creature doing here.\n\nThe other ducklings are so cute but this one is so big and ugly.\n\nHe is ugly.\n\nWe don’t want him here.\n\nThat’s not a nice thing to say.\n\nHe is still small and I’m sure he will grow up to be beautiful too.\n\nBut the other ducklings continued to bully and make fun of the ugly duckling.\n\nI hope the ducklings stop this nonsense.\n\nI can’t bear to see that poor child looking so sad.\n\nBut as days went by things started becoming worse for the ugly duckling.\n\nWherever he went everyone was mean to him.\n\nHave you ever seen anything uglier than this.\n\nSeeing this creature in the morning my day will also be as ugly as he is.\n\nHaHa…he seems to be getting uglier by the day.\n\nThe Ugly Duckling just wanted to hide somewhere and cry.\n\nEven his brothers and sisters were rude to him.\n\nDon’t come near us.\n\nGo away.\n\nI wish the cat comes and takes you.\n\nMother Duck was very sad to see everyone treat the ugly ducking so badly.\n\nNobody wants to talk to me or play with me because I am ugly.\n\nI will run away from here.\n\nSo the ugly duckling flew over the fence of the farmyard and continued flying till he spotted a large moor.\n\nHe decided to spend the night there.\n\nI am so tired.\n\nI think I will spend the night here.\n\nNext morning the ugly duckling woke up to the sound of loud quacking.\n\nHe opened his eyes and saw a flock of wild ducks.\n\nWho are you.\n\nWhat are you doing here.\n\nCan I please stay here for a while.\n\nI have nowhere to go.\n\nYou are ugly…(a long pause) Stay here but don’t get in our way.\n\nThe Ugly Duckling stayed on the moor for a few days.\n\nHe felt lonely but no one bullied him or hurt him because of his looks.\n\nOne morning the duckling heard a noise like a big bang.\n\nHe lay still too scared to move.\n\nWhen he finally lifted his head and looked around all the other ducks had fled.\n\nThe ugly duckling also fled from the moor as fast as it could.\n\nIt flew as fast as its young wings would take him.\n\nHowever suddenly there was thunder and lightning scaring the little duckling.\n\nI am so wet and cold.\n\nThat cottage there looks warm maybe I can take shelter there.\n\nThe cottage belonged to an old lady who lived with with her tomcat and hen who found the duckling the next morning.\n\nCluck cluck meow meow What is happening here.\n\nWhy are you making so much noise.\n\nWhat is this we have here.\n\nLooks like a duck though a very ugly one.\n"
     ]
    }
   ],
   "source": [
    "import re\n",
    "import json\n",
    "from google_trans_new import google_translator  \n",
    "from deep_translator import GoogleTranslator as google_translator\n",
    "\n",
    "translator = google_translator()  \n",
    "\n",
    "'''\n",
    "\n",
    "'''\n",
    "\n",
    "\n",
    "class Lines:\n",
    "    name = ''\n",
    "    nameWrite = ''\n",
    "    lines = []\n",
    "    rusEns = []\n",
    "    textJson = ''\n",
    "\n",
    "    def __init__(self, name):\n",
    "        self.name = name\n",
    "        self.nextName(self.name)\n",
    "\n",
    "    def makeTextJson(self):\n",
    "        self.translateList()\n",
    "        ljson = []\n",
    "        text = ''\n",
    "        obj1 = { \"ru\": '', \"en\": ''}\n",
    "\n",
    "\n",
    "        for e in self.rusEns:    \n",
    "            obj = obj1.copy()\n",
    "            obj['ru'] = e[1]\n",
    "            obj['en'] = e[0]\n",
    "            # print(e[0])\n",
    "            ljson.append(obj)\n",
    "        \n",
    "\n",
    "        self.textJson = json.dumps([ob for ob in ljson], indent=2, ensure_ascii=False)\n",
    "        \n",
    "\n",
    "        \n",
    "\n",
    "\n",
    "\n",
    "        \n",
    "\n",
    "        pass\n",
    "\n",
    "    def translateList(self):\n",
    "        l = self.lines\n",
    "        ll = self.rusEns\n",
    "        l1 = list(map(lambda x: x.replace('.', '') + '.', l))\n",
    "        text = '\\n\\n'.join(l1)\n",
    "        print(text)\n",
    "        textRu = translator.translate(text, lang_tgt='ru')\n",
    "        textRu = translator.translate(text, target='ru')\n",
    "        lru = textRu.split('.')\n",
    "        count = min(len(l), len(lru))\n",
    "        for i in range(count):\n",
    "            ll.append([self.addBreak(l[i]), lru[i].strip()])\n",
    "\n",
    "\n",
    "        pass\n",
    "\n",
    "\n",
    "    def nextName(self, name):\n",
    "        '''\n",
    "        c2022t.txt => c2022json.txt\n",
    "        '''\n",
    "        name = self.name\n",
    "        name2 = 'c1022json.txt'\n",
    "        match = re.search(r'(^\\w\\d\\d\\d\\d)[a-zA-Z]+', name)\n",
    "        if match and len(match.groups()) > 0:\n",
    "            name2 = name.replace(match[0], match.groups()[0] + 'json')\n",
    "        self.nameWrite = name2\n",
    "\n",
    "    def read(self):\n",
    "        with open(self.name, 'r', encoding='utf8') as file:\n",
    "           for line in file:\n",
    "                 line2 = line.strip()\n",
    "                 line2 = re.sub(\"[.,?!]\", '', line2)\n",
    "                 len(line2) == 0 or self.lines.append(line2)\n",
    "\n",
    "    def write(self, text):\n",
    "        with open(self.nameWrite, 'w', encoding='utf8') as file:\n",
    "            file.write(text)\n",
    "\n",
    "    def writeTo(self, name, text):\n",
    "        with open(name, 'w', encoding='utf8') as file:\n",
    "            file.write(text)\n",
    "\n",
    "\n",
    "    def addBreak(self, text):\n",
    "        '''\n",
    "        doesn't => does n't\n",
    "        '''\n",
    "        text1 = re.sub(\"n't\",  \" n't\", text)\n",
    "        text2 = re.sub(\"[.,?!]\", '', text1)\n",
    "        return text2\n",
    "\n",
    "\n",
    "\n",
    "    pass\n",
    "\n",
    "\n",
    "lines = Lines('c5022m.txt')\n",
    "lines.read()\n",
    "lines.makeTextJson()\n",
    "\n",
    "lines.write(lines.textJson)\n",
    "\n",
    "# print(lines.lines)\n",
    "\n",
    "\n"
   ]
  },
  {
   "cell_type": "code",
   "execution_count": 57,
   "metadata": {},
   "outputs": [],
   "source": [
    "from googletrans import Translator\n",
    "translator = Translator()\n",
    "# result = translator.translate('Mikä on nimesi', src='fi', target='ru')\n",
    "\n"
   ]
  },
  {
   "cell_type": "code",
   "execution_count": 56,
   "metadata": {},
   "outputs": [
    {
     "output_type": "stream",
     "name": "stdout",
     "text": [
      "Я хочу перевести этот текст\n"
     ]
    }
   ],
   "source": [
    "from deep_translator import GoogleTranslator\n",
    "to_translate = 'I want to translate this text'\n",
    "translated = GoogleTranslator(source='auto', target='ru').translate(to_translate)\n",
    "print(translated)\n"
   ]
  },
  {
   "cell_type": "code",
   "execution_count": 55,
   "metadata": {},
   "outputs": [
    {
     "output_type": "stream",
     "name": "stdout",
     "text": [
      "Python 3.8.5\n"
     ]
    }
   ],
   "source": [
    "!python --version\n",
    "# !pip install deep-translator"
   ]
  },
  {
   "source": [
    "[deep_translator](https://medium.com/analytics-vidhya/how-to-translate-text-with-python-9d203139dcf5)  "
   ],
   "cell_type": "markdown",
   "metadata": {}
  }
 ]
}