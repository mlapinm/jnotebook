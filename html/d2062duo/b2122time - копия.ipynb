{
 "metadata": {
  "language_info": {
   "codemirror_mode": {
    "name": "ipython",
    "version": 3
   },
   "file_extension": ".py",
   "mimetype": "text/x-python",
   "name": "python",
   "nbconvert_exporter": "python",
   "pygments_lexer": "ipython3",
   "version": "3.8.5"
  },
  "orig_nbformat": 2,
  "kernelspec": {
   "name": "python3",
   "display_name": "Python 3.8.5 64-bit ('base': conda)"
  },
  "interpreter": {
   "hash": "b3ba2566441a7c06988d0923437866b63cedc61552a5af99d1f4fb67d367b25f"
  }
 },
 "nbformat": 4,
 "nbformat_minor": 2,
 "cells": [
  {
   "cell_type": "code",
   "execution_count": 66,
   "metadata": {
    "tags": []
   },
   "outputs": [
    {
     "output_type": "stream",
     "name": "stdout",
     "text": [
      "06:43\nShe will get hurt\n06:43\nJust because she is a girl\n01:46\ndoesn't mean she has to fear Tofu\n02:49\nGirls also have\n03:50\na lot of courage and strength\n04:53\nDo you know of a girl like that\n"
     ]
    }
   ],
   "source": [
    "import re\n",
    "import json\n",
    "from google_trans_new import google_translator  \n",
    "from deep_translator import GoogleTranslator as google_translator\n",
    "\n",
    "translator = google_translator(source='auto', target='ru')  \n",
    "\n",
    "'''\n",
    "\n",
    "'''\n",
    "\n",
    "\n",
    "class Lines:\n",
    "    name = ''\n",
    "    nameWrite = ''\n",
    "    lines = []\n",
    "    lines2 = [] # копия входных данных\n",
    "    objLines = []\n",
    "    text = \"\"\n",
    "\n",
    "    def __init__(self, name):\n",
    "        self.name = name\n",
    "        self.nextName(self.name)\n",
    "\n",
    "    def makeObj(self):\n",
    "        obj1 = {\"time\":[], \"en\": '', \"ru\": ''}\n",
    "        obj = 0\n",
    "\n",
    "        for line in self.lines:\n",
    "\n",
    "            line = line.strip()\n",
    "\n",
    "            match = re.search(r'(^(\\d\\d):(\\d\\d)$)', line)\n",
    "            if match and len(match.groups()) > 0:\n",
    "\n",
    "                obj = obj1.copy()\n",
    "\n",
    "                l = obj['time'].copy()\n",
    "                l.append(int(match[2])*60+int(match[3]))\n",
    "                obj['time'] = l\n",
    "\n",
    "            else:\n",
    "                line = line.replace('…', '')\n",
    "                obj['en'] = line\n",
    "\n",
    "                self.objLines.append(obj)\n",
    "                pass\n",
    "\n",
    "        prev = self.objLines[0]\n",
    "        for i in range(1, len(self.objLines)):\n",
    "            l = prev['time'].copy()\n",
    "            l.append(self.objLines[i]['time'][0])\n",
    "            prev['time'] = l\n",
    "\n",
    "            prev = self.objLines[i]\n",
    "\n",
    "\n",
    "        self.objLines = self.objLines[:-1]    \n",
    "\n",
    "        pass\n",
    "\n",
    "\n",
    "    def translateList(self):\n",
    "        l = []\n",
    "        for e in self.objLines:\n",
    "            l.append(e['en'])\n",
    "\n",
    "        max = 3600\n",
    "        lall = []\n",
    "        sum = 0\n",
    "        l1 = []\n",
    "        for i in range(len(l)):\n",
    "            e = l[i]\n",
    "            sum += len(e)\n",
    "            l1.append(e)\n",
    "            if sum > max or i == len(l)-1:\n",
    "                lall.append(l1)\n",
    "                sum = 0\n",
    "                l1 = []\n",
    "        ll = []\n",
    "        for e in lall:\n",
    "            self.translateSmall(e, ll)\n",
    "\n",
    "        # print(ll)\n",
    "        pass\n",
    "\n",
    "        k = 0\n",
    "        for e in self.objLines:\n",
    "            e['ru'] = ll[k][1]\n",
    "            k += 1\n",
    "        self.text = json.dumps([ob for ob in self.objLines], indent=2, ensure_ascii=False)\n",
    "\n",
    "\n",
    "    def translateSmall(self, l , ll):\n",
    "\n",
    "        l1 = list(map(lambda x: x.replace('.', '') + '.', l))\n",
    "        text = '\\n\\n'.join(l1)\n",
    "        # print(text)\n",
    "        # textRu = translator.translate(text, lang_tgt='ru')\n",
    "        textRu = translator.translate(text)\n",
    "        # lru = textRu.split('.')\n",
    "        lru = re.split(r'[\\.\\?\\!]\\n\\n', textRu)\n",
    "        count = min(len(l), len(lru))\n",
    "        for i in range(count):\n",
    "            ll.append([self.addBreak(l[i]), lru[i].strip()])\n",
    "\n",
    "\n",
    "\n",
    "            \n",
    "\n",
    "\n",
    "\n",
    "\n",
    "        pass\n",
    "\n",
    "\n",
    "\n",
    "\n",
    "    def nextName(self, name):\n",
    "        '''\n",
    "        c2022t.txt => c2022json.txt\n",
    "        '''\n",
    "        name = self.name\n",
    "        name2 = 'c1022json.txt'\n",
    "        match = re.search(r'(^\\w\\d\\d\\d\\d)[a-zA-Z]+', name)\n",
    "        if match and len(match.groups()) > 0:\n",
    "            name2 = name.replace(match[0], match.groups()[0] + 'json')\n",
    "        self.nameWrite = name2\n",
    "\n",
    "    def read(self):\n",
    "        with open(self.name, 'r', encoding='utf8') as file:\n",
    "           for line in file:\n",
    "                 line2 = line.strip()\n",
    "                 line2 = re.sub(\"[.,?!]\", '', line2)\n",
    "                 len(line2) == 0 or self.lines.append(line2)\n",
    "\n",
    "    def write(self, text):\n",
    "        with open(self.nameWrite, 'w', encoding='utf8') as file:\n",
    "            file.write(text)\n",
    "\n",
    "    def addBreak(self, text):\n",
    "        '''\n",
    "        doesn't => does n't\n",
    "        '''\n",
    "        # text1 = re.sub(\"n't\",  \" n't\", text)\n",
    "        text2 = re.sub(\"[.,?!]\", '', text)\n",
    "        return text2\n",
    "    \n",
    "    def replaceBreak(self):\n",
    "        text = '\\n'.join(self.lines)\n",
    "\n",
    "        print(text)\n",
    "\n",
    "\n",
    "\n",
    "lines = Lines('b2122time.txt')\n",
    "lines.read()\n",
    "\n",
    "\n",
    "lines.replaceBreak()\n",
    "\n",
    "lines.makeObj()\n",
    "lines.translateList()\n",
    "\n",
    "lines.write(lines.text)\n",
    "\n",
    "# print(lines.text[-400:])\n",
    "\n",
    "\n",
    "\n"
   ]
  },
  {
   "cell_type": "code",
   "execution_count": 23,
   "metadata": {},
   "outputs": [
    {
     "output_type": "stream",
     "name": "stdout",
     "text": [
      "\nShe will get hurt.\n06:43\nJust because she is a girl\n01:46\ndoesn't mean she has to fear Tofu.\n02:49\nGirls also have \n03:50\na lot of courage and strength.\n04:53\nDo you know of a girl like that?\n\n"
     ]
    }
   ],
   "source": [
    "s = '''\n",
    "She will get hurt.\n",
    "06:43\n",
    "Just because she is a girl\n",
    "01:46\n",
    "doesn't mean she has to fear Tofu.\n",
    "02:49\n",
    "Girls also have \n",
    "03:50\n",
    "a lot of courage and strength.\n",
    "04:53\n",
    "Do you know of a girl like that?\n",
    "'''\n",
    "\n",
    "print(s)"
   ]
  },
  {
   "cell_type": "code",
   "execution_count": 60,
   "metadata": {},
   "outputs": [
    {
     "output_type": "stream",
     "name": "stdout",
     "text": [
      "\nShe will get hurt.\n06:43\nJust because she is a girl doesn't mean she has to fear Tofu.\n02:49\nGirls also have  a lot of courage and strength.\n04:53\nDo you know of a girl like that?\n\n"
     ]
    }
   ],
   "source": [
    "import re\n",
    "\n",
    "\n",
    "pattern = r'\\r?\\n\\d\\d\\:\\d\\d\\r?\\n([a-z])'\n",
    "s2 = re.sub(pattern, r' \\1', s)\n",
    "\n",
    "print(s2)\n",
    "\n",
    "\n"
   ]
  },
  {
   "cell_type": "code",
   "execution_count": 56,
   "metadata": {},
   "outputs": [
    {
     "output_type": "stream",
     "name": "stdout",
     "text": [
      "19 \n06:43 06\n52 \n01:46 01\n93 \n02:49 02\n116 \n03:50 03\n153 \n04:53 04\n"
     ]
    }
   ],
   "source": [
    "import re\n",
    "\n",
    "\n",
    "pattern = r'\\r\\n\\d\\d\\:\\d\\d\\r\\n[a-z]'\n",
    "pattern = r'\\r?\\n(\\d\\d)'\n",
    "pattern = r'\\r?\\n(\\d\\d):\\d\\d'\n",
    "for m in re.finditer(pattern, s):\n",
    "    print(m.start(), m[0], m[1])\n",
    "\n"
   ]
  },
  {
   "cell_type": "code",
   "execution_count": 47,
   "metadata": {},
   "outputs": [
    {
     "output_type": "stream",
     "name": "stdout",
     "text": [
      "01:46\n02:49\n"
     ]
    }
   ],
   "source": [
    "match = re.search(pattern, s[26:])\n",
    "print(match.groups()[0])\n",
    "match = re.search(pattern, s[65:])\n",
    "print(match.groups()[0])\n"
   ]
  },
  {
   "cell_type": "code",
   "execution_count": 53,
   "metadata": {},
   "outputs": [
    {
     "output_type": "stream",
     "name": "stdout",
     "text": [
      "3 22\n8 22\n13 22\n"
     ]
    }
   ],
   "source": [
    "t = '111221112211122'\n",
    "for m in re.finditer(r'22', t):\n",
    "    print(m.start(), m[0])\n"
   ]
  },
  {
   "cell_type": "code",
   "execution_count": 59,
   "metadata": {},
   "outputs": [
    {
     "output_type": "stream",
     "name": "stdout",
     "text": [
      "111321113211132\n"
     ]
    }
   ],
   "source": [
    "t = '111221112211122'\n",
    "t2 = re.sub(r'2(2)', r'3\\1', t)\n",
    "print(t2)"
   ]
  }
 ]
}