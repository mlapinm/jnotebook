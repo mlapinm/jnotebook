{
 "metadata": {
  "language_info": {
   "codemirror_mode": {
    "name": "ipython",
    "version": 3
   },
   "file_extension": ".py",
   "mimetype": "text/x-python",
   "name": "python",
   "nbconvert_exporter": "python",
   "pygments_lexer": "ipython3",
   "version": "3.8.5"
  },
  "orig_nbformat": 2,
  "kernelspec": {
   "name": "python3",
   "display_name": "Python 3.8.5 64-bit ('base': conda)"
  },
  "interpreter": {
   "hash": "b3ba2566441a7c06988d0923437866b63cedc61552a5af99d1f4fb67d367b25f"
  }
 },
 "nbformat": 4,
 "nbformat_minor": 2,
 "cells": [
  {
   "cell_type": "code",
   "execution_count": 7,
   "metadata": {},
   "outputs": [],
   "source": [
    "import re\n",
    "import json\n",
    "from google_trans_new import google_translator  \n",
    "from deep_translator import GoogleTranslator as google_translator\n",
    "\n",
    "translator = google_translator(source='auto', target='ru')  \n",
    "\n",
    "'''\n",
    "\n",
    "'''\n",
    "\n",
    "\n",
    "class Lines:\n",
    "    name = ''\n",
    "    nameWrite = ''\n",
    "    lines = []\n",
    "    rusEns = []\n",
    "    textJson = ''\n",
    "\n",
    "    def __init__(self, name):\n",
    "        self.name = name\n",
    "        self.nextName(self.name)\n",
    "\n",
    "    def makeTextJson(self):\n",
    "        self.translateList()\n",
    "        ljson = []\n",
    "        text = ''\n",
    "        obj1 = { \"ru\": '', \"en\": ''}\n",
    "\n",
    "\n",
    "        for e in self.rusEns:    \n",
    "            obj = obj1.copy()\n",
    "            obj['ru'] = e[1]\n",
    "            obj['en'] = e[0]\n",
    "            # print(e[0])\n",
    "            ljson.append(obj)\n",
    "        \n",
    "\n",
    "        self.textJson = json.dumps([ob for ob in ljson], indent=2, ensure_ascii=False)\n",
    "        \n",
    "\n",
    "        \n",
    "\n",
    "\n",
    "\n",
    "        \n",
    "\n",
    "        pass\n",
    "\n",
    "    def translateList(self):\n",
    "        l = self.lines\n",
    "        ll = self.rusEns\n",
    "        l1 = list(map(lambda x: x.replace('.', '') + '.', l))\n",
    "        text = '\\n\\n'.join(l1)\n",
    "        # print(text)\n",
    "        # textRu = translator.translate(text, lang_tgt='ru')\n",
    "        textRu = translator.translate(text)\n",
    "        # lru = textRu.split('.')\n",
    "        lru = re.split(r'[\\.\\?\\!]', textRu)\n",
    "        count = min(len(l), len(lru))\n",
    "        for i in range(count):\n",
    "            ll.append([self.addBreak(l[i]), lru[i].strip()])\n",
    "\n",
    "\n",
    "        pass\n",
    "\n",
    "\n",
    "    def nextName(self, name):\n",
    "        '''\n",
    "        c2022t.txt => c2022json.txt\n",
    "        '''\n",
    "        name = self.name\n",
    "        name2 = 'c1022json.txt'\n",
    "        match = re.search(r'(^\\w\\d\\d\\d\\d)[a-zA-Z]+', name)\n",
    "        if match and len(match.groups()) > 0:\n",
    "            name2 = name.replace(match[0], match.groups()[0] + 'json')\n",
    "        self.nameWrite = name2\n",
    "\n",
    "    def read(self):\n",
    "        with open(self.name, 'r', encoding='utf8') as file:\n",
    "           for line in file:\n",
    "                 line2 = line.strip()\n",
    "                 line2 = re.sub(\"[.,?!]\", '', line2)\n",
    "                 len(line2) == 0 or self.lines.append(line2)\n",
    "\n",
    "    def write(self, text):\n",
    "        with open(self.nameWrite, 'w', encoding='utf8') as file:\n",
    "            file.write(text)\n",
    "\n",
    "    def writeTo(self, name, text):\n",
    "        with open(name, 'w', encoding='utf8') as file:\n",
    "            file.write(text)\n",
    "\n",
    "\n",
    "    def addBreak(self, text):\n",
    "        '''\n",
    "        doesn't => does n't\n",
    "        '''\n",
    "        # text1 = re.sub(\"n't\",  \" n't\", text)\n",
    "        text2 = re.sub(\"[.,?!]\", '', text)\n",
    "        return text2\n",
    "\n",
    "\n",
    "\n",
    "    pass\n",
    "\n",
    "\n",
    "lines = Lines('c5022m.txt')\n",
    "lines.read()\n",
    "lines.makeTextJson()\n",
    "\n",
    "lines.write(lines.textJson)\n",
    "\n",
    "# print(lines.lines)\n",
    "\n",
    "\n"
   ]
  },
  {
   "cell_type": "code",
   "execution_count": 57,
   "metadata": {},
   "outputs": [],
   "source": [
    "from googletrans import Translator\n",
    "translator = Translator()\n",
    "# result = translator.translate('Mikä on nimesi', src='fi', target='ru')\n",
    "\n"
   ]
  },
  {
   "cell_type": "code",
   "execution_count": 1,
   "metadata": {},
   "outputs": [
    {
     "output_type": "stream",
     "name": "stdout",
     "text": [
      "Я хочу перевести этот текст\n"
     ]
    }
   ],
   "source": [
    "from deep_translator import GoogleTranslator\n",
    "to_translate = 'I want to translate this text'\n",
    "translated = GoogleTranslator(source='auto', target='ru').translate(to_translate)\n",
    "print(translated)\n"
   ]
  },
  {
   "cell_type": "code",
   "execution_count": 55,
   "metadata": {},
   "outputs": [
    {
     "output_type": "stream",
     "name": "stdout",
     "text": [
      "Python 3.8.5\n"
     ]
    }
   ],
   "source": [
    "!python --version\n",
    "# !pip install deep-translator"
   ]
  },
  {
   "source": [
    "[deep_translator](https://medium.com/analytics-vidhya/how-to-translate-text-with-python-9d203139dcf5)  "
   ],
   "cell_type": "markdown",
   "metadata": {}
  }
 ]
}