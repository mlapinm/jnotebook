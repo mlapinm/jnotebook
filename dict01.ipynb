{
 "cells": [
  {
   "cell_type": "markdown",
   "metadata": {},
   "source": []
  },
  {
   "cell_type": "markdown",
   "metadata": {},
   "source": [
    "Читаем текст из файла netgear01.txt.  \n",
    "Создаюем сортированный словарь без перевода d,  \n",
    "не включаем слова из словаря из\n",
    "dictnow.txt. Сохраняем файл без перевода dw01.txt  и с переводом dt01.txt.  \n",
    "функции:\n",
    "mReadMain - вся работа, что описано выше   \n",
    "sort - чтение сортировка убирает повторения(без перевода) сохранение  \n",
    "mFileTranslate - чтение и перевод  \n",
    "mFileToList() - ниж.рег. без точек, список без повторений\n",
    "mExclude(name1, name2)"
   ]
  },
  {
   "cell_type": "code",
   "execution_count": 1,
   "metadata": {},
   "outputs": [],
   "source": [
    "import codecs\n",
    "\n",
    "def sort(name):\n",
    "    s = ''    \n",
    "    with codecs.open(name, 'r', 'utf-8') as file:\n",
    "        s = file.read()\n",
    "    s = s.strip()\n",
    "    l = s.split('\\r\\n')\n",
    "    l.sort()\n",
    "    # delete dubles\n",
    "    d = {}\n",
    "    for i in l:\n",
    "        li = i.split()\n",
    "        if len(li) == 0:\n",
    "            continue\n",
    "        if d.get(li[0]) == None:\n",
    "            if len(li) == 2:\n",
    "                d[li[0]] = li[1]\n",
    "            if len(li) == 1:\n",
    "                d[li[0]] = ''\n",
    "        else:\n",
    "            if len(li) == 2:\n",
    "                d[li[0]] = li[1]\n",
    "    l = []\n",
    "    for i in d:\n",
    "        s1 = f'{i} {d[i]}'\n",
    "        l.append(s1)\n",
    "    s = '\\r\\n'.join(l)\n",
    "    with codecs.open(name, 'w', 'utf-8') as file:\n",
    "        file.write(s.strip())\n",
    "#     print(l)\n",
    "\n",
    "    \n",
    "sort(r'template\\dictknow.txt')\n",
    "\n",
    "\n"
   ]
  },
  {
   "cell_type": "code",
   "execution_count": 2,
   "metadata": {},
   "outputs": [
    {
     "name": "stdout",
     "output_type": "stream",
     "text": [
      "resources\tресурсы\n"
     ]
    }
   ],
   "source": [
    "import requests\n",
    "import json\n",
    "\n",
    "def translate(world):\n",
    "    payload = {\n",
    "       'key': r'trnsl.1.1.20190909T123034Z.91e60547a2d5b3f5.bbf98325fde572ca3205b83b31a9034d9ff08f94',\n",
    "       'text':'additional',\n",
    "       'lang':'en-ru'\n",
    "    }\n",
    "    payload['text']=world\n",
    "    url = 'https://translate.yandex.net/api/v1.5/tr.json/translate'\n",
    "    r = requests.post(url, data=payload)\n",
    "    answer = json.loads(r.text)\n",
    "    word = answer['text'][0] if len(answer['text'])>0 else ''\n",
    "    return word\n",
    "\n",
    "# word = 'additional'\n",
    "word = 'resources'\n",
    "slovo = translate(word)\n",
    "print(f'{word}\\t{slovo}') "
   ]
  },
  {
   "cell_type": "code",
   "execution_count": 3,
   "metadata": {},
   "outputs": [
    {
     "name": "stdout",
     "output_type": "stream",
     "text": [
      "mFileTranslate\n"
     ]
    }
   ],
   "source": [
    "def mFileTranslate(name):\n",
    "    s = ''    \n",
    "    with codecs.open(name, 'r', 'utf-8') as file:\n",
    "        s = file.read()\n",
    "    s = s.strip()\n",
    "    l = s.split('\\r\\n')\n",
    "    k = 0\n",
    "    l2 = []\n",
    "    for i in l:\n",
    "        li = i.split()\n",
    "        if len(li) == 1:\n",
    "            si = li[0]\n",
    "            st = translate(si)\n",
    "            si = si.strip()\n",
    "            si += f' {st}'\n",
    "            l2.append(si)\n",
    "        if len(li) == 2:\n",
    "            l2.append(i)\n",
    "        k += 1\n",
    "    s = '\\r\\n'.join(l2)\n",
    "    with codecs.open(name, 'w', 'utf-8') as file:\n",
    "        file.write(s.strip())\n",
    "#     print(l2)\n",
    "    print('mFileTranslate')\n",
    "    \n",
    "mFileTranslate(r'template\\dictknow.txt')\n"
   ]
  },
  {
   "cell_type": "code",
   "execution_count": null,
   "metadata": {},
   "outputs": [],
   "source": []
  },
  {
   "cell_type": "code",
   "execution_count": 4,
   "metadata": {},
   "outputs": [],
   "source": [
    "import re\n",
    "\n",
    "def mFileToList(nameRead, nameWrite):\n",
    "    s1 = ''\n",
    "    with codecs.open(nameRead, 'r', 'utf-8') as file:\n",
    "        s1 = file.read()\n",
    "    s = re.sub(r'([\\W\\d])', r' ', s1)\n",
    "    l = s.split()\n",
    "    d = {}\n",
    "    l = [i.lower() for i in l]\n",
    "    for i in l:\n",
    "        d[i]=''\n",
    "#     print(len(d), len(l))\n",
    "    l1 = [i for i in d]\n",
    "    l21 = sorted(l1)\n",
    "    l2 = []\n",
    "    for i in l21:\n",
    "        if len(i) > 1:\n",
    "            l2.append(i)\n",
    "    s2 = '\\r\\n'.join(l2)\n",
    "#     print(l2)\n",
    "    with codecs.open(nameWrite, 'w', 'utf-8') as file:\n",
    "        file.write(s2.strip())\n",
    "\n",
    "\n",
    "    \n",
    "mFileToList(r'template\\netgear01.txt', r'template\\dict01.txt')"
   ]
  },
  {
   "cell_type": "code",
   "execution_count": 5,
   "metadata": {},
   "outputs": [],
   "source": [
    "def mExclude(name, nameEx):\n",
    "    lEx = []\n",
    "    s = ''\n",
    "    with codecs.open(nameEx, 'r', 'utf-8') as file:\n",
    "        s = file.read()\n",
    "    s = s.strip()\n",
    "    l = s.split('\\r\\n')\n",
    "    for i in l:\n",
    "        li = i.split()\n",
    "        if len(li) > 0:\n",
    "            lEx.append(li[0])\n",
    "    lr = []\n",
    "    with codecs.open(name, 'r', 'utf-8') as file:\n",
    "        s = file.read()\n",
    "    lr = s.strip().split('\\r\\n')\n",
    "    lw = []\n",
    "    for i in lr:\n",
    "        bAppend = True\n",
    "        for j in lEx:\n",
    "            if i == j:\n",
    "                bAppend = False\n",
    "                break\n",
    "        if bAppend == True:\n",
    "            lw.append(i)\n",
    "    s = '\\r\\n'.join(lw)\n",
    "    with codecs.open(name, 'w', 'utf-8') as file:\n",
    "        file.write(s.strip())\n",
    "            \n",
    "#     print(len(lr), lr)\n",
    "#     print(len(lw), lw)\n",
    "\n",
    "mExclude(r'template\\dict01.txt', r'template\\dictknow.txt')"
   ]
  },
  {
   "cell_type": "code",
   "execution_count": 6,
   "metadata": {},
   "outputs": [
    {
     "name": "stdout",
     "output_type": "stream",
     "text": [
      "(aaa123)\n",
      "aaa\n"
     ]
    }
   ],
   "source": [
    "import re\n",
    "\n",
    "s = '(aaa123)'\n",
    "s1 = re.sub(r'([\\W\\d])', r'', s)\n",
    "\n",
    "print(s)\n",
    "print(s1)"
   ]
  },
  {
   "cell_type": "code",
   "execution_count": 8,
   "metadata": {},
   "outputs": [
    {
     "name": "stdout",
     "output_type": "stream",
     "text": [
      "способность\n",
      "способность \n",
      "возможность \n",
      "о\n"
     ]
    }
   ],
   "source": [
    "s11 = 'ability'\n",
    "s12 = 'ability\\r\\n\\\n",
    "able\\r\\n\\\n",
    "about'\n",
    "s21 = translate(s11)\n",
    "s22 = translate(s12)\n",
    "print(s21)\n",
    "print(s22)"
   ]
  },
  {
   "cell_type": "code",
   "execution_count": 80,
   "metadata": {},
   "outputs": [
    {
     "name": "stdout",
     "output_type": "stream",
     "text": [
      "a\n",
      "[170, 75, 198, 142, 107, 87, 44, 47, 113, 10, 11, 68, 118, 54, 72, 148, 11, 184, 225, 107, 60, 36, 58, 5, 8]\n",
      "170 75 25\n",
      "['aac ', 'ability ', 'able ', 'about ', 'above ', 'absolute ', 'accept ', 'acceptable ', 'access ', 'accessed ', 'accessible ', 'accessing ', 'accidental ', 'accommodate ', 'accommodates ', 'accompanies ', 'according ', 'account ', 'accounting ', 'accounts ', 'accout ', 'accuracy ', 'accurate ', 'achieved ', 'acronym ', 'across ', 'act ', 'action ', 'actions ', 'activate ', 'active ', 'actively ', 'activity ', 'actual ', 'ad ', 'adapter ', 'adapters ', 'adaptive ', 'add ', 'added ', 'adding ', 'addition ', 'additional ', 'additionally ', 'address ', 'addresses ', 'adds ', 'adequate ', 'adjust ', 'adjusts ', 'admin ', 'administer ', 'administration ', 'administrative ', 'administrator ', 'ads ', 'advanced ', 'advantages ', 'advertise ', 'af ', 'affect ', 'afp ', 'after ', 'again ', 'against ', 'age ', 'aggregation ', 'aggregator ', 'aging ', 'ahead ', 'aif ', 'alert ', 'alerts ', 'algorithm ', 'algorithms ', 'all ', 'alliance ', 'allocate ', 'allocated ', 'allocation ', 'allow ', 'allowed ', 'allowing ', 'allows ', 'almost ', 'alphabetic ', 'alphabetical ', 'alphanumeric ', 'already ', 'also ', 'although ', 'always ', 'amazon ', 'american ', 'among ', 'amount ', 'an ', 'and ', 'android ', 'anonymous ', 'anonymously ', 'another ', 'answer ', 'anti ', 'antivirus ', 'any ', 'anyhost ', 'anyone ', 'anything ', 'anywhere ', 'apc ', 'app ', 'apparent ', 'appear ', 'appears ', 'append ', 'apple ', 'application ', 'applications ', 'apply ', 'appropriate ', 'approximately ', 'apps ', 'architecture ', 'archive ', 'are ', 'area ', 'around ', 'arp ', 'array ', 'arrays ', 'arrow ', 'arrows ', 'as ', 'ascending ', 'asf ', 'asian ', 'ask ', 'asking ', 'asks ', 'assign ', 'assigned ', 'assigning ', 'assignment ', 'assigns ', 'assisted ', 'associated ', 'assume ', 'assumes ', 'at ', 'attach ', 'attached ', 'attempts ', 'audio ', 'auth ', 'authenticate ', 'authenticated ', 'authentication ', 'author ', 'authorize ', 'auto ', 'autoconfiguration ', 'autoexpandable ', 'automatic ', 'automatically ', 'available ', 'average ', 'avi ', 'avoid ', 'away ', 'back ', 'backed ', 'background ', 'backing ', 'backs ', 'backslash ', 'backup ', 'backups ', 'bad ', 'balance ', 'balanced ', 'balances ', 'balancing ', 'bandwidth ', 'banks ', 'bar ', 'base ', 'based ', 'basic ', 'basics ', 'batch ', 'battery ', 'bay ', 'bays ', 'baytech ', 'be ', 'because ', 'become ', 'becomes ', 'before ', 'begin ', 'beginning ', 'begins ', 'behavior ', 'being ', 'belong ', 'belonged ', 'belonging ', 'belongs ', 'below ', 'benefits ', 'best ', 'better ', 'between ', 'bidirectional ', 'bit ', 'black ', 'blank ', 'block ', 'blue ', 'bond ', 'bonded ', 'bonding ', 'bonds ', 'bondx ', 'bonjour ', 'both ', 'bottom ', 'box ', 'boxes ', 'bring ', 'broadcast ', 'browse ', 'browser ', 'browsers ', 'browsing ', 'built ', 'bundle ', 'business ', 'businesses ', 'but ', 'button ', 'buttons ', 'by ', 'bytes ']\n",
      "['ca ', 'cabin ', 'cable ', 'cache ', 'caching ', 'calculated ', 'calendar ', 'call ', 'called ', 'calls ', 'camera ', 'cameras ', 'can ', 'cancel ', 'cannot ', 'capacity ', 'capital ', 'captured ', 'cards ', 'case ', 'cases ', 'categories ', 'cause ', 'caused ', 'causing ', 'caution ', 'celsius ', 'center ', 'certain ', 'certificate ', 'change ', 'changed ', 'changes ', 'changing ', 'channel ', 'chap ', 'chapter ', 'chapters ', 'character ', 'characters ', 'charts ', 'chassis ', 'check ', 'checked ', 'checks ', 'checksum ', 'choose ', 'chrome ', 'chronologically ', 'chunks ', 'cifs ', 'circumstances ', 'cleans ', 'clear ', 'cleared ', 'clearing ', 'click ', 'clicked ', 'clicking ', 'clicks ', 'client ', 'clients ', 'clock ', 'clocks ', 'clone ', 'cloned ', 'clones ', 'cloning ', 'close ', 'closes ', 'cloud ', 'clouddrive ', 'collaboration ', 'collapse ', 'color ', 'colored ', 'colors ', 'column ', 'com ', 'combine ', 'combined ', 'combines ', 'come ', 'comes ', 'command ', 'commands ', 'common ', 'commonly ', 'communicate ', 'communication ', 'community ', 'compac ', 'company ', 'compared ', 'comparison ', 'compatibility ', 'compatible ', 'complete ', 'completely ', 'completes ', 'completion ', 'complex ', 'compliance ', 'compliant ', 'complies ', 'comply ', 'component ', 'components ', 'compresses ', 'compression ', 'computed ', 'computer ', 'computers ', 'concepts ', 'conceptual ', 'concerns ', 'configurable ', 'configuration ', 'configurations ', 'configure ', 'configured ', 'configures ', 'configuring ', 'confirm ', 'confirmation ', 'confirms ', 'confusing ', 'connect ', 'connected ', 'connecting ', 'connection ', 'connections ', 'connectivity ', 'connects ', 'conserve ', 'considerable ', 'considerations ', 'consist ', 'consistency ', 'consisting ', 'console ', 'consolidate ', 'consume ', 'consumed ', 'consumption ', 'contact ', 'contacts ', 'contain ', 'contained ', 'container ', 'containing ', 'contains ', 'content ', 'contents ', 'continue ', 'continued ', 'continuing ', 'continuous ', 'control ', 'controlled ', 'controller ', 'controlling ', 'controls ', 'conversion ', 'convert ', 'converts ', 'cool ', 'copied ', 'copies ', 'copy ', 'cord ', 'corner ', 'correct ', 'corrected ', 'correctly ', 'correlate ', 'correspond ', 'corresponding ', 'corrupt ', 'corruption ', 'coummunity ', 'covered ', 'covers ', 'cpu ', 'create ', 'created ', 'creates ', 'creating ', 'creation ', 'credentials ', 'critical ', 'ct ', 'current ', 'currently ', 'custom ', 'customize ', 'cyberpower ', 'cycles ']\n",
      "['daily ', 'damaged ', 'dark ', 'data ', 'database ', 'databases ', 'date ', 'dates ', 'day ', 'days ', 'ddns ', 'decide ', 'decides ', 'decision ', 'decisions ', 'decompression ', 'decreases ', 'default ', 'defaults ', 'define ', 'defined ', 'defrag ', 'defragment ', 'defragmentation ', 'defragmented ', 'defragmenting ', 'degradation ', 'degrade ', 'degraded ', 'degrees ', 'delay ', 'delete ', 'deleted ', 'deletes ', 'deleting ', 'deletion ', 'delta ', 'demand ', 'deny ', 'department ', 'depend ', 'depending ', 'depends ', 'describe ', 'described ', 'describes ', 'description ', 'descriptions ', 'desired ', 'desktop ', 'destination ', 'destinations ', 'destroy ', 'destructive ', 'detailed ', 'details ', 'detect ', 'detected ', 'detection ', 'detects ', 'determine ', 'determines ', 'determining ', 'device ', 'devices ', 'devote ', 'dfs ', 'dhcp ', 'dhcpv ', 'diagnose ', 'dialog ', 'did ', 'difference ', 'differences ', 'different ', 'differential ', 'differs ', 'difficulty ', 'digital ', 'dim ', 'dimmed ', 'direct ', 'directions ', 'directly ', 'directories ', 'directory ', 'disable ', 'disabled ', 'disables ', 'disallow ', 'disaster ', 'disconnect ', 'disconnecting ', 'disconnection ', 'discover ', 'discovering ', 'discovery ', 'disk ', 'diskless ', 'disks ', 'dismiss ', 'display ', 'displayed ', 'displaying ', 'displays ', 'distributed ', 'distributes ', 'distributing ', 'divide ', 'divided ', 'divides ', 'divx ', 'dlna ', 'dns ', 'do ', 'document ', 'documentation ', 'documents ', 'does ', 'dog ', 'doing ', 'domain ', 'domains ', 'don ', 'done ', 'down ', 'download ', 'downloaded ', 'downloading ', 'downloads ', 'drive ', 'drives ', 'drop ', 'dropbox ', 'drops ', 'dual ', 'due ', 'duplex ', 'duplicated ', 'duplicates ', 'during ', 'dynamic ', 'each ', 'earlier ', 'ease ', 'easier ', 'easiest ', 'easily ', 'easy ', 'eaton ', 'eda ', 'edge ', 'edit ', 'edited ', 'editing ', 'effect ', 'effective ', 'efficently ', 'efficient ', 'efficiently ', 'egnyte ', 'egynte ', 'eight ', 'either ', 'elect ', 'eligible ', 'else ', 'email ', 'emailed ', 'emergency ', 'employ ', 'employee ', 'empty ', 'enable ', 'enabled ', 'enables ', 'enabling ', 'enclosure ', 'encrypt ', 'encrypted ', 'encryption ', 'end ', 'ending ', 'energy ', 'enough ', 'ensure ', 'ensures ', 'enter ', 'entering ', 'entire ', 'entities ', 'entries ', 'entry ', 'environment ', 'environments ', 'equal ', 'equals ', 'erase ', 'erases ', 'error ', 'errors ', 'esata ', 'especially ', 'ethernet ', 'even ', 'event ', 'events ', 'every ', 'everyone ', 'everything ', 'exactly ', 'examine ', 'example ', 'exceed ', 'exceeds ', 'except ', 'exceptional ', 'exceptions ', 'exclude ', 'execute ', 'executed ', 'exhausts ', 'exist ', 'existing ', 'exists ', 'expand ', 'expanded ', 'expanding ', 'expands ', 'expansion ', 'experience ', 'experiment ', 'expert ', 'expires ', 'explained ', 'explaining ', 'explains ', 'explicit ', 'explicitly ', 'explore ', 'explorer ', 'export ', 'expose ', 'extend ', 'extended ', 'extension ', 'external ', 'externally ', 'extra ']\n",
      "['facilitates ', 'factory ', 'failed ', 'fails ', 'failure ', 'failures ', 'family ', 'fan ', 'fans ', 'far ', 'fast ', 'fat ', 'fault ', 'faulty ', 'fdd ', 'feature ', 'features ', 'few ', 'fewer ', 'fibre ', 'field ', 'fields ', 'figure ', 'file ', 'files ', 'fill ', 'filled ', 'fills ', 'filter ', 'financial ', 'find ', 'finder ', 'finish ', 'finishes ', 'fire ', 'firefox ', 'firmware ', 'first ', 'five ', 'fixed ', 'fla ', 'flac ', 'flash ', 'flc ', 'flex ', 'flexible ', 'flood ', 'flv ', 'folder ', 'folders ', 'follow ', 'followed ', 'following ', 'follows ', 'for ', 'force ', 'forces ', 'forgotten ', 'format ', 'formats ', 'formatted ', 'formatting ', 'forth ', 'forum ', 'forward ', 'forwarding ', 'four ', 'fourth ', 'fqdn ', 'fragment ', 'fragmentation ', 'frames ', 'free ', 'freely ', 'frequently ', 'friday ', 'friend ', 'from ', 'front ', 'ftp ', 'ftpes ', 'ftps ', 'full ', 'fully ', 'function ', 'functions ', 'future ', 'gain ', 'gains ', 'gateway ', 'gave ', 'gb ', 'gear ', 'general ', 'generate ', 'generated ', 'generates ', 'generation ', 'get ', 'getting ', 'gid ', 'gigabytes ', 'given ', 'global ', 'globally ', 'go ', 'good ', 'google ', 'gp ', 'gracefully ', 'gradual ', 'grant ', 'granted ', 'granting ', 'graph ', 'graphic ', 'graphics ', 'graphs ', 'gray ', 'greater ', 'greatly ', 'green ', 'grid ', 'group ', 'groups ', 'groupx ', 'guest ', 'guide ', 'guided ', 'guidelines ', 'guides ', 'handle ', 'hanzi ', 'happen ', 'happens ', 'hard ', 'hardware ', 'hash ', 'have ', 'hcl ', 'heading ', 'headings ', 'health ', 'healthy ', 'heat ', 'help ', 'helpful ', 'helps ', 'her ', 'here ', 'heuristic ', 'hhmmss ', 'hide ', 'hiding ', 'high ', 'higher ', 'highlight ', 'his ', 'historical ', 'home ', 'horizontal ', 'horizontally ', 'host ', 'hostname ', 'hosts ', 'hot ', 'hour ', 'hourly ', 'hours ', 'hover ', 'how ', 'however ', 'hp ', 'htm ', 'html ', 'http ', 'https ', 'hypertext ', 'ia ', 'icon ', 'icons ', 'id ', 'identical ', 'identify ', 'idle ', 'ids ', 'ieee ', 'if ', 'illustrates ', 'illustration ', 'immediately ', 'impact ', 'import ', 'important ', 'imported ', 'imports ', 'improper ', 'improve ', 'improved ', 'improves ', 'in ', 'inaccessible ', 'inactive ', 'inactivity ', 'inc ', 'include ', 'included ', 'includes ', 'including ', 'incoming ', 'incorporated ', 'increase ', 'increased ', 'increases ', 'increasing ', 'incremental ', 'increments ', 'independent ', 'independently ', 'index ', 'indicate ', 'indicated ', 'indicates ', 'indicator ', 'individual ', 'industry ', 'indvidual ', 'inefficient ', 'info ', 'information ', 'informational ', 'informs ', 'initial ', 'initialize ', 'initialized ', 'initializing ', 'initiate ', 'initiator ', 'initiators ', 'insert ', 'inserting ', 'inside ', 'install ', 'installation ', 'installed ', 'installing ', 'installs ', 'instance ', 'instant ', 'instantaneous ', 'instead ', 'institutions ', 'instructions ', 'intact ', 'integral ', 'integrate ', 'integrated ', 'integration ', 'integrity ', 'intend ', 'interface ', 'interfaces ', 'internal ', 'internet ', 'interrupted ', 'interval ', 'into ', 'intricate ', 'introduced ', 'invisible ', 'invite ', 'inviting ', 'involves ', 'ios ', 'ip ', 'ipads ', 'iphones ', 'ipv ', 'iqn ', 'iqns ', 'irrecoverable ', 'irregularities ', 'is ', 'iscsi ', 'isp ', 'issues ', 'it ', 'item ', 'its ', 'itself ', 'itunes ']\n",
      "['japanese ', 'jbod ', 'job ', 'job_ ', 'jobs ', 'join ', 'jose ', 'jpeg ', 'jpg ', 'just ', 'kanji ', 'kb ', 'keep ', 'keeping ', 'kept ', 'key ', 'keys ', 'kindergarten ', 'kinds ', 'know ', 'known ', 'label ', 'lacp ', 'lan ', 'language ', 'languages ', 'laptop ', 'large ', 'larger ', 'last ', 'later ', 'latest ', 'launch ', 'launched ', 'launches ', 'layer ', 'least ', 'leave ', 'led ', 'left ', 'length ', 'less ', 'lets ', 'letters ', 'level ', 'levels ', 'life ', 'light ', 'like ', 'limit ', 'limitations ', 'limited ', 'line ', 'lines ', 'link ', 'linked ', 'links ', 'linux ', 'list ', 'listed ', 'listing ', 'listings ', 'lists ', 'living ', 'load ', 'local ', 'locally ', 'locate ', 'located ', 'location ', 'log ', 'logged ', 'logging ', 'logical ', 'login ', 'logo ', 'logs ', 'long ', 'longer ', 'lose ', 'loses ', 'loss ', 'lost ', 'louder ', 'low ', 'lower ', 'lowest ', 'lun ', 'luns ', 'mac ', 'machine ', 'machines ', 'macos ', 'made ', 'magic ', 'mainly ', 'maintain ', 'maintained ', 'maintains ', 'maintenance ', 'major ', 'make ', 'makes ', 'making ', 'malware ', 'manage ', 'managed ', 'management ', 'manages ', 'managing ', 'mandatory ', 'manner ', 'manual ', 'manually ', 'manuals ', 'manufactured ', 'manufacturer ', 'manufacturers ', 'many ', 'map ', 'mapping ', 'maps ', 'marked ', 'mask ', 'masked ', 'masks ', 'masquerade ', 'match ', 'matching ', 'max ', 'maximize ', 'maximum ', 'may ', 'mb ', 'mbps ', 'me ', 'measured ', 'measurement ', 'media ', 'medium ', 'megabytes ', 'member ', 'members ', 'membership ', 'memory ', 'menu ', 'menus ', 'message ', 'messages ', 'method ', 'methods ', 'mfr ', 'mge ', 'mib ', 'microsoft ', 'midnight ', 'might ', 'mind ', 'minimum ', 'minus ', 'minute ', 'minutes ', 'miscellaneous ', 'mixed ', 'mkv ', 'mobile ', 'mode ', 'model ', 'models ', 'modes ', 'modification ', 'modified ', 'modify ', 'module ', 'moments ', 'monitor ', 'monitored ', 'monitoring ', 'monitors ', 'month ', 'monthly ', 'months ', 'monuser ', 'moon ', 'more ', 'most ', 'mostly ', 'mount ', 'mouse ', 'mov ', 'move ', 'moved ', 'moving ', 'mozilla ', 'mp ', 'mpeg ', 'mpg ', 'mtp ', 'mts ', 'mtu ', 'much ', 'multiple ', 'music ', 'must ', 'my ', 'my_password ', 'mynetgear ', 'name ', 'named ', 'names ', 'naming ', 'nas ', 'native ', 'natural ', 'navigate ', 'navigating ', 'navigation ', 'near ', 'necessary ', 'need ', 'needed ', 'needing ', 'needs ', 'negative ', 'negotiation ', 'netbios ', 'netgear ', 'network ', 'networking ', 'networks ', 'never ', 'new ', 'news ', 'next ', 'nfs ', 'nfsv ', 'nics ', 'night ', 'nis ', 'no ', 'non ', 'none ', 'nonreserved ', 'nonstandard ', 'normal ', 'normally ', 'not ', 'note ', 'nothing ', 'notice ', 'notification ', 'notifications ', 'notified ', 'notify ', 'now ', 'ntfs ', 'ntp ', 'number ', 'numbered ', 'numbers ', 'nut ']\n",
      "['obtains ', 'occur ', 'occurrence ', 'occurs ', 'of ', 'off ', 'offer ', 'offers ', 'official ', 'offline ', 'offset ', 'offsite ', 'often ', 'ogg ', 'ok ', 'old ', 'older ', 'oldest ', 'on ', 'onboard ', 'once ', 'one ', 'online ', 'only ', 'onscreen ', 'onto ', 'open ', 'opens ', 'openview ', 'operates ', 'operating ', 'operation ', 'operations ', 'optimal ', 'option ', 'optional ', 'optionally ', 'options ', 'or ', 'order ', 'org ', 'organization ', 'organizational ', 'organizations ', 'organize ', 'original ', 'originally ', 'os ', 'other ', 'otherwise ', 'ou ', 'our ', 'ous ', 'out ', 'outgoing ', 'outlet ', 'outline ', 'outs ', 'outside ', 'outsiders ', 'over ', 'overallocate ', 'overallocated ', 'override ', 'overview ', 'overwrite ', 'own ', 'owned ', 'owner ', 'owners ', 'ownership ', 'owns ', 'packet ', 'packets ', 'page ', 'pages ', 'pair ', 'panes ', 'parameters ', 'parent ', 'parents ', 'parity ', 'part ', 'partially ', 'particular ', 'particularly ', 'partition ', 'parts ', 'pass ', 'passes ', 'passive ', 'password ', 'password_recovery ', 'passwords ', 'past ', 'paste ', 'path ', 'paths ', 'pattern ', 'paused ', 'pcm ', 'pending ', 'people ', 'per ', 'percent ', 'percentage ', 'perform ', 'performance ', 'performed ', 'performing ', 'period ', 'periodically ', 'permanently ', 'permission ', 'permissions ', 'permit ', 'permitted ', 'persistent ', 'person ', 'personnel ', 'photo ', 'photos ', 'physical ', 'physically ', 'picture ', 'pictures ', 'pieces ', 'place ', 'placed ', 'placement ', 'platform ', 'play ', 'players ', 'playlist ', 'playstation ', 'pls ', 'plug ', 'plumeria ', 'plus ', 'point ', 'policies ', 'policy ', 'pop ', 'popular ', 'populated ', 'port ', 'portable ', 'portal ', 'ports ', 'position ', 'positive ', 'possible ', 'potentially ', 'power ', 'powered ', 'powering ', 'powers ', 'powerware ', 'practice ', 'precautions ', 'prefer ', 'preferably ', 'preferences ', 'preferred ', 'prefix ', 'preinstalled ', 'prepared ', 'present ', 'preserved ', 'press ', 'prevent ', 'prevents ', 'previous ', 'previously ', 'primarily ', 'primary ', 'prior ', 'private ', 'problem ', 'problems ', 'procedure ', 'procedures ', 'process ', 'processes ', 'produce ', 'product ', 'production ', 'products ', 'program ', 'progress ', 'prompt ', 'prompted ', 'prompts ', 'properly ', 'properties ', 'property ', 'proprietary ', 'protect ', 'protected ', 'protecting ', 'protection ', 'protects ', 'protocol ', 'protocols ', 'provide ', 'provided ', 'provider ', 'provides ', 'providing ', 'provision ', 'provisioned ', 'provisioning ', 'proxy ', 'prune ', 'prunes ', 'ptp ', 'public ', 'punctuation ', 'purchasing ', 'purposes ', 'qualified ', 'query ', 'question ', 'quick ', 'quicker ', 'quickly ', 'quiet ', 'quieter ', 'quite ', 'quota ', 'quotas ']\n",
      "['rack ', 'rackmount ', 'radio ', 'raid ', 'raidar ', 'range ', 'raritan ', 'rate ', 'rather ', 're ', 'read ', 'ready ', 'readycloud ', 'readydlna ', 'readynas ', 'readynas_ip_address ', 'readynas_os_ ', 'readynasvault ', 'real ', 'realm ', 'reasons ', 'reboot ', 'rebooted ', 'reboots ', 'receive ', 'received ', 'receives ', 'receiving ', 'recent ', 'recipient ', 'recognize ', 'recognized ', 'recognizes ', 'recommend ', 'recommendation ', 'recommendations ', 'recommended ', 'reconfigure ', 'reconnect ', 'record ', 'recorded ', 'records ', 'recover ', 'recovered ', 'recovering ', 'recovery ', 'recreate ', 'red ', 'redirect ', 'rediscover ', 'reduce ', 'reduced ', 'reduces ', 'redundancy ', 'redundant ', 'reenter ', 'reestablish ', 'refer ', 'reference ', 'references ', 'referred ', 'refers ', 'reformat ', 'reformatted ', 'reformatting ', 'refresh ', 'regardless ', 'region ', 'register ', 'registered ', 'registration ', 'regularly ', 'regulations ', 'regulatory ', 'reinstall ', 'reinstalls ', 'relative ', 'release ', 'releases ', 'reliability ', 'reliable ', 'relies ', 'reload ', 'reloads ', 'remain ', 'remains ', 'remember ', 'remembering ', 'remote ', 'remotely ', 'removal ', 'remove ', 'removed ', 'removes ', 'removing ', 'rename ', 'repeat ', 'replace ', 'replaced ', 'replacements ', 'replaces ', 'replacing ', 'replicate ', 'replicating ', 'report ', 'reported ', 'represent ', 'representative ', 'request ', 'requesting ', 'require ', 'required ', 'requirement ', 'requirements ', 'requires ', 'resembles ', 'resent ', 'reservation ', 'reserved ', 'reserves ', 'reset ', 'resets ', 'resetting ', 'reside ', 'resided ', 'resides ', 'resolve ', 'resolved ', 'resources ', 'responds ', 'response ', 'restart ', 'restarting ', 'restarts ', 'restore ', 'restored ', 'restores ', 'restoring ', 'restrict ', 'restricted ', 'restricting ', 'resulting ', 'resume ', 'resumes ', 'resuming ', 'resync ', 'resyncing ', 'retention ', 'retrieve ', 'return ', 'returned ', 'returns ', 'reuse ', 'reverse ', 'review ', 'reviews ', 'rewrite ', 'rewritten ', 'rfc ', 'right ', 'rights ', 'risk ', 'rmcard ', 'rn ', 'robin ', 'roll ', 'rollback ', 'rolled ', 'rolling ', 'root ', 'rot ', 'rotation ', 'round ', 'route ', 'routed ', 'router ', 'routes ', 'routine ', 'row ', 'rsync ', 'rules ', 'run ', 'running ', 'rx ']\n",
      "['safari ', 'safe ', 'safeguard ', 'sales ', 'samba ', 'same ', 'sample ', 'san ', 'save ', 'saved ', 'saves ', 'scan ', 'scanning ', 'scans ', 'scenario ', 'schedule ', 'scheduled ', 'scheme ', 'schemes ', 'screen ', 'scroll ', 'scrub ', 'scrubbed ', 'scrubbing ', 'search ', 'searches ', 'second ', 'secondary ', 'seconds ', 'section ', 'sections ', 'secure ', 'securely ', 'security ', 'see ', 'segregated ', 'select ', 'selected ', 'selecting ', 'selection ', 'selections ', 'self ', 'send ', 'sends ', 'sense ', 'sensitive ', 'sent ', 'separate ', 'separated ', 'separating ', 'sequence ', 'sequential ', 'serial ', 'served ', 'server ', 'servers ', 'service ', 'services ', 'session ', 'sessions ', 'set ', 'sets ', 'setting ', 'settings ', 'setup ', 'several ', 'shaded ', 'shapshot ', 'share ', 'shared ', 'shares ', 'sharing ', 'shell ', 'short ', 'show ', 'showing ', 'shown ', 'shows ', 'shut ', 'shuts ', 'shutting ', 'sid ', 'side ', 'sids ', 'sign ', 'signal ', 'signals ', 'signature ', 'signatures ', 'signed ', 'similar ', 'simple ', 'simplified ', 'simply ', 'simultaneously ', 'since ', 'single ', 'site ', 'sites ', 'situation ', 'situations ', 'six ', 'size ', 'sj ', 'slash ', 'slashes ', 'slave ', 'sleep ', 'slide ', 'slider ', 'slow ', 'slower ', 'small ', 'smaller ', 'smallest ', 'smart ', 'smartphone ', 'smb ', 'smtp ', 'snapshot ', 'snapshots ', 'snmp ', 'so ', 'socomec ', 'software ', 'solaris ', 'solid ', 'some ', 'someone ', 'sometimes ', 'somewhere ', 'sony ', 'source ', 'sources ', 'space ', 'spaces ', 'sparse ', 'sparsebundle ', 'speaking ', 'special ', 'specific ', 'specification ', 'specifications ', 'specifics ', 'specified ', 'specifies ', 'specify ', 'specifying ', 'speed ', 'speeds ', 'spin ', 'spread ', 'spun ', 'squares ', 'ssh ', 'ssl ', 'stalled ', 'stamp ', 'stamped ', 'stamps ', 'standard ', 'standardized ', 'standby ', 'start ', 'started ', 'starting ', 'starts ', 'state ', 'stated ', 'stateless ', 'static ', 'statistics ', 'stats ', 'status ', 'step ', 'steps ', 'still ', 'stops ', 'storage ', 'store ', 'stored ', 'stores ', 'storing ', 'straight ', 'strategies ', 'strategy ', 'stream ', 'streaming ', 'strictly ', 'string ', 'strings ', 'strip ', 'structure ', 'style ', 'subfolder ', 'subfolders ', 'subnet ', 'substantially ', 'substitute ', 'success ', 'successfully ', 'such ', 'sufficient ', 'suffix ', 'summary ', 'sun ', 'supplies ', 'supply ', 'support ', 'supported ', 'supporting ', 'supports ', 'sure ', 'swappable ', 'switch ', 'switches ', 'sync ', 'synchronize ', 'synchronized ', 'syncing ', 'syntax ', 'sys ', 'system ', 'system_log ', 'systems ', 'tab ', 'table ', 'tablet ', 'take ', 'taken ', 'takes ', 'taking ', 'target ', 'targets ', 'tasks ', 'tb ', 'tcp ', 'teaming ', 'technical ', 'technologies ', 'technology ', 'temperature ', 'temperatures ', 'temporarily ', 'temporary ', 'term ', 'terminal ', 'terms ', 'terrabytes ', 'test ', 'text ', 'than ', 'thank ', 'that ', 'the ', 'theft ', 'their ', 'them ', 'themselves ', 'then ', 'there ', 'therefore ', 'these ', 'they ', 'thick ', 'thin ', 'third ', 'this ', 'those ', 'though ', 'threads ', 'three ', 'threshold ', 'through ', 'throughput ', 'thumb ', 'time ', 'timeline ', 'timemachine ', 'timer ', 'times ', 'timestamp ', 'tip ', 'tivo ', 'tls ', 'to ', 'together ', 'tolerance ', 'too ', 'tool ', 'tools ', 'top ', 'topics ', 'total ', 'trademarks ', 'tradeoff ', 'traffic ', 'transfer ', 'transferred ', 'transferring ', 'transfers ', 'translates ', 'transmission ', 'transmit ', 'transmitted ', 'transmitting ', 'trap ', 'traps ', 'treat ', 'treated ', 'treats ', 'triangle ', 'tries ', 'trojans ', 'troubleshoot ', 'trusted ', 'try ', 'ts ', 'tst ', 'tunnel ', 'turn ', 'turned ', 'turns ', 'tutorials ', 'tvs ', 'two ', 'tx ', 'type ', 'types ', 'typical ', 'typically ', 'typing ', 'udp ', 'uid ', 'unable ', 'unallocated ', 'unassign ', 'unassigned ', 'undefined ', 'under ', 'understand ', 'understanding ', 'unexpected ', 'unexpectedly ', 'unicenter ', 'unicode ', 'uninterruptible ', 'unique ', 'unit ', 'universal ', 'unix ', 'unknown ', 'unless ', 'unlike ', 'unlimited ', 'unlock ', 'unlocked ', 'unlocking ', 'unmounted ', 'unobstructed ', 'unprotected ', 'until ', 'up ', 'update ', 'updated ', 'updates ', 'updating ', 'upgrade ', 'upgraded ', 'upgrading ', 'upload ', 'uploading ', 'uploads ', 'upnp ', 'upper ', 'ups ', 'usa ', 'usable ', 'usage ', 'usb ', 'use ', 'used ', 'useful ', 'user ', 'username ', 'users ', 'uses ', 'using ', 'usually ', 'utility ', 'utilization ', 'utilizes ', 'vacation ', 'valid ', 'validates ', 'value ', 'values ', 'varieties ', 'variety ', 'various ', 'vary ', 'vault ', 'vault_options ', 'ventilation ', 'verify ', 'version ', 'versions ', 'vertical ', 'vertically ', 'very ', 'video ', 'videos ', 'view ', 'viewing ', 'views ', 'violations ', 'virtual ', 'virtualization ', 'virus ', 'viruses ', 'visible ', 'visit ', 'visits ', 'vob ', 'voltage ', 'volume ', 'volumes ', 'vpn ', 'wait ', 'wake ', 'wall ', 'wan ', 'want ', 'warn ', 'warning ', 'warnings ', 'was ', 'watch ', 'wav ', 'way ', 'ways ', 'we ', 'web ', 'webdav ', 'website ', 'week ', 'weekly ', 'weeks ', 'welcome ', 'well ', 'were ', 'what ', 'when ', 'whenever ', 'where ', 'whether ', 'which ', 'while ', 'who ', 'whole ', 'whom ', 'whose ', 'wide ', 'will ', 'window ', 'windows ', 'with ', 'within ', 'without ', 'wizard ', 'wll ', 'wma ', 'wmv ', 'word ', 'work ', 'workgroup ', 'works ', 'world ', 'worms ', 'would ', 'wpl ', 'write ', 'writes ', 'writing ', 'written ', 'www ', 'xbox ', 'xor ', 'xvid ', 'xx ', 'xxx ', 'year ', 'yearly ', 'yellow ', 'yes ', 'yet ', 'you ', 'your ', 'yyyymmdd ', 'zip ', 'zipped ', 'zone']\n"
     ]
    }
   ],
   "source": [
    "import codecs\n",
    "\n",
    "def mSimvCount(name):\n",
    "    l = []\n",
    "    s = ''\n",
    "    with codecs.open(name, 'r', 'utf-8') as file:\n",
    "        s = file.read()\n",
    "    \n",
    "    lw = s.strip().split('\\r\\n')\n",
    "    pi = lw[0][0]\n",
    "    print(pi)\n",
    "    k = 0\n",
    "    sum = 0\n",
    "    lc = []\n",
    "    for i in lw:\n",
    "        if i[0] != pi:\n",
    "            lc.append(f'{pi} {k}')\n",
    "            pi = i[0]\n",
    "            k = 0\n",
    "        k += 1\n",
    "        sum += 1\n",
    "#     print(sum, lc)\n",
    "    \n",
    "    lc1 = []\n",
    "    for i in lc:\n",
    "        l = i.split()\n",
    "        k = l[1]\n",
    "        lc1.append(int(k))\n",
    "    print(lc1)\n",
    "    \n",
    "    max = 300\n",
    "    l = []\n",
    "    for i in range(len(lc1)):\n",
    "        k = lc1[i]\n",
    "        while True:\n",
    "            if k > max:\n",
    "                k -= max\n",
    "                l.append(max)\n",
    "            else:\n",
    "                l.append(k)\n",
    "                break\n",
    "#     max = 100\n",
    "    l2 = []\n",
    "    count = len(l)\n",
    "    k1 = l[0]\n",
    "    sum = k1\n",
    "    sump = k1\n",
    "    print(sum, l[1],count)\n",
    "    for i in range(1,count):\n",
    "        k = l[i]\n",
    "        if sum+k<max:\n",
    "            sum = sum+k\n",
    "        else:\n",
    "            l2.append(sum)\n",
    "            sum = k\n",
    "    la = []\n",
    "    k = 0\n",
    "    for i in l2:\n",
    "        la.append(k)\n",
    "        k+=i\n",
    "    la.append(len(lw))\n",
    "    \n",
    "    k = 0\n",
    "    ll = []\n",
    "    for i in range(1, len(la)):\n",
    "        k2 = la[i]\n",
    "        l = []\n",
    "        for j in range(k, k2):\n",
    "            l.append(lw[j])\n",
    "        print(l)\n",
    "        k = k2\n",
    "        ll.append(l)   \n",
    "#     print(lw)\n",
    "    \n",
    "#     print(la)\n",
    "#     print(ll)\n",
    "    k = 0\n",
    "    for i in ll:\n",
    "        s = '\\r\\n'.join(i)\n",
    "        ks = f'0{k}' if (k < 10) else str(k)\n",
    "        fn = f'template\\\\da{ks}{i[0][0]}.txt'\n",
    "        with codecs.open(fn,'w','utf-8') as file:\n",
    "            file.write(s.strip())\n",
    "        \n",
    "        \n",
    "        k+=1\n",
    "l = mSimvCount(r'template\\dict01.txt')\n",
    "\n"
   ]
  },
  {
   "cell_type": "code",
   "execution_count": 56,
   "metadata": {},
   "outputs": [
    {
     "name": "stdout",
     "output_type": "stream",
     "text": [
      "100 70 36\n",
      "26 [100, 70, 75, 100, 98, 100, 42, 100, 94, 91, 100, 34, 68, 100, 72, 72, 100, 59, 100, 84, 100, 100, 25, 100, 67, 99]\n",
      "[0, 100, 170, 245, 345, 443, 543, 585, 685, 779, 870, 970, 1004, 1072, 1172, 1244, 1316, 1416, 1475, 1575, 1659, 1759, 1859, 1884, 1984, 2051]\n"
     ]
    }
   ],
   "source": [
    "l1 =[100, 70, 75, 100, 98, 100, 42, 100, 7, 87, 44, 47, 100, 13, 10, 11, 68, 100, \n",
    "     18, 54, 72, 100, 48, 11, 100, 84, 100, 100, 25, 100, 7, 60, 36, 58, 5, 8]\n",
    "\n",
    "max = 100\n",
    "l = []\n",
    "count = len(l1)\n",
    "k1 = l1[0]\n",
    "sum = k1\n",
    "sump = k1\n",
    "print(sum, l1[1],count)\n",
    "for i in range(1,count):\n",
    "    k = l1[i]\n",
    "    if sum+k<max:\n",
    "        sum = sum+k\n",
    "    else:\n",
    "        l.append(sum)\n",
    "        sum = k\n",
    "la = []\n",
    "k = 0\n",
    "for i in l:\n",
    "    la.append(k)\n",
    "    k+=i\n",
    "\n",
    "print(len(l), l)\n",
    "print(la)"
   ]
  },
  {
   "cell_type": "code",
   "execution_count": null,
   "metadata": {},
   "outputs": [],
   "source": [
    " "
   ]
  },
  {
   "cell_type": "code",
   "execution_count": 12,
   "metadata": {},
   "outputs": [
    {
     "name": "stdout",
     "output_type": "stream",
     "text": [
      "mFileTranslate\n",
      "123\n"
     ]
    }
   ],
   "source": [
    "def mReadMain():\n",
    "    name = r'template\\dict01.txt'\n",
    "#     mFileToList(r'template\\netgearSoft.txt', \n",
    "#                name)\n",
    "#     sort(name)\n",
    "    mFileTranslate(name)\n",
    "    print('123')\n",
    "    \n",
    "mReadMain()"
   ]
  },
  {
   "cell_type": "code",
   "execution_count": null,
   "metadata": {},
   "outputs": [],
   "source": []
  },
  {
   "cell_type": "code",
   "execution_count": null,
   "metadata": {},
   "outputs": [],
   "source": []
  }
 ],
 "metadata": {
  "kernelspec": {
   "display_name": "Python 3",
   "language": "python",
   "name": "python3"
  },
  "language_info": {
   "codemirror_mode": {
    "name": "ipython",
    "version": 3
   },
   "file_extension": ".py",
   "mimetype": "text/x-python",
   "name": "python",
   "nbconvert_exporter": "python",
   "pygments_lexer": "ipython3",
   "version": "3.6.8"
  }
 },
 "nbformat": 4,
 "nbformat_minor": 4
}
