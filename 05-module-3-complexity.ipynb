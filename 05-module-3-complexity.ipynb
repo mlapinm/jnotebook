{
 "cells": [
  {
   "cell_type": "markdown",
   "metadata": {
    "slideshow": {
     "slide_type": "slide"
    }
   },
   "source": [
    " # Модуль 3. Алгоритмы\n",
    "## Сложность алгоритмов"
   ]
  },
  {
   "cell_type": "code",
   "execution_count": null,
   "metadata": {},
   "outputs": [],
   "source": []
  },
  {
   "cell_type": "markdown",
   "metadata": {
    "slideshow": {
     "slide_type": "slide"
    }
   },
   "source": [
    "### Одно решение - разные алгоритмы"
   ]
  },
  {
   "cell_type": "code",
   "execution_count": null,
   "metadata": {
    "slideshow": {
     "slide_type": "fragment"
    }
   },
   "outputs": [],
   "source": [
    "def palindrom_one(string):\n",
    "    reverse = \"\"\n",
    "    i = len(string)-1\n",
    "    while i >= 0:\n",
    "        reverse += string[i]\n",
    "        i -= 1\n",
    "    if string.lower() == reverse.lower():\n",
    "        return True\n",
    "    return False\n"
   ]
  },
  {
   "cell_type": "code",
   "execution_count": null,
   "metadata": {
    "slideshow": {
     "slide_type": "fragment"
    }
   },
   "outputs": [],
   "source": [
    "def palindrom_two(string):\n",
    "    mid = len(string) // 2\n",
    "    j = len(string) - 1\n",
    "    for i in range(mid):\n",
    "        if string[i] != string[j]:\n",
    "            return False\n",
    "        j -= 1  \n",
    "    return True\n"
   ]
  },
  {
   "cell_type": "code",
   "execution_count": null,
   "metadata": {
    "slideshow": {
     "slide_type": "fragment"
    }
   },
   "outputs": [],
   "source": [
    "def palindrom_three(string):\n",
    "    s1 = list(string)\n",
    "    s2 = s1.copy()\n",
    "    s2.reverse()\n",
    "    if s1 == s2:\n",
    "        return True\n",
    "    return False\n"
   ]
  },
  {
   "cell_type": "markdown",
   "metadata": {
    "slideshow": {
     "slide_type": "slide"
    }
   },
   "source": [
    "### Есть ли разница? "
   ]
  },
  {
   "cell_type": "code",
   "execution_count": null,
   "metadata": {
    "slideshow": {
     "slide_type": "fragment"
    }
   },
   "outputs": [],
   "source": [
    "def sum_one(n):\n",
    "    sum = 0;\n",
    "    for i in range(1, n+1):\n",
    "        sum += i\n",
    "    return sum\n"
   ]
  },
  {
   "cell_type": "code",
   "execution_count": null,
   "metadata": {
    "slideshow": {
     "slide_type": "fragment"
    }
   },
   "outputs": [],
   "source": [
    "def sum_two(n):\n",
    "    sum = (n * (n+1)) / 2\n",
    "    return sum\n"
   ]
  },
  {
   "cell_type": "code",
   "execution_count": null,
   "metadata": {
    "slideshow": {
     "slide_type": "fragment"
    }
   },
   "outputs": [],
   "source": [
    "from timeit import Timer\n"
   ]
  },
  {
   "cell_type": "code",
   "execution_count": null,
   "metadata": {
    "slideshow": {
     "slide_type": "fragment"
    }
   },
   "outputs": [],
   "source": [
    "t = Timer(\"function_name(10)\", \"from __main__ import function_name\")\n",
    "\n",
    "t.timeit(number=1)\n"
   ]
  },
  {
   "cell_type": "code",
   "execution_count": null,
   "metadata": {
    "slideshow": {
     "slide_type": "subslide"
    }
   },
   "outputs": [],
   "source": [
    "t = Timer(\"sum_one(10000)\", \"from __main__ import sum_one\")\n",
    "print('{0:.6f}'.format(t.timeit(number=1)))\n",
    "\n",
    "t = Timer(\"sum_one(100000)\", \"from __main__ import sum_one\")\n",
    "print('{0:.6f}'.format(t.timeit(number=1)))\n",
    "\n",
    "t = Timer(\"sum_one(1000000)\", \"from __main__ import sum_one\")\n",
    "print('{0:.6f}'.format(t.timeit(number=1)))\n"
   ]
  },
  {
   "cell_type": "code",
   "execution_count": null,
   "metadata": {
    "slideshow": {
     "slide_type": "fragment"
    }
   },
   "outputs": [],
   "source": [
    "t = Timer(\"sum_two(10000)\", \"from __main__ import sum_two\")\n",
    "print('{0:.6f}'.format(t.timeit(number=1)))\n",
    " \n",
    "t = Timer(\"sum_two(100000)\", \"from __main__ import sum_two\")\n",
    "print('{0:.6f}'.format(t.timeit(number=1)))\n",
    "\n",
    "t = Timer(\"sum_two(1000000)\", \"from __main__ import sum_two\")\n",
    "print('{0:.6f}'.format(t.timeit(number=1)))\n"
   ]
  },
  {
   "cell_type": "markdown",
   "metadata": {
    "slideshow": {
     "slide_type": "slide"
    }
   },
   "source": [
    "### Сложность алгоритмов"
   ]
  },
  {
   "attachments": {
    "bigo.png": {
     "image/png": "[encoded data removed]"
    }
   },
   "cell_type": "markdown",
   "metadata": {
    "slideshow": {
     "slide_type": "fragment"
    }
   },
   "source": [
    "![bigo.png](attachment:bigo.png)"
   ]
  },
  {
   "attachments": {
    "complex.jpg": {
     "image/jpeg": "[encoded data removed]"
    }
   },
   "cell_type": "markdown",
   "metadata": {
    "slideshow": {
     "slide_type": "subslide"
    }
   },
   "source": [
    "![complex.jpg](attachment:complex.jpg)"
   ]
  },
  {
   "cell_type": "markdown",
   "metadata": {
    "slideshow": {
     "slide_type": "slide"
    }
   },
   "source": [
    "### Пара примеров"
   ]
  },
  {
   "cell_type": "code",
   "execution_count": null,
   "metadata": {
    "slideshow": {
     "slide_type": "fragment"
    }
   },
   "outputs": [],
   "source": [
    "def pow_one(base, exp):\n",
    "    result = 1\n",
    "    while exp > 0:\n",
    "        result *= base\n",
    "        exp -= 1\n",
    "    return result\n"
   ]
  },
  {
   "cell_type": "code",
   "execution_count": null,
   "metadata": {
    "slideshow": {
     "slide_type": "fragment"
    }
   },
   "outputs": [],
   "source": [
    "def pow_two(base, exp):\n",
    "    result = 1;\n",
    "    while exp > 0:\n",
    "        if exp % 2 == 0:\n",
    "            base *= base\n",
    "            exp //= 2\n",
    "        else:\n",
    "            result *= base\n",
    "            exp -= 1\n",
    "    return result\n"
   ]
  },
  {
   "cell_type": "markdown",
   "metadata": {
    "slideshow": {
     "slide_type": "slide"
    }
   },
   "source": [
    "### Мини практикум\n",
    "#### Какова сложность следующих алгоритмов?"
   ]
  },
  {
   "cell_type": "markdown",
   "metadata": {
    "slideshow": {
     "slide_type": "subslide"
    }
   },
   "source": [
    "```python\n",
    "def one(array):\n",
    "    result = 0;\n",
    "    for i in array:\n",
    "        for j in array:\n",
    "            result += i * j\n",
    "    return result\n",
    "```"
   ]
  },
  {
   "cell_type": "markdown",
   "metadata": {
    "slideshow": {
     "slide_type": "subslide"
    }
   },
   "source": [
    "```python\n",
    "def two(array):\n",
    "    result = 0\n",
    "    for i in array:\n",
    "        result += 1\n",
    "    for j in array:\n",
    "        result -= 1\n",
    "    return result\n",
    "```"
   ]
  },
  {
   "cell_type": "markdown",
   "metadata": {
    "slideshow": {
     "slide_type": "subslide"
    }
   },
   "source": [
    "```python\n",
    "def three(n):\n",
    "    while n > 0:\n",
    "        i += 2\n",
    "        n //= 2\n",
    "    return i;\n",
    "```"
   ]
  },
  {
   "cell_type": "markdown",
   "metadata": {
    "slideshow": {
     "slide_type": "subslide"
    }
   },
   "source": [
    "```python\n",
    "def four(n):\n",
    "    for i in range(n):\n",
    "        j = 0\n",
    "        cnt = 50*n\n",
    "        sum = 0\n",
    "        while j<cnt:\n",
    "            j += 1\n",
    "            sum += 1\n",
    "    return sum\n",
    "```"
   ]
  },
  {
   "cell_type": "markdown",
   "metadata": {
    "slideshow": {
     "slide_type": "subslide"
    }
   },
   "source": [
    "```python\n",
    "def five(n): \n",
    "    for i in range(n):\n",
    "        while i % 2 != 0: \n",
    "            print(i)\n",
    "            i -= 1 \n",
    "        print(\"Done\")\n",
    "```"
   ]
  },
  {
   "cell_type": "markdown",
   "metadata": {
    "slideshow": {
     "slide_type": "subslide"
    }
   },
   "source": [
    "```python\n",
    "def six(n): \n",
    "    for i in range(n):\n",
    "        cnt = n * n\n",
    "        for j in range(cnt):\n",
    "            if j == 4: \n",
    "                return -1 \n",
    "            print(\"Done\")\n",
    "```"
   ]
  },
  {
   "cell_type": "markdown",
   "metadata": {
    "slideshow": {
     "slide_type": "slide"
    }
   },
   "source": [
    "# Выводы\n",
    "#### Асимптотический анализ — сравнение затрат времени алгоритмов, выполняющих решение некоторой задачи, при больших объемах входных данных\n",
    "#### Сложность алгоритма — это функция, позволяющая определить, как быстро увеличивается время работы алгоритма с увеличением объёма данных\n",
    "#### Основной оценкой роста, встречающейся в асимптотическом анализе является 'О-большое' — верхняя асимптотическая оценка роста временной функции"
   ]
  }
 ],
 "metadata": {
  "celltoolbar": "Slideshow",
  "kernelspec": {
   "display_name": "Python 3",
   "language": "python",
   "name": "python3"
  },
  "language_info": {
   "codemirror_mode": {
    "name": "ipython",
    "version": 3
   },
   "file_extension": ".py",
   "mimetype": "text/x-python",
   "name": "python",
   "nbconvert_exporter": "python",
   "pygments_lexer": "ipython3",
   "version": "3.6.3"
  }
 },
 "nbformat": 4,
 "nbformat_minor": 2
}
