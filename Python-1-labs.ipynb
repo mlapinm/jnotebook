{
 "cells": [
  {
   "cell_type": "markdown",
   "metadata": {},
   "source": [
    "### Модуль 2 Практикум 1."
   ]
  },
  {
   "cell_type": "markdown",
   "metadata": {},
   "source": [
    "### Парадокс Монти Холла"
   ]
  },
  {
   "cell_type": "markdown",
   "metadata": {},
   "source": [
    "Правила игры\n",
    "Участнику игры нужно выбрать одну из трёх дверей. За одной из дверей находится приз,\n",
    "за двумя другими дверями ничего нет. Участнику выбирает одну из дверей, например,\n",
    "номер 1, после этого ведущий, который знает, где находится приз, открывает одну из\n",
    "оставшихся дверей, например, номер 3, за которой ничего нет. После этого он спрашивает\n",
    "участника: не желаете ли он изменить свой выбор и выбрать дверь номер 2? Участник\n",
    "может согласиться либо остаться при своём выборе."
   ]
  },
  {
   "cell_type": "code",
   "execution_count": 5,
   "metadata": {},
   "outputs": [
    {
     "name": "stdout",
     "output_type": "stream",
     "text": [
      "% 31\n",
      "p1%% 47.0\n",
      "p2%% 25.0\n",
      "65.27777777777777\n"
     ]
    }
   ],
   "source": [
    "import random\n",
    "\n",
    "\n",
    "def montiHoll():\n",
    "    bcicle = True\n",
    "    countcicle = 100\n",
    "    indexcicle = 0\n",
    "    count_in_1 = 0\n",
    "    indxs0 = []\n",
    "    nfind = 0\n",
    "    quantchange = 0\n",
    "    quantnochange = 0\n",
    "\n",
    "    while bcicle:\n",
    "        indxs0 = []\n",
    "        lclad = [0, 0, 0]\n",
    "        lchoice = [0, 0, 0]\n",
    "        indclad = random.randrange(3)\n",
    "        lclad[indclad] = 1\n",
    "        indchoice = random.randrange(3)\n",
    "        lchoice[indchoice] = 1\n",
    "        # if indchoice == indclad:\n",
    "        #     continue\n",
    "        for i in range(3):\n",
    "            if lclad[i] == 0:\n",
    "                indxs0.append(i)\n",
    "\n",
    "        lchoice = [0, 0, 0]\n",
    "        lchoice[indxs0[0]] = 1\n",
    "\n",
    "        for i in range(3):\n",
    "            if i != indxs0[0] and i != indchoice:\n",
    "                nfind = i\n",
    "\n",
    "        if indchoice == indclad:\n",
    "            quantnochange += 1\n",
    "\n",
    "        if nfind == indclad:\n",
    "            quantchange += 1\n",
    "\n",
    "        # print('lclad', lclad,'lchoice', lchoice, 'indxs0', indxs0)\n",
    "\n",
    "        if lclad[0] == 1:\n",
    "            count_in_1 += 1\n",
    "\n",
    "        indexcicle += 1\n",
    "        if indexcicle == countcicle:\n",
    "            break\n",
    "    print('%', count_in_1 * 100 // countcicle)\n",
    "    p1 = quantchange*100/countcicle\n",
    "    print('p1%%', p1)\n",
    "    p2 = quantnochange*100/countcicle\n",
    "    print('p2%%', p2)\n",
    "    print (p1*100/(p1+p2))\n",
    "\n",
    "montiHoll()"
   ]
  },
  {
   "cell_type": "code",
   "execution_count": null,
   "metadata": {},
   "outputs": [],
   "source": []
  }
 ],
 "metadata": {
  "kernelspec": {
   "display_name": "Python 3",
   "language": "python",
   "name": "python3"
  },
  "language_info": {
   "codemirror_mode": {
    "name": "ipython",
    "version": 3
   },
   "file_extension": ".py",
   "mimetype": "text/x-python",
   "name": "python",
   "nbconvert_exporter": "python",
   "pygments_lexer": "ipython3",
   "version": "3.6.6"
  }
 },
 "nbformat": 4,
 "nbformat_minor": 4
}
