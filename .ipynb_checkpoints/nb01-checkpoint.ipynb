{
 "cells": [
  {
   "cell_type": "code",
   "execution_count": 2,
   "metadata": {},
   "outputs": [
    {
     "data": {
      "text/plain": [
       "440"
      ]
     },
     "execution_count": 2,
     "metadata": {},
     "output_type": "execute_result"
    }
   ],
   "source": [
    "5*88"
   ]
  },
  {
   "cell_type": "markdown",
   "metadata": {},
   "source": [
    "\n",
    "## Тройка фильмов  \n",
    "1. Бегущий по лезвию **Ридли Скот**\n",
    "1. Лучше звоните Солу **Винс Гиллиган**\n",
    "1. Домашний арест **Семен Слепаков**\n"
   ]
  },
  {
   "cell_type": "markdown",
   "metadata": {},
   "source": [
    "Open: [zz.kl.com.ua](http://zz.kl.com.ua/)"
   ]
  },
  {
   "cell_type": "markdown",
   "metadata": {},
   "source": [
    "11111 = 22222 ="
   ]
  },
  {
   "cell_type": "markdown",
   "metadata": {},
   "source": [
    "This <span style=\"background:yellow\">word</span> is not black."
   ]
  },
  {
   "cell_type": "markdown",
   "metadata": {},
   "source": [
    "- таблицы1:\n",
    "\n",
    "Заголовок 1  | Заголовок 2 |444\n",
    ":------------|:------------|:----\n",
    " Ячейка 1    | Ячейка 2    |4444\n",
    " Ячейка 3    | Ячейка 4    |4444\n"
   ]
  },
  {
   "cell_type": "code",
   "execution_count": 4,
   "metadata": {},
   "outputs": [],
   "source": []
  },
  {
   "cell_type": "code",
   "execution_count": null,
   "metadata": {},
   "outputs": [],
   "source": []
  }
 ],
 "metadata": {
  "kernelspec": {
   "display_name": "Python 3",
   "language": "python",
   "name": "python3"
  },
  "language_info": {
   "codemirror_mode": {
    "name": "ipython",
    "version": 3
   },
   "file_extension": ".py",
   "mimetype": "text/x-python",
   "name": "python",
   "nbconvert_exporter": "python",
   "pygments_lexer": "ipython3",
   "version": "3.6.8"
  }
 },
 "nbformat": 4,
 "nbformat_minor": 1
}
