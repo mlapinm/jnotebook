{
 "cells": [
  {
   "cell_type": "markdown",
   "metadata": {},
   "source": [
    "Ввод/Вывод\n",
    "Задание 1.\n",
    "Напишите код, который принимает три целых числа и печатает их сумму. Каждое число принимается\n",
    "на отдельной строке."
   ]
  },
  {
   "cell_type": "code",
   "execution_count": 7,
   "metadata": {},
   "outputs": [
    {
     "name": "stdin",
     "output_type": "stream",
     "text": [
      "a1 =  1\n",
      "a2 =  2\n",
      "a3 =  3\n"
     ]
    },
    {
     "name": "stdout",
     "output_type": "stream",
     "text": [
      "sum = 6\n"
     ]
    }
   ],
   "source": [
    "a1 = int(input('a1 = '))\n",
    "a2 = int(input('a2 = '))\n",
    "a3 = int(input('a3 = '))\n",
    "print(f'sum = {a1 + a2 + a3}')"
   ]
  },
  {
   "cell_type": "markdown",
   "metadata": {},
   "source": [
    "Задание 2.\n",
    "Напишите код, который принимает значения основания и высоты прямоугольного треугольника и\n",
    "печатает его площадь. Каждое число принимается на отдельной строке"
   ]
  },
  {
   "cell_type": "code",
   "execution_count": 9,
   "metadata": {},
   "outputs": [
    {
     "name": "stdin",
     "output_type": "stream",
     "text": [
      "h =  3\n",
      "a =  4\n"
     ]
    },
    {
     "name": "stdout",
     "output_type": "stream",
     "text": [
      "S triangle = 6.0\n"
     ]
    }
   ],
   "source": [
    "h = int(input('h = '))\n",
    "a = int(input('a = '))\n",
    "print(f'S triangle = {h*a/2}')"
   ]
  },
  {
   "cell_type": "markdown",
   "metadata": {},
   "source": [
    "Задание 3.\n",
    "Напишите код, который принимает имя пользователя и печатает фразу состоящую из слов \"Привет\",\n",
    "запятой, имени пользователя и восклицательного знака."
   ]
  },
  {
   "cell_type": "code",
   "execution_count": 12,
   "metadata": {},
   "outputs": [
    {
     "name": "stdin",
     "output_type": "stream",
     "text": [
      "Input name:  Yurii\n"
     ]
    },
    {
     "name": "stdout",
     "output_type": "stream",
     "text": [
      "Hello, Yurii!\n"
     ]
    }
   ],
   "source": [
    "name = input('Input name: ')\n",
    "print(f'Hello, {name}!')"
   ]
  },
  {
   "cell_type": "markdown",
   "metadata": {},
   "source": [
    "Задание 4.\n",
    "Напишите код, который принимает целое *число* и печатает *числа*, которые следуют до него и после него.<font color=blue|red|green|pink|yellow>Text</font>\n",
    "<background color = blue>text</background><span style=\"background:#FAF\">word</span>"
   ]
  },
  {
   "cell_type": "code",
   "execution_count": 16,
   "metadata": {},
   "outputs": [
    {
     "name": "stdin",
     "output_type": "stream",
     "text": [
      "Input m =  34\n"
     ]
    },
    {
     "name": "stdout",
     "output_type": "stream",
     "text": [
      "Предыдущее число для 34: 33\n",
      "Следующее число для 34: 35\n"
     ]
    }
   ],
   "source": [
    "m = int(input('Input m = '))\n",
    "print(f'Предыдущее число для {m}: {m-1}')\n",
    "print(f'Следующее число для {m}: {m+1}')"
   ]
  },
  {
   "cell_type": "markdown",
   "metadata": {},
   "source": [
    "Задание 5.\n",
    "N студентов получают K яблок и распределяют их друг другу поровну. Оставшиеся яблоки\n",
    "складываются в корзину."
   ]
  },
  {
   "cell_type": "code",
   "execution_count": 21,
   "metadata": {},
   "outputs": [
    {
     "name": "stdin",
     "output_type": "stream",
     "text": [
      "k_bits =  50\n",
      "n_men =  6\n"
     ]
    },
    {
     "name": "stdout",
     "output_type": "stream",
     "text": [
      "8 у студентов. 2 в корзине.\n"
     ]
    }
   ],
   "source": [
    "binput = True\n",
    "k_bits = 58\n",
    "n_men = 7\n",
    "if binput:\n",
    "    k_bits = int(input('k_bits = '))\n",
    "    n_men = int(input('n_men = '))\n",
    "s_ost = k_bits%n_men\n",
    "s_men = k_bits//n_men\n",
    "print(f'{s_men} у студентов. {s_ost} в корзине.')"
   ]
  },
  {
   "cell_type": "markdown",
   "metadata": {},
   "source": [
    "Задание 7.\n",
    "Даны две метки времени одного дня. Метка времени состоит из полного количества часов, минут и\n",
    "секунд, например: 1 15 23 - один час 15 минут и 23 секунды. Первая метка времени произошла\n",
    "раньше второй.\n",
    "Напишите код, который вычисляет разницу между двумя метками в секундах."
   ]
  },
  {
   "cell_type": "code",
   "execution_count": 23,
   "metadata": {},
   "outputs": [
    {
     "data": {
      "text/plain": [
       "3661"
      ]
     },
     "execution_count": 23,
     "metadata": {},
     "output_type": "execute_result"
    }
   ],
   "source": [
    "h1 = 1\n",
    "m1 = 1\n",
    "s1 = 1\n",
    "h2 = 2\n",
    "m2 = 2\n",
    "s2 = 2\n",
    "margin =h2*60*60+m2*60+s2 - (h1*60*60+m1*60+s1)\n",
    "margin"
   ]
  },
  {
   "cell_type": "markdown",
   "metadata": {},
   "source": [
    "### Числа"
   ]
  },
  {
   "cell_type": "markdown",
   "metadata": {},
   "source": [
    "Задание 1.\n",
    "Дано целое двузначное число.\n",
    "Напечатайте правую и левую цифры, используя для их определения арифметические операторы."
   ]
  },
  {
   "cell_type": "code",
   "execution_count": 24,
   "metadata": {},
   "outputs": [
    {
     "name": "stdout",
     "output_type": "stream",
     "text": [
      "26: 2 and 6\n"
     ]
    }
   ],
   "source": [
    "num1 = 26\n",
    "print(f'{num1}: {num1//10} and {num1%10}')"
   ]
  },
  {
   "cell_type": "markdown",
   "metadata": {},
   "source": [
    "Задание 3.\n",
    "Дано целое число больше 9.\n",
    "Напечатайте последние две цифры числа."
   ]
  },
  {
   "cell_type": "code",
   "execution_count": 7,
   "metadata": {},
   "outputs": [
    {
     "name": "stdout",
     "output_type": "stream",
     "text": [
      "1234 last 2 digits: 34\n"
     ]
    }
   ],
   "source": [
    "num1 = 1234\n",
    "strnum1 = str(num1)\n",
    "strlast2num1 = strnum1[-2:]\n",
    "print(f'{num1} last 2 digits: {strlast2num1}')"
   ]
  },
  {
   "cell_type": "markdown",
   "metadata": {},
   "source": [
    "Задание 2.\n",
    "Дано целое двузначное число.\n",
    "Напечатайте число, в котором правая и левая цифры поменяны местами."
   ]
  },
  {
   "cell_type": "code",
   "execution_count": 8,
   "metadata": {},
   "outputs": [
    {
     "name": "stdout",
     "output_type": "stream",
     "text": [
      "79:97\n"
     ]
    }
   ],
   "source": [
    "n1 = 79\n",
    "a = 79//10\n",
    "b = 79%10\n",
    "n2 = b*10 + a\n",
    "print(f'{n1}:{n2}')"
   ]
  },
  {
   "cell_type": "markdown",
   "metadata": {},
   "source": [
    "<script>\n",
    "console.log('dfd')\n",
    "</script>"
   ]
  },
  {
   "cell_type": "markdown",
   "metadata": {},
   "source": [
    "Задание 3.\n",
    "Дано целое число больше 9.\n",
    "Напечатайте последние две цифры числа."
   ]
  },
  {
   "cell_type": "code",
   "execution_count": 4,
   "metadata": {},
   "outputs": [
    {
     "name": "stdout",
     "output_type": "stream",
     "text": [
      "34 34\n"
     ]
    }
   ],
   "source": [
    "n = 1234\n",
    "print(str(n)[-2:], n%100)"
   ]
  },
  {
   "cell_type": "markdown",
   "metadata": {},
   "source": [
    "Задание 4.\n",
    "Дано целое число больше 9.\n",
    "Напечатайте цифру числа, которая находится в ряду десяток."
   ]
  },
  {
   "cell_type": "code",
   "execution_count": 6,
   "metadata": {},
   "outputs": [
    {
     "name": "stdout",
     "output_type": "stream",
     "text": [
      "3 3\n"
     ]
    }
   ],
   "source": [
    "n = 1234\n",
    "print(str(n)[-2:-1], n%100//10)"
   ]
  },
  {
   "cell_type": "markdown",
   "metadata": {},
   "source": [
    "Задание 5.\n",
    "Дано целое число из трёх цифр.\n",
    "Напечатайте сумму цифру числа."
   ]
  },
  {
   "cell_type": "code",
   "execution_count": 32,
   "metadata": {},
   "outputs": [
    {
     "name": "stdout",
     "output_type": "stream",
     "text": [
      "6\n",
      "1 2 3\n",
      "6\n"
     ]
    }
   ],
   "source": [
    "n = 123\n",
    "sum = 0\n",
    "for i in range(3):\n",
    "    sum += int(str(n)[i])\n",
    "print(sum)    \n",
    "print(n%1000//100, n%100//10, n%10//1)\n",
    "sum = 0\n",
    "for i in range(1, 4):\n",
    "    sum += n%(10**i)//(10**(i-1))\n",
    "print(sum)    "
   ]
  },
  {
   "cell_type": "markdown",
   "metadata": {},
   "source": [
    "Задание 6.\n",
    "Дано вещественное положительное число.\n",
    "Напечатайте первую цифру справа после точки."
   ]
  },
  {
   "cell_type": "code",
   "execution_count": 51,
   "metadata": {},
   "outputs": [
    {
     "name": "stdout",
     "output_type": "stream",
     "text": [
      "21.94 1\n",
      "21.94 1\n"
     ]
    }
   ],
   "source": [
    "import re\n",
    "e = 21.94\n",
    "print(e, int(e)%10)\n",
    "se = str(e)\n",
    "lf = re.findall(r'(\\d)\\.', se)\n",
    "s2 = lf[0] if (len(lf)>0) else ''\n",
    "print(se, s2)"
   ]
  },
  {
   "cell_type": "markdown",
   "metadata": {},
   "source": [
    "Задание 7.\n",
    "Дан год в виде целого положительного числа.\n",
    "Напечатайте число соответствующее веку. Обратите внимание, что 20 век начинается в 1901 году."
   ]
  },
  {
   "cell_type": "code",
   "execution_count": 57,
   "metadata": {},
   "outputs": [
    {
     "name": "stdout",
     "output_type": "stream",
     "text": [
      "20\n"
     ]
    }
   ],
   "source": [
    "d = 1901\n",
    "sv = str(d-1)[:2]\n",
    "v = int(sv)+1 \n",
    "print(v)"
   ]
  },
  {
   "cell_type": "code",
   "execution_count": 61,
   "metadata": {},
   "outputs": [
    {
     "name": "stdout",
     "output_type": "stream",
     "text": [
      "1901 20\n"
     ]
    }
   ],
   "source": [
    "d = 1901\n",
    "v = (d-1)//100+1\n",
    "print(d, v)"
   ]
  },
  {
   "cell_type": "markdown",
   "metadata": {},
   "source": [
    "Задание 8.\n",
    "Дни недели пронумерованы как: 0 — Воскресенье, 1 — Понедельник, ..., 6 — Суббота. Целое число N\n",
    "имеет значение в диапазоне от 1 до 365.\n",
    "Найдите число дня недели для N-ого дня исходя из условия, что 1 Января был четверг."
   ]
  },
  {
   "cell_type": "code",
   "execution_count": 76,
   "metadata": {},
   "outputs": [
    {
     "name": "stdout",
     "output_type": "stream",
     "text": [
      "{1: 4, 2: 5, 3: 6, 4: 0, 5: 1, 6: 2, 7: 3, 8: 4, 9: 5, 10: 6, 11: 0, 12: 1, 13: 2, 14: 3, 15: 4, 16: 5, 17: 6, 18: 0, 19: 1, 20: 2, 21: 3, 22: 4, 23: 5, 24: 6, 25: 0, 26: 1, 27: 2, 28: 3, 29: 4, 30: 5, 31: 6, 32: 0, 33: 1}\n"
     ]
    }
   ],
   "source": [
    "n0 = 4\n",
    "n = 1\n",
    "d = {}\n",
    "for n in range(1, 34):\n",
    "    k = (n - n0)%7\n",
    "    d[n]=k\n",
    "print(d)"
   ]
  },
  {
   "cell_type": "markdown",
   "metadata": {},
   "source": [
    "Задание 9.\n",
    "Дано целое число N - количество минут прошедших после полуночи. Сколько часов и минут должно\n",
    "показываться на дисплее 24-часовых электронных часов?\n",
    "Ваш код должен напечатать два число разделённых двоеточием: количество часов (между 0 и 23) и\n",
    "количество минут (мкжду 0 and 59).\n",
    "На пример, если N = 150, то 150 минут после полуночи - это 2:30. Это и должна напечатать программа."
   ]
  },
  {
   "cell_type": "code",
   "execution_count": 2,
   "metadata": {},
   "outputs": [
    {
     "name": "stdout",
     "output_type": "stream",
     "text": [
      "2:30\n"
     ]
    }
   ],
   "source": [
    "n = 150\n",
    "h = 150//60\n",
    "m = 150%60\n",
    "print(f'{h}:{m}')"
   ]
  },
  {
   "cell_type": "markdown",
   "metadata": {},
   "source": [
    "Задание 10.\n",
    "Школа решила заменить столы в трех классах. За каждым столом сидят два ученика. Учитывая\n",
    "количество учеников в каждом классе, напечатайте минимально возможное количество столов,\n",
    "которые нужно приобрести.\n",
    "Программа должна принять три целых числа: количество учащихся в каждом из трех классов, a, b и c\n",
    "соответственно.\n",
    "На пример, в первом классе 20 учеников и, следовательно, класс нуждается в 10 столах. Второй класс\n",
    "состоит из 21 ученика, поэтому им нужно не менее, чем 11 столов. 11 столов также достаточно для\n",
    "третьего класса из 22 учеников. Так что нам нужно всего 32 стола."
   ]
  },
  {
   "cell_type": "code",
   "execution_count": 8,
   "metadata": {},
   "outputs": [
    {
     "name": "stdout",
     "output_type": "stream",
     "text": [
      "[20, 21, 22] 32\n"
     ]
    }
   ],
   "source": [
    "n1 = 20\n",
    "n2 = 21\n",
    "n3 = 22\n",
    "l = []\n",
    "l.append(n1)\n",
    "l.append(n2)\n",
    "l.append(n3)\n",
    "sum = 0\n",
    "for i in range(3):\n",
    "    k = (l[i]+1)//2\n",
    "    sum += k\n",
    "print(l, sum)    \n"
   ]
  },
  {
   "cell_type": "markdown",
   "metadata": {},
   "source": [
    "4 посетителя за столом в кафе"
   ]
  },
  {
   "cell_type": "code",
   "execution_count": 22,
   "metadata": {},
   "outputs": [
    {
     "name": "stdout",
     "output_type": "stream",
     "text": [
      "{8: 2, 9: 3, 10: 3, 11: 3, 12: 3, 13: 4}\n"
     ]
    }
   ],
   "source": [
    "l = [i for i in range(8, 14)]\n",
    "a = 4 # чел за столом\n",
    "res = {}\n",
    "for i in l:\n",
    "    k = (i + a - 1)//a\n",
    "    res[i] = k \n",
    "print(res)"
   ]
  },
  {
   "cell_type": "markdown",
   "metadata": {},
   "source": [
    "### Строки"
   ]
  },
  {
   "cell_type": "markdown",
   "metadata": {},
   "source": [
    "Задание 1.\n",
    "Дана строка, состоящая из слов, разделенных пробелами. Определите, сколько слов имеет данная\n",
    "строка."
   ]
  },
  {
   "cell_type": "code",
   "execution_count": 31,
   "metadata": {},
   "outputs": [
    {
     "name": "stdout",
     "output_type": "stream",
     "text": [
      "['Дана', 'строка,', 'состоящая', 'из', 'слов,', 'разделенных', 'пробелами.', 'Определите,', 'сколько', 'слов', 'имеет', 'данная', 'строка.'] 13\n"
     ]
    }
   ],
   "source": [
    "str1 = 'Дана строка, состоящая из слов, разделенных пробелами. Определите, сколько слов имеет данная строка.'\n",
    "l = str1.split()\n",
    "print(l, len(l))"
   ]
  },
  {
   "cell_type": "markdown",
   "metadata": {},
   "source": [
    "Задание 2.\n",
    "Дана строка, состоящая ровно из двух слов, разделенных пробелом.\n",
    "Напечатайте новую строку с заменой первого и второго слов: сначала будет напечатано второе слово,\n",
    "потом первое."
   ]
  },
  {
   "cell_type": "code",
   "execution_count": 9,
   "metadata": {},
   "outputs": [
    {
     "name": "stdout",
     "output_type": "stream",
     "text": [
      "['tree', 'wood'] wood tree tree wood\n"
     ]
    }
   ],
   "source": [
    "str1 = 'wood tree'\n",
    "l = str1.split()\n",
    "# l.reverse()\n",
    "l[0],l[1] = l[1],l[0]\n",
    "str2 = ' '.join(l)\n",
    "print(l, str1, str2)"
   ]
  },
  {
   "cell_type": "markdown",
   "metadata": {},
   "source": [
    "Задание 3.\n",
    "Дана строка, которая может содержать букву f.\n",
    "Напечатайте позицию первого и последнего вхождения f. Если буква f встречается только один раз, то\n",
    "выведите позицию один раз. Если буква f не встречается, напечатайте -1.\n",
    "Позиции букв в слове считайте с 0. Например, в слове hello буква h находится в позиции 0, буква e - в\n",
    "позиции 1, буква o - в позиции 4."
   ]
  },
  {
   "cell_type": "code",
   "execution_count": 22,
   "metadata": {},
   "outputs": [
    {
     "name": "stdout",
     "output_type": "stream",
     "text": [
      "list =  [18, 25]\n"
     ]
    }
   ],
   "source": [
    "str1 = 'How do I list all files of a directory?'\n",
    "l = []\n",
    "r=0\n",
    "k=0\n",
    "while r != -1:\n",
    "    r = str1.find('f', k)\n",
    "    if r != -1:\n",
    "        l.append(r)\n",
    "    k = r + 1\n",
    "print('list = ', l)    "
   ]
  },
  {
   "cell_type": "markdown",
   "metadata": {},
   "source": [
    "Задание 4.\n",
    "Дана какая-то строка. Замените в этой строке все числа 1 словом 'one'.\n",
    "Напечатайте изменённую строку"
   ]
  },
  {
   "cell_type": "code",
   "execution_count": 24,
   "metadata": {},
   "outputs": [
    {
     "name": "stdout",
     "output_type": "stream",
     "text": [
      "1 + 1 = 2 one + one = 2\n"
     ]
    }
   ],
   "source": [
    "str1 = '1 + 1 = 2'\n",
    "str2 = str1.replace('1', 'one')\n",
    "print(str1, str2)"
   ]
  },
  {
   "cell_type": "markdown",
   "metadata": {},
   "source": [
    "Задание 5.\n",
    "Дана строка. Удалите все символы '@' из этой строки.\n",
    "Напечатайте изменённую строку"
   ]
  },
  {
   "cell_type": "code",
   "execution_count": 25,
   "metadata": {},
   "outputs": [
    {
     "name": "stdout",
     "output_type": "stream",
     "text": [
      "john@smith.com johnsmith.com\n"
     ]
    }
   ],
   "source": [
    "str1 = 'john@smith.com'\n",
    "str2 = str1.replace('@', '')\n",
    "print(str1, str2)"
   ]
  },
  {
   "cell_type": "markdown",
   "metadata": {},
   "source": [
    "### Ветвление"
   ]
  },
  {
   "cell_type": "code",
   "execution_count": null,
   "metadata": {},
   "outputs": [],
   "source": [
    "Задание 1.\n",
    "Дано целое положительное число.\n",
    "Напечатайте \"чёт\", если число чётное и \"нечет\", если число нечётное."
   ]
  },
  {
   "cell_type": "code",
   "execution_count": 29,
   "metadata": {},
   "outputs": [
    {
     "name": "stdout",
     "output_type": "stream",
     "text": [
      "odd\n"
     ]
    }
   ],
   "source": [
    "n = 21\n",
    "str1 = 'even' if n%2 == 0 else 'odd'\n",
    "print(str1)"
   ]
  },
  {
   "cell_type": "code",
   "execution_count": 281,
   "metadata": {},
   "outputs": [
    {
     "name": "stdout",
     "output_type": "stream",
     "text": [
      "{0: 'even', 2: 'even', 9: 'odd', 12: 'even', 16: 'even', 17: 'odd', 19: 'odd', 20: 'even'}\n"
     ]
    }
   ],
   "source": [
    "import random\n",
    "d = {random.randrange(21) for i in range(11)}\n",
    "d = {i:'even' if i%2 == 0 else 'odd' for i in d}\n",
    "print(d)\n"
   ]
  },
  {
   "cell_type": "markdown",
   "metadata": {},
   "source": [
    "Нет сортировки, но есть количество"
   ]
  },
  {
   "cell_type": "code",
   "execution_count": 286,
   "metadata": {},
   "outputs": [
    {
     "name": "stdout",
     "output_type": "stream",
     "text": [
      "{17: 'even', 15: 'even', 7: 'even', 18: 'even', 12: 'even', 4: 'even', 16: 'even', 9: 'even', 2: 'even', 13: 'even'}\n"
     ]
    }
   ],
   "source": [
    "d = {}\n",
    "while len(d)<10:\n",
    "    k = random.randrange(21)\n",
    "    d.update({k:'even' if i%2 == 0 else 'odd'})\n",
    "print(d)"
   ]
  },
  {
   "cell_type": "markdown",
   "metadata": {},
   "source": [
    "генерация сортированного списка из `10` разных случайных"
   ]
  },
  {
   "cell_type": "code",
   "execution_count": 300,
   "metadata": {},
   "outputs": [
    {
     "name": "stdout",
     "output_type": "stream",
     "text": [
      "[1, 3, 6, 7, 8, 12, 17, 18, 19, 20]\n"
     ]
    }
   ],
   "source": [
    "import random\n",
    "l = []\n",
    "while len(l)<10:\n",
    "    k = random.randrange(21)\n",
    "    if (k in l)==False:\n",
    "        l.append(k)\n",
    "l.sort()   \n",
    "print(l)"
   ]
  },
  {
   "cell_type": "markdown",
   "metadata": {},
   "source": [
    "Задание 2.\n",
    "Даны два целых числа.\n",
    "Напечатайте меньшее из чисел."
   ]
  },
  {
   "cell_type": "code",
   "execution_count": 305,
   "metadata": {},
   "outputs": [
    {
     "name": "stdout",
     "output_type": "stream",
     "text": [
      "5 5\n"
     ]
    }
   ],
   "source": [
    "l = [5, 8, 7]\n",
    "k = l[0]\n",
    "for i in l:\n",
    "    if i < k:\n",
    "        k = i\n",
    "print(min(l), k)"
   ]
  },
  {
   "cell_type": "markdown",
   "metadata": {},
   "source": [
    "Задание 3.\n",
    "Дано целое число\n",
    "Напечатайте 1, если число положительное; -1, если число отрицательное; 0, если это число ноль."
   ]
  },
  {
   "cell_type": "code",
   "execution_count": 374,
   "metadata": {},
   "outputs": [
    {
     "name": "stdout",
     "output_type": "stream",
     "text": [
      "{3: 1, 4: 1, -1: -1, 7: 1, 5: 1, -3: -1, -7: -1, 2: 1}\n"
     ]
    }
   ],
   "source": [
    "import random\n",
    "l = [random.randrange(-8,8) for i in range(10)]\n",
    "d = {}\n",
    "for i in l:\n",
    "    k = 1\n",
    "    if i<0:\n",
    "        k = -1\n",
    "    d.update({i:k})\n",
    "print(d)"
   ]
  },
  {
   "cell_type": "markdown",
   "metadata": {},
   "source": [
    "Задание 4.\n",
    "Дано целое число\n",
    "Напечатайте \"Да\", если число состоит из 3 цифр и \"Нет\", если не состоит."
   ]
  },
  {
   "cell_type": "code",
   "execution_count": 429,
   "metadata": {},
   "outputs": [
    {
     "name": "stdout",
     "output_type": "stream",
     "text": [
      "[895, 817, 462, 1837, 937, 624, 1232, 950, 158, 1918] [895, 817, 462, 937, 624, 950, 158]\n"
     ]
    }
   ],
   "source": [
    "import random\n",
    "l = [random.randrange(2000) for i in range(10)]\n",
    "l1 = []\n",
    "for i in l:\n",
    "    if i < 1000 and i > 99:\n",
    "        l1.append(i)\n",
    "print(l, l1)"
   ]
  },
  {
   "cell_type": "markdown",
   "metadata": {},
   "source": [
    "Задание 5.\n",
    "Даны два целых числа отличные от числа 0.\n",
    "Напечатайте \"Да\", если хотя бы одно число является положительным и \"Нет\", если оба числа\n",
    "отрицательные."
   ]
  },
  {
   "cell_type": "code",
   "execution_count": 57,
   "metadata": {},
   "outputs": [
    {
     "name": "stdout",
     "output_type": "stream",
     "text": [
      "{4: -8, 5: -7, -5: -1, -6: 4, -1: 6, -8: 3, 2: 7, 3: -8}\n",
      "['Yes', 'Yes', 'No', 'Yes', 'Yes', 'Yes', 'Yes', 'Yes']\n"
     ]
    }
   ],
   "source": [
    "import random\n",
    "d ={random.randrange(-8,8):random.randrange(-8,8) for i in range(11)}\n",
    "l = []\n",
    "for i in d:\n",
    "    if i==0 or d[i]==0:\n",
    "        k=int(i)\n",
    "        l.append(k)\n",
    "for i in l:        \n",
    "    print(i, d[i])\n",
    "    d.pop(i)\n",
    "l = []\n",
    "for i in d:\n",
    "    str = 'No'\n",
    "    if i>0 or d[i]>0:\n",
    "        str ='Yes'\n",
    "    l.append(str)    \n",
    "print(d)\n",
    "print(l)"
   ]
  },
  {
   "cell_type": "markdown",
   "metadata": {},
   "source": [
    "Задание 6.\n",
    "Дано целое положительное число из трёх отличных друг от друга цифр.\n",
    "Напечатайте \"Да\", если цифры следуют друг относительно друга в восходящем порядке слева\n",
    "направо и \"Нет\", если это не так."
   ]
  },
  {
   "cell_type": "code",
   "execution_count": 644,
   "metadata": {},
   "outputs": [
    {
     "name": "stdout",
     "output_type": "stream",
     "text": [
      "1\n",
      "[[378, 'Yes'], [976, 'No'], [561, 'No'], [837, 'No'], [463, 'No'], [640, 'No'], [109, 'No'], [296, 'No'], [632, 'No'], [651, 'No']]\n"
     ]
    }
   ],
   "source": [
    "import random\n",
    "def mNum():\n",
    "    l = []\n",
    "    k = 0\n",
    "    while k < 3:\n",
    "        n = random.randrange(10)\n",
    "        if n == 0 and k ==0:\n",
    "            print(1)\n",
    "            continue\n",
    "        if l.count(n) == 0:\n",
    "            l.append(n)\n",
    "            k += 1\n",
    "    nn = 0\n",
    "    k = 0\n",
    "    for i in l:\n",
    "        nn += i*10**(2 - k)\n",
    "        k += 1\n",
    "    return nn;\n",
    "\n",
    "def mNumList(nn):\n",
    "    l = []\n",
    "    for i in range(1,4):\n",
    "        l.append(nn%(10**(4-i))//(10**(4-i-1)))\n",
    "    return l\n",
    "\n",
    "def mCheckList(l):\n",
    "    k = l[0]\n",
    "    str1 = 'Yes'\n",
    "    for i in l:\n",
    "        if i<k:\n",
    "            str1='No'\n",
    "            break\n",
    "        k = i    \n",
    "    return str1\n",
    "\n",
    "\n",
    "ll = []\n",
    "for i in range(10):\n",
    "    l1 = []\n",
    "    nn = mNum()\n",
    "    l = mNumList(nn)\n",
    "    str1 = mCheckList(l)\n",
    "    l1.append(nn)\n",
    "    l1.append(str1)\n",
    "    ll.append(l1)\n",
    "\n",
    "def mSortVal(l):\n",
    "    return l[1]\n",
    "\n",
    "# ll.sort(key = mSortVal)\n",
    "ll.sort(key = lambda l:l[1])\n",
    "ll.reverse()\n",
    "print(ll)        "
   ]
  },
  {
   "cell_type": "markdown",
   "metadata": {},
   "source": [
    "Задание 7.\n",
    "Дано целое положительное число из четырёх. Число может является палиндромом, то есть читаться\n",
    "одинакого слева направо и справа налево\n",
    "Напечатайте \"Да\", если число является палиндромом и \"Нет\", если не является."
   ]
  },
  {
   "cell_type": "code",
   "execution_count": 709,
   "metadata": {},
   "outputs": [
    {
     "name": "stdout",
     "output_type": "stream",
     "text": [
      "[3773, 5005, 1771, 5555, 2662, 4774, 7667, 3333, 3663, 2772] [156, 254, 259, 339, 348, 359, 436, 509, 542, 628]\n"
     ]
    }
   ],
   "source": [
    "import random\n",
    "\n",
    "def mNum():\n",
    "    l = []\n",
    "    while True:\n",
    "        l = [random.randrange(10) for i in range(4)]\n",
    "        if l[0]!=0 and l[3]!=0:\n",
    "            break\n",
    "    return l[0]*1000+l[1]*100+l[2]*10+l[3]\n",
    "\n",
    "def mNumList(nn):\n",
    "    a=5\n",
    "    l = []\n",
    "    for i in range(1,a):\n",
    "        l.append(nn%(10**(a-i))//(10**(a-i-1)))\n",
    "    return l\n",
    "\n",
    "def mPalindrom(nn):\n",
    "    str1 = 'No'\n",
    "    l = mNumList(nn)\n",
    "    l1 = l.copy()\n",
    "    l1.reverse()\n",
    "    if l == l1:\n",
    "        str1 = 'Yes'\n",
    "    return str1\n",
    "\n",
    "k = 0\n",
    "kn = 10\n",
    "l = []\n",
    "lk = []\n",
    "while True:\n",
    "    nn = mNum()\n",
    "    str1 = mPalindrom(nn)\n",
    "    k += 1\n",
    "    if str1 == 'Yes' or k == 1000:\n",
    "        l.append(nn)\n",
    "        lk.append(k)\n",
    "        kn -=1\n",
    "    if kn == 0 or k == 1000:    \n",
    "        break\n",
    "print(l,  lk)"
   ]
  },
  {
   "cell_type": "code",
   "execution_count": null,
   "metadata": {},
   "outputs": [],
   "source": []
  },
  {
   "cell_type": "code",
   "execution_count": null,
   "metadata": {},
   "outputs": [],
   "source": []
  },
  {
   "cell_type": "code",
   "execution_count": null,
   "metadata": {},
   "outputs": [],
   "source": []
  }
 ],
 "metadata": {
  "kernelspec": {
   "display_name": "Python 3",
   "language": "python",
   "name": "python3"
  },
  "language_info": {
   "codemirror_mode": {
    "name": "ipython",
    "version": 3
   },
   "file_extension": ".py",
   "mimetype": "text/x-python",
   "name": "python",
   "nbconvert_exporter": "python",
   "pygments_lexer": "ipython3",
   "version": "3.6.8"
  }
 },
 "nbformat": 4,
 "nbformat_minor": 4
}
