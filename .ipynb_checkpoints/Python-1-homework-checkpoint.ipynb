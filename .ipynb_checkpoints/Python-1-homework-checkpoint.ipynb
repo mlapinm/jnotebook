{
 "cells": [
  {
   "cell_type": "markdown",
   "metadata": {},
   "source": [
    "Ввод/Вывод\n",
    "Задание 1.\n",
    "Напишите код, который принимает три целых числа и печатает их сумму. Каждое число принимается\n",
    "на отдельной строке."
   ]
  },
  {
   "cell_type": "code",
   "execution_count": 7,
   "metadata": {},
   "outputs": [
    {
     "name": "stdin",
     "output_type": "stream",
     "text": [
      "a1 =  1\n",
      "a2 =  2\n",
      "a3 =  3\n"
     ]
    },
    {
     "name": "stdout",
     "output_type": "stream",
     "text": [
      "sum = 6\n"
     ]
    }
   ],
   "source": [
    "a1 = int(input('a1 = '))\n",
    "a2 = int(input('a2 = '))\n",
    "a3 = int(input('a3 = '))\n",
    "print(f'sum = {a1 + a2 + a3}')"
   ]
  },
  {
   "cell_type": "markdown",
   "metadata": {},
   "source": [
    "Задание 2.\n",
    "Напишите код, который принимает значения основания и высоты прямоугольного треугольника и\n",
    "печатает его площадь. Каждое число принимается на отдельной строке"
   ]
  },
  {
   "cell_type": "code",
   "execution_count": 9,
   "metadata": {},
   "outputs": [
    {
     "name": "stdin",
     "output_type": "stream",
     "text": [
      "h =  3\n",
      "a =  4\n"
     ]
    },
    {
     "name": "stdout",
     "output_type": "stream",
     "text": [
      "S triangle = 6.0\n"
     ]
    }
   ],
   "source": [
    "h = int(input('h = '))\n",
    "a = int(input('a = '))\n",
    "print(f'S triangle = {h*a/2}')"
   ]
  },
  {
   "cell_type": "markdown",
   "metadata": {},
   "source": [
    "Задание 3.\n",
    "Напишите код, который принимает имя пользователя и печатает фразу состоящую из слов \"Привет\",\n",
    "запятой, имени пользователя и восклицательного знака."
   ]
  },
  {
   "cell_type": "code",
   "execution_count": 12,
   "metadata": {},
   "outputs": [
    {
     "name": "stdin",
     "output_type": "stream",
     "text": [
      "Input name:  Yurii\n"
     ]
    },
    {
     "name": "stdout",
     "output_type": "stream",
     "text": [
      "Hello, Yurii!\n"
     ]
    }
   ],
   "source": [
    "name = input('Input name: ')\n",
    "print(f'Hello, {name}!')"
   ]
  },
  {
   "cell_type": "markdown",
   "metadata": {},
   "source": [
    "Задание 4.\n",
    "Напишите код, который принимает целое *число* и печатает *числа*, которые следуют до него и после него.<font color=blue|red|green|pink|yellow>Text</font>\n",
    "<background color = blue>text</background><span style=\"background:#FAF\">word</span>"
   ]
  },
  {
   "cell_type": "code",
   "execution_count": 16,
   "metadata": {},
   "outputs": [
    {
     "name": "stdin",
     "output_type": "stream",
     "text": [
      "Input m =  34\n"
     ]
    },
    {
     "name": "stdout",
     "output_type": "stream",
     "text": [
      "Предыдущее число для 34: 33\n",
      "Следующее число для 34: 35\n"
     ]
    }
   ],
   "source": [
    "m = int(input('Input m = '))\n",
    "print(f'Предыдущее число для {m}: {m-1}')\n",
    "print(f'Следующее число для {m}: {m+1}')"
   ]
  },
  {
   "cell_type": "markdown",
   "metadata": {},
   "source": [
    "Задание 5.\n",
    "N студентов получают K яблок и распределяют их друг другу поровну. Оставшиеся яблоки\n",
    "складываются в корзину."
   ]
  },
  {
   "cell_type": "code",
   "execution_count": 21,
   "metadata": {},
   "outputs": [
    {
     "name": "stdin",
     "output_type": "stream",
     "text": [
      "k_bits =  50\n",
      "n_men =  6\n"
     ]
    },
    {
     "name": "stdout",
     "output_type": "stream",
     "text": [
      "8 у студентов. 2 в корзине.\n"
     ]
    }
   ],
   "source": [
    "binput = True\n",
    "k_bits = 58\n",
    "n_men = 7\n",
    "if binput:\n",
    "    k_bits = int(input('k_bits = '))\n",
    "    n_men = int(input('n_men = '))\n",
    "s_ost = k_bits%n_men\n",
    "s_men = k_bits//n_men\n",
    "print(f'{s_men} у студентов. {s_ost} в корзине.')"
   ]
  },
  {
   "cell_type": "markdown",
   "metadata": {},
   "source": [
    "Задание 7.\n",
    "Даны две метки времени одного дня. Метка времени состоит из полного количества часов, минут и\n",
    "секунд, например: 1 15 23 - один час 15 минут и 23 секунды. Первая метка времени произошла\n",
    "раньше второй.\n",
    "Напишите код, который вычисляет разницу между двумя метками в секундах."
   ]
  },
  {
   "cell_type": "code",
   "execution_count": null,
   "metadata": {},
   "outputs": [],
   "source": [
    "t1 = '1 15 23'\n",
    "t2 = '16 33 00'"
   ]
  }
 ],
 "metadata": {
  "kernelspec": {
   "display_name": "Python 3",
   "language": "python",
   "name": "python3"
  },
  "language_info": {
   "codemirror_mode": {
    "name": "ipython",
    "version": 3
   },
   "file_extension": ".py",
   "mimetype": "text/x-python",
   "name": "python",
   "nbconvert_exporter": "python",
   "pygments_lexer": "ipython3",
   "version": "3.6.6"
  }
 },
 "nbformat": 4,
 "nbformat_minor": 4
}
