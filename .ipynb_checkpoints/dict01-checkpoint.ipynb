{
 "cells": [
  {
   "cell_type": "markdown",
   "metadata": {},
   "source": []
  },
  {
   "cell_type": "markdown",
   "metadata": {},
   "source": [
    "Читаем текст из файла netgear01.txt.  \n",
    "Создаюем сортированный словарь без перевода d,  \n",
    "не включаем слова из словаря из\n",
    "dictnow.txt. Сохраняем файл без перевода dw01.txt  и с переводом dt01.txt.  \n",
    "функции:\n",
    "mReadMain - вся работа, что описано выше   \n",
    "sort - чтение сортировка убирает повторения(без перевода) сохранение  \n",
    "mFileTranslate - чтение и перевод\n",
    "mFileToList() - ниж.рег. без точек, список без повторений\n",
    "mExclude(name1, name2)"
   ]
  },
  {
   "cell_type": "code",
   "execution_count": 56,
   "metadata": {},
   "outputs": [
    {
     "name": "stdout",
     "output_type": "stream",
     "text": [
      "['but ', 'by 1', 'is ', 'the ', 'to ']\n"
     ]
    }
   ],
   "source": [
    "import codecs\n",
    "\n",
    "def sort(name):\n",
    "    s = ''    \n",
    "    with codecs.open(name, 'r', 'utf-8') as file:\n",
    "        s = file.read()\n",
    "    s = s.strip()\n",
    "    l = s.split('\\r\\n')\n",
    "    l.sort()\n",
    "    # delete dubles\n",
    "    d = {}\n",
    "    for i in l:\n",
    "        li = i.split()\n",
    "        if d.get(li[0]) == None:\n",
    "            if len(li) == 2:\n",
    "                d[li[0]] = li[1]\n",
    "            if len(li) == 1:\n",
    "                d[li[0]] = ''\n",
    "        else:\n",
    "            if len(li) == 2:\n",
    "                d[li[0]] = li[1]\n",
    "    l = []\n",
    "    for i in d:\n",
    "        s1 = f'{i} {d[i]}'\n",
    "        l.append(s1)\n",
    "    s = '\\r\\n'.join(l)\n",
    "    with codecs.open(name, 'w', 'utf-8') as file:\n",
    "        file.write(s.strip())\n",
    "#     print(l)\n",
    "\n",
    "    \n",
    "sort(r'template\\dictknow.txt')\n",
    "\n",
    "\n"
   ]
  },
  {
   "cell_type": "code",
   "execution_count": 57,
   "metadata": {},
   "outputs": [
    {
     "name": "stdout",
     "output_type": "stream",
     "text": [
      "resources\tресурсы\n"
     ]
    }
   ],
   "source": [
    "import requests\n",
    "import json\n",
    "\n",
    "def translate(world):\n",
    "    payload = {\n",
    "       'key': r'trnsl.1.1.20190909T123034Z.91e60547a2d5b3f5.bbf98325fde572ca3205b83b31a9034d9ff08f94',\n",
    "       'text':'additional',\n",
    "       'lang':'en-ru'\n",
    "    }\n",
    "    payload['text']=world\n",
    "    url = 'https://translate.yandex.net/api/v1.5/tr.json/translate'\n",
    "    r = requests.post(url, data=payload)\n",
    "    answer = json.loads(r.text)\n",
    "    word = answer['text'][0] if len(answer['text'])>0 else ''\n",
    "    return word\n",
    "\n",
    "# word = 'additional'\n",
    "word = 'resources'\n",
    "slovo = translate(word)\n",
    "print(f'{word}\\t{slovo}') "
   ]
  },
  {
   "cell_type": "code",
   "execution_count": 74,
   "metadata": {},
   "outputs": [
    {
     "name": "stdout",
     "output_type": "stream",
     "text": [
      "['but но', 'by по', 'is это', 'the в', 'to для']\n"
     ]
    }
   ],
   "source": [
    "def mFileTranslate(name):\n",
    "    s = ''    \n",
    "    with codecs.open(name, 'r', 'utf-8') as file:\n",
    "        s = file.read()\n",
    "    s = s.strip()\n",
    "    l = s.split('\\r\\n')\n",
    "    k = 0\n",
    "    l2 = []\n",
    "    for i in l:\n",
    "        li = i.split()\n",
    "        if len(li) == 1:\n",
    "            si = li[0]\n",
    "            st = translate(si)\n",
    "            si = si.strip()\n",
    "            si += f' {st}'\n",
    "            l2.append(si)\n",
    "        if len(li) == 2:\n",
    "            l2.append(i)\n",
    "        k += 1\n",
    "    s = '\\r\\n'.join(l2)\n",
    "    with codecs.open(name, 'w', 'utf-8') as file:\n",
    "        file.write(s.strip())\n",
    "#     print(l2)\n",
    "    \n",
    "mFileTranslate(r'template\\dictknow.txt')\n"
   ]
  },
  {
   "cell_type": "code",
   "execution_count": null,
   "metadata": {},
   "outputs": [],
   "source": []
  },
  {
   "cell_type": "code",
   "execution_count": 86,
   "metadata": {},
   "outputs": [],
   "source": [
    "def mFileToList(nameRead, nameWrite):\n",
    "    s = ''\n",
    "    with codecs.open(nameRead, 'r', 'utf-8') as file:\n",
    "        s = file.read()\n",
    "    s = s.replace(',',' ')\n",
    "    s = s.replace('.',' ')\n",
    "    s = s.replace(':',' ')\n",
    "    s = s.replace(';',' ')\n",
    "    l = s.split()\n",
    "    d = {}\n",
    "    l = [i.lower() for i in l]\n",
    "    for i in l:\n",
    "        d[i]=''\n",
    "#     print(len(d), len(l))\n",
    "    l1 = [i for i in d]\n",
    "    l2 = sorted(l1)\n",
    "    s2 = '\\r\\n'.join(l2)\n",
    "#     print(l2)\n",
    "    with codecs.open(nameWrite, 'w', 'utf-8') as file:\n",
    "        file.write(s2.strip())\n",
    "\n",
    "\n",
    "    \n",
    "mFileToList(r'template\\netgear01.txt', r'template\\dict01.txt')"
   ]
  },
  {
   "cell_type": "code",
   "execution_count": 103,
   "metadata": {},
   "outputs": [
    {
     "name": "stdout",
     "output_type": "stream",
     "text": [
      "38 ['additional', 'and', 'are', 'box', 'but', 'by', 'check', 'cleared', 'compression', 'configure', 'data', 'decompression', 'default', 'enable', 'from', 'how', 'increases', 'is', 'menu', 'of', 'often', 'processes', 'protection', 'require', 'resources', 'saves', 'schedule', 'select', 'snapshot', 'snapshots', 'space', 'speed', 'storage', 'taken', 'the', 'through', 'to', 'transfers']\n",
      "28 ['additional', 'box', 'check', 'cleared', 'compression', 'configure', 'data', 'decompression', 'default', 'enable', 'how', 'increases', 'menu', 'processes', 'protection', 'require', 'resources', 'saves', 'schedule', 'select', 'snapshot', 'snapshots', 'space', 'speed', 'storage', 'taken', 'through', 'transfers']\n"
     ]
    }
   ],
   "source": [
    "def mExclude(name, nameEx):\n",
    "    lEx = []\n",
    "    s = ''\n",
    "    with codecs.open(nameEx, 'r', 'utf-8') as file:\n",
    "        s = file.read()\n",
    "    s = s.strip()\n",
    "    l = s.split('\\r\\n')\n",
    "    for i in l:\n",
    "        li = i.split()\n",
    "        if len(li) > 0:\n",
    "            lEx.append(li[0])\n",
    "    lr = []\n",
    "    with codecs.open(name, 'r', 'utf-8') as file:\n",
    "        s = file.read()\n",
    "    lr = s.strip().split('\\r\\n')\n",
    "    lw = []\n",
    "    for i in lr:\n",
    "        bAppend = True\n",
    "        for j in lEx:\n",
    "            if i == j:\n",
    "                bAppend = False\n",
    "                break\n",
    "        if bAppend == True:\n",
    "            lw.append(i)\n",
    "    s = '\\r\\n'.join(lw)\n",
    "    with codecs.open(name, 'w', 'utf-8') as file:\n",
    "        file.write(s.strip())\n",
    "            \n",
    "    print(len(lr), lr)\n",
    "    print(len(lw), lw)\n",
    "\n",
    "mExclude(r'template\\dict01.txt', r'template\\dictknow.txt')"
   ]
  },
  {
   "cell_type": "code",
   "execution_count": null,
   "metadata": {},
   "outputs": [],
   "source": []
  },
  {
   "cell_type": "code",
   "execution_count": null,
   "metadata": {},
   "outputs": [],
   "source": []
  },
  {
   "cell_type": "code",
   "execution_count": null,
   "metadata": {},
   "outputs": [],
   "source": []
  }
 ],
 "metadata": {
  "kernelspec": {
   "display_name": "Python 3",
   "language": "python",
   "name": "python3"
  },
  "language_info": {
   "codemirror_mode": {
    "name": "ipython",
    "version": 3
   },
   "file_extension": ".py",
   "mimetype": "text/x-python",
   "name": "python",
   "nbconvert_exporter": "python",
   "pygments_lexer": "ipython3",
   "version": "3.6.6"
  }
 },
 "nbformat": 4,
 "nbformat_minor": 4
}
