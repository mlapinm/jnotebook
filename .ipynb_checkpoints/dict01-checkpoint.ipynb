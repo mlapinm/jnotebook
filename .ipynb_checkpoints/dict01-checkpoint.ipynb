{
 "cells": [
  {
   "cell_type": "markdown",
   "metadata": {},
   "source": []
  },
  {
   "cell_type": "markdown",
   "metadata": {},
   "source": [
    "Читаем текст из файла netgear01.txt.  \n",
    "Создаюем сортированный словарь без перевода d,  \n",
    "не включаем слова из словаря из\n",
    "dictnow.txt. Сохраняем файл без перевода dw01.txt  и с переводом dt01.txt.  \n",
    "функции:\n",
    "mReadMain - вся работа, что описано выше   \n",
    "sort - чтение сортировка убирает повторения(без перевода) сохранение  \n",
    "mFileTranslate - чтение и перевод  \n",
    "mFileToList() - ниж.рег. без точек, список без повторений\n",
    "mExclude(name1, name2)"
   ]
  },
  {
   "cell_type": "code",
   "execution_count": 1,
   "metadata": {},
   "outputs": [],
   "source": [
    "import codecs\n",
    "\n",
    "def sort(name):\n",
    "    s = ''    \n",
    "    with codecs.open(name, 'r', 'utf-8') as file:\n",
    "        s = file.read()\n",
    "    s = s.strip()\n",
    "    l = s.split('\\r\\n')\n",
    "    l.sort()\n",
    "    # delete dubles\n",
    "    d = {}\n",
    "    for i in l:\n",
    "        li = i.split()\n",
    "        if len(li) == 0:\n",
    "            continue\n",
    "        if d.get(li[0]) == None:\n",
    "            if len(li) == 2:\n",
    "                d[li[0]] = li[1]\n",
    "            if len(li) == 1:\n",
    "                d[li[0]] = ''\n",
    "        else:\n",
    "            if len(li) == 2:\n",
    "                d[li[0]] = li[1]\n",
    "    l = []\n",
    "    for i in d:\n",
    "        s1 = f'{i} {d[i]}'\n",
    "        l.append(s1)\n",
    "    s = '\\r\\n'.join(l)\n",
    "    with codecs.open(name, 'w', 'utf-8') as file:\n",
    "        file.write(s.strip())\n",
    "#     print(l)\n",
    "\n",
    "    \n",
    "sort(r'template\\dictknow.txt')\n",
    "\n",
    "\n"
   ]
  },
  {
   "cell_type": "code",
   "execution_count": 2,
   "metadata": {},
   "outputs": [
    {
     "name": "stdout",
     "output_type": "stream",
     "text": [
      "resources\tресурсы\n"
     ]
    }
   ],
   "source": [
    "import requests\n",
    "import json\n",
    "\n",
    "def translate(world):\n",
    "    payload = {\n",
    "       'key': r'trnsl.1.1.20190909T123034Z.91e60547a2d5b3f5.bbf98325fde572ca3205b83b31a9034d9ff08f94',\n",
    "       'text':'additional',\n",
    "       'lang':'en-ru'\n",
    "    }\n",
    "    payload['text']=world\n",
    "    url = 'https://translate.yandex.net/api/v1.5/tr.json/translate'\n",
    "    r = requests.post(url, data=payload)\n",
    "    answer = json.loads(r.text)\n",
    "    word = answer['text'][0] if len(answer['text'])>0 else ''\n",
    "    return word\n",
    "\n",
    "# word = 'additional'\n",
    "word = 'resources'\n",
    "slovo = translate(word)\n",
    "print(f'{word}\\t{slovo}') "
   ]
  },
  {
   "cell_type": "code",
   "execution_count": 3,
   "metadata": {},
   "outputs": [
    {
     "name": "stdout",
     "output_type": "stream",
     "text": [
      "mFileTranslate\n"
     ]
    }
   ],
   "source": [
    "def mFileTranslate(name):\n",
    "    s = ''    \n",
    "    with codecs.open(name, 'r', 'utf-8') as file:\n",
    "        s = file.read()\n",
    "    s = s.strip()\n",
    "    l = s.split('\\r\\n')\n",
    "    k = 0\n",
    "    l2 = []\n",
    "    for i in l:\n",
    "        li = i.split()\n",
    "        if len(li) == 1:\n",
    "            si = li[0]\n",
    "            st = translate(si)\n",
    "            si = si.strip()\n",
    "            si += f' {st}'\n",
    "            l2.append(si)\n",
    "        if len(li) == 2:\n",
    "            l2.append(i)\n",
    "        k += 1\n",
    "    s = '\\r\\n'.join(l2)\n",
    "    with codecs.open(name, 'w', 'utf-8') as file:\n",
    "        file.write(s.strip())\n",
    "#     print(l2)\n",
    "    print('mFileTranslate')\n",
    "    \n",
    "mFileTranslate(r'template\\dictknow.txt')\n"
   ]
  },
  {
   "cell_type": "code",
   "execution_count": null,
   "metadata": {},
   "outputs": [],
   "source": []
  },
  {
   "cell_type": "code",
   "execution_count": 4,
   "metadata": {},
   "outputs": [],
   "source": [
    "import re\n",
    "\n",
    "def mFileToList(nameRead, nameWrite):\n",
    "    s1 = ''\n",
    "    with codecs.open(nameRead, 'r', 'utf-8') as file:\n",
    "        s1 = file.read()\n",
    "    s = re.sub(r'([\\W\\d])', r' ', s1)\n",
    "    l = s.split()\n",
    "    d = {}\n",
    "    l = [i.lower() for i in l]\n",
    "    for i in l:\n",
    "        d[i]=''\n",
    "#     print(len(d), len(l))\n",
    "    l1 = [i for i in d]\n",
    "    l21 = sorted(l1)\n",
    "    l2 = []\n",
    "    for i in l21:\n",
    "        if len(i) > 1:\n",
    "            l2.append(i)\n",
    "    s2 = '\\r\\n'.join(l2)\n",
    "#     print(l2)\n",
    "    with codecs.open(nameWrite, 'w', 'utf-8') as file:\n",
    "        file.write(s2.strip())\n",
    "\n",
    "\n",
    "    \n",
    "mFileToList(r'template\\netgear01.txt', r'template\\dict01.txt')"
   ]
  },
  {
   "cell_type": "code",
   "execution_count": 5,
   "metadata": {},
   "outputs": [],
   "source": [
    "def mExclude(name, nameEx):\n",
    "    lEx = []\n",
    "    s = ''\n",
    "    with codecs.open(nameEx, 'r', 'utf-8') as file:\n",
    "        s = file.read()\n",
    "    s = s.strip()\n",
    "    l = s.split('\\r\\n')\n",
    "    for i in l:\n",
    "        li = i.split()\n",
    "        if len(li) > 0:\n",
    "            lEx.append(li[0])\n",
    "    lr = []\n",
    "    with codecs.open(name, 'r', 'utf-8') as file:\n",
    "        s = file.read()\n",
    "    lr = s.strip().split('\\r\\n')\n",
    "    lw = []\n",
    "    for i in lr:\n",
    "        bAppend = True\n",
    "        for j in lEx:\n",
    "            if i == j:\n",
    "                bAppend = False\n",
    "                break\n",
    "        if bAppend == True:\n",
    "            lw.append(i)\n",
    "    s = '\\r\\n'.join(lw)\n",
    "    with codecs.open(name, 'w', 'utf-8') as file:\n",
    "        file.write(s.strip())\n",
    "            \n",
    "#     print(len(lr), lr)\n",
    "#     print(len(lw), lw)\n",
    "\n",
    "mExclude(r'template\\dict01.txt', r'template\\dictknow.txt')"
   ]
  },
  {
   "cell_type": "code",
   "execution_count": 6,
   "metadata": {},
   "outputs": [
    {
     "name": "stdout",
     "output_type": "stream",
     "text": [
      "(aaa123)\n",
      "aaa\n"
     ]
    }
   ],
   "source": [
    "import re\n",
    "\n",
    "s = '(aaa123)'\n",
    "s1 = re.sub(r'([\\W\\d])', r'', s)\n",
    "\n",
    "print(s)\n",
    "print(s1)"
   ]
  },
  {
   "cell_type": "code",
   "execution_count": 8,
   "metadata": {},
   "outputs": [
    {
     "name": "stdout",
     "output_type": "stream",
     "text": [
      "способность\n",
      "способность \n",
      "возможность \n",
      "о\n"
     ]
    }
   ],
   "source": [
    "s11 = 'ability'\n",
    "s12 = 'ability\\r\\n\\\n",
    "able\\r\\n\\\n",
    "about'\n",
    "s21 = translate(s11)\n",
    "s22 = translate(s12)\n",
    "print(s21)\n",
    "print(s22)"
   ]
  },
  {
   "cell_type": "code",
   "execution_count": 49,
   "metadata": {},
   "outputs": [
    {
     "name": "stdout",
     "output_type": "stream",
     "text": [
      "a\n",
      "[170, 75, 198, 142, 107, 87, 44, 47, 113, 10, 11, 68, 118, 54, 72, 148, 11, 184, 225, 107, 60, 36, 58, 5, 8]\n",
      "[100, 70, 75, 100, 98, 100, 42, 100, 7, 87, 44, 47, 100, 13, 10, 11, 68, 100, 18, 54, 72, 100, 48, 11, 100, 84, 100, 100, 25, 100, 7, 60, 36, 58, 5, 8]\n",
      "None\n"
     ]
    }
   ],
   "source": [
    "import codecs\n",
    "\n",
    "def mSimvCount(name):\n",
    "    l = []\n",
    "    with codecs.open(name, 'r', 'utf-8') as file:\n",
    "        l = [i for i in file]\n",
    "    \n",
    "    pi = l[0][0]\n",
    "    print(pi)\n",
    "    k = 0\n",
    "    sum = 0\n",
    "    lc = []\n",
    "    for i in l:\n",
    "        if i[0] != pi:\n",
    "            lc.append(f'{pi} {k}')\n",
    "            pi = i[0]\n",
    "            k = 0\n",
    "        k += 1\n",
    "        sum += 1\n",
    "#     print(sum, lc)\n",
    "    \n",
    "    lc1 = []\n",
    "    for i in lc:\n",
    "        l = i.split()\n",
    "        k = l[1]\n",
    "        lc1.append(int(k))\n",
    "    print(lc1)\n",
    "    \n",
    "    max = 100\n",
    "    l = []\n",
    "    for i in range(len(lc1)):\n",
    "        k = lc1[i]\n",
    "        while True:\n",
    "            if k > max:\n",
    "                k -= max\n",
    "                l.append(max)\n",
    "            else:\n",
    "                l.append(k)\n",
    "                break\n",
    "    print(l)        \n",
    "#         print(k)\n",
    "     \n",
    "l = mSimvCount(r'template\\dict01.txt')\n",
    "print(l)\n"
   ]
  },
  {
   "cell_type": "code",
   "execution_count": 57,
   "metadata": {},
   "outputs": [
    {
     "name": "stdout",
     "output_type": "stream",
     "text": [
      "[5, 4, 100, 70, 75, 100, 98, 100, 42, 100, 7, 87, 44, 47, 100, 13, 10, 11, 68, 100, 18, 54, 72, 100, 48, 11, 100, 84, 100, 100, 25, 100, 7, 60, 36, 58, 5, 8]\n",
      "[9, 9, 9, 9, 9, 9, 9, 9, 9, 94, 91, 91, 34, 34, 34, 72, 72, 72, 59, 59, 59, 59, 59, 59, 59, 67, 99]\n"
     ]
    }
   ],
   "source": [
    "\n",
    "l1 =[5, 4 , 100, 70, 75, 100, 98, 100, 42, 100, 7, 87, 44, 47, 100, 13, 10, 11, 68, 100, \n",
    "     18, 54, 72, 100, 48, 11, 100, 84, 100, 100, 25, 100, 7, 60, 36, 58, 5, 8]\n",
    "\n",
    "\n",
    "max = 100\n",
    "l = []\n",
    "count = len(l1)\n",
    "k1 = l1[0]\n",
    "sum = k1\n",
    "sump = k1\n",
    "for i in range(1,count):\n",
    "    k = l1[i]\n",
    "    sum += k\n",
    "    if sum < max:\n",
    "        sump = sum\n",
    "    else:\n",
    "        l.append(sump)\n",
    "        sum = k\n",
    "\n",
    "\n",
    "        \n",
    "        \n",
    "\n",
    "print(l1)\n",
    "print(l)\n"
   ]
  },
  {
   "cell_type": "code",
   "execution_count": null,
   "metadata": {},
   "outputs": [],
   "source": [
    " "
   ]
  },
  {
   "cell_type": "code",
   "execution_count": 12,
   "metadata": {},
   "outputs": [
    {
     "name": "stdout",
     "output_type": "stream",
     "text": [
      "mFileTranslate\n",
      "123\n"
     ]
    }
   ],
   "source": [
    "def mReadMain():\n",
    "    name = r'template\\dict01.txt'\n",
    "#     mFileToList(r'template\\netgearSoft.txt', \n",
    "#                name)\n",
    "#     sort(name)\n",
    "    mFileTranslate(name)\n",
    "    print('123')\n",
    "    \n",
    "mReadMain()"
   ]
  },
  {
   "cell_type": "code",
   "execution_count": null,
   "metadata": {},
   "outputs": [],
   "source": []
  },
  {
   "cell_type": "code",
   "execution_count": null,
   "metadata": {},
   "outputs": [],
   "source": []
  }
 ],
 "metadata": {
  "kernelspec": {
   "display_name": "Python 3",
   "language": "python",
   "name": "python3"
  },
  "language_info": {
   "codemirror_mode": {
    "name": "ipython",
    "version": 3
   },
   "file_extension": ".py",
   "mimetype": "text/x-python",
   "name": "python",
   "nbconvert_exporter": "python",
   "pygments_lexer": "ipython3",
   "version": "3.6.6"
  }
 },
 "nbformat": 4,
 "nbformat_minor": 4
}
