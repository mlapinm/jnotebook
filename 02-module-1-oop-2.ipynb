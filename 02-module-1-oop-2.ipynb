{
 "cells": [
  {
   "cell_type": "markdown",
   "metadata": {
    "slideshow": {
     "slide_type": "slide"
    }
   },
   "source": [
    "# Модуль 1. Объектно-Ориентированное Программирование\n",
    "## Наследование"
   ]
  },
  {
   "cell_type": "markdown",
   "metadata": {
    "slideshow": {
     "slide_type": "slide"
    }
   },
   "source": [
    "### Супер-класс и класс наследник"
   ]
  },
  {
   "cell_type": "code",
   "execution_count": null,
   "metadata": {
    "slideshow": {
     "slide_type": "fragment"
    }
   },
   "outputs": [],
   "source": [
    "class СуперКласс(object):\n",
    "    pass\n"
   ]
  },
  {
   "cell_type": "code",
   "execution_count": null,
   "metadata": {
    "slideshow": {
     "slide_type": "fragment"
    }
   },
   "outputs": [],
   "source": [
    "class КлассНаследник(СуперКласс):\n",
    "    pass\n"
   ]
  },
  {
   "cell_type": "code",
   "execution_count": null,
   "metadata": {
    "slideshow": {
     "slide_type": "fragment"
    }
   },
   "outputs": [],
   "source": [
    "объект_супер = СуперКласс()\n",
    "объект = КлассНаследник()\n",
    "\n",
    "isinstance(объект, КлассНаследник) # True\n",
    "isinstance(объект, СуперКласс) # True\n",
    "issubclass(КлассНаследник, СуперКласс) # True\n"
   ]
  },
  {
   "cell_type": "markdown",
   "metadata": {
    "slideshow": {
     "slide_type": "slide"
    }
   },
   "source": [
    "### Расширение класса методами"
   ]
  },
  {
   "cell_type": "markdown",
   "metadata": {
    "slideshow": {
     "slide_type": "subslide"
    }
   },
   "source": [
    "### Добавление метода"
   ]
  },
  {
   "cell_type": "code",
   "execution_count": null,
   "metadata": {
    "slideshow": {
     "slide_type": "fragment"
    }
   },
   "outputs": [],
   "source": [
    "class СуперКласс:\n",
    "    def метод1(self):\n",
    "        pass\n",
    "    def метод2(self):\n",
    "        pass\n",
    "    "
   ]
  },
  {
   "cell_type": "code",
   "execution_count": null,
   "metadata": {
    "slideshow": {
     "slide_type": "fragment"
    }
   },
   "outputs": [],
   "source": [
    "class КлассНаследник(СуперКласс):\n",
    "    def метод(self):\n",
    "        pass\n"
   ]
  },
  {
   "cell_type": "code",
   "execution_count": null,
   "metadata": {
    "slideshow": {
     "slide_type": "fragment"
    }
   },
   "outputs": [],
   "source": [
    "объект = КлассНаследник()\n",
    "\n",
    "объект.метод()\n",
    "объект.метод1()\n",
    "объект.метод2()\n"
   ]
  },
  {
   "cell_type": "markdown",
   "metadata": {
    "slideshow": {
     "slide_type": "subslide"
    }
   },
   "source": [
    "### Переопределение метода"
   ]
  },
  {
   "cell_type": "code",
   "execution_count": null,
   "metadata": {
    "slideshow": {
     "slide_type": "fragment"
    }
   },
   "outputs": [],
   "source": [
    "class СуперКласс:\n",
    "    def метод1(self):\n",
    "        pass\n",
    "    def метод2(self):\n",
    "        pass\n",
    "    "
   ]
  },
  {
   "cell_type": "code",
   "execution_count": null,
   "metadata": {
    "slideshow": {
     "slide_type": "fragment"
    }
   },
   "outputs": [],
   "source": [
    "class КлассНаследник(СуперКласс):\n",
    "    def метод2(self, параметр):\n",
    "        pass\n"
   ]
  },
  {
   "cell_type": "code",
   "execution_count": null,
   "metadata": {
    "slideshow": {
     "slide_type": "fragment"
    }
   },
   "outputs": [],
   "source": [
    "объект = КлассНаследник()\n",
    "\n",
    "объект.метод1()\n",
    "объект.метод2('значение')\n"
   ]
  },
  {
   "cell_type": "markdown",
   "metadata": {
    "slideshow": {
     "slide_type": "subslide"
    }
   },
   "source": [
    "### Обращение к методу супер-класса"
   ]
  },
  {
   "cell_type": "code",
   "execution_count": null,
   "metadata": {
    "slideshow": {
     "slide_type": "fragment"
    }
   },
   "outputs": [],
   "source": [
    "class СуперКласс:\n",
    "    def метод(self, параметр):\n",
    "        pass\n",
    "    "
   ]
  },
  {
   "cell_type": "code",
   "execution_count": null,
   "metadata": {
    "slideshow": {
     "slide_type": "fragment"
    }
   },
   "outputs": [],
   "source": [
    "class КлассНаследник(СуперКласс):\n",
    "    def метод(self, параметр1, параметр2):\n",
    "        СуперКласс.метод2(self, параметр1)\n",
    "        "
   ]
  },
  {
   "cell_type": "code",
   "execution_count": null,
   "metadata": {
    "slideshow": {
     "slide_type": "fragment"
    }
   },
   "outputs": [],
   "source": [
    "объект = КлассНаследник()\n",
    "\n",
    "объект.метод('значение1', 'значение2')\n"
   ]
  },
  {
   "cell_type": "code",
   "execution_count": null,
   "metadata": {
    "slideshow": {
     "slide_type": "fragment"
    }
   },
   "outputs": [],
   "source": [
    "class КлассНаследник(СуперКласс):\n",
    "    def метод(self, параметр1, параметр2):\n",
    "        super().метод(параметр1) # Ого! никакого self!\n"
   ]
  },
  {
   "cell_type": "markdown",
   "metadata": {
    "slideshow": {
     "slide_type": "slide"
    }
   },
   "source": [
    "### Перегрузка операторов"
   ]
  },
  {
   "cell_type": "code",
   "execution_count": null,
   "metadata": {
    "slideshow": {
     "slide_type": "fragment"
    }
   },
   "outputs": [],
   "source": [
    "class Человек:\n",
    "    def __init__(self, возраст):\n",
    "        self.возраст = возраст\n",
    "    \n",
    "    def __eq__(self, другой_объект):\n",
    "        return self.возраст == другой_объект.возраст\n",
    "    \n",
    "    def __lt__(self, другой_объект):\n",
    "        return self.возраст < другой_объект.возраст\n",
    "    \n",
    "    def __gt__(self, другой_объект):\n",
    "        return self.возраст > другой_объект.возраст\n",
    "        "
   ]
  },
  {
   "cell_type": "code",
   "execution_count": null,
   "metadata": {
    "slideshow": {
     "slide_type": "fragment"
    }
   },
   "outputs": [],
   "source": [
    "вася = Человек(25)\n",
    "петя = Человек(33)\n",
    "федя = Человек(25)\n",
    "\n",
    "print(вася == федя)\n",
    "print(вася > федя)\n",
    "print(вася > петя)\n"
   ]
  },
  {
   "cell_type": "markdown",
   "metadata": {
    "slideshow": {
     "slide_type": "slide"
    }
   },
   "source": [
    "## Практикум"
   ]
  },
  {
   "cell_type": "markdown",
   "metadata": {
    "slideshow": {
     "slide_type": "fragment"
    }
   },
   "source": [
    "Создайте класс ```User``` и и его наследника класс ```SuperUser```, которые описывают пользователя и супер-пользователя"
   ]
  },
  {
   "cell_type": "markdown",
   "metadata": {
    "slideshow": {
     "slide_type": "subslide"
    }
   },
   "source": [
    "В классе ```User``` необходимо описать:\n",
    "\n",
    "- ```конструктор```, который принимает в качестве параметров значения для атрибутов ```name```, ```login``` и ```password```\n",
    "- ```свойства``` для изменения и получения значений атрибутов\n",
    "- метод ```show_info```, который *печатает* в произвольном формате значения атрибутов ```name``` и ```login```\n",
    "- атрибут класса ```count``` для хранения количества созданных экземпляров класса ```User```\n"
   ]
  },
  {
   "cell_type": "markdown",
   "metadata": {
    "slideshow": {
     "slide_type": "subslide"
    }
   },
   "source": [
    "Необходимые условия, которые надо учесть:\n",
    "\n",
    "После создания объекта\n",
    "- атрибут ```name``` доступен и для чтения, и для изменения\n",
    "- атрибут ```login``` доступен только для чтения\n",
    "- атрибут ```password``` доступен только для изменения\n"
   ]
  },
  {
   "cell_type": "markdown",
   "metadata": {
    "slideshow": {
     "slide_type": "subslide"
    }
   },
   "source": [
    "В классе ```SuperUser``` необходимо описать:\n",
    "\n",
    "- ```конструктор```, который принимает в качестве параметров значения для атрибутов ```name```, ```login```,  ```password``` и ```role```\n",
    "- ```свойство``` для изменения и получения значения атрибута ```role```\n",
    "- метод ```show_info```, который *печатает* в произвольном формате значения атрибутов ```name```, ```login``` и ```role```\n",
    "- атрибут класса ```count``` для хранения количества созданных экземпляров класса ```SuperUser```\n"
   ]
  },
  {
   "cell_type": "markdown",
   "metadata": {
    "slideshow": {
     "slide_type": "subslide"
    }
   },
   "source": [
    "### Как это должно работать"
   ]
  },
  {
   "cell_type": "markdown",
   "metadata": {
    "slideshow": {
     "slide_type": "fragment"
    }
   },
   "source": [
    "```python\n",
    "user1 = User('Paul McCartney', 'paul', '1234')\n",
    "user2 = User('George Harrison', 'george', '5678')\n",
    "user3 = User('Richard Starkey', 'ringo', '8523')\n",
    "admin = User('John Lennon', 'john', '0000', 'admin')\n",
    "\n",
    "user1.show_info() # Например: Name: Paul McCartney, Login: paul\n",
    "admin.show_info() # Например: Name: John Lennon, Login: john\n",
    "\n",
    "users = User.count\n",
    "admins = SuperUser.count\n",
    "\n",
    "print(f'Всего обычных пользователей: {users}') # Всего обычных пользователей: 3\n",
    "print(f'Всего супер-пользователей: {admins}') # Всего супер-пользователей: 1\n",
    "\n",
    "user3.name = 'Ringo Star'\n",
    "print(user3.name) # Ringo Starr\n",
    "\n",
    "print(user2.login) # george\n",
    "user2.login = 'geo' # Должна быть ошибка\n",
    "\n",
    "user1.password = 'Pa$$w0rd'\n",
    "print(user2.password) # Должна быть ошибка\n",
    "```\n"
   ]
  },
  {
   "cell_type": "markdown",
   "metadata": {
    "slideshow": {
     "slide_type": "slide"
    }
   },
   "source": [
    "# Выводы\n",
    "#### Классы могут расширяться путём наследования\n",
    "#### Наследования является одним из важных средств повторного использования готового кода в ООП\n",
    "#### Наследованный класс содержит в себе всё, что указано для всех его родительских классов\n",
    "#### Переопределение (override) метода — одна из возможностей ООП, позволяющая подклассу обеспечивать специфическую реализацию метода, уже реализованного в одном из суперклассов\n",
    "#### Объект ```super``` используется для обращения к методу суперкласса из подкласса\n",
    "#### Перегрузка (overload) операторов — один из способов реализации полиморфизма, заключающийся в возможности одновременного существования нескольких различных вариантов применения оператора, имеющих одно и то же имя, но различающихся типами параметров, к которым они применяются."
   ]
  }
 ],
 "metadata": {
  "celltoolbar": "Slideshow",
  "kernelspec": {
   "display_name": "Python 3",
   "language": "python",
   "name": "python3"
  },
  "language_info": {
   "codemirror_mode": {
    "name": "ipython",
    "version": 3
   },
   "file_extension": ".py",
   "mimetype": "text/x-python",
   "name": "python",
   "nbconvert_exporter": "python",
   "pygments_lexer": "ipython3",
   "version": "3.6.3"
  }
 },
 "nbformat": 4,
 "nbformat_minor": 2
}
