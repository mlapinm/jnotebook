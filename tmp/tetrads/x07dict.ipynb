{
 "cells": [
  {
   "cell_type": "markdown",
   "metadata": {},
   "source": []
  },
  {
   "cell_type": "markdown",
   "metadata": {},
   "source": [
    "### test"
   ]
  },
  {
   "cell_type": "markdown",
   "metadata": {},
   "source": [
    "[googletrans](https://www.thepythoncode.com/article/translate-text-in-python)  \n",
    "pip install googletrans"
   ]
  },
  {
   "cell_type": "code",
   "execution_count": 3,
   "metadata": {},
   "outputs": [
    {
     "name": "stdout",
     "output_type": "stream",
     "text": [
      "Это ручка.\n"
     ]
    }
   ],
   "source": [
    "from googletrans import Translator, constants\n",
    "from pprint import pprint\n",
    "# init the Google API translator\n",
    "translator = Translator()\n",
    "\n",
    "def translate(text):\n",
    "    translation = translator.translate(text, src=\"en\", dest=\"ru\")\n",
    "#     print(f\"{translation.origin} ({translation.src}) --> {translation.text} ({translation.dest})\")    return translation\n",
    "    return translation.text\n",
    "\n",
    "text = \"This is a pen.\"    \n",
    "translation = translate(text)   \n",
    "print(translation)\n"
   ]
  },
  {
   "cell_type": "code",
   "execution_count": 1,
   "metadata": {},
   "outputs": [
    {
     "name": "stdout",
     "output_type": "stream",
     "text": [
      "bad плохо\n"
     ]
    }
   ],
   "source": [
    "import os\n",
    "\n",
    "import requests\n",
    "import json\n",
    "\n",
    "def translate(world):\n",
    "    payload = {\n",
    "       'key': r'trnsl.1.1.20190909T123034Z.91e60547a2d5b3f5.bbf98325fde572ca3205b83b31a9034d9ff08f94',\n",
    "       'text':'additional',\n",
    "       'lang':'en-ru'\n",
    "    }\n",
    "    payload['text']=world\n",
    "    url = 'https://translate.yandex.net/api/v1.5/tr.json/translate'\n",
    "    r = requests.post(url, data=payload)\n",
    "#     print(r)\n",
    "    answer = json.loads(r.text)\n",
    "    word = answer['text'][0] if len(answer['text'])>0 else ''\n",
    "    return word\n",
    "\n",
    "value = 'bad'\n",
    "result = translate(value)\n",
    "print(value, result)\n"
   ]
  },
  {
   "cell_type": "markdown",
   "metadata": {},
   "source": [
    "### sentence"
   ]
  },
  {
   "cell_type": "code",
   "execution_count": 6,
   "metadata": {},
   "outputs": [
    {
     "name": "stdout",
     "output_type": "stream",
     "text": [
      "2012 2012\n"
     ]
    }
   ],
   "source": [
    "\n",
    "import re \n",
    "\n",
    "def smallLetter(s):\n",
    "# ```\n",
    "# 'aa'=>True, 'Aa'=>Fale\n",
    "# ```    \n",
    "    res = False\n",
    "    x = re.search(r'^[^A-Z]', s)\n",
    "#     print(x, s)\n",
    "    if x:\n",
    "      res = True\n",
    "    return res\n",
    "\n",
    "def toListSentence(s):\n",
    "    '''\n",
    "    'aa. bb. cc! dd.' => ['aa.', 'bb.', 'cc!', 'dd.']\n",
    "    '''\n",
    "    res = []\n",
    "    s = re.sub(r'\\.\\.\\.','---',s)\n",
    "    l = re.split(r'([\\.\\!\\?])[^\\\"]', s)\n",
    "    l2 = ['']\n",
    "    for i in l:\n",
    "       x = re.search(r'^[\\.\\!\\?]$', i)\n",
    "       if x:\n",
    "            l2[len(l2)-1] += i\n",
    "       else:\n",
    "            l2.append(i)\n",
    "    for i in l2:\n",
    "        s = i.strip()\n",
    "        s = re.sub(r'---','...',s)\n",
    "        if len(s)>0:\n",
    "            res.append(s)\n",
    "    return res\n",
    "\n",
    "def addStrCount(sall, num, sv):\n",
    "    '''\n",
    "    in sall[num] += sv\n",
    "    len(sall[num]) < max\n",
    "    return True if append\n",
    "    return False in not append\n",
    "    '''\n",
    "    max = 500\n",
    "    if len(sall[num])+len(sv) < max:\n",
    "        sall[num] += f\"{sv}\\n\"\n",
    "        return True\n",
    "    else:\n",
    "        return False\n",
    "\n",
    "def mListRefact(lin, lout):\n",
    "    '''\n",
    "    ['1','2','3','4','5'] => ['12','34','5']\n",
    "    '''\n",
    "    lout.append('')\n",
    "    num = 0\n",
    "    for i,v in enumerate(lin):\n",
    "        res = addStrCount(lout, num, v)\n",
    "        if not res:\n",
    "            lout.append('')\n",
    "            num +=1\n",
    "            res = addStrCount(lout, num, v)\n",
    "            if not res:\n",
    "                break\n",
    "                \n",
    "def mListRefactBack(lin, lout):\n",
    "    for i,v in enumerate(lin):\n",
    "#        l = toListSentence(v)\n",
    "       l = v.split('\\n')\n",
    "       l = list(filter(lambda v: len(v)>0, l))\n",
    "       for v2 in l:\n",
    "            lout.append(v2)\n",
    "            \n",
    "            \n",
    "\n",
    "def translateList(lienVal, l2en, l2ru):\n",
    "    '''\n",
    "    lien => l2en, l2ru\n",
    "    '''\n",
    "    lien = []\n",
    "    mListRefact(lienVal, lien)\n",
    "    liru = []\n",
    "    for v in lien:\n",
    "        s = translate(v)\n",
    "        liru.append(s)\n",
    "###################################        \n",
    "#     print(11,lien)\n",
    "    mListRefactBack(lien, l2en)\n",
    "    mListRefactBack(liru, l2ru)\n",
    "\n",
    "def enru():\n",
    "\n",
    "    lien = []\n",
    "    with open(\"x02en.txt\", encoding=\"utf8\") as fileEn:\n",
    "        for i in fileEn:\n",
    "            lien.append(i.strip())\n",
    "\n",
    "\n",
    "    lien2 = []\n",
    "    lien2.append(lien[0])\n",
    "    for i in range(1,len(lien)):\n",
    "    #   print(lien2)  \n",
    "      if not smallLetter(lien[i]):  \n",
    "        lien2.append(lien[i])\n",
    "      else:\n",
    "        lien2[len(lien2)-1] += \" \" + lien[i]\n",
    "\n",
    "    lien3 = []\n",
    "    for i in lien2:\n",
    "        l = toListSentence(i)\n",
    "        for j in l:\n",
    "            lien3.append(j)\n",
    "\n",
    "    \n",
    "    \n",
    "#     liru2 = []        \n",
    "#     for i in lien3:\n",
    "#         s = translate(i)\n",
    "#         liru2.append(s)\n",
    "\n",
    "    lien4 = [] \n",
    "    liru2 = []\n",
    "    translateList(lien3, lien4, liru2)\n",
    "\n",
    "    with open(\"x02en.txt\", \"w\", encoding=\"utf8\") as fileEn:\n",
    "      fileEn.write('\\n'.join(lien3))   # lien4\n",
    "\n",
    "    with open(\"x02ru.txt\", \"w\", encoding=\"utf8\") as fileEn:\n",
    "      fileEn.write('\\n'.join(liru2))\n",
    "\n",
    "\n",
    "    print(len(lien), len(lien3))\n",
    "\n",
    "enru()\n",
    "    \n"
   ]
  },
  {
   "cell_type": "markdown",
   "metadata": {},
   "source": [
    "## Translate Word List"
   ]
  },
  {
   "cell_type": "code",
   "execution_count": 48,
   "metadata": {},
   "outputs": [],
   "source": [
    "s = '''\n",
    "[1](https://www.youtube.com/watch?v=ZNznfwTbN7I)  \n",
    "\n",
    "Top 20 British English Verbs 1\n",
    "woman\n",
    "[2](https://www.youtube.com/watch?v=ZNznfwTbN7I)  \n",
    "\n",
    "Top 20 British English Verbs 1\n",
    "woman\n",
    "'''"
   ]
  },
  {
   "cell_type": "code",
   "execution_count": 142,
   "metadata": {},
   "outputs": [
    {
     "name": "stdout",
     "output_type": "stream",
     "text": [
      "[[[5], 4], [3, 4]]\n"
     ]
    }
   ],
   "source": [
    "l = []\n",
    "ll = []\n",
    "l.append(3)\n",
    "l.append(4)\n",
    "ll.append(l)\n",
    "l =[]\n",
    "l.append(3)\n",
    "l.append(4)\n",
    "ll.append(l)\n",
    "ll[0][0] = [5]\n",
    "print(ll)"
   ]
  },
  {
   "cell_type": "code",
   "execution_count": 4,
   "metadata": {},
   "outputs": [
    {
     "name": "stdout",
     "output_type": "stream",
     "text": [
      "11 11\n"
     ]
    }
   ],
   "source": [
    "def enru():\n",
    "    lien = []\n",
    "    len1 = 0\n",
    "    len2 = 0\n",
    "    with open(\"x02en.txt\", encoding=\"utf8\") as fileEn:\n",
    "        for i in fileEn:\n",
    "            lien.append(i.strip())\n",
    "        len1 = len(lien)    \n",
    "        lien = list(filter(lambda x: len(x.strip()) > 0, lien))   \n",
    "        len2 = len(lien)    \n",
    "    s = '\\n'.join(lien)\n",
    "    if len1 != len2:\n",
    "        with open(\"x02en.txt\", 'w', encoding=\"utf8\") as fileEn:\n",
    "            fileEn.write('\\n'.join(lien))\n",
    "    print(len1,len2)\n",
    "#     print(s)\n",
    "    \n",
    "    s2 = translate(s)\n",
    "    \n",
    "    with open(\"x02ru.txt\", \"w\", encoding=\"utf8\") as fileEn:\n",
    "      fileEn.write(s2)\n",
    "    \n",
    "enru()    "
   ]
  },
  {
   "cell_type": "markdown",
   "metadata": {},
   "source": [
    "### dict"
   ]
  },
  {
   "cell_type": "code",
   "execution_count": 9,
   "metadata": {},
   "outputs": [
    {
     "name": "stdout",
     "output_type": "stream",
     "text": [
      "11 11\n"
     ]
    }
   ],
   "source": [
    "enru()\n",
    "lien = []\n",
    "with open(\"x02en.txt\", encoding=\"utf8\") as fileEn:\n",
    "    for i in fileEn:\n",
    "        lien.append(i.strip())\n",
    "liru = []\n",
    "with open(\"x02ru.txt\", encoding=\"utf8\") as fileRu:\n",
    "    for i in fileRu:\n",
    "        liru.append(i.strip())\n",
    "ltab = []\n",
    "\n",
    "ltab.append(\"_|_\") \n",
    "ltab.append(\"--|--\") \n",
    "\n",
    "# print(len(lien), len(liru))\n",
    "\n",
    "if len(lien) == len(liru):\n",
    "#     print(len(lien), len(liru))\n",
    "    for i in range(len(lien)):\n",
    "        s = lien[i]\n",
    "        s += \"|\"\n",
    "        s += liru[i]\n",
    "        \n",
    "        ltab.append(s)\n",
    "\n",
    "s = \"\"\n",
    "for i in ltab:\n",
    "    s += i\n",
    "    s += \"\\n\"\n",
    "    \n",
    "with open(\"x02tab.md\",\"w\", encoding=\"utf8\") as fileTab:\n",
    "    fileTab.write(s)\n",
    "\n",
    "    \n",
    "# print(s)\n"
   ]
  },
  {
   "cell_type": "code",
   "execution_count": null,
   "metadata": {},
   "outputs": [],
   "source": []
  },
  {
   "cell_type": "markdown",
   "metadata": {},
   "source": [
    "## mMakeListSentence"
   ]
  },
  {
   "cell_type": "code",
   "execution_count": 2,
   "metadata": {},
   "outputs": [],
   "source": [
    "s = '''\n",
    "\n",
    "'''"
   ]
  },
  {
   "cell_type": "markdown",
   "metadata": {},
   "source": [
    "## don't reapet"
   ]
  },
  {
   "cell_type": "code",
   "execution_count": 24,
   "metadata": {},
   "outputs": [],
   "source": [
    "l = s.split('\\n')\n",
    "s2 = 'bicy1cle'\n",
    "l2 = []\n",
    "for v in l:\n",
    "    v = v.strip()\n",
    "    if len(v) != 0:\n",
    "        if l2.count(v) == 0:\n",
    "            l2.append(v)\n",
    "s = '\\n'.join(l2)\n",
    "# print(s)     \n"
   ]
  },
  {
   "cell_type": "code",
   "execution_count": 3,
   "metadata": {
    "scrolled": true
   },
   "outputs": [],
   "source": [
    "\n",
    "\n",
    "def mMakeSentence(s):\n",
    "    '''\n",
    "    sad => Sad.\n",
    "    '''\n",
    "    res = s.strip()\n",
    "    if len(res)==0:\n",
    "        return res\n",
    "    res += '.' if res[-1] != '.' else ''\n",
    "    res = res[0].upper() + res[1:]\n",
    "    return res\n",
    "\n",
    "def mMakeListSentence(s):\n",
    "    l = s.split('\\n')\n",
    "    l = list(filter(lambda v: len(v)>0, l))\n",
    "    l2 = list(map(mMakeSentence, l))\n",
    "    [print(i) for i in l2]\n",
    "s2 = '''\n",
    "'''\n",
    "mMakeListSentence(s)"
   ]
  },
  {
   "cell_type": "markdown",
   "metadata": {},
   "source": [
    "## make links"
   ]
  },
  {
   "cell_type": "code",
   "execution_count": 4,
   "metadata": {},
   "outputs": [],
   "source": [
    "s = '''\n",
    "n-strings in dir\n",
    "CCNA\n",
    "1 contexts\n",
    "2 make srt_en_ru and tabs_en_ru\n",
    "'''"
   ]
  },
  {
   "cell_type": "code",
   "execution_count": 5,
   "metadata": {},
   "outputs": [
    {
     "name": "stdout",
     "output_type": "stream",
     "text": [
      "[n-strings in dir](#n-strings-in-dir)   \n",
      "[CCNA](#CCNA)   \n",
      "[1 contexts](#1-contexts)   \n",
      "[2 make srt_en_ru and tabs_en_ru](#2-make-srt_en_ru-and-tabs_en_ru)   \n"
     ]
    }
   ],
   "source": [
    "l = s.split('\\n') \n",
    "l = [v.strip() for v in l]\n",
    "l = list(filter(lambda v: len(v)>0, l))\n",
    "l2 = []\n",
    "for v in l:\n",
    "    s1 = v\n",
    "    s2 = v.replace(' ', '-')\n",
    "    s3 = f'[{s1}](#{s2})   '\n",
    "    print(s3)\n",
    "\n",
    "# print(l)"
   ]
  },
  {
   "cell_type": "markdown",
   "metadata": {},
   "source": [
    "[Language Translation in Python](https://pythonprogramminglanguage.com/translate/)  \n",
    "[habr Translate API.](https://qna.habr.com/q/16856)  \n",
    "[Translate Python](https://translate-python.readthedocs.io/en/latest/tutorial.html)  \n",
    "[]()  \n",
    "[]()  \n",
    "[]()  \n",
    "[]()  \n",
    "[]()  \n",
    "[]()  \n",
    "[]()  \n",
    "[]()  \n"
   ]
  }
 ],
 "metadata": {
  "kernelspec": {
   "display_name": "Python 3",
   "language": "python",
   "name": "python3"
  },
  "language_info": {
   "codemirror_mode": {
    "name": "ipython",
    "version": 3
   },
   "file_extension": ".py",
   "mimetype": "text/x-python",
   "name": "python",
   "nbconvert_exporter": "python",
   "pygments_lexer": "ipython3",
   "version": "3.7.8"
  }
 },
 "nbformat": 4,
 "nbformat_minor": 2
}
