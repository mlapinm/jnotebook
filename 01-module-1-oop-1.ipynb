{
 "cells": [
  {
   "cell_type": "markdown",
   "metadata": {
    "slideshow": {
     "slide_type": "slide"
    }
   },
   "source": [
    "# Модуль 1. Объектно-Ориентированное Программирование\n",
    "## Фундаментальные основы"
   ]
  },
  {
   "cell_type": "markdown",
   "metadata": {
    "slideshow": {
     "slide_type": "slide"
    }
   },
   "source": [
    "### Программа: чтение с клавиатуры; вывод в терминал."
   ]
  },
  {
   "cell_type": "markdown",
   "metadata": {
    "slideshow": {
     "slide_type": "fragment"
    }
   },
   "source": [
    "```python\n",
    "def process():\n",
    "    msg = input('Введите что-нибудь: ')\n",
    "    print(msg)\n",
    "\n",
    "process()\n",
    "```"
   ]
  },
  {
   "cell_type": "markdown",
   "metadata": {
    "slideshow": {
     "slide_type": "subslide"
    }
   },
   "source": [
    "### Добавляем: чтение из файла"
   ]
  },
  {
   "cell_type": "markdown",
   "metadata": {
    "slideshow": {
     "slide_type": "fragment"
    }
   },
   "source": [
    "```python\n",
    "def file_read():\n",
    "    return \"Зачитали файл\"\n",
    "\n",
    "\n",
    "def process(from_file=False):\n",
    "    if from_file:\n",
    "        msg = file_read()\n",
    "    else:  \n",
    "        msg = input('Введите что-нибудь: ')\n",
    "    print(msg)\n",
    "\n",
    "process()\n",
    "process(True)\n",
    "```"
   ]
  },
  {
   "cell_type": "markdown",
   "metadata": {
    "slideshow": {
     "slide_type": "subslide"
    }
   },
   "source": [
    "### Добавляем: отправить данные по сети"
   ]
  },
  {
   "cell_type": "markdown",
   "metadata": {
    "slideshow": {
     "slide_type": "fragment"
    }
   },
   "source": [
    "```python\n",
    "def file_read():\n",
    "    return \"Зачитали файл\"\n",
    "\n",
    "def from_terminal():\n",
    "    return input('Введите что-нибудь: ')\n",
    "\n",
    "def to_terminal(msg):\n",
    "    print(f'Послали в терминал: {msg}')  \n",
    "\n",
    "def send_message(msg):\n",
    "    print(f\"Послали по сети: {msg}\")\n",
    "\n",
    "def process(from_file=False, send_to=False):\n",
    "    if from_file:\n",
    "        msg = file_read()\n",
    "    else:  \n",
    "        msg = from_terminal()\n",
    "        if send_to:\n",
    "            send_message(msg)\n",
    "        else:\n",
    "            to_terminal(msg)\n",
    "\n",
    "process()\n",
    "process(True)\n",
    "process(True, True)\n",
    "process(False, True)\n",
    "```"
   ]
  },
  {
   "cell_type": "markdown",
   "metadata": {
    "slideshow": {
     "slide_type": "subslide"
    }
   },
   "source": [
    "### Грязно\n",
    "### Много условных выражений\n",
    "### Сложно поддерживать\n",
    "### Сложно понять\n"
   ]
  },
  {
   "cell_type": "markdown",
   "metadata": {
    "slideshow": {
     "slide_type": "fragment"
    }
   },
   "source": [
    "## Нас спасёт ООП!\n"
   ]
  },
  {
   "cell_type": "markdown",
   "metadata": {
    "slideshow": {
     "slide_type": "slide"
    }
   },
   "source": [
    "### Классы и объекты"
   ]
  },
  {
   "cell_type": "code",
   "execution_count": 1,
   "metadata": {
    "slideshow": {
     "slide_type": "fragment"
    }
   },
   "outputs": [
    {
     "data": {
      "text/plain": [
       "type"
      ]
     },
     "execution_count": 1,
     "metadata": {},
     "output_type": "execute_result"
    }
   ],
   "source": [
    "class ИмяКласса:\n",
    "    pass\n",
    "\n",
    "# Какого класса наш класс?\n",
    "type(ИмяКласса)\n"
   ]
  },
  {
   "cell_type": "code",
   "execution_count": 2,
   "metadata": {
    "slideshow": {
     "slide_type": "fragment"
    }
   },
   "outputs": [
    {
     "data": {
      "text/plain": [
       "__main__.ИмяКласса"
      ]
     },
     "execution_count": 2,
     "metadata": {},
     "output_type": "execute_result"
    }
   ],
   "source": [
    "# Объект - экземпляр данного класса\n",
    "объект = ИмяКласса()\n",
    "\n",
    "# Какого класса наш объект?\n",
    "type(объект)\n"
   ]
  },
  {
   "cell_type": "code",
   "execution_count": null,
   "metadata": {
    "slideshow": {
     "slide_type": "fragment"
    }
   },
   "outputs": [],
   "source": [
    "# Является ли наш объект экземпляром конкретного класса?\n",
    "isinstance(объект, ИмяКласса)\n"
   ]
  },
  {
   "cell_type": "markdown",
   "metadata": {
    "slideshow": {
     "slide_type": "slide"
    }
   },
   "source": [
    "### Методы экземпляра класса"
   ]
  },
  {
   "cell_type": "markdown",
   "metadata": {
    "slideshow": {
     "slide_type": "fragment"
    }
   },
   "source": [
    "```python\n",
    "def имя_метода(self):\n",
    "        pass\n",
    "```"
   ]
  },
  {
   "cell_type": "markdown",
   "metadata": {
    "slideshow": {
     "slide_type": "fragment"
    }
   },
   "source": [
    "```python\n",
    "# вызов метода\n",
    "объект.имя_метода()\n",
    "```"
   ]
  },
  {
   "cell_type": "markdown",
   "metadata": {
    "slideshow": {
     "slide_type": "fragment"
    }
   },
   "source": [
    "#### self - ссылка на объект, в контексте которого исполняется метод"
   ]
  },
  {
   "cell_type": "markdown",
   "metadata": {
    "slideshow": {
     "slide_type": "slide"
    }
   },
   "source": [
    "### Атрибуты экземпляра класса"
   ]
  },
  {
   "cell_type": "markdown",
   "metadata": {
    "slideshow": {
     "slide_type": "fragment"
    }
   },
   "source": [
    "```python\n",
    "def имя_метода(self, параметр):\n",
    "        self.имя_атрибута = параметр\n",
    "        return self.имя_атрибута\n",
    "```"
   ]
  },
  {
   "cell_type": "markdown",
   "metadata": {
    "slideshow": {
     "slide_type": "fragment"
    }
   },
   "source": [
    "```python\n",
    "# вызов метода\n",
    "объект.имя_метода('параметр')\n",
    "```"
   ]
  },
  {
   "cell_type": "markdown",
   "metadata": {
    "slideshow": {
     "slide_type": "slide"
    }
   },
   "source": [
    "### Конструктор экземпляра класса"
   ]
  },
  {
   "cell_type": "markdown",
   "metadata": {
    "slideshow": {
     "slide_type": "fragment"
    }
   },
   "source": [
    "```python\n",
    "def __init__(self):\n",
    "        # объявление атрибутов\n",
    "        self.имя_атрибута = значение\n",
    "```"
   ]
  },
  {
   "cell_type": "markdown",
   "metadata": {
    "slideshow": {
     "slide_type": "fragment"
    }
   },
   "source": [
    "### Параметры для конструктора"
   ]
  },
  {
   "cell_type": "markdown",
   "metadata": {
    "slideshow": {
     "slide_type": "fragment"
    }
   },
   "source": [
    "```python\n",
    "def __init__(self, параметр1, параметр2=значение):\n",
    "        # объявление атрибутов\n",
    "        self.имя_атрибута1 = параметр1\n",
    "        self.имя_атрибута2 = параметр2\n",
    "        self.имя_атрибута3 = значение\n",
    "```"
   ]
  },
  {
   "cell_type": "markdown",
   "metadata": {
    "slideshow": {
     "slide_type": "slide"
    }
   },
   "source": [
    "### Магия приведения объекта к строке"
   ]
  },
  {
   "cell_type": "markdown",
   "metadata": {
    "slideshow": {
     "slide_type": "fragment"
    }
   },
   "source": [
    "```python\n",
    "def __repr__(self):\n",
    "        return 'Привожу к строке когда угодно'\n",
    "\n",
    ">>> print(объект)\n",
    ">>> объект\n",
    ">>> str(объект)\n",
    "```"
   ]
  },
  {
   "cell_type": "markdown",
   "metadata": {
    "slideshow": {
     "slide_type": "fragment"
    }
   },
   "source": [
    "```python\n",
    "def __str__(self):\n",
    "        return 'Переопределяю __repr__ в некоторых случаях'\n",
    "\n",
    ">>> print(объект)\n",
    ">>> объект\n",
    ">>> str(объект)\n",
    "```"
   ]
  },
  {
   "cell_type": "markdown",
   "metadata": {
    "slideshow": {
     "slide_type": "slide"
    }
   },
   "source": [
    "### ООПринцип № 1: инкапсуляция"
   ]
  },
  {
   "cell_type": "markdown",
   "metadata": {
    "slideshow": {
     "slide_type": "fragment"
    }
   },
   "source": [
    "### Свойства экземпляра класса"
   ]
  },
  {
   "cell_type": "markdown",
   "metadata": {
    "slideshow": {
     "slide_type": "fragment"
    }
   },
   "source": [
    "```python\n",
    "def __init__(self):\n",
    "        # нет доступа по соглашению\n",
    "        self._protected = значение\n",
    "        # конкретно нет доступа\n",
    "        self.__private = значение\n",
    "\n",
    "def get_private(self):\n",
    "        return self.__private\n",
    "    \n",
    "def set_private(self, value):\n",
    "        self.__private = value\n",
    "        \n",
    "private = property(get_private, set_private)\n",
    "```"
   ]
  },
  {
   "cell_type": "markdown",
   "metadata": {
    "slideshow": {
     "slide_type": "fragment"
    }
   },
   "source": [
    "```python\n",
    "объект.private = 100\n",
    "\n",
    "print(объект.private)\n",
    "```"
   ]
  },
  {
   "cell_type": "markdown",
   "metadata": {
    "slideshow": {
     "slide_type": "subslide"
    }
   },
   "source": [
    "### Декораторы для свойств"
   ]
  },
  {
   "cell_type": "markdown",
   "metadata": {
    "slideshow": {
     "slide_type": "fragment"
    }
   },
   "source": [
    "```python\n",
    "def __init__(self):\n",
    "        self.__private = значение\n",
    "\n",
    "# getter\n",
    "@property \n",
    "def private(self):\n",
    "        return self.__private\n",
    "# setter    \n",
    "@private.setter\n",
    "def private(self):\n",
    "        self.__private = value\n",
    "```"
   ]
  },
  {
   "cell_type": "markdown",
   "metadata": {
    "slideshow": {
     "slide_type": "slide"
    }
   },
   "source": [
    "### Атрибуты класса"
   ]
  },
  {
   "cell_type": "code",
   "execution_count": null,
   "metadata": {
    "slideshow": {
     "slide_type": "fragment"
    }
   },
   "outputs": [],
   "source": [
    "class ИмяКласса:\n",
    "    \n",
    "    атрибут_класса = значение_по_умолчанию\n",
    "    \n",
    "    def метод(self, параметр):\n",
    "        ИмяКласса.атрибут_класса = параметр\n",
    "        "
   ]
  },
  {
   "cell_type": "code",
   "execution_count": null,
   "metadata": {
    "slideshow": {
     "slide_type": "fragment"
    }
   },
   "outputs": [],
   "source": [
    "объект.метод(значение)\n",
    "\n",
    "print(ИмяКласса.атрибут_класса)\n"
   ]
  },
  {
   "cell_type": "markdown",
   "metadata": {
    "slideshow": {
     "slide_type": "slide"
    }
   },
   "source": [
    "### Методы класса"
   ]
  },
  {
   "cell_type": "markdown",
   "metadata": {
    "slideshow": {
     "slide_type": "fragment"
    }
   },
   "source": [
    "```python\n",
    "@staticmethod\n",
    "def static_method():\n",
    "    return ИмяКласса.атрибут_класса\n",
    "```"
   ]
  },
  {
   "cell_type": "markdown",
   "metadata": {
    "slideshow": {
     "slide_type": "fragment"
    }
   },
   "source": [
    "```python\n",
    "@classmethod\n",
    "def class_method(cls):\n",
    "    return cls.атрибут_класса\n",
    "```  "
   ]
  },
  {
   "cell_type": "markdown",
   "metadata": {
    "slideshow": {
     "slide_type": "fragment"
    }
   },
   "source": [
    "#### cls - ссылка на сам класс"
   ]
  },
  {
   "cell_type": "markdown",
   "metadata": {
    "slideshow": {
     "slide_type": "fragment"
    }
   },
   "source": [
    "```python\n",
    "объект.static_method()\n",
    "\n",
    "объект.class_method()\n",
    "```"
   ]
  },
  {
   "cell_type": "markdown",
   "metadata": {
    "slideshow": {
     "slide_type": "slide"
    }
   },
   "source": [
    "## Практикум"
   ]
  },
  {
   "cell_type": "markdown",
   "metadata": {
    "slideshow": {
     "slide_type": "fragment"
    }
   },
   "source": [
    "Создайте класс ```Point```, который описывает точку с координатами ```х``` и ```y```\n"
   ]
  },
  {
   "cell_type": "markdown",
   "metadata": {
    "slideshow": {
     "slide_type": "subslide"
    }
   },
   "source": [
    "В классе необходимо описать:\n",
    "\n",
    "- `конструктор`, который принимает в качестве параметров значения для координат ```x``` и ```y```\n",
    "- метод ```move_to```, который принимает в качестве параметров новые значения для координат ```x``` и ```y```\n",
    "- метод ```move_by```, который принимает в качестве параметров новые значения для координат ```x``` и ```y``` относительно текущих значений\n",
    "- `свойства` для изменения и получения значений координат ```x``` и ```y```\n"
   ]
  },
  {
   "cell_type": "markdown",
   "metadata": {
    "slideshow": {
     "slide_type": "fragment"
    }
   },
   "source": [
    "Необходимые условия, которые надо учесть:\n",
    "\n",
    "- при приведении объекта к строке должна возвращаться строка ```Я - точка: координата_x x координата_y```"
   ]
  },
  {
   "cell_type": "markdown",
   "metadata": {
    "slideshow": {
     "slide_type": "subslide"
    }
   },
   "source": [
    "### Как это должно работать"
   ]
  },
  {
   "cell_type": "markdown",
   "metadata": {
    "slideshow": {
     "slide_type": "fragment"
    }
   },
   "source": [
    "```python\n",
    "point = Point(10, 20)\n",
    "print(point) # Я - точка: 10 x 20\n",
    "\n",
    "point.move_to(100, 200)\n",
    "print(point.x, ' : ', point.y) # 100 : 200\n",
    "\n",
    "point.move_by(10, 20)\n",
    "print(point.x, ' : ', point.y) # 110 : 220\n",
    "\n",
    "point.x = 30\n",
    "point.y = 40\n",
    "print(point) # Я - точка: 30 x 40\n",
    "```"
   ]
  },
  {
   "cell_type": "markdown",
   "metadata": {
    "slideshow": {
     "slide_type": "slide"
    }
   },
   "source": [
    "# Выводы\n",
    "#### Класс — тип данных описывающий объект\n",
    "#### Объект — тип данных, экземпляр класса\n",
    "#### Метод объекта — сообщение, с помощью которого объекты общаются друг с другом\n",
    "#### Атрибут объекта — хранилище текущего состояния объекта\n",
    "#### Свойство объекта — интерфейс доступа к атрибутам объекта\n",
    "#### Класс — самостоятельный тип. Может иметь свои методы и атрибуты"
   ]
  }
 ],
 "metadata": {
  "celltoolbar": "Slideshow",
  "kernelspec": {
   "display_name": "Python 3",
   "language": "python",
   "name": "python3"
  },
  "language_info": {
   "codemirror_mode": {
    "name": "ipython",
    "version": 3
   },
   "file_extension": ".py",
   "mimetype": "text/x-python",
   "name": "python",
   "nbconvert_exporter": "python",
   "pygments_lexer": "ipython3",
   "version": "3.6.8"
  }
 },
 "nbformat": 4,
 "nbformat_minor": 2
}
