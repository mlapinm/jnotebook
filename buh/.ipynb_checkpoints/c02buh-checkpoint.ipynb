{
 "cells": [
  {
   "cell_type": "markdown",
   "metadata": {},
   "source": [
    "<details>dfsfsf</details>"
   ]
  },
  {
   "cell_type": "markdown",
   "metadata": {},
   "source": [
    "<html>\n",
    "<table>\n",
    "\t\t<tr>\n",
    "\t\t\t<td>00100</td>\n",
    "\t\t\t<td>1. Создано АО. Учредители 7 человек. Они внесли в качестве вклада в Уставный капитал (УК)             (стоимости условные):</td>\n",
    "\t\t\t<td>3</td>\n",
    "\t\t\t<td>4</td>\n",
    "\t\t</tr>\n",
    "\t\t<tr>\n",
    "\t\t\t<td>00110</td>\n",
    "\t\t\t<td>1. здание стоимостью                               60 000 руб.</td>\n",
    "\t\t\t<td>3</td>\n",
    "\t\t\t<td>4</td>\n",
    "\t\t</tr>\n",
    "\t\t<tr>\n",
    "\t\t\t<td>00120</td>\n",
    "\t\t\t<td>2. а/м стоимостью                                     20 000 руб.</td>\n",
    "\t\t\t<td>3</td>\n",
    "\t\t\t<td>4</td>\n",
    "\t\t</tr>\n",
    "\t\t<tr>\n",
    "\t\t\t<td>00130</td>\n",
    "\t\t\t<td>3. товары                                                    25 000 руб.</td>\n",
    "\t\t\t<td>3</td>\n",
    "\t\t\t<td>4</td>\n",
    "\t\t</tr>\n",
    "\t\t<tr>\n",
    "\t\t\t<td>00140</td>\n",
    "\t\t\t<td>4. товары                                                    25 000 руб.</td>\n",
    "\t\t\t<td>3</td>\n",
    "\t\t\t<td>4</td>\n",
    "\t\t</tr>\n",
    "\t\t<tr>\n",
    "\t\t\t<td>00150</td>\n",
    "\t\t\t<td>5. наличные                                                 30 000 руб.</td>\n",
    "\t\t\t<td>3</td>\n",
    "\t\t\t<td>4</td>\n",
    "\t\t</tr>\n",
    "\t\t<tr>\n",
    "\t\t\t<td>00160</td>\n",
    "\t\t\t<td>6. в безналичном порядке 50 000руб.</td>\n",
    "\t\t\t<td>3</td>\n",
    "\t\t\t<td>4</td>\n",
    "\t\t</tr>\n",
    "\t\t<tr>\n",
    "\t\t\t<td>00170</td>\n",
    "\t\t\t<td>7. в безналичном порядке 50 000 руб.</td>\n",
    "\t\t\t<td>3</td>\n",
    "\t\t\t<td>4</td>\n",
    "\t\t</tr>\n",
    "\t\t<tr>\n",
    "\t\t\t<td>00200</td>\n",
    "\t\t\t<td>2. На расчетный счет поступило-60 000 руб. в виде кредита, полученного у банка.</td>\n",
    "\t\t\t<td>3</td>\n",
    "\t\t\t<td>4</td>\n",
    "\t\t</tr>\n",
    "\t\t<tr>\n",
    "\t\t\t<td>00300</td>\n",
    "\t\t\t<td>3. Продан товар покупной стоимостью 20 000 руб. На расчетный счет поступило 26 000 руб.</td>\n",
    "\t\t\t<td>3</td>\n",
    "\t\t\t<td>4</td>\n",
    "\t\t</tr>\n",
    "\t\t<tr>\n",
    "\t\t\t<td>00400</td>\n",
    "\t\t\t<td>4. С расчетного счета дан кредит сторонней организации в сумме 20 000 руб. под 10% в месяц сроком на 1 мес.</td>\n",
    "\t\t\t<td>3</td>\n",
    "\t\t\t<td>4</td>\n",
    "\t\t</tr>\n",
    "\t\t<tr>\n",
    "\t\t\t<td>00500</td>\n",
    "\t\t\t<td>5. Купили офис стоимостью 45000 руб., факс-15 000 руб., товар 20000 руб. Оплата произведена с расчетного счета.</td>\n",
    "\t\t\t<td>3</td>\n",
    "\t\t\t<td>4</td>\n",
    "\t\t</tr>\n",
    "\t\t<tr>\n",
    "\t\t\t<td>00600</td>\n",
    "\t\t\t<td>6. Продан товар в кредит покупной стоимостью 25 000 руб. Продажная цена 33 000 руб.</td>\n",
    "\t\t\t<td>3</td>\n",
    "\t\t\t<td>4</td>\n",
    "\t\t</tr>\n",
    "\t\t<tr>\n",
    "\t\t\t<td>00700</td>\n",
    "\t\t\t<td>7. Куплен в кредит товар на сумму 40 000 руб. Он продан за наличные, продажная цена – 52 000 руб. Выручка сдана на расчетный счет. С расчетного счета частично в сумме 25 000 руб. погашена задолженность за купленный в кредит товар.</td>\n",
    "\t\t\t<td>3</td>\n",
    "\t\t\t<td>4</td>\n",
    "\t\t</tr>\n",
    "\t\t<tr>\n",
    "\t\t\t<td>00800</td>\n",
    "\t\t\t<td>8. На расчетный счет поступило 33 000 руб. за товар, проданный в кредит (по операции 6).</td>\n",
    "\t\t\t<td>3</td>\n",
    "\t\t\t<td>4</td>\n",
    "\t\t</tr>\n",
    "\t\t<tr>\n",
    "\t\t\t<td>00900</td>\n",
    "\t\t\t<td>9. В результате пожара списан автомобиль стоимостью 20 000 руб. на убытки.</td>\n",
    "\t\t\t<td>3</td>\n",
    "\t\t\t<td>4</td>\n",
    "\t\t</tr>\n",
    "\t\t<tr>\n",
    "\t\t\t<td>01000</td>\n",
    "\t\t\t<td>10. В состав учредителей вошел акционер и внес в качестве вклада в УК товары на сумму 80 000 руб. Они реализованы, причем часть товаров (покупной стоимость 50 000 руб.) в безналичном порядке, продажная цена -65 000 руб., остальные товары в кредит, продажная цена - 39 000 руб.</td>\n",
    "\t\t\t<td>3</td>\n",
    "\t\t\t<td>4</td>\n",
    "\t\t</tr>\n",
    "\t\t<tr>\n",
    "\t\t\t<td>01100</td>\n",
    "\t\t\t<td>11. На расчетный счет поступило 22 000 руб. (кредит + % по операции 4).</td>\n",
    "\t\t\t<td>3</td>\n",
    "\t\t\t<td>4</td>\n",
    "\t\t</tr>\n",
    "\t\t<tr>\n",
    "\t\t\t<td>01200</td>\n",
    "\t\t\t<td>12. За счет прибыли увеличен уставной капитал на 2 400 руб. </td>\n",
    "\t\t\t<td>3</td>\n",
    "\t\t\t<td>4</td>\n",
    "\t\t</tr>\n",
    "\t\t<tr>\n",
    "\t\t\t<td>01300</td>\n",
    "\t\t\t<td>13. С расчетного счета через месяц после получения возвращен банку кредит в сумме 60 000 руб. (по операции 2) и за счет прибыли выплачены проценты по нему, исходя из 20% годовых.*\n",
    "</td>\n",
    "\t\t\t<td>3</td>\n",
    "\t\t\t<td>4</td>\n",
    "\t\t</tr>\n",
    "\t\t<tr>\n",
    "\t\t\t<td>01400</td>\n",
    "\t\t\t<td>14. На расчетный счет поступило 39 000 руб. за товар, проданный в кредит (по операции 10).</td>\n",
    "\t\t\t<td>3</td>\n",
    "\t\t\t<td>4</td>\n",
    "\t\t</tr>\n",
    "\t\t<tr>\n",
    "\t\t\t<td>01500</td>\n",
    "\t\t\t<td>15. Украден факс стоимостью 15 000 руб. Виновные лица не найдены. Факс списан на убытки.</td>\n",
    "\t\t\t<td>3</td>\n",
    "\t\t\t<td>4</td>\n",
    "\t\t</tr>\n",
    "\t\t<tr>\n",
    "\t\t\t<td>01600</td>\n",
    "\t\t\t<td>16. Баланс.</td>\n",
    "\t\t\t<td>3</td>\n",
    "\t\t\t<td>4</td>\n",
    "\t\t</tr>\n",
    "\t\t<tr>\n",
    "\t\t\t<td>1</td>\n",
    "\t\t\t<td>2</td>\n",
    "\t\t\t<td>3</td>\n",
    "\t\t\t<td>4</td>\n",
    "\t\t</tr>\n",
    "\t</table>\n",
    "</html>\n"
   ]
  },
  {
   "cell_type": "markdown",
   "metadata": {},
   "source": [
    "<html>\n",
    "\t<table>01 ОС\n",
    "\t\t<tr>\n",
    "\t\t\t<td></td>\n",
    "\t\t\t<td></td>\n",
    "\t\t\t<td></td>\n",
    "\t\t\t<td></td>\n",
    "\t\t</tr>\n",
    "\t</table>\n",
    "</html>\n"
   ]
  },
  {
   "cell_type": "markdown",
   "metadata": {},
   "source": [
    "<html>\n",
    "\t<table>41 Товары\n",
    "\t\t<tr>\n",
    "\t\t\t<td></td>\n",
    "\t\t\t<td></td>\n",
    "\t\t\t<td></td>\n",
    "\t\t\t<td></td>\n",
    "\t\t</tr>\n",
    "\t</table>\n",
    "</html>\n"
   ]
  },
  {
   "cell_type": "markdown",
   "metadata": {},
   "source": [
    "<html>\n",
    "\t<table>01 ОС\n",
    "\t\t<tr>\n",
    "\t\t\t<td></td>\n",
    "\t\t\t<td></td>\n",
    "\t\t\t<td></td>\n",
    "\t\t\t<td></td>\n",
    "\t\t</tr>\n",
    "\t</table>\n",
    "</html>\n"
   ]
  },
  {
   "cell_type": "markdown",
   "metadata": {},
   "source": [
    "<html>\n",
    "\t<table>50 Касса\n",
    "\t\t<tr>\n",
    "\t\t\t<td></td>\n",
    "\t\t\t<td></td>\n",
    "\t\t\t<td></td>\n",
    "\t\t\t<td></td>\n",
    "\t\t</tr>\n",
    "\t</table>\n",
    "</html>\n"
   ]
  },
  {
   "cell_type": "markdown",
   "metadata": {},
   "source": [
    "<html>\n",
    "\t<table>51 Расч. Счет\n",
    "\t\t<tr>\n",
    "\t\t\t<td></td>\n",
    "\t\t\t<td></td>\n",
    "\t\t\t<td></td>\n",
    "\t\t\t<td></td>\n",
    "\t\t</tr>\n",
    "\t</table>\n",
    "</html>\n"
   ]
  },
  {
   "cell_type": "markdown",
   "metadata": {},
   "source": [
    "<html>\n",
    "\t<table>76 Дебит.зад.\n",
    "\t\t<tr>\n",
    "\t\t\t<td></td>\n",
    "\t\t\t<td></td>\n",
    "\t\t\t<td></td>\n",
    "\t\t\t<td></td>\n",
    "\t\t</tr>\n",
    "\t</table>\n",
    "</html>\n"
   ]
  },
  {
   "cell_type": "markdown",
   "metadata": {},
   "source": [
    "<html>\n",
    "\t<table>80 Уст. Капитал\n",
    "\t\t<tr>\n",
    "\t\t\t<td></td>\n",
    "\t\t\t<td></td>\n",
    "\t\t\t<td></td>\n",
    "\t\t\t<td></td>\n",
    "\t\t</tr>\n",
    "\t</table>\n",
    "</html>\n"
   ]
  },
  {
   "cell_type": "markdown",
   "metadata": {},
   "source": [
    "<html>\n",
    "\t<table>76 Кред. зад\n",
    "\t\t<tr>\n",
    "\t\t\t<td></td>\n",
    "\t\t\t<td></td>\n",
    "\t\t\t<td></td>\n",
    "\t\t\t<td></td>\n",
    "\t\t</tr>\n",
    "\t</table>\n",
    "</html>\n"
   ]
  },
  {
   "cell_type": "markdown",
   "metadata": {},
   "source": [
    "<html>\n",
    "\t<table>Прибыль\n",
    "\t\t<tr>\n",
    "\t\t\t<td></td>\n",
    "\t\t\t<td></td>\n",
    "\t\t\t<td></td>\n",
    "\t\t\t<td></td>\n",
    "\t\t</tr>\n",
    "\t</table>\n",
    "</html>\n"
   ]
  },
  {
   "cell_type": "markdown",
   "metadata": {},
   "source": [
    "<html>\n",
    "\t<table>01 ОС\n",
    "\t\t<tr>\n",
    "\t\t\t<td></td>\n",
    "\t\t\t<td></td>\n",
    "\t\t\t<td></td>\n",
    "\t\t\t<td></td>\n",
    "\t\t</tr>\n",
    "\t</table>\n",
    "</html>\n"
   ]
  },
  {
   "cell_type": "markdown",
   "metadata": {},
   "source": [
    "<html>\n",
    "\t<table>01 ОС\n",
    "\t\t<tr>\n",
    "\t\t\t<td></td>\n",
    "\t\t\t<td></td>\n",
    "\t\t\t<td></td>\n",
    "\t\t\t<td></td>\n",
    "\t\t</tr>\n",
    "\t</table>\n",
    "</html>\n"
   ]
  },
  {
   "cell_type": "markdown",
   "metadata": {},
   "source": [
    "<html>\n",
    "\t<table>01 ОС\n",
    "\t\t<tr>\n",
    "\t\t\t<td></td>\n",
    "\t\t\t<td></td>\n",
    "\t\t\t<td></td>\n",
    "\t\t\t<td></td>\n",
    "\t\t</tr>\n",
    "\t</table>\n",
    "</html>\n"
   ]
  },
  {
   "cell_type": "markdown",
   "metadata": {},
   "source": []
  },
  {
   "cell_type": "markdown",
   "metadata": {},
   "source": []
  },
  {
   "cell_type": "markdown",
   "metadata": {},
   "source": []
  },
  {
   "cell_type": "markdown",
   "metadata": {},
   "source": []
  },
  {
   "cell_type": "markdown",
   "metadata": {},
   "source": []
  },
  {
   "cell_type": "markdown",
   "metadata": {},
   "source": []
  },
  {
   "cell_type": "markdown",
   "metadata": {},
   "source": [
    "[]()  \n",
    "[]()  \n",
    "[]()  \n",
    "[]()  \n",
    "[]()  \n",
    "```\n",
    "\n",
    "```"
   ]
  }
 ],
 "metadata": {
  "kernelspec": {
   "display_name": "Python 3",
   "language": "python",
   "name": "python3"
  },
  "language_info": {
   "codemirror_mode": {
    "name": "ipython",
    "version": 3
   },
   "file_extension": ".py",
   "mimetype": "text/x-python",
   "name": "python",
   "nbconvert_exporter": "python",
   "pygments_lexer": "ipython3",
   "version": "3.7.4"
  }
 },
 "nbformat": 4,
 "nbformat_minor": 2
}
