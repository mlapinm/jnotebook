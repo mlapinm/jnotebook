{
 "cells": [
  {
   "cell_type": "markdown",
   "metadata": {},
   "source": [
    "[WANHAO Duplicator 4 habr com](https://habr.com/ru/post/223963/)  \n",
    "[losprinters](https://www.losprinters.ru/files/uploads/Duplicator_i3/User_manual_wanhao_duplicator_i3.pdf)  \n",
    "[d4srev.b.pdf(https://storage.ru.prom.st/617352_d4srev.b.pdf)  \n",
    "[wanhaorus.ru](https://wanhaorus.ru/promo_docs)  \n",
    "[]()  \n",
    "[]()  \n",
    "[]()  \n",
    "\n",
    "\n",
    "\n",
    "<details>WANHAO Duplicator 4</details>"
   ]
  },
  {
   "cell_type": "markdown",
   "metadata": {},
   "source": [
    "#### WANHAO Duplicator 4\n",
    "- descktop 3d printer\n",
    "WANHAO Duplicator 4 desktop 3d printer\n"
   ]
  },
  {
   "cell_type": "markdown",
   "metadata": {},
   "source": [
    "[]()  \n",
    "[]()  \n",
    "[]()  \n",
    "[]()  \n",
    "[]()  \n",
    "```\n",
    "\n",
    "```"
   ]
  }
 ],
 "metadata": {
  "kernelspec": {
   "display_name": "Python 3",
   "language": "python",
   "name": "python3"
  },
  "language_info": {
   "codemirror_mode": {
    "name": "ipython",
    "version": 3
   },
   "file_extension": ".py",
   "mimetype": "text/x-python",
   "name": "python",
   "nbconvert_exporter": "python",
   "pygments_lexer": "ipython3",
   "version": "3.7.4"
  }
 },
 "nbformat": 4,
 "nbformat_minor": 2
}
