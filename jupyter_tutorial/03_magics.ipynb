{
 "cells": [
  {
   "cell_type": "markdown",
   "metadata": {},
   "source": [
    "# Волшебные команды - magics"
   ]
  },
  {
   "cell_type": "markdown",
   "metadata": {},
   "source": [
    "[К оглавлению](00_contents.ipynb)"
   ]
  },
  {
   "cell_type": "markdown",
   "metadata": {},
   "source": [
    "\n",
    "Волшебные команды (**magic functions**) - это служебные команды IPython, позволяющие управлять вычислениями в блокноте, работать с файлами, выводить системную информацию, а также выполнять многие другие действия\n",
    "\n",
    "Существует 2 вида таких команд:\n",
    " - применяемые к текущей строке - `%команда`\n",
    " - применяемые ко всей ячейке - `%%команда`"
   ]
  },
  {
   "cell_type": "code",
   "execution_count": 1,
   "metadata": {},
   "outputs": [],
   "source": [
    "#Пример: вывод краткой справки по работе с блокнотом:\n",
    "#%quickref"
   ]
  },
  {
   "cell_type": "markdown",
   "metadata": {},
   "source": [
    "### Некоторые волшебные команды для работы с файлами\n",
    "\n",
    "Команда       | Назначение\n",
    ":-------------|:-----------\n",
    "`%pwd`        | Вывести текущий каталог\n",
    "`%cd каталог` | Перейти в другой каталог\n",
    "`%ls`         | Вывести список файлов в текущем каталоге\n",
    "`%less файл`  | Вывести на экран содержимое файла\n",
    "`%load файл`  | Загрузить содержимое файла в следующую ячейку (также работает с URL) - удобно для загрузки примеров\n",
    "\n",
    "NB: при работе с файлами удобно использовать автодополнение по клавише `Tab`"
   ]
  },
  {
   "cell_type": "code",
   "execution_count": 2,
   "metadata": {},
   "outputs": [],
   "source": [
    "#потренируйтесь здесь\n"
   ]
  },
  {
   "cell_type": "markdown",
   "metadata": {},
   "source": [
    "Также возможно выполнение **любой** системной команды вашей ОС. Достаточно перед командой добавить !, например: `!hostname`\n",
    "\n",
    "![Будьте осторожны](http://www.stihi.ru/pics/2011/11/13/6955.jpg \"Не надо увлекаться!\")\n",
    "\n",
    "BTW, также не стоит не глядя выполнять команду `Run All` для чужих блокнотов..."
   ]
  },
  {
   "cell_type": "markdown",
   "metadata": {},
   "source": [
    "### Некоторые волшебные команды для управления вычислениями\n",
    "\n",
    "Команда       | Назначение\n",
    ":-------------|:-----------\n",
    "`%who`        | Список переменных в памяти\n",
    "`%whos`       | Подробная информация о переменных в памяти\n",
    "`%xdel`       | Удалить объект\n",
    "`%reset`      | Удалить из памяти все объекты\n",
    "`%clear`      | Очистить вывод\n",
    "`%timeit`     | Протестировать скорость выполнения кода в текущей строке\n",
    "`%%timeit`    | Протестировать скорость выполнения кода в текущей ячейке\n",
    "`%matplotlib` | Включить режим для работы с графиками matplotlib"
   ]
  },
  {
   "cell_type": "markdown",
   "metadata": {},
   "source": [
    "### Полный список волшебных команд\n",
    "\n",
    "Список всех доступных волшебных команд можно получить с помощью команды `%lsmagic`\n",
    "\n",
    "Узнать, что делает команда, можно так: `%команда?`"
   ]
  },
  {
   "cell_type": "markdown",
   "metadata": {},
   "source": [
    "> ### Задание\n",
    "> Для чего нужна команда `%precision`?"
   ]
  },
  {
   "cell_type": "code",
   "execution_count": null,
   "metadata": {},
   "outputs": [],
   "source": []
  }
 ],
 "metadata": {
  "hide_input": false,
  "kernelspec": {
   "display_name": "Python 3",
   "language": "python",
   "name": "python3"
  },
  "language_info": {
   "codemirror_mode": {
    "name": "ipython",
    "version": 3
   },
   "file_extension": ".py",
   "mimetype": "text/x-python",
   "name": "python",
   "nbconvert_exporter": "python",
   "pygments_lexer": "ipython3",
   "version": "3.6.8"
  },
  "latex_envs": {
   "bibliofile": "biblio.bib",
   "cite_by": "apalike",
   "current_citInitial": 1,
   "eqLabelWithNumbers": true,
   "eqNumInitial": 0
  },
  "toc": {
   "toc_cell": false,
   "toc_number_sections": false,
   "toc_threshold": 4,
   "toc_window_display": false
  }
 },
 "nbformat": 4,
 "nbformat_minor": 1
}
