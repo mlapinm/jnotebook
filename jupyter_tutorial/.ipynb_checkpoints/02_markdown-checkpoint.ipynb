{
 "cells": [
  {
   "cell_type": "markdown",
   "metadata": {},
   "source": [
    "# Набор текста и формул с помощью Markdown"
   ]
  },
  {
   "cell_type": "markdown",
   "metadata": {},
   "source": [
    "[К оглавлению](00_contents.ipynb)"
   ]
  },
  {
   "cell_type": "markdown",
   "metadata": {},
   "source": [
    "## Ячейка Markdown\n",
    "\n",
    "**Markdown** - простой язык для оформления документов. Ячейки этого типа используются для пояснения методики расчетов. \n",
    "\n",
    "Краткую справку по оформлению текста с помощью Markdown можно найти:\n",
    "\n",
    "- во встроенной документации Jupyter Notebook - cм. справку: `Help>Markdown` \n",
    "- на [странице разработчика](http://daringfireball.net/projects/markdown/)"
   ]
  },
  {
   "cell_type": "markdown",
   "metadata": {},
   "source": [
    "## Краткая справка по синтаксису Markdown\n",
    "\n",
    "\n",
    "\n",
    "### Сплошной текст\n",
    "```\n",
    "Это первая строка.\n",
    "Это тоже первая строка.\n",
    "```\n",
    "Это первая строка.\n",
    "Это тоже первая строка.\n"
   ]
  },
  {
   "cell_type": "markdown",
   "metadata": {},
   "source": [
    "\n",
    "\n",
    "### Абзацы\n",
    "\n",
    "```\n",
    "Текст первого абзаца\n",
    "\n",
    "Текст второго абзаца\n",
    "```\n",
    "Текст первого абзаца\n",
    "\n",
    "Текст второго абзаца\n"
   ]
  },
  {
   "cell_type": "markdown",
   "metadata": {},
   "source": [
    "### Разрыв строки\n",
    "```\n",
    "Это первая строка абзаца.<два пробела в конце>  \n",
    "Это вторая строка этого же абзаца.\n",
    "```\n",
    "Это первая строка абзаца.  \n",
    "Это вторая строка этого же абзаца.\n",
    "\n"
   ]
  },
  {
   "cell_type": "markdown",
   "metadata": {},
   "source": [
    "Или так:\n",
    "\n",
    "`Это - первая строка абзаца,<br/> а это - вторая`\n",
    "\n",
    "Это - первая строка абзаца,<br/> а это - вторая"
   ]
  },
  {
   "cell_type": "markdown",
   "metadata": {},
   "source": [
    "### Заголовки\n",
    "\n",
    "Чтобы сделать текст заголовком, добавьте перед ним символ: `#` через пробел.\n",
    "\n",
    "```\n",
    "# Уровень 1 `<h1>`\n",
    "## Уровень 2 `<h2>`\n",
    "### Уровень 3 `<h3>`\n",
    "```\n",
    "\n",
    "# Уровень 1 `<h1>`\n",
    "## Уровень 2 `<h2>`\n",
    "### Уровень 3 `<h3>`\n"
   ]
  },
  {
   "cell_type": "markdown",
   "metadata": {},
   "source": [
    "Также можно обозначить текст заголовка с помощью подчеркивания.\n",
    "\n",
    "```\n",
    "Уровень 1 `<h1>`\n",
    "===============\n",
    "\n",
    "Уровень 2 `<h2>`\n",
    "----------------\n",
    "```\n",
    "\n",
    "\n",
    "Уровень 1 `<h1>`\n",
    "===============\n",
    "\n",
    "Уровень 2 `<h2>`\n",
    "----------------\n",
    "\n",
    "Этот способ менее распространен и поддерживает только 2 уровня.\n",
    "\n"
   ]
  },
  {
   "cell_type": "markdown",
   "metadata": {},
   "source": [
    "### Выделение\n",
    "\n",
    "```\n",
    "Этот текст выделен *курсивом*. Этот текст выделен **жирным шрифтом**. Этот текст выделен ***жирным курсивом***.\n",
    "```\n",
    "\n",
    "Этот текст выделен *курсивом*. Этот текст выделен **жирным шрифтом**. Этот текст выделен ***жирным курсивом***.\n"
   ]
  },
  {
   "cell_type": "markdown",
   "metadata": {},
   "source": [
    "или так:\n",
    "\n",
    "```\n",
    "Этот текст выделен _курсивом_. Этот текст выделен __жирным шрифтом__. Этот текст выделен ___жирным курсивом___.\n",
    "```\n",
    "\n",
    "Этот текст выделен _курсивом_. Этот текст выделен __жирным шрифтом__. Этот текст выделен ___жирным курсивом___.\n"
   ]
  },
  {
   "cell_type": "markdown",
   "metadata": {},
   "source": [
    "## Код\n",
    "\n",
    "Ключевые слова и выражения можно выделять `прямым шрифтом`.\n",
    "\n",
    "\n"
   ]
  },
  {
   "cell_type": "markdown",
   "metadata": {},
   "source": [
    "### Блок кода\n",
    "```\n",
    "Это блок кода *(1-я строка)*\n",
    "Это блок кода (1-я строка)\n",
    "Никакие команды не интерпретируются.\n",
    "```\n",
    "\n"
   ]
  },
  {
   "cell_type": "markdown",
   "metadata": {},
   "source": [
    "### Блок кода Python\n",
    "```python\n",
    "print('hello!') # работает подсветка синтаксиса\n",
    "```\n"
   ]
  },
  {
   "cell_type": "markdown",
   "metadata": {},
   "source": [
    "### Маркированные списки\n",
    "```\n",
    "- Элемент 1\n",
    "  - Элемент 11\n",
    "    - Элемент 111\n",
    "    - Элемент 112  \n",
    "  - Элемент 12\n",
    "- Элемент 2\n",
    "```\n",
    "- Элемент 1\n",
    "  - Элемент 11\n",
    "    - Элемент 111\n",
    "    - Элемент 112\n",
    "  - Элемент 12\n",
    "- Элемент 2\n"
   ]
  },
  {
   "cell_type": "markdown",
   "metadata": {},
   "source": [
    "### Нумерованные списки\n",
    "\n",
    "```\n",
    "1. Элемент 1\n",
    "  1. Элемент 11\n",
    "    1. Элемент 111\n",
    "    1. Элемент 112  \n",
    "  1. Элемент 12\n",
    "1. Элемент 2\n",
    "```\n",
    "\n",
    "1. Элемент 1\n",
    "  1. Элемент 11\n",
    "    1. Элемент 111\n",
    "    1. Элемент 112\n",
    "  1. Элемент 12\n",
    "1. Элемент 2"
   ]
  },
  {
   "cell_type": "markdown",
   "metadata": {},
   "source": [
    ">### Задание\n",
    "> Составьте рейтинг из трех любимых фильмов или книг (с указанием режиссера или автора).\n",
    "> Рейтинг должен быть оформлен в виде нумерованного списка. Фамилию режиссера/автора выделите жирным шрифтом.\n",
    "> Не забудьте добавить заголовок перед списком"
   ]
  },
  {
   "cell_type": "markdown",
   "metadata": {},
   "source": [
    "*Потренируйтесь здесь...*"
   ]
  },
  {
   "cell_type": "markdown",
   "metadata": {},
   "source": [
    "## Гиперссылки и изображения\n",
    "\n",
    "### Просто URL\n",
    "http://ya.ru\n",
    "\n"
   ]
  },
  {
   "cell_type": "markdown",
   "metadata": {},
   "source": [
    "### Ссылка в тексте\n",
    "\n",
    "**Код:**\n",
    "```\n",
    "Открыть [Яндекс](http://ya.ru)\n",
    "```\n",
    "**Результат:**\n",
    "\n",
    "Открыть [Яндекс](http://ya.ru)\n"
   ]
  },
  {
   "cell_type": "markdown",
   "metadata": {},
   "source": [
    "### Вставка изображений\n",
    "\n",
    "**Код:**\n",
    "```\n",
    "Картинка из Интернет:\n",
    "\n",
    "![Замещающий текст](http://icons.iconarchive.com/icons/cornmanthe3rd/plex/128/Other-python-icon.png \"Текст при наведении курсора\")\n",
    "```\n",
    "**Результат:**\n",
    "\n",
    "Картинка из Интернет\n",
    "\n",
    "![Замещающий текст](http://icons.iconarchive.com/icons/cornmanthe3rd/plex/128/Other-python-icon.png \"Текст при наведении курсора\")\n"
   ]
  },
  {
   "cell_type": "markdown",
   "metadata": {},
   "source": [
    "**Код:**\n",
    "```\n",
    "Картинка из локального файла (подкаталог `pics` в текущем каталоге):\n",
    "\n",
    "![Замещающий текст](pics/Other-python-icon.png)\n",
    "```\n",
    "\n",
    "**Результат:**\n",
    "\n",
    "Картинка из локального файла (подкаталог `pics` в текущем каталоге)\n",
    "\n",
    "![Замещающий текст](pics/Other-python-icon.png)"
   ]
  },
  {
   "cell_type": "markdown",
   "metadata": {},
   "source": [
    ">## Задание\n",
    ">1. Вставьте в документ ссылку на главную страницу сайта РХТУ. Текст ссылки должен быть: `Сайт РХТУ им. Д.И. Менделеева`\n",
    ">2. Найдите в Интернет изображение герба РХТУ (обратите внимание на размер - он не должен быть слишком большим, больше 800 точек по любому измерению). \n",
    ">Вставьте в документ это изображение.\n",
    ">3. Нарисуйте в PowerPoint любую картинку и сохраните ее как файл png. Вставьте этот файл в документ как изображение."
   ]
  },
  {
   "cell_type": "markdown",
   "metadata": {},
   "source": [
    "## Набор формул LaTeX\n",
    "\n",
    "Масса справочников, искать по `'latex набор математических формул'`\n",
    "\n",
    "\n",
    "Хороший краткий справочник по командам http://en.wikibooks.org/wiki/LaTeX/Mathematics\n",
    "\n",
    "Чтобы не искать символы по таблицам, пользуйтесь [Detexify](http://detexify.kirelabs.org/classify.html)\n",
    "\n",
    "Редактор формул Microsoft Office 2007 и более новых также использует команды $\\LaTeX$ для набора формул. Для многих команд можно найти подсказку, наведя курсор мыши на палитру символов.\n",
    "\n",
    "![LaTeX в ворде](pics/latex_word.png)"
   ]
  },
  {
   "cell_type": "markdown",
   "metadata": {},
   "source": [
    "### Общие принципы\n",
    "\n",
    "Знаки `$ ... $`, `$$ ... $$`   переключают в математический режим. \n",
    "\n",
    "При этом `$x^2 + y^2$` дает формулу внутри строки: $x^2 + y^2$,  \n",
    "а `$$x^2 + y^2$$` - формулу на отдельной строке (выключную): $$x^2 + y^2$$\n",
    "\n",
    "Более сложные формулы (матрицы, системы уравнений) верстаются с помощью _окружений_.\n",
    "\n"
   ]
  },
  {
   "cell_type": "markdown",
   "metadata": {},
   "source": [
    "Для верстки формул используются _команды_, например: \n",
    "\n",
    "Команда        | Результат\n",
    ":--------------|:---------\n",
    "`x^2`          | $x^2$\n",
    "`\\pi`          | $\\pi$\n",
    "`\\overline{x}` | $\\overline{x}$\n",
    "`\\frac{a}{b}`  | $\\frac{a}{b}$\n"
   ]
  },
  {
   "cell_type": "markdown",
   "metadata": {},
   "source": [
    "Команды могут вкладываться друг в друга. Если команда должна применяться к выражению, в котором больше одного символа, то необходимо заключить это выражение в фигурные скобки: `{ }`.\n",
    "\n",
    "**Команда:**\n",
    "\n",
    "`$$ \\sqrt{ \\frac{2 D c_o}{c_h}} $$` \n",
    "\n",
    "**Результат:** $$\\sqrt{ \\frac{2 D c_o}{c_h}}$$"
   ]
  },
  {
   "cell_type": "markdown",
   "metadata": {},
   "source": [
    "### Греческие буквы\n",
    "Команда   | Результат\n",
    ":---------|:---------\n",
    "`\\alpha` | $\\alpha$\n",
    "`A` | $A$\n",
    "`\\lambda` | $\\lambda$\n",
    "`\\Lambda` | $\\Lambda$\n",
    "`\\epsilon`| $\\epsilon$ - американский эпсилон\n",
    "`\\varepsilon`| $\\varepsilon$ - наш эпсилон"
   ]
  },
  {
   "cell_type": "markdown",
   "metadata": {},
   "source": [
    "### Индексы и акценты\n",
    "\n",
    "Команда        | Результат\n",
    ":--------------|:----------\n",
    "`x^2`          | $x^2$\n",
    "`t_k`   | $t_k$\n",
    "`x^{a+b}` | $x^{a+b}$\n",
    "`\\hat{y}`| $\\hat{y}$\n",
    "`\\bar{x}` | $\\bar{x}$\n",
    "`\\bar{x+y}` | $\\bar{x+y}$\n",
    "`\\overline{x+y}` | $\\overline{x+y}$"
   ]
  },
  {
   "cell_type": "markdown",
   "metadata": {},
   "source": [
    "### Дроби\n",
    "\n",
    "Обычная дробь:\n",
    "\n",
    "`$$ \\frac{1}{x+y} $$`\n",
    "$$\\frac{1}{x+y}$$\n",
    "\n",
    "\n"
   ]
  },
  {
   "cell_type": "markdown",
   "metadata": {},
   "source": [
    "Многоэтажные дроби выглядят некрасиво:\n",
    "\n",
    "`$$ \\frac{1}{1+\\frac{1}{x+y}} $$`\n",
    "$$\\frac{1}{1+\\frac{1}{x+y}}$$\n",
    "\n"
   ]
  },
  {
   "cell_type": "markdown",
   "metadata": {},
   "source": [
    "Для из записи необходимо использовать команду `\\cfrac`:\n",
    "\n",
    "`$$ \\cfrac{1}{1+\\cfrac{1}{x+y}} $$`\n",
    "$$\\cfrac{1}{1+\\cfrac{1}{x+y}}$$\n"
   ]
  },
  {
   "cell_type": "markdown",
   "metadata": {},
   "source": [
    "### Скобки\n",
    "\n",
    "Для простых выражений можно вводить непосредственно: \n",
    "\n",
    "`$$ a(b+c) = ac + bc $$`\n",
    "$$ a(b+c) = ac + bc $$\n",
    "\n"
   ]
  },
  {
   "cell_type": "markdown",
   "metadata": {},
   "source": [
    "`$$ x \\in (-\\infty, 0] $$`\n",
    "$$ x \\in (-\\infty, 0] $$\n",
    "\n"
   ]
  },
  {
   "cell_type": "markdown",
   "metadata": {},
   "source": [
    "Для сложных выражений необходимо обозначать пары скобок для автоподбора высоты с помощью команд `\\left`, `\\right`:\n",
    "\n",
    "`$$ (\\frac{1}{a+b}) $$`\n",
    "$$ (\\frac{1}{a+b}) $$\n",
    "\n",
    "\n",
    "`$$ \\left( \\frac{1}{a+b} \\right) $$`\n",
    "$$ \\left( \\frac{1}{a+b} \\right) $$\n",
    "\n"
   ]
  },
  {
   "cell_type": "markdown",
   "metadata": {},
   "source": [
    "## Суммы, интегралы\n",
    "\n",
    "`$$\\sum_{i=1}^n x_i$$`\n",
    "$$\\sum_{i=1}^n x_i$$\n"
   ]
  },
  {
   "cell_type": "markdown",
   "metadata": {},
   "source": [
    "\n",
    "\n",
    "`$$\\int_0^{\\infty} f(x)dx$$`\n",
    "$$\\int_0^{\\infty} f(x)dx$$\n"
   ]
  },
  {
   "cell_type": "markdown",
   "metadata": {},
   "source": [
    "\n",
    "Более правильно:\n",
    "\n",
    "`$$\\int_0^{\\infty} f(x) \\, \\mathrm{d}x$$` \n",
    "\n",
    "- пробел перед d: `\\,`\n",
    "- прямой шрифт: `\\mathrm{d}`\n",
    "\n",
    "$$\\int_0^{\\infty} f(x) \\, \\mathrm{d}x$$\n",
    "\n",
    "\n"
   ]
  },
  {
   "cell_type": "markdown",
   "metadata": {},
   "source": [
    "Пределы снизу и сверху от знака интеграла:\n",
    "`$$\\int\\limits_0^{\\infty} f(x) \\, \\mathrm{d}x$$`\n",
    "\n",
    "- `\\limits` - команда для переноса пределов\n",
    "\n",
    "$$\\int\\limits_0^{\\infty} f(x) \\, \\mathrm{d}x$$"
   ]
  },
  {
   "cell_type": "code",
   "execution_count": 3,
   "metadata": {},
   "outputs": [
    {
     "data": {
      "image/png": "[encoded data removed]",
      "text/plain": [
       "<IPython.core.display.Image object>"
      ]
     },
     "execution_count": 3,
     "metadata": {},
     "output_type": "execute_result"
    }
   ],
   "source": [
    "from IPython.display import Image\n",
    "Image('pics/formuli.png', embed=True)"
   ]
  },
  {
   "cell_type": "code",
   "execution_count": null,
   "metadata": {},
   "outputs": [],
   "source": []
  }
 ],
 "metadata": {
  "hide_input": false,
  "kernelspec": {
   "display_name": "Python 3",
   "language": "python",
   "name": "python3"
  },
  "language_info": {
   "codemirror_mode": {
    "name": "ipython",
    "version": 3
   },
   "file_extension": ".py",
   "mimetype": "text/x-python",
   "name": "python",
   "nbconvert_exporter": "python",
   "pygments_lexer": "ipython3",
   "version": "3.6.8"
  },
  "latex_envs": {
   "bibliofile": "biblio.bib",
   "cite_by": "apalike",
   "current_citInitial": 1,
   "eqLabelWithNumbers": true,
   "eqNumInitial": 0
  },
  "toc": {
   "toc_cell": false,
   "toc_number_sections": false,
   "toc_threshold": 4,
   "toc_window_display": false
  }
 },
 "nbformat": 4,
 "nbformat_minor": 1
}
