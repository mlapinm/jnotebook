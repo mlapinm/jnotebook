{
 "cells": [
  {
   "cell_type": "markdown",
   "metadata": {},
   "source": [
    "# Основы работы с Jupyter Notebook"
   ]
  },
  {
   "cell_type": "markdown",
   "metadata": {},
   "source": [
    "## Содержание\n",
    "\n",
    "1. [Основы работы с блокнотом и примеры решения задач](01_notebook.ipynb)\n",
    "1. [Набор текста и формул](02_markdown.ipynb)\n",
    "1. [Волшебные команды](03_magics.ipynb)\n",
    "1. [Вычисления: переменные, функции, модули и пакеты](04_calculation.ipynb)\n",
    "1. [Самые необходимые типы данных](05_datatypes.ipynb)\n",
    "1. [Рисование графиков с помощью matplotlib](06_plotting.ipynb)\n",
    "\n",
    "\n",
    "Видеокурс на основе этих блокнтов в [YouTube](https://www.youtube.com/playlist?list=PLwCnsQacFoW4XtU9RAtjZr_jJzHD3SdE7)"
   ]
  },
  {
   "cell_type": "markdown",
   "metadata": {},
   "source": [
    "[Сравнение популярности Python и систем для научных вычислений](https://www.google.com/trends/explore#q=python%20-monty%20-snake%20-reptile%20-django%20-ball%2C%20%2Fm%2F053_x%2C%20Mathcad%2C%20Mathematica%2C%20Maple%20software&cmpt=q&tz=Etc%2FGMT-3)\n",
    "\n",
    "\n",
    "Рекомендованные ресурсы:\n",
    "\n",
    "\n",
    "2. [Руководство по использованию Python в инженерных/научных расчетах](http://www.scipy-lectures.org/)\n",
    "\n",
    "3. Маккини, Уэс [Python и анализ данных](http://dmkpress.com/catalog/computer/programming/python/978-5-97060-315-4/)\n",
    "\n",
    "4. Шабанов П.А. [Научная графика в Python](https://github.com/whitehorn/Scientific_graphics_in_python) - учебник по matplotlib на русском\n",
    "\n",
    "4. Fangohr, Hans [Introduction to Python for Computational Science and Engineering (A beginner’s guide)](http://www.southampton.ac.uk/~fangohr/training/python/pdfs/Python-for-Computational-Science-and-Engineering.pdf)\n",
    "\n",
    "5. Лекция об оптимизации в SciPy: Varoquaux, Gaël [Mathematical optimization: finding minima of functions](http://www.scipy-lectures.org/advanced/mathematical_optimization/index.html)\n",
    "\n",
    "6. Документация на пакет `scipy.optimize` [Optimization and root finding /SciPy Reference](http://docs.scipy.org/doc/scipy/reference/optimize.html)\n",
    "\n",
    "7. Примеры графиков с исходным кодом: [Matplotlib plot gallery](http://matplotlib.org/gallery.html)\n",
    "\n",
    "8. Введение в символьные вычисления с помощью пакета `sympy` [SymPy Tutorial](http://docs.sympy.org/latest/tutorial/index.html) \n",
    "\n",
    "9. Вводный курс по Matplotlib Nicolas P. Rougier: [Matplotlib Tutorial](http://www.labri.fr/perso/nrougier/teaching/matplotlib/matplotlib.html)\n",
    "\n",
    "10. Nicolas P. Rougier [Ten simple rules for better figures](http://journals.plos.org/ploscompbiol/article?id=10.1371/journal.pcbi.1003833)"
   ]
  }
 ],
 "metadata": {
  "hide_input": false,
  "kernelspec": {
   "display_name": "Python 3",
   "language": "python",
   "name": "python3"
  },
  "language_info": {
   "codemirror_mode": {
    "name": "ipython",
    "version": 3
   },
   "file_extension": ".py",
   "mimetype": "text/x-python",
   "name": "python",
   "nbconvert_exporter": "python",
   "pygments_lexer": "ipython3",
   "version": "3.7.4"
  },
  "latex_envs": {
   "bibliofile": "biblio.bib",
   "cite_by": "apalike",
   "current_citInitial": 1,
   "eqLabelWithNumbers": true,
   "eqNumInitial": 0
  },
  "toc": {
   "toc_cell": false,
   "toc_number_sections": false,
   "toc_threshold": 4,
   "toc_window_display": false
  }
 },
 "nbformat": 4,
 "nbformat_minor": 1
}
