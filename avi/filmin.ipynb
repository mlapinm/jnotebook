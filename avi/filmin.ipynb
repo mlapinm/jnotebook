{
 "cells": [
  {
   "cell_type": "markdown",
   "metadata": {},
   "source": [
    "1. Мир Дикого Запада HD 720 / Westworld\n",
    "1. <details>\n",
    "    <summary>\n",
    "Короче picГод выпуска: 2019 Производство: Комедия, скетчком Жанр: Россия   \n",
    "    </summary>\n",
    "СУПЕР продакшн, Киностудия \"Yellow, Black and White\" Продолжительность: 12 х ~ 00:25:00 Субтитры: Нет Режиссёр: Илья Фарфель В ролях: Борис Дергачев, Константин Шелягин, Дария Гомес, Николай Сороканов, Павел Демьянов, Дмитрий Овчинников, Денис Шаблий, Александра Кузенкина, Александр Якин, Марина Богатова Описание: Комедия по-быстрому. Голая правда о тридцатилетних, о которой не говорят вслух. Но не главный герой, этот парень говорит честно, быстро и вообще не думает. Он живёт от зарплаты до зарплаты, ходит в магазин со своим пакетом, хвастается айфоном перед друзьями и, конечно, безнадёжно влюблён.    \n",
    "</details>\n",
    "1. <details>\n",
    "    <summary>\n",
    "    .\n",
    "    </summary>\n",
    "    .\n",
    "</details>\n",
    "1. <details>\n",
    "    <summary>\n",
    "    .\n",
    "    </summary>\n",
    "    .\n",
    "</details>\n",
    "1. <details>\n",
    "    <summary>\n",
    "    .\n",
    "    </summary>\n",
    "    .\n",
    "</details>\n",
    "1. <details>\n",
    "    <summary>\n",
    "    .\n",
    "    </summary>\n",
    "    .\n",
    "</details>\n",
    "1. <details>\n",
    "    <summary>\n",
    "    .\n",
    "    </summary>\n",
    "    .\n",
    "</details>\n",
    "1. <details>\n",
    "    <summary>\n",
    "    .\n",
    "    </summary>\n",
    "    .\n",
    "</details>\n",
    "1. <details>\n",
    "    <summary>\n",
    "    .\n",
    "    </summary>\n",
    "    .\n",
    "</details>\n",
    "1. <details>\n",
    "    <summary>\n",
    "    .\n",
    "    </summary>\n",
    "    .\n",
    "</details>\n"
   ]
  },
  {
   "cell_type": "markdown",
   "metadata": {},
   "source": []
  },
  {
   "cell_type": "markdown",
   "metadata": {},
   "source": []
  }
 ],
 "metadata": {
  "kernelspec": {
   "display_name": "Python 3",
   "language": "python",
   "name": "python3"
  },
  "language_info": {
   "codemirror_mode": {
    "name": "ipython",
    "version": 3
   },
   "file_extension": ".py",
   "mimetype": "text/x-python",
   "name": "python",
   "nbconvert_exporter": "python",
   "pygments_lexer": "ipython3",
   "version": "3.6.8"
  }
 },
 "nbformat": 4,
 "nbformat_minor": 2
}
