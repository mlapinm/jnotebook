{
 "cells": [
  {
   "cell_type": "markdown",
   "metadata": {},
   "source": [
    "1. Мир Дикого Запада HD 720 / Westworld\n",
    "1. \n",
    "1. \n",
    "1. \n",
    "1. \n",
    "1. \n",
    "1. \n",
    "1. \n",
    "1. \n",
    "1. \n",
    "1. \n",
    "1. \n"
   ]
  },
  {
   "cell_type": "markdown",
   "metadata": {},
   "source": [
    "Короче\n",
    "picГод выпуска: 2019\n",
    "Производство: Комедия, скетчком\n",
    "Жанр: Россия, СУПЕР продакшн, Киностудия \"Yellow, Black and White\"\n",
    "Продолжительность: 12 х ~ 00:25:00\n",
    "Субтитры: Нет\n",
    "Режиссёр: Илья Фарфель\n",
    "В ролях: Борис Дергачев, Константин Шелягин, Дария Гомес, Николай Сороканов, Павел Демьянов, Дмитрий Овчинников, Денис Шаблий, Александра Кузенкина, Александр Якин, Марина Богатова\n",
    "Описание: Комедия по-быстрому. Голая правда о тридцатилетних, о которой не говорят вслух. Но не главный герой, этот парень говорит честно, быстро и вообще не думает. Он живёт от зарплаты до зарплаты, ходит в магазин со своим пакетом, хвастается айфоном перед друзьями и, конечно, безнадёжно влюблён."
   ]
  },
  {
   "cell_type": "markdown",
   "metadata": {},
   "source": []
  },
  {
   "cell_type": "markdown",
   "metadata": {},
   "source": []
  },
  {
   "cell_type": "markdown",
   "metadata": {},
   "source": []
  }
 ],
 "metadata": {
  "kernelspec": {
   "display_name": "Python 3",
   "language": "python",
   "name": "python3"
  },
  "language_info": {
   "codemirror_mode": {
    "name": "ipython",
    "version": 3
   },
   "file_extension": ".py",
   "mimetype": "text/x-python",
   "name": "python",
   "nbconvert_exporter": "python",
   "pygments_lexer": "ipython3",
   "version": "3.6.6"
  }
 },
 "nbformat": 4,
 "nbformat_minor": 2
}
