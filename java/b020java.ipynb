{
 "cells": [
  {
   "cell_type": "markdown",
   "metadata": {},
   "source": []
  },
  {
   "cell_type": "markdown",
   "metadata": {},
   "source": [
    "#### b20 ”рок по Java 20: ћассивы - определение  \n",
    "#### b21 ”рок по Java 21: Enums - перечеслени¤  \n",
    "#### b22 ”рок Java 22: Overloading - перегрузка методов  \n",
    "#### b23 ”рок Java 23: Constructors 2 - конструкторы урок 2  \n",
    "#### b24 ”роки по Java 24: Overriding - переопределение методов  \n",
    "#### b25 ”рок Java 25:  лючевое слово static и инициализаци¤ классов  \n",
    "#### b26 ”рок Java 26: Ѕлоки инициализации  \n",
    "#### b27 ”рок по Java 27: инициализаци¤ массивов  \n",
    "#### b28 ”рок по Java 28: ќбертки  \n",
    "#### b29 ”рок по Java 29: перегрузка методов 2  \n",
    "#### b30 ”рок по Java 30: ”становка JDK 8 на Linux Mint  \n",
    "#### b31 ”рок по Java 31: ”становка eclipse под Linux mint  \n",
    "#### b32 ”рок по Java 32: установка и запуск первой программы под intellij idea под linux mint  \n",
    "#### b33 ”рок по Java 33: ”становка Oracle JDK на Linux mint 18 через ppa  \n",
    "#### b34 ”рок по Java 34: Garbage Collector  \n",
    "#### b35 ”рок по Java 35: операторы Java  \n",
    "#### b36 ”рок по Java 36: метод main и передаваемые в него параметры  \n",
    "#### b37 ”рок по Java 37: ќператор ветвлени¤ if и else  \n",
    "#### b38 ”рок по Java 38: ћало кто знает как устроен оператор ветвлени¤ switch  \n",
    "#### b39 ”рок по Java 39: ÷иклы while и do while  \n"
   ]
  },
  {
   "cell_type": "code",
   "execution_count": null,
   "metadata": {},
   "outputs": [],
   "source": []
  },
  {
   "cell_type": "markdown",
   "metadata": {},
   "source": [
    "[]()  \n",
    "[]()  \n",
    "[]()  \n",
    "[]()  \n",
    "[]()  \n",
    "```\n",
    "\n",
    "```"
   ]
  }
 ],
 "metadata": {
  "kernelspec": {
   "display_name": "Python 3",
   "language": "python",
   "name": "python3"
  },
  "language_info": {
   "codemirror_mode": {
    "name": "ipython",
    "version": 3
   },
   "file_extension": ".py",
   "mimetype": "text/x-python",
   "name": "python",
   "nbconvert_exporter": "python",
   "pygments_lexer": "ipython3",
   "version": "3.7.8"
  }
 },
 "nbformat": 4,
 "nbformat_minor": 2
}
