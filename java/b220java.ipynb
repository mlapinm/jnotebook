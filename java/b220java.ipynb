{
 "cells": [
  {
   "cell_type": "markdown",
   "metadata": {},
   "source": [
    "[b220 ”рок Java 210: Byte code verifier](#b220-”рок-Java-210:-Byte-code-verifier)  \n",
    "[b221 ”рок Java 211: Security Manager](#b221-”рок-Java-211:-Security-Manager)  \n",
    "[b222 ”рок Java 212: Security Manager аунтентификаци¤ пользовател¤](#b222-”рок-Java-212:-Security-Manager-аунтентификаци¤-пользовател¤)  \n",
    "[b223 ”рок Java 213: –абота с шифрованием MD5 и SHA-1](#b223-”рок-Java-213:-–абота-с-шифрованием-MD5-и-SHA-1)  \n",
    "[b224 ”рок Java 214: —ертификаци¤ - Certification](#b224-”рок-Java-214:-—ертификаци¤---Certification)  \n",
    "[b225 ”рок Java 215: Ўифрование AES](#b225-”рок-Java-215:-Ўифрование-AES)  \n",
    "[b226 ”рок Java 216: Ўифрование RSA](#b226-”рок-Java-216:-Ўифрование-RSA)  \n",
    "[b227 ”рок Java 217: «апуск JavaScript](#b227-”рок-Java-217:-«апуск-JavaScript)  \n",
    "[b228 ”рок Java 218:  омпил¤ци¤ Java в рантайме](#b228-”рок-Java-218:-компил¤ци¤-Java-в-рантайме)  \n",
    "[b229 ”рок Java 219: јннотации - Annotations](#b229-”рок-Java-219:-јннотации---Annotations)  \n",
    "[b230 ”рок Java 220: ѕример работы с аннотаци¤ми](#b230-”рок-Java-220:-ѕример-работы-с-аннотаци¤ми)  \n",
    "[b231 ”рок Java 221: RMI](#b231-”рок-Java-221:-RMI)  \n",
    "[b232 ”рок Java 222: «апуск \"native\" кода](#b232-”рок-Java-222:-«апуск-\"native\"-кода)  \n",
    "[b233 ”рок Java 223: JNDI](#b233-”рок-Java-223:-JNDI)  \n",
    "[b234 ”рок Java 224: JAXB](#b234-”рок-Java-224:-JAXB)  \n",
    "[b235 ”рок Java 225: FX 1: HelloWorld](#b235-”рок-Java-225:-FX-1:-HelloWorld)  \n",
    "[b236 ”рок Java 226: FX 2: Java Packager](#b236-”рок-Java-226:-FX-2:-Java-Packager)  \n",
    "[b237 ”рок Java 227: FX 3: Shapes](#b237-”рок-Java-227:-FX-3:-Shapes)  \n",
    "[b238 ”рок Java 228: FX 4: Canvas](#b238-”рок-Java-228:-FX-4:-Canvas)  \n",
    "[b239 ”рок Java 229: FX 5: Properties и binding](#b239-”рок-Java-229:-FX-5:-Properties-и-binding)  \n"
   ]
  },
  {
   "cell_type": "markdown",
   "metadata": {},
   "source": [
    "#### b220 ”рок Java 210: Byte code verifier  \n",
    "java -noverify VerifierTest  "
   ]
  },
  {
   "cell_type": "markdown",
   "metadata": {},
   "source": [
    "<details><pre>\n",
    "package security;\n",
    "import java.applet.Applet;\n",
    "public class VerifierTest extends Applet {\n",
    "    public static void main(String[] args) {\n",
    "        System.out.println(&quot;1 + 2 == &quot; + fun());\n",
    "    }\n",
    "    public static int fun() {\n",
    "        int m;\n",
    "        int n;\n",
    "        m = 1;\n",
    "        n = 2;\n",
    "// use hex editor to change to &quot;m = 2&quot; in class file\n",
    "        int r = m + n;\n",
    "        return r;\n",
    "    }\n",
    "}\n",
    "</pre></details>"
   ]
  },
  {
   "cell_type": "markdown",
   "metadata": {},
   "source": [
    "#### b221 ”рок Java 211: Security Manager  \n"
   ]
  },
  {
   "cell_type": "markdown",
   "metadata": {},
   "source": []
  },
  {
   "cell_type": "markdown",
   "metadata": {},
   "source": [
    "#### b222 ”рок Java 212: Security Manager аунтентификаци¤ пользовател¤  \n"
   ]
  },
  {
   "cell_type": "markdown",
   "metadata": {},
   "source": []
  },
  {
   "cell_type": "markdown",
   "metadata": {},
   "source": [
    "#### b223 ”рок Java 213: –абота с шифрованием MD5 и SHA-1  \n"
   ]
  },
  {
   "cell_type": "markdown",
   "metadata": {},
   "source": []
  },
  {
   "cell_type": "markdown",
   "metadata": {},
   "source": [
    "#### b224 ”рок Java 214: —ертификаци¤ - Certification  \n"
   ]
  },
  {
   "cell_type": "markdown",
   "metadata": {},
   "source": []
  },
  {
   "cell_type": "markdown",
   "metadata": {},
   "source": [
    "#### b225 ”рок Java 215: Ўифрование AES  \n"
   ]
  },
  {
   "cell_type": "markdown",
   "metadata": {},
   "source": []
  },
  {
   "cell_type": "markdown",
   "metadata": {},
   "source": [
    "#### b226 ”рок Java 216: Ўифрование RSA  \n"
   ]
  },
  {
   "cell_type": "markdown",
   "metadata": {},
   "source": []
  },
  {
   "cell_type": "markdown",
   "metadata": {},
   "source": [
    "#### b227 ”рок Java 217: «апуск JavaScript  \n"
   ]
  },
  {
   "cell_type": "markdown",
   "metadata": {},
   "source": []
  },
  {
   "cell_type": "markdown",
   "metadata": {},
   "source": [
    "#### b228 ”рок Java 218: компил¤ци¤ Java в рантайме  \n"
   ]
  },
  {
   "cell_type": "markdown",
   "metadata": {},
   "source": []
  },
  {
   "cell_type": "markdown",
   "metadata": {},
   "source": [
    "#### b229 ”рок Java 219: јннотации - Annotations  \n"
   ]
  },
  {
   "cell_type": "markdown",
   "metadata": {},
   "source": []
  },
  {
   "cell_type": "markdown",
   "metadata": {},
   "source": [
    "#### b230 ”рок Java 220: ѕример работы с аннотаци¤ми  \n"
   ]
  },
  {
   "cell_type": "markdown",
   "metadata": {},
   "source": []
  },
  {
   "cell_type": "markdown",
   "metadata": {},
   "source": [
    "#### b231 ”рок Java 221: RMI  \n"
   ]
  },
  {
   "cell_type": "markdown",
   "metadata": {},
   "source": []
  },
  {
   "cell_type": "markdown",
   "metadata": {},
   "source": [
    "#### b232 ”рок Java 222: «апуск \"native\" кода  \n"
   ]
  },
  {
   "cell_type": "markdown",
   "metadata": {},
   "source": []
  },
  {
   "cell_type": "markdown",
   "metadata": {},
   "source": [
    "#### b233 ”рок Java 223: JNDI  \n"
   ]
  },
  {
   "cell_type": "markdown",
   "metadata": {},
   "source": []
  },
  {
   "cell_type": "markdown",
   "metadata": {},
   "source": [
    "#### b234 ”рок Java 224: JAXB  \n"
   ]
  },
  {
   "cell_type": "markdown",
   "metadata": {},
   "source": [
    "#### b235 ”рок Java 225: FX 1: HelloWorld  \n",
    "- html,css,javascript\n",
    "- мобильные приложения  \n",
    "- linux - aptitude install openjfx\n",
    "- [Пишем игру на LWJGL](https://habr.com/ru/post/427979/)\n",
    "- \n"
   ]
  },
  {
   "cell_type": "markdown",
   "metadata": {},
   "source": [
    "<details><pre>\n",
    "package fx;\n",
    "import javafx.application.Application;\n",
    "import javafx.scene.Group;\n",
    "import javafx.scene.Scene;\n",
    "import javafx.stage.Stage;\n",
    "public class HelloWorld extends Application {\n",
    "    public static void main(String[] args) {\n",
    "        Application.launch(args);\n",
    "    }\n",
    "    @Override\n",
    "    public void start(Stage primaryStage) throws Exception {\n",
    "        Group group = new Group();\n",
    "        Scene scene = new Scene(group, 400, 300);\n",
    "        primaryStage.setTitle(&quot;Hello world!&quot;);\n",
    "        primaryStage.setScene(scene);\n",
    "        primaryStage.show();\n",
    "    }\n",
    "}\n",
    "</pre></details>"
   ]
  },
  {
   "cell_type": "markdown",
   "metadata": {},
   "source": [
    "#### b236 ”рок Java 226: FX 2: Java Packager  \n",
    "- javafxpackager -> javapackager  "
   ]
  },
  {
   "cell_type": "markdown",
   "metadata": {},
   "source": [
    "```\n",
    "javac Main.java\n",
    "java Main\n",
    "```\n",
    "<details><pre>\n",
    "import javafx.application.Application;\n",
    "import javafx.scene.Group;\n",
    "import javafx.scene.Scene;\n",
    "import javafx.stage.Stage;\n",
    "public class Main extends Application {\n",
    "    public static void main(String[] args) {\n",
    "        Application.launch(args);\n",
    "    }\n",
    "    @Override\n",
    "    public void start(Stage primaryStage) throws Exception {\n",
    "        Group group = new Group();\n",
    "        Scene scene = new Scene(group, 400, 300);\n",
    "        primaryStage.setTitle(&quot;Hello world!&quot;);\n",
    "        primaryStage.setScene(scene);\n",
    "        primaryStage.show();\n",
    "    }\n",
    "}\n",
    "</pre></details>"
   ]
  },
  {
   "cell_type": "markdown",
   "metadata": {},
   "source": [
    "```\n",
    "javapackager -createjar -appclass Main -srcdir . -outfile main.jar -v\n",
    "javapackager -createjar -appclass Main -srcfiles Main.class -outfile main.jar -v\n",
    "java -jar main.jar\n",
    "```"
   ]
  },
  {
   "cell_type": "markdown",
   "metadata": {},
   "source": [
    "#### b237 ”рок Java 227: FX 3: Shapes  \n"
   ]
  },
  {
   "cell_type": "markdown",
   "metadata": {},
   "source": [
    "<details><pre>\n",
    "package fx;\n",
    "import javafx.application.Application;\n",
    "import javafx.scene.Group;\n",
    "import javafx.scene.Scene;\n",
    "import javafx.scene.paint.Color;\n",
    "import javafx.scene.shape.Ellipse;\n",
    "import javafx.scene.shape.Line;\n",
    "import javafx.scene.text.Font;\n",
    "import javafx.scene.text.Text;\n",
    "import javafx.stage.Stage;\n",
    "/**\n",
    " * Created by max on 3/1/17.\n",
    " */\n",
    "public class ShapesLesson extends Application {\n",
    "    public static void main(String[] args) {\n",
    "        Application.launch(args);\n",
    "    }\n",
    "//   Arc\n",
    "//   Circle\n",
    "//\t CubicCurve\n",
    "//\t Ellipse\n",
    "//\t Line\n",
    "//\t Path\n",
    "//   Polygon\n",
    "//\t Polyline\n",
    "//\t QuadCurve\n",
    "//\t Rectangle\n",
    "//\t SVGPath\n",
    "//\t Text (which is considered to be a type of shape)\n",
    "    @Override\n",
    "    public void start(Stage primaryStage) throws Exception {\n",
    "        Line line = new Line(50, 50, 100, 80);\n",
    "        line.setStroke(Color.GREEN);\n",
    "        Ellipse ellipse = new Ellipse(100,50,80,20);\n",
    "        ellipse.setStroke(Color.BLUE);\n",
    "        ellipse.setFill(Color.web(&quot;0xFFFFFF00&quot;));\n",
    "        Text text = new Text(0,50,&quot;hello&quot;);\n",
    "        text.setFont(Font.font(50));\n",
    "        text.setStroke(Color.BLACK);\n",
    "        Group group = new Group();\n",
    "        group.getChildren().add(line);\n",
    "        group.getChildren().add(text);\n",
    "        group.getChildren().add(ellipse);\n",
    "        Scene scene = new Scene(group, 400,300);\n",
    "        primaryStage.setScene(scene);\n",
    "        primaryStage.show();\n",
    "    }\n",
    "}\n",
    "</pre></details>"
   ]
  },
  {
   "cell_type": "markdown",
   "metadata": {},
   "source": [
    "#### b238 ”рок Java 228: FX 4: Canvas  \n"
   ]
  },
  {
   "cell_type": "markdown",
   "metadata": {},
   "source": [
    "<details><pre>\n",
    "package fx;\n",
    "import javafx.application.Application;\n",
    "import javafx.scene.Group;\n",
    "import javafx.scene.Scene;\n",
    "import javafx.scene.canvas.Canvas;\n",
    "import javafx.scene.canvas.GraphicsContext;\n",
    "import javafx.scene.paint.Color;\n",
    "import javafx.scene.shape.ArcType;\n",
    "import javafx.stage.Stage;\n",
    "/**\n",
    " * Created by max on 3/1/17.\n",
    " */\n",
    "public class CanvasLesson extends Application {\n",
    "    public static void main(String[] args) {\n",
    "        launch(args);\n",
    "    }\n",
    "    @Override\n",
    "    public void start(Stage primaryStage) {\n",
    "        primaryStage.setTitle(&quot;Drawing Operations Test&quot;);\n",
    "        Group root = new Group();\n",
    "        Canvas canvas = new Canvas(300, 250);\n",
    "        GraphicsContext gc = canvas.getGraphicsContext2D();\n",
    "        drawShapes(gc);\n",
    "        root.getChildren().add(canvas);\n",
    "        primaryStage.setScene(new Scene(root));\n",
    "        primaryStage.show();\n",
    "    }\n",
    "    private void drawShapes(GraphicsContext gc) {\n",
    "        gc.setFill(Color.GREEN);\n",
    "        gc.setStroke(Color.BLUE);\n",
    "        gc.setLineWidth(5);\n",
    "        gc.strokeLine(40, 10, 10, 40);\n",
    "        gc.fillOval(10, 60, 30, 30);\n",
    "        gc.strokeOval(60, 60, 30, 30);\n",
    "        gc.fillRoundRect(110, 60, 30, 30, 10, 10);\n",
    "        gc.strokeRoundRect(160, 60, 30, 30, 10, 10);\n",
    "        gc.fillArc(10, 110, 30, 30, 45, 240, ArcType.OPEN);\n",
    "        gc.fillArc(60, 110, 30, 30, 45, 240, ArcType.CHORD);\n",
    "        gc.fillArc(110, 110, 30, 30, 45, 240, ArcType.ROUND);\n",
    "        gc.strokeArc(10, 160, 30, 30, 45, 240, ArcType.OPEN);\n",
    "        gc.strokeArc(60, 160, 30, 30, 45, 240, ArcType.CHORD);\n",
    "        gc.strokeArc(110, 160, 30, 30, 45, 240, ArcType.ROUND);\n",
    "        gc.fillPolygon(new double[]{10, 40, 10, 40},\n",
    "                new double[]{210, 210, 240, 240}, 4);\n",
    "        gc.strokePolygon(new double[]{60, 90, 60, 90},\n",
    "                new double[]{210, 210, 240, 240}, 4);\n",
    "        gc.strokePolyline(new double[]{110, 140, 110, 140},\n",
    "                new double[]{210, 210, 240, 240}, 4);\n",
    "    }\n",
    "}\n",
    "</pre></details>"
   ]
  },
  {
   "cell_type": "markdown",
   "metadata": {},
   "source": [
    "#### b239 ”рок Java 229: FX 5: Properties и binding  \n",
    "[1 Using JavaFX Properties and Binding](https://docs.oracle.com/javase/8/javafx/properties-binding-tutorial/binding.htm#sthref8)"
   ]
  },
  {
   "cell_type": "markdown",
   "metadata": {},
   "source": [
    "10\n",
    "6\n",
    "6\n",
    "new value = 5\n",
    "new value = 6\n",
    "new value = 7\n",
    "Max\n",
    "new value: Mike\n",
    "<details><pre>\n",
    "package fx;\n",
    "import javafx.beans.binding.IntegerBinding;\n",
    "import javafx.beans.property.*;\n",
    "import javafx.beans.value.ChangeListener;\n",
    "import javafx.beans.value.ObservableValue;\n",
    "/**\n",
    " * Created by max on 3/1/17.\n",
    " */\n",
    "//10\n",
    "//6\n",
    "//6\n",
    "//new value = 5\n",
    "//new value = 6\n",
    "//new value = 7\n",
    "public class BindingLesson {\n",
    "    public static void main(String[] args) {\n",
    "        IntegerProperty integerProperty = new SimpleIntegerProperty(5);\n",
    "        IntegerProperty integerProperty2 = new ReadOnlyIntegerWrapper(5);\n",
    "        IntegerBinding integerBinding = new IntegerBinding() {\n",
    "            {\n",
    "                super.bind(integerProperty, integerProperty2);\n",
    "            }\n",
    "            @Override\n",
    "            protected int computeValue() {\n",
    "                return integerProperty.get() + integerProperty2.get();\n",
    "            }\n",
    "        };\n",
    "        System.out.println(integerBinding.get());\n",
    "        integerProperty.set(1);\n",
    "        System.out.println(integerBinding.get());\n",
    "        System.out.println(integerProperty.add(integerProperty2).getValue());\n",
    "        integerProperty.addListener(new ChangeListener&lt;Number&gt;() {\n",
    "            @Override\n",
    "            public void changed(ObservableValue&lt;? extends Number&gt; observable, Number oldValue, Number newValue) {\n",
    "                System.out.println(&quot;new value = &quot; + newValue);\n",
    "            }\n",
    "        });\n",
    "        integerProperty.bindBidirectional(integerProperty2);\n",
    "        integerProperty2.set(6);\n",
    "        //System.out.println(integerProperty.get());\n",
    "        integerProperty.set(7);\n",
    "        //System.out.println(integerProperty2.get());\n",
    "        User user = new User();\n",
    "        System.out.println(user.userName.get());\n",
    "        user.setUserName(&quot;Mike&quot;);\n",
    "    }\n",
    "}\n",
    "class User {\n",
    "    SimpleStringProperty userName = new SimpleStringProperty(&quot;Max&quot;);\n",
    "    User() {\n",
    "        userName.addListener(new ChangeListener&lt;String&gt;() {\n",
    "            @Override\n",
    "            public void changed(ObservableValue&lt;? extends String&gt; observable, String oldValue, String newValue) {\n",
    "                System.out.println(&quot;new value: &quot; + newValue);\n",
    "            }\n",
    "        });\n",
    "    }\n",
    "    public String getUserName() {\n",
    "        return userName.get();\n",
    "    }\n",
    "    public SimpleStringProperty userNameProperty() {\n",
    "        return userName;\n",
    "    }\n",
    "    public void setUserName(String userName) {\n",
    "        this.userName.set(userName);\n",
    "    }\n",
    "}\n",
    "</pre></details>"
   ]
  },
  {
   "cell_type": "markdown",
   "metadata": {},
   "source": [
    "<details><pre>\n",
    "package com.company.le01;\n",
    "import javafx.beans.binding.IntegerBinding;\n",
    "import javafx.beans.property.IntegerProperty;\n",
    "import javafx.beans.property.SimpleIntegerProperty;\n",
    "import javafx.beans.value.ChangeListener;\n",
    "import javafx.beans.value.ObservableValue;\n",
    "import javax.swing.*;\n",
    "public class Main {\n",
    "    public static void main(String[] args) {\n",
    "        IntegerProperty integerProperty = new SimpleIntegerProperty(5);\n",
    "        System.out.println(integerProperty.get());\n",
    "        integerProperty.addListener(new ChangeListener&lt;Number&gt;() {\n",
    "            @Override\n",
    "            public void changed(ObservableValue&lt;? extends Number&gt; observable, Number oldValue,\n",
    "                                Number newValue) {\n",
    "                System.out.println(&quot;new value = &quot; + newValue);\n",
    "            }\n",
    "        });\n",
    "        integerProperty.set(3);\n",
    "    }\n",
    "}\n",
    "</pre></details>"
   ]
  },
  {
   "cell_type": "markdown",
   "metadata": {},
   "source": [
    "[]()  \n",
    "[]()  \n",
    "[]()  \n",
    "[]()  \n",
    "[Уроки по Java](https://www.youtube.com/watch?v=2tESlsiSXc8&list=PL786bPIlqEjRDXpAKYbzpdTaOYsWyjtCX&index=220) "
   ]
  },
  {
   "cell_type": "markdown",
   "metadata": {},
   "source": [
    "[]()  \n",
    "[]()  \n",
    "[]()  \n",
    "[]()  \n",
    "[]()  \n",
    "```\n",
    "\n",
    "```"
   ]
  }
 ],
 "metadata": {
  "kernelspec": {
   "display_name": "Python 3",
   "language": "python",
   "name": "python3"
  },
  "language_info": {
   "codemirror_mode": {
    "name": "ipython",
    "version": 3
   },
   "file_extension": ".py",
   "mimetype": "text/x-python",
   "name": "python",
   "nbconvert_exporter": "python",
   "pygments_lexer": "ipython3",
   "version": "3.7.4"
  }
 },
 "nbformat": 4,
 "nbformat_minor": 2
}
