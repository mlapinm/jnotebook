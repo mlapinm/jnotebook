{
 "cells": [
  {
   "cell_type": "markdown",
   "metadata": {},
   "source": [
    "[b140 ”рок Java 138: AWT 18: «аставка - Splash screen](#b140-”рок-Java-138:-AWT-18:-«аставка---Splash-screen)  \n",
    "[b141 ”рок Java 139: AWT 19: «апуск других приложений на ¬ашем компьютере из Java](#b141-”рок-Java-139:-AWT-19:-«апуск-других-приложений-на-¬ашем-компьютере-из-Java)  \n",
    "[b142 ”рок Java 140: AWT 20: SystemTray](#b142-”рок-Java-140:-AWT-20:-SystemTray)  \n",
    "[b143 ”рок Java 141: ”становка JDK на MacOs Sierra](#b143-”рок-Java-141:-”становка-JDK-на-MacOs-Sierra)  \n",
    "[b144 ”рок Java 142: ”становка и запуск Eclipse на MacOs](#b144-”рок-Java-142:-”становка-и-запуск-Eclipse-на-MacOs)  \n",
    "[b145 ”рок Java 143: ”становка и запуска Intellij idea на MacOs Sierra](#b145-”рок-Java-143:-”становка-и-запуска-Intellij-idea-на-MacOs-Sierra)  \n",
    "[b146 ”рок Java 144: ¬ыполн¤емый Jar архивы](#b146-”рок-Java-144:-¬ыполн¤емый-Jar-архивы)  \n",
    "[b147 ”рок Java 145: јплеты](#b147-”рок-Java-145:-јплеты)  \n",
    "[b148 ”рок Java 146: Java WebStart](#b148-”рок-Java-146:-Java-WebStart)  \n",
    "[b149 ”рок Java 147: Properties](#b149-”рок-Java-147:-Properties)  \n",
    "[b150 ”рок Java 148: Preferences](#b150-”рок-Java-148:-Preferences)  \n",
    "[b151 ”роки Java 149: Ћогирование - loggers](#b151-”роки-Java-149:-Ћогирование---loggers)  \n",
    "[b152 ”рок Java 150: Debugging tips and tricks](#b152-”рок-Java-150:-Debugging-tips-and-tricks)  \n",
    "[b153 ”рок Java 151: Debugging Swing](#b153-”рок-Java-151:-Debugging-Swing)  \n",
    "[b154 ”рок Java 152: Robot](#b154-”рок-Java-152:-Robot)  \n",
    "[b155 ”рок Java 153:  ак ¤ устроилс¤ на работу в —Ўј](#b155-”рок-Java-153:- ак-¤-устроилс¤-на-работу-в-—Ўј)  \n",
    "[b156 ”рок Java 154: Javadoc](#b156-”рок-Java-154:-Javadoc)  \n",
    "[b157 ”рок Java 155: Overloading подробнее](#b157-”рок-Java-155:-Overloading-подробнее)  \n",
    "[b158 ”рок Java 156: переопределение equals](#b158-”рок-Java-156:-переопределение-equals)  \n",
    "[b159 ”рок Java 157: instanceof null](#b159-”рок-Java-157:-instanceof-null)  \n"
   ]
  },
  {
   "cell_type": "markdown",
   "metadata": {},
   "source": [
    "#### b140 ”рок Java 138: AWT 18: «аставка - Splash screen  \n",
    "VM Options:  \n",
    "-splash:smile.jpg  "
   ]
  },
  {
   "cell_type": "markdown",
   "metadata": {},
   "source": [
    "<details><pre>\n",
    "package swing.awt;\n",
    "import javax.swing.*;\n",
    "import java.awt.*;\n",
    "import java.awt.datatransfer.UnsupportedFlavorException;\n",
    "import java.io.IOException;\n",
    "public class SplashLesson {\n",
    "    public static void main(String[] args) throws IOException, UnsupportedFlavorException, InterruptedException {\n",
    "        SplashScreen splash = SplashScreen.getSplashScreen();\n",
    "        Rectangle bounds = splash.getBounds();\n",
    "        Graphics2D g = splash.createGraphics();\n",
    "        g.setColor(Color.MAGENTA);\n",
    "        for (int i = 0; i &lt;= 100; i++) {\n",
    "            g.fillRect(0, 0, bounds.width * i / 100, 20);\n",
    "            splash.update();\n",
    "        }\n",
    "        final Image img = new ImageIcon(splash.getImageURL()).getImage();\n",
    "        final JFrame splashFrame = new JFrame();\n",
    "        final JPanel splashPanel = new JPanel() {\n",
    "            public void paintComponent(Graphics g) {\n",
    "                g.drawImage(img, 0, 0, null);\n",
    "            }\n",
    "        };\n",
    "        final JProgressBar progressBar = new JProgressBar();\n",
    "        progressBar.setStringPainted(true);\n",
    "        splashPanel.setLayout(new BorderLayout());\n",
    "        splashPanel.add(progressBar, BorderLayout.NORTH);\n",
    "        splashFrame.add(splashPanel);\n",
    "        splashFrame.setBounds(splash.getBounds());\n",
    "        splashFrame.setVisible(true);\n",
    "        try {\n",
    "            for (int i = 0; i &lt;= 100; i++) {\n",
    "                progressBar.setString(&quot;Loading module &quot; + i);\n",
    "                progressBar.setValue(i);\n",
    "                splashPanel.repaint();\n",
    "                Thread.sleep(10);\n",
    "            }\n",
    "        } catch (InterruptedException e) {\n",
    "        }\n",
    "        splashFrame.setVisible(false);\n",
    "    }\n",
    "}\n",
    "</pre></details>"
   ]
  },
  {
   "cell_type": "markdown",
   "metadata": {},
   "source": [
    "#### b141 ”рок Java 139: AWT 19: «апуск других приложений на ¬ашем компьютере из Java  \n"
   ]
  },
  {
   "cell_type": "markdown",
   "metadata": {},
   "source": [
    "<details><pre>\n",
    "package swing.awt;\n",
    "import java.awt.*;\n",
    "import java.io.File;\n",
    "import java.io.IOException;\n",
    "import java.net.URI;\n",
    "public class RunDesctoopAppsLesson {\n",
    "    public static void main(String[] args) throws IOException {\n",
    "        if(Desktop.isDesktopSupported()) {\n",
    "            Desktop desktop = Desktop.getDesktop();\n",
    "            for (Desktop.Action action : Desktop.Action.values()) {\n",
    "                System.out.println(action);\n",
    "            }\n",
    "//            if(desktop.isSupported(Desktop.Action.OPEN)) {\n",
    "//                desktop.open(new File(&quot;/home/max/IdeaProjects/JavaLessons/smile.jpg&quot;));\n",
    "//            }\n",
    "            if(desktop.isSupported(Desktop.Action.BROWSE)) {\n",
    "                desktop.browse(URI.create(&quot;https://yandex.ru&quot;));\n",
    "            }\n",
    "        }\n",
    "    }\n",
    "}\n",
    "</pre></details>"
   ]
  },
  {
   "cell_type": "markdown",
   "metadata": {},
   "source": [
    "#### b142 ”рок Java 140: AWT 20: SystemTray  \n"
   ]
  },
  {
   "attachments": {
    "icon.png": {
     "image/png": "[encoded data removed]"
    }
   },
   "cell_type": "markdown",
   "metadata": {},
   "source": [
    "![icon.png](attachment:icon.png)"
   ]
  },
  {
   "cell_type": "markdown",
   "metadata": {},
   "source": [
    "<details><pre>\n",
    "package swing.awt;\n",
    "import javax.swing.*;\n",
    "import java.awt.*;\n",
    "import java.io.IOException;\n",
    "import java.net.URISyntaxException;\n",
    "public class SystemTrayLesson {\n",
    "    public static void main(String[] args) throws IOException, URISyntaxException, AWTException {\n",
    "        if(SystemTray.isSupported()) {\n",
    "            SystemTray tray = SystemTray.getSystemTray();\n",
    "            Image image = new ImageIcon(&quot;icon.png&quot;, &quot;descr&quot;).getImage();\n",
    "            PopupMenu menu = new PopupMenu();\n",
    "            menu.add(new MenuItem(&quot;one&quot;));\n",
    "            menu.add(new MenuItem(&quot;two&quot;));\n",
    "            tray.add(new TrayIcon(image, &quot;description&quot;, menu));\n",
    "        }\n",
    "    }\n",
    "}\n",
    "</pre></details>"
   ]
  },
  {
   "cell_type": "markdown",
   "metadata": {},
   "source": [
    "#### b143 ”рок Java 141: ”становка JDK на MacOs Sierra  \n"
   ]
  },
  {
   "cell_type": "markdown",
   "metadata": {},
   "source": []
  },
  {
   "cell_type": "markdown",
   "metadata": {},
   "source": [
    "#### b144 ”рок Java 142: ”становка и запуск Eclipse на MacOs  \n"
   ]
  },
  {
   "cell_type": "markdown",
   "metadata": {},
   "source": []
  },
  {
   "cell_type": "markdown",
   "metadata": {},
   "source": [
    "#### b145 ”рок Java 143: ”становка и запуска Intellij idea на MacOs Sierra  \n"
   ]
  },
  {
   "cell_type": "markdown",
   "metadata": {},
   "source": []
  },
  {
   "cell_type": "markdown",
   "metadata": {},
   "source": [
    "#### b146 ”рок Java 144: ¬ыполн¤емый Jar архивы  \n",
    "Linux  \n",
    "jar cvfe Test.jar Test Test.class  \n",
    "java -jar Test.jar  \n",
    "manifest.mf  \n",
    "Main-Class: Test  "
   ]
  },
  {
   "cell_type": "markdown",
   "metadata": {},
   "source": []
  },
  {
   "cell_type": "markdown",
   "metadata": {},
   "source": [
    "#### b147 ”рок Java 145: јплеты  \n",
    "intellij Idea Applet rb run AppletLesson "
   ]
  },
  {
   "cell_type": "markdown",
   "metadata": {},
   "source": [
    "<details><pre>\n",
    "package swing.web;\n",
    "import javax.swing.*;\n",
    "public class AppletsLesson extends JApplet {\n",
    "    @Override\n",
    "    public void init() {\n",
    "        add(new JButton(getParameter(&quot;buttonName&quot;)));\n",
    "    }\n",
    "}\n",
    "</pre></details>"
   ]
  },
  {
   "cell_type": "markdown",
   "metadata": {},
   "source": [
    "appletviewer index1.html\n"
   ]
  },
  {
   "cell_type": "markdown",
   "metadata": {},
   "source": [
    "##### index1.html\n",
    "<details><pre>\n",
    "&lt;!DOCTYPE html&gt;\n",
    "&lt;html lang=&quot;en&quot;&gt;\n",
    "&lt;head&gt;\n",
    "    &lt;meta charset=&quot;UTF-8&quot;&gt;\n",
    "    &lt;title&gt;Document&lt;/title&gt;\n",
    "&lt;/head&gt;\n",
    "&lt;body&gt;\n",
    "   &lt;applet code=&quot;Test.class&quot; width = &quot;300&quot; height=&quot;300&quot;&gt;\n",
    "       applet doesn't work\n",
    "   &lt;/applet&gt;\n",
    "   &lt;object\n",
    "    codetype=&quot;application/java&quot;\n",
    "    classid=&quot;java:Test.class&quot;\n",
    "    width = &quot;300&quot; height=&quot;300&quot;&gt;\n",
    "&lt;/body&gt;\n",
    "&lt;/html&gt;\n",
    "</pre></details>"
   ]
  },
  {
   "cell_type": "markdown",
   "metadata": {},
   "source": [
    "##### Test.java\n",
    "javac Test.java  \n",
    "Test.class  \n",
    "<details><pre>\n",
    "import javax.swing.*;\n",
    "public class Test extends JApplet {\n",
    "    @Override\n",
    "    public void init() {\n",
    "        add(new JButton(getParameter(&quot;buttonName&quot;)));\n",
    "    }\n",
    "}\n",
    "</pre></details>"
   ]
  },
  {
   "cell_type": "markdown",
   "metadata": {},
   "source": [
    "#### b148 ”рок Java 146: Java WebStart  \n",
    "[webstart](https://docs.oracle.com/javase/tutorial/deployment/webstart/developing.html)"
   ]
  },
  {
   "cell_type": "markdown",
   "metadata": {},
   "source": [
    "dynamictree_webstart.jnlp\n",
    "<details><pre>\n",
    "&lt;?xml version=&quot;1.0&quot; encoding=&quot;utf-8&quot;?&gt;\n",
    "&lt;!-- \n",
    "/*\n",
    " * Copyright (c) 2009, Oracle and/or its affiliates. All rights reserved.\n",
    " *\n",
    " * Redistribution and use in source and binary forms, with or without\n",
    " * modification, are permitted provided that the following conditions\n",
    " * are met:\n",
    " *\n",
    " *   - Redistributions of source code must retain the above copyright\n",
    " *     notice, this list of conditions and the following disclaimer.\n",
    " *\n",
    " *   - Redistributions in binary form must reproduce the above copyright\n",
    " *     notice, this list of conditions and the following disclaimer in the\n",
    " *     documentation and/or other materials provided with the distribution.\n",
    " *\n",
    " *   - Neither the name of Oracle or the names of its\n",
    " *     contributors may be used to endorse or promote products derived\n",
    " *     from this software without specific prior written permission.\n",
    " *\n",
    " * THIS SOFTWARE IS PROVIDED BY THE COPYRIGHT HOLDERS AND CONTRIBUTORS &quot;AS\n",
    " * IS&quot; AND ANY EXPRESS OR IMPLIED WARRANTIES, INCLUDING, BUT NOT LIMITED TO,\n",
    " * THE IMPLIED WARRANTIES OF MERCHANTABILITY AND FITNESS FOR A PARTICULAR\n",
    " * PURPOSE ARE DISCLAIMED.  IN NO EVENT SHALL THE COPYRIGHT OWNER OR\n",
    " * CONTRIBUTORS BE LIABLE FOR ANY DIRECT, INDIRECT, INCIDENTAL, SPECIAL,\n",
    " * EXEMPLARY, OR CONSEQUENTIAL DAMAGES (INCLUDING, BUT NOT LIMITED TO,\n",
    " * PROCUREMENT OF SUBSTITUTE GOODS OR SERVICES; LOSS OF USE, DATA, OR\n",
    " * PROFITS; OR BUSINESS INTERRUPTION) HOWEVER CAUSED AND ON ANY THEORY OF\n",
    " * LIABILITY, WHETHER IN CONTRACT, STRICT LIABILITY, OR TORT (INCLUDING\n",
    " * NEGLIGENCE OR OTHERWISE) ARISING IN ANY WAY OUT OF THE USE OF THIS\n",
    " * SOFTWARE, EVEN IF ADVISED OF THE POSSIBILITY OF SUCH DAMAGE.\n",
    " */ \n",
    "--&gt;\n",
    "&lt;jnlp spec=&quot;1.0+&quot; \n",
    "        codebase=&quot;https://docs.oracle.com/javase/tutorialJWS/samples/deployment/dynamictree_webstartJWSProject&quot;\n",
    "        href=&quot;dynamictree_webstart.jnlp&quot;&gt;\n",
    "    &lt;information&gt;\n",
    "        &lt;title&gt;Dynamic Tree Demo&lt;/title&gt;\n",
    "        &lt;vendor&gt;Dynamic Team&lt;/vendor&gt;\n",
    "    &lt;/information&gt;\n",
    "    &lt;resources&gt;\n",
    "        &lt;!-- Application Resources --&gt;\n",
    "        &lt;j2se version=&quot;1.7+&quot;\n",
    "              href=&quot;http://java.sun.com/products/autodl/j2se&quot;/&gt;\n",
    "        &lt;jar href=&quot;DynamicTreeDemo.jar&quot; main=&quot;true&quot; /&gt;\n",
    "    &lt;/resources&gt;\n",
    "    &lt;application-desc\n",
    "         name=&quot;Dynamic Tree Demo Application&quot;\n",
    "         main-class=&quot;webstartComponentArch.DynamicTreeApplication&quot;&gt;\n",
    "     &lt;/application-desc&gt;\n",
    "     &lt;update check=&quot;background&quot;/&gt;\n",
    "&lt;/jnlp&gt;\n",
    "</pre></details>"
   ]
  },
  {
   "cell_type": "markdown",
   "metadata": {},
   "source": [
    "#### b149 ”рок Java 147: Properties  \n"
   ]
  },
  {
   "cell_type": "markdown",
   "metadata": {},
   "source": [
    "load(in),store(out,\"\"),getProperty(\"width\"),setProperty(\"width\",\"200\")"
   ]
  },
  {
   "cell_type": "markdown",
   "metadata": {},
   "source": [
    "<details><pre>\n",
    "//package properties;\n",
    "//PropertiesLesson\n",
    "public class Main {\n",
    "    public static void main(String[] args) throws IOException {\n",
    "        Properties properties = new Properties();\n",
    "        FileInputStream in = null;\n",
    "        in = new FileInputStream(&quot;Main.prop&quot;);\n",
    "        FileOutputStream out=null;\n",
    "        if (in == null) {\n",
    "            out = new FileOutputStream(&quot;Main.prop&quot;);\n",
    "            out.close();\n",
    "        }\n",
    "        in = new FileInputStream(&quot;Main.prop&quot;);\n",
    "        properties.load(in);\n",
    "        String st = properties.getProperty(&quot;width&quot;,&quot;100&quot;);\n",
    "        System.out.println(st);\n",
    "        Properties properties2 = new Properties();\n",
    "        properties2.setProperty(&quot;width&quot;,&quot;300&quot;);\n",
    "        out = new  FileOutputStream(&quot;Main.prop&quot;);\n",
    "        properties2.store(out,&quot;prop&quot;);\n",
    "        out.close();\n",
    "    }\n",
    "}\n",
    "</pre></details>"
   ]
  },
  {
   "cell_type": "markdown",
   "metadata": {},
   "source": [
    "```\n",
    "Properties defaultProperties = new Properties();\n",
    "defaultProperties.setProperty(\"width\",\"100\");\n",
    "Properties properties1 = new Properties(defaultProperties);\n",
    "properties1.getProperty(\"width\");\n",
    "//or\n",
    "properties1.getProperty(\"width\",\"300\");\n",
    "```"
   ]
  },
  {
   "cell_type": "markdown",
   "metadata": {},
   "source": [
    "#### b150 ”рок Java 148: Preferences  \n"
   ]
  },
  {
   "cell_type": "markdown",
   "metadata": {},
   "source": [
    "<details><pre>\n",
    "package properties;\n",
    "import java.io.FileOutputStream;\n",
    "import java.io.IOException;\n",
    "import java.util.prefs.BackingStoreException;\n",
    "import java.util.prefs.Preferences;\n",
    "/**\n",
    " * Created by husiv on 10/4/16.\n",
    " */\n",
    "public class PreferencesLesson {\n",
    "    public static void main(String[] args) throws IOException, BackingStoreException {\n",
    "        Preferences root = Preferences.userRoot();\n",
    "        Preferences systemRoot = Preferences.systemRoot();\n",
    "        Preferences node = root.node(&quot;/com/max/lessons&quot;);\n",
    "        Preferences node2 = root.userNodeForPackage(new PreferencesLesson().getClass());\n",
    "        node.put(&quot;myInt&quot;, &quot;2&quot;);\n",
    "        System.out.println(node.getInt(&quot;myInt&quot;, 1));\n",
    "        root.exportSubtree(new FileOutputStream(&quot;prop.xml&quot;));\n",
    "    }\n",
    "}\n",
    "</pre></details>"
   ]
  },
  {
   "cell_type": "markdown",
   "metadata": {},
   "source": [
    "[Exporting/importing Java preferences data to/from XML](http://esus.com/exportingimporting-java-preferences-data-tofrom-xml/)"
   ]
  },
  {
   "cell_type": "markdown",
   "metadata": {},
   "source": [
    "<details><pre>\n",
    "public class Main {\n",
    "    public static void main(String[] args) throws BackingStoreException, IOException, InvalidPreferencesFormatException {\n",
    "       MyPreferences myPreferences = new MyPreferences();\n",
    "       myPreferences.go();\n",
    "       myPreferences.readXml();\n",
    "    }\n",
    "}\n",
    "class MyPreferences {\n",
    "    public static final String PREFERENCES_XML = &quot;preferences.xml&quot;;\n",
    "    Preferences preferences =Preferences.userNodeForPackage(this.getClass());\n",
    "    void go() throws BackingStoreException, IOException {\n",
    "        preferences.put(&quot;APPLICATIONPATH&quot;, &quot;c:\\\\application&quot;);\n",
    "        preferences.flush();\n",
    "        String st = preferences.get(&quot;APPLICATIONPATH&quot;,&quot;default&quot;);\n",
    "        System.out.println(st);\n",
    "        preferences.exportSubtree(new BufferedOutputStream(\n",
    "                new FileOutputStream(PREFERENCES_XML)));\n",
    "    }\n",
    "    void readXml() throws IOException, InvalidPreferencesFormatException {\n",
    "        InputStream in = new BufferedInputStream(new FileInputStream(PREFERENCES_XML));\n",
    "        preferences.importPreferences(in);\n",
    "        String st = preferences.get(&quot;APPLICATIONPATH&quot;,&quot;22&quot;);\n",
    "        System.out.println(st);\n",
    "    }\n",
    "}\n",
    "</pre></details>"
   ]
  },
  {
   "cell_type": "markdown",
   "metadata": {},
   "source": [
    "preferences.xml\n",
    "<details><pre>\n",
    "&lt;?xml version=&quot;1.0&quot; encoding=&quot;UTF-8&quot; standalone=&quot;no&quot;?&gt;\n",
    "&lt;!DOCTYPE preferences SYSTEM &quot;http://java.sun.com/dtd/preferences.dtd&quot;&gt;\n",
    "&lt;preferences EXTERNAL_XML_VERSION=&quot;1.0&quot;&gt;\n",
    "  &lt;root type=&quot;user&quot;&gt;\n",
    "    &lt;map/&gt;\n",
    "    &lt;node name=&quot;com&quot;&gt;\n",
    "      &lt;map/&gt;\n",
    "      &lt;node name=&quot;company&quot;&gt;\n",
    "        &lt;map/&gt;\n",
    "        &lt;node name=&quot;l02&quot;&gt;\n",
    "          &lt;map&gt;\n",
    "            &lt;entry key=&quot;APPLICATIONPATH&quot; value=&quot;c:\\application&quot;/&gt;\n",
    "          &lt;/map&gt;\n",
    "        &lt;/node&gt;\n",
    "      &lt;/node&gt;\n",
    "    &lt;/node&gt;\n",
    "  &lt;/root&gt;\n",
    "&lt;/preferences&gt;\n",
    "</pre></details>"
   ]
  },
  {
   "cell_type": "markdown",
   "metadata": {},
   "source": [
    "<details><pre>\n",
    "public class Main  {\n",
    "    class MyClass{}\n",
    "    public static void main(String[] args) throws Exception {\n",
    "        Preferences pref = Preferences\n",
    "                .userNodeForPackage(com.company.l01.Main.class);\n",
    "        OutputStream out = new BufferedOutputStream(new FileOutputStream(&quot;prop1&quot;));\n",
    "        pref.put(&quot;hello&quot;, &quot;23&quot;);\n",
    "        pref.remove(&quot;hello&quot;);\n",
    "        pref.flush();\n",
    "        pref.exportSubtree(out);\n",
    "    }\n",
    "}\n",
    "</pre></details>"
   ]
  },
  {
   "cell_type": "markdown",
   "metadata": {},
   "source": [
    "<details><pre>\n",
    "&lt;?xml version=&quot;1.0&quot; encoding=&quot;UTF-8&quot; standalone=&quot;no&quot;?&gt;\n",
    "&lt;!DOCTYPE preferences SYSTEM &quot;http://java.sun.com/dtd/preferences.dtd&quot;&gt;\n",
    "&lt;preferences EXTERNAL_XML_VERSION=&quot;1.0&quot;&gt;\n",
    "  &lt;root type=&quot;user&quot;&gt;\n",
    "    &lt;map/&gt;\n",
    "    &lt;node name=&quot;com&quot;&gt;\n",
    "      &lt;map/&gt;\n",
    "      &lt;node name=&quot;company&quot;&gt;\n",
    "        &lt;map/&gt;\n",
    "        &lt;node name=&quot;l01&quot;&gt;\n",
    "          &lt;map/&gt;\n",
    "        &lt;/node&gt;\n",
    "      &lt;/node&gt;\n",
    "    &lt;/node&gt;\n",
    "  &lt;/root&gt;\n",
    "&lt;/preferences&gt;\n",
    "</pre></details>"
   ]
  },
  {
   "cell_type": "markdown",
   "metadata": {},
   "source": [
    "#### b151 ”роки Java 149: Ћогирование - loggers  \n"
   ]
  },
  {
   "cell_type": "markdown",
   "metadata": {},
   "source": [
    "<details><pre>\n",
    "package logging;\n",
    "import java.io.IOException;\n",
    "import java.util.logging.*;\n",
    "/**\n",
    " * Created by husiv on 10/4/16.\n",
    " */\n",
    "public class LogginLesson {\n",
    "    public static void main(String[] args) throws IOException {\n",
    "        //-Djava.util.logging.config.file=/home/max/IdeaProjects/JavaLessons/src/logging/log.properties\n",
    "        //LogManager.getLogManager().readConfiguration();\n",
    "        //System.out.println(System.getProperty(&quot;java.util.logging.config.file&quot;));\n",
    "        //System.out.println(Logger.getGlobal().getLevel());\n",
    "        Logger logger = Logger.getGlobal();\n",
    "        logger.setLevel(Level.INFO);\n",
    "        logger.info(&quot;info message&quot;);\n",
    "        Logger logger2 = Logger.getLogger(&quot;logging&quot;);\n",
    "        logger2.warning(&quot;warning&quot;);\n",
    "        logger2.fine(&quot;fine&quot;);\n",
    "        logger2.setLevel(Level.ALL);\n",
    "        logger2.throwing(&quot;LogginLesson&quot;, &quot;main&quot;, new Throwable());\n",
    "        logger2.log(Level.WARNING, &quot;something went wrong&quot;, new Throwable());\n",
    "        Logger currentClassLogger = Logger.getLogger(LogginLesson.class.getName());\n",
    "        currentClassLogger.setLevel(Level.FINE);\n",
    "        currentClassLogger.setUseParentHandlers(false);\n",
    "        Handler handler = new ConsoleHandler();\n",
    "        handler.setLevel(Level.INFO);\n",
    "        currentClassLogger.addHandler(handler);\n",
    "        Handler fileHandler = new FileHandler(&quot;%h/java%u.log&quot;);\n",
    "        fileHandler.setFormatter(new MyFormatter());\n",
    "        currentClassLogger.addHandler(fileHandler);\n",
    "        currentClassLogger.fine(&quot;fine&quot;);\n",
    "        currentClassLogger.info(&quot;info&quot;);\n",
    "        currentClassLogger.setFilter(new MyFilter());\n",
    "        currentClassLogger.info(&quot;info&quot;);\n",
    "        currentClassLogger.info(&quot;inblafo&quot;);\n",
    "//        Handler streamHandler = new StreamHandler();\n",
    "//        Handler socketHandler = new SocketHandler();\n",
    "    }\n",
    "    static class MyFilter implements Filter {\n",
    "        @Override\n",
    "        public boolean isLoggable(LogRecord record) {\n",
    "            return record.getMessage().contains(&quot;bla&quot;);\n",
    "        }\n",
    "    }\n",
    "    static class MyFormatter extends Formatter {\n",
    "        @Override\n",
    "        public String format(LogRecord record) {\n",
    "            return record.getMessage() + System.getProperty(&quot;line.separator&quot;);\n",
    "        }\n",
    "    }\n",
    "}\n",
    "</pre></details>"
   ]
  },
  {
   "cell_type": "markdown",
   "metadata": {},
   "source": [
    "#### b152 ”рок Java 150: Debugging tips and tricks  \n"
   ]
  },
  {
   "cell_type": "markdown",
   "metadata": {},
   "source": [
    "<details><pre>\n",
    "package debugging;\n",
    "import java.io.File;\n",
    "import java.io.FileWriter;\n",
    "import java.io.IOException;\n",
    "import java.io.PrintWriter;\n",
    "import java.util.Date;\n",
    "import java.util.Random;\n",
    "import java.util.logging.Logger;\n",
    "/**\n",
    " * Created by husiv on 10/10/16.\n",
    " */\n",
    "public class DebuggingLesson {\n",
    "    public static void main(String[] args) throws IOException {\n",
    "        //1\n",
    "        Logger.getGlobal().info(&quot;info&quot;);\n",
    "        System.out.println(&quot;print&quot;);\n",
    "        //2\n",
    "        //psvm\n",
    "        //4\n",
    "        Random random = new Random() {\n",
    "            public double nextDouble() {\n",
    "                double dbl = super.nextDouble();\n",
    "                Logger.getGlobal().info(dbl + &quot;&quot;);\n",
    "                return dbl;\n",
    "            }\n",
    "        };\n",
    "        //5\n",
    "        try{\n",
    "        } catch (RuntimeException e) {\n",
    "            e.printStackTrace();\n",
    "        }\n",
    "        secondMethod();\n",
    "        //6\n",
    "        thredMethod();\n",
    "        //7\n",
    "        //java MyProgram &gt; errors.txt\n",
    "        //8\n",
    "        Thread.setDefaultUncaughtExceptionHandler(new Thread.UncaughtExceptionHandler() {\n",
    "            @Override\n",
    "            public void uncaughtException(Thread t, Throwable e) {\n",
    "                //save to file\n",
    "            }\n",
    "        });\n",
    "        //9\n",
    "        //-verbose\n",
    "        //10\n",
    "        //-Xlint\n",
    "        new Date().getDate();\n",
    "        //http://www.sonarqube.org/\n",
    "        //11\n",
    "        //java console\n",
    "        //12\n",
    "        //jmap - dump:format=b,file=dump.txt processId\n",
    "        //jhat dumpfile.txt\n",
    "        //13\n",
    "        //-Xprof\n",
    "    }\n",
    "    private static void secondMethod() {\n",
    "        Thread.dumpStack();\n",
    "    }\n",
    "    static void thredMethod() throws IOException {\n",
    "        PrintWriter writer = new PrintWriter(new FileWriter(new File(&quot;test.txt&quot;)));\n",
    "        new Throwable(&quot;mtExeption&quot;).printStackTrace(writer);\n",
    "        writer.flush();\n",
    "        writer.close();\n",
    "    }\n",
    "}\n",
    "</pre></details>"
   ]
  },
  {
   "cell_type": "markdown",
   "metadata": {},
   "source": [
    "#### b153 ”рок Java 151: Debugging Swing  \n"
   ]
  },
  {
   "cell_type": "markdown",
   "metadata": {},
   "source": [
    "<details><pre>\n",
    "package debugging;\n",
    "import javax.swing.*;\n",
    "/**\n",
    " * Created by husiv on 10/11/16.\n",
    " */\n",
    "public class DebugSwing {\n",
    "    public static void main(String[] args) throws Exception {\n",
    "        JFrame jFrame = getFrame();\n",
    "        JPanel jPanel = new JPanel();\n",
    "        jFrame.add(jPanel);\n",
    "        JButton button = new JButton(&quot;submit&quot;);\n",
    "        //1\n",
    "        //ctrl+shift+f1\n",
    "        //2\n",
    "        button.setDebugGraphicsOptions(DebugGraphics.LOG_OPTION);\n",
    "        jPanel.add(button);\n",
    "        //3\n",
    "        RepaintManager.currentManager(jFrame.getRootPane()).setDoubleBufferingEnabled(false);\n",
    "        ((JComponent)jFrame.getContentPane()).setDebugGraphicsOptions(DebugGraphics.FLASH_OPTION);\n",
    "    }\n",
    "    static JFrame getFrame() {\n",
    "        JFrame jFrame = new JFrame() {};\n",
    "        jFrame.setVisible(true);\n",
    "        jFrame.setBounds(750, 250, 500 ,500);\n",
    "        jFrame.setDefaultCloseOperation(JFrame.EXIT_ON_CLOSE);\n",
    "        return jFrame;\n",
    "    }\n",
    "}\n",
    "</pre></details>"
   ]
  },
  {
   "cell_type": "markdown",
   "metadata": {},
   "source": [
    "#### b154 ”рок Java 152: Robot  \n"
   ]
  },
  {
   "cell_type": "markdown",
   "metadata": {},
   "source": [
    "<details><pre>\n",
    "package debugging;\n",
    "import javax.swing.*;\n",
    "import java.awt.*;\n",
    "import java.awt.event.ActionEvent;\n",
    "import java.awt.event.ActionListener;\n",
    "import java.awt.event.InputEvent;\n",
    "import java.awt.event.KeyEvent;\n",
    "/**\n",
    " * Created by husiv on 10/11/16.\n",
    " */\n",
    "public class RobotLesson {\n",
    "    static JFrame jFrame = getFrame();\n",
    "    public static void main(String[] args) throws AWTException {\n",
    "        JPanel jPanel = new JPanel();\n",
    "        jFrame.add(jPanel);\n",
    "        JButton jButton = new JButton(&quot;add&quot;);\n",
    "        jPanel.add(jButton);\n",
    "        jButton.addActionListener(new ActionListener() {\n",
    "            @Override\n",
    "            public void actionPerformed(ActionEvent e) {\n",
    "                jFrame.setTitle(jFrame.getTitle() + &quot;1&quot;);\n",
    "            }\n",
    "        });\n",
    "        JButton jButton2 = new JButton(&quot;click add&quot;);\n",
    "        jPanel.add(jButton2);\n",
    "        jButton2.addActionListener(new ActionListener() {\n",
    "            @Override\n",
    "            public void actionPerformed(ActionEvent e) {\n",
    "                GraphicsEnvironment graphicsEnvironment = GraphicsEnvironment.getLocalGraphicsEnvironment();\n",
    "                GraphicsDevice device = graphicsEnvironment.getDefaultScreenDevice();\n",
    "                Robot robot = null;\n",
    "                try {\n",
    "                    robot = new Robot(device);\n",
    "                } catch (AWTException e1) {\n",
    "                    e1.printStackTrace();\n",
    "                }\n",
    "                robot.delay(1000);\n",
    "                robot.mouseMove(750 + jButton.getX() + 20, 250 + jButton.getY() + 30);\n",
    "                robot.mousePress(InputEvent.BUTTON1_MASK);\n",
    "                robot.mouseRelease(InputEvent.BUTTON1_MASK);\n",
    "                robot.keyPress(KeyEvent.VK_TAB);\n",
    "                robot.keyRelease(KeyEvent.VK_TAB);\n",
    "//                Rectangle rectangle = new Rectangle(0,0, 1000, 1000);\n",
    "//                BufferedImage image = robot.createScreenCapture(rectangle);\n",
    "            }\n",
    "        });\n",
    "    }\n",
    "    private static JFrame getFrame() {\n",
    "        JFrame jFrame = new JFrame();\n",
    "        jFrame.setBounds(750, 250, 500, 500);\n",
    "        jFrame.setDefaultCloseOperation(JFrame.EXIT_ON_CLOSE);\n",
    "        jFrame.setVisible(true);\n",
    "        return jFrame;\n",
    "    }\n",
    "}\n",
    "</pre></details>"
   ]
  },
  {
   "cell_type": "markdown",
   "metadata": {},
   "source": [
    "#### b155 ”рок Java 153:  ак ¤ устроилс¤ на работу в —Ўј  \n"
   ]
  },
  {
   "cell_type": "markdown",
   "metadata": {},
   "source": []
  },
  {
   "cell_type": "markdown",
   "metadata": {},
   "source": [
    "#### b156 ”рок Java 154: Javadoc  \n",
    "```\n",
    "/**\n",
    "*\n",
    "*/\n",
    "```"
   ]
  },
  {
   "cell_type": "markdown",
   "metadata": {},
   "source": [
    "##### Intellij IDEA\n",
    "Tools Generate JavaDoc...\n",
    "Output directory: "
   ]
  },
  {
   "cell_type": "markdown",
   "metadata": {},
   "source": [
    "```\n",
    "D:\\programs\\android\\E02swing\\E100\\src>javadoc -d javadoc com.company.le01\n",
    "```"
   ]
  },
  {
   "cell_type": "markdown",
   "metadata": {},
   "source": [
    "@link OtherClass#otherMethod()  \n",
    "@see OtherClass#otherMethod()  "
   ]
  },
  {
   "cell_type": "markdown",
   "metadata": {},
   "source": [
    "#### b157 ”рок Java 155: Overloading подробнее  \n"
   ]
  },
  {
   "cell_type": "markdown",
   "metadata": {},
   "source": [
    "(int,Object)(Parent,Child)(Object,Object)"
   ]
  },
  {
   "cell_type": "markdown",
   "metadata": {},
   "source": [
    "<details><pre>\n",
    "package advanced;\n",
    "public class OverridingAdvancedLesson {\n",
    "    void method(Parent p) {\n",
    "        System.out.println(&quot;parent&quot;);\n",
    "    }\n",
    "    void method(Child c) {\n",
    "        System.out.println(&quot;child&quot;);\n",
    "    }\n",
    "    public static void main(String[] args) {\n",
    "        OverridingAdvancedLesson overridingAdvancedLesson = new OverridingAdvancedLesson();\n",
    "        overridingAdvancedLesson.method(null);\n",
    "        overridingAdvancedLesson.equals(null);\n",
    "    }\n",
    "}\n",
    "class Parent {\n",
    "}\n",
    "class Child extends Parent {\n",
    "}\n",
    "</pre></details>"
   ]
  },
  {
   "cell_type": "markdown",
   "metadata": {},
   "source": [
    "#### b158 ”рок Java 156: переопределение equals  \n"
   ]
  },
  {
   "cell_type": "markdown",
   "metadata": {},
   "source": [
    "<details><pre>\n",
    "package advanced;\n",
    "/**\n",
    " * Created by max on 12/22/16.\n",
    " */\n",
    "public class EqualsLesson {\n",
    "    public static void main(String[] args) {\n",
    "        Book book = new ChildBook(&quot;title&quot;, &quot;bla&quot;);\n",
    "        Book book2 = new Book(&quot;title&quot;);\n",
    "        Book book3 = new ChildBook(&quot;title&quot;, &quot;author&quot;);\n",
    "        //reflexive\n",
    "        System.out.println(&quot;reflexive&quot;);\n",
    "        System.out.println(book.equals(book));\n",
    "        System.out.println(&quot;&quot;);\n",
    "        //symmetric\n",
    "        System.out.println(&quot;symmetric&quot;);\n",
    "        System.out.println(book.equals(book2));\n",
    "        System.out.println(book2.equals(book));\n",
    "        System.out.println(&quot;&quot;);\n",
    "        //transitive\n",
    "        System.out.println(&quot;transitive&quot;);\n",
    "        System.out.println(book.equals(book2));\n",
    "        System.out.println(book2.equals(book3));\n",
    "        System.out.println(book3.equals(book));\n",
    "        System.out.println(&quot;&quot;);\n",
    "        //consistent\n",
    "        System.out.println(&quot;consistent&quot;);\n",
    "        System.out.println(book.equals(book2));\n",
    "        System.out.println(book.equals(book2));\n",
    "        System.out.println(&quot;&quot;);\n",
    "        //non-null\n",
    "        System.out.println(&quot;non-null&quot;);\n",
    "        System.out.println(book.equals(null));\n",
    "    }\n",
    "}\n",
    "class Book {\n",
    "    String title;\n",
    "    public Book(String title) {\n",
    "        this.title = title;\n",
    "    }\n",
    "    //consistent\n",
    "//    @Override\n",
    "//    public boolean equals(Object obj) {\n",
    "//        return Math.random() &lt; 0.5;\n",
    "//    }\n",
    "    //transitive\n",
    "    @Override\n",
    "    public boolean equals(Object obj) {\n",
    "        return obj != null && title.equals(((Book)obj).title);\n",
    "    }\n",
    "    //reflexive & symmetric\n",
    "//    @Override\n",
    "//    public boolean equals(Object obj) {\n",
    "//        return title.equals(obj);\n",
    "//    }\n",
    "//    @Override\n",
    "//    public boolean equals(Object obj) {\n",
    "//        return obj != null && title.equals(((Book)obj).title);\n",
    "//    }\n",
    "    //    @Override\n",
    "//    public boolean equals(Object o) {\n",
    "//        if (this == o) return true;\n",
    "//        if (o == null || getClass() != o.getClass()) return false;\n",
    "//\n",
    "//        Book book = (Book) o;\n",
    "//\n",
    "//        return this.title.equals(book.title);\n",
    "//    }\n",
    "}\n",
    "class ChildBook extends Book {\n",
    "    String author;\n",
    "    public ChildBook(String title, String author) {\n",
    "        super(title);\n",
    "        this.author = author;\n",
    "    }\n",
    "    @Override\n",
    "    public boolean equals(Object obj) {\n",
    "        if(obj instanceof ChildBook) {\n",
    "            return obj != null && title.equals(((ChildBook) obj).title) && author.equals(((ChildBook) obj).author);\n",
    "        } else {\n",
    "            return super.equals(obj);\n",
    "        }\n",
    "    }\n",
    "}\n",
    "</pre></details>"
   ]
  },
  {
   "cell_type": "markdown",
   "metadata": {},
   "source": [
    "#### b159 ”рок Java 157: instanceof null  \n"
   ]
  },
  {
   "cell_type": "markdown",
   "metadata": {},
   "source": [
    "boolean b = instanceof(null);\n",
    "b -> false"
   ]
  },
  {
   "cell_type": "markdown",
   "metadata": {},
   "source": [
    "```\n",
    "if(obj instanceof ChildBook) {\n",
    "    return  title.equals(((ChildBook) obj).title) && author.equals(((ChildBook) obj).author);\n",
    "} else {\n",
    "    return super.equals(obj);\n",
    "}\n",
    "```"
   ]
  },
  {
   "cell_type": "markdown",
   "metadata": {},
   "source": [
    "```\n",
    "if(obj instanceof ChildBook) {\n",
    "    return obj != null && title.equals(((ChildBook) obj).title) && author.equals(((ChildBook) obj).author);\n",
    "} else {\n",
    "    return super.equals(obj);\n",
    "}\n",
    "```"
   ]
  },
  {
   "cell_type": "markdown",
   "metadata": {},
   "source": [
    "[]()  \n",
    "[]()  \n",
    "[]()  \n",
    "[]()  \n",
    "[The Java™ Tutorials](https://docs.oracle.com/javase/tutorial/2d/images/drawimage.html)  \n",
    "[Уроки по Java](https://www.youtube.com/watch?v=XJRXO_c_h2Y&list=PL786bPIlqEjRDXpAKYbzpdTaOYsWyjtCX&index=140) "
   ]
  },
  {
   "cell_type": "markdown",
   "metadata": {},
   "source": [
    "[]()  \n",
    "[]()  \n",
    "[]()  \n",
    "[]()  \n",
    "[]()  \n",
    "```\n",
    "\n",
    "```"
   ]
  }
 ],
 "metadata": {
  "kernelspec": {
   "display_name": "Python 3",
   "language": "python",
   "name": "python3"
  },
  "language_info": {
   "codemirror_mode": {
    "name": "ipython",
    "version": 3
   },
   "file_extension": ".py",
   "mimetype": "text/x-python",
   "name": "python",
   "nbconvert_exporter": "python",
   "pygments_lexer": "ipython3",
   "version": "3.7.4"
  }
 },
 "nbformat": 4,
 "nbformat_minor": 2
}
