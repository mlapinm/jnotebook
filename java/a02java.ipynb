{
 "cells": [
  {
   "cell_type": "markdown",
   "metadata": {},
   "source": [
    "[a01 Java для начинающих: Урок 1. Введение в платформу Java](#a01-Java-для-начинающих:-Урок-1.-Введение-в-платформу-Java)  \n",
    "[a02 Java для начинающих: Урок 2. Установка и настройка JDK](#a02-Java-для-начинающих:-Урок-2.-Установка-и-настройка-JDK)  \n",
    "[a03 Java для начинающих: Урок 3. Установка и настройка среды разработки IDEA](#a03-Java-для-начинающих:-Урок-3.-Установка-и-настройка-среды-разработки-IDEA)  \n",
    "[a04 Java для начинающих: Урок 4. Простейшая программа на Java](#a04-Java-для-начинающих:-Урок-4.-Простейшая-программа-на-Java)  \n",
    "[a05 Java для начинающих: Урок 5. Переменные и примитивные типы данных](#a05-Java-для-начинающих:-Урок-5.-Переменные-и-примитивные-типы-данных)  \n",
    "[a06 Java для начинающих: Урок 6. Ссылочные типы данных](#a06-Java-для-начинающих:-Урок-6.-Ссылочные-типы-данных)  \n",
    "[a07 Java для начинающих: Урок 7. Комментарии](#a07-Java-для-начинающих:-Урок-7.-Комментарии)  \n",
    "[a08 Java для начинающих: Урок 8. Константы](#a08-Java-для-начинающих:-Урок-8.-Константы)  \n",
    "[a09 Java для начинающих: Урок 9. Приведение типов](#a09-Java-для-начинающих:-Урок-9.-Приведение-типов)  \n",
    "[a10 Java для начинающих: Урок 10. Арифметические и Математические операции](#a10-Java-для-начинающих:-Урок-10.-Арифметические-и-Математические-операции)  \n",
    "[a11 Java для начинающих: Урок 11. Ветвление и логический тип данных](#a11-Java-для-начинающих:-Урок-11.-Ветвление-и-логический-тип-данных)  \n",
    "[a12 Java для начинающих: Урок 12. Логическое И, ИЛИ, НЕТ](#a12-Java-для-начинающих:-Урок-12.-Логическое-И,-ИЛИ,-НЕТ)  \n",
    "[a13 Java для начинающих: Урок 13. Циклы](#a13-Java-для-начинающих:-Урок-13.-Циклы)  \n",
    "[a14 Java для начинающих: Урок 14. Методы или Функции](#a14-Java-для-начинающих:-Урок-14.-Методы-или-Функции)  \n",
    "[a15 Java для начинающих: Урок 15. Рекурсия](#a15-Java-для-начинающих:-Урок-15.-Рекурсия)  \n",
    "[a16 Java для начинающих: Урок 16. Массивы](#a16-Java-для-начинающих:-Урок-16.-Массивы)  \n",
    "[a17 Java для начинающих: Урок 17. Правила именования](#a17-Java-для-начинающих:-Урок-17.-Правила-именования)  \n",
    "[a18 Java для начинающих: Урок 18. Введение в ООП](#a18-Java-для-начинающих:-Урок-18.-Введение-в-ООП)  \n",
    "[a19 Java для начинающих: Урок 19. Создание объектов](#a19-Java-для-начинающих:-Урок-19.-Создание-объектов)  \n",
    "[a20 Java для начинающих: Урок 20. Инкапсуляция](#a20-Java-для-начинающих:-Урок-20.-Инкапсуляция)  \n",
    "[a21 Java для начинающих: Урок 21. Конструкторы](#a21-Java-для-начинающих:-Урок-21.-Конструкторы)  \n",
    "[a22 Java для начинающих: Урок 22. Наследование](#a22-Java-для-начинающих:-Урок-22.-Наследование)  \n",
    "[a23 Java для начинающих: Урок 23. Полиморфизм](#a23-Java-для-начинающих:-Урок-23.-Полиморфизм)  \n",
    "[a24 Java для начинающих: Урок 24. Абстрактные классы](#a24-Java-для-начинающих:-Урок-24.-Абстрактные-классы)  \n",
    "[a25 Java для начинающих: Урок 25. Интерфейсы](#a25-Java-для-начинающих:-Урок-25.-Интерфейсы)  \n",
    "[a26 Java для начинающих: Урок 26. Модификатор static](#a26-Java-для-начинающих:-Урок-26.-Модификатор-static)  \n",
    "[a27 Java для начинающих: Урок 27. Перегрузка методов](#a27-Java-для-начинающих:-Урок-27.-Перегрузка-методов)  \n",
    "[a28 Java SE: Урок 28. Исключения](#a28-Java-SE:-Урок-28.-Исключения)  \n",
    "[a29 Java для начинающих: Урок 29. Принудительный вызов исключения](#a29-Java-для-начинающих:-Урок-29.-Принудительный-вызов-исключения)  \n",
    "[a30 Java для начинающих: Урок 30. Введение в коллекции](#a30-Java-для-начинающих:-Урок-30.-Введение-в-коллекции)  \n",
    "[a31 Java для начинающих: Урок 31. Коллекция List](#a31-Java-для-начинающих:-Урок-31.-Коллекция-List)  \n",
    "[a32 Java для начинающих: Урок 32. Коллекция Set](#a32-Java-для-начинающих:-Урок-32.-Коллекция-Set)  \n",
    "[a33 Java для начинающих: Урок 33. Коллекция Map](#a33-Java-для-начинающих:-Урок-33.-Коллекция-Map)  \n",
    " \n"
   ]
  },
  {
   "cell_type": "markdown",
   "metadata": {},
   "source": [
    "[Java для начинающих / Java с нуля Devcolibri 1 видео из 33](https://www.youtube.com/watch?v=9Yz3unV4NDw&list=PLIU76b8Cjem48KXIy83YIm-QM6SwvzjQd)  \n",
    "[]()  \n"
   ]
  },
  {
   "cell_type": "markdown",
   "metadata": {},
   "source": [
    "#### a01 Java для начинающих: Урок 1. Введение в платформу Java  \n",
    "2013,eclips,"
   ]
  },
  {
   "cell_type": "markdown",
   "metadata": {},
   "source": [
    "#### a02 Java для начинающих: Урок 2. Установка и настройка JDK  \n",
    "oracle.com jdk-7u1-windows-x64.exe  \n",
    "javac - compiler  \n"
   ]
  },
  {
   "cell_type": "markdown",
   "metadata": {},
   "source": [
    "jdk - java develop kits"
   ]
  },
  {
   "cell_type": "markdown",
   "metadata": {},
   "source": [
    "```\n",
    "D:\\mailCloud\\prjother\\089hosts\\jnotebook\\and>java -version\n",
    "java version \"1.8.0_201\"\n",
    "Java(TM) SE Runtime Environment (build 1.8.0_201-b09)\n",
    "Java HotSpot(TM) 64-Bit Server VM (build 25.201-b09, mixed mode)\n",
    "```"
   ]
  },
  {
   "cell_type": "markdown",
   "metadata": {},
   "source": [
    "```\n",
    "D:\\programs\\android\\A02java\\src\\com\\company\\lesson6>cd ..\n",
    "D:\\programs\\android\\A02java\\src\\com\\company>cd ..\n",
    "D:\\programs\\android\\A02java\\src\\com>cd ..\n",
    "D:\\programs\\android\\A02java\\src>java com.company.lesson6.Main\n",
    "1\n",
    "0\n",
    "3\n",
    "4\n",
    "```"
   ]
  },
  {
   "cell_type": "markdown",
   "metadata": {},
   "source": [
    "##### 2-й способ\n",
    "`Intellij ADEA` `File` `Project Structure` `Artifacts` `+`   \n",
    "cd D:\\programs\\android\\A02java\\out\\artifacts\\  \n",
    "java -jar Main.jar  "
   ]
  },
  {
   "cell_type": "markdown",
   "metadata": {},
   "source": [
    "##### java_jar.bat\n",
    "java -jar %1"
   ]
  },
  {
   "cell_type": "markdown",
   "metadata": {},
   "source": [
    "`Main.jar` `rb` `свойства` `открывать с помощью` `java_jar.bat`"
   ]
  },
  {
   "cell_type": "markdown",
   "metadata": {},
   "source": [
    "#### a03 Java для начинающих: Урок 3. Установка и настройка среды разработки IDEA  "
   ]
  },
  {
   "cell_type": "markdown",
   "metadata": {},
   "source": [
    "Умеет распаковать проект из jar файла  "
   ]
  },
  {
   "cell_type": "markdown",
   "metadata": {},
   "source": [
    "#### a04 Java для начинающих: Урок 4. Простейшая программа на Java  "
   ]
  },
  {
   "cell_type": "markdown",
   "metadata": {},
   "source": [
    "System.out.println(\"Hello.\");"
   ]
  },
  {
   "cell_type": "markdown",
   "metadata": {},
   "source": []
  },
  {
   "cell_type": "markdown",
   "metadata": {},
   "source": []
  },
  {
   "cell_type": "markdown",
   "metadata": {},
   "source": [
    "#### a05 Java для начинающих: Урок 5. Переменные и примитивные типы данных  "
   ]
  },
  {
   "cell_type": "markdown",
   "metadata": {},
   "source": [
    "```\n",
    "        byte b = 8;\n",
    "        String st = \"byte= \"+b+\", \";\n",
    "        short sh = 16;\n",
    "        st+= \"short= \" + sh + \", \";\n",
    "        float fl = 16;\n",
    "        st+= \"float= \" + fl + \", \";\n",
    "        int in = 16;\n",
    "        st+= \"int= \" + in + \", \";\n",
    "        long lo = 16;\n",
    "        st+= \"long= \" + lo + \", \";\n",
    "        boolean tr = true;\n",
    "        st+= \"true= \" + tr + \", \";\n",
    "        boolean fa = false;\n",
    "        st+= \"false= \" + fa + \", \";\n",
    "        double db = 16;\n",
    "        st+= \"double= \" + db + \", \";\n",
    "```\n",
    "byte= 8, short= 16, float= 16.0, int= 16, long= 16, true= true, false= false, double= 16.0, \n"
   ]
  },
  {
   "cell_type": "code",
   "execution_count": null,
   "metadata": {},
   "outputs": [],
   "source": [
    "package com.company.l06;\n",
    "\n",
    "public class MinMax {\n",
    "    String st_min;\n",
    "    String st_max;\n",
    "\n",
    "    public void test(byte b) {\n",
    "        b = 0;\n",
    "        byte bp = 0;\n",
    "        while (true) {\n",
    "            if (b < bp) {\n",
    "                break;\n",
    "            }\n",
    "            bp = b;\n",
    "            b += 1;\n",
    "        }\n",
    "        st_min = \"\" + b;\n",
    "        st_max = \"\" + bp;\n",
    "    }\n",
    "\n",
    "    public void test(short b) {\n",
    "        b = 0;\n",
    "        short bp = 0;\n",
    "        while (true) {\n",
    "            if (b < bp) {\n",
    "                break;\n",
    "            }\n",
    "            bp = b;\n",
    "            b += 1;\n",
    "        }\n",
    "        st_min = \"\" + b;\n",
    "        st_max = \"\" + bp;\n",
    "    }\n",
    "\n",
    "    public void test(int b) {\n",
    "        b = 0;\n",
    "        int bp = 0;\n",
    "        while (true) {\n",
    "            if (b < bp) {\n",
    "                break;\n",
    "            }\n",
    "            bp = b;\n",
    "            b += 100;\n",
    "        }\n",
    "        st_min = \"\" + b;\n",
    "        st_max = \"\" + bp;\n",
    "    }\n",
    "\n",
    "    public void test(long b) {\n",
    "        b = 0;\n",
    "        long bp = b;\n",
    "        while (true) {\n",
    "            if (b < bp) {\n",
    "                break;\n",
    "            }\n",
    "            bp = b;\n",
    "            b += 1000000000000L;\n",
    "        }\n",
    "        b = bp;\n",
    "        while (true) {\n",
    "            if (b < bp) {\n",
    "                break;\n",
    "            }\n",
    "            bp = b;\n",
    "            b += 100000;\n",
    "        }\n",
    "        b = bp;\n",
    "        while (true) {\n",
    "            if (b < bp) {\n",
    "                break;\n",
    "            }\n",
    "            bp = b;\n",
    "            b += 1;\n",
    "        }\n",
    "        st_min = \"\" + b;\n",
    "        st_max = \"\" + bp;\n",
    "    }\n",
    "\n",
    "    public void test(float b) {\n",
    "        b = -1;\n",
    "        float bp = -1;\n",
    "        long k = 0;\n",
    "        while (true) {\n",
    "            if (1 / b == 0) {\n",
    "                break;\n",
    "            }\n",
    "            bp = b;\n",
    "            b *= 10.0;\n",
    "        }\n",
    "        st_min = \"\" + bp;\n",
    "        b = 1;\n",
    "        bp = 1;\n",
    "        while (true) {\n",
    "            if (1 / b == 0) {\n",
    "                break;\n",
    "            }\n",
    "            bp = b;\n",
    "            b *= 10.0;\n",
    "        }\n",
    "        st_max = \"\" + bp;\n",
    "    }\n",
    "\n",
    "    public void test(double b) {\n",
    "        b = -1;\n",
    "        double bp = -1;\n",
    "        long k = 0;\n",
    "        while (true) {\n",
    "            if (1 / b == 0) {\n",
    "                break;\n",
    "            }\n",
    "            bp = b;\n",
    "            b *= 10.0;\n",
    "        }\n",
    "        st_min = \"\" + bp;\n",
    "        b = 1;\n",
    "        bp = 1;\n",
    "        while (true) {\n",
    "            if (1 / b == 0) {\n",
    "                break;\n",
    "            }\n",
    "            bp = b;\n",
    "            b *= 10.0;\n",
    "        }\n",
    "        st_max = \"\" + bp;\n",
    "    }\n",
    "\n",
    "    public String getString() {\n",
    "        return \"[\" + st_min + \",\" + st_max + \"]\";\n",
    "    }\n",
    "}"
   ]
  },
  {
   "cell_type": "markdown",
   "metadata": {},
   "source": [
    "byte[-128,127], short[-32768,32767], int[-2147483648,2147483647], long[-9223372036854775808,9223372036854775807], float[-1.0000001E38,1.0000001E38], double[-9.999999999999998E307,9.999999999999998E307], "
   ]
  },
  {
   "cell_type": "markdown",
   "metadata": {},
   "source": [
    "#### a06 Java для начинающих: Урок 6. Ссылочные типы данных  "
   ]
  },
  {
   "cell_type": "markdown",
   "metadata": {},
   "source": [
    "```\n",
    "String st = \"\";\n",
    "st = \"hi\";\n",
    "char ch = 'f';\n",
    "System.out.println(st+\" \"+ch);\n",
    "System.out.println(st.charAt(0));\n",
    "```"
   ]
  },
  {
   "cell_type": "markdown",
   "metadata": {},
   "source": [
    "#### a07 Java для начинающих: Урок 7. Комментарии  "
   ]
  },
  {
   "cell_type": "markdown",
   "metadata": {},
   "source": [
    "AVS Audio Editor 7.0  \n",
    "//\n",
    "/**/"
   ]
  },
  {
   "cell_type": "markdown",
   "metadata": {},
   "source": [
    "#### a08 Java для начинающих: Урок 8. Константы  "
   ]
  },
  {
   "cell_type": "markdown",
   "metadata": {},
   "source": [
    "final int SIZE_MASSIVE = 55;"
   ]
  },
  {
   "cell_type": "markdown",
   "metadata": {},
   "source": [
    "#### a09 Java для начинающих: Урок 9. Приведение типов  "
   ]
  },
  {
   "cell_type": "markdown",
   "metadata": {},
   "source": [
    "```\n",
    "char c = 'a';\n",
    "int a = (int)c;\n",
    "System.out.println(\"\"+a); //97\n",
    "c=100;\n",
    "System.out.println(c);    //d\n",
    "```"
   ]
  },
  {
   "cell_type": "markdown",
   "metadata": {},
   "source": [
    "```\n",
    "char c_beg = 'a';\n",
    "char c_end = 'z';\n",
    "String st=\"\";\n",
    "int i=(int)c_beg;\n",
    "int i_max=(int)c_end + 1;\n",
    "int k = 0;\n",
    "while (true){\n",
    "    if(i>=i_max){\n",
    "        break;\n",
    "    }\n",
    "    st+=(char)i;\n",
    "    i+=1;\n",
    "    k+=1;\n",
    "}\n",
    "System.out.println(\"n=\"+k+\", \"+st);\n",
    "\n",
    "c_beg = 'а';\n",
    "c_end = 'я';\n",
    "st=\"\";\n",
    "i=(int)c_beg;\n",
    "i_max=(int)c_end + 1;\n",
    "k = 0;\n",
    "while (true){\n",
    "    if(i>=i_max){\n",
    "        break;\n",
    "    }\n",
    "    st+=(char)i;\n",
    "    i+=1;\n",
    "    k+=1;\n",
    "}\n",
    "System.out.println(\"n=\"+k+\", \"+st);\n",
    "```\n",
    "n=26, abcdefghijklmnopqrstuvwxyz  \n",
    "n=32, абвгдежзийклмнопрстуфхцчшщъыьэюя"
   ]
  },
  {
   "cell_type": "code",
   "execution_count": null,
   "metadata": {},
   "outputs": [],
   "source": [
    "```\n",
    "Integer in = 2;\n",
    "Float fl = 2.5f;\n",
    "Short sh = 3;\n",
    "Double db = 2.;\n",
    "String st = \"27\";\n",
    "Number n = fl;\n",
    "Integer in2 = n.intValue();\n",
    "System.out.println(n+\" \"+in2+\" \"+ in2.equals(2));\n",
    "st=\"22\";\n",
    "n = Integer.valueOf(st);\n",
    "```"
   ]
  },
  {
   "cell_type": "markdown",
   "metadata": {},
   "source": []
  },
  {
   "cell_type": "markdown",
   "metadata": {},
   "source": [
    "#### a10 Java для начинающих: Урок 10. Арифметические и Математические операции  "
   ]
  },
  {
   "cell_type": "markdown",
   "metadata": {},
   "source": [
    "```\n",
    "String st=\"\";\n",
    "int a = -4;\n",
    "double b = 3.4;\n",
    "st += a+b;\n",
    "st += \" \";\n",
    "st += Math.abs(a);\n",
    "st += \" \";\n",
    "st += Math.sin(b);\n",
    "st += \" \";\n",
    "st += Math.PI;\n",
    "System.out.println(st);\n",
    "String st2 = String.format(\"%d, %H\",114,15);\n",
    "System.out.println(st2);\n",
    "```"
   ]
  },
  {
   "cell_type": "markdown",
   "metadata": {},
   "source": [
    "#### a11 Java для начинающих: Урок 11. Ветвление и логический тип данных  "
   ]
  },
  {
   "cell_type": "markdown",
   "metadata": {},
   "source": []
  },
  {
   "cell_type": "markdown",
   "metadata": {},
   "source": [
    "#### a12 Java для начинающих: Урок 12. Логическое И, ИЛИ, НЕТ  "
   ]
  },
  {
   "cell_type": "markdown",
   "metadata": {},
   "source": []
  },
  {
   "cell_type": "markdown",
   "metadata": {},
   "source": [
    "#### a13 Java для начинающих: Урок 13. Циклы  "
   ]
  },
  {
   "cell_type": "markdown",
   "metadata": {},
   "source": []
  },
  {
   "cell_type": "markdown",
   "metadata": {},
   "source": [
    "#### a14 Java для начинающих: Урок 14. Методы или Функции  "
   ]
  },
  {
   "cell_type": "markdown",
   "metadata": {},
   "source": [
    "#### a15 Java для начинающих: Урок 15. Рекурсия  "
   ]
  },
  {
   "cell_type": "markdown",
   "metadata": {},
   "source": [
    "```\n",
    "public static int fib(int a){\n",
    "    if(a<2){\n",
    "        return a;\n",
    "    }else{\n",
    "        return fib(a-1)+fib(a-2);\n",
    "    }\n",
    "}\n",
    "```\n",
    "//0 1 1 2 3 5 8"
   ]
  },
  {
   "cell_type": "markdown",
   "metadata": {},
   "source": [
    "#### a16 Java для начинающих: Урок 16. Массивы  "
   ]
  },
  {
   "cell_type": "markdown",
   "metadata": {},
   "source": [
    "```\n",
    "Integer[] nums = new Integer[10];\n",
    "\n",
    "for (int i=0;i<nums.length;i++){\n",
    "    nums[i]=i;\n",
    "}\n",
    " List<Integer> lst = Arrays.asList(nums);\n",
    " Collections.shuffle(lst);\n",
    " nums = lst.toArray(nums);\n",
    "\n",
    " String st = \"\";\n",
    " for (Integer i:nums) {\n",
    "     st+=i+\", \";\n",
    " }\n",
    " st = st.substring(0,st.length()-2);\n",
    " System.out.println(st); \n",
    " //9, 8, 1, 7, 3, 6, 5, 0, 4, 2\n",
    "```"
   ]
  },
  {
   "cell_type": "markdown",
   "metadata": {},
   "source": [
    "#### a17 Java для начинающих: Урок 17. Правила именования  "
   ]
  },
  {
   "cell_type": "markdown",
   "metadata": {},
   "source": [
    "```\n",
    "public class ExampleCode{\n",
    "    int ageDog;\n",
    "    void getEmail(){}\n",
    "    void sendEmailFromSecondEmail(){}\n",
    "}\n",
    "```"
   ]
  },
  {
   "cell_type": "markdown",
   "metadata": {},
   "source": [
    "#### a18 Java для начинающих: Урок 18. Введение в ООП  "
   ]
  },
  {
   "cell_type": "markdown",
   "metadata": {},
   "source": [
    "#### a19 Java для начинающих: Урок 19. Создание объектов  "
   ]
  },
  {
   "cell_type": "markdown",
   "metadata": {},
   "source": []
  },
  {
   "cell_type": "markdown",
   "metadata": {},
   "source": [
    "#### a20 Java для начинающих: Урок 20. Инкапсуляция  "
   ]
  },
  {
   "cell_type": "markdown",
   "metadata": {},
   "source": []
  },
  {
   "cell_type": "markdown",
   "metadata": {},
   "source": [
    "#### a21 Java для начинающих: Урок 21. Конструкторы  "
   ]
  },
  {
   "cell_type": "markdown",
   "metadata": {},
   "source": []
  },
  {
   "cell_type": "markdown",
   "metadata": {},
   "source": [
    "#### a22 Java для начинающих: Урок 22. Наследование  "
   ]
  },
  {
   "cell_type": "markdown",
   "metadata": {},
   "source": [
    "Все классы наследники Object."
   ]
  },
  {
   "cell_type": "markdown",
   "metadata": {},
   "source": [
    "#### a23 Java для начинающих: Урок 23. Полиморфизм  "
   ]
  },
  {
   "cell_type": "markdown",
   "metadata": {},
   "source": [
    "В наследнике доопределяется метод."
   ]
  },
  {
   "cell_type": "markdown",
   "metadata": {},
   "source": [
    "#### a24 Java для начинающих: Урок 24. Абстрактные классы  "
   ]
  },
  {
   "cell_type": "markdown",
   "metadata": {},
   "source": [
    "abstract class"
   ]
  },
  {
   "cell_type": "markdown",
   "metadata": {},
   "source": [
    "#### a25 Java для начинающих: Урок 25. Интерфейсы  "
   ]
  },
  {
   "cell_type": "markdown",
   "metadata": {},
   "source": [
    "```\n",
    "package com.company.l04;\n",
    "\n",
    "public interface Transport {\n",
    "    public void go();\n",
    "    public int getSpeed();\n",
    "}\n",
    "package com.company.l04;\n",
    "\n",
    "public interface Driver {\n",
    "    public void setCategory(String c);\n",
    "}\n",
    "package com.company.l04;\n",
    "\n",
    "public class DriverBus implements Transport, Driver {\n",
    "\n",
    "    private String people;\n",
    "    private String category;\n",
    "    private int speed = 60;\n",
    "\n",
    "    @Override\n",
    "    public void setCategory(String c) {\n",
    "        this.category = c;\n",
    "        people = \"John\";\n",
    "    }\n",
    "\n",
    "    @Override\n",
    "    public void go() {\n",
    "        if(people!=null){\n",
    "            System.out.println(\"Мы едем\");\n",
    "        }else {\n",
    "            System.out.println(\"Мы не едем\");\n",
    "        }\n",
    "    }\n",
    "\n",
    "    @Override\n",
    "    public int getSpeed() {\n",
    "        return this.speed;\n",
    "    }\n",
    "}\n",
    "package com.company.l04;\n",
    "\n",
    "public class Main {\n",
    "    public static void main(String[] args) {\n",
    "        DriverBus t = new DriverBus();\n",
    "        System.out.println(t.getSpeed());\n",
    "        t.setCategory(\"B\");\n",
    "        t.go();\n",
    "    }\n",
    "}\n",
    "\n",
    "```"
   ]
  },
  {
   "cell_type": "markdown",
   "metadata": {},
   "source": [
    "#### a26 Java для начинающих: Урок 26. Модификатор static  "
   ]
  },
  {
   "cell_type": "markdown",
   "metadata": {},
   "source": [
    "package com.company.l04;\n",
    "\n",
    "public class ExampleStatic {\n",
    "    static int a=0;\n",
    "    public int increase(){\n",
    "        this.a+=1;\n",
    "        return this.a;\n",
    "    }\n",
    "}\n",
    "package com.company.l04;\n",
    "\n",
    "public class Main {\n",
    "\n",
    "    public static void main(String[] args) {\n",
    "        ExampleStatic exampleStatic=new ExampleStatic();\n",
    "        ExampleStatic exampleStatic2=new ExampleStatic();\n",
    "        System.out.println(exampleStatic.increase());\n",
    "        System.out.println(exampleStatic2.increase());\n",
    "        System.out.println(ExampleStatic.a);\n",
    "   }\n",
    "}\n"
   ]
  },
  {
   "cell_type": "markdown",
   "metadata": {},
   "source": [
    "#### a27 Java для начинающих: Урок 27. Перегрузка методов  "
   ]
  },
  {
   "cell_type": "markdown",
   "metadata": {},
   "source": [
    "[a05 Java для начинающих: Урок 5. Переменные и примитивные типы данных](#a05-Java-для-начинающих:-Урок-5.-Переменные-и-примитивные-типы-данных)  "
   ]
  },
  {
   "cell_type": "markdown",
   "metadata": {},
   "source": [
    "#### a28 Java SE: Урок 28. Исключения  "
   ]
  },
  {
   "cell_type": "code",
   "execution_count": null,
   "metadata": {},
   "outputs": [],
   "source": [
    "String[] lst = new String[2];\n",
    "System.out.println(lst[0]);\n",
    "try {\n",
    "    System.out.println(lst[2]);\n",
    "}catch (Exception e){\n",
    "    System.out.println(e);\n",
    "}\n",
    "//        null\n",
    "//        java.lang.ArrayIndexOutOfBoundsException: 2"
   ]
  },
  {
   "cell_type": "markdown",
   "metadata": {},
   "source": [
    "#### a29 Java для начинающих: Урок 29. Принудительный вызов исключения  "
   ]
  },
  {
   "cell_type": "markdown",
   "metadata": {},
   "source": [
    "```\n",
    "//        throw new NullPointerException();\n",
    "//        throw new IllegalAccessException();\n",
    "        throw new Exception();\n",
    "```"
   ]
  },
  {
   "cell_type": "markdown",
   "metadata": {},
   "source": [
    "import java.io.PrintStream;\n",
    "\n",
    "public class MyExcepton extends Exception {\n",
    "\n",
    "    @Override\n",
    "    public void printStackTrace(PrintStream printStream) {\n",
    "        System.err.println(\"My Exception\");\n",
    "    }\n",
    "}\n",
    "package com.company.l04;\n",
    "\n",
    "public class Main {\n",
    "\n",
    "    public static void main(String[] args) {\n",
    "        try {\n",
    "            throw new MyExcepton();\n",
    "        } catch (MyExcepton myExcepton) {\n",
    "            myExcepton.printStackTrace();\n",
    "        }\n",
    "    }\n",
    "}"
   ]
  },
  {
   "cell_type": "markdown",
   "metadata": {},
   "source": [
    "#### a30 Java для начинающих: Урок 30. Введение в коллекции  "
   ]
  },
  {
   "cell_type": "markdown",
   "metadata": {},
   "source": [
    "Collectioon - List, Set, Queue (Map)  \n",
    "Set - множество(уникальные елементы)  "
   ]
  },
  {
   "cell_type": "markdown",
   "metadata": {},
   "source": [
    "#### a31 Java для начинающих: Урок 31. Коллекция List  "
   ]
  },
  {
   "cell_type": "markdown",
   "metadata": {},
   "source": [
    "```\n",
    "List list = new ArrayList();\n",
    "list.add(1);\n",
    "list.add(\"aaa\");\n",
    "System.out.println(\"size() = \" + list.size()\n",
    "        + \", list.get(0) = \"\n",
    "        + list.get(0));\n",
    "for (Object i: list  ) {\n",
    "    System.out.println(i + \" : \" +\n",
    "    i.getClass().toString());\n",
    "}\n",
    "//        size() = 2, list.get(0) = 1\n",
    "//        1 : class java.lang.Integer\n",
    "//        aaa : class java.lang.String\n",
    "```"
   ]
  },
  {
   "cell_type": "markdown",
   "metadata": {},
   "source": [
    "```\n",
    "         List<Integer> l = new ArrayList();\n",
    "         l.add(3);\n",
    "         l.add(0,5);\n",
    "         System.out.println(l);\n",
    "\n",
    "         Iterator<Integer> iterator = l.iterator();\n",
    "//         iterator.hasNext();\n",
    "//         iterator.next();\n",
    "//         iterator.remove();\n",
    "\n",
    "         while (iterator.hasNext()){\n",
    "             System.out.print(iterator.next());\n",
    "         }\n",
    "         System.out.println();\n",
    "         iterator = l.iterator();\n",
    "         while (iterator.hasNext()){\n",
    "             System.out.print(iterator.next());\n",
    "         }\n",
    "\n",
    "//         addAll,contains,containsAll,isEmpty\n",
    "//         [5, 3]\n",
    "//         53\n",
    "//         53\n",
    "```"
   ]
  },
  {
   "cell_type": "markdown",
   "metadata": {},
   "source": [
    "#### a32 Java для начинающих: Урок 32. Коллекция Set  "
   ]
  },
  {
   "cell_type": "markdown",
   "metadata": {},
   "source": [
    "```\n",
    " Set<Integer> mn = new HashSet<>();\n",
    " mn.add(2);\n",
    " mn.add(1);\n",
    " mn.add(1);\n",
    "\n",
    " System.out.println(mn);\n",
    "    //[1, 2]\n",
    "```"
   ]
  },
  {
   "cell_type": "markdown",
   "metadata": {},
   "source": [
    "```\n",
    "Set<Integer> mn = new HashSet<>();\n",
    "mn.add(2);\n",
    "mn.add(1);\n",
    "mn.add(1);\n",
    "List<Integer> lst = new ArrayList<>(mn);\n",
    "lst.addAll(mn);\n",
    "System.out.println(lst);\n",
    "//[1, 2, 1, 2]\n",
    "```"
   ]
  },
  {
   "cell_type": "markdown",
   "metadata": {},
   "source": [
    "```\n",
    " Set<Integer> mn = new HashSet<>();\n",
    " mn.add(2);\n",
    " mn.add(1);\n",
    " mn.add(1);\n",
    "Iterator<Integer> iterator = mn.iterator();\n",
    "while (iterator.hasNext()){\n",
    "    System.out.print(iterator.next());\n",
    "}\n",
    "```"
   ]
  },
  {
   "cell_type": "markdown",
   "metadata": {},
   "source": [
    "```\n",
    "System.out.println(mn.contains(1));//true\n",
    "```"
   ]
  },
  {
   "cell_type": "markdown",
   "metadata": {},
   "source": [
    "```\n",
    " Random random = new Random();\n",
    "List<Integer> lst = new ArrayList<>();\n",
    " lst.add(9);lst.add(8);lst.add(7);\n",
    " Set<Integer> mn = new HashSet<>();\n",
    " for (int i=0;i<10;i++){\n",
    "     mn.add(random.nextInt(10));\n",
    " }\n",
    " mn.remove(0);\n",
    " mn.removeAll(lst);\n",
    " System.out.println(mn);\n",
    " //[2, 5, 6]\n",
    "```"
   ]
  },
  {
   "cell_type": "markdown",
   "metadata": {},
   "source": []
  },
  {
   "cell_type": "markdown",
   "metadata": {},
   "source": [
    "#### a33 Java для начинающих: Урок 33. Коллекция Map  "
   ]
  },
  {
   "cell_type": "markdown",
   "metadata": {},
   "source": [
    "```\n",
    "Map<String,String> mMap = new HashMap<String, String>();\n",
    "mMap.put(\"key\", \"something\");\n",
    "mMap.put(\"key1\", \"something\");\n",
    "Iterator iter = mMap.entrySet().iterator();\n",
    "while (iter.hasNext()) {\n",
    "    Map.Entry mEntry = (Map.Entry) iter.next();\n",
    "    System.out.println(mEntry.getKey() + \" : \" + mEntry.getValue());\n",
    "}\n",
    "```"
   ]
  },
  {
   "cell_type": "markdown",
   "metadata": {},
   "source": [
    "```\n",
    "Map<String,String> mMap = new HashMap<String, String>();\n",
    "mMap.put(\"key\", \"something\");\n",
    "mMap.put(\"key1\", \"something1\");\n",
    "System.out.print(mMap.values()+\" \"+mMap.keySet());\n",
    "System.out.println();\n",
    "System.out.println(mMap.get(\"key\"));\n",
    "//[something1, something] [key1, key]\n",
    "//something\n",
    "```"
   ]
  },
  {
   "cell_type": "markdown",
   "metadata": {},
   "source": [
    "```\n",
    "List lst = new ArrayList(mMap.entrySet());\n",
    "System.out.println(lst);\n",
    "//[key1=something1, key=something]\n",
    "```"
   ]
  },
  {
   "cell_type": "markdown",
   "metadata": {},
   "source": [
    "```\n",
    "Map<String, String> mMap = new HashMap<String, String>();\n",
    "mMap.put(\"key\", \"something\");\n",
    "mMap.put(\"key1\", \"something1\");\n",
    "for (Map.Entry entry : mMap.entrySet()) {\n",
    "    //получить ключ\n",
    "    String key = entry.getKey().toString();\n",
    "    //получить значение\n",
    "    String value = entry.getValue().toString();\n",
    "    System.out.print(key + \": \" + value + \", \");\n",
    "    //key1: something1, key: something,\n",
    "}\n",
    "```"
   ]
  },
  {
   "cell_type": "markdown",
   "metadata": {},
   "source": [
    "[javarush.ru](https://javarush.ru/groups/posts/763-9-glavnihkh-voprosov-o-map-v-java)  "
   ]
  },
  {
   "cell_type": "markdown",
   "metadata": {},
   "source": [
    "[Java для начинающих / Java с нуля Devcolibri 1 видео из 33](https://www.youtube.com/watch?v=9Yz3unV4NDw&list=PLIU76b8Cjem48KXIy83YIm-QM6SwvzjQd)  \n",
    "[]()  \n"
   ]
  },
  {
   "cell_type": "markdown",
   "metadata": {},
   "source": [
    "[]()  \n",
    "[]()  \n",
    "[]()  \n",
    "[]()  \n",
    "[]()  \n",
    "```\n",
    "\n",
    "```"
   ]
  }
 ],
 "metadata": {
  "kernelspec": {
   "display_name": "Python 3",
   "language": "python",
   "name": "python3"
  },
  "language_info": {
   "codemirror_mode": {
    "name": "ipython",
    "version": 3
   },
   "file_extension": ".py",
   "mimetype": "text/x-python",
   "name": "python",
   "nbconvert_exporter": "python",
   "pygments_lexer": "ipython3",
   "version": "3.7.8"
  }
 },
 "nbformat": 4,
 "nbformat_minor": 2
}
