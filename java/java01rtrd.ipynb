{
 "cells": [
  {
   "cell_type": "markdown",
   "metadata": {},
   "source": [
    "##### Java\n",
    "[Learn Java](https://www.codecademy.com/learn/learn-java)  \n"
   ]
  },
  {
   "cell_type": "markdown",
   "metadata": {},
   "source": [
    "##### HelloWorld"
   ]
  },
  {
   "cell_type": "markdown",
   "metadata": {},
   "source": [
    "```\n",
    "//HelloWorld.java\n",
    "class HelloWorld { \n",
    "    public static void main(String[] args){\n",
    "        System.out.println(«Hello World!»); \n",
    "    } \n",
    "}\n",
    "```"
   ]
  },
  {
   "cell_type": "markdown",
   "metadata": {},
   "source": [
    "##### Изготовление Байт-кода\n",
    "```\n",
    "javac HelloWorld.java\n",
    "```\n",
    "//HelloWorld.class"
   ]
  },
  {
   "cell_type": "markdown",
   "metadata": {},
   "source": [
    "##### Запуск\n",
    "```\n",
    "java HelloWorld\n",
    "```"
   ]
  },
  {
   "cell_type": "markdown",
   "metadata": {},
   "source": [
    "\n",
    "[HTTP сервер за 15 минут habr](https://habr.com/ru/post/69136/)  \n"
   ]
  },
  {
   "cell_type": "markdown",
   "metadata": {},
   "source": [
    "LEARN JAVA: ARRAYS\n",
    "#### Get Element By Index\n",
    "[Learn Java](https://www.codecademy.com/learn/learn-java)  \n"
   ]
  },
  {
   "cell_type": "code",
   "execution_count": 1,
   "metadata": {},
   "outputs": [
    {
     "ename": "SyntaxError",
     "evalue": "invalid syntax (<ipython-input-1-6ddd648f7f21>, line 3)",
     "output_type": "error",
     "traceback": [
      "\u001b[1;36m  File \u001b[1;32m\"<ipython-input-1-6ddd648f7f21>\"\u001b[1;36m, line \u001b[1;32m3\u001b[0m\n\u001b[1;33m    public class Newsfeed {\u001b[0m\n\u001b[1;37m               ^\u001b[0m\n\u001b[1;31mSyntaxError\u001b[0m\u001b[1;31m:\u001b[0m invalid syntax\n"
     ]
    }
   ],
   "source": [
    "import java.util.Arrays;\n",
    "\n",
    "public class Newsfeed {\n",
    "  \n",
    "  String[] topics = {\"Opinion\", \"Tech\", \"Science\", \"Health\"};\n",
    "  int[] views = {0, 0, 0, 0};\n",
    "  \n",
    "  public Newsfeed(){\n",
    "\n",
    "  }\n",
    "    \n",
    "  public String[] getTopics(){\n",
    "    return topics;\n",
    "  }\n",
    "  \n",
    "  public String getTopTopic(){\n",
    "    return topics[0];\n",
    "  }\n",
    "  \n",
    "  public void viewTopic(int topicIndex){\n",
    "    views[topicIndex] += 1;\n",
    "  }\n",
    "\n",
    "  public static void main(String[] args){\n",
    "    Newsfeed sampleFeed = new Newsfeed();\n",
    "    \n",
    "    System.out.println(\"The top topic is \"+ sampleFeed.getTopTopic());\n",
    "    \n",
    "    sampleFeed.viewTopic(1);\n",
    "    sampleFeed.viewTopic(1);\n",
    "    sampleFeed.viewTopic(3);\n",
    "    sampleFeed.viewTopic(2);\n",
    "    sampleFeed.viewTopic(2);\n",
    "    sampleFeed.viewTopic(1);\n",
    "    \n",
    "    System.out.println(\"The \" + sampleFeed.topics[1] + \" topic has been viewed \" + sampleFeed.views[1] + \" times!\"); \n",
    "  }\n",
    "}\n"
   ]
  },
  {
   "cell_type": "markdown",
   "metadata": {},
   "source": [
    "#### Creating an Empty Array"
   ]
  },
  {
   "cell_type": "code",
   "execution_count": null,
   "metadata": {},
   "outputs": [],
   "source": [
    "import java.util.Arrays;\n",
    "\n",
    "public class Newsfeed {\n",
    "  \n",
    "  String[] topics = {\"Opinion\", \"Tech\", \"Science\", \"Health\"};\n",
    "  int[] views = {0, 0, 0, 0};\n",
    "  String[] favoriteArticles;\n",
    "  \n",
    "  public Newsfeed(){\n",
    "    // Initialize favoriteArticles here:\n",
    "    favoriteArticles = new String[10];\n",
    "  }\n",
    "  \n",
    "  public void setFavoriteArticle(int favoriteIndex, String newArticle){\n",
    "    // Add newArticle to favoriteArticles:\n",
    "   favoriteArticles[favoriteIndex] = newArticle; \n",
    "    \n",
    "  }\n",
    "    \n",
    "  public static void main(String[] args){\n",
    "    Newsfeed sampleFeed = new Newsfeed();\n",
    "    \n",
    "    sampleFeed.setFavoriteArticle(2, \"Humans: Exterminate Or Not?\");\n",
    "    sampleFeed.setFavoriteArticle(3, \"Organic Eye Implants\");\n",
    "    sampleFeed.setFavoriteArticle(0, \"Oil News\");\n",
    "    \n",
    "    System.out.println(Arrays.toString(sampleFeed.favoriteArticles));\n",
    "  }\n",
    "}\n"
   ]
  },
  {
   "cell_type": "markdown",
   "metadata": {},
   "source": [
    "#### Length\n",
    "    return topics.length;"
   ]
  },
  {
   "cell_type": "markdown",
   "metadata": {},
   "source": [
    "#### String[] args\n",
    "if(args[0].equals(\"Robot\")) {\n"
   ]
  },
  {
   "cell_type": "markdown",
   "metadata": {},
   "source": [
    "#### Review"
   ]
  },
  {
   "cell_type": "code",
   "execution_count": null,
   "metadata": {},
   "outputs": [],
   "source": [
    "import java.util.Arrays;\n",
    "\n",
    "public class Classroom {\n",
    "  \n",
    "  public static void main(String[] args){\n",
    "    String[] students = {\n",
    "  \"Sade\",\n",
    "\"Alexus\",\n",
    "\"Sam\",\n",
    "\"Koma\"    \n",
    "    };\n",
    "    double[] mathScores = new double[4];\n",
    "    mathScores[0] = 94.5;\n",
    "    mathScores[2] = 76.8;\n",
    "    System.out.println(\"The number of students in the class is \" + students.length);\n",
    "  }\n",
    "}\n"
   ]
  },
  {
   "cell_type": "markdown",
   "metadata": {},
   "source": [
    "#### Creating ArrayLists"
   ]
  },
  {
   "cell_type": "code",
   "execution_count": null,
   "metadata": {},
   "outputs": [],
   "source": [
    "// import the ArrayList package here:\n",
    "import java.util.ArrayList;\n",
    "\n",
    "class ToDos {\n",
    "  \n",
    "  public static void main(String[] args) {\n",
    "    \n",
    "    // Create toDoList below:\n",
    "    ArrayList<String> toDoList = new ArrayList<String>();\n",
    "    \n",
    "  }\n",
    "  \n",
    "}"
   ]
  },
  {
   "cell_type": "markdown",
   "metadata": {},
   "source": [
    "#### Adding an Item\n",
    "    toDoList.add(toDo1);"
   ]
  },
  {
   "cell_type": "markdown",
   "metadata": {},
   "source": [
    "#### ArrayList Size\n",
    "poirotsToDos .size()"
   ]
  },
  {
   "cell_type": "markdown",
   "metadata": {},
   "source": [
    "#### Accessing an Index\n",
    "poirotsToDos.get(1)"
   ]
  },
  {
   "cell_type": "markdown",
   "metadata": {},
   "source": [
    "#### Changing a Value\n",
    "poirotsToDos.set(3,\"listen to Captain Hastings for amusement\");"
   ]
  },
  {
   "cell_type": "markdown",
   "metadata": {},
   "source": [
    "#### Removing an Item\n",
    "poirotsToDos.remove(0);"
   ]
  },
  {
   "cell_type": "markdown",
   "metadata": {},
   "source": [
    "#### Getting an Item's Index\n",
    "sherlocksToDos.indexOf(\"solve the case\")"
   ]
  },
  {
   "cell_type": "markdown",
   "metadata": {},
   "source": [
    "#### Introduction to Loops"
   ]
  },
  {
   "cell_type": "markdown",
   "metadata": {},
   "source": [
    "#### While We're Here"
   ]
  },
  {
   "cell_type": "code",
   "execution_count": null,
   "metadata": {},
   "outputs": [],
   "source": [
    "// Importing the Random library\n",
    "import java.util.Random;\n",
    "\n",
    "class LuckyFive {\n",
    "  \n",
    "  public static void main(String[] args) {\n",
    "    \n",
    "    // Creating a random number generator\n",
    "    Random randomGenerator = new Random();\n",
    "    \n",
    "    // Generate a number between 1 and 6\n",
    "    int dieRoll = randomGenerator.nextInt(6) + 1;\n",
    "\n",
    "    // Repeat while roll isn't 5\n",
    "    while(dieRoll != 5){\n",
    "      System.out.println(dieRoll);\n",
    "      dieRoll = randomGenerator.nextInt(6) + 1;\n",
    "    }\n",
    "    \n",
    "  }\n",
    "  \n",
    "}"
   ]
  },
  {
   "cell_type": "markdown",
   "metadata": {},
   "source": [
    "#### Incrementing While Loops"
   ]
  },
  {
   "cell_type": "markdown",
   "metadata": {},
   "source": [
    "#### For Loops"
   ]
  },
  {
   "cell_type": "markdown",
   "metadata": {},
   "source": [
    "#### Iterating Over Arrays and ArrayLists"
   ]
  },
  {
   "cell_type": "markdown",
   "metadata": {},
   "source": [
    "#### For-Each Loops"
   ]
  },
  {
   "cell_type": "markdown",
   "metadata": {},
   "source": [
    "#### Introduction to String Methods\n",
    "length()\n",
    "concat()\n",
    "equals()\n",
    "indexOf()\n",
    "charAt()\n",
    "substring()\n",
    "toUpperCase() / toLowerCase()"
   ]
  },
  {
   "cell_type": "markdown",
   "metadata": {},
   "source": [
    "System.out.println(firstName.concat(lastName));"
   ]
  },
  {
   "cell_type": "markdown",
   "metadata": {},
   "source": [
    "#### Introducing Inheritance"
   ]
  },
  {
   "cell_type": "markdown",
   "metadata": {},
   "source": [
    "#### Introducing Polymorphism"
   ]
  },
  {
   "cell_type": "markdown",
   "metadata": {},
   "source": [
    "#### Using a Child Class as its Parent Class"
   ]
  },
  {
   "cell_type": "code",
   "execution_count": null,
   "metadata": {},
   "outputs": [],
   "source": [
    "class Dinner {\n",
    "  \n",
    "  private void makeNoodles(Noodle noodle, String sauce) {\n",
    "    \n",
    "    noodle.cook();\n",
    "    \n",
    "    System.out.println(\"Mixing \" + noodle.texture + \" noodles made from \" + noodle.ingredients + \" with \" + sauce + \".\");\n",
    "    System.out.println(\"Dinner is served!\");\n",
    "    \n",
    "  }\n",
    "  \n",
    "  public static void main(String[] args) {\n",
    "    \n",
    "    Dinner noodlesDinner = new Dinner();\n",
    "    Noodle biangBiang = new BiangBiang(); \n",
    "    // Add your code here:\n",
    "    noodlesDinner.makeNoodles(biangBiang, \"soy sauce and chili oil\");\n",
    "    \n",
    "  }\n",
    "  \n",
    "}"
   ]
  },
  {
   "cell_type": "markdown",
   "metadata": {},
   "source": [
    "#### Child Classes in Arrays and ArrayLists"
   ]
  },
  {
   "cell_type": "markdown",
   "metadata": {},
   "source": [
    "#### Introduction to Bugs"
   ]
  },
  {
   "cell_type": "markdown",
   "metadata": {},
   "source": [
    "System.err.println(error);"
   ]
  },
  {
   "cell_type": "markdown",
   "metadata": {},
   "source": [
    "38\n",
    "38-69-76-84-922    "
   ]
  }
 ],
 "metadata": {
  "kernelspec": {
   "display_name": "Python 3",
   "language": "python",
   "name": "python3"
  },
  "language_info": {
   "codemirror_mode": {
    "name": "ipython",
    "version": 3
   },
   "file_extension": ".py",
   "mimetype": "text/x-python",
   "name": "python",
   "nbconvert_exporter": "python",
   "pygments_lexer": "ipython3",
   "version": "3.7.4"
  }
 },
 "nbformat": 4,
 "nbformat_minor": 2
}
