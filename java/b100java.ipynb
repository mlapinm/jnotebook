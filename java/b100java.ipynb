{
 "cells": [
  {
   "cell_type": "markdown",
   "metadata": {},
   "source": [
    "[b100 ”рок по Java 98: Swing 3: ActionListener](#b100-”рок-по-Java-98:-Swing-3:-ActionListener)  \n",
    "[b101 ”рок по Java 99: Swing 4: EventHandler](#b101-”рок-по-Java-99:-Swing-4:-EventHandler)  \n",
    "[b102 ”рок по Java 100: Swing 5: LookAndFeel](#b102-”рок-по-Java-100:-Swing-5:-LookAndFeel)  \n",
    "[b103 ”рок по Java 101: Swing 6: WindowListener](#b103-”рок-по-Java-101:-Swing-6:-WindowListener)  \n",
    "[b104 ”рок по Java 102: Swing 7: Actions](#b104-”рок-по-Java-102:-Swing-7:-Actions)  \n",
    "[b105 ”рок по Java 103: Swing 8: KeyStroke](#b105-”рок-по-Java-103:-Swing-8:-KeyStroke)  \n",
    "[b106 ”рок по Java 104: Swing 9: MouseListener](#b106-”рок-по-Java-104:-Swing-9:-MouseListener)  \n",
    "[b107 ”рок по Java 105: Swing 10: “екстовые пол¤ JTextField, JPasswordField, JTextArea, ScrollPane](#b107-”рок-по-Java-105:-Swing-10:-“екстовые-пол¤-JTextField,-JPasswordField,-JTextArea,-ScrollPane)  \n",
    "[b108 ”рок по Java 106: Swing 11:  омпоненты выбора RadioButton, RadioGroup, ComponentBox, Border](#b108-”рок-по-Java-106:-Swing-11:-компоненты-выбора-RadioButton,-RadioGroup,-ComponentBox,-Border)  \n",
    "[b109 ”рок по Java 107: Swing 12: Sliders](#b109-”рок-по-Java-107:-Swing-12:-Sliders)  \n",
    "[b110 ”рок по Java 108: Swing 13: Menu](#b110-”рок-по-Java-108:-Swing-13:-Menu)  \n",
    "[b111 ”рок по Java 109: Swing 14: PopupMenu](#b111-”рок-по-Java-109:-Swing-14:-PopupMenu)  \n",
    "[b112 ”рок по Java 110: Swing 15: ToolBar](#b112-”рок-по-Java-110:-Swing-15:-ToolBar)  \n",
    "[b113 ”рок по Java 111: Swing 16: Layout](#b113-”рок-по-Java-111:-Swing-16:-Layout)  \n",
    "[b114 ”рок по Java 112: Swing 17: BorderGrid Layout](#b114-”рок-по-Java-112:-Swing-17:-BorderGrid-Layout)  \n",
    "[b115 ”рок по Java 113: Swing 18: GridBagLayout](#b115-”рок-по-Java-113:-Swing-18:-GridBagLayout)  \n",
    "[b116 ”рок по Java 114: Swing 19: No Layout](#b116-”рок-по-Java-114:-Swing-19:-No-Layout)  \n",
    "[b117 ”рок по Java 115: Swing 20: Custom Layout](#b117-”рок-по-Java-115:-Swing-20:-Custom-Layout)  \n",
    "[b118 ”рок по Java 116: Swing 21: Focus](#b118-”рок-по-Java-116:-Swing-21:-Focus)  \n",
    "[b119 ”рок по Java 117: Swing 22: Dialogs](#b119-”рок-по-Java-117:-Swing-22:-Dialogs)  \n"
   ]
  },
  {
   "cell_type": "markdown",
   "metadata": {},
   "source": [
    "#### b100 ”рок по Java 98: Swing 3: ActionListener  \n"
   ]
  },
  {
   "cell_type": "markdown",
   "metadata": {},
   "source": [
    "\"<details><pre>\n",
    "public class ActionListernerLesson {\n",
    "\n",
    "    static JFrame jFrame = getFrame();\n",
    "\n",
    "    public static void main(String[] args) {\n",
    "        JPanel jPanel = new JPanel() {\n",
    "        };\n",
    "        jFrame.add(jPanel);\n",
    "        JButton button = new JButton(&quot;submit&quot;);\n",
    "        jPanel.add(button);\n",
    "        button.addActionListener(new ActionListener() {\n",
    "            @Override\n",
    "            public void actionPerformed(ActionEvent e) {\n",
    "                jPanel.setBackground(Color.blue);\n",
    "            }\n",
    "        });\n",
    "    }\n",
    "\n",
    "    static JFrame getFrame() {\n",
    "        JFrame jFrame = new JFrame() {};\n",
    "        jFrame.setVisible(true);\n",
    "        jFrame.setBounds(750, 250, 500 ,500);\n",
    "        jFrame.setDefaultCloseOperation(JFrame.EXIT_ON_CLOSE);\n",
    "        return jFrame;\n",
    "    }\n",
    "}\n",
    "</pre></details>"
   ]
  },
  {
   "cell_type": "markdown",
   "metadata": {},
   "source": [
    "#### b101 ”рок по Java 99: Swing 4: EventHandler  \n"
   ]
  },
  {
   "cell_type": "markdown",
   "metadata": {},
   "source": [
    "\"<details><pre>\n",
    "public class SingleCallLesson {\n",
    "\n",
    "    static JFrame jFrame = getFrame();\n",
    "\n",
    "    public static void main(String[] args) {\n",
    "        JPanel jPanel = new JPanel() {\n",
    "        };\n",
    "        jFrame.add(jPanel);\n",
    "        JButton button = new JButton(&quot;submit&quot;);\n",
    "        jPanel.add(button);\n",
    "        /*button.addActionListener(new ActionListener() {\n",
    "            @Override\n",
    "            public void actionPerformed(ActionEvent e) {\n",
    "                jFrame.setTitle(((JButton)e.getSource()).getText());\n",
    "                //jPanel.setBackground(Color.blue);\n",
    "            }\n",
    "        });*/\n",
    "        button.addActionListener(EventHandler.create(ActionListener.class, jFrame, &quot;setTitle&quot;, &quot;source.text&quot;));\n",
    "    }\n",
    "\n",
    "    static JFrame getFrame() {\n",
    "        JFrame jFrame = new JFrame() {};\n",
    "        jFrame.setVisible(true);\n",
    "        jFrame.setBounds(750, 250, 500 ,500);\n",
    "        jFrame.setDefaultCloseOperation(JFrame.EXIT_ON_CLOSE);\n",
    "        return jFrame;\n",
    "    }\n",
    "}\n",
    "</pre></details>"
   ]
  },
  {
   "cell_type": "markdown",
   "metadata": {},
   "source": [
    "#### b102 ”рок по Java 100: Swing 5: LookAndFeel  \n"
   ]
  },
  {
   "cell_type": "markdown",
   "metadata": {},
   "source": [
    "```\n",
    "//Metal\n",
    "//javax.swing.plaf.metal.MetalLookAndFeel\n",
    "//Nimbus\n",
    "//javax.swing.plaf.nimbus.NimbusLookAndFeel\n",
    "//CDE/Motif\n",
    "//com.sun.java.swing.plaf.motif.MotifLookAndFeel\n",
    "//Windows\n",
    "//com.sun.java.swing.plaf.windows.WindowsLookAndFeel\n",
    "//Windows Classic\n",
    "//com.sun.java.swing.plaf.windows.WindowsClassicLookAndFeel\n",
    "\n",
    "UIManager.LookAndFeelInfo[] infos = UIManager.getInstalledLookAndFeels();\n",
    "for(UIManager.LookAndFeelInfo info : infos) {\n",
    "    System.out.println(info.getName());\n",
    "    System.out.println(info.getClassName());\n",
    "}\n",
    "```"
   ]
  },
  {
   "cell_type": "markdown",
   "metadata": {},
   "source": [
    "\"<details><pre>\n",
    "package swing.components;\n",
    "\n",
    "import javax.swing.*;\n",
    "import java.awt.event.ActionEvent;\n",
    "import java.awt.event.ActionListener;\n",
    "\n",
    "/**\n",
    " * Created by husiv on 9/13/16.\n",
    " */\n",
    "public class LoockAndFeelLesson {\n",
    "    static JFrame jFrame = getFrame();\n",
    "\n",
    "    public static void main(String[] args) throws ClassNotFoundException, UnsupportedLookAndFeelException, InstantiationException, IllegalAccessException {\n",
    "        /*UIManager.LookAndFeelInfo[] infos = UIManager.getInstalledLookAndFeels();\n",
    "        for(UIManager.LookAndFeelInfo info : infos) {\n",
    "            System.out.println(info.getName());\n",
    "            System.out.println(info.getClassName());\n",
    "        }*/\n",
    "        JPanel jPanel = new JPanel() {};\n",
    "        jFrame.add(jPanel);\n",
    "        JButton button1 = new JButton(&quot;metal&quot;);\n",
    "        JButton button2 = new JButton(&quot;nimbut&quot;);\n",
    "        JButton button3 = new JButton(&quot;motif&quot;);\n",
    "        JButton button4 = new JButton(&quot;Classic&quot;);\n",
    "        jPanel.add(button1);\n",
    "        jPanel.add(button2);\n",
    "        jPanel.add(button3);\n",
    "        jPanel.add(button4);\n",
    "        button1.addActionListener(new ActionListener() {\n",
    "            @Override\n",
    "            public void actionPerformed(ActionEvent e) {\n",
    "                try {\n",
    "                    UIManager.setLookAndFeel(&quot;javax.swing.plaf.metal.MetalLookAndFeel&quot;);\n",
    "                } catch (Exception e1) {\n",
    "                    e1.printStackTrace();\n",
    "                }\n",
    "            }\n",
    "        });\n",
    "        button2.addActionListener(new ActionListener() {\n",
    "            @Override\n",
    "            public void actionPerformed(ActionEvent e) {\n",
    "                try {\n",
    "                    UIManager.setLookAndFeel(&quot;javax.swing.plaf.nimbus.NimbusLookAndFeel&quot;);\n",
    "                } catch (Exception e1) {\n",
    "                    e1.printStackTrace();\n",
    "                }\n",
    "            }\n",
    "        });\n",
    "        button3.addActionListener(new ActionListener() {\n",
    "            @Override\n",
    "            public void actionPerformed(ActionEvent e) {\n",
    "                try {\n",
    "                    UIManager.setLookAndFeel(&quot;com.sun.java.swing.plaf.motif.MotifLookAndFeel&quot;);\n",
    "                } catch (Exception e1) {\n",
    "                    e1.printStackTrace();\n",
    "                }\n",
    "            }\n",
    "        });\n",
    "        button4.addActionListener(new ActionListener() {\n",
    "            @Override\n",
    "            public void actionPerformed(ActionEvent e) {\n",
    "                try {\n",
    "                    UIManager.setLookAndFeel(&quot;com.sun.java.swing.plaf.windows.WindowsClassicLookAndFeel&quot;);\n",
    "                } catch (Exception e1) {\n",
    "                    e1.printStackTrace();\n",
    "                }\n",
    "            }\n",
    "        });\n",
    "//        UIManager.setLookAndFeel(&quot;javax.swing.plaf.metal.MetalLookAndFeel&quot;);\n",
    "//        UIManager.setLookAndFeel(&quot;javax.swing.plaf.nimbus.NimbusLookAndFeel&quot;);\n",
    "//        UIManager.setLookAndFeel(&quot;com.sun.java.swing.plaf.motif.MotifLookAndFeel&quot;);\n",
    "//        UIManager.setLookAndFeel(&quot;com.sun.java.swing.plaf.gtk.GTKLookAndFeel&quot;);\n",
    "    }\n",
    "\n",
    "    static JFrame getFrame() {\n",
    "        JFrame jFrame = new JFrame() {};\n",
    "        jFrame.setVisible(true);\n",
    "        jFrame.setBounds(750, 250, 500 ,500);\n",
    "        jFrame.setDefaultCloseOperation(JFrame.EXIT_ON_CLOSE);\n",
    "        return jFrame;\n",
    "    }\n",
    "}\n",
    "</pre></details>"
   ]
  },
  {
   "cell_type": "markdown",
   "metadata": {},
   "source": [
    "#### b103 ”рок по Java 101: Swing 6: WindowListener  \n"
   ]
  },
  {
   "cell_type": "markdown",
   "metadata": {},
   "source": [
    "\"<details><pre>\n",
    "package swing.actions;\n",
    "import javax.swing.*;\n",
    "import java.awt.*;\n",
    "import java.awt.event.WindowAdapter;\n",
    "import java.awt.event.WindowEvent;\n",
    "/**\n",
    " * Created by husiv on 9/13/16.\n",
    " */\n",
    "public class WindowListenerLesson {\n",
    "    static JFrame jFrame = getFrame();\n",
    "    public static void main(String[] args) {\n",
    "        JPanel jPanel = new JPanel() {};\n",
    "        jFrame.add(jPanel);\n",
    "        jFrame.addWindowListener(new WindowAdapter() {\n",
    "            @Override\n",
    "            public void windowOpened(WindowEvent e) {\n",
    "                super.windowOpened(e);\n",
    "                System.out.println(&quot;opened&quot;);\n",
    "                jPanel.setBackground(Color.green);\n",
    "            }\n",
    "            @Override\n",
    "            public void windowClosing(WindowEvent e) {\n",
    "                super.windowClosing(e);\n",
    "                System.out.println(&quot;closing&quot;);\n",
    "                jPanel.setBackground(Color.green);\n",
    "                System.exit(0);\n",
    "            }\n",
    "        });\n",
    "    }\n",
    "    static JFrame getFrame() {\n",
    "        JFrame jFrame = new JFrame() {};\n",
    "        jFrame.setVisible(true);\n",
    "        jFrame.setBounds(750, 250, 500 ,500);\n",
    "        jFrame.setDefaultCloseOperation(JFrame.EXIT_ON_CLOSE);\n",
    "        return jFrame;\n",
    "    }\n",
    "}\n",
    "</pre></details>"
   ]
  },
  {
   "cell_type": "markdown",
   "metadata": {},
   "source": [
    "#### b104 ”рок по Java 102: Swing 7: Actions  \n"
   ]
  },
  {
   "cell_type": "markdown",
   "metadata": {},
   "source": [
    "\"<details><pre>\n",
    "package swing.actions;\n",
    "import javax.swing.*;\n",
    "import java.awt.*;\n",
    "import java.awt.event.ActionEvent;\n",
    "/**\n",
    " * Created by husiv on 9/13/16.\n",
    " */\n",
    "public class ActionsLesson {\n",
    "    static JFrame jFrame = getFrame();\n",
    "    static JPanel jPanel = new JPanel() {};\n",
    "    public static void main(String[] args) {\n",
    "        jFrame.add(jPanel);\n",
    "        JButton button = new JButton(new ColorAction());\n",
    "        button.setText(&quot;submit&quot;);\n",
    "        jPanel.add(button);\n",
    "    }\n",
    "    static class ColorAction extends AbstractAction {\n",
    "        public ColorAction() {\n",
    "            putValue(Action.SHORT_DESCRIPTION, &quot;change color&quot;);\n",
    "        }\n",
    "        @Override\n",
    "        public void actionPerformed(ActionEvent e) {\n",
    "            jPanel.setBackground(Color.green);\n",
    "        }\n",
    "    }\n",
    "    static JFrame getFrame() {\n",
    "        JFrame jFrame = new JFrame() {};\n",
    "        jFrame.setVisible(true);\n",
    "        jFrame.setBounds(750, 250, 500 ,500);\n",
    "        jFrame.setDefaultCloseOperation(JFrame.EXIT_ON_CLOSE);\n",
    "        return jFrame;\n",
    "    }\n",
    "}\n",
    "</pre></details>"
   ]
  },
  {
   "cell_type": "markdown",
   "metadata": {},
   "source": [
    "#### b105 ”рок по Java 103: Swing 8: KeyStroke  \n"
   ]
  },
  {
   "cell_type": "markdown",
   "metadata": {},
   "source": [
    "Ctrl B\n",
    "<details><pre>\n",
    "package swing.actions;\n",
    "import javax.swing.*;\n",
    "import java.awt.*;\n",
    "import java.awt.event.ActionEvent;\n",
    "/**\n",
    " * Created by husiv on 9/13/16.\n",
    " */\n",
    "public class KeyStrokeLesson {\n",
    "    static JFrame jFrame = getFrame();\n",
    "    static JPanel jPanel = new JPanel() {};\n",
    "    public static void main(String[] args) {\n",
    "        jFrame.add(jPanel);\n",
    "        Action action = new ColorAction();\n",
    "        JButton button = new JButton(action);\n",
    "        button.setText(&quot;submit&quot;);\n",
    "        jPanel.add(button);\n",
    "        KeyStroke keyStroke = KeyStroke.getKeyStroke(&quot;ctrl B&quot;);\n",
    "//        InputMap inputMap = jPanel.getInputMap(jPanel.WHEN_ANCESTOR_OF_FOCUSED_COMPONENT);\n",
    "        InputMap inputMap = jPanel.getInputMap(jPanel.WHEN_IN_FOCUSED_WINDOW);\n",
    "        inputMap.put(keyStroke, &quot;changeColor&quot;);\n",
    "        ActionMap actionMap = jPanel.getActionMap();\n",
    "        actionMap.put(&quot;changeColor&quot;, action);\n",
    "    }\n",
    "    static class ColorAction extends AbstractAction {\n",
    "        public ColorAction() {\n",
    "            putValue(Action.SHORT_DESCRIPTION, &quot;change color&quot;);\n",
    "        }\n",
    "        @Override\n",
    "        public void actionPerformed(ActionEvent e) {\n",
    "            jPanel.setBackground(Color.blue);\n",
    "            System.out.println(1111);\n",
    "        }\n",
    "    }\n",
    "    static JFrame getFrame() {\n",
    "        JFrame jFrame = new JFrame() {};\n",
    "        jFrame.setVisible(true);\n",
    "        jFrame.setBounds(750, 250, 500 ,500);\n",
    "        jFrame.setDefaultCloseOperation(JFrame.EXIT_ON_CLOSE);\n",
    "        return jFrame;\n",
    "    }\n",
    "}\n",
    "</pre></details>"
   ]
  },
  {
   "cell_type": "markdown",
   "metadata": {},
   "source": [
    "#### b106 ”рок по Java 104: Swing 9: MouseListener  \n"
   ]
  },
  {
   "cell_type": "markdown",
   "metadata": {},
   "source": [
    "цвет при нажатии на кнопку мыши\n",
    "<details><pre>\n",
    "package swing.actions;\n",
    "import javax.swing.*;\n",
    "import java.awt.*;\n",
    "import java.awt.event.MouseAdapter;\n",
    "import java.awt.event.MouseEvent;\n",
    "/**\n",
    " * Created by husiv on 9/13/16.\n",
    " */\n",
    "public class MouseLesson {\n",
    "    static JFrame jFrame = getFrame();\n",
    "    public static void main(String[] args) {\n",
    "        JPanel jPanel = new JPanel(){};\n",
    "        JComponent jComponent = new MyPanel();\n",
    "        jFrame.add(jPanel);\n",
    "        //jFrame.add(jComponent);\n",
    "        jPanel.addMouseListener(new MouseAdapter() {\n",
    "            @Override\n",
    "            public void mouseClicked(MouseEvent e) {\n",
    "                super.mouseClicked(e);\n",
    "                jPanel.setBackground(Color.blue);\n",
    "            }\n",
    "        });\n",
    "//        jFrame.addMouseMotionListener(new MouseAdapter() {\n",
    "//            @Override\n",
    "//            public void mouseMoved(MouseEvent e) {\n",
    "//                super.mouseMoved(e);\n",
    "//                MyPanel.xCoord = e.getX();\n",
    "//                MyPanel.yCoord = e.getY();\n",
    "//                jComponent.repaint();\n",
    "//            }\n",
    "//        });\n",
    "    }\n",
    "    static class MyPanel extends JComponent {\n",
    "            public static int xCoord;\n",
    "            public static int yCoord;\n",
    "            @Override\n",
    "            protected void paintComponent(Graphics g) {\n",
    "                super.paintComponent(g);\n",
    "                ((Graphics2D)g).drawString(&quot;Coordinates x: &quot; + xCoord + &quot; Y: &quot; + yCoord, 50, 50);\n",
    "            }\n",
    "    }\n",
    "    static JFrame getFrame() {\n",
    "        JFrame jFrame = new JFrame() {};\n",
    "        jFrame.setVisible(true);\n",
    "        jFrame.setBounds(750, 250, 500 ,500);\n",
    "        jFrame.setDefaultCloseOperation(JFrame.EXIT_ON_CLOSE);\n",
    "        return jFrame;\n",
    "    }\n",
    "}\n",
    "</pre></details>"
   ]
  },
  {
   "cell_type": "markdown",
   "metadata": {},
   "source": [
    "Отображает координаты мышки\n",
    "<details><pre>\n",
    "package swing.actions;\n",
    "import javax.swing.*;\n",
    "import java.awt.*;\n",
    "import java.awt.event.MouseAdapter;\n",
    "import java.awt.event.MouseEvent;\n",
    "/**\n",
    " * Created by husiv on 9/13/16.\n",
    " */\n",
    "public class MouseLesson {\n",
    "    static JFrame jFrame = getFrame();\n",
    "    public static void main(String[] args) {\n",
    "        JPanel jPanel = new JPanel(){};\n",
    "        JComponent jComponent = new MyPanel();\n",
    "//        jFrame.add(jPanel);\n",
    "        jFrame.add(jComponent);\n",
    "        jPanel.addMouseListener(new MouseAdapter() {\n",
    "            @Override\n",
    "            public void mouseClicked(MouseEvent e) {\n",
    "                super.mouseClicked(e);\n",
    "                jPanel.setBackground(Color.blue);\n",
    "            }\n",
    "        });\n",
    "        jFrame.addMouseMotionListener(new MouseAdapter() {\n",
    "            @Override\n",
    "            public void mouseMoved(MouseEvent e) {\n",
    "                super.mouseMoved(e);\n",
    "                MyPanel.xCoord = e.getX();\n",
    "                MyPanel.yCoord = e.getY();\n",
    "                jComponent.repaint();\n",
    "            }\n",
    "        });\n",
    "    }\n",
    "    static class MyPanel extends JComponent {\n",
    "            public static int xCoord;\n",
    "            public static int yCoord;\n",
    "            @Override\n",
    "            protected void paintComponent(Graphics g) {\n",
    "                super.paintComponent(g);\n",
    "                ((Graphics2D)g).drawString(&quot;Coordinates x: &quot; + xCoord + &quot; Y: &quot; + yCoord, 50, 50);\n",
    "            }\n",
    "    }\n",
    "    static JFrame getFrame() {\n",
    "        JFrame jFrame = new JFrame() {};\n",
    "        jFrame.setVisible(true);\n",
    "        jFrame.setBounds(750, 250, 500 ,500);\n",
    "        jFrame.setDefaultCloseOperation(JFrame.EXIT_ON_CLOSE);\n",
    "        return jFrame;\n",
    "    }\n",
    "}\n",
    "</pre></details>"
   ]
  },
  {
   "cell_type": "markdown",
   "metadata": {},
   "source": [
    "#### b107 ”рок по Java 105: Swing 10: “екстовые пол¤ JTextField, JPasswordField, JTextArea, ScrollPane  \n"
   ]
  },
  {
   "cell_type": "markdown",
   "metadata": {},
   "source": [
    "<details><pre>\n",
    "package swing.components;\n",
    "import javax.swing.*;\n",
    "/**\n",
    " * Created by husiv on 9/15/16.\n",
    " */\n",
    "public class TextInputLesson {\n",
    "    public static void main(String[] args) throws Exception {\n",
    "        JFrame jFrame = getFrame();\n",
    "        JPanel jPanel = new JPanel();\n",
    "        jFrame.add(jPanel);\n",
    "        jPanel.add(new JLabel(&quot;&lt;html&gt;&lt;b&gt;this is label&lt;/b&gt;&lt;/html&gt;&quot;));\n",
    "        jPanel.add(new JTextField(&quot;text&quot;, 10));\n",
    "        jPanel.add(new JPasswordField(10));\n",
    "        JTextArea jTextArea = new JTextArea(8, 30);\n",
    "        jTextArea.setLineWrap(true);\n",
    "        JScrollPane jScrollPane = new JScrollPane(jTextArea);\n",
    "        jPanel.add(jScrollPane);\n",
    "        jPanel.revalidate();\n",
    "    }\n",
    "    static JFrame getFrame() {\n",
    "        JFrame jFrame = new JFrame() {};\n",
    "        jFrame.setVisible(true);\n",
    "        jFrame.setBounds(750, 250, 500 ,500);\n",
    "        jFrame.setDefaultCloseOperation(JFrame.EXIT_ON_CLOSE);\n",
    "        return jFrame;\n",
    "    }\n",
    "}\n",
    "</pre></details>"
   ]
  },
  {
   "cell_type": "markdown",
   "metadata": {},
   "source": [
    "#### b108 ”рок по Java 106: Swing 11: компоненты выбора RadioButton, RadioGroup, ComponentBox, Border  \n"
   ]
  },
  {
   "cell_type": "markdown",
   "metadata": {},
   "source": [
    "#### b109 ”рок по Java 107: Swing 12: Sliders  \n"
   ]
  },
  {
   "cell_type": "markdown",
   "metadata": {},
   "source": [
    "<details><pre>\n",
    "package swing.components;\n",
    "import javax.swing.*;\n",
    "import javax.swing.border.Border;\n",
    "/**\n",
    " * Created by husiv on 9/16/16.\n",
    " */\n",
    "public class ChoiceComponentLesson {\n",
    "    public static void main(String[] args) throws Exception {\n",
    "        JFrame jFrame = getFrame();\n",
    "        JPanel jPanel = new JPanel();\n",
    "        jFrame.add(jPanel);\n",
    "        jPanel.add(new JCheckBox(&quot;Bold&quot;));\n",
    "        ButtonGroup buttonGroup = new ButtonGroup();\n",
    "        JRadioButton button1 = new JRadioButton(&quot;one&quot;, true);\n",
    "        JRadioButton button2 = new JRadioButton(&quot;two&quot;, true);\n",
    "        buttonGroup.add(button1);\n",
    "        buttonGroup.add(button2);\n",
    "        jPanel.add(button1);\n",
    "        jPanel.add(button2);\n",
    "        Border border = BorderFactory.createEtchedBorder();\n",
    "        Border titled = BorderFactory.createTitledBorder(border, &quot;title&quot;);\n",
    "        JComboBox&lt;String&gt; comboBox = new JComboBox&lt;&gt;();\n",
    "        comboBox.insertItemAt(&quot;one&quot;, 0);\n",
    "        comboBox.addItem(&quot;two&quot;);\n",
    "        comboBox.addItem(&quot;three&quot;);\n",
    "        comboBox.addItem(&quot;four&quot;);\n",
    "        jPanel.add(comboBox);\n",
    "        JSlider jSlider = new JSlider(SwingConstants.HORIZONTAL, 0, 100, 20);\n",
    "        jSlider.setMajorTickSpacing(20);\n",
    "        jSlider.setMinorTickSpacing(10);\n",
    "        jSlider.setSnapToTicks(true);\n",
    "        jSlider.setPaintTicks(true);\n",
    "        jSlider.setPaintLabels(true);\n",
    "        jPanel.add(jSlider);\n",
    "        jPanel.setBorder(titled);\n",
    "    }\n",
    "    static JFrame getFrame() {\n",
    "        JFrame jFrame = new JFrame() {};\n",
    "        jFrame.setVisible(true);\n",
    "        jFrame.setBounds(750, 250, 500 ,500);\n",
    "        jFrame.setDefaultCloseOperation(JFrame.EXIT_ON_CLOSE);\n",
    "        return jFrame;\n",
    "    }\n",
    "}\n",
    "</pre></details>"
   ]
  },
  {
   "cell_type": "markdown",
   "metadata": {},
   "source": []
  },
  {
   "cell_type": "markdown",
   "metadata": {},
   "source": [
    "#### b110 ”рок по Java 108: Swing 13: Menu  \n"
   ]
  },
  {
   "cell_type": "markdown",
   "metadata": {},
   "source": [
    "\"<details><pre>\n",
    "package swing.menu;\n",
    "import javax.swing.*;\n",
    "import java.awt.event.ActionEvent;\n",
    "/**\n",
    " * Created by husiv on 9/16/16.\n",
    " */\n",
    "public class MenuLesson {\n",
    "    public static void main(String[] args) throws Exception {\n",
    "        JFrame jFrame = getFrame();\n",
    "        JMenuBar jMenuBar = new JMenuBar();\n",
    "        JMenu fileMenu = new JMenu(&quot;File&quot;);\n",
    "        JMenu editMenu = new JMenu(&quot;Edit&quot;);\n",
    "        jMenuBar.add(fileMenu);\n",
    "        jMenuBar.add(editMenu);\n",
    "        fileMenu.add(new JMenuItem(&quot;Open&quot;, 'O'));\n",
    "        fileMenu.add(new JMenuItem(&quot;Open As&quot;)).setEnabled(false);\n",
    "        fileMenu.add(new JPopupMenu.Separator());\n",
    "        fileMenu.add(new JMenuItem(&quot;Close&quot;));\n",
    "        editMenu.add(new JMenuItem(&quot;Cut&quot;));\n",
    "        editMenu.add(&quot;copy&quot;);\n",
    "        JMenu options = new JMenu(&quot;Options&quot;);\n",
    "        options.add(new JMenuItem(&quot;one&quot;));\n",
    "        options.add(new JMenuItem(&quot;two&quot;));\n",
    "        editMenu.add(options);\n",
    "        editMenu.add(new JCheckBoxMenuItem(&quot;check box&quot;));\n",
    "        ButtonGroup buttonGroup = new ButtonGroup();\n",
    "        JRadioButtonMenuItem jRadioButtonMenuItem1 = new JRadioButtonMenuItem(&quot;one&quot;);\n",
    "        JRadioButtonMenuItem jRadioButtonMenuItem2 = new JRadioButtonMenuItem(&quot;two&quot;);\n",
    "        buttonGroup.add(jRadioButtonMenuItem1);\n",
    "        buttonGroup.add(jRadioButtonMenuItem2);\n",
    "        editMenu.add(jRadioButtonMenuItem1);\n",
    "        editMenu.add(jRadioButtonMenuItem2);\n",
    "        JMenuItem exit = fileMenu.add(new JMenuItem(&quot;exit&quot;));\n",
    "        exit.setAccelerator(KeyStroke.getKeyStroke(&quot;ctrl Q&quot;));\n",
    "        exit.addActionListener(new AbstractAction() {\n",
    "            @Override\n",
    "            public void actionPerformed(ActionEvent e) {\n",
    "                System.exit(0);\n",
    "            }\n",
    "        });\n",
    "        jFrame.setJMenuBar(jMenuBar);\n",
    "        jFrame.revalidate();\n",
    "    }\n",
    "    static JFrame getFrame() {\n",
    "        JFrame jFrame = new JFrame() {};\n",
    "        jFrame.setVisible(true);\n",
    "        jFrame.setBounds(750, 250, 500 ,500);\n",
    "        jFrame.setDefaultCloseOperation(JFrame.EXIT_ON_CLOSE);\n",
    "        return jFrame;\n",
    "    }\n",
    "}\n",
    "</pre></details>"
   ]
  },
  {
   "cell_type": "markdown",
   "metadata": {},
   "source": [
    "#### b111 ”рок по Java 109: Swing 14: PopupMenu  \n"
   ]
  },
  {
   "cell_type": "markdown",
   "metadata": {},
   "source": [
    "\"<details><pre>\n",
    "package swing.menu;\n",
    "import javax.swing.*;\n",
    "/**\n",
    " * Created by max on 9/18/16.\n",
    " */\n",
    "public class PopupMenu {\n",
    "    static JFrame jFrame = getFrame();\n",
    "    static JPanel jPanel = new JPanel();\n",
    "    public static void main(String[] args) throws Exception {\n",
    "        jFrame.add(jPanel);\n",
    "        JPopupMenu jPopupMenu = new JPopupMenu();\n",
    "        jPopupMenu.add(new JMenuItem(&quot;one&quot;));\n",
    "        jPopupMenu.add(new JMenuItem(&quot;two&quot;));\n",
    "        jPanel.setComponentPopupMenu(jPopupMenu);\n",
    "    }\n",
    "    static JFrame getFrame() {\n",
    "        JFrame jFrame = new JFrame() {};\n",
    "        jFrame.setVisible(true);\n",
    "        jFrame.setBounds(750, 250, 500 ,500);\n",
    "        jFrame.setDefaultCloseOperation(JFrame.EXIT_ON_CLOSE);\n",
    "        return jFrame;\n",
    "    }\n",
    "}\n",
    "</pre></details>"
   ]
  },
  {
   "cell_type": "markdown",
   "metadata": {},
   "source": [
    "#### b112 ”рок по Java 110: Swing 15: ToolBar  \n"
   ]
  },
  {
   "cell_type": "markdown",
   "metadata": {},
   "source": [
    "<details><pre>\n",
    "package swing.menu;\n",
    "import javax.swing.*;\n",
    "import java.awt.*;\n",
    "/**\n",
    " * Created by max on 9/18/16.\n",
    " */\n",
    "public class ToolBarMenu {\n",
    "    static JFrame jFrame = getFrame();\n",
    "    public static void main(String[] args) throws Exception {\n",
    "        JPanel jPanel = new JPanel();\n",
    "        jFrame.add(jPanel);\n",
    "        JToolBar jToolBar = new JToolBar(&quot;title&quot;);\n",
    "        JButton one = new JButton(&quot;one&quot;);\n",
    "        one.setToolTipText(&quot;first&quot;);\n",
    "        jToolBar.add(one);\n",
    "        jToolBar.add(new Button(&quot;two&quot;));\n",
    "        jToolBar.addSeparator();\n",
    "        jToolBar.add(new Button(&quot;three&quot;));\n",
    "        jPanel.add(jToolBar);\n",
    "    }\n",
    "    static JFrame getFrame() {\n",
    "        JFrame jFrame = new JFrame() {};\n",
    "        jFrame.setVisible(true);\n",
    "        jFrame.setBounds(750, 250, 500 ,500);\n",
    "        jFrame.setDefaultCloseOperation(JFrame.EXIT_ON_CLOSE);\n",
    "        return jFrame;\n",
    "    }\n",
    "}\n",
    "</pre></details>"
   ]
  },
  {
   "cell_type": "markdown",
   "metadata": {},
   "source": [
    "#### b113 ”рок по Java 111: Swing 16: Layout  \n"
   ]
  },
  {
   "cell_type": "markdown",
   "metadata": {},
   "source": [
    "Editors Plugins UI Desiner"
   ]
  },
  {
   "cell_type": "markdown",
   "metadata": {},
   "source": [
    "#### b114 ”рок по Java 112: Swing 17: BorderGrid Layout  \n"
   ]
  },
  {
   "cell_type": "markdown",
   "metadata": {},
   "source": [
    "package swing.layout;  \n",
    "public class LayoutLesson \n",
    "  \n",
    "\n",
    "FlowLayout - По умолчанию  \n",
    "\n"
   ]
  },
  {
   "cell_type": "markdown",
   "metadata": {},
   "source": [
    "##### BorderLayout"
   ]
  },
  {
   "attachments": {
    "img-2020-01-10-17-37-24.png": {
     "image/png": "[encoded data removed]"
    }
   },
   "cell_type": "markdown",
   "metadata": {},
   "source": [
    "![img-2020-01-10-17-37-24.png](attachment:img-2020-01-10-17-37-24.png)"
   ]
  },
  {
   "cell_type": "markdown",
   "metadata": {},
   "source": [
    "<details><pre>\n",
    "public class Main {\n",
    "    static JFrame jFrame = getFrame();\n",
    "    public static void main(String[] args) {\n",
    "        jFrame.add(new Button(&quot;NORTH&quot;), BorderLayout.NORTH);\n",
    "        jFrame.add(new Button(&quot;WEST&quot;), BorderLayout.WEST);\n",
    "        jFrame.add(new Button(&quot;CENTER&quot;), BorderLayout.CENTER);\n",
    "        jFrame.add(new Button(&quot;EAST&quot;), BorderLayout.EAST);\n",
    "        jFrame.add(new Button(&quot;SOUTH&quot;), BorderLayout.SOUTH);\n",
    "    }\n",
    "    static JFrame getFrame() {\n",
    "        JFrame jFrame = new JFrame();\n",
    "        jFrame.setVisible(true);\n",
    "        jFrame.setBounds(750, 250, 500 ,500);\n",
    "        jFrame.setDefaultCloseOperation(JFrame.EXIT_ON_CLOSE);\n",
    "        return jFrame;\n",
    "    }\n",
    "}\n",
    "</pre></details>"
   ]
  },
  {
   "cell_type": "markdown",
   "metadata": {},
   "source": []
  },
  {
   "attachments": {
    "img-2020-01-10-17-44-15.png": {
     "image/png": "[encoded data removed]"
    }
   },
   "cell_type": "markdown",
   "metadata": {},
   "source": [
    "![img-2020-01-10-17-44-15.png](attachment:img-2020-01-10-17-44-15.png)"
   ]
  },
  {
   "cell_type": "markdown",
   "metadata": {},
   "source": [
    "\"<details><pre>\n",
    "public class Main {\n",
    "    static JFrame jFrame = getFrame();\n",
    "    public static void main(String[] args) {\n",
    "        JPanel jPanel = new JPanel();\n",
    "        jFrame.add(jPanel);\n",
    "        jPanel.setLayout(new GridLayout(2,2));\n",
    "        jPanel.add(new Button(&quot;one&quot;));\n",
    "        jPanel.add(new Button(&quot;two&quot;));\n",
    "        jPanel.add(new Button(&quot;three&quot;));\n",
    "        jPanel.add(new Button(&quot;four&quot;));\n",
    "    }\n",
    "    static JFrame getFrame() {\n",
    "        JFrame jFrame = new JFrame();\n",
    "        jFrame.setVisible(true);\n",
    "        jFrame.setBounds(750, 250, 500 ,500);\n",
    "        jFrame.setDefaultCloseOperation(JFrame.EXIT_ON_CLOSE);\n",
    "        return jFrame;\n",
    "    }\n",
    "}\n",
    "</pre></details>"
   ]
  },
  {
   "cell_type": "markdown",
   "metadata": {},
   "source": [
    "#### b115 ”рок по Java 113: Swing 18: GridBagLayout  \n"
   ]
  },
  {
   "cell_type": "markdown",
   "metadata": {},
   "source": [
    "package swing.layout;\n",
    "GridBagLayoutLesson "
   ]
  },
  {
   "attachments": {
    "img-2020-01-10-18-03-40.png": {
     "image/png": "[encoded data removed]"
    }
   },
   "cell_type": "markdown",
   "metadata": {},
   "source": [
    "![img-2020-01-10-18-03-40.png](attachment:img-2020-01-10-18-03-40.png)"
   ]
  },
  {
   "cell_type": "markdown",
   "metadata": {},
   "source": [
    "<details><pre>\n",
    "public class Main {\n",
    "    static JFrame jFrame = getFrame();\n",
    "    static JPanel jPanel = new JPanel();\n",
    "    public static void main(String[] args) throws Exception {\n",
    "        jFrame.add(jPanel);\n",
    "        GridBagLayout gridBagLayout = new GridBagLayout();\n",
    "        jPanel.setLayout(gridBagLayout);\n",
    "        GridBagConstraints constraints1 = new GridBagConstraints();\n",
    "        constraints1.weightx = 0;\n",
    "        constraints1.weighty = 0;\n",
    "        constraints1.gridx = 0;\n",
    "        constraints1.gridy = 0;\n",
    "        constraints1.gridheight = 2;\n",
    "        constraints1.gridwidth = 2;\n",
    "        jPanel.add(new JTextArea(4, 20), constraints1);\n",
    "        GridBagConstraints constraints2 = new GridBagConstraints();\n",
    "        constraints2.weightx = 0;\n",
    "        constraints2.weighty = 0;\n",
    "        constraints2.gridx = 2;\n",
    "        constraints2.gridy = 0;\n",
    "        constraints2.gridheight = 1;\n",
    "        constraints2.gridwidth = 2;\n",
    "        jPanel.add(new JButton(&quot;submit2submit2asdf&quot;), constraints2);\n",
    "        GridBagConstraints constraints3 = new GridBagConstraints();\n",
    "        constraints3.weightx = 0;\n",
    "        constraints3.weighty = 0;\n",
    "        constraints3.gridx = 2;\n",
    "        constraints3.gridy = 1;\n",
    "        constraints3.gridheight = 1;\n",
    "        constraints3.gridwidth = 1;\n",
    "        jPanel.add(new JButton(&quot;submit3&quot;), constraints3);\n",
    "        GridBagConstraints constraints4 = new GridBagConstraints();\n",
    "        constraints4.weightx = 0;\n",
    "        constraints4.weighty = 0;\n",
    "        constraints4.gridx = 3;\n",
    "        constraints4.gridy = 1;\n",
    "        constraints4.gridheight = 1;\n",
    "        constraints4.gridwidth = 1;\n",
    "        jPanel.add(new JButton(&quot;submit2&quot;), constraints4);\n",
    "        jPanel.revalidate();\n",
    "    }\n",
    "    static JFrame getFrame() {\n",
    "        JFrame jFrame = new JFrame() {};\n",
    "        jFrame.setVisible(true);\n",
    "        jFrame.setBounds(750, 250, 500 ,500);\n",
    "        jFrame.setDefaultCloseOperation(JFrame.EXIT_ON_CLOSE);\n",
    "        return jFrame;\n",
    "    }\n",
    "}\n",
    "</pre></details>"
   ]
  },
  {
   "cell_type": "markdown",
   "metadata": {},
   "source": [
    "#### b116 ”рок по Java 114: Swing 19: No Layout  \n"
   ]
  },
  {
   "cell_type": "markdown",
   "metadata": {},
   "source": [
    "<details><pre>\n",
    "package swing.layout;\n",
    "import javax.swing.*;\n",
    "/**\n",
    " * Created by husiv on 9/21/16.\n",
    " */\n",
    "public class NoLayout {\n",
    "    static JFrame jFrame = getFrame();\n",
    "    static JPanel jPanel = new JPanel();\n",
    "    public static void main(String[] args) throws Exception {\n",
    "        jFrame.add(jPanel);\n",
    "        jPanel.setLayout(null);\n",
    "        JButton jButton = new JButton(&quot;bubmit&quot;);\n",
    "        jPanel.add(jButton);\n",
    "        jButton.setBounds(50, 50, 150, 30);\n",
    "    }\n",
    "    static JFrame getFrame() {\n",
    "        JFrame jFrame = new JFrame() {};\n",
    "        jFrame.setVisible(true);\n",
    "        jFrame.setBounds(750, 250, 500 ,500);\n",
    "        jFrame.setDefaultCloseOperation(JFrame.EXIT_ON_CLOSE);\n",
    "        return jFrame;\n",
    "    }\n",
    "}\n",
    "</pre></details>"
   ]
  },
  {
   "cell_type": "markdown",
   "metadata": {},
   "source": [
    "#### b117 ”рок по Java 115: Swing 20: Custom Layout  \n"
   ]
  },
  {
   "cell_type": "markdown",
   "metadata": {},
   "source": [
    "<details><pre>\n",
    "package swing.layout;\n",
    "import javax.swing.*;\n",
    "import java.awt.*;\n",
    "/**\n",
    " * Created by husiv on 9/21/16.\n",
    " */\n",
    "public class CustomLayoutManager {\n",
    "    static JFrame jFrame = getFrame();\n",
    "    static JPanel jPanel = new JPanel();\n",
    "    public static void main(String[] args) throws Exception {\n",
    "        jFrame.add(jPanel);\n",
    "        jPanel.setLayout(new MyLayoutMangager());\n",
    "        jPanel.add(new JButton(&quot;submit&quot;));\n",
    "        jPanel.add(new JButton(&quot;submit&quot;));\n",
    "        jPanel.add(new JButton(&quot;submit&quot;));\n",
    "    }\n",
    "    static class MyLayoutMangager implements LayoutManager {\n",
    "        @Override\n",
    "        public void addLayoutComponent(String name, Component comp) {}\n",
    "        @Override\n",
    "        public void removeLayoutComponent(Component comp) {}\n",
    "        @Override\n",
    "        public Dimension preferredLayoutSize(Container parent) {\n",
    "            return null;\n",
    "        }\n",
    "        @Override\n",
    "        public Dimension minimumLayoutSize(Container parent) {\n",
    "            return null;\n",
    "        }\n",
    "        @Override\n",
    "        public void layoutContainer(Container parent) {\n",
    "            int n = parent.getComponentCount();\n",
    "            for (int i = 0; i &lt; n; i++) {\n",
    "                Component component = parent.getComponent(i);\n",
    "                component.setBounds(i * 100, i * 40, 100, 40);\n",
    "            }\n",
    "        }\n",
    "    }\n",
    "    static JFrame getFrame() {\n",
    "        JFrame jFrame = new JFrame() {};\n",
    "        jFrame.setVisible(true);\n",
    "        jFrame.setBounds(750, 250, 500 ,500);\n",
    "        jFrame.setDefaultCloseOperation(JFrame.EXIT_ON_CLOSE);\n",
    "        return jFrame;\n",
    "    }\n",
    "}\n",
    "</pre></details>"
   ]
  },
  {
   "cell_type": "markdown",
   "metadata": {},
   "source": [
    "#### b118 ”рок по Java 116: Swing 21: Focus  "
   ]
  },
  {
   "cell_type": "markdown",
   "metadata": {},
   "source": [
    "\"<details><pre>\n",
    "package swing;\n",
    "import javax.swing.*;\n",
    "/**\n",
    " * Created by husiv on 9/21/16.\n",
    " */\n",
    "public class TraversalOrder {\n",
    "    static JFrame jFrame = getFrame();\n",
    "    static JPanel jPanel = new JPanel();\n",
    "    public static void main(String[] args) throws Exception {\n",
    "        jFrame.add(jPanel);\n",
    "        jPanel.add(new JButton(&quot;submit1&quot;));\n",
    "        jPanel.add(new JButton(&quot;submit2&quot;)).setFocusable(false);\n",
    "        jPanel.add(new JButton(&quot;submit3&quot;)).requestFocusInWindow();\n",
    "    }\n",
    "    static JFrame getFrame() {\n",
    "        JFrame jFrame = new JFrame() {};\n",
    "        jFrame.setVisible(true);\n",
    "        jFrame.setBounds(750, 250, 500 ,500);\n",
    "        jFrame.setDefaultCloseOperation(JFrame.EXIT_ON_CLOSE);\n",
    "        return jFrame;\n",
    "    }\n",
    "}\n",
    "</pre></details>\""
   ]
  },
  {
   "cell_type": "markdown",
   "metadata": {},
   "source": [
    "\n",
    "#### b119 ”рок по Java 117: Swing 22: Dialogs  "
   ]
  },
  {
   "cell_type": "markdown",
   "metadata": {},
   "source": [
    "```\n",
    "JOptionPane.showMessageDialog(jPanel,\"This dialog\",\n",
    "        \"title\",JOptionPane.ERROR_MESSAGE);\n",
    "```"
   ]
  },
  {
   "attachments": {
    "img-2020-01-10-18-57-15.png": {
     "image/png": "[encoded data removed]"
    }
   },
   "cell_type": "markdown",
   "metadata": {},
   "source": [
    "![img-2020-01-10-18-57-15.png](attachment:img-2020-01-10-18-57-15.png)"
   ]
  },
  {
   "cell_type": "markdown",
   "metadata": {},
   "source": [
    "```\n",
    "int s;\n",
    "s = JOptionPane.showConfirmDialog(jPanel,\"some message\");\n",
    "System.out.println(s);\n",
    "```\n",
    "1|2\n",
    "------|------\n",
    "0 | Yes\n",
    "1 | No\n",
    "2 | Cansel \n",
    "-1 | To close \n",
    "\n",
    " "
   ]
  },
  {
   "attachments": {
    "img-2020-01-10-19-02-14.png": {
     "image/png": "[encoded data removed]"
    }
   },
   "cell_type": "markdown",
   "metadata": {},
   "source": [
    "![img-2020-01-10-19-02-14.png](attachment:img-2020-01-10-19-02-14.png)"
   ]
  },
  {
   "cell_type": "markdown",
   "metadata": {},
   "source": []
  },
  {
   "cell_type": "markdown",
   "metadata": {},
   "source": [
    "s = 0, 1, 2, 3\n",
    "```\n",
    "s = JOptionPane.showOptionDialog(jPanel,\"message\",\"title\",\n",
    "        0,0,null,new Object[] {\"one\",\"two\",\"three\",\"four\"},\"two\");\n",
    "```"
   ]
  },
  {
   "attachments": {
    "img-2020-01-10-19-24-24.png": {
     "image/png": "[encoded data removed]"
    }
   },
   "cell_type": "markdown",
   "metadata": {},
   "source": [
    "![img-2020-01-10-19-24-24.png](attachment:img-2020-01-10-19-24-24.png)"
   ]
  },
  {
   "cell_type": "markdown",
   "metadata": {},
   "source": [
    "```\n",
    "s = JOptionPane.showInputDialog(jPanel,\"some message\");\n",
    "//ok -message,   cancel,close - null\n",
    "```"
   ]
  },
  {
   "attachments": {
    "img-2020-01-10-19-31-53.png": {
     "image/png": "[encoded data removed]"
    }
   },
   "cell_type": "markdown",
   "metadata": {},
   "source": [
    "![img-2020-01-10-19-31-53.png](attachment:img-2020-01-10-19-31-53.png)"
   ]
  },
  {
   "cell_type": "markdown",
   "metadata": {},
   "source": [
    "[]()  \n",
    "[]()  \n",
    "[]()  \n",
    "[]()  \n",
    "[The Java™ Tutorials](https://docs.oracle.com/javase/tutorial/2d/images/drawimage.html)  \n",
    "[Уроки по Java](https://www.youtube.com/watch?v=uXMTq81jG7Y&list=PL786bPIlqEjRDXpAKYbzpdTaOYsWyjtCX&index=1)  \n"
   ]
  }
 ],
 "metadata": {
  "kernelspec": {
   "display_name": "Python 3",
   "language": "python",
   "name": "python3"
  },
  "language_info": {
   "codemirror_mode": {
    "name": "ipython",
    "version": 3
   },
   "file_extension": ".py",
   "mimetype": "text/x-python",
   "name": "python",
   "nbconvert_exporter": "python",
   "pygments_lexer": "ipython3",
   "version": "3.7.4"
  }
 },
 "nbformat": 4,
 "nbformat_minor": 2
}
