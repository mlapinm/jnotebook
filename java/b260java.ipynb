{
 "cells": [
  {
   "cell_type": "markdown",
   "metadata": {},
   "source": [
    "[b260 ”рок 250: RegEx 5: границы слов](#b260-”рок-250:-RegEx-5:-границы-слов)  \n",
    "[b261 ”рок 251: RegEx 6: Ќачало и конец строки](#b261-”рок-251:-RegEx-6:-Ќачало-и-конец-строки)  \n",
    "[b262 ”рок 252: RegEx 7: Pipeline](#b262-”рок-252:-RegEx-7:-Pipeline)  \n",
    "[b263 ”рок 253: RegEx 8: Optional Items или знак вопроса](#b263-”рок-253:-RegEx-8:-Optional-Items-или-знак-вопроса)  \n",
    "[b264 ”рок 254: RegExp 9: —имволы звездочка и плюс](#b264-”рок-254:-RegExp-9:-—имволы-звездочка-и-плюс)  \n",
    "[b265 ”рок 255: RegExp 10: √руппы](#b265-”рок-255:-RegExp-10:-√руппы)  \n",
    "[b266 ”рок 256: RegExp 11: »менованные группы](#b266-”рок-256:-RegExp-11:-»менованные-группы)  \n",
    "[b267 ”рок 257: RegExp 12: Unicode](#b267-”рок-257:-RegExp-12:-Unicode)  \n",
    "[b268 ”рок 258: RegExp 13: –ежимы регул¤рных выражений](#b268-”рок-258:-RegExp-13:-–ежимы-регул¤рных-выражений)  \n",
    "[b269 ”рок 259: RegExp 14: Possesive Quantifier](#b269-”рок-259:-RegExp-14:-Possesive-Quantifier)  \n",
    "[b270 ”рок 260: RegExp 15: Atomic Groups](#b270-”рок-260:-RegExp-15:-Atomic-Groups)  \n",
    "[b271 ”рок 261: RegExp 16: LookAround](#b271-”рок-261:-RegExp-16:-LookAround)  \n",
    "[b272 ”рок 262: RegExp 17: ћножественные требовани¤](#b272-”рок-262:-RegExp-17:-ћножественные-требовани¤)  \n",
    "[b273 ”рок 263: RegExp 18: If Then Else](#b273-”рок-263:-RegExp-18:-If-Then-Else)  \n",
    "[b274 ”рок 264: RegExp 19: Posix символы](#b274-”рок-264:-RegExp-19:-Posix-символы)  \n",
    "[b275 ”рок 265: RegExp 20: коментарии](#b275-”рок-265:-RegExp-20:-коментарии)  \n",
    "[b276 ”рок 266: RegExp 21: ѕримеры](#b276-”рок-266:-RegExp-21:-ѕримеры)  \n",
    "[b276 ”рок 266: RegExp 21: ѕримеры](#b276-”рок-266:-RegExp-21:-ѕримеры)  \n",
    "[b277 ”рок 267: RegExp 22: ƒомашнее задание и ответы на ƒ/«](#b277-”рок-267:-RegExp-22:-ƒомашнее-задание-и-ответы-на-ƒ/«)  \n",
    "[b278 ”рок Java 268: Patterns 1: „то такое паттерны](#b278-”рок-Java-268:-Patterns-1:-„то-такое-паттерны)  \n",
    "[b279 ”рок Java 269: Patterns 2: Factory](#b279-”рок-Java-269:-Patterns-2:-Factory)  \n"
   ]
  },
  {
   "cell_type": "markdown",
   "metadata": {},
   "source": [
    "#### b260 ”рок 250: RegEx 5: границы слов  \n",
    "regexp/WordBoundariesLesson.java"
   ]
  },
  {
   "cell_type": "markdown",
   "metadata": {},
   "source": [
    "<html>\n",
    "<table>\n",
    "<tr>\n",
    "    <td>_</td>\n",
    "    <td>Boundary matchers</td>\n",
    "</tr>\n",
    "<tr>\n",
    "    <td>^</td>\n",
    "    <td>The beginning of a line</td>\n",
    "</tr>\n",
    "<tr>\n",
    "    <td>$</td>\n",
    "    <td>The end of a line</td>\n",
    "</tr>\n",
    "<tr>\n",
    "    <td>\\b</td>\n",
    "    <td>A word boundary</td>\n",
    "</tr>\n",
    "<tr>\n",
    "    <td>\\B</td>\n",
    "    <td>A non-word boundary</td>\n",
    "</tr>\n",
    "<tr>\n",
    "    <td>\\A</td>\n",
    "    <td>The beginning of the input</td>\n",
    "</tr>\n",
    "<tr>\n",
    "    <td>\\G</td>\n",
    "    <td>The end of the previous match</td>\n",
    "</tr>\n",
    "<tr>\n",
    "    <td>\\Z</td>\n",
    "    <td>The end of the input but for the final terminator, if any</td>\n",
    "</tr>\n",
    "<tr>\n",
    "    <td>\\z</td>\n",
    "    <td>The end of the input</td>\n",
    "</tr>\n",
    "</table>\n",
    "</html>"
   ]
  },
  {
   "cell_type": "markdown",
   "metadata": {},
   "source": [
    "#### b261 ”рок 251: RegEx 6: Ќачало и конец строки  \n",
    "regexp/StartEndStringAnchorsLesson.java"
   ]
  },
  {
   "cell_type": "markdown",
   "metadata": {},
   "source": [
    "```\n",
    "/**\n",
    " *pattern = ab\n",
    " * string = ab ab ef cd ab\n",
    " * 0:ab, 3:ab, 12:ab,\n",
    " * pattern = ^ab\n",
    " * string = ab ab ef cd ab\n",
    " * 0:ab,\n",
    " * pattern = ab$\n",
    " * string = ab ab ef cd ab\n",
    " * 12:ab,\n",
    " */\n",
    "```"
   ]
  },
  {
   "cell_type": "markdown",
   "metadata": {},
   "source": [
    "#### b262 ”рок 252: RegEx 7: Pipeline  \n",
    "regexp/PipeLesson.java"
   ]
  },
  {
   "cell_type": "markdown",
   "metadata": {},
   "source": [
    "```\n",
    "//pattern = cat|dog\n",
    "//string = I like my dog!\n",
    "//10:dog,\n",
    "//pattern = cat|dog\n",
    "//string = I like my cat!\n",
    "//10:cat,\n",
    "```"
   ]
  },
  {
   "cell_type": "markdown",
   "metadata": {},
   "source": [
    "#### b263 ”рок 253: RegEx 8: Optional Items или знак вопроса  \n",
    "regexp/OptionalItemsLesson.java"
   ]
  },
  {
   "cell_type": "markdown",
   "metadata": {},
   "source": [
    "```\n",
    "//pattern = colou?r\n",
    "//string = color colour\n",
    "//0:color, 6:colour,\n",
    "//pattern = Nov(ember)?\n",
    "//string = November Nov\n",
    "//0:November, 9:Nov,\n",
    "//pattern = Nov(ember|emb)?\n",
    "//string = November Nov Novemb\n",
    "//0:November, 9:Nov, 13:Novemb,\n",
    "```"
   ]
  },
  {
   "cell_type": "markdown",
   "metadata": {},
   "source": [
    "#### b264 ”рок 254: RegExp 9: —имволы звездочка и плюс  \n"
   ]
  },
  {
   "cell_type": "markdown",
   "metadata": {},
   "source": [
    "```\n",
    "//pattern = <.*?>\n",
    "//string = This is<> a <EM>first</EM> test\n",
    "//7:<>, 12:<EM>, 21:</EM>\n",
    "//pattern = <.+?>\n",
    "//string = This is<> a <EM>first</EM> test\n",
    "//7:<> a <EM>, 21:</EM>,\n",
    "```"
   ]
  },
  {
   "cell_type": "markdown",
   "metadata": {},
   "source": [
    "#### b265 ”рок 255: RegExp 10: √руппы  \n",
    "regexp/RoundBracketsGroupingLesson.java"
   ]
  },
  {
   "cell_type": "markdown",
   "metadata": {},
   "source": [
    "```\n",
    "//pattern = <([A-Z][A-Z0-9]*)[^>]*>.*?</\\1>\n",
    "//string = This is a <EM>first</EM> test\n",
    "//10:<EM>first</EM>,\n",
    "```"
   ]
  },
  {
   "cell_type": "markdown",
   "metadata": {},
   "source": [
    "#### b266 ”рок 256: RegExp 11: »менованные группы  \n",
    "regexp/NamedCapturingGroup.java"
   ]
  },
  {
   "cell_type": "markdown",
   "metadata": {},
   "source": [
    "- (?<name>X) для определения имени именованной группы \"\n",
    "- \\k<name> для обратной ссылки названная группа\" name \""
   ]
  },
  {
   "cell_type": "markdown",
   "metadata": {},
   "source": [
    "```\n",
    "//abcd\n",
    "//dcba\n",
    "//adcb\n",
    "System.out.println(\"abcd\");\n",
    "System.out.println(\"abcd\".replaceAll(\"(a)(?<x>b)(c)(?<y>d)\", \"$4$3$2$1\"));\n",
    "System.out.println(\"abcd\".replaceAll(\"(a)(?<x>b)(c)(?<y>d)\", \"$1${y}$3${x}\"));\n",
    "```"
   ]
  },
  {
   "cell_type": "markdown",
   "metadata": {},
   "source": []
  },
  {
   "cell_type": "markdown",
   "metadata": {},
   "source": []
  },
  {
   "cell_type": "markdown",
   "metadata": {},
   "source": [
    "#### b267 ”рок 257: RegExp 12: Unicode  \n",
    "regexp/UnicodeRegExp.java"
   ]
  },
  {
   "cell_type": "markdown",
   "metadata": {},
   "source": []
  },
  {
   "cell_type": "markdown",
   "metadata": {},
   "source": [
    "#### b268 ”рок 258: RegExp 13: –ежимы регул¤рных выражений  \n",
    "regexp/MatchingModeLesson.java"
   ]
  },
  {
   "cell_type": "markdown",
   "metadata": {},
   "source": [
    "java.util.regex.Pattern.COMMENTS — разрешает пробелы и комментарии. В этом режиме пробелы игнорируются, а вложенные комментарии, начинающиеся с символа «#», игнорируются до конца строки. Этот режим может быть также включён внедрением флага (?x)  в регулярное выражение."
   ]
  },
  {
   "cell_type": "markdown",
   "metadata": {},
   "source": [
    "```\n",
    "//0:A,\n",
    "Pattern p = Pattern.compile(\"A#this is commet\", Pattern.COMMENTS);\n",
    "Matcher m = p.matcher(\"A\");\n",
    "```"
   ]
  },
  {
   "cell_type": "markdown",
   "metadata": {},
   "source": [
    "#### b269 ”рок 259: RegExp 14: Possesive Quantifier  \n",
    "regexp/PossessiveQuantifiersLesson.java"
   ]
  },
  {
   "cell_type": "markdown",
   "metadata": {},
   "source": []
  },
  {
   "cell_type": "markdown",
   "metadata": {},
   "source": [
    "#### b270 ”рок 260: RegExp 15: Atomic Groups  \n",
    "regexp/AtomicGroupLesson.java"
   ]
  },
  {
   "cell_type": "markdown",
   "metadata": {},
   "source": [
    "```\n",
    "pattern = (?>bd|b)c\n",
    "string = abdc abddc abbc\n",
    "1:bdc, 13:bc, \n",
    "```\n",
    "?> - означает группу  \n",
    "Нашел bd ищу с  \n",
    "Нашел b ищу с  "
   ]
  },
  {
   "cell_type": "markdown",
   "metadata": {},
   "source": [
    "```\n",
    "System.out.println(\"abcc\".matches(\"a(bc|b)c\"));\n",
    "//true\n",
    "System.out.println(\"abc\".matches(\"a(bc|b)c\"));\n",
    "//true\n",
    "System.out.println(\"abcc\".matches(\"a(?>bc|b)c\"));\n",
    "//true\n",
    "System.out.println(\"abc\".matches(\"a(?>bc|b)c\"));\n",
    "//false\n",
    "System.out.println(\"integer\".matches(\"\\\\b(integer|insert|in)\\\\b\"));\n",
    "//true\n",
    "System.out.println(\"integers\".matches(\"\\\\b(?>integer|insert|in)\\\\b\"));\n",
    "//false\n",
    "```"
   ]
  },
  {
   "cell_type": "markdown",
   "metadata": {},
   "source": [
    "#### b271 ”рок 261: RegExp 16: LookAround  \n",
    "regexp/LookaroundLesson.java"
   ]
  },
  {
   "cell_type": "markdown",
   "metadata": {},
   "source": [
    "```\n",
    "//lookahead\n",
    "//если впереди u то q найдется\n",
    "//pattern = q(?=u)\n",
    "//string = qu qa\n",
    "//0:q,\n",
    "//lookahead\n",
    "//если впереди  не u то q найдется\n",
    "//pattern = q(?!u)\n",
    "//string = qu qa\n",
    "//3:q,\n",
    "//lookbehind\n",
    "//pattern = (?<=u)q\n",
    "//string = uq aq\n",
    "//1:q,\n",
    "//pattern = (?<!u)q\n",
    "//string = uq aq\n",
    "//4:q,\n",
    "```"
   ]
  },
  {
   "cell_type": "markdown",
   "metadata": {},
   "source": [
    "```\n",
    "//pattern = (?<!a)b\n",
    "//string = cb ab\n",
    "//1:b,\n",
    "//pattern = \\b\\w*[^s\\W]\\b\n",
    "//string = John's\n",
    "//0:John,\n",
    "//pattern = q(?!u)\n",
    "//string = quqa\n",
    "//2:q, \n",
    "```"
   ]
  },
  {
   "cell_type": "markdown",
   "metadata": {},
   "source": [
    "#### b272 ”рок 262: RegExp 17: ћножественные требовани¤  \n",
    "regexp/TestMultipleRequirementsLesson.java"
   ]
  },
  {
   "cell_type": "markdown",
   "metadata": {},
   "source": [
    "word 6 letters and have cat  \n",
    "```\n",
    "//ищем слово 6 букв\n",
    "//и в нем же проверяем наличие cat\n",
    "//pattern = (?=\\b\\w{6}\\b)\\w*cat\\w*\n",
    "//string = wecate\n",
    "//0:wecate, \n",
    "```"
   ]
  },
  {
   "cell_type": "markdown",
   "metadata": {},
   "source": []
  },
  {
   "cell_type": "markdown",
   "metadata": {},
   "source": [
    "#### b273 ”рок 263: RegExp 18: If Then Else  \n",
    "regexp/IfThenElseLesson.java  \n",
    "jregex - внешний пакет  \n",
    "[jregex](http://jregex.sourceforge.net/)  "
   ]
  },
  {
   "cell_type": "markdown",
   "metadata": {},
   "source": [
    "Download library from maven repository  \n",
    "net.sourceforge.jregex:jregex:1.2_01"
   ]
  },
  {
   "cell_type": "markdown",
   "metadata": {},
   "source": [
    "```\n",
    "//(?(?=regex)then|else)\n",
    "//a-первая группа, не найдена перед b\n",
    "//значит ищется d\n",
    "//pattern = (a)?b(?(1)c|d)\n",
    "//string = bd abc abd\n",
    "//0:bd, 3:abc, 8:bd, \n",
    "```"
   ]
  },
  {
   "cell_type": "markdown",
   "metadata": {},
   "source": [
    "#### b274 ”рок 264: RegExp 19: Posix символы  \n",
    "regexp/PosixCharacterClassesLesson.java  \n",
    "[POSIX character classes (US-ASCII only)](https://docs.oracle.com/javase/7/docs/api/java/util/regex/Pattern.html)  "
   ]
  },
  {
   "cell_type": "markdown",
   "metadata": {},
   "source": [
    "<html>\n",
    "<table>\n",
    "<tr>\n",
    "    <td>_</td>\n",
    "    <td>POSIX character classes (US-ASCII only)</td>\n",
    "</tr>\n",
    "<tr>\n",
    "    <td>\\p{Lower}</td>\n",
    "    <td>A lower-case alphabetic character: [a-z]</td>\n",
    "</tr>\n",
    "<tr>\n",
    "    <td>\\p{Upper}</td>\n",
    "    <td>An upper-case alphabetic character:[A-Z]</td>\n",
    "</tr>\n",
    "<tr>\n",
    "    <td>\\p{ASCII}</td>\n",
    "    <td>All ASCII:[\\x00-\\x7F]</td>\n",
    "</tr>\n",
    "<tr>\n",
    "    <td>\\p{Alpha}</td>\n",
    "    <td>An alphabetic character:[\\p{Lower}\\p{Upper}]</td>\n",
    "</tr>\n",
    "<tr>\n",
    "    <td>\\p{Digit}</td>\n",
    "    <td>A decimal digit: [0-9]</td>\n",
    "</tr>\n",
    "<tr>\n",
    "    <td>\\p{Alnum}</td>\n",
    "    <td>An alphanumeric character:[\\p{Alpha}\\p{Digit}]</td>\n",
    "</tr>\n",
    "<tr>\n",
    "    <td>\\p{Punct}</td>\n",
    "    <td>Punctuation: One of !&quot;#$%&'()*+,-./:;&lt;=&gt;?@[\\]^_`{|}~</td>\n",
    "</tr>\n",
    "<tr>\n",
    "    <td>\\p{Graph}</td>\n",
    "    <td>A visible character: [\\p{Alnum}\\p{Punct}]</td>\n",
    "</tr>\n",
    "<tr>\n",
    "    <td>\\p{Print}</td>\n",
    "    <td>A printable character: [\\p{Graph}\\x20]</td>\n",
    "</tr>\n",
    "<tr>\n",
    "    <td>\\p{Blank}</td>\n",
    "    <td>A space or a tab: [ \\t]</td>\n",
    "</tr>\n",
    "<tr>\n",
    "    <td>\\p{Cntrl}</td>\n",
    "    <td>A control character: [\\x00-\\x1F\\x7F]</td>\n",
    "</tr>\n",
    "<tr>\n",
    "    <td>\\p{XDigit}</td>\n",
    "    <td>A hexadecimal digit: [0-9a-fA-F]</td>\n",
    "</tr>\n",
    "<tr>\n",
    "    <td>\\p{Space}</td>\n",
    "    <td>A whitespace character: [ \\t\\n\\x0B\\f\\r]</td>\n",
    "</tr>\n",
    "</table>\n",
    "</html>"
   ]
  },
  {
   "cell_type": "markdown",
   "metadata": {},
   "source": [
    "```\n",
    "//pattern = [\\p{Digit}]\n",
    "//string = 5 a\n",
    "//0:5,\n",
    "```"
   ]
  },
  {
   "cell_type": "markdown",
   "metadata": {},
   "source": [
    "#### b275 ”рок 265: RegExp 20: коментарии  \n",
    "regexp/CommentsAndFreeSpacingLesson.java"
   ]
  },
  {
   "cell_type": "markdown",
   "metadata": {},
   "source": []
  },
  {
   "cell_type": "markdown",
   "metadata": {},
   "source": [
    "#### b276 ”рок 266: RegExp 21: ѕримеры  \n"
   ]
  },
  {
   "cell_type": "markdown",
   "metadata": {},
   "source": []
  },
  {
   "cell_type": "markdown",
   "metadata": {},
   "source": [
    "#### b277 ”рок 267: RegExp 22: ƒомашнее задание и ответы на ƒ/«  \n"
   ]
  },
  {
   "cell_type": "markdown",
   "metadata": {},
   "source": []
  },
  {
   "cell_type": "markdown",
   "metadata": {},
   "source": [
    "#### b278 ”рок Java 268: Patterns 1: „то такое паттерны  \n"
   ]
  },
  {
   "cell_type": "markdown",
   "metadata": {},
   "source": []
  },
  {
   "cell_type": "markdown",
   "metadata": {},
   "source": []
  },
  {
   "cell_type": "markdown",
   "metadata": {},
   "source": [
    "#### b279 ”рок Java 269: Patterns 2: Factory  "
   ]
  },
  {
   "cell_type": "markdown",
   "metadata": {},
   "source": []
  },
  {
   "cell_type": "markdown",
   "metadata": {},
   "source": [
    "<details><pre>\n",
    "//patterns.creational.FactoryLesson;\n",
    "//drive Toyota\n",
    "//drive Audi\n",
    "public class Main {\n",
    "    public static void main(String[] args) {\n",
    "        Factory factory = new Factory();\n",
    "        Car toyota = factory.create(&quot;Toyota&quot;);\n",
    "        Car audi = factory.create(&quot;Audi&quot;);\n",
    "        toyota.drive();\n",
    "        audi.drive();\n",
    "    }\n",
    "}\n",
    "interface Car {\n",
    "    void drive();\n",
    "}\n",
    "class Toyota implements Car {\n",
    "    @Override\n",
    "    public void drive() {\n",
    "        System.out.println(&quot;drive Toyota&quot;);\n",
    "    }\n",
    "}\n",
    "class Audi implements Car {\n",
    "    @Override\n",
    "    public void drive() {\n",
    "        System.out.println(&quot;drive Audi&quot;);\n",
    "    }\n",
    "}\n",
    "class Factory {\n",
    "    public Car create(String typeOfCar) {\n",
    "        switch (typeOfCar) {\n",
    "            case &quot;Toyota&quot; : return new Toyota();\n",
    "            case &quot;Audi&quot;: return new Audi();\n",
    "            default: return null;\n",
    "        }\n",
    "    }\n",
    "}\n",
    "</pre></details>"
   ]
  },
  {
   "cell_type": "markdown",
   "metadata": {},
   "source": [
    "[]()  \n",
    "[]()  \n",
    "[]()  \n",
    "[]()  \n",
    "[Уроки по Java](https://www.youtube.com/watch?v=4okF9jx42xc&list=PL786bPIlqEjRDXpAKYbzpdTaOYsWyjtCX&index=260) "
   ]
  }
 ],
 "metadata": {
  "kernelspec": {
   "display_name": "Python 3",
   "language": "python",
   "name": "python3"
  },
  "language_info": {
   "codemirror_mode": {
    "name": "ipython",
    "version": 3
   },
   "file_extension": ".py",
   "mimetype": "text/x-python",
   "name": "python",
   "nbconvert_exporter": "python",
   "pygments_lexer": "ipython3",
   "version": "3.7.4"
  }
 },
 "nbformat": 4,
 "nbformat_minor": 2
}
