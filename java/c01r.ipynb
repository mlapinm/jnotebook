{
 "cells": [
  {
   "cell_type": "markdown",
   "metadata": {},
   "source": [
    "Потом мы сможем поесть."
   ]
  },
  {
   "cell_type": "markdown",
   "metadata": {},
   "source": [
    "Я не собираюсь есть\n",
    "в 10:00 вечера."
   ]
  },
  {
   "cell_type": "markdown",
   "metadata": {},
   "source": [
    "Кто я такой, Хемингуэй?"
   ]
  },
  {
   "cell_type": "markdown",
   "metadata": {},
   "source": [
    "Почему ты так думаешь\n",
    "Хемингуэй ел в 10: 00?"
   ]
  },
  {
   "cell_type": "markdown",
   "metadata": {},
   "source": [
    "Он провел много времени в\n",
    "Испания. Они ужинают поздно."
   ]
  },
  {
   "cell_type": "markdown",
   "metadata": {},
   "source": [
    "Он же и потратил\n",
    "много времени проводит во Флориде."
   ]
  },
  {
   "cell_type": "markdown",
   "metadata": {},
   "source": [
    "В прошлый раз я там был,\n",
    "люди уже обедали\n",
    "примерно в 4: 30."
   ]
  },
  {
   "cell_type": "markdown",
   "metadata": {},
   "source": [
    "Вы, ребята, знаете, что у Хемингуэя было\n",
    "кошки с шестью пальцами?"
   ]
  },
  {
   "cell_type": "markdown",
   "metadata": {},
   "source": [
    "Шесть пальцев на ноге\n",
    "или всего шесть пальцев на ногах?"
   ]
  },
  {
   "cell_type": "markdown",
   "metadata": {},
   "source": [
    "Это официально. Мы никогда не будем вместе иду смотреть на Мстителей."
   ]
  },
  {
   "cell_type": "markdown",
   "metadata": {},
   "source": [
    "Ребята, просто идите сюда.\n",
    "Принять решение."
   ]
  },
  {
   "cell_type": "markdown",
   "metadata": {},
   "source": [
    "Я ... я хорошо справляюсь\n",
    "еда после этого"
   ]
  },
  {
   "cell_type": "markdown",
   "metadata": {},
   "source": []
  },
  {
   "cell_type": "markdown",
   "metadata": {},
   "source": []
  }
 ],
 "metadata": {
  "kernelspec": {
   "display_name": "Python 3",
   "language": "python",
   "name": "python3"
  },
  "language_info": {
   "codemirror_mode": {
    "name": "ipython",
    "version": 3
   },
   "file_extension": ".py",
   "mimetype": "text/x-python",
   "name": "python",
   "nbconvert_exporter": "python",
   "pygments_lexer": "ipython3",
   "version": "3.7.8"
  }
 },
 "nbformat": 4,
 "nbformat_minor": 2
}
