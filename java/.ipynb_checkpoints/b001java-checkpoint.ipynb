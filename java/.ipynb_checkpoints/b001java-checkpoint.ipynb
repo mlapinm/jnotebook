{
 "cells": [
  {
   "cell_type": "markdown",
   "metadata": {},
   "source": [
    "[Уроки по Java](https://www.youtube.com/watch?v=uXMTq81jG7Y&list=PL786bPIlqEjRDXpAKYbzpdTaOYsWyjtCX&index=1)  \n",
    "[b01 ”рок по Java 1: ”становка Java Development Kit(JDK), компил¤ци¤ и запуск первой программы.](#b01-”рок-по-Java-1:-”становка-Java-Development-Kit(JDK),-компил¤ци¤-и-запуск-первой-программы.)  \n",
    "[b02 ”рок Java 2: ”становка и запуск первой программы в Eclipse](#b02-”рок-Java-2:-”становка-и-запуск-первой-программы-в-Eclipse)  \n",
    "[b03 ”рок по Java 3: ”становка и запуск первой программы под Intellij Idea](#b03-”рок-по-Java-3:-”становка-и-запуск-первой-программы-под-Intellij-Idea)  \n",
    "[b04 ”рок по Java 4: ќќѕ - ќбъектно ориентированное программирование и разбор программы Hello World.](#b04-”рок-по-Java-4:-ќќѕ---ќбъектно-ориентированное-программирование-и-разбор-программы-Hello-World.)  \n",
    "[b05 ”рок по Java 5: как можно запустить программу без использовани¤ метода main. ”дивите своих друзей.](#b05-”рок-по-Java-5:-как-можно-запустить-программу-без-использовани¤-метода-main.-”дивите-своих-друзей.)  \n",
    "[b06 ”рок по Java 6: “ипы данных.](#b06-”рок-по-Java-6:-“ипы-данных.)  \n",
    "[b07 ”рок по Java 7: зачем нужны типы данных и где мы их можем использовать.](#b07-”рок-по-Java-7:-зачем-нужны-типы-данных-и-где-мы-их-можем-использовать.)  \n",
    "[b08 ”рок по Java 8:  омментарии](#b08-”рок-по-Java-8:-комментарии)  \n",
    "[b09 ”рок по Java 9: ѕакеты и импорты(Packages and Import)](#b09-”рок-по-Java-9:-ѕакеты-и-импорты(Packages-and-Import))  \n",
    "[b10 ”рок по Java 10: Ќаследование.](#b10-”рок-по-Java-10:-Ќаследование.)  \n",
    "[b11 ”рок по Java 11: ѕолиморфизм](#b11-”рок-по-Java-11:-ѕолиморфизм)  \n",
    "[b12 ”рок по Java 12: »нкапсул¤ци¤](#b12-”рок-по-Java-12:-»нкапсул¤ци¤)  \n",
    "[b13 ”рок Java 13: идентификаторы](#b13-”рок-Java-13:-идентификаторы)  \n",
    "[b14 ”рок по Java 14:  лассы абстрактные и финальные.](#b14-”рок-по-Java-14:-классы-абстрактные-и-финальные.)  \n",
    "[b15 ”рок по Java 15: интерфейсы](#b15-”рок-по-Java-15:-интерфейсы)  \n",
    "[b16 ”рок по Java 16: ћодификаторы доступа](#b16-”рок-по-Java-16:-ћодификаторы-доступа)  \n",
    "[b17 ”рок по Java 17: ѕеременные](#b17-”рок-по-Java-17:-ѕеременные)  \n",
    "[b18 ”рок по Java 18: ћетоды](#b18-”рок-по-Java-18:-ћетоды)  \n",
    "[b19 ”рок по Java 19:  онструкторы](#b19-”рок-по-Java-19:- онструкторы)  "
   ]
  },
  {
   "cell_type": "markdown",
   "metadata": {},
   "source": [
    "[b20 ”рок по Java 20: ћассивы - определение](#b20-”рок-по-Java-20:-ћассивы---определение)  \n",
    "[b21 ”рок по Java 21: Enums - перечеслени¤](#b21-”рок-по-Java-21:-Enums---перечеслени¤)  \n",
    "[b22 ”рок Java 22: Overloading - перегрузка методов](#b22-”рок-Java-22:-Overloading---перегрузка-методов)  \n",
    "[b23 ”рок Java 23: Constructors 2 - конструкторы урок 2](#b23-”рок-Java-23:-Constructors-2---конструкторы-урок-2)  \n",
    "[b24 ”роки по Java 24: Overriding - переопределение методов](#b24-”роки-по-Java-24:-Overriding---переопределение-методов)  \n",
    "[b25 ”рок Java 25:  лючевое слово static и инициализаци¤ классов](#b25-”рок-Java-25:- лючевое-слово-static-и-инициализаци¤-классов)  \n",
    "[b26 ”рок Java 26: Ѕлоки инициализации](#b26-”рок-Java-26:-Ѕлоки-инициализации)  \n",
    "[b27 ”рок по Java 27: инициализаци¤ массивов](#b27-”рок-по-Java-27:-инициализаци¤-массивов)  \n",
    "[b28 ”рок по Java 28: ќбертки](#b28-”рок-по-Java-28:-ќбертки)  \n",
    "[b29 ”рок по Java 29: перегрузка методов 2](#b29-”рок-по-Java-29:-перегрузка-методов-2)  \n",
    "[b30 ”рок по Java 30: ”становка JDK 8 на Linux Mint](#b30-”рок-по-Java-30:-”становка-JDK-8-на-Linux-Mint)  \n",
    "[b31 ”рок по Java 31: ”становка eclipse под Linux mint](#b31-”рок-по-Java-31:-”становка-eclipse-под-Linux-mint)  \n",
    "[b32 ”рок по Java 32: установка и запуск первой программы под intellij idea под linux mint](#b32-”рок-по-Java-32:-установка-и-запуск-первой-программы-под-intellij-idea-под-linux-mint)  \n",
    "[b33 ”рок по Java 33: ”становка Oracle JDK на Linux mint 18 через ppa](#b33-”рок-по-Java-33:-”становка-Oracle-JDK-на-Linux-mint-18-через-ppa)  \n",
    "[b34 ”рок по Java 34: Garbage Collector](#b34-”рок-по-Java-34:-Garbage-Collector)  \n",
    "[b35 ”рок по Java 35: операторы Java](#b35-”рок-по-Java-35:-операторы-Java)  \n",
    "[b36 ”рок по Java 36: метод main и передаваемые в него параметры](#b36-”рок-по-Java-36:-метод-main-и-передаваемые-в-него-параметры)  \n",
    "[b37 ”рок по Java 37: ќператор ветвлени¤ if и else](#b37-”рок-по-Java-37:-ќператор-ветвлени¤-if-и-else)  \n",
    "[b38 ”рок по Java 38: ћало кто знает как устроен оператор ветвлени¤ switch](#b38-”рок-по-Java-38:-ћало-кто-знает-как-устроен-оператор-ветвлени¤-switch)  \n",
    "[b39 ”рок по Java 39: ÷иклы while и do while](#b39-”рок-по-Java-39:-÷иклы-while-и-do-while)  "
   ]
  },
  {
   "cell_type": "markdown",
   "metadata": {},
   "source": [
    "#### b01 ”рок по Java 1: ”становка Java Development Kit(JDK), компил¤ци¤ и запуск первой программы. "
   ]
  },
  {
   "cell_type": "markdown",
   "metadata": {},
   "source": [
    "```\n",
    "oracle.com\n",
    "javac helloworld.java\n",
    "java helloworld\n",
    "Hello World!\n",
    "```"
   ]
  },
  {
   "cell_type": "markdown",
   "metadata": {},
   "source": [
    "#### b02 ”рок Java 2: ”становка и запуск первой программы в Eclipse  \n",
    "[https://www.eclipse.org/](https://www.eclipse.org/)  \n"
   ]
  },
  {
   "cell_type": "markdown",
   "metadata": {},
   "source": [
    "#### b03 ”рок по Java 3: ”становка и запуск первой программы под Intellij Idea  "
   ]
  },
  {
   "cell_type": "markdown",
   "metadata": {},
   "source": [
    "Maven + "
   ]
  },
  {
   "cell_type": "markdown",
   "metadata": {},
   "source": [
    "#### b04 ”рок по Java 4: ќќѕ - ќбъектно ориентированное программирование и разбор программы Hello World.  "
   ]
  },
  {
   "cell_type": "markdown",
   "metadata": {},
   "source": [
    "объект человек покупает хлеб  \n",
    "объект самолет летает  \n",
    "параметры - состояние, методы - действия  "
   ]
  },
  {
   "cell_type": "markdown",
   "metadata": {},
   "source": [
    "#### b05 ”рок по Java 5: как можно запустить программу без использовани¤ метода main. ”дивите своих друзей.  "
   ]
  },
  {
   "cell_type": "markdown",
   "metadata": {},
   "source": [
    "```\n",
    "    static {\n",
    "        System.out.println(\"Hello.\");\n",
    "        System.exit(0);\n",
    "    }\n",
    "```\n",
    "не работает"
   ]
  },
  {
   "cell_type": "markdown",
   "metadata": {},
   "source": [
    "#### b06 ”рок по Java 6: “ипы данных.  "
   ]
  },
  {
   "cell_type": "markdown",
   "metadata": {},
   "source": [
    "a,$,_ - начинается название переменной"
   ]
  },
  {
   "cell_type": "markdown",
   "metadata": {},
   "source": [
    "#### b07 ”рок по Java 7: зачем нужны типы данных и где мы их можем использовать.  "
   ]
  },
  {
   "cell_type": "markdown",
   "metadata": {},
   "source": [
    "параметры и возвращаемые значения\n",
    "```\n",
    "public class Main {\n",
    "\n",
    "    static int getAge(Human human){\n",
    "        return human.age;\n",
    "    }\n",
    "\n",
    "    public static void main(String[] args) {\n",
    "\n",
    "        Human human1 = new Human();\n",
    "        Human human2 = new Human();\n",
    "        human1.age = 20;\n",
    "        human2.age = 21;\n",
    "        System.out.println(\"\"+getAge(human1)\n",
    "                +\" \"+getAge(human2));\n",
    "        //20 21\n",
    "    }\n",
    "\n",
    "}\n",
    "```"
   ]
  },
  {
   "cell_type": "markdown",
   "metadata": {},
   "source": [
    "ссылочные типы хранятся в памяти в heap-е  \n",
    "примитивные в стеке  "
   ]
  },
  {
   "cell_type": "markdown",
   "metadata": {},
   "source": [
    "#### b08 ”рок по Java 8: комментарии  "
   ]
  },
  {
   "cell_type": "markdown",
   "metadata": {},
   "source": []
  },
  {
   "cell_type": "markdown",
   "metadata": {},
   "source": [
    "#### b09 ”рок по Java 9: ѕакеты и импорты(Packages and Import)\n",
    "//import com.company.l04.Human;  \n",
    "//import com.company.l04.*;  \n",
    "com.company.l04.Human human = new com.company.l04.Human();  \n",
    "В одном файле один публичный класс.  \n",
    "Имя файла совпадает с классом.  \n",
    "Вывод. Как использовать чужие пакеты.    "
   ]
  },
  {
   "cell_type": "markdown",
   "metadata": {},
   "source": [
    "#### b10 ”рок по Java 10: Ќаследование.  "
   ]
  },
  {
   "cell_type": "markdown",
   "metadata": {},
   "source": [
    "public class Toyota extends Car{}"
   ]
  },
  {
   "cell_type": "markdown",
   "metadata": {},
   "source": [
    "#### b11 ”рок по Java 11: ѕолиморфизм  "
   ]
  },
  {
   "cell_type": "markdown",
   "metadata": {},
   "source": [
    "```\n",
    " Car car1 = new Toyota();\n",
    " Car car2 = new Car();\n",
    " System.out.print(car1.mGetOfSeets()+\" \");\n",
    " System.out.println(car2.mGetOfSeets());\n",
    "```\n",
    "//2 4"
   ]
  },
  {
   "cell_type": "markdown",
   "metadata": {},
   "source": [
    "#### b12 ”рок по Java 12: »нкапсул¤ци¤  \n",
    "все поля private  \n",
    "все константы публичные  \n",
    "защита от других, фиксить баги  "
   ]
  },
  {
   "cell_type": "markdown",
   "metadata": {},
   "source": [
    "#### b13 ”рок Java 13: идентификаторы  \n",
    "[Java Code Conventions](https://www.oracle.com/technetwork/java/codeconventions-150003.pdf)  \n",
    "canelCase  \n",
    "mMyMethod  \n",
    "Main  \n",
    "интерфейс - прилагательное\n",
    "Java Bean - объект, не наследуемый\n",
    "getter, setter  \n",
    "myName, getMyName, setMyName  \n"
   ]
  },
  {
   "cell_type": "markdown",
   "metadata": {},
   "source": []
  },
  {
   "cell_type": "markdown",
   "metadata": {},
   "source": [
    "#### b14 ”рок по Java 14: классы абстрактные и финальные.  \n",
    "class  \n",
    "1. public\n",
    "1. default(empty string)"
   ]
  },
  {
   "cell_type": "markdown",
   "metadata": {},
   "source": [
    "abstract final strictfp class  \n",
    "strictfp - 0.112 и 0.113 Если эти числа сравнивать с точность до сотых, то они будут одинаковы  \n",
    "в abstract class можно extend другой класс  \n",
    "final class - нельзя наследовать (String - чтобы нельза было переопределять)  \n"
   ]
  },
  {
   "cell_type": "markdown",
   "metadata": {},
   "source": [
    "#### b15 ”рок по Java 15: интерфейсы  \n",
    "для описания поведения  \n",
    "play() - гитара и пианино."
   ]
  },
  {
   "cell_type": "markdown",
   "metadata": {},
   "source": [
    "```\n",
    "public interface Swimmable {\n",
    "    public void swim();\n",
    "}\n",
    "public class Duke implements Swimmable {\n",
    "    @Override\n",
    "    public void swim() {\n",
    "        System.out.println(\"Swim\");\n",
    "    }\n",
    "}\n",
    "    public static void main(String[] args) {\n",
    "        Duke duke = new Duke();\n",
    "        duke.swim();\n",
    "     }\n",
    "```"
   ]
  },
  {
   "cell_type": "markdown",
   "metadata": {},
   "source": [
    "#### b16 ”рок по Java 16: ћодификаторы доступа  "
   ]
  },
  {
   "cell_type": "markdown",
   "metadata": {},
   "source": []
  },
  {
   "cell_type": "markdown",
   "metadata": {},
   "source": [
    "#### b17 ”рок по Java 17: ѕеременные  "
   ]
  },
  {
   "cell_type": "markdown",
   "metadata": {},
   "source": [
    "final static int maxSpeed;  \n",
    "volatile - не кэшируется, многопоточность   \n",
    "transient - данное поле не участвует в сериализации  \n",
    "static - глобальная   \n",
    "final - константа, может инициализироваться в конструкторе \n",
    "  \n",
    "поля по умолчанию 0, boolean false, null  \n",
    "локальные переменные и поля  \n",
    "perm, stek, heap - ram\n",
    "heap - общая"
   ]
  },
  {
   "cell_type": "markdown",
   "metadata": {},
   "source": [
    "```\n",
    "final int maxSpeed;\n",
    "Car(int maxSpeed_){\n",
    "    maxSpeed=maxSpeed_;\n",
    "}\n",
    "```"
   ]
  },
  {
   "cell_type": "markdown",
   "metadata": {},
   "source": [
    "#### b18 ”рок по Java 18: ћетоды"
   ]
  },
  {
   "cell_type": "markdown",
   "metadata": {},
   "source": [
    "`abstract` - в abstract классе `static` - один на все инстансы,  `final` - не переопределяется,чьти  `strictfp` - точность до 2 после запятой,  `native` - реализован не на java, `synchronized` - в один момент времени выполняет один поток    "
   ]
  },
  {
   "cell_type": "markdown",
   "metadata": {},
   "source": [
    "```\n",
    "static void method(String st, int... j){\n",
    "    System.out.print(st+\", \");\n",
    "    for(int i:j){\n",
    "        System.out.print(i+\",\");\n",
    "    }\n",
    "}\n",
    " public static void main(String[] args) {\n",
    "     method(\"aaa\",1,3,8,2,5);\n",
    "     //aaa, 1,3,8,2,5,\n",
    "```"
   ]
  },
  {
   "cell_type": "markdown",
   "metadata": {},
   "source": [
    "```\n",
    "```"
   ]
  },
  {
   "cell_type": "markdown",
   "metadata": {},
   "source": [
    "```\n",
    "```"
   ]
  },
  {
   "cell_type": "markdown",
   "metadata": {},
   "source": [
    "```\n",
    "```"
   ]
  },
  {
   "cell_type": "markdown",
   "metadata": {},
   "source": [
    "#### b19 ”рок по Java 19:  онструкторы  \n"
   ]
  },
  {
   "cell_type": "markdown",
   "metadata": {},
   "source": [
    "Конструктор\n",
    "- вызывается при new\n",
    "- служит для задания параметров\n",
    "- можно вызвать как метод"
   ]
  },
  {
   "cell_type": "markdown",
   "metadata": {},
   "source": [
    "#### b20 ”рок по Java 20: ћассивы - определение  "
   ]
  },
  {
   "cell_type": "markdown",
   "metadata": {},
   "source": [
    "```\n",
    "    int[] arr = {1,3,5};\n",
    "    void mMethod(){\n",
    "        int k=0;\n",
    "        for(int i: this.arr){\n",
    "            if(k++!=0)\n",
    "                System.out.print(\",\");\n",
    "            System.out.print(i);\n",
    "        }//1,3,5\n",
    "```"
   ]
  },
  {
   "cell_type": "markdown",
   "metadata": {},
   "source": [
    "##### shufle\n",
    "```\n",
    "int[] shufle(int[] ms){\n",
    "    Random random = new Random();\n",
    "    int size = ms.length;\n",
    "    for(int i=0;i<size;i++){\n",
    "        int to = random.nextInt(size);\n",
    "        int a1 = ms[i];\n",
    "        ms[i]=ms[to];\n",
    "        ms[to]=a1;\n",
    "    }\n",
    "    return ms;\n",
    "}//3,1,5,9,2,0,6,8,4,7\n",
    "```"
   ]
  },
  {
   "cell_type": "markdown",
   "metadata": {},
   "source": [
    "#### b21 ”рок по Java 21: Enums - перечеслени¤  "
   ]
  },
  {
   "cell_type": "markdown",
   "metadata": {},
   "source": [
    "```\n",
    "public class Main {\n",
    "    enum CoffeSize{SMALL,MEDIUM,BIG}\n",
    "    public static void main(String[] args) {\n",
    "        CoffeSize coffeSize=CoffeSize.SMALL;\n",
    "        System.out.println(coffeSize);\n",
    "    }//SMALL\n",
    "}\n",
    "```"
   ]
  },
  {
   "cell_type": "markdown",
   "metadata": {},
   "source": [
    "```\n",
    "enum SizeCoffe {SMALL(100), MEDIUM(200), BIG(300);\n",
    "    int __ml;\n",
    "    SizeCoffe(int ml){\n",
    "        __ml = ml;\n",
    "    }\n",
    "    int getMl(){\n",
    "        return __ml;\n",
    "    }\n",
    "}\n",
    "void mMethod() {\n",
    "    SizeCoffe sizeCoffe = SizeCoffe.SMALL;\n",
    "    System.out.println(sizeCoffe+\" \"+sizeCoffe.getMl());\n",
    "}//SMALL 100\n",
    "```"
   ]
  },
  {
   "cell_type": "markdown",
   "metadata": {},
   "source": [
    "SCJP Sun Certified Programmer for Java 6 Study Guide   \n",
    "OCP: Oracle Certified Professional Java SE 8 Programmer II Study Guide"
   ]
  },
  {
   "cell_type": "markdown",
   "metadata": {},
   "source": [
    "https://www.rsdn.org/article/java/scjp_article.xml\n",
    "https://habr.com/ru/post/131198/\n",
    "https://education.oracle.com/certification"
   ]
  },
  {
   "cell_type": "markdown",
   "metadata": {},
   "source": [
    "```\n",
    "class EnumExample {\n",
    "    enum SizeCoffe {SMALL(100){\n",
    "        String getCoffeClass(){\n",
    "            return \"B\";\n",
    "        }\n",
    "    }\n",
    "        , MEDIUM(200), BIG(300);\n",
    "        int __ml;\n",
    "        String coffeClass = \"A\";\n",
    "        SizeCoffe(int ml){\n",
    "            __ml = ml;\n",
    "        }\n",
    "        int getMl(){\n",
    "            return __ml;\n",
    "        }\n",
    "        String getCoffeClass(){\n",
    "            return coffeClass;\n",
    "        }\n",
    "    }\n",
    "    void mMethod() {\n",
    "        SizeCoffe sizeCoffe = SizeCoffe.SMALL;\n",
    "        System.out.println(sizeCoffe+\" \"+sizeCoffe.getMl()\n",
    "        +\" class: \"+ sizeCoffe.getCoffeClass());\n",
    "    }//SMALL 100\n",
    "}\n",
    "```"
   ]
  },
  {
   "cell_type": "markdown",
   "metadata": {},
   "source": [
    "#### b22 ”рок Java 22: Overloading - перегрузка методов  "
   ]
  },
  {
   "cell_type": "markdown",
   "metadata": {},
   "source": [
    "```\n",
    "class Parent{\n",
    "    int mMethod(){\n",
    "        return 1;\n",
    "    }\n",
    "}\n",
    "class Child extends Parent{\n",
    "    @Override\n",
    "    int mMethod(){\n",
    "        return 2;\n",
    "    }\n",
    "}\n",
    "public class Main {\n",
    "    public static void main(String[] args) {\n",
    "        Parent parent = new Child();\n",
    "        System.out.println(parent.mMethod());\n",
    "    }//2\n",
    "}\n",
    "```"
   ]
  },
  {
   "cell_type": "markdown",
   "metadata": {},
   "source": [
    "```\n",
    "ScriptEngineManager manager = new ScriptEngineManager();\n",
    "ScriptEngine engine = manager.getEngineByName(\"js\");\n",
    "try {\n",
    "    Object result = engine.eval(\"4*5\");\n",
    "    System.out.println(result);\n",
    "} catch (ScriptException e) {\n",
    "    e.printStackTrace();\n",
    "}//20\n",
    "```"
   ]
  },
  {
   "cell_type": "markdown",
   "metadata": {},
   "source": [
    "#### b23 ”рок Java 23: Constructors 2 - конструкторы урок 2  "
   ]
  },
  {
   "cell_type": "markdown",
   "metadata": {},
   "source": [
    "Необходимость в паренте иметь конструктор без параметров, если в чилде он есть(надо для вызова super() - Object-a)"
   ]
  },
  {
   "cell_type": "markdown",
   "metadata": {},
   "source": [
    "#### b24 ”роки по Java 24: Overriding - переопределение методов  "
   ]
  },
  {
   "cell_type": "markdown",
   "metadata": {},
   "source": []
  },
  {
   "cell_type": "markdown",
   "metadata": {},
   "source": [
    "#### b25 ”рок Java 25:  лючевое слово static и инициализаци¤ классов  "
   ]
  },
  {
   "cell_type": "markdown",
   "metadata": {},
   "source": [
    "class ExampleStatic{\n",
    "    static int staticI;\n",
    "    ExampleStatic(){\n",
    "        staticI++;\n",
    "    }\n",
    "    static int getStaticI(){\n",
    "        return staticI;\n",
    "    }\n",
    "}\n",
    "public class Main {\n",
    "    public static void main(String[] args) {\n",
    "        ExampleStatic exampleStatic = new ExampleStatic();\n",
    "        System.out.print(ExampleStatic.getStaticI()+\" \");\n",
    "        ExampleStatic exampleStatic2 = new ExampleStatic();\n",
    "        System.out.print(ExampleStatic.getStaticI()+\" \");\n",
    "        ExampleStatic exampleStatic3 = new ExampleStatic();\n",
    "        System.out.print(ExampleStatic.getStaticI()+\" \");\n",
    "    }//1 2 3 \n",
    "}"
   ]
  },
  {
   "cell_type": "markdown",
   "metadata": {},
   "source": [
    "```\n",
    "package com.company.l01;\n",
    "\n",
    "public class Main {\n",
    "    static Main Main = new Main();\n",
    "    static int n = 4;\n",
    "    static int i = returnStatic();\n",
    "\n",
    "    static int k=3;\n",
    "\n",
    "    int j = returnInt();\n",
    "    static {\n",
    "        System.out.println(\"static\");\n",
    "    }\n",
    "    {\n",
    "        System.out.println(\"clean\");\n",
    "    }\n",
    "\n",
    "    Main(){\n",
    "        System.out.println(\"constructor\");\n",
    "    }\n",
    "\n",
    "    int returnInt(){\n",
    "        System.out.println(\"returnInt\");\n",
    "        return 2;\n",
    "    }\n",
    "    static int returnStatic(){\n",
    "        System.out.println(n);\n",
    "        System.out.println(k);\n",
    "        System.out.println(\"return static int\");\n",
    "        return 1;\n",
    "    }\n",
    "\n",
    "    public static void main(String[] args) {\n",
    "        new Main();\n",
    "    }\n",
    "}\n",
    "//returnInt\n",
    "//clean\n",
    "//constructor\n",
    "//4\n",
    "//0\n",
    "//return static int\n",
    "//static\n",
    "//returnInt\n",
    "//clean\n",
    "//constructor\n",
    "```"
   ]
  },
  {
   "cell_type": "markdown",
   "metadata": {},
   "source": [
    "#### b26 ”рок Java 26: Ѕлоки инициализации  "
   ]
  },
  {
   "cell_type": "markdown",
   "metadata": {},
   "source": [
    "```\n",
    "public class Main {\n",
    "    static {\n",
    "        System.out.println(\"init static\");\n",
    "    }\n",
    "    {\n",
    "        System.out.println(\"init\");\n",
    "    }\n",
    "    public static void main(String[] args) {\n",
    "    }//init static\n",
    "}\n",
    "```"
   ]
  },
  {
   "cell_type": "markdown",
   "metadata": {},
   "source": [
    "```\n",
    "public class Main {\n",
    "    {\n",
    "        System.out.println(\"init\");\n",
    "    }\n",
    "    static {\n",
    "        System.out.println(\"init static\");\n",
    "    }\n",
    "    Main(){\n",
    "        System.out.println(\"constructor\");\n",
    "    }\n",
    "    public static void main(String[] args) {\n",
    "        new Main();\n",
    "    }\n",
    "    //init static\n",
    "    //init\n",
    "    //constructor\n",
    "}\n",
    "```"
   ]
  },
  {
   "cell_type": "markdown",
   "metadata": {},
   "source": [
    "```\n",
    "```"
   ]
  },
  {
   "cell_type": "markdown",
   "metadata": {},
   "source": [
    "```\n",
    "```"
   ]
  },
  {
   "cell_type": "markdown",
   "metadata": {},
   "source": [
    "```\n",
    "```"
   ]
  },
  {
   "cell_type": "markdown",
   "metadata": {},
   "source": [
    "#### b27 ”рок по Java 27: инициализаци¤ массивов  "
   ]
  },
  {
   "cell_type": "markdown",
   "metadata": {},
   "source": [
    "```\n",
    "public class Main {\n",
    "    public static void main(String[] args) {\n",
    "        int[][] k = new int[3][];\n",
    "        int[] j = new int[5];\n",
    "        k[0] = j;\n",
    "        for(int i:k[0]){\n",
    "            System.out.println(i);\n",
    "        }\n",
    "    }\n",
    "}\n",
    "```"
   ]
  },
  {
   "cell_type": "markdown",
   "metadata": {},
   "source": [
    "```\n",
    "    void mMassive(int... k){\n",
    "        for(int i:k){\n",
    "            System.out.print(i+\", \");\n",
    "        }\n",
    "    }\n",
    "    int[] m={1,4};\n",
    "    void method(){\n",
    "        mMassive(m);\n",
    "    }//1,4\n",
    "```"
   ]
  },
  {
   "cell_type": "markdown",
   "metadata": {},
   "source": [
    "- int[] m = int[2]\n",
    "- int[] m = new int[]{1,4};\n",
    "- int[] m = {1,4};"
   ]
  },
  {
   "cell_type": "markdown",
   "metadata": {},
   "source": [
    "#### b28 ”рок по Java 28: ќбертки  "
   ]
  },
  {
   "cell_type": "markdown",
   "metadata": {},
   "source": [
    "byte b; Byte bb;\n",
    "short s;Short ss;\n",
    "int i;Integer ii;\n",
    "long l;Long ll;\n",
    "float f;Float ff;\n",
    "double d;Double dd;\n",
    "boolean bo;Boolean bob;\n",
    "char c;Character cc;"
   ]
  },
  {
   "cell_type": "markdown",
   "metadata": {},
   "source": [
    "```\n",
    "Object foo(){\n",
    "    return 2;\n",
    "}\n",
    "void method(){\n",
    "    System.out.println(foo());\n",
    "}//2\n",
    "```"
   ]
  },
  {
   "cell_type": "markdown",
   "metadata": {},
   "source": [
    "```\n",
    "Integer i = 5;\n",
    "Integer j = new Integer(6);\n",
    "Integer k = new Integer(\"7\");\n",
    "int m = Integer.parseInt(\"8\");\n",
    "double n = Integer.valueOf(\"101010\",2);\n",
    "float o = Integer.valueOf(k);\n",
    "System.out.println(i + \" \" + j + \" \"\n",
    "        + k + \" \" + m+ \" \" + n+ \" \" + o);\n",
    "//5 6 7 8 42.0 7.0\n",
    "```"
   ]
  },
  {
   "cell_type": "markdown",
   "metadata": {},
   "source": [
    "```\n",
    "List<Integer> o = new ArrayList<>();\n",
    "for(int i = 0; i<3;i++){\n",
    "    o.add(i);\n",
    "}\n",
    "for(int i:o){\n",
    "    System.out.print(i + \" \");\n",
    "}//0 1 2\n",
    "\n",
    "String st1 = \"string\";\n",
    "String st2 = \"string\";\n",
    "if(st1.equals(st2)){\n",
    "    System.out.println(\"equals\");\n",
    "}//equals\n",
    "\n",
    "Integer i = 5;\n",
    "Integer j = new  Integer(5);\n",
    "System.out.print(i==j);\n",
    "System.out.print(\" \");\n",
    "System.out.println(i.equals(j));\n",
    "//false true\n",
    "```"
   ]
  },
  {
   "cell_type": "markdown",
   "metadata": {},
   "source": [
    "```\n",
    "Integer i = 5;\n",
    "Integer j = 5;\n",
    "Integer p = 512;\n",
    "Integer q = 512;\n",
    "System.out.print(i==j);\n",
    "System.out.print(\" \");\n",
    "System.out.println(i.equals(j));\n",
    "System.out.print(p==q);\n",
    "System.out.print(\" \");\n",
    "System.out.println(p.equals(q));\n",
    "//true true\n",
    "//false true\n",
    "```"
   ]
  },
  {
   "cell_type": "markdown",
   "metadata": {},
   "source": [
    "```\n",
    "Integer a = 0;\n",
    "Integer b = 0;\n",
    "while (a++==b++){}\n",
    "System.out.println(a);\n",
    "//129\n",
    "```"
   ]
  },
  {
   "cell_type": "markdown",
   "metadata": {},
   "source": [
    "#### b29 ”рок по Java 29: перегрузка методов 2  "
   ]
  },
  {
   "cell_type": "markdown",
   "metadata": {},
   "source": [
    "```\n",
    "public class Main {\n",
    "    public static void main(String[] args) {\n",
    "        Main main = new Main();\n",
    "        short a = 15;\n",
    "        main.foo(a);\n",
    "    }\n",
    "    void foo(int b){\n",
    "        System.out.println(\"int\");\n",
    "    }\n",
    "    void foo(long b){\n",
    "        System.out.println(\"int\");\n",
    "    }\n",
    "    void foo(double b){\n",
    "        System.out.println(\"int\");\n",
    "    }\n",
    "    void foo(Short b){\n",
    "        System.out.println(\"Short\");\n",
    "    }\n",
    "        void foo(Object b){\n",
    "            System.out.println(\"Object\");\n",
    "        }\n",
    "    void foo(short... b){\n",
    "        System.out.println(\"short\");\n",
    "    }\n",
    "    void foo(Object... b){\n",
    "        System.out.println(\"Object...\");\n",
    "    }\n",
    "    //не вызовутся\n",
    "    void foo(Integer b){\n",
    "        System.out.println(\"Integer\");\n",
    "    }\n",
    "    void foo(byte b){\n",
    "        System.out.println(\"byte\");\n",
    "    }\n",
    "}\n",
    "```"
   ]
  },
  {
   "cell_type": "markdown",
   "metadata": {},
   "source": [
    "```\n",
    "    short a = 15;\n",
    "    main.foo(a);\n",
    "}\n",
    "void foo(double b){\n",
    "    System.out.println(\"int\");\n",
    "}\n",
    "void foo(Short b){\n",
    "    System.out.println(\"Short\");\n",
    "}\n",
    "void foo(short... b){\n",
    "    System.out.println(\"short\");\n",
    "}\n",
    "```"
   ]
  },
  {
   "cell_type": "markdown",
   "metadata": {},
   "source": [
    "#### b30 ”рок по Java 30: ”становка JDK 8 на Linux Mint  "
   ]
  },
  {
   "cell_type": "markdown",
   "metadata": {},
   "source": [
    "sudo apt-get install default-jdk  \n",
    "java -version  \n",
    "javac -version  \n",
    "double commander  \n"
   ]
  },
  {
   "cell_type": "markdown",
   "metadata": {},
   "source": [
    "#### b31 ”рок по Java 31: ”становка eclipse под Linux mint  "
   ]
  },
  {
   "cell_type": "markdown",
   "metadata": {},
   "source": []
  },
  {
   "cell_type": "markdown",
   "metadata": {},
   "source": [
    "#### b32 ”рок по Java 32: установка и запуск первой программы под intellij idea под linux mint  "
   ]
  },
  {
   "cell_type": "markdown",
   "metadata": {},
   "source": [
    "\n",
    "- v - TextTool - jUnit\n",
    "- v - Other Tools - Terminal\n",
    "- v - Version Control - Git - GitHub\n",
    "- v - Build Tools - Maven (Gradle)"
   ]
  },
  {
   "cell_type": "markdown",
   "metadata": {},
   "source": [
    "#### b33 ”рок по Java 33: ”становка Oracle JDK на Linux mint 18 через ppa  "
   ]
  },
  {
   "cell_type": "markdown",
   "metadata": {},
   "source": [
    "sudo add-apt-repository ppa:webupd8team/java  \n",
    "sudo apt-get update  \n",
    "sudo apt-get install oracle-java8-installer  "
   ]
  },
  {
   "cell_type": "markdown",
   "metadata": {},
   "source": [
    "#### b34 ”рок по Java 34: Garbage Collector  "
   ]
  },
  {
   "cell_type": "markdown",
   "metadata": {},
   "source": [
    "- Garbage Collector - уборщик мусора\n",
    "- "
   ]
  },
  {
   "cell_type": "markdown",
   "metadata": {},
   "source": [
    "```\n",
    "        Runtime runtime = Runtime.getRuntime();\n",
    "        System.out.println(\"Memory All  \"+ runtime.totalMemory());\n",
    "        System.out.println(\"Memory Free \"+ runtime.freeMemory());\n",
    "        for(int i=0;i< 1000_000_000 ; i++) {\n",
    "            Date date = new Date();\n",
    "            date = null;\n",
    "        }\n",
    "        System.out.println(\"Memory All  \"+ runtime.totalMemory());\n",
    "        System.out.println(\"Memory Free \"+ runtime.freeMemory());\n",
    "        System.gc();\n",
    "        System.out.println(\"Memory All  \"+ runtime.totalMemory());\n",
    "        System.out.println(\"Memory Free \"+ runtime.freeMemory());\n",
    "```"
   ]
  },
  {
   "cell_type": "markdown",
   "metadata": {},
   "source": [
    "```\n",
    "Memory All  56623104\n",
    "Memory Free 54793768\n",
    "Memory All  56623104\n",
    "Memory Free 50623536\n",
    "Memory All  56623104\n",
    "Memory Free 55808680\n",
    "```"
   ]
  },
  {
   "cell_type": "markdown",
   "metadata": {},
   "source": [
    "```\n",
    "Runtime runtime = Runtime.getRuntime();\n",
    "System.out.println(\"busy memory  \"+\n",
    "        (runtime.totalMemory() - runtime.freeMemory()));\n",
    "List<Date> list = new ArrayList<>(100_000_000);\n",
    "for(int i=0;i< 10_000_000 ; i++) {\n",
    "    Date date = new Date();\n",
    "    list.add(date);\n",
    "}\n",
    "System.out.println(\"busy memory  \"+\n",
    "        (runtime.totalMemory() - runtime.freeMemory()));\n",
    "System.gc();\n",
    "System.out.println(\"busy memory  \"+\n",
    "        (runtime.totalMemory() - runtime.freeMemory()));\n",
    "//busy memory  1829336\n",
    "//busy memory  640807096\n",
    "//busy memory  641453000\n",
    "```\n",
    "System.out.println(date2.getTime()-date1.getTime());//11246\n"
   ]
  },
  {
   "cell_type": "markdown",
   "metadata": {},
   "source": [
    "```\n",
    "//class\n",
    "@Override\n",
    "protected void finalize() throws Throwable {\n",
    "    super.finalize();\n",
    "    System.out.println(\"bbbb\");\n",
    "}\n",
    "//main\n",
    "Example example = new Example();\n",
    "example.foo();\n",
    "example = null;\n",
    "System.gc();\n",
    "System.out.println(\"foo\");\n",
    "```"
   ]
  },
  {
   "cell_type": "markdown",
   "metadata": {},
   "source": [
    "```\n",
    "Date date = new Date();\n",
    "System.out.println(date);\n",
    "//Fri Jan 03 11:46:40 MSK 2020\n",
    "```"
   ]
  },
  {
   "cell_type": "markdown",
   "metadata": {},
   "source": [
    "#### b35 ”рок по Java 35: операторы Java  "
   ]
  },
  {
   "cell_type": "markdown",
   "metadata": {},
   "source": [
    "```\n",
    "+,-,*,/,%,\n",
    "=,+=,-=\n",
    "< > <= >=\n",
    "== != reference\n",
    "instanceof\n",
    "string +\n",
    "++ --\n",
    "?:\n",
    "& | ^ && ||\n",
    "```"
   ]
  },
  {
   "cell_type": "markdown",
   "metadata": {},
   "source": [
    "```\n",
    "Integer a = Integer.valueOf(\"00110101\",2);\n",
    "Integer b = Integer.valueOf(\"11110000\",2);\n",
    "System.out.println(String.format(\"%8s\",Integer.toBinaryString(a&b)).replace(' ','0'));\n",
    "System.out.println(String.format(\"%8s\",Integer.toBinaryString(a|b)).replace(' ','0'));\n",
    "System.out.println(String.format(\"%8s\",Integer.toBinaryString(a^b)).replace(' ','0'));\n",
    "//00110000\n",
    "//11110101\n",
    "//11000101\n",
    "```"
   ]
  },
  {
   "cell_type": "markdown",
   "metadata": {},
   "source": [
    "```\n",
    "//3-8\n",
    "int a=1;\n",
    "int b1=3,b2=8;\n",
    "for(int i=0;i<12;i++) {\n",
    "    a=i;\n",
    "    a = a < b1 ? b1 : a > b2 ? b2 : a;\n",
    "    System.out.print(a+\" \");\n",
    "}//3 3 3 3 4 5 6 7 8 8 8 8 8\n",
    "```"
   ]
  },
  {
   "cell_type": "markdown",
   "metadata": {},
   "source": [
    "```\n",
    "Integer i = 10;\n",
    "boolean b =i instanceof Integer;\n",
    "System.out.println(b);\n",
    "//true\n",
    "```"
   ]
  },
  {
   "cell_type": "markdown",
   "metadata": {},
   "source": [
    "```\n",
    "System.out.println(\"\"+5+6);\n",
    "System.out.println(5+6+\"\");\n",
    "//56\n",
    "//11\n",
    "```"
   ]
  },
  {
   "cell_type": "markdown",
   "metadata": {},
   "source": [
    "```\n",
    "int a=5;\n",
    "System.out.println(a++ + ++a);\n",
    "System.out.println(a);\n",
    "//12\n",
    "//7\n",
    "```"
   ]
  },
  {
   "cell_type": "markdown",
   "metadata": {},
   "source": [
    "#### b36 ”рок по Java 36: метод main и передаваемые в него параметры  "
   ]
  },
  {
   "cell_type": "markdown",
   "metadata": {},
   "source": [
    "a1 a2 - `Edit configuration` `Configuration` `Program Arguments:` "
   ]
  },
  {
   "cell_type": "markdown",
   "metadata": {},
   "source": [
    "```\n",
    "public class Main {\n",
    "    public static void main(String[] args) {\n",
    "        for(String st: args){\n",
    "            System.out.println(st);\n",
    "        }\n",
    "    }\n",
    "    //a1\n",
    "    //a2\n",
    "}\n",
    "```"
   ]
  },
  {
   "cell_type": "markdown",
   "metadata": {},
   "source": [
    "#### b37 ”рок по Java 37: ќператор ветвлени¤ if и else  "
   ]
  },
  {
   "cell_type": "markdown",
   "metadata": {},
   "source": [
    "```\n",
    "static int k=0;\n",
    "public void loop(){\n",
    "    int a=k;\n",
    "    int b=5;\n",
    "    if(a<b){\n",
    "        System.out.print(String.format(\"%02d < b, \", a));\n",
    "    }else{\n",
    "        System.out.print(String.format(\"%02d >= b, \", a));\n",
    "    }\n",
    "}\n",
    "//00 < b, 01 < b, 02 < b, 03 < b, 04 < b, 05 >= b, \n",
    "// 06 >= b, 07 >= b, 08 >= b, 09 >= b,\n",
    "```"
   ]
  },
  {
   "cell_type": "markdown",
   "metadata": {},
   "source": []
  },
  {
   "cell_type": "markdown",
   "metadata": {},
   "source": [
    "#### b38 ”рок по Java 38: ћало кто знает как устроен оператор ветвлени¤ switch  "
   ]
  },
  {
   "cell_type": "markdown",
   "metadata": {},
   "source": [
    "Параметр switch\n",
    "- примитивные\n",
    "- enum\n",
    "- String"
   ]
  },
  {
   "cell_type": "markdown",
   "metadata": {},
   "source": [
    "```\n",
    "static int k=0;\n",
    "public void loop(){\n",
    "    int a=k;\n",
    "    switch (a){\n",
    "        case 1:\n",
    "            System.out.print(1+\" \");\n",
    "//                break;\n",
    "        case 2:\n",
    "            System.out.print(2+\" \");\n",
    "            break;\n",
    "        case 3:\n",
    "            System.out.print(3+\" \");\n",
    "            break;\n",
    "        case 4:\n",
    "            System.out.print(4+\" \");\n",
    "            break;\n",
    "        default:\n",
    "            System.out.print(\"default\"+\" \");\n",
    "        case 5:\n",
    "            System.out.print(5+\" \");\n",
    "            break;\n",
    "        case 6:\n",
    "            System.out.print(6+\" \");\n",
    "            break;\n",
    "    }\n",
    "    k++;\n",
    "}\n",
    "//default 5 1 2 2 3 4 5 6 default 5 default 5 default 5\n",
    "```"
   ]
  },
  {
   "cell_type": "markdown",
   "metadata": {},
   "source": [
    "#### b39 ”рок по Java 39: ÷иклы while и do while  "
   ]
  },
  {
   "cell_type": "markdown",
   "metadata": {},
   "source": [
    "```\n",
    "int i = 5;\n",
    "while (i>0){\n",
    "    System.out.print(\"\" +i + \" \");\n",
    "    i--;\n",
    "}//5 4 3 2 1\n",
    "```"
   ]
  },
  {
   "cell_type": "markdown",
   "metadata": {},
   "source": [
    "```\n",
    "int i = 5;\n",
    "do {\n",
    "    System.out.print(\"\" +i + \" \");\n",
    "    i--;\n",
    "}while (i>0);\n",
    "//5 4 3 2 1\n",
    "```"
   ]
  },
  {
   "cell_type": "markdown",
   "metadata": {},
   "source": [
    "```\n",
    "```"
   ]
  },
  {
   "cell_type": "markdown",
   "metadata": {},
   "source": [
    "```\n",
    "```"
   ]
  },
  {
   "cell_type": "markdown",
   "metadata": {},
   "source": [
    "[]()  \n",
    "[]()  \n",
    "[]()  \n",
    "[]()  \n",
    "[]()  \n",
    "```\n",
    "\n",
    "```"
   ]
  }
 ],
 "metadata": {
  "kernelspec": {
   "display_name": "Python 3",
   "language": "python",
   "name": "python3"
  },
  "language_info": {
   "codemirror_mode": {
    "name": "ipython",
    "version": 3
   },
   "file_extension": ".py",
   "mimetype": "text/x-python",
   "name": "python",
   "nbconvert_exporter": "python",
   "pygments_lexer": "ipython3",
   "version": "3.7.9"
  }
 },
 "nbformat": 4,
 "nbformat_minor": 2
}
